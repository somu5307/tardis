{
 "cells": [
  {
   "cell_type": "markdown",
   "id": "f57cd4fe",
   "metadata": {},
   "source": [
    "# Tracking the Properties of Real Packets"
   ]
  },
  {
   "cell_type": "markdown",
   "id": "c103617c",
   "metadata": {},
   "source": [
    "**TARDIS** has the functionality to track the properties of the *RPackets* that are generated when running the Simulation. The `rpacket_tracker` can track all the interactions a packet undergoes & thus keeps a track of the various properties, a packet may have.<br>Currently, the `rpacket_tracker` tracks the properties of all the rpackets in the *Last Iteration of the Simulation*. It generates a `List` that contains the individual instances of `RPacketCollection`{`Numba JITClass`}, for storing all the interaction properties as listed below."
   ]
  },
  {
   "cell_type": "markdown",
   "id": "ce6214b9",
   "metadata": {},
   "source": [
    "<html>\n",
    "    <body>\n",
    "        The properties that are tracked are as follows :\n",
    "        <ol>\n",
    "            <li><b>index</b> - Index of the Packet</li>\n",
    "            <li><b>seed</b> - Seed of the Packet</li>\n",
    "            <li><b>status</b> - Current Status for the Packet Interaction</li>\n",
    "            <li><b>r</b> - Radius of the Current Shell</li> \n",
    "            <li><b>nu</b> - Packet's Frequency</li> \n",
    "            <li><b>mu</b> - Propagation Direction of the Packet (cosine of the angle the packet’s path makes with the radial direction)</li>\n",
    "            <li><b>energy</b> - Energy of the Packet</li>\n",
    "            <li><b>shell_id</b> - Current Shell Id where the Packet is present</li>\n",
    "            <li><b>interaction_type</b> - Last Interaction type of the packet</li>\n",
    "        </ol>\n",
    "    </body>\n",
    "</html>"
   ]
  },
  {
   "cell_type": "markdown",
   "id": "4b0de6ca",
   "metadata": {},
   "source": [
    "The data can be obtained in two ways i.e. `rpacket_tracker` and `rpacket_tracker_df`. The `rpacket_tracker` stores all the data for the interaction of the packets in a `list`, so it needs to accessed with a `list index` for each property for a particular `rpacket`. `rpacket_tracker_df` stores the data in a dataframe. Examples for the same are shown as follows. "
   ]
  },
  {
   "cell_type": "markdown",
   "id": "1686d9f1",
   "metadata": {},
   "source": [
    "## How to Setup the Tracking for the RPackets?"
   ]
  },
  {
   "cell_type": "markdown",
   "id": "29e14475",
   "metadata": {},
   "source": [
    "**TARDIS**' `rpacket_tracker` is configured via the `YAML` file. This functionality of tracking the packets is turned **off**, by default. This is due to that fact that using this property, may slow down the execution time for the Simulation. An example configuration can be seen below for setting up the *tracking*:\n",
    "\n",
    "```yaml\n",
    "... \n",
    "montecarlo:\n",
    "...\n",
    "tracking:\n",
    "    track_rpacket: true\n",
    "```"
   ]
  },
  {
   "cell_type": "markdown",
   "id": "13b6420b",
   "metadata": {},
   "source": [
    "The `montecarlo` section of the **YAML** file now has a `tracking` sub section which holds the configuration properties for the `track_rpacket` & the `initial_array_length` (discussed later in the tutorial)."
   ]
  },
  {
   "cell_type": "markdown",
   "id": "2634c571",
   "metadata": {},
   "source": [
    "Let us see, the new `rpacket_tracker` in action."
   ]
  },
  {
   "cell_type": "code",
   "execution_count": 1,
   "id": "a0e975b6",
   "metadata": {
    "execution": {
     "iopub.execute_input": "2022-12-11T00:36:38.956568Z",
     "iopub.status.busy": "2022-12-11T00:36:38.955514Z",
     "iopub.status.idle": "2022-12-11T00:36:41.406411Z",
     "shell.execute_reply": "2022-12-11T00:36:41.405668Z"
    }
   },
   "outputs": [
    {
     "name": "stderr",
     "output_type": "stream",
     "text": [
      "/usr/share/miniconda3/envs/tardis/lib/python3.8/site-packages/setuptools_scm/git.py:105: UserWarning: \"/home/runner/work/tardis/tardis\" is shallow and may cause errors\n",
      "  warnings.warn(f'\"{wd.path}\" is shallow and may cause errors')\n"
     ]
    },
    {
     "data": {
      "application/vnd.jupyter.widget-view+json": {
       "model_id": "78b98259cdcc406e8cf69c68dd915041",
       "version_major": 2,
       "version_minor": 0
      },
      "text/plain": [
       "Iterations:          0/? [00:00<?, ?it/s]"
      ]
     },
     "metadata": {},
     "output_type": "display_data"
    },
    {
     "data": {
      "application/vnd.jupyter.widget-view+json": {
       "model_id": "aa1f2743f2734398bda6a5c6a3708934",
       "version_major": 2,
       "version_minor": 0
      },
      "text/plain": [
       "Packets:             0/? [00:00<?, ?it/s]"
      ]
     },
     "metadata": {},
     "output_type": "display_data"
    }
   ],
   "source": [
    "from tardis.io.config_reader import Configuration"
   ]
  },
  {
   "cell_type": "code",
   "execution_count": 2,
   "id": "adbf5f75",
   "metadata": {
    "execution": {
     "iopub.execute_input": "2022-12-11T00:36:41.411204Z",
     "iopub.status.busy": "2022-12-11T00:36:41.409956Z",
     "iopub.status.idle": "2022-12-11T00:36:41.545508Z",
     "shell.execute_reply": "2022-12-11T00:36:41.544940Z"
    }
   },
   "outputs": [],
   "source": [
    "# Reading the Configuration stored in `tardis_config_packet_tracking.yml` into config\n",
    "\n",
    "config = Configuration.from_yaml(\"tardis_example.yml\")"
   ]
  },
  {
   "cell_type": "code",
   "execution_count": 3,
   "id": "975766e9",
   "metadata": {
    "execution": {
     "iopub.execute_input": "2022-12-11T00:36:41.549976Z",
     "iopub.status.busy": "2022-12-11T00:36:41.548885Z",
     "iopub.status.idle": "2022-12-11T00:36:41.556847Z",
     "shell.execute_reply": "2022-12-11T00:36:41.556377Z"
    }
   },
   "outputs": [
    {
     "data": {
      "text/plain": [
       "{'track_rpacket': False, 'initial_array_length': 10}"
      ]
     },
     "execution_count": 3,
     "metadata": {},
     "output_type": "execute_result"
    }
   ],
   "source": [
    "# Checking the `tracking` section via the Schema\n",
    "\n",
    "config[\"montecarlo\"][\"tracking\"]"
   ]
  },
  {
   "cell_type": "code",
   "execution_count": 4,
   "id": "b00bc2ca",
   "metadata": {
    "execution": {
     "iopub.execute_input": "2022-12-11T00:36:41.560721Z",
     "iopub.status.busy": "2022-12-11T00:36:41.559703Z",
     "iopub.status.idle": "2022-12-11T00:36:41.563794Z",
     "shell.execute_reply": "2022-12-11T00:36:41.563340Z"
    }
   },
   "outputs": [],
   "source": [
    "# Setting `r_packet_tracking` to True to turn on the Tracking \n",
    "\n",
    "config[\"montecarlo\"][\"tracking\"][\"track_rpacket\"] = True"
   ]
  },
  {
   "cell_type": "code",
   "execution_count": 5,
   "id": "3ece2c10",
   "metadata": {
    "execution": {
     "iopub.execute_input": "2022-12-11T00:36:41.567641Z",
     "iopub.status.busy": "2022-12-11T00:36:41.566626Z",
     "iopub.status.idle": "2022-12-11T00:36:41.572576Z",
     "shell.execute_reply": "2022-12-11T00:36:41.572127Z"
    }
   },
   "outputs": [
    {
     "data": {
      "text/plain": [
       "{'track_rpacket': True, 'initial_array_length': 10}"
      ]
     },
     "execution_count": 5,
     "metadata": {},
     "output_type": "execute_result"
    }
   ],
   "source": [
    "config[\"montecarlo\"][\"tracking\"]"
   ]
  },
  {
   "cell_type": "code",
   "execution_count": 6,
   "id": "b25271d6",
   "metadata": {
    "execution": {
     "iopub.execute_input": "2022-12-11T00:36:41.576414Z",
     "iopub.status.busy": "2022-12-11T00:36:41.575375Z",
     "iopub.status.idle": "2022-12-11T00:36:41.579360Z",
     "shell.execute_reply": "2022-12-11T00:36:41.578822Z"
    }
   },
   "outputs": [],
   "source": [
    "from tardis import run_tardis"
   ]
  },
  {
   "cell_type": "code",
   "execution_count": 7,
   "id": "f9e51fd3",
   "metadata": {
    "execution": {
     "iopub.execute_input": "2022-12-11T00:36:41.583144Z",
     "iopub.status.busy": "2022-12-11T00:36:41.582151Z",
     "iopub.status.idle": "2022-12-11T00:37:34.867698Z",
     "shell.execute_reply": "2022-12-11T00:37:34.867070Z"
    },
    "scrolled": false
   },
   "outputs": [
    {
     "name": "stdout",
     "output_type": "stream",
     "text": [
      "[\u001b[1mtardis.plasma.standard_plasmas\u001b[0m][\u001b[1;37mINFO\u001b[0m   ]  \n",
      "\t\n",
      "\tReading Atomic Data from kurucz_cd23_chianti_H_He.h5 (\u001b[1mstandard_plasmas.py\u001b[0m:95)\n"
     ]
    },
    {
     "name": "stdout",
     "output_type": "stream",
     "text": [
      "[\u001b[1mtardis.io.atom_data.util\u001b[0m][\u001b[1;37mINFO\u001b[0m   ]  \n",
      "\t\n",
      "\tAtom Data kurucz_cd23_chianti_H_He.h5 not found in local path.\n",
      "\tExists in TARDIS Data repo /home/runner/Downloads/tardis-data/kurucz_cd23_chianti_H_He.h5 (\u001b[1mutil.py\u001b[0m:33)\n"
     ]
    },
    {
     "name": "stdout",
     "output_type": "stream",
     "text": [
      "[\u001b[1mtardis.io.atom_data.base\u001b[0m][\u001b[1;37mINFO\u001b[0m   ]  \n",
      "\tReading Atom Data with: UUID = 6f7b09e887a311e7a06b246e96350010 MD5  = 864f1753714343c41f99cb065710cace  (\u001b[1mbase.py\u001b[0m:249)\n"
     ]
    },
    {
     "name": "stdout",
     "output_type": "stream",
     "text": [
      "[\u001b[1mtardis.io.atom_data.base\u001b[0m][\u001b[1;37mINFO\u001b[0m   ]  \n",
      "\tNon provided Atomic Data: synpp_refs, photoionization_data, yg_data, two_photon_data (\u001b[1mbase.py\u001b[0m:253)\n"
     ]
    },
    {
     "name": "stdout",
     "output_type": "stream",
     "text": [
      "[\u001b[1mpy.warnings         \u001b[0m][\u001b[1;33mWARNING\u001b[0m]  \n",
      "\t/home/runner/work/tardis/tardis/tardis/plasma/properties/radiative_properties.py:93: RuntimeWarning: invalid value encountered in true_divide\n",
      "  (g_lower * n_upper) / (g_upper * n_lower)\n",
      " (\u001b[1mwarnings.py\u001b[0m:109)\n"
     ]
    },
    {
     "name": "stdout",
     "output_type": "stream",
     "text": [
      "[\u001b[1mpy.warnings         \u001b[0m][\u001b[1;33mWARNING\u001b[0m]  \n",
      "\t/home/runner/work/tardis/tardis/tardis/plasma/properties/radiative_properties.py:93: RuntimeWarning: invalid value encountered in true_divide\n",
      "  (g_lower * n_upper) / (g_upper * n_lower)\n",
      " (\u001b[1mwarnings.py\u001b[0m:109)\n"
     ]
    },
    {
     "name": "stdout",
     "output_type": "stream",
     "text": [
      "[\u001b[1mtardis.simulation.base\u001b[0m][\u001b[1;37mINFO\u001b[0m   ]  \n",
      "\t\n",
      "\tStarting iteration 1 of 20 (\u001b[1mbase.py\u001b[0m:381)\n"
     ]
    },
    {
     "name": "stdout",
     "output_type": "stream",
     "text": [
      "[\u001b[1mtardis.simulation.base\u001b[0m][\u001b[1;37mINFO\u001b[0m   ]  \n",
      "\t\n",
      "\tLuminosity emitted   = 7.942e+42 erg / s\n",
      "\tLuminosity absorbed  = 2.659e+42 erg / s\n",
      "\tLuminosity requested = 1.059e+43 erg / s\n",
      " (\u001b[1mbase.py\u001b[0m:555)\n"
     ]
    },
    {
     "name": "stdout",
     "output_type": "stream",
     "text": [
      "[\u001b[1mtardis.simulation.base\u001b[0m][\u001b[1;37mINFO\u001b[0m   ]  \n",
      "\t\n",
      "\tPlasma stratification: (\u001b[1mbase.py\u001b[0m:523)\n"
     ]
    },
    {
     "data": {
      "text/html": [
       "<style  type=\"text/css\" >\n",
       "</style><table id=\"T_f2cc432c_78eb_11ed_931f_6045bd7a5bca\" ><thead>    <tr>        <th class=\"index_name level0\" >Shell No.</th>        <th class=\"col_heading level0 col0\" >t_rad</th>        <th class=\"col_heading level0 col1\" >next_t_rad</th>        <th class=\"col_heading level0 col2\" >w</th>        <th class=\"col_heading level0 col3\" >next_w</th>    </tr></thead><tbody>\n",
       "                <tr>\n",
       "                        <th id=\"T_f2cc432c_78eb_11ed_931f_6045bd7a5bcalevel0_row0\" class=\"row_heading level0 row0\" >0</th>\n",
       "                        <td id=\"T_f2cc432c_78eb_11ed_931f_6045bd7a5bcarow0_col0\" class=\"data row0 col0\" >9.93e+03</td>\n",
       "                        <td id=\"T_f2cc432c_78eb_11ed_931f_6045bd7a5bcarow0_col1\" class=\"data row0 col1\" >1.01e+04</td>\n",
       "                        <td id=\"T_f2cc432c_78eb_11ed_931f_6045bd7a5bcarow0_col2\" class=\"data row0 col2\" >0.4</td>\n",
       "                        <td id=\"T_f2cc432c_78eb_11ed_931f_6045bd7a5bcarow0_col3\" class=\"data row0 col3\" >0.507</td>\n",
       "            </tr>\n",
       "            <tr>\n",
       "                        <th id=\"T_f2cc432c_78eb_11ed_931f_6045bd7a5bcalevel0_row1\" class=\"row_heading level0 row1\" >5</th>\n",
       "                        <td id=\"T_f2cc432c_78eb_11ed_931f_6045bd7a5bcarow1_col0\" class=\"data row1 col0\" >9.85e+03</td>\n",
       "                        <td id=\"T_f2cc432c_78eb_11ed_931f_6045bd7a5bcarow1_col1\" class=\"data row1 col1\" >1.02e+04</td>\n",
       "                        <td id=\"T_f2cc432c_78eb_11ed_931f_6045bd7a5bcarow1_col2\" class=\"data row1 col2\" >0.211</td>\n",
       "                        <td id=\"T_f2cc432c_78eb_11ed_931f_6045bd7a5bcarow1_col3\" class=\"data row1 col3\" >0.197</td>\n",
       "            </tr>\n",
       "            <tr>\n",
       "                        <th id=\"T_f2cc432c_78eb_11ed_931f_6045bd7a5bcalevel0_row2\" class=\"row_heading level0 row2\" >10</th>\n",
       "                        <td id=\"T_f2cc432c_78eb_11ed_931f_6045bd7a5bcarow2_col0\" class=\"data row2 col0\" >9.78e+03</td>\n",
       "                        <td id=\"T_f2cc432c_78eb_11ed_931f_6045bd7a5bcarow2_col1\" class=\"data row2 col1\" >1.01e+04</td>\n",
       "                        <td id=\"T_f2cc432c_78eb_11ed_931f_6045bd7a5bcarow2_col2\" class=\"data row2 col2\" >0.143</td>\n",
       "                        <td id=\"T_f2cc432c_78eb_11ed_931f_6045bd7a5bcarow2_col3\" class=\"data row2 col3\" >0.117</td>\n",
       "            </tr>\n",
       "            <tr>\n",
       "                        <th id=\"T_f2cc432c_78eb_11ed_931f_6045bd7a5bcalevel0_row3\" class=\"row_heading level0 row3\" >15</th>\n",
       "                        <td id=\"T_f2cc432c_78eb_11ed_931f_6045bd7a5bcarow3_col0\" class=\"data row3 col0\" >9.71e+03</td>\n",
       "                        <td id=\"T_f2cc432c_78eb_11ed_931f_6045bd7a5bcarow3_col1\" class=\"data row3 col1\" >9.87e+03</td>\n",
       "                        <td id=\"T_f2cc432c_78eb_11ed_931f_6045bd7a5bcarow3_col2\" class=\"data row3 col2\" >0.105</td>\n",
       "                        <td id=\"T_f2cc432c_78eb_11ed_931f_6045bd7a5bcarow3_col3\" class=\"data row3 col3\" >0.0869</td>\n",
       "            </tr>\n",
       "    </tbody></table>"
      ],
      "text/plain": [
       "<pandas.io.formats.style.Styler at 0x7fc7710a3fa0>"
      ]
     },
     "metadata": {},
     "output_type": "display_data"
    },
    {
     "name": "stdout",
     "output_type": "stream",
     "text": [
      "[\u001b[1mtardis.simulation.base\u001b[0m][\u001b[1;37mINFO\u001b[0m   ]  \n",
      "\t\n",
      "\tCurrent t_inner = 9933.952 K\n",
      "\tExpected t_inner for next iteration = 10703.212 K\n",
      " (\u001b[1mbase.py\u001b[0m:550)\n"
     ]
    },
    {
     "name": "stdout",
     "output_type": "stream",
     "text": [
      "[\u001b[1mpy.warnings         \u001b[0m][\u001b[1;33mWARNING\u001b[0m]  \n",
      "\t/home/runner/work/tardis/tardis/tardis/plasma/properties/radiative_properties.py:93: RuntimeWarning: invalid value encountered in true_divide\n",
      "  (g_lower * n_upper) / (g_upper * n_lower)\n",
      " (\u001b[1mwarnings.py\u001b[0m:109)\n"
     ]
    },
    {
     "name": "stdout",
     "output_type": "stream",
     "text": [
      "[\u001b[1mtardis.simulation.base\u001b[0m][\u001b[1;37mINFO\u001b[0m   ]  \n",
      "\t\n",
      "\tStarting iteration 2 of 20 (\u001b[1mbase.py\u001b[0m:381)\n"
     ]
    },
    {
     "name": "stdout",
     "output_type": "stream",
     "text": [
      "[\u001b[1mtardis.simulation.base\u001b[0m][\u001b[1;37mINFO\u001b[0m   ]  \n",
      "\t\n",
      "\tLuminosity emitted   = 1.071e+43 erg / s\n",
      "\tLuminosity absorbed  = 3.576e+42 erg / s\n",
      "\tLuminosity requested = 1.059e+43 erg / s\n",
      " (\u001b[1mbase.py\u001b[0m:555)\n"
     ]
    },
    {
     "name": "stdout",
     "output_type": "stream",
     "text": [
      "[\u001b[1mtardis.simulation.base\u001b[0m][\u001b[1;37mINFO\u001b[0m   ]  \n",
      "\t\n",
      "\tPlasma stratification: (\u001b[1mbase.py\u001b[0m:523)\n"
     ]
    },
    {
     "data": {
      "text/html": [
       "<style  type=\"text/css\" >\n",
       "</style><table id=\"T_f3436b1e_78eb_11ed_931f_6045bd7a5bca\" ><thead>    <tr>        <th class=\"index_name level0\" >Shell No.</th>        <th class=\"col_heading level0 col0\" >t_rad</th>        <th class=\"col_heading level0 col1\" >next_t_rad</th>        <th class=\"col_heading level0 col2\" >w</th>        <th class=\"col_heading level0 col3\" >next_w</th>    </tr></thead><tbody>\n",
       "                <tr>\n",
       "                        <th id=\"T_f3436b1e_78eb_11ed_931f_6045bd7a5bcalevel0_row0\" class=\"row_heading level0 row0\" >0</th>\n",
       "                        <td id=\"T_f3436b1e_78eb_11ed_931f_6045bd7a5bcarow0_col0\" class=\"data row0 col0\" >1.01e+04</td>\n",
       "                        <td id=\"T_f3436b1e_78eb_11ed_931f_6045bd7a5bcarow0_col1\" class=\"data row0 col1\" >1.08e+04</td>\n",
       "                        <td id=\"T_f3436b1e_78eb_11ed_931f_6045bd7a5bcarow0_col2\" class=\"data row0 col2\" >0.507</td>\n",
       "                        <td id=\"T_f3436b1e_78eb_11ed_931f_6045bd7a5bcarow0_col3\" class=\"data row0 col3\" >0.525</td>\n",
       "            </tr>\n",
       "            <tr>\n",
       "                        <th id=\"T_f3436b1e_78eb_11ed_931f_6045bd7a5bcalevel0_row1\" class=\"row_heading level0 row1\" >5</th>\n",
       "                        <td id=\"T_f3436b1e_78eb_11ed_931f_6045bd7a5bcarow1_col0\" class=\"data row1 col0\" >1.02e+04</td>\n",
       "                        <td id=\"T_f3436b1e_78eb_11ed_931f_6045bd7a5bcarow1_col1\" class=\"data row1 col1\" >1.1e+04</td>\n",
       "                        <td id=\"T_f3436b1e_78eb_11ed_931f_6045bd7a5bcarow1_col2\" class=\"data row1 col2\" >0.197</td>\n",
       "                        <td id=\"T_f3436b1e_78eb_11ed_931f_6045bd7a5bcarow1_col3\" class=\"data row1 col3\" >0.203</td>\n",
       "            </tr>\n",
       "            <tr>\n",
       "                        <th id=\"T_f3436b1e_78eb_11ed_931f_6045bd7a5bcalevel0_row2\" class=\"row_heading level0 row2\" >10</th>\n",
       "                        <td id=\"T_f3436b1e_78eb_11ed_931f_6045bd7a5bcarow2_col0\" class=\"data row2 col0\" >1.01e+04</td>\n",
       "                        <td id=\"T_f3436b1e_78eb_11ed_931f_6045bd7a5bcarow2_col1\" class=\"data row2 col1\" >1.08e+04</td>\n",
       "                        <td id=\"T_f3436b1e_78eb_11ed_931f_6045bd7a5bcarow2_col2\" class=\"data row2 col2\" >0.117</td>\n",
       "                        <td id=\"T_f3436b1e_78eb_11ed_931f_6045bd7a5bcarow2_col3\" class=\"data row2 col3\" >0.125</td>\n",
       "            </tr>\n",
       "            <tr>\n",
       "                        <th id=\"T_f3436b1e_78eb_11ed_931f_6045bd7a5bcalevel0_row3\" class=\"row_heading level0 row3\" >15</th>\n",
       "                        <td id=\"T_f3436b1e_78eb_11ed_931f_6045bd7a5bcarow3_col0\" class=\"data row3 col0\" >9.87e+03</td>\n",
       "                        <td id=\"T_f3436b1e_78eb_11ed_931f_6045bd7a5bcarow3_col1\" class=\"data row3 col1\" >1.05e+04</td>\n",
       "                        <td id=\"T_f3436b1e_78eb_11ed_931f_6045bd7a5bcarow3_col2\" class=\"data row3 col2\" >0.0869</td>\n",
       "                        <td id=\"T_f3436b1e_78eb_11ed_931f_6045bd7a5bcarow3_col3\" class=\"data row3 col3\" >0.0933</td>\n",
       "            </tr>\n",
       "    </tbody></table>"
      ],
      "text/plain": [
       "<pandas.io.formats.style.Styler at 0x7fc77103a520>"
      ]
     },
     "metadata": {},
     "output_type": "display_data"
    },
    {
     "name": "stdout",
     "output_type": "stream",
     "text": [
      "[\u001b[1mtardis.simulation.base\u001b[0m][\u001b[1;37mINFO\u001b[0m   ]  \n",
      "\t\n",
      "\tCurrent t_inner = 10703.212 K\n",
      "\tExpected t_inner for next iteration = 10673.712 K\n",
      " (\u001b[1mbase.py\u001b[0m:550)\n"
     ]
    },
    {
     "name": "stdout",
     "output_type": "stream",
     "text": [
      "[\u001b[1mtardis.simulation.base\u001b[0m][\u001b[1;37mINFO\u001b[0m   ]  \n",
      "\t\n",
      "\tStarting iteration 3 of 20 (\u001b[1mbase.py\u001b[0m:381)\n"
     ]
    },
    {
     "name": "stdout",
     "output_type": "stream",
     "text": [
      "[\u001b[1mtardis.simulation.base\u001b[0m][\u001b[1;37mINFO\u001b[0m   ]  \n",
      "\t\n",
      "\tLuminosity emitted   = 1.074e+43 erg / s\n",
      "\tLuminosity absorbed  = 3.391e+42 erg / s\n",
      "\tLuminosity requested = 1.059e+43 erg / s\n",
      " (\u001b[1mbase.py\u001b[0m:555)\n"
     ]
    },
    {
     "name": "stdout",
     "output_type": "stream",
     "text": [
      "[\u001b[1mtardis.simulation.base\u001b[0m][\u001b[1;37mINFO\u001b[0m   ]  \n",
      "\t\n",
      "\tPlasma stratification: (\u001b[1mbase.py\u001b[0m:523)\n"
     ]
    },
    {
     "data": {
      "text/html": [
       "<style  type=\"text/css\" >\n",
       "</style><table id=\"T_f3b85c80_78eb_11ed_931f_6045bd7a5bca\" ><thead>    <tr>        <th class=\"index_name level0\" >Shell No.</th>        <th class=\"col_heading level0 col0\" >t_rad</th>        <th class=\"col_heading level0 col1\" >next_t_rad</th>        <th class=\"col_heading level0 col2\" >w</th>        <th class=\"col_heading level0 col3\" >next_w</th>    </tr></thead><tbody>\n",
       "                <tr>\n",
       "                        <th id=\"T_f3b85c80_78eb_11ed_931f_6045bd7a5bcalevel0_row0\" class=\"row_heading level0 row0\" >0</th>\n",
       "                        <td id=\"T_f3b85c80_78eb_11ed_931f_6045bd7a5bcarow0_col0\" class=\"data row0 col0\" >1.08e+04</td>\n",
       "                        <td id=\"T_f3b85c80_78eb_11ed_931f_6045bd7a5bcarow0_col1\" class=\"data row0 col1\" >1.1e+04</td>\n",
       "                        <td id=\"T_f3b85c80_78eb_11ed_931f_6045bd7a5bcarow0_col2\" class=\"data row0 col2\" >0.525</td>\n",
       "                        <td id=\"T_f3b85c80_78eb_11ed_931f_6045bd7a5bcarow0_col3\" class=\"data row0 col3\" >0.483</td>\n",
       "            </tr>\n",
       "            <tr>\n",
       "                        <th id=\"T_f3b85c80_78eb_11ed_931f_6045bd7a5bcalevel0_row1\" class=\"row_heading level0 row1\" >5</th>\n",
       "                        <td id=\"T_f3b85c80_78eb_11ed_931f_6045bd7a5bcarow1_col0\" class=\"data row1 col0\" >1.1e+04</td>\n",
       "                        <td id=\"T_f3b85c80_78eb_11ed_931f_6045bd7a5bcarow1_col1\" class=\"data row1 col1\" >1.12e+04</td>\n",
       "                        <td id=\"T_f3b85c80_78eb_11ed_931f_6045bd7a5bcarow1_col2\" class=\"data row1 col2\" >0.203</td>\n",
       "                        <td id=\"T_f3b85c80_78eb_11ed_931f_6045bd7a5bcarow1_col3\" class=\"data row1 col3\" >0.189</td>\n",
       "            </tr>\n",
       "            <tr>\n",
       "                        <th id=\"T_f3b85c80_78eb_11ed_931f_6045bd7a5bcalevel0_row2\" class=\"row_heading level0 row2\" >10</th>\n",
       "                        <td id=\"T_f3b85c80_78eb_11ed_931f_6045bd7a5bcarow2_col0\" class=\"data row2 col0\" >1.08e+04</td>\n",
       "                        <td id=\"T_f3b85c80_78eb_11ed_931f_6045bd7a5bcarow2_col1\" class=\"data row2 col1\" >1.1e+04</td>\n",
       "                        <td id=\"T_f3b85c80_78eb_11ed_931f_6045bd7a5bcarow2_col2\" class=\"data row2 col2\" >0.125</td>\n",
       "                        <td id=\"T_f3b85c80_78eb_11ed_931f_6045bd7a5bcarow2_col3\" class=\"data row2 col3\" >0.118</td>\n",
       "            </tr>\n",
       "            <tr>\n",
       "                        <th id=\"T_f3b85c80_78eb_11ed_931f_6045bd7a5bcalevel0_row3\" class=\"row_heading level0 row3\" >15</th>\n",
       "                        <td id=\"T_f3b85c80_78eb_11ed_931f_6045bd7a5bcarow3_col0\" class=\"data row3 col0\" >1.05e+04</td>\n",
       "                        <td id=\"T_f3b85c80_78eb_11ed_931f_6045bd7a5bcarow3_col1\" class=\"data row3 col1\" >1.06e+04</td>\n",
       "                        <td id=\"T_f3b85c80_78eb_11ed_931f_6045bd7a5bcarow3_col2\" class=\"data row3 col2\" >0.0933</td>\n",
       "                        <td id=\"T_f3b85c80_78eb_11ed_931f_6045bd7a5bcarow3_col3\" class=\"data row3 col3\" >0.0895</td>\n",
       "            </tr>\n",
       "    </tbody></table>"
      ],
      "text/plain": [
       "<pandas.io.formats.style.Styler at 0x7fc774e55f10>"
      ]
     },
     "metadata": {},
     "output_type": "display_data"
    },
    {
     "name": "stdout",
     "output_type": "stream",
     "text": [
      "[\u001b[1mtardis.simulation.base\u001b[0m][\u001b[1;37mINFO\u001b[0m   ]  \n",
      "\t\n",
      "\tCurrent t_inner = 10673.712 K\n",
      "\tExpected t_inner for next iteration = 10635.953 K\n",
      " (\u001b[1mbase.py\u001b[0m:550)\n"
     ]
    },
    {
     "name": "stdout",
     "output_type": "stream",
     "text": [
      "[\u001b[1mtardis.simulation.base\u001b[0m][\u001b[1;37mINFO\u001b[0m   ]  \n",
      "\t\n",
      "\tStarting iteration 4 of 20 (\u001b[1mbase.py\u001b[0m:381)\n"
     ]
    },
    {
     "name": "stdout",
     "output_type": "stream",
     "text": [
      "[\u001b[1mtardis.simulation.base\u001b[0m][\u001b[1;37mINFO\u001b[0m   ]  \n",
      "\t\n",
      "\tLuminosity emitted   = 1.058e+43 erg / s\n",
      "\tLuminosity absorbed  = 3.352e+42 erg / s\n",
      "\tLuminosity requested = 1.059e+43 erg / s\n",
      " (\u001b[1mbase.py\u001b[0m:555)\n"
     ]
    },
    {
     "name": "stdout",
     "output_type": "stream",
     "text": [
      "[\u001b[1mtardis.simulation.base\u001b[0m][\u001b[1;37mINFO\u001b[0m   ]  \n",
      "\t\n",
      "\tPlasma stratification: (\u001b[1mbase.py\u001b[0m:523)\n"
     ]
    },
    {
     "data": {
      "text/html": [
       "<style  type=\"text/css\" >\n",
       "</style><table id=\"T_f4427348_78eb_11ed_931f_6045bd7a5bca\" ><thead>    <tr>        <th class=\"index_name level0\" >Shell No.</th>        <th class=\"col_heading level0 col0\" >t_rad</th>        <th class=\"col_heading level0 col1\" >next_t_rad</th>        <th class=\"col_heading level0 col2\" >w</th>        <th class=\"col_heading level0 col3\" >next_w</th>    </tr></thead><tbody>\n",
       "                <tr>\n",
       "                        <th id=\"T_f4427348_78eb_11ed_931f_6045bd7a5bcalevel0_row0\" class=\"row_heading level0 row0\" >0</th>\n",
       "                        <td id=\"T_f4427348_78eb_11ed_931f_6045bd7a5bcarow0_col0\" class=\"data row0 col0\" >1.1e+04</td>\n",
       "                        <td id=\"T_f4427348_78eb_11ed_931f_6045bd7a5bcarow0_col1\" class=\"data row0 col1\" >1.1e+04</td>\n",
       "                        <td id=\"T_f4427348_78eb_11ed_931f_6045bd7a5bcarow0_col2\" class=\"data row0 col2\" >0.483</td>\n",
       "                        <td id=\"T_f4427348_78eb_11ed_931f_6045bd7a5bcarow0_col3\" class=\"data row0 col3\" >0.469</td>\n",
       "            </tr>\n",
       "            <tr>\n",
       "                        <th id=\"T_f4427348_78eb_11ed_931f_6045bd7a5bcalevel0_row1\" class=\"row_heading level0 row1\" >5</th>\n",
       "                        <td id=\"T_f4427348_78eb_11ed_931f_6045bd7a5bcarow1_col0\" class=\"data row1 col0\" >1.12e+04</td>\n",
       "                        <td id=\"T_f4427348_78eb_11ed_931f_6045bd7a5bcarow1_col1\" class=\"data row1 col1\" >1.12e+04</td>\n",
       "                        <td id=\"T_f4427348_78eb_11ed_931f_6045bd7a5bcarow1_col2\" class=\"data row1 col2\" >0.189</td>\n",
       "                        <td id=\"T_f4427348_78eb_11ed_931f_6045bd7a5bcarow1_col3\" class=\"data row1 col3\" >0.182</td>\n",
       "            </tr>\n",
       "            <tr>\n",
       "                        <th id=\"T_f4427348_78eb_11ed_931f_6045bd7a5bcalevel0_row2\" class=\"row_heading level0 row2\" >10</th>\n",
       "                        <td id=\"T_f4427348_78eb_11ed_931f_6045bd7a5bcarow2_col0\" class=\"data row2 col0\" >1.1e+04</td>\n",
       "                        <td id=\"T_f4427348_78eb_11ed_931f_6045bd7a5bcarow2_col1\" class=\"data row2 col1\" >1.1e+04</td>\n",
       "                        <td id=\"T_f4427348_78eb_11ed_931f_6045bd7a5bcarow2_col2\" class=\"data row2 col2\" >0.118</td>\n",
       "                        <td id=\"T_f4427348_78eb_11ed_931f_6045bd7a5bcarow2_col3\" class=\"data row2 col3\" >0.113</td>\n",
       "            </tr>\n",
       "            <tr>\n",
       "                        <th id=\"T_f4427348_78eb_11ed_931f_6045bd7a5bcalevel0_row3\" class=\"row_heading level0 row3\" >15</th>\n",
       "                        <td id=\"T_f4427348_78eb_11ed_931f_6045bd7a5bcarow3_col0\" class=\"data row3 col0\" >1.06e+04</td>\n",
       "                        <td id=\"T_f4427348_78eb_11ed_931f_6045bd7a5bcarow3_col1\" class=\"data row3 col1\" >1.07e+04</td>\n",
       "                        <td id=\"T_f4427348_78eb_11ed_931f_6045bd7a5bcarow3_col2\" class=\"data row3 col2\" >0.0895</td>\n",
       "                        <td id=\"T_f4427348_78eb_11ed_931f_6045bd7a5bcarow3_col3\" class=\"data row3 col3\" >0.0861</td>\n",
       "            </tr>\n",
       "    </tbody></table>"
      ],
      "text/plain": [
       "<pandas.io.formats.style.Styler at 0x7fc774040e80>"
      ]
     },
     "metadata": {},
     "output_type": "display_data"
    },
    {
     "name": "stdout",
     "output_type": "stream",
     "text": [
      "[\u001b[1mtardis.simulation.base\u001b[0m][\u001b[1;37mINFO\u001b[0m   ]  \n",
      "\t\n",
      "\tCurrent t_inner = 10635.953 K\n",
      "\tExpected t_inner for next iteration = 10638.407 K\n",
      " (\u001b[1mbase.py\u001b[0m:550)\n"
     ]
    },
    {
     "name": "stdout",
     "output_type": "stream",
     "text": [
      "[\u001b[1mtardis.simulation.base\u001b[0m][\u001b[1;37mINFO\u001b[0m   ]  \n",
      "\t\n",
      "\tStarting iteration 5 of 20 (\u001b[1mbase.py\u001b[0m:381)\n"
     ]
    },
    {
     "name": "stdout",
     "output_type": "stream",
     "text": [
      "[\u001b[1mtardis.simulation.base\u001b[0m][\u001b[1;37mINFO\u001b[0m   ]  \n",
      "\t\n",
      "\tLuminosity emitted   = 1.055e+43 erg / s\n",
      "\tLuminosity absorbed  = 3.399e+42 erg / s\n",
      "\tLuminosity requested = 1.059e+43 erg / s\n",
      " (\u001b[1mbase.py\u001b[0m:555)\n"
     ]
    },
    {
     "name": "stdout",
     "output_type": "stream",
     "text": [
      "[\u001b[1mtardis.simulation.base\u001b[0m][\u001b[1;37mINFO\u001b[0m   ]  \n",
      "\tIteration converged 1/4 consecutive times. (\u001b[1mbase.py\u001b[0m:262)\n"
     ]
    },
    {
     "name": "stdout",
     "output_type": "stream",
     "text": [
      "[\u001b[1mtardis.simulation.base\u001b[0m][\u001b[1;37mINFO\u001b[0m   ]  \n",
      "\t\n",
      "\tPlasma stratification: (\u001b[1mbase.py\u001b[0m:523)\n"
     ]
    },
    {
     "data": {
      "text/html": [
       "<style  type=\"text/css\" >\n",
       "</style><table id=\"T_f4b7efb0_78eb_11ed_931f_6045bd7a5bca\" ><thead>    <tr>        <th class=\"index_name level0\" >Shell No.</th>        <th class=\"col_heading level0 col0\" >t_rad</th>        <th class=\"col_heading level0 col1\" >next_t_rad</th>        <th class=\"col_heading level0 col2\" >w</th>        <th class=\"col_heading level0 col3\" >next_w</th>    </tr></thead><tbody>\n",
       "                <tr>\n",
       "                        <th id=\"T_f4b7efb0_78eb_11ed_931f_6045bd7a5bcalevel0_row0\" class=\"row_heading level0 row0\" >0</th>\n",
       "                        <td id=\"T_f4b7efb0_78eb_11ed_931f_6045bd7a5bcarow0_col0\" class=\"data row0 col0\" >1.1e+04</td>\n",
       "                        <td id=\"T_f4b7efb0_78eb_11ed_931f_6045bd7a5bcarow0_col1\" class=\"data row0 col1\" >1.1e+04</td>\n",
       "                        <td id=\"T_f4b7efb0_78eb_11ed_931f_6045bd7a5bcarow0_col2\" class=\"data row0 col2\" >0.469</td>\n",
       "                        <td id=\"T_f4b7efb0_78eb_11ed_931f_6045bd7a5bcarow0_col3\" class=\"data row0 col3\" >0.479</td>\n",
       "            </tr>\n",
       "            <tr>\n",
       "                        <th id=\"T_f4b7efb0_78eb_11ed_931f_6045bd7a5bcalevel0_row1\" class=\"row_heading level0 row1\" >5</th>\n",
       "                        <td id=\"T_f4b7efb0_78eb_11ed_931f_6045bd7a5bcarow1_col0\" class=\"data row1 col0\" >1.12e+04</td>\n",
       "                        <td id=\"T_f4b7efb0_78eb_11ed_931f_6045bd7a5bcarow1_col1\" class=\"data row1 col1\" >1.13e+04</td>\n",
       "                        <td id=\"T_f4b7efb0_78eb_11ed_931f_6045bd7a5bcarow1_col2\" class=\"data row1 col2\" >0.182</td>\n",
       "                        <td id=\"T_f4b7efb0_78eb_11ed_931f_6045bd7a5bcarow1_col3\" class=\"data row1 col3\" >0.178</td>\n",
       "            </tr>\n",
       "            <tr>\n",
       "                        <th id=\"T_f4b7efb0_78eb_11ed_931f_6045bd7a5bcalevel0_row2\" class=\"row_heading level0 row2\" >10</th>\n",
       "                        <td id=\"T_f4b7efb0_78eb_11ed_931f_6045bd7a5bcarow2_col0\" class=\"data row2 col0\" >1.1e+04</td>\n",
       "                        <td id=\"T_f4b7efb0_78eb_11ed_931f_6045bd7a5bcarow2_col1\" class=\"data row2 col1\" >1.1e+04</td>\n",
       "                        <td id=\"T_f4b7efb0_78eb_11ed_931f_6045bd7a5bcarow2_col2\" class=\"data row2 col2\" >0.113</td>\n",
       "                        <td id=\"T_f4b7efb0_78eb_11ed_931f_6045bd7a5bcarow2_col3\" class=\"data row2 col3\" >0.113</td>\n",
       "            </tr>\n",
       "            <tr>\n",
       "                        <th id=\"T_f4b7efb0_78eb_11ed_931f_6045bd7a5bcalevel0_row3\" class=\"row_heading level0 row3\" >15</th>\n",
       "                        <td id=\"T_f4b7efb0_78eb_11ed_931f_6045bd7a5bcarow3_col0\" class=\"data row3 col0\" >1.07e+04</td>\n",
       "                        <td id=\"T_f4b7efb0_78eb_11ed_931f_6045bd7a5bcarow3_col1\" class=\"data row3 col1\" >1.07e+04</td>\n",
       "                        <td id=\"T_f4b7efb0_78eb_11ed_931f_6045bd7a5bcarow3_col2\" class=\"data row3 col2\" >0.0861</td>\n",
       "                        <td id=\"T_f4b7efb0_78eb_11ed_931f_6045bd7a5bcarow3_col3\" class=\"data row3 col3\" >0.0839</td>\n",
       "            </tr>\n",
       "    </tbody></table>"
      ],
      "text/plain": [
       "<pandas.io.formats.style.Styler at 0x7fc77103aa60>"
      ]
     },
     "metadata": {},
     "output_type": "display_data"
    },
    {
     "name": "stdout",
     "output_type": "stream",
     "text": [
      "[\u001b[1mtardis.simulation.base\u001b[0m][\u001b[1;37mINFO\u001b[0m   ]  \n",
      "\t\n",
      "\tCurrent t_inner = 10638.407 K\n",
      "\tExpected t_inner for next iteration = 10650.202 K\n",
      " (\u001b[1mbase.py\u001b[0m:550)\n"
     ]
    },
    {
     "name": "stdout",
     "output_type": "stream",
     "text": [
      "[\u001b[1mtardis.simulation.base\u001b[0m][\u001b[1;37mINFO\u001b[0m   ]  \n",
      "\t\n",
      "\tStarting iteration 6 of 20 (\u001b[1mbase.py\u001b[0m:381)\n"
     ]
    },
    {
     "name": "stdout",
     "output_type": "stream",
     "text": [
      "[\u001b[1mtardis.simulation.base\u001b[0m][\u001b[1;37mINFO\u001b[0m   ]  \n",
      "\t\n",
      "\tLuminosity emitted   = 1.061e+43 erg / s\n",
      "\tLuminosity absorbed  = 3.398e+42 erg / s\n",
      "\tLuminosity requested = 1.059e+43 erg / s\n",
      " (\u001b[1mbase.py\u001b[0m:555)\n"
     ]
    },
    {
     "name": "stdout",
     "output_type": "stream",
     "text": [
      "[\u001b[1mtardis.simulation.base\u001b[0m][\u001b[1;37mINFO\u001b[0m   ]  \n",
      "\tIteration converged 2/4 consecutive times. (\u001b[1mbase.py\u001b[0m:262)\n"
     ]
    },
    {
     "name": "stdout",
     "output_type": "stream",
     "text": [
      "[\u001b[1mtardis.simulation.base\u001b[0m][\u001b[1;37mINFO\u001b[0m   ]  \n",
      "\t\n",
      "\tPlasma stratification: (\u001b[1mbase.py\u001b[0m:523)\n"
     ]
    },
    {
     "data": {
      "text/html": [
       "<style  type=\"text/css\" >\n",
       "</style><table id=\"T_f52f69aa_78eb_11ed_931f_6045bd7a5bca\" ><thead>    <tr>        <th class=\"index_name level0\" >Shell No.</th>        <th class=\"col_heading level0 col0\" >t_rad</th>        <th class=\"col_heading level0 col1\" >next_t_rad</th>        <th class=\"col_heading level0 col2\" >w</th>        <th class=\"col_heading level0 col3\" >next_w</th>    </tr></thead><tbody>\n",
       "                <tr>\n",
       "                        <th id=\"T_f52f69aa_78eb_11ed_931f_6045bd7a5bcalevel0_row0\" class=\"row_heading level0 row0\" >0</th>\n",
       "                        <td id=\"T_f52f69aa_78eb_11ed_931f_6045bd7a5bcarow0_col0\" class=\"data row0 col0\" >1.1e+04</td>\n",
       "                        <td id=\"T_f52f69aa_78eb_11ed_931f_6045bd7a5bcarow0_col1\" class=\"data row0 col1\" >1.1e+04</td>\n",
       "                        <td id=\"T_f52f69aa_78eb_11ed_931f_6045bd7a5bcarow0_col2\" class=\"data row0 col2\" >0.479</td>\n",
       "                        <td id=\"T_f52f69aa_78eb_11ed_931f_6045bd7a5bcarow0_col3\" class=\"data row0 col3\" >0.47</td>\n",
       "            </tr>\n",
       "            <tr>\n",
       "                        <th id=\"T_f52f69aa_78eb_11ed_931f_6045bd7a5bcalevel0_row1\" class=\"row_heading level0 row1\" >5</th>\n",
       "                        <td id=\"T_f52f69aa_78eb_11ed_931f_6045bd7a5bcarow1_col0\" class=\"data row1 col0\" >1.13e+04</td>\n",
       "                        <td id=\"T_f52f69aa_78eb_11ed_931f_6045bd7a5bcarow1_col1\" class=\"data row1 col1\" >1.12e+04</td>\n",
       "                        <td id=\"T_f52f69aa_78eb_11ed_931f_6045bd7a5bcarow1_col2\" class=\"data row1 col2\" >0.178</td>\n",
       "                        <td id=\"T_f52f69aa_78eb_11ed_931f_6045bd7a5bcarow1_col3\" class=\"data row1 col3\" >0.185</td>\n",
       "            </tr>\n",
       "            <tr>\n",
       "                        <th id=\"T_f52f69aa_78eb_11ed_931f_6045bd7a5bcalevel0_row2\" class=\"row_heading level0 row2\" >10</th>\n",
       "                        <td id=\"T_f52f69aa_78eb_11ed_931f_6045bd7a5bcarow2_col0\" class=\"data row2 col0\" >1.1e+04</td>\n",
       "                        <td id=\"T_f52f69aa_78eb_11ed_931f_6045bd7a5bcarow2_col1\" class=\"data row2 col1\" >1.11e+04</td>\n",
       "                        <td id=\"T_f52f69aa_78eb_11ed_931f_6045bd7a5bcarow2_col2\" class=\"data row2 col2\" >0.113</td>\n",
       "                        <td id=\"T_f52f69aa_78eb_11ed_931f_6045bd7a5bcarow2_col3\" class=\"data row2 col3\" >0.112</td>\n",
       "            </tr>\n",
       "            <tr>\n",
       "                        <th id=\"T_f52f69aa_78eb_11ed_931f_6045bd7a5bcalevel0_row3\" class=\"row_heading level0 row3\" >15</th>\n",
       "                        <td id=\"T_f52f69aa_78eb_11ed_931f_6045bd7a5bcarow3_col0\" class=\"data row3 col0\" >1.07e+04</td>\n",
       "                        <td id=\"T_f52f69aa_78eb_11ed_931f_6045bd7a5bcarow3_col1\" class=\"data row3 col1\" >1.07e+04</td>\n",
       "                        <td id=\"T_f52f69aa_78eb_11ed_931f_6045bd7a5bcarow3_col2\" class=\"data row3 col2\" >0.0839</td>\n",
       "                        <td id=\"T_f52f69aa_78eb_11ed_931f_6045bd7a5bcarow3_col3\" class=\"data row3 col3\" >0.0856</td>\n",
       "            </tr>\n",
       "    </tbody></table>"
      ],
      "text/plain": [
       "<pandas.io.formats.style.Styler at 0x7fc77103a6d0>"
      ]
     },
     "metadata": {},
     "output_type": "display_data"
    },
    {
     "name": "stdout",
     "output_type": "stream",
     "text": [
      "[\u001b[1mtardis.simulation.base\u001b[0m][\u001b[1;37mINFO\u001b[0m   ]  \n",
      "\t\n",
      "\tCurrent t_inner = 10650.202 K\n",
      "\tExpected t_inner for next iteration = 10645.955 K\n",
      " (\u001b[1mbase.py\u001b[0m:550)\n"
     ]
    },
    {
     "name": "stdout",
     "output_type": "stream",
     "text": [
      "[\u001b[1mtardis.simulation.base\u001b[0m][\u001b[1;37mINFO\u001b[0m   ]  \n",
      "\t\n",
      "\tStarting iteration 7 of 20 (\u001b[1mbase.py\u001b[0m:381)\n"
     ]
    },
    {
     "name": "stdout",
     "output_type": "stream",
     "text": [
      "[\u001b[1mtardis.simulation.base\u001b[0m][\u001b[1;37mINFO\u001b[0m   ]  \n",
      "\t\n",
      "\tLuminosity emitted   = 1.061e+43 erg / s\n",
      "\tLuminosity absorbed  = 3.382e+42 erg / s\n",
      "\tLuminosity requested = 1.059e+43 erg / s\n",
      " (\u001b[1mbase.py\u001b[0m:555)\n"
     ]
    },
    {
     "name": "stdout",
     "output_type": "stream",
     "text": [
      "[\u001b[1mtardis.simulation.base\u001b[0m][\u001b[1;37mINFO\u001b[0m   ]  \n",
      "\tIteration converged 3/4 consecutive times. (\u001b[1mbase.py\u001b[0m:262)\n"
     ]
    },
    {
     "name": "stdout",
     "output_type": "stream",
     "text": [
      "[\u001b[1mtardis.simulation.base\u001b[0m][\u001b[1;37mINFO\u001b[0m   ]  \n",
      "\t\n",
      "\tPlasma stratification: (\u001b[1mbase.py\u001b[0m:523)\n"
     ]
    },
    {
     "data": {
      "text/html": [
       "<style  type=\"text/css\" >\n",
       "</style><table id=\"T_f5a48014_78eb_11ed_931f_6045bd7a5bca\" ><thead>    <tr>        <th class=\"index_name level0\" >Shell No.</th>        <th class=\"col_heading level0 col0\" >t_rad</th>        <th class=\"col_heading level0 col1\" >next_t_rad</th>        <th class=\"col_heading level0 col2\" >w</th>        <th class=\"col_heading level0 col3\" >next_w</th>    </tr></thead><tbody>\n",
       "                <tr>\n",
       "                        <th id=\"T_f5a48014_78eb_11ed_931f_6045bd7a5bcalevel0_row0\" class=\"row_heading level0 row0\" >0</th>\n",
       "                        <td id=\"T_f5a48014_78eb_11ed_931f_6045bd7a5bcarow0_col0\" class=\"data row0 col0\" >1.1e+04</td>\n",
       "                        <td id=\"T_f5a48014_78eb_11ed_931f_6045bd7a5bcarow0_col1\" class=\"data row0 col1\" >1.1e+04</td>\n",
       "                        <td id=\"T_f5a48014_78eb_11ed_931f_6045bd7a5bcarow0_col2\" class=\"data row0 col2\" >0.47</td>\n",
       "                        <td id=\"T_f5a48014_78eb_11ed_931f_6045bd7a5bcarow0_col3\" class=\"data row0 col3\" >0.47</td>\n",
       "            </tr>\n",
       "            <tr>\n",
       "                        <th id=\"T_f5a48014_78eb_11ed_931f_6045bd7a5bcalevel0_row1\" class=\"row_heading level0 row1\" >5</th>\n",
       "                        <td id=\"T_f5a48014_78eb_11ed_931f_6045bd7a5bcarow1_col0\" class=\"data row1 col0\" >1.12e+04</td>\n",
       "                        <td id=\"T_f5a48014_78eb_11ed_931f_6045bd7a5bcarow1_col1\" class=\"data row1 col1\" >1.13e+04</td>\n",
       "                        <td id=\"T_f5a48014_78eb_11ed_931f_6045bd7a5bcarow1_col2\" class=\"data row1 col2\" >0.185</td>\n",
       "                        <td id=\"T_f5a48014_78eb_11ed_931f_6045bd7a5bcarow1_col3\" class=\"data row1 col3\" >0.178</td>\n",
       "            </tr>\n",
       "            <tr>\n",
       "                        <th id=\"T_f5a48014_78eb_11ed_931f_6045bd7a5bcalevel0_row2\" class=\"row_heading level0 row2\" >10</th>\n",
       "                        <td id=\"T_f5a48014_78eb_11ed_931f_6045bd7a5bcarow2_col0\" class=\"data row2 col0\" >1.11e+04</td>\n",
       "                        <td id=\"T_f5a48014_78eb_11ed_931f_6045bd7a5bcarow2_col1\" class=\"data row2 col1\" >1.11e+04</td>\n",
       "                        <td id=\"T_f5a48014_78eb_11ed_931f_6045bd7a5bcarow2_col2\" class=\"data row2 col2\" >0.112</td>\n",
       "                        <td id=\"T_f5a48014_78eb_11ed_931f_6045bd7a5bcarow2_col3\" class=\"data row2 col3\" >0.112</td>\n",
       "            </tr>\n",
       "            <tr>\n",
       "                        <th id=\"T_f5a48014_78eb_11ed_931f_6045bd7a5bcalevel0_row3\" class=\"row_heading level0 row3\" >15</th>\n",
       "                        <td id=\"T_f5a48014_78eb_11ed_931f_6045bd7a5bcarow3_col0\" class=\"data row3 col0\" >1.07e+04</td>\n",
       "                        <td id=\"T_f5a48014_78eb_11ed_931f_6045bd7a5bcarow3_col1\" class=\"data row3 col1\" >1.07e+04</td>\n",
       "                        <td id=\"T_f5a48014_78eb_11ed_931f_6045bd7a5bcarow3_col2\" class=\"data row3 col2\" >0.0856</td>\n",
       "                        <td id=\"T_f5a48014_78eb_11ed_931f_6045bd7a5bcarow3_col3\" class=\"data row3 col3\" >0.086</td>\n",
       "            </tr>\n",
       "    </tbody></table>"
      ],
      "text/plain": [
       "<pandas.io.formats.style.Styler at 0x7fc7710a91f0>"
      ]
     },
     "metadata": {},
     "output_type": "display_data"
    },
    {
     "name": "stdout",
     "output_type": "stream",
     "text": [
      "[\u001b[1mtardis.simulation.base\u001b[0m][\u001b[1;37mINFO\u001b[0m   ]  \n",
      "\t\n",
      "\tCurrent t_inner = 10645.955 K\n",
      "\tExpected t_inner for next iteration = 10642.050 K\n",
      " (\u001b[1mbase.py\u001b[0m:550)\n"
     ]
    },
    {
     "name": "stdout",
     "output_type": "stream",
     "text": [
      "[\u001b[1mtardis.simulation.base\u001b[0m][\u001b[1;37mINFO\u001b[0m   ]  \n",
      "\t\n",
      "\tStarting iteration 8 of 20 (\u001b[1mbase.py\u001b[0m:381)\n"
     ]
    },
    {
     "name": "stdout",
     "output_type": "stream",
     "text": [
      "[\u001b[1mtardis.simulation.base\u001b[0m][\u001b[1;37mINFO\u001b[0m   ]  \n",
      "\t\n",
      "\tLuminosity emitted   = 1.062e+43 erg / s\n",
      "\tLuminosity absorbed  = 3.350e+42 erg / s\n",
      "\tLuminosity requested = 1.059e+43 erg / s\n",
      " (\u001b[1mbase.py\u001b[0m:555)\n"
     ]
    },
    {
     "name": "stdout",
     "output_type": "stream",
     "text": [
      "[\u001b[1mtardis.simulation.base\u001b[0m][\u001b[1;37mINFO\u001b[0m   ]  \n",
      "\tIteration converged 4/4 consecutive times. (\u001b[1mbase.py\u001b[0m:262)\n"
     ]
    },
    {
     "name": "stdout",
     "output_type": "stream",
     "text": [
      "[\u001b[1mtardis.simulation.base\u001b[0m][\u001b[1;37mINFO\u001b[0m   ]  \n",
      "\t\n",
      "\tPlasma stratification: (\u001b[1mbase.py\u001b[0m:523)\n"
     ]
    },
    {
     "data": {
      "text/html": [
       "<style  type=\"text/css\" >\n",
       "</style><table id=\"T_f6231528_78eb_11ed_931f_6045bd7a5bca\" ><thead>    <tr>        <th class=\"index_name level0\" >Shell No.</th>        <th class=\"col_heading level0 col0\" >t_rad</th>        <th class=\"col_heading level0 col1\" >next_t_rad</th>        <th class=\"col_heading level0 col2\" >w</th>        <th class=\"col_heading level0 col3\" >next_w</th>    </tr></thead><tbody>\n",
       "                <tr>\n",
       "                        <th id=\"T_f6231528_78eb_11ed_931f_6045bd7a5bcalevel0_row0\" class=\"row_heading level0 row0\" >0</th>\n",
       "                        <td id=\"T_f6231528_78eb_11ed_931f_6045bd7a5bcarow0_col0\" class=\"data row0 col0\" >1.1e+04</td>\n",
       "                        <td id=\"T_f6231528_78eb_11ed_931f_6045bd7a5bcarow0_col1\" class=\"data row0 col1\" >1.11e+04</td>\n",
       "                        <td id=\"T_f6231528_78eb_11ed_931f_6045bd7a5bcarow0_col2\" class=\"data row0 col2\" >0.47</td>\n",
       "                        <td id=\"T_f6231528_78eb_11ed_931f_6045bd7a5bcarow0_col3\" class=\"data row0 col3\" >0.472</td>\n",
       "            </tr>\n",
       "            <tr>\n",
       "                        <th id=\"T_f6231528_78eb_11ed_931f_6045bd7a5bcalevel0_row1\" class=\"row_heading level0 row1\" >5</th>\n",
       "                        <td id=\"T_f6231528_78eb_11ed_931f_6045bd7a5bcarow1_col0\" class=\"data row1 col0\" >1.13e+04</td>\n",
       "                        <td id=\"T_f6231528_78eb_11ed_931f_6045bd7a5bcarow1_col1\" class=\"data row1 col1\" >1.14e+04</td>\n",
       "                        <td id=\"T_f6231528_78eb_11ed_931f_6045bd7a5bcarow1_col2\" class=\"data row1 col2\" >0.178</td>\n",
       "                        <td id=\"T_f6231528_78eb_11ed_931f_6045bd7a5bcarow1_col3\" class=\"data row1 col3\" >0.175</td>\n",
       "            </tr>\n",
       "            <tr>\n",
       "                        <th id=\"T_f6231528_78eb_11ed_931f_6045bd7a5bcalevel0_row2\" class=\"row_heading level0 row2\" >10</th>\n",
       "                        <td id=\"T_f6231528_78eb_11ed_931f_6045bd7a5bcarow2_col0\" class=\"data row2 col0\" >1.11e+04</td>\n",
       "                        <td id=\"T_f6231528_78eb_11ed_931f_6045bd7a5bcarow2_col1\" class=\"data row2 col1\" >1.11e+04</td>\n",
       "                        <td id=\"T_f6231528_78eb_11ed_931f_6045bd7a5bcarow2_col2\" class=\"data row2 col2\" >0.112</td>\n",
       "                        <td id=\"T_f6231528_78eb_11ed_931f_6045bd7a5bcarow2_col3\" class=\"data row2 col3\" >0.111</td>\n",
       "            </tr>\n",
       "            <tr>\n",
       "                        <th id=\"T_f6231528_78eb_11ed_931f_6045bd7a5bcalevel0_row3\" class=\"row_heading level0 row3\" >15</th>\n",
       "                        <td id=\"T_f6231528_78eb_11ed_931f_6045bd7a5bcarow3_col0\" class=\"data row3 col0\" >1.07e+04</td>\n",
       "                        <td id=\"T_f6231528_78eb_11ed_931f_6045bd7a5bcarow3_col1\" class=\"data row3 col1\" >1.07e+04</td>\n",
       "                        <td id=\"T_f6231528_78eb_11ed_931f_6045bd7a5bcarow3_col2\" class=\"data row3 col2\" >0.086</td>\n",
       "                        <td id=\"T_f6231528_78eb_11ed_931f_6045bd7a5bcarow3_col3\" class=\"data row3 col3\" >0.084</td>\n",
       "            </tr>\n",
       "    </tbody></table>"
      ],
      "text/plain": [
       "<pandas.io.formats.style.Styler at 0x7fc7710a9850>"
      ]
     },
     "metadata": {},
     "output_type": "display_data"
    },
    {
     "name": "stdout",
     "output_type": "stream",
     "text": [
      "[\u001b[1mtardis.simulation.base\u001b[0m][\u001b[1;37mINFO\u001b[0m   ]  \n",
      "\t\n",
      "\tCurrent t_inner = 10642.050 K\n",
      "\tExpected t_inner for next iteration = 10636.106 K\n",
      " (\u001b[1mbase.py\u001b[0m:550)\n"
     ]
    },
    {
     "name": "stdout",
     "output_type": "stream",
     "text": [
      "[\u001b[1mtardis.simulation.base\u001b[0m][\u001b[1;37mINFO\u001b[0m   ]  \n",
      "\t\n",
      "\tStarting iteration 9 of 20 (\u001b[1mbase.py\u001b[0m:381)\n"
     ]
    },
    {
     "name": "stdout",
     "output_type": "stream",
     "text": [
      "[\u001b[1mtardis.simulation.base\u001b[0m][\u001b[1;37mINFO\u001b[0m   ]  \n",
      "\t\n",
      "\tLuminosity emitted   = 1.052e+43 erg / s\n",
      "\tLuminosity absorbed  = 3.411e+42 erg / s\n",
      "\tLuminosity requested = 1.059e+43 erg / s\n",
      " (\u001b[1mbase.py\u001b[0m:555)\n"
     ]
    },
    {
     "name": "stdout",
     "output_type": "stream",
     "text": [
      "[\u001b[1mtardis.simulation.base\u001b[0m][\u001b[1;37mINFO\u001b[0m   ]  \n",
      "\tIteration converged 5/4 consecutive times. (\u001b[1mbase.py\u001b[0m:262)\n"
     ]
    },
    {
     "name": "stdout",
     "output_type": "stream",
     "text": [
      "[\u001b[1mtardis.simulation.base\u001b[0m][\u001b[1;37mINFO\u001b[0m   ]  \n",
      "\t\n",
      "\tPlasma stratification: (\u001b[1mbase.py\u001b[0m:523)\n"
     ]
    },
    {
     "data": {
      "text/html": [
       "<style  type=\"text/css\" >\n",
       "</style><table id=\"T_f69ce24a_78eb_11ed_931f_6045bd7a5bca\" ><thead>    <tr>        <th class=\"index_name level0\" >Shell No.</th>        <th class=\"col_heading level0 col0\" >t_rad</th>        <th class=\"col_heading level0 col1\" >next_t_rad</th>        <th class=\"col_heading level0 col2\" >w</th>        <th class=\"col_heading level0 col3\" >next_w</th>    </tr></thead><tbody>\n",
       "                <tr>\n",
       "                        <th id=\"T_f69ce24a_78eb_11ed_931f_6045bd7a5bcalevel0_row0\" class=\"row_heading level0 row0\" >0</th>\n",
       "                        <td id=\"T_f69ce24a_78eb_11ed_931f_6045bd7a5bcarow0_col0\" class=\"data row0 col0\" >1.11e+04</td>\n",
       "                        <td id=\"T_f69ce24a_78eb_11ed_931f_6045bd7a5bcarow0_col1\" class=\"data row0 col1\" >1.11e+04</td>\n",
       "                        <td id=\"T_f69ce24a_78eb_11ed_931f_6045bd7a5bcarow0_col2\" class=\"data row0 col2\" >0.472</td>\n",
       "                        <td id=\"T_f69ce24a_78eb_11ed_931f_6045bd7a5bcarow0_col3\" class=\"data row0 col3\" >0.469</td>\n",
       "            </tr>\n",
       "            <tr>\n",
       "                        <th id=\"T_f69ce24a_78eb_11ed_931f_6045bd7a5bcalevel0_row1\" class=\"row_heading level0 row1\" >5</th>\n",
       "                        <td id=\"T_f69ce24a_78eb_11ed_931f_6045bd7a5bcarow1_col0\" class=\"data row1 col0\" >1.14e+04</td>\n",
       "                        <td id=\"T_f69ce24a_78eb_11ed_931f_6045bd7a5bcarow1_col1\" class=\"data row1 col1\" >1.15e+04</td>\n",
       "                        <td id=\"T_f69ce24a_78eb_11ed_931f_6045bd7a5bcarow1_col2\" class=\"data row1 col2\" >0.175</td>\n",
       "                        <td id=\"T_f69ce24a_78eb_11ed_931f_6045bd7a5bcarow1_col3\" class=\"data row1 col3\" >0.17</td>\n",
       "            </tr>\n",
       "            <tr>\n",
       "                        <th id=\"T_f69ce24a_78eb_11ed_931f_6045bd7a5bcalevel0_row2\" class=\"row_heading level0 row2\" >10</th>\n",
       "                        <td id=\"T_f69ce24a_78eb_11ed_931f_6045bd7a5bcarow2_col0\" class=\"data row2 col0\" >1.11e+04</td>\n",
       "                        <td id=\"T_f69ce24a_78eb_11ed_931f_6045bd7a5bcarow2_col1\" class=\"data row2 col1\" >1.11e+04</td>\n",
       "                        <td id=\"T_f69ce24a_78eb_11ed_931f_6045bd7a5bcarow2_col2\" class=\"data row2 col2\" >0.111</td>\n",
       "                        <td id=\"T_f69ce24a_78eb_11ed_931f_6045bd7a5bcarow2_col3\" class=\"data row2 col3\" >0.109</td>\n",
       "            </tr>\n",
       "            <tr>\n",
       "                        <th id=\"T_f69ce24a_78eb_11ed_931f_6045bd7a5bcalevel0_row3\" class=\"row_heading level0 row3\" >15</th>\n",
       "                        <td id=\"T_f69ce24a_78eb_11ed_931f_6045bd7a5bcarow3_col0\" class=\"data row3 col0\" >1.07e+04</td>\n",
       "                        <td id=\"T_f69ce24a_78eb_11ed_931f_6045bd7a5bcarow3_col1\" class=\"data row3 col1\" >1.08e+04</td>\n",
       "                        <td id=\"T_f69ce24a_78eb_11ed_931f_6045bd7a5bcarow3_col2\" class=\"data row3 col2\" >0.084</td>\n",
       "                        <td id=\"T_f69ce24a_78eb_11ed_931f_6045bd7a5bcarow3_col3\" class=\"data row3 col3\" >0.0822</td>\n",
       "            </tr>\n",
       "    </tbody></table>"
      ],
      "text/plain": [
       "<pandas.io.formats.style.Styler at 0x7fc774040040>"
      ]
     },
     "metadata": {},
     "output_type": "display_data"
    },
    {
     "name": "stdout",
     "output_type": "stream",
     "text": [
      "[\u001b[1mtardis.simulation.base\u001b[0m][\u001b[1;37mINFO\u001b[0m   ]  \n",
      "\t\n",
      "\tCurrent t_inner = 10636.106 K\n",
      "\tExpected t_inner for next iteration = 10654.313 K\n",
      " (\u001b[1mbase.py\u001b[0m:550)\n"
     ]
    },
    {
     "name": "stdout",
     "output_type": "stream",
     "text": [
      "[\u001b[1mtardis.simulation.base\u001b[0m][\u001b[1;37mINFO\u001b[0m   ]  \n",
      "\t\n",
      "\tStarting iteration 10 of 20 (\u001b[1mbase.py\u001b[0m:381)\n"
     ]
    },
    {
     "name": "stdout",
     "output_type": "stream",
     "text": [
      "[\u001b[1mtardis.simulation.base\u001b[0m][\u001b[1;37mINFO\u001b[0m   ]  \n",
      "\t\n",
      "\tLuminosity emitted   = 1.070e+43 erg / s\n",
      "\tLuminosity absorbed  = 3.335e+42 erg / s\n",
      "\tLuminosity requested = 1.059e+43 erg / s\n",
      " (\u001b[1mbase.py\u001b[0m:555)\n"
     ]
    },
    {
     "name": "stdout",
     "output_type": "stream",
     "text": [
      "[\u001b[1mtardis.simulation.base\u001b[0m][\u001b[1;37mINFO\u001b[0m   ]  \n",
      "\t\n",
      "\tPlasma stratification: (\u001b[1mbase.py\u001b[0m:523)\n"
     ]
    },
    {
     "data": {
      "text/html": [
       "<style  type=\"text/css\" >\n",
       "</style><table id=\"T_f713d35a_78eb_11ed_931f_6045bd7a5bca\" ><thead>    <tr>        <th class=\"index_name level0\" >Shell No.</th>        <th class=\"col_heading level0 col0\" >t_rad</th>        <th class=\"col_heading level0 col1\" >next_t_rad</th>        <th class=\"col_heading level0 col2\" >w</th>        <th class=\"col_heading level0 col3\" >next_w</th>    </tr></thead><tbody>\n",
       "                <tr>\n",
       "                        <th id=\"T_f713d35a_78eb_11ed_931f_6045bd7a5bcalevel0_row0\" class=\"row_heading level0 row0\" >0</th>\n",
       "                        <td id=\"T_f713d35a_78eb_11ed_931f_6045bd7a5bcarow0_col0\" class=\"data row0 col0\" >1.11e+04</td>\n",
       "                        <td id=\"T_f713d35a_78eb_11ed_931f_6045bd7a5bcarow0_col1\" class=\"data row0 col1\" >1.1e+04</td>\n",
       "                        <td id=\"T_f713d35a_78eb_11ed_931f_6045bd7a5bcarow0_col2\" class=\"data row0 col2\" >0.469</td>\n",
       "                        <td id=\"T_f713d35a_78eb_11ed_931f_6045bd7a5bcarow0_col3\" class=\"data row0 col3\" >0.475</td>\n",
       "            </tr>\n",
       "            <tr>\n",
       "                        <th id=\"T_f713d35a_78eb_11ed_931f_6045bd7a5bcalevel0_row1\" class=\"row_heading level0 row1\" >5</th>\n",
       "                        <td id=\"T_f713d35a_78eb_11ed_931f_6045bd7a5bcarow1_col0\" class=\"data row1 col0\" >1.15e+04</td>\n",
       "                        <td id=\"T_f713d35a_78eb_11ed_931f_6045bd7a5bcarow1_col1\" class=\"data row1 col1\" >1.14e+04</td>\n",
       "                        <td id=\"T_f713d35a_78eb_11ed_931f_6045bd7a5bcarow1_col2\" class=\"data row1 col2\" >0.17</td>\n",
       "                        <td id=\"T_f713d35a_78eb_11ed_931f_6045bd7a5bcarow1_col3\" class=\"data row1 col3\" >0.177</td>\n",
       "            </tr>\n",
       "            <tr>\n",
       "                        <th id=\"T_f713d35a_78eb_11ed_931f_6045bd7a5bcalevel0_row2\" class=\"row_heading level0 row2\" >10</th>\n",
       "                        <td id=\"T_f713d35a_78eb_11ed_931f_6045bd7a5bcarow2_col0\" class=\"data row2 col0\" >1.11e+04</td>\n",
       "                        <td id=\"T_f713d35a_78eb_11ed_931f_6045bd7a5bcarow2_col1\" class=\"data row2 col1\" >1.11e+04</td>\n",
       "                        <td id=\"T_f713d35a_78eb_11ed_931f_6045bd7a5bcarow2_col2\" class=\"data row2 col2\" >0.109</td>\n",
       "                        <td id=\"T_f713d35a_78eb_11ed_931f_6045bd7a5bcarow2_col3\" class=\"data row2 col3\" >0.112</td>\n",
       "            </tr>\n",
       "            <tr>\n",
       "                        <th id=\"T_f713d35a_78eb_11ed_931f_6045bd7a5bcalevel0_row3\" class=\"row_heading level0 row3\" >15</th>\n",
       "                        <td id=\"T_f713d35a_78eb_11ed_931f_6045bd7a5bcarow3_col0\" class=\"data row3 col0\" >1.08e+04</td>\n",
       "                        <td id=\"T_f713d35a_78eb_11ed_931f_6045bd7a5bcarow3_col1\" class=\"data row3 col1\" >1.06e+04</td>\n",
       "                        <td id=\"T_f713d35a_78eb_11ed_931f_6045bd7a5bcarow3_col2\" class=\"data row3 col2\" >0.0822</td>\n",
       "                        <td id=\"T_f713d35a_78eb_11ed_931f_6045bd7a5bcarow3_col3\" class=\"data row3 col3\" >0.0878</td>\n",
       "            </tr>\n",
       "    </tbody></table>"
      ],
      "text/plain": [
       "<pandas.io.formats.style.Styler at 0x7fc771045fa0>"
      ]
     },
     "metadata": {},
     "output_type": "display_data"
    },
    {
     "name": "stdout",
     "output_type": "stream",
     "text": [
      "[\u001b[1mtardis.simulation.base\u001b[0m][\u001b[1;37mINFO\u001b[0m   ]  \n",
      "\t\n",
      "\tCurrent t_inner = 10654.313 K\n",
      "\tExpected t_inner for next iteration = 10628.190 K\n",
      " (\u001b[1mbase.py\u001b[0m:550)\n"
     ]
    },
    {
     "name": "stdout",
     "output_type": "stream",
     "text": [
      "[\u001b[1mtardis.simulation.base\u001b[0m][\u001b[1;37mINFO\u001b[0m   ]  \n",
      "\t\n",
      "\tStarting iteration 11 of 20 (\u001b[1mbase.py\u001b[0m:381)\n"
     ]
    },
    {
     "name": "stdout",
     "output_type": "stream",
     "text": [
      "[\u001b[1mtardis.simulation.base\u001b[0m][\u001b[1;37mINFO\u001b[0m   ]  \n",
      "\t\n",
      "\tLuminosity emitted   = 1.053e+43 erg / s\n",
      "\tLuminosity absorbed  = 3.363e+42 erg / s\n",
      "\tLuminosity requested = 1.059e+43 erg / s\n",
      " (\u001b[1mbase.py\u001b[0m:555)\n"
     ]
    },
    {
     "name": "stdout",
     "output_type": "stream",
     "text": [
      "[\u001b[1mtardis.simulation.base\u001b[0m][\u001b[1;37mINFO\u001b[0m   ]  \n",
      "\tIteration converged 1/4 consecutive times. (\u001b[1mbase.py\u001b[0m:262)\n"
     ]
    },
    {
     "name": "stdout",
     "output_type": "stream",
     "text": [
      "[\u001b[1mtardis.simulation.base\u001b[0m][\u001b[1;37mINFO\u001b[0m   ]  \n",
      "\t\n",
      "\tPlasma stratification: (\u001b[1mbase.py\u001b[0m:523)\n"
     ]
    },
    {
     "data": {
      "text/html": [
       "<style  type=\"text/css\" >\n",
       "</style><table id=\"T_f78ac5a0_78eb_11ed_931f_6045bd7a5bca\" ><thead>    <tr>        <th class=\"index_name level0\" >Shell No.</th>        <th class=\"col_heading level0 col0\" >t_rad</th>        <th class=\"col_heading level0 col1\" >next_t_rad</th>        <th class=\"col_heading level0 col2\" >w</th>        <th class=\"col_heading level0 col3\" >next_w</th>    </tr></thead><tbody>\n",
       "                <tr>\n",
       "                        <th id=\"T_f78ac5a0_78eb_11ed_931f_6045bd7a5bcalevel0_row0\" class=\"row_heading level0 row0\" >0</th>\n",
       "                        <td id=\"T_f78ac5a0_78eb_11ed_931f_6045bd7a5bcarow0_col0\" class=\"data row0 col0\" >1.1e+04</td>\n",
       "                        <td id=\"T_f78ac5a0_78eb_11ed_931f_6045bd7a5bcarow0_col1\" class=\"data row0 col1\" >1.1e+04</td>\n",
       "                        <td id=\"T_f78ac5a0_78eb_11ed_931f_6045bd7a5bcarow0_col2\" class=\"data row0 col2\" >0.475</td>\n",
       "                        <td id=\"T_f78ac5a0_78eb_11ed_931f_6045bd7a5bcarow0_col3\" class=\"data row0 col3\" >0.472</td>\n",
       "            </tr>\n",
       "            <tr>\n",
       "                        <th id=\"T_f78ac5a0_78eb_11ed_931f_6045bd7a5bcalevel0_row1\" class=\"row_heading level0 row1\" >5</th>\n",
       "                        <td id=\"T_f78ac5a0_78eb_11ed_931f_6045bd7a5bcarow1_col0\" class=\"data row1 col0\" >1.14e+04</td>\n",
       "                        <td id=\"T_f78ac5a0_78eb_11ed_931f_6045bd7a5bcarow1_col1\" class=\"data row1 col1\" >1.12e+04</td>\n",
       "                        <td id=\"T_f78ac5a0_78eb_11ed_931f_6045bd7a5bcarow1_col2\" class=\"data row1 col2\" >0.177</td>\n",
       "                        <td id=\"T_f78ac5a0_78eb_11ed_931f_6045bd7a5bcarow1_col3\" class=\"data row1 col3\" >0.184</td>\n",
       "            </tr>\n",
       "            <tr>\n",
       "                        <th id=\"T_f78ac5a0_78eb_11ed_931f_6045bd7a5bcalevel0_row2\" class=\"row_heading level0 row2\" >10</th>\n",
       "                        <td id=\"T_f78ac5a0_78eb_11ed_931f_6045bd7a5bcarow2_col0\" class=\"data row2 col0\" >1.11e+04</td>\n",
       "                        <td id=\"T_f78ac5a0_78eb_11ed_931f_6045bd7a5bcarow2_col1\" class=\"data row2 col1\" >1.1e+04</td>\n",
       "                        <td id=\"T_f78ac5a0_78eb_11ed_931f_6045bd7a5bcarow2_col2\" class=\"data row2 col2\" >0.112</td>\n",
       "                        <td id=\"T_f78ac5a0_78eb_11ed_931f_6045bd7a5bcarow2_col3\" class=\"data row2 col3\" >0.114</td>\n",
       "            </tr>\n",
       "            <tr>\n",
       "                        <th id=\"T_f78ac5a0_78eb_11ed_931f_6045bd7a5bcalevel0_row3\" class=\"row_heading level0 row3\" >15</th>\n",
       "                        <td id=\"T_f78ac5a0_78eb_11ed_931f_6045bd7a5bcarow3_col0\" class=\"data row3 col0\" >1.06e+04</td>\n",
       "                        <td id=\"T_f78ac5a0_78eb_11ed_931f_6045bd7a5bcarow3_col1\" class=\"data row3 col1\" >1.06e+04</td>\n",
       "                        <td id=\"T_f78ac5a0_78eb_11ed_931f_6045bd7a5bcarow3_col2\" class=\"data row3 col2\" >0.0878</td>\n",
       "                        <td id=\"T_f78ac5a0_78eb_11ed_931f_6045bd7a5bcarow3_col3\" class=\"data row3 col3\" >0.0859</td>\n",
       "            </tr>\n",
       "    </tbody></table>"
      ],
      "text/plain": [
       "<pandas.io.formats.style.Styler at 0x7fc77101d670>"
      ]
     },
     "metadata": {},
     "output_type": "display_data"
    },
    {
     "name": "stdout",
     "output_type": "stream",
     "text": [
      "[\u001b[1mtardis.simulation.base\u001b[0m][\u001b[1;37mINFO\u001b[0m   ]  \n",
      "\t\n",
      "\tCurrent t_inner = 10628.190 K\n",
      "\tExpected t_inner for next iteration = 10644.054 K\n",
      " (\u001b[1mbase.py\u001b[0m:550)\n"
     ]
    },
    {
     "name": "stdout",
     "output_type": "stream",
     "text": [
      "[\u001b[1mtardis.simulation.base\u001b[0m][\u001b[1;37mINFO\u001b[0m   ]  \n",
      "\t\n",
      "\tStarting iteration 12 of 20 (\u001b[1mbase.py\u001b[0m:381)\n"
     ]
    },
    {
     "name": "stdout",
     "output_type": "stream",
     "text": [
      "[\u001b[1mtardis.simulation.base\u001b[0m][\u001b[1;37mINFO\u001b[0m   ]  \n",
      "\t\n",
      "\tLuminosity emitted   = 1.056e+43 erg / s\n",
      "\tLuminosity absorbed  = 3.420e+42 erg / s\n",
      "\tLuminosity requested = 1.059e+43 erg / s\n",
      " (\u001b[1mbase.py\u001b[0m:555)\n"
     ]
    },
    {
     "name": "stdout",
     "output_type": "stream",
     "text": [
      "[\u001b[1mtardis.simulation.base\u001b[0m][\u001b[1;37mINFO\u001b[0m   ]  \n",
      "\t\n",
      "\tPlasma stratification: (\u001b[1mbase.py\u001b[0m:523)\n"
     ]
    },
    {
     "data": {
      "text/html": [
       "<style  type=\"text/css\" >\n",
       "</style><table id=\"T_f800f676_78eb_11ed_931f_6045bd7a5bca\" ><thead>    <tr>        <th class=\"index_name level0\" >Shell No.</th>        <th class=\"col_heading level0 col0\" >t_rad</th>        <th class=\"col_heading level0 col1\" >next_t_rad</th>        <th class=\"col_heading level0 col2\" >w</th>        <th class=\"col_heading level0 col3\" >next_w</th>    </tr></thead><tbody>\n",
       "                <tr>\n",
       "                        <th id=\"T_f800f676_78eb_11ed_931f_6045bd7a5bcalevel0_row0\" class=\"row_heading level0 row0\" >0</th>\n",
       "                        <td id=\"T_f800f676_78eb_11ed_931f_6045bd7a5bcarow0_col0\" class=\"data row0 col0\" >1.1e+04</td>\n",
       "                        <td id=\"T_f800f676_78eb_11ed_931f_6045bd7a5bcarow0_col1\" class=\"data row0 col1\" >1.11e+04</td>\n",
       "                        <td id=\"T_f800f676_78eb_11ed_931f_6045bd7a5bcarow0_col2\" class=\"data row0 col2\" >0.472</td>\n",
       "                        <td id=\"T_f800f676_78eb_11ed_931f_6045bd7a5bcarow0_col3\" class=\"data row0 col3\" >0.467</td>\n",
       "            </tr>\n",
       "            <tr>\n",
       "                        <th id=\"T_f800f676_78eb_11ed_931f_6045bd7a5bcalevel0_row1\" class=\"row_heading level0 row1\" >5</th>\n",
       "                        <td id=\"T_f800f676_78eb_11ed_931f_6045bd7a5bcarow1_col0\" class=\"data row1 col0\" >1.12e+04</td>\n",
       "                        <td id=\"T_f800f676_78eb_11ed_931f_6045bd7a5bcarow1_col1\" class=\"data row1 col1\" >1.13e+04</td>\n",
       "                        <td id=\"T_f800f676_78eb_11ed_931f_6045bd7a5bcarow1_col2\" class=\"data row1 col2\" >0.184</td>\n",
       "                        <td id=\"T_f800f676_78eb_11ed_931f_6045bd7a5bcarow1_col3\" class=\"data row1 col3\" >0.176</td>\n",
       "            </tr>\n",
       "            <tr>\n",
       "                        <th id=\"T_f800f676_78eb_11ed_931f_6045bd7a5bcalevel0_row2\" class=\"row_heading level0 row2\" >10</th>\n",
       "                        <td id=\"T_f800f676_78eb_11ed_931f_6045bd7a5bcarow2_col0\" class=\"data row2 col0\" >1.1e+04</td>\n",
       "                        <td id=\"T_f800f676_78eb_11ed_931f_6045bd7a5bcarow2_col1\" class=\"data row2 col1\" >1.11e+04</td>\n",
       "                        <td id=\"T_f800f676_78eb_11ed_931f_6045bd7a5bcarow2_col2\" class=\"data row2 col2\" >0.114</td>\n",
       "                        <td id=\"T_f800f676_78eb_11ed_931f_6045bd7a5bcarow2_col3\" class=\"data row2 col3\" >0.11</td>\n",
       "            </tr>\n",
       "            <tr>\n",
       "                        <th id=\"T_f800f676_78eb_11ed_931f_6045bd7a5bcalevel0_row3\" class=\"row_heading level0 row3\" >15</th>\n",
       "                        <td id=\"T_f800f676_78eb_11ed_931f_6045bd7a5bcarow3_col0\" class=\"data row3 col0\" >1.06e+04</td>\n",
       "                        <td id=\"T_f800f676_78eb_11ed_931f_6045bd7a5bcarow3_col1\" class=\"data row3 col1\" >1.08e+04</td>\n",
       "                        <td id=\"T_f800f676_78eb_11ed_931f_6045bd7a5bcarow3_col2\" class=\"data row3 col2\" >0.0859</td>\n",
       "                        <td id=\"T_f800f676_78eb_11ed_931f_6045bd7a5bcarow3_col3\" class=\"data row3 col3\" >0.0821</td>\n",
       "            </tr>\n",
       "    </tbody></table>"
      ],
      "text/plain": [
       "<pandas.io.formats.style.Styler at 0x7fc77101df40>"
      ]
     },
     "metadata": {},
     "output_type": "display_data"
    },
    {
     "name": "stdout",
     "output_type": "stream",
     "text": [
      "[\u001b[1mtardis.simulation.base\u001b[0m][\u001b[1;37mINFO\u001b[0m   ]  \n",
      "\t\n",
      "\tCurrent t_inner = 10644.054 K\n",
      "\tExpected t_inner for next iteration = 10653.543 K\n",
      " (\u001b[1mbase.py\u001b[0m:550)\n"
     ]
    },
    {
     "name": "stdout",
     "output_type": "stream",
     "text": [
      "[\u001b[1mtardis.simulation.base\u001b[0m][\u001b[1;37mINFO\u001b[0m   ]  \n",
      "\t\n",
      "\tStarting iteration 13 of 20 (\u001b[1mbase.py\u001b[0m:381)\n"
     ]
    },
    {
     "name": "stdout",
     "output_type": "stream",
     "text": [
      "[\u001b[1mtardis.simulation.base\u001b[0m][\u001b[1;37mINFO\u001b[0m   ]  \n",
      "\t\n",
      "\tLuminosity emitted   = 1.062e+43 erg / s\n",
      "\tLuminosity absorbed  = 3.406e+42 erg / s\n",
      "\tLuminosity requested = 1.059e+43 erg / s\n",
      " (\u001b[1mbase.py\u001b[0m:555)\n"
     ]
    },
    {
     "name": "stdout",
     "output_type": "stream",
     "text": [
      "[\u001b[1mtardis.simulation.base\u001b[0m][\u001b[1;37mINFO\u001b[0m   ]  \n",
      "\tIteration converged 1/4 consecutive times. (\u001b[1mbase.py\u001b[0m:262)\n"
     ]
    },
    {
     "name": "stdout",
     "output_type": "stream",
     "text": [
      "[\u001b[1mtardis.simulation.base\u001b[0m][\u001b[1;37mINFO\u001b[0m   ]  \n",
      "\t\n",
      "\tPlasma stratification: (\u001b[1mbase.py\u001b[0m:523)\n"
     ]
    },
    {
     "data": {
      "text/html": [
       "<style  type=\"text/css\" >\n",
       "</style><table id=\"T_f877e3d0_78eb_11ed_931f_6045bd7a5bca\" ><thead>    <tr>        <th class=\"index_name level0\" >Shell No.</th>        <th class=\"col_heading level0 col0\" >t_rad</th>        <th class=\"col_heading level0 col1\" >next_t_rad</th>        <th class=\"col_heading level0 col2\" >w</th>        <th class=\"col_heading level0 col3\" >next_w</th>    </tr></thead><tbody>\n",
       "                <tr>\n",
       "                        <th id=\"T_f877e3d0_78eb_11ed_931f_6045bd7a5bcalevel0_row0\" class=\"row_heading level0 row0\" >0</th>\n",
       "                        <td id=\"T_f877e3d0_78eb_11ed_931f_6045bd7a5bcarow0_col0\" class=\"data row0 col0\" >1.11e+04</td>\n",
       "                        <td id=\"T_f877e3d0_78eb_11ed_931f_6045bd7a5bcarow0_col1\" class=\"data row0 col1\" >1.11e+04</td>\n",
       "                        <td id=\"T_f877e3d0_78eb_11ed_931f_6045bd7a5bcarow0_col2\" class=\"data row0 col2\" >0.467</td>\n",
       "                        <td id=\"T_f877e3d0_78eb_11ed_931f_6045bd7a5bcarow0_col3\" class=\"data row0 col3\" >0.466</td>\n",
       "            </tr>\n",
       "            <tr>\n",
       "                        <th id=\"T_f877e3d0_78eb_11ed_931f_6045bd7a5bcalevel0_row1\" class=\"row_heading level0 row1\" >5</th>\n",
       "                        <td id=\"T_f877e3d0_78eb_11ed_931f_6045bd7a5bcarow1_col0\" class=\"data row1 col0\" >1.13e+04</td>\n",
       "                        <td id=\"T_f877e3d0_78eb_11ed_931f_6045bd7a5bcarow1_col1\" class=\"data row1 col1\" >1.13e+04</td>\n",
       "                        <td id=\"T_f877e3d0_78eb_11ed_931f_6045bd7a5bcarow1_col2\" class=\"data row1 col2\" >0.176</td>\n",
       "                        <td id=\"T_f877e3d0_78eb_11ed_931f_6045bd7a5bcarow1_col3\" class=\"data row1 col3\" >0.18</td>\n",
       "            </tr>\n",
       "            <tr>\n",
       "                        <th id=\"T_f877e3d0_78eb_11ed_931f_6045bd7a5bcalevel0_row2\" class=\"row_heading level0 row2\" >10</th>\n",
       "                        <td id=\"T_f877e3d0_78eb_11ed_931f_6045bd7a5bcarow2_col0\" class=\"data row2 col0\" >1.11e+04</td>\n",
       "                        <td id=\"T_f877e3d0_78eb_11ed_931f_6045bd7a5bcarow2_col1\" class=\"data row2 col1\" >1.11e+04</td>\n",
       "                        <td id=\"T_f877e3d0_78eb_11ed_931f_6045bd7a5bcarow2_col2\" class=\"data row2 col2\" >0.11</td>\n",
       "                        <td id=\"T_f877e3d0_78eb_11ed_931f_6045bd7a5bcarow2_col3\" class=\"data row2 col3\" >0.111</td>\n",
       "            </tr>\n",
       "            <tr>\n",
       "                        <th id=\"T_f877e3d0_78eb_11ed_931f_6045bd7a5bcalevel0_row3\" class=\"row_heading level0 row3\" >15</th>\n",
       "                        <td id=\"T_f877e3d0_78eb_11ed_931f_6045bd7a5bcarow3_col0\" class=\"data row3 col0\" >1.08e+04</td>\n",
       "                        <td id=\"T_f877e3d0_78eb_11ed_931f_6045bd7a5bcarow3_col1\" class=\"data row3 col1\" >1.08e+04</td>\n",
       "                        <td id=\"T_f877e3d0_78eb_11ed_931f_6045bd7a5bcarow3_col2\" class=\"data row3 col2\" >0.0821</td>\n",
       "                        <td id=\"T_f877e3d0_78eb_11ed_931f_6045bd7a5bcarow3_col3\" class=\"data row3 col3\" >0.0841</td>\n",
       "            </tr>\n",
       "    </tbody></table>"
      ],
      "text/plain": [
       "<pandas.io.formats.style.Styler at 0x7fc7710458e0>"
      ]
     },
     "metadata": {},
     "output_type": "display_data"
    },
    {
     "name": "stdout",
     "output_type": "stream",
     "text": [
      "[\u001b[1mtardis.simulation.base\u001b[0m][\u001b[1;37mINFO\u001b[0m   ]  \n",
      "\t\n",
      "\tCurrent t_inner = 10653.543 K\n",
      "\tExpected t_inner for next iteration = 10647.277 K\n",
      " (\u001b[1mbase.py\u001b[0m:550)\n"
     ]
    },
    {
     "name": "stdout",
     "output_type": "stream",
     "text": [
      "[\u001b[1mtardis.simulation.base\u001b[0m][\u001b[1;37mINFO\u001b[0m   ]  \n",
      "\t\n",
      "\tStarting iteration 14 of 20 (\u001b[1mbase.py\u001b[0m:381)\n"
     ]
    },
    {
     "name": "stdout",
     "output_type": "stream",
     "text": [
      "[\u001b[1mtardis.simulation.base\u001b[0m][\u001b[1;37mINFO\u001b[0m   ]  \n",
      "\t\n",
      "\tLuminosity emitted   = 1.063e+43 erg / s\n",
      "\tLuminosity absorbed  = 3.369e+42 erg / s\n",
      "\tLuminosity requested = 1.059e+43 erg / s\n",
      " (\u001b[1mbase.py\u001b[0m:555)\n"
     ]
    },
    {
     "name": "stdout",
     "output_type": "stream",
     "text": [
      "[\u001b[1mtardis.simulation.base\u001b[0m][\u001b[1;37mINFO\u001b[0m   ]  \n",
      "\tIteration converged 2/4 consecutive times. (\u001b[1mbase.py\u001b[0m:262)\n"
     ]
    },
    {
     "name": "stdout",
     "output_type": "stream",
     "text": [
      "[\u001b[1mtardis.simulation.base\u001b[0m][\u001b[1;37mINFO\u001b[0m   ]  \n",
      "\t\n",
      "\tPlasma stratification: (\u001b[1mbase.py\u001b[0m:523)\n"
     ]
    },
    {
     "data": {
      "text/html": [
       "<style  type=\"text/css\" >\n",
       "</style><table id=\"T_f8ee5f1a_78eb_11ed_931f_6045bd7a5bca\" ><thead>    <tr>        <th class=\"index_name level0\" >Shell No.</th>        <th class=\"col_heading level0 col0\" >t_rad</th>        <th class=\"col_heading level0 col1\" >next_t_rad</th>        <th class=\"col_heading level0 col2\" >w</th>        <th class=\"col_heading level0 col3\" >next_w</th>    </tr></thead><tbody>\n",
       "                <tr>\n",
       "                        <th id=\"T_f8ee5f1a_78eb_11ed_931f_6045bd7a5bcalevel0_row0\" class=\"row_heading level0 row0\" >0</th>\n",
       "                        <td id=\"T_f8ee5f1a_78eb_11ed_931f_6045bd7a5bcarow0_col0\" class=\"data row0 col0\" >1.11e+04</td>\n",
       "                        <td id=\"T_f8ee5f1a_78eb_11ed_931f_6045bd7a5bcarow0_col1\" class=\"data row0 col1\" >1.11e+04</td>\n",
       "                        <td id=\"T_f8ee5f1a_78eb_11ed_931f_6045bd7a5bcarow0_col2\" class=\"data row0 col2\" >0.466</td>\n",
       "                        <td id=\"T_f8ee5f1a_78eb_11ed_931f_6045bd7a5bcarow0_col3\" class=\"data row0 col3\" >0.469</td>\n",
       "            </tr>\n",
       "            <tr>\n",
       "                        <th id=\"T_f8ee5f1a_78eb_11ed_931f_6045bd7a5bcalevel0_row1\" class=\"row_heading level0 row1\" >5</th>\n",
       "                        <td id=\"T_f8ee5f1a_78eb_11ed_931f_6045bd7a5bcarow1_col0\" class=\"data row1 col0\" >1.13e+04</td>\n",
       "                        <td id=\"T_f8ee5f1a_78eb_11ed_931f_6045bd7a5bcarow1_col1\" class=\"data row1 col1\" >1.13e+04</td>\n",
       "                        <td id=\"T_f8ee5f1a_78eb_11ed_931f_6045bd7a5bcarow1_col2\" class=\"data row1 col2\" >0.18</td>\n",
       "                        <td id=\"T_f8ee5f1a_78eb_11ed_931f_6045bd7a5bcarow1_col3\" class=\"data row1 col3\" >0.182</td>\n",
       "            </tr>\n",
       "            <tr>\n",
       "                        <th id=\"T_f8ee5f1a_78eb_11ed_931f_6045bd7a5bcalevel0_row2\" class=\"row_heading level0 row2\" >10</th>\n",
       "                        <td id=\"T_f8ee5f1a_78eb_11ed_931f_6045bd7a5bcarow2_col0\" class=\"data row2 col0\" >1.11e+04</td>\n",
       "                        <td id=\"T_f8ee5f1a_78eb_11ed_931f_6045bd7a5bcarow2_col1\" class=\"data row2 col1\" >1.1e+04</td>\n",
       "                        <td id=\"T_f8ee5f1a_78eb_11ed_931f_6045bd7a5bcarow2_col2\" class=\"data row2 col2\" >0.111</td>\n",
       "                        <td id=\"T_f8ee5f1a_78eb_11ed_931f_6045bd7a5bcarow2_col3\" class=\"data row2 col3\" >0.113</td>\n",
       "            </tr>\n",
       "            <tr>\n",
       "                        <th id=\"T_f8ee5f1a_78eb_11ed_931f_6045bd7a5bcalevel0_row3\" class=\"row_heading level0 row3\" >15</th>\n",
       "                        <td id=\"T_f8ee5f1a_78eb_11ed_931f_6045bd7a5bcarow3_col0\" class=\"data row3 col0\" >1.08e+04</td>\n",
       "                        <td id=\"T_f8ee5f1a_78eb_11ed_931f_6045bd7a5bcarow3_col1\" class=\"data row3 col1\" >1.07e+04</td>\n",
       "                        <td id=\"T_f8ee5f1a_78eb_11ed_931f_6045bd7a5bcarow3_col2\" class=\"data row3 col2\" >0.0841</td>\n",
       "                        <td id=\"T_f8ee5f1a_78eb_11ed_931f_6045bd7a5bcarow3_col3\" class=\"data row3 col3\" >0.0854</td>\n",
       "            </tr>\n",
       "    </tbody></table>"
      ],
      "text/plain": [
       "<pandas.io.formats.style.Styler at 0x7fc7710a9220>"
      ]
     },
     "metadata": {},
     "output_type": "display_data"
    },
    {
     "name": "stdout",
     "output_type": "stream",
     "text": [
      "[\u001b[1mtardis.simulation.base\u001b[0m][\u001b[1;37mINFO\u001b[0m   ]  \n",
      "\t\n",
      "\tCurrent t_inner = 10647.277 K\n",
      "\tExpected t_inner for next iteration = 10638.875 K\n",
      " (\u001b[1mbase.py\u001b[0m:550)\n"
     ]
    },
    {
     "name": "stdout",
     "output_type": "stream",
     "text": [
      "[\u001b[1mtardis.simulation.base\u001b[0m][\u001b[1;37mINFO\u001b[0m   ]  \n",
      "\t\n",
      "\tStarting iteration 15 of 20 (\u001b[1mbase.py\u001b[0m:381)\n"
     ]
    },
    {
     "name": "stdout",
     "output_type": "stream",
     "text": [
      "[\u001b[1mtardis.simulation.base\u001b[0m][\u001b[1;37mINFO\u001b[0m   ]  \n",
      "\t\n",
      "\tLuminosity emitted   = 1.053e+43 erg / s\n",
      "\tLuminosity absorbed  = 3.417e+42 erg / s\n",
      "\tLuminosity requested = 1.059e+43 erg / s\n",
      " (\u001b[1mbase.py\u001b[0m:555)\n"
     ]
    },
    {
     "name": "stdout",
     "output_type": "stream",
     "text": [
      "[\u001b[1mtardis.simulation.base\u001b[0m][\u001b[1;37mINFO\u001b[0m   ]  \n",
      "\tIteration converged 3/4 consecutive times. (\u001b[1mbase.py\u001b[0m:262)\n"
     ]
    },
    {
     "name": "stdout",
     "output_type": "stream",
     "text": [
      "[\u001b[1mtardis.simulation.base\u001b[0m][\u001b[1;37mINFO\u001b[0m   ]  \n",
      "\t\n",
      "\tPlasma stratification: (\u001b[1mbase.py\u001b[0m:523)\n"
     ]
    },
    {
     "data": {
      "text/html": [
       "<style  type=\"text/css\" >\n",
       "</style><table id=\"T_f9645166_78eb_11ed_931f_6045bd7a5bca\" ><thead>    <tr>        <th class=\"index_name level0\" >Shell No.</th>        <th class=\"col_heading level0 col0\" >t_rad</th>        <th class=\"col_heading level0 col1\" >next_t_rad</th>        <th class=\"col_heading level0 col2\" >w</th>        <th class=\"col_heading level0 col3\" >next_w</th>    </tr></thead><tbody>\n",
       "                <tr>\n",
       "                        <th id=\"T_f9645166_78eb_11ed_931f_6045bd7a5bcalevel0_row0\" class=\"row_heading level0 row0\" >0</th>\n",
       "                        <td id=\"T_f9645166_78eb_11ed_931f_6045bd7a5bcarow0_col0\" class=\"data row0 col0\" >1.11e+04</td>\n",
       "                        <td id=\"T_f9645166_78eb_11ed_931f_6045bd7a5bcarow0_col1\" class=\"data row0 col1\" >1.1e+04</td>\n",
       "                        <td id=\"T_f9645166_78eb_11ed_931f_6045bd7a5bcarow0_col2\" class=\"data row0 col2\" >0.469</td>\n",
       "                        <td id=\"T_f9645166_78eb_11ed_931f_6045bd7a5bcarow0_col3\" class=\"data row0 col3\" >0.484</td>\n",
       "            </tr>\n",
       "            <tr>\n",
       "                        <th id=\"T_f9645166_78eb_11ed_931f_6045bd7a5bcalevel0_row1\" class=\"row_heading level0 row1\" >5</th>\n",
       "                        <td id=\"T_f9645166_78eb_11ed_931f_6045bd7a5bcarow1_col0\" class=\"data row1 col0\" >1.13e+04</td>\n",
       "                        <td id=\"T_f9645166_78eb_11ed_931f_6045bd7a5bcarow1_col1\" class=\"data row1 col1\" >1.13e+04</td>\n",
       "                        <td id=\"T_f9645166_78eb_11ed_931f_6045bd7a5bcarow1_col2\" class=\"data row1 col2\" >0.182</td>\n",
       "                        <td id=\"T_f9645166_78eb_11ed_931f_6045bd7a5bcarow1_col3\" class=\"data row1 col3\" >0.181</td>\n",
       "            </tr>\n",
       "            <tr>\n",
       "                        <th id=\"T_f9645166_78eb_11ed_931f_6045bd7a5bcalevel0_row2\" class=\"row_heading level0 row2\" >10</th>\n",
       "                        <td id=\"T_f9645166_78eb_11ed_931f_6045bd7a5bcarow2_col0\" class=\"data row2 col0\" >1.1e+04</td>\n",
       "                        <td id=\"T_f9645166_78eb_11ed_931f_6045bd7a5bcarow2_col1\" class=\"data row2 col1\" >1.1e+04</td>\n",
       "                        <td id=\"T_f9645166_78eb_11ed_931f_6045bd7a5bcarow2_col2\" class=\"data row2 col2\" >0.113</td>\n",
       "                        <td id=\"T_f9645166_78eb_11ed_931f_6045bd7a5bcarow2_col3\" class=\"data row2 col3\" >0.113</td>\n",
       "            </tr>\n",
       "            <tr>\n",
       "                        <th id=\"T_f9645166_78eb_11ed_931f_6045bd7a5bcalevel0_row3\" class=\"row_heading level0 row3\" >15</th>\n",
       "                        <td id=\"T_f9645166_78eb_11ed_931f_6045bd7a5bcarow3_col0\" class=\"data row3 col0\" >1.07e+04</td>\n",
       "                        <td id=\"T_f9645166_78eb_11ed_931f_6045bd7a5bcarow3_col1\" class=\"data row3 col1\" >1.07e+04</td>\n",
       "                        <td id=\"T_f9645166_78eb_11ed_931f_6045bd7a5bcarow3_col2\" class=\"data row3 col2\" >0.0854</td>\n",
       "                        <td id=\"T_f9645166_78eb_11ed_931f_6045bd7a5bcarow3_col3\" class=\"data row3 col3\" >0.0858</td>\n",
       "            </tr>\n",
       "    </tbody></table>"
      ],
      "text/plain": [
       "<pandas.io.formats.style.Styler at 0x7fc771045c40>"
      ]
     },
     "metadata": {},
     "output_type": "display_data"
    },
    {
     "name": "stdout",
     "output_type": "stream",
     "text": [
      "[\u001b[1mtardis.simulation.base\u001b[0m][\u001b[1;37mINFO\u001b[0m   ]  \n",
      "\t\n",
      "\tCurrent t_inner = 10638.875 K\n",
      "\tExpected t_inner for next iteration = 10655.125 K\n",
      " (\u001b[1mbase.py\u001b[0m:550)\n"
     ]
    },
    {
     "name": "stdout",
     "output_type": "stream",
     "text": [
      "[\u001b[1mtardis.simulation.base\u001b[0m][\u001b[1;37mINFO\u001b[0m   ]  \n",
      "\t\n",
      "\tStarting iteration 16 of 20 (\u001b[1mbase.py\u001b[0m:381)\n"
     ]
    },
    {
     "name": "stdout",
     "output_type": "stream",
     "text": [
      "[\u001b[1mtardis.simulation.base\u001b[0m][\u001b[1;37mINFO\u001b[0m   ]  \n",
      "\t\n",
      "\tLuminosity emitted   = 1.059e+43 erg / s\n",
      "\tLuminosity absorbed  = 3.445e+42 erg / s\n",
      "\tLuminosity requested = 1.059e+43 erg / s\n",
      " (\u001b[1mbase.py\u001b[0m:555)\n"
     ]
    },
    {
     "name": "stdout",
     "output_type": "stream",
     "text": [
      "[\u001b[1mtardis.simulation.base\u001b[0m][\u001b[1;37mINFO\u001b[0m   ]  \n",
      "\tIteration converged 4/4 consecutive times. (\u001b[1mbase.py\u001b[0m:262)\n"
     ]
    },
    {
     "name": "stdout",
     "output_type": "stream",
     "text": [
      "[\u001b[1mtardis.simulation.base\u001b[0m][\u001b[1;37mINFO\u001b[0m   ]  \n",
      "\t\n",
      "\tPlasma stratification: (\u001b[1mbase.py\u001b[0m:523)\n"
     ]
    },
    {
     "data": {
      "text/html": [
       "<style  type=\"text/css\" >\n",
       "</style><table id=\"T_f9dbaa9a_78eb_11ed_931f_6045bd7a5bca\" ><thead>    <tr>        <th class=\"index_name level0\" >Shell No.</th>        <th class=\"col_heading level0 col0\" >t_rad</th>        <th class=\"col_heading level0 col1\" >next_t_rad</th>        <th class=\"col_heading level0 col2\" >w</th>        <th class=\"col_heading level0 col3\" >next_w</th>    </tr></thead><tbody>\n",
       "                <tr>\n",
       "                        <th id=\"T_f9dbaa9a_78eb_11ed_931f_6045bd7a5bcalevel0_row0\" class=\"row_heading level0 row0\" >0</th>\n",
       "                        <td id=\"T_f9dbaa9a_78eb_11ed_931f_6045bd7a5bcarow0_col0\" class=\"data row0 col0\" >1.1e+04</td>\n",
       "                        <td id=\"T_f9dbaa9a_78eb_11ed_931f_6045bd7a5bcarow0_col1\" class=\"data row0 col1\" >1.1e+04</td>\n",
       "                        <td id=\"T_f9dbaa9a_78eb_11ed_931f_6045bd7a5bcarow0_col2\" class=\"data row0 col2\" >0.484</td>\n",
       "                        <td id=\"T_f9dbaa9a_78eb_11ed_931f_6045bd7a5bcarow0_col3\" class=\"data row0 col3\" >0.472</td>\n",
       "            </tr>\n",
       "            <tr>\n",
       "                        <th id=\"T_f9dbaa9a_78eb_11ed_931f_6045bd7a5bcalevel0_row1\" class=\"row_heading level0 row1\" >5</th>\n",
       "                        <td id=\"T_f9dbaa9a_78eb_11ed_931f_6045bd7a5bcarow1_col0\" class=\"data row1 col0\" >1.13e+04</td>\n",
       "                        <td id=\"T_f9dbaa9a_78eb_11ed_931f_6045bd7a5bcarow1_col1\" class=\"data row1 col1\" >1.13e+04</td>\n",
       "                        <td id=\"T_f9dbaa9a_78eb_11ed_931f_6045bd7a5bcarow1_col2\" class=\"data row1 col2\" >0.181</td>\n",
       "                        <td id=\"T_f9dbaa9a_78eb_11ed_931f_6045bd7a5bcarow1_col3\" class=\"data row1 col3\" >0.177</td>\n",
       "            </tr>\n",
       "            <tr>\n",
       "                        <th id=\"T_f9dbaa9a_78eb_11ed_931f_6045bd7a5bcalevel0_row2\" class=\"row_heading level0 row2\" >10</th>\n",
       "                        <td id=\"T_f9dbaa9a_78eb_11ed_931f_6045bd7a5bcarow2_col0\" class=\"data row2 col0\" >1.1e+04</td>\n",
       "                        <td id=\"T_f9dbaa9a_78eb_11ed_931f_6045bd7a5bcarow2_col1\" class=\"data row2 col1\" >1.1e+04</td>\n",
       "                        <td id=\"T_f9dbaa9a_78eb_11ed_931f_6045bd7a5bcarow2_col2\" class=\"data row2 col2\" >0.113</td>\n",
       "                        <td id=\"T_f9dbaa9a_78eb_11ed_931f_6045bd7a5bcarow2_col3\" class=\"data row2 col3\" >0.113</td>\n",
       "            </tr>\n",
       "            <tr>\n",
       "                        <th id=\"T_f9dbaa9a_78eb_11ed_931f_6045bd7a5bcalevel0_row3\" class=\"row_heading level0 row3\" >15</th>\n",
       "                        <td id=\"T_f9dbaa9a_78eb_11ed_931f_6045bd7a5bcarow3_col0\" class=\"data row3 col0\" >1.07e+04</td>\n",
       "                        <td id=\"T_f9dbaa9a_78eb_11ed_931f_6045bd7a5bcarow3_col1\" class=\"data row3 col1\" >1.06e+04</td>\n",
       "                        <td id=\"T_f9dbaa9a_78eb_11ed_931f_6045bd7a5bcarow3_col2\" class=\"data row3 col2\" >0.0858</td>\n",
       "                        <td id=\"T_f9dbaa9a_78eb_11ed_931f_6045bd7a5bcarow3_col3\" class=\"data row3 col3\" >0.0858</td>\n",
       "            </tr>\n",
       "    </tbody></table>"
      ],
      "text/plain": [
       "<pandas.io.formats.style.Styler at 0x7fc7710162e0>"
      ]
     },
     "metadata": {},
     "output_type": "display_data"
    },
    {
     "name": "stdout",
     "output_type": "stream",
     "text": [
      "[\u001b[1mtardis.simulation.base\u001b[0m][\u001b[1;37mINFO\u001b[0m   ]  \n",
      "\t\n",
      "\tCurrent t_inner = 10655.125 K\n",
      "\tExpected t_inner for next iteration = 10655.561 K\n",
      " (\u001b[1mbase.py\u001b[0m:550)\n"
     ]
    },
    {
     "name": "stdout",
     "output_type": "stream",
     "text": [
      "[\u001b[1mtardis.simulation.base\u001b[0m][\u001b[1;37mINFO\u001b[0m   ]  \n",
      "\t\n",
      "\tStarting iteration 17 of 20 (\u001b[1mbase.py\u001b[0m:381)\n"
     ]
    },
    {
     "name": "stdout",
     "output_type": "stream",
     "text": [
      "[\u001b[1mtardis.simulation.base\u001b[0m][\u001b[1;37mINFO\u001b[0m   ]  \n",
      "\t\n",
      "\tLuminosity emitted   = 1.067e+43 erg / s\n",
      "\tLuminosity absorbed  = 3.372e+42 erg / s\n",
      "\tLuminosity requested = 1.059e+43 erg / s\n",
      " (\u001b[1mbase.py\u001b[0m:555)\n"
     ]
    },
    {
     "name": "stdout",
     "output_type": "stream",
     "text": [
      "[\u001b[1mtardis.simulation.base\u001b[0m][\u001b[1;37mINFO\u001b[0m   ]  \n",
      "\t\n",
      "\tPlasma stratification: (\u001b[1mbase.py\u001b[0m:523)\n"
     ]
    },
    {
     "data": {
      "text/html": [
       "<style  type=\"text/css\" >\n",
       "</style><table id=\"T_fa51bda2_78eb_11ed_931f_6045bd7a5bca\" ><thead>    <tr>        <th class=\"index_name level0\" >Shell No.</th>        <th class=\"col_heading level0 col0\" >t_rad</th>        <th class=\"col_heading level0 col1\" >next_t_rad</th>        <th class=\"col_heading level0 col2\" >w</th>        <th class=\"col_heading level0 col3\" >next_w</th>    </tr></thead><tbody>\n",
       "                <tr>\n",
       "                        <th id=\"T_fa51bda2_78eb_11ed_931f_6045bd7a5bcalevel0_row0\" class=\"row_heading level0 row0\" >0</th>\n",
       "                        <td id=\"T_fa51bda2_78eb_11ed_931f_6045bd7a5bcarow0_col0\" class=\"data row0 col0\" >1.1e+04</td>\n",
       "                        <td id=\"T_fa51bda2_78eb_11ed_931f_6045bd7a5bcarow0_col1\" class=\"data row0 col1\" >1.11e+04</td>\n",
       "                        <td id=\"T_fa51bda2_78eb_11ed_931f_6045bd7a5bcarow0_col2\" class=\"data row0 col2\" >0.472</td>\n",
       "                        <td id=\"T_fa51bda2_78eb_11ed_931f_6045bd7a5bcarow0_col3\" class=\"data row0 col3\" >0.468</td>\n",
       "            </tr>\n",
       "            <tr>\n",
       "                        <th id=\"T_fa51bda2_78eb_11ed_931f_6045bd7a5bcalevel0_row1\" class=\"row_heading level0 row1\" >5</th>\n",
       "                        <td id=\"T_fa51bda2_78eb_11ed_931f_6045bd7a5bcarow1_col0\" class=\"data row1 col0\" >1.13e+04</td>\n",
       "                        <td id=\"T_fa51bda2_78eb_11ed_931f_6045bd7a5bcarow1_col1\" class=\"data row1 col1\" >1.14e+04</td>\n",
       "                        <td id=\"T_fa51bda2_78eb_11ed_931f_6045bd7a5bcarow1_col2\" class=\"data row1 col2\" >0.177</td>\n",
       "                        <td id=\"T_fa51bda2_78eb_11ed_931f_6045bd7a5bcarow1_col3\" class=\"data row1 col3\" >0.175</td>\n",
       "            </tr>\n",
       "            <tr>\n",
       "                        <th id=\"T_fa51bda2_78eb_11ed_931f_6045bd7a5bcalevel0_row2\" class=\"row_heading level0 row2\" >10</th>\n",
       "                        <td id=\"T_fa51bda2_78eb_11ed_931f_6045bd7a5bcarow2_col0\" class=\"data row2 col0\" >1.1e+04</td>\n",
       "                        <td id=\"T_fa51bda2_78eb_11ed_931f_6045bd7a5bcarow2_col1\" class=\"data row2 col1\" >1.11e+04</td>\n",
       "                        <td id=\"T_fa51bda2_78eb_11ed_931f_6045bd7a5bcarow2_col2\" class=\"data row2 col2\" >0.113</td>\n",
       "                        <td id=\"T_fa51bda2_78eb_11ed_931f_6045bd7a5bcarow2_col3\" class=\"data row2 col3\" >0.11</td>\n",
       "            </tr>\n",
       "            <tr>\n",
       "                        <th id=\"T_fa51bda2_78eb_11ed_931f_6045bd7a5bcalevel0_row3\" class=\"row_heading level0 row3\" >15</th>\n",
       "                        <td id=\"T_fa51bda2_78eb_11ed_931f_6045bd7a5bcarow3_col0\" class=\"data row3 col0\" >1.06e+04</td>\n",
       "                        <td id=\"T_fa51bda2_78eb_11ed_931f_6045bd7a5bcarow3_col1\" class=\"data row3 col1\" >1.08e+04</td>\n",
       "                        <td id=\"T_fa51bda2_78eb_11ed_931f_6045bd7a5bcarow3_col2\" class=\"data row3 col2\" >0.0858</td>\n",
       "                        <td id=\"T_fa51bda2_78eb_11ed_931f_6045bd7a5bcarow3_col3\" class=\"data row3 col3\" >0.0816</td>\n",
       "            </tr>\n",
       "    </tbody></table>"
      ],
      "text/plain": [
       "<pandas.io.formats.style.Styler at 0x7fc771016100>"
      ]
     },
     "metadata": {},
     "output_type": "display_data"
    },
    {
     "name": "stdout",
     "output_type": "stream",
     "text": [
      "[\u001b[1mtardis.simulation.base\u001b[0m][\u001b[1;37mINFO\u001b[0m   ]  \n",
      "\t\n",
      "\tCurrent t_inner = 10655.561 K\n",
      "\tExpected t_inner for next iteration = 10636.536 K\n",
      " (\u001b[1mbase.py\u001b[0m:550)\n"
     ]
    },
    {
     "name": "stdout",
     "output_type": "stream",
     "text": [
      "[\u001b[1mtardis.simulation.base\u001b[0m][\u001b[1;37mINFO\u001b[0m   ]  \n",
      "\t\n",
      "\tStarting iteration 18 of 20 (\u001b[1mbase.py\u001b[0m:381)\n"
     ]
    },
    {
     "name": "stdout",
     "output_type": "stream",
     "text": [
      "[\u001b[1mtardis.simulation.base\u001b[0m][\u001b[1;37mINFO\u001b[0m   ]  \n",
      "\t\n",
      "\tLuminosity emitted   = 1.057e+43 erg / s\n",
      "\tLuminosity absorbed  = 3.365e+42 erg / s\n",
      "\tLuminosity requested = 1.059e+43 erg / s\n",
      " (\u001b[1mbase.py\u001b[0m:555)\n"
     ]
    },
    {
     "name": "stdout",
     "output_type": "stream",
     "text": [
      "[\u001b[1mtardis.simulation.base\u001b[0m][\u001b[1;37mINFO\u001b[0m   ]  \n",
      "\tIteration converged 1/4 consecutive times. (\u001b[1mbase.py\u001b[0m:262)\n"
     ]
    },
    {
     "name": "stdout",
     "output_type": "stream",
     "text": [
      "[\u001b[1mtardis.simulation.base\u001b[0m][\u001b[1;37mINFO\u001b[0m   ]  \n",
      "\t\n",
      "\tPlasma stratification: (\u001b[1mbase.py\u001b[0m:523)\n"
     ]
    },
    {
     "data": {
      "text/html": [
       "<style  type=\"text/css\" >\n",
       "</style><table id=\"T_fac8d860_78eb_11ed_931f_6045bd7a5bca\" ><thead>    <tr>        <th class=\"index_name level0\" >Shell No.</th>        <th class=\"col_heading level0 col0\" >t_rad</th>        <th class=\"col_heading level0 col1\" >next_t_rad</th>        <th class=\"col_heading level0 col2\" >w</th>        <th class=\"col_heading level0 col3\" >next_w</th>    </tr></thead><tbody>\n",
       "                <tr>\n",
       "                        <th id=\"T_fac8d860_78eb_11ed_931f_6045bd7a5bcalevel0_row0\" class=\"row_heading level0 row0\" >0</th>\n",
       "                        <td id=\"T_fac8d860_78eb_11ed_931f_6045bd7a5bcarow0_col0\" class=\"data row0 col0\" >1.11e+04</td>\n",
       "                        <td id=\"T_fac8d860_78eb_11ed_931f_6045bd7a5bcarow0_col1\" class=\"data row0 col1\" >1.11e+04</td>\n",
       "                        <td id=\"T_fac8d860_78eb_11ed_931f_6045bd7a5bcarow0_col2\" class=\"data row0 col2\" >0.468</td>\n",
       "                        <td id=\"T_fac8d860_78eb_11ed_931f_6045bd7a5bcarow0_col3\" class=\"data row0 col3\" >0.464</td>\n",
       "            </tr>\n",
       "            <tr>\n",
       "                        <th id=\"T_fac8d860_78eb_11ed_931f_6045bd7a5bcalevel0_row1\" class=\"row_heading level0 row1\" >5</th>\n",
       "                        <td id=\"T_fac8d860_78eb_11ed_931f_6045bd7a5bcarow1_col0\" class=\"data row1 col0\" >1.14e+04</td>\n",
       "                        <td id=\"T_fac8d860_78eb_11ed_931f_6045bd7a5bcarow1_col1\" class=\"data row1 col1\" >1.13e+04</td>\n",
       "                        <td id=\"T_fac8d860_78eb_11ed_931f_6045bd7a5bcarow1_col2\" class=\"data row1 col2\" >0.175</td>\n",
       "                        <td id=\"T_fac8d860_78eb_11ed_931f_6045bd7a5bcarow1_col3\" class=\"data row1 col3\" >0.177</td>\n",
       "            </tr>\n",
       "            <tr>\n",
       "                        <th id=\"T_fac8d860_78eb_11ed_931f_6045bd7a5bcalevel0_row2\" class=\"row_heading level0 row2\" >10</th>\n",
       "                        <td id=\"T_fac8d860_78eb_11ed_931f_6045bd7a5bcarow2_col0\" class=\"data row2 col0\" >1.11e+04</td>\n",
       "                        <td id=\"T_fac8d860_78eb_11ed_931f_6045bd7a5bcarow2_col1\" class=\"data row2 col1\" >1.1e+04</td>\n",
       "                        <td id=\"T_fac8d860_78eb_11ed_931f_6045bd7a5bcarow2_col2\" class=\"data row2 col2\" >0.11</td>\n",
       "                        <td id=\"T_fac8d860_78eb_11ed_931f_6045bd7a5bcarow2_col3\" class=\"data row2 col3\" >0.113</td>\n",
       "            </tr>\n",
       "            <tr>\n",
       "                        <th id=\"T_fac8d860_78eb_11ed_931f_6045bd7a5bcalevel0_row3\" class=\"row_heading level0 row3\" >15</th>\n",
       "                        <td id=\"T_fac8d860_78eb_11ed_931f_6045bd7a5bcarow3_col0\" class=\"data row3 col0\" >1.08e+04</td>\n",
       "                        <td id=\"T_fac8d860_78eb_11ed_931f_6045bd7a5bcarow3_col1\" class=\"data row3 col1\" >1.07e+04</td>\n",
       "                        <td id=\"T_fac8d860_78eb_11ed_931f_6045bd7a5bcarow3_col2\" class=\"data row3 col2\" >0.0816</td>\n",
       "                        <td id=\"T_fac8d860_78eb_11ed_931f_6045bd7a5bcarow3_col3\" class=\"data row3 col3\" >0.0848</td>\n",
       "            </tr>\n",
       "    </tbody></table>"
      ],
      "text/plain": [
       "<pandas.io.formats.style.Styler at 0x7fc7710452b0>"
      ]
     },
     "metadata": {},
     "output_type": "display_data"
    },
    {
     "name": "stdout",
     "output_type": "stream",
     "text": [
      "[\u001b[1mtardis.simulation.base\u001b[0m][\u001b[1;37mINFO\u001b[0m   ]  \n",
      "\t\n",
      "\tCurrent t_inner = 10636.536 K\n",
      "\tExpected t_inner for next iteration = 10641.692 K\n",
      " (\u001b[1mbase.py\u001b[0m:550)\n"
     ]
    },
    {
     "name": "stdout",
     "output_type": "stream",
     "text": [
      "[\u001b[1mtardis.simulation.base\u001b[0m][\u001b[1;37mINFO\u001b[0m   ]  \n",
      "\t\n",
      "\tStarting iteration 19 of 20 (\u001b[1mbase.py\u001b[0m:381)\n"
     ]
    },
    {
     "name": "stdout",
     "output_type": "stream",
     "text": [
      "[\u001b[1mtardis.simulation.base\u001b[0m][\u001b[1;37mINFO\u001b[0m   ]  \n",
      "\t\n",
      "\tLuminosity emitted   = 1.056e+43 erg / s\n",
      "\tLuminosity absorbed  = 3.405e+42 erg / s\n",
      "\tLuminosity requested = 1.059e+43 erg / s\n",
      " (\u001b[1mbase.py\u001b[0m:555)\n"
     ]
    },
    {
     "name": "stdout",
     "output_type": "stream",
     "text": [
      "[\u001b[1mtardis.simulation.base\u001b[0m][\u001b[1;37mINFO\u001b[0m   ]  \n",
      "\tIteration converged 2/4 consecutive times. (\u001b[1mbase.py\u001b[0m:262)\n"
     ]
    },
    {
     "name": "stdout",
     "output_type": "stream",
     "text": [
      "[\u001b[1mtardis.simulation.base\u001b[0m][\u001b[1;37mINFO\u001b[0m   ]  \n",
      "\t\n",
      "\tPlasma stratification: (\u001b[1mbase.py\u001b[0m:523)\n"
     ]
    },
    {
     "data": {
      "text/html": [
       "<style  type=\"text/css\" >\n",
       "</style><table id=\"T_fb3e9fb4_78eb_11ed_931f_6045bd7a5bca\" ><thead>    <tr>        <th class=\"index_name level0\" >Shell No.</th>        <th class=\"col_heading level0 col0\" >t_rad</th>        <th class=\"col_heading level0 col1\" >next_t_rad</th>        <th class=\"col_heading level0 col2\" >w</th>        <th class=\"col_heading level0 col3\" >next_w</th>    </tr></thead><tbody>\n",
       "                <tr>\n",
       "                        <th id=\"T_fb3e9fb4_78eb_11ed_931f_6045bd7a5bcalevel0_row0\" class=\"row_heading level0 row0\" >0</th>\n",
       "                        <td id=\"T_fb3e9fb4_78eb_11ed_931f_6045bd7a5bcarow0_col0\" class=\"data row0 col0\" >1.11e+04</td>\n",
       "                        <td id=\"T_fb3e9fb4_78eb_11ed_931f_6045bd7a5bcarow0_col1\" class=\"data row0 col1\" >1.11e+04</td>\n",
       "                        <td id=\"T_fb3e9fb4_78eb_11ed_931f_6045bd7a5bcarow0_col2\" class=\"data row0 col2\" >0.464</td>\n",
       "                        <td id=\"T_fb3e9fb4_78eb_11ed_931f_6045bd7a5bcarow0_col3\" class=\"data row0 col3\" >0.466</td>\n",
       "            </tr>\n",
       "            <tr>\n",
       "                        <th id=\"T_fb3e9fb4_78eb_11ed_931f_6045bd7a5bcalevel0_row1\" class=\"row_heading level0 row1\" >5</th>\n",
       "                        <td id=\"T_fb3e9fb4_78eb_11ed_931f_6045bd7a5bcarow1_col0\" class=\"data row1 col0\" >1.13e+04</td>\n",
       "                        <td id=\"T_fb3e9fb4_78eb_11ed_931f_6045bd7a5bcarow1_col1\" class=\"data row1 col1\" >1.13e+04</td>\n",
       "                        <td id=\"T_fb3e9fb4_78eb_11ed_931f_6045bd7a5bcarow1_col2\" class=\"data row1 col2\" >0.177</td>\n",
       "                        <td id=\"T_fb3e9fb4_78eb_11ed_931f_6045bd7a5bcarow1_col3\" class=\"data row1 col3\" >0.177</td>\n",
       "            </tr>\n",
       "            <tr>\n",
       "                        <th id=\"T_fb3e9fb4_78eb_11ed_931f_6045bd7a5bcalevel0_row2\" class=\"row_heading level0 row2\" >10</th>\n",
       "                        <td id=\"T_fb3e9fb4_78eb_11ed_931f_6045bd7a5bcarow2_col0\" class=\"data row2 col0\" >1.1e+04</td>\n",
       "                        <td id=\"T_fb3e9fb4_78eb_11ed_931f_6045bd7a5bcarow2_col1\" class=\"data row2 col1\" >1.11e+04</td>\n",
       "                        <td id=\"T_fb3e9fb4_78eb_11ed_931f_6045bd7a5bcarow2_col2\" class=\"data row2 col2\" >0.113</td>\n",
       "                        <td id=\"T_fb3e9fb4_78eb_11ed_931f_6045bd7a5bcarow2_col3\" class=\"data row2 col3\" >0.111</td>\n",
       "            </tr>\n",
       "            <tr>\n",
       "                        <th id=\"T_fb3e9fb4_78eb_11ed_931f_6045bd7a5bcalevel0_row3\" class=\"row_heading level0 row3\" >15</th>\n",
       "                        <td id=\"T_fb3e9fb4_78eb_11ed_931f_6045bd7a5bcarow3_col0\" class=\"data row3 col0\" >1.07e+04</td>\n",
       "                        <td id=\"T_fb3e9fb4_78eb_11ed_931f_6045bd7a5bcarow3_col1\" class=\"data row3 col1\" >1.07e+04</td>\n",
       "                        <td id=\"T_fb3e9fb4_78eb_11ed_931f_6045bd7a5bcarow3_col2\" class=\"data row3 col2\" >0.0848</td>\n",
       "                        <td id=\"T_fb3e9fb4_78eb_11ed_931f_6045bd7a5bcarow3_col3\" class=\"data row3 col3\" >0.0853</td>\n",
       "            </tr>\n",
       "    </tbody></table>"
      ],
      "text/plain": [
       "<pandas.io.formats.style.Styler at 0x7fc77101dbb0>"
      ]
     },
     "metadata": {},
     "output_type": "display_data"
    },
    {
     "name": "stdout",
     "output_type": "stream",
     "text": [
      "[\u001b[1mtardis.simulation.base\u001b[0m][\u001b[1;37mINFO\u001b[0m   ]  \n",
      "\t\n",
      "\tCurrent t_inner = 10641.692 K\n",
      "\tExpected t_inner for next iteration = 10650.463 K\n",
      " (\u001b[1mbase.py\u001b[0m:550)\n"
     ]
    },
    {
     "name": "stdout",
     "output_type": "stream",
     "text": [
      "[\u001b[1mtardis.simulation.base\u001b[0m][\u001b[1;37mINFO\u001b[0m   ]  \n",
      "\t\n",
      "\tStarting iteration 20 of 20 (\u001b[1mbase.py\u001b[0m:381)\n"
     ]
    },
    {
     "name": "stdout",
     "output_type": "stream",
     "text": [
      "[\u001b[1mtardis.simulation.base\u001b[0m][\u001b[1;37mINFO\u001b[0m   ]  \n",
      "\t\n",
      "\tLuminosity emitted   = 1.061e+43 erg / s\n",
      "\tLuminosity absorbed  = 3.401e+42 erg / s\n",
      "\tLuminosity requested = 1.059e+43 erg / s\n",
      " (\u001b[1mbase.py\u001b[0m:555)\n"
     ]
    },
    {
     "name": "stdout",
     "output_type": "stream",
     "text": [
      "[\u001b[1mtardis.simulation.base\u001b[0m][\u001b[1;37mINFO\u001b[0m   ]  \n",
      "\t\n",
      "\tSimulation finished in 20 iterations \n",
      "\tSimulation took 50.11 s\n",
      " (\u001b[1mbase.py\u001b[0m:476)\n"
     ]
    }
   ],
   "source": [
    "# Running the simulation from the config\n",
    "\n",
    "sim = run_tardis(config, show_convergence_plots=False, show_progress_bars=False)"
   ]
  },
  {
   "cell_type": "markdown",
   "id": "532bfafc",
   "metadata": {},
   "source": [
    "Now, the `tracked` properties can be accessed via the `rpacket_tracker` attribute of the `sim.runner` object. "
   ]
  },
  {
   "cell_type": "code",
   "execution_count": 8,
   "id": "f8b3424f",
   "metadata": {
    "execution": {
     "iopub.execute_input": "2022-12-11T00:37:34.871226Z",
     "iopub.status.busy": "2022-12-11T00:37:34.870705Z",
     "iopub.status.idle": "2022-12-11T00:37:34.876589Z",
     "shell.execute_reply": "2022-12-11T00:37:34.876071Z"
    }
   },
   "outputs": [
    {
     "data": {
      "text/plain": [
       "numba.typed.typedlist.List"
      ]
     },
     "execution_count": 8,
     "metadata": {},
     "output_type": "execute_result"
    }
   ],
   "source": [
    "type(sim.runner.rpacket_tracker)"
   ]
  },
  {
   "cell_type": "markdown",
   "id": "4771d92a",
   "metadata": {},
   "source": [
    "It can be seen from the above code, that the `sim.runner.rpacket_tracker` is an instance of the `List` specifically *Numba Typed List*. The `RPacketCollection` class has the following structure for the properties : {More information in the **TARDIS API** for `RPacketCollection` class}"
   ]
  },
  {
   "cell_type": "markdown",
   "id": "ce587807",
   "metadata": {},
   "source": [
    "```python\n",
    "# Basic structure for the RPacketCollection Class\n",
    "class RPacketCollection:\n",
    "   # Properties\n",
    "    index\n",
    "    seed\n",
    "    status\n",
    "    r\n",
    "    nu\n",
    "    mu\n",
    "    energy\n",
    "    shell_id\n",
    "    interaction_type\n",
    "```"
   ]
  },
  {
   "cell_type": "code",
   "execution_count": 9,
   "id": "a3ea2f54",
   "metadata": {
    "execution": {
     "iopub.execute_input": "2022-12-11T00:37:34.879070Z",
     "iopub.status.busy": "2022-12-11T00:37:34.878870Z",
     "iopub.status.idle": "2022-12-11T00:37:34.883310Z",
     "shell.execute_reply": "2022-12-11T00:37:34.882741Z"
    }
   },
   "outputs": [
    {
     "data": {
      "text/plain": [
       "100000"
      ]
     },
     "execution_count": 9,
     "metadata": {},
     "output_type": "execute_result"
    }
   ],
   "source": [
    "len(sim.runner.rpacket_tracker)"
   ]
  },
  {
   "cell_type": "markdown",
   "id": "0f8566f4",
   "metadata": {},
   "source": [
    "### Accessing properties through `rpacket_tracker`"
   ]
  },
  {
   "cell_type": "markdown",
   "id": "411f2ef9",
   "metadata": {},
   "source": [
    "To access these different properties, we may consider the following examples for the `rpacket_tracker`:\n",
    "<br>In this Example, we are trying to access the properties of the packet at index `10`.<br>In a similar way, we can check for any property for any packet in the range of packets for the last iteration."
   ]
  },
  {
   "cell_type": "markdown",
   "id": "a4772b00",
   "metadata": {},
   "source": [
    "#### Accessing the `index` property for the packet with index = 10 :"
   ]
  },
  {
   "cell_type": "code",
   "execution_count": 10,
   "id": "de7b8877",
   "metadata": {
    "execution": {
     "iopub.execute_input": "2022-12-11T00:37:34.885849Z",
     "iopub.status.busy": "2022-12-11T00:37:34.885524Z",
     "iopub.status.idle": "2022-12-11T00:37:34.889292Z",
     "shell.execute_reply": "2022-12-11T00:37:34.888747Z"
    }
   },
   "outputs": [
    {
     "data": {
      "text/plain": [
       "10"
      ]
     },
     "execution_count": 10,
     "metadata": {},
     "output_type": "execute_result"
    }
   ],
   "source": [
    "sim.runner.rpacket_tracker[10].index"
   ]
  },
  {
   "cell_type": "markdown",
   "id": "d81fbbf7",
   "metadata": {},
   "source": [
    "#### Accessing the `seed` property for the packet with index = 10 :"
   ]
  },
  {
   "cell_type": "code",
   "execution_count": 11,
   "id": "39e2dbd2",
   "metadata": {
    "execution": {
     "iopub.execute_input": "2022-12-11T00:37:34.892179Z",
     "iopub.status.busy": "2022-12-11T00:37:34.891974Z",
     "iopub.status.idle": "2022-12-11T00:37:34.895801Z",
     "shell.execute_reply": "2022-12-11T00:37:34.895241Z"
    }
   },
   "outputs": [
    {
     "data": {
      "text/plain": [
       "2729103521"
      ]
     },
     "execution_count": 11,
     "metadata": {},
     "output_type": "execute_result"
    }
   ],
   "source": [
    "sim.runner.rpacket_tracker[10].seed"
   ]
  },
  {
   "cell_type": "markdown",
   "id": "7afe2110",
   "metadata": {},
   "source": [
    "#### Accessing the `status` property for the packet with index = 10 :"
   ]
  },
  {
   "cell_type": "code",
   "execution_count": 12,
   "id": "e82427ea",
   "metadata": {
    "execution": {
     "iopub.execute_input": "2022-12-11T00:37:34.898603Z",
     "iopub.status.busy": "2022-12-11T00:37:34.898410Z",
     "iopub.status.idle": "2022-12-11T00:37:34.902417Z",
     "shell.execute_reply": "2022-12-11T00:37:34.901849Z"
    }
   },
   "outputs": [
    {
     "data": {
      "text/plain": [
       "array([0, 0, 0, 0, 0, 0, 0, 0, 0, 0, 0, 0, 0, 0, 0, 0, 0, 0, 0, 0, 0, 0,\n",
       "       0, 0, 0, 0, 0, 0, 0, 0, 0, 0, 0, 0, 0, 0, 0, 0, 0, 0, 0, 0, 0, 0,\n",
       "       0, 0, 0, 0, 0, 0, 0, 0, 1])"
      ]
     },
     "execution_count": 12,
     "metadata": {},
     "output_type": "execute_result"
    }
   ],
   "source": [
    "sim.runner.rpacket_tracker[10].status"
   ]
  },
  {
   "cell_type": "markdown",
   "id": "ea308a55",
   "metadata": {},
   "source": [
    "Thus, all other properties (`r`, `nu`, `mu`, `energy`, `shell_id`,`interaction_type`) can be accessed accordingly."
   ]
  },
  {
   "cell_type": "markdown",
   "id": "c83dd906",
   "metadata": {},
   "source": [
    "We can also see the total number of interactions of index `10` packet under went, with the following example:"
   ]
  },
  {
   "cell_type": "code",
   "execution_count": 13,
   "id": "090b1517",
   "metadata": {
    "execution": {
     "iopub.execute_input": "2022-12-11T00:37:34.905246Z",
     "iopub.status.busy": "2022-12-11T00:37:34.905042Z",
     "iopub.status.idle": "2022-12-11T00:37:34.909068Z",
     "shell.execute_reply": "2022-12-11T00:37:34.908501Z"
    }
   },
   "outputs": [
    {
     "data": {
      "text/plain": [
       "53"
      ]
     },
     "execution_count": 13,
     "metadata": {},
     "output_type": "execute_result"
    }
   ],
   "source": [
    "len(sim.runner.rpacket_tracker[10].shell_id)"
   ]
  },
  {
   "cell_type": "markdown",
   "id": "9136fba1",
   "metadata": {},
   "source": [
    "<div class=\"alert alert-warning\">\n",
    "\n",
    "Warning\n",
    "\n",
    "If we  try to access `sim.runner.rpacket_tracker` property when we have the `track_rpacket` property in the `tracking` subsection of `montecarlo` config, turned off as follows `config[\"montecarlo\"][\"tracking\"][\"track_rpacket\"] = False`, it will return `None`.  Error will be raised if we try to access the properties i.e. `seed`, `index`, etc.\n",
    "</div>"
   ]
  },
  {
   "cell_type": "markdown",
   "id": "afa3c7f4",
   "metadata": {},
   "source": [
    "<div class=\"alert alert-info\">\n",
    "\n",
    "Note\n",
    "    \n",
    "When we initialise the `RPacketCollection()` class, the properties arrays {`index`, `seed`, `status`, etc} are allocated certain length based on the `initial_array_length` parameter that can be set via the `initial_array_length` property under `montecarlo -> tracking` section of the configuration. The default size of the array is `10`. This variable is important as the number of interactions a packet may have is variable, thus we need to allocate space dynamically. This variable is used to compute the size and expand the array such that the properties are able to hold these values for the packet interaction. Higher number, allocates more space initially leading to lesser times the arrays expands and vice versa. It can be set in the following manner `config[\"montecarlo\"][\"tracking\"][\"initial_array_length\"] = {value}`.\n",
    "</div>"
   ]
  },
  {
   "cell_type": "markdown",
   "id": "2da1215e",
   "metadata": {},
   "source": [
    "### Accessing properties with `rpacket_tracker_df`"
   ]
  },
  {
   "cell_type": "markdown",
   "id": "6eaee13d",
   "metadata": {},
   "source": [
    "Also, the `tracked` properties can be accessed via the `rpacket_tracker_df` attribute of the `sim.runner` object. "
   ]
  },
  {
   "cell_type": "code",
   "execution_count": 14,
   "id": "5fa074c2",
   "metadata": {
    "execution": {
     "iopub.execute_input": "2022-12-11T00:37:34.911888Z",
     "iopub.status.busy": "2022-12-11T00:37:34.911696Z",
     "iopub.status.idle": "2022-12-11T00:37:34.915275Z",
     "shell.execute_reply": "2022-12-11T00:37:34.914716Z"
    }
   },
   "outputs": [
    {
     "data": {
      "text/plain": [
       "pandas.core.frame.DataFrame"
      ]
     },
     "execution_count": 14,
     "metadata": {},
     "output_type": "execute_result"
    }
   ],
   "source": [
    "type(sim.runner.rpacket_tracker_df)"
   ]
  },
  {
   "cell_type": "markdown",
   "id": "9a39309b",
   "metadata": {},
   "source": [
    "Here, all the properties of the rpackets discussed above are stored as a `Pandas.Dataframe` object. This makes accessing the properties of any rpacket more convenient and in a more organized way."
   ]
  },
  {
   "cell_type": "markdown",
   "id": "93e78750",
   "metadata": {},
   "source": [
    "<html>\n",
    "    <body>\n",
    "        The Basic structure of the Dataframe is as follows:<br><br>\n",
    "        Index Columns:\n",
    "        <ol>\n",
    "            <li><b>index</b> - Indicates the index number of the packet.</li>\n",
    "            <li><b>step</b> - It is the step number that any particular packet is on, as it moves through the ejecta.</li>\n",
    "        </ol>\n",
    "        Properties:<br><br>\n",
    "        These following properties are present as columns in the Dataframe. These are the same properties that were present in the <b>rpacket_tracker</b>\n",
    "        <ol>\n",
    "            <li><b>status</b></li>\n",
    "            <li><b>seed</b></li>\n",
    "            <li><b>r</b></li>\n",
    "            <li><b>nu</b></li>\n",
    "            <li><b>mu</b></li>\n",
    "            <li><b>energy</b></li>\n",
    "            <li><b>shell_id</b></li>\n",
    "            <li><b>interaction_type</b></li>\n",
    "        </ol>\n",
    "    </body>\n",
    "</html>"
   ]
  },
  {
   "cell_type": "markdown",
   "id": "54dce761",
   "metadata": {},
   "source": [
    "The entire dataframe, containing all the properties mentioned above, can be fetched as:"
   ]
  },
  {
   "cell_type": "code",
   "execution_count": 15,
   "id": "0ec47b2f",
   "metadata": {
    "execution": {
     "iopub.execute_input": "2022-12-11T00:37:34.918334Z",
     "iopub.status.busy": "2022-12-11T00:37:34.918134Z",
     "iopub.status.idle": "2022-12-11T00:37:34.936150Z",
     "shell.execute_reply": "2022-12-11T00:37:34.935585Z"
    }
   },
   "outputs": [
    {
     "data": {
      "text/html": [
       "<div>\n",
       "<style scoped>\n",
       "    .dataframe tbody tr th:only-of-type {\n",
       "        vertical-align: middle;\n",
       "    }\n",
       "\n",
       "    .dataframe tbody tr th {\n",
       "        vertical-align: top;\n",
       "    }\n",
       "\n",
       "    .dataframe thead th {\n",
       "        text-align: right;\n",
       "    }\n",
       "</style>\n",
       "<table border=\"1\" class=\"dataframe\">\n",
       "  <thead>\n",
       "    <tr style=\"text-align: right;\">\n",
       "      <th></th>\n",
       "      <th></th>\n",
       "      <th>status</th>\n",
       "      <th>seed</th>\n",
       "      <th>r</th>\n",
       "      <th>nu</th>\n",
       "      <th>mu</th>\n",
       "      <th>energy</th>\n",
       "      <th>shell_id</th>\n",
       "      <th>interaction_type</th>\n",
       "    </tr>\n",
       "    <tr>\n",
       "      <th>index</th>\n",
       "      <th>step</th>\n",
       "      <th></th>\n",
       "      <th></th>\n",
       "      <th></th>\n",
       "      <th></th>\n",
       "      <th></th>\n",
       "      <th></th>\n",
       "      <th></th>\n",
       "      <th></th>\n",
       "    </tr>\n",
       "  </thead>\n",
       "  <tbody>\n",
       "    <tr>\n",
       "      <th rowspan=\"5\" valign=\"top\">0</th>\n",
       "      <th>0</th>\n",
       "      <td>0</td>\n",
       "      <td>3338016338</td>\n",
       "      <td>1.235520e+15</td>\n",
       "      <td>1.736483e+15</td>\n",
       "      <td>0.839765</td>\n",
       "      <td>0.00001</td>\n",
       "      <td>0</td>\n",
       "      <td>-1</td>\n",
       "    </tr>\n",
       "    <tr>\n",
       "      <th>1</th>\n",
       "      <td>0</td>\n",
       "      <td>3338016338</td>\n",
       "      <td>1.263676e+15</td>\n",
       "      <td>2.569811e+15</td>\n",
       "      <td>-0.608549</td>\n",
       "      <td>0.00001</td>\n",
       "      <td>0</td>\n",
       "      <td>2</td>\n",
       "    </tr>\n",
       "    <tr>\n",
       "      <th>2</th>\n",
       "      <td>0</td>\n",
       "      <td>3338016338</td>\n",
       "      <td>1.244956e+15</td>\n",
       "      <td>1.684571e+15</td>\n",
       "      <td>0.052209</td>\n",
       "      <td>0.00001</td>\n",
       "      <td>0</td>\n",
       "      <td>2</td>\n",
       "    </tr>\n",
       "    <tr>\n",
       "      <th>3</th>\n",
       "      <td>0</td>\n",
       "      <td>3338016338</td>\n",
       "      <td>1.245022e+15</td>\n",
       "      <td>1.682866e+15</td>\n",
       "      <td>0.025872</td>\n",
       "      <td>0.00001</td>\n",
       "      <td>0</td>\n",
       "      <td>2</td>\n",
       "    </tr>\n",
       "    <tr>\n",
       "      <th>4</th>\n",
       "      <td>0</td>\n",
       "      <td>3338016338</td>\n",
       "      <td>1.248276e+15</td>\n",
       "      <td>9.577869e+14</td>\n",
       "      <td>-0.281524</td>\n",
       "      <td>0.00001</td>\n",
       "      <td>0</td>\n",
       "      <td>2</td>\n",
       "    </tr>\n",
       "    <tr>\n",
       "      <th>...</th>\n",
       "      <th>...</th>\n",
       "      <td>...</td>\n",
       "      <td>...</td>\n",
       "      <td>...</td>\n",
       "      <td>...</td>\n",
       "      <td>...</td>\n",
       "      <td>...</td>\n",
       "      <td>...</td>\n",
       "      <td>...</td>\n",
       "    </tr>\n",
       "    <tr>\n",
       "      <th rowspan=\"5\" valign=\"top\">99999</th>\n",
       "      <th>17</th>\n",
       "      <td>0</td>\n",
       "      <td>864415001</td>\n",
       "      <td>2.044224e+15</td>\n",
       "      <td>1.159042e+14</td>\n",
       "      <td>0.904834</td>\n",
       "      <td>0.00001</td>\n",
       "      <td>16</td>\n",
       "      <td>1</td>\n",
       "    </tr>\n",
       "    <tr>\n",
       "      <th>18</th>\n",
       "      <td>0</td>\n",
       "      <td>864415001</td>\n",
       "      <td>2.094768e+15</td>\n",
       "      <td>1.159042e+14</td>\n",
       "      <td>0.909597</td>\n",
       "      <td>0.00001</td>\n",
       "      <td>17</td>\n",
       "      <td>1</td>\n",
       "    </tr>\n",
       "    <tr>\n",
       "      <th>19</th>\n",
       "      <td>0</td>\n",
       "      <td>864415001</td>\n",
       "      <td>2.145312e+15</td>\n",
       "      <td>1.159042e+14</td>\n",
       "      <td>0.914006</td>\n",
       "      <td>0.00001</td>\n",
       "      <td>18</td>\n",
       "      <td>1</td>\n",
       "    </tr>\n",
       "    <tr>\n",
       "      <th>20</th>\n",
       "      <td>0</td>\n",
       "      <td>864415001</td>\n",
       "      <td>2.195856e+15</td>\n",
       "      <td>1.159042e+14</td>\n",
       "      <td>0.918094</td>\n",
       "      <td>0.00001</td>\n",
       "      <td>19</td>\n",
       "      <td>1</td>\n",
       "    </tr>\n",
       "    <tr>\n",
       "      <th>21</th>\n",
       "      <td>1</td>\n",
       "      <td>864415001</td>\n",
       "      <td>2.246400e+15</td>\n",
       "      <td>1.159042e+14</td>\n",
       "      <td>0.921893</td>\n",
       "      <td>0.00001</td>\n",
       "      <td>19</td>\n",
       "      <td>1</td>\n",
       "    </tr>\n",
       "  </tbody>\n",
       "</table>\n",
       "<p>1981438 rows × 8 columns</p>\n",
       "</div>"
      ],
      "text/plain": [
       "            status        seed             r            nu        mu   energy  \\\n",
       "index step                                                                      \n",
       "0     0          0  3338016338  1.235520e+15  1.736483e+15  0.839765  0.00001   \n",
       "      1          0  3338016338  1.263676e+15  2.569811e+15 -0.608549  0.00001   \n",
       "      2          0  3338016338  1.244956e+15  1.684571e+15  0.052209  0.00001   \n",
       "      3          0  3338016338  1.245022e+15  1.682866e+15  0.025872  0.00001   \n",
       "      4          0  3338016338  1.248276e+15  9.577869e+14 -0.281524  0.00001   \n",
       "...            ...         ...           ...           ...       ...      ...   \n",
       "99999 17         0   864415001  2.044224e+15  1.159042e+14  0.904834  0.00001   \n",
       "      18         0   864415001  2.094768e+15  1.159042e+14  0.909597  0.00001   \n",
       "      19         0   864415001  2.145312e+15  1.159042e+14  0.914006  0.00001   \n",
       "      20         0   864415001  2.195856e+15  1.159042e+14  0.918094  0.00001   \n",
       "      21         1   864415001  2.246400e+15  1.159042e+14  0.921893  0.00001   \n",
       "\n",
       "            shell_id  interaction_type  \n",
       "index step                              \n",
       "0     0            0                -1  \n",
       "      1            0                 2  \n",
       "      2            0                 2  \n",
       "      3            0                 2  \n",
       "      4            0                 2  \n",
       "...              ...               ...  \n",
       "99999 17          16                 1  \n",
       "      18          17                 1  \n",
       "      19          18                 1  \n",
       "      20          19                 1  \n",
       "      21          19                 1  \n",
       "\n",
       "[1981438 rows x 8 columns]"
      ]
     },
     "execution_count": 15,
     "metadata": {},
     "output_type": "execute_result"
    }
   ],
   "source": [
    "sim.runner.rpacket_tracker_df"
   ]
  },
  {
   "cell_type": "markdown",
   "id": "81f1d718",
   "metadata": {},
   "source": [
    "To access these different properties in the dataframe, we may consider the following examples for the `rpacket_tracker_df`:\n",
    "<br>In this Example, we are trying to access the properties of the packet at index `10`.<br>In a similar way, we can check for any property for any packet in the range of packets for the last iteration."
   ]
  },
  {
   "cell_type": "markdown",
   "id": "eb8df3d9",
   "metadata": {},
   "source": [
    "#### Accessing all the properties for the packet with index = 10:"
   ]
  },
  {
   "cell_type": "code",
   "execution_count": 16,
   "id": "612c8234",
   "metadata": {
    "execution": {
     "iopub.execute_input": "2022-12-11T00:37:34.938616Z",
     "iopub.status.busy": "2022-12-11T00:37:34.938416Z",
     "iopub.status.idle": "2022-12-11T00:37:34.970300Z",
     "shell.execute_reply": "2022-12-11T00:37:34.969670Z"
    }
   },
   "outputs": [
    {
     "data": {
      "text/html": [
       "<div>\n",
       "<style scoped>\n",
       "    .dataframe tbody tr th:only-of-type {\n",
       "        vertical-align: middle;\n",
       "    }\n",
       "\n",
       "    .dataframe tbody tr th {\n",
       "        vertical-align: top;\n",
       "    }\n",
       "\n",
       "    .dataframe thead th {\n",
       "        text-align: right;\n",
       "    }\n",
       "</style>\n",
       "<table border=\"1\" class=\"dataframe\">\n",
       "  <thead>\n",
       "    <tr style=\"text-align: right;\">\n",
       "      <th></th>\n",
       "      <th>status</th>\n",
       "      <th>seed</th>\n",
       "      <th>r</th>\n",
       "      <th>nu</th>\n",
       "      <th>mu</th>\n",
       "      <th>energy</th>\n",
       "      <th>shell_id</th>\n",
       "      <th>interaction_type</th>\n",
       "    </tr>\n",
       "    <tr>\n",
       "      <th>step</th>\n",
       "      <th></th>\n",
       "      <th></th>\n",
       "      <th></th>\n",
       "      <th></th>\n",
       "      <th></th>\n",
       "      <th></th>\n",
       "      <th></th>\n",
       "      <th></th>\n",
       "    </tr>\n",
       "  </thead>\n",
       "  <tbody>\n",
       "    <tr>\n",
       "      <th>0</th>\n",
       "      <td>0</td>\n",
       "      <td>2729103521</td>\n",
       "      <td>1.235520e+15</td>\n",
       "      <td>2.100434e+15</td>\n",
       "      <td>0.587433</td>\n",
       "      <td>0.000010</td>\n",
       "      <td>0</td>\n",
       "      <td>-1</td>\n",
       "    </tr>\n",
       "    <tr>\n",
       "      <th>1</th>\n",
       "      <td>0</td>\n",
       "      <td>2729103521</td>\n",
       "      <td>1.286064e+15</td>\n",
       "      <td>2.100434e+15</td>\n",
       "      <td>0.628923</td>\n",
       "      <td>0.000010</td>\n",
       "      <td>1</td>\n",
       "      <td>-1</td>\n",
       "    </tr>\n",
       "    <tr>\n",
       "      <th>2</th>\n",
       "      <td>0</td>\n",
       "      <td>2729103521</td>\n",
       "      <td>1.336608e+15</td>\n",
       "      <td>2.100434e+15</td>\n",
       "      <td>0.663623</td>\n",
       "      <td>0.000010</td>\n",
       "      <td>2</td>\n",
       "      <td>-1</td>\n",
       "    </tr>\n",
       "    <tr>\n",
       "      <th>3</th>\n",
       "      <td>0</td>\n",
       "      <td>2729103521</td>\n",
       "      <td>1.387152e+15</td>\n",
       "      <td>2.100434e+15</td>\n",
       "      <td>0.693133</td>\n",
       "      <td>0.000010</td>\n",
       "      <td>3</td>\n",
       "      <td>-1</td>\n",
       "    </tr>\n",
       "    <tr>\n",
       "      <th>4</th>\n",
       "      <td>0</td>\n",
       "      <td>2729103521</td>\n",
       "      <td>1.437696e+15</td>\n",
       "      <td>2.100434e+15</td>\n",
       "      <td>0.718556</td>\n",
       "      <td>0.000010</td>\n",
       "      <td>4</td>\n",
       "      <td>-1</td>\n",
       "    </tr>\n",
       "    <tr>\n",
       "      <th>5</th>\n",
       "      <td>0</td>\n",
       "      <td>2729103521</td>\n",
       "      <td>1.488240e+15</td>\n",
       "      <td>2.100434e+15</td>\n",
       "      <td>0.740688</td>\n",
       "      <td>0.000010</td>\n",
       "      <td>5</td>\n",
       "      <td>-1</td>\n",
       "    </tr>\n",
       "    <tr>\n",
       "      <th>6</th>\n",
       "      <td>0</td>\n",
       "      <td>2729103521</td>\n",
       "      <td>1.514008e+15</td>\n",
       "      <td>1.966980e+15</td>\n",
       "      <td>-0.707127</td>\n",
       "      <td>0.000010</td>\n",
       "      <td>5</td>\n",
       "      <td>1</td>\n",
       "    </tr>\n",
       "    <tr>\n",
       "      <th>7</th>\n",
       "      <td>0</td>\n",
       "      <td>2729103521</td>\n",
       "      <td>1.488240e+15</td>\n",
       "      <td>1.966980e+15</td>\n",
       "      <td>-0.694668</td>\n",
       "      <td>0.000010</td>\n",
       "      <td>4</td>\n",
       "      <td>1</td>\n",
       "    </tr>\n",
       "    <tr>\n",
       "      <th>8</th>\n",
       "      <td>0</td>\n",
       "      <td>2729103521</td>\n",
       "      <td>1.437696e+15</td>\n",
       "      <td>1.966980e+15</td>\n",
       "      <td>-0.667490</td>\n",
       "      <td>0.000010</td>\n",
       "      <td>3</td>\n",
       "      <td>1</td>\n",
       "    </tr>\n",
       "    <tr>\n",
       "      <th>9</th>\n",
       "      <td>0</td>\n",
       "      <td>2729103521</td>\n",
       "      <td>1.387152e+15</td>\n",
       "      <td>1.966980e+15</td>\n",
       "      <td>-0.635925</td>\n",
       "      <td>0.000010</td>\n",
       "      <td>2</td>\n",
       "      <td>1</td>\n",
       "    </tr>\n",
       "    <tr>\n",
       "      <th>10</th>\n",
       "      <td>0</td>\n",
       "      <td>2729103521</td>\n",
       "      <td>1.387113e+15</td>\n",
       "      <td>2.093418e+15</td>\n",
       "      <td>0.868696</td>\n",
       "      <td>0.000010</td>\n",
       "      <td>2</td>\n",
       "      <td>2</td>\n",
       "    </tr>\n",
       "    <tr>\n",
       "      <th>11</th>\n",
       "      <td>0</td>\n",
       "      <td>2729103521</td>\n",
       "      <td>1.387152e+15</td>\n",
       "      <td>2.093418e+15</td>\n",
       "      <td>0.868704</td>\n",
       "      <td>0.000010</td>\n",
       "      <td>3</td>\n",
       "      <td>2</td>\n",
       "    </tr>\n",
       "    <tr>\n",
       "      <th>12</th>\n",
       "      <td>0</td>\n",
       "      <td>2729103521</td>\n",
       "      <td>1.437696e+15</td>\n",
       "      <td>2.093418e+15</td>\n",
       "      <td>0.878405</td>\n",
       "      <td>0.000010</td>\n",
       "      <td>4</td>\n",
       "      <td>2</td>\n",
       "    </tr>\n",
       "    <tr>\n",
       "      <th>13</th>\n",
       "      <td>0</td>\n",
       "      <td>2729103521</td>\n",
       "      <td>1.488240e+15</td>\n",
       "      <td>2.093418e+15</td>\n",
       "      <td>0.887043</td>\n",
       "      <td>0.000010</td>\n",
       "      <td>5</td>\n",
       "      <td>2</td>\n",
       "    </tr>\n",
       "    <tr>\n",
       "      <th>14</th>\n",
       "      <td>0</td>\n",
       "      <td>2729103521</td>\n",
       "      <td>1.538784e+15</td>\n",
       "      <td>2.093418e+15</td>\n",
       "      <td>0.894773</td>\n",
       "      <td>0.000010</td>\n",
       "      <td>6</td>\n",
       "      <td>2</td>\n",
       "    </tr>\n",
       "    <tr>\n",
       "      <th>15</th>\n",
       "      <td>0</td>\n",
       "      <td>2729103521</td>\n",
       "      <td>1.589328e+15</td>\n",
       "      <td>2.093418e+15</td>\n",
       "      <td>0.901720</td>\n",
       "      <td>0.000010</td>\n",
       "      <td>7</td>\n",
       "      <td>2</td>\n",
       "    </tr>\n",
       "    <tr>\n",
       "      <th>16</th>\n",
       "      <td>0</td>\n",
       "      <td>2729103521</td>\n",
       "      <td>1.639872e+15</td>\n",
       "      <td>2.093418e+15</td>\n",
       "      <td>0.907988</td>\n",
       "      <td>0.000010</td>\n",
       "      <td>8</td>\n",
       "      <td>2</td>\n",
       "    </tr>\n",
       "    <tr>\n",
       "      <th>17</th>\n",
       "      <td>0</td>\n",
       "      <td>2729103521</td>\n",
       "      <td>1.690416e+15</td>\n",
       "      <td>2.093418e+15</td>\n",
       "      <td>0.913665</td>\n",
       "      <td>0.000010</td>\n",
       "      <td>9</td>\n",
       "      <td>2</td>\n",
       "    </tr>\n",
       "    <tr>\n",
       "      <th>18</th>\n",
       "      <td>0</td>\n",
       "      <td>2729103521</td>\n",
       "      <td>1.709334e+15</td>\n",
       "      <td>2.754770e+15</td>\n",
       "      <td>0.357089</td>\n",
       "      <td>0.000010</td>\n",
       "      <td>9</td>\n",
       "      <td>2</td>\n",
       "    </tr>\n",
       "    <tr>\n",
       "      <th>19</th>\n",
       "      <td>0</td>\n",
       "      <td>2729103521</td>\n",
       "      <td>1.726723e+15</td>\n",
       "      <td>3.040742e+15</td>\n",
       "      <td>0.224209</td>\n",
       "      <td>0.000010</td>\n",
       "      <td>9</td>\n",
       "      <td>2</td>\n",
       "    </tr>\n",
       "    <tr>\n",
       "      <th>20</th>\n",
       "      <td>0</td>\n",
       "      <td>2729103521</td>\n",
       "      <td>1.740960e+15</td>\n",
       "      <td>3.040742e+15</td>\n",
       "      <td>0.256398</td>\n",
       "      <td>0.000010</td>\n",
       "      <td>10</td>\n",
       "      <td>2</td>\n",
       "    </tr>\n",
       "    <tr>\n",
       "      <th>21</th>\n",
       "      <td>0</td>\n",
       "      <td>2729103521</td>\n",
       "      <td>1.752721e+15</td>\n",
       "      <td>1.680385e+15</td>\n",
       "      <td>0.226400</td>\n",
       "      <td>0.000010</td>\n",
       "      <td>10</td>\n",
       "      <td>2</td>\n",
       "    </tr>\n",
       "    <tr>\n",
       "      <th>22</th>\n",
       "      <td>0</td>\n",
       "      <td>2729103521</td>\n",
       "      <td>1.764487e+15</td>\n",
       "      <td>1.669485e+15</td>\n",
       "      <td>0.129774</td>\n",
       "      <td>0.000010</td>\n",
       "      <td>10</td>\n",
       "      <td>2</td>\n",
       "    </tr>\n",
       "    <tr>\n",
       "      <th>23</th>\n",
       "      <td>0</td>\n",
       "      <td>2729103521</td>\n",
       "      <td>1.791504e+15</td>\n",
       "      <td>1.669485e+15</td>\n",
       "      <td>0.215107</td>\n",
       "      <td>0.000010</td>\n",
       "      <td>11</td>\n",
       "      <td>2</td>\n",
       "    </tr>\n",
       "    <tr>\n",
       "      <th>24</th>\n",
       "      <td>0</td>\n",
       "      <td>2729103521</td>\n",
       "      <td>1.793179e+15</td>\n",
       "      <td>1.575386e+15</td>\n",
       "      <td>-0.889332</td>\n",
       "      <td>0.000009</td>\n",
       "      <td>11</td>\n",
       "      <td>2</td>\n",
       "    </tr>\n",
       "    <tr>\n",
       "      <th>25</th>\n",
       "      <td>0</td>\n",
       "      <td>2729103521</td>\n",
       "      <td>1.791504e+15</td>\n",
       "      <td>1.575386e+15</td>\n",
       "      <td>-0.889112</td>\n",
       "      <td>0.000009</td>\n",
       "      <td>10</td>\n",
       "      <td>2</td>\n",
       "    </tr>\n",
       "    <tr>\n",
       "      <th>26</th>\n",
       "      <td>0</td>\n",
       "      <td>2729103521</td>\n",
       "      <td>1.740960e+15</td>\n",
       "      <td>1.575386e+15</td>\n",
       "      <td>-0.882145</td>\n",
       "      <td>0.000009</td>\n",
       "      <td>9</td>\n",
       "      <td>2</td>\n",
       "    </tr>\n",
       "    <tr>\n",
       "      <th>27</th>\n",
       "      <td>0</td>\n",
       "      <td>2729103521</td>\n",
       "      <td>1.690416e+15</td>\n",
       "      <td>1.575386e+15</td>\n",
       "      <td>-0.874481</td>\n",
       "      <td>0.000009</td>\n",
       "      <td>8</td>\n",
       "      <td>2</td>\n",
       "    </tr>\n",
       "    <tr>\n",
       "      <th>28</th>\n",
       "      <td>0</td>\n",
       "      <td>2729103521</td>\n",
       "      <td>1.639872e+15</td>\n",
       "      <td>1.575386e+15</td>\n",
       "      <td>-0.866019</td>\n",
       "      <td>0.000009</td>\n",
       "      <td>7</td>\n",
       "      <td>2</td>\n",
       "    </tr>\n",
       "    <tr>\n",
       "      <th>29</th>\n",
       "      <td>0</td>\n",
       "      <td>2729103521</td>\n",
       "      <td>1.589328e+15</td>\n",
       "      <td>1.575386e+15</td>\n",
       "      <td>-0.856642</td>\n",
       "      <td>0.000009</td>\n",
       "      <td>6</td>\n",
       "      <td>2</td>\n",
       "    </tr>\n",
       "    <tr>\n",
       "      <th>30</th>\n",
       "      <td>0</td>\n",
       "      <td>2729103521</td>\n",
       "      <td>1.538784e+15</td>\n",
       "      <td>1.575386e+15</td>\n",
       "      <td>-0.846205</td>\n",
       "      <td>0.000009</td>\n",
       "      <td>5</td>\n",
       "      <td>2</td>\n",
       "    </tr>\n",
       "    <tr>\n",
       "      <th>31</th>\n",
       "      <td>0</td>\n",
       "      <td>2729103521</td>\n",
       "      <td>1.488240e+15</td>\n",
       "      <td>1.575386e+15</td>\n",
       "      <td>-0.834535</td>\n",
       "      <td>0.000009</td>\n",
       "      <td>4</td>\n",
       "      <td>2</td>\n",
       "    </tr>\n",
       "    <tr>\n",
       "      <th>32</th>\n",
       "      <td>0</td>\n",
       "      <td>2729103521</td>\n",
       "      <td>1.439546e+15</td>\n",
       "      <td>1.610949e+15</td>\n",
       "      <td>-0.287407</td>\n",
       "      <td>0.000009</td>\n",
       "      <td>4</td>\n",
       "      <td>1</td>\n",
       "    </tr>\n",
       "    <tr>\n",
       "      <th>33</th>\n",
       "      <td>0</td>\n",
       "      <td>2729103521</td>\n",
       "      <td>1.437696e+15</td>\n",
       "      <td>1.610949e+15</td>\n",
       "      <td>-0.283268</td>\n",
       "      <td>0.000009</td>\n",
       "      <td>3</td>\n",
       "      <td>1</td>\n",
       "    </tr>\n",
       "    <tr>\n",
       "      <th>34</th>\n",
       "      <td>0</td>\n",
       "      <td>2729103521</td>\n",
       "      <td>1.419306e+15</td>\n",
       "      <td>2.160489e+15</td>\n",
       "      <td>0.495893</td>\n",
       "      <td>0.000010</td>\n",
       "      <td>3</td>\n",
       "      <td>2</td>\n",
       "    </tr>\n",
       "    <tr>\n",
       "      <th>35</th>\n",
       "      <td>0</td>\n",
       "      <td>2729103521</td>\n",
       "      <td>1.437696e+15</td>\n",
       "      <td>2.160489e+15</td>\n",
       "      <td>0.514857</td>\n",
       "      <td>0.000010</td>\n",
       "      <td>4</td>\n",
       "      <td>2</td>\n",
       "    </tr>\n",
       "    <tr>\n",
       "      <th>36</th>\n",
       "      <td>0</td>\n",
       "      <td>2729103521</td>\n",
       "      <td>1.488240e+15</td>\n",
       "      <td>2.160489e+15</td>\n",
       "      <td>0.560490</td>\n",
       "      <td>0.000010</td>\n",
       "      <td>5</td>\n",
       "      <td>2</td>\n",
       "    </tr>\n",
       "    <tr>\n",
       "      <th>37</th>\n",
       "      <td>0</td>\n",
       "      <td>2729103521</td>\n",
       "      <td>1.513523e+15</td>\n",
       "      <td>1.212817e+15</td>\n",
       "      <td>0.618740</td>\n",
       "      <td>0.000010</td>\n",
       "      <td>5</td>\n",
       "      <td>2</td>\n",
       "    </tr>\n",
       "    <tr>\n",
       "      <th>38</th>\n",
       "      <td>0</td>\n",
       "      <td>2729103521</td>\n",
       "      <td>1.538784e+15</td>\n",
       "      <td>1.212817e+15</td>\n",
       "      <td>0.634772</td>\n",
       "      <td>0.000010</td>\n",
       "      <td>6</td>\n",
       "      <td>2</td>\n",
       "    </tr>\n",
       "    <tr>\n",
       "      <th>39</th>\n",
       "      <td>0</td>\n",
       "      <td>2729103521</td>\n",
       "      <td>1.589328e+15</td>\n",
       "      <td>1.212817e+15</td>\n",
       "      <td>0.663557</td>\n",
       "      <td>0.000010</td>\n",
       "      <td>7</td>\n",
       "      <td>2</td>\n",
       "    </tr>\n",
       "    <tr>\n",
       "      <th>40</th>\n",
       "      <td>0</td>\n",
       "      <td>2729103521</td>\n",
       "      <td>1.639872e+15</td>\n",
       "      <td>1.212817e+15</td>\n",
       "      <td>0.688678</td>\n",
       "      <td>0.000010</td>\n",
       "      <td>8</td>\n",
       "      <td>2</td>\n",
       "    </tr>\n",
       "    <tr>\n",
       "      <th>41</th>\n",
       "      <td>0</td>\n",
       "      <td>2729103521</td>\n",
       "      <td>1.690416e+15</td>\n",
       "      <td>1.212817e+15</td>\n",
       "      <td>0.710807</td>\n",
       "      <td>0.000010</td>\n",
       "      <td>9</td>\n",
       "      <td>2</td>\n",
       "    </tr>\n",
       "    <tr>\n",
       "      <th>42</th>\n",
       "      <td>0</td>\n",
       "      <td>2729103521</td>\n",
       "      <td>1.740960e+15</td>\n",
       "      <td>1.212817e+15</td>\n",
       "      <td>0.730450</td>\n",
       "      <td>0.000010</td>\n",
       "      <td>10</td>\n",
       "      <td>2</td>\n",
       "    </tr>\n",
       "    <tr>\n",
       "      <th>43</th>\n",
       "      <td>0</td>\n",
       "      <td>2729103521</td>\n",
       "      <td>1.791504e+15</td>\n",
       "      <td>1.212817e+15</td>\n",
       "      <td>0.748001</td>\n",
       "      <td>0.000010</td>\n",
       "      <td>11</td>\n",
       "      <td>2</td>\n",
       "    </tr>\n",
       "    <tr>\n",
       "      <th>44</th>\n",
       "      <td>0</td>\n",
       "      <td>2729103521</td>\n",
       "      <td>1.842048e+15</td>\n",
       "      <td>1.212817e+15</td>\n",
       "      <td>0.763771</td>\n",
       "      <td>0.000010</td>\n",
       "      <td>12</td>\n",
       "      <td>2</td>\n",
       "    </tr>\n",
       "    <tr>\n",
       "      <th>45</th>\n",
       "      <td>0</td>\n",
       "      <td>2729103521</td>\n",
       "      <td>1.892592e+15</td>\n",
       "      <td>1.212817e+15</td>\n",
       "      <td>0.778013</td>\n",
       "      <td>0.000010</td>\n",
       "      <td>13</td>\n",
       "      <td>2</td>\n",
       "    </tr>\n",
       "    <tr>\n",
       "      <th>46</th>\n",
       "      <td>0</td>\n",
       "      <td>2729103521</td>\n",
       "      <td>1.943136e+15</td>\n",
       "      <td>1.212817e+15</td>\n",
       "      <td>0.790930</td>\n",
       "      <td>0.000010</td>\n",
       "      <td>14</td>\n",
       "      <td>2</td>\n",
       "    </tr>\n",
       "    <tr>\n",
       "      <th>47</th>\n",
       "      <td>0</td>\n",
       "      <td>2729103521</td>\n",
       "      <td>1.993680e+15</td>\n",
       "      <td>1.212817e+15</td>\n",
       "      <td>0.802692</td>\n",
       "      <td>0.000010</td>\n",
       "      <td>15</td>\n",
       "      <td>2</td>\n",
       "    </tr>\n",
       "    <tr>\n",
       "      <th>48</th>\n",
       "      <td>0</td>\n",
       "      <td>2729103521</td>\n",
       "      <td>2.044224e+15</td>\n",
       "      <td>1.212817e+15</td>\n",
       "      <td>0.813441</td>\n",
       "      <td>0.000010</td>\n",
       "      <td>16</td>\n",
       "      <td>2</td>\n",
       "    </tr>\n",
       "    <tr>\n",
       "      <th>49</th>\n",
       "      <td>0</td>\n",
       "      <td>2729103521</td>\n",
       "      <td>2.094768e+15</td>\n",
       "      <td>1.212817e+15</td>\n",
       "      <td>0.823295</td>\n",
       "      <td>0.000010</td>\n",
       "      <td>17</td>\n",
       "      <td>2</td>\n",
       "    </tr>\n",
       "    <tr>\n",
       "      <th>50</th>\n",
       "      <td>0</td>\n",
       "      <td>2729103521</td>\n",
       "      <td>2.145312e+15</td>\n",
       "      <td>1.212817e+15</td>\n",
       "      <td>0.832357</td>\n",
       "      <td>0.000010</td>\n",
       "      <td>18</td>\n",
       "      <td>2</td>\n",
       "    </tr>\n",
       "    <tr>\n",
       "      <th>51</th>\n",
       "      <td>0</td>\n",
       "      <td>2729103521</td>\n",
       "      <td>2.195856e+15</td>\n",
       "      <td>1.212817e+15</td>\n",
       "      <td>0.840712</td>\n",
       "      <td>0.000010</td>\n",
       "      <td>19</td>\n",
       "      <td>2</td>\n",
       "    </tr>\n",
       "    <tr>\n",
       "      <th>52</th>\n",
       "      <td>1</td>\n",
       "      <td>2729103521</td>\n",
       "      <td>2.246400e+15</td>\n",
       "      <td>1.212817e+15</td>\n",
       "      <td>0.848435</td>\n",
       "      <td>0.000010</td>\n",
       "      <td>19</td>\n",
       "      <td>2</td>\n",
       "    </tr>\n",
       "  </tbody>\n",
       "</table>\n",
       "</div>"
      ],
      "text/plain": [
       "      status        seed             r            nu        mu    energy  \\\n",
       "step                                                                       \n",
       "0          0  2729103521  1.235520e+15  2.100434e+15  0.587433  0.000010   \n",
       "1          0  2729103521  1.286064e+15  2.100434e+15  0.628923  0.000010   \n",
       "2          0  2729103521  1.336608e+15  2.100434e+15  0.663623  0.000010   \n",
       "3          0  2729103521  1.387152e+15  2.100434e+15  0.693133  0.000010   \n",
       "4          0  2729103521  1.437696e+15  2.100434e+15  0.718556  0.000010   \n",
       "5          0  2729103521  1.488240e+15  2.100434e+15  0.740688  0.000010   \n",
       "6          0  2729103521  1.514008e+15  1.966980e+15 -0.707127  0.000010   \n",
       "7          0  2729103521  1.488240e+15  1.966980e+15 -0.694668  0.000010   \n",
       "8          0  2729103521  1.437696e+15  1.966980e+15 -0.667490  0.000010   \n",
       "9          0  2729103521  1.387152e+15  1.966980e+15 -0.635925  0.000010   \n",
       "10         0  2729103521  1.387113e+15  2.093418e+15  0.868696  0.000010   \n",
       "11         0  2729103521  1.387152e+15  2.093418e+15  0.868704  0.000010   \n",
       "12         0  2729103521  1.437696e+15  2.093418e+15  0.878405  0.000010   \n",
       "13         0  2729103521  1.488240e+15  2.093418e+15  0.887043  0.000010   \n",
       "14         0  2729103521  1.538784e+15  2.093418e+15  0.894773  0.000010   \n",
       "15         0  2729103521  1.589328e+15  2.093418e+15  0.901720  0.000010   \n",
       "16         0  2729103521  1.639872e+15  2.093418e+15  0.907988  0.000010   \n",
       "17         0  2729103521  1.690416e+15  2.093418e+15  0.913665  0.000010   \n",
       "18         0  2729103521  1.709334e+15  2.754770e+15  0.357089  0.000010   \n",
       "19         0  2729103521  1.726723e+15  3.040742e+15  0.224209  0.000010   \n",
       "20         0  2729103521  1.740960e+15  3.040742e+15  0.256398  0.000010   \n",
       "21         0  2729103521  1.752721e+15  1.680385e+15  0.226400  0.000010   \n",
       "22         0  2729103521  1.764487e+15  1.669485e+15  0.129774  0.000010   \n",
       "23         0  2729103521  1.791504e+15  1.669485e+15  0.215107  0.000010   \n",
       "24         0  2729103521  1.793179e+15  1.575386e+15 -0.889332  0.000009   \n",
       "25         0  2729103521  1.791504e+15  1.575386e+15 -0.889112  0.000009   \n",
       "26         0  2729103521  1.740960e+15  1.575386e+15 -0.882145  0.000009   \n",
       "27         0  2729103521  1.690416e+15  1.575386e+15 -0.874481  0.000009   \n",
       "28         0  2729103521  1.639872e+15  1.575386e+15 -0.866019  0.000009   \n",
       "29         0  2729103521  1.589328e+15  1.575386e+15 -0.856642  0.000009   \n",
       "30         0  2729103521  1.538784e+15  1.575386e+15 -0.846205  0.000009   \n",
       "31         0  2729103521  1.488240e+15  1.575386e+15 -0.834535  0.000009   \n",
       "32         0  2729103521  1.439546e+15  1.610949e+15 -0.287407  0.000009   \n",
       "33         0  2729103521  1.437696e+15  1.610949e+15 -0.283268  0.000009   \n",
       "34         0  2729103521  1.419306e+15  2.160489e+15  0.495893  0.000010   \n",
       "35         0  2729103521  1.437696e+15  2.160489e+15  0.514857  0.000010   \n",
       "36         0  2729103521  1.488240e+15  2.160489e+15  0.560490  0.000010   \n",
       "37         0  2729103521  1.513523e+15  1.212817e+15  0.618740  0.000010   \n",
       "38         0  2729103521  1.538784e+15  1.212817e+15  0.634772  0.000010   \n",
       "39         0  2729103521  1.589328e+15  1.212817e+15  0.663557  0.000010   \n",
       "40         0  2729103521  1.639872e+15  1.212817e+15  0.688678  0.000010   \n",
       "41         0  2729103521  1.690416e+15  1.212817e+15  0.710807  0.000010   \n",
       "42         0  2729103521  1.740960e+15  1.212817e+15  0.730450  0.000010   \n",
       "43         0  2729103521  1.791504e+15  1.212817e+15  0.748001  0.000010   \n",
       "44         0  2729103521  1.842048e+15  1.212817e+15  0.763771  0.000010   \n",
       "45         0  2729103521  1.892592e+15  1.212817e+15  0.778013  0.000010   \n",
       "46         0  2729103521  1.943136e+15  1.212817e+15  0.790930  0.000010   \n",
       "47         0  2729103521  1.993680e+15  1.212817e+15  0.802692  0.000010   \n",
       "48         0  2729103521  2.044224e+15  1.212817e+15  0.813441  0.000010   \n",
       "49         0  2729103521  2.094768e+15  1.212817e+15  0.823295  0.000010   \n",
       "50         0  2729103521  2.145312e+15  1.212817e+15  0.832357  0.000010   \n",
       "51         0  2729103521  2.195856e+15  1.212817e+15  0.840712  0.000010   \n",
       "52         1  2729103521  2.246400e+15  1.212817e+15  0.848435  0.000010   \n",
       "\n",
       "      shell_id  interaction_type  \n",
       "step                              \n",
       "0            0                -1  \n",
       "1            1                -1  \n",
       "2            2                -1  \n",
       "3            3                -1  \n",
       "4            4                -1  \n",
       "5            5                -1  \n",
       "6            5                 1  \n",
       "7            4                 1  \n",
       "8            3                 1  \n",
       "9            2                 1  \n",
       "10           2                 2  \n",
       "11           3                 2  \n",
       "12           4                 2  \n",
       "13           5                 2  \n",
       "14           6                 2  \n",
       "15           7                 2  \n",
       "16           8                 2  \n",
       "17           9                 2  \n",
       "18           9                 2  \n",
       "19           9                 2  \n",
       "20          10                 2  \n",
       "21          10                 2  \n",
       "22          10                 2  \n",
       "23          11                 2  \n",
       "24          11                 2  \n",
       "25          10                 2  \n",
       "26           9                 2  \n",
       "27           8                 2  \n",
       "28           7                 2  \n",
       "29           6                 2  \n",
       "30           5                 2  \n",
       "31           4                 2  \n",
       "32           4                 1  \n",
       "33           3                 1  \n",
       "34           3                 2  \n",
       "35           4                 2  \n",
       "36           5                 2  \n",
       "37           5                 2  \n",
       "38           6                 2  \n",
       "39           7                 2  \n",
       "40           8                 2  \n",
       "41           9                 2  \n",
       "42          10                 2  \n",
       "43          11                 2  \n",
       "44          12                 2  \n",
       "45          13                 2  \n",
       "46          14                 2  \n",
       "47          15                 2  \n",
       "48          16                 2  \n",
       "49          17                 2  \n",
       "50          18                 2  \n",
       "51          19                 2  \n",
       "52          19                 2  "
      ]
     },
     "execution_count": 16,
     "metadata": {},
     "output_type": "execute_result"
    }
   ],
   "source": [
    "sim.runner.rpacket_tracker_df.loc[10]"
   ]
  },
  {
   "cell_type": "markdown",
   "id": "75d86f95",
   "metadata": {},
   "source": [
    "#### Accessing the `energy` property for the packet with index = 10:\n"
   ]
  },
  {
   "cell_type": "code",
   "execution_count": 17,
   "id": "2c84adb1",
   "metadata": {
    "execution": {
     "iopub.execute_input": "2022-12-11T00:37:34.973195Z",
     "iopub.status.busy": "2022-12-11T00:37:34.972989Z",
     "iopub.status.idle": "2022-12-11T00:37:34.980602Z",
     "shell.execute_reply": "2022-12-11T00:37:34.980023Z"
    }
   },
   "outputs": [
    {
     "data": {
      "text/plain": [
       "step\n",
       "0     0.000010\n",
       "1     0.000010\n",
       "2     0.000010\n",
       "3     0.000010\n",
       "4     0.000010\n",
       "5     0.000010\n",
       "6     0.000010\n",
       "7     0.000010\n",
       "8     0.000010\n",
       "9     0.000010\n",
       "10    0.000010\n",
       "11    0.000010\n",
       "12    0.000010\n",
       "13    0.000010\n",
       "14    0.000010\n",
       "15    0.000010\n",
       "16    0.000010\n",
       "17    0.000010\n",
       "18    0.000010\n",
       "19    0.000010\n",
       "20    0.000010\n",
       "21    0.000010\n",
       "22    0.000010\n",
       "23    0.000010\n",
       "24    0.000009\n",
       "25    0.000009\n",
       "26    0.000009\n",
       "27    0.000009\n",
       "28    0.000009\n",
       "29    0.000009\n",
       "30    0.000009\n",
       "31    0.000009\n",
       "32    0.000009\n",
       "33    0.000009\n",
       "34    0.000010\n",
       "35    0.000010\n",
       "36    0.000010\n",
       "37    0.000010\n",
       "38    0.000010\n",
       "39    0.000010\n",
       "40    0.000010\n",
       "41    0.000010\n",
       "42    0.000010\n",
       "43    0.000010\n",
       "44    0.000010\n",
       "45    0.000010\n",
       "46    0.000010\n",
       "47    0.000010\n",
       "48    0.000010\n",
       "49    0.000010\n",
       "50    0.000010\n",
       "51    0.000010\n",
       "52    0.000010\n",
       "Name: energy, dtype: float64"
      ]
     },
     "execution_count": 17,
     "metadata": {},
     "output_type": "execute_result"
    }
   ],
   "source": [
    "sim.runner.rpacket_tracker_df.loc[10][\"energy\"]"
   ]
  },
  {
   "cell_type": "markdown",
   "id": "1beffb1f",
   "metadata": {},
   "source": [
    "The above command returns a Pandas Series for the packet `#10` across different steps. To access any property at a particular step (for example at step `5`), the following commands can be used."
   ]
  },
  {
   "cell_type": "code",
   "execution_count": 18,
   "id": "1d7f0bb4",
   "metadata": {
    "execution": {
     "iopub.execute_input": "2022-12-11T00:37:34.983107Z",
     "iopub.status.busy": "2022-12-11T00:37:34.982911Z",
     "iopub.status.idle": "2022-12-11T00:37:35.161989Z",
     "shell.execute_reply": "2022-12-11T00:37:35.161326Z"
    }
   },
   "outputs": [
    {
     "data": {
      "text/plain": [
       "1.0220289382469194e-05"
      ]
     },
     "execution_count": 18,
     "metadata": {},
     "output_type": "execute_result"
    }
   ],
   "source": [
    "sim.runner.rpacket_tracker_df.loc[10,5][\"energy\"]"
   ]
  },
  {
   "cell_type": "code",
   "execution_count": 19,
   "id": "1cf17109",
   "metadata": {
    "execution": {
     "iopub.execute_input": "2022-12-11T00:37:35.164653Z",
     "iopub.status.busy": "2022-12-11T00:37:35.164440Z",
     "iopub.status.idle": "2022-12-11T00:37:35.172524Z",
     "shell.execute_reply": "2022-12-11T00:37:35.171948Z"
    }
   },
   "outputs": [
    {
     "data": {
      "text/plain": [
       "1.0220289382469194e-05"
      ]
     },
     "execution_count": 19,
     "metadata": {},
     "output_type": "execute_result"
    }
   ],
   "source": [
    "sim.runner.rpacket_tracker_df.loc[10][\"energy\"][5]"
   ]
  },
  {
   "cell_type": "markdown",
   "id": "6921f480",
   "metadata": {},
   "source": [
    "Thus, all other properties (`status`, `seed`, `r`, `nu`, `mu`, `shell_id`,`interaction_type`) can be accessed accordingly."
   ]
  }
 ],
 "metadata": {
  "kernelspec": {
   "display_name": "Python 3 (ipykernel)",
   "language": "python",
   "name": "python3"
  },
  "language_info": {
   "codemirror_mode": {
    "name": "ipython",
    "version": 3
   },
   "file_extension": ".py",
   "mimetype": "text/x-python",
   "name": "python",
   "nbconvert_exporter": "python",
   "pygments_lexer": "ipython3",
   "version": "3.8.15"
  },
  "vscode": {
   "interpreter": {
    "hash": "6890d83cfa6c65bebc4bd449872c06a268510d8b8ae8c923ce6786e6c4796836"
   }
  },
  "widgets": {
   "application/vnd.jupyter.widget-state+json": {
    "state": {
     "00a2fa5cd67149a6af030b439bdb223c": {
      "model_module": "@jupyter-widgets/base",
      "model_module_version": "1.2.0",
      "model_name": "LayoutModel",
      "state": {
       "_model_module": "@jupyter-widgets/base",
       "_model_module_version": "1.2.0",
       "_model_name": "LayoutModel",
       "_view_count": null,
       "_view_module": "@jupyter-widgets/base",
       "_view_module_version": "1.2.0",
       "_view_name": "LayoutView",
       "align_content": null,
       "align_items": null,
       "align_self": null,
       "border": null,
       "bottom": null,
       "display": null,
       "flex": null,
       "flex_flow": null,
       "grid_area": null,
       "grid_auto_columns": null,
       "grid_auto_flow": null,
       "grid_auto_rows": null,
       "grid_column": null,
       "grid_gap": null,
       "grid_row": null,
       "grid_template_areas": null,
       "grid_template_columns": null,
       "grid_template_rows": null,
       "height": null,
       "justify_content": null,
       "justify_items": null,
       "left": null,
       "margin": null,
       "max_height": null,
       "max_width": null,
       "min_height": null,
       "min_width": null,
       "object_fit": null,
       "object_position": null,
       "order": null,
       "overflow": null,
       "overflow_x": null,
       "overflow_y": null,
       "padding": null,
       "right": null,
       "top": null,
       "visibility": null,
       "width": null
      }
     },
     "029ab53e5c0c402fafd0c9626786e18e": {
      "model_module": "@jupyter-widgets/base",
      "model_module_version": "1.2.0",
      "model_name": "LayoutModel",
      "state": {
       "_model_module": "@jupyter-widgets/base",
       "_model_module_version": "1.2.0",
       "_model_name": "LayoutModel",
       "_view_count": null,
       "_view_module": "@jupyter-widgets/base",
       "_view_module_version": "1.2.0",
       "_view_name": "LayoutView",
       "align_content": null,
       "align_items": null,
       "align_self": null,
       "border": null,
       "bottom": null,
       "display": null,
       "flex": null,
       "flex_flow": null,
       "grid_area": null,
       "grid_auto_columns": null,
       "grid_auto_flow": null,
       "grid_auto_rows": null,
       "grid_column": null,
       "grid_gap": null,
       "grid_row": null,
       "grid_template_areas": null,
       "grid_template_columns": null,
       "grid_template_rows": null,
       "height": null,
       "justify_content": null,
       "justify_items": null,
       "left": null,
       "margin": null,
       "max_height": null,
       "max_width": null,
       "min_height": null,
       "min_width": null,
       "object_fit": null,
       "object_position": null,
       "order": null,
       "overflow": null,
       "overflow_x": null,
       "overflow_y": null,
       "padding": null,
       "right": null,
       "top": null,
       "visibility": null,
       "width": null
      }
     },
     "04f607036f944e03a97a987ab3ff48c5": {
      "model_module": "@jupyter-widgets/controls",
      "model_module_version": "1.5.0",
      "model_name": "HTMLModel",
      "state": {
       "_dom_classes": [],
       "_model_module": "@jupyter-widgets/controls",
       "_model_module_version": "1.5.0",
       "_model_name": "HTMLModel",
       "_view_count": null,
       "_view_module": "@jupyter-widgets/controls",
       "_view_module_version": "1.5.0",
       "_view_name": "HTMLView",
       "description": "",
       "description_tooltip": null,
       "layout": "IPY_MODEL_7af86ef8fb22431a8a678b68cca90ab0",
       "placeholder": "​",
       "style": "IPY_MODEL_05d54c8f8075499eb752a9df17297485",
       "value": "0/? [00:00&lt;?, ?it/s]"
      }
     },
     "05d54c8f8075499eb752a9df17297485": {
      "model_module": "@jupyter-widgets/controls",
      "model_module_version": "1.5.0",
      "model_name": "DescriptionStyleModel",
      "state": {
       "_model_module": "@jupyter-widgets/controls",
       "_model_module_version": "1.5.0",
       "_model_name": "DescriptionStyleModel",
       "_view_count": null,
       "_view_module": "@jupyter-widgets/base",
       "_view_module_version": "1.2.0",
       "_view_name": "StyleView",
       "description_width": ""
      }
     },
     "0923620d169b49b0b6b2f932cc778825": {
      "model_module": "@jupyter-widgets/base",
      "model_module_version": "1.2.0",
      "model_name": "LayoutModel",
      "state": {
       "_model_module": "@jupyter-widgets/base",
       "_model_module_version": "1.2.0",
       "_model_name": "LayoutModel",
       "_view_count": null,
       "_view_module": "@jupyter-widgets/base",
       "_view_module_version": "1.2.0",
       "_view_name": "LayoutView",
       "align_content": null,
       "align_items": null,
       "align_self": null,
       "border": null,
       "bottom": null,
       "display": null,
       "flex": null,
       "flex_flow": null,
       "grid_area": null,
       "grid_auto_columns": null,
       "grid_auto_flow": null,
       "grid_auto_rows": null,
       "grid_column": null,
       "grid_gap": null,
       "grid_row": null,
       "grid_template_areas": null,
       "grid_template_columns": null,
       "grid_template_rows": null,
       "height": null,
       "justify_content": null,
       "justify_items": null,
       "left": null,
       "margin": null,
       "max_height": null,
       "max_width": null,
       "min_height": null,
       "min_width": null,
       "object_fit": null,
       "object_position": null,
       "order": null,
       "overflow": null,
       "overflow_x": null,
       "overflow_y": null,
       "padding": null,
       "right": null,
       "top": null,
       "visibility": null,
       "width": null
      }
     },
     "197caa1dad174155aeab2ef9c9383560": {
      "model_module": "@jupyter-widgets/controls",
      "model_module_version": "1.5.0",
      "model_name": "ProgressStyleModel",
      "state": {
       "_model_module": "@jupyter-widgets/controls",
       "_model_module_version": "1.5.0",
       "_model_name": "ProgressStyleModel",
       "_view_count": null,
       "_view_module": "@jupyter-widgets/base",
       "_view_module_version": "1.2.0",
       "_view_name": "StyleView",
       "bar_color": null,
       "description_width": ""
      }
     },
     "1c11074c24b54540b6e2493bed461de1": {
      "model_module": "@jupyter-widgets/base",
      "model_module_version": "1.2.0",
      "model_name": "LayoutModel",
      "state": {
       "_model_module": "@jupyter-widgets/base",
       "_model_module_version": "1.2.0",
       "_model_name": "LayoutModel",
       "_view_count": null,
       "_view_module": "@jupyter-widgets/base",
       "_view_module_version": "1.2.0",
       "_view_name": "LayoutView",
       "align_content": null,
       "align_items": null,
       "align_self": null,
       "border": null,
       "bottom": null,
       "display": null,
       "flex": null,
       "flex_flow": null,
       "grid_area": null,
       "grid_auto_columns": null,
       "grid_auto_flow": null,
       "grid_auto_rows": null,
       "grid_column": null,
       "grid_gap": null,
       "grid_row": null,
       "grid_template_areas": null,
       "grid_template_columns": null,
       "grid_template_rows": null,
       "height": null,
       "justify_content": null,
       "justify_items": null,
       "left": null,
       "margin": null,
       "max_height": null,
       "max_width": null,
       "min_height": null,
       "min_width": null,
       "object_fit": null,
       "object_position": null,
       "order": null,
       "overflow": null,
       "overflow_x": null,
       "overflow_y": null,
       "padding": null,
       "right": null,
       "top": null,
       "visibility": null,
       "width": null
      }
     },
     "2efb3b3edd4549c29ffd52280b4c0a8f": {
      "model_module": "@jupyter-widgets/controls",
      "model_module_version": "1.5.0",
      "model_name": "DescriptionStyleModel",
      "state": {
       "_model_module": "@jupyter-widgets/controls",
       "_model_module_version": "1.5.0",
       "_model_name": "DescriptionStyleModel",
       "_view_count": null,
       "_view_module": "@jupyter-widgets/base",
       "_view_module_version": "1.2.0",
       "_view_name": "StyleView",
       "description_width": ""
      }
     },
     "32af342260c840a9bc96c73d00c4a3a0": {
      "model_module": "@jupyter-widgets/output",
      "model_module_version": "1.0.0",
      "model_name": "OutputModel",
      "state": {
       "_dom_classes": [],
       "_model_module": "@jupyter-widgets/output",
       "_model_module_version": "1.0.0",
       "_model_name": "OutputModel",
       "_view_count": null,
       "_view_module": "@jupyter-widgets/output",
       "_view_module_version": "1.0.0",
       "_view_name": "OutputView",
       "layout": "IPY_MODEL_3c037aec1dc14e3d8f0081e09a7e495f",
       "msg_id": "",
       "outputs": []
      }
     },
     "338f188ee4af43c0be15e746339b6af9": {
      "model_module": "@jupyter-widgets/base",
      "model_module_version": "1.2.0",
      "model_name": "LayoutModel",
      "state": {
       "_model_module": "@jupyter-widgets/base",
       "_model_module_version": "1.2.0",
       "_model_name": "LayoutModel",
       "_view_count": null,
       "_view_module": "@jupyter-widgets/base",
       "_view_module_version": "1.2.0",
       "_view_name": "LayoutView",
       "align_content": null,
       "align_items": null,
       "align_self": null,
       "border": null,
       "bottom": null,
       "display": null,
       "flex": null,
       "flex_flow": null,
       "grid_area": null,
       "grid_auto_columns": null,
       "grid_auto_flow": null,
       "grid_auto_rows": null,
       "grid_column": null,
       "grid_gap": null,
       "grid_row": null,
       "grid_template_areas": null,
       "grid_template_columns": null,
       "grid_template_rows": null,
       "height": null,
       "justify_content": null,
       "justify_items": null,
       "left": null,
       "margin": null,
       "max_height": null,
       "max_width": null,
       "min_height": null,
       "min_width": null,
       "object_fit": null,
       "object_position": null,
       "order": null,
       "overflow": null,
       "overflow_x": null,
       "overflow_y": null,
       "padding": null,
       "right": null,
       "top": null,
       "visibility": null,
       "width": null
      }
     },
     "38b2e7d008c0439baea507c1082bc484": {
      "model_module": "@jupyter-widgets/base",
      "model_module_version": "1.2.0",
      "model_name": "LayoutModel",
      "state": {
       "_model_module": "@jupyter-widgets/base",
       "_model_module_version": "1.2.0",
       "_model_name": "LayoutModel",
       "_view_count": null,
       "_view_module": "@jupyter-widgets/base",
       "_view_module_version": "1.2.0",
       "_view_name": "LayoutView",
       "align_content": null,
       "align_items": null,
       "align_self": null,
       "border": null,
       "bottom": null,
       "display": null,
       "flex": null,
       "flex_flow": null,
       "grid_area": null,
       "grid_auto_columns": null,
       "grid_auto_flow": null,
       "grid_auto_rows": null,
       "grid_column": null,
       "grid_gap": null,
       "grid_row": null,
       "grid_template_areas": null,
       "grid_template_columns": null,
       "grid_template_rows": null,
       "height": null,
       "justify_content": null,
       "justify_items": null,
       "left": null,
       "margin": null,
       "max_height": null,
       "max_width": null,
       "min_height": null,
       "min_width": null,
       "object_fit": null,
       "object_position": null,
       "order": null,
       "overflow": null,
       "overflow_x": null,
       "overflow_y": null,
       "padding": null,
       "right": null,
       "top": null,
       "visibility": null,
       "width": null
      }
     },
     "3c037aec1dc14e3d8f0081e09a7e495f": {
      "model_module": "@jupyter-widgets/base",
      "model_module_version": "1.2.0",
      "model_name": "LayoutModel",
      "state": {
       "_model_module": "@jupyter-widgets/base",
       "_model_module_version": "1.2.0",
       "_model_name": "LayoutModel",
       "_view_count": null,
       "_view_module": "@jupyter-widgets/base",
       "_view_module_version": "1.2.0",
       "_view_name": "LayoutView",
       "align_content": null,
       "align_items": null,
       "align_self": null,
       "border": null,
       "bottom": null,
       "display": null,
       "flex": null,
       "flex_flow": null,
       "grid_area": null,
       "grid_auto_columns": null,
       "grid_auto_flow": null,
       "grid_auto_rows": null,
       "grid_column": null,
       "grid_gap": null,
       "grid_row": null,
       "grid_template_areas": null,
       "grid_template_columns": null,
       "grid_template_rows": null,
       "height": null,
       "justify_content": null,
       "justify_items": null,
       "left": null,
       "margin": null,
       "max_height": null,
       "max_width": null,
       "min_height": null,
       "min_width": null,
       "object_fit": null,
       "object_position": null,
       "order": null,
       "overflow": null,
       "overflow_x": null,
       "overflow_y": null,
       "padding": null,
       "right": null,
       "top": null,
       "visibility": null,
       "width": null
      }
     },
     "3d3d07066c8c493c8a1e3d62b8788c0e": {
      "model_module": "@jupyter-widgets/base",
      "model_module_version": "1.2.0",
      "model_name": "LayoutModel",
      "state": {
       "_model_module": "@jupyter-widgets/base",
       "_model_module_version": "1.2.0",
       "_model_name": "LayoutModel",
       "_view_count": null,
       "_view_module": "@jupyter-widgets/base",
       "_view_module_version": "1.2.0",
       "_view_name": "LayoutView",
       "align_content": null,
       "align_items": null,
       "align_self": null,
       "border": null,
       "bottom": null,
       "display": null,
       "flex": null,
       "flex_flow": null,
       "grid_area": null,
       "grid_auto_columns": null,
       "grid_auto_flow": null,
       "grid_auto_rows": null,
       "grid_column": null,
       "grid_gap": null,
       "grid_row": null,
       "grid_template_areas": null,
       "grid_template_columns": null,
       "grid_template_rows": null,
       "height": null,
       "justify_content": null,
       "justify_items": null,
       "left": null,
       "margin": null,
       "max_height": null,
       "max_width": null,
       "min_height": null,
       "min_width": null,
       "object_fit": null,
       "object_position": null,
       "order": null,
       "overflow": null,
       "overflow_x": null,
       "overflow_y": null,
       "padding": null,
       "right": null,
       "top": null,
       "visibility": null,
       "width": null
      }
     },
     "3f74c9fa8b09415f9f6742ed5999f089": {
      "model_module": "@jupyter-widgets/controls",
      "model_module_version": "1.5.0",
      "model_name": "HTMLModel",
      "state": {
       "_dom_classes": [],
       "_model_module": "@jupyter-widgets/controls",
       "_model_module_version": "1.5.0",
       "_model_name": "HTMLModel",
       "_view_count": null,
       "_view_module": "@jupyter-widgets/controls",
       "_view_module_version": "1.5.0",
       "_view_name": "HTMLView",
       "description": "",
       "description_tooltip": null,
       "layout": "IPY_MODEL_1c11074c24b54540b6e2493bed461de1",
       "placeholder": "​",
       "style": "IPY_MODEL_2efb3b3edd4549c29ffd52280b4c0a8f",
       "value": "Packets:   "
      }
     },
     "40eb37f6110a4c7d8f192a198e55752d": {
      "model_module": "@jupyter-widgets/controls",
      "model_module_version": "1.5.0",
      "model_name": "HTMLModel",
      "state": {
       "_dom_classes": [],
       "_model_module": "@jupyter-widgets/controls",
       "_model_module_version": "1.5.0",
       "_model_name": "HTMLModel",
       "_view_count": null,
       "_view_module": "@jupyter-widgets/controls",
       "_view_module_version": "1.5.0",
       "_view_name": "HTMLView",
       "description": "",
       "description_tooltip": null,
       "layout": "IPY_MODEL_536fd52e38bc45a5a3938f7385fa3f9f",
       "placeholder": "​",
       "style": "IPY_MODEL_5e6e413f2d9d42e1a2eaa48d083c3809",
       "value": ""
      }
     },
     "51226796747c4bf89504d6ba70436d72": {
      "model_module": "@jupyter-widgets/base",
      "model_module_version": "1.2.0",
      "model_name": "LayoutModel",
      "state": {
       "_model_module": "@jupyter-widgets/base",
       "_model_module_version": "1.2.0",
       "_model_name": "LayoutModel",
       "_view_count": null,
       "_view_module": "@jupyter-widgets/base",
       "_view_module_version": "1.2.0",
       "_view_name": "LayoutView",
       "align_content": null,
       "align_items": null,
       "align_self": null,
       "border": null,
       "bottom": null,
       "display": null,
       "flex": null,
       "flex_flow": null,
       "grid_area": null,
       "grid_auto_columns": null,
       "grid_auto_flow": null,
       "grid_auto_rows": null,
       "grid_column": null,
       "grid_gap": null,
       "grid_row": null,
       "grid_template_areas": null,
       "grid_template_columns": null,
       "grid_template_rows": null,
       "height": null,
       "justify_content": null,
       "justify_items": null,
       "left": null,
       "margin": null,
       "max_height": null,
       "max_width": null,
       "min_height": null,
       "min_width": null,
       "object_fit": null,
       "object_position": null,
       "order": null,
       "overflow": null,
       "overflow_x": null,
       "overflow_y": null,
       "padding": null,
       "right": null,
       "top": null,
       "visibility": null,
       "width": "20px"
      }
     },
     "536fd52e38bc45a5a3938f7385fa3f9f": {
      "model_module": "@jupyter-widgets/base",
      "model_module_version": "1.2.0",
      "model_name": "LayoutModel",
      "state": {
       "_model_module": "@jupyter-widgets/base",
       "_model_module_version": "1.2.0",
       "_model_name": "LayoutModel",
       "_view_count": null,
       "_view_module": "@jupyter-widgets/base",
       "_view_module_version": "1.2.0",
       "_view_name": "LayoutView",
       "align_content": null,
       "align_items": null,
       "align_self": null,
       "border": null,
       "bottom": null,
       "display": null,
       "flex": null,
       "flex_flow": null,
       "grid_area": null,
       "grid_auto_columns": null,
       "grid_auto_flow": null,
       "grid_auto_rows": null,
       "grid_column": null,
       "grid_gap": null,
       "grid_row": null,
       "grid_template_areas": null,
       "grid_template_columns": null,
       "grid_template_rows": null,
       "height": null,
       "justify_content": null,
       "justify_items": null,
       "left": null,
       "margin": null,
       "max_height": null,
       "max_width": null,
       "min_height": null,
       "min_width": null,
       "object_fit": null,
       "object_position": null,
       "order": null,
       "overflow": null,
       "overflow_x": null,
       "overflow_y": null,
       "padding": null,
       "right": null,
       "top": null,
       "visibility": null,
       "width": null
      }
     },
     "54e5f8446d3844b484d0b6a0bf4d0efa": {
      "model_module": "@jupyter-widgets/output",
      "model_module_version": "1.0.0",
      "model_name": "OutputModel",
      "state": {
       "_dom_classes": [],
       "_model_module": "@jupyter-widgets/output",
       "_model_module_version": "1.0.0",
       "_model_name": "OutputModel",
       "_view_count": null,
       "_view_module": "@jupyter-widgets/output",
       "_view_module_version": "1.0.0",
       "_view_name": "OutputView",
       "layout": "IPY_MODEL_7986cd39018f4aed9c502cb90f15f43f",
       "msg_id": "",
       "outputs": []
      }
     },
     "5e6e413f2d9d42e1a2eaa48d083c3809": {
      "model_module": "@jupyter-widgets/controls",
      "model_module_version": "1.5.0",
      "model_name": "DescriptionStyleModel",
      "state": {
       "_model_module": "@jupyter-widgets/controls",
       "_model_module_version": "1.5.0",
       "_model_name": "DescriptionStyleModel",
       "_view_count": null,
       "_view_module": "@jupyter-widgets/base",
       "_view_module_version": "1.2.0",
       "_view_name": "StyleView",
       "description_width": ""
      }
     },
     "65f7eae784914ec197660f2dfb3a39e8": {
      "model_module": "@jupyter-widgets/controls",
      "model_module_version": "1.5.0",
      "model_name": "ProgressStyleModel",
      "state": {
       "_model_module": "@jupyter-widgets/controls",
       "_model_module_version": "1.5.0",
       "_model_name": "ProgressStyleModel",
       "_view_count": null,
       "_view_module": "@jupyter-widgets/base",
       "_view_module_version": "1.2.0",
       "_view_name": "StyleView",
       "bar_color": null,
       "description_width": ""
      }
     },
     "666ca23a41784d35b1c44c4122ad899f": {
      "model_module": "@jupyter-widgets/controls",
      "model_module_version": "1.5.0",
      "model_name": "HTMLModel",
      "state": {
       "_dom_classes": [],
       "_model_module": "@jupyter-widgets/controls",
       "_model_module_version": "1.5.0",
       "_model_name": "HTMLModel",
       "_view_count": null,
       "_view_module": "@jupyter-widgets/controls",
       "_view_module_version": "1.5.0",
       "_view_name": "HTMLView",
       "description": "",
       "description_tooltip": null,
       "layout": "IPY_MODEL_1c11074c24b54540b6e2493bed461de1",
       "placeholder": "​",
       "style": "IPY_MODEL_2efb3b3edd4549c29ffd52280b4c0a8f",
       "value": ""
      }
     },
     "674807735ccf475e94f3fe470e005301": {
      "model_module": "@jupyter-widgets/controls",
      "model_module_version": "1.5.0",
      "model_name": "ProgressStyleModel",
      "state": {
       "_model_module": "@jupyter-widgets/controls",
       "_model_module_version": "1.5.0",
       "_model_name": "ProgressStyleModel",
       "_view_count": null,
       "_view_module": "@jupyter-widgets/base",
       "_view_module_version": "1.2.0",
       "_view_name": "StyleView",
       "bar_color": null,
       "description_width": ""
      }
     },
     "676d5194c1804cf19f65cacace87f801": {
      "model_module": "@jupyter-widgets/controls",
      "model_module_version": "1.5.0",
      "model_name": "HBoxModel",
      "state": {
       "_dom_classes": [],
       "_model_module": "@jupyter-widgets/controls",
       "_model_module_version": "1.5.0",
       "_model_name": "HBoxModel",
       "_view_count": null,
       "_view_module": "@jupyter-widgets/controls",
       "_view_module_version": "1.5.0",
       "_view_name": "HBoxView",
       "box_style": "",
       "children": [
        "IPY_MODEL_bfe90012dc7e40d69fdcf4b1096d88bc",
        "IPY_MODEL_8e9f2113b27c4aa083f9530fd1401611",
        "IPY_MODEL_ca0113040a1441abada7198a1dc37139"
       ],
       "layout": "IPY_MODEL_00a2fa5cd67149a6af030b439bdb223c"
      }
     },
     "78b98259cdcc406e8cf69c68dd915041": {
      "model_module": "@jupyter-widgets/controls",
      "model_module_version": "1.5.0",
      "model_name": "HBoxModel",
      "state": {
       "_dom_classes": [],
       "_model_module": "@jupyter-widgets/controls",
       "_model_module_version": "1.5.0",
       "_model_name": "HBoxModel",
       "_view_count": null,
       "_view_module": "@jupyter-widgets/controls",
       "_view_module_version": "1.5.0",
       "_view_name": "HBoxView",
       "box_style": "",
       "children": [
        "IPY_MODEL_bfe90012dc7e40d69fdcf4b1096d88bc",
        "IPY_MODEL_8e9f2113b27c4aa083f9530fd1401611",
        "IPY_MODEL_ca0113040a1441abada7198a1dc37139"
       ],
       "layout": "IPY_MODEL_00a2fa5cd67149a6af030b439bdb223c"
      }
     },
     "7986cd39018f4aed9c502cb90f15f43f": {
      "model_module": "@jupyter-widgets/base",
      "model_module_version": "1.2.0",
      "model_name": "LayoutModel",
      "state": {
       "_model_module": "@jupyter-widgets/base",
       "_model_module_version": "1.2.0",
       "_model_name": "LayoutModel",
       "_view_count": null,
       "_view_module": "@jupyter-widgets/base",
       "_view_module_version": "1.2.0",
       "_view_name": "LayoutView",
       "align_content": null,
       "align_items": null,
       "align_self": null,
       "border": null,
       "bottom": null,
       "display": null,
       "flex": null,
       "flex_flow": null,
       "grid_area": null,
       "grid_auto_columns": null,
       "grid_auto_flow": null,
       "grid_auto_rows": null,
       "grid_column": null,
       "grid_gap": null,
       "grid_row": null,
       "grid_template_areas": null,
       "grid_template_columns": null,
       "grid_template_rows": null,
       "height": null,
       "justify_content": null,
       "justify_items": null,
       "left": null,
       "margin": null,
       "max_height": null,
       "max_width": null,
       "min_height": null,
       "min_width": null,
       "object_fit": null,
       "object_position": null,
       "order": null,
       "overflow": null,
       "overflow_x": null,
       "overflow_y": null,
       "padding": null,
       "right": null,
       "top": null,
       "visibility": null,
       "width": null
      }
     },
     "79dd7d6289a34736aefd39ef98642741": {
      "model_module": "@jupyter-widgets/controls",
      "model_module_version": "1.5.0",
      "model_name": "DescriptionStyleModel",
      "state": {
       "_model_module": "@jupyter-widgets/controls",
       "_model_module_version": "1.5.0",
       "_model_name": "DescriptionStyleModel",
       "_view_count": null,
       "_view_module": "@jupyter-widgets/base",
       "_view_module_version": "1.2.0",
       "_view_name": "StyleView",
       "description_width": ""
      }
     },
     "7a3287fe9f2b41579a179fbe3cd522e9": {
      "model_module": "@jupyter-widgets/controls",
      "model_module_version": "1.5.0",
      "model_name": "DescriptionStyleModel",
      "state": {
       "_model_module": "@jupyter-widgets/controls",
       "_model_module_version": "1.5.0",
       "_model_name": "DescriptionStyleModel",
       "_view_count": null,
       "_view_module": "@jupyter-widgets/base",
       "_view_module_version": "1.2.0",
       "_view_name": "StyleView",
       "description_width": ""
      }
     },
     "7af86ef8fb22431a8a678b68cca90ab0": {
      "model_module": "@jupyter-widgets/base",
      "model_module_version": "1.2.0",
      "model_name": "LayoutModel",
      "state": {
       "_model_module": "@jupyter-widgets/base",
       "_model_module_version": "1.2.0",
       "_model_name": "LayoutModel",
       "_view_count": null,
       "_view_module": "@jupyter-widgets/base",
       "_view_module_version": "1.2.0",
       "_view_name": "LayoutView",
       "align_content": null,
       "align_items": null,
       "align_self": null,
       "border": null,
       "bottom": null,
       "display": null,
       "flex": null,
       "flex_flow": null,
       "grid_area": null,
       "grid_auto_columns": null,
       "grid_auto_flow": null,
       "grid_auto_rows": null,
       "grid_column": null,
       "grid_gap": null,
       "grid_row": null,
       "grid_template_areas": null,
       "grid_template_columns": null,
       "grid_template_rows": null,
       "height": null,
       "justify_content": null,
       "justify_items": null,
       "left": null,
       "margin": null,
       "max_height": null,
       "max_width": null,
       "min_height": null,
       "min_width": null,
       "object_fit": null,
       "object_position": null,
       "order": null,
       "overflow": null,
       "overflow_x": null,
       "overflow_y": null,
       "padding": null,
       "right": null,
       "top": null,
       "visibility": null,
       "width": null
      }
     },
     "7c7e02087bd6402ab3cd9b0d067d76cd": {
      "model_module": "@jupyter-widgets/controls",
      "model_module_version": "1.5.0",
      "model_name": "DescriptionStyleModel",
      "state": {
       "_model_module": "@jupyter-widgets/controls",
       "_model_module_version": "1.5.0",
       "_model_name": "DescriptionStyleModel",
       "_view_count": null,
       "_view_module": "@jupyter-widgets/base",
       "_view_module_version": "1.2.0",
       "_view_name": "StyleView",
       "description_width": ""
      }
     },
     "8c77383e62944399bbfcb7c88c9aaa3c": {
      "model_module": "@jupyter-widgets/base",
      "model_module_version": "1.2.0",
      "model_name": "LayoutModel",
      "state": {
       "_model_module": "@jupyter-widgets/base",
       "_model_module_version": "1.2.0",
       "_model_name": "LayoutModel",
       "_view_count": null,
       "_view_module": "@jupyter-widgets/base",
       "_view_module_version": "1.2.0",
       "_view_name": "LayoutView",
       "align_content": null,
       "align_items": null,
       "align_self": null,
       "border": null,
       "bottom": null,
       "display": null,
       "flex": null,
       "flex_flow": null,
       "grid_area": null,
       "grid_auto_columns": null,
       "grid_auto_flow": null,
       "grid_auto_rows": null,
       "grid_column": null,
       "grid_gap": null,
       "grid_row": null,
       "grid_template_areas": null,
       "grid_template_columns": null,
       "grid_template_rows": null,
       "height": null,
       "justify_content": null,
       "justify_items": null,
       "left": null,
       "margin": null,
       "max_height": null,
       "max_width": null,
       "min_height": null,
       "min_width": null,
       "object_fit": null,
       "object_position": null,
       "order": null,
       "overflow": null,
       "overflow_x": null,
       "overflow_y": null,
       "padding": null,
       "right": null,
       "top": null,
       "visibility": null,
       "width": null
      }
     },
     "8d64382613654baab4274a877a9edc8d": {
      "model_module": "@jupyter-widgets/base",
      "model_module_version": "1.2.0",
      "model_name": "LayoutModel",
      "state": {
       "_model_module": "@jupyter-widgets/base",
       "_model_module_version": "1.2.0",
       "_model_name": "LayoutModel",
       "_view_count": null,
       "_view_module": "@jupyter-widgets/base",
       "_view_module_version": "1.2.0",
       "_view_name": "LayoutView",
       "align_content": null,
       "align_items": null,
       "align_self": null,
       "border": null,
       "bottom": null,
       "display": null,
       "flex": null,
       "flex_flow": null,
       "grid_area": null,
       "grid_auto_columns": null,
       "grid_auto_flow": null,
       "grid_auto_rows": null,
       "grid_column": null,
       "grid_gap": null,
       "grid_row": null,
       "grid_template_areas": null,
       "grid_template_columns": null,
       "grid_template_rows": null,
       "height": null,
       "justify_content": null,
       "justify_items": null,
       "left": null,
       "margin": null,
       "max_height": null,
       "max_width": null,
       "min_height": null,
       "min_width": null,
       "object_fit": null,
       "object_position": null,
       "order": null,
       "overflow": null,
       "overflow_x": null,
       "overflow_y": null,
       "padding": null,
       "right": null,
       "top": null,
       "visibility": null,
       "width": null
      }
     },
     "8e9f2113b27c4aa083f9530fd1401611": {
      "model_module": "@jupyter-widgets/controls",
      "model_module_version": "1.5.0",
      "model_name": "FloatProgressModel",
      "state": {
       "_dom_classes": [],
       "_model_module": "@jupyter-widgets/controls",
       "_model_module_version": "1.5.0",
       "_model_name": "FloatProgressModel",
       "_view_count": null,
       "_view_module": "@jupyter-widgets/controls",
       "_view_module_version": "1.5.0",
       "_view_name": "ProgressView",
       "bar_style": "info",
       "description": "",
       "description_tooltip": null,
       "layout": "IPY_MODEL_cd71a84bba494b829663cd542adaabc7",
       "max": 1.0,
       "min": 0.0,
       "orientation": "horizontal",
       "style": "IPY_MODEL_674807735ccf475e94f3fe470e005301",
       "value": 1.0
      }
     },
     "9512190957b14dbabdf88a2ed7d954e9": {
      "model_module": "@jupyter-widgets/controls",
      "model_module_version": "1.5.0",
      "model_name": "HTMLModel",
      "state": {
       "_dom_classes": [],
       "_model_module": "@jupyter-widgets/controls",
       "_model_module_version": "1.5.0",
       "_model_name": "HTMLModel",
       "_view_count": null,
       "_view_module": "@jupyter-widgets/controls",
       "_view_module_version": "1.5.0",
       "_view_name": "HTMLView",
       "description": "",
       "description_tooltip": null,
       "layout": "IPY_MODEL_7af86ef8fb22431a8a678b68cca90ab0",
       "placeholder": "​",
       "style": "IPY_MODEL_05d54c8f8075499eb752a9df17297485",
       "value": ""
      }
     },
     "98a16e565a274fcf9500f220183408c5": {
      "model_module": "@jupyter-widgets/controls",
      "model_module_version": "1.5.0",
      "model_name": "ProgressStyleModel",
      "state": {
       "_model_module": "@jupyter-widgets/controls",
       "_model_module_version": "1.5.0",
       "_model_name": "ProgressStyleModel",
       "_view_count": null,
       "_view_module": "@jupyter-widgets/base",
       "_view_module_version": "1.2.0",
       "_view_name": "StyleView",
       "bar_color": null,
       "description_width": ""
      }
     },
     "993eaa1df0634af9aebe489f36856afd": {
      "model_module": "@jupyter-widgets/base",
      "model_module_version": "1.2.0",
      "model_name": "LayoutModel",
      "state": {
       "_model_module": "@jupyter-widgets/base",
       "_model_module_version": "1.2.0",
       "_model_name": "LayoutModel",
       "_view_count": null,
       "_view_module": "@jupyter-widgets/base",
       "_view_module_version": "1.2.0",
       "_view_name": "LayoutView",
       "align_content": null,
       "align_items": null,
       "align_self": null,
       "border": null,
       "bottom": null,
       "display": null,
       "flex": null,
       "flex_flow": null,
       "grid_area": null,
       "grid_auto_columns": null,
       "grid_auto_flow": null,
       "grid_auto_rows": null,
       "grid_column": null,
       "grid_gap": null,
       "grid_row": null,
       "grid_template_areas": null,
       "grid_template_columns": null,
       "grid_template_rows": null,
       "height": null,
       "justify_content": null,
       "justify_items": null,
       "left": null,
       "margin": null,
       "max_height": null,
       "max_width": null,
       "min_height": null,
       "min_width": null,
       "object_fit": null,
       "object_position": null,
       "order": null,
       "overflow": null,
       "overflow_x": null,
       "overflow_y": null,
       "padding": null,
       "right": null,
       "top": null,
       "visibility": null,
       "width": null
      }
     },
     "a050aec1a1ef4833953d728cc3437f30": {
      "model_module": "@jupyter-widgets/controls",
      "model_module_version": "1.5.0",
      "model_name": "FloatProgressModel",
      "state": {
       "_dom_classes": [],
       "_model_module": "@jupyter-widgets/controls",
       "_model_module_version": "1.5.0",
       "_model_name": "FloatProgressModel",
       "_view_count": null,
       "_view_module": "@jupyter-widgets/controls",
       "_view_module_version": "1.5.0",
       "_view_name": "ProgressView",
       "bar_style": "info",
       "description": "",
       "description_tooltip": null,
       "layout": "IPY_MODEL_51226796747c4bf89504d6ba70436d72",
       "max": 1.0,
       "min": 0.0,
       "orientation": "horizontal",
       "style": "IPY_MODEL_98a16e565a274fcf9500f220183408c5",
       "value": 0.0
      }
     },
     "a4e159108213400fbe7e006f5f6ae081": {
      "model_module": "@jupyter-widgets/controls",
      "model_module_version": "1.5.0",
      "model_name": "FloatProgressModel",
      "state": {
       "_dom_classes": [],
       "_model_module": "@jupyter-widgets/controls",
       "_model_module_version": "1.5.0",
       "_model_name": "FloatProgressModel",
       "_view_count": null,
       "_view_module": "@jupyter-widgets/controls",
       "_view_module_version": "1.5.0",
       "_view_name": "ProgressView",
       "bar_style": "",
       "description": "",
       "description_tooltip": null,
       "layout": "IPY_MODEL_51226796747c4bf89504d6ba70436d72",
       "max": 1.0,
       "min": 0.0,
       "orientation": "horizontal",
       "style": "IPY_MODEL_98a16e565a274fcf9500f220183408c5",
       "value": 0.0
      }
     },
     "aa1f2743f2734398bda6a5c6a3708934": {
      "model_module": "@jupyter-widgets/controls",
      "model_module_version": "1.5.0",
      "model_name": "HBoxModel",
      "state": {
       "_dom_classes": [],
       "_model_module": "@jupyter-widgets/controls",
       "_model_module_version": "1.5.0",
       "_model_name": "HBoxModel",
       "_view_count": null,
       "_view_module": "@jupyter-widgets/controls",
       "_view_module_version": "1.5.0",
       "_view_name": "HBoxView",
       "box_style": "",
       "children": [
        "IPY_MODEL_3f74c9fa8b09415f9f6742ed5999f089",
        "IPY_MODEL_a050aec1a1ef4833953d728cc3437f30",
        "IPY_MODEL_04f607036f944e03a97a987ab3ff48c5"
       ],
       "layout": "IPY_MODEL_38b2e7d008c0439baea507c1082bc484"
      }
     },
     "afe8671bdb63412993cdccbe1e5ab7f2": {
      "model_module": "@jupyter-widgets/output",
      "model_module_version": "1.0.0",
      "model_name": "OutputModel",
      "state": {
       "_dom_classes": [],
       "_model_module": "@jupyter-widgets/output",
       "_model_module_version": "1.0.0",
       "_model_name": "OutputModel",
       "_view_count": null,
       "_view_module": "@jupyter-widgets/output",
       "_view_module_version": "1.0.0",
       "_view_name": "OutputView",
       "layout": "IPY_MODEL_7986cd39018f4aed9c502cb90f15f43f",
       "msg_id": "",
       "outputs": []
      }
     },
     "bfe90012dc7e40d69fdcf4b1096d88bc": {
      "model_module": "@jupyter-widgets/controls",
      "model_module_version": "1.5.0",
      "model_name": "HTMLModel",
      "state": {
       "_dom_classes": [],
       "_model_module": "@jupyter-widgets/controls",
       "_model_module_version": "1.5.0",
       "_model_name": "HTMLModel",
       "_view_count": null,
       "_view_module": "@jupyter-widgets/controls",
       "_view_module_version": "1.5.0",
       "_view_name": "HTMLView",
       "description": "",
       "description_tooltip": null,
       "layout": "IPY_MODEL_536fd52e38bc45a5a3938f7385fa3f9f",
       "placeholder": "​",
       "style": "IPY_MODEL_5e6e413f2d9d42e1a2eaa48d083c3809",
       "value": "Iterations:"
      }
     },
     "c2173797bd844d4ab2bd5d377986b52f": {
      "model_module": "@jupyter-widgets/controls",
      "model_module_version": "1.5.0",
      "model_name": "HBoxModel",
      "state": {
       "_dom_classes": [],
       "_model_module": "@jupyter-widgets/controls",
       "_model_module_version": "1.5.0",
       "_model_name": "HBoxModel",
       "_view_count": null,
       "_view_module": "@jupyter-widgets/controls",
       "_view_module_version": "1.5.0",
       "_view_name": "HBoxView",
       "box_style": "",
       "children": [
        "IPY_MODEL_3f74c9fa8b09415f9f6742ed5999f089",
        "IPY_MODEL_a050aec1a1ef4833953d728cc3437f30",
        "IPY_MODEL_04f607036f944e03a97a987ab3ff48c5"
       ],
       "layout": "IPY_MODEL_38b2e7d008c0439baea507c1082bc484"
      }
     },
     "c46d08a0b4364c4cb778c6e847bebf39": {
      "model_module": "@jupyter-widgets/base",
      "model_module_version": "1.2.0",
      "model_name": "LayoutModel",
      "state": {
       "_model_module": "@jupyter-widgets/base",
       "_model_module_version": "1.2.0",
       "_model_name": "LayoutModel",
       "_view_count": null,
       "_view_module": "@jupyter-widgets/base",
       "_view_module_version": "1.2.0",
       "_view_name": "LayoutView",
       "align_content": null,
       "align_items": null,
       "align_self": null,
       "border": null,
       "bottom": null,
       "display": null,
       "flex": null,
       "flex_flow": null,
       "grid_area": null,
       "grid_auto_columns": null,
       "grid_auto_flow": null,
       "grid_auto_rows": null,
       "grid_column": null,
       "grid_gap": null,
       "grid_row": null,
       "grid_template_areas": null,
       "grid_template_columns": null,
       "grid_template_rows": null,
       "height": null,
       "justify_content": null,
       "justify_items": null,
       "left": null,
       "margin": null,
       "max_height": null,
       "max_width": null,
       "min_height": null,
       "min_width": null,
       "object_fit": null,
       "object_position": null,
       "order": null,
       "overflow": null,
       "overflow_x": null,
       "overflow_y": null,
       "padding": null,
       "right": null,
       "top": null,
       "visibility": null,
       "width": null
      }
     },
     "ca0113040a1441abada7198a1dc37139": {
      "model_module": "@jupyter-widgets/controls",
      "model_module_version": "1.5.0",
      "model_name": "HTMLModel",
      "state": {
       "_dom_classes": [],
       "_model_module": "@jupyter-widgets/controls",
       "_model_module_version": "1.5.0",
       "_model_name": "HTMLModel",
       "_view_count": null,
       "_view_module": "@jupyter-widgets/controls",
       "_view_module_version": "1.5.0",
       "_view_name": "HTMLView",
       "description": "",
       "description_tooltip": null,
       "layout": "IPY_MODEL_ef24fe393a2f4c16bb74cee63d52b5ba",
       "placeholder": "​",
       "style": "IPY_MODEL_eb0b447d5d4a4530ac89383e765133ae",
       "value": "20/? [00:50&lt;00:00,  2.71s/it]"
      }
     },
     "cd71a84bba494b829663cd542adaabc7": {
      "model_module": "@jupyter-widgets/base",
      "model_module_version": "1.2.0",
      "model_name": "LayoutModel",
      "state": {
       "_model_module": "@jupyter-widgets/base",
       "_model_module_version": "1.2.0",
       "_model_name": "LayoutModel",
       "_view_count": null,
       "_view_module": "@jupyter-widgets/base",
       "_view_module_version": "1.2.0",
       "_view_name": "LayoutView",
       "align_content": null,
       "align_items": null,
       "align_self": null,
       "border": null,
       "bottom": null,
       "display": null,
       "flex": null,
       "flex_flow": null,
       "grid_area": null,
       "grid_auto_columns": null,
       "grid_auto_flow": null,
       "grid_auto_rows": null,
       "grid_column": null,
       "grid_gap": null,
       "grid_row": null,
       "grid_template_areas": null,
       "grid_template_columns": null,
       "grid_template_rows": null,
       "height": null,
       "justify_content": null,
       "justify_items": null,
       "left": null,
       "margin": null,
       "max_height": null,
       "max_width": null,
       "min_height": null,
       "min_width": null,
       "object_fit": null,
       "object_position": null,
       "order": null,
       "overflow": null,
       "overflow_x": null,
       "overflow_y": null,
       "padding": null,
       "right": null,
       "top": null,
       "visibility": null,
       "width": "20px"
      }
     },
     "d84b001baa234e9abd51d62ad4b3af88": {
      "model_module": "@jupyter-widgets/base",
      "model_module_version": "1.2.0",
      "model_name": "LayoutModel",
      "state": {
       "_model_module": "@jupyter-widgets/base",
       "_model_module_version": "1.2.0",
       "_model_name": "LayoutModel",
       "_view_count": null,
       "_view_module": "@jupyter-widgets/base",
       "_view_module_version": "1.2.0",
       "_view_name": "LayoutView",
       "align_content": null,
       "align_items": null,
       "align_self": null,
       "border": null,
       "bottom": null,
       "display": null,
       "flex": null,
       "flex_flow": null,
       "grid_area": null,
       "grid_auto_columns": null,
       "grid_auto_flow": null,
       "grid_auto_rows": null,
       "grid_column": null,
       "grid_gap": null,
       "grid_row": null,
       "grid_template_areas": null,
       "grid_template_columns": null,
       "grid_template_rows": null,
       "height": null,
       "justify_content": null,
       "justify_items": null,
       "left": null,
       "margin": null,
       "max_height": null,
       "max_width": null,
       "min_height": null,
       "min_width": null,
       "object_fit": null,
       "object_position": null,
       "order": null,
       "overflow": null,
       "overflow_x": null,
       "overflow_y": null,
       "padding": null,
       "right": null,
       "top": null,
       "visibility": null,
       "width": null
      }
     },
     "d8c3173c7ee44ac49e64b58cb2df2316": {
      "model_module": "@jupyter-widgets/controls",
      "model_module_version": "1.5.0",
      "model_name": "FloatProgressModel",
      "state": {
       "_dom_classes": [],
       "_model_module": "@jupyter-widgets/controls",
       "_model_module_version": "1.5.0",
       "_model_name": "FloatProgressModel",
       "_view_count": null,
       "_view_module": "@jupyter-widgets/controls",
       "_view_module_version": "1.5.0",
       "_view_name": "ProgressView",
       "bar_style": "",
       "description": "",
       "description_tooltip": null,
       "layout": "IPY_MODEL_cd71a84bba494b829663cd542adaabc7",
       "max": 1.0,
       "min": 0.0,
       "orientation": "horizontal",
       "style": "IPY_MODEL_674807735ccf475e94f3fe470e005301",
       "value": 0.0
      }
     },
     "e3c5fde018f34eeca1818c98a2169fd9": {
      "model_module": "@jupyter-widgets/controls",
      "model_module_version": "1.5.0",
      "model_name": "DescriptionStyleModel",
      "state": {
       "_model_module": "@jupyter-widgets/controls",
       "_model_module_version": "1.5.0",
       "_model_name": "DescriptionStyleModel",
       "_view_count": null,
       "_view_module": "@jupyter-widgets/base",
       "_view_module_version": "1.2.0",
       "_view_name": "StyleView",
       "description_width": ""
      }
     },
     "e8b53d04b4ac45c1ba3098ccecbbfcfa": {
      "model_module": "@jupyter-widgets/base",
      "model_module_version": "1.2.0",
      "model_name": "LayoutModel",
      "state": {
       "_model_module": "@jupyter-widgets/base",
       "_model_module_version": "1.2.0",
       "_model_name": "LayoutModel",
       "_view_count": null,
       "_view_module": "@jupyter-widgets/base",
       "_view_module_version": "1.2.0",
       "_view_name": "LayoutView",
       "align_content": null,
       "align_items": null,
       "align_self": null,
       "border": null,
       "bottom": null,
       "display": null,
       "flex": null,
       "flex_flow": null,
       "grid_area": null,
       "grid_auto_columns": null,
       "grid_auto_flow": null,
       "grid_auto_rows": null,
       "grid_column": null,
       "grid_gap": null,
       "grid_row": null,
       "grid_template_areas": null,
       "grid_template_columns": null,
       "grid_template_rows": null,
       "height": null,
       "justify_content": null,
       "justify_items": null,
       "left": null,
       "margin": null,
       "max_height": null,
       "max_width": null,
       "min_height": null,
       "min_width": null,
       "object_fit": null,
       "object_position": null,
       "order": null,
       "overflow": null,
       "overflow_x": null,
       "overflow_y": null,
       "padding": null,
       "right": null,
       "top": null,
       "visibility": null,
       "width": null
      }
     },
     "eb0b447d5d4a4530ac89383e765133ae": {
      "model_module": "@jupyter-widgets/controls",
      "model_module_version": "1.5.0",
      "model_name": "DescriptionStyleModel",
      "state": {
       "_model_module": "@jupyter-widgets/controls",
       "_model_module_version": "1.5.0",
       "_model_name": "DescriptionStyleModel",
       "_view_count": null,
       "_view_module": "@jupyter-widgets/base",
       "_view_module_version": "1.2.0",
       "_view_name": "StyleView",
       "description_width": ""
      }
     },
     "ef24fe393a2f4c16bb74cee63d52b5ba": {
      "model_module": "@jupyter-widgets/base",
      "model_module_version": "1.2.0",
      "model_name": "LayoutModel",
      "state": {
       "_model_module": "@jupyter-widgets/base",
       "_model_module_version": "1.2.0",
       "_model_name": "LayoutModel",
       "_view_count": null,
       "_view_module": "@jupyter-widgets/base",
       "_view_module_version": "1.2.0",
       "_view_name": "LayoutView",
       "align_content": null,
       "align_items": null,
       "align_self": null,
       "border": null,
       "bottom": null,
       "display": null,
       "flex": null,
       "flex_flow": null,
       "grid_area": null,
       "grid_auto_columns": null,
       "grid_auto_flow": null,
       "grid_auto_rows": null,
       "grid_column": null,
       "grid_gap": null,
       "grid_row": null,
       "grid_template_areas": null,
       "grid_template_columns": null,
       "grid_template_rows": null,
       "height": null,
       "justify_content": null,
       "justify_items": null,
       "left": null,
       "margin": null,
       "max_height": null,
       "max_width": null,
       "min_height": null,
       "min_width": null,
       "object_fit": null,
       "object_position": null,
       "order": null,
       "overflow": null,
       "overflow_x": null,
       "overflow_y": null,
       "padding": null,
       "right": null,
       "top": null,
       "visibility": null,
       "width": null
      }
     },
     "f1e8c35d3f4e4445b673f30b9c57d328": {
      "model_module": "@jupyter-widgets/output",
      "model_module_version": "1.0.0",
      "model_name": "OutputModel",
      "state": {
       "_dom_classes": [],
       "_model_module": "@jupyter-widgets/output",
       "_model_module_version": "1.0.0",
       "_model_name": "OutputModel",
       "_view_count": null,
       "_view_module": "@jupyter-widgets/output",
       "_view_module_version": "1.0.0",
       "_view_name": "OutputView",
       "layout": "IPY_MODEL_3c037aec1dc14e3d8f0081e09a7e495f",
       "msg_id": "",
       "outputs": []
      }
     },
     "f66d8a3fadad41cfb018566b732546d9": {
      "model_module": "@jupyter-widgets/controls",
      "model_module_version": "1.5.0",
      "model_name": "HTMLModel",
      "state": {
       "_dom_classes": [],
       "_model_module": "@jupyter-widgets/controls",
       "_model_module_version": "1.5.0",
       "_model_name": "HTMLModel",
       "_view_count": null,
       "_view_module": "@jupyter-widgets/controls",
       "_view_module_version": "1.5.0",
       "_view_name": "HTMLView",
       "description": "",
       "description_tooltip": null,
       "layout": "IPY_MODEL_ef24fe393a2f4c16bb74cee63d52b5ba",
       "placeholder": "​",
       "style": "IPY_MODEL_eb0b447d5d4a4530ac89383e765133ae",
       "value": ""
      }
     }
    },
    "version_major": 2,
    "version_minor": 0
   }
  }
 },
 "nbformat": 4,
 "nbformat_minor": 5
}
