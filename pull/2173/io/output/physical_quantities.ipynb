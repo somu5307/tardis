{
 "cells": [
  {
   "cell_type": "markdown",
   "metadata": {
    "raw_mimetype": "text/restructuredtext"
   },
   "source": [
    "# Accessing Physical Quantities"
   ]
  },
  {
   "cell_type": "markdown",
   "metadata": {},
   "source": [
    "In order to compute the synthetic spectrum, TARDIS must either be told\n",
    "or must calculate many physical properties of the model. To understand and\n",
    "test the code it can be important to look at these values. One\n",
    "easy way to do this is to run TARDIS in an interactive mode and then\n",
    "inspect the model properties."
   ]
  },
  {
   "cell_type": "markdown",
   "metadata": {},
   "source": [
    "### Runing in interactive Python session"
   ]
  },
  {
   "cell_type": "code",
   "execution_count": 1,
   "metadata": {
    "execution": {
     "iopub.execute_input": "2022-12-12T15:13:54.881277Z",
     "iopub.status.busy": "2022-12-12T15:13:54.880881Z",
     "iopub.status.idle": "2022-12-12T15:14:01.905028Z",
     "shell.execute_reply": "2022-12-12T15:14:01.904193Z"
    }
   },
   "outputs": [
    {
     "name": "stderr",
     "output_type": "stream",
     "text": [
      "/usr/share/miniconda3/envs/tardis/lib/python3.8/site-packages/setuptools_scm/git.py:105: UserWarning: \"/home/runner/work/tardis/tardis\" is shallow and may cause errors\n",
      "  warnings.warn(f'\"{wd.path}\" is shallow and may cause errors')\n"
     ]
    },
    {
     "data": {
      "application/vnd.jupyter.widget-view+json": {
       "model_id": "33f31782969a4065b5a4bed5113e1eef",
       "version_major": 2,
       "version_minor": 0
      },
      "text/plain": [
       "Iterations:          0/? [00:00<?, ?it/s]"
      ]
     },
     "metadata": {},
     "output_type": "display_data"
    },
    {
     "data": {
      "application/vnd.jupyter.widget-view+json": {
       "model_id": "86f0273699eb45c1b52a2b9cdc74ed49",
       "version_major": 2,
       "version_minor": 0
      },
      "text/plain": [
       "Packets:             0/? [00:00<?, ?it/s]"
      ]
     },
     "metadata": {},
     "output_type": "display_data"
    },
    {
     "name": "stdout",
     "output_type": "stream",
     "text": [
      "  % Total    % Received % Xferd  Average Speed   Time    Time     Time  Current\r\n",
      "                                 Dload  Upload   Total   Spent    Left  Speed\r\n",
      "\r",
      "  0     0    0     0    0     0      0      0 --:--:-- --:--:-- --:--:--     0"
     ]
    },
    {
     "name": "stdout",
     "output_type": "stream",
     "text": [
      "\r",
      "100   980  100   980    0     0   3972      0 --:--:-- --:--:-- --:--:--  3983\r\n"
     ]
    }
   ],
   "source": [
    "# Download the atomic data\n",
    "from tardis.io.atom_data.util import download_atom_data\n",
    "download_atom_data('kurucz_cd23_chianti_H_He')\n",
    "\n",
    "# Download the example configuration file\n",
    "!curl -O https://raw.githubusercontent.com/tardis-sn/tardis/master/docs/tardis_example.yml"
   ]
  },
  {
   "cell_type": "code",
   "execution_count": 2,
   "metadata": {
    "execution": {
     "iopub.execute_input": "2022-12-12T15:14:01.908954Z",
     "iopub.status.busy": "2022-12-12T15:14:01.908471Z",
     "iopub.status.idle": "2022-12-12T15:14:50.643458Z",
     "shell.execute_reply": "2022-12-12T15:14:50.642918Z"
    }
   },
   "outputs": [
    {
     "name": "stdout",
     "output_type": "stream",
     "text": [
      "[\u001b[1mtardis.plasma.standard_plasmas\u001b[0m][\u001b[1;37mINFO\u001b[0m   ]  \n",
      "\t\n",
      "\tReading Atomic Data from kurucz_cd23_chianti_H_He.h5 (\u001b[1mstandard_plasmas.py\u001b[0m:95)\n"
     ]
    },
    {
     "name": "stdout",
     "output_type": "stream",
     "text": [
      "[\u001b[1mtardis.io.atom_data.util\u001b[0m][\u001b[1;37mINFO\u001b[0m   ]  \n",
      "\t\n",
      "\tAtom Data kurucz_cd23_chianti_H_He.h5 not found in local path.\n",
      "\tExists in TARDIS Data repo /home/runner/Downloads/tardis-data/kurucz_cd23_chianti_H_He.h5 (\u001b[1mutil.py\u001b[0m:33)\n"
     ]
    },
    {
     "name": "stdout",
     "output_type": "stream",
     "text": [
      "[\u001b[1mtardis.io.atom_data.base\u001b[0m][\u001b[1;37mINFO\u001b[0m   ]  \n",
      "\tReading Atom Data with: UUID = 6f7b09e887a311e7a06b246e96350010 MD5  = 864f1753714343c41f99cb065710cace  (\u001b[1mbase.py\u001b[0m:249)\n"
     ]
    },
    {
     "name": "stdout",
     "output_type": "stream",
     "text": [
      "[\u001b[1mtardis.io.atom_data.base\u001b[0m][\u001b[1;37mINFO\u001b[0m   ]  \n",
      "\tNon provided Atomic Data: synpp_refs, photoionization_data, yg_data, two_photon_data (\u001b[1mbase.py\u001b[0m:253)\n"
     ]
    },
    {
     "name": "stdout",
     "output_type": "stream",
     "text": [
      "[\u001b[1mpy.warnings         \u001b[0m][\u001b[1;33mWARNING\u001b[0m]  \n",
      "\t/home/runner/work/tardis/tardis/tardis/plasma/properties/radiative_properties.py:93: RuntimeWarning: invalid value encountered in true_divide\n",
      "  (g_lower * n_upper) / (g_upper * n_lower)\n",
      " (\u001b[1mwarnings.py\u001b[0m:109)\n"
     ]
    },
    {
     "name": "stdout",
     "output_type": "stream",
     "text": [
      "[\u001b[1mpy.warnings         \u001b[0m][\u001b[1;33mWARNING\u001b[0m]  \n",
      "\t/home/runner/work/tardis/tardis/tardis/plasma/properties/radiative_properties.py:93: RuntimeWarning: invalid value encountered in true_divide\n",
      "  (g_lower * n_upper) / (g_upper * n_lower)\n",
      " (\u001b[1mwarnings.py\u001b[0m:109)\n"
     ]
    },
    {
     "name": "stdout",
     "output_type": "stream",
     "text": [
      "[\u001b[1mtardis.simulation.base\u001b[0m][\u001b[1;37mINFO\u001b[0m   ]  \n",
      "\t\n",
      "\tStarting iteration 1 of 20 (\u001b[1mbase.py\u001b[0m:381)\n"
     ]
    },
    {
     "data": {
      "application/vnd.jupyter.widget-view+json": {
       "model_id": "3c450a471e2a4e3d9d48da90b9e0dd58",
       "version_major": 2,
       "version_minor": 0
      },
      "text/plain": [
       "TqdmHBox(children=(HTML(value='Iterations:', layout=Layout(width='6%')), FloatProgress(value=0.0, layout=Layou…"
      ]
     },
     "metadata": {},
     "output_type": "display_data"
    },
    {
     "data": {
      "application/vnd.jupyter.widget-view+json": {
       "model_id": "14da6847a0a942bda86423c3b6eff223",
       "version_major": 2,
       "version_minor": 0
      },
      "text/plain": [
       "TqdmHBox(children=(HTML(value='Packets:   ', layout=Layout(width='6%')), FloatProgress(value=0.0, layout=Layou…"
      ]
     },
     "metadata": {},
     "output_type": "display_data"
    },
    {
     "name": "stdout",
     "output_type": "stream",
     "text": [
      "[\u001b[1mtardis.simulation.base\u001b[0m][\u001b[1;37mINFO\u001b[0m   ]  \n",
      "\t\n",
      "\tLuminosity emitted   = 7.942e+42 erg / s\n",
      "\tLuminosity absorbed  = 2.659e+42 erg / s\n",
      "\tLuminosity requested = 1.059e+43 erg / s\n",
      " (\u001b[1mbase.py\u001b[0m:555)\n"
     ]
    },
    {
     "name": "stdout",
     "output_type": "stream",
     "text": [
      "[\u001b[1mtardis.simulation.base\u001b[0m][\u001b[1;37mINFO\u001b[0m   ]  \n",
      "\t\n",
      "\tPlasma stratification: (\u001b[1mbase.py\u001b[0m:523)\n"
     ]
    },
    {
     "data": {
      "text/html": [
       "<style  type=\"text/css\" >\n",
       "</style><table id=\"T_ace20bea_7a2f_11ed_93b1_6045bdf6b08d\" ><thead>    <tr>        <th class=\"index_name level0\" >Shell No.</th>        <th class=\"col_heading level0 col0\" >t_rad</th>        <th class=\"col_heading level0 col1\" >next_t_rad</th>        <th class=\"col_heading level0 col2\" >w</th>        <th class=\"col_heading level0 col3\" >next_w</th>    </tr></thead><tbody>\n",
       "                <tr>\n",
       "                        <th id=\"T_ace20bea_7a2f_11ed_93b1_6045bdf6b08dlevel0_row0\" class=\"row_heading level0 row0\" >0</th>\n",
       "                        <td id=\"T_ace20bea_7a2f_11ed_93b1_6045bdf6b08drow0_col0\" class=\"data row0 col0\" >9.93e+03</td>\n",
       "                        <td id=\"T_ace20bea_7a2f_11ed_93b1_6045bdf6b08drow0_col1\" class=\"data row0 col1\" >1.01e+04</td>\n",
       "                        <td id=\"T_ace20bea_7a2f_11ed_93b1_6045bdf6b08drow0_col2\" class=\"data row0 col2\" >0.4</td>\n",
       "                        <td id=\"T_ace20bea_7a2f_11ed_93b1_6045bdf6b08drow0_col3\" class=\"data row0 col3\" >0.507</td>\n",
       "            </tr>\n",
       "            <tr>\n",
       "                        <th id=\"T_ace20bea_7a2f_11ed_93b1_6045bdf6b08dlevel0_row1\" class=\"row_heading level0 row1\" >5</th>\n",
       "                        <td id=\"T_ace20bea_7a2f_11ed_93b1_6045bdf6b08drow1_col0\" class=\"data row1 col0\" >9.85e+03</td>\n",
       "                        <td id=\"T_ace20bea_7a2f_11ed_93b1_6045bdf6b08drow1_col1\" class=\"data row1 col1\" >1.02e+04</td>\n",
       "                        <td id=\"T_ace20bea_7a2f_11ed_93b1_6045bdf6b08drow1_col2\" class=\"data row1 col2\" >0.211</td>\n",
       "                        <td id=\"T_ace20bea_7a2f_11ed_93b1_6045bdf6b08drow1_col3\" class=\"data row1 col3\" >0.197</td>\n",
       "            </tr>\n",
       "            <tr>\n",
       "                        <th id=\"T_ace20bea_7a2f_11ed_93b1_6045bdf6b08dlevel0_row2\" class=\"row_heading level0 row2\" >10</th>\n",
       "                        <td id=\"T_ace20bea_7a2f_11ed_93b1_6045bdf6b08drow2_col0\" class=\"data row2 col0\" >9.78e+03</td>\n",
       "                        <td id=\"T_ace20bea_7a2f_11ed_93b1_6045bdf6b08drow2_col1\" class=\"data row2 col1\" >1.01e+04</td>\n",
       "                        <td id=\"T_ace20bea_7a2f_11ed_93b1_6045bdf6b08drow2_col2\" class=\"data row2 col2\" >0.143</td>\n",
       "                        <td id=\"T_ace20bea_7a2f_11ed_93b1_6045bdf6b08drow2_col3\" class=\"data row2 col3\" >0.117</td>\n",
       "            </tr>\n",
       "            <tr>\n",
       "                        <th id=\"T_ace20bea_7a2f_11ed_93b1_6045bdf6b08dlevel0_row3\" class=\"row_heading level0 row3\" >15</th>\n",
       "                        <td id=\"T_ace20bea_7a2f_11ed_93b1_6045bdf6b08drow3_col0\" class=\"data row3 col0\" >9.71e+03</td>\n",
       "                        <td id=\"T_ace20bea_7a2f_11ed_93b1_6045bdf6b08drow3_col1\" class=\"data row3 col1\" >9.87e+03</td>\n",
       "                        <td id=\"T_ace20bea_7a2f_11ed_93b1_6045bdf6b08drow3_col2\" class=\"data row3 col2\" >0.105</td>\n",
       "                        <td id=\"T_ace20bea_7a2f_11ed_93b1_6045bdf6b08drow3_col3\" class=\"data row3 col3\" >0.0869</td>\n",
       "            </tr>\n",
       "    </tbody></table>"
      ],
      "text/plain": [
       "<pandas.io.formats.style.Styler at 0x7f73885105e0>"
      ]
     },
     "metadata": {},
     "output_type": "display_data"
    },
    {
     "name": "stdout",
     "output_type": "stream",
     "text": [
      "[\u001b[1mtardis.simulation.base\u001b[0m][\u001b[1;37mINFO\u001b[0m   ]  \n",
      "\t\n",
      "\tCurrent t_inner = 9933.952 K\n",
      "\tExpected t_inner for next iteration = 10703.212 K\n",
      " (\u001b[1mbase.py\u001b[0m:550)\n"
     ]
    },
    {
     "name": "stdout",
     "output_type": "stream",
     "text": [
      "[\u001b[1mpy.warnings         \u001b[0m][\u001b[1;33mWARNING\u001b[0m]  \n",
      "\t/home/runner/work/tardis/tardis/tardis/plasma/properties/radiative_properties.py:93: RuntimeWarning: invalid value encountered in true_divide\n",
      "  (g_lower * n_upper) / (g_upper * n_lower)\n",
      " (\u001b[1mwarnings.py\u001b[0m:109)\n"
     ]
    },
    {
     "name": "stdout",
     "output_type": "stream",
     "text": [
      "[\u001b[1mtardis.simulation.base\u001b[0m][\u001b[1;37mINFO\u001b[0m   ]  \n",
      "\t\n",
      "\tStarting iteration 2 of 20 (\u001b[1mbase.py\u001b[0m:381)\n"
     ]
    },
    {
     "name": "stdout",
     "output_type": "stream",
     "text": [
      "[\u001b[1mtardis.simulation.base\u001b[0m][\u001b[1;37mINFO\u001b[0m   ]  \n",
      "\t\n",
      "\tLuminosity emitted   = 1.071e+43 erg / s\n",
      "\tLuminosity absorbed  = 3.576e+42 erg / s\n",
      "\tLuminosity requested = 1.059e+43 erg / s\n",
      " (\u001b[1mbase.py\u001b[0m:555)\n"
     ]
    },
    {
     "name": "stdout",
     "output_type": "stream",
     "text": [
      "[\u001b[1mtardis.simulation.base\u001b[0m][\u001b[1;37mINFO\u001b[0m   ]  \n",
      "\t\n",
      "\tPlasma stratification: (\u001b[1mbase.py\u001b[0m:523)\n"
     ]
    },
    {
     "data": {
      "text/html": [
       "<style  type=\"text/css\" >\n",
       "</style><table id=\"T_ad4d9b80_7a2f_11ed_93b1_6045bdf6b08d\" ><thead>    <tr>        <th class=\"index_name level0\" >Shell No.</th>        <th class=\"col_heading level0 col0\" >t_rad</th>        <th class=\"col_heading level0 col1\" >next_t_rad</th>        <th class=\"col_heading level0 col2\" >w</th>        <th class=\"col_heading level0 col3\" >next_w</th>    </tr></thead><tbody>\n",
       "                <tr>\n",
       "                        <th id=\"T_ad4d9b80_7a2f_11ed_93b1_6045bdf6b08dlevel0_row0\" class=\"row_heading level0 row0\" >0</th>\n",
       "                        <td id=\"T_ad4d9b80_7a2f_11ed_93b1_6045bdf6b08drow0_col0\" class=\"data row0 col0\" >1.01e+04</td>\n",
       "                        <td id=\"T_ad4d9b80_7a2f_11ed_93b1_6045bdf6b08drow0_col1\" class=\"data row0 col1\" >1.08e+04</td>\n",
       "                        <td id=\"T_ad4d9b80_7a2f_11ed_93b1_6045bdf6b08drow0_col2\" class=\"data row0 col2\" >0.507</td>\n",
       "                        <td id=\"T_ad4d9b80_7a2f_11ed_93b1_6045bdf6b08drow0_col3\" class=\"data row0 col3\" >0.525</td>\n",
       "            </tr>\n",
       "            <tr>\n",
       "                        <th id=\"T_ad4d9b80_7a2f_11ed_93b1_6045bdf6b08dlevel0_row1\" class=\"row_heading level0 row1\" >5</th>\n",
       "                        <td id=\"T_ad4d9b80_7a2f_11ed_93b1_6045bdf6b08drow1_col0\" class=\"data row1 col0\" >1.02e+04</td>\n",
       "                        <td id=\"T_ad4d9b80_7a2f_11ed_93b1_6045bdf6b08drow1_col1\" class=\"data row1 col1\" >1.1e+04</td>\n",
       "                        <td id=\"T_ad4d9b80_7a2f_11ed_93b1_6045bdf6b08drow1_col2\" class=\"data row1 col2\" >0.197</td>\n",
       "                        <td id=\"T_ad4d9b80_7a2f_11ed_93b1_6045bdf6b08drow1_col3\" class=\"data row1 col3\" >0.203</td>\n",
       "            </tr>\n",
       "            <tr>\n",
       "                        <th id=\"T_ad4d9b80_7a2f_11ed_93b1_6045bdf6b08dlevel0_row2\" class=\"row_heading level0 row2\" >10</th>\n",
       "                        <td id=\"T_ad4d9b80_7a2f_11ed_93b1_6045bdf6b08drow2_col0\" class=\"data row2 col0\" >1.01e+04</td>\n",
       "                        <td id=\"T_ad4d9b80_7a2f_11ed_93b1_6045bdf6b08drow2_col1\" class=\"data row2 col1\" >1.08e+04</td>\n",
       "                        <td id=\"T_ad4d9b80_7a2f_11ed_93b1_6045bdf6b08drow2_col2\" class=\"data row2 col2\" >0.117</td>\n",
       "                        <td id=\"T_ad4d9b80_7a2f_11ed_93b1_6045bdf6b08drow2_col3\" class=\"data row2 col3\" >0.125</td>\n",
       "            </tr>\n",
       "            <tr>\n",
       "                        <th id=\"T_ad4d9b80_7a2f_11ed_93b1_6045bdf6b08dlevel0_row3\" class=\"row_heading level0 row3\" >15</th>\n",
       "                        <td id=\"T_ad4d9b80_7a2f_11ed_93b1_6045bdf6b08drow3_col0\" class=\"data row3 col0\" >9.87e+03</td>\n",
       "                        <td id=\"T_ad4d9b80_7a2f_11ed_93b1_6045bdf6b08drow3_col1\" class=\"data row3 col1\" >1.05e+04</td>\n",
       "                        <td id=\"T_ad4d9b80_7a2f_11ed_93b1_6045bdf6b08drow3_col2\" class=\"data row3 col2\" >0.0869</td>\n",
       "                        <td id=\"T_ad4d9b80_7a2f_11ed_93b1_6045bdf6b08drow3_col3\" class=\"data row3 col3\" >0.0933</td>\n",
       "            </tr>\n",
       "    </tbody></table>"
      ],
      "text/plain": [
       "<pandas.io.formats.style.Styler at 0x7f7388d56d90>"
      ]
     },
     "metadata": {},
     "output_type": "display_data"
    },
    {
     "name": "stdout",
     "output_type": "stream",
     "text": [
      "[\u001b[1mtardis.simulation.base\u001b[0m][\u001b[1;37mINFO\u001b[0m   ]  \n",
      "\t\n",
      "\tCurrent t_inner = 10703.212 K\n",
      "\tExpected t_inner for next iteration = 10673.712 K\n",
      " (\u001b[1mbase.py\u001b[0m:550)\n"
     ]
    },
    {
     "name": "stdout",
     "output_type": "stream",
     "text": [
      "[\u001b[1mtardis.simulation.base\u001b[0m][\u001b[1;37mINFO\u001b[0m   ]  \n",
      "\t\n",
      "\tStarting iteration 3 of 20 (\u001b[1mbase.py\u001b[0m:381)\n"
     ]
    },
    {
     "name": "stdout",
     "output_type": "stream",
     "text": [
      "[\u001b[1mtardis.simulation.base\u001b[0m][\u001b[1;37mINFO\u001b[0m   ]  \n",
      "\t\n",
      "\tLuminosity emitted   = 1.074e+43 erg / s\n",
      "\tLuminosity absorbed  = 3.391e+42 erg / s\n",
      "\tLuminosity requested = 1.059e+43 erg / s\n",
      " (\u001b[1mbase.py\u001b[0m:555)\n"
     ]
    },
    {
     "name": "stdout",
     "output_type": "stream",
     "text": [
      "[\u001b[1mtardis.simulation.base\u001b[0m][\u001b[1;37mINFO\u001b[0m   ]  \n",
      "\t\n",
      "\tPlasma stratification: (\u001b[1mbase.py\u001b[0m:523)\n"
     ]
    },
    {
     "data": {
      "text/html": [
       "<style  type=\"text/css\" >\n",
       "</style><table id=\"T_adb76916_7a2f_11ed_93b1_6045bdf6b08d\" ><thead>    <tr>        <th class=\"index_name level0\" >Shell No.</th>        <th class=\"col_heading level0 col0\" >t_rad</th>        <th class=\"col_heading level0 col1\" >next_t_rad</th>        <th class=\"col_heading level0 col2\" >w</th>        <th class=\"col_heading level0 col3\" >next_w</th>    </tr></thead><tbody>\n",
       "                <tr>\n",
       "                        <th id=\"T_adb76916_7a2f_11ed_93b1_6045bdf6b08dlevel0_row0\" class=\"row_heading level0 row0\" >0</th>\n",
       "                        <td id=\"T_adb76916_7a2f_11ed_93b1_6045bdf6b08drow0_col0\" class=\"data row0 col0\" >1.08e+04</td>\n",
       "                        <td id=\"T_adb76916_7a2f_11ed_93b1_6045bdf6b08drow0_col1\" class=\"data row0 col1\" >1.1e+04</td>\n",
       "                        <td id=\"T_adb76916_7a2f_11ed_93b1_6045bdf6b08drow0_col2\" class=\"data row0 col2\" >0.525</td>\n",
       "                        <td id=\"T_adb76916_7a2f_11ed_93b1_6045bdf6b08drow0_col3\" class=\"data row0 col3\" >0.483</td>\n",
       "            </tr>\n",
       "            <tr>\n",
       "                        <th id=\"T_adb76916_7a2f_11ed_93b1_6045bdf6b08dlevel0_row1\" class=\"row_heading level0 row1\" >5</th>\n",
       "                        <td id=\"T_adb76916_7a2f_11ed_93b1_6045bdf6b08drow1_col0\" class=\"data row1 col0\" >1.1e+04</td>\n",
       "                        <td id=\"T_adb76916_7a2f_11ed_93b1_6045bdf6b08drow1_col1\" class=\"data row1 col1\" >1.12e+04</td>\n",
       "                        <td id=\"T_adb76916_7a2f_11ed_93b1_6045bdf6b08drow1_col2\" class=\"data row1 col2\" >0.203</td>\n",
       "                        <td id=\"T_adb76916_7a2f_11ed_93b1_6045bdf6b08drow1_col3\" class=\"data row1 col3\" >0.189</td>\n",
       "            </tr>\n",
       "            <tr>\n",
       "                        <th id=\"T_adb76916_7a2f_11ed_93b1_6045bdf6b08dlevel0_row2\" class=\"row_heading level0 row2\" >10</th>\n",
       "                        <td id=\"T_adb76916_7a2f_11ed_93b1_6045bdf6b08drow2_col0\" class=\"data row2 col0\" >1.08e+04</td>\n",
       "                        <td id=\"T_adb76916_7a2f_11ed_93b1_6045bdf6b08drow2_col1\" class=\"data row2 col1\" >1.1e+04</td>\n",
       "                        <td id=\"T_adb76916_7a2f_11ed_93b1_6045bdf6b08drow2_col2\" class=\"data row2 col2\" >0.125</td>\n",
       "                        <td id=\"T_adb76916_7a2f_11ed_93b1_6045bdf6b08drow2_col3\" class=\"data row2 col3\" >0.118</td>\n",
       "            </tr>\n",
       "            <tr>\n",
       "                        <th id=\"T_adb76916_7a2f_11ed_93b1_6045bdf6b08dlevel0_row3\" class=\"row_heading level0 row3\" >15</th>\n",
       "                        <td id=\"T_adb76916_7a2f_11ed_93b1_6045bdf6b08drow3_col0\" class=\"data row3 col0\" >1.05e+04</td>\n",
       "                        <td id=\"T_adb76916_7a2f_11ed_93b1_6045bdf6b08drow3_col1\" class=\"data row3 col1\" >1.06e+04</td>\n",
       "                        <td id=\"T_adb76916_7a2f_11ed_93b1_6045bdf6b08drow3_col2\" class=\"data row3 col2\" >0.0933</td>\n",
       "                        <td id=\"T_adb76916_7a2f_11ed_93b1_6045bdf6b08drow3_col3\" class=\"data row3 col3\" >0.0895</td>\n",
       "            </tr>\n",
       "    </tbody></table>"
      ],
      "text/plain": [
       "<pandas.io.formats.style.Styler at 0x7f7388d56040>"
      ]
     },
     "metadata": {},
     "output_type": "display_data"
    },
    {
     "name": "stdout",
     "output_type": "stream",
     "text": [
      "[\u001b[1mtardis.simulation.base\u001b[0m][\u001b[1;37mINFO\u001b[0m   ]  \n",
      "\t\n",
      "\tCurrent t_inner = 10673.712 K\n",
      "\tExpected t_inner for next iteration = 10635.953 K\n",
      " (\u001b[1mbase.py\u001b[0m:550)\n"
     ]
    },
    {
     "name": "stdout",
     "output_type": "stream",
     "text": [
      "[\u001b[1mtardis.simulation.base\u001b[0m][\u001b[1;37mINFO\u001b[0m   ]  \n",
      "\t\n",
      "\tStarting iteration 4 of 20 (\u001b[1mbase.py\u001b[0m:381)\n"
     ]
    },
    {
     "name": "stdout",
     "output_type": "stream",
     "text": [
      "[\u001b[1mtardis.simulation.base\u001b[0m][\u001b[1;37mINFO\u001b[0m   ]  \n",
      "\t\n",
      "\tLuminosity emitted   = 1.058e+43 erg / s\n",
      "\tLuminosity absorbed  = 3.352e+42 erg / s\n",
      "\tLuminosity requested = 1.059e+43 erg / s\n",
      " (\u001b[1mbase.py\u001b[0m:555)\n"
     ]
    },
    {
     "name": "stdout",
     "output_type": "stream",
     "text": [
      "[\u001b[1mtardis.simulation.base\u001b[0m][\u001b[1;37mINFO\u001b[0m   ]  \n",
      "\t\n",
      "\tPlasma stratification: (\u001b[1mbase.py\u001b[0m:523)\n"
     ]
    },
    {
     "data": {
      "text/html": [
       "<style  type=\"text/css\" >\n",
       "</style><table id=\"T_ae228c00_7a2f_11ed_93b1_6045bdf6b08d\" ><thead>    <tr>        <th class=\"index_name level0\" >Shell No.</th>        <th class=\"col_heading level0 col0\" >t_rad</th>        <th class=\"col_heading level0 col1\" >next_t_rad</th>        <th class=\"col_heading level0 col2\" >w</th>        <th class=\"col_heading level0 col3\" >next_w</th>    </tr></thead><tbody>\n",
       "                <tr>\n",
       "                        <th id=\"T_ae228c00_7a2f_11ed_93b1_6045bdf6b08dlevel0_row0\" class=\"row_heading level0 row0\" >0</th>\n",
       "                        <td id=\"T_ae228c00_7a2f_11ed_93b1_6045bdf6b08drow0_col0\" class=\"data row0 col0\" >1.1e+04</td>\n",
       "                        <td id=\"T_ae228c00_7a2f_11ed_93b1_6045bdf6b08drow0_col1\" class=\"data row0 col1\" >1.1e+04</td>\n",
       "                        <td id=\"T_ae228c00_7a2f_11ed_93b1_6045bdf6b08drow0_col2\" class=\"data row0 col2\" >0.483</td>\n",
       "                        <td id=\"T_ae228c00_7a2f_11ed_93b1_6045bdf6b08drow0_col3\" class=\"data row0 col3\" >0.469</td>\n",
       "            </tr>\n",
       "            <tr>\n",
       "                        <th id=\"T_ae228c00_7a2f_11ed_93b1_6045bdf6b08dlevel0_row1\" class=\"row_heading level0 row1\" >5</th>\n",
       "                        <td id=\"T_ae228c00_7a2f_11ed_93b1_6045bdf6b08drow1_col0\" class=\"data row1 col0\" >1.12e+04</td>\n",
       "                        <td id=\"T_ae228c00_7a2f_11ed_93b1_6045bdf6b08drow1_col1\" class=\"data row1 col1\" >1.12e+04</td>\n",
       "                        <td id=\"T_ae228c00_7a2f_11ed_93b1_6045bdf6b08drow1_col2\" class=\"data row1 col2\" >0.189</td>\n",
       "                        <td id=\"T_ae228c00_7a2f_11ed_93b1_6045bdf6b08drow1_col3\" class=\"data row1 col3\" >0.182</td>\n",
       "            </tr>\n",
       "            <tr>\n",
       "                        <th id=\"T_ae228c00_7a2f_11ed_93b1_6045bdf6b08dlevel0_row2\" class=\"row_heading level0 row2\" >10</th>\n",
       "                        <td id=\"T_ae228c00_7a2f_11ed_93b1_6045bdf6b08drow2_col0\" class=\"data row2 col0\" >1.1e+04</td>\n",
       "                        <td id=\"T_ae228c00_7a2f_11ed_93b1_6045bdf6b08drow2_col1\" class=\"data row2 col1\" >1.1e+04</td>\n",
       "                        <td id=\"T_ae228c00_7a2f_11ed_93b1_6045bdf6b08drow2_col2\" class=\"data row2 col2\" >0.118</td>\n",
       "                        <td id=\"T_ae228c00_7a2f_11ed_93b1_6045bdf6b08drow2_col3\" class=\"data row2 col3\" >0.113</td>\n",
       "            </tr>\n",
       "            <tr>\n",
       "                        <th id=\"T_ae228c00_7a2f_11ed_93b1_6045bdf6b08dlevel0_row3\" class=\"row_heading level0 row3\" >15</th>\n",
       "                        <td id=\"T_ae228c00_7a2f_11ed_93b1_6045bdf6b08drow3_col0\" class=\"data row3 col0\" >1.06e+04</td>\n",
       "                        <td id=\"T_ae228c00_7a2f_11ed_93b1_6045bdf6b08drow3_col1\" class=\"data row3 col1\" >1.07e+04</td>\n",
       "                        <td id=\"T_ae228c00_7a2f_11ed_93b1_6045bdf6b08drow3_col2\" class=\"data row3 col2\" >0.0895</td>\n",
       "                        <td id=\"T_ae228c00_7a2f_11ed_93b1_6045bdf6b08drow3_col3\" class=\"data row3 col3\" >0.0861</td>\n",
       "            </tr>\n",
       "    </tbody></table>"
      ],
      "text/plain": [
       "<pandas.io.formats.style.Styler at 0x7f738796b3d0>"
      ]
     },
     "metadata": {},
     "output_type": "display_data"
    },
    {
     "name": "stdout",
     "output_type": "stream",
     "text": [
      "[\u001b[1mtardis.simulation.base\u001b[0m][\u001b[1;37mINFO\u001b[0m   ]  \n",
      "\t\n",
      "\tCurrent t_inner = 10635.953 K\n",
      "\tExpected t_inner for next iteration = 10638.407 K\n",
      " (\u001b[1mbase.py\u001b[0m:550)\n"
     ]
    },
    {
     "name": "stdout",
     "output_type": "stream",
     "text": [
      "[\u001b[1mtardis.simulation.base\u001b[0m][\u001b[1;37mINFO\u001b[0m   ]  \n",
      "\t\n",
      "\tStarting iteration 5 of 20 (\u001b[1mbase.py\u001b[0m:381)\n"
     ]
    },
    {
     "name": "stdout",
     "output_type": "stream",
     "text": [
      "[\u001b[1mtardis.simulation.base\u001b[0m][\u001b[1;37mINFO\u001b[0m   ]  \n",
      "\t\n",
      "\tLuminosity emitted   = 1.055e+43 erg / s\n",
      "\tLuminosity absorbed  = 3.399e+42 erg / s\n",
      "\tLuminosity requested = 1.059e+43 erg / s\n",
      " (\u001b[1mbase.py\u001b[0m:555)\n"
     ]
    },
    {
     "name": "stdout",
     "output_type": "stream",
     "text": [
      "[\u001b[1mtardis.simulation.base\u001b[0m][\u001b[1;37mINFO\u001b[0m   ]  \n",
      "\tIteration converged 1/4 consecutive times. (\u001b[1mbase.py\u001b[0m:262)\n"
     ]
    },
    {
     "name": "stdout",
     "output_type": "stream",
     "text": [
      "[\u001b[1mtardis.simulation.base\u001b[0m][\u001b[1;37mINFO\u001b[0m   ]  \n",
      "\t\n",
      "\tPlasma stratification: (\u001b[1mbase.py\u001b[0m:523)\n"
     ]
    },
    {
     "data": {
      "text/html": [
       "<style  type=\"text/css\" >\n",
       "</style><table id=\"T_ae904ad8_7a2f_11ed_93b1_6045bdf6b08d\" ><thead>    <tr>        <th class=\"index_name level0\" >Shell No.</th>        <th class=\"col_heading level0 col0\" >t_rad</th>        <th class=\"col_heading level0 col1\" >next_t_rad</th>        <th class=\"col_heading level0 col2\" >w</th>        <th class=\"col_heading level0 col3\" >next_w</th>    </tr></thead><tbody>\n",
       "                <tr>\n",
       "                        <th id=\"T_ae904ad8_7a2f_11ed_93b1_6045bdf6b08dlevel0_row0\" class=\"row_heading level0 row0\" >0</th>\n",
       "                        <td id=\"T_ae904ad8_7a2f_11ed_93b1_6045bdf6b08drow0_col0\" class=\"data row0 col0\" >1.1e+04</td>\n",
       "                        <td id=\"T_ae904ad8_7a2f_11ed_93b1_6045bdf6b08drow0_col1\" class=\"data row0 col1\" >1.1e+04</td>\n",
       "                        <td id=\"T_ae904ad8_7a2f_11ed_93b1_6045bdf6b08drow0_col2\" class=\"data row0 col2\" >0.469</td>\n",
       "                        <td id=\"T_ae904ad8_7a2f_11ed_93b1_6045bdf6b08drow0_col3\" class=\"data row0 col3\" >0.479</td>\n",
       "            </tr>\n",
       "            <tr>\n",
       "                        <th id=\"T_ae904ad8_7a2f_11ed_93b1_6045bdf6b08dlevel0_row1\" class=\"row_heading level0 row1\" >5</th>\n",
       "                        <td id=\"T_ae904ad8_7a2f_11ed_93b1_6045bdf6b08drow1_col0\" class=\"data row1 col0\" >1.12e+04</td>\n",
       "                        <td id=\"T_ae904ad8_7a2f_11ed_93b1_6045bdf6b08drow1_col1\" class=\"data row1 col1\" >1.13e+04</td>\n",
       "                        <td id=\"T_ae904ad8_7a2f_11ed_93b1_6045bdf6b08drow1_col2\" class=\"data row1 col2\" >0.182</td>\n",
       "                        <td id=\"T_ae904ad8_7a2f_11ed_93b1_6045bdf6b08drow1_col3\" class=\"data row1 col3\" >0.178</td>\n",
       "            </tr>\n",
       "            <tr>\n",
       "                        <th id=\"T_ae904ad8_7a2f_11ed_93b1_6045bdf6b08dlevel0_row2\" class=\"row_heading level0 row2\" >10</th>\n",
       "                        <td id=\"T_ae904ad8_7a2f_11ed_93b1_6045bdf6b08drow2_col0\" class=\"data row2 col0\" >1.1e+04</td>\n",
       "                        <td id=\"T_ae904ad8_7a2f_11ed_93b1_6045bdf6b08drow2_col1\" class=\"data row2 col1\" >1.1e+04</td>\n",
       "                        <td id=\"T_ae904ad8_7a2f_11ed_93b1_6045bdf6b08drow2_col2\" class=\"data row2 col2\" >0.113</td>\n",
       "                        <td id=\"T_ae904ad8_7a2f_11ed_93b1_6045bdf6b08drow2_col3\" class=\"data row2 col3\" >0.113</td>\n",
       "            </tr>\n",
       "            <tr>\n",
       "                        <th id=\"T_ae904ad8_7a2f_11ed_93b1_6045bdf6b08dlevel0_row3\" class=\"row_heading level0 row3\" >15</th>\n",
       "                        <td id=\"T_ae904ad8_7a2f_11ed_93b1_6045bdf6b08drow3_col0\" class=\"data row3 col0\" >1.07e+04</td>\n",
       "                        <td id=\"T_ae904ad8_7a2f_11ed_93b1_6045bdf6b08drow3_col1\" class=\"data row3 col1\" >1.07e+04</td>\n",
       "                        <td id=\"T_ae904ad8_7a2f_11ed_93b1_6045bdf6b08drow3_col2\" class=\"data row3 col2\" >0.0861</td>\n",
       "                        <td id=\"T_ae904ad8_7a2f_11ed_93b1_6045bdf6b08drow3_col3\" class=\"data row3 col3\" >0.0839</td>\n",
       "            </tr>\n",
       "    </tbody></table>"
      ],
      "text/plain": [
       "<pandas.io.formats.style.Styler at 0x7f73887f3460>"
      ]
     },
     "metadata": {},
     "output_type": "display_data"
    },
    {
     "name": "stdout",
     "output_type": "stream",
     "text": [
      "[\u001b[1mtardis.simulation.base\u001b[0m][\u001b[1;37mINFO\u001b[0m   ]  \n",
      "\t\n",
      "\tCurrent t_inner = 10638.407 K\n",
      "\tExpected t_inner for next iteration = 10650.202 K\n",
      " (\u001b[1mbase.py\u001b[0m:550)\n"
     ]
    },
    {
     "name": "stdout",
     "output_type": "stream",
     "text": [
      "[\u001b[1mtardis.simulation.base\u001b[0m][\u001b[1;37mINFO\u001b[0m   ]  \n",
      "\t\n",
      "\tStarting iteration 6 of 20 (\u001b[1mbase.py\u001b[0m:381)\n"
     ]
    },
    {
     "name": "stdout",
     "output_type": "stream",
     "text": [
      "[\u001b[1mtardis.simulation.base\u001b[0m][\u001b[1;37mINFO\u001b[0m   ]  \n",
      "\t\n",
      "\tLuminosity emitted   = 1.061e+43 erg / s\n",
      "\tLuminosity absorbed  = 3.398e+42 erg / s\n",
      "\tLuminosity requested = 1.059e+43 erg / s\n",
      " (\u001b[1mbase.py\u001b[0m:555)\n"
     ]
    },
    {
     "name": "stdout",
     "output_type": "stream",
     "text": [
      "[\u001b[1mtardis.simulation.base\u001b[0m][\u001b[1;37mINFO\u001b[0m   ]  \n",
      "\tIteration converged 2/4 consecutive times. (\u001b[1mbase.py\u001b[0m:262)\n"
     ]
    },
    {
     "name": "stdout",
     "output_type": "stream",
     "text": [
      "[\u001b[1mtardis.simulation.base\u001b[0m][\u001b[1;37mINFO\u001b[0m   ]  \n",
      "\t\n",
      "\tPlasma stratification: (\u001b[1mbase.py\u001b[0m:523)\n"
     ]
    },
    {
     "data": {
      "text/html": [
       "<style  type=\"text/css\" >\n",
       "</style><table id=\"T_aefc3342_7a2f_11ed_93b1_6045bdf6b08d\" ><thead>    <tr>        <th class=\"index_name level0\" >Shell No.</th>        <th class=\"col_heading level0 col0\" >t_rad</th>        <th class=\"col_heading level0 col1\" >next_t_rad</th>        <th class=\"col_heading level0 col2\" >w</th>        <th class=\"col_heading level0 col3\" >next_w</th>    </tr></thead><tbody>\n",
       "                <tr>\n",
       "                        <th id=\"T_aefc3342_7a2f_11ed_93b1_6045bdf6b08dlevel0_row0\" class=\"row_heading level0 row0\" >0</th>\n",
       "                        <td id=\"T_aefc3342_7a2f_11ed_93b1_6045bdf6b08drow0_col0\" class=\"data row0 col0\" >1.1e+04</td>\n",
       "                        <td id=\"T_aefc3342_7a2f_11ed_93b1_6045bdf6b08drow0_col1\" class=\"data row0 col1\" >1.1e+04</td>\n",
       "                        <td id=\"T_aefc3342_7a2f_11ed_93b1_6045bdf6b08drow0_col2\" class=\"data row0 col2\" >0.479</td>\n",
       "                        <td id=\"T_aefc3342_7a2f_11ed_93b1_6045bdf6b08drow0_col3\" class=\"data row0 col3\" >0.47</td>\n",
       "            </tr>\n",
       "            <tr>\n",
       "                        <th id=\"T_aefc3342_7a2f_11ed_93b1_6045bdf6b08dlevel0_row1\" class=\"row_heading level0 row1\" >5</th>\n",
       "                        <td id=\"T_aefc3342_7a2f_11ed_93b1_6045bdf6b08drow1_col0\" class=\"data row1 col0\" >1.13e+04</td>\n",
       "                        <td id=\"T_aefc3342_7a2f_11ed_93b1_6045bdf6b08drow1_col1\" class=\"data row1 col1\" >1.12e+04</td>\n",
       "                        <td id=\"T_aefc3342_7a2f_11ed_93b1_6045bdf6b08drow1_col2\" class=\"data row1 col2\" >0.178</td>\n",
       "                        <td id=\"T_aefc3342_7a2f_11ed_93b1_6045bdf6b08drow1_col3\" class=\"data row1 col3\" >0.185</td>\n",
       "            </tr>\n",
       "            <tr>\n",
       "                        <th id=\"T_aefc3342_7a2f_11ed_93b1_6045bdf6b08dlevel0_row2\" class=\"row_heading level0 row2\" >10</th>\n",
       "                        <td id=\"T_aefc3342_7a2f_11ed_93b1_6045bdf6b08drow2_col0\" class=\"data row2 col0\" >1.1e+04</td>\n",
       "                        <td id=\"T_aefc3342_7a2f_11ed_93b1_6045bdf6b08drow2_col1\" class=\"data row2 col1\" >1.11e+04</td>\n",
       "                        <td id=\"T_aefc3342_7a2f_11ed_93b1_6045bdf6b08drow2_col2\" class=\"data row2 col2\" >0.113</td>\n",
       "                        <td id=\"T_aefc3342_7a2f_11ed_93b1_6045bdf6b08drow2_col3\" class=\"data row2 col3\" >0.112</td>\n",
       "            </tr>\n",
       "            <tr>\n",
       "                        <th id=\"T_aefc3342_7a2f_11ed_93b1_6045bdf6b08dlevel0_row3\" class=\"row_heading level0 row3\" >15</th>\n",
       "                        <td id=\"T_aefc3342_7a2f_11ed_93b1_6045bdf6b08drow3_col0\" class=\"data row3 col0\" >1.07e+04</td>\n",
       "                        <td id=\"T_aefc3342_7a2f_11ed_93b1_6045bdf6b08drow3_col1\" class=\"data row3 col1\" >1.07e+04</td>\n",
       "                        <td id=\"T_aefc3342_7a2f_11ed_93b1_6045bdf6b08drow3_col2\" class=\"data row3 col2\" >0.0839</td>\n",
       "                        <td id=\"T_aefc3342_7a2f_11ed_93b1_6045bdf6b08drow3_col3\" class=\"data row3 col3\" >0.0856</td>\n",
       "            </tr>\n",
       "    </tbody></table>"
      ],
      "text/plain": [
       "<pandas.io.formats.style.Styler at 0x7f7387ad6310>"
      ]
     },
     "metadata": {},
     "output_type": "display_data"
    },
    {
     "name": "stdout",
     "output_type": "stream",
     "text": [
      "[\u001b[1mtardis.simulation.base\u001b[0m][\u001b[1;37mINFO\u001b[0m   ]  \n",
      "\t\n",
      "\tCurrent t_inner = 10650.202 K\n",
      "\tExpected t_inner for next iteration = 10645.955 K\n",
      " (\u001b[1mbase.py\u001b[0m:550)\n"
     ]
    },
    {
     "name": "stdout",
     "output_type": "stream",
     "text": [
      "[\u001b[1mtardis.simulation.base\u001b[0m][\u001b[1;37mINFO\u001b[0m   ]  \n",
      "\t\n",
      "\tStarting iteration 7 of 20 (\u001b[1mbase.py\u001b[0m:381)\n"
     ]
    },
    {
     "name": "stdout",
     "output_type": "stream",
     "text": [
      "[\u001b[1mtardis.simulation.base\u001b[0m][\u001b[1;37mINFO\u001b[0m   ]  \n",
      "\t\n",
      "\tLuminosity emitted   = 1.061e+43 erg / s\n",
      "\tLuminosity absorbed  = 3.382e+42 erg / s\n",
      "\tLuminosity requested = 1.059e+43 erg / s\n",
      " (\u001b[1mbase.py\u001b[0m:555)\n"
     ]
    },
    {
     "name": "stdout",
     "output_type": "stream",
     "text": [
      "[\u001b[1mtardis.simulation.base\u001b[0m][\u001b[1;37mINFO\u001b[0m   ]  \n",
      "\tIteration converged 3/4 consecutive times. (\u001b[1mbase.py\u001b[0m:262)\n"
     ]
    },
    {
     "name": "stdout",
     "output_type": "stream",
     "text": [
      "[\u001b[1mtardis.simulation.base\u001b[0m][\u001b[1;37mINFO\u001b[0m   ]  \n",
      "\t\n",
      "\tPlasma stratification: (\u001b[1mbase.py\u001b[0m:523)\n"
     ]
    },
    {
     "data": {
      "text/html": [
       "<style  type=\"text/css\" >\n",
       "</style><table id=\"T_af6e445a_7a2f_11ed_93b1_6045bdf6b08d\" ><thead>    <tr>        <th class=\"index_name level0\" >Shell No.</th>        <th class=\"col_heading level0 col0\" >t_rad</th>        <th class=\"col_heading level0 col1\" >next_t_rad</th>        <th class=\"col_heading level0 col2\" >w</th>        <th class=\"col_heading level0 col3\" >next_w</th>    </tr></thead><tbody>\n",
       "                <tr>\n",
       "                        <th id=\"T_af6e445a_7a2f_11ed_93b1_6045bdf6b08dlevel0_row0\" class=\"row_heading level0 row0\" >0</th>\n",
       "                        <td id=\"T_af6e445a_7a2f_11ed_93b1_6045bdf6b08drow0_col0\" class=\"data row0 col0\" >1.1e+04</td>\n",
       "                        <td id=\"T_af6e445a_7a2f_11ed_93b1_6045bdf6b08drow0_col1\" class=\"data row0 col1\" >1.1e+04</td>\n",
       "                        <td id=\"T_af6e445a_7a2f_11ed_93b1_6045bdf6b08drow0_col2\" class=\"data row0 col2\" >0.47</td>\n",
       "                        <td id=\"T_af6e445a_7a2f_11ed_93b1_6045bdf6b08drow0_col3\" class=\"data row0 col3\" >0.47</td>\n",
       "            </tr>\n",
       "            <tr>\n",
       "                        <th id=\"T_af6e445a_7a2f_11ed_93b1_6045bdf6b08dlevel0_row1\" class=\"row_heading level0 row1\" >5</th>\n",
       "                        <td id=\"T_af6e445a_7a2f_11ed_93b1_6045bdf6b08drow1_col0\" class=\"data row1 col0\" >1.12e+04</td>\n",
       "                        <td id=\"T_af6e445a_7a2f_11ed_93b1_6045bdf6b08drow1_col1\" class=\"data row1 col1\" >1.13e+04</td>\n",
       "                        <td id=\"T_af6e445a_7a2f_11ed_93b1_6045bdf6b08drow1_col2\" class=\"data row1 col2\" >0.185</td>\n",
       "                        <td id=\"T_af6e445a_7a2f_11ed_93b1_6045bdf6b08drow1_col3\" class=\"data row1 col3\" >0.178</td>\n",
       "            </tr>\n",
       "            <tr>\n",
       "                        <th id=\"T_af6e445a_7a2f_11ed_93b1_6045bdf6b08dlevel0_row2\" class=\"row_heading level0 row2\" >10</th>\n",
       "                        <td id=\"T_af6e445a_7a2f_11ed_93b1_6045bdf6b08drow2_col0\" class=\"data row2 col0\" >1.11e+04</td>\n",
       "                        <td id=\"T_af6e445a_7a2f_11ed_93b1_6045bdf6b08drow2_col1\" class=\"data row2 col1\" >1.11e+04</td>\n",
       "                        <td id=\"T_af6e445a_7a2f_11ed_93b1_6045bdf6b08drow2_col2\" class=\"data row2 col2\" >0.112</td>\n",
       "                        <td id=\"T_af6e445a_7a2f_11ed_93b1_6045bdf6b08drow2_col3\" class=\"data row2 col3\" >0.112</td>\n",
       "            </tr>\n",
       "            <tr>\n",
       "                        <th id=\"T_af6e445a_7a2f_11ed_93b1_6045bdf6b08dlevel0_row3\" class=\"row_heading level0 row3\" >15</th>\n",
       "                        <td id=\"T_af6e445a_7a2f_11ed_93b1_6045bdf6b08drow3_col0\" class=\"data row3 col0\" >1.07e+04</td>\n",
       "                        <td id=\"T_af6e445a_7a2f_11ed_93b1_6045bdf6b08drow3_col1\" class=\"data row3 col1\" >1.07e+04</td>\n",
       "                        <td id=\"T_af6e445a_7a2f_11ed_93b1_6045bdf6b08drow3_col2\" class=\"data row3 col2\" >0.0856</td>\n",
       "                        <td id=\"T_af6e445a_7a2f_11ed_93b1_6045bdf6b08drow3_col3\" class=\"data row3 col3\" >0.086</td>\n",
       "            </tr>\n",
       "    </tbody></table>"
      ],
      "text/plain": [
       "<pandas.io.formats.style.Styler at 0x7f7387f3ea00>"
      ]
     },
     "metadata": {},
     "output_type": "display_data"
    },
    {
     "name": "stdout",
     "output_type": "stream",
     "text": [
      "[\u001b[1mtardis.simulation.base\u001b[0m][\u001b[1;37mINFO\u001b[0m   ]  \n",
      "\t\n",
      "\tCurrent t_inner = 10645.955 K\n",
      "\tExpected t_inner for next iteration = 10642.050 K\n",
      " (\u001b[1mbase.py\u001b[0m:550)\n"
     ]
    },
    {
     "name": "stdout",
     "output_type": "stream",
     "text": [
      "[\u001b[1mtardis.simulation.base\u001b[0m][\u001b[1;37mINFO\u001b[0m   ]  \n",
      "\t\n",
      "\tStarting iteration 8 of 20 (\u001b[1mbase.py\u001b[0m:381)\n"
     ]
    },
    {
     "name": "stdout",
     "output_type": "stream",
     "text": [
      "[\u001b[1mtardis.simulation.base\u001b[0m][\u001b[1;37mINFO\u001b[0m   ]  \n",
      "\t\n",
      "\tLuminosity emitted   = 1.062e+43 erg / s\n",
      "\tLuminosity absorbed  = 3.350e+42 erg / s\n",
      "\tLuminosity requested = 1.059e+43 erg / s\n",
      " (\u001b[1mbase.py\u001b[0m:555)\n"
     ]
    },
    {
     "name": "stdout",
     "output_type": "stream",
     "text": [
      "[\u001b[1mtardis.simulation.base\u001b[0m][\u001b[1;37mINFO\u001b[0m   ]  \n",
      "\tIteration converged 4/4 consecutive times. (\u001b[1mbase.py\u001b[0m:262)\n"
     ]
    },
    {
     "name": "stdout",
     "output_type": "stream",
     "text": [
      "[\u001b[1mtardis.simulation.base\u001b[0m][\u001b[1;37mINFO\u001b[0m   ]  \n",
      "\t\n",
      "\tPlasma stratification: (\u001b[1mbase.py\u001b[0m:523)\n"
     ]
    },
    {
     "data": {
      "text/html": [
       "<style  type=\"text/css\" >\n",
       "</style><table id=\"T_afdb1fee_7a2f_11ed_93b1_6045bdf6b08d\" ><thead>    <tr>        <th class=\"index_name level0\" >Shell No.</th>        <th class=\"col_heading level0 col0\" >t_rad</th>        <th class=\"col_heading level0 col1\" >next_t_rad</th>        <th class=\"col_heading level0 col2\" >w</th>        <th class=\"col_heading level0 col3\" >next_w</th>    </tr></thead><tbody>\n",
       "                <tr>\n",
       "                        <th id=\"T_afdb1fee_7a2f_11ed_93b1_6045bdf6b08dlevel0_row0\" class=\"row_heading level0 row0\" >0</th>\n",
       "                        <td id=\"T_afdb1fee_7a2f_11ed_93b1_6045bdf6b08drow0_col0\" class=\"data row0 col0\" >1.1e+04</td>\n",
       "                        <td id=\"T_afdb1fee_7a2f_11ed_93b1_6045bdf6b08drow0_col1\" class=\"data row0 col1\" >1.11e+04</td>\n",
       "                        <td id=\"T_afdb1fee_7a2f_11ed_93b1_6045bdf6b08drow0_col2\" class=\"data row0 col2\" >0.47</td>\n",
       "                        <td id=\"T_afdb1fee_7a2f_11ed_93b1_6045bdf6b08drow0_col3\" class=\"data row0 col3\" >0.472</td>\n",
       "            </tr>\n",
       "            <tr>\n",
       "                        <th id=\"T_afdb1fee_7a2f_11ed_93b1_6045bdf6b08dlevel0_row1\" class=\"row_heading level0 row1\" >5</th>\n",
       "                        <td id=\"T_afdb1fee_7a2f_11ed_93b1_6045bdf6b08drow1_col0\" class=\"data row1 col0\" >1.13e+04</td>\n",
       "                        <td id=\"T_afdb1fee_7a2f_11ed_93b1_6045bdf6b08drow1_col1\" class=\"data row1 col1\" >1.14e+04</td>\n",
       "                        <td id=\"T_afdb1fee_7a2f_11ed_93b1_6045bdf6b08drow1_col2\" class=\"data row1 col2\" >0.178</td>\n",
       "                        <td id=\"T_afdb1fee_7a2f_11ed_93b1_6045bdf6b08drow1_col3\" class=\"data row1 col3\" >0.175</td>\n",
       "            </tr>\n",
       "            <tr>\n",
       "                        <th id=\"T_afdb1fee_7a2f_11ed_93b1_6045bdf6b08dlevel0_row2\" class=\"row_heading level0 row2\" >10</th>\n",
       "                        <td id=\"T_afdb1fee_7a2f_11ed_93b1_6045bdf6b08drow2_col0\" class=\"data row2 col0\" >1.11e+04</td>\n",
       "                        <td id=\"T_afdb1fee_7a2f_11ed_93b1_6045bdf6b08drow2_col1\" class=\"data row2 col1\" >1.11e+04</td>\n",
       "                        <td id=\"T_afdb1fee_7a2f_11ed_93b1_6045bdf6b08drow2_col2\" class=\"data row2 col2\" >0.112</td>\n",
       "                        <td id=\"T_afdb1fee_7a2f_11ed_93b1_6045bdf6b08drow2_col3\" class=\"data row2 col3\" >0.111</td>\n",
       "            </tr>\n",
       "            <tr>\n",
       "                        <th id=\"T_afdb1fee_7a2f_11ed_93b1_6045bdf6b08dlevel0_row3\" class=\"row_heading level0 row3\" >15</th>\n",
       "                        <td id=\"T_afdb1fee_7a2f_11ed_93b1_6045bdf6b08drow3_col0\" class=\"data row3 col0\" >1.07e+04</td>\n",
       "                        <td id=\"T_afdb1fee_7a2f_11ed_93b1_6045bdf6b08drow3_col1\" class=\"data row3 col1\" >1.07e+04</td>\n",
       "                        <td id=\"T_afdb1fee_7a2f_11ed_93b1_6045bdf6b08drow3_col2\" class=\"data row3 col2\" >0.086</td>\n",
       "                        <td id=\"T_afdb1fee_7a2f_11ed_93b1_6045bdf6b08drow3_col3\" class=\"data row3 col3\" >0.084</td>\n",
       "            </tr>\n",
       "    </tbody></table>"
      ],
      "text/plain": [
       "<pandas.io.formats.style.Styler at 0x7f7389507a00>"
      ]
     },
     "metadata": {},
     "output_type": "display_data"
    },
    {
     "name": "stdout",
     "output_type": "stream",
     "text": [
      "[\u001b[1mtardis.simulation.base\u001b[0m][\u001b[1;37mINFO\u001b[0m   ]  \n",
      "\t\n",
      "\tCurrent t_inner = 10642.050 K\n",
      "\tExpected t_inner for next iteration = 10636.106 K\n",
      " (\u001b[1mbase.py\u001b[0m:550)\n"
     ]
    },
    {
     "name": "stdout",
     "output_type": "stream",
     "text": [
      "[\u001b[1mtardis.simulation.base\u001b[0m][\u001b[1;37mINFO\u001b[0m   ]  \n",
      "\t\n",
      "\tStarting iteration 9 of 20 (\u001b[1mbase.py\u001b[0m:381)\n"
     ]
    },
    {
     "name": "stdout",
     "output_type": "stream",
     "text": [
      "[\u001b[1mtardis.simulation.base\u001b[0m][\u001b[1;37mINFO\u001b[0m   ]  \n",
      "\t\n",
      "\tLuminosity emitted   = 1.052e+43 erg / s\n",
      "\tLuminosity absorbed  = 3.411e+42 erg / s\n",
      "\tLuminosity requested = 1.059e+43 erg / s\n",
      " (\u001b[1mbase.py\u001b[0m:555)\n"
     ]
    },
    {
     "name": "stdout",
     "output_type": "stream",
     "text": [
      "[\u001b[1mtardis.simulation.base\u001b[0m][\u001b[1;37mINFO\u001b[0m   ]  \n",
      "\tIteration converged 5/4 consecutive times. (\u001b[1mbase.py\u001b[0m:262)\n"
     ]
    },
    {
     "name": "stdout",
     "output_type": "stream",
     "text": [
      "[\u001b[1mtardis.simulation.base\u001b[0m][\u001b[1;37mINFO\u001b[0m   ]  \n",
      "\t\n",
      "\tPlasma stratification: (\u001b[1mbase.py\u001b[0m:523)\n"
     ]
    },
    {
     "data": {
      "text/html": [
       "<style  type=\"text/css\" >\n",
       "</style><table id=\"T_b0469dc8_7a2f_11ed_93b1_6045bdf6b08d\" ><thead>    <tr>        <th class=\"index_name level0\" >Shell No.</th>        <th class=\"col_heading level0 col0\" >t_rad</th>        <th class=\"col_heading level0 col1\" >next_t_rad</th>        <th class=\"col_heading level0 col2\" >w</th>        <th class=\"col_heading level0 col3\" >next_w</th>    </tr></thead><tbody>\n",
       "                <tr>\n",
       "                        <th id=\"T_b0469dc8_7a2f_11ed_93b1_6045bdf6b08dlevel0_row0\" class=\"row_heading level0 row0\" >0</th>\n",
       "                        <td id=\"T_b0469dc8_7a2f_11ed_93b1_6045bdf6b08drow0_col0\" class=\"data row0 col0\" >1.11e+04</td>\n",
       "                        <td id=\"T_b0469dc8_7a2f_11ed_93b1_6045bdf6b08drow0_col1\" class=\"data row0 col1\" >1.11e+04</td>\n",
       "                        <td id=\"T_b0469dc8_7a2f_11ed_93b1_6045bdf6b08drow0_col2\" class=\"data row0 col2\" >0.472</td>\n",
       "                        <td id=\"T_b0469dc8_7a2f_11ed_93b1_6045bdf6b08drow0_col3\" class=\"data row0 col3\" >0.469</td>\n",
       "            </tr>\n",
       "            <tr>\n",
       "                        <th id=\"T_b0469dc8_7a2f_11ed_93b1_6045bdf6b08dlevel0_row1\" class=\"row_heading level0 row1\" >5</th>\n",
       "                        <td id=\"T_b0469dc8_7a2f_11ed_93b1_6045bdf6b08drow1_col0\" class=\"data row1 col0\" >1.14e+04</td>\n",
       "                        <td id=\"T_b0469dc8_7a2f_11ed_93b1_6045bdf6b08drow1_col1\" class=\"data row1 col1\" >1.15e+04</td>\n",
       "                        <td id=\"T_b0469dc8_7a2f_11ed_93b1_6045bdf6b08drow1_col2\" class=\"data row1 col2\" >0.175</td>\n",
       "                        <td id=\"T_b0469dc8_7a2f_11ed_93b1_6045bdf6b08drow1_col3\" class=\"data row1 col3\" >0.17</td>\n",
       "            </tr>\n",
       "            <tr>\n",
       "                        <th id=\"T_b0469dc8_7a2f_11ed_93b1_6045bdf6b08dlevel0_row2\" class=\"row_heading level0 row2\" >10</th>\n",
       "                        <td id=\"T_b0469dc8_7a2f_11ed_93b1_6045bdf6b08drow2_col0\" class=\"data row2 col0\" >1.11e+04</td>\n",
       "                        <td id=\"T_b0469dc8_7a2f_11ed_93b1_6045bdf6b08drow2_col1\" class=\"data row2 col1\" >1.11e+04</td>\n",
       "                        <td id=\"T_b0469dc8_7a2f_11ed_93b1_6045bdf6b08drow2_col2\" class=\"data row2 col2\" >0.111</td>\n",
       "                        <td id=\"T_b0469dc8_7a2f_11ed_93b1_6045bdf6b08drow2_col3\" class=\"data row2 col3\" >0.109</td>\n",
       "            </tr>\n",
       "            <tr>\n",
       "                        <th id=\"T_b0469dc8_7a2f_11ed_93b1_6045bdf6b08dlevel0_row3\" class=\"row_heading level0 row3\" >15</th>\n",
       "                        <td id=\"T_b0469dc8_7a2f_11ed_93b1_6045bdf6b08drow3_col0\" class=\"data row3 col0\" >1.07e+04</td>\n",
       "                        <td id=\"T_b0469dc8_7a2f_11ed_93b1_6045bdf6b08drow3_col1\" class=\"data row3 col1\" >1.08e+04</td>\n",
       "                        <td id=\"T_b0469dc8_7a2f_11ed_93b1_6045bdf6b08drow3_col2\" class=\"data row3 col2\" >0.084</td>\n",
       "                        <td id=\"T_b0469dc8_7a2f_11ed_93b1_6045bdf6b08drow3_col3\" class=\"data row3 col3\" >0.0822</td>\n",
       "            </tr>\n",
       "    </tbody></table>"
      ],
      "text/plain": [
       "<pandas.io.formats.style.Styler at 0x7f7387f3e250>"
      ]
     },
     "metadata": {},
     "output_type": "display_data"
    },
    {
     "name": "stdout",
     "output_type": "stream",
     "text": [
      "[\u001b[1mtardis.simulation.base\u001b[0m][\u001b[1;37mINFO\u001b[0m   ]  \n",
      "\t\n",
      "\tCurrent t_inner = 10636.106 K\n",
      "\tExpected t_inner for next iteration = 10654.313 K\n",
      " (\u001b[1mbase.py\u001b[0m:550)\n"
     ]
    },
    {
     "name": "stdout",
     "output_type": "stream",
     "text": [
      "[\u001b[1mtardis.simulation.base\u001b[0m][\u001b[1;37mINFO\u001b[0m   ]  \n",
      "\t\n",
      "\tStarting iteration 10 of 20 (\u001b[1mbase.py\u001b[0m:381)\n"
     ]
    },
    {
     "name": "stdout",
     "output_type": "stream",
     "text": [
      "[\u001b[1mtardis.simulation.base\u001b[0m][\u001b[1;37mINFO\u001b[0m   ]  \n",
      "\t\n",
      "\tLuminosity emitted   = 1.070e+43 erg / s\n",
      "\tLuminosity absorbed  = 3.335e+42 erg / s\n",
      "\tLuminosity requested = 1.059e+43 erg / s\n",
      " (\u001b[1mbase.py\u001b[0m:555)\n"
     ]
    },
    {
     "name": "stdout",
     "output_type": "stream",
     "text": [
      "[\u001b[1mtardis.simulation.base\u001b[0m][\u001b[1;37mINFO\u001b[0m   ]  \n",
      "\t\n",
      "\tPlasma stratification: (\u001b[1mbase.py\u001b[0m:523)\n"
     ]
    },
    {
     "data": {
      "text/html": [
       "<style  type=\"text/css\" >\n",
       "</style><table id=\"T_b0b391da_7a2f_11ed_93b1_6045bdf6b08d\" ><thead>    <tr>        <th class=\"index_name level0\" >Shell No.</th>        <th class=\"col_heading level0 col0\" >t_rad</th>        <th class=\"col_heading level0 col1\" >next_t_rad</th>        <th class=\"col_heading level0 col2\" >w</th>        <th class=\"col_heading level0 col3\" >next_w</th>    </tr></thead><tbody>\n",
       "                <tr>\n",
       "                        <th id=\"T_b0b391da_7a2f_11ed_93b1_6045bdf6b08dlevel0_row0\" class=\"row_heading level0 row0\" >0</th>\n",
       "                        <td id=\"T_b0b391da_7a2f_11ed_93b1_6045bdf6b08drow0_col0\" class=\"data row0 col0\" >1.11e+04</td>\n",
       "                        <td id=\"T_b0b391da_7a2f_11ed_93b1_6045bdf6b08drow0_col1\" class=\"data row0 col1\" >1.1e+04</td>\n",
       "                        <td id=\"T_b0b391da_7a2f_11ed_93b1_6045bdf6b08drow0_col2\" class=\"data row0 col2\" >0.469</td>\n",
       "                        <td id=\"T_b0b391da_7a2f_11ed_93b1_6045bdf6b08drow0_col3\" class=\"data row0 col3\" >0.475</td>\n",
       "            </tr>\n",
       "            <tr>\n",
       "                        <th id=\"T_b0b391da_7a2f_11ed_93b1_6045bdf6b08dlevel0_row1\" class=\"row_heading level0 row1\" >5</th>\n",
       "                        <td id=\"T_b0b391da_7a2f_11ed_93b1_6045bdf6b08drow1_col0\" class=\"data row1 col0\" >1.15e+04</td>\n",
       "                        <td id=\"T_b0b391da_7a2f_11ed_93b1_6045bdf6b08drow1_col1\" class=\"data row1 col1\" >1.14e+04</td>\n",
       "                        <td id=\"T_b0b391da_7a2f_11ed_93b1_6045bdf6b08drow1_col2\" class=\"data row1 col2\" >0.17</td>\n",
       "                        <td id=\"T_b0b391da_7a2f_11ed_93b1_6045bdf6b08drow1_col3\" class=\"data row1 col3\" >0.177</td>\n",
       "            </tr>\n",
       "            <tr>\n",
       "                        <th id=\"T_b0b391da_7a2f_11ed_93b1_6045bdf6b08dlevel0_row2\" class=\"row_heading level0 row2\" >10</th>\n",
       "                        <td id=\"T_b0b391da_7a2f_11ed_93b1_6045bdf6b08drow2_col0\" class=\"data row2 col0\" >1.11e+04</td>\n",
       "                        <td id=\"T_b0b391da_7a2f_11ed_93b1_6045bdf6b08drow2_col1\" class=\"data row2 col1\" >1.11e+04</td>\n",
       "                        <td id=\"T_b0b391da_7a2f_11ed_93b1_6045bdf6b08drow2_col2\" class=\"data row2 col2\" >0.109</td>\n",
       "                        <td id=\"T_b0b391da_7a2f_11ed_93b1_6045bdf6b08drow2_col3\" class=\"data row2 col3\" >0.112</td>\n",
       "            </tr>\n",
       "            <tr>\n",
       "                        <th id=\"T_b0b391da_7a2f_11ed_93b1_6045bdf6b08dlevel0_row3\" class=\"row_heading level0 row3\" >15</th>\n",
       "                        <td id=\"T_b0b391da_7a2f_11ed_93b1_6045bdf6b08drow3_col0\" class=\"data row3 col0\" >1.08e+04</td>\n",
       "                        <td id=\"T_b0b391da_7a2f_11ed_93b1_6045bdf6b08drow3_col1\" class=\"data row3 col1\" >1.06e+04</td>\n",
       "                        <td id=\"T_b0b391da_7a2f_11ed_93b1_6045bdf6b08drow3_col2\" class=\"data row3 col2\" >0.0822</td>\n",
       "                        <td id=\"T_b0b391da_7a2f_11ed_93b1_6045bdf6b08drow3_col3\" class=\"data row3 col3\" >0.0878</td>\n",
       "            </tr>\n",
       "    </tbody></table>"
      ],
      "text/plain": [
       "<pandas.io.formats.style.Styler at 0x7f7387ad6c70>"
      ]
     },
     "metadata": {},
     "output_type": "display_data"
    },
    {
     "name": "stdout",
     "output_type": "stream",
     "text": [
      "[\u001b[1mtardis.simulation.base\u001b[0m][\u001b[1;37mINFO\u001b[0m   ]  \n",
      "\t\n",
      "\tCurrent t_inner = 10654.313 K\n",
      "\tExpected t_inner for next iteration = 10628.190 K\n",
      " (\u001b[1mbase.py\u001b[0m:550)\n"
     ]
    },
    {
     "name": "stdout",
     "output_type": "stream",
     "text": [
      "[\u001b[1mtardis.simulation.base\u001b[0m][\u001b[1;37mINFO\u001b[0m   ]  \n",
      "\t\n",
      "\tStarting iteration 11 of 20 (\u001b[1mbase.py\u001b[0m:381)\n"
     ]
    },
    {
     "name": "stdout",
     "output_type": "stream",
     "text": [
      "[\u001b[1mtardis.simulation.base\u001b[0m][\u001b[1;37mINFO\u001b[0m   ]  \n",
      "\t\n",
      "\tLuminosity emitted   = 1.053e+43 erg / s\n",
      "\tLuminosity absorbed  = 3.363e+42 erg / s\n",
      "\tLuminosity requested = 1.059e+43 erg / s\n",
      " (\u001b[1mbase.py\u001b[0m:555)\n"
     ]
    },
    {
     "name": "stdout",
     "output_type": "stream",
     "text": [
      "[\u001b[1mtardis.simulation.base\u001b[0m][\u001b[1;37mINFO\u001b[0m   ]  \n",
      "\tIteration converged 1/4 consecutive times. (\u001b[1mbase.py\u001b[0m:262)\n"
     ]
    },
    {
     "name": "stdout",
     "output_type": "stream",
     "text": [
      "[\u001b[1mtardis.simulation.base\u001b[0m][\u001b[1;37mINFO\u001b[0m   ]  \n",
      "\t\n",
      "\tPlasma stratification: (\u001b[1mbase.py\u001b[0m:523)\n"
     ]
    },
    {
     "data": {
      "text/html": [
       "<style  type=\"text/css\" >\n",
       "</style><table id=\"T_b11f8a84_7a2f_11ed_93b1_6045bdf6b08d\" ><thead>    <tr>        <th class=\"index_name level0\" >Shell No.</th>        <th class=\"col_heading level0 col0\" >t_rad</th>        <th class=\"col_heading level0 col1\" >next_t_rad</th>        <th class=\"col_heading level0 col2\" >w</th>        <th class=\"col_heading level0 col3\" >next_w</th>    </tr></thead><tbody>\n",
       "                <tr>\n",
       "                        <th id=\"T_b11f8a84_7a2f_11ed_93b1_6045bdf6b08dlevel0_row0\" class=\"row_heading level0 row0\" >0</th>\n",
       "                        <td id=\"T_b11f8a84_7a2f_11ed_93b1_6045bdf6b08drow0_col0\" class=\"data row0 col0\" >1.1e+04</td>\n",
       "                        <td id=\"T_b11f8a84_7a2f_11ed_93b1_6045bdf6b08drow0_col1\" class=\"data row0 col1\" >1.1e+04</td>\n",
       "                        <td id=\"T_b11f8a84_7a2f_11ed_93b1_6045bdf6b08drow0_col2\" class=\"data row0 col2\" >0.475</td>\n",
       "                        <td id=\"T_b11f8a84_7a2f_11ed_93b1_6045bdf6b08drow0_col3\" class=\"data row0 col3\" >0.472</td>\n",
       "            </tr>\n",
       "            <tr>\n",
       "                        <th id=\"T_b11f8a84_7a2f_11ed_93b1_6045bdf6b08dlevel0_row1\" class=\"row_heading level0 row1\" >5</th>\n",
       "                        <td id=\"T_b11f8a84_7a2f_11ed_93b1_6045bdf6b08drow1_col0\" class=\"data row1 col0\" >1.14e+04</td>\n",
       "                        <td id=\"T_b11f8a84_7a2f_11ed_93b1_6045bdf6b08drow1_col1\" class=\"data row1 col1\" >1.12e+04</td>\n",
       "                        <td id=\"T_b11f8a84_7a2f_11ed_93b1_6045bdf6b08drow1_col2\" class=\"data row1 col2\" >0.177</td>\n",
       "                        <td id=\"T_b11f8a84_7a2f_11ed_93b1_6045bdf6b08drow1_col3\" class=\"data row1 col3\" >0.184</td>\n",
       "            </tr>\n",
       "            <tr>\n",
       "                        <th id=\"T_b11f8a84_7a2f_11ed_93b1_6045bdf6b08dlevel0_row2\" class=\"row_heading level0 row2\" >10</th>\n",
       "                        <td id=\"T_b11f8a84_7a2f_11ed_93b1_6045bdf6b08drow2_col0\" class=\"data row2 col0\" >1.11e+04</td>\n",
       "                        <td id=\"T_b11f8a84_7a2f_11ed_93b1_6045bdf6b08drow2_col1\" class=\"data row2 col1\" >1.1e+04</td>\n",
       "                        <td id=\"T_b11f8a84_7a2f_11ed_93b1_6045bdf6b08drow2_col2\" class=\"data row2 col2\" >0.112</td>\n",
       "                        <td id=\"T_b11f8a84_7a2f_11ed_93b1_6045bdf6b08drow2_col3\" class=\"data row2 col3\" >0.114</td>\n",
       "            </tr>\n",
       "            <tr>\n",
       "                        <th id=\"T_b11f8a84_7a2f_11ed_93b1_6045bdf6b08dlevel0_row3\" class=\"row_heading level0 row3\" >15</th>\n",
       "                        <td id=\"T_b11f8a84_7a2f_11ed_93b1_6045bdf6b08drow3_col0\" class=\"data row3 col0\" >1.06e+04</td>\n",
       "                        <td id=\"T_b11f8a84_7a2f_11ed_93b1_6045bdf6b08drow3_col1\" class=\"data row3 col1\" >1.06e+04</td>\n",
       "                        <td id=\"T_b11f8a84_7a2f_11ed_93b1_6045bdf6b08drow3_col2\" class=\"data row3 col2\" >0.0878</td>\n",
       "                        <td id=\"T_b11f8a84_7a2f_11ed_93b1_6045bdf6b08drow3_col3\" class=\"data row3 col3\" >0.0859</td>\n",
       "            </tr>\n",
       "    </tbody></table>"
      ],
      "text/plain": [
       "<pandas.io.formats.style.Styler at 0x7f73887f3910>"
      ]
     },
     "metadata": {},
     "output_type": "display_data"
    },
    {
     "name": "stdout",
     "output_type": "stream",
     "text": [
      "[\u001b[1mtardis.simulation.base\u001b[0m][\u001b[1;37mINFO\u001b[0m   ]  \n",
      "\t\n",
      "\tCurrent t_inner = 10628.190 K\n",
      "\tExpected t_inner for next iteration = 10644.054 K\n",
      " (\u001b[1mbase.py\u001b[0m:550)\n"
     ]
    },
    {
     "name": "stdout",
     "output_type": "stream",
     "text": [
      "[\u001b[1mtardis.simulation.base\u001b[0m][\u001b[1;37mINFO\u001b[0m   ]  \n",
      "\t\n",
      "\tStarting iteration 12 of 20 (\u001b[1mbase.py\u001b[0m:381)\n"
     ]
    },
    {
     "name": "stdout",
     "output_type": "stream",
     "text": [
      "[\u001b[1mtardis.simulation.base\u001b[0m][\u001b[1;37mINFO\u001b[0m   ]  \n",
      "\t\n",
      "\tLuminosity emitted   = 1.056e+43 erg / s\n",
      "\tLuminosity absorbed  = 3.420e+42 erg / s\n",
      "\tLuminosity requested = 1.059e+43 erg / s\n",
      " (\u001b[1mbase.py\u001b[0m:555)\n"
     ]
    },
    {
     "name": "stdout",
     "output_type": "stream",
     "text": [
      "[\u001b[1mtardis.simulation.base\u001b[0m][\u001b[1;37mINFO\u001b[0m   ]  \n",
      "\t\n",
      "\tPlasma stratification: (\u001b[1mbase.py\u001b[0m:523)\n"
     ]
    },
    {
     "data": {
      "text/html": [
       "<style  type=\"text/css\" >\n",
       "</style><table id=\"T_b18f1962_7a2f_11ed_93b1_6045bdf6b08d\" ><thead>    <tr>        <th class=\"index_name level0\" >Shell No.</th>        <th class=\"col_heading level0 col0\" >t_rad</th>        <th class=\"col_heading level0 col1\" >next_t_rad</th>        <th class=\"col_heading level0 col2\" >w</th>        <th class=\"col_heading level0 col3\" >next_w</th>    </tr></thead><tbody>\n",
       "                <tr>\n",
       "                        <th id=\"T_b18f1962_7a2f_11ed_93b1_6045bdf6b08dlevel0_row0\" class=\"row_heading level0 row0\" >0</th>\n",
       "                        <td id=\"T_b18f1962_7a2f_11ed_93b1_6045bdf6b08drow0_col0\" class=\"data row0 col0\" >1.1e+04</td>\n",
       "                        <td id=\"T_b18f1962_7a2f_11ed_93b1_6045bdf6b08drow0_col1\" class=\"data row0 col1\" >1.11e+04</td>\n",
       "                        <td id=\"T_b18f1962_7a2f_11ed_93b1_6045bdf6b08drow0_col2\" class=\"data row0 col2\" >0.472</td>\n",
       "                        <td id=\"T_b18f1962_7a2f_11ed_93b1_6045bdf6b08drow0_col3\" class=\"data row0 col3\" >0.467</td>\n",
       "            </tr>\n",
       "            <tr>\n",
       "                        <th id=\"T_b18f1962_7a2f_11ed_93b1_6045bdf6b08dlevel0_row1\" class=\"row_heading level0 row1\" >5</th>\n",
       "                        <td id=\"T_b18f1962_7a2f_11ed_93b1_6045bdf6b08drow1_col0\" class=\"data row1 col0\" >1.12e+04</td>\n",
       "                        <td id=\"T_b18f1962_7a2f_11ed_93b1_6045bdf6b08drow1_col1\" class=\"data row1 col1\" >1.13e+04</td>\n",
       "                        <td id=\"T_b18f1962_7a2f_11ed_93b1_6045bdf6b08drow1_col2\" class=\"data row1 col2\" >0.184</td>\n",
       "                        <td id=\"T_b18f1962_7a2f_11ed_93b1_6045bdf6b08drow1_col3\" class=\"data row1 col3\" >0.176</td>\n",
       "            </tr>\n",
       "            <tr>\n",
       "                        <th id=\"T_b18f1962_7a2f_11ed_93b1_6045bdf6b08dlevel0_row2\" class=\"row_heading level0 row2\" >10</th>\n",
       "                        <td id=\"T_b18f1962_7a2f_11ed_93b1_6045bdf6b08drow2_col0\" class=\"data row2 col0\" >1.1e+04</td>\n",
       "                        <td id=\"T_b18f1962_7a2f_11ed_93b1_6045bdf6b08drow2_col1\" class=\"data row2 col1\" >1.11e+04</td>\n",
       "                        <td id=\"T_b18f1962_7a2f_11ed_93b1_6045bdf6b08drow2_col2\" class=\"data row2 col2\" >0.114</td>\n",
       "                        <td id=\"T_b18f1962_7a2f_11ed_93b1_6045bdf6b08drow2_col3\" class=\"data row2 col3\" >0.11</td>\n",
       "            </tr>\n",
       "            <tr>\n",
       "                        <th id=\"T_b18f1962_7a2f_11ed_93b1_6045bdf6b08dlevel0_row3\" class=\"row_heading level0 row3\" >15</th>\n",
       "                        <td id=\"T_b18f1962_7a2f_11ed_93b1_6045bdf6b08drow3_col0\" class=\"data row3 col0\" >1.06e+04</td>\n",
       "                        <td id=\"T_b18f1962_7a2f_11ed_93b1_6045bdf6b08drow3_col1\" class=\"data row3 col1\" >1.08e+04</td>\n",
       "                        <td id=\"T_b18f1962_7a2f_11ed_93b1_6045bdf6b08drow3_col2\" class=\"data row3 col2\" >0.0859</td>\n",
       "                        <td id=\"T_b18f1962_7a2f_11ed_93b1_6045bdf6b08drow3_col3\" class=\"data row3 col3\" >0.0821</td>\n",
       "            </tr>\n",
       "    </tbody></table>"
      ],
      "text/plain": [
       "<pandas.io.formats.style.Styler at 0x7f7388d56940>"
      ]
     },
     "metadata": {},
     "output_type": "display_data"
    },
    {
     "name": "stdout",
     "output_type": "stream",
     "text": [
      "[\u001b[1mtardis.simulation.base\u001b[0m][\u001b[1;37mINFO\u001b[0m   ]  \n",
      "\t\n",
      "\tCurrent t_inner = 10644.054 K\n",
      "\tExpected t_inner for next iteration = 10653.543 K\n",
      " (\u001b[1mbase.py\u001b[0m:550)\n"
     ]
    },
    {
     "name": "stdout",
     "output_type": "stream",
     "text": [
      "[\u001b[1mtardis.simulation.base\u001b[0m][\u001b[1;37mINFO\u001b[0m   ]  \n",
      "\t\n",
      "\tStarting iteration 13 of 20 (\u001b[1mbase.py\u001b[0m:381)\n"
     ]
    },
    {
     "name": "stdout",
     "output_type": "stream",
     "text": [
      "[\u001b[1mtardis.simulation.base\u001b[0m][\u001b[1;37mINFO\u001b[0m   ]  \n",
      "\t\n",
      "\tLuminosity emitted   = 1.062e+43 erg / s\n",
      "\tLuminosity absorbed  = 3.406e+42 erg / s\n",
      "\tLuminosity requested = 1.059e+43 erg / s\n",
      " (\u001b[1mbase.py\u001b[0m:555)\n"
     ]
    },
    {
     "name": "stdout",
     "output_type": "stream",
     "text": [
      "[\u001b[1mtardis.simulation.base\u001b[0m][\u001b[1;37mINFO\u001b[0m   ]  \n",
      "\tIteration converged 1/4 consecutive times. (\u001b[1mbase.py\u001b[0m:262)\n"
     ]
    },
    {
     "name": "stdout",
     "output_type": "stream",
     "text": [
      "[\u001b[1mtardis.simulation.base\u001b[0m][\u001b[1;37mINFO\u001b[0m   ]  \n",
      "\t\n",
      "\tPlasma stratification: (\u001b[1mbase.py\u001b[0m:523)\n"
     ]
    },
    {
     "data": {
      "text/html": [
       "<style  type=\"text/css\" >\n",
       "</style><table id=\"T_b1fcd330_7a2f_11ed_93b1_6045bdf6b08d\" ><thead>    <tr>        <th class=\"index_name level0\" >Shell No.</th>        <th class=\"col_heading level0 col0\" >t_rad</th>        <th class=\"col_heading level0 col1\" >next_t_rad</th>        <th class=\"col_heading level0 col2\" >w</th>        <th class=\"col_heading level0 col3\" >next_w</th>    </tr></thead><tbody>\n",
       "                <tr>\n",
       "                        <th id=\"T_b1fcd330_7a2f_11ed_93b1_6045bdf6b08dlevel0_row0\" class=\"row_heading level0 row0\" >0</th>\n",
       "                        <td id=\"T_b1fcd330_7a2f_11ed_93b1_6045bdf6b08drow0_col0\" class=\"data row0 col0\" >1.11e+04</td>\n",
       "                        <td id=\"T_b1fcd330_7a2f_11ed_93b1_6045bdf6b08drow0_col1\" class=\"data row0 col1\" >1.11e+04</td>\n",
       "                        <td id=\"T_b1fcd330_7a2f_11ed_93b1_6045bdf6b08drow0_col2\" class=\"data row0 col2\" >0.467</td>\n",
       "                        <td id=\"T_b1fcd330_7a2f_11ed_93b1_6045bdf6b08drow0_col3\" class=\"data row0 col3\" >0.466</td>\n",
       "            </tr>\n",
       "            <tr>\n",
       "                        <th id=\"T_b1fcd330_7a2f_11ed_93b1_6045bdf6b08dlevel0_row1\" class=\"row_heading level0 row1\" >5</th>\n",
       "                        <td id=\"T_b1fcd330_7a2f_11ed_93b1_6045bdf6b08drow1_col0\" class=\"data row1 col0\" >1.13e+04</td>\n",
       "                        <td id=\"T_b1fcd330_7a2f_11ed_93b1_6045bdf6b08drow1_col1\" class=\"data row1 col1\" >1.13e+04</td>\n",
       "                        <td id=\"T_b1fcd330_7a2f_11ed_93b1_6045bdf6b08drow1_col2\" class=\"data row1 col2\" >0.176</td>\n",
       "                        <td id=\"T_b1fcd330_7a2f_11ed_93b1_6045bdf6b08drow1_col3\" class=\"data row1 col3\" >0.18</td>\n",
       "            </tr>\n",
       "            <tr>\n",
       "                        <th id=\"T_b1fcd330_7a2f_11ed_93b1_6045bdf6b08dlevel0_row2\" class=\"row_heading level0 row2\" >10</th>\n",
       "                        <td id=\"T_b1fcd330_7a2f_11ed_93b1_6045bdf6b08drow2_col0\" class=\"data row2 col0\" >1.11e+04</td>\n",
       "                        <td id=\"T_b1fcd330_7a2f_11ed_93b1_6045bdf6b08drow2_col1\" class=\"data row2 col1\" >1.11e+04</td>\n",
       "                        <td id=\"T_b1fcd330_7a2f_11ed_93b1_6045bdf6b08drow2_col2\" class=\"data row2 col2\" >0.11</td>\n",
       "                        <td id=\"T_b1fcd330_7a2f_11ed_93b1_6045bdf6b08drow2_col3\" class=\"data row2 col3\" >0.111</td>\n",
       "            </tr>\n",
       "            <tr>\n",
       "                        <th id=\"T_b1fcd330_7a2f_11ed_93b1_6045bdf6b08dlevel0_row3\" class=\"row_heading level0 row3\" >15</th>\n",
       "                        <td id=\"T_b1fcd330_7a2f_11ed_93b1_6045bdf6b08drow3_col0\" class=\"data row3 col0\" >1.08e+04</td>\n",
       "                        <td id=\"T_b1fcd330_7a2f_11ed_93b1_6045bdf6b08drow3_col1\" class=\"data row3 col1\" >1.08e+04</td>\n",
       "                        <td id=\"T_b1fcd330_7a2f_11ed_93b1_6045bdf6b08drow3_col2\" class=\"data row3 col2\" >0.0821</td>\n",
       "                        <td id=\"T_b1fcd330_7a2f_11ed_93b1_6045bdf6b08drow3_col3\" class=\"data row3 col3\" >0.0841</td>\n",
       "            </tr>\n",
       "    </tbody></table>"
      ],
      "text/plain": [
       "<pandas.io.formats.style.Styler at 0x7f7387f3e850>"
      ]
     },
     "metadata": {},
     "output_type": "display_data"
    },
    {
     "name": "stdout",
     "output_type": "stream",
     "text": [
      "[\u001b[1mtardis.simulation.base\u001b[0m][\u001b[1;37mINFO\u001b[0m   ]  \n",
      "\t\n",
      "\tCurrent t_inner = 10653.543 K\n",
      "\tExpected t_inner for next iteration = 10647.277 K\n",
      " (\u001b[1mbase.py\u001b[0m:550)\n"
     ]
    },
    {
     "name": "stdout",
     "output_type": "stream",
     "text": [
      "[\u001b[1mtardis.simulation.base\u001b[0m][\u001b[1;37mINFO\u001b[0m   ]  \n",
      "\t\n",
      "\tStarting iteration 14 of 20 (\u001b[1mbase.py\u001b[0m:381)\n"
     ]
    },
    {
     "name": "stdout",
     "output_type": "stream",
     "text": [
      "[\u001b[1mtardis.simulation.base\u001b[0m][\u001b[1;37mINFO\u001b[0m   ]  \n",
      "\t\n",
      "\tLuminosity emitted   = 1.063e+43 erg / s\n",
      "\tLuminosity absorbed  = 3.369e+42 erg / s\n",
      "\tLuminosity requested = 1.059e+43 erg / s\n",
      " (\u001b[1mbase.py\u001b[0m:555)\n"
     ]
    },
    {
     "name": "stdout",
     "output_type": "stream",
     "text": [
      "[\u001b[1mtardis.simulation.base\u001b[0m][\u001b[1;37mINFO\u001b[0m   ]  \n",
      "\tIteration converged 2/4 consecutive times. (\u001b[1mbase.py\u001b[0m:262)\n"
     ]
    },
    {
     "name": "stdout",
     "output_type": "stream",
     "text": [
      "[\u001b[1mtardis.simulation.base\u001b[0m][\u001b[1;37mINFO\u001b[0m   ]  \n",
      "\t\n",
      "\tPlasma stratification: (\u001b[1mbase.py\u001b[0m:523)\n"
     ]
    },
    {
     "data": {
      "text/html": [
       "<style  type=\"text/css\" >\n",
       "</style><table id=\"T_b267cf64_7a2f_11ed_93b1_6045bdf6b08d\" ><thead>    <tr>        <th class=\"index_name level0\" >Shell No.</th>        <th class=\"col_heading level0 col0\" >t_rad</th>        <th class=\"col_heading level0 col1\" >next_t_rad</th>        <th class=\"col_heading level0 col2\" >w</th>        <th class=\"col_heading level0 col3\" >next_w</th>    </tr></thead><tbody>\n",
       "                <tr>\n",
       "                        <th id=\"T_b267cf64_7a2f_11ed_93b1_6045bdf6b08dlevel0_row0\" class=\"row_heading level0 row0\" >0</th>\n",
       "                        <td id=\"T_b267cf64_7a2f_11ed_93b1_6045bdf6b08drow0_col0\" class=\"data row0 col0\" >1.11e+04</td>\n",
       "                        <td id=\"T_b267cf64_7a2f_11ed_93b1_6045bdf6b08drow0_col1\" class=\"data row0 col1\" >1.11e+04</td>\n",
       "                        <td id=\"T_b267cf64_7a2f_11ed_93b1_6045bdf6b08drow0_col2\" class=\"data row0 col2\" >0.466</td>\n",
       "                        <td id=\"T_b267cf64_7a2f_11ed_93b1_6045bdf6b08drow0_col3\" class=\"data row0 col3\" >0.469</td>\n",
       "            </tr>\n",
       "            <tr>\n",
       "                        <th id=\"T_b267cf64_7a2f_11ed_93b1_6045bdf6b08dlevel0_row1\" class=\"row_heading level0 row1\" >5</th>\n",
       "                        <td id=\"T_b267cf64_7a2f_11ed_93b1_6045bdf6b08drow1_col0\" class=\"data row1 col0\" >1.13e+04</td>\n",
       "                        <td id=\"T_b267cf64_7a2f_11ed_93b1_6045bdf6b08drow1_col1\" class=\"data row1 col1\" >1.13e+04</td>\n",
       "                        <td id=\"T_b267cf64_7a2f_11ed_93b1_6045bdf6b08drow1_col2\" class=\"data row1 col2\" >0.18</td>\n",
       "                        <td id=\"T_b267cf64_7a2f_11ed_93b1_6045bdf6b08drow1_col3\" class=\"data row1 col3\" >0.182</td>\n",
       "            </tr>\n",
       "            <tr>\n",
       "                        <th id=\"T_b267cf64_7a2f_11ed_93b1_6045bdf6b08dlevel0_row2\" class=\"row_heading level0 row2\" >10</th>\n",
       "                        <td id=\"T_b267cf64_7a2f_11ed_93b1_6045bdf6b08drow2_col0\" class=\"data row2 col0\" >1.11e+04</td>\n",
       "                        <td id=\"T_b267cf64_7a2f_11ed_93b1_6045bdf6b08drow2_col1\" class=\"data row2 col1\" >1.1e+04</td>\n",
       "                        <td id=\"T_b267cf64_7a2f_11ed_93b1_6045bdf6b08drow2_col2\" class=\"data row2 col2\" >0.111</td>\n",
       "                        <td id=\"T_b267cf64_7a2f_11ed_93b1_6045bdf6b08drow2_col3\" class=\"data row2 col3\" >0.113</td>\n",
       "            </tr>\n",
       "            <tr>\n",
       "                        <th id=\"T_b267cf64_7a2f_11ed_93b1_6045bdf6b08dlevel0_row3\" class=\"row_heading level0 row3\" >15</th>\n",
       "                        <td id=\"T_b267cf64_7a2f_11ed_93b1_6045bdf6b08drow3_col0\" class=\"data row3 col0\" >1.08e+04</td>\n",
       "                        <td id=\"T_b267cf64_7a2f_11ed_93b1_6045bdf6b08drow3_col1\" class=\"data row3 col1\" >1.07e+04</td>\n",
       "                        <td id=\"T_b267cf64_7a2f_11ed_93b1_6045bdf6b08drow3_col2\" class=\"data row3 col2\" >0.0841</td>\n",
       "                        <td id=\"T_b267cf64_7a2f_11ed_93b1_6045bdf6b08drow3_col3\" class=\"data row3 col3\" >0.0854</td>\n",
       "            </tr>\n",
       "    </tbody></table>"
      ],
      "text/plain": [
       "<pandas.io.formats.style.Styler at 0x7f7388d56b20>"
      ]
     },
     "metadata": {},
     "output_type": "display_data"
    },
    {
     "name": "stdout",
     "output_type": "stream",
     "text": [
      "[\u001b[1mtardis.simulation.base\u001b[0m][\u001b[1;37mINFO\u001b[0m   ]  \n",
      "\t\n",
      "\tCurrent t_inner = 10647.277 K\n",
      "\tExpected t_inner for next iteration = 10638.875 K\n",
      " (\u001b[1mbase.py\u001b[0m:550)\n"
     ]
    },
    {
     "name": "stdout",
     "output_type": "stream",
     "text": [
      "[\u001b[1mtardis.simulation.base\u001b[0m][\u001b[1;37mINFO\u001b[0m   ]  \n",
      "\t\n",
      "\tStarting iteration 15 of 20 (\u001b[1mbase.py\u001b[0m:381)\n"
     ]
    },
    {
     "name": "stdout",
     "output_type": "stream",
     "text": [
      "[\u001b[1mtardis.simulation.base\u001b[0m][\u001b[1;37mINFO\u001b[0m   ]  \n",
      "\t\n",
      "\tLuminosity emitted   = 1.053e+43 erg / s\n",
      "\tLuminosity absorbed  = 3.417e+42 erg / s\n",
      "\tLuminosity requested = 1.059e+43 erg / s\n",
      " (\u001b[1mbase.py\u001b[0m:555)\n"
     ]
    },
    {
     "name": "stdout",
     "output_type": "stream",
     "text": [
      "[\u001b[1mtardis.simulation.base\u001b[0m][\u001b[1;37mINFO\u001b[0m   ]  \n",
      "\tIteration converged 3/4 consecutive times. (\u001b[1mbase.py\u001b[0m:262)\n"
     ]
    },
    {
     "name": "stdout",
     "output_type": "stream",
     "text": [
      "[\u001b[1mtardis.simulation.base\u001b[0m][\u001b[1;37mINFO\u001b[0m   ]  \n",
      "\t\n",
      "\tPlasma stratification: (\u001b[1mbase.py\u001b[0m:523)\n"
     ]
    },
    {
     "data": {
      "text/html": [
       "<style  type=\"text/css\" >\n",
       "</style><table id=\"T_b2d5819e_7a2f_11ed_93b1_6045bdf6b08d\" ><thead>    <tr>        <th class=\"index_name level0\" >Shell No.</th>        <th class=\"col_heading level0 col0\" >t_rad</th>        <th class=\"col_heading level0 col1\" >next_t_rad</th>        <th class=\"col_heading level0 col2\" >w</th>        <th class=\"col_heading level0 col3\" >next_w</th>    </tr></thead><tbody>\n",
       "                <tr>\n",
       "                        <th id=\"T_b2d5819e_7a2f_11ed_93b1_6045bdf6b08dlevel0_row0\" class=\"row_heading level0 row0\" >0</th>\n",
       "                        <td id=\"T_b2d5819e_7a2f_11ed_93b1_6045bdf6b08drow0_col0\" class=\"data row0 col0\" >1.11e+04</td>\n",
       "                        <td id=\"T_b2d5819e_7a2f_11ed_93b1_6045bdf6b08drow0_col1\" class=\"data row0 col1\" >1.1e+04</td>\n",
       "                        <td id=\"T_b2d5819e_7a2f_11ed_93b1_6045bdf6b08drow0_col2\" class=\"data row0 col2\" >0.469</td>\n",
       "                        <td id=\"T_b2d5819e_7a2f_11ed_93b1_6045bdf6b08drow0_col3\" class=\"data row0 col3\" >0.484</td>\n",
       "            </tr>\n",
       "            <tr>\n",
       "                        <th id=\"T_b2d5819e_7a2f_11ed_93b1_6045bdf6b08dlevel0_row1\" class=\"row_heading level0 row1\" >5</th>\n",
       "                        <td id=\"T_b2d5819e_7a2f_11ed_93b1_6045bdf6b08drow1_col0\" class=\"data row1 col0\" >1.13e+04</td>\n",
       "                        <td id=\"T_b2d5819e_7a2f_11ed_93b1_6045bdf6b08drow1_col1\" class=\"data row1 col1\" >1.13e+04</td>\n",
       "                        <td id=\"T_b2d5819e_7a2f_11ed_93b1_6045bdf6b08drow1_col2\" class=\"data row1 col2\" >0.182</td>\n",
       "                        <td id=\"T_b2d5819e_7a2f_11ed_93b1_6045bdf6b08drow1_col3\" class=\"data row1 col3\" >0.181</td>\n",
       "            </tr>\n",
       "            <tr>\n",
       "                        <th id=\"T_b2d5819e_7a2f_11ed_93b1_6045bdf6b08dlevel0_row2\" class=\"row_heading level0 row2\" >10</th>\n",
       "                        <td id=\"T_b2d5819e_7a2f_11ed_93b1_6045bdf6b08drow2_col0\" class=\"data row2 col0\" >1.1e+04</td>\n",
       "                        <td id=\"T_b2d5819e_7a2f_11ed_93b1_6045bdf6b08drow2_col1\" class=\"data row2 col1\" >1.1e+04</td>\n",
       "                        <td id=\"T_b2d5819e_7a2f_11ed_93b1_6045bdf6b08drow2_col2\" class=\"data row2 col2\" >0.113</td>\n",
       "                        <td id=\"T_b2d5819e_7a2f_11ed_93b1_6045bdf6b08drow2_col3\" class=\"data row2 col3\" >0.113</td>\n",
       "            </tr>\n",
       "            <tr>\n",
       "                        <th id=\"T_b2d5819e_7a2f_11ed_93b1_6045bdf6b08dlevel0_row3\" class=\"row_heading level0 row3\" >15</th>\n",
       "                        <td id=\"T_b2d5819e_7a2f_11ed_93b1_6045bdf6b08drow3_col0\" class=\"data row3 col0\" >1.07e+04</td>\n",
       "                        <td id=\"T_b2d5819e_7a2f_11ed_93b1_6045bdf6b08drow3_col1\" class=\"data row3 col1\" >1.07e+04</td>\n",
       "                        <td id=\"T_b2d5819e_7a2f_11ed_93b1_6045bdf6b08drow3_col2\" class=\"data row3 col2\" >0.0854</td>\n",
       "                        <td id=\"T_b2d5819e_7a2f_11ed_93b1_6045bdf6b08drow3_col3\" class=\"data row3 col3\" >0.0858</td>\n",
       "            </tr>\n",
       "    </tbody></table>"
      ],
      "text/plain": [
       "<pandas.io.formats.style.Styler at 0x7f7389056610>"
      ]
     },
     "metadata": {},
     "output_type": "display_data"
    },
    {
     "name": "stdout",
     "output_type": "stream",
     "text": [
      "[\u001b[1mtardis.simulation.base\u001b[0m][\u001b[1;37mINFO\u001b[0m   ]  \n",
      "\t\n",
      "\tCurrent t_inner = 10638.875 K\n",
      "\tExpected t_inner for next iteration = 10655.125 K\n",
      " (\u001b[1mbase.py\u001b[0m:550)\n"
     ]
    },
    {
     "name": "stdout",
     "output_type": "stream",
     "text": [
      "[\u001b[1mtardis.simulation.base\u001b[0m][\u001b[1;37mINFO\u001b[0m   ]  \n",
      "\t\n",
      "\tStarting iteration 16 of 20 (\u001b[1mbase.py\u001b[0m:381)\n"
     ]
    },
    {
     "name": "stdout",
     "output_type": "stream",
     "text": [
      "[\u001b[1mtardis.simulation.base\u001b[0m][\u001b[1;37mINFO\u001b[0m   ]  \n",
      "\t\n",
      "\tLuminosity emitted   = 1.059e+43 erg / s\n",
      "\tLuminosity absorbed  = 3.445e+42 erg / s\n",
      "\tLuminosity requested = 1.059e+43 erg / s\n",
      " (\u001b[1mbase.py\u001b[0m:555)\n"
     ]
    },
    {
     "name": "stdout",
     "output_type": "stream",
     "text": [
      "[\u001b[1mtardis.simulation.base\u001b[0m][\u001b[1;37mINFO\u001b[0m   ]  \n",
      "\tIteration converged 4/4 consecutive times. (\u001b[1mbase.py\u001b[0m:262)\n"
     ]
    },
    {
     "name": "stdout",
     "output_type": "stream",
     "text": [
      "[\u001b[1mtardis.simulation.base\u001b[0m][\u001b[1;37mINFO\u001b[0m   ]  \n",
      "\t\n",
      "\tPlasma stratification: (\u001b[1mbase.py\u001b[0m:523)\n"
     ]
    },
    {
     "data": {
      "text/html": [
       "<style  type=\"text/css\" >\n",
       "</style><table id=\"T_b342e36a_7a2f_11ed_93b1_6045bdf6b08d\" ><thead>    <tr>        <th class=\"index_name level0\" >Shell No.</th>        <th class=\"col_heading level0 col0\" >t_rad</th>        <th class=\"col_heading level0 col1\" >next_t_rad</th>        <th class=\"col_heading level0 col2\" >w</th>        <th class=\"col_heading level0 col3\" >next_w</th>    </tr></thead><tbody>\n",
       "                <tr>\n",
       "                        <th id=\"T_b342e36a_7a2f_11ed_93b1_6045bdf6b08dlevel0_row0\" class=\"row_heading level0 row0\" >0</th>\n",
       "                        <td id=\"T_b342e36a_7a2f_11ed_93b1_6045bdf6b08drow0_col0\" class=\"data row0 col0\" >1.1e+04</td>\n",
       "                        <td id=\"T_b342e36a_7a2f_11ed_93b1_6045bdf6b08drow0_col1\" class=\"data row0 col1\" >1.1e+04</td>\n",
       "                        <td id=\"T_b342e36a_7a2f_11ed_93b1_6045bdf6b08drow0_col2\" class=\"data row0 col2\" >0.484</td>\n",
       "                        <td id=\"T_b342e36a_7a2f_11ed_93b1_6045bdf6b08drow0_col3\" class=\"data row0 col3\" >0.472</td>\n",
       "            </tr>\n",
       "            <tr>\n",
       "                        <th id=\"T_b342e36a_7a2f_11ed_93b1_6045bdf6b08dlevel0_row1\" class=\"row_heading level0 row1\" >5</th>\n",
       "                        <td id=\"T_b342e36a_7a2f_11ed_93b1_6045bdf6b08drow1_col0\" class=\"data row1 col0\" >1.13e+04</td>\n",
       "                        <td id=\"T_b342e36a_7a2f_11ed_93b1_6045bdf6b08drow1_col1\" class=\"data row1 col1\" >1.13e+04</td>\n",
       "                        <td id=\"T_b342e36a_7a2f_11ed_93b1_6045bdf6b08drow1_col2\" class=\"data row1 col2\" >0.181</td>\n",
       "                        <td id=\"T_b342e36a_7a2f_11ed_93b1_6045bdf6b08drow1_col3\" class=\"data row1 col3\" >0.177</td>\n",
       "            </tr>\n",
       "            <tr>\n",
       "                        <th id=\"T_b342e36a_7a2f_11ed_93b1_6045bdf6b08dlevel0_row2\" class=\"row_heading level0 row2\" >10</th>\n",
       "                        <td id=\"T_b342e36a_7a2f_11ed_93b1_6045bdf6b08drow2_col0\" class=\"data row2 col0\" >1.1e+04</td>\n",
       "                        <td id=\"T_b342e36a_7a2f_11ed_93b1_6045bdf6b08drow2_col1\" class=\"data row2 col1\" >1.1e+04</td>\n",
       "                        <td id=\"T_b342e36a_7a2f_11ed_93b1_6045bdf6b08drow2_col2\" class=\"data row2 col2\" >0.113</td>\n",
       "                        <td id=\"T_b342e36a_7a2f_11ed_93b1_6045bdf6b08drow2_col3\" class=\"data row2 col3\" >0.113</td>\n",
       "            </tr>\n",
       "            <tr>\n",
       "                        <th id=\"T_b342e36a_7a2f_11ed_93b1_6045bdf6b08dlevel0_row3\" class=\"row_heading level0 row3\" >15</th>\n",
       "                        <td id=\"T_b342e36a_7a2f_11ed_93b1_6045bdf6b08drow3_col0\" class=\"data row3 col0\" >1.07e+04</td>\n",
       "                        <td id=\"T_b342e36a_7a2f_11ed_93b1_6045bdf6b08drow3_col1\" class=\"data row3 col1\" >1.06e+04</td>\n",
       "                        <td id=\"T_b342e36a_7a2f_11ed_93b1_6045bdf6b08drow3_col2\" class=\"data row3 col2\" >0.0858</td>\n",
       "                        <td id=\"T_b342e36a_7a2f_11ed_93b1_6045bdf6b08drow3_col3\" class=\"data row3 col3\" >0.0858</td>\n",
       "            </tr>\n",
       "    </tbody></table>"
      ],
      "text/plain": [
       "<pandas.io.formats.style.Styler at 0x7f7387ce01c0>"
      ]
     },
     "metadata": {},
     "output_type": "display_data"
    },
    {
     "name": "stdout",
     "output_type": "stream",
     "text": [
      "[\u001b[1mtardis.simulation.base\u001b[0m][\u001b[1;37mINFO\u001b[0m   ]  \n",
      "\t\n",
      "\tCurrent t_inner = 10655.125 K\n",
      "\tExpected t_inner for next iteration = 10655.561 K\n",
      " (\u001b[1mbase.py\u001b[0m:550)\n"
     ]
    },
    {
     "name": "stdout",
     "output_type": "stream",
     "text": [
      "[\u001b[1mtardis.simulation.base\u001b[0m][\u001b[1;37mINFO\u001b[0m   ]  \n",
      "\t\n",
      "\tStarting iteration 17 of 20 (\u001b[1mbase.py\u001b[0m:381)\n"
     ]
    },
    {
     "name": "stdout",
     "output_type": "stream",
     "text": [
      "[\u001b[1mtardis.simulation.base\u001b[0m][\u001b[1;37mINFO\u001b[0m   ]  \n",
      "\t\n",
      "\tLuminosity emitted   = 1.067e+43 erg / s\n",
      "\tLuminosity absorbed  = 3.372e+42 erg / s\n",
      "\tLuminosity requested = 1.059e+43 erg / s\n",
      " (\u001b[1mbase.py\u001b[0m:555)\n"
     ]
    },
    {
     "name": "stdout",
     "output_type": "stream",
     "text": [
      "[\u001b[1mtardis.simulation.base\u001b[0m][\u001b[1;37mINFO\u001b[0m   ]  \n",
      "\t\n",
      "\tPlasma stratification: (\u001b[1mbase.py\u001b[0m:523)\n"
     ]
    },
    {
     "data": {
      "text/html": [
       "<style  type=\"text/css\" >\n",
       "</style><table id=\"T_b3b2e80e_7a2f_11ed_93b1_6045bdf6b08d\" ><thead>    <tr>        <th class=\"index_name level0\" >Shell No.</th>        <th class=\"col_heading level0 col0\" >t_rad</th>        <th class=\"col_heading level0 col1\" >next_t_rad</th>        <th class=\"col_heading level0 col2\" >w</th>        <th class=\"col_heading level0 col3\" >next_w</th>    </tr></thead><tbody>\n",
       "                <tr>\n",
       "                        <th id=\"T_b3b2e80e_7a2f_11ed_93b1_6045bdf6b08dlevel0_row0\" class=\"row_heading level0 row0\" >0</th>\n",
       "                        <td id=\"T_b3b2e80e_7a2f_11ed_93b1_6045bdf6b08drow0_col0\" class=\"data row0 col0\" >1.1e+04</td>\n",
       "                        <td id=\"T_b3b2e80e_7a2f_11ed_93b1_6045bdf6b08drow0_col1\" class=\"data row0 col1\" >1.11e+04</td>\n",
       "                        <td id=\"T_b3b2e80e_7a2f_11ed_93b1_6045bdf6b08drow0_col2\" class=\"data row0 col2\" >0.472</td>\n",
       "                        <td id=\"T_b3b2e80e_7a2f_11ed_93b1_6045bdf6b08drow0_col3\" class=\"data row0 col3\" >0.468</td>\n",
       "            </tr>\n",
       "            <tr>\n",
       "                        <th id=\"T_b3b2e80e_7a2f_11ed_93b1_6045bdf6b08dlevel0_row1\" class=\"row_heading level0 row1\" >5</th>\n",
       "                        <td id=\"T_b3b2e80e_7a2f_11ed_93b1_6045bdf6b08drow1_col0\" class=\"data row1 col0\" >1.13e+04</td>\n",
       "                        <td id=\"T_b3b2e80e_7a2f_11ed_93b1_6045bdf6b08drow1_col1\" class=\"data row1 col1\" >1.14e+04</td>\n",
       "                        <td id=\"T_b3b2e80e_7a2f_11ed_93b1_6045bdf6b08drow1_col2\" class=\"data row1 col2\" >0.177</td>\n",
       "                        <td id=\"T_b3b2e80e_7a2f_11ed_93b1_6045bdf6b08drow1_col3\" class=\"data row1 col3\" >0.175</td>\n",
       "            </tr>\n",
       "            <tr>\n",
       "                        <th id=\"T_b3b2e80e_7a2f_11ed_93b1_6045bdf6b08dlevel0_row2\" class=\"row_heading level0 row2\" >10</th>\n",
       "                        <td id=\"T_b3b2e80e_7a2f_11ed_93b1_6045bdf6b08drow2_col0\" class=\"data row2 col0\" >1.1e+04</td>\n",
       "                        <td id=\"T_b3b2e80e_7a2f_11ed_93b1_6045bdf6b08drow2_col1\" class=\"data row2 col1\" >1.11e+04</td>\n",
       "                        <td id=\"T_b3b2e80e_7a2f_11ed_93b1_6045bdf6b08drow2_col2\" class=\"data row2 col2\" >0.113</td>\n",
       "                        <td id=\"T_b3b2e80e_7a2f_11ed_93b1_6045bdf6b08drow2_col3\" class=\"data row2 col3\" >0.11</td>\n",
       "            </tr>\n",
       "            <tr>\n",
       "                        <th id=\"T_b3b2e80e_7a2f_11ed_93b1_6045bdf6b08dlevel0_row3\" class=\"row_heading level0 row3\" >15</th>\n",
       "                        <td id=\"T_b3b2e80e_7a2f_11ed_93b1_6045bdf6b08drow3_col0\" class=\"data row3 col0\" >1.06e+04</td>\n",
       "                        <td id=\"T_b3b2e80e_7a2f_11ed_93b1_6045bdf6b08drow3_col1\" class=\"data row3 col1\" >1.08e+04</td>\n",
       "                        <td id=\"T_b3b2e80e_7a2f_11ed_93b1_6045bdf6b08drow3_col2\" class=\"data row3 col2\" >0.0858</td>\n",
       "                        <td id=\"T_b3b2e80e_7a2f_11ed_93b1_6045bdf6b08drow3_col3\" class=\"data row3 col3\" >0.0816</td>\n",
       "            </tr>\n",
       "    </tbody></table>"
      ],
      "text/plain": [
       "<pandas.io.formats.style.Styler at 0x7f7388678e20>"
      ]
     },
     "metadata": {},
     "output_type": "display_data"
    },
    {
     "name": "stdout",
     "output_type": "stream",
     "text": [
      "[\u001b[1mtardis.simulation.base\u001b[0m][\u001b[1;37mINFO\u001b[0m   ]  \n",
      "\t\n",
      "\tCurrent t_inner = 10655.561 K\n",
      "\tExpected t_inner for next iteration = 10636.536 K\n",
      " (\u001b[1mbase.py\u001b[0m:550)\n"
     ]
    },
    {
     "name": "stdout",
     "output_type": "stream",
     "text": [
      "[\u001b[1mtardis.simulation.base\u001b[0m][\u001b[1;37mINFO\u001b[0m   ]  \n",
      "\t\n",
      "\tStarting iteration 18 of 20 (\u001b[1mbase.py\u001b[0m:381)\n"
     ]
    },
    {
     "name": "stdout",
     "output_type": "stream",
     "text": [
      "[\u001b[1mtardis.simulation.base\u001b[0m][\u001b[1;37mINFO\u001b[0m   ]  \n",
      "\t\n",
      "\tLuminosity emitted   = 1.057e+43 erg / s\n",
      "\tLuminosity absorbed  = 3.365e+42 erg / s\n",
      "\tLuminosity requested = 1.059e+43 erg / s\n",
      " (\u001b[1mbase.py\u001b[0m:555)\n"
     ]
    },
    {
     "name": "stdout",
     "output_type": "stream",
     "text": [
      "[\u001b[1mtardis.simulation.base\u001b[0m][\u001b[1;37mINFO\u001b[0m   ]  \n",
      "\tIteration converged 1/4 consecutive times. (\u001b[1mbase.py\u001b[0m:262)\n"
     ]
    },
    {
     "name": "stdout",
     "output_type": "stream",
     "text": [
      "[\u001b[1mtardis.simulation.base\u001b[0m][\u001b[1;37mINFO\u001b[0m   ]  \n",
      "\t\n",
      "\tPlasma stratification: (\u001b[1mbase.py\u001b[0m:523)\n"
     ]
    },
    {
     "data": {
      "text/html": [
       "<style  type=\"text/css\" >\n",
       "</style><table id=\"T_b421c8aa_7a2f_11ed_93b1_6045bdf6b08d\" ><thead>    <tr>        <th class=\"index_name level0\" >Shell No.</th>        <th class=\"col_heading level0 col0\" >t_rad</th>        <th class=\"col_heading level0 col1\" >next_t_rad</th>        <th class=\"col_heading level0 col2\" >w</th>        <th class=\"col_heading level0 col3\" >next_w</th>    </tr></thead><tbody>\n",
       "                <tr>\n",
       "                        <th id=\"T_b421c8aa_7a2f_11ed_93b1_6045bdf6b08dlevel0_row0\" class=\"row_heading level0 row0\" >0</th>\n",
       "                        <td id=\"T_b421c8aa_7a2f_11ed_93b1_6045bdf6b08drow0_col0\" class=\"data row0 col0\" >1.11e+04</td>\n",
       "                        <td id=\"T_b421c8aa_7a2f_11ed_93b1_6045bdf6b08drow0_col1\" class=\"data row0 col1\" >1.11e+04</td>\n",
       "                        <td id=\"T_b421c8aa_7a2f_11ed_93b1_6045bdf6b08drow0_col2\" class=\"data row0 col2\" >0.468</td>\n",
       "                        <td id=\"T_b421c8aa_7a2f_11ed_93b1_6045bdf6b08drow0_col3\" class=\"data row0 col3\" >0.464</td>\n",
       "            </tr>\n",
       "            <tr>\n",
       "                        <th id=\"T_b421c8aa_7a2f_11ed_93b1_6045bdf6b08dlevel0_row1\" class=\"row_heading level0 row1\" >5</th>\n",
       "                        <td id=\"T_b421c8aa_7a2f_11ed_93b1_6045bdf6b08drow1_col0\" class=\"data row1 col0\" >1.14e+04</td>\n",
       "                        <td id=\"T_b421c8aa_7a2f_11ed_93b1_6045bdf6b08drow1_col1\" class=\"data row1 col1\" >1.13e+04</td>\n",
       "                        <td id=\"T_b421c8aa_7a2f_11ed_93b1_6045bdf6b08drow1_col2\" class=\"data row1 col2\" >0.175</td>\n",
       "                        <td id=\"T_b421c8aa_7a2f_11ed_93b1_6045bdf6b08drow1_col3\" class=\"data row1 col3\" >0.177</td>\n",
       "            </tr>\n",
       "            <tr>\n",
       "                        <th id=\"T_b421c8aa_7a2f_11ed_93b1_6045bdf6b08dlevel0_row2\" class=\"row_heading level0 row2\" >10</th>\n",
       "                        <td id=\"T_b421c8aa_7a2f_11ed_93b1_6045bdf6b08drow2_col0\" class=\"data row2 col0\" >1.11e+04</td>\n",
       "                        <td id=\"T_b421c8aa_7a2f_11ed_93b1_6045bdf6b08drow2_col1\" class=\"data row2 col1\" >1.1e+04</td>\n",
       "                        <td id=\"T_b421c8aa_7a2f_11ed_93b1_6045bdf6b08drow2_col2\" class=\"data row2 col2\" >0.11</td>\n",
       "                        <td id=\"T_b421c8aa_7a2f_11ed_93b1_6045bdf6b08drow2_col3\" class=\"data row2 col3\" >0.113</td>\n",
       "            </tr>\n",
       "            <tr>\n",
       "                        <th id=\"T_b421c8aa_7a2f_11ed_93b1_6045bdf6b08dlevel0_row3\" class=\"row_heading level0 row3\" >15</th>\n",
       "                        <td id=\"T_b421c8aa_7a2f_11ed_93b1_6045bdf6b08drow3_col0\" class=\"data row3 col0\" >1.08e+04</td>\n",
       "                        <td id=\"T_b421c8aa_7a2f_11ed_93b1_6045bdf6b08drow3_col1\" class=\"data row3 col1\" >1.07e+04</td>\n",
       "                        <td id=\"T_b421c8aa_7a2f_11ed_93b1_6045bdf6b08drow3_col2\" class=\"data row3 col2\" >0.0816</td>\n",
       "                        <td id=\"T_b421c8aa_7a2f_11ed_93b1_6045bdf6b08drow3_col3\" class=\"data row3 col3\" >0.0848</td>\n",
       "            </tr>\n",
       "    </tbody></table>"
      ],
      "text/plain": [
       "<pandas.io.formats.style.Styler at 0x7f7387ce0130>"
      ]
     },
     "metadata": {},
     "output_type": "display_data"
    },
    {
     "name": "stdout",
     "output_type": "stream",
     "text": [
      "[\u001b[1mtardis.simulation.base\u001b[0m][\u001b[1;37mINFO\u001b[0m   ]  \n",
      "\t\n",
      "\tCurrent t_inner = 10636.536 K\n",
      "\tExpected t_inner for next iteration = 10641.692 K\n",
      " (\u001b[1mbase.py\u001b[0m:550)\n"
     ]
    },
    {
     "name": "stdout",
     "output_type": "stream",
     "text": [
      "[\u001b[1mtardis.simulation.base\u001b[0m][\u001b[1;37mINFO\u001b[0m   ]  \n",
      "\t\n",
      "\tStarting iteration 19 of 20 (\u001b[1mbase.py\u001b[0m:381)\n"
     ]
    },
    {
     "name": "stdout",
     "output_type": "stream",
     "text": [
      "[\u001b[1mtardis.simulation.base\u001b[0m][\u001b[1;37mINFO\u001b[0m   ]  \n",
      "\t\n",
      "\tLuminosity emitted   = 1.056e+43 erg / s\n",
      "\tLuminosity absorbed  = 3.405e+42 erg / s\n",
      "\tLuminosity requested = 1.059e+43 erg / s\n",
      " (\u001b[1mbase.py\u001b[0m:555)\n"
     ]
    },
    {
     "name": "stdout",
     "output_type": "stream",
     "text": [
      "[\u001b[1mtardis.simulation.base\u001b[0m][\u001b[1;37mINFO\u001b[0m   ]  \n",
      "\tIteration converged 2/4 consecutive times. (\u001b[1mbase.py\u001b[0m:262)\n"
     ]
    },
    {
     "name": "stdout",
     "output_type": "stream",
     "text": [
      "[\u001b[1mtardis.simulation.base\u001b[0m][\u001b[1;37mINFO\u001b[0m   ]  \n",
      "\t\n",
      "\tPlasma stratification: (\u001b[1mbase.py\u001b[0m:523)\n"
     ]
    },
    {
     "data": {
      "text/html": [
       "<style  type=\"text/css\" >\n",
       "</style><table id=\"T_b48e232e_7a2f_11ed_93b1_6045bdf6b08d\" ><thead>    <tr>        <th class=\"index_name level0\" >Shell No.</th>        <th class=\"col_heading level0 col0\" >t_rad</th>        <th class=\"col_heading level0 col1\" >next_t_rad</th>        <th class=\"col_heading level0 col2\" >w</th>        <th class=\"col_heading level0 col3\" >next_w</th>    </tr></thead><tbody>\n",
       "                <tr>\n",
       "                        <th id=\"T_b48e232e_7a2f_11ed_93b1_6045bdf6b08dlevel0_row0\" class=\"row_heading level0 row0\" >0</th>\n",
       "                        <td id=\"T_b48e232e_7a2f_11ed_93b1_6045bdf6b08drow0_col0\" class=\"data row0 col0\" >1.11e+04</td>\n",
       "                        <td id=\"T_b48e232e_7a2f_11ed_93b1_6045bdf6b08drow0_col1\" class=\"data row0 col1\" >1.11e+04</td>\n",
       "                        <td id=\"T_b48e232e_7a2f_11ed_93b1_6045bdf6b08drow0_col2\" class=\"data row0 col2\" >0.464</td>\n",
       "                        <td id=\"T_b48e232e_7a2f_11ed_93b1_6045bdf6b08drow0_col3\" class=\"data row0 col3\" >0.466</td>\n",
       "            </tr>\n",
       "            <tr>\n",
       "                        <th id=\"T_b48e232e_7a2f_11ed_93b1_6045bdf6b08dlevel0_row1\" class=\"row_heading level0 row1\" >5</th>\n",
       "                        <td id=\"T_b48e232e_7a2f_11ed_93b1_6045bdf6b08drow1_col0\" class=\"data row1 col0\" >1.13e+04</td>\n",
       "                        <td id=\"T_b48e232e_7a2f_11ed_93b1_6045bdf6b08drow1_col1\" class=\"data row1 col1\" >1.13e+04</td>\n",
       "                        <td id=\"T_b48e232e_7a2f_11ed_93b1_6045bdf6b08drow1_col2\" class=\"data row1 col2\" >0.177</td>\n",
       "                        <td id=\"T_b48e232e_7a2f_11ed_93b1_6045bdf6b08drow1_col3\" class=\"data row1 col3\" >0.177</td>\n",
       "            </tr>\n",
       "            <tr>\n",
       "                        <th id=\"T_b48e232e_7a2f_11ed_93b1_6045bdf6b08dlevel0_row2\" class=\"row_heading level0 row2\" >10</th>\n",
       "                        <td id=\"T_b48e232e_7a2f_11ed_93b1_6045bdf6b08drow2_col0\" class=\"data row2 col0\" >1.1e+04</td>\n",
       "                        <td id=\"T_b48e232e_7a2f_11ed_93b1_6045bdf6b08drow2_col1\" class=\"data row2 col1\" >1.11e+04</td>\n",
       "                        <td id=\"T_b48e232e_7a2f_11ed_93b1_6045bdf6b08drow2_col2\" class=\"data row2 col2\" >0.113</td>\n",
       "                        <td id=\"T_b48e232e_7a2f_11ed_93b1_6045bdf6b08drow2_col3\" class=\"data row2 col3\" >0.111</td>\n",
       "            </tr>\n",
       "            <tr>\n",
       "                        <th id=\"T_b48e232e_7a2f_11ed_93b1_6045bdf6b08dlevel0_row3\" class=\"row_heading level0 row3\" >15</th>\n",
       "                        <td id=\"T_b48e232e_7a2f_11ed_93b1_6045bdf6b08drow3_col0\" class=\"data row3 col0\" >1.07e+04</td>\n",
       "                        <td id=\"T_b48e232e_7a2f_11ed_93b1_6045bdf6b08drow3_col1\" class=\"data row3 col1\" >1.07e+04</td>\n",
       "                        <td id=\"T_b48e232e_7a2f_11ed_93b1_6045bdf6b08drow3_col2\" class=\"data row3 col2\" >0.0848</td>\n",
       "                        <td id=\"T_b48e232e_7a2f_11ed_93b1_6045bdf6b08drow3_col3\" class=\"data row3 col3\" >0.0853</td>\n",
       "            </tr>\n",
       "    </tbody></table>"
      ],
      "text/plain": [
       "<pandas.io.formats.style.Styler at 0x7f7388342070>"
      ]
     },
     "metadata": {},
     "output_type": "display_data"
    },
    {
     "name": "stdout",
     "output_type": "stream",
     "text": [
      "[\u001b[1mtardis.simulation.base\u001b[0m][\u001b[1;37mINFO\u001b[0m   ]  \n",
      "\t\n",
      "\tCurrent t_inner = 10641.692 K\n",
      "\tExpected t_inner for next iteration = 10650.463 K\n",
      " (\u001b[1mbase.py\u001b[0m:550)\n"
     ]
    },
    {
     "name": "stdout",
     "output_type": "stream",
     "text": [
      "[\u001b[1mtardis.simulation.base\u001b[0m][\u001b[1;37mINFO\u001b[0m   ]  \n",
      "\t\n",
      "\tStarting iteration 20 of 20 (\u001b[1mbase.py\u001b[0m:381)\n"
     ]
    },
    {
     "name": "stdout",
     "output_type": "stream",
     "text": [
      "[\u001b[1mtardis.simulation.base\u001b[0m][\u001b[1;37mINFO\u001b[0m   ]  \n",
      "\t\n",
      "\tLuminosity emitted   = 1.061e+43 erg / s\n",
      "\tLuminosity absorbed  = 3.401e+42 erg / s\n",
      "\tLuminosity requested = 1.059e+43 erg / s\n",
      " (\u001b[1mbase.py\u001b[0m:555)\n"
     ]
    },
    {
     "name": "stdout",
     "output_type": "stream",
     "text": [
      "[\u001b[1mtardis.simulation.base\u001b[0m][\u001b[1;37mINFO\u001b[0m   ]  \n",
      "\t\n",
      "\tSimulation finished in 20 iterations \n",
      "\tSimulation took 45.14 s\n",
      " (\u001b[1mbase.py\u001b[0m:476)\n"
     ]
    }
   ],
   "source": [
    "from tardis import run_tardis\n",
    "\n",
    "simulation = run_tardis('tardis_example.yml')"
   ]
  },
  {
   "cell_type": "markdown",
   "metadata": {},
   "source": [
    "If all goes well, the simulation should run as usual. Afterwards, the\n",
    "information from the simulation will all exist in `Simulation` and\n",
    "can be examined.\n",
    "Some examples for useful/interesting quantities are\n",
    "given below (but much more information is available: contact us via \n",
    "[tardis-sn-users](http://groups.google.com/forum/#!forum/tardis-sn-users) if you need\n",
    "further help)."
   ]
  },
  {
   "cell_type": "markdown",
   "metadata": {},
   "source": [
    "### Examples of finding physical quantities"
   ]
  },
  {
   "cell_type": "markdown",
   "metadata": {},
   "source": [
    "For example, two of our important quantities are the parameters of the\n",
    "radiation field model, $T_{\\rm rad}$ and $W$. These exist as `numpy.ndarray`\n",
    "\n",
    "Thus `simulation.plasma.t_rad` will give you a list of the $T_{\\rm rad}$-values for the model zones in cgs units."
   ]
  },
  {
   "cell_type": "code",
   "execution_count": 3,
   "metadata": {
    "execution": {
     "iopub.execute_input": "2022-12-12T15:14:50.647703Z",
     "iopub.status.busy": "2022-12-12T15:14:50.646659Z",
     "iopub.status.idle": "2022-12-12T15:14:50.653260Z",
     "shell.execute_reply": "2022-12-12T15:14:50.652776Z"
    }
   },
   "outputs": [
    {
     "data": {
      "text/plain": [
       "array([11069.33089377, 11165.15751924, 11272.62783772, 11372.4522524 ,\n",
       "       11332.02806881, 11329.6435672 , 11294.51865104, 11261.56893248,\n",
       "       11241.47812926, 11148.97525325, 11071.52917648, 11004.68560208,\n",
       "       10946.39979159, 10861.42744062, 10784.4789371 , 10655.55794227,\n",
       "       10586.11909387, 10567.9967492 , 10435.71120389, 10305.7063164 ])"
      ]
     },
     "execution_count": 3,
     "metadata": {},
     "output_type": "execute_result"
    }
   ],
   "source": [
    "simulation.plasma.t_rad"
   ]
  },
  {
   "cell_type": "markdown",
   "metadata": {},
   "source": [
    "Similarly, the $W$-values can be accessed using `simulation.plasma.w`"
   ]
  },
  {
   "cell_type": "code",
   "execution_count": 4,
   "metadata": {
    "execution": {
     "iopub.execute_input": "2022-12-12T15:14:50.657235Z",
     "iopub.status.busy": "2022-12-12T15:14:50.656217Z",
     "iopub.status.idle": "2022-12-12T15:14:50.662729Z",
     "shell.execute_reply": "2022-12-12T15:14:50.662220Z"
    }
   },
   "outputs": [
    {
     "data": {
      "text/plain": [
       "array([0.46583111, 0.35821399, 0.28478501, 0.23131748, 0.20190424,\n",
       "       0.17672918, 0.15768939, 0.14187896, 0.1281619 , 0.11908551,\n",
       "       0.11148042, 0.10454478, 0.09806677, 0.09312254, 0.08822151,\n",
       "       0.08534236, 0.08173657, 0.07726564, 0.07559528, 0.07395579])"
      ]
     },
     "execution_count": 4,
     "metadata": {},
     "output_type": "execute_result"
    }
   ],
   "source": [
    "simulation.plasma.w"
   ]
  },
  {
   "cell_type": "markdown",
   "metadata": {},
   "source": [
    "Several important quantities that were setup when the model was defined by the configuration file are located in the `model` section of the simulation. For example, the inner and outer velocity boundaries of the zones in the model is given by `simulation.model.v_inner.cgs` and `simulation.model.v_outer.cgs` respectively. These exist as Astropy [Quantities](http://astropy.readthedocs.org/en/v0.2.1/_generated/astropy.units.quantity.Quantity.html)."
   ]
  },
  {
   "cell_type": "code",
   "execution_count": 5,
   "metadata": {
    "execution": {
     "iopub.execute_input": "2022-12-12T15:14:50.666821Z",
     "iopub.status.busy": "2022-12-12T15:14:50.665777Z",
     "iopub.status.idle": "2022-12-12T15:14:50.674216Z",
     "shell.execute_reply": "2022-12-12T15:14:50.673709Z"
    }
   },
   "outputs": [
    {
     "data": {
      "text/latex": [
       "$[1.1 \\times 10^{9},~1.145 \\times 10^{9},~1.19 \\times 10^{9},~1.235 \\times 10^{9},~1.28 \\times 10^{9},~1.325 \\times 10^{9},~1.37 \\times 10^{9},~1.415 \\times 10^{9},~1.46 \\times 10^{9},~1.505 \\times 10^{9},~1.55 \\times 10^{9},~1.595 \\times 10^{9},~1.64 \\times 10^{9},~1.685 \\times 10^{9},~1.73 \\times 10^{9},~1.775 \\times 10^{9},~1.82 \\times 10^{9},~1.865 \\times 10^{9},~1.91 \\times 10^{9},~1.955 \\times 10^{9}] \\; \\mathrm{\\frac{cm}{s}}$"
      ],
      "text/plain": [
       "<Quantity [1.100e+09, 1.145e+09, 1.190e+09, 1.235e+09, 1.280e+09,\n",
       "           1.325e+09, 1.370e+09, 1.415e+09, 1.460e+09, 1.505e+09,\n",
       "           1.550e+09, 1.595e+09, 1.640e+09, 1.685e+09, 1.730e+09,\n",
       "           1.775e+09, 1.820e+09, 1.865e+09, 1.910e+09, 1.955e+09] cm / s>"
      ]
     },
     "execution_count": 5,
     "metadata": {},
     "output_type": "execute_result"
    }
   ],
   "source": [
    "simulation.model.v_inner.cgs"
   ]
  },
  {
   "cell_type": "code",
   "execution_count": 6,
   "metadata": {
    "execution": {
     "iopub.execute_input": "2022-12-12T15:14:50.678238Z",
     "iopub.status.busy": "2022-12-12T15:14:50.677202Z",
     "iopub.status.idle": "2022-12-12T15:14:50.684402Z",
     "shell.execute_reply": "2022-12-12T15:14:50.683890Z"
    }
   },
   "outputs": [
    {
     "data": {
      "text/latex": [
       "$[1.145 \\times 10^{9},~1.19 \\times 10^{9},~1.235 \\times 10^{9},~1.28 \\times 10^{9},~1.325 \\times 10^{9},~1.37 \\times 10^{9},~1.415 \\times 10^{9},~1.46 \\times 10^{9},~1.505 \\times 10^{9},~1.55 \\times 10^{9},~1.595 \\times 10^{9},~1.64 \\times 10^{9},~1.685 \\times 10^{9},~1.73 \\times 10^{9},~1.775 \\times 10^{9},~1.82 \\times 10^{9},~1.865 \\times 10^{9},~1.91 \\times 10^{9},~1.955 \\times 10^{9},~2 \\times 10^{9}] \\; \\mathrm{\\frac{cm}{s}}$"
      ],
      "text/plain": [
       "<Quantity [1.145e+09, 1.190e+09, 1.235e+09, 1.280e+09, 1.325e+09,\n",
       "           1.370e+09, 1.415e+09, 1.460e+09, 1.505e+09, 1.550e+09,\n",
       "           1.595e+09, 1.640e+09, 1.685e+09, 1.730e+09, 1.775e+09,\n",
       "           1.820e+09, 1.865e+09, 1.910e+09, 1.955e+09, 2.000e+09] cm / s>"
      ]
     },
     "execution_count": 6,
     "metadata": {},
     "output_type": "execute_result"
    }
   ],
   "source": [
    "simulation.model.v_outer.cgs"
   ]
  },
  {
   "cell_type": "markdown",
   "metadata": {},
   "source": [
    "The average density in the zones is given by `simulation.model.density.cgs`. These also exist as Astropy [Quantities](http://astropy.readthedocs.org/en/v0.2.1/_generated/astropy.units.quantity.Quantity.html)."
   ]
  },
  {
   "cell_type": "code",
   "execution_count": 7,
   "metadata": {
    "execution": {
     "iopub.execute_input": "2022-12-12T15:14:50.688583Z",
     "iopub.status.busy": "2022-12-12T15:14:50.687495Z",
     "iopub.status.idle": "2022-12-12T15:14:50.705104Z",
     "shell.execute_reply": "2022-12-12T15:14:50.704557Z"
    }
   },
   "outputs": [
    {
     "data": {
      "text/latex": [
       "$[7.5428036 \\times 10^{-14},~5.728475 \\times 10^{-14},~4.3960742 \\times 10^{-14},~3.4062874 \\times 10^{-14},~2.6631346 \\times 10^{-14},~2.0995965 \\times 10^{-14},~1.6682872 \\times 10^{-14},~1.3353105 \\times 10^{-14},~1.0761538 \\times 10^{-14},~8.7290848 \\times 10^{-15},~7.1236516 \\times 10^{-15},~5.8469209 \\times 10^{-15},~4.8250928 \\times 10^{-15},~4.0023242 \\times 10^{-15},~3.3360386 \\times 10^{-15},~2.7935404 \\times 10^{-15},~2.3495504 \\times 10^{-15},~1.9843968 \\times 10^{-15},~1.6826769 \\times 10^{-15},~1.4322598 \\times 10^{-15}] \\; \\mathrm{\\frac{g}{cm^{3}}}$"
      ],
      "text/plain": [
       "<Quantity [7.54280360e-14, 5.72847501e-14, 4.39607422e-14, 3.40628743e-14,\n",
       "           2.66313464e-14, 2.09959645e-14, 1.66828721e-14, 1.33531053e-14,\n",
       "           1.07615377e-14, 8.72908485e-15, 7.12365156e-15, 5.84692095e-15,\n",
       "           4.82509279e-15, 4.00232416e-15, 3.33603855e-15, 2.79354038e-15,\n",
       "           2.34955043e-15, 1.98439683e-15, 1.68267689e-15, 1.43225980e-15] g / cm3>"
      ]
     },
     "execution_count": 7,
     "metadata": {},
     "output_type": "execute_result"
    }
   ],
   "source": [
    "simulation.model.density.cgs"
   ]
  },
  {
   "cell_type": "markdown",
   "metadata": {},
   "source": [
    "Many other interesting quantities are stored in the `plasma`.\n",
    "For example the calculated ion populations and level populations is given by `simulation.plasma.ion_number_density` and `simulation.plasma.level_number_density` respectively."
   ]
  },
  {
   "cell_type": "code",
   "execution_count": 8,
   "metadata": {
    "execution": {
     "iopub.execute_input": "2022-12-12T15:14:50.709540Z",
     "iopub.status.busy": "2022-12-12T15:14:50.708408Z",
     "iopub.status.idle": "2022-12-12T15:14:50.738716Z",
     "shell.execute_reply": "2022-12-12T15:14:50.738166Z"
    }
   },
   "outputs": [
    {
     "data": {
      "text/html": [
       "<div>\n",
       "<style scoped>\n",
       "    .dataframe tbody tr th:only-of-type {\n",
       "        vertical-align: middle;\n",
       "    }\n",
       "\n",
       "    .dataframe tbody tr th {\n",
       "        vertical-align: top;\n",
       "    }\n",
       "\n",
       "    .dataframe thead th {\n",
       "        text-align: right;\n",
       "    }\n",
       "</style>\n",
       "<table border=\"1\" class=\"dataframe\">\n",
       "  <thead>\n",
       "    <tr style=\"text-align: right;\">\n",
       "      <th></th>\n",
       "      <th></th>\n",
       "      <th>0</th>\n",
       "      <th>1</th>\n",
       "      <th>2</th>\n",
       "      <th>3</th>\n",
       "      <th>4</th>\n",
       "      <th>5</th>\n",
       "      <th>6</th>\n",
       "      <th>7</th>\n",
       "      <th>8</th>\n",
       "      <th>9</th>\n",
       "      <th>10</th>\n",
       "      <th>11</th>\n",
       "      <th>12</th>\n",
       "      <th>13</th>\n",
       "      <th>14</th>\n",
       "      <th>15</th>\n",
       "      <th>16</th>\n",
       "      <th>17</th>\n",
       "      <th>18</th>\n",
       "      <th>19</th>\n",
       "    </tr>\n",
       "    <tr>\n",
       "      <th>atomic_number</th>\n",
       "      <th>ion_number</th>\n",
       "      <th></th>\n",
       "      <th></th>\n",
       "      <th></th>\n",
       "      <th></th>\n",
       "      <th></th>\n",
       "      <th></th>\n",
       "      <th></th>\n",
       "      <th></th>\n",
       "      <th></th>\n",
       "      <th></th>\n",
       "      <th></th>\n",
       "      <th></th>\n",
       "      <th></th>\n",
       "      <th></th>\n",
       "      <th></th>\n",
       "      <th></th>\n",
       "      <th></th>\n",
       "      <th></th>\n",
       "      <th></th>\n",
       "      <th></th>\n",
       "    </tr>\n",
       "  </thead>\n",
       "  <tbody>\n",
       "    <tr>\n",
       "      <th rowspan=\"5\" valign=\"top\">8</th>\n",
       "      <th>0</th>\n",
       "      <td>9.817541e+02</td>\n",
       "      <td>4.952192e+02</td>\n",
       "      <td>2.514676e+02</td>\n",
       "      <td>1.318559e+02</td>\n",
       "      <td>8.523577e+01</td>\n",
       "      <td>5.320207e+01</td>\n",
       "      <td>3.527606e+01</td>\n",
       "      <td>2.366975e+01</td>\n",
       "      <td>1.582107e+01</td>\n",
       "      <td>1.185305e+01</td>\n",
       "      <td>8.815497e+00</td>\n",
       "      <td>6.540669e+00</td>\n",
       "      <td>4.850194e+00</td>\n",
       "      <td>3.782471e+00</td>\n",
       "      <td>2.948439e+00</td>\n",
       "      <td>2.514696e+00</td>\n",
       "      <td>1.980990e+00</td>\n",
       "      <td>1.454287e+00</td>\n",
       "      <td>1.288493e+00</td>\n",
       "      <td>1.151839e+00</td>\n",
       "    </tr>\n",
       "    <tr>\n",
       "      <th>1</th>\n",
       "      <td>5.392046e+08</td>\n",
       "      <td>4.093669e+08</td>\n",
       "      <td>3.139475e+08</td>\n",
       "      <td>2.429934e+08</td>\n",
       "      <td>1.899227e+08</td>\n",
       "      <td>1.496264e+08</td>\n",
       "      <td>1.188395e+08</td>\n",
       "      <td>9.507571e+07</td>\n",
       "      <td>7.657002e+07</td>\n",
       "      <td>6.213943e+07</td>\n",
       "      <td>5.072480e+07</td>\n",
       "      <td>4.163973e+07</td>\n",
       "      <td>3.436439e+07</td>\n",
       "      <td>2.851733e+07</td>\n",
       "      <td>2.377784e+07</td>\n",
       "      <td>1.992820e+07</td>\n",
       "      <td>1.676439e+07</td>\n",
       "      <td>1.415556e+07</td>\n",
       "      <td>1.201203e+07</td>\n",
       "      <td>1.022981e+07</td>\n",
       "    </tr>\n",
       "    <tr>\n",
       "      <th>2</th>\n",
       "      <td>2.226602e+05</td>\n",
       "      <td>3.079859e+05</td>\n",
       "      <td>4.402008e+05</td>\n",
       "      <td>6.091628e+05</td>\n",
       "      <td>5.329124e+05</td>\n",
       "      <td>5.275052e+05</td>\n",
       "      <td>4.690734e+05</td>\n",
       "      <td>4.198082e+05</td>\n",
       "      <td>3.917586e+05</td>\n",
       "      <td>2.871442e+05</td>\n",
       "      <td>2.204204e+05</td>\n",
       "      <td>1.748728e+05</td>\n",
       "      <td>1.425520e+05</td>\n",
       "      <td>1.055346e+05</td>\n",
       "      <td>8.003898e+04</td>\n",
       "      <td>4.996889e+04</td>\n",
       "      <td>3.855664e+04</td>\n",
       "      <td>3.597715e+04</td>\n",
       "      <td>2.173746e+04</td>\n",
       "      <td>1.307832e+04</td>\n",
       "    </tr>\n",
       "    <tr>\n",
       "      <th>3</th>\n",
       "      <td>2.645841e-08</td>\n",
       "      <td>7.972540e-08</td>\n",
       "      <td>2.585740e-07</td>\n",
       "      <td>7.655780e-07</td>\n",
       "      <td>6.973306e-07</td>\n",
       "      <td>8.635538e-07</td>\n",
       "      <td>8.070076e-07</td>\n",
       "      <td>7.611136e-07</td>\n",
       "      <td>7.934242e-07</td>\n",
       "      <td>4.430639e-07</td>\n",
       "      <td>2.767649e-07</td>\n",
       "      <td>1.870047e-07</td>\n",
       "      <td>1.346884e-07</td>\n",
       "      <td>7.544950e-08</td>\n",
       "      <td>4.473829e-08</td>\n",
       "      <td>1.606762e-08</td>\n",
       "      <td>9.868697e-09</td>\n",
       "      <td>9.803360e-09</td>\n",
       "      <td>3.199626e-09</td>\n",
       "      <td>1.029618e-09</td>\n",
       "    </tr>\n",
       "    <tr>\n",
       "      <th>4</th>\n",
       "      <td>0.000000e+00</td>\n",
       "      <td>0.000000e+00</td>\n",
       "      <td>0.000000e+00</td>\n",
       "      <td>0.000000e+00</td>\n",
       "      <td>0.000000e+00</td>\n",
       "      <td>0.000000e+00</td>\n",
       "      <td>0.000000e+00</td>\n",
       "      <td>0.000000e+00</td>\n",
       "      <td>0.000000e+00</td>\n",
       "      <td>0.000000e+00</td>\n",
       "      <td>0.000000e+00</td>\n",
       "      <td>0.000000e+00</td>\n",
       "      <td>0.000000e+00</td>\n",
       "      <td>0.000000e+00</td>\n",
       "      <td>0.000000e+00</td>\n",
       "      <td>0.000000e+00</td>\n",
       "      <td>0.000000e+00</td>\n",
       "      <td>0.000000e+00</td>\n",
       "      <td>0.000000e+00</td>\n",
       "      <td>0.000000e+00</td>\n",
       "    </tr>\n",
       "    <tr>\n",
       "      <th>...</th>\n",
       "      <th>...</th>\n",
       "      <td>...</td>\n",
       "      <td>...</td>\n",
       "      <td>...</td>\n",
       "      <td>...</td>\n",
       "      <td>...</td>\n",
       "      <td>...</td>\n",
       "      <td>...</td>\n",
       "      <td>...</td>\n",
       "      <td>...</td>\n",
       "      <td>...</td>\n",
       "      <td>...</td>\n",
       "      <td>...</td>\n",
       "      <td>...</td>\n",
       "      <td>...</td>\n",
       "      <td>...</td>\n",
       "      <td>...</td>\n",
       "      <td>...</td>\n",
       "      <td>...</td>\n",
       "      <td>...</td>\n",
       "      <td>...</td>\n",
       "    </tr>\n",
       "    <tr>\n",
       "      <th rowspan=\"5\" valign=\"top\">20</th>\n",
       "      <th>16</th>\n",
       "      <td>0.000000e+00</td>\n",
       "      <td>0.000000e+00</td>\n",
       "      <td>0.000000e+00</td>\n",
       "      <td>0.000000e+00</td>\n",
       "      <td>0.000000e+00</td>\n",
       "      <td>0.000000e+00</td>\n",
       "      <td>0.000000e+00</td>\n",
       "      <td>0.000000e+00</td>\n",
       "      <td>0.000000e+00</td>\n",
       "      <td>0.000000e+00</td>\n",
       "      <td>0.000000e+00</td>\n",
       "      <td>0.000000e+00</td>\n",
       "      <td>0.000000e+00</td>\n",
       "      <td>0.000000e+00</td>\n",
       "      <td>0.000000e+00</td>\n",
       "      <td>0.000000e+00</td>\n",
       "      <td>0.000000e+00</td>\n",
       "      <td>0.000000e+00</td>\n",
       "      <td>0.000000e+00</td>\n",
       "      <td>0.000000e+00</td>\n",
       "    </tr>\n",
       "    <tr>\n",
       "      <th>17</th>\n",
       "      <td>0.000000e+00</td>\n",
       "      <td>0.000000e+00</td>\n",
       "      <td>0.000000e+00</td>\n",
       "      <td>0.000000e+00</td>\n",
       "      <td>0.000000e+00</td>\n",
       "      <td>0.000000e+00</td>\n",
       "      <td>0.000000e+00</td>\n",
       "      <td>0.000000e+00</td>\n",
       "      <td>0.000000e+00</td>\n",
       "      <td>0.000000e+00</td>\n",
       "      <td>0.000000e+00</td>\n",
       "      <td>0.000000e+00</td>\n",
       "      <td>0.000000e+00</td>\n",
       "      <td>0.000000e+00</td>\n",
       "      <td>0.000000e+00</td>\n",
       "      <td>0.000000e+00</td>\n",
       "      <td>0.000000e+00</td>\n",
       "      <td>0.000000e+00</td>\n",
       "      <td>0.000000e+00</td>\n",
       "      <td>0.000000e+00</td>\n",
       "    </tr>\n",
       "    <tr>\n",
       "      <th>18</th>\n",
       "      <td>0.000000e+00</td>\n",
       "      <td>0.000000e+00</td>\n",
       "      <td>0.000000e+00</td>\n",
       "      <td>0.000000e+00</td>\n",
       "      <td>0.000000e+00</td>\n",
       "      <td>0.000000e+00</td>\n",
       "      <td>0.000000e+00</td>\n",
       "      <td>0.000000e+00</td>\n",
       "      <td>0.000000e+00</td>\n",
       "      <td>0.000000e+00</td>\n",
       "      <td>0.000000e+00</td>\n",
       "      <td>0.000000e+00</td>\n",
       "      <td>0.000000e+00</td>\n",
       "      <td>0.000000e+00</td>\n",
       "      <td>0.000000e+00</td>\n",
       "      <td>0.000000e+00</td>\n",
       "      <td>0.000000e+00</td>\n",
       "      <td>0.000000e+00</td>\n",
       "      <td>0.000000e+00</td>\n",
       "      <td>0.000000e+00</td>\n",
       "    </tr>\n",
       "    <tr>\n",
       "      <th>19</th>\n",
       "      <td>0.000000e+00</td>\n",
       "      <td>0.000000e+00</td>\n",
       "      <td>0.000000e+00</td>\n",
       "      <td>0.000000e+00</td>\n",
       "      <td>0.000000e+00</td>\n",
       "      <td>0.000000e+00</td>\n",
       "      <td>0.000000e+00</td>\n",
       "      <td>0.000000e+00</td>\n",
       "      <td>0.000000e+00</td>\n",
       "      <td>0.000000e+00</td>\n",
       "      <td>0.000000e+00</td>\n",
       "      <td>0.000000e+00</td>\n",
       "      <td>0.000000e+00</td>\n",
       "      <td>0.000000e+00</td>\n",
       "      <td>0.000000e+00</td>\n",
       "      <td>0.000000e+00</td>\n",
       "      <td>0.000000e+00</td>\n",
       "      <td>0.000000e+00</td>\n",
       "      <td>0.000000e+00</td>\n",
       "      <td>0.000000e+00</td>\n",
       "    </tr>\n",
       "    <tr>\n",
       "      <th>20</th>\n",
       "      <td>0.000000e+00</td>\n",
       "      <td>0.000000e+00</td>\n",
       "      <td>0.000000e+00</td>\n",
       "      <td>0.000000e+00</td>\n",
       "      <td>0.000000e+00</td>\n",
       "      <td>0.000000e+00</td>\n",
       "      <td>0.000000e+00</td>\n",
       "      <td>0.000000e+00</td>\n",
       "      <td>0.000000e+00</td>\n",
       "      <td>0.000000e+00</td>\n",
       "      <td>0.000000e+00</td>\n",
       "      <td>0.000000e+00</td>\n",
       "      <td>0.000000e+00</td>\n",
       "      <td>0.000000e+00</td>\n",
       "      <td>0.000000e+00</td>\n",
       "      <td>0.000000e+00</td>\n",
       "      <td>0.000000e+00</td>\n",
       "      <td>0.000000e+00</td>\n",
       "      <td>0.000000e+00</td>\n",
       "      <td>0.000000e+00</td>\n",
       "    </tr>\n",
       "  </tbody>\n",
       "</table>\n",
       "<p>94 rows × 20 columns</p>\n",
       "</div>"
      ],
      "text/plain": [
       "                                     0             1             2  \\\n",
       "atomic_number ion_number                                             \n",
       "8             0           9.817541e+02  4.952192e+02  2.514676e+02   \n",
       "              1           5.392046e+08  4.093669e+08  3.139475e+08   \n",
       "              2           2.226602e+05  3.079859e+05  4.402008e+05   \n",
       "              3           2.645841e-08  7.972540e-08  2.585740e-07   \n",
       "              4           0.000000e+00  0.000000e+00  0.000000e+00   \n",
       "...                                ...           ...           ...   \n",
       "20            16          0.000000e+00  0.000000e+00  0.000000e+00   \n",
       "              17          0.000000e+00  0.000000e+00  0.000000e+00   \n",
       "              18          0.000000e+00  0.000000e+00  0.000000e+00   \n",
       "              19          0.000000e+00  0.000000e+00  0.000000e+00   \n",
       "              20          0.000000e+00  0.000000e+00  0.000000e+00   \n",
       "\n",
       "                                     3             4             5  \\\n",
       "atomic_number ion_number                                             \n",
       "8             0           1.318559e+02  8.523577e+01  5.320207e+01   \n",
       "              1           2.429934e+08  1.899227e+08  1.496264e+08   \n",
       "              2           6.091628e+05  5.329124e+05  5.275052e+05   \n",
       "              3           7.655780e-07  6.973306e-07  8.635538e-07   \n",
       "              4           0.000000e+00  0.000000e+00  0.000000e+00   \n",
       "...                                ...           ...           ...   \n",
       "20            16          0.000000e+00  0.000000e+00  0.000000e+00   \n",
       "              17          0.000000e+00  0.000000e+00  0.000000e+00   \n",
       "              18          0.000000e+00  0.000000e+00  0.000000e+00   \n",
       "              19          0.000000e+00  0.000000e+00  0.000000e+00   \n",
       "              20          0.000000e+00  0.000000e+00  0.000000e+00   \n",
       "\n",
       "                                     6             7             8  \\\n",
       "atomic_number ion_number                                             \n",
       "8             0           3.527606e+01  2.366975e+01  1.582107e+01   \n",
       "              1           1.188395e+08  9.507571e+07  7.657002e+07   \n",
       "              2           4.690734e+05  4.198082e+05  3.917586e+05   \n",
       "              3           8.070076e-07  7.611136e-07  7.934242e-07   \n",
       "              4           0.000000e+00  0.000000e+00  0.000000e+00   \n",
       "...                                ...           ...           ...   \n",
       "20            16          0.000000e+00  0.000000e+00  0.000000e+00   \n",
       "              17          0.000000e+00  0.000000e+00  0.000000e+00   \n",
       "              18          0.000000e+00  0.000000e+00  0.000000e+00   \n",
       "              19          0.000000e+00  0.000000e+00  0.000000e+00   \n",
       "              20          0.000000e+00  0.000000e+00  0.000000e+00   \n",
       "\n",
       "                                     9            10            11  \\\n",
       "atomic_number ion_number                                             \n",
       "8             0           1.185305e+01  8.815497e+00  6.540669e+00   \n",
       "              1           6.213943e+07  5.072480e+07  4.163973e+07   \n",
       "              2           2.871442e+05  2.204204e+05  1.748728e+05   \n",
       "              3           4.430639e-07  2.767649e-07  1.870047e-07   \n",
       "              4           0.000000e+00  0.000000e+00  0.000000e+00   \n",
       "...                                ...           ...           ...   \n",
       "20            16          0.000000e+00  0.000000e+00  0.000000e+00   \n",
       "              17          0.000000e+00  0.000000e+00  0.000000e+00   \n",
       "              18          0.000000e+00  0.000000e+00  0.000000e+00   \n",
       "              19          0.000000e+00  0.000000e+00  0.000000e+00   \n",
       "              20          0.000000e+00  0.000000e+00  0.000000e+00   \n",
       "\n",
       "                                    12            13            14  \\\n",
       "atomic_number ion_number                                             \n",
       "8             0           4.850194e+00  3.782471e+00  2.948439e+00   \n",
       "              1           3.436439e+07  2.851733e+07  2.377784e+07   \n",
       "              2           1.425520e+05  1.055346e+05  8.003898e+04   \n",
       "              3           1.346884e-07  7.544950e-08  4.473829e-08   \n",
       "              4           0.000000e+00  0.000000e+00  0.000000e+00   \n",
       "...                                ...           ...           ...   \n",
       "20            16          0.000000e+00  0.000000e+00  0.000000e+00   \n",
       "              17          0.000000e+00  0.000000e+00  0.000000e+00   \n",
       "              18          0.000000e+00  0.000000e+00  0.000000e+00   \n",
       "              19          0.000000e+00  0.000000e+00  0.000000e+00   \n",
       "              20          0.000000e+00  0.000000e+00  0.000000e+00   \n",
       "\n",
       "                                    15            16            17  \\\n",
       "atomic_number ion_number                                             \n",
       "8             0           2.514696e+00  1.980990e+00  1.454287e+00   \n",
       "              1           1.992820e+07  1.676439e+07  1.415556e+07   \n",
       "              2           4.996889e+04  3.855664e+04  3.597715e+04   \n",
       "              3           1.606762e-08  9.868697e-09  9.803360e-09   \n",
       "              4           0.000000e+00  0.000000e+00  0.000000e+00   \n",
       "...                                ...           ...           ...   \n",
       "20            16          0.000000e+00  0.000000e+00  0.000000e+00   \n",
       "              17          0.000000e+00  0.000000e+00  0.000000e+00   \n",
       "              18          0.000000e+00  0.000000e+00  0.000000e+00   \n",
       "              19          0.000000e+00  0.000000e+00  0.000000e+00   \n",
       "              20          0.000000e+00  0.000000e+00  0.000000e+00   \n",
       "\n",
       "                                    18            19  \n",
       "atomic_number ion_number                              \n",
       "8             0           1.288493e+00  1.151839e+00  \n",
       "              1           1.201203e+07  1.022981e+07  \n",
       "              2           2.173746e+04  1.307832e+04  \n",
       "              3           3.199626e-09  1.029618e-09  \n",
       "              4           0.000000e+00  0.000000e+00  \n",
       "...                                ...           ...  \n",
       "20            16          0.000000e+00  0.000000e+00  \n",
       "              17          0.000000e+00  0.000000e+00  \n",
       "              18          0.000000e+00  0.000000e+00  \n",
       "              19          0.000000e+00  0.000000e+00  \n",
       "              20          0.000000e+00  0.000000e+00  \n",
       "\n",
       "[94 rows x 20 columns]"
      ]
     },
     "execution_count": 8,
     "metadata": {},
     "output_type": "execute_result"
    }
   ],
   "source": [
    "simulation.plasma.ion_number_density"
   ]
  },
  {
   "cell_type": "code",
   "execution_count": 9,
   "metadata": {
    "execution": {
     "iopub.execute_input": "2022-12-12T15:14:50.742981Z",
     "iopub.status.busy": "2022-12-12T15:14:50.741914Z",
     "iopub.status.idle": "2022-12-12T15:14:50.768780Z",
     "shell.execute_reply": "2022-12-12T15:14:50.768198Z"
    }
   },
   "outputs": [
    {
     "data": {
      "text/html": [
       "<div>\n",
       "<style scoped>\n",
       "    .dataframe tbody tr th:only-of-type {\n",
       "        vertical-align: middle;\n",
       "    }\n",
       "\n",
       "    .dataframe tbody tr th {\n",
       "        vertical-align: top;\n",
       "    }\n",
       "\n",
       "    .dataframe thead th {\n",
       "        text-align: right;\n",
       "    }\n",
       "</style>\n",
       "<table border=\"1\" class=\"dataframe\">\n",
       "  <thead>\n",
       "    <tr style=\"text-align: right;\">\n",
       "      <th></th>\n",
       "      <th></th>\n",
       "      <th></th>\n",
       "      <th>0</th>\n",
       "      <th>1</th>\n",
       "      <th>2</th>\n",
       "      <th>3</th>\n",
       "      <th>4</th>\n",
       "      <th>5</th>\n",
       "      <th>6</th>\n",
       "      <th>7</th>\n",
       "      <th>8</th>\n",
       "      <th>9</th>\n",
       "      <th>10</th>\n",
       "      <th>11</th>\n",
       "      <th>12</th>\n",
       "      <th>13</th>\n",
       "      <th>14</th>\n",
       "      <th>15</th>\n",
       "      <th>16</th>\n",
       "      <th>17</th>\n",
       "      <th>18</th>\n",
       "      <th>19</th>\n",
       "    </tr>\n",
       "    <tr>\n",
       "      <th>atomic_number</th>\n",
       "      <th>ion_number</th>\n",
       "      <th>level_number</th>\n",
       "      <th></th>\n",
       "      <th></th>\n",
       "      <th></th>\n",
       "      <th></th>\n",
       "      <th></th>\n",
       "      <th></th>\n",
       "      <th></th>\n",
       "      <th></th>\n",
       "      <th></th>\n",
       "      <th></th>\n",
       "      <th></th>\n",
       "      <th></th>\n",
       "      <th></th>\n",
       "      <th></th>\n",
       "      <th></th>\n",
       "      <th></th>\n",
       "      <th></th>\n",
       "      <th></th>\n",
       "      <th></th>\n",
       "      <th></th>\n",
       "    </tr>\n",
       "  </thead>\n",
       "  <tbody>\n",
       "    <tr>\n",
       "      <th rowspan=\"5\" valign=\"top\">8</th>\n",
       "      <th rowspan=\"5\" valign=\"top\">0</th>\n",
       "      <th>0</th>\n",
       "      <td>513.492299</td>\n",
       "      <td>258.671585</td>\n",
       "      <td>131.154368</td>\n",
       "      <td>68.674580</td>\n",
       "      <td>44.418418</td>\n",
       "      <td>27.725805</td>\n",
       "      <td>18.392821</td>\n",
       "      <td>12.346995</td>\n",
       "      <td>8.255151</td>\n",
       "      <td>6.192690</td>\n",
       "      <td>4.610677</td>\n",
       "      <td>3.424086</td>\n",
       "      <td>2.541173</td>\n",
       "      <td>1.984107</td>\n",
       "      <td>1.548271</td>\n",
       "      <td>1.322879</td>\n",
       "      <td>1.043126</td>\n",
       "      <td>0.765974</td>\n",
       "      <td>0.679901</td>\n",
       "      <td>0.608892</td>\n",
       "    </tr>\n",
       "    <tr>\n",
       "      <th>1</th>\n",
       "      <td>301.822270</td>\n",
       "      <td>152.069720</td>\n",
       "      <td>77.118971</td>\n",
       "      <td>40.387920</td>\n",
       "      <td>26.120864</td>\n",
       "      <td>16.304473</td>\n",
       "      <td>10.815431</td>\n",
       "      <td>7.259908</td>\n",
       "      <td>4.853770</td>\n",
       "      <td>3.640496</td>\n",
       "      <td>2.710091</td>\n",
       "      <td>2.012378</td>\n",
       "      <td>1.493315</td>\n",
       "      <td>1.165766</td>\n",
       "      <td>0.909554</td>\n",
       "      <td>0.776946</td>\n",
       "      <td>0.612557</td>\n",
       "      <td>0.449788</td>\n",
       "      <td>0.399136</td>\n",
       "      <td>0.357352</td>\n",
       "    </tr>\n",
       "    <tr>\n",
       "      <th>2</th>\n",
       "      <td>99.712889</td>\n",
       "      <td>50.243057</td>\n",
       "      <td>25.481864</td>\n",
       "      <td>13.346116</td>\n",
       "      <td>8.631325</td>\n",
       "      <td>5.387607</td>\n",
       "      <td>3.573725</td>\n",
       "      <td>2.398818</td>\n",
       "      <td>1.603757</td>\n",
       "      <td>1.202786</td>\n",
       "      <td>0.895333</td>\n",
       "      <td>0.664793</td>\n",
       "      <td>0.493296</td>\n",
       "      <td>0.385068</td>\n",
       "      <td>0.300418</td>\n",
       "      <td>0.256590</td>\n",
       "      <td>0.202288</td>\n",
       "      <td>0.148533</td>\n",
       "      <td>0.131791</td>\n",
       "      <td>0.117980</td>\n",
       "    </tr>\n",
       "    <tr>\n",
       "      <th>3</th>\n",
       "      <td>65.284281</td>\n",
       "      <td>33.474270</td>\n",
       "      <td>17.306588</td>\n",
       "      <td>9.224554</td>\n",
       "      <td>5.923827</td>\n",
       "      <td>3.696062</td>\n",
       "      <td>2.436586</td>\n",
       "      <td>1.626021</td>\n",
       "      <td>1.083219</td>\n",
       "      <td>0.799011</td>\n",
       "      <td>0.586431</td>\n",
       "      <td>0.430088</td>\n",
       "      <td>0.315682</td>\n",
       "      <td>0.242490</td>\n",
       "      <td>0.186407</td>\n",
       "      <td>0.155243</td>\n",
       "      <td>0.120705</td>\n",
       "      <td>0.088307</td>\n",
       "      <td>0.076267</td>\n",
       "      <td>0.066442</td>\n",
       "    </tr>\n",
       "    <tr>\n",
       "      <th>4</th>\n",
       "      <td>1.270591</td>\n",
       "      <td>0.664649</td>\n",
       "      <td>0.351282</td>\n",
       "      <td>0.191034</td>\n",
       "      <td>0.121690</td>\n",
       "      <td>0.075890</td>\n",
       "      <td>0.049677</td>\n",
       "      <td>0.032930</td>\n",
       "      <td>0.021848</td>\n",
       "      <td>0.015812</td>\n",
       "      <td>0.011419</td>\n",
       "      <td>0.008257</td>\n",
       "      <td>0.005985</td>\n",
       "      <td>0.004514</td>\n",
       "      <td>0.003411</td>\n",
       "      <td>0.002760</td>\n",
       "      <td>0.002112</td>\n",
       "      <td>0.001539</td>\n",
       "      <td>0.001289</td>\n",
       "      <td>0.001088</td>\n",
       "    </tr>\n",
       "    <tr>\n",
       "      <th>...</th>\n",
       "      <th>...</th>\n",
       "      <th>...</th>\n",
       "      <td>...</td>\n",
       "      <td>...</td>\n",
       "      <td>...</td>\n",
       "      <td>...</td>\n",
       "      <td>...</td>\n",
       "      <td>...</td>\n",
       "      <td>...</td>\n",
       "      <td>...</td>\n",
       "      <td>...</td>\n",
       "      <td>...</td>\n",
       "      <td>...</td>\n",
       "      <td>...</td>\n",
       "      <td>...</td>\n",
       "      <td>...</td>\n",
       "      <td>...</td>\n",
       "      <td>...</td>\n",
       "      <td>...</td>\n",
       "      <td>...</td>\n",
       "      <td>...</td>\n",
       "      <td>...</td>\n",
       "    </tr>\n",
       "    <tr>\n",
       "      <th rowspan=\"5\" valign=\"top\">20</th>\n",
       "      <th>16</th>\n",
       "      <th>0</th>\n",
       "      <td>0.000000</td>\n",
       "      <td>0.000000</td>\n",
       "      <td>0.000000</td>\n",
       "      <td>0.000000</td>\n",
       "      <td>0.000000</td>\n",
       "      <td>0.000000</td>\n",
       "      <td>0.000000</td>\n",
       "      <td>0.000000</td>\n",
       "      <td>0.000000</td>\n",
       "      <td>0.000000</td>\n",
       "      <td>0.000000</td>\n",
       "      <td>0.000000</td>\n",
       "      <td>0.000000</td>\n",
       "      <td>0.000000</td>\n",
       "      <td>0.000000</td>\n",
       "      <td>0.000000</td>\n",
       "      <td>0.000000</td>\n",
       "      <td>0.000000</td>\n",
       "      <td>0.000000</td>\n",
       "      <td>0.000000</td>\n",
       "    </tr>\n",
       "    <tr>\n",
       "      <th>17</th>\n",
       "      <th>0</th>\n",
       "      <td>0.000000</td>\n",
       "      <td>0.000000</td>\n",
       "      <td>0.000000</td>\n",
       "      <td>0.000000</td>\n",
       "      <td>0.000000</td>\n",
       "      <td>0.000000</td>\n",
       "      <td>0.000000</td>\n",
       "      <td>0.000000</td>\n",
       "      <td>0.000000</td>\n",
       "      <td>0.000000</td>\n",
       "      <td>0.000000</td>\n",
       "      <td>0.000000</td>\n",
       "      <td>0.000000</td>\n",
       "      <td>0.000000</td>\n",
       "      <td>0.000000</td>\n",
       "      <td>0.000000</td>\n",
       "      <td>0.000000</td>\n",
       "      <td>0.000000</td>\n",
       "      <td>0.000000</td>\n",
       "      <td>0.000000</td>\n",
       "    </tr>\n",
       "    <tr>\n",
       "      <th>18</th>\n",
       "      <th>0</th>\n",
       "      <td>0.000000</td>\n",
       "      <td>0.000000</td>\n",
       "      <td>0.000000</td>\n",
       "      <td>0.000000</td>\n",
       "      <td>0.000000</td>\n",
       "      <td>0.000000</td>\n",
       "      <td>0.000000</td>\n",
       "      <td>0.000000</td>\n",
       "      <td>0.000000</td>\n",
       "      <td>0.000000</td>\n",
       "      <td>0.000000</td>\n",
       "      <td>0.000000</td>\n",
       "      <td>0.000000</td>\n",
       "      <td>0.000000</td>\n",
       "      <td>0.000000</td>\n",
       "      <td>0.000000</td>\n",
       "      <td>0.000000</td>\n",
       "      <td>0.000000</td>\n",
       "      <td>0.000000</td>\n",
       "      <td>0.000000</td>\n",
       "    </tr>\n",
       "    <tr>\n",
       "      <th>19</th>\n",
       "      <th>0</th>\n",
       "      <td>0.000000</td>\n",
       "      <td>0.000000</td>\n",
       "      <td>0.000000</td>\n",
       "      <td>0.000000</td>\n",
       "      <td>0.000000</td>\n",
       "      <td>0.000000</td>\n",
       "      <td>0.000000</td>\n",
       "      <td>0.000000</td>\n",
       "      <td>0.000000</td>\n",
       "      <td>0.000000</td>\n",
       "      <td>0.000000</td>\n",
       "      <td>0.000000</td>\n",
       "      <td>0.000000</td>\n",
       "      <td>0.000000</td>\n",
       "      <td>0.000000</td>\n",
       "      <td>0.000000</td>\n",
       "      <td>0.000000</td>\n",
       "      <td>0.000000</td>\n",
       "      <td>0.000000</td>\n",
       "      <td>0.000000</td>\n",
       "    </tr>\n",
       "    <tr>\n",
       "      <th>20</th>\n",
       "      <th>0</th>\n",
       "      <td>0.000000</td>\n",
       "      <td>0.000000</td>\n",
       "      <td>0.000000</td>\n",
       "      <td>0.000000</td>\n",
       "      <td>0.000000</td>\n",
       "      <td>0.000000</td>\n",
       "      <td>0.000000</td>\n",
       "      <td>0.000000</td>\n",
       "      <td>0.000000</td>\n",
       "      <td>0.000000</td>\n",
       "      <td>0.000000</td>\n",
       "      <td>0.000000</td>\n",
       "      <td>0.000000</td>\n",
       "      <td>0.000000</td>\n",
       "      <td>0.000000</td>\n",
       "      <td>0.000000</td>\n",
       "      <td>0.000000</td>\n",
       "      <td>0.000000</td>\n",
       "      <td>0.000000</td>\n",
       "      <td>0.000000</td>\n",
       "    </tr>\n",
       "  </tbody>\n",
       "</table>\n",
       "<p>4435 rows × 20 columns</p>\n",
       "</div>"
      ],
      "text/plain": [
       "                                                0           1           2  \\\n",
       "atomic_number ion_number level_number                                       \n",
       "8             0          0             513.492299  258.671585  131.154368   \n",
       "                         1             301.822270  152.069720   77.118971   \n",
       "                         2              99.712889   50.243057   25.481864   \n",
       "                         3              65.284281   33.474270   17.306588   \n",
       "                         4               1.270591    0.664649    0.351282   \n",
       "...                                           ...         ...         ...   \n",
       "20            16         0               0.000000    0.000000    0.000000   \n",
       "              17         0               0.000000    0.000000    0.000000   \n",
       "              18         0               0.000000    0.000000    0.000000   \n",
       "              19         0               0.000000    0.000000    0.000000   \n",
       "              20         0               0.000000    0.000000    0.000000   \n",
       "\n",
       "                                               3          4          5  \\\n",
       "atomic_number ion_number level_number                                    \n",
       "8             0          0             68.674580  44.418418  27.725805   \n",
       "                         1             40.387920  26.120864  16.304473   \n",
       "                         2             13.346116   8.631325   5.387607   \n",
       "                         3              9.224554   5.923827   3.696062   \n",
       "                         4              0.191034   0.121690   0.075890   \n",
       "...                                          ...        ...        ...   \n",
       "20            16         0              0.000000   0.000000   0.000000   \n",
       "              17         0              0.000000   0.000000   0.000000   \n",
       "              18         0              0.000000   0.000000   0.000000   \n",
       "              19         0              0.000000   0.000000   0.000000   \n",
       "              20         0              0.000000   0.000000   0.000000   \n",
       "\n",
       "                                               6          7         8  \\\n",
       "atomic_number ion_number level_number                                   \n",
       "8             0          0             18.392821  12.346995  8.255151   \n",
       "                         1             10.815431   7.259908  4.853770   \n",
       "                         2              3.573725   2.398818  1.603757   \n",
       "                         3              2.436586   1.626021  1.083219   \n",
       "                         4              0.049677   0.032930  0.021848   \n",
       "...                                          ...        ...       ...   \n",
       "20            16         0              0.000000   0.000000  0.000000   \n",
       "              17         0              0.000000   0.000000  0.000000   \n",
       "              18         0              0.000000   0.000000  0.000000   \n",
       "              19         0              0.000000   0.000000  0.000000   \n",
       "              20         0              0.000000   0.000000  0.000000   \n",
       "\n",
       "                                              9        10        11        12  \\\n",
       "atomic_number ion_number level_number                                           \n",
       "8             0          0             6.192690  4.610677  3.424086  2.541173   \n",
       "                         1             3.640496  2.710091  2.012378  1.493315   \n",
       "                         2             1.202786  0.895333  0.664793  0.493296   \n",
       "                         3             0.799011  0.586431  0.430088  0.315682   \n",
       "                         4             0.015812  0.011419  0.008257  0.005985   \n",
       "...                                         ...       ...       ...       ...   \n",
       "20            16         0             0.000000  0.000000  0.000000  0.000000   \n",
       "              17         0             0.000000  0.000000  0.000000  0.000000   \n",
       "              18         0             0.000000  0.000000  0.000000  0.000000   \n",
       "              19         0             0.000000  0.000000  0.000000  0.000000   \n",
       "              20         0             0.000000  0.000000  0.000000  0.000000   \n",
       "\n",
       "                                             13        14        15        16  \\\n",
       "atomic_number ion_number level_number                                           \n",
       "8             0          0             1.984107  1.548271  1.322879  1.043126   \n",
       "                         1             1.165766  0.909554  0.776946  0.612557   \n",
       "                         2             0.385068  0.300418  0.256590  0.202288   \n",
       "                         3             0.242490  0.186407  0.155243  0.120705   \n",
       "                         4             0.004514  0.003411  0.002760  0.002112   \n",
       "...                                         ...       ...       ...       ...   \n",
       "20            16         0             0.000000  0.000000  0.000000  0.000000   \n",
       "              17         0             0.000000  0.000000  0.000000  0.000000   \n",
       "              18         0             0.000000  0.000000  0.000000  0.000000   \n",
       "              19         0             0.000000  0.000000  0.000000  0.000000   \n",
       "              20         0             0.000000  0.000000  0.000000  0.000000   \n",
       "\n",
       "                                             17        18        19  \n",
       "atomic_number ion_number level_number                                \n",
       "8             0          0             0.765974  0.679901  0.608892  \n",
       "                         1             0.449788  0.399136  0.357352  \n",
       "                         2             0.148533  0.131791  0.117980  \n",
       "                         3             0.088307  0.076267  0.066442  \n",
       "                         4             0.001539  0.001289  0.001088  \n",
       "...                                         ...       ...       ...  \n",
       "20            16         0             0.000000  0.000000  0.000000  \n",
       "              17         0             0.000000  0.000000  0.000000  \n",
       "              18         0             0.000000  0.000000  0.000000  \n",
       "              19         0             0.000000  0.000000  0.000000  \n",
       "              20         0             0.000000  0.000000  0.000000  \n",
       "\n",
       "[4435 rows x 20 columns]"
      ]
     },
     "execution_count": 9,
     "metadata": {},
     "output_type": "execute_result"
    }
   ],
   "source": [
    "simulation.plasma.level_number_density"
   ]
  },
  {
   "cell_type": "markdown",
   "metadata": {},
   "source": [
    "These are stored as Pandas `DataFrames`. An index can be supplied to obtain the population in a particular zone. E.g., for the ion populations of the innermost zone (index = 0), we will use \n",
    "`simulation.plasma.ion_number_density[0]`"
   ]
  },
  {
   "cell_type": "code",
   "execution_count": 10,
   "metadata": {
    "execution": {
     "iopub.execute_input": "2022-12-12T15:14:50.775092Z",
     "iopub.status.busy": "2022-12-12T15:14:50.774021Z",
     "iopub.status.idle": "2022-12-12T15:14:50.786622Z",
     "shell.execute_reply": "2022-12-12T15:14:50.786009Z"
    }
   },
   "outputs": [
    {
     "data": {
      "text/plain": [
       "atomic_number  ion_number\n",
       "8              0             9.817541e+02\n",
       "               1             5.392046e+08\n",
       "               2             2.226602e+05\n",
       "               3             2.645841e-08\n",
       "               4             0.000000e+00\n",
       "                                 ...     \n",
       "20             16            0.000000e+00\n",
       "               17            0.000000e+00\n",
       "               18            0.000000e+00\n",
       "               19            0.000000e+00\n",
       "               20            0.000000e+00\n",
       "Name: 0, Length: 94, dtype: float64"
      ]
     },
     "execution_count": 10,
     "metadata": {},
     "output_type": "execute_result"
    }
   ],
   "source": [
    "simulation.plasma.ion_number_density[0]"
   ]
  },
  {
   "cell_type": "markdown",
   "metadata": {},
   "source": [
    "Ion populations for a particular ionization stage of a particular element can be accessed by specifying an appropriate tuple (𝑍,𝐶), which identifies the element (via atomic number 𝑍 ) and the charge (via the ion charge 𝐶 ). Thus, `simulation.plasma.ion_number_density.loc[14,1]` will identify the ion popuations for Si II (𝑍=14,𝐶=1) in all the zones. "
   ]
  },
  {
   "cell_type": "code",
   "execution_count": 11,
   "metadata": {
    "execution": {
     "iopub.execute_input": "2022-12-12T15:14:50.789596Z",
     "iopub.status.busy": "2022-12-12T15:14:50.789378Z",
     "iopub.status.idle": "2022-12-12T15:14:50.796229Z",
     "shell.execute_reply": "2022-12-12T15:14:50.795543Z"
    }
   },
   "outputs": [
    {
     "data": {
      "text/plain": [
       "0     70833.163502\n",
       "1     34861.243842\n",
       "2     17211.393526\n",
       "3      8779.777647\n",
       "4      5721.865657\n",
       "5      3563.344668\n",
       "6      2378.033763\n",
       "7      1604.932782\n",
       "8      1074.816738\n",
       "9       824.622359\n",
       "10      625.499897\n",
       "11      471.990280\n",
       "12      355.146037\n",
       "13      283.454849\n",
       "14      225.652192\n",
       "15      199.786180\n",
       "16      160.473228\n",
       "17      118.252827\n",
       "18      108.994959\n",
       "19      101.321273\n",
       "Name: (14, 1), dtype: float64"
      ]
     },
     "execution_count": 11,
     "metadata": {},
     "output_type": "execute_result"
    }
   ],
   "source": [
    "simulation.plasma.ion_number_density.loc[14,1]"
   ]
  },
  {
   "cell_type": "markdown",
   "metadata": {},
   "source": [
    "The above examples can be combined to obtain e.g. the Si II population in the innermost zone\n",
    "can be obtained by\n",
    "`simulation.plasma.ion_number_density[0].loc[14,1]`"
   ]
  },
  {
   "cell_type": "code",
   "execution_count": 12,
   "metadata": {
    "execution": {
     "iopub.execute_input": "2022-12-12T15:14:50.798931Z",
     "iopub.status.busy": "2022-12-12T15:14:50.798728Z",
     "iopub.status.idle": "2022-12-12T15:14:50.804254Z",
     "shell.execute_reply": "2022-12-12T15:14:50.803640Z"
    }
   },
   "outputs": [
    {
     "data": {
      "text/plain": [
       "70833.16350200417"
      ]
     },
     "execution_count": 12,
     "metadata": {},
     "output_type": "execute_result"
    }
   ],
   "source": [
    "simulation.plasma.ion_number_density[0].loc[14,1]"
   ]
  },
  {
   "cell_type": "markdown",
   "metadata": {},
   "source": [
    "The level populations are stored (and can be accessed) in a similar way - a third label can be used to pick out a particular atomic level. E.g., to pull out the population of the ground state (index 0) of Si II we can use `simulation.plasma.level_number_density.loc[14,1,0]`"
   ]
  },
  {
   "cell_type": "code",
   "execution_count": 13,
   "metadata": {
    "execution": {
     "iopub.execute_input": "2022-12-12T15:14:50.807006Z",
     "iopub.status.busy": "2022-12-12T15:14:50.806797Z",
     "iopub.status.idle": "2022-12-12T15:14:50.816842Z",
     "shell.execute_reply": "2022-12-12T15:14:50.816296Z"
    }
   },
   "outputs": [
    {
     "data": {
      "text/plain": [
       "0     23980.690090\n",
       "1     11794.195085\n",
       "2      5818.333741\n",
       "3      2965.794314\n",
       "4      1933.426172\n",
       "5      1204.080564\n",
       "6       803.766453\n",
       "7       542.594090\n",
       "8       363.426957\n",
       "9       279.017554\n",
       "10      211.760752\n",
       "11      159.866349\n",
       "12      120.339508\n",
       "13       96.103679\n",
       "14       76.546076\n",
       "15       67.830067\n",
       "16       54.507573\n",
       "17       40.171395\n",
       "18       37.057825\n",
       "19       34.476854\n",
       "Name: (14, 1, 0), dtype: float64"
      ]
     },
     "execution_count": 13,
     "metadata": {},
     "output_type": "execute_result"
    }
   ],
   "source": [
    "simulation.plasma.level_number_density.loc[14,1,0]"
   ]
  },
  {
   "cell_type": "markdown",
   "metadata": {},
   "source": [
    "### Notes\n",
    "- If you prefer to work in SI units, all the Astropy Quantities may instead by accessed with “xxx.si”.\n",
    "\n",
    "- Information that is not stored as Astropy Quantities (e.g. the ion and level populations used in the example above) are usually stored in cgs units (i.e. cm−3 for the populations)."
   ]
  }
 ],
 "metadata": {
  "celltoolbar": "Raw Cell Format",
  "kernelspec": {
   "display_name": "Python 3",
   "language": "python",
   "name": "python3"
  },
  "language_info": {
   "codemirror_mode": {
    "name": "ipython",
    "version": 3
   },
   "file_extension": ".py",
   "mimetype": "text/x-python",
   "name": "python",
   "nbconvert_exporter": "python",
   "pygments_lexer": "ipython3",
   "version": "3.8.15"
  },
  "widgets": {
   "application/vnd.jupyter.widget-state+json": {
    "state": {
     "0a4d33865b294ef38a1b2dbab5c68ee8": {
      "model_module": "@jupyter-widgets/base",
      "model_module_version": "1.2.0",
      "model_name": "LayoutModel",
      "state": {
       "_model_module": "@jupyter-widgets/base",
       "_model_module_version": "1.2.0",
       "_model_name": "LayoutModel",
       "_view_count": null,
       "_view_module": "@jupyter-widgets/base",
       "_view_module_version": "1.2.0",
       "_view_name": "LayoutView",
       "align_content": null,
       "align_items": null,
       "align_self": null,
       "border": null,
       "bottom": null,
       "display": null,
       "flex": null,
       "flex_flow": null,
       "grid_area": null,
       "grid_auto_columns": null,
       "grid_auto_flow": null,
       "grid_auto_rows": null,
       "grid_column": null,
       "grid_gap": null,
       "grid_row": null,
       "grid_template_areas": null,
       "grid_template_columns": null,
       "grid_template_rows": null,
       "height": null,
       "justify_content": null,
       "justify_items": null,
       "left": null,
       "margin": null,
       "max_height": null,
       "max_width": null,
       "min_height": null,
       "min_width": null,
       "object_fit": null,
       "object_position": null,
       "order": null,
       "overflow": null,
       "overflow_x": null,
       "overflow_y": null,
       "padding": null,
       "right": null,
       "top": null,
       "visibility": null,
       "width": null
      }
     },
     "0d430901b68743609a1157cb97c5799d": {
      "model_module": "@jupyter-widgets/controls",
      "model_module_version": "1.5.0",
      "model_name": "HTMLModel",
      "state": {
       "_dom_classes": [],
       "_model_module": "@jupyter-widgets/controls",
       "_model_module_version": "1.5.0",
       "_model_name": "HTMLModel",
       "_view_count": null,
       "_view_module": "@jupyter-widgets/controls",
       "_view_module_version": "1.5.0",
       "_view_name": "HTMLView",
       "description": "",
       "description_tooltip": null,
       "layout": "IPY_MODEL_1bbb270be0c1464ca4f6b7db1f6fd70a",
       "placeholder": "​",
       "style": "IPY_MODEL_df5b52e4840c48e69211d99341d8d55a",
       "value": ""
      }
     },
     "0fc54789255740e494b24b072f3651e2": {
      "model_module": "@jupyter-widgets/base",
      "model_module_version": "1.2.0",
      "model_name": "LayoutModel",
      "state": {
       "_model_module": "@jupyter-widgets/base",
       "_model_module_version": "1.2.0",
       "_model_name": "LayoutModel",
       "_view_count": null,
       "_view_module": "@jupyter-widgets/base",
       "_view_module_version": "1.2.0",
       "_view_name": "LayoutView",
       "align_content": null,
       "align_items": null,
       "align_self": null,
       "border": null,
       "bottom": null,
       "display": null,
       "flex": null,
       "flex_flow": null,
       "grid_area": null,
       "grid_auto_columns": null,
       "grid_auto_flow": null,
       "grid_auto_rows": null,
       "grid_column": null,
       "grid_gap": null,
       "grid_row": null,
       "grid_template_areas": null,
       "grid_template_columns": null,
       "grid_template_rows": null,
       "height": null,
       "justify_content": null,
       "justify_items": null,
       "left": null,
       "margin": null,
       "max_height": null,
       "max_width": null,
       "min_height": null,
       "min_width": null,
       "object_fit": null,
       "object_position": null,
       "order": null,
       "overflow": null,
       "overflow_x": null,
       "overflow_y": null,
       "padding": null,
       "right": null,
       "top": null,
       "visibility": null,
       "width": null
      }
     },
     "1150a19ee6a44fc89fccecf21baccb86": {
      "model_module": "@jupyter-widgets/controls",
      "model_module_version": "1.5.0",
      "model_name": "DescriptionStyleModel",
      "state": {
       "_model_module": "@jupyter-widgets/controls",
       "_model_module_version": "1.5.0",
       "_model_name": "DescriptionStyleModel",
       "_view_count": null,
       "_view_module": "@jupyter-widgets/base",
       "_view_module_version": "1.2.0",
       "_view_name": "StyleView",
       "description_width": ""
      }
     },
     "1229c5f89fe84f14bfa7bc81714f803e": {
      "model_module": "@jupyter-widgets/controls",
      "model_module_version": "1.5.0",
      "model_name": "FloatProgressModel",
      "state": {
       "_dom_classes": [],
       "_model_module": "@jupyter-widgets/controls",
       "_model_module_version": "1.5.0",
       "_model_name": "FloatProgressModel",
       "_view_count": null,
       "_view_module": "@jupyter-widgets/controls",
       "_view_module_version": "1.5.0",
       "_view_name": "ProgressView",
       "bar_style": "",
       "description": "",
       "description_tooltip": null,
       "layout": "IPY_MODEL_edd770fe264748329a3c7c8e01c1cbce",
       "max": 1.0,
       "min": 0.0,
       "orientation": "horizontal",
       "style": "IPY_MODEL_90d56208d83a4177ac1d01f952e1a910",
       "value": 0.0
      }
     },
     "131b164eb7e144d2a7de3b6cbee6292c": {
      "model_module": "@jupyter-widgets/controls",
      "model_module_version": "1.5.0",
      "model_name": "HTMLModel",
      "state": {
       "_dom_classes": [],
       "_model_module": "@jupyter-widgets/controls",
       "_model_module_version": "1.5.0",
       "_model_name": "HTMLModel",
       "_view_count": null,
       "_view_module": "@jupyter-widgets/controls",
       "_view_module_version": "1.5.0",
       "_view_name": "HTMLView",
       "description": "",
       "description_tooltip": null,
       "layout": "IPY_MODEL_2d34a95eb96e405f99e95bb5401113f8",
       "placeholder": "​",
       "style": "IPY_MODEL_80528f27ac124a43911117439b891573",
       "value": ""
      }
     },
     "14da6847a0a942bda86423c3b6eff223": {
      "model_module": "@jupyter-widgets/controls",
      "model_module_version": "1.5.0",
      "model_name": "HBoxModel",
      "state": {
       "_dom_classes": [],
       "_model_module": "@jupyter-widgets/controls",
       "_model_module_version": "1.5.0",
       "_model_name": "HBoxModel",
       "_view_count": null,
       "_view_module": "@jupyter-widgets/controls",
       "_view_module_version": "1.5.0",
       "_view_name": "HBoxView",
       "box_style": "",
       "children": [
        "IPY_MODEL_646bd6db8b9f4c5cb2d8b04960bc0078",
        "IPY_MODEL_ba20f5621fa44694a7236c2265774158",
        "IPY_MODEL_563aee451fdb42768ccc8bd43b143e83"
       ],
       "layout": "IPY_MODEL_c3540237cde34132b9a9bd72f6c11afe"
      }
     },
     "1a925b0f0b8b46ae9c8c9a12f2b6cd97": {
      "model_module": "@jupyter-widgets/base",
      "model_module_version": "1.2.0",
      "model_name": "LayoutModel",
      "state": {
       "_model_module": "@jupyter-widgets/base",
       "_model_module_version": "1.2.0",
       "_model_name": "LayoutModel",
       "_view_count": null,
       "_view_module": "@jupyter-widgets/base",
       "_view_module_version": "1.2.0",
       "_view_name": "LayoutView",
       "align_content": null,
       "align_items": null,
       "align_self": null,
       "border": null,
       "bottom": null,
       "display": null,
       "flex": null,
       "flex_flow": null,
       "grid_area": null,
       "grid_auto_columns": null,
       "grid_auto_flow": null,
       "grid_auto_rows": null,
       "grid_column": null,
       "grid_gap": null,
       "grid_row": null,
       "grid_template_areas": null,
       "grid_template_columns": null,
       "grid_template_rows": null,
       "height": null,
       "justify_content": null,
       "justify_items": null,
       "left": null,
       "margin": null,
       "max_height": null,
       "max_width": null,
       "min_height": null,
       "min_width": null,
       "object_fit": null,
       "object_position": null,
       "order": null,
       "overflow": null,
       "overflow_x": null,
       "overflow_y": null,
       "padding": null,
       "right": null,
       "top": null,
       "visibility": null,
       "width": null
      }
     },
     "1bbb270be0c1464ca4f6b7db1f6fd70a": {
      "model_module": "@jupyter-widgets/base",
      "model_module_version": "1.2.0",
      "model_name": "LayoutModel",
      "state": {
       "_model_module": "@jupyter-widgets/base",
       "_model_module_version": "1.2.0",
       "_model_name": "LayoutModel",
       "_view_count": null,
       "_view_module": "@jupyter-widgets/base",
       "_view_module_version": "1.2.0",
       "_view_name": "LayoutView",
       "align_content": null,
       "align_items": null,
       "align_self": null,
       "border": null,
       "bottom": null,
       "display": null,
       "flex": null,
       "flex_flow": null,
       "grid_area": null,
       "grid_auto_columns": null,
       "grid_auto_flow": null,
       "grid_auto_rows": null,
       "grid_column": null,
       "grid_gap": null,
       "grid_row": null,
       "grid_template_areas": null,
       "grid_template_columns": null,
       "grid_template_rows": null,
       "height": null,
       "justify_content": null,
       "justify_items": null,
       "left": null,
       "margin": null,
       "max_height": null,
       "max_width": null,
       "min_height": null,
       "min_width": null,
       "object_fit": null,
       "object_position": null,
       "order": null,
       "overflow": null,
       "overflow_x": null,
       "overflow_y": null,
       "padding": null,
       "right": null,
       "top": null,
       "visibility": null,
       "width": null
      }
     },
     "1d6d05b9164f4c18be3b8a2808882d6f": {
      "model_module": "@jupyter-widgets/base",
      "model_module_version": "1.2.0",
      "model_name": "LayoutModel",
      "state": {
       "_model_module": "@jupyter-widgets/base",
       "_model_module_version": "1.2.0",
       "_model_name": "LayoutModel",
       "_view_count": null,
       "_view_module": "@jupyter-widgets/base",
       "_view_module_version": "1.2.0",
       "_view_name": "LayoutView",
       "align_content": null,
       "align_items": null,
       "align_self": null,
       "border": null,
       "bottom": null,
       "display": null,
       "flex": null,
       "flex_flow": null,
       "grid_area": null,
       "grid_auto_columns": null,
       "grid_auto_flow": null,
       "grid_auto_rows": null,
       "grid_column": null,
       "grid_gap": null,
       "grid_row": null,
       "grid_template_areas": null,
       "grid_template_columns": null,
       "grid_template_rows": null,
       "height": null,
       "justify_content": null,
       "justify_items": null,
       "left": null,
       "margin": null,
       "max_height": null,
       "max_width": null,
       "min_height": null,
       "min_width": null,
       "object_fit": null,
       "object_position": null,
       "order": null,
       "overflow": null,
       "overflow_x": null,
       "overflow_y": null,
       "padding": null,
       "right": null,
       "top": null,
       "visibility": null,
       "width": null
      }
     },
     "1fa6a857c52c41bc8a919769bb1fb64f": {
      "model_module": "@jupyter-widgets/base",
      "model_module_version": "1.2.0",
      "model_name": "LayoutModel",
      "state": {
       "_model_module": "@jupyter-widgets/base",
       "_model_module_version": "1.2.0",
       "_model_name": "LayoutModel",
       "_view_count": null,
       "_view_module": "@jupyter-widgets/base",
       "_view_module_version": "1.2.0",
       "_view_name": "LayoutView",
       "align_content": null,
       "align_items": null,
       "align_self": null,
       "border": null,
       "bottom": null,
       "display": null,
       "flex": null,
       "flex_flow": null,
       "grid_area": null,
       "grid_auto_columns": null,
       "grid_auto_flow": null,
       "grid_auto_rows": null,
       "grid_column": null,
       "grid_gap": null,
       "grid_row": null,
       "grid_template_areas": null,
       "grid_template_columns": null,
       "grid_template_rows": null,
       "height": null,
       "justify_content": null,
       "justify_items": null,
       "left": null,
       "margin": null,
       "max_height": null,
       "max_width": null,
       "min_height": null,
       "min_width": null,
       "object_fit": null,
       "object_position": null,
       "order": null,
       "overflow": null,
       "overflow_x": null,
       "overflow_y": null,
       "padding": null,
       "right": null,
       "top": null,
       "visibility": null,
       "width": "60%"
      }
     },
     "2167ce84f8ff4527bceea59135d5ab85": {
      "model_module": "@jupyter-widgets/base",
      "model_module_version": "1.2.0",
      "model_name": "LayoutModel",
      "state": {
       "_model_module": "@jupyter-widgets/base",
       "_model_module_version": "1.2.0",
       "_model_name": "LayoutModel",
       "_view_count": null,
       "_view_module": "@jupyter-widgets/base",
       "_view_module_version": "1.2.0",
       "_view_name": "LayoutView",
       "align_content": null,
       "align_items": null,
       "align_self": null,
       "border": null,
       "bottom": null,
       "display": null,
       "flex": null,
       "flex_flow": null,
       "grid_area": null,
       "grid_auto_columns": null,
       "grid_auto_flow": null,
       "grid_auto_rows": null,
       "grid_column": null,
       "grid_gap": null,
       "grid_row": null,
       "grid_template_areas": null,
       "grid_template_columns": null,
       "grid_template_rows": null,
       "height": null,
       "justify_content": null,
       "justify_items": null,
       "left": null,
       "margin": null,
       "max_height": null,
       "max_width": null,
       "min_height": null,
       "min_width": null,
       "object_fit": null,
       "object_position": null,
       "order": null,
       "overflow": null,
       "overflow_x": null,
       "overflow_y": null,
       "padding": null,
       "right": null,
       "top": null,
       "visibility": null,
       "width": null
      }
     },
     "24ec401e974240cd9f5c45755fe5cf16": {
      "model_module": "@jupyter-widgets/base",
      "model_module_version": "1.2.0",
      "model_name": "LayoutModel",
      "state": {
       "_model_module": "@jupyter-widgets/base",
       "_model_module_version": "1.2.0",
       "_model_name": "LayoutModel",
       "_view_count": null,
       "_view_module": "@jupyter-widgets/base",
       "_view_module_version": "1.2.0",
       "_view_name": "LayoutView",
       "align_content": null,
       "align_items": null,
       "align_self": null,
       "border": null,
       "bottom": null,
       "display": null,
       "flex": null,
       "flex_flow": null,
       "grid_area": null,
       "grid_auto_columns": null,
       "grid_auto_flow": null,
       "grid_auto_rows": null,
       "grid_column": null,
       "grid_gap": null,
       "grid_row": null,
       "grid_template_areas": null,
       "grid_template_columns": null,
       "grid_template_rows": null,
       "height": null,
       "justify_content": null,
       "justify_items": null,
       "left": null,
       "margin": null,
       "max_height": null,
       "max_width": null,
       "min_height": null,
       "min_width": null,
       "object_fit": null,
       "object_position": null,
       "order": null,
       "overflow": null,
       "overflow_x": null,
       "overflow_y": null,
       "padding": null,
       "right": null,
       "top": null,
       "visibility": null,
       "width": null
      }
     },
     "279f1c2e74914529ab305d0d51ece98d": {
      "model_module": "@jupyter-widgets/controls",
      "model_module_version": "1.5.0",
      "model_name": "DescriptionStyleModel",
      "state": {
       "_model_module": "@jupyter-widgets/controls",
       "_model_module_version": "1.5.0",
       "_model_name": "DescriptionStyleModel",
       "_view_count": null,
       "_view_module": "@jupyter-widgets/base",
       "_view_module_version": "1.2.0",
       "_view_name": "StyleView",
       "description_width": ""
      }
     },
     "2aa7f54b0874431f8fc558b21f059784": {
      "model_module": "@jupyter-widgets/base",
      "model_module_version": "1.2.0",
      "model_name": "LayoutModel",
      "state": {
       "_model_module": "@jupyter-widgets/base",
       "_model_module_version": "1.2.0",
       "_model_name": "LayoutModel",
       "_view_count": null,
       "_view_module": "@jupyter-widgets/base",
       "_view_module_version": "1.2.0",
       "_view_name": "LayoutView",
       "align_content": null,
       "align_items": null,
       "align_self": null,
       "border": null,
       "bottom": null,
       "display": null,
       "flex": null,
       "flex_flow": null,
       "grid_area": null,
       "grid_auto_columns": null,
       "grid_auto_flow": null,
       "grid_auto_rows": null,
       "grid_column": null,
       "grid_gap": null,
       "grid_row": null,
       "grid_template_areas": null,
       "grid_template_columns": null,
       "grid_template_rows": null,
       "height": null,
       "justify_content": null,
       "justify_items": null,
       "left": null,
       "margin": null,
       "max_height": null,
       "max_width": null,
       "min_height": null,
       "min_width": null,
       "object_fit": null,
       "object_position": null,
       "order": null,
       "overflow": null,
       "overflow_x": null,
       "overflow_y": null,
       "padding": null,
       "right": null,
       "top": null,
       "visibility": null,
       "width": "60%"
      }
     },
     "2bdff5b0c6904f3ba02ba7f86307438f": {
      "model_module": "@jupyter-widgets/controls",
      "model_module_version": "1.5.0",
      "model_name": "HBoxModel",
      "state": {
       "_dom_classes": [],
       "_model_module": "@jupyter-widgets/controls",
       "_model_module_version": "1.5.0",
       "_model_name": "HBoxModel",
       "_view_count": null,
       "_view_module": "@jupyter-widgets/controls",
       "_view_module_version": "1.5.0",
       "_view_name": "HBoxView",
       "box_style": "",
       "children": [
        "IPY_MODEL_d7d515135747418a97a6c5c07ece2799",
        "IPY_MODEL_d7d48e97f58e436099a2f5d0a28fe3ec",
        "IPY_MODEL_ed3a84c2ca144f4ba665455004c58340"
       ],
       "layout": "IPY_MODEL_dfadd2d9cedd4ea5a38bbf81668a9a35"
      }
     },
     "2c3584eeac10478893e12ba207724f9f": {
      "model_module": "@jupyter-widgets/controls",
      "model_module_version": "1.5.0",
      "model_name": "DescriptionStyleModel",
      "state": {
       "_model_module": "@jupyter-widgets/controls",
       "_model_module_version": "1.5.0",
       "_model_name": "DescriptionStyleModel",
       "_view_count": null,
       "_view_module": "@jupyter-widgets/base",
       "_view_module_version": "1.2.0",
       "_view_name": "StyleView",
       "description_width": ""
      }
     },
     "2d34a95eb96e405f99e95bb5401113f8": {
      "model_module": "@jupyter-widgets/base",
      "model_module_version": "1.2.0",
      "model_name": "LayoutModel",
      "state": {
       "_model_module": "@jupyter-widgets/base",
       "_model_module_version": "1.2.0",
       "_model_name": "LayoutModel",
       "_view_count": null,
       "_view_module": "@jupyter-widgets/base",
       "_view_module_version": "1.2.0",
       "_view_name": "LayoutView",
       "align_content": null,
       "align_items": null,
       "align_self": null,
       "border": null,
       "bottom": null,
       "display": null,
       "flex": null,
       "flex_flow": null,
       "grid_area": null,
       "grid_auto_columns": null,
       "grid_auto_flow": null,
       "grid_auto_rows": null,
       "grid_column": null,
       "grid_gap": null,
       "grid_row": null,
       "grid_template_areas": null,
       "grid_template_columns": null,
       "grid_template_rows": null,
       "height": null,
       "justify_content": null,
       "justify_items": null,
       "left": null,
       "margin": null,
       "max_height": null,
       "max_width": null,
       "min_height": null,
       "min_width": null,
       "object_fit": null,
       "object_position": null,
       "order": null,
       "overflow": null,
       "overflow_x": null,
       "overflow_y": null,
       "padding": null,
       "right": null,
       "top": null,
       "visibility": null,
       "width": null
      }
     },
     "33f31782969a4065b5a4bed5113e1eef": {
      "model_module": "@jupyter-widgets/controls",
      "model_module_version": "1.5.0",
      "model_name": "HBoxModel",
      "state": {
       "_dom_classes": [],
       "_model_module": "@jupyter-widgets/controls",
       "_model_module_version": "1.5.0",
       "_model_name": "HBoxModel",
       "_view_count": null,
       "_view_module": "@jupyter-widgets/controls",
       "_view_module_version": "1.5.0",
       "_view_name": "HBoxView",
       "box_style": "",
       "children": [
        "IPY_MODEL_d7d515135747418a97a6c5c07ece2799",
        "IPY_MODEL_d7d48e97f58e436099a2f5d0a28fe3ec",
        "IPY_MODEL_ed3a84c2ca144f4ba665455004c58340"
       ],
       "layout": "IPY_MODEL_dfadd2d9cedd4ea5a38bbf81668a9a35"
      }
     },
     "33fa4dfa2de84ed19e8cc150174828e0": {
      "model_module": "@jupyter-widgets/controls",
      "model_module_version": "1.5.0",
      "model_name": "FloatProgressModel",
      "state": {
       "_dom_classes": [],
       "_model_module": "@jupyter-widgets/controls",
       "_model_module_version": "1.5.0",
       "_model_name": "FloatProgressModel",
       "_view_count": null,
       "_view_module": "@jupyter-widgets/controls",
       "_view_module_version": "1.5.0",
       "_view_name": "ProgressView",
       "bar_style": "",
       "description": "",
       "description_tooltip": null,
       "layout": "IPY_MODEL_1fa6a857c52c41bc8a919769bb1fb64f",
       "max": 20.0,
       "min": 0.0,
       "orientation": "horizontal",
       "style": "IPY_MODEL_e2fb977d4ab74b03a7265d1912601838",
       "value": 20.0
      }
     },
     "39ba709a7c7144a6b060ce9fd713a8f9": {
      "model_module": "@jupyter-widgets/output",
      "model_module_version": "1.0.0",
      "model_name": "OutputModel",
      "state": {
       "_dom_classes": [],
       "_model_module": "@jupyter-widgets/output",
       "_model_module_version": "1.0.0",
       "_model_name": "OutputModel",
       "_view_count": null,
       "_view_module": "@jupyter-widgets/output",
       "_view_module_version": "1.0.0",
       "_view_name": "OutputView",
       "layout": "IPY_MODEL_24ec401e974240cd9f5c45755fe5cf16",
       "msg_id": "",
       "outputs": []
      }
     },
     "3c450a471e2a4e3d9d48da90b9e0dd58": {
      "model_module": "@jupyter-widgets/controls",
      "model_module_version": "1.5.0",
      "model_name": "HBoxModel",
      "state": {
       "_dom_classes": [],
       "_model_module": "@jupyter-widgets/controls",
       "_model_module_version": "1.5.0",
       "_model_name": "HBoxModel",
       "_view_count": null,
       "_view_module": "@jupyter-widgets/controls",
       "_view_module_version": "1.5.0",
       "_view_name": "HBoxView",
       "box_style": "",
       "children": [
        "IPY_MODEL_a9f9cc34747a4aa3a91e48f95b9ca3e4",
        "IPY_MODEL_33fa4dfa2de84ed19e8cc150174828e0",
        "IPY_MODEL_e237f12477104d399b11e450781a3c0d"
       ],
       "layout": "IPY_MODEL_d6c415ea92464d1bb3da17583d2dd26d"
      }
     },
     "3ce17000aec841c487dbcd9bf3b56e62": {
      "model_module": "@jupyter-widgets/base",
      "model_module_version": "1.2.0",
      "model_name": "LayoutModel",
      "state": {
       "_model_module": "@jupyter-widgets/base",
       "_model_module_version": "1.2.0",
       "_model_name": "LayoutModel",
       "_view_count": null,
       "_view_module": "@jupyter-widgets/base",
       "_view_module_version": "1.2.0",
       "_view_name": "LayoutView",
       "align_content": null,
       "align_items": null,
       "align_self": null,
       "border": null,
       "bottom": null,
       "display": null,
       "flex": null,
       "flex_flow": null,
       "grid_area": null,
       "grid_auto_columns": null,
       "grid_auto_flow": null,
       "grid_auto_rows": null,
       "grid_column": null,
       "grid_gap": null,
       "grid_row": null,
       "grid_template_areas": null,
       "grid_template_columns": null,
       "grid_template_rows": null,
       "height": null,
       "justify_content": null,
       "justify_items": null,
       "left": null,
       "margin": null,
       "max_height": null,
       "max_width": null,
       "min_height": null,
       "min_width": null,
       "object_fit": null,
       "object_position": null,
       "order": null,
       "overflow": null,
       "overflow_x": null,
       "overflow_y": null,
       "padding": null,
       "right": null,
       "top": null,
       "visibility": null,
       "width": null
      }
     },
     "3da052b89d0445b88abf33b5a60a90ae": {
      "model_module": "@jupyter-widgets/base",
      "model_module_version": "1.2.0",
      "model_name": "LayoutModel",
      "state": {
       "_model_module": "@jupyter-widgets/base",
       "_model_module_version": "1.2.0",
       "_model_name": "LayoutModel",
       "_view_count": null,
       "_view_module": "@jupyter-widgets/base",
       "_view_module_version": "1.2.0",
       "_view_name": "LayoutView",
       "align_content": null,
       "align_items": null,
       "align_self": null,
       "border": null,
       "bottom": null,
       "display": null,
       "flex": null,
       "flex_flow": null,
       "grid_area": null,
       "grid_auto_columns": null,
       "grid_auto_flow": null,
       "grid_auto_rows": null,
       "grid_column": null,
       "grid_gap": null,
       "grid_row": null,
       "grid_template_areas": null,
       "grid_template_columns": null,
       "grid_template_rows": null,
       "height": null,
       "justify_content": null,
       "justify_items": null,
       "left": null,
       "margin": null,
       "max_height": null,
       "max_width": null,
       "min_height": null,
       "min_width": null,
       "object_fit": null,
       "object_position": null,
       "order": null,
       "overflow": null,
       "overflow_x": null,
       "overflow_y": null,
       "padding": null,
       "right": null,
       "top": null,
       "visibility": null,
       "width": "6%"
      }
     },
     "3daa7e34034a4b999b4b305e2da757bf": {
      "model_module": "@jupyter-widgets/controls",
      "model_module_version": "1.5.0",
      "model_name": "DescriptionStyleModel",
      "state": {
       "_model_module": "@jupyter-widgets/controls",
       "_model_module_version": "1.5.0",
       "_model_name": "DescriptionStyleModel",
       "_view_count": null,
       "_view_module": "@jupyter-widgets/base",
       "_view_module_version": "1.2.0",
       "_view_name": "StyleView",
       "description_width": ""
      }
     },
     "3e408d9ae5c44da2a5496e4e5f8a1b27": {
      "model_module": "@jupyter-widgets/output",
      "model_module_version": "1.0.0",
      "model_name": "OutputModel",
      "state": {
       "_dom_classes": [],
       "_model_module": "@jupyter-widgets/output",
       "_model_module_version": "1.0.0",
       "_model_name": "OutputModel",
       "_view_count": null,
       "_view_module": "@jupyter-widgets/output",
       "_view_module_version": "1.0.0",
       "_view_name": "OutputView",
       "layout": "IPY_MODEL_491f1ff51e80453baa56bd463a635bad",
       "msg_id": "",
       "outputs": []
      }
     },
     "42bb17c0a81e48bb9c5b457cd297ee7a": {
      "model_module": "@jupyter-widgets/controls",
      "model_module_version": "1.5.0",
      "model_name": "FloatProgressModel",
      "state": {
       "_dom_classes": [],
       "_model_module": "@jupyter-widgets/controls",
       "_model_module_version": "1.5.0",
       "_model_name": "FloatProgressModel",
       "_view_count": null,
       "_view_module": "@jupyter-widgets/controls",
       "_view_module_version": "1.5.0",
       "_view_name": "ProgressView",
       "bar_style": "",
       "description": "",
       "description_tooltip": null,
       "layout": "IPY_MODEL_2aa7f54b0874431f8fc558b21f059784",
       "max": 1.0,
       "min": 0.0,
       "orientation": "horizontal",
       "style": "IPY_MODEL_cc269d4ac946454c90793484d5c381f3",
       "value": 0.0
      }
     },
     "45c4c8f736b14974810c70bb51e5caa0": {
      "model_module": "@jupyter-widgets/controls",
      "model_module_version": "1.5.0",
      "model_name": "HTMLModel",
      "state": {
       "_dom_classes": [],
       "_model_module": "@jupyter-widgets/controls",
       "_model_module_version": "1.5.0",
       "_model_name": "HTMLModel",
       "_view_count": null,
       "_view_module": "@jupyter-widgets/controls",
       "_view_module_version": "1.5.0",
       "_view_name": "HTMLView",
       "description": "",
       "description_tooltip": null,
       "layout": "IPY_MODEL_4b3fc0974a6447a2b286ecc3bf5dfe65",
       "placeholder": "​",
       "style": "IPY_MODEL_f91ca16e251c45b3b2dff8d9c0809fb5",
       "value": ""
      }
     },
     "4759e91bfb164d6fb7ca4347c3197fc4": {
      "model_module": "@jupyter-widgets/base",
      "model_module_version": "1.2.0",
      "model_name": "LayoutModel",
      "state": {
       "_model_module": "@jupyter-widgets/base",
       "_model_module_version": "1.2.0",
       "_model_name": "LayoutModel",
       "_view_count": null,
       "_view_module": "@jupyter-widgets/base",
       "_view_module_version": "1.2.0",
       "_view_name": "LayoutView",
       "align_content": null,
       "align_items": null,
       "align_self": null,
       "border": null,
       "bottom": null,
       "display": null,
       "flex": null,
       "flex_flow": null,
       "grid_area": null,
       "grid_auto_columns": null,
       "grid_auto_flow": null,
       "grid_auto_rows": null,
       "grid_column": null,
       "grid_gap": null,
       "grid_row": null,
       "grid_template_areas": null,
       "grid_template_columns": null,
       "grid_template_rows": null,
       "height": null,
       "justify_content": null,
       "justify_items": null,
       "left": null,
       "margin": null,
       "max_height": null,
       "max_width": null,
       "min_height": null,
       "min_width": null,
       "object_fit": null,
       "object_position": null,
       "order": null,
       "overflow": null,
       "overflow_x": null,
       "overflow_y": null,
       "padding": null,
       "right": null,
       "top": null,
       "visibility": null,
       "width": null
      }
     },
     "491f1ff51e80453baa56bd463a635bad": {
      "model_module": "@jupyter-widgets/base",
      "model_module_version": "1.2.0",
      "model_name": "LayoutModel",
      "state": {
       "_model_module": "@jupyter-widgets/base",
       "_model_module_version": "1.2.0",
       "_model_name": "LayoutModel",
       "_view_count": null,
       "_view_module": "@jupyter-widgets/base",
       "_view_module_version": "1.2.0",
       "_view_name": "LayoutView",
       "align_content": null,
       "align_items": null,
       "align_self": null,
       "border": null,
       "bottom": null,
       "display": null,
       "flex": null,
       "flex_flow": null,
       "grid_area": null,
       "grid_auto_columns": null,
       "grid_auto_flow": null,
       "grid_auto_rows": null,
       "grid_column": null,
       "grid_gap": null,
       "grid_row": null,
       "grid_template_areas": null,
       "grid_template_columns": null,
       "grid_template_rows": null,
       "height": null,
       "justify_content": null,
       "justify_items": null,
       "left": null,
       "margin": null,
       "max_height": null,
       "max_width": null,
       "min_height": null,
       "min_width": null,
       "object_fit": null,
       "object_position": null,
       "order": null,
       "overflow": null,
       "overflow_x": null,
       "overflow_y": null,
       "padding": null,
       "right": null,
       "top": null,
       "visibility": null,
       "width": null
      }
     },
     "4b3fc0974a6447a2b286ecc3bf5dfe65": {
      "model_module": "@jupyter-widgets/base",
      "model_module_version": "1.2.0",
      "model_name": "LayoutModel",
      "state": {
       "_model_module": "@jupyter-widgets/base",
       "_model_module_version": "1.2.0",
       "_model_name": "LayoutModel",
       "_view_count": null,
       "_view_module": "@jupyter-widgets/base",
       "_view_module_version": "1.2.0",
       "_view_name": "LayoutView",
       "align_content": null,
       "align_items": null,
       "align_self": null,
       "border": null,
       "bottom": null,
       "display": null,
       "flex": null,
       "flex_flow": null,
       "grid_area": null,
       "grid_auto_columns": null,
       "grid_auto_flow": null,
       "grid_auto_rows": null,
       "grid_column": null,
       "grid_gap": null,
       "grid_row": null,
       "grid_template_areas": null,
       "grid_template_columns": null,
       "grid_template_rows": null,
       "height": null,
       "justify_content": null,
       "justify_items": null,
       "left": null,
       "margin": null,
       "max_height": null,
       "max_width": null,
       "min_height": null,
       "min_width": null,
       "object_fit": null,
       "object_position": null,
       "order": null,
       "overflow": null,
       "overflow_x": null,
       "overflow_y": null,
       "padding": null,
       "right": null,
       "top": null,
       "visibility": null,
       "width": null
      }
     },
     "4c560d3a3f1741aa982b86b3494c400c": {
      "model_module": "@jupyter-widgets/base",
      "model_module_version": "1.2.0",
      "model_name": "LayoutModel",
      "state": {
       "_model_module": "@jupyter-widgets/base",
       "_model_module_version": "1.2.0",
       "_model_name": "LayoutModel",
       "_view_count": null,
       "_view_module": "@jupyter-widgets/base",
       "_view_module_version": "1.2.0",
       "_view_name": "LayoutView",
       "align_content": null,
       "align_items": null,
       "align_self": null,
       "border": null,
       "bottom": null,
       "display": null,
       "flex": null,
       "flex_flow": null,
       "grid_area": null,
       "grid_auto_columns": null,
       "grid_auto_flow": null,
       "grid_auto_rows": null,
       "grid_column": null,
       "grid_gap": null,
       "grid_row": null,
       "grid_template_areas": null,
       "grid_template_columns": null,
       "grid_template_rows": null,
       "height": null,
       "justify_content": null,
       "justify_items": null,
       "left": null,
       "margin": null,
       "max_height": null,
       "max_width": null,
       "min_height": null,
       "min_width": null,
       "object_fit": null,
       "object_position": null,
       "order": null,
       "overflow": null,
       "overflow_x": null,
       "overflow_y": null,
       "padding": null,
       "right": null,
       "top": null,
       "visibility": null,
       "width": null
      }
     },
     "503a0560272544569b84b0031178d01c": {
      "model_module": "@jupyter-widgets/controls",
      "model_module_version": "1.5.0",
      "model_name": "DescriptionStyleModel",
      "state": {
       "_model_module": "@jupyter-widgets/controls",
       "_model_module_version": "1.5.0",
       "_model_name": "DescriptionStyleModel",
       "_view_count": null,
       "_view_module": "@jupyter-widgets/base",
       "_view_module_version": "1.2.0",
       "_view_name": "StyleView",
       "description_width": ""
      }
     },
     "5270f0f7ef444162a5cc407f46a170d9": {
      "model_module": "@jupyter-widgets/output",
      "model_module_version": "1.0.0",
      "model_name": "OutputModel",
      "state": {
       "_dom_classes": [],
       "_model_module": "@jupyter-widgets/output",
       "_model_module_version": "1.0.0",
       "_model_name": "OutputModel",
       "_view_count": null,
       "_view_module": "@jupyter-widgets/output",
       "_view_module_version": "1.0.0",
       "_view_name": "OutputView",
       "layout": "IPY_MODEL_24ec401e974240cd9f5c45755fe5cf16",
       "msg_id": "",
       "outputs": []
      }
     },
     "53f17ef6b32b4d03a6dc28f617b4f5c9": {
      "model_module": "@jupyter-widgets/base",
      "model_module_version": "1.2.0",
      "model_name": "LayoutModel",
      "state": {
       "_model_module": "@jupyter-widgets/base",
       "_model_module_version": "1.2.0",
       "_model_name": "LayoutModel",
       "_view_count": null,
       "_view_module": "@jupyter-widgets/base",
       "_view_module_version": "1.2.0",
       "_view_name": "LayoutView",
       "align_content": null,
       "align_items": null,
       "align_self": null,
       "border": null,
       "bottom": null,
       "display": null,
       "flex": null,
       "flex_flow": null,
       "grid_area": null,
       "grid_auto_columns": null,
       "grid_auto_flow": null,
       "grid_auto_rows": null,
       "grid_column": null,
       "grid_gap": null,
       "grid_row": null,
       "grid_template_areas": null,
       "grid_template_columns": null,
       "grid_template_rows": null,
       "height": null,
       "justify_content": null,
       "justify_items": null,
       "left": null,
       "margin": null,
       "max_height": null,
       "max_width": null,
       "min_height": null,
       "min_width": null,
       "object_fit": null,
       "object_position": null,
       "order": null,
       "overflow": null,
       "overflow_x": null,
       "overflow_y": null,
       "padding": null,
       "right": null,
       "top": null,
       "visibility": null,
       "width": null
      }
     },
     "563aee451fdb42768ccc8bd43b143e83": {
      "model_module": "@jupyter-widgets/controls",
      "model_module_version": "1.5.0",
      "model_name": "HTMLModel",
      "state": {
       "_dom_classes": [],
       "_model_module": "@jupyter-widgets/controls",
       "_model_module_version": "1.5.0",
       "_model_name": "HTMLModel",
       "_view_count": null,
       "_view_module": "@jupyter-widgets/controls",
       "_view_module_version": "1.5.0",
       "_view_name": "HTMLView",
       "description": "",
       "description_tooltip": null,
       "layout": "IPY_MODEL_b0149a764d3f45a29d1b04cf8c9aeb3e",
       "placeholder": "​",
       "style": "IPY_MODEL_279f1c2e74914529ab305d0d51ece98d",
       "value": "99560/100000 [00:07&lt;00:00, 13973.76it/s]"
      }
     },
     "57de7ddd81d544b194c38fa079339691": {
      "model_module": "@jupyter-widgets/base",
      "model_module_version": "1.2.0",
      "model_name": "LayoutModel",
      "state": {
       "_model_module": "@jupyter-widgets/base",
       "_model_module_version": "1.2.0",
       "_model_name": "LayoutModel",
       "_view_count": null,
       "_view_module": "@jupyter-widgets/base",
       "_view_module_version": "1.2.0",
       "_view_name": "LayoutView",
       "align_content": null,
       "align_items": null,
       "align_self": null,
       "border": null,
       "bottom": null,
       "display": null,
       "flex": null,
       "flex_flow": null,
       "grid_area": null,
       "grid_auto_columns": null,
       "grid_auto_flow": null,
       "grid_auto_rows": null,
       "grid_column": null,
       "grid_gap": null,
       "grid_row": null,
       "grid_template_areas": null,
       "grid_template_columns": null,
       "grid_template_rows": null,
       "height": null,
       "justify_content": null,
       "justify_items": null,
       "left": null,
       "margin": null,
       "max_height": null,
       "max_width": null,
       "min_height": null,
       "min_width": null,
       "object_fit": null,
       "object_position": null,
       "order": null,
       "overflow": null,
       "overflow_x": null,
       "overflow_y": null,
       "padding": null,
       "right": null,
       "top": null,
       "visibility": null,
       "width": null
      }
     },
     "5b8491d247704d148b2430785b3388a2": {
      "model_module": "@jupyter-widgets/controls",
      "model_module_version": "1.5.0",
      "model_name": "DescriptionStyleModel",
      "state": {
       "_model_module": "@jupyter-widgets/controls",
       "_model_module_version": "1.5.0",
       "_model_name": "DescriptionStyleModel",
       "_view_count": null,
       "_view_module": "@jupyter-widgets/base",
       "_view_module_version": "1.2.0",
       "_view_name": "StyleView",
       "description_width": ""
      }
     },
     "5c84ce83f57b4e418e4572cccd221ac0": {
      "model_module": "@jupyter-widgets/base",
      "model_module_version": "1.2.0",
      "model_name": "LayoutModel",
      "state": {
       "_model_module": "@jupyter-widgets/base",
       "_model_module_version": "1.2.0",
       "_model_name": "LayoutModel",
       "_view_count": null,
       "_view_module": "@jupyter-widgets/base",
       "_view_module_version": "1.2.0",
       "_view_name": "LayoutView",
       "align_content": null,
       "align_items": null,
       "align_self": null,
       "border": null,
       "bottom": null,
       "display": null,
       "flex": null,
       "flex_flow": null,
       "grid_area": null,
       "grid_auto_columns": null,
       "grid_auto_flow": null,
       "grid_auto_rows": null,
       "grid_column": null,
       "grid_gap": null,
       "grid_row": null,
       "grid_template_areas": null,
       "grid_template_columns": null,
       "grid_template_rows": null,
       "height": null,
       "justify_content": null,
       "justify_items": null,
       "left": null,
       "margin": null,
       "max_height": null,
       "max_width": null,
       "min_height": null,
       "min_width": null,
       "object_fit": null,
       "object_position": null,
       "order": null,
       "overflow": null,
       "overflow_x": null,
       "overflow_y": null,
       "padding": null,
       "right": null,
       "top": null,
       "visibility": null,
       "width": null
      }
     },
     "620dbfa78d794ef197fdb66e5d215273": {
      "model_module": "@jupyter-widgets/base",
      "model_module_version": "1.2.0",
      "model_name": "LayoutModel",
      "state": {
       "_model_module": "@jupyter-widgets/base",
       "_model_module_version": "1.2.0",
       "_model_name": "LayoutModel",
       "_view_count": null,
       "_view_module": "@jupyter-widgets/base",
       "_view_module_version": "1.2.0",
       "_view_name": "LayoutView",
       "align_content": null,
       "align_items": null,
       "align_self": null,
       "border": null,
       "bottom": null,
       "display": null,
       "flex": null,
       "flex_flow": null,
       "grid_area": null,
       "grid_auto_columns": null,
       "grid_auto_flow": null,
       "grid_auto_rows": null,
       "grid_column": null,
       "grid_gap": null,
       "grid_row": null,
       "grid_template_areas": null,
       "grid_template_columns": null,
       "grid_template_rows": null,
       "height": null,
       "justify_content": null,
       "justify_items": null,
       "left": null,
       "margin": null,
       "max_height": null,
       "max_width": null,
       "min_height": null,
       "min_width": null,
       "object_fit": null,
       "object_position": null,
       "order": null,
       "overflow": null,
       "overflow_x": null,
       "overflow_y": null,
       "padding": null,
       "right": null,
       "top": null,
       "visibility": null,
       "width": "6%"
      }
     },
     "646bd6db8b9f4c5cb2d8b04960bc0078": {
      "model_module": "@jupyter-widgets/controls",
      "model_module_version": "1.5.0",
      "model_name": "HTMLModel",
      "state": {
       "_dom_classes": [],
       "_model_module": "@jupyter-widgets/controls",
       "_model_module_version": "1.5.0",
       "_model_name": "HTMLModel",
       "_view_count": null,
       "_view_module": "@jupyter-widgets/controls",
       "_view_module_version": "1.5.0",
       "_view_name": "HTMLView",
       "description": "",
       "description_tooltip": null,
       "layout": "IPY_MODEL_3da052b89d0445b88abf33b5a60a90ae",
       "placeholder": "​",
       "style": "IPY_MODEL_a0b17ec34f6f4d0e84ff4b3e0a071246",
       "value": "Packets:   "
      }
     },
     "6558b3439ff24aa69ceed91dc9d55b4d": {
      "model_module": "@jupyter-widgets/controls",
      "model_module_version": "1.5.0",
      "model_name": "HTMLModel",
      "state": {
       "_dom_classes": [],
       "_model_module": "@jupyter-widgets/controls",
       "_model_module_version": "1.5.0",
       "_model_name": "HTMLModel",
       "_view_count": null,
       "_view_module": "@jupyter-widgets/controls",
       "_view_module_version": "1.5.0",
       "_view_name": "HTMLView",
       "description": "",
       "description_tooltip": null,
       "layout": "IPY_MODEL_3da052b89d0445b88abf33b5a60a90ae",
       "placeholder": "​",
       "style": "IPY_MODEL_a0b17ec34f6f4d0e84ff4b3e0a071246",
       "value": ""
      }
     },
     "66561c2822874bf7a3af7d41e25a7df7": {
      "model_module": "@jupyter-widgets/controls",
      "model_module_version": "1.5.0",
      "model_name": "DescriptionStyleModel",
      "state": {
       "_model_module": "@jupyter-widgets/controls",
       "_model_module_version": "1.5.0",
       "_model_name": "DescriptionStyleModel",
       "_view_count": null,
       "_view_module": "@jupyter-widgets/base",
       "_view_module_version": "1.2.0",
       "_view_name": "StyleView",
       "description_width": ""
      }
     },
     "6ff226d9b0cd419b9e68b78125abfeed": {
      "model_module": "@jupyter-widgets/base",
      "model_module_version": "1.2.0",
      "model_name": "LayoutModel",
      "state": {
       "_model_module": "@jupyter-widgets/base",
       "_model_module_version": "1.2.0",
       "_model_name": "LayoutModel",
       "_view_count": null,
       "_view_module": "@jupyter-widgets/base",
       "_view_module_version": "1.2.0",
       "_view_name": "LayoutView",
       "align_content": null,
       "align_items": null,
       "align_self": null,
       "border": null,
       "bottom": null,
       "display": null,
       "flex": null,
       "flex_flow": null,
       "grid_area": null,
       "grid_auto_columns": null,
       "grid_auto_flow": null,
       "grid_auto_rows": null,
       "grid_column": null,
       "grid_gap": null,
       "grid_row": null,
       "grid_template_areas": null,
       "grid_template_columns": null,
       "grid_template_rows": null,
       "height": null,
       "justify_content": null,
       "justify_items": null,
       "left": null,
       "margin": null,
       "max_height": null,
       "max_width": null,
       "min_height": null,
       "min_width": null,
       "object_fit": null,
       "object_position": null,
       "order": null,
       "overflow": null,
       "overflow_x": null,
       "overflow_y": null,
       "padding": null,
       "right": null,
       "top": null,
       "visibility": null,
       "width": null
      }
     },
     "74394154bf984668996527a6caf7cba4": {
      "model_module": "@jupyter-widgets/base",
      "model_module_version": "1.2.0",
      "model_name": "LayoutModel",
      "state": {
       "_model_module": "@jupyter-widgets/base",
       "_model_module_version": "1.2.0",
       "_model_name": "LayoutModel",
       "_view_count": null,
       "_view_module": "@jupyter-widgets/base",
       "_view_module_version": "1.2.0",
       "_view_name": "LayoutView",
       "align_content": null,
       "align_items": null,
       "align_self": null,
       "border": null,
       "bottom": null,
       "display": null,
       "flex": null,
       "flex_flow": null,
       "grid_area": null,
       "grid_auto_columns": null,
       "grid_auto_flow": null,
       "grid_auto_rows": null,
       "grid_column": null,
       "grid_gap": null,
       "grid_row": null,
       "grid_template_areas": null,
       "grid_template_columns": null,
       "grid_template_rows": null,
       "height": null,
       "justify_content": null,
       "justify_items": null,
       "left": null,
       "margin": null,
       "max_height": null,
       "max_width": null,
       "min_height": null,
       "min_width": null,
       "object_fit": null,
       "object_position": null,
       "order": null,
       "overflow": null,
       "overflow_x": null,
       "overflow_y": null,
       "padding": null,
       "right": null,
       "top": null,
       "visibility": null,
       "width": null
      }
     },
     "7554750d66e6476eaa09d3a3d03563eb": {
      "model_module": "@jupyter-widgets/controls",
      "model_module_version": "1.5.0",
      "model_name": "ProgressStyleModel",
      "state": {
       "_model_module": "@jupyter-widgets/controls",
       "_model_module_version": "1.5.0",
       "_model_name": "ProgressStyleModel",
       "_view_count": null,
       "_view_module": "@jupyter-widgets/base",
       "_view_module_version": "1.2.0",
       "_view_name": "StyleView",
       "bar_color": null,
       "description_width": ""
      }
     },
     "7d01eb5b6066472ea7f48bd3c46e254b": {
      "model_module": "@jupyter-widgets/controls",
      "model_module_version": "1.5.0",
      "model_name": "HTMLModel",
      "state": {
       "_dom_classes": [],
       "_model_module": "@jupyter-widgets/controls",
       "_model_module_version": "1.5.0",
       "_model_name": "HTMLModel",
       "_view_count": null,
       "_view_module": "@jupyter-widgets/controls",
       "_view_module_version": "1.5.0",
       "_view_name": "HTMLView",
       "description": "",
       "description_tooltip": null,
       "layout": "IPY_MODEL_1a925b0f0b8b46ae9c8c9a12f2b6cd97",
       "placeholder": "​",
       "style": "IPY_MODEL_503a0560272544569b84b0031178d01c",
       "value": ""
      }
     },
     "7f0035f3da8248ec919680bf779b8dab": {
      "model_module": "@jupyter-widgets/controls",
      "model_module_version": "1.5.0",
      "model_name": "DescriptionStyleModel",
      "state": {
       "_model_module": "@jupyter-widgets/controls",
       "_model_module_version": "1.5.0",
       "_model_name": "DescriptionStyleModel",
       "_view_count": null,
       "_view_module": "@jupyter-widgets/base",
       "_view_module_version": "1.2.0",
       "_view_name": "StyleView",
       "description_width": ""
      }
     },
     "80528f27ac124a43911117439b891573": {
      "model_module": "@jupyter-widgets/controls",
      "model_module_version": "1.5.0",
      "model_name": "DescriptionStyleModel",
      "state": {
       "_model_module": "@jupyter-widgets/controls",
       "_model_module_version": "1.5.0",
       "_model_name": "DescriptionStyleModel",
       "_view_count": null,
       "_view_module": "@jupyter-widgets/base",
       "_view_module_version": "1.2.0",
       "_view_name": "StyleView",
       "description_width": ""
      }
     },
     "85a9a73eb381428f9a3fd5af97a50d18": {
      "model_module": "@jupyter-widgets/output",
      "model_module_version": "1.0.0",
      "model_name": "OutputModel",
      "state": {
       "_dom_classes": [],
       "_model_module": "@jupyter-widgets/output",
       "_model_module_version": "1.0.0",
       "_model_name": "OutputModel",
       "_view_count": null,
       "_view_module": "@jupyter-widgets/output",
       "_view_module_version": "1.0.0",
       "_view_name": "OutputView",
       "layout": "IPY_MODEL_491f1ff51e80453baa56bd463a635bad",
       "msg_id": "",
       "outputs": []
      }
     },
     "86f0273699eb45c1b52a2b9cdc74ed49": {
      "model_module": "@jupyter-widgets/controls",
      "model_module_version": "1.5.0",
      "model_name": "HBoxModel",
      "state": {
       "_dom_classes": [],
       "_model_module": "@jupyter-widgets/controls",
       "_model_module_version": "1.5.0",
       "_model_name": "HBoxModel",
       "_view_count": null,
       "_view_module": "@jupyter-widgets/controls",
       "_view_module_version": "1.5.0",
       "_view_name": "HBoxView",
       "box_style": "",
       "children": [
        "IPY_MODEL_a36d337750104d38bbdf680cebb6b911",
        "IPY_MODEL_bf105a83b9e4446fa8cd26ebd95292e8",
        "IPY_MODEL_98e56be8ecda4949bc982464ab5ae96a"
       ],
       "layout": "IPY_MODEL_0a4d33865b294ef38a1b2dbab5c68ee8"
      }
     },
     "8b2ceb98b9574dbaa0473a138304a677": {
      "model_module": "@jupyter-widgets/base",
      "model_module_version": "1.2.0",
      "model_name": "LayoutModel",
      "state": {
       "_model_module": "@jupyter-widgets/base",
       "_model_module_version": "1.2.0",
       "_model_name": "LayoutModel",
       "_view_count": null,
       "_view_module": "@jupyter-widgets/base",
       "_view_module_version": "1.2.0",
       "_view_name": "LayoutView",
       "align_content": null,
       "align_items": null,
       "align_self": null,
       "border": null,
       "bottom": null,
       "display": null,
       "flex": null,
       "flex_flow": null,
       "grid_area": null,
       "grid_auto_columns": null,
       "grid_auto_flow": null,
       "grid_auto_rows": null,
       "grid_column": null,
       "grid_gap": null,
       "grid_row": null,
       "grid_template_areas": null,
       "grid_template_columns": null,
       "grid_template_rows": null,
       "height": null,
       "justify_content": null,
       "justify_items": null,
       "left": null,
       "margin": null,
       "max_height": null,
       "max_width": null,
       "min_height": null,
       "min_width": null,
       "object_fit": null,
       "object_position": null,
       "order": null,
       "overflow": null,
       "overflow_x": null,
       "overflow_y": null,
       "padding": null,
       "right": null,
       "top": null,
       "visibility": null,
       "width": null
      }
     },
     "8ce322b1847a41c1a9ad99896063821e": {
      "model_module": "@jupyter-widgets/base",
      "model_module_version": "1.2.0",
      "model_name": "LayoutModel",
      "state": {
       "_model_module": "@jupyter-widgets/base",
       "_model_module_version": "1.2.0",
       "_model_name": "LayoutModel",
       "_view_count": null,
       "_view_module": "@jupyter-widgets/base",
       "_view_module_version": "1.2.0",
       "_view_name": "LayoutView",
       "align_content": null,
       "align_items": null,
       "align_self": null,
       "border": null,
       "bottom": null,
       "display": null,
       "flex": null,
       "flex_flow": null,
       "grid_area": null,
       "grid_auto_columns": null,
       "grid_auto_flow": null,
       "grid_auto_rows": null,
       "grid_column": null,
       "grid_gap": null,
       "grid_row": null,
       "grid_template_areas": null,
       "grid_template_columns": null,
       "grid_template_rows": null,
       "height": null,
       "justify_content": null,
       "justify_items": null,
       "left": null,
       "margin": null,
       "max_height": null,
       "max_width": null,
       "min_height": null,
       "min_width": null,
       "object_fit": null,
       "object_position": null,
       "order": null,
       "overflow": null,
       "overflow_x": null,
       "overflow_y": null,
       "padding": null,
       "right": null,
       "top": null,
       "visibility": null,
       "width": null
      }
     },
     "8e5945d99cff4450a6061fafe1929b60": {
      "model_module": "@jupyter-widgets/base",
      "model_module_version": "1.2.0",
      "model_name": "LayoutModel",
      "state": {
       "_model_module": "@jupyter-widgets/base",
       "_model_module_version": "1.2.0",
       "_model_name": "LayoutModel",
       "_view_count": null,
       "_view_module": "@jupyter-widgets/base",
       "_view_module_version": "1.2.0",
       "_view_name": "LayoutView",
       "align_content": null,
       "align_items": null,
       "align_self": null,
       "border": null,
       "bottom": null,
       "display": null,
       "flex": null,
       "flex_flow": null,
       "grid_area": null,
       "grid_auto_columns": null,
       "grid_auto_flow": null,
       "grid_auto_rows": null,
       "grid_column": null,
       "grid_gap": null,
       "grid_row": null,
       "grid_template_areas": null,
       "grid_template_columns": null,
       "grid_template_rows": null,
       "height": null,
       "justify_content": null,
       "justify_items": null,
       "left": null,
       "margin": null,
       "max_height": null,
       "max_width": null,
       "min_height": null,
       "min_width": null,
       "object_fit": null,
       "object_position": null,
       "order": null,
       "overflow": null,
       "overflow_x": null,
       "overflow_y": null,
       "padding": null,
       "right": null,
       "top": null,
       "visibility": null,
       "width": "20px"
      }
     },
     "90d56208d83a4177ac1d01f952e1a910": {
      "model_module": "@jupyter-widgets/controls",
      "model_module_version": "1.5.0",
      "model_name": "ProgressStyleModel",
      "state": {
       "_model_module": "@jupyter-widgets/controls",
       "_model_module_version": "1.5.0",
       "_model_name": "ProgressStyleModel",
       "_view_count": null,
       "_view_module": "@jupyter-widgets/base",
       "_view_module_version": "1.2.0",
       "_view_name": "StyleView",
       "bar_color": null,
       "description_width": ""
      }
     },
     "955a56b1d8564c2c8c76f342a6e0b66b": {
      "model_module": "@jupyter-widgets/controls",
      "model_module_version": "1.5.0",
      "model_name": "DescriptionStyleModel",
      "state": {
       "_model_module": "@jupyter-widgets/controls",
       "_model_module_version": "1.5.0",
       "_model_name": "DescriptionStyleModel",
       "_view_count": null,
       "_view_module": "@jupyter-widgets/base",
       "_view_module_version": "1.2.0",
       "_view_name": "StyleView",
       "description_width": ""
      }
     },
     "9632fbf83a7d44b59c4061bca94d0e8b": {
      "model_module": "@jupyter-widgets/base",
      "model_module_version": "1.2.0",
      "model_name": "LayoutModel",
      "state": {
       "_model_module": "@jupyter-widgets/base",
       "_model_module_version": "1.2.0",
       "_model_name": "LayoutModel",
       "_view_count": null,
       "_view_module": "@jupyter-widgets/base",
       "_view_module_version": "1.2.0",
       "_view_name": "LayoutView",
       "align_content": null,
       "align_items": null,
       "align_self": null,
       "border": null,
       "bottom": null,
       "display": null,
       "flex": null,
       "flex_flow": null,
       "grid_area": null,
       "grid_auto_columns": null,
       "grid_auto_flow": null,
       "grid_auto_rows": null,
       "grid_column": null,
       "grid_gap": null,
       "grid_row": null,
       "grid_template_areas": null,
       "grid_template_columns": null,
       "grid_template_rows": null,
       "height": null,
       "justify_content": null,
       "justify_items": null,
       "left": null,
       "margin": null,
       "max_height": null,
       "max_width": null,
       "min_height": null,
       "min_width": null,
       "object_fit": null,
       "object_position": null,
       "order": null,
       "overflow": null,
       "overflow_x": null,
       "overflow_y": null,
       "padding": null,
       "right": null,
       "top": null,
       "visibility": null,
       "width": null
      }
     },
     "98e56be8ecda4949bc982464ab5ae96a": {
      "model_module": "@jupyter-widgets/controls",
      "model_module_version": "1.5.0",
      "model_name": "HTMLModel",
      "state": {
       "_dom_classes": [],
       "_model_module": "@jupyter-widgets/controls",
       "_model_module_version": "1.5.0",
       "_model_name": "HTMLModel",
       "_view_count": null,
       "_view_module": "@jupyter-widgets/controls",
       "_view_module_version": "1.5.0",
       "_view_name": "HTMLView",
       "description": "",
       "description_tooltip": null,
       "layout": "IPY_MODEL_4b3fc0974a6447a2b286ecc3bf5dfe65",
       "placeholder": "​",
       "style": "IPY_MODEL_f91ca16e251c45b3b2dff8d9c0809fb5",
       "value": "0/? [00:00&lt;?, ?it/s]"
      }
     },
     "9b7875f75c724de0853db783f727afea": {
      "model_module": "@jupyter-widgets/base",
      "model_module_version": "1.2.0",
      "model_name": "LayoutModel",
      "state": {
       "_model_module": "@jupyter-widgets/base",
       "_model_module_version": "1.2.0",
       "_model_name": "LayoutModel",
       "_view_count": null,
       "_view_module": "@jupyter-widgets/base",
       "_view_module_version": "1.2.0",
       "_view_name": "LayoutView",
       "align_content": null,
       "align_items": null,
       "align_self": null,
       "border": null,
       "bottom": null,
       "display": null,
       "flex": null,
       "flex_flow": null,
       "grid_area": null,
       "grid_auto_columns": null,
       "grid_auto_flow": null,
       "grid_auto_rows": null,
       "grid_column": null,
       "grid_gap": null,
       "grid_row": null,
       "grid_template_areas": null,
       "grid_template_columns": null,
       "grid_template_rows": null,
       "height": null,
       "justify_content": null,
       "justify_items": null,
       "left": null,
       "margin": null,
       "max_height": null,
       "max_width": null,
       "min_height": null,
       "min_width": null,
       "object_fit": null,
       "object_position": null,
       "order": null,
       "overflow": null,
       "overflow_x": null,
       "overflow_y": null,
       "padding": null,
       "right": null,
       "top": null,
       "visibility": null,
       "width": null
      }
     },
     "9ff5355de67446d1bee2059e8e95a7e4": {
      "model_module": "@jupyter-widgets/controls",
      "model_module_version": "1.5.0",
      "model_name": "DescriptionStyleModel",
      "state": {
       "_model_module": "@jupyter-widgets/controls",
       "_model_module_version": "1.5.0",
       "_model_name": "DescriptionStyleModel",
       "_view_count": null,
       "_view_module": "@jupyter-widgets/base",
       "_view_module_version": "1.2.0",
       "_view_name": "StyleView",
       "description_width": ""
      }
     },
     "a0b17ec34f6f4d0e84ff4b3e0a071246": {
      "model_module": "@jupyter-widgets/controls",
      "model_module_version": "1.5.0",
      "model_name": "DescriptionStyleModel",
      "state": {
       "_model_module": "@jupyter-widgets/controls",
       "_model_module_version": "1.5.0",
       "_model_name": "DescriptionStyleModel",
       "_view_count": null,
       "_view_module": "@jupyter-widgets/base",
       "_view_module_version": "1.2.0",
       "_view_name": "StyleView",
       "description_width": ""
      }
     },
     "a36d337750104d38bbdf680cebb6b911": {
      "model_module": "@jupyter-widgets/controls",
      "model_module_version": "1.5.0",
      "model_name": "HTMLModel",
      "state": {
       "_dom_classes": [],
       "_model_module": "@jupyter-widgets/controls",
       "_model_module_version": "1.5.0",
       "_model_name": "HTMLModel",
       "_view_count": null,
       "_view_module": "@jupyter-widgets/controls",
       "_view_module_version": "1.5.0",
       "_view_name": "HTMLView",
       "description": "",
       "description_tooltip": null,
       "layout": "IPY_MODEL_2167ce84f8ff4527bceea59135d5ab85",
       "placeholder": "​",
       "style": "IPY_MODEL_1150a19ee6a44fc89fccecf21baccb86",
       "value": "Packets:   "
      }
     },
     "a4028f8441b742a7a4b1e7e45f285f2b": {
      "model_module": "@jupyter-widgets/base",
      "model_module_version": "1.2.0",
      "model_name": "LayoutModel",
      "state": {
       "_model_module": "@jupyter-widgets/base",
       "_model_module_version": "1.2.0",
       "_model_name": "LayoutModel",
       "_view_count": null,
       "_view_module": "@jupyter-widgets/base",
       "_view_module_version": "1.2.0",
       "_view_name": "LayoutView",
       "align_content": null,
       "align_items": null,
       "align_self": null,
       "border": null,
       "bottom": null,
       "display": null,
       "flex": null,
       "flex_flow": null,
       "grid_area": null,
       "grid_auto_columns": null,
       "grid_auto_flow": null,
       "grid_auto_rows": null,
       "grid_column": null,
       "grid_gap": null,
       "grid_row": null,
       "grid_template_areas": null,
       "grid_template_columns": null,
       "grid_template_rows": null,
       "height": null,
       "justify_content": null,
       "justify_items": null,
       "left": null,
       "margin": null,
       "max_height": null,
       "max_width": null,
       "min_height": null,
       "min_width": null,
       "object_fit": null,
       "object_position": null,
       "order": null,
       "overflow": null,
       "overflow_x": null,
       "overflow_y": null,
       "padding": null,
       "right": null,
       "top": null,
       "visibility": null,
       "width": null
      }
     },
     "a5ce961840a94b4fad53b6db49e414b3": {
      "model_module": "@jupyter-widgets/controls",
      "model_module_version": "1.5.0",
      "model_name": "ProgressStyleModel",
      "state": {
       "_model_module": "@jupyter-widgets/controls",
       "_model_module_version": "1.5.0",
       "_model_name": "ProgressStyleModel",
       "_view_count": null,
       "_view_module": "@jupyter-widgets/base",
       "_view_module_version": "1.2.0",
       "_view_name": "StyleView",
       "bar_color": null,
       "description_width": ""
      }
     },
     "a9f9cc34747a4aa3a91e48f95b9ca3e4": {
      "model_module": "@jupyter-widgets/controls",
      "model_module_version": "1.5.0",
      "model_name": "HTMLModel",
      "state": {
       "_dom_classes": [],
       "_model_module": "@jupyter-widgets/controls",
       "_model_module_version": "1.5.0",
       "_model_name": "HTMLModel",
       "_view_count": null,
       "_view_module": "@jupyter-widgets/controls",
       "_view_module_version": "1.5.0",
       "_view_name": "HTMLView",
       "description": "",
       "description_tooltip": null,
       "layout": "IPY_MODEL_620dbfa78d794ef197fdb66e5d215273",
       "placeholder": "​",
       "style": "IPY_MODEL_66561c2822874bf7a3af7d41e25a7df7",
       "value": "Iterations:"
      }
     },
     "aaad6c6831b044fa8174f3015272f005": {
      "model_module": "@jupyter-widgets/controls",
      "model_module_version": "1.5.0",
      "model_name": "HTMLModel",
      "state": {
       "_dom_classes": [],
       "_model_module": "@jupyter-widgets/controls",
       "_model_module_version": "1.5.0",
       "_model_name": "HTMLModel",
       "_view_count": null,
       "_view_module": "@jupyter-widgets/controls",
       "_view_module_version": "1.5.0",
       "_view_name": "HTMLView",
       "description": "",
       "description_tooltip": null,
       "layout": "IPY_MODEL_620dbfa78d794ef197fdb66e5d215273",
       "placeholder": "​",
       "style": "IPY_MODEL_66561c2822874bf7a3af7d41e25a7df7",
       "value": ""
      }
     },
     "aab2c76ab1694a0297e381f135a5ca44": {
      "model_module": "@jupyter-widgets/controls",
      "model_module_version": "1.5.0",
      "model_name": "ProgressStyleModel",
      "state": {
       "_model_module": "@jupyter-widgets/controls",
       "_model_module_version": "1.5.0",
       "_model_name": "ProgressStyleModel",
       "_view_count": null,
       "_view_module": "@jupyter-widgets/base",
       "_view_module_version": "1.2.0",
       "_view_name": "StyleView",
       "bar_color": null,
       "description_width": ""
      }
     },
     "b0149a764d3f45a29d1b04cf8c9aeb3e": {
      "model_module": "@jupyter-widgets/base",
      "model_module_version": "1.2.0",
      "model_name": "LayoutModel",
      "state": {
       "_model_module": "@jupyter-widgets/base",
       "_model_module_version": "1.2.0",
       "_model_name": "LayoutModel",
       "_view_count": null,
       "_view_module": "@jupyter-widgets/base",
       "_view_module_version": "1.2.0",
       "_view_name": "LayoutView",
       "align_content": null,
       "align_items": null,
       "align_self": null,
       "border": null,
       "bottom": null,
       "display": null,
       "flex": null,
       "flex_flow": null,
       "grid_area": null,
       "grid_auto_columns": null,
       "grid_auto_flow": null,
       "grid_auto_rows": null,
       "grid_column": null,
       "grid_gap": null,
       "grid_row": null,
       "grid_template_areas": null,
       "grid_template_columns": null,
       "grid_template_rows": null,
       "height": null,
       "justify_content": null,
       "justify_items": null,
       "left": null,
       "margin": null,
       "max_height": null,
       "max_width": null,
       "min_height": null,
       "min_width": null,
       "object_fit": null,
       "object_position": null,
       "order": null,
       "overflow": null,
       "overflow_x": null,
       "overflow_y": null,
       "padding": null,
       "right": null,
       "top": null,
       "visibility": null,
       "width": null
      }
     },
     "b22fdf777dd84131b6ec36f02126aeb1": {
      "model_module": "@jupyter-widgets/base",
      "model_module_version": "1.2.0",
      "model_name": "LayoutModel",
      "state": {
       "_model_module": "@jupyter-widgets/base",
       "_model_module_version": "1.2.0",
       "_model_name": "LayoutModel",
       "_view_count": null,
       "_view_module": "@jupyter-widgets/base",
       "_view_module_version": "1.2.0",
       "_view_name": "LayoutView",
       "align_content": null,
       "align_items": null,
       "align_self": null,
       "border": null,
       "bottom": null,
       "display": null,
       "flex": null,
       "flex_flow": null,
       "grid_area": null,
       "grid_auto_columns": null,
       "grid_auto_flow": null,
       "grid_auto_rows": null,
       "grid_column": null,
       "grid_gap": null,
       "grid_row": null,
       "grid_template_areas": null,
       "grid_template_columns": null,
       "grid_template_rows": null,
       "height": null,
       "justify_content": null,
       "justify_items": null,
       "left": null,
       "margin": null,
       "max_height": null,
       "max_width": null,
       "min_height": null,
       "min_width": null,
       "object_fit": null,
       "object_position": null,
       "order": null,
       "overflow": null,
       "overflow_x": null,
       "overflow_y": null,
       "padding": null,
       "right": null,
       "top": null,
       "visibility": null,
       "width": null
      }
     },
     "b2b0d50731604f7faf5e235c4036256e": {
      "model_module": "@jupyter-widgets/controls",
      "model_module_version": "1.5.0",
      "model_name": "FloatProgressModel",
      "state": {
       "_dom_classes": [],
       "_model_module": "@jupyter-widgets/controls",
       "_model_module_version": "1.5.0",
       "_model_name": "FloatProgressModel",
       "_view_count": null,
       "_view_module": "@jupyter-widgets/controls",
       "_view_module_version": "1.5.0",
       "_view_name": "ProgressView",
       "bar_style": "",
       "description": "",
       "description_tooltip": null,
       "layout": "IPY_MODEL_8e5945d99cff4450a6061fafe1929b60",
       "max": 1.0,
       "min": 0.0,
       "orientation": "horizontal",
       "style": "IPY_MODEL_fd51ebe12e3f4a39afb77a2c35596124",
       "value": 0.0
      }
     },
     "b53c655c84bf45ed80cce35dd042718e": {
      "model_module": "@jupyter-widgets/controls",
      "model_module_version": "1.5.0",
      "model_name": "DescriptionStyleModel",
      "state": {
       "_model_module": "@jupyter-widgets/controls",
       "_model_module_version": "1.5.0",
       "_model_name": "DescriptionStyleModel",
       "_view_count": null,
       "_view_module": "@jupyter-widgets/base",
       "_view_module_version": "1.2.0",
       "_view_name": "StyleView",
       "description_width": ""
      }
     },
     "b8258487640a4a88bc91eba557b6338a": {
      "model_module": "@jupyter-widgets/controls",
      "model_module_version": "1.5.0",
      "model_name": "HBoxModel",
      "state": {
       "_dom_classes": [],
       "_model_module": "@jupyter-widgets/controls",
       "_model_module_version": "1.5.0",
       "_model_name": "HBoxModel",
       "_view_count": null,
       "_view_module": "@jupyter-widgets/controls",
       "_view_module_version": "1.5.0",
       "_view_name": "HBoxView",
       "box_style": "",
       "children": [
        "IPY_MODEL_a9f9cc34747a4aa3a91e48f95b9ca3e4",
        "IPY_MODEL_33fa4dfa2de84ed19e8cc150174828e0",
        "IPY_MODEL_e237f12477104d399b11e450781a3c0d"
       ],
       "layout": "IPY_MODEL_d6c415ea92464d1bb3da17583d2dd26d"
      }
     },
     "ba20f5621fa44694a7236c2265774158": {
      "model_module": "@jupyter-widgets/controls",
      "model_module_version": "1.5.0",
      "model_name": "FloatProgressModel",
      "state": {
       "_dom_classes": [],
       "_model_module": "@jupyter-widgets/controls",
       "_model_module_version": "1.5.0",
       "_model_name": "FloatProgressModel",
       "_view_count": null,
       "_view_module": "@jupyter-widgets/controls",
       "_view_module_version": "1.5.0",
       "_view_name": "ProgressView",
       "bar_style": "",
       "description": "",
       "description_tooltip": null,
       "layout": "IPY_MODEL_2aa7f54b0874431f8fc558b21f059784",
       "max": 100000.0,
       "min": 0.0,
       "orientation": "horizontal",
       "style": "IPY_MODEL_cc269d4ac946454c90793484d5c381f3",
       "value": 99560.0
      }
     },
     "bf105a83b9e4446fa8cd26ebd95292e8": {
      "model_module": "@jupyter-widgets/controls",
      "model_module_version": "1.5.0",
      "model_name": "FloatProgressModel",
      "state": {
       "_dom_classes": [],
       "_model_module": "@jupyter-widgets/controls",
       "_model_module_version": "1.5.0",
       "_model_name": "FloatProgressModel",
       "_view_count": null,
       "_view_module": "@jupyter-widgets/controls",
       "_view_module_version": "1.5.0",
       "_view_name": "ProgressView",
       "bar_style": "info",
       "description": "",
       "description_tooltip": null,
       "layout": "IPY_MODEL_edd770fe264748329a3c7c8e01c1cbce",
       "max": 1.0,
       "min": 0.0,
       "orientation": "horizontal",
       "style": "IPY_MODEL_90d56208d83a4177ac1d01f952e1a910",
       "value": 0.0
      }
     },
     "bfc73b88be314df2ae4abaa501d0aa18": {
      "model_module": "@jupyter-widgets/controls",
      "model_module_version": "1.5.0",
      "model_name": "HBoxModel",
      "state": {
       "_dom_classes": [],
       "_model_module": "@jupyter-widgets/controls",
       "_model_module_version": "1.5.0",
       "_model_name": "HBoxModel",
       "_view_count": null,
       "_view_module": "@jupyter-widgets/controls",
       "_view_module_version": "1.5.0",
       "_view_name": "HBoxView",
       "box_style": "",
       "children": [
        "IPY_MODEL_646bd6db8b9f4c5cb2d8b04960bc0078",
        "IPY_MODEL_ba20f5621fa44694a7236c2265774158",
        "IPY_MODEL_563aee451fdb42768ccc8bd43b143e83"
       ],
       "layout": "IPY_MODEL_c3540237cde34132b9a9bd72f6c11afe"
      }
     },
     "c0251b0403a94a3ba854bb1c7294c167": {
      "model_module": "@jupyter-widgets/base",
      "model_module_version": "1.2.0",
      "model_name": "LayoutModel",
      "state": {
       "_model_module": "@jupyter-widgets/base",
       "_model_module_version": "1.2.0",
       "_model_name": "LayoutModel",
       "_view_count": null,
       "_view_module": "@jupyter-widgets/base",
       "_view_module_version": "1.2.0",
       "_view_name": "LayoutView",
       "align_content": null,
       "align_items": null,
       "align_self": null,
       "border": null,
       "bottom": null,
       "display": null,
       "flex": null,
       "flex_flow": null,
       "grid_area": null,
       "grid_auto_columns": null,
       "grid_auto_flow": null,
       "grid_auto_rows": null,
       "grid_column": null,
       "grid_gap": null,
       "grid_row": null,
       "grid_template_areas": null,
       "grid_template_columns": null,
       "grid_template_rows": null,
       "height": null,
       "justify_content": null,
       "justify_items": null,
       "left": null,
       "margin": null,
       "max_height": null,
       "max_width": null,
       "min_height": null,
       "min_width": null,
       "object_fit": null,
       "object_position": null,
       "order": null,
       "overflow": null,
       "overflow_x": null,
       "overflow_y": null,
       "padding": null,
       "right": null,
       "top": null,
       "visibility": null,
       "width": null
      }
     },
     "c3540237cde34132b9a9bd72f6c11afe": {
      "model_module": "@jupyter-widgets/base",
      "model_module_version": "1.2.0",
      "model_name": "LayoutModel",
      "state": {
       "_model_module": "@jupyter-widgets/base",
       "_model_module_version": "1.2.0",
       "_model_name": "LayoutModel",
       "_view_count": null,
       "_view_module": "@jupyter-widgets/base",
       "_view_module_version": "1.2.0",
       "_view_name": "LayoutView",
       "align_content": null,
       "align_items": null,
       "align_self": null,
       "border": null,
       "bottom": null,
       "display": null,
       "flex": null,
       "flex_flow": null,
       "grid_area": null,
       "grid_auto_columns": null,
       "grid_auto_flow": null,
       "grid_auto_rows": null,
       "grid_column": null,
       "grid_gap": null,
       "grid_row": null,
       "grid_template_areas": null,
       "grid_template_columns": null,
       "grid_template_rows": null,
       "height": null,
       "justify_content": null,
       "justify_items": null,
       "left": null,
       "margin": null,
       "max_height": null,
       "max_width": null,
       "min_height": null,
       "min_width": null,
       "object_fit": null,
       "object_position": null,
       "order": null,
       "overflow": null,
       "overflow_x": null,
       "overflow_y": null,
       "padding": null,
       "right": null,
       "top": null,
       "visibility": null,
       "width": null
      }
     },
     "cc269d4ac946454c90793484d5c381f3": {
      "model_module": "@jupyter-widgets/controls",
      "model_module_version": "1.5.0",
      "model_name": "ProgressStyleModel",
      "state": {
       "_model_module": "@jupyter-widgets/controls",
       "_model_module_version": "1.5.0",
       "_model_name": "ProgressStyleModel",
       "_view_count": null,
       "_view_module": "@jupyter-widgets/base",
       "_view_module_version": "1.2.0",
       "_view_name": "StyleView",
       "bar_color": null,
       "description_width": ""
      }
     },
     "d0d6f69e6b114179abf8eadf1c335e16": {
      "model_module": "@jupyter-widgets/base",
      "model_module_version": "1.2.0",
      "model_name": "LayoutModel",
      "state": {
       "_model_module": "@jupyter-widgets/base",
       "_model_module_version": "1.2.0",
       "_model_name": "LayoutModel",
       "_view_count": null,
       "_view_module": "@jupyter-widgets/base",
       "_view_module_version": "1.2.0",
       "_view_name": "LayoutView",
       "align_content": null,
       "align_items": null,
       "align_self": null,
       "border": null,
       "bottom": null,
       "display": null,
       "flex": null,
       "flex_flow": null,
       "grid_area": null,
       "grid_auto_columns": null,
       "grid_auto_flow": null,
       "grid_auto_rows": null,
       "grid_column": null,
       "grid_gap": null,
       "grid_row": null,
       "grid_template_areas": null,
       "grid_template_columns": null,
       "grid_template_rows": null,
       "height": null,
       "justify_content": null,
       "justify_items": null,
       "left": null,
       "margin": null,
       "max_height": null,
       "max_width": null,
       "min_height": null,
       "min_width": null,
       "object_fit": null,
       "object_position": null,
       "order": null,
       "overflow": null,
       "overflow_x": null,
       "overflow_y": null,
       "padding": null,
       "right": null,
       "top": null,
       "visibility": null,
       "width": null
      }
     },
     "d4666537222e4e689c6def9e2522e8aa": {
      "model_module": "@jupyter-widgets/controls",
      "model_module_version": "1.5.0",
      "model_name": "ProgressStyleModel",
      "state": {
       "_model_module": "@jupyter-widgets/controls",
       "_model_module_version": "1.5.0",
       "_model_name": "ProgressStyleModel",
       "_view_count": null,
       "_view_module": "@jupyter-widgets/base",
       "_view_module_version": "1.2.0",
       "_view_name": "StyleView",
       "bar_color": null,
       "description_width": ""
      }
     },
     "d5596b89a8614521941d89ea0df40fac": {
      "model_module": "@jupyter-widgets/controls",
      "model_module_version": "1.5.0",
      "model_name": "HBoxModel",
      "state": {
       "_dom_classes": [],
       "_model_module": "@jupyter-widgets/controls",
       "_model_module_version": "1.5.0",
       "_model_name": "HBoxModel",
       "_view_count": null,
       "_view_module": "@jupyter-widgets/controls",
       "_view_module_version": "1.5.0",
       "_view_name": "HBoxView",
       "box_style": "",
       "children": [
        "IPY_MODEL_a36d337750104d38bbdf680cebb6b911",
        "IPY_MODEL_bf105a83b9e4446fa8cd26ebd95292e8",
        "IPY_MODEL_98e56be8ecda4949bc982464ab5ae96a"
       ],
       "layout": "IPY_MODEL_0a4d33865b294ef38a1b2dbab5c68ee8"
      }
     },
     "d6c415ea92464d1bb3da17583d2dd26d": {
      "model_module": "@jupyter-widgets/base",
      "model_module_version": "1.2.0",
      "model_name": "LayoutModel",
      "state": {
       "_model_module": "@jupyter-widgets/base",
       "_model_module_version": "1.2.0",
       "_model_name": "LayoutModel",
       "_view_count": null,
       "_view_module": "@jupyter-widgets/base",
       "_view_module_version": "1.2.0",
       "_view_name": "LayoutView",
       "align_content": null,
       "align_items": null,
       "align_self": null,
       "border": null,
       "bottom": null,
       "display": null,
       "flex": null,
       "flex_flow": null,
       "grid_area": null,
       "grid_auto_columns": null,
       "grid_auto_flow": null,
       "grid_auto_rows": null,
       "grid_column": null,
       "grid_gap": null,
       "grid_row": null,
       "grid_template_areas": null,
       "grid_template_columns": null,
       "grid_template_rows": null,
       "height": null,
       "justify_content": null,
       "justify_items": null,
       "left": null,
       "margin": null,
       "max_height": null,
       "max_width": null,
       "min_height": null,
       "min_width": null,
       "object_fit": null,
       "object_position": null,
       "order": null,
       "overflow": null,
       "overflow_x": null,
       "overflow_y": null,
       "padding": null,
       "right": null,
       "top": null,
       "visibility": null,
       "width": null
      }
     },
     "d7d48e97f58e436099a2f5d0a28fe3ec": {
      "model_module": "@jupyter-widgets/controls",
      "model_module_version": "1.5.0",
      "model_name": "FloatProgressModel",
      "state": {
       "_dom_classes": [],
       "_model_module": "@jupyter-widgets/controls",
       "_model_module_version": "1.5.0",
       "_model_name": "FloatProgressModel",
       "_view_count": null,
       "_view_module": "@jupyter-widgets/controls",
       "_view_module_version": "1.5.0",
       "_view_name": "ProgressView",
       "bar_style": "info",
       "description": "",
       "description_tooltip": null,
       "layout": "IPY_MODEL_8e5945d99cff4450a6061fafe1929b60",
       "max": 1.0,
       "min": 0.0,
       "orientation": "horizontal",
       "style": "IPY_MODEL_fd51ebe12e3f4a39afb77a2c35596124",
       "value": 0.0
      }
     },
     "d7d515135747418a97a6c5c07ece2799": {
      "model_module": "@jupyter-widgets/controls",
      "model_module_version": "1.5.0",
      "model_name": "HTMLModel",
      "state": {
       "_dom_classes": [],
       "_model_module": "@jupyter-widgets/controls",
       "_model_module_version": "1.5.0",
       "_model_name": "HTMLModel",
       "_view_count": null,
       "_view_module": "@jupyter-widgets/controls",
       "_view_module_version": "1.5.0",
       "_view_name": "HTMLView",
       "description": "",
       "description_tooltip": null,
       "layout": "IPY_MODEL_2d34a95eb96e405f99e95bb5401113f8",
       "placeholder": "​",
       "style": "IPY_MODEL_80528f27ac124a43911117439b891573",
       "value": "Iterations:"
      }
     },
     "df5b52e4840c48e69211d99341d8d55a": {
      "model_module": "@jupyter-widgets/controls",
      "model_module_version": "1.5.0",
      "model_name": "DescriptionStyleModel",
      "state": {
       "_model_module": "@jupyter-widgets/controls",
       "_model_module_version": "1.5.0",
       "_model_name": "DescriptionStyleModel",
       "_view_count": null,
       "_view_module": "@jupyter-widgets/base",
       "_view_module_version": "1.2.0",
       "_view_name": "StyleView",
       "description_width": ""
      }
     },
     "dfadd2d9cedd4ea5a38bbf81668a9a35": {
      "model_module": "@jupyter-widgets/base",
      "model_module_version": "1.2.0",
      "model_name": "LayoutModel",
      "state": {
       "_model_module": "@jupyter-widgets/base",
       "_model_module_version": "1.2.0",
       "_model_name": "LayoutModel",
       "_view_count": null,
       "_view_module": "@jupyter-widgets/base",
       "_view_module_version": "1.2.0",
       "_view_name": "LayoutView",
       "align_content": null,
       "align_items": null,
       "align_self": null,
       "border": null,
       "bottom": null,
       "display": null,
       "flex": null,
       "flex_flow": null,
       "grid_area": null,
       "grid_auto_columns": null,
       "grid_auto_flow": null,
       "grid_auto_rows": null,
       "grid_column": null,
       "grid_gap": null,
       "grid_row": null,
       "grid_template_areas": null,
       "grid_template_columns": null,
       "grid_template_rows": null,
       "height": null,
       "justify_content": null,
       "justify_items": null,
       "left": null,
       "margin": null,
       "max_height": null,
       "max_width": null,
       "min_height": null,
       "min_width": null,
       "object_fit": null,
       "object_position": null,
       "order": null,
       "overflow": null,
       "overflow_x": null,
       "overflow_y": null,
       "padding": null,
       "right": null,
       "top": null,
       "visibility": null,
       "width": null
      }
     },
     "e237f12477104d399b11e450781a3c0d": {
      "model_module": "@jupyter-widgets/controls",
      "model_module_version": "1.5.0",
      "model_name": "HTMLModel",
      "state": {
       "_dom_classes": [],
       "_model_module": "@jupyter-widgets/controls",
       "_model_module_version": "1.5.0",
       "_model_name": "HTMLModel",
       "_view_count": null,
       "_view_module": "@jupyter-widgets/controls",
       "_view_module_version": "1.5.0",
       "_view_name": "HTMLView",
       "description": "",
       "description_tooltip": null,
       "layout": "IPY_MODEL_1bbb270be0c1464ca4f6b7db1f6fd70a",
       "placeholder": "​",
       "style": "IPY_MODEL_df5b52e4840c48e69211d99341d8d55a",
       "value": "20/20 [00:21&lt;00:00,  2.80s/it]"
      }
     },
     "e2fb977d4ab74b03a7265d1912601838": {
      "model_module": "@jupyter-widgets/controls",
      "model_module_version": "1.5.0",
      "model_name": "ProgressStyleModel",
      "state": {
       "_model_module": "@jupyter-widgets/controls",
       "_model_module_version": "1.5.0",
       "_model_name": "ProgressStyleModel",
       "_view_count": null,
       "_view_module": "@jupyter-widgets/base",
       "_view_module_version": "1.2.0",
       "_view_name": "StyleView",
       "bar_color": null,
       "description_width": ""
      }
     },
     "e40d32e39b674a82ac2b597bef835c1a": {
      "model_module": "@jupyter-widgets/controls",
      "model_module_version": "1.5.0",
      "model_name": "FloatProgressModel",
      "state": {
       "_dom_classes": [],
       "_model_module": "@jupyter-widgets/controls",
       "_model_module_version": "1.5.0",
       "_model_name": "FloatProgressModel",
       "_view_count": null,
       "_view_module": "@jupyter-widgets/controls",
       "_view_module_version": "1.5.0",
       "_view_name": "ProgressView",
       "bar_style": "",
       "description": "",
       "description_tooltip": null,
       "layout": "IPY_MODEL_1fa6a857c52c41bc8a919769bb1fb64f",
       "max": 1.0,
       "min": 0.0,
       "orientation": "horizontal",
       "style": "IPY_MODEL_e2fb977d4ab74b03a7265d1912601838",
       "value": 0.0
      }
     },
     "ed3a84c2ca144f4ba665455004c58340": {
      "model_module": "@jupyter-widgets/controls",
      "model_module_version": "1.5.0",
      "model_name": "HTMLModel",
      "state": {
       "_dom_classes": [],
       "_model_module": "@jupyter-widgets/controls",
       "_model_module_version": "1.5.0",
       "_model_name": "HTMLModel",
       "_view_count": null,
       "_view_module": "@jupyter-widgets/controls",
       "_view_module_version": "1.5.0",
       "_view_name": "HTMLView",
       "description": "",
       "description_tooltip": null,
       "layout": "IPY_MODEL_1a925b0f0b8b46ae9c8c9a12f2b6cd97",
       "placeholder": "​",
       "style": "IPY_MODEL_503a0560272544569b84b0031178d01c",
       "value": "0/? [00:00&lt;?, ?it/s]"
      }
     },
     "edd770fe264748329a3c7c8e01c1cbce": {
      "model_module": "@jupyter-widgets/base",
      "model_module_version": "1.2.0",
      "model_name": "LayoutModel",
      "state": {
       "_model_module": "@jupyter-widgets/base",
       "_model_module_version": "1.2.0",
       "_model_name": "LayoutModel",
       "_view_count": null,
       "_view_module": "@jupyter-widgets/base",
       "_view_module_version": "1.2.0",
       "_view_name": "LayoutView",
       "align_content": null,
       "align_items": null,
       "align_self": null,
       "border": null,
       "bottom": null,
       "display": null,
       "flex": null,
       "flex_flow": null,
       "grid_area": null,
       "grid_auto_columns": null,
       "grid_auto_flow": null,
       "grid_auto_rows": null,
       "grid_column": null,
       "grid_gap": null,
       "grid_row": null,
       "grid_template_areas": null,
       "grid_template_columns": null,
       "grid_template_rows": null,
       "height": null,
       "justify_content": null,
       "justify_items": null,
       "left": null,
       "margin": null,
       "max_height": null,
       "max_width": null,
       "min_height": null,
       "min_width": null,
       "object_fit": null,
       "object_position": null,
       "order": null,
       "overflow": null,
       "overflow_x": null,
       "overflow_y": null,
       "padding": null,
       "right": null,
       "top": null,
       "visibility": null,
       "width": "20px"
      }
     },
     "f24b7e6fb55540f3a0d792e3b3555b61": {
      "model_module": "@jupyter-widgets/controls",
      "model_module_version": "1.5.0",
      "model_name": "HTMLModel",
      "state": {
       "_dom_classes": [],
       "_model_module": "@jupyter-widgets/controls",
       "_model_module_version": "1.5.0",
       "_model_name": "HTMLModel",
       "_view_count": null,
       "_view_module": "@jupyter-widgets/controls",
       "_view_module_version": "1.5.0",
       "_view_name": "HTMLView",
       "description": "",
       "description_tooltip": null,
       "layout": "IPY_MODEL_2167ce84f8ff4527bceea59135d5ab85",
       "placeholder": "​",
       "style": "IPY_MODEL_1150a19ee6a44fc89fccecf21baccb86",
       "value": ""
      }
     },
     "f8302a66319d45da8f1eb8c1708c9ea4": {
      "model_module": "@jupyter-widgets/controls",
      "model_module_version": "1.5.0",
      "model_name": "DescriptionStyleModel",
      "state": {
       "_model_module": "@jupyter-widgets/controls",
       "_model_module_version": "1.5.0",
       "_model_name": "DescriptionStyleModel",
       "_view_count": null,
       "_view_module": "@jupyter-widgets/base",
       "_view_module_version": "1.2.0",
       "_view_name": "StyleView",
       "description_width": ""
      }
     },
     "f91ca16e251c45b3b2dff8d9c0809fb5": {
      "model_module": "@jupyter-widgets/controls",
      "model_module_version": "1.5.0",
      "model_name": "DescriptionStyleModel",
      "state": {
       "_model_module": "@jupyter-widgets/controls",
       "_model_module_version": "1.5.0",
       "_model_name": "DescriptionStyleModel",
       "_view_count": null,
       "_view_module": "@jupyter-widgets/base",
       "_view_module_version": "1.2.0",
       "_view_name": "StyleView",
       "description_width": ""
      }
     },
     "fc4cd8bde6714e66a3bbe804d4d11976": {
      "model_module": "@jupyter-widgets/controls",
      "model_module_version": "1.5.0",
      "model_name": "HTMLModel",
      "state": {
       "_dom_classes": [],
       "_model_module": "@jupyter-widgets/controls",
       "_model_module_version": "1.5.0",
       "_model_name": "HTMLModel",
       "_view_count": null,
       "_view_module": "@jupyter-widgets/controls",
       "_view_module_version": "1.5.0",
       "_view_name": "HTMLView",
       "description": "",
       "description_tooltip": null,
       "layout": "IPY_MODEL_b0149a764d3f45a29d1b04cf8c9aeb3e",
       "placeholder": "​",
       "style": "IPY_MODEL_279f1c2e74914529ab305d0d51ece98d",
       "value": ""
      }
     },
     "fd51ebe12e3f4a39afb77a2c35596124": {
      "model_module": "@jupyter-widgets/controls",
      "model_module_version": "1.5.0",
      "model_name": "ProgressStyleModel",
      "state": {
       "_model_module": "@jupyter-widgets/controls",
       "_model_module_version": "1.5.0",
       "_model_name": "ProgressStyleModel",
       "_view_count": null,
       "_view_module": "@jupyter-widgets/base",
       "_view_module_version": "1.2.0",
       "_view_name": "StyleView",
       "bar_color": null,
       "description_width": ""
      }
     }
    },
    "version_major": 2,
    "version_minor": 0
   }
  }
 },
 "nbformat": 4,
 "nbformat_minor": 4
}
