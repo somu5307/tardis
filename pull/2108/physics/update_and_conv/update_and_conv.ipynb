{
 "cells": [
  {
   "cell_type": "markdown",
   "id": "4d53d061",
   "metadata": {},
   "source": [
    "# Updating Plasma and Convergence\n",
    "\n",
    "As light travels through a real plasma, it has effects on the properties of the plasma due to light-matter\n",
    "interactions as well as the presence of extra energy from the light. Additionally, as [previously discussed](../montecarlo/propagation.rst), properties of the plasma affect how light travels through it. Things like this (where two things\n",
    "both affect each other on different ways) frequently occur in physics. The solution is finding a steady-state for\n",
    "the plasma properties; that is, the actual plasma will be in a state such that the plasma state will not change as\n",
    "light propagates through it, because the effects of the light on the plasma and the effects of the plasma on the\n",
    "light have been \"balanced out.\"\n",
    "\n",
    "One of TARDIS's main goals is to determine this plasma state (as we need the actual plasma properties in order to\n",
    "get an accurate spectrum). This is done in an iterative process. After each [Monte Carlo iteration](../montecarlo/index.rst) (which sends light through the supernova ejecta), TARDIS uses the Monte Carlo estimators???\n",
    "how the propagating light affects the plasma state, after which the plasma state is updated (as will be explained below and demonstrated in the code example). We do this many times, and attempt to have the plasma state converge\n",
    "to the steady-state we are looking for. In fact, all but the last Monte Carlo iteration is used for this purpose\n",
    "(after which TARDIS will have the needed plasma state for its last iteration which calculates the spectrum).\n",
    "\n",
    "<div class=\"alert alert-info\">\n",
    "\n",
    "Note\n",
    "\n",
    "For all but the last iteration, TARDIS uses the number of Monte Carlo packets specified in the\n",
    "[Monte Carlo configuration](../../io/configuration/components/montecarlo.rst) under the ``no_of_packets`` argument. This is because\n",
    "a different number of packets may be necessary to calculate the spectrum as opposed to calculate the\n",
    "plasma state.\n",
    "\n",
    "</div>\n",
    "\n",
    "After each iteration the values for radiative temperature and dilution factor are updated by calling the ``advance_state`` method on a ``Simulation`` object as will be shown below in the code example. The goal of this is to eventually have the radiative temperature and dilution factor converge to a single value so that the steady-state plasma state can be determined. To ensure that the simulation converges, TARDIS employs additional convergence strategies. Currently, only one convergence strategy is available: damped convergence. This will be described in the following sections.\n",
    "\n",
    "<div class=\"alert alert-info\">\n",
    "\n",
    "Note\n",
    "    \n",
    "Unless otherwise noted, all user-supplied quantities mentioned on this page are supplied in the [convergence section of the Monte Carlo configuration](../../io/configuration/components/montecarlo.rst#damped-convergence-strategy), which will be referenced as the convergence configuration.\n",
    "\n",
    "</div>"
   ]
  },
  {
   "cell_type": "markdown",
   "id": "8ffc4479",
   "metadata": {},
   "source": [
    "## T_rad and W\n",
    "\n",
    "The main way in which the plasma state is updated is by using the ``J`` and ``nu_bar`` estimators??? to update two of the key plasma inputs???: the radiative temperature $T_\\mathrm{rad}$ and dilution factor $W$. Recall??? that each of these quantities takes on a different value in each shell.\n",
    "\n",
    "Using the estimators $J$ and $\\bar \\nu$, we estimate these quantities using\n",
    "\n",
    "$$T_{\\mathrm{rad\\ estimated}} = \\frac{h}{k_{\\mathrm{B}}} \\frac{\\pi^4}{360 \\zeta(5)} \\frac{\\bar \\nu}{J}$$\n",
    "\n",
    "and\n",
    "\n",
    "$$W_\\mathrm{estimated} = \\frac{\\pi J}{\\sigma_{\\mathrm{R}} T_{\\mathrm{rad\\ estimated}}^4}$$\n",
    "\n",
    "where $h$ is Planck's constant, $k_{\\mathrm{B}}$ is Boltzmann's constant, $\\sigma_{\\mathrm{R}}$ is the Stefan–Boltzmann constant, and $\\zeta$ is the Riemann zeta function. The equation for $W$ comes from the fact that the dilution factor is the ratio of the actual mean intensity to that of a blackbody, which is $J_{\\mathrm{blackbody}}=\\frac{\\sigma_{\\mathrm{R}} T^4}{\\pi}$.\n",
    "\n",
    "Recall???, however, that when TARDIS stores these estimators, it leaves out the prefactor of $\\frac{1}{4\\pi V\\Delta t}$ for computational ease. That is, $J=\\frac{1}{4\\pi V\\Delta t}\\sum_i \\varepsilon_i l_i=\\frac{1}{4\\pi V\\Delta t}*\\mathrm{real\\ J\\ estimator}$, and $\\bar \\nu=\\frac{1}{4\\pi V\\Delta t}\\sum_i \\varepsilon_i \\nu_i l_i=\\frac{1}{4\\pi V\\Delta t}*\\mathrm{real\\ nu\\_ bar\\ estimator}$. These factors are then included in our calculations; specifically, using the previous relations we have\n",
    "\n",
    "$$T_\\mathrm{rad\\ estimated}= \\frac{h}{k_{\\mathrm{B}}} \\frac{\\pi^4}{360 \\zeta(5)} \\frac{\\sum_i \\varepsilon_i \\nu_i l_i}{\\sum_i \\varepsilon_i l_i} = \\frac{h}{k_{\\mathrm{B}}} \\frac{\\pi^4}{360 \\zeta(5)} \\frac{\\mathrm{real\\ nu\\_ bar\\ estimator}}{\\mathrm{real\\ J\\ estimator}}$$\n",
    "and\n",
    "$$W_\\mathrm{estimated} = \\frac{\\sum_i \\varepsilon_i l_i}{4\\sigma_{\\mathrm{R}} T_{\\mathrm{rad\\ estimated}}^4V\\Delta t} = \\frac{\\mathrm{real\\ J\\ estimator}}{4\\sigma_{\\mathrm{R}} T_{\\mathrm{rad\\ estimated}}^4V\\Delta t}.$$\n",
    "\n",
    "While TARDIS can then update the plasma state using the estimated values, there is a good chance that these estimated values would “overshoot” the true value we want to converge to (for example, if the current value of the dilution factor in some cell the dilution factor is .4, and the true steady-state value TARDIS wants to find is .45, there is a good chance that the estimated value will be greater than .45). This could make the simulation take longer to converge or, at worst, make it so the simulation does not converge at all. To account for this, users can set (in the convergence configuration) a \"damping constant\" for both the radiative temperature ($d_{T_\\mathrm{rad}}$) and the dilution factor ($d_W$). When ``advance_state`` is called, these quantities update as follows:\n",
    "\n",
    "$$T_\\mathrm{rad\\ updated} = T_\\mathrm{rad\\ current} + d_{T_\\mathrm{rad}}(T_\\mathrm{rad\\ estimated}-T_\\mathrm{rad\\ current})$$\n",
    "    \n",
    "and\n",
    "    \n",
    "$$ W_\\mathrm{updated} = W_\\mathrm{current} + d_W(W_\\mathrm{estimated}-W_\\mathrm{current}).$$\n",
    "\n",
    "This means, for example, if the damping constant is .5, the updated value is halfway between the current value and the estimated value. If the damping constant is .7, the updated value is 70% of the way between the current value and the estimated value, and so on. **If the damping constant is 1, then the updated value is exactly the estimated value, and if the damping constant is zero, the value stays the same throughout the simulation and is not updated.**\n",
    "\n",
    "The updated $T_\\mathrm{rad}$ and $W$ are then used as inputs to the updated [plasma calculations](../setup/plasma/index.rst) which account for the effect of the Monte Carlo packets on the plasma state."
   ]
  },
  {
   "cell_type": "markdown",
   "id": "f346fb77",
   "metadata": {},
   "source": [
    "## T_inner\n",
    "\n",
    "The temperature of the inner boundary, $T_\\mathrm{inner}$, plays a unique role in the simulation, as it is the primary determiner of the output luminosity. This is because the the luminosity of the inner boundary is proportional to $T_\\mathrm{inner}^4$ (see [Energy Packet Initialization](../montecarlo/initialization.ipynb)). Thus, $T_\\mathrm{inner}$ is updated throughout the simulation in order to match the output luminosity to the requested luminosity specified in the [supernova configuration](../../io/configuration/components/supernova.rst) between the bounds specified in the supernova configuration. However, there is not necessarily a quartic relationship between $T_\\mathrm{inner}$ and the output luminosity, as changing $T_\\mathrm{inner}$ also changes the frequency distribution of the initialized packets (once again see [Energy Packet Initialization](../montecarlo/initialization.ipynb)). This then affects the light-matter interactions, affecting which packets make it to the outer boundary, which also affects the output luminosity. Because of this, there is not an exact way to estimate $T_\\mathrm{inner}$. To do this estimation, we use\n",
    "\n",
    "$$T_\\mathrm{inner\\ estimated} = T_\\mathrm{inner\\ current} * \\left(\\frac{L_\\mathrm{output}}{L_\\mathrm{requested}}\\right)^{\\mathrm{t\\_inner\\_update\\_exponent}}$$\n",
    "    \n",
    "where $L_\\mathrm{output}$ is the output luminosity calculated by adding up the luminosity of each packet (see [Basic Spectrum Generation](../spectrum/basic.ipynb)) between the bounds specified in the [supernova configuration](../../io/configuration/components/supernova.rst), $L_\\mathrm{requested}$ is the luminosity requested also in the supernova configuration (requested between those bounds previously mentioned), and ``t_inner_update_exponent`` is provided by the user in the convergence configuration. Note that what we are doing is \"correcting\" the previous value of the inner temperature by a factor of $\\left(\\frac{L_\\mathrm{output}}{L_\\mathrm{requested}}\\right)^{\\mathrm{t\\_inner\\_update\\_exponent}}$. Note that if $\\frac{L_\\mathrm{output}}{L_\\mathrm{requested}}$ is greater than 1, we want to lower $T_\\mathrm{inner}$ as the output luminosity is too high, and vice versa if the ratio is less than 1. Thus ``t_inner_update_exponent`` should be negative. Naively one might set ``t_inner_update_exponent=-0.25``, however as a default TARDIS uses ``t_inner_update_exponent=-0.5`` as -0.25 may undershoot the correct $T_\\mathrm{inner}$ because of its previously mentioned effects on the initial frequency distribution.\n",
    "\n",
    "After calculating the estimated $T_\\mathrm{inner}$, the quantity is updated using damped convergence with its own damping constant (once again set in the convergence configuration):\n",
    "\n",
    "$$T_\\mathrm{inner\\ updated} = T_\\mathrm{inner\\ current} + d_{T_\\mathrm{inner}}(T_\\mathrm{inner\\ estimated}-T_\\mathrm{inner\\ current}).$$\n",
    "\n",
    "Once again, If the damping constant is 1, then the updated value is exactly the estimated value, and if the damping constant is zero, the value stays the same throughout the simulation and is not updated.\n",
    "\n",
    "Additionally, because of the vast impact of $T_\\mathrm{inner}$ on the simulation, one may want to update it less frequently -- i.e. allow $W$ and $T_\\mathrm{rad}$ to reach a steady-state value for a particular $T_\\mathrm{inner}$ before updating $T_\\mathrm{inner}$. To do this, in the convergence configuration we set ``lock_t_inner_cycles``, which is the number of iterations to wait before updating $T_\\mathrm{inner}$. It is set to 1 by default, meaning $T_\\mathrm{inner}$ would be updated every iteration."
   ]
  },
  {
   "cell_type": "markdown",
   "id": "9a3bee0e",
   "metadata": {},
   "source": [
    "## Convergence Information\n",
    "\n",
    "During the simulation, information about the how $T_\\mathrm{rad}$, $W$, and $T_\\mathrm{inner}$ are updated as well as a comparison of the total output luminosity and the requested luminosity are logged at the INFO level (see [Configuring the Logging Output for TARDIS](../../io/optional/logging_configuration.ipynb)) as shown in the code below, to give users a better idea of how the convergence process is working.\n",
    "\n",
    "In addition, TARDIS allows for the displaying of convergence plots, which allows users to visualize the convergence process for $T_\\mathrm{rad}$, $W$, $T_\\mathrm{inner}$, and the total luminosity of the supernova being modeled. For more information, see [Convergence Plots](../../io/visualization/convergence_plot.ipynb)."
   ]
  },
  {
   "cell_type": "markdown",
   "id": "3bc752ec",
   "metadata": {},
   "source": [
    "## Convergence Criteria\n",
    "\n",
    "TARDIS also allows users to stop the simulation if the simulation reaches a certain level of convergence, which is checked upon the call of the ``advance_state`` method. To enable this, users must set ``stop_if_converged=True`` in the convergence configuration. Also in the configuration, the quantities ``hold_iterations``, ``threshold``, and ``fraction`` are be specified to determine convergence as follows:\n",
    "\n",
    "For the simulation to be considered to have converged, for ``hold_iterations`` successive iterations, the estimated values of $T_\\mathrm{rad}$, $W$, and $T_\\mathrm{inner}$ may differ from the previous value by a fraction of at most ``threshold`` in at least ``fraction`` fraction of the shells (for $T_\\mathrm{inner}$, since there is only one value, the ``fraction`` part does not apply). For example, if ``hold_iterations=3``, ``threshold=0.05`` for all three quantities, and ``fraction=.8``, the simulation will be considered to have converged if for 3 successive iterations the estimated values of $T_\\mathrm{rad}$ and $W$ differ from the current respective values by at most 5% in at least 80% of the shells, *and* the estimated $T_\\mathrm{inner}$ differs by at most 5%. See the [convergence configuration schema](../../io/configuration/components/montecarlo.rst#damped-convergence-strategy) for default values of these quantities.\n",
    "\n",
    "<div class=\"alert alert-info\">\n",
    "\n",
    "Note\n",
    "    \n",
    "To determine convergence, we compare the estimated value, **not** the updated value (which is related to the estimated value via the damping constant), with the previous value. If $T_\\mathrm{inner}$ is locked (see the previous section), the estimated value will still be calculated so convergence can be checked as usual.\n",
    "\n",
    "</div>\n",
    "\n",
    "<div class=\"alert alert-info\">\n",
    "\n",
    "Note\n",
    "    \n",
    "``hold_iterations`` and ``fraction`` are universal quantities, i.e. they are each a single value that applies to $T_\\mathrm{rad}$ and $W$, and for ``hold_iterations`` also $T_\\mathrm{inner}$. ``threshold``, on the other hand, is supplied for each quantity separately, so for instance you could require $T_\\mathrm{rad}$ to differ by less than 1%, $W$ to differ by less than 3%, and $T_\\mathrm{inner}$ to differ by less than 5% for convergence to be reached.\n",
    "\n",
    "</div>\n",
    "\n",
    "\n",
    "## Updating Other Quantities\n",
    "\n",
    "Other quantities in the plasma state can depend on other estimators. Currently, this is only implemented for the ``J_blue`` estimator: If ``radiative_rates_type`` in the [plasma configuration](../../io/configuration/components/plasma.rst) is set to ``detailed``, the `J_blue` plasma property will will be replaced with the value of the $J^b_{lu}$ estimator??? (the raw estimator times the factor of $\\frac{ct_\\mathrm{explosion}}{4\\pi V \\Delta t}$, once again see ???), which would then affect other plasma properties that depend on the `J_blue` values (see ???). Otherwise, the `J_blue` values in the plasma are calculated as they typically are in the plasma calculations, and the $J^b_{lu}$ estimator is only used for the [formal integral](../spectrum/formal_integral.rst). Even in the former case, while the estimator does contribute to the updating of the plasma when the ``advance_state`` method is called, it does **not** contribute to the determination of if the simulation has converged, and it does **not** show up in the convergence logging or convergence plots."
   ]
  },
  {
   "cell_type": "markdown",
   "id": "127746c2",
   "metadata": {},
   "source": [
    "## Code Example\n",
    "\n",
    "We now show a detailed example of how the plasma is updated using the estimators after a Monte Carlo iteration. First, we import the needed packages and set up a simulation (see [Setting Up the Simulation](../setup/index.rst)):"
   ]
  },
  {
   "cell_type": "code",
   "execution_count": 1,
   "id": "7a8bd905",
   "metadata": {
    "execution": {
     "iopub.execute_input": "2022-07-31T02:33:44.736961Z",
     "iopub.status.busy": "2022-07-31T02:33:44.736439Z",
     "iopub.status.idle": "2022-07-31T02:33:52.738547Z",
     "shell.execute_reply": "2022-07-31T02:33:52.737795Z"
    }
   },
   "outputs": [
    {
     "name": "stderr",
     "output_type": "stream",
     "text": [
      "/usr/share/miniconda3/envs/tardis/lib/python3.8/site-packages/setuptools_scm/git.py:135: UserWarning: \"/home/runner/work/tardis/tardis\" is shallow and may cause errors\n",
      "  warnings.warn(f'\"{wd.path}\" is shallow and may cause errors')\n"
     ]
    },
    {
     "data": {
      "application/vnd.jupyter.widget-view+json": {
       "model_id": "be1c26bef1a54c32b6e5659a122db763",
       "version_major": 2,
       "version_minor": 0
      },
      "text/plain": [
       "Iterations:          0/? [00:00<?, ?it/s]"
      ]
     },
     "metadata": {},
     "output_type": "display_data"
    },
    {
     "data": {
      "application/vnd.jupyter.widget-view+json": {
       "model_id": "681a8852ff0b4e2b9f9615d4d28b0404",
       "version_major": 2,
       "version_minor": 0
      },
      "text/plain": [
       "Packets:             0/? [00:00<?, ?it/s]"
      ]
     },
     "metadata": {},
     "output_type": "display_data"
    }
   ],
   "source": [
    "from tardis.io.config_reader import Configuration\n",
    "from tardis.simulation import Simulation\n",
    "from tardis.io.atom_data.util import download_atom_data\n",
    "import numpy as np\n",
    "from scipy.special import zeta\n",
    "\n",
    "from astropy import units as u, constants as const\n",
    "\n",
    "# We download the atomic data needed to run this notebook\n",
    "download_atom_data('kurucz_cd23_chianti_H_He')"
   ]
  },
  {
   "cell_type": "code",
   "execution_count": 2,
   "id": "259a7aa9",
   "metadata": {
    "execution": {
     "iopub.execute_input": "2022-07-31T02:33:52.742821Z",
     "iopub.status.busy": "2022-07-31T02:33:52.742358Z",
     "iopub.status.idle": "2022-07-31T02:33:52.888628Z",
     "shell.execute_reply": "2022-07-31T02:33:52.888130Z"
    }
   },
   "outputs": [],
   "source": [
    "tardis_config = Configuration.from_yaml('tardis_example.yml')\n",
    "\n",
    "# We manually put in the damping constants and t_inner_update_exponent for\n",
    "# illustrative purposes:\n",
    "d_t_rad = .5\n",
    "d_w = .3\n",
    "d_t_inner = .7\n",
    "t_inner_update_exponent = -.5\n",
    "\n",
    "# We set the above values into the configuration:\n",
    "tardis_config.montecarlo.convergence_strategy.t_rad.damping_constant = d_t_rad\n",
    "tardis_config.montecarlo.convergence_strategy.w.damping_constant = d_w\n",
    "tardis_config.montecarlo.convergence_strategy.t_inner.damping_constant = d_t_inner\n",
    "tardis_config.montecarlo.convergence_strategy.t_inner_update_exponent = t_inner_update_exponent"
   ]
  },
  {
   "cell_type": "code",
   "execution_count": 3,
   "id": "bb37402c",
   "metadata": {
    "execution": {
     "iopub.execute_input": "2022-07-31T02:33:52.893556Z",
     "iopub.status.busy": "2022-07-31T02:33:52.892298Z",
     "iopub.status.idle": "2022-07-31T02:33:56.368000Z",
     "shell.execute_reply": "2022-07-31T02:33:56.367347Z"
    }
   },
   "outputs": [
    {
     "name": "stderr",
     "output_type": "stream",
     "text": [
      "/home/runner/work/tardis/tardis/tardis/plasma/properties/radiative_properties.py:93: RuntimeWarning: invalid value encountered in true_divide\n",
      "  (g_lower * n_upper) / (g_upper * n_lower)\n"
     ]
    },
    {
     "name": "stderr",
     "output_type": "stream",
     "text": [
      "/home/runner/work/tardis/tardis/tardis/plasma/properties/radiative_properties.py:93: RuntimeWarning: invalid value encountered in true_divide\n",
      "  (g_lower * n_upper) / (g_upper * n_lower)\n"
     ]
    }
   ],
   "source": [
    "sim = Simulation.from_config(tardis_config)\n",
    "\n",
    "model = sim.model\n",
    "plasma = sim.plasma\n",
    "runner = sim.runner"
   ]
  },
  {
   "cell_type": "markdown",
   "id": "cf13d946",
   "metadata": {},
   "source": [
    "We show the initial radiative temperature, dilution factor, electron densities, and tau sobolevs in each shell:"
   ]
  },
  {
   "cell_type": "code",
   "execution_count": 4,
   "id": "e3f43f93",
   "metadata": {
    "execution": {
     "iopub.execute_input": "2022-07-31T02:33:56.372661Z",
     "iopub.status.busy": "2022-07-31T02:33:56.372224Z",
     "iopub.status.idle": "2022-07-31T02:33:56.384810Z",
     "shell.execute_reply": "2022-07-31T02:33:56.384257Z"
    }
   },
   "outputs": [
    {
     "data": {
      "text/latex": [
       "$[9926.502,~9911.6354,~9896.8133,~9882.0354,~9867.3016,~9852.6117,~9837.9654,~9823.3627,~9808.8032,~9794.2868,~9779.8133,~9765.3825,~9750.9943,~9736.6484,~9722.3446,~9708.0828,~9693.8628,~9679.6844,~9665.5474,~9651.4516] \\; \\mathrm{K}$"
      ],
      "text/plain": [
       "<Quantity [9926.50196546, 9911.63537753, 9896.81325339, 9882.03539385,\n",
       "           9867.30160093, 9852.6116778 , 9837.96542884, 9823.36265956,\n",
       "           9808.80317663, 9794.28678787, 9779.81330223, 9765.3825298 ,\n",
       "           9750.99428177, 9736.64837045, 9722.34460927, 9708.08281272,\n",
       "           9693.8627964 , 9679.68437699, 9665.54737223, 9651.45160094] K>"
      ]
     },
     "execution_count": 4,
     "metadata": {},
     "output_type": "execute_result"
    }
   ],
   "source": [
    "model.t_rad"
   ]
  },
  {
   "cell_type": "code",
   "execution_count": 5,
   "id": "90bb6147",
   "metadata": {
    "execution": {
     "iopub.execute_input": "2022-07-31T02:33:56.388585Z",
     "iopub.status.busy": "2022-07-31T02:33:56.388087Z",
     "iopub.status.idle": "2022-07-31T02:33:56.394933Z",
     "shell.execute_reply": "2022-07-31T02:33:56.394351Z"
    }
   },
   "outputs": [
    {
     "data": {
      "text/plain": [
       "array([0.40039164, 0.33245223, 0.28966798, 0.2577141 , 0.23224568,\n",
       "       0.21120466, 0.19341188, 0.17811402, 0.16479446, 0.1530809 ,\n",
       "       0.14269498, 0.13342262, 0.12509541, 0.11757849, 0.11076215,\n",
       "       0.10455605, 0.09888494, 0.09368554, 0.08890421, 0.08449514])"
      ]
     },
     "execution_count": 5,
     "metadata": {},
     "output_type": "execute_result"
    }
   ],
   "source": [
    "model.w"
   ]
  },
  {
   "cell_type": "code",
   "execution_count": 6,
   "id": "66209ff7",
   "metadata": {
    "execution": {
     "iopub.execute_input": "2022-07-31T02:33:56.398650Z",
     "iopub.status.busy": "2022-07-31T02:33:56.398188Z",
     "iopub.status.idle": "2022-07-31T02:33:56.404879Z",
     "shell.execute_reply": "2022-07-31T02:33:56.404331Z"
    }
   },
   "outputs": [
    {
     "data": {
      "text/latex": [
       "$9933.952 \\; \\mathrm{K}$"
      ],
      "text/plain": [
       "<Quantity 9933.95199592 K>"
      ]
     },
     "execution_count": 6,
     "metadata": {},
     "output_type": "execute_result"
    }
   ],
   "source": [
    "model.t_inner"
   ]
  },
  {
   "cell_type": "code",
   "execution_count": 7,
   "id": "7b2ae7b4",
   "metadata": {
    "execution": {
     "iopub.execute_input": "2022-07-31T02:33:56.409332Z",
     "iopub.status.busy": "2022-07-31T02:33:56.407953Z",
     "iopub.status.idle": "2022-07-31T02:33:56.415680Z",
     "shell.execute_reply": "2022-07-31T02:33:56.415161Z"
    }
   },
   "outputs": [
    {
     "data": {
      "text/plain": [
       "0     2.865134e+09\n",
       "1     2.182365e+09\n",
       "2     1.678840e+09\n",
       "3     1.303472e+09\n",
       "4     1.020811e+09\n",
       "5     8.059447e+08\n",
       "6     6.411609e+08\n",
       "7     5.137297e+08\n",
       "8     4.144079e+08\n",
       "9     3.364195e+08\n",
       "10    2.747519e+08\n",
       "11    2.256656e+08\n",
       "12    1.863476e+08\n",
       "13    1.546660e+08\n",
       "14    1.289928e+08\n",
       "15    1.080764e+08\n",
       "16    9.094799e+07\n",
       "17    7.685317e+07\n",
       "18    6.520063e+07\n",
       "19    5.552442e+07\n",
       "dtype: float64"
      ]
     },
     "execution_count": 7,
     "metadata": {},
     "output_type": "execute_result"
    }
   ],
   "source": [
    "plasma.electron_densities"
   ]
  },
  {
   "cell_type": "markdown",
   "id": "a248ff2c",
   "metadata": {},
   "source": [
    "We set the number of packets and we run one iteration of the Monte Carlo simulation:"
   ]
  },
  {
   "cell_type": "code",
   "execution_count": 8,
   "id": "9f7eb44f",
   "metadata": {
    "execution": {
     "iopub.execute_input": "2022-07-31T02:33:56.419221Z",
     "iopub.status.busy": "2022-07-31T02:33:56.418821Z",
     "iopub.status.idle": "2022-07-31T02:34:22.183967Z",
     "shell.execute_reply": "2022-07-31T02:34:22.183319Z"
    },
    "scrolled": true
   },
   "outputs": [
    {
     "data": {
      "application/vnd.jupyter.widget-view+json": {
       "model_id": "ce55f7f92ee347a4b983e962bdec7b13",
       "version_major": 2,
       "version_minor": 0
      },
      "text/plain": [
       "TqdmHBox(children=(HTML(value='Iterations:', layout=Layout(width='6%')), FloatProgress(value=0.0, layout=Layou…"
      ]
     },
     "metadata": {},
     "output_type": "display_data"
    },
    {
     "data": {
      "application/vnd.jupyter.widget-view+json": {
       "model_id": "51661dba452549fb9048cd0b8c1c868d",
       "version_major": 2,
       "version_minor": 0
      },
      "text/plain": [
       "TqdmHBox(children=(HTML(value='Packets:   ', layout=Layout(width='6%')), FloatProgress(value=0.0, layout=Layou…"
      ]
     },
     "metadata": {},
     "output_type": "display_data"
    }
   ],
   "source": [
    "N_packets = 10000\n",
    "\n",
    "# Using the commented out code below, we can also get the number of packets\n",
    "# from the configuration -- try it out:\n",
    "#N_packets = tardis_config.montecarlo.no_of_packets\n",
    "\n",
    "sim.iterate(N_packets)"
   ]
  },
  {
   "cell_type": "markdown",
   "id": "d3d0074d",
   "metadata": {},
   "source": [
    "We now show the values of the three estimators previously mentioned (note that these are the raw estimators, and the factors of $\\frac{1}{4\\pi V \\Delta t}$ etc are not included):"
   ]
  },
  {
   "cell_type": "code",
   "execution_count": 9,
   "id": "21500ea8",
   "metadata": {
    "execution": {
     "iopub.execute_input": "2022-07-31T02:34:22.188882Z",
     "iopub.status.busy": "2022-07-31T02:34:22.187794Z",
     "iopub.status.idle": "2022-07-31T02:34:22.194829Z",
     "shell.execute_reply": "2022-07-31T02:34:22.194236Z"
    },
    "scrolled": false
   },
   "outputs": [
    {
     "data": {
      "text/plain": [
       "array([1.13264880e+14, 9.80619708e+13, 8.77127720e+13, 7.93178023e+13,\n",
       "       7.33452674e+13, 6.69288783e+13, 6.42825236e+13, 6.09589567e+13,\n",
       "       5.76244911e+13, 5.49744149e+13, 5.27742170e+13, 5.11516006e+13,\n",
       "       4.94278177e+13, 4.78690453e+13, 4.66549201e+13, 4.55199706e+13,\n",
       "       4.46151244e+13, 4.38293494e+13, 4.31417403e+13, 4.22137375e+13])"
      ]
     },
     "execution_count": 9,
     "metadata": {},
     "output_type": "execute_result"
    }
   ],
   "source": [
    "runner.j_estimator"
   ]
  },
  {
   "cell_type": "code",
   "execution_count": 10,
   "id": "fac91ee2",
   "metadata": {
    "execution": {
     "iopub.execute_input": "2022-07-31T02:34:22.199558Z",
     "iopub.status.busy": "2022-07-31T02:34:22.198411Z",
     "iopub.status.idle": "2022-07-31T02:34:22.205343Z",
     "shell.execute_reply": "2022-07-31T02:34:22.204829Z"
    },
    "scrolled": true
   },
   "outputs": [
    {
     "data": {
      "text/plain": [
       "array([9.23669721e+28, 8.00440961e+28, 7.16701149e+28, 6.52233231e+28,\n",
       "       6.04286574e+28, 5.48759864e+28, 5.29893354e+28, 5.02177670e+28,\n",
       "       4.72808091e+28, 4.50654639e+28, 4.30918375e+28, 4.12731776e+28,\n",
       "       3.97685768e+28, 3.81488727e+28, 3.68151763e+28, 3.55929590e+28,\n",
       "       3.46700820e+28, 3.38472442e+28, 3.32955181e+28, 3.24241018e+28])"
      ]
     },
     "execution_count": 10,
     "metadata": {},
     "output_type": "execute_result"
    }
   ],
   "source": [
    "runner.nu_bar_estimator"
   ]
  },
  {
   "cell_type": "code",
   "execution_count": 11,
   "id": "9500e34b",
   "metadata": {
    "execution": {
     "iopub.execute_input": "2022-07-31T02:34:22.209635Z",
     "iopub.status.busy": "2022-07-31T02:34:22.208560Z",
     "iopub.status.idle": "2022-07-31T02:34:22.218433Z",
     "shell.execute_reply": "2022-07-31T02:34:22.217910Z"
    }
   },
   "outputs": [
    {
     "data": {
      "text/latex": [
       "$[9.4551879 \\times 10^{10},~7.567263 \\times 10^{10},~6.2755999 \\times 10^{10},~5.2761131 \\times 10^{10},~4.5475679 \\times 10^{10},~3.8772285 \\times 10^{10},~3.4871487 \\times 10^{10},~3.1030738 \\times 10^{10},~2.7579736 \\times 10^{10},~2.4784064 \\times 10^{10},~2.2450014 \\times 10^{10},~2.0565932 \\times 10^{10},~1.8811671 \\times 10^{10},~1.727086 \\times 10^{10},~1.5979504 \\times 10^{10},~1.4819967 \\times 10^{10},~1.3824559 \\times 10^{10},~1.2941252 \\times 10^{10},~1.2151917 \\times 10^{10},~1.1355541 \\times 10^{10}] \\; \\mathrm{\\frac{1}{s\\,cm^{3}}}$"
      ],
      "text/plain": [
       "<Quantity [9.45518792e+10, 7.56726301e+10, 6.27559991e+10, 5.27611308e+10,\n",
       "           4.54756787e+10, 3.87722846e+10, 3.48714873e+10, 3.10307383e+10,\n",
       "           2.75797363e+10, 2.47840640e+10, 2.24500135e+10, 2.05659319e+10,\n",
       "           1.88116707e+10, 1.72708598e+10, 1.59795038e+10, 1.48199674e+10,\n",
       "           1.38245589e+10, 1.29412518e+10, 1.21519167e+10, 1.13555411e+10] 1 / (cm3 s)>"
      ]
     },
     "execution_count": 11,
     "metadata": {},
     "output_type": "execute_result"
    }
   ],
   "source": [
    "prefactor = 1 / (4 * np.pi * model.volume * runner.calculate_time_of_simulation(model))\n",
    "J = prefactor * runner.j_estimator\n",
    "J"
   ]
  },
  {
   "cell_type": "code",
   "execution_count": 12,
   "id": "a5720987",
   "metadata": {
    "execution": {
     "iopub.execute_input": "2022-07-31T02:34:22.223092Z",
     "iopub.status.busy": "2022-07-31T02:34:22.221926Z",
     "iopub.status.idle": "2022-07-31T02:34:22.229026Z",
     "shell.execute_reply": "2022-07-31T02:34:22.228584Z"
    }
   },
   "outputs": [
    {
     "data": {
      "text/latex": [
       "$[7.7106609 \\times 10^{25},~6.1768566 \\times 10^{25},~5.1277933 \\times 10^{25},~4.3385674 \\times 10^{25},~3.7467096 \\times 10^{25},~3.1789975 \\times 10^{25},~2.8745246 \\times 10^{25},~2.5563009 \\times 10^{25},~2.2629132 \\times 10^{25},~2.0316821 \\times 10^{25},~1.8331155 \\times 10^{25},~1.6594229 \\times 10^{25},~1.5135472 \\times 10^{25},~1.3763881 \\times 10^{25},~1.2609351 \\times 10^{25},~1.1588024 \\times 10^{25},~1.0742962 \\times 10^{25},~9.9938903 \\times 10^{24},~9.3784896 \\times 10^{24},~8.7221185 \\times 10^{24}] \\; \\mathrm{\\frac{1}{s\\,cm^{3}}}$"
      ],
      "text/plain": [
       "<Quantity [7.71066085e+25, 6.17685656e+25, 5.12779333e+25, 4.33856736e+25,\n",
       "           3.74670964e+25, 3.17899750e+25, 2.87452457e+25, 2.55630094e+25,\n",
       "           2.26291325e+25, 2.03168209e+25, 1.83311547e+25, 1.65942287e+25,\n",
       "           1.51354724e+25, 1.37638808e+25, 1.26093507e+25, 1.15880235e+25,\n",
       "           1.07429621e+25, 9.99389027e+24, 9.37848961e+24, 8.72211852e+24] 1 / (cm3 s)>"
      ]
     },
     "execution_count": 12,
     "metadata": {},
     "output_type": "execute_result"
    }
   ],
   "source": [
    "nu_bar = prefactor * runner.nu_bar_estimator\n",
    "nu_bar"
   ]
  },
  {
   "cell_type": "code",
   "execution_count": 13,
   "id": "691cf2f6",
   "metadata": {
    "execution": {
     "iopub.execute_input": "2022-07-31T02:34:22.233258Z",
     "iopub.status.busy": "2022-07-31T02:34:22.232118Z",
     "iopub.status.idle": "2022-07-31T02:34:22.239244Z",
     "shell.execute_reply": "2022-07-31T02:34:22.238742Z"
    }
   },
   "outputs": [
    {
     "data": {
      "text/latex": [
       "$[8.1549525 \\times 10^{14},~8.1626032 \\times 10^{14},~8.171001 \\times 10^{14},~8.2230371 \\times 10^{14},~8.2389307 \\times 10^{14},~8.1991493 \\times 10^{14},~8.2431946 \\times 10^{14},~8.2379637 \\times 10^{14},~8.2049851 \\times 10^{14},~8.1975341 \\times 10^{14},~8.1653201 \\times 10^{14},~8.0687949 \\times 10^{14},~8.0457885 \\times 10^{14},~7.9694242 \\times 10^{14},~7.8909526 \\times 10^{14},~7.8191964 \\times 10^{14},~7.7709258 \\times 10^{14},~7.7225066 \\times 10^{14},~7.717704 \\times 10^{14},~7.6809361 \\times 10^{14}] \\; \\mathrm{}$"
      ],
      "text/plain": [
       "<Quantity [8.15495252e+14, 8.16260325e+14, 8.17100102e+14, 8.22303711e+14,\n",
       "           8.23893068e+14, 8.19914928e+14, 8.24319463e+14, 8.23796366e+14,\n",
       "           8.20498509e+14, 8.19753407e+14, 8.16532010e+14, 8.06879493e+14,\n",
       "           8.04578852e+14, 7.96942416e+14, 7.89095260e+14, 7.81919640e+14,\n",
       "           7.77092577e+14, 7.72250664e+14, 7.71770398e+14, 7.68093605e+14]>"
      ]
     },
     "execution_count": 13,
     "metadata": {},
     "output_type": "execute_result"
    }
   ],
   "source": [
    "nu_bar/J"
   ]
  },
  {
   "cell_type": "code",
   "execution_count": 14,
   "id": "50c639ea",
   "metadata": {
    "execution": {
     "iopub.execute_input": "2022-07-31T02:34:22.243365Z",
     "iopub.status.busy": "2022-07-31T02:34:22.242275Z",
     "iopub.status.idle": "2022-07-31T02:34:22.250204Z",
     "shell.execute_reply": "2022-07-31T02:34:22.249685Z"
    }
   },
   "outputs": [
    {
     "data": {
      "text/latex": [
       "$[10212.753,~10222.334,~10232.851,~10298.018,~10317.922,~10268.102,~10323.262,~10316.711,~10275.41,~10266.079,~10225.736,~10104.854,~10076.043,~9980.4086,~9882.1358,~9792.2728,~9731.8217,~9671.1846,~9665.17,~9619.1242] \\; \\mathrm{K\\,s}$"
      ],
      "text/plain": [
       "<Quantity [10212.75275146, 10222.33404753, 10232.85089092, 10298.01763651,\n",
       "           10317.92175646, 10268.10201688, 10323.26166378, 10316.71071495,\n",
       "           10275.4104165 , 10266.07922661, 10225.73647129, 10104.85437906,\n",
       "           10076.04258982,  9980.40864261,  9882.13576533,  9792.27278261,\n",
       "            9731.8216644 ,  9671.18456832,  9665.17002029,  9619.1241619 ] K s>"
      ]
     },
     "execution_count": 14,
     "metadata": {},
     "output_type": "execute_result"
    }
   ],
   "source": [
    "t_rad_estimated = (const.h / const.k_B) * (np.pi**4 / (360 * zeta(5, 1))) * runner.nu_bar_estimator / runner.j_estimator\n",
    "t_rad_estimated"
   ]
  },
  {
   "cell_type": "code",
   "execution_count": 15,
   "id": "b34674df",
   "metadata": {
    "execution": {
     "iopub.execute_input": "2022-07-31T02:34:22.254534Z",
     "iopub.status.busy": "2022-07-31T02:34:22.253359Z",
     "iopub.status.idle": "2022-07-31T02:34:22.260193Z",
     "shell.execute_reply": "2022-07-31T02:34:22.259750Z"
    }
   },
   "outputs": [
    {
     "data": {
      "text/plain": [
       "array([10069.62735846, 10066.98471253, 10064.83207215, 10090.02651518,\n",
       "       10092.61167869, 10060.35684734, 10080.61354631, 10070.03668726,\n",
       "       10042.10679657, 10030.18300724, 10002.77488676,  9935.11845443,\n",
       "        9913.51843579,  9858.52850653,  9802.2401873 ,  9750.17779766,\n",
       "        9712.8422304 ,  9675.43447265,  9665.35869626,  9635.28788142])"
      ]
     },
     "execution_count": 15,
     "metadata": {},
     "output_type": "execute_result"
    }
   ],
   "source": [
    "t_rad_updated = model.t_rad.value + d_t_rad * (t_rad_estimated.value - model.t_rad.value)\n",
    "t_rad_updated"
   ]
  },
  {
   "cell_type": "code",
   "execution_count": 16,
   "id": "b48d8ada",
   "metadata": {
    "execution": {
     "iopub.execute_input": "2022-07-31T02:34:22.264254Z",
     "iopub.status.busy": "2022-07-31T02:34:22.263117Z",
     "iopub.status.idle": "2022-07-31T02:34:22.285681Z",
     "shell.execute_reply": "2022-07-31T02:34:22.285096Z"
    }
   },
   "outputs": [
    {
     "data": {
      "text/latex": [
       "$[0.4815458,~0.38395229,~0.31710812,~0.25991915,~0.22230487,~0.19324105,~0.17011454,~0.15176296,~0.13706675,~0.12362115,~0.11375668,~0.10928659,~0.10111279,~0.096440481,~0.092832218,~0.089300099,~0.085391259,~0.081958935,~0.077151699,~0.073485967] \\; \\mathrm{\\frac{1}{g\\,s^{2}\\,cm^{3}}}$"
      ],
      "text/plain": [
       "<Quantity [0.4815458 , 0.38395229, 0.31710812, 0.25991915, 0.22230487,\n",
       "           0.19324105, 0.17011454, 0.15176296, 0.13706675, 0.12362115,\n",
       "           0.11375668, 0.10928659, 0.10111279, 0.09644048, 0.09283222,\n",
       "           0.0893001 , 0.08539126, 0.08195893, 0.0771517 , 0.07348597] 1 / (cm3 g s2)>"
      ]
     },
     "execution_count": 16,
     "metadata": {},
     "output_type": "execute_result"
    }
   ],
   "source": [
    "w_estimated = runner.j_estimator / (4 * const.sigma_sb.cgs * t_rad_estimated**4 * runner.calculate_time_of_simulation(model) * model.volume)\n",
    "w_estimated"
   ]
  },
  {
   "cell_type": "code",
   "execution_count": 17,
   "id": "22895e09",
   "metadata": {
    "execution": {
     "iopub.execute_input": "2022-07-31T02:34:22.289920Z",
     "iopub.status.busy": "2022-07-31T02:34:22.288842Z",
     "iopub.status.idle": "2022-07-31T02:34:22.295850Z",
     "shell.execute_reply": "2022-07-31T02:34:22.295293Z"
    }
   },
   "outputs": [
    {
     "data": {
      "text/plain": [
       "array([0.42473789, 0.34790225, 0.29790002, 0.25837561, 0.22926344,\n",
       "       0.20581558, 0.18642268, 0.1702087 , 0.15647615, 0.14424298,\n",
       "       0.13401349, 0.12618181, 0.11790062, 0.11123709, 0.10538317,\n",
       "       0.09997927, 0.09483683, 0.09016756, 0.08537846, 0.08119239])"
      ]
     },
     "execution_count": 17,
     "metadata": {},
     "output_type": "execute_result"
    }
   ],
   "source": [
    "w_updated = model.w + d_w * (w_estimated.value - model.w)\n",
    "w_updated"
   ]
  },
  {
   "cell_type": "code",
   "execution_count": 18,
   "id": "795dceb2",
   "metadata": {
    "execution": {
     "iopub.execute_input": "2022-07-31T02:34:22.300357Z",
     "iopub.status.busy": "2022-07-31T02:34:22.299266Z",
     "iopub.status.idle": "2022-07-31T02:34:22.307346Z",
     "shell.execute_reply": "2022-07-31T02:34:22.306841Z"
    }
   },
   "outputs": [
    {
     "data": {
      "text/latex": [
       "$7.9806817 \\times 10^{42} \\; \\mathrm{\\frac{erg}{s}}$"
      ],
      "text/plain": [
       "<Quantity 7.98068173e+42 erg / s>"
      ]
     },
     "execution_count": 18,
     "metadata": {},
     "output_type": "execute_result"
    }
   ],
   "source": [
    "L_output = runner.calculate_emitted_luminosity(0,np.inf)\n",
    "L_output"
   ]
  },
  {
   "cell_type": "code",
   "execution_count": 19,
   "id": "b7028da2",
   "metadata": {
    "execution": {
     "iopub.execute_input": "2022-07-31T02:34:22.311481Z",
     "iopub.status.busy": "2022-07-31T02:34:22.310484Z",
     "iopub.status.idle": "2022-07-31T02:34:22.321170Z",
     "shell.execute_reply": "2022-07-31T02:34:22.320647Z"
    }
   },
   "outputs": [
    {
     "data": {
      "text/latex": [
       "$1.0592764 \\times 10^{43} \\; \\mathrm{\\frac{erg}{s}}$"
      ],
      "text/plain": [
       "<Quantity 1.05927636e+43 erg / s>"
      ]
     },
     "execution_count": 19,
     "metadata": {},
     "output_type": "execute_result"
    }
   ],
   "source": [
    "L_requested = sim.luminosity_requested\n",
    "L_requested"
   ]
  },
  {
   "cell_type": "code",
   "execution_count": 20,
   "id": "4a14111a",
   "metadata": {
    "execution": {
     "iopub.execute_input": "2022-07-31T02:34:22.324152Z",
     "iopub.status.busy": "2022-07-31T02:34:22.323910Z",
     "iopub.status.idle": "2022-07-31T02:34:22.330695Z",
     "shell.execute_reply": "2022-07-31T02:34:22.330199Z"
    }
   },
   "outputs": [
    {
     "data": {
      "text/latex": [
       "$11444.76 \\; \\mathrm{K}$"
      ],
      "text/plain": [
       "<Quantity 11444.76030204 K>"
      ]
     },
     "execution_count": 20,
     "metadata": {},
     "output_type": "execute_result"
    }
   ],
   "source": [
    "t_inner_estimated = model.t_inner * (L_output / L_requested)**t_inner_update_exponent\n",
    "t_inner_estimated"
   ]
  },
  {
   "cell_type": "code",
   "execution_count": 21,
   "id": "8bd1062f",
   "metadata": {
    "execution": {
     "iopub.execute_input": "2022-07-31T02:34:22.334570Z",
     "iopub.status.busy": "2022-07-31T02:34:22.333229Z",
     "iopub.status.idle": "2022-07-31T02:34:22.340248Z",
     "shell.execute_reply": "2022-07-31T02:34:22.339809Z"
    }
   },
   "outputs": [
    {
     "data": {
      "text/latex": [
       "$10991.518 \\; \\mathrm{K}$"
      ],
      "text/plain": [
       "<Quantity 10991.51781021 K>"
      ]
     },
     "execution_count": 21,
     "metadata": {},
     "output_type": "execute_result"
    }
   ],
   "source": [
    "t_inner_updated = model.t_inner + d_t_inner * (t_inner_estimated - model.t_inner)\n",
    "t_inner_updated"
   ]
  },
  {
   "cell_type": "markdown",
   "id": "43b31d2f",
   "metadata": {},
   "source": [
    "We now advance the state of the simulation based on the estimators, and demonstrate this by showing the four quantities we showed before running the simulation. Compare them with their values above!"
   ]
  },
  {
   "cell_type": "code",
   "execution_count": 22,
   "id": "9676b22b",
   "metadata": {
    "execution": {
     "iopub.execute_input": "2022-07-31T02:34:22.343510Z",
     "iopub.status.busy": "2022-07-31T02:34:22.343154Z",
     "iopub.status.idle": "2022-07-31T02:34:22.443772Z",
     "shell.execute_reply": "2022-07-31T02:34:22.443187Z"
    },
    "scrolled": true
   },
   "outputs": [
    {
     "data": {
      "text/html": [
       "<style  type=\"text/css\" >\n",
       "</style><table id=\"T_49388d28_1079_11ed_b735_6045bd007351\" ><thead>    <tr>        <th class=\"index_name level0\" >Shell No.</th>        <th class=\"col_heading level0 col0\" >t_rad</th>        <th class=\"col_heading level0 col1\" >next_t_rad</th>        <th class=\"col_heading level0 col2\" >w</th>        <th class=\"col_heading level0 col3\" >next_w</th>    </tr></thead><tbody>\n",
       "                <tr>\n",
       "                        <th id=\"T_49388d28_1079_11ed_b735_6045bd007351level0_row0\" class=\"row_heading level0 row0\" >0</th>\n",
       "                        <td id=\"T_49388d28_1079_11ed_b735_6045bd007351row0_col0\" class=\"data row0 col0\" >9.93e+03</td>\n",
       "                        <td id=\"T_49388d28_1079_11ed_b735_6045bd007351row0_col1\" class=\"data row0 col1\" >1.01e+04</td>\n",
       "                        <td id=\"T_49388d28_1079_11ed_b735_6045bd007351row0_col2\" class=\"data row0 col2\" >0.4</td>\n",
       "                        <td id=\"T_49388d28_1079_11ed_b735_6045bd007351row0_col3\" class=\"data row0 col3\" >0.425</td>\n",
       "            </tr>\n",
       "            <tr>\n",
       "                        <th id=\"T_49388d28_1079_11ed_b735_6045bd007351level0_row1\" class=\"row_heading level0 row1\" >5</th>\n",
       "                        <td id=\"T_49388d28_1079_11ed_b735_6045bd007351row1_col0\" class=\"data row1 col0\" >9.85e+03</td>\n",
       "                        <td id=\"T_49388d28_1079_11ed_b735_6045bd007351row1_col1\" class=\"data row1 col1\" >1.01e+04</td>\n",
       "                        <td id=\"T_49388d28_1079_11ed_b735_6045bd007351row1_col2\" class=\"data row1 col2\" >0.211</td>\n",
       "                        <td id=\"T_49388d28_1079_11ed_b735_6045bd007351row1_col3\" class=\"data row1 col3\" >0.206</td>\n",
       "            </tr>\n",
       "            <tr>\n",
       "                        <th id=\"T_49388d28_1079_11ed_b735_6045bd007351level0_row2\" class=\"row_heading level0 row2\" >10</th>\n",
       "                        <td id=\"T_49388d28_1079_11ed_b735_6045bd007351row2_col0\" class=\"data row2 col0\" >9.78e+03</td>\n",
       "                        <td id=\"T_49388d28_1079_11ed_b735_6045bd007351row2_col1\" class=\"data row2 col1\" >1e+04</td>\n",
       "                        <td id=\"T_49388d28_1079_11ed_b735_6045bd007351row2_col2\" class=\"data row2 col2\" >0.143</td>\n",
       "                        <td id=\"T_49388d28_1079_11ed_b735_6045bd007351row2_col3\" class=\"data row2 col3\" >0.134</td>\n",
       "            </tr>\n",
       "            <tr>\n",
       "                        <th id=\"T_49388d28_1079_11ed_b735_6045bd007351level0_row3\" class=\"row_heading level0 row3\" >15</th>\n",
       "                        <td id=\"T_49388d28_1079_11ed_b735_6045bd007351row3_col0\" class=\"data row3 col0\" >9.71e+03</td>\n",
       "                        <td id=\"T_49388d28_1079_11ed_b735_6045bd007351row3_col1\" class=\"data row3 col1\" >9.75e+03</td>\n",
       "                        <td id=\"T_49388d28_1079_11ed_b735_6045bd007351row3_col2\" class=\"data row3 col2\" >0.105</td>\n",
       "                        <td id=\"T_49388d28_1079_11ed_b735_6045bd007351row3_col3\" class=\"data row3 col3\" >0.1</td>\n",
       "            </tr>\n",
       "    </tbody></table>"
      ],
      "text/plain": [
       "<pandas.io.formats.style.Styler at 0x7f7684eb1670>"
      ]
     },
     "metadata": {},
     "output_type": "display_data"
    },
    {
     "name": "stderr",
     "output_type": "stream",
     "text": [
      "/home/runner/work/tardis/tardis/tardis/plasma/properties/radiative_properties.py:93: RuntimeWarning: invalid value encountered in true_divide\n",
      "  (g_lower * n_upper) / (g_upper * n_lower)\n"
     ]
    },
    {
     "data": {
      "text/plain": [
       "False"
      ]
     },
     "execution_count": 22,
     "metadata": {},
     "output_type": "execute_result"
    }
   ],
   "source": [
    "# When advance_state is called, a brief summary of the updated t_rad's\n",
    "# and w's is given\n",
    "sim.advance_state()"
   ]
  },
  {
   "cell_type": "code",
   "execution_count": 23,
   "id": "fe0b9f40",
   "metadata": {
    "execution": {
     "iopub.execute_input": "2022-07-31T02:34:22.448543Z",
     "iopub.status.busy": "2022-07-31T02:34:22.447267Z",
     "iopub.status.idle": "2022-07-31T02:34:22.454541Z",
     "shell.execute_reply": "2022-07-31T02:34:22.454066Z"
    }
   },
   "outputs": [
    {
     "data": {
      "text/latex": [
       "$[10069.626,~10066.983,~10064.831,~10090.025,~10092.61,~10060.355,~10080.612,~10070.035,~10042.105,~10030.182,~10002.773,~9935.1171,~9913.5171,~9858.5271,~9802.2388,~9750.1765,~9712.8409,~9675.4331,~9665.3574,~9635.2866] \\; \\mathrm{K}$"
      ],
      "text/plain": [
       "<Quantity [10069.62596067, 10066.98331343, 10064.83067161, 10090.02510572,\n",
       "           10092.6102665 , 10060.35544197, 10080.61213339, 10070.03527523,\n",
       "           10042.1053902 , 10030.18160214, 10002.77348719,  9935.1170714 ,\n",
       "            9913.51705671,  9858.52714054,  9802.23883475,  9750.17645742,\n",
       "            9712.84089843,  9675.43314898,  9665.35737341,  9635.28656487] K>"
      ]
     },
     "execution_count": 23,
     "metadata": {},
     "output_type": "execute_result"
    }
   ],
   "source": [
    "model.t_rad"
   ]
  },
  {
   "cell_type": "code",
   "execution_count": 24,
   "id": "8de89bb2",
   "metadata": {
    "execution": {
     "iopub.execute_input": "2022-07-31T02:34:22.458985Z",
     "iopub.status.busy": "2022-07-31T02:34:22.457882Z",
     "iopub.status.idle": "2022-07-31T02:34:22.464620Z",
     "shell.execute_reply": "2022-07-31T02:34:22.464102Z"
    },
    "scrolled": true
   },
   "outputs": [
    {
     "data": {
      "text/plain": [
       "array([0.42473789, 0.34790225, 0.29790003, 0.25837562, 0.22926344,\n",
       "       0.20581558, 0.18642268, 0.1702087 , 0.15647615, 0.14424298,\n",
       "       0.1340135 , 0.12618181, 0.11790063, 0.11123709, 0.10538317,\n",
       "       0.09997927, 0.09483683, 0.09016756, 0.08537846, 0.08119239])"
      ]
     },
     "execution_count": 24,
     "metadata": {},
     "output_type": "execute_result"
    }
   ],
   "source": [
    "model.w"
   ]
  },
  {
   "cell_type": "code",
   "execution_count": 25,
   "id": "4f78c4fe",
   "metadata": {
    "execution": {
     "iopub.execute_input": "2022-07-31T02:34:22.468950Z",
     "iopub.status.busy": "2022-07-31T02:34:22.467864Z",
     "iopub.status.idle": "2022-07-31T02:34:22.476846Z",
     "shell.execute_reply": "2022-07-31T02:34:22.476288Z"
    }
   },
   "outputs": [
    {
     "data": {
      "text/latex": [
       "$10991.518 \\; \\mathrm{K}$"
      ],
      "text/plain": [
       "<Quantity 10991.51781021 K>"
      ]
     },
     "execution_count": 25,
     "metadata": {},
     "output_type": "execute_result"
    }
   ],
   "source": [
    "model.t_inner"
   ]
  },
  {
   "cell_type": "code",
   "execution_count": 26,
   "id": "fcaf08ff",
   "metadata": {
    "execution": {
     "iopub.execute_input": "2022-07-31T02:34:22.481021Z",
     "iopub.status.busy": "2022-07-31T02:34:22.479971Z",
     "iopub.status.idle": "2022-07-31T02:34:22.487123Z",
     "shell.execute_reply": "2022-07-31T02:34:22.486607Z"
    }
   },
   "outputs": [
    {
     "data": {
      "text/plain": [
       "0     2.879194e+09\n",
       "1     2.192349e+09\n",
       "2     1.686013e+09\n",
       "3     1.309369e+09\n",
       "4     1.025252e+09\n",
       "5     8.089293e+08\n",
       "6     6.437049e+08\n",
       "7     5.156985e+08\n",
       "8     4.158632e+08\n",
       "9     3.375895e+08\n",
       "10    2.756466e+08\n",
       "11    2.262224e+08\n",
       "12    1.867888e+08\n",
       "13    1.549413e+08\n",
       "14    1.291439e+08\n",
       "15    1.081434e+08\n",
       "16    9.097366e+07\n",
       "17    7.684827e+07\n",
       "18    6.520044e+07\n",
       "19    5.551064e+07\n",
       "dtype: float64"
      ]
     },
     "execution_count": 26,
     "metadata": {},
     "output_type": "execute_result"
    }
   ],
   "source": [
    "plasma.electron_densities"
   ]
  }
 ],
 "metadata": {
  "kernelspec": {
   "display_name": "Python 3 (ipykernel)",
   "language": "python",
   "name": "python3"
  },
  "language_info": {
   "codemirror_mode": {
    "name": "ipython",
    "version": 3
   },
   "file_extension": ".py",
   "mimetype": "text/x-python",
   "name": "python",
   "nbconvert_exporter": "python",
   "pygments_lexer": "ipython3",
   "version": "3.8.13"
  },
  "vscode": {
   "interpreter": {
    "hash": "c20eb03b6e6c860a5223c79131a5cfd0b7e61a9aa5d08c2b1400663bc6cc4e6d"
   }
  },
  "widgets": {
   "application/vnd.jupyter.widget-state+json": {
    "state": {
     "0833ba6d949641f698b47e6e75b9fa7b": {
      "model_module": "@jupyter-widgets/controls",
      "model_module_version": "1.5.0",
      "model_name": "DescriptionStyleModel",
      "state": {
       "_model_module": "@jupyter-widgets/controls",
       "_model_module_version": "1.5.0",
       "_model_name": "DescriptionStyleModel",
       "_view_count": null,
       "_view_module": "@jupyter-widgets/base",
       "_view_module_version": "1.2.0",
       "_view_name": "StyleView",
       "description_width": ""
      }
     },
     "091295fa70e2479fb0b3c90e4deabffd": {
      "model_module": "@jupyter-widgets/controls",
      "model_module_version": "1.5.0",
      "model_name": "ProgressStyleModel",
      "state": {
       "_model_module": "@jupyter-widgets/controls",
       "_model_module_version": "1.5.0",
       "_model_name": "ProgressStyleModel",
       "_view_count": null,
       "_view_module": "@jupyter-widgets/base",
       "_view_module_version": "1.2.0",
       "_view_name": "StyleView",
       "bar_color": null,
       "description_width": ""
      }
     },
     "0c51d288082c4f00a58db9bea65323da": {
      "model_module": "@jupyter-widgets/controls",
      "model_module_version": "1.5.0",
      "model_name": "FloatProgressModel",
      "state": {
       "_dom_classes": [],
       "_model_module": "@jupyter-widgets/controls",
       "_model_module_version": "1.5.0",
       "_model_name": "FloatProgressModel",
       "_view_count": null,
       "_view_module": "@jupyter-widgets/controls",
       "_view_module_version": "1.5.0",
       "_view_name": "ProgressView",
       "bar_style": "info",
       "description": "",
       "description_tooltip": null,
       "layout": "IPY_MODEL_5fc9ad2d8efe453e964d1ac87f839a0f",
       "max": 1.0,
       "min": 0.0,
       "orientation": "horizontal",
       "style": "IPY_MODEL_2ebbb07b313d4558b98e80e22420e29f",
       "value": 0.0
      }
     },
     "106ebb5552ed4bf6a302427172cc19f2": {
      "model_module": "@jupyter-widgets/controls",
      "model_module_version": "1.5.0",
      "model_name": "HTMLModel",
      "state": {
       "_dom_classes": [],
       "_model_module": "@jupyter-widgets/controls",
       "_model_module_version": "1.5.0",
       "_model_name": "HTMLModel",
       "_view_count": null,
       "_view_module": "@jupyter-widgets/controls",
       "_view_module_version": "1.5.0",
       "_view_name": "HTMLView",
       "description": "",
       "description_tooltip": null,
       "layout": "IPY_MODEL_27ecd52977b441bc88f41a89618c2f56",
       "placeholder": "​",
       "style": "IPY_MODEL_8e9593327e4945e4a3ec986bb89bc0a1",
       "value": "6953/10000 [00:00&lt;00:00, 69525.59it/s]"
      }
     },
     "12ac54b8f0764a8489819b4804ed34ad": {
      "model_module": "@jupyter-widgets/controls",
      "model_module_version": "1.5.0",
      "model_name": "HTMLModel",
      "state": {
       "_dom_classes": [],
       "_model_module": "@jupyter-widgets/controls",
       "_model_module_version": "1.5.0",
       "_model_name": "HTMLModel",
       "_view_count": null,
       "_view_module": "@jupyter-widgets/controls",
       "_view_module_version": "1.5.0",
       "_view_name": "HTMLView",
       "description": "",
       "description_tooltip": null,
       "layout": "IPY_MODEL_96b3555acbc646d0aa34dca6e2a04537",
       "placeholder": "​",
       "style": "IPY_MODEL_595c32e2f1c241ccafd261be01f38460",
       "value": "0/? [00:00&lt;?, ?it/s]"
      }
     },
     "19989ea5b6ab498cb2b92ad7dde17719": {
      "model_module": "@jupyter-widgets/controls",
      "model_module_version": "1.5.0",
      "model_name": "DescriptionStyleModel",
      "state": {
       "_model_module": "@jupyter-widgets/controls",
       "_model_module_version": "1.5.0",
       "_model_name": "DescriptionStyleModel",
       "_view_count": null,
       "_view_module": "@jupyter-widgets/base",
       "_view_module_version": "1.2.0",
       "_view_name": "StyleView",
       "description_width": ""
      }
     },
     "1ff3fca3eb584337bf0100a00c4c2669": {
      "model_module": "@jupyter-widgets/controls",
      "model_module_version": "1.5.0",
      "model_name": "DescriptionStyleModel",
      "state": {
       "_model_module": "@jupyter-widgets/controls",
       "_model_module_version": "1.5.0",
       "_model_name": "DescriptionStyleModel",
       "_view_count": null,
       "_view_module": "@jupyter-widgets/base",
       "_view_module_version": "1.2.0",
       "_view_name": "StyleView",
       "description_width": ""
      }
     },
     "24f4108421344b129dcede816436210e": {
      "model_module": "@jupyter-widgets/base",
      "model_module_version": "1.2.0",
      "model_name": "LayoutModel",
      "state": {
       "_model_module": "@jupyter-widgets/base",
       "_model_module_version": "1.2.0",
       "_model_name": "LayoutModel",
       "_view_count": null,
       "_view_module": "@jupyter-widgets/base",
       "_view_module_version": "1.2.0",
       "_view_name": "LayoutView",
       "align_content": null,
       "align_items": null,
       "align_self": null,
       "border": null,
       "bottom": null,
       "display": null,
       "flex": null,
       "flex_flow": null,
       "grid_area": null,
       "grid_auto_columns": null,
       "grid_auto_flow": null,
       "grid_auto_rows": null,
       "grid_column": null,
       "grid_gap": null,
       "grid_row": null,
       "grid_template_areas": null,
       "grid_template_columns": null,
       "grid_template_rows": null,
       "height": null,
       "justify_content": null,
       "justify_items": null,
       "left": null,
       "margin": null,
       "max_height": null,
       "max_width": null,
       "min_height": null,
       "min_width": null,
       "object_fit": null,
       "object_position": null,
       "order": null,
       "overflow": null,
       "overflow_x": null,
       "overflow_y": null,
       "padding": null,
       "right": null,
       "top": null,
       "visibility": null,
       "width": null
      }
     },
     "2663d177da13412a8588ba6e1cae922f": {
      "model_module": "@jupyter-widgets/controls",
      "model_module_version": "1.5.0",
      "model_name": "ProgressStyleModel",
      "state": {
       "_model_module": "@jupyter-widgets/controls",
       "_model_module_version": "1.5.0",
       "_model_name": "ProgressStyleModel",
       "_view_count": null,
       "_view_module": "@jupyter-widgets/base",
       "_view_module_version": "1.2.0",
       "_view_name": "StyleView",
       "bar_color": null,
       "description_width": ""
      }
     },
     "27ecd52977b441bc88f41a89618c2f56": {
      "model_module": "@jupyter-widgets/base",
      "model_module_version": "1.2.0",
      "model_name": "LayoutModel",
      "state": {
       "_model_module": "@jupyter-widgets/base",
       "_model_module_version": "1.2.0",
       "_model_name": "LayoutModel",
       "_view_count": null,
       "_view_module": "@jupyter-widgets/base",
       "_view_module_version": "1.2.0",
       "_view_name": "LayoutView",
       "align_content": null,
       "align_items": null,
       "align_self": null,
       "border": null,
       "bottom": null,
       "display": null,
       "flex": null,
       "flex_flow": null,
       "grid_area": null,
       "grid_auto_columns": null,
       "grid_auto_flow": null,
       "grid_auto_rows": null,
       "grid_column": null,
       "grid_gap": null,
       "grid_row": null,
       "grid_template_areas": null,
       "grid_template_columns": null,
       "grid_template_rows": null,
       "height": null,
       "justify_content": null,
       "justify_items": null,
       "left": null,
       "margin": null,
       "max_height": null,
       "max_width": null,
       "min_height": null,
       "min_width": null,
       "object_fit": null,
       "object_position": null,
       "order": null,
       "overflow": null,
       "overflow_x": null,
       "overflow_y": null,
       "padding": null,
       "right": null,
       "top": null,
       "visibility": null,
       "width": null
      }
     },
     "2ebbb07b313d4558b98e80e22420e29f": {
      "model_module": "@jupyter-widgets/controls",
      "model_module_version": "1.5.0",
      "model_name": "ProgressStyleModel",
      "state": {
       "_model_module": "@jupyter-widgets/controls",
       "_model_module_version": "1.5.0",
       "_model_name": "ProgressStyleModel",
       "_view_count": null,
       "_view_module": "@jupyter-widgets/base",
       "_view_module_version": "1.2.0",
       "_view_name": "StyleView",
       "bar_color": null,
       "description_width": ""
      }
     },
     "3b63a5f244024171b659baf00f086e0c": {
      "model_module": "@jupyter-widgets/controls",
      "model_module_version": "1.5.0",
      "model_name": "DescriptionStyleModel",
      "state": {
       "_model_module": "@jupyter-widgets/controls",
       "_model_module_version": "1.5.0",
       "_model_name": "DescriptionStyleModel",
       "_view_count": null,
       "_view_module": "@jupyter-widgets/base",
       "_view_module_version": "1.2.0",
       "_view_name": "StyleView",
       "description_width": ""
      }
     },
     "436f3ce6d4554229a94f150cb70e7879": {
      "model_module": "@jupyter-widgets/controls",
      "model_module_version": "1.5.0",
      "model_name": "HTMLModel",
      "state": {
       "_dom_classes": [],
       "_model_module": "@jupyter-widgets/controls",
       "_model_module_version": "1.5.0",
       "_model_name": "HTMLModel",
       "_view_count": null,
       "_view_module": "@jupyter-widgets/controls",
       "_view_module_version": "1.5.0",
       "_view_name": "HTMLView",
       "description": "",
       "description_tooltip": null,
       "layout": "IPY_MODEL_a3949f151afa447d9b75a1a56b90b28b",
       "placeholder": "​",
       "style": "IPY_MODEL_0833ba6d949641f698b47e6e75b9fa7b",
       "value": "0/? [00:00&lt;?, ?it/s]"
      }
     },
     "45fe81e7b9e34d4f839e7f9b3fdcdc86": {
      "model_module": "@jupyter-widgets/controls",
      "model_module_version": "1.5.0",
      "model_name": "HTMLModel",
      "state": {
       "_dom_classes": [],
       "_model_module": "@jupyter-widgets/controls",
       "_model_module_version": "1.5.0",
       "_model_name": "HTMLModel",
       "_view_count": null,
       "_view_module": "@jupyter-widgets/controls",
       "_view_module_version": "1.5.0",
       "_view_name": "HTMLView",
       "description": "",
       "description_tooltip": null,
       "layout": "IPY_MODEL_8b0bcf19b6ef42ef8915dd3362e5439a",
       "placeholder": "​",
       "style": "IPY_MODEL_3b63a5f244024171b659baf00f086e0c",
       "value": "1/20 [00:00&lt;00:03,  4.97it/s]"
      }
     },
     "4aa5f5d0a121429990a5e339d97fa0d4": {
      "model_module": "@jupyter-widgets/controls",
      "model_module_version": "1.5.0",
      "model_name": "HTMLModel",
      "state": {
       "_dom_classes": [],
       "_model_module": "@jupyter-widgets/controls",
       "_model_module_version": "1.5.0",
       "_model_name": "HTMLModel",
       "_view_count": null,
       "_view_module": "@jupyter-widgets/controls",
       "_view_module_version": "1.5.0",
       "_view_name": "HTMLView",
       "description": "",
       "description_tooltip": null,
       "layout": "IPY_MODEL_5ee3de42031d4924aac583e50627d076",
       "placeholder": "​",
       "style": "IPY_MODEL_711552bfa3a54678a19f3899fc739f5d",
       "value": "Iterations:"
      }
     },
     "51661dba452549fb9048cd0b8c1c868d": {
      "model_module": "@jupyter-widgets/controls",
      "model_module_version": "1.5.0",
      "model_name": "HBoxModel",
      "state": {
       "_dom_classes": [],
       "_model_module": "@jupyter-widgets/controls",
       "_model_module_version": "1.5.0",
       "_model_name": "HBoxModel",
       "_view_count": null,
       "_view_module": "@jupyter-widgets/controls",
       "_view_module_version": "1.5.0",
       "_view_name": "HBoxView",
       "box_style": "",
       "children": [
        "IPY_MODEL_ae976d2ccca840f8880b932ffe8d48e7",
        "IPY_MODEL_967de890086f4be08514807dd0000490",
        "IPY_MODEL_106ebb5552ed4bf6a302427172cc19f2"
       ],
       "layout": "IPY_MODEL_f1cd32c3e8a045a9bb8ab582e9246fce"
      }
     },
     "57369d71992b4a6689264192c584fd26": {
      "model_module": "@jupyter-widgets/controls",
      "model_module_version": "1.5.0",
      "model_name": "DescriptionStyleModel",
      "state": {
       "_model_module": "@jupyter-widgets/controls",
       "_model_module_version": "1.5.0",
       "_model_name": "DescriptionStyleModel",
       "_view_count": null,
       "_view_module": "@jupyter-widgets/base",
       "_view_module_version": "1.2.0",
       "_view_name": "StyleView",
       "description_width": ""
      }
     },
     "595c32e2f1c241ccafd261be01f38460": {
      "model_module": "@jupyter-widgets/controls",
      "model_module_version": "1.5.0",
      "model_name": "DescriptionStyleModel",
      "state": {
       "_model_module": "@jupyter-widgets/controls",
       "_model_module_version": "1.5.0",
       "_model_name": "DescriptionStyleModel",
       "_view_count": null,
       "_view_module": "@jupyter-widgets/base",
       "_view_module_version": "1.2.0",
       "_view_name": "StyleView",
       "description_width": ""
      }
     },
     "5ee3de42031d4924aac583e50627d076": {
      "model_module": "@jupyter-widgets/base",
      "model_module_version": "1.2.0",
      "model_name": "LayoutModel",
      "state": {
       "_model_module": "@jupyter-widgets/base",
       "_model_module_version": "1.2.0",
       "_model_name": "LayoutModel",
       "_view_count": null,
       "_view_module": "@jupyter-widgets/base",
       "_view_module_version": "1.2.0",
       "_view_name": "LayoutView",
       "align_content": null,
       "align_items": null,
       "align_self": null,
       "border": null,
       "bottom": null,
       "display": null,
       "flex": null,
       "flex_flow": null,
       "grid_area": null,
       "grid_auto_columns": null,
       "grid_auto_flow": null,
       "grid_auto_rows": null,
       "grid_column": null,
       "grid_gap": null,
       "grid_row": null,
       "grid_template_areas": null,
       "grid_template_columns": null,
       "grid_template_rows": null,
       "height": null,
       "justify_content": null,
       "justify_items": null,
       "left": null,
       "margin": null,
       "max_height": null,
       "max_width": null,
       "min_height": null,
       "min_width": null,
       "object_fit": null,
       "object_position": null,
       "order": null,
       "overflow": null,
       "overflow_x": null,
       "overflow_y": null,
       "padding": null,
       "right": null,
       "top": null,
       "visibility": null,
       "width": "6%"
      }
     },
     "5fc9ad2d8efe453e964d1ac87f839a0f": {
      "model_module": "@jupyter-widgets/base",
      "model_module_version": "1.2.0",
      "model_name": "LayoutModel",
      "state": {
       "_model_module": "@jupyter-widgets/base",
       "_model_module_version": "1.2.0",
       "_model_name": "LayoutModel",
       "_view_count": null,
       "_view_module": "@jupyter-widgets/base",
       "_view_module_version": "1.2.0",
       "_view_name": "LayoutView",
       "align_content": null,
       "align_items": null,
       "align_self": null,
       "border": null,
       "bottom": null,
       "display": null,
       "flex": null,
       "flex_flow": null,
       "grid_area": null,
       "grid_auto_columns": null,
       "grid_auto_flow": null,
       "grid_auto_rows": null,
       "grid_column": null,
       "grid_gap": null,
       "grid_row": null,
       "grid_template_areas": null,
       "grid_template_columns": null,
       "grid_template_rows": null,
       "height": null,
       "justify_content": null,
       "justify_items": null,
       "left": null,
       "margin": null,
       "max_height": null,
       "max_width": null,
       "min_height": null,
       "min_width": null,
       "object_fit": null,
       "object_position": null,
       "order": null,
       "overflow": null,
       "overflow_x": null,
       "overflow_y": null,
       "padding": null,
       "right": null,
       "top": null,
       "visibility": null,
       "width": "20px"
      }
     },
     "6390a17e1df0486b8a81cfff7d122989": {
      "model_module": "@jupyter-widgets/base",
      "model_module_version": "1.2.0",
      "model_name": "LayoutModel",
      "state": {
       "_model_module": "@jupyter-widgets/base",
       "_model_module_version": "1.2.0",
       "_model_name": "LayoutModel",
       "_view_count": null,
       "_view_module": "@jupyter-widgets/base",
       "_view_module_version": "1.2.0",
       "_view_name": "LayoutView",
       "align_content": null,
       "align_items": null,
       "align_self": null,
       "border": null,
       "bottom": null,
       "display": null,
       "flex": null,
       "flex_flow": null,
       "grid_area": null,
       "grid_auto_columns": null,
       "grid_auto_flow": null,
       "grid_auto_rows": null,
       "grid_column": null,
       "grid_gap": null,
       "grid_row": null,
       "grid_template_areas": null,
       "grid_template_columns": null,
       "grid_template_rows": null,
       "height": null,
       "justify_content": null,
       "justify_items": null,
       "left": null,
       "margin": null,
       "max_height": null,
       "max_width": null,
       "min_height": null,
       "min_width": null,
       "object_fit": null,
       "object_position": null,
       "order": null,
       "overflow": null,
       "overflow_x": null,
       "overflow_y": null,
       "padding": null,
       "right": null,
       "top": null,
       "visibility": null,
       "width": "20px"
      }
     },
     "6662fc4d07ed4bd086f0ca40d4689e64": {
      "model_module": "@jupyter-widgets/base",
      "model_module_version": "1.2.0",
      "model_name": "LayoutModel",
      "state": {
       "_model_module": "@jupyter-widgets/base",
       "_model_module_version": "1.2.0",
       "_model_name": "LayoutModel",
       "_view_count": null,
       "_view_module": "@jupyter-widgets/base",
       "_view_module_version": "1.2.0",
       "_view_name": "LayoutView",
       "align_content": null,
       "align_items": null,
       "align_self": null,
       "border": null,
       "bottom": null,
       "display": null,
       "flex": null,
       "flex_flow": null,
       "grid_area": null,
       "grid_auto_columns": null,
       "grid_auto_flow": null,
       "grid_auto_rows": null,
       "grid_column": null,
       "grid_gap": null,
       "grid_row": null,
       "grid_template_areas": null,
       "grid_template_columns": null,
       "grid_template_rows": null,
       "height": null,
       "justify_content": null,
       "justify_items": null,
       "left": null,
       "margin": null,
       "max_height": null,
       "max_width": null,
       "min_height": null,
       "min_width": null,
       "object_fit": null,
       "object_position": null,
       "order": null,
       "overflow": null,
       "overflow_x": null,
       "overflow_y": null,
       "padding": null,
       "right": null,
       "top": null,
       "visibility": null,
       "width": null
      }
     },
     "681a8852ff0b4e2b9f9615d4d28b0404": {
      "model_module": "@jupyter-widgets/controls",
      "model_module_version": "1.5.0",
      "model_name": "HBoxModel",
      "state": {
       "_dom_classes": [],
       "_model_module": "@jupyter-widgets/controls",
       "_model_module_version": "1.5.0",
       "_model_name": "HBoxModel",
       "_view_count": null,
       "_view_module": "@jupyter-widgets/controls",
       "_view_module_version": "1.5.0",
       "_view_name": "HBoxView",
       "box_style": "",
       "children": [
        "IPY_MODEL_b8d031166035405ea636018f5885daa4",
        "IPY_MODEL_6d84ef6d84c84ac68d61d56d5e2bbc54",
        "IPY_MODEL_12ac54b8f0764a8489819b4804ed34ad"
       ],
       "layout": "IPY_MODEL_777febe54dd54581a69241f1272eb263"
      }
     },
     "6d84ef6d84c84ac68d61d56d5e2bbc54": {
      "model_module": "@jupyter-widgets/controls",
      "model_module_version": "1.5.0",
      "model_name": "FloatProgressModel",
      "state": {
       "_dom_classes": [],
       "_model_module": "@jupyter-widgets/controls",
       "_model_module_version": "1.5.0",
       "_model_name": "FloatProgressModel",
       "_view_count": null,
       "_view_module": "@jupyter-widgets/controls",
       "_view_module_version": "1.5.0",
       "_view_name": "ProgressView",
       "bar_style": "info",
       "description": "",
       "description_tooltip": null,
       "layout": "IPY_MODEL_6390a17e1df0486b8a81cfff7d122989",
       "max": 1.0,
       "min": 0.0,
       "orientation": "horizontal",
       "style": "IPY_MODEL_2663d177da13412a8588ba6e1cae922f",
       "value": 0.0
      }
     },
     "711552bfa3a54678a19f3899fc739f5d": {
      "model_module": "@jupyter-widgets/controls",
      "model_module_version": "1.5.0",
      "model_name": "DescriptionStyleModel",
      "state": {
       "_model_module": "@jupyter-widgets/controls",
       "_model_module_version": "1.5.0",
       "_model_name": "DescriptionStyleModel",
       "_view_count": null,
       "_view_module": "@jupyter-widgets/base",
       "_view_module_version": "1.2.0",
       "_view_name": "StyleView",
       "description_width": ""
      }
     },
     "73706aa4a06a407c8337f90b5ed85810": {
      "model_module": "@jupyter-widgets/output",
      "model_module_version": "1.0.0",
      "model_name": "OutputModel",
      "state": {
       "_dom_classes": [],
       "_model_module": "@jupyter-widgets/output",
       "_model_module_version": "1.0.0",
       "_model_name": "OutputModel",
       "_view_count": null,
       "_view_module": "@jupyter-widgets/output",
       "_view_module_version": "1.0.0",
       "_view_name": "OutputView",
       "layout": "IPY_MODEL_ac9fa3cb867a47c7b5efbbd6b54bd6fd",
       "msg_id": "",
       "outputs": []
      }
     },
     "777febe54dd54581a69241f1272eb263": {
      "model_module": "@jupyter-widgets/base",
      "model_module_version": "1.2.0",
      "model_name": "LayoutModel",
      "state": {
       "_model_module": "@jupyter-widgets/base",
       "_model_module_version": "1.2.0",
       "_model_name": "LayoutModel",
       "_view_count": null,
       "_view_module": "@jupyter-widgets/base",
       "_view_module_version": "1.2.0",
       "_view_name": "LayoutView",
       "align_content": null,
       "align_items": null,
       "align_self": null,
       "border": null,
       "bottom": null,
       "display": null,
       "flex": null,
       "flex_flow": null,
       "grid_area": null,
       "grid_auto_columns": null,
       "grid_auto_flow": null,
       "grid_auto_rows": null,
       "grid_column": null,
       "grid_gap": null,
       "grid_row": null,
       "grid_template_areas": null,
       "grid_template_columns": null,
       "grid_template_rows": null,
       "height": null,
       "justify_content": null,
       "justify_items": null,
       "left": null,
       "margin": null,
       "max_height": null,
       "max_width": null,
       "min_height": null,
       "min_width": null,
       "object_fit": null,
       "object_position": null,
       "order": null,
       "overflow": null,
       "overflow_x": null,
       "overflow_y": null,
       "padding": null,
       "right": null,
       "top": null,
       "visibility": null,
       "width": null
      }
     },
     "8b0bcf19b6ef42ef8915dd3362e5439a": {
      "model_module": "@jupyter-widgets/base",
      "model_module_version": "1.2.0",
      "model_name": "LayoutModel",
      "state": {
       "_model_module": "@jupyter-widgets/base",
       "_model_module_version": "1.2.0",
       "_model_name": "LayoutModel",
       "_view_count": null,
       "_view_module": "@jupyter-widgets/base",
       "_view_module_version": "1.2.0",
       "_view_name": "LayoutView",
       "align_content": null,
       "align_items": null,
       "align_self": null,
       "border": null,
       "bottom": null,
       "display": null,
       "flex": null,
       "flex_flow": null,
       "grid_area": null,
       "grid_auto_columns": null,
       "grid_auto_flow": null,
       "grid_auto_rows": null,
       "grid_column": null,
       "grid_gap": null,
       "grid_row": null,
       "grid_template_areas": null,
       "grid_template_columns": null,
       "grid_template_rows": null,
       "height": null,
       "justify_content": null,
       "justify_items": null,
       "left": null,
       "margin": null,
       "max_height": null,
       "max_width": null,
       "min_height": null,
       "min_width": null,
       "object_fit": null,
       "object_position": null,
       "order": null,
       "overflow": null,
       "overflow_x": null,
       "overflow_y": null,
       "padding": null,
       "right": null,
       "top": null,
       "visibility": null,
       "width": null
      }
     },
     "8e9593327e4945e4a3ec986bb89bc0a1": {
      "model_module": "@jupyter-widgets/controls",
      "model_module_version": "1.5.0",
      "model_name": "DescriptionStyleModel",
      "state": {
       "_model_module": "@jupyter-widgets/controls",
       "_model_module_version": "1.5.0",
       "_model_name": "DescriptionStyleModel",
       "_view_count": null,
       "_view_module": "@jupyter-widgets/base",
       "_view_module_version": "1.2.0",
       "_view_name": "StyleView",
       "description_width": ""
      }
     },
     "967de890086f4be08514807dd0000490": {
      "model_module": "@jupyter-widgets/controls",
      "model_module_version": "1.5.0",
      "model_name": "FloatProgressModel",
      "state": {
       "_dom_classes": [],
       "_model_module": "@jupyter-widgets/controls",
       "_model_module_version": "1.5.0",
       "_model_name": "FloatProgressModel",
       "_view_count": null,
       "_view_module": "@jupyter-widgets/controls",
       "_view_module_version": "1.5.0",
       "_view_name": "ProgressView",
       "bar_style": "",
       "description": "",
       "description_tooltip": null,
       "layout": "IPY_MODEL_d84c595004794e488c7859f40504bf93",
       "max": 10000.0,
       "min": 0.0,
       "orientation": "horizontal",
       "style": "IPY_MODEL_091295fa70e2479fb0b3c90e4deabffd",
       "value": 6953.0
      }
     },
     "96b3555acbc646d0aa34dca6e2a04537": {
      "model_module": "@jupyter-widgets/base",
      "model_module_version": "1.2.0",
      "model_name": "LayoutModel",
      "state": {
       "_model_module": "@jupyter-widgets/base",
       "_model_module_version": "1.2.0",
       "_model_name": "LayoutModel",
       "_view_count": null,
       "_view_module": "@jupyter-widgets/base",
       "_view_module_version": "1.2.0",
       "_view_name": "LayoutView",
       "align_content": null,
       "align_items": null,
       "align_self": null,
       "border": null,
       "bottom": null,
       "display": null,
       "flex": null,
       "flex_flow": null,
       "grid_area": null,
       "grid_auto_columns": null,
       "grid_auto_flow": null,
       "grid_auto_rows": null,
       "grid_column": null,
       "grid_gap": null,
       "grid_row": null,
       "grid_template_areas": null,
       "grid_template_columns": null,
       "grid_template_rows": null,
       "height": null,
       "justify_content": null,
       "justify_items": null,
       "left": null,
       "margin": null,
       "max_height": null,
       "max_width": null,
       "min_height": null,
       "min_width": null,
       "object_fit": null,
       "object_position": null,
       "order": null,
       "overflow": null,
       "overflow_x": null,
       "overflow_y": null,
       "padding": null,
       "right": null,
       "top": null,
       "visibility": null,
       "width": null
      }
     },
     "a3949f151afa447d9b75a1a56b90b28b": {
      "model_module": "@jupyter-widgets/base",
      "model_module_version": "1.2.0",
      "model_name": "LayoutModel",
      "state": {
       "_model_module": "@jupyter-widgets/base",
       "_model_module_version": "1.2.0",
       "_model_name": "LayoutModel",
       "_view_count": null,
       "_view_module": "@jupyter-widgets/base",
       "_view_module_version": "1.2.0",
       "_view_name": "LayoutView",
       "align_content": null,
       "align_items": null,
       "align_self": null,
       "border": null,
       "bottom": null,
       "display": null,
       "flex": null,
       "flex_flow": null,
       "grid_area": null,
       "grid_auto_columns": null,
       "grid_auto_flow": null,
       "grid_auto_rows": null,
       "grid_column": null,
       "grid_gap": null,
       "grid_row": null,
       "grid_template_areas": null,
       "grid_template_columns": null,
       "grid_template_rows": null,
       "height": null,
       "justify_content": null,
       "justify_items": null,
       "left": null,
       "margin": null,
       "max_height": null,
       "max_width": null,
       "min_height": null,
       "min_width": null,
       "object_fit": null,
       "object_position": null,
       "order": null,
       "overflow": null,
       "overflow_x": null,
       "overflow_y": null,
       "padding": null,
       "right": null,
       "top": null,
       "visibility": null,
       "width": null
      }
     },
     "a6a4e890aa8144af878515868ff9bf5c": {
      "model_module": "@jupyter-widgets/controls",
      "model_module_version": "1.5.0",
      "model_name": "ProgressStyleModel",
      "state": {
       "_model_module": "@jupyter-widgets/controls",
       "_model_module_version": "1.5.0",
       "_model_name": "ProgressStyleModel",
       "_view_count": null,
       "_view_module": "@jupyter-widgets/base",
       "_view_module_version": "1.2.0",
       "_view_name": "StyleView",
       "bar_color": null,
       "description_width": ""
      }
     },
     "aa8ff7da9cf84e8ab5e08f3bd40207d0": {
      "model_module": "@jupyter-widgets/base",
      "model_module_version": "1.2.0",
      "model_name": "LayoutModel",
      "state": {
       "_model_module": "@jupyter-widgets/base",
       "_model_module_version": "1.2.0",
       "_model_name": "LayoutModel",
       "_view_count": null,
       "_view_module": "@jupyter-widgets/base",
       "_view_module_version": "1.2.0",
       "_view_name": "LayoutView",
       "align_content": null,
       "align_items": null,
       "align_self": null,
       "border": null,
       "bottom": null,
       "display": null,
       "flex": null,
       "flex_flow": null,
       "grid_area": null,
       "grid_auto_columns": null,
       "grid_auto_flow": null,
       "grid_auto_rows": null,
       "grid_column": null,
       "grid_gap": null,
       "grid_row": null,
       "grid_template_areas": null,
       "grid_template_columns": null,
       "grid_template_rows": null,
       "height": null,
       "justify_content": null,
       "justify_items": null,
       "left": null,
       "margin": null,
       "max_height": null,
       "max_width": null,
       "min_height": null,
       "min_width": null,
       "object_fit": null,
       "object_position": null,
       "order": null,
       "overflow": null,
       "overflow_x": null,
       "overflow_y": null,
       "padding": null,
       "right": null,
       "top": null,
       "visibility": null,
       "width": null
      }
     },
     "ac9fa3cb867a47c7b5efbbd6b54bd6fd": {
      "model_module": "@jupyter-widgets/base",
      "model_module_version": "1.2.0",
      "model_name": "LayoutModel",
      "state": {
       "_model_module": "@jupyter-widgets/base",
       "_model_module_version": "1.2.0",
       "_model_name": "LayoutModel",
       "_view_count": null,
       "_view_module": "@jupyter-widgets/base",
       "_view_module_version": "1.2.0",
       "_view_name": "LayoutView",
       "align_content": null,
       "align_items": null,
       "align_self": null,
       "border": null,
       "bottom": null,
       "display": null,
       "flex": null,
       "flex_flow": null,
       "grid_area": null,
       "grid_auto_columns": null,
       "grid_auto_flow": null,
       "grid_auto_rows": null,
       "grid_column": null,
       "grid_gap": null,
       "grid_row": null,
       "grid_template_areas": null,
       "grid_template_columns": null,
       "grid_template_rows": null,
       "height": null,
       "justify_content": null,
       "justify_items": null,
       "left": null,
       "margin": null,
       "max_height": null,
       "max_width": null,
       "min_height": null,
       "min_width": null,
       "object_fit": null,
       "object_position": null,
       "order": null,
       "overflow": null,
       "overflow_x": null,
       "overflow_y": null,
       "padding": null,
       "right": null,
       "top": null,
       "visibility": null,
       "width": null
      }
     },
     "ae976d2ccca840f8880b932ffe8d48e7": {
      "model_module": "@jupyter-widgets/controls",
      "model_module_version": "1.5.0",
      "model_name": "HTMLModel",
      "state": {
       "_dom_classes": [],
       "_model_module": "@jupyter-widgets/controls",
       "_model_module_version": "1.5.0",
       "_model_name": "HTMLModel",
       "_view_count": null,
       "_view_module": "@jupyter-widgets/controls",
       "_view_module_version": "1.5.0",
       "_view_name": "HTMLView",
       "description": "",
       "description_tooltip": null,
       "layout": "IPY_MODEL_d12a9bcee12148818a0b3fcf8ce47a16",
       "placeholder": "​",
       "style": "IPY_MODEL_1ff3fca3eb584337bf0100a00c4c2669",
       "value": "Packets:   "
      }
     },
     "aef7b7ac2ceb442cb4a2358dd32f93a6": {
      "model_module": "@jupyter-widgets/controls",
      "model_module_version": "1.5.0",
      "model_name": "FloatProgressModel",
      "state": {
       "_dom_classes": [],
       "_model_module": "@jupyter-widgets/controls",
       "_model_module_version": "1.5.0",
       "_model_name": "FloatProgressModel",
       "_view_count": null,
       "_view_module": "@jupyter-widgets/controls",
       "_view_module_version": "1.5.0",
       "_view_name": "ProgressView",
       "bar_style": "",
       "description": "",
       "description_tooltip": null,
       "layout": "IPY_MODEL_de45d73e43814590bebcce84bdcecde5",
       "max": 20.0,
       "min": 0.0,
       "orientation": "horizontal",
       "style": "IPY_MODEL_a6a4e890aa8144af878515868ff9bf5c",
       "value": 1.0
      }
     },
     "b8d031166035405ea636018f5885daa4": {
      "model_module": "@jupyter-widgets/controls",
      "model_module_version": "1.5.0",
      "model_name": "HTMLModel",
      "state": {
       "_dom_classes": [],
       "_model_module": "@jupyter-widgets/controls",
       "_model_module_version": "1.5.0",
       "_model_name": "HTMLModel",
       "_view_count": null,
       "_view_module": "@jupyter-widgets/controls",
       "_view_module_version": "1.5.0",
       "_view_name": "HTMLView",
       "description": "",
       "description_tooltip": null,
       "layout": "IPY_MODEL_24f4108421344b129dcede816436210e",
       "placeholder": "​",
       "style": "IPY_MODEL_19989ea5b6ab498cb2b92ad7dde17719",
       "value": "Packets:   "
      }
     },
     "be1c26bef1a54c32b6e5659a122db763": {
      "model_module": "@jupyter-widgets/controls",
      "model_module_version": "1.5.0",
      "model_name": "HBoxModel",
      "state": {
       "_dom_classes": [],
       "_model_module": "@jupyter-widgets/controls",
       "_model_module_version": "1.5.0",
       "_model_name": "HBoxModel",
       "_view_count": null,
       "_view_module": "@jupyter-widgets/controls",
       "_view_module_version": "1.5.0",
       "_view_name": "HBoxView",
       "box_style": "",
       "children": [
        "IPY_MODEL_facf4ccea4044ee2a8414d7f35d418b7",
        "IPY_MODEL_0c51d288082c4f00a58db9bea65323da",
        "IPY_MODEL_436f3ce6d4554229a94f150cb70e7879"
       ],
       "layout": "IPY_MODEL_6662fc4d07ed4bd086f0ca40d4689e64"
      }
     },
     "ce55f7f92ee347a4b983e962bdec7b13": {
      "model_module": "@jupyter-widgets/controls",
      "model_module_version": "1.5.0",
      "model_name": "HBoxModel",
      "state": {
       "_dom_classes": [],
       "_model_module": "@jupyter-widgets/controls",
       "_model_module_version": "1.5.0",
       "_model_name": "HBoxModel",
       "_view_count": null,
       "_view_module": "@jupyter-widgets/controls",
       "_view_module_version": "1.5.0",
       "_view_name": "HBoxView",
       "box_style": "",
       "children": [
        "IPY_MODEL_4aa5f5d0a121429990a5e339d97fa0d4",
        "IPY_MODEL_aef7b7ac2ceb442cb4a2358dd32f93a6",
        "IPY_MODEL_45fe81e7b9e34d4f839e7f9b3fdcdc86"
       ],
       "layout": "IPY_MODEL_e3ea6b099cae4295aa4a9d57ba19a16b"
      }
     },
     "d12a9bcee12148818a0b3fcf8ce47a16": {
      "model_module": "@jupyter-widgets/base",
      "model_module_version": "1.2.0",
      "model_name": "LayoutModel",
      "state": {
       "_model_module": "@jupyter-widgets/base",
       "_model_module_version": "1.2.0",
       "_model_name": "LayoutModel",
       "_view_count": null,
       "_view_module": "@jupyter-widgets/base",
       "_view_module_version": "1.2.0",
       "_view_name": "LayoutView",
       "align_content": null,
       "align_items": null,
       "align_self": null,
       "border": null,
       "bottom": null,
       "display": null,
       "flex": null,
       "flex_flow": null,
       "grid_area": null,
       "grid_auto_columns": null,
       "grid_auto_flow": null,
       "grid_auto_rows": null,
       "grid_column": null,
       "grid_gap": null,
       "grid_row": null,
       "grid_template_areas": null,
       "grid_template_columns": null,
       "grid_template_rows": null,
       "height": null,
       "justify_content": null,
       "justify_items": null,
       "left": null,
       "margin": null,
       "max_height": null,
       "max_width": null,
       "min_height": null,
       "min_width": null,
       "object_fit": null,
       "object_position": null,
       "order": null,
       "overflow": null,
       "overflow_x": null,
       "overflow_y": null,
       "padding": null,
       "right": null,
       "top": null,
       "visibility": null,
       "width": "6%"
      }
     },
     "d84c595004794e488c7859f40504bf93": {
      "model_module": "@jupyter-widgets/base",
      "model_module_version": "1.2.0",
      "model_name": "LayoutModel",
      "state": {
       "_model_module": "@jupyter-widgets/base",
       "_model_module_version": "1.2.0",
       "_model_name": "LayoutModel",
       "_view_count": null,
       "_view_module": "@jupyter-widgets/base",
       "_view_module_version": "1.2.0",
       "_view_name": "LayoutView",
       "align_content": null,
       "align_items": null,
       "align_self": null,
       "border": null,
       "bottom": null,
       "display": null,
       "flex": null,
       "flex_flow": null,
       "grid_area": null,
       "grid_auto_columns": null,
       "grid_auto_flow": null,
       "grid_auto_rows": null,
       "grid_column": null,
       "grid_gap": null,
       "grid_row": null,
       "grid_template_areas": null,
       "grid_template_columns": null,
       "grid_template_rows": null,
       "height": null,
       "justify_content": null,
       "justify_items": null,
       "left": null,
       "margin": null,
       "max_height": null,
       "max_width": null,
       "min_height": null,
       "min_width": null,
       "object_fit": null,
       "object_position": null,
       "order": null,
       "overflow": null,
       "overflow_x": null,
       "overflow_y": null,
       "padding": null,
       "right": null,
       "top": null,
       "visibility": null,
       "width": "60%"
      }
     },
     "de45d73e43814590bebcce84bdcecde5": {
      "model_module": "@jupyter-widgets/base",
      "model_module_version": "1.2.0",
      "model_name": "LayoutModel",
      "state": {
       "_model_module": "@jupyter-widgets/base",
       "_model_module_version": "1.2.0",
       "_model_name": "LayoutModel",
       "_view_count": null,
       "_view_module": "@jupyter-widgets/base",
       "_view_module_version": "1.2.0",
       "_view_name": "LayoutView",
       "align_content": null,
       "align_items": null,
       "align_self": null,
       "border": null,
       "bottom": null,
       "display": null,
       "flex": null,
       "flex_flow": null,
       "grid_area": null,
       "grid_auto_columns": null,
       "grid_auto_flow": null,
       "grid_auto_rows": null,
       "grid_column": null,
       "grid_gap": null,
       "grid_row": null,
       "grid_template_areas": null,
       "grid_template_columns": null,
       "grid_template_rows": null,
       "height": null,
       "justify_content": null,
       "justify_items": null,
       "left": null,
       "margin": null,
       "max_height": null,
       "max_width": null,
       "min_height": null,
       "min_width": null,
       "object_fit": null,
       "object_position": null,
       "order": null,
       "overflow": null,
       "overflow_x": null,
       "overflow_y": null,
       "padding": null,
       "right": null,
       "top": null,
       "visibility": null,
       "width": "60%"
      }
     },
     "e3ea6b099cae4295aa4a9d57ba19a16b": {
      "model_module": "@jupyter-widgets/base",
      "model_module_version": "1.2.0",
      "model_name": "LayoutModel",
      "state": {
       "_model_module": "@jupyter-widgets/base",
       "_model_module_version": "1.2.0",
       "_model_name": "LayoutModel",
       "_view_count": null,
       "_view_module": "@jupyter-widgets/base",
       "_view_module_version": "1.2.0",
       "_view_name": "LayoutView",
       "align_content": null,
       "align_items": null,
       "align_self": null,
       "border": null,
       "bottom": null,
       "display": null,
       "flex": null,
       "flex_flow": null,
       "grid_area": null,
       "grid_auto_columns": null,
       "grid_auto_flow": null,
       "grid_auto_rows": null,
       "grid_column": null,
       "grid_gap": null,
       "grid_row": null,
       "grid_template_areas": null,
       "grid_template_columns": null,
       "grid_template_rows": null,
       "height": null,
       "justify_content": null,
       "justify_items": null,
       "left": null,
       "margin": null,
       "max_height": null,
       "max_width": null,
       "min_height": null,
       "min_width": null,
       "object_fit": null,
       "object_position": null,
       "order": null,
       "overflow": null,
       "overflow_x": null,
       "overflow_y": null,
       "padding": null,
       "right": null,
       "top": null,
       "visibility": null,
       "width": null
      }
     },
     "e762d8fea3984a509e66e9649d623869": {
      "model_module": "@jupyter-widgets/base",
      "model_module_version": "1.2.0",
      "model_name": "LayoutModel",
      "state": {
       "_model_module": "@jupyter-widgets/base",
       "_model_module_version": "1.2.0",
       "_model_name": "LayoutModel",
       "_view_count": null,
       "_view_module": "@jupyter-widgets/base",
       "_view_module_version": "1.2.0",
       "_view_name": "LayoutView",
       "align_content": null,
       "align_items": null,
       "align_self": null,
       "border": null,
       "bottom": null,
       "display": null,
       "flex": null,
       "flex_flow": null,
       "grid_area": null,
       "grid_auto_columns": null,
       "grid_auto_flow": null,
       "grid_auto_rows": null,
       "grid_column": null,
       "grid_gap": null,
       "grid_row": null,
       "grid_template_areas": null,
       "grid_template_columns": null,
       "grid_template_rows": null,
       "height": null,
       "justify_content": null,
       "justify_items": null,
       "left": null,
       "margin": null,
       "max_height": null,
       "max_width": null,
       "min_height": null,
       "min_width": null,
       "object_fit": null,
       "object_position": null,
       "order": null,
       "overflow": null,
       "overflow_x": null,
       "overflow_y": null,
       "padding": null,
       "right": null,
       "top": null,
       "visibility": null,
       "width": null
      }
     },
     "f1cd32c3e8a045a9bb8ab582e9246fce": {
      "model_module": "@jupyter-widgets/base",
      "model_module_version": "1.2.0",
      "model_name": "LayoutModel",
      "state": {
       "_model_module": "@jupyter-widgets/base",
       "_model_module_version": "1.2.0",
       "_model_name": "LayoutModel",
       "_view_count": null,
       "_view_module": "@jupyter-widgets/base",
       "_view_module_version": "1.2.0",
       "_view_name": "LayoutView",
       "align_content": null,
       "align_items": null,
       "align_self": null,
       "border": null,
       "bottom": null,
       "display": null,
       "flex": null,
       "flex_flow": null,
       "grid_area": null,
       "grid_auto_columns": null,
       "grid_auto_flow": null,
       "grid_auto_rows": null,
       "grid_column": null,
       "grid_gap": null,
       "grid_row": null,
       "grid_template_areas": null,
       "grid_template_columns": null,
       "grid_template_rows": null,
       "height": null,
       "justify_content": null,
       "justify_items": null,
       "left": null,
       "margin": null,
       "max_height": null,
       "max_width": null,
       "min_height": null,
       "min_width": null,
       "object_fit": null,
       "object_position": null,
       "order": null,
       "overflow": null,
       "overflow_x": null,
       "overflow_y": null,
       "padding": null,
       "right": null,
       "top": null,
       "visibility": null,
       "width": null
      }
     },
     "f974662cfba14e52877617e4370cea18": {
      "model_module": "@jupyter-widgets/output",
      "model_module_version": "1.0.0",
      "model_name": "OutputModel",
      "state": {
       "_dom_classes": [],
       "_model_module": "@jupyter-widgets/output",
       "_model_module_version": "1.0.0",
       "_model_name": "OutputModel",
       "_view_count": null,
       "_view_module": "@jupyter-widgets/output",
       "_view_module_version": "1.0.0",
       "_view_name": "OutputView",
       "layout": "IPY_MODEL_aa8ff7da9cf84e8ab5e08f3bd40207d0",
       "msg_id": "",
       "outputs": []
      }
     },
     "facf4ccea4044ee2a8414d7f35d418b7": {
      "model_module": "@jupyter-widgets/controls",
      "model_module_version": "1.5.0",
      "model_name": "HTMLModel",
      "state": {
       "_dom_classes": [],
       "_model_module": "@jupyter-widgets/controls",
       "_model_module_version": "1.5.0",
       "_model_name": "HTMLModel",
       "_view_count": null,
       "_view_module": "@jupyter-widgets/controls",
       "_view_module_version": "1.5.0",
       "_view_name": "HTMLView",
       "description": "",
       "description_tooltip": null,
       "layout": "IPY_MODEL_e762d8fea3984a509e66e9649d623869",
       "placeholder": "​",
       "style": "IPY_MODEL_57369d71992b4a6689264192c584fd26",
       "value": "Iterations:"
      }
     }
    },
    "version_major": 2,
    "version_minor": 0
   }
  }
 },
 "nbformat": 4,
 "nbformat_minor": 5
}
