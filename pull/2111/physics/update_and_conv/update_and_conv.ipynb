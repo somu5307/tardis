{
 "cells": [
  {
   "cell_type": "markdown",
   "id": "4d53d061",
   "metadata": {},
   "source": [
    "# Updating Plasma and Convergence\n",
    "\n",
    "As light travels through a real plasma, it has effects on the properties of the plasma due to light-matter\n",
    "interactions as well as the presence of extra energy from the light. Additionally, as [previously discussed](../montecarlo/propagation.rst), properties of the plasma affect how light travels through it. This is a typical equilibrium problem. We solve for the plasma properties by finding a steady-state solution; that is, the actual plasma will be in a state such that the plasma state will not change as\n",
    "light propagates through it, because the effects of the light on the plasma and the effects of the plasma on the\n",
    "light are in equilibrium.\n",
    "\n",
    "One of TARDIS's main goals is to determine this plasma state (as we need the actual plasma properties in order to\n",
    "get an accurate spectrum). This is done in an iterative process. After each [Monte Carlo iteration](../montecarlo/index.rst) (which sends light through the supernova ejecta), TARDIS uses the [Monte Carlo estimators](../montecarlo/estimators.rst)\n",
    "how the propagating light affects the plasma state, after which the plasma state is updated (as will be explained below and demonstrated in the code example). We do this many times, and attempt to have the plasma state converge\n",
    "to the steady-state we are looking for. In fact, all but the last Monte Carlo iteration is used for this purpose\n",
    "(after which TARDIS will have the necessary plasma state for its last iteration which calculates the spectrum).\n",
    "\n",
    "<div class=\"alert alert-info\">\n",
    "\n",
    "Note\n",
    "\n",
    "For all but the last iteration, TARDIS uses the number of Monte Carlo packets specified in the\n",
    "[Monte Carlo configuration](../../io/configuration/components/montecarlo.rst) under the ``no_of_packets`` argument. This is because\n",
    "a different number of packets may be necessary to calculate the spectrum as opposed to calculate the\n",
    "plasma state.\n",
    "\n",
    "</div>\n",
    "\n",
    "After each iteration the values for radiative temperature and dilution factor are updated by calling the ``advance_state`` method on a ``Simulation`` object as will be shown below in the code example. The goal of this is to eventually have the radiative temperature and dilution factor converge to a single value so that the steady-state plasma state can be determined. To ensure that the simulation converges, TARDIS employs a convergence strategy. Currently, only one convergence strategy is available: damped convergence. This will be described in the following sections.\n",
    "\n",
    "<div class=\"alert alert-info\">\n",
    "\n",
    "Note\n",
    "    \n",
    "Unless otherwise noted, all user-supplied quantities mentioned on this page are supplied in the [convergence section of the Monte Carlo configuration](../../io/configuration/components/montecarlo.rst#damped-convergence-strategy), which will be referenced as the convergence configuration.\n",
    "\n",
    "</div>"
   ]
  },
  {
   "cell_type": "markdown",
   "id": "8ffc4479",
   "metadata": {},
   "source": [
    "## $T_\\mathrm{rad}$ and $W$\n",
    "\n",
    "The main way in which the plasma state is updated is by using the ``j`` and ``nu_bar`` estimators (see [here](../montecarlo/estimators.rst#j-and-bar-nu-estimators)) to update two of the key plasma inputs (see [Plasma](../setup/plasma/index.rst)): the radiative temperature $T_\\mathrm{rad}$ and dilution factor $W$. Recall that each of these quantities takes on a different value in each shell.\n",
    "\n",
    "Using the estimators $J$ and $\\bar \\nu$, we estimate these quantities using\n",
    "\n",
    "$$T_{\\mathrm{rad\\ estimated}} = \\frac{h}{k_{\\mathrm{B}}} \\frac{\\pi^4}{360 \\zeta(5)} \\frac{\\bar \\nu}{J}$$\n",
    "\n",
    "and\n",
    "\n",
    "$$W_\\mathrm{estimated} = \\frac{\\pi J}{\\sigma_{\\mathrm{R}} T_{\\mathrm{rad\\ estimated}}^4}$$\n",
    "\n",
    "where $h$ is Planck's constant, $k_{\\mathrm{B}}$ is Boltzmann's constant, $\\sigma_{\\mathrm{R}}$ is the Stefan–Boltzmann constant, and $\\zeta$ is the Riemann zeta function. The equation for $W$ comes from the fact that the dilution factor is the ratio of the actual mean intensity to that of a blackbody, which is $J_{\\mathrm{blackbody}}=\\frac{\\sigma_{\\mathrm{R}} T^4}{\\pi}$.\n",
    "\n",
    "Recall (see [Implementation](../montecarlo/estimators.rst#implementation)), however, that when TARDIS stores these estimators, it leaves out the prefactor of $\\frac{1}{4\\pi V\\Delta t}$ for computational ease. That is, $J=\\frac{1}{4\\pi V\\Delta t}\\sum_i \\varepsilon_i l_i=\\frac{1}{4\\pi V\\Delta t}*\\mathrm{real\\ j\\ estimator}$, and $\\bar \\nu=\\frac{1}{4\\pi V\\Delta t}\\sum_i \\varepsilon_i \\nu_i l_i=\\frac{1}{4\\pi V\\Delta t}*\\mathrm{real\\ nu\\_ bar\\ estimator}$. These factors are then included in our calculations; specifically, using the previous relations we have\n",
    "\n",
    "$$T_\\mathrm{rad\\ estimated}= \\frac{h}{k_{\\mathrm{B}}} \\frac{\\pi^4}{360 \\zeta(5)} \\frac{\\sum_i \\varepsilon_i \\nu_i l_i}{\\sum_i \\varepsilon_i l_i} = \\frac{h}{k_{\\mathrm{B}}} \\frac{\\pi^4}{360 \\zeta(5)} \\frac{\\mathrm{real\\ nu\\_ bar\\ estimator}}{\\mathrm{real\\ j\\ estimator}}$$\n",
    "and\n",
    "$$W_\\mathrm{estimated} = \\frac{\\sum_i \\varepsilon_i l_i}{4\\sigma_{\\mathrm{R}} T_{\\mathrm{rad\\ estimated}}^4V\\Delta t} = \\frac{\\mathrm{real\\ j\\ estimator}}{4\\sigma_{\\mathrm{R}} T_{\\mathrm{rad\\ estimated}}^4V\\Delta t}.$$\n",
    "\n",
    "While TARDIS can then update the plasma state using the estimated values, there is a good chance that these estimated values would “overshoot” the true value we want to converge to (for example, if the current value of the dilution factor in some cell the dilution factor is 0.4, and the true steady-state value TARDIS wants to find is 0.45, there is a good chance that the estimated value will be greater than 0.45). This could make the simulation take longer to converge or, at worst, make it so the simulation does not converge at all. To account for this, users can set (in the convergence configuration) a \"damping constant\" for both the radiative temperature ($d_{T_\\mathrm{rad}}$) and the dilution factor ($d_W$). When ``advance_state`` is called, these quantities update as follows:\n",
    "\n",
    "$$T_\\mathrm{rad\\ updated} = T_\\mathrm{rad\\ current} + d_{T_\\mathrm{rad}}(T_\\mathrm{rad\\ estimated}-T_\\mathrm{rad\\ current})$$\n",
    "    \n",
    "and\n",
    "    \n",
    "$$ W_\\mathrm{updated} = W_\\mathrm{current} + d_W(W_\\mathrm{estimated}-W_\\mathrm{current}).$$\n",
    "\n",
    "This means, for example, if the damping constant is 0.5, the updated value is halfway between the current value and the estimated value. If the damping constant is 0.7, the updated value is 70% of the way between the current value and the estimated value, and so on. **If the damping constant is 1, then the updated value is exactly the estimated value, and if the damping constant is zero, the value stays the same throughout the simulation and is not updated.**\n",
    "\n",
    "The updated $T_\\mathrm{rad}$ and $W$ are then used as inputs to the updated [plasma calculations](../setup/plasma/index.rst) which account for the effect of the Monte Carlo packets on the plasma state."
   ]
  },
  {
   "cell_type": "markdown",
   "id": "f346fb77",
   "metadata": {},
   "source": [
    "## $T_\\mathrm{inner}$\n",
    "\n",
    "The temperature of the inner boundary, $T_\\mathrm{inner}$, plays a unique role in the simulation, as it is the primary determiner of the output luminosity. This is because the the luminosity of the inner boundary is proportional to $T_\\mathrm{inner}^4$ (see [Energy Packet Initialization](../montecarlo/initialization.ipynb)). Thus, $T_\\mathrm{inner}$ is updated throughout the simulation in order to match the output luminosity to the requested luminosity specified in the [supernova configuration](../../io/configuration/components/supernova.rst) between the bounds specified in the supernova configuration. However, there is not necessarily a quartic relationship between $T_\\mathrm{inner}$ and the output luminosity, as changing $T_\\mathrm{inner}$ also changes the frequency distribution of the initialized packets (once again see [Energy Packet Initialization](../montecarlo/initialization.ipynb)). This then affects the light-matter interactions, affecting which packets make it to the outer boundary, which also affects the output luminosity. Because of this, there is not an exact way to estimate $T_\\mathrm{inner}$. To do this estimation, we use\n",
    "\n",
    "$$T_\\mathrm{inner\\ estimated} = T_\\mathrm{inner\\ current} * \\left(\\frac{L_\\mathrm{output}}{L_\\mathrm{requested}}\\right)^{\\mathrm{t\\_inner\\_update\\_exponent}}$$\n",
    "    \n",
    "where $L_\\mathrm{output}$ is the output luminosity calculated by adding up the luminosity of each packet (see [Basic Spectrum Generation](../spectrum/basic.ipynb)) between the bounds specified in the [supernova configuration](../../io/configuration/components/supernova.rst), $L_\\mathrm{requested}$ is the luminosity requested also in the supernova configuration (requested between those bounds previously mentioned), and ``t_inner_update_exponent`` is provided by the user in the convergence configuration. Note that what we are doing is \"correcting\" the previous value of the inner temperature by a factor of $\\left(\\frac{L_\\mathrm{output}}{L_\\mathrm{requested}}\\right)^{\\mathrm{t\\_inner\\_update\\_exponent}}$. Note that if $\\frac{L_\\mathrm{output}}{L_\\mathrm{requested}}$ is greater than 1, we want to lower $T_\\mathrm{inner}$ as the output luminosity is too high, and vice versa if the ratio is less than 1. Thus ``t_inner_update_exponent`` should be negative. Naively one might set ``t_inner_update_exponent=-0.25``, however as a default TARDIS uses ``t_inner_update_exponent=-0.5`` as -0.25 may undershoot the correct $T_\\mathrm{inner}$ because of its previously mentioned effects on the initial frequency distribution.\n",
    "\n",
    "After calculating the estimated $T_\\mathrm{inner}$, the quantity is updated using damped convergence with its own damping constant (once again set in the convergence configuration):\n",
    "\n",
    "$$T_\\mathrm{inner\\ updated} = T_\\mathrm{inner\\ current} + d_{T_\\mathrm{inner}}(T_\\mathrm{inner\\ estimated}-T_\\mathrm{inner\\ current}).$$\n",
    "\n",
    "Once again, If the damping constant is 1, then the updated value is exactly the estimated value, and if the damping constant is zero, the value stays the same throughout the simulation and is not updated.\n",
    "\n",
    "Additionally, because of the vast impact of $T_\\mathrm{inner}$ on the simulation, one may want to update it less frequently -- i.e. allow $W$ and $T_\\mathrm{rad}$ to reach a steady-state value for a particular $T_\\mathrm{inner}$ before updating $T_\\mathrm{inner}$. To do this, in the convergence configuration we set ``lock_t_inner_cycles``, which is the number of iterations to wait before updating $T_\\mathrm{inner}$. It is set to 1 by default, meaning $T_\\mathrm{inner}$ would be updated every iteration."
   ]
  },
  {
   "cell_type": "markdown",
   "id": "9a3bee0e",
   "metadata": {},
   "source": [
    "## Convergence Information\n",
    "\n",
    "During the simulation, information about the how $T_\\mathrm{rad}$, $W$, and $T_\\mathrm{inner}$ are updated as well as a comparison of the total output luminosity and the requested luminosity are logged at the INFO level (see [Configuring the Logging Output for TARDIS](../../io/optional/logging_configuration.ipynb)) as shown in the code below, to give users a better idea of how the convergence process is working.\n",
    "\n",
    "In addition, TARDIS allows for the displaying of convergence plots, which allows users to visualize the convergence process for $T_\\mathrm{rad}$, $W$, $T_\\mathrm{inner}$, and the total luminosity of the supernova being modeled. For more information, see [Convergence Plots](../../io/visualization/convergence_plot.ipynb)."
   ]
  },
  {
   "cell_type": "markdown",
   "id": "3bc752ec",
   "metadata": {},
   "source": [
    "## Convergence Criteria\n",
    "\n",
    "TARDIS also allows users to stop the simulation if the simulation reaches a certain level of convergence, which is checked upon the call of the ``advance_state`` method. To enable this, users must set ``stop_if_converged=True`` in the convergence configuration. Also in the configuration, the quantities ``hold_iterations``, ``threshold``, and ``fraction`` are be specified to determine convergence as follows:\n",
    "\n",
    "For the simulation to be considered to have converged, for ``hold_iterations`` successive iterations, the estimated values of $T_\\mathrm{rad}$, $W$, and $T_\\mathrm{inner}$ may differ from the previous value by a fraction of at most ``threshold`` in at least ``fraction`` fraction of the shells (for $T_\\mathrm{inner}$, since there is only one value, the ``fraction`` part does not apply). For example, if ``hold_iterations=3``, ``threshold=0.05`` for all three quantities, and ``fraction=0.8``, the simulation will be considered to have converged if for 3 successive iterations the estimated values of $T_\\mathrm{rad}$ and $W$ differ from the current respective values by at most 5% in at least 80% of the shells, *and* the estimated $T_\\mathrm{inner}$ differs by at most 5%. See the [convergence configuration schema](../../io/configuration/components/montecarlo.rst#damped-convergence-strategy) for default values of these quantities.\n",
    "\n",
    "<div class=\"alert alert-info\">\n",
    "\n",
    "Note\n",
    "    \n",
    "To determine convergence, we compare the estimated value, **not** the updated value (which is related to the estimated value via the damping constant), with the previous value. If $T_\\mathrm{inner}$ is locked (see the previous section), the estimated value will still be calculated so convergence can be checked as usual.\n",
    "\n",
    "</div>\n",
    "\n",
    "<div class=\"alert alert-info\">\n",
    "\n",
    "Note\n",
    "    \n",
    "``hold_iterations`` and ``fraction`` are universal quantities, i.e. they are each a single value that applies to $T_\\mathrm{rad}$ and $W$, and for ``hold_iterations`` also $T_\\mathrm{inner}$. ``threshold``, on the other hand, is supplied for each quantity separately, so for instance you could require $T_\\mathrm{rad}$ to differ by less than 1%, $W$ to differ by less than 3%, and $T_\\mathrm{inner}$ to differ by less than 5% for convergence to be reached.\n",
    "\n",
    "</div>\n",
    "\n",
    "\n",
    "## Updating Other Quantities\n",
    "\n",
    "Other quantities in the plasma state can depend on other estimators. Currently, this is only implemented for the ``j_blue`` estimator: If ``radiative_rates_type`` in the [plasma configuration](../../io/configuration/components/plasma.rst) is set to ``detailed``, the `j_blues` plasma property will will be replaced with the value of the $J^b_{lu}$ [estimator](../montecarlo/estimators.rst#j-b-lu-estimator) (the raw estimator times the factor of $\\frac{ct_\\mathrm{explosion}}{4\\pi V \\Delta t}$, once again see [Implementation](../montecarlo/estimators.rst#implementation)), which would then affect other plasma properties that depend on the `j_blues` values (see [Plasma](../setup/plasma/index.rst)). Otherwise, the `j_blues` values in the plasma are calculated as they typically are in the plasma calculations, and the $J^b_{lu}$ estimator is only used for the [formal integral](../spectrum/formal_integral.rst). Even in the former case, while the estimator does contribute to the updating of the plasma when the ``advance_state`` method is called, it does **not** contribute to the determination of if the simulation has converged, and it does **not** show up in the convergence logging or convergence plots."
   ]
  },
  {
   "cell_type": "markdown",
   "id": "127746c2",
   "metadata": {},
   "source": [
    "## Code Example\n",
    "\n",
    "We now show a detailed example of how the plasma is updated using the estimators after a Monte Carlo iteration. First, we import the necessary packages and set up a simulation (see [Setting Up the Simulation](../setup/index.rst)):"
   ]
  },
  {
   "cell_type": "code",
   "execution_count": 1,
   "id": "7a8bd905",
   "metadata": {
    "execution": {
     "iopub.execute_input": "2022-08-04T02:13:30.724827Z",
     "iopub.status.busy": "2022-08-04T02:13:30.724310Z",
     "iopub.status.idle": "2022-08-04T02:13:39.483547Z",
     "shell.execute_reply": "2022-08-04T02:13:39.482881Z"
    }
   },
   "outputs": [
    {
     "name": "stderr",
     "output_type": "stream",
     "text": [
      "/usr/share/miniconda3/envs/tardis/lib/python3.8/site-packages/setuptools_scm/git.py:135: UserWarning: \"/home/runner/work/tardis/tardis\" is shallow and may cause errors\n",
      "  warnings.warn(f'\"{wd.path}\" is shallow and may cause errors')\n"
     ]
    },
    {
     "data": {
      "application/vnd.jupyter.widget-view+json": {
       "model_id": "1bd497c66a224391ad7f8ac2bf1dd633",
       "version_major": 2,
       "version_minor": 0
      },
      "text/plain": [
       "Iterations:          0/? [00:00<?, ?it/s]"
      ]
     },
     "metadata": {},
     "output_type": "display_data"
    },
    {
     "data": {
      "application/vnd.jupyter.widget-view+json": {
       "model_id": "708d089ee0b142aea94f3582171b8183",
       "version_major": 2,
       "version_minor": 0
      },
      "text/plain": [
       "Packets:             0/? [00:00<?, ?it/s]"
      ]
     },
     "metadata": {},
     "output_type": "display_data"
    }
   ],
   "source": [
    "from tardis.io.config_reader import Configuration\n",
    "from tardis.simulation import Simulation\n",
    "from tardis.io.atom_data.util import download_atom_data\n",
    "import numpy as np\n",
    "from scipy.special import zeta\n",
    "\n",
    "from astropy import units as u, constants as const\n",
    "\n",
    "# We download the atomic data needed to run this notebook\n",
    "download_atom_data('kurucz_cd23_chianti_H_He')"
   ]
  },
  {
   "cell_type": "code",
   "execution_count": 2,
   "id": "259a7aa9",
   "metadata": {
    "execution": {
     "iopub.execute_input": "2022-08-04T02:13:39.488029Z",
     "iopub.status.busy": "2022-08-04T02:13:39.487546Z",
     "iopub.status.idle": "2022-08-04T02:13:39.617570Z",
     "shell.execute_reply": "2022-08-04T02:13:39.616993Z"
    }
   },
   "outputs": [],
   "source": [
    "tardis_config = Configuration.from_yaml('tardis_example.yml')\n",
    "\n",
    "# We manually put in the damping constants and t_inner_update_exponent for\n",
    "# illustrative purposes:\n",
    "d_t_rad = 0.5\n",
    "d_w = 0.3\n",
    "d_t_inner = 0.7\n",
    "t_inner_update_exponent = -0.5\n",
    "\n",
    "# We set the above values into the configuration:\n",
    "tardis_config.montecarlo.convergence_strategy.t_rad.damping_constant = d_t_rad\n",
    "tardis_config.montecarlo.convergence_strategy.w.damping_constant = d_w\n",
    "tardis_config.montecarlo.convergence_strategy.t_inner.damping_constant = d_t_inner\n",
    "tardis_config.montecarlo.convergence_strategy.t_inner_update_exponent = t_inner_update_exponent"
   ]
  },
  {
   "cell_type": "code",
   "execution_count": 3,
   "id": "bb37402c",
   "metadata": {
    "execution": {
     "iopub.execute_input": "2022-08-04T02:13:39.622142Z",
     "iopub.status.busy": "2022-08-04T02:13:39.621085Z",
     "iopub.status.idle": "2022-08-04T02:13:42.703686Z",
     "shell.execute_reply": "2022-08-04T02:13:42.703060Z"
    }
   },
   "outputs": [
    {
     "name": "stderr",
     "output_type": "stream",
     "text": [
      "/home/runner/work/tardis/tardis/tardis/plasma/properties/radiative_properties.py:93: RuntimeWarning: invalid value encountered in true_divide\n",
      "  (g_lower * n_upper) / (g_upper * n_lower)\n"
     ]
    },
    {
     "name": "stderr",
     "output_type": "stream",
     "text": [
      "/home/runner/work/tardis/tardis/tardis/plasma/properties/radiative_properties.py:93: RuntimeWarning: invalid value encountered in true_divide\n",
      "  (g_lower * n_upper) / (g_upper * n_lower)\n"
     ]
    }
   ],
   "source": [
    "sim = Simulation.from_config(tardis_config)\n",
    "\n",
    "model = sim.model\n",
    "plasma = sim.plasma\n",
    "runner = sim.runner"
   ]
  },
  {
   "cell_type": "markdown",
   "id": "cf13d946",
   "metadata": {},
   "source": [
    "We show the initial radiative temperature and dilution factor in each shell, the initial inner boundary temperature, and the initial electron densities in each shell:"
   ]
  },
  {
   "cell_type": "code",
   "execution_count": 4,
   "id": "e3f43f93",
   "metadata": {
    "execution": {
     "iopub.execute_input": "2022-08-04T02:13:42.708231Z",
     "iopub.status.busy": "2022-08-04T02:13:42.707172Z",
     "iopub.status.idle": "2022-08-04T02:13:42.718034Z",
     "shell.execute_reply": "2022-08-04T02:13:42.717542Z"
    }
   },
   "outputs": [
    {
     "data": {
      "text/latex": [
       "$[9926.502,~9911.6354,~9896.8133,~9882.0354,~9867.3016,~9852.6117,~9837.9654,~9823.3627,~9808.8032,~9794.2868,~9779.8133,~9765.3825,~9750.9943,~9736.6484,~9722.3446,~9708.0828,~9693.8628,~9679.6844,~9665.5474,~9651.4516] \\; \\mathrm{K}$"
      ],
      "text/plain": [
       "<Quantity [9926.50196546, 9911.63537753, 9896.81325339, 9882.03539385,\n",
       "           9867.30160093, 9852.6116778 , 9837.96542884, 9823.36265956,\n",
       "           9808.80317663, 9794.28678787, 9779.81330223, 9765.3825298 ,\n",
       "           9750.99428177, 9736.64837045, 9722.34460927, 9708.08281272,\n",
       "           9693.8627964 , 9679.68437699, 9665.54737223, 9651.45160094] K>"
      ]
     },
     "execution_count": 4,
     "metadata": {},
     "output_type": "execute_result"
    }
   ],
   "source": [
    "model.t_rad"
   ]
  },
  {
   "cell_type": "code",
   "execution_count": 5,
   "id": "90bb6147",
   "metadata": {
    "execution": {
     "iopub.execute_input": "2022-08-04T02:13:42.721893Z",
     "iopub.status.busy": "2022-08-04T02:13:42.720907Z",
     "iopub.status.idle": "2022-08-04T02:13:42.726889Z",
     "shell.execute_reply": "2022-08-04T02:13:42.726411Z"
    }
   },
   "outputs": [
    {
     "data": {
      "text/plain": [
       "array([0.40039164, 0.33245223, 0.28966798, 0.2577141 , 0.23224568,\n",
       "       0.21120466, 0.19341188, 0.17811402, 0.16479446, 0.1530809 ,\n",
       "       0.14269498, 0.13342262, 0.12509541, 0.11757849, 0.11076215,\n",
       "       0.10455605, 0.09888494, 0.09368554, 0.08890421, 0.08449514])"
      ]
     },
     "execution_count": 5,
     "metadata": {},
     "output_type": "execute_result"
    }
   ],
   "source": [
    "model.w"
   ]
  },
  {
   "cell_type": "code",
   "execution_count": 6,
   "id": "66209ff7",
   "metadata": {
    "execution": {
     "iopub.execute_input": "2022-08-04T02:13:42.730678Z",
     "iopub.status.busy": "2022-08-04T02:13:42.729702Z",
     "iopub.status.idle": "2022-08-04T02:13:42.735660Z",
     "shell.execute_reply": "2022-08-04T02:13:42.735152Z"
    }
   },
   "outputs": [
    {
     "data": {
      "text/latex": [
       "$9933.952 \\; \\mathrm{K}$"
      ],
      "text/plain": [
       "<Quantity 9933.95199592 K>"
      ]
     },
     "execution_count": 6,
     "metadata": {},
     "output_type": "execute_result"
    }
   ],
   "source": [
    "model.t_inner"
   ]
  },
  {
   "cell_type": "code",
   "execution_count": 7,
   "id": "7b2ae7b4",
   "metadata": {
    "execution": {
     "iopub.execute_input": "2022-08-04T02:13:42.739545Z",
     "iopub.status.busy": "2022-08-04T02:13:42.738499Z",
     "iopub.status.idle": "2022-08-04T02:13:42.745284Z",
     "shell.execute_reply": "2022-08-04T02:13:42.744797Z"
    }
   },
   "outputs": [
    {
     "data": {
      "text/plain": [
       "0     2.865134e+09\n",
       "1     2.182365e+09\n",
       "2     1.678840e+09\n",
       "3     1.303472e+09\n",
       "4     1.020811e+09\n",
       "5     8.059447e+08\n",
       "6     6.411609e+08\n",
       "7     5.137297e+08\n",
       "8     4.144079e+08\n",
       "9     3.364195e+08\n",
       "10    2.747519e+08\n",
       "11    2.256656e+08\n",
       "12    1.863476e+08\n",
       "13    1.546660e+08\n",
       "14    1.289928e+08\n",
       "15    1.080764e+08\n",
       "16    9.094799e+07\n",
       "17    7.685317e+07\n",
       "18    6.520063e+07\n",
       "19    5.552442e+07\n",
       "dtype: float64"
      ]
     },
     "execution_count": 7,
     "metadata": {},
     "output_type": "execute_result"
    }
   ],
   "source": [
    "plasma.electron_densities"
   ]
  },
  {
   "cell_type": "markdown",
   "id": "a248ff2c",
   "metadata": {},
   "source": [
    "We set the number of packets and we run one iteration of the Monte Carlo simulation:"
   ]
  },
  {
   "cell_type": "code",
   "execution_count": 8,
   "id": "9f7eb44f",
   "metadata": {
    "execution": {
     "iopub.execute_input": "2022-08-04T02:13:42.749290Z",
     "iopub.status.busy": "2022-08-04T02:13:42.748305Z",
     "iopub.status.idle": "2022-08-04T02:14:05.910711Z",
     "shell.execute_reply": "2022-08-04T02:14:05.910135Z"
    },
    "scrolled": true
   },
   "outputs": [
    {
     "data": {
      "application/vnd.jupyter.widget-view+json": {
       "model_id": "7995ffdc7eed40e295cb08be447b79a8",
       "version_major": 2,
       "version_minor": 0
      },
      "text/plain": [
       "TqdmHBox(children=(HTML(value='Iterations:', layout=Layout(width='6%')), FloatProgress(value=0.0, layout=Layou…"
      ]
     },
     "metadata": {},
     "output_type": "display_data"
    },
    {
     "data": {
      "application/vnd.jupyter.widget-view+json": {
       "model_id": "8a465971490246d789fdf568a61d5013",
       "version_major": 2,
       "version_minor": 0
      },
      "text/plain": [
       "TqdmHBox(children=(HTML(value='Packets:   ', layout=Layout(width='6%')), FloatProgress(value=0.0, layout=Layou…"
      ]
     },
     "metadata": {},
     "output_type": "display_data"
    }
   ],
   "source": [
    "N_packets = 10000\n",
    "\n",
    "# Using the commented out code below, we can also get the number of packets\n",
    "# from the configuration -- try it out:\n",
    "#N_packets = tardis_config.montecarlo.no_of_packets\n",
    "\n",
    "sim.iterate(N_packets)"
   ]
  },
  {
   "cell_type": "markdown",
   "id": "d3d0074d",
   "metadata": {},
   "source": [
    "We now show the values of the $J$ and $\\bar \\nu$ estimators, attaching their proper units (note that these are the raw estimators, and the factors of $\\frac{1}{4\\pi V \\Delta t}$ etc are not included):"
   ]
  },
  {
   "cell_type": "code",
   "execution_count": 9,
   "id": "21500ea8",
   "metadata": {
    "execution": {
     "iopub.execute_input": "2022-08-04T02:14:05.915250Z",
     "iopub.status.busy": "2022-08-04T02:14:05.914216Z",
     "iopub.status.idle": "2022-08-04T02:14:05.921425Z",
     "shell.execute_reply": "2022-08-04T02:14:05.920961Z"
    },
    "scrolled": false
   },
   "outputs": [
    {
     "data": {
      "text/latex": [
       "$[1.1326488 \\times 10^{14},~9.8061971 \\times 10^{13},~8.7712772 \\times 10^{13},~7.9317802 \\times 10^{13},~7.3345267 \\times 10^{13},~6.6928878 \\times 10^{13},~6.4282524 \\times 10^{13},~6.0958957 \\times 10^{13},~5.7624491 \\times 10^{13},~5.4974415 \\times 10^{13},~5.2774217 \\times 10^{13},~5.1151601 \\times 10^{13},~4.9427818 \\times 10^{13},~4.7869045 \\times 10^{13},~4.665492 \\times 10^{13},~4.5519971 \\times 10^{13},~4.4615124 \\times 10^{13},~4.3829349 \\times 10^{13},~4.314174 \\times 10^{13},~4.2213738 \\times 10^{13}] \\; \\mathrm{cm\\,erg}$"
      ],
      "text/plain": [
       "<Quantity [1.13264880e+14, 9.80619708e+13, 8.77127720e+13, 7.93178023e+13,\n",
       "           7.33452674e+13, 6.69288783e+13, 6.42825236e+13, 6.09589567e+13,\n",
       "           5.76244911e+13, 5.49744149e+13, 5.27742170e+13, 5.11516006e+13,\n",
       "           4.94278177e+13, 4.78690453e+13, 4.66549201e+13, 4.55199706e+13,\n",
       "           4.46151244e+13, 4.38293494e+13, 4.31417403e+13, 4.22137375e+13] cm erg>"
      ]
     },
     "execution_count": 9,
     "metadata": {},
     "output_type": "execute_result"
    }
   ],
   "source": [
    "j_estimator = runner.j_estimator * (u.erg * u.cm) \n",
    "j_estimator"
   ]
  },
  {
   "cell_type": "code",
   "execution_count": 10,
   "id": "fac91ee2",
   "metadata": {
    "execution": {
     "iopub.execute_input": "2022-08-04T02:14:05.925226Z",
     "iopub.status.busy": "2022-08-04T02:14:05.924169Z",
     "iopub.status.idle": "2022-08-04T02:14:05.930810Z",
     "shell.execute_reply": "2022-08-04T02:14:05.930357Z"
    },
    "scrolled": true
   },
   "outputs": [
    {
     "data": {
      "text/latex": [
       "$[9.2366972 \\times 10^{28},~8.0044096 \\times 10^{28},~7.1670115 \\times 10^{28},~6.5223323 \\times 10^{28},~6.0428657 \\times 10^{28},~5.4875986 \\times 10^{28},~5.2989335 \\times 10^{28},~5.0217767 \\times 10^{28},~4.7280809 \\times 10^{28},~4.5065464 \\times 10^{28},~4.3091838 \\times 10^{28},~4.1273178 \\times 10^{28},~3.9768577 \\times 10^{28},~3.8148873 \\times 10^{28},~3.6815176 \\times 10^{28},~3.5592959 \\times 10^{28},~3.4670082 \\times 10^{28},~3.3847244 \\times 10^{28},~3.3295518 \\times 10^{28},~3.2424102 \\times 10^{28}] \\; \\mathrm{Hz\\,cm\\,erg}$"
      ],
      "text/plain": [
       "<Quantity [9.23669721e+28, 8.00440961e+28, 7.16701149e+28, 6.52233231e+28,\n",
       "           6.04286574e+28, 5.48759864e+28, 5.29893354e+28, 5.02177670e+28,\n",
       "           4.72808091e+28, 4.50654639e+28, 4.30918375e+28, 4.12731776e+28,\n",
       "           3.97685768e+28, 3.81488727e+28, 3.68151763e+28, 3.55929590e+28,\n",
       "           3.46700820e+28, 3.38472442e+28, 3.32955181e+28, 3.24241018e+28] cm erg Hz>"
      ]
     },
     "execution_count": 10,
     "metadata": {},
     "output_type": "execute_result"
    }
   ],
   "source": [
    "nu_bar_estimator = runner.nu_bar_estimator * (u.erg * u.cm * u.Hz)\n",
    "nu_bar_estimator"
   ]
  },
  {
   "cell_type": "markdown",
   "id": "69c178d2",
   "metadata": {},
   "source": [
    "We show the values of $J$ and $\\bar \\nu$ including the prefactor:"
   ]
  },
  {
   "cell_type": "code",
   "execution_count": 11,
   "id": "9500e34b",
   "metadata": {
    "execution": {
     "iopub.execute_input": "2022-08-04T02:14:05.934605Z",
     "iopub.status.busy": "2022-08-04T02:14:05.933644Z",
     "iopub.status.idle": "2022-08-04T02:14:05.942400Z",
     "shell.execute_reply": "2022-08-04T02:14:05.941937Z"
    }
   },
   "outputs": [
    {
     "data": {
      "text/latex": [
       "$[9.4551879 \\times 10^{10},~7.567263 \\times 10^{10},~6.2755999 \\times 10^{10},~5.2761131 \\times 10^{10},~4.5475679 \\times 10^{10},~3.8772285 \\times 10^{10},~3.4871487 \\times 10^{10},~3.1030738 \\times 10^{10},~2.7579736 \\times 10^{10},~2.4784064 \\times 10^{10},~2.2450014 \\times 10^{10},~2.0565932 \\times 10^{10},~1.8811671 \\times 10^{10},~1.727086 \\times 10^{10},~1.5979504 \\times 10^{10},~1.4819967 \\times 10^{10},~1.3824559 \\times 10^{10},~1.2941252 \\times 10^{10},~1.2151917 \\times 10^{10},~1.1355541 \\times 10^{10}] \\; \\mathrm{\\frac{erg}{s\\,cm^{2}}}$"
      ],
      "text/plain": [
       "<Quantity [9.45518792e+10, 7.56726301e+10, 6.27559991e+10, 5.27611308e+10,\n",
       "           4.54756787e+10, 3.87722846e+10, 3.48714873e+10, 3.10307383e+10,\n",
       "           2.75797363e+10, 2.47840640e+10, 2.24500135e+10, 2.05659319e+10,\n",
       "           1.88116707e+10, 1.72708598e+10, 1.59795038e+10, 1.48199674e+10,\n",
       "           1.38245589e+10, 1.29412518e+10, 1.21519167e+10, 1.13555411e+10] erg / (cm2 s)>"
      ]
     },
     "execution_count": 11,
     "metadata": {},
     "output_type": "execute_result"
    }
   ],
   "source": [
    "V = model.volume\n",
    "Delta_t = runner.calculate_time_of_simulation(model)\n",
    "prefactor = 1 / (4 * np.pi * V * Delta_t)\n",
    "J = prefactor * j_estimator\n",
    "J"
   ]
  },
  {
   "cell_type": "code",
   "execution_count": 12,
   "id": "a5720987",
   "metadata": {
    "execution": {
     "iopub.execute_input": "2022-08-04T02:14:05.946343Z",
     "iopub.status.busy": "2022-08-04T02:14:05.945353Z",
     "iopub.status.idle": "2022-08-04T02:14:05.951948Z",
     "shell.execute_reply": "2022-08-04T02:14:05.951474Z"
    }
   },
   "outputs": [
    {
     "data": {
      "text/latex": [
       "$[7.7106609 \\times 10^{25},~6.1768566 \\times 10^{25},~5.1277933 \\times 10^{25},~4.3385674 \\times 10^{25},~3.7467096 \\times 10^{25},~3.1789975 \\times 10^{25},~2.8745246 \\times 10^{25},~2.5563009 \\times 10^{25},~2.2629132 \\times 10^{25},~2.0316821 \\times 10^{25},~1.8331155 \\times 10^{25},~1.6594229 \\times 10^{25},~1.5135472 \\times 10^{25},~1.3763881 \\times 10^{25},~1.2609351 \\times 10^{25},~1.1588024 \\times 10^{25},~1.0742962 \\times 10^{25},~9.9938903 \\times 10^{24},~9.3784896 \\times 10^{24},~8.7221185 \\times 10^{24}] \\; \\mathrm{\\frac{Hz\\,erg}{s\\,cm^{2}}}$"
      ],
      "text/plain": [
       "<Quantity [7.71066085e+25, 6.17685656e+25, 5.12779333e+25, 4.33856736e+25,\n",
       "           3.74670964e+25, 3.17899750e+25, 2.87452457e+25, 2.55630094e+25,\n",
       "           2.26291325e+25, 2.03168209e+25, 1.83311547e+25, 1.65942287e+25,\n",
       "           1.51354724e+25, 1.37638808e+25, 1.26093507e+25, 1.15880235e+25,\n",
       "           1.07429621e+25, 9.99389027e+24, 9.37848961e+24, 8.72211852e+24] erg Hz / (cm2 s)>"
      ]
     },
     "execution_count": 12,
     "metadata": {},
     "output_type": "execute_result"
    }
   ],
   "source": [
    "nu_bar = prefactor * nu_bar_estimator\n",
    "nu_bar"
   ]
  },
  {
   "cell_type": "markdown",
   "id": "28d69ca6",
   "metadata": {},
   "source": [
    "As mentioned [here](../montecarlo/estimators.rst#j-and-bar-nu-estimators), $\\bar \\nu$ is not truly the mean frequency (as you can see by units). We show the true mean frequency, which will, as expected, be in units of Hz."
   ]
  },
  {
   "cell_type": "code",
   "execution_count": 13,
   "id": "691cf2f6",
   "metadata": {
    "execution": {
     "iopub.execute_input": "2022-08-04T02:14:05.955835Z",
     "iopub.status.busy": "2022-08-04T02:14:05.954844Z",
     "iopub.status.idle": "2022-08-04T02:14:05.961319Z",
     "shell.execute_reply": "2022-08-04T02:14:05.960862Z"
    }
   },
   "outputs": [
    {
     "data": {
      "text/latex": [
       "$[8.1549525 \\times 10^{14},~8.1626032 \\times 10^{14},~8.171001 \\times 10^{14},~8.2230371 \\times 10^{14},~8.2389307 \\times 10^{14},~8.1991493 \\times 10^{14},~8.2431946 \\times 10^{14},~8.2379637 \\times 10^{14},~8.2049851 \\times 10^{14},~8.1975341 \\times 10^{14},~8.1653201 \\times 10^{14},~8.0687949 \\times 10^{14},~8.0457885 \\times 10^{14},~7.9694242 \\times 10^{14},~7.8909526 \\times 10^{14},~7.8191964 \\times 10^{14},~7.7709258 \\times 10^{14},~7.7225066 \\times 10^{14},~7.717704 \\times 10^{14},~7.6809361 \\times 10^{14}] \\; \\mathrm{Hz}$"
      ],
      "text/plain": [
       "<Quantity [8.15495252e+14, 8.16260325e+14, 8.17100102e+14, 8.22303711e+14,\n",
       "           8.23893068e+14, 8.19914928e+14, 8.24319463e+14, 8.23796366e+14,\n",
       "           8.20498509e+14, 8.19753407e+14, 8.16532010e+14, 8.06879493e+14,\n",
       "           8.04578852e+14, 7.96942416e+14, 7.89095260e+14, 7.81919640e+14,\n",
       "           7.77092577e+14, 7.72250664e+14, 7.71770398e+14, 7.68093605e+14] Hz>"
      ]
     },
     "execution_count": 13,
     "metadata": {},
     "output_type": "execute_result"
    }
   ],
   "source": [
    "nu_bar/J"
   ]
  },
  {
   "cell_type": "markdown",
   "id": "bcbf40d4",
   "metadata": {},
   "source": [
    "We show the calculations of the estimated and updated $T_\\mathrm{rad}$ and $W$. Note that the ``decompose()`` method is used to simplify the units:"
   ]
  },
  {
   "cell_type": "code",
   "execution_count": 14,
   "id": "50c639ea",
   "metadata": {
    "execution": {
     "iopub.execute_input": "2022-08-04T02:14:05.965148Z",
     "iopub.status.busy": "2022-08-04T02:14:05.964185Z",
     "iopub.status.idle": "2022-08-04T02:14:05.974737Z",
     "shell.execute_reply": "2022-08-04T02:14:05.974280Z"
    }
   },
   "outputs": [
    {
     "data": {
      "text/latex": [
       "$[10212.753,~10222.334,~10232.851,~10298.018,~10317.922,~10268.102,~10323.262,~10316.711,~10275.41,~10266.079,~10225.736,~10104.854,~10076.043,~9980.4086,~9882.1358,~9792.2728,~9731.8217,~9671.1846,~9665.17,~9619.1242] \\; \\mathrm{K}$"
      ],
      "text/plain": [
       "<Quantity [10212.75275146, 10222.33404753, 10232.85089092, 10298.01763651,\n",
       "           10317.92175646, 10268.10201688, 10323.26166378, 10316.71071495,\n",
       "           10275.4104165 , 10266.07922661, 10225.73647129, 10104.85437906,\n",
       "           10076.04258982,  9980.40864261,  9882.13576533,  9792.27278261,\n",
       "            9731.8216644 ,  9671.18456832,  9665.17002029,  9619.1241619 ] K>"
      ]
     },
     "execution_count": 14,
     "metadata": {},
     "output_type": "execute_result"
    }
   ],
   "source": [
    "t_rad_estimated = ( (const.h.cgs / const.k_B.cgs) \n",
    "                   * (np.pi**4 / (360 * zeta(5, 1)))\n",
    "                   * (nu_bar_estimator / j_estimator) ).decompose()\n",
    "t_rad_estimated"
   ]
  },
  {
   "cell_type": "code",
   "execution_count": 15,
   "id": "b34674df",
   "metadata": {
    "execution": {
     "iopub.execute_input": "2022-08-04T02:14:05.978458Z",
     "iopub.status.busy": "2022-08-04T02:14:05.977492Z",
     "iopub.status.idle": "2022-08-04T02:14:05.983902Z",
     "shell.execute_reply": "2022-08-04T02:14:05.983436Z"
    }
   },
   "outputs": [
    {
     "data": {
      "text/latex": [
       "$[10069.627,~10066.985,~10064.832,~10090.027,~10092.612,~10060.357,~10080.614,~10070.037,~10042.107,~10030.183,~10002.775,~9935.1185,~9913.5184,~9858.5285,~9802.2402,~9750.1778,~9712.8422,~9675.4345,~9665.3587,~9635.2879] \\; \\mathrm{K}$"
      ],
      "text/plain": [
       "<Quantity [10069.62735846, 10066.98471253, 10064.83207215, 10090.02651518,\n",
       "           10092.61167869, 10060.35684734, 10080.61354631, 10070.03668726,\n",
       "           10042.10679657, 10030.18300724, 10002.77488676,  9935.11845443,\n",
       "            9913.51843579,  9858.52850653,  9802.2401873 ,  9750.17779766,\n",
       "            9712.8422304 ,  9675.43447265,  9665.35869626,  9635.28788142] K>"
      ]
     },
     "execution_count": 15,
     "metadata": {},
     "output_type": "execute_result"
    }
   ],
   "source": [
    "t_rad_updated = model.t_rad + d_t_rad * (t_rad_estimated - model.t_rad)\n",
    "t_rad_updated"
   ]
  },
  {
   "cell_type": "code",
   "execution_count": 16,
   "id": "b48d8ada",
   "metadata": {
    "execution": {
     "iopub.execute_input": "2022-08-04T02:14:05.987635Z",
     "iopub.status.busy": "2022-08-04T02:14:05.986666Z",
     "iopub.status.idle": "2022-08-04T02:14:06.004209Z",
     "shell.execute_reply": "2022-08-04T02:14:06.003744Z"
    }
   },
   "outputs": [
    {
     "data": {
      "text/latex": [
       "$[0.4815458,~0.38395229,~0.31710812,~0.25991915,~0.22230487,~0.19324105,~0.17011454,~0.15176296,~0.13706675,~0.12362115,~0.11375668,~0.10928659,~0.10111279,~0.096440481,~0.092832218,~0.089300099,~0.085391259,~0.081958935,~0.077151699,~0.073485967] \\; \\mathrm{}$"
      ],
      "text/plain": [
       "<Quantity [0.4815458 , 0.38395229, 0.31710812, 0.25991915, 0.22230487,\n",
       "           0.19324105, 0.17011454, 0.15176296, 0.13706675, 0.12362115,\n",
       "           0.11375668, 0.10928659, 0.10111279, 0.09644048, 0.09283222,\n",
       "           0.0893001 , 0.08539126, 0.08195893, 0.0771517 , 0.07348597]>"
      ]
     },
     "execution_count": 16,
     "metadata": {},
     "output_type": "execute_result"
    }
   ],
   "source": [
    "w_estimated = ( j_estimator / (4 * const.sigma_sb.cgs * t_rad_estimated**4 * V * Delta_t) ).decompose()\n",
    "w_estimated"
   ]
  },
  {
   "cell_type": "code",
   "execution_count": 17,
   "id": "22895e09",
   "metadata": {
    "execution": {
     "iopub.execute_input": "2022-08-04T02:14:06.008270Z",
     "iopub.status.busy": "2022-08-04T02:14:06.007282Z",
     "iopub.status.idle": "2022-08-04T02:14:06.014063Z",
     "shell.execute_reply": "2022-08-04T02:14:06.013598Z"
    }
   },
   "outputs": [
    {
     "data": {
      "text/latex": [
       "$[0.42473789,~0.34790225,~0.29790002,~0.25837561,~0.22926344,~0.20581558,~0.18642268,~0.1702087,~0.15647615,~0.14424298,~0.13401349,~0.12618181,~0.11790062,~0.11123709,~0.10538317,~0.099979266,~0.094836833,~0.090167556,~0.085378458,~0.08119239] \\; \\mathrm{}$"
      ],
      "text/plain": [
       "<Quantity [0.42473789, 0.34790225, 0.29790002, 0.25837561, 0.22926344,\n",
       "           0.20581558, 0.18642268, 0.1702087 , 0.15647615, 0.14424298,\n",
       "           0.13401349, 0.12618181, 0.11790062, 0.11123709, 0.10538317,\n",
       "           0.09997927, 0.09483683, 0.09016756, 0.08537846, 0.08119239]>"
      ]
     },
     "execution_count": 17,
     "metadata": {},
     "output_type": "execute_result"
    }
   ],
   "source": [
    "w_updated = model.w + d_w * (w_estimated - model.w)\n",
    "w_updated"
   ]
  },
  {
   "cell_type": "markdown",
   "id": "7bfefce9",
   "metadata": {},
   "source": [
    "We show the output and requested luminosities, and use these to calculate the estimated and updated $T_\\mathrm{inner}$:"
   ]
  },
  {
   "cell_type": "code",
   "execution_count": 18,
   "id": "795dceb2",
   "metadata": {
    "execution": {
     "iopub.execute_input": "2022-08-04T02:14:06.018038Z",
     "iopub.status.busy": "2022-08-04T02:14:06.017072Z",
     "iopub.status.idle": "2022-08-04T02:14:06.024595Z",
     "shell.execute_reply": "2022-08-04T02:14:06.024130Z"
    }
   },
   "outputs": [
    {
     "data": {
      "text/latex": [
       "$7.9806817 \\times 10^{42} \\; \\mathrm{\\frac{erg}{s}}$"
      ],
      "text/plain": [
       "<Quantity 7.98068173e+42 erg / s>"
      ]
     },
     "execution_count": 18,
     "metadata": {},
     "output_type": "execute_result"
    }
   ],
   "source": [
    "# The output luminosity is calculated between the bounds specified below\n",
    "nu_lower = 0\n",
    "nu_upper = np.inf\n",
    "\n",
    "# Using the commented out code below, we can also get the frequency bounds\n",
    "# from the configuration -- try it out (note we convert between wavelength\n",
    "# and frequency, and thus the order switches):\n",
    "#nu_lower = tardis_config.supernova.luminosity_wavelength_end.to(u.Hz, u.spectral)\n",
    "#nu_upper = tardis_config.supernova.luminosity_wavelength_start.to(u.Hz, u.spectral)\n",
    "\n",
    "L_output = runner.calculate_emitted_luminosity(0,np.inf)\n",
    "L_output"
   ]
  },
  {
   "cell_type": "code",
   "execution_count": 19,
   "id": "b7028da2",
   "metadata": {
    "execution": {
     "iopub.execute_input": "2022-08-04T02:14:06.028416Z",
     "iopub.status.busy": "2022-08-04T02:14:06.027426Z",
     "iopub.status.idle": "2022-08-04T02:14:06.033391Z",
     "shell.execute_reply": "2022-08-04T02:14:06.032936Z"
    }
   },
   "outputs": [
    {
     "data": {
      "text/latex": [
       "$1.0592764 \\times 10^{43} \\; \\mathrm{\\frac{erg}{s}}$"
      ],
      "text/plain": [
       "<Quantity 1.05927636e+43 erg / s>"
      ]
     },
     "execution_count": 19,
     "metadata": {},
     "output_type": "execute_result"
    }
   ],
   "source": [
    "L_requested = sim.luminosity_requested\n",
    "L_requested"
   ]
  },
  {
   "cell_type": "code",
   "execution_count": 20,
   "id": "4a14111a",
   "metadata": {
    "execution": {
     "iopub.execute_input": "2022-08-04T02:14:06.037733Z",
     "iopub.status.busy": "2022-08-04T02:14:06.036765Z",
     "iopub.status.idle": "2022-08-04T02:14:06.042996Z",
     "shell.execute_reply": "2022-08-04T02:14:06.042542Z"
    }
   },
   "outputs": [
    {
     "data": {
      "text/latex": [
       "$11444.76 \\; \\mathrm{K}$"
      ],
      "text/plain": [
       "<Quantity 11444.76030204 K>"
      ]
     },
     "execution_count": 20,
     "metadata": {},
     "output_type": "execute_result"
    }
   ],
   "source": [
    "t_inner_estimated = model.t_inner * (L_output / L_requested)**t_inner_update_exponent\n",
    "t_inner_estimated"
   ]
  },
  {
   "cell_type": "code",
   "execution_count": 21,
   "id": "8bd1062f",
   "metadata": {
    "execution": {
     "iopub.execute_input": "2022-08-04T02:14:06.046854Z",
     "iopub.status.busy": "2022-08-04T02:14:06.045784Z",
     "iopub.status.idle": "2022-08-04T02:14:06.052172Z",
     "shell.execute_reply": "2022-08-04T02:14:06.051701Z"
    }
   },
   "outputs": [
    {
     "data": {
      "text/latex": [
       "$10991.518 \\; \\mathrm{K}$"
      ],
      "text/plain": [
       "<Quantity 10991.51781021 K>"
      ]
     },
     "execution_count": 21,
     "metadata": {},
     "output_type": "execute_result"
    }
   ],
   "source": [
    "t_inner_updated = model.t_inner + d_t_inner * (t_inner_estimated - model.t_inner)\n",
    "t_inner_updated"
   ]
  },
  {
   "cell_type": "markdown",
   "id": "43b31d2f",
   "metadata": {},
   "source": [
    "We now advance the state of the simulation based on the estimators. This will also display a summary of the updated values of $T_\\mathrm{rad}$ and $W$. Additionally, the ``advance_state()`` method checks for convergence and returns the convergence status as shown below."
   ]
  },
  {
   "cell_type": "code",
   "execution_count": 22,
   "id": "9676b22b",
   "metadata": {
    "execution": {
     "iopub.execute_input": "2022-08-04T02:14:06.056083Z",
     "iopub.status.busy": "2022-08-04T02:14:06.055087Z",
     "iopub.status.idle": "2022-08-04T02:14:06.148035Z",
     "shell.execute_reply": "2022-08-04T02:14:06.147357Z"
    },
    "scrolled": true
   },
   "outputs": [
    {
     "data": {
      "text/html": [
       "<style  type=\"text/css\" >\n",
       "</style><table id=\"T_1de81c54_139b_11ed_94b3_000d3a1a2929\" ><thead>    <tr>        <th class=\"index_name level0\" >Shell No.</th>        <th class=\"col_heading level0 col0\" >t_rad</th>        <th class=\"col_heading level0 col1\" >next_t_rad</th>        <th class=\"col_heading level0 col2\" >w</th>        <th class=\"col_heading level0 col3\" >next_w</th>    </tr></thead><tbody>\n",
       "                <tr>\n",
       "                        <th id=\"T_1de81c54_139b_11ed_94b3_000d3a1a2929level0_row0\" class=\"row_heading level0 row0\" >0</th>\n",
       "                        <td id=\"T_1de81c54_139b_11ed_94b3_000d3a1a2929row0_col0\" class=\"data row0 col0\" >9.93e+03</td>\n",
       "                        <td id=\"T_1de81c54_139b_11ed_94b3_000d3a1a2929row0_col1\" class=\"data row0 col1\" >1.01e+04</td>\n",
       "                        <td id=\"T_1de81c54_139b_11ed_94b3_000d3a1a2929row0_col2\" class=\"data row0 col2\" >0.4</td>\n",
       "                        <td id=\"T_1de81c54_139b_11ed_94b3_000d3a1a2929row0_col3\" class=\"data row0 col3\" >0.425</td>\n",
       "            </tr>\n",
       "            <tr>\n",
       "                        <th id=\"T_1de81c54_139b_11ed_94b3_000d3a1a2929level0_row1\" class=\"row_heading level0 row1\" >5</th>\n",
       "                        <td id=\"T_1de81c54_139b_11ed_94b3_000d3a1a2929row1_col0\" class=\"data row1 col0\" >9.85e+03</td>\n",
       "                        <td id=\"T_1de81c54_139b_11ed_94b3_000d3a1a2929row1_col1\" class=\"data row1 col1\" >1.01e+04</td>\n",
       "                        <td id=\"T_1de81c54_139b_11ed_94b3_000d3a1a2929row1_col2\" class=\"data row1 col2\" >0.211</td>\n",
       "                        <td id=\"T_1de81c54_139b_11ed_94b3_000d3a1a2929row1_col3\" class=\"data row1 col3\" >0.206</td>\n",
       "            </tr>\n",
       "            <tr>\n",
       "                        <th id=\"T_1de81c54_139b_11ed_94b3_000d3a1a2929level0_row2\" class=\"row_heading level0 row2\" >10</th>\n",
       "                        <td id=\"T_1de81c54_139b_11ed_94b3_000d3a1a2929row2_col0\" class=\"data row2 col0\" >9.78e+03</td>\n",
       "                        <td id=\"T_1de81c54_139b_11ed_94b3_000d3a1a2929row2_col1\" class=\"data row2 col1\" >1e+04</td>\n",
       "                        <td id=\"T_1de81c54_139b_11ed_94b3_000d3a1a2929row2_col2\" class=\"data row2 col2\" >0.143</td>\n",
       "                        <td id=\"T_1de81c54_139b_11ed_94b3_000d3a1a2929row2_col3\" class=\"data row2 col3\" >0.134</td>\n",
       "            </tr>\n",
       "            <tr>\n",
       "                        <th id=\"T_1de81c54_139b_11ed_94b3_000d3a1a2929level0_row3\" class=\"row_heading level0 row3\" >15</th>\n",
       "                        <td id=\"T_1de81c54_139b_11ed_94b3_000d3a1a2929row3_col0\" class=\"data row3 col0\" >9.71e+03</td>\n",
       "                        <td id=\"T_1de81c54_139b_11ed_94b3_000d3a1a2929row3_col1\" class=\"data row3 col1\" >9.75e+03</td>\n",
       "                        <td id=\"T_1de81c54_139b_11ed_94b3_000d3a1a2929row3_col2\" class=\"data row3 col2\" >0.105</td>\n",
       "                        <td id=\"T_1de81c54_139b_11ed_94b3_000d3a1a2929row3_col3\" class=\"data row3 col3\" >0.1</td>\n",
       "            </tr>\n",
       "    </tbody></table>"
      ],
      "text/plain": [
       "<pandas.io.formats.style.Styler at 0x7f34d720ac40>"
      ]
     },
     "metadata": {},
     "output_type": "display_data"
    },
    {
     "name": "stderr",
     "output_type": "stream",
     "text": [
      "/home/runner/work/tardis/tardis/tardis/plasma/properties/radiative_properties.py:93: RuntimeWarning: invalid value encountered in true_divide\n",
      "  (g_lower * n_upper) / (g_upper * n_lower)\n"
     ]
    },
    {
     "data": {
      "text/plain": [
       "False"
      ]
     },
     "execution_count": 22,
     "metadata": {},
     "output_type": "execute_result"
    }
   ],
   "source": [
    "sim.advance_state()"
   ]
  },
  {
   "cell_type": "markdown",
   "id": "9619477d",
   "metadata": {},
   "source": [
    "Finally, we show the full updated $T_\\mathrm{rad}$, $W$, and $T_\\mathrm{inner}$, as well as the updated electron densities which were updated along with the rest of the plasma based on the new values for $T_\\mathrm{rad}$, $W$, and $T_\\mathrm{inner}$. Compare these with our calculations above and with the initial values at the beginning of the code example!"
   ]
  },
  {
   "cell_type": "code",
   "execution_count": 23,
   "id": "fe0b9f40",
   "metadata": {
    "execution": {
     "iopub.execute_input": "2022-08-04T02:14:06.152475Z",
     "iopub.status.busy": "2022-08-04T02:14:06.151268Z",
     "iopub.status.idle": "2022-08-04T02:14:06.158153Z",
     "shell.execute_reply": "2022-08-04T02:14:06.157657Z"
    }
   },
   "outputs": [
    {
     "data": {
      "text/latex": [
       "$[10069.626,~10066.983,~10064.831,~10090.025,~10092.61,~10060.355,~10080.612,~10070.035,~10042.105,~10030.182,~10002.773,~9935.1171,~9913.5171,~9858.5271,~9802.2388,~9750.1765,~9712.8409,~9675.4331,~9665.3574,~9635.2866] \\; \\mathrm{K}$"
      ],
      "text/plain": [
       "<Quantity [10069.62596067, 10066.98331343, 10064.83067161, 10090.02510572,\n",
       "           10092.6102665 , 10060.35544197, 10080.61213339, 10070.03527523,\n",
       "           10042.1053902 , 10030.18160214, 10002.77348719,  9935.1170714 ,\n",
       "            9913.51705671,  9858.52714054,  9802.23883475,  9750.17645742,\n",
       "            9712.84089843,  9675.43314898,  9665.35737341,  9635.28656487] K>"
      ]
     },
     "execution_count": 23,
     "metadata": {},
     "output_type": "execute_result"
    }
   ],
   "source": [
    "model.t_rad"
   ]
  },
  {
   "cell_type": "code",
   "execution_count": 24,
   "id": "8de89bb2",
   "metadata": {
    "execution": {
     "iopub.execute_input": "2022-08-04T02:14:06.162102Z",
     "iopub.status.busy": "2022-08-04T02:14:06.161114Z",
     "iopub.status.idle": "2022-08-04T02:14:06.167156Z",
     "shell.execute_reply": "2022-08-04T02:14:06.166672Z"
    },
    "scrolled": true
   },
   "outputs": [
    {
     "data": {
      "text/plain": [
       "array([0.42473789, 0.34790225, 0.29790003, 0.25837562, 0.22926344,\n",
       "       0.20581558, 0.18642268, 0.1702087 , 0.15647615, 0.14424298,\n",
       "       0.1340135 , 0.12618181, 0.11790063, 0.11123709, 0.10538317,\n",
       "       0.09997927, 0.09483683, 0.09016756, 0.08537846, 0.08119239])"
      ]
     },
     "execution_count": 24,
     "metadata": {},
     "output_type": "execute_result"
    }
   ],
   "source": [
    "model.w"
   ]
  },
  {
   "cell_type": "code",
   "execution_count": 25,
   "id": "4f78c4fe",
   "metadata": {
    "execution": {
     "iopub.execute_input": "2022-08-04T02:14:06.171074Z",
     "iopub.status.busy": "2022-08-04T02:14:06.170100Z",
     "iopub.status.idle": "2022-08-04T02:14:06.176057Z",
     "shell.execute_reply": "2022-08-04T02:14:06.175579Z"
    }
   },
   "outputs": [
    {
     "data": {
      "text/latex": [
       "$10991.518 \\; \\mathrm{K}$"
      ],
      "text/plain": [
       "<Quantity 10991.51781021 K>"
      ]
     },
     "execution_count": 25,
     "metadata": {},
     "output_type": "execute_result"
    }
   ],
   "source": [
    "model.t_inner"
   ]
  },
  {
   "cell_type": "code",
   "execution_count": 26,
   "id": "fcaf08ff",
   "metadata": {
    "execution": {
     "iopub.execute_input": "2022-08-04T02:14:06.179824Z",
     "iopub.status.busy": "2022-08-04T02:14:06.178833Z",
     "iopub.status.idle": "2022-08-04T02:14:06.185465Z",
     "shell.execute_reply": "2022-08-04T02:14:06.184987Z"
    }
   },
   "outputs": [
    {
     "data": {
      "text/plain": [
       "0     2.879194e+09\n",
       "1     2.192349e+09\n",
       "2     1.686013e+09\n",
       "3     1.309369e+09\n",
       "4     1.025252e+09\n",
       "5     8.089293e+08\n",
       "6     6.437049e+08\n",
       "7     5.156985e+08\n",
       "8     4.158632e+08\n",
       "9     3.375895e+08\n",
       "10    2.756466e+08\n",
       "11    2.262224e+08\n",
       "12    1.867888e+08\n",
       "13    1.549413e+08\n",
       "14    1.291439e+08\n",
       "15    1.081434e+08\n",
       "16    9.097366e+07\n",
       "17    7.684827e+07\n",
       "18    6.520044e+07\n",
       "19    5.551064e+07\n",
       "dtype: float64"
      ]
     },
     "execution_count": 26,
     "metadata": {},
     "output_type": "execute_result"
    }
   ],
   "source": [
    "plasma.electron_densities"
   ]
  }
 ],
 "metadata": {
  "kernelspec": {
   "display_name": "Python 3 (ipykernel)",
   "language": "python",
   "name": "python3"
  },
  "language_info": {
   "codemirror_mode": {
    "name": "ipython",
    "version": 3
   },
   "file_extension": ".py",
   "mimetype": "text/x-python",
   "name": "python",
   "nbconvert_exporter": "python",
   "pygments_lexer": "ipython3",
   "version": "3.8.13"
  },
  "vscode": {
   "interpreter": {
    "hash": "c20eb03b6e6c860a5223c79131a5cfd0b7e61a9aa5d08c2b1400663bc6cc4e6d"
   }
  },
  "widgets": {
   "application/vnd.jupyter.widget-state+json": {
    "state": {
     "0ee2b1c54c5f4f93aa2d4f4554c849fb": {
      "model_module": "@jupyter-widgets/base",
      "model_module_version": "1.2.0",
      "model_name": "LayoutModel",
      "state": {
       "_model_module": "@jupyter-widgets/base",
       "_model_module_version": "1.2.0",
       "_model_name": "LayoutModel",
       "_view_count": null,
       "_view_module": "@jupyter-widgets/base",
       "_view_module_version": "1.2.0",
       "_view_name": "LayoutView",
       "align_content": null,
       "align_items": null,
       "align_self": null,
       "border": null,
       "bottom": null,
       "display": null,
       "flex": null,
       "flex_flow": null,
       "grid_area": null,
       "grid_auto_columns": null,
       "grid_auto_flow": null,
       "grid_auto_rows": null,
       "grid_column": null,
       "grid_gap": null,
       "grid_row": null,
       "grid_template_areas": null,
       "grid_template_columns": null,
       "grid_template_rows": null,
       "height": null,
       "justify_content": null,
       "justify_items": null,
       "left": null,
       "margin": null,
       "max_height": null,
       "max_width": null,
       "min_height": null,
       "min_width": null,
       "object_fit": null,
       "object_position": null,
       "order": null,
       "overflow": null,
       "overflow_x": null,
       "overflow_y": null,
       "padding": null,
       "right": null,
       "top": null,
       "visibility": null,
       "width": "6%"
      }
     },
     "107a182eab3e41769e24b9d7c1651716": {
      "model_module": "@jupyter-widgets/controls",
      "model_module_version": "1.5.0",
      "model_name": "DescriptionStyleModel",
      "state": {
       "_model_module": "@jupyter-widgets/controls",
       "_model_module_version": "1.5.0",
       "_model_name": "DescriptionStyleModel",
       "_view_count": null,
       "_view_module": "@jupyter-widgets/base",
       "_view_module_version": "1.2.0",
       "_view_name": "StyleView",
       "description_width": ""
      }
     },
     "10dbd15dd50444ffbd95fed4febe3750": {
      "model_module": "@jupyter-widgets/base",
      "model_module_version": "1.2.0",
      "model_name": "LayoutModel",
      "state": {
       "_model_module": "@jupyter-widgets/base",
       "_model_module_version": "1.2.0",
       "_model_name": "LayoutModel",
       "_view_count": null,
       "_view_module": "@jupyter-widgets/base",
       "_view_module_version": "1.2.0",
       "_view_name": "LayoutView",
       "align_content": null,
       "align_items": null,
       "align_self": null,
       "border": null,
       "bottom": null,
       "display": null,
       "flex": null,
       "flex_flow": null,
       "grid_area": null,
       "grid_auto_columns": null,
       "grid_auto_flow": null,
       "grid_auto_rows": null,
       "grid_column": null,
       "grid_gap": null,
       "grid_row": null,
       "grid_template_areas": null,
       "grid_template_columns": null,
       "grid_template_rows": null,
       "height": null,
       "justify_content": null,
       "justify_items": null,
       "left": null,
       "margin": null,
       "max_height": null,
       "max_width": null,
       "min_height": null,
       "min_width": null,
       "object_fit": null,
       "object_position": null,
       "order": null,
       "overflow": null,
       "overflow_x": null,
       "overflow_y": null,
       "padding": null,
       "right": null,
       "top": null,
       "visibility": null,
       "width": null
      }
     },
     "18f33f1781234d069647f07c9ce7ec45": {
      "model_module": "@jupyter-widgets/controls",
      "model_module_version": "1.5.0",
      "model_name": "HTMLModel",
      "state": {
       "_dom_classes": [],
       "_model_module": "@jupyter-widgets/controls",
       "_model_module_version": "1.5.0",
       "_model_name": "HTMLModel",
       "_view_count": null,
       "_view_module": "@jupyter-widgets/controls",
       "_view_module_version": "1.5.0",
       "_view_name": "HTMLView",
       "description": "",
       "description_tooltip": null,
       "layout": "IPY_MODEL_0ee2b1c54c5f4f93aa2d4f4554c849fb",
       "placeholder": "​",
       "style": "IPY_MODEL_db3ad0762ba341fa992edaa892c2595a",
       "value": "Iterations:"
      }
     },
     "18fcc892e9194e42a7fe7bf8e5364545": {
      "model_module": "@jupyter-widgets/controls",
      "model_module_version": "1.5.0",
      "model_name": "ProgressStyleModel",
      "state": {
       "_model_module": "@jupyter-widgets/controls",
       "_model_module_version": "1.5.0",
       "_model_name": "ProgressStyleModel",
       "_view_count": null,
       "_view_module": "@jupyter-widgets/base",
       "_view_module_version": "1.2.0",
       "_view_name": "StyleView",
       "bar_color": null,
       "description_width": ""
      }
     },
     "1ab14d38b0e248eea351270a81012622": {
      "model_module": "@jupyter-widgets/base",
      "model_module_version": "1.2.0",
      "model_name": "LayoutModel",
      "state": {
       "_model_module": "@jupyter-widgets/base",
       "_model_module_version": "1.2.0",
       "_model_name": "LayoutModel",
       "_view_count": null,
       "_view_module": "@jupyter-widgets/base",
       "_view_module_version": "1.2.0",
       "_view_name": "LayoutView",
       "align_content": null,
       "align_items": null,
       "align_self": null,
       "border": null,
       "bottom": null,
       "display": null,
       "flex": null,
       "flex_flow": null,
       "grid_area": null,
       "grid_auto_columns": null,
       "grid_auto_flow": null,
       "grid_auto_rows": null,
       "grid_column": null,
       "grid_gap": null,
       "grid_row": null,
       "grid_template_areas": null,
       "grid_template_columns": null,
       "grid_template_rows": null,
       "height": null,
       "justify_content": null,
       "justify_items": null,
       "left": null,
       "margin": null,
       "max_height": null,
       "max_width": null,
       "min_height": null,
       "min_width": null,
       "object_fit": null,
       "object_position": null,
       "order": null,
       "overflow": null,
       "overflow_x": null,
       "overflow_y": null,
       "padding": null,
       "right": null,
       "top": null,
       "visibility": null,
       "width": null
      }
     },
     "1b56e42e73984e808ecc62cff212c1f2": {
      "model_module": "@jupyter-widgets/controls",
      "model_module_version": "1.5.0",
      "model_name": "DescriptionStyleModel",
      "state": {
       "_model_module": "@jupyter-widgets/controls",
       "_model_module_version": "1.5.0",
       "_model_name": "DescriptionStyleModel",
       "_view_count": null,
       "_view_module": "@jupyter-widgets/base",
       "_view_module_version": "1.2.0",
       "_view_name": "StyleView",
       "description_width": ""
      }
     },
     "1bd497c66a224391ad7f8ac2bf1dd633": {
      "model_module": "@jupyter-widgets/controls",
      "model_module_version": "1.5.0",
      "model_name": "HBoxModel",
      "state": {
       "_dom_classes": [],
       "_model_module": "@jupyter-widgets/controls",
       "_model_module_version": "1.5.0",
       "_model_name": "HBoxModel",
       "_view_count": null,
       "_view_module": "@jupyter-widgets/controls",
       "_view_module_version": "1.5.0",
       "_view_name": "HBoxView",
       "box_style": "",
       "children": [
        "IPY_MODEL_ba019eb529764000bdf13bebc93e73e3",
        "IPY_MODEL_34635838c94c41a88a8698d549654319",
        "IPY_MODEL_43c0ce8a1ee142649d563949823c0157"
       ],
       "layout": "IPY_MODEL_1ab14d38b0e248eea351270a81012622"
      }
     },
     "1ccada06b1d5412ba828890ad650b0e0": {
      "model_module": "@jupyter-widgets/output",
      "model_module_version": "1.0.0",
      "model_name": "OutputModel",
      "state": {
       "_dom_classes": [],
       "_model_module": "@jupyter-widgets/output",
       "_model_module_version": "1.0.0",
       "_model_name": "OutputModel",
       "_view_count": null,
       "_view_module": "@jupyter-widgets/output",
       "_view_module_version": "1.0.0",
       "_view_name": "OutputView",
       "layout": "IPY_MODEL_3600c8d59b714a5785db884129933ff6",
       "msg_id": "",
       "outputs": []
      }
     },
     "21dfca930f5c4f05ad310127303c78eb": {
      "model_module": "@jupyter-widgets/controls",
      "model_module_version": "1.5.0",
      "model_name": "DescriptionStyleModel",
      "state": {
       "_model_module": "@jupyter-widgets/controls",
       "_model_module_version": "1.5.0",
       "_model_name": "DescriptionStyleModel",
       "_view_count": null,
       "_view_module": "@jupyter-widgets/base",
       "_view_module_version": "1.2.0",
       "_view_name": "StyleView",
       "description_width": ""
      }
     },
     "34635838c94c41a88a8698d549654319": {
      "model_module": "@jupyter-widgets/controls",
      "model_module_version": "1.5.0",
      "model_name": "FloatProgressModel",
      "state": {
       "_dom_classes": [],
       "_model_module": "@jupyter-widgets/controls",
       "_model_module_version": "1.5.0",
       "_model_name": "FloatProgressModel",
       "_view_count": null,
       "_view_module": "@jupyter-widgets/controls",
       "_view_module_version": "1.5.0",
       "_view_name": "ProgressView",
       "bar_style": "info",
       "description": "",
       "description_tooltip": null,
       "layout": "IPY_MODEL_452129eaf4784f8aa650a426a09c84e0",
       "max": 1.0,
       "min": 0.0,
       "orientation": "horizontal",
       "style": "IPY_MODEL_6dd50a2a199c40b7ab2456569fa22449",
       "value": 0.0
      }
     },
     "3600c8d59b714a5785db884129933ff6": {
      "model_module": "@jupyter-widgets/base",
      "model_module_version": "1.2.0",
      "model_name": "LayoutModel",
      "state": {
       "_model_module": "@jupyter-widgets/base",
       "_model_module_version": "1.2.0",
       "_model_name": "LayoutModel",
       "_view_count": null,
       "_view_module": "@jupyter-widgets/base",
       "_view_module_version": "1.2.0",
       "_view_name": "LayoutView",
       "align_content": null,
       "align_items": null,
       "align_self": null,
       "border": null,
       "bottom": null,
       "display": null,
       "flex": null,
       "flex_flow": null,
       "grid_area": null,
       "grid_auto_columns": null,
       "grid_auto_flow": null,
       "grid_auto_rows": null,
       "grid_column": null,
       "grid_gap": null,
       "grid_row": null,
       "grid_template_areas": null,
       "grid_template_columns": null,
       "grid_template_rows": null,
       "height": null,
       "justify_content": null,
       "justify_items": null,
       "left": null,
       "margin": null,
       "max_height": null,
       "max_width": null,
       "min_height": null,
       "min_width": null,
       "object_fit": null,
       "object_position": null,
       "order": null,
       "overflow": null,
       "overflow_x": null,
       "overflow_y": null,
       "padding": null,
       "right": null,
       "top": null,
       "visibility": null,
       "width": null
      }
     },
     "388cc3514edd4ed89920d8db5e422d6d": {
      "model_module": "@jupyter-widgets/controls",
      "model_module_version": "1.5.0",
      "model_name": "HTMLModel",
      "state": {
       "_dom_classes": [],
       "_model_module": "@jupyter-widgets/controls",
       "_model_module_version": "1.5.0",
       "_model_name": "HTMLModel",
       "_view_count": null,
       "_view_module": "@jupyter-widgets/controls",
       "_view_module_version": "1.5.0",
       "_view_name": "HTMLView",
       "description": "",
       "description_tooltip": null,
       "layout": "IPY_MODEL_6e358e8d22da4b269b8f76ca58235414",
       "placeholder": "​",
       "style": "IPY_MODEL_21dfca930f5c4f05ad310127303c78eb",
       "value": "Packets:   "
      }
     },
     "3b483bfe732d44efa29b08d4a32a8662": {
      "model_module": "@jupyter-widgets/controls",
      "model_module_version": "1.5.0",
      "model_name": "DescriptionStyleModel",
      "state": {
       "_model_module": "@jupyter-widgets/controls",
       "_model_module_version": "1.5.0",
       "_model_name": "DescriptionStyleModel",
       "_view_count": null,
       "_view_module": "@jupyter-widgets/base",
       "_view_module_version": "1.2.0",
       "_view_name": "StyleView",
       "description_width": ""
      }
     },
     "4294f25590a04fc6b8c3c34a77da2d95": {
      "model_module": "@jupyter-widgets/base",
      "model_module_version": "1.2.0",
      "model_name": "LayoutModel",
      "state": {
       "_model_module": "@jupyter-widgets/base",
       "_model_module_version": "1.2.0",
       "_model_name": "LayoutModel",
       "_view_count": null,
       "_view_module": "@jupyter-widgets/base",
       "_view_module_version": "1.2.0",
       "_view_name": "LayoutView",
       "align_content": null,
       "align_items": null,
       "align_self": null,
       "border": null,
       "bottom": null,
       "display": null,
       "flex": null,
       "flex_flow": null,
       "grid_area": null,
       "grid_auto_columns": null,
       "grid_auto_flow": null,
       "grid_auto_rows": null,
       "grid_column": null,
       "grid_gap": null,
       "grid_row": null,
       "grid_template_areas": null,
       "grid_template_columns": null,
       "grid_template_rows": null,
       "height": null,
       "justify_content": null,
       "justify_items": null,
       "left": null,
       "margin": null,
       "max_height": null,
       "max_width": null,
       "min_height": null,
       "min_width": null,
       "object_fit": null,
       "object_position": null,
       "order": null,
       "overflow": null,
       "overflow_x": null,
       "overflow_y": null,
       "padding": null,
       "right": null,
       "top": null,
       "visibility": null,
       "width": null
      }
     },
     "43c0ce8a1ee142649d563949823c0157": {
      "model_module": "@jupyter-widgets/controls",
      "model_module_version": "1.5.0",
      "model_name": "HTMLModel",
      "state": {
       "_dom_classes": [],
       "_model_module": "@jupyter-widgets/controls",
       "_model_module_version": "1.5.0",
       "_model_name": "HTMLModel",
       "_view_count": null,
       "_view_module": "@jupyter-widgets/controls",
       "_view_module_version": "1.5.0",
       "_view_name": "HTMLView",
       "description": "",
       "description_tooltip": null,
       "layout": "IPY_MODEL_4294f25590a04fc6b8c3c34a77da2d95",
       "placeholder": "​",
       "style": "IPY_MODEL_869964567f7440499e9525564184fd1c",
       "value": "0/? [00:00&lt;?, ?it/s]"
      }
     },
     "452129eaf4784f8aa650a426a09c84e0": {
      "model_module": "@jupyter-widgets/base",
      "model_module_version": "1.2.0",
      "model_name": "LayoutModel",
      "state": {
       "_model_module": "@jupyter-widgets/base",
       "_model_module_version": "1.2.0",
       "_model_name": "LayoutModel",
       "_view_count": null,
       "_view_module": "@jupyter-widgets/base",
       "_view_module_version": "1.2.0",
       "_view_name": "LayoutView",
       "align_content": null,
       "align_items": null,
       "align_self": null,
       "border": null,
       "bottom": null,
       "display": null,
       "flex": null,
       "flex_flow": null,
       "grid_area": null,
       "grid_auto_columns": null,
       "grid_auto_flow": null,
       "grid_auto_rows": null,
       "grid_column": null,
       "grid_gap": null,
       "grid_row": null,
       "grid_template_areas": null,
       "grid_template_columns": null,
       "grid_template_rows": null,
       "height": null,
       "justify_content": null,
       "justify_items": null,
       "left": null,
       "margin": null,
       "max_height": null,
       "max_width": null,
       "min_height": null,
       "min_width": null,
       "object_fit": null,
       "object_position": null,
       "order": null,
       "overflow": null,
       "overflow_x": null,
       "overflow_y": null,
       "padding": null,
       "right": null,
       "top": null,
       "visibility": null,
       "width": "20px"
      }
     },
     "4898f663c8fc4b4588e86ee5f6024276": {
      "model_module": "@jupyter-widgets/controls",
      "model_module_version": "1.5.0",
      "model_name": "FloatProgressModel",
      "state": {
       "_dom_classes": [],
       "_model_module": "@jupyter-widgets/controls",
       "_model_module_version": "1.5.0",
       "_model_name": "FloatProgressModel",
       "_view_count": null,
       "_view_module": "@jupyter-widgets/controls",
       "_view_module_version": "1.5.0",
       "_view_name": "ProgressView",
       "bar_style": "",
       "description": "",
       "description_tooltip": null,
       "layout": "IPY_MODEL_d8b9b7f487b84a859c77faa6c5da64b3",
       "max": 20.0,
       "min": 0.0,
       "orientation": "horizontal",
       "style": "IPY_MODEL_948a39b56710462da9e0aabbfad63934",
       "value": 1.0
      }
     },
     "5626e7c9984843159f3d40c7d0afc1d9": {
      "model_module": "@jupyter-widgets/base",
      "model_module_version": "1.2.0",
      "model_name": "LayoutModel",
      "state": {
       "_model_module": "@jupyter-widgets/base",
       "_model_module_version": "1.2.0",
       "_model_name": "LayoutModel",
       "_view_count": null,
       "_view_module": "@jupyter-widgets/base",
       "_view_module_version": "1.2.0",
       "_view_name": "LayoutView",
       "align_content": null,
       "align_items": null,
       "align_self": null,
       "border": null,
       "bottom": null,
       "display": null,
       "flex": null,
       "flex_flow": null,
       "grid_area": null,
       "grid_auto_columns": null,
       "grid_auto_flow": null,
       "grid_auto_rows": null,
       "grid_column": null,
       "grid_gap": null,
       "grid_row": null,
       "grid_template_areas": null,
       "grid_template_columns": null,
       "grid_template_rows": null,
       "height": null,
       "justify_content": null,
       "justify_items": null,
       "left": null,
       "margin": null,
       "max_height": null,
       "max_width": null,
       "min_height": null,
       "min_width": null,
       "object_fit": null,
       "object_position": null,
       "order": null,
       "overflow": null,
       "overflow_x": null,
       "overflow_y": null,
       "padding": null,
       "right": null,
       "top": null,
       "visibility": null,
       "width": null
      }
     },
     "569627dff6e34aa78dc94ba22b1088b3": {
      "model_module": "@jupyter-widgets/controls",
      "model_module_version": "1.5.0",
      "model_name": "HTMLModel",
      "state": {
       "_dom_classes": [],
       "_model_module": "@jupyter-widgets/controls",
       "_model_module_version": "1.5.0",
       "_model_name": "HTMLModel",
       "_view_count": null,
       "_view_module": "@jupyter-widgets/controls",
       "_view_module_version": "1.5.0",
       "_view_name": "HTMLView",
       "description": "",
       "description_tooltip": null,
       "layout": "IPY_MODEL_10dbd15dd50444ffbd95fed4febe3750",
       "placeholder": "​",
       "style": "IPY_MODEL_5f3b621c63dc450497a9b92e44b22215",
       "value": "7876/10000 [00:00&lt;00:00, 78749.94it/s]"
      }
     },
     "5ceeb9f0fa604777ae210c4a456980f4": {
      "model_module": "@jupyter-widgets/controls",
      "model_module_version": "1.5.0",
      "model_name": "FloatProgressModel",
      "state": {
       "_dom_classes": [],
       "_model_module": "@jupyter-widgets/controls",
       "_model_module_version": "1.5.0",
       "_model_name": "FloatProgressModel",
       "_view_count": null,
       "_view_module": "@jupyter-widgets/controls",
       "_view_module_version": "1.5.0",
       "_view_name": "ProgressView",
       "bar_style": "info",
       "description": "",
       "description_tooltip": null,
       "layout": "IPY_MODEL_ccacd4193ae24938889cd634c89380a7",
       "max": 1.0,
       "min": 0.0,
       "orientation": "horizontal",
       "style": "IPY_MODEL_e9f887a9c7944d33897c5b1b221a98aa",
       "value": 0.0
      }
     },
     "5f3b621c63dc450497a9b92e44b22215": {
      "model_module": "@jupyter-widgets/controls",
      "model_module_version": "1.5.0",
      "model_name": "DescriptionStyleModel",
      "state": {
       "_model_module": "@jupyter-widgets/controls",
       "_model_module_version": "1.5.0",
       "_model_name": "DescriptionStyleModel",
       "_view_count": null,
       "_view_module": "@jupyter-widgets/base",
       "_view_module_version": "1.2.0",
       "_view_name": "StyleView",
       "description_width": ""
      }
     },
     "673d593af8cb419ab4ac071b6f4a331f": {
      "model_module": "@jupyter-widgets/controls",
      "model_module_version": "1.5.0",
      "model_name": "FloatProgressModel",
      "state": {
       "_dom_classes": [],
       "_model_module": "@jupyter-widgets/controls",
       "_model_module_version": "1.5.0",
       "_model_name": "FloatProgressModel",
       "_view_count": null,
       "_view_module": "@jupyter-widgets/controls",
       "_view_module_version": "1.5.0",
       "_view_name": "ProgressView",
       "bar_style": "",
       "description": "",
       "description_tooltip": null,
       "layout": "IPY_MODEL_88c54beba7a143a7975a86b4138057e4",
       "max": 10000.0,
       "min": 0.0,
       "orientation": "horizontal",
       "style": "IPY_MODEL_18fcc892e9194e42a7fe7bf8e5364545",
       "value": 7876.0
      }
     },
     "6dd50a2a199c40b7ab2456569fa22449": {
      "model_module": "@jupyter-widgets/controls",
      "model_module_version": "1.5.0",
      "model_name": "ProgressStyleModel",
      "state": {
       "_model_module": "@jupyter-widgets/controls",
       "_model_module_version": "1.5.0",
       "_model_name": "ProgressStyleModel",
       "_view_count": null,
       "_view_module": "@jupyter-widgets/base",
       "_view_module_version": "1.2.0",
       "_view_name": "StyleView",
       "bar_color": null,
       "description_width": ""
      }
     },
     "6e358e8d22da4b269b8f76ca58235414": {
      "model_module": "@jupyter-widgets/base",
      "model_module_version": "1.2.0",
      "model_name": "LayoutModel",
      "state": {
       "_model_module": "@jupyter-widgets/base",
       "_model_module_version": "1.2.0",
       "_model_name": "LayoutModel",
       "_view_count": null,
       "_view_module": "@jupyter-widgets/base",
       "_view_module_version": "1.2.0",
       "_view_name": "LayoutView",
       "align_content": null,
       "align_items": null,
       "align_self": null,
       "border": null,
       "bottom": null,
       "display": null,
       "flex": null,
       "flex_flow": null,
       "grid_area": null,
       "grid_auto_columns": null,
       "grid_auto_flow": null,
       "grid_auto_rows": null,
       "grid_column": null,
       "grid_gap": null,
       "grid_row": null,
       "grid_template_areas": null,
       "grid_template_columns": null,
       "grid_template_rows": null,
       "height": null,
       "justify_content": null,
       "justify_items": null,
       "left": null,
       "margin": null,
       "max_height": null,
       "max_width": null,
       "min_height": null,
       "min_width": null,
       "object_fit": null,
       "object_position": null,
       "order": null,
       "overflow": null,
       "overflow_x": null,
       "overflow_y": null,
       "padding": null,
       "right": null,
       "top": null,
       "visibility": null,
       "width": "6%"
      }
     },
     "708d089ee0b142aea94f3582171b8183": {
      "model_module": "@jupyter-widgets/controls",
      "model_module_version": "1.5.0",
      "model_name": "HBoxModel",
      "state": {
       "_dom_classes": [],
       "_model_module": "@jupyter-widgets/controls",
       "_model_module_version": "1.5.0",
       "_model_name": "HBoxModel",
       "_view_count": null,
       "_view_module": "@jupyter-widgets/controls",
       "_view_module_version": "1.5.0",
       "_view_name": "HBoxView",
       "box_style": "",
       "children": [
        "IPY_MODEL_9cbc8afe89b5428c9817c6c09ccb4d29",
        "IPY_MODEL_5ceeb9f0fa604777ae210c4a456980f4",
        "IPY_MODEL_ace2a1c63bb5423eb473eec1fa019e8e"
       ],
       "layout": "IPY_MODEL_d62d535daf7e485581a84bae9c0f2629"
      }
     },
     "779a350713dd4b159b273e6f2bbcc7ce": {
      "model_module": "@jupyter-widgets/base",
      "model_module_version": "1.2.0",
      "model_name": "LayoutModel",
      "state": {
       "_model_module": "@jupyter-widgets/base",
       "_model_module_version": "1.2.0",
       "_model_name": "LayoutModel",
       "_view_count": null,
       "_view_module": "@jupyter-widgets/base",
       "_view_module_version": "1.2.0",
       "_view_name": "LayoutView",
       "align_content": null,
       "align_items": null,
       "align_self": null,
       "border": null,
       "bottom": null,
       "display": null,
       "flex": null,
       "flex_flow": null,
       "grid_area": null,
       "grid_auto_columns": null,
       "grid_auto_flow": null,
       "grid_auto_rows": null,
       "grid_column": null,
       "grid_gap": null,
       "grid_row": null,
       "grid_template_areas": null,
       "grid_template_columns": null,
       "grid_template_rows": null,
       "height": null,
       "justify_content": null,
       "justify_items": null,
       "left": null,
       "margin": null,
       "max_height": null,
       "max_width": null,
       "min_height": null,
       "min_width": null,
       "object_fit": null,
       "object_position": null,
       "order": null,
       "overflow": null,
       "overflow_x": null,
       "overflow_y": null,
       "padding": null,
       "right": null,
       "top": null,
       "visibility": null,
       "width": null
      }
     },
     "7995ffdc7eed40e295cb08be447b79a8": {
      "model_module": "@jupyter-widgets/controls",
      "model_module_version": "1.5.0",
      "model_name": "HBoxModel",
      "state": {
       "_dom_classes": [],
       "_model_module": "@jupyter-widgets/controls",
       "_model_module_version": "1.5.0",
       "_model_name": "HBoxModel",
       "_view_count": null,
       "_view_module": "@jupyter-widgets/controls",
       "_view_module_version": "1.5.0",
       "_view_name": "HBoxView",
       "box_style": "",
       "children": [
        "IPY_MODEL_18f33f1781234d069647f07c9ce7ec45",
        "IPY_MODEL_4898f663c8fc4b4588e86ee5f6024276",
        "IPY_MODEL_b98bffcfe8e4491c90d2d2f023bd376d"
       ],
       "layout": "IPY_MODEL_5626e7c9984843159f3d40c7d0afc1d9"
      }
     },
     "869964567f7440499e9525564184fd1c": {
      "model_module": "@jupyter-widgets/controls",
      "model_module_version": "1.5.0",
      "model_name": "DescriptionStyleModel",
      "state": {
       "_model_module": "@jupyter-widgets/controls",
       "_model_module_version": "1.5.0",
       "_model_name": "DescriptionStyleModel",
       "_view_count": null,
       "_view_module": "@jupyter-widgets/base",
       "_view_module_version": "1.2.0",
       "_view_name": "StyleView",
       "description_width": ""
      }
     },
     "88c54beba7a143a7975a86b4138057e4": {
      "model_module": "@jupyter-widgets/base",
      "model_module_version": "1.2.0",
      "model_name": "LayoutModel",
      "state": {
       "_model_module": "@jupyter-widgets/base",
       "_model_module_version": "1.2.0",
       "_model_name": "LayoutModel",
       "_view_count": null,
       "_view_module": "@jupyter-widgets/base",
       "_view_module_version": "1.2.0",
       "_view_name": "LayoutView",
       "align_content": null,
       "align_items": null,
       "align_self": null,
       "border": null,
       "bottom": null,
       "display": null,
       "flex": null,
       "flex_flow": null,
       "grid_area": null,
       "grid_auto_columns": null,
       "grid_auto_flow": null,
       "grid_auto_rows": null,
       "grid_column": null,
       "grid_gap": null,
       "grid_row": null,
       "grid_template_areas": null,
       "grid_template_columns": null,
       "grid_template_rows": null,
       "height": null,
       "justify_content": null,
       "justify_items": null,
       "left": null,
       "margin": null,
       "max_height": null,
       "max_width": null,
       "min_height": null,
       "min_width": null,
       "object_fit": null,
       "object_position": null,
       "order": null,
       "overflow": null,
       "overflow_x": null,
       "overflow_y": null,
       "padding": null,
       "right": null,
       "top": null,
       "visibility": null,
       "width": "60%"
      }
     },
     "8a465971490246d789fdf568a61d5013": {
      "model_module": "@jupyter-widgets/controls",
      "model_module_version": "1.5.0",
      "model_name": "HBoxModel",
      "state": {
       "_dom_classes": [],
       "_model_module": "@jupyter-widgets/controls",
       "_model_module_version": "1.5.0",
       "_model_name": "HBoxModel",
       "_view_count": null,
       "_view_module": "@jupyter-widgets/controls",
       "_view_module_version": "1.5.0",
       "_view_name": "HBoxView",
       "box_style": "",
       "children": [
        "IPY_MODEL_388cc3514edd4ed89920d8db5e422d6d",
        "IPY_MODEL_673d593af8cb419ab4ac071b6f4a331f",
        "IPY_MODEL_569627dff6e34aa78dc94ba22b1088b3"
       ],
       "layout": "IPY_MODEL_a3f1ae4f26e545509526e4bd70e0b36f"
      }
     },
     "8b9e92c9f7c04f5d8b27ab733010813b": {
      "model_module": "@jupyter-widgets/base",
      "model_module_version": "1.2.0",
      "model_name": "LayoutModel",
      "state": {
       "_model_module": "@jupyter-widgets/base",
       "_model_module_version": "1.2.0",
       "_model_name": "LayoutModel",
       "_view_count": null,
       "_view_module": "@jupyter-widgets/base",
       "_view_module_version": "1.2.0",
       "_view_name": "LayoutView",
       "align_content": null,
       "align_items": null,
       "align_self": null,
       "border": null,
       "bottom": null,
       "display": null,
       "flex": null,
       "flex_flow": null,
       "grid_area": null,
       "grid_auto_columns": null,
       "grid_auto_flow": null,
       "grid_auto_rows": null,
       "grid_column": null,
       "grid_gap": null,
       "grid_row": null,
       "grid_template_areas": null,
       "grid_template_columns": null,
       "grid_template_rows": null,
       "height": null,
       "justify_content": null,
       "justify_items": null,
       "left": null,
       "margin": null,
       "max_height": null,
       "max_width": null,
       "min_height": null,
       "min_width": null,
       "object_fit": null,
       "object_position": null,
       "order": null,
       "overflow": null,
       "overflow_x": null,
       "overflow_y": null,
       "padding": null,
       "right": null,
       "top": null,
       "visibility": null,
       "width": null
      }
     },
     "948a39b56710462da9e0aabbfad63934": {
      "model_module": "@jupyter-widgets/controls",
      "model_module_version": "1.5.0",
      "model_name": "ProgressStyleModel",
      "state": {
       "_model_module": "@jupyter-widgets/controls",
       "_model_module_version": "1.5.0",
       "_model_name": "ProgressStyleModel",
       "_view_count": null,
       "_view_module": "@jupyter-widgets/base",
       "_view_module_version": "1.2.0",
       "_view_name": "StyleView",
       "bar_color": null,
       "description_width": ""
      }
     },
     "981065960c59418bb5082d79d5162ded": {
      "model_module": "@jupyter-widgets/base",
      "model_module_version": "1.2.0",
      "model_name": "LayoutModel",
      "state": {
       "_model_module": "@jupyter-widgets/base",
       "_model_module_version": "1.2.0",
       "_model_name": "LayoutModel",
       "_view_count": null,
       "_view_module": "@jupyter-widgets/base",
       "_view_module_version": "1.2.0",
       "_view_name": "LayoutView",
       "align_content": null,
       "align_items": null,
       "align_self": null,
       "border": null,
       "bottom": null,
       "display": null,
       "flex": null,
       "flex_flow": null,
       "grid_area": null,
       "grid_auto_columns": null,
       "grid_auto_flow": null,
       "grid_auto_rows": null,
       "grid_column": null,
       "grid_gap": null,
       "grid_row": null,
       "grid_template_areas": null,
       "grid_template_columns": null,
       "grid_template_rows": null,
       "height": null,
       "justify_content": null,
       "justify_items": null,
       "left": null,
       "margin": null,
       "max_height": null,
       "max_width": null,
       "min_height": null,
       "min_width": null,
       "object_fit": null,
       "object_position": null,
       "order": null,
       "overflow": null,
       "overflow_x": null,
       "overflow_y": null,
       "padding": null,
       "right": null,
       "top": null,
       "visibility": null,
       "width": null
      }
     },
     "9cbc8afe89b5428c9817c6c09ccb4d29": {
      "model_module": "@jupyter-widgets/controls",
      "model_module_version": "1.5.0",
      "model_name": "HTMLModel",
      "state": {
       "_dom_classes": [],
       "_model_module": "@jupyter-widgets/controls",
       "_model_module_version": "1.5.0",
       "_model_name": "HTMLModel",
       "_view_count": null,
       "_view_module": "@jupyter-widgets/controls",
       "_view_module_version": "1.5.0",
       "_view_name": "HTMLView",
       "description": "",
       "description_tooltip": null,
       "layout": "IPY_MODEL_779a350713dd4b159b273e6f2bbcc7ce",
       "placeholder": "​",
       "style": "IPY_MODEL_e4697c8a4dfc4126837c39b20660465f",
       "value": "Packets:   "
      }
     },
     "a2349cd5a4d541248a96ffa384d2b86a": {
      "model_module": "@jupyter-widgets/output",
      "model_module_version": "1.0.0",
      "model_name": "OutputModel",
      "state": {
       "_dom_classes": [],
       "_model_module": "@jupyter-widgets/output",
       "_model_module_version": "1.0.0",
       "_model_name": "OutputModel",
       "_view_count": null,
       "_view_module": "@jupyter-widgets/output",
       "_view_module_version": "1.0.0",
       "_view_name": "OutputView",
       "layout": "IPY_MODEL_a6ed0187073543d69929c6331995295e",
       "msg_id": "",
       "outputs": []
      }
     },
     "a3f1ae4f26e545509526e4bd70e0b36f": {
      "model_module": "@jupyter-widgets/base",
      "model_module_version": "1.2.0",
      "model_name": "LayoutModel",
      "state": {
       "_model_module": "@jupyter-widgets/base",
       "_model_module_version": "1.2.0",
       "_model_name": "LayoutModel",
       "_view_count": null,
       "_view_module": "@jupyter-widgets/base",
       "_view_module_version": "1.2.0",
       "_view_name": "LayoutView",
       "align_content": null,
       "align_items": null,
       "align_self": null,
       "border": null,
       "bottom": null,
       "display": null,
       "flex": null,
       "flex_flow": null,
       "grid_area": null,
       "grid_auto_columns": null,
       "grid_auto_flow": null,
       "grid_auto_rows": null,
       "grid_column": null,
       "grid_gap": null,
       "grid_row": null,
       "grid_template_areas": null,
       "grid_template_columns": null,
       "grid_template_rows": null,
       "height": null,
       "justify_content": null,
       "justify_items": null,
       "left": null,
       "margin": null,
       "max_height": null,
       "max_width": null,
       "min_height": null,
       "min_width": null,
       "object_fit": null,
       "object_position": null,
       "order": null,
       "overflow": null,
       "overflow_x": null,
       "overflow_y": null,
       "padding": null,
       "right": null,
       "top": null,
       "visibility": null,
       "width": null
      }
     },
     "a6ed0187073543d69929c6331995295e": {
      "model_module": "@jupyter-widgets/base",
      "model_module_version": "1.2.0",
      "model_name": "LayoutModel",
      "state": {
       "_model_module": "@jupyter-widgets/base",
       "_model_module_version": "1.2.0",
       "_model_name": "LayoutModel",
       "_view_count": null,
       "_view_module": "@jupyter-widgets/base",
       "_view_module_version": "1.2.0",
       "_view_name": "LayoutView",
       "align_content": null,
       "align_items": null,
       "align_self": null,
       "border": null,
       "bottom": null,
       "display": null,
       "flex": null,
       "flex_flow": null,
       "grid_area": null,
       "grid_auto_columns": null,
       "grid_auto_flow": null,
       "grid_auto_rows": null,
       "grid_column": null,
       "grid_gap": null,
       "grid_row": null,
       "grid_template_areas": null,
       "grid_template_columns": null,
       "grid_template_rows": null,
       "height": null,
       "justify_content": null,
       "justify_items": null,
       "left": null,
       "margin": null,
       "max_height": null,
       "max_width": null,
       "min_height": null,
       "min_width": null,
       "object_fit": null,
       "object_position": null,
       "order": null,
       "overflow": null,
       "overflow_x": null,
       "overflow_y": null,
       "padding": null,
       "right": null,
       "top": null,
       "visibility": null,
       "width": null
      }
     },
     "ace2a1c63bb5423eb473eec1fa019e8e": {
      "model_module": "@jupyter-widgets/controls",
      "model_module_version": "1.5.0",
      "model_name": "HTMLModel",
      "state": {
       "_dom_classes": [],
       "_model_module": "@jupyter-widgets/controls",
       "_model_module_version": "1.5.0",
       "_model_name": "HTMLModel",
       "_view_count": null,
       "_view_module": "@jupyter-widgets/controls",
       "_view_module_version": "1.5.0",
       "_view_name": "HTMLView",
       "description": "",
       "description_tooltip": null,
       "layout": "IPY_MODEL_981065960c59418bb5082d79d5162ded",
       "placeholder": "​",
       "style": "IPY_MODEL_107a182eab3e41769e24b9d7c1651716",
       "value": "0/? [00:00&lt;?, ?it/s]"
      }
     },
     "b98bffcfe8e4491c90d2d2f023bd376d": {
      "model_module": "@jupyter-widgets/controls",
      "model_module_version": "1.5.0",
      "model_name": "HTMLModel",
      "state": {
       "_dom_classes": [],
       "_model_module": "@jupyter-widgets/controls",
       "_model_module_version": "1.5.0",
       "_model_name": "HTMLModel",
       "_view_count": null,
       "_view_module": "@jupyter-widgets/controls",
       "_view_module_version": "1.5.0",
       "_view_name": "HTMLView",
       "description": "",
       "description_tooltip": null,
       "layout": "IPY_MODEL_cc3312e4d26d46c591cfbd7170ab25bb",
       "placeholder": "​",
       "style": "IPY_MODEL_1b56e42e73984e808ecc62cff212c1f2",
       "value": "1/20 [00:00&lt;00:03,  5.33it/s]"
      }
     },
     "ba019eb529764000bdf13bebc93e73e3": {
      "model_module": "@jupyter-widgets/controls",
      "model_module_version": "1.5.0",
      "model_name": "HTMLModel",
      "state": {
       "_dom_classes": [],
       "_model_module": "@jupyter-widgets/controls",
       "_model_module_version": "1.5.0",
       "_model_name": "HTMLModel",
       "_view_count": null,
       "_view_module": "@jupyter-widgets/controls",
       "_view_module_version": "1.5.0",
       "_view_name": "HTMLView",
       "description": "",
       "description_tooltip": null,
       "layout": "IPY_MODEL_8b9e92c9f7c04f5d8b27ab733010813b",
       "placeholder": "​",
       "style": "IPY_MODEL_3b483bfe732d44efa29b08d4a32a8662",
       "value": "Iterations:"
      }
     },
     "cc3312e4d26d46c591cfbd7170ab25bb": {
      "model_module": "@jupyter-widgets/base",
      "model_module_version": "1.2.0",
      "model_name": "LayoutModel",
      "state": {
       "_model_module": "@jupyter-widgets/base",
       "_model_module_version": "1.2.0",
       "_model_name": "LayoutModel",
       "_view_count": null,
       "_view_module": "@jupyter-widgets/base",
       "_view_module_version": "1.2.0",
       "_view_name": "LayoutView",
       "align_content": null,
       "align_items": null,
       "align_self": null,
       "border": null,
       "bottom": null,
       "display": null,
       "flex": null,
       "flex_flow": null,
       "grid_area": null,
       "grid_auto_columns": null,
       "grid_auto_flow": null,
       "grid_auto_rows": null,
       "grid_column": null,
       "grid_gap": null,
       "grid_row": null,
       "grid_template_areas": null,
       "grid_template_columns": null,
       "grid_template_rows": null,
       "height": null,
       "justify_content": null,
       "justify_items": null,
       "left": null,
       "margin": null,
       "max_height": null,
       "max_width": null,
       "min_height": null,
       "min_width": null,
       "object_fit": null,
       "object_position": null,
       "order": null,
       "overflow": null,
       "overflow_x": null,
       "overflow_y": null,
       "padding": null,
       "right": null,
       "top": null,
       "visibility": null,
       "width": null
      }
     },
     "ccacd4193ae24938889cd634c89380a7": {
      "model_module": "@jupyter-widgets/base",
      "model_module_version": "1.2.0",
      "model_name": "LayoutModel",
      "state": {
       "_model_module": "@jupyter-widgets/base",
       "_model_module_version": "1.2.0",
       "_model_name": "LayoutModel",
       "_view_count": null,
       "_view_module": "@jupyter-widgets/base",
       "_view_module_version": "1.2.0",
       "_view_name": "LayoutView",
       "align_content": null,
       "align_items": null,
       "align_self": null,
       "border": null,
       "bottom": null,
       "display": null,
       "flex": null,
       "flex_flow": null,
       "grid_area": null,
       "grid_auto_columns": null,
       "grid_auto_flow": null,
       "grid_auto_rows": null,
       "grid_column": null,
       "grid_gap": null,
       "grid_row": null,
       "grid_template_areas": null,
       "grid_template_columns": null,
       "grid_template_rows": null,
       "height": null,
       "justify_content": null,
       "justify_items": null,
       "left": null,
       "margin": null,
       "max_height": null,
       "max_width": null,
       "min_height": null,
       "min_width": null,
       "object_fit": null,
       "object_position": null,
       "order": null,
       "overflow": null,
       "overflow_x": null,
       "overflow_y": null,
       "padding": null,
       "right": null,
       "top": null,
       "visibility": null,
       "width": "20px"
      }
     },
     "d62d535daf7e485581a84bae9c0f2629": {
      "model_module": "@jupyter-widgets/base",
      "model_module_version": "1.2.0",
      "model_name": "LayoutModel",
      "state": {
       "_model_module": "@jupyter-widgets/base",
       "_model_module_version": "1.2.0",
       "_model_name": "LayoutModel",
       "_view_count": null,
       "_view_module": "@jupyter-widgets/base",
       "_view_module_version": "1.2.0",
       "_view_name": "LayoutView",
       "align_content": null,
       "align_items": null,
       "align_self": null,
       "border": null,
       "bottom": null,
       "display": null,
       "flex": null,
       "flex_flow": null,
       "grid_area": null,
       "grid_auto_columns": null,
       "grid_auto_flow": null,
       "grid_auto_rows": null,
       "grid_column": null,
       "grid_gap": null,
       "grid_row": null,
       "grid_template_areas": null,
       "grid_template_columns": null,
       "grid_template_rows": null,
       "height": null,
       "justify_content": null,
       "justify_items": null,
       "left": null,
       "margin": null,
       "max_height": null,
       "max_width": null,
       "min_height": null,
       "min_width": null,
       "object_fit": null,
       "object_position": null,
       "order": null,
       "overflow": null,
       "overflow_x": null,
       "overflow_y": null,
       "padding": null,
       "right": null,
       "top": null,
       "visibility": null,
       "width": null
      }
     },
     "d8b9b7f487b84a859c77faa6c5da64b3": {
      "model_module": "@jupyter-widgets/base",
      "model_module_version": "1.2.0",
      "model_name": "LayoutModel",
      "state": {
       "_model_module": "@jupyter-widgets/base",
       "_model_module_version": "1.2.0",
       "_model_name": "LayoutModel",
       "_view_count": null,
       "_view_module": "@jupyter-widgets/base",
       "_view_module_version": "1.2.0",
       "_view_name": "LayoutView",
       "align_content": null,
       "align_items": null,
       "align_self": null,
       "border": null,
       "bottom": null,
       "display": null,
       "flex": null,
       "flex_flow": null,
       "grid_area": null,
       "grid_auto_columns": null,
       "grid_auto_flow": null,
       "grid_auto_rows": null,
       "grid_column": null,
       "grid_gap": null,
       "grid_row": null,
       "grid_template_areas": null,
       "grid_template_columns": null,
       "grid_template_rows": null,
       "height": null,
       "justify_content": null,
       "justify_items": null,
       "left": null,
       "margin": null,
       "max_height": null,
       "max_width": null,
       "min_height": null,
       "min_width": null,
       "object_fit": null,
       "object_position": null,
       "order": null,
       "overflow": null,
       "overflow_x": null,
       "overflow_y": null,
       "padding": null,
       "right": null,
       "top": null,
       "visibility": null,
       "width": "60%"
      }
     },
     "db3ad0762ba341fa992edaa892c2595a": {
      "model_module": "@jupyter-widgets/controls",
      "model_module_version": "1.5.0",
      "model_name": "DescriptionStyleModel",
      "state": {
       "_model_module": "@jupyter-widgets/controls",
       "_model_module_version": "1.5.0",
       "_model_name": "DescriptionStyleModel",
       "_view_count": null,
       "_view_module": "@jupyter-widgets/base",
       "_view_module_version": "1.2.0",
       "_view_name": "StyleView",
       "description_width": ""
      }
     },
     "e4697c8a4dfc4126837c39b20660465f": {
      "model_module": "@jupyter-widgets/controls",
      "model_module_version": "1.5.0",
      "model_name": "DescriptionStyleModel",
      "state": {
       "_model_module": "@jupyter-widgets/controls",
       "_model_module_version": "1.5.0",
       "_model_name": "DescriptionStyleModel",
       "_view_count": null,
       "_view_module": "@jupyter-widgets/base",
       "_view_module_version": "1.2.0",
       "_view_name": "StyleView",
       "description_width": ""
      }
     },
     "e9f887a9c7944d33897c5b1b221a98aa": {
      "model_module": "@jupyter-widgets/controls",
      "model_module_version": "1.5.0",
      "model_name": "ProgressStyleModel",
      "state": {
       "_model_module": "@jupyter-widgets/controls",
       "_model_module_version": "1.5.0",
       "_model_name": "ProgressStyleModel",
       "_view_count": null,
       "_view_module": "@jupyter-widgets/base",
       "_view_module_version": "1.2.0",
       "_view_name": "StyleView",
       "bar_color": null,
       "description_width": ""
      }
     }
    },
    "version_major": 2,
    "version_minor": 0
   }
  }
 },
 "nbformat": 4,
 "nbformat_minor": 5
}
