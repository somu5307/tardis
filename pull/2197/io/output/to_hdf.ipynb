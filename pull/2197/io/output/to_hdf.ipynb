{
 "cells": [
  {
   "cell_type": "markdown",
   "metadata": {
    "raw_mimetype": "text/restructuredtext"
   },
   "source": [
    "# Storing Simulations to HDF\n",
    "\n",
    "You can ask TARDIS to store the state of each iteration of the simulation you are running. We show examples of how this is done:"
   ]
  },
  {
   "cell_type": "markdown",
   "metadata": {},
   "source": [
    "Initialize the simulation with the `tardis_example.yml` configuration file."
   ]
  },
  {
   "cell_type": "code",
   "execution_count": 1,
   "metadata": {
    "execution": {
     "iopub.execute_input": "2023-01-29T00:32:23.869269Z",
     "iopub.status.busy": "2023-01-29T00:32:23.866686Z",
     "iopub.status.idle": "2023-01-29T00:33:19.593967Z",
     "shell.execute_reply": "2023-01-29T00:33:19.593435Z"
    }
   },
   "outputs": [
    {
     "name": "stderr",
     "output_type": "stream",
     "text": [
      "/usr/share/miniconda3/envs/tardis/lib/python3.8/site-packages/setuptools_scm/git.py:105: UserWarning: \"/home/runner/work/tardis/tardis\" is shallow and may cause errors\n",
      "  warnings.warn(f'\"{wd.path}\" is shallow and may cause errors')\n"
     ]
    },
    {
     "data": {
      "application/vnd.jupyter.widget-view+json": {
       "model_id": "fcd145e0d894449fa7ed5167a38b8763",
       "version_major": 2,
       "version_minor": 0
      },
      "text/plain": [
       "Iterations:          0/? [00:00<?, ?it/s]"
      ]
     },
     "metadata": {},
     "output_type": "display_data"
    },
    {
     "data": {
      "application/vnd.jupyter.widget-view+json": {
       "model_id": "05f44caf330f4bf19fd7e40eb8400ce8",
       "version_major": 2,
       "version_minor": 0
      },
      "text/plain": [
       "Packets:             0/? [00:00<?, ?it/s]"
      ]
     },
     "metadata": {},
     "output_type": "display_data"
    },
    {
     "name": "stdout",
     "output_type": "stream",
     "text": [
      "[\u001b[1mtardis.plasma.standard_plasmas\u001b[0m][\u001b[1;37mINFO\u001b[0m   ]  \n",
      "\t\n",
      "\tReading Atomic Data from kurucz_cd23_chianti_H_He.h5 (\u001b[1mstandard_plasmas.py\u001b[0m:95)\n"
     ]
    },
    {
     "name": "stdout",
     "output_type": "stream",
     "text": [
      "[\u001b[1mtardis.io.atom_data.util\u001b[0m][\u001b[1;37mINFO\u001b[0m   ]  \n",
      "\t\n",
      "\tAtom Data kurucz_cd23_chianti_H_He.h5 not found in local path.\n",
      "\tExists in TARDIS Data repo /home/runner/Downloads/tardis-data/kurucz_cd23_chianti_H_He.h5 (\u001b[1mutil.py\u001b[0m:33)\n"
     ]
    },
    {
     "name": "stdout",
     "output_type": "stream",
     "text": [
      "[\u001b[1mtardis.io.atom_data.base\u001b[0m][\u001b[1;37mINFO\u001b[0m   ]  \n",
      "\tReading Atom Data with: UUID = 6f7b09e887a311e7a06b246e96350010 MD5  = 864f1753714343c41f99cb065710cace  (\u001b[1mbase.py\u001b[0m:249)\n"
     ]
    },
    {
     "name": "stdout",
     "output_type": "stream",
     "text": [
      "[\u001b[1mtardis.io.atom_data.base\u001b[0m][\u001b[1;37mINFO\u001b[0m   ]  \n",
      "\tNon provided Atomic Data: synpp_refs, photoionization_data, yg_data, two_photon_data (\u001b[1mbase.py\u001b[0m:253)\n"
     ]
    },
    {
     "name": "stdout",
     "output_type": "stream",
     "text": [
      "[\u001b[1mpy.warnings         \u001b[0m][\u001b[1;33mWARNING\u001b[0m]  \n",
      "\t/home/runner/work/tardis/tardis/tardis/plasma/properties/radiative_properties.py:93: RuntimeWarning: invalid value encountered in true_divide\n",
      "  (g_lower * n_upper) / (g_upper * n_lower)\n",
      " (\u001b[1mwarnings.py\u001b[0m:109)\n"
     ]
    },
    {
     "name": "stdout",
     "output_type": "stream",
     "text": [
      "[\u001b[1mpy.warnings         \u001b[0m][\u001b[1;33mWARNING\u001b[0m]  \n",
      "\t/home/runner/work/tardis/tardis/tardis/plasma/properties/radiative_properties.py:93: RuntimeWarning: invalid value encountered in true_divide\n",
      "  (g_lower * n_upper) / (g_upper * n_lower)\n",
      " (\u001b[1mwarnings.py\u001b[0m:109)\n"
     ]
    },
    {
     "name": "stdout",
     "output_type": "stream",
     "text": [
      "[\u001b[1mtardis.simulation.base\u001b[0m][\u001b[1;37mINFO\u001b[0m   ]  \n",
      "\t\n",
      "\tStarting iteration 1 of 20 (\u001b[1mbase.py\u001b[0m:381)\n"
     ]
    },
    {
     "data": {
      "application/vnd.jupyter.widget-view+json": {
       "model_id": "85cb6a29c2cc4b0b9c34666d6e827983",
       "version_major": 2,
       "version_minor": 0
      },
      "text/plain": [
       "TqdmHBox(children=(HTML(value='Iterations:', layout=Layout(width='6%')), FloatProgress(value=0.0, layout=Layou…"
      ]
     },
     "metadata": {},
     "output_type": "display_data"
    },
    {
     "data": {
      "application/vnd.jupyter.widget-view+json": {
       "model_id": "6b68fdef8457428ca1953f69b12914d3",
       "version_major": 2,
       "version_minor": 0
      },
      "text/plain": [
       "TqdmHBox(children=(HTML(value='Packets:   ', layout=Layout(width='6%')), FloatProgress(value=0.0, layout=Layou…"
      ]
     },
     "metadata": {},
     "output_type": "display_data"
    },
    {
     "name": "stdout",
     "output_type": "stream",
     "text": [
      "[\u001b[1mtardis.simulation.base\u001b[0m][\u001b[1;37mINFO\u001b[0m   ]  \n",
      "\t\n",
      "\tLuminosity emitted   = 7.942e+42 erg / s\n",
      "\tLuminosity absorbed  = 2.659e+42 erg / s\n",
      "\tLuminosity requested = 1.059e+43 erg / s\n",
      " (\u001b[1mbase.py\u001b[0m:555)\n"
     ]
    },
    {
     "name": "stdout",
     "output_type": "stream",
     "text": [
      "[\u001b[1mtardis.simulation.base\u001b[0m][\u001b[1;37mINFO\u001b[0m   ]  \n",
      "\t\n",
      "\tPlasma stratification: (\u001b[1mbase.py\u001b[0m:523)\n"
     ]
    },
    {
     "data": {
      "text/html": [
       "<style  type=\"text/css\" >\n",
       "</style><table id=\"T_7b48b09a_9f6c_11ed_833a_6045bd7df304\" ><thead>    <tr>        <th class=\"index_name level0\" >Shell No.</th>        <th class=\"col_heading level0 col0\" >t_rad</th>        <th class=\"col_heading level0 col1\" >next_t_rad</th>        <th class=\"col_heading level0 col2\" >w</th>        <th class=\"col_heading level0 col3\" >next_w</th>    </tr></thead><tbody>\n",
       "                <tr>\n",
       "                        <th id=\"T_7b48b09a_9f6c_11ed_833a_6045bd7df304level0_row0\" class=\"row_heading level0 row0\" >0</th>\n",
       "                        <td id=\"T_7b48b09a_9f6c_11ed_833a_6045bd7df304row0_col0\" class=\"data row0 col0\" >9.93e+03</td>\n",
       "                        <td id=\"T_7b48b09a_9f6c_11ed_833a_6045bd7df304row0_col1\" class=\"data row0 col1\" >1.01e+04</td>\n",
       "                        <td id=\"T_7b48b09a_9f6c_11ed_833a_6045bd7df304row0_col2\" class=\"data row0 col2\" >0.4</td>\n",
       "                        <td id=\"T_7b48b09a_9f6c_11ed_833a_6045bd7df304row0_col3\" class=\"data row0 col3\" >0.507</td>\n",
       "            </tr>\n",
       "            <tr>\n",
       "                        <th id=\"T_7b48b09a_9f6c_11ed_833a_6045bd7df304level0_row1\" class=\"row_heading level0 row1\" >5</th>\n",
       "                        <td id=\"T_7b48b09a_9f6c_11ed_833a_6045bd7df304row1_col0\" class=\"data row1 col0\" >9.85e+03</td>\n",
       "                        <td id=\"T_7b48b09a_9f6c_11ed_833a_6045bd7df304row1_col1\" class=\"data row1 col1\" >1.02e+04</td>\n",
       "                        <td id=\"T_7b48b09a_9f6c_11ed_833a_6045bd7df304row1_col2\" class=\"data row1 col2\" >0.211</td>\n",
       "                        <td id=\"T_7b48b09a_9f6c_11ed_833a_6045bd7df304row1_col3\" class=\"data row1 col3\" >0.197</td>\n",
       "            </tr>\n",
       "            <tr>\n",
       "                        <th id=\"T_7b48b09a_9f6c_11ed_833a_6045bd7df304level0_row2\" class=\"row_heading level0 row2\" >10</th>\n",
       "                        <td id=\"T_7b48b09a_9f6c_11ed_833a_6045bd7df304row2_col0\" class=\"data row2 col0\" >9.78e+03</td>\n",
       "                        <td id=\"T_7b48b09a_9f6c_11ed_833a_6045bd7df304row2_col1\" class=\"data row2 col1\" >1.01e+04</td>\n",
       "                        <td id=\"T_7b48b09a_9f6c_11ed_833a_6045bd7df304row2_col2\" class=\"data row2 col2\" >0.143</td>\n",
       "                        <td id=\"T_7b48b09a_9f6c_11ed_833a_6045bd7df304row2_col3\" class=\"data row2 col3\" >0.117</td>\n",
       "            </tr>\n",
       "            <tr>\n",
       "                        <th id=\"T_7b48b09a_9f6c_11ed_833a_6045bd7df304level0_row3\" class=\"row_heading level0 row3\" >15</th>\n",
       "                        <td id=\"T_7b48b09a_9f6c_11ed_833a_6045bd7df304row3_col0\" class=\"data row3 col0\" >9.71e+03</td>\n",
       "                        <td id=\"T_7b48b09a_9f6c_11ed_833a_6045bd7df304row3_col1\" class=\"data row3 col1\" >9.87e+03</td>\n",
       "                        <td id=\"T_7b48b09a_9f6c_11ed_833a_6045bd7df304row3_col2\" class=\"data row3 col2\" >0.105</td>\n",
       "                        <td id=\"T_7b48b09a_9f6c_11ed_833a_6045bd7df304row3_col3\" class=\"data row3 col3\" >0.0869</td>\n",
       "            </tr>\n",
       "    </tbody></table>"
      ],
      "text/plain": [
       "<pandas.io.formats.style.Styler at 0x7f0cfeb5eca0>"
      ]
     },
     "metadata": {},
     "output_type": "display_data"
    },
    {
     "name": "stdout",
     "output_type": "stream",
     "text": [
      "[\u001b[1mtardis.simulation.base\u001b[0m][\u001b[1;37mINFO\u001b[0m   ]  \n",
      "\t\n",
      "\tCurrent t_inner = 9933.952 K\n",
      "\tExpected t_inner for next iteration = 10703.212 K\n",
      " (\u001b[1mbase.py\u001b[0m:550)\n"
     ]
    },
    {
     "name": "stdout",
     "output_type": "stream",
     "text": [
      "[\u001b[1mpy.warnings         \u001b[0m][\u001b[1;33mWARNING\u001b[0m]  \n",
      "\t/home/runner/work/tardis/tardis/tardis/plasma/properties/radiative_properties.py:93: RuntimeWarning: invalid value encountered in true_divide\n",
      "  (g_lower * n_upper) / (g_upper * n_lower)\n",
      " (\u001b[1mwarnings.py\u001b[0m:109)\n"
     ]
    },
    {
     "name": "stdout",
     "output_type": "stream",
     "text": [
      "[\u001b[1mtardis.simulation.base\u001b[0m][\u001b[1;37mINFO\u001b[0m   ]  \n",
      "\t\n",
      "\tStarting iteration 2 of 20 (\u001b[1mbase.py\u001b[0m:381)\n"
     ]
    },
    {
     "name": "stdout",
     "output_type": "stream",
     "text": [
      "[\u001b[1mtardis.simulation.base\u001b[0m][\u001b[1;37mINFO\u001b[0m   ]  \n",
      "\t\n",
      "\tLuminosity emitted   = 1.071e+43 erg / s\n",
      "\tLuminosity absorbed  = 3.576e+42 erg / s\n",
      "\tLuminosity requested = 1.059e+43 erg / s\n",
      " (\u001b[1mbase.py\u001b[0m:555)\n"
     ]
    },
    {
     "name": "stdout",
     "output_type": "stream",
     "text": [
      "[\u001b[1mtardis.simulation.base\u001b[0m][\u001b[1;37mINFO\u001b[0m   ]  \n",
      "\t\n",
      "\tPlasma stratification: (\u001b[1mbase.py\u001b[0m:523)\n"
     ]
    },
    {
     "data": {
      "text/html": [
       "<style  type=\"text/css\" >\n",
       "</style><table id=\"T_7bb57504_9f6c_11ed_833a_6045bd7df304\" ><thead>    <tr>        <th class=\"index_name level0\" >Shell No.</th>        <th class=\"col_heading level0 col0\" >t_rad</th>        <th class=\"col_heading level0 col1\" >next_t_rad</th>        <th class=\"col_heading level0 col2\" >w</th>        <th class=\"col_heading level0 col3\" >next_w</th>    </tr></thead><tbody>\n",
       "                <tr>\n",
       "                        <th id=\"T_7bb57504_9f6c_11ed_833a_6045bd7df304level0_row0\" class=\"row_heading level0 row0\" >0</th>\n",
       "                        <td id=\"T_7bb57504_9f6c_11ed_833a_6045bd7df304row0_col0\" class=\"data row0 col0\" >1.01e+04</td>\n",
       "                        <td id=\"T_7bb57504_9f6c_11ed_833a_6045bd7df304row0_col1\" class=\"data row0 col1\" >1.08e+04</td>\n",
       "                        <td id=\"T_7bb57504_9f6c_11ed_833a_6045bd7df304row0_col2\" class=\"data row0 col2\" >0.507</td>\n",
       "                        <td id=\"T_7bb57504_9f6c_11ed_833a_6045bd7df304row0_col3\" class=\"data row0 col3\" >0.525</td>\n",
       "            </tr>\n",
       "            <tr>\n",
       "                        <th id=\"T_7bb57504_9f6c_11ed_833a_6045bd7df304level0_row1\" class=\"row_heading level0 row1\" >5</th>\n",
       "                        <td id=\"T_7bb57504_9f6c_11ed_833a_6045bd7df304row1_col0\" class=\"data row1 col0\" >1.02e+04</td>\n",
       "                        <td id=\"T_7bb57504_9f6c_11ed_833a_6045bd7df304row1_col1\" class=\"data row1 col1\" >1.1e+04</td>\n",
       "                        <td id=\"T_7bb57504_9f6c_11ed_833a_6045bd7df304row1_col2\" class=\"data row1 col2\" >0.197</td>\n",
       "                        <td id=\"T_7bb57504_9f6c_11ed_833a_6045bd7df304row1_col3\" class=\"data row1 col3\" >0.203</td>\n",
       "            </tr>\n",
       "            <tr>\n",
       "                        <th id=\"T_7bb57504_9f6c_11ed_833a_6045bd7df304level0_row2\" class=\"row_heading level0 row2\" >10</th>\n",
       "                        <td id=\"T_7bb57504_9f6c_11ed_833a_6045bd7df304row2_col0\" class=\"data row2 col0\" >1.01e+04</td>\n",
       "                        <td id=\"T_7bb57504_9f6c_11ed_833a_6045bd7df304row2_col1\" class=\"data row2 col1\" >1.08e+04</td>\n",
       "                        <td id=\"T_7bb57504_9f6c_11ed_833a_6045bd7df304row2_col2\" class=\"data row2 col2\" >0.117</td>\n",
       "                        <td id=\"T_7bb57504_9f6c_11ed_833a_6045bd7df304row2_col3\" class=\"data row2 col3\" >0.125</td>\n",
       "            </tr>\n",
       "            <tr>\n",
       "                        <th id=\"T_7bb57504_9f6c_11ed_833a_6045bd7df304level0_row3\" class=\"row_heading level0 row3\" >15</th>\n",
       "                        <td id=\"T_7bb57504_9f6c_11ed_833a_6045bd7df304row3_col0\" class=\"data row3 col0\" >9.87e+03</td>\n",
       "                        <td id=\"T_7bb57504_9f6c_11ed_833a_6045bd7df304row3_col1\" class=\"data row3 col1\" >1.05e+04</td>\n",
       "                        <td id=\"T_7bb57504_9f6c_11ed_833a_6045bd7df304row3_col2\" class=\"data row3 col2\" >0.0869</td>\n",
       "                        <td id=\"T_7bb57504_9f6c_11ed_833a_6045bd7df304row3_col3\" class=\"data row3 col3\" >0.0933</td>\n",
       "            </tr>\n",
       "    </tbody></table>"
      ],
      "text/plain": [
       "<pandas.io.formats.style.Styler at 0x7f0cfee78a60>"
      ]
     },
     "metadata": {},
     "output_type": "display_data"
    },
    {
     "name": "stdout",
     "output_type": "stream",
     "text": [
      "[\u001b[1mtardis.simulation.base\u001b[0m][\u001b[1;37mINFO\u001b[0m   ]  \n",
      "\t\n",
      "\tCurrent t_inner = 10703.212 K\n",
      "\tExpected t_inner for next iteration = 10673.712 K\n",
      " (\u001b[1mbase.py\u001b[0m:550)\n"
     ]
    },
    {
     "name": "stdout",
     "output_type": "stream",
     "text": [
      "[\u001b[1mtardis.simulation.base\u001b[0m][\u001b[1;37mINFO\u001b[0m   ]  \n",
      "\t\n",
      "\tStarting iteration 3 of 20 (\u001b[1mbase.py\u001b[0m:381)\n"
     ]
    },
    {
     "name": "stdout",
     "output_type": "stream",
     "text": [
      "[\u001b[1mtardis.simulation.base\u001b[0m][\u001b[1;37mINFO\u001b[0m   ]  \n",
      "\t\n",
      "\tLuminosity emitted   = 1.074e+43 erg / s\n",
      "\tLuminosity absorbed  = 3.391e+42 erg / s\n",
      "\tLuminosity requested = 1.059e+43 erg / s\n",
      " (\u001b[1mbase.py\u001b[0m:555)\n"
     ]
    },
    {
     "name": "stdout",
     "output_type": "stream",
     "text": [
      "[\u001b[1mtardis.simulation.base\u001b[0m][\u001b[1;37mINFO\u001b[0m   ]  \n",
      "\t\n",
      "\tPlasma stratification: (\u001b[1mbase.py\u001b[0m:523)\n"
     ]
    },
    {
     "data": {
      "text/html": [
       "<style  type=\"text/css\" >\n",
       "</style><table id=\"T_7c20389e_9f6c_11ed_833a_6045bd7df304\" ><thead>    <tr>        <th class=\"index_name level0\" >Shell No.</th>        <th class=\"col_heading level0 col0\" >t_rad</th>        <th class=\"col_heading level0 col1\" >next_t_rad</th>        <th class=\"col_heading level0 col2\" >w</th>        <th class=\"col_heading level0 col3\" >next_w</th>    </tr></thead><tbody>\n",
       "                <tr>\n",
       "                        <th id=\"T_7c20389e_9f6c_11ed_833a_6045bd7df304level0_row0\" class=\"row_heading level0 row0\" >0</th>\n",
       "                        <td id=\"T_7c20389e_9f6c_11ed_833a_6045bd7df304row0_col0\" class=\"data row0 col0\" >1.08e+04</td>\n",
       "                        <td id=\"T_7c20389e_9f6c_11ed_833a_6045bd7df304row0_col1\" class=\"data row0 col1\" >1.1e+04</td>\n",
       "                        <td id=\"T_7c20389e_9f6c_11ed_833a_6045bd7df304row0_col2\" class=\"data row0 col2\" >0.525</td>\n",
       "                        <td id=\"T_7c20389e_9f6c_11ed_833a_6045bd7df304row0_col3\" class=\"data row0 col3\" >0.483</td>\n",
       "            </tr>\n",
       "            <tr>\n",
       "                        <th id=\"T_7c20389e_9f6c_11ed_833a_6045bd7df304level0_row1\" class=\"row_heading level0 row1\" >5</th>\n",
       "                        <td id=\"T_7c20389e_9f6c_11ed_833a_6045bd7df304row1_col0\" class=\"data row1 col0\" >1.1e+04</td>\n",
       "                        <td id=\"T_7c20389e_9f6c_11ed_833a_6045bd7df304row1_col1\" class=\"data row1 col1\" >1.12e+04</td>\n",
       "                        <td id=\"T_7c20389e_9f6c_11ed_833a_6045bd7df304row1_col2\" class=\"data row1 col2\" >0.203</td>\n",
       "                        <td id=\"T_7c20389e_9f6c_11ed_833a_6045bd7df304row1_col3\" class=\"data row1 col3\" >0.189</td>\n",
       "            </tr>\n",
       "            <tr>\n",
       "                        <th id=\"T_7c20389e_9f6c_11ed_833a_6045bd7df304level0_row2\" class=\"row_heading level0 row2\" >10</th>\n",
       "                        <td id=\"T_7c20389e_9f6c_11ed_833a_6045bd7df304row2_col0\" class=\"data row2 col0\" >1.08e+04</td>\n",
       "                        <td id=\"T_7c20389e_9f6c_11ed_833a_6045bd7df304row2_col1\" class=\"data row2 col1\" >1.1e+04</td>\n",
       "                        <td id=\"T_7c20389e_9f6c_11ed_833a_6045bd7df304row2_col2\" class=\"data row2 col2\" >0.125</td>\n",
       "                        <td id=\"T_7c20389e_9f6c_11ed_833a_6045bd7df304row2_col3\" class=\"data row2 col3\" >0.118</td>\n",
       "            </tr>\n",
       "            <tr>\n",
       "                        <th id=\"T_7c20389e_9f6c_11ed_833a_6045bd7df304level0_row3\" class=\"row_heading level0 row3\" >15</th>\n",
       "                        <td id=\"T_7c20389e_9f6c_11ed_833a_6045bd7df304row3_col0\" class=\"data row3 col0\" >1.05e+04</td>\n",
       "                        <td id=\"T_7c20389e_9f6c_11ed_833a_6045bd7df304row3_col1\" class=\"data row3 col1\" >1.06e+04</td>\n",
       "                        <td id=\"T_7c20389e_9f6c_11ed_833a_6045bd7df304row3_col2\" class=\"data row3 col2\" >0.0933</td>\n",
       "                        <td id=\"T_7c20389e_9f6c_11ed_833a_6045bd7df304row3_col3\" class=\"data row3 col3\" >0.0895</td>\n",
       "            </tr>\n",
       "    </tbody></table>"
      ],
      "text/plain": [
       "<pandas.io.formats.style.Styler at 0x7f0d40a01520>"
      ]
     },
     "metadata": {},
     "output_type": "display_data"
    },
    {
     "name": "stdout",
     "output_type": "stream",
     "text": [
      "[\u001b[1mtardis.simulation.base\u001b[0m][\u001b[1;37mINFO\u001b[0m   ]  \n",
      "\t\n",
      "\tCurrent t_inner = 10673.712 K\n",
      "\tExpected t_inner for next iteration = 10635.953 K\n",
      " (\u001b[1mbase.py\u001b[0m:550)\n"
     ]
    },
    {
     "name": "stdout",
     "output_type": "stream",
     "text": [
      "[\u001b[1mtardis.simulation.base\u001b[0m][\u001b[1;37mINFO\u001b[0m   ]  \n",
      "\t\n",
      "\tStarting iteration 4 of 20 (\u001b[1mbase.py\u001b[0m:381)\n"
     ]
    },
    {
     "name": "stdout",
     "output_type": "stream",
     "text": [
      "[\u001b[1mtardis.simulation.base\u001b[0m][\u001b[1;37mINFO\u001b[0m   ]  \n",
      "\t\n",
      "\tLuminosity emitted   = 1.058e+43 erg / s\n",
      "\tLuminosity absorbed  = 3.352e+42 erg / s\n",
      "\tLuminosity requested = 1.059e+43 erg / s\n",
      " (\u001b[1mbase.py\u001b[0m:555)\n"
     ]
    },
    {
     "name": "stdout",
     "output_type": "stream",
     "text": [
      "[\u001b[1mtardis.simulation.base\u001b[0m][\u001b[1;37mINFO\u001b[0m   ]  \n",
      "\t\n",
      "\tPlasma stratification: (\u001b[1mbase.py\u001b[0m:523)\n"
     ]
    },
    {
     "data": {
      "text/html": [
       "<style  type=\"text/css\" >\n",
       "</style><table id=\"T_7c89d830_9f6c_11ed_833a_6045bd7df304\" ><thead>    <tr>        <th class=\"index_name level0\" >Shell No.</th>        <th class=\"col_heading level0 col0\" >t_rad</th>        <th class=\"col_heading level0 col1\" >next_t_rad</th>        <th class=\"col_heading level0 col2\" >w</th>        <th class=\"col_heading level0 col3\" >next_w</th>    </tr></thead><tbody>\n",
       "                <tr>\n",
       "                        <th id=\"T_7c89d830_9f6c_11ed_833a_6045bd7df304level0_row0\" class=\"row_heading level0 row0\" >0</th>\n",
       "                        <td id=\"T_7c89d830_9f6c_11ed_833a_6045bd7df304row0_col0\" class=\"data row0 col0\" >1.1e+04</td>\n",
       "                        <td id=\"T_7c89d830_9f6c_11ed_833a_6045bd7df304row0_col1\" class=\"data row0 col1\" >1.1e+04</td>\n",
       "                        <td id=\"T_7c89d830_9f6c_11ed_833a_6045bd7df304row0_col2\" class=\"data row0 col2\" >0.483</td>\n",
       "                        <td id=\"T_7c89d830_9f6c_11ed_833a_6045bd7df304row0_col3\" class=\"data row0 col3\" >0.469</td>\n",
       "            </tr>\n",
       "            <tr>\n",
       "                        <th id=\"T_7c89d830_9f6c_11ed_833a_6045bd7df304level0_row1\" class=\"row_heading level0 row1\" >5</th>\n",
       "                        <td id=\"T_7c89d830_9f6c_11ed_833a_6045bd7df304row1_col0\" class=\"data row1 col0\" >1.12e+04</td>\n",
       "                        <td id=\"T_7c89d830_9f6c_11ed_833a_6045bd7df304row1_col1\" class=\"data row1 col1\" >1.12e+04</td>\n",
       "                        <td id=\"T_7c89d830_9f6c_11ed_833a_6045bd7df304row1_col2\" class=\"data row1 col2\" >0.189</td>\n",
       "                        <td id=\"T_7c89d830_9f6c_11ed_833a_6045bd7df304row1_col3\" class=\"data row1 col3\" >0.182</td>\n",
       "            </tr>\n",
       "            <tr>\n",
       "                        <th id=\"T_7c89d830_9f6c_11ed_833a_6045bd7df304level0_row2\" class=\"row_heading level0 row2\" >10</th>\n",
       "                        <td id=\"T_7c89d830_9f6c_11ed_833a_6045bd7df304row2_col0\" class=\"data row2 col0\" >1.1e+04</td>\n",
       "                        <td id=\"T_7c89d830_9f6c_11ed_833a_6045bd7df304row2_col1\" class=\"data row2 col1\" >1.1e+04</td>\n",
       "                        <td id=\"T_7c89d830_9f6c_11ed_833a_6045bd7df304row2_col2\" class=\"data row2 col2\" >0.118</td>\n",
       "                        <td id=\"T_7c89d830_9f6c_11ed_833a_6045bd7df304row2_col3\" class=\"data row2 col3\" >0.113</td>\n",
       "            </tr>\n",
       "            <tr>\n",
       "                        <th id=\"T_7c89d830_9f6c_11ed_833a_6045bd7df304level0_row3\" class=\"row_heading level0 row3\" >15</th>\n",
       "                        <td id=\"T_7c89d830_9f6c_11ed_833a_6045bd7df304row3_col0\" class=\"data row3 col0\" >1.06e+04</td>\n",
       "                        <td id=\"T_7c89d830_9f6c_11ed_833a_6045bd7df304row3_col1\" class=\"data row3 col1\" >1.07e+04</td>\n",
       "                        <td id=\"T_7c89d830_9f6c_11ed_833a_6045bd7df304row3_col2\" class=\"data row3 col2\" >0.0895</td>\n",
       "                        <td id=\"T_7c89d830_9f6c_11ed_833a_6045bd7df304row3_col3\" class=\"data row3 col3\" >0.0861</td>\n",
       "            </tr>\n",
       "    </tbody></table>"
      ],
      "text/plain": [
       "<pandas.io.formats.style.Styler at 0x7f0cfedf69d0>"
      ]
     },
     "metadata": {},
     "output_type": "display_data"
    },
    {
     "name": "stdout",
     "output_type": "stream",
     "text": [
      "[\u001b[1mtardis.simulation.base\u001b[0m][\u001b[1;37mINFO\u001b[0m   ]  \n",
      "\t\n",
      "\tCurrent t_inner = 10635.953 K\n",
      "\tExpected t_inner for next iteration = 10638.407 K\n",
      " (\u001b[1mbase.py\u001b[0m:550)\n"
     ]
    },
    {
     "name": "stdout",
     "output_type": "stream",
     "text": [
      "[\u001b[1mtardis.simulation.base\u001b[0m][\u001b[1;37mINFO\u001b[0m   ]  \n",
      "\t\n",
      "\tStarting iteration 5 of 20 (\u001b[1mbase.py\u001b[0m:381)\n"
     ]
    },
    {
     "name": "stdout",
     "output_type": "stream",
     "text": [
      "[\u001b[1mtardis.simulation.base\u001b[0m][\u001b[1;37mINFO\u001b[0m   ]  \n",
      "\t\n",
      "\tLuminosity emitted   = 1.055e+43 erg / s\n",
      "\tLuminosity absorbed  = 3.399e+42 erg / s\n",
      "\tLuminosity requested = 1.059e+43 erg / s\n",
      " (\u001b[1mbase.py\u001b[0m:555)\n"
     ]
    },
    {
     "name": "stdout",
     "output_type": "stream",
     "text": [
      "[\u001b[1mtardis.simulation.base\u001b[0m][\u001b[1;37mINFO\u001b[0m   ]  \n",
      "\tIteration converged 1/4 consecutive times. (\u001b[1mbase.py\u001b[0m:262)\n"
     ]
    },
    {
     "name": "stdout",
     "output_type": "stream",
     "text": [
      "[\u001b[1mtardis.simulation.base\u001b[0m][\u001b[1;37mINFO\u001b[0m   ]  \n",
      "\t\n",
      "\tPlasma stratification: (\u001b[1mbase.py\u001b[0m:523)\n"
     ]
    },
    {
     "data": {
      "text/html": [
       "<style  type=\"text/css\" >\n",
       "</style><table id=\"T_7cf59f52_9f6c_11ed_833a_6045bd7df304\" ><thead>    <tr>        <th class=\"index_name level0\" >Shell No.</th>        <th class=\"col_heading level0 col0\" >t_rad</th>        <th class=\"col_heading level0 col1\" >next_t_rad</th>        <th class=\"col_heading level0 col2\" >w</th>        <th class=\"col_heading level0 col3\" >next_w</th>    </tr></thead><tbody>\n",
       "                <tr>\n",
       "                        <th id=\"T_7cf59f52_9f6c_11ed_833a_6045bd7df304level0_row0\" class=\"row_heading level0 row0\" >0</th>\n",
       "                        <td id=\"T_7cf59f52_9f6c_11ed_833a_6045bd7df304row0_col0\" class=\"data row0 col0\" >1.1e+04</td>\n",
       "                        <td id=\"T_7cf59f52_9f6c_11ed_833a_6045bd7df304row0_col1\" class=\"data row0 col1\" >1.1e+04</td>\n",
       "                        <td id=\"T_7cf59f52_9f6c_11ed_833a_6045bd7df304row0_col2\" class=\"data row0 col2\" >0.469</td>\n",
       "                        <td id=\"T_7cf59f52_9f6c_11ed_833a_6045bd7df304row0_col3\" class=\"data row0 col3\" >0.479</td>\n",
       "            </tr>\n",
       "            <tr>\n",
       "                        <th id=\"T_7cf59f52_9f6c_11ed_833a_6045bd7df304level0_row1\" class=\"row_heading level0 row1\" >5</th>\n",
       "                        <td id=\"T_7cf59f52_9f6c_11ed_833a_6045bd7df304row1_col0\" class=\"data row1 col0\" >1.12e+04</td>\n",
       "                        <td id=\"T_7cf59f52_9f6c_11ed_833a_6045bd7df304row1_col1\" class=\"data row1 col1\" >1.13e+04</td>\n",
       "                        <td id=\"T_7cf59f52_9f6c_11ed_833a_6045bd7df304row1_col2\" class=\"data row1 col2\" >0.182</td>\n",
       "                        <td id=\"T_7cf59f52_9f6c_11ed_833a_6045bd7df304row1_col3\" class=\"data row1 col3\" >0.178</td>\n",
       "            </tr>\n",
       "            <tr>\n",
       "                        <th id=\"T_7cf59f52_9f6c_11ed_833a_6045bd7df304level0_row2\" class=\"row_heading level0 row2\" >10</th>\n",
       "                        <td id=\"T_7cf59f52_9f6c_11ed_833a_6045bd7df304row2_col0\" class=\"data row2 col0\" >1.1e+04</td>\n",
       "                        <td id=\"T_7cf59f52_9f6c_11ed_833a_6045bd7df304row2_col1\" class=\"data row2 col1\" >1.1e+04</td>\n",
       "                        <td id=\"T_7cf59f52_9f6c_11ed_833a_6045bd7df304row2_col2\" class=\"data row2 col2\" >0.113</td>\n",
       "                        <td id=\"T_7cf59f52_9f6c_11ed_833a_6045bd7df304row2_col3\" class=\"data row2 col3\" >0.113</td>\n",
       "            </tr>\n",
       "            <tr>\n",
       "                        <th id=\"T_7cf59f52_9f6c_11ed_833a_6045bd7df304level0_row3\" class=\"row_heading level0 row3\" >15</th>\n",
       "                        <td id=\"T_7cf59f52_9f6c_11ed_833a_6045bd7df304row3_col0\" class=\"data row3 col0\" >1.07e+04</td>\n",
       "                        <td id=\"T_7cf59f52_9f6c_11ed_833a_6045bd7df304row3_col1\" class=\"data row3 col1\" >1.07e+04</td>\n",
       "                        <td id=\"T_7cf59f52_9f6c_11ed_833a_6045bd7df304row3_col2\" class=\"data row3 col2\" >0.0861</td>\n",
       "                        <td id=\"T_7cf59f52_9f6c_11ed_833a_6045bd7df304row3_col3\" class=\"data row3 col3\" >0.0839</td>\n",
       "            </tr>\n",
       "    </tbody></table>"
      ],
      "text/plain": [
       "<pandas.io.formats.style.Styler at 0x7f0cfd4b96d0>"
      ]
     },
     "metadata": {},
     "output_type": "display_data"
    },
    {
     "name": "stdout",
     "output_type": "stream",
     "text": [
      "[\u001b[1mtardis.simulation.base\u001b[0m][\u001b[1;37mINFO\u001b[0m   ]  \n",
      "\t\n",
      "\tCurrent t_inner = 10638.407 K\n",
      "\tExpected t_inner for next iteration = 10650.202 K\n",
      " (\u001b[1mbase.py\u001b[0m:550)\n"
     ]
    },
    {
     "name": "stdout",
     "output_type": "stream",
     "text": [
      "[\u001b[1mtardis.simulation.base\u001b[0m][\u001b[1;37mINFO\u001b[0m   ]  \n",
      "\t\n",
      "\tStarting iteration 6 of 20 (\u001b[1mbase.py\u001b[0m:381)\n"
     ]
    },
    {
     "name": "stdout",
     "output_type": "stream",
     "text": [
      "[\u001b[1mtardis.simulation.base\u001b[0m][\u001b[1;37mINFO\u001b[0m   ]  \n",
      "\t\n",
      "\tLuminosity emitted   = 1.061e+43 erg / s\n",
      "\tLuminosity absorbed  = 3.398e+42 erg / s\n",
      "\tLuminosity requested = 1.059e+43 erg / s\n",
      " (\u001b[1mbase.py\u001b[0m:555)\n"
     ]
    },
    {
     "name": "stdout",
     "output_type": "stream",
     "text": [
      "[\u001b[1mtardis.simulation.base\u001b[0m][\u001b[1;37mINFO\u001b[0m   ]  \n",
      "\tIteration converged 2/4 consecutive times. (\u001b[1mbase.py\u001b[0m:262)\n"
     ]
    },
    {
     "name": "stdout",
     "output_type": "stream",
     "text": [
      "[\u001b[1mtardis.simulation.base\u001b[0m][\u001b[1;37mINFO\u001b[0m   ]  \n",
      "\t\n",
      "\tPlasma stratification: (\u001b[1mbase.py\u001b[0m:523)\n"
     ]
    },
    {
     "data": {
      "text/html": [
       "<style  type=\"text/css\" >\n",
       "</style><table id=\"T_7d5e1bf4_9f6c_11ed_833a_6045bd7df304\" ><thead>    <tr>        <th class=\"index_name level0\" >Shell No.</th>        <th class=\"col_heading level0 col0\" >t_rad</th>        <th class=\"col_heading level0 col1\" >next_t_rad</th>        <th class=\"col_heading level0 col2\" >w</th>        <th class=\"col_heading level0 col3\" >next_w</th>    </tr></thead><tbody>\n",
       "                <tr>\n",
       "                        <th id=\"T_7d5e1bf4_9f6c_11ed_833a_6045bd7df304level0_row0\" class=\"row_heading level0 row0\" >0</th>\n",
       "                        <td id=\"T_7d5e1bf4_9f6c_11ed_833a_6045bd7df304row0_col0\" class=\"data row0 col0\" >1.1e+04</td>\n",
       "                        <td id=\"T_7d5e1bf4_9f6c_11ed_833a_6045bd7df304row0_col1\" class=\"data row0 col1\" >1.1e+04</td>\n",
       "                        <td id=\"T_7d5e1bf4_9f6c_11ed_833a_6045bd7df304row0_col2\" class=\"data row0 col2\" >0.479</td>\n",
       "                        <td id=\"T_7d5e1bf4_9f6c_11ed_833a_6045bd7df304row0_col3\" class=\"data row0 col3\" >0.47</td>\n",
       "            </tr>\n",
       "            <tr>\n",
       "                        <th id=\"T_7d5e1bf4_9f6c_11ed_833a_6045bd7df304level0_row1\" class=\"row_heading level0 row1\" >5</th>\n",
       "                        <td id=\"T_7d5e1bf4_9f6c_11ed_833a_6045bd7df304row1_col0\" class=\"data row1 col0\" >1.13e+04</td>\n",
       "                        <td id=\"T_7d5e1bf4_9f6c_11ed_833a_6045bd7df304row1_col1\" class=\"data row1 col1\" >1.12e+04</td>\n",
       "                        <td id=\"T_7d5e1bf4_9f6c_11ed_833a_6045bd7df304row1_col2\" class=\"data row1 col2\" >0.178</td>\n",
       "                        <td id=\"T_7d5e1bf4_9f6c_11ed_833a_6045bd7df304row1_col3\" class=\"data row1 col3\" >0.185</td>\n",
       "            </tr>\n",
       "            <tr>\n",
       "                        <th id=\"T_7d5e1bf4_9f6c_11ed_833a_6045bd7df304level0_row2\" class=\"row_heading level0 row2\" >10</th>\n",
       "                        <td id=\"T_7d5e1bf4_9f6c_11ed_833a_6045bd7df304row2_col0\" class=\"data row2 col0\" >1.1e+04</td>\n",
       "                        <td id=\"T_7d5e1bf4_9f6c_11ed_833a_6045bd7df304row2_col1\" class=\"data row2 col1\" >1.11e+04</td>\n",
       "                        <td id=\"T_7d5e1bf4_9f6c_11ed_833a_6045bd7df304row2_col2\" class=\"data row2 col2\" >0.113</td>\n",
       "                        <td id=\"T_7d5e1bf4_9f6c_11ed_833a_6045bd7df304row2_col3\" class=\"data row2 col3\" >0.112</td>\n",
       "            </tr>\n",
       "            <tr>\n",
       "                        <th id=\"T_7d5e1bf4_9f6c_11ed_833a_6045bd7df304level0_row3\" class=\"row_heading level0 row3\" >15</th>\n",
       "                        <td id=\"T_7d5e1bf4_9f6c_11ed_833a_6045bd7df304row3_col0\" class=\"data row3 col0\" >1.07e+04</td>\n",
       "                        <td id=\"T_7d5e1bf4_9f6c_11ed_833a_6045bd7df304row3_col1\" class=\"data row3 col1\" >1.07e+04</td>\n",
       "                        <td id=\"T_7d5e1bf4_9f6c_11ed_833a_6045bd7df304row3_col2\" class=\"data row3 col2\" >0.0839</td>\n",
       "                        <td id=\"T_7d5e1bf4_9f6c_11ed_833a_6045bd7df304row3_col3\" class=\"data row3 col3\" >0.0856</td>\n",
       "            </tr>\n",
       "    </tbody></table>"
      ],
      "text/plain": [
       "<pandas.io.formats.style.Styler at 0x7f0cfeb77520>"
      ]
     },
     "metadata": {},
     "output_type": "display_data"
    },
    {
     "name": "stdout",
     "output_type": "stream",
     "text": [
      "[\u001b[1mtardis.simulation.base\u001b[0m][\u001b[1;37mINFO\u001b[0m   ]  \n",
      "\t\n",
      "\tCurrent t_inner = 10650.202 K\n",
      "\tExpected t_inner for next iteration = 10645.955 K\n",
      " (\u001b[1mbase.py\u001b[0m:550)\n"
     ]
    },
    {
     "name": "stdout",
     "output_type": "stream",
     "text": [
      "[\u001b[1mtardis.simulation.base\u001b[0m][\u001b[1;37mINFO\u001b[0m   ]  \n",
      "\t\n",
      "\tStarting iteration 7 of 20 (\u001b[1mbase.py\u001b[0m:381)\n"
     ]
    },
    {
     "name": "stdout",
     "output_type": "stream",
     "text": [
      "[\u001b[1mtardis.simulation.base\u001b[0m][\u001b[1;37mINFO\u001b[0m   ]  \n",
      "\t\n",
      "\tLuminosity emitted   = 1.061e+43 erg / s\n",
      "\tLuminosity absorbed  = 3.382e+42 erg / s\n",
      "\tLuminosity requested = 1.059e+43 erg / s\n",
      " (\u001b[1mbase.py\u001b[0m:555)\n"
     ]
    },
    {
     "name": "stdout",
     "output_type": "stream",
     "text": [
      "[\u001b[1mtardis.simulation.base\u001b[0m][\u001b[1;37mINFO\u001b[0m   ]  \n",
      "\tIteration converged 3/4 consecutive times. (\u001b[1mbase.py\u001b[0m:262)\n"
     ]
    },
    {
     "name": "stdout",
     "output_type": "stream",
     "text": [
      "[\u001b[1mtardis.simulation.base\u001b[0m][\u001b[1;37mINFO\u001b[0m   ]  \n",
      "\t\n",
      "\tPlasma stratification: (\u001b[1mbase.py\u001b[0m:523)\n"
     ]
    },
    {
     "data": {
      "text/html": [
       "<style  type=\"text/css\" >\n",
       "</style><table id=\"T_7dc66498_9f6c_11ed_833a_6045bd7df304\" ><thead>    <tr>        <th class=\"index_name level0\" >Shell No.</th>        <th class=\"col_heading level0 col0\" >t_rad</th>        <th class=\"col_heading level0 col1\" >next_t_rad</th>        <th class=\"col_heading level0 col2\" >w</th>        <th class=\"col_heading level0 col3\" >next_w</th>    </tr></thead><tbody>\n",
       "                <tr>\n",
       "                        <th id=\"T_7dc66498_9f6c_11ed_833a_6045bd7df304level0_row0\" class=\"row_heading level0 row0\" >0</th>\n",
       "                        <td id=\"T_7dc66498_9f6c_11ed_833a_6045bd7df304row0_col0\" class=\"data row0 col0\" >1.1e+04</td>\n",
       "                        <td id=\"T_7dc66498_9f6c_11ed_833a_6045bd7df304row0_col1\" class=\"data row0 col1\" >1.1e+04</td>\n",
       "                        <td id=\"T_7dc66498_9f6c_11ed_833a_6045bd7df304row0_col2\" class=\"data row0 col2\" >0.47</td>\n",
       "                        <td id=\"T_7dc66498_9f6c_11ed_833a_6045bd7df304row0_col3\" class=\"data row0 col3\" >0.47</td>\n",
       "            </tr>\n",
       "            <tr>\n",
       "                        <th id=\"T_7dc66498_9f6c_11ed_833a_6045bd7df304level0_row1\" class=\"row_heading level0 row1\" >5</th>\n",
       "                        <td id=\"T_7dc66498_9f6c_11ed_833a_6045bd7df304row1_col0\" class=\"data row1 col0\" >1.12e+04</td>\n",
       "                        <td id=\"T_7dc66498_9f6c_11ed_833a_6045bd7df304row1_col1\" class=\"data row1 col1\" >1.13e+04</td>\n",
       "                        <td id=\"T_7dc66498_9f6c_11ed_833a_6045bd7df304row1_col2\" class=\"data row1 col2\" >0.185</td>\n",
       "                        <td id=\"T_7dc66498_9f6c_11ed_833a_6045bd7df304row1_col3\" class=\"data row1 col3\" >0.178</td>\n",
       "            </tr>\n",
       "            <tr>\n",
       "                        <th id=\"T_7dc66498_9f6c_11ed_833a_6045bd7df304level0_row2\" class=\"row_heading level0 row2\" >10</th>\n",
       "                        <td id=\"T_7dc66498_9f6c_11ed_833a_6045bd7df304row2_col0\" class=\"data row2 col0\" >1.11e+04</td>\n",
       "                        <td id=\"T_7dc66498_9f6c_11ed_833a_6045bd7df304row2_col1\" class=\"data row2 col1\" >1.11e+04</td>\n",
       "                        <td id=\"T_7dc66498_9f6c_11ed_833a_6045bd7df304row2_col2\" class=\"data row2 col2\" >0.112</td>\n",
       "                        <td id=\"T_7dc66498_9f6c_11ed_833a_6045bd7df304row2_col3\" class=\"data row2 col3\" >0.112</td>\n",
       "            </tr>\n",
       "            <tr>\n",
       "                        <th id=\"T_7dc66498_9f6c_11ed_833a_6045bd7df304level0_row3\" class=\"row_heading level0 row3\" >15</th>\n",
       "                        <td id=\"T_7dc66498_9f6c_11ed_833a_6045bd7df304row3_col0\" class=\"data row3 col0\" >1.07e+04</td>\n",
       "                        <td id=\"T_7dc66498_9f6c_11ed_833a_6045bd7df304row3_col1\" class=\"data row3 col1\" >1.07e+04</td>\n",
       "                        <td id=\"T_7dc66498_9f6c_11ed_833a_6045bd7df304row3_col2\" class=\"data row3 col2\" >0.0856</td>\n",
       "                        <td id=\"T_7dc66498_9f6c_11ed_833a_6045bd7df304row3_col3\" class=\"data row3 col3\" >0.086</td>\n",
       "            </tr>\n",
       "    </tbody></table>"
      ],
      "text/plain": [
       "<pandas.io.formats.style.Styler at 0x7f0cfec15b80>"
      ]
     },
     "metadata": {},
     "output_type": "display_data"
    },
    {
     "name": "stdout",
     "output_type": "stream",
     "text": [
      "[\u001b[1mtardis.simulation.base\u001b[0m][\u001b[1;37mINFO\u001b[0m   ]  \n",
      "\t\n",
      "\tCurrent t_inner = 10645.955 K\n",
      "\tExpected t_inner for next iteration = 10642.050 K\n",
      " (\u001b[1mbase.py\u001b[0m:550)\n"
     ]
    },
    {
     "name": "stdout",
     "output_type": "stream",
     "text": [
      "[\u001b[1mtardis.simulation.base\u001b[0m][\u001b[1;37mINFO\u001b[0m   ]  \n",
      "\t\n",
      "\tStarting iteration 8 of 20 (\u001b[1mbase.py\u001b[0m:381)\n"
     ]
    },
    {
     "name": "stdout",
     "output_type": "stream",
     "text": [
      "[\u001b[1mtardis.simulation.base\u001b[0m][\u001b[1;37mINFO\u001b[0m   ]  \n",
      "\t\n",
      "\tLuminosity emitted   = 1.062e+43 erg / s\n",
      "\tLuminosity absorbed  = 3.350e+42 erg / s\n",
      "\tLuminosity requested = 1.059e+43 erg / s\n",
      " (\u001b[1mbase.py\u001b[0m:555)\n"
     ]
    },
    {
     "name": "stdout",
     "output_type": "stream",
     "text": [
      "[\u001b[1mtardis.simulation.base\u001b[0m][\u001b[1;37mINFO\u001b[0m   ]  \n",
      "\tIteration converged 4/4 consecutive times. (\u001b[1mbase.py\u001b[0m:262)\n"
     ]
    },
    {
     "name": "stdout",
     "output_type": "stream",
     "text": [
      "[\u001b[1mtardis.simulation.base\u001b[0m][\u001b[1;37mINFO\u001b[0m   ]  \n",
      "\t\n",
      "\tPlasma stratification: (\u001b[1mbase.py\u001b[0m:523)\n"
     ]
    },
    {
     "data": {
      "text/html": [
       "<style  type=\"text/css\" >\n",
       "</style><table id=\"T_7e2fa296_9f6c_11ed_833a_6045bd7df304\" ><thead>    <tr>        <th class=\"index_name level0\" >Shell No.</th>        <th class=\"col_heading level0 col0\" >t_rad</th>        <th class=\"col_heading level0 col1\" >next_t_rad</th>        <th class=\"col_heading level0 col2\" >w</th>        <th class=\"col_heading level0 col3\" >next_w</th>    </tr></thead><tbody>\n",
       "                <tr>\n",
       "                        <th id=\"T_7e2fa296_9f6c_11ed_833a_6045bd7df304level0_row0\" class=\"row_heading level0 row0\" >0</th>\n",
       "                        <td id=\"T_7e2fa296_9f6c_11ed_833a_6045bd7df304row0_col0\" class=\"data row0 col0\" >1.1e+04</td>\n",
       "                        <td id=\"T_7e2fa296_9f6c_11ed_833a_6045bd7df304row0_col1\" class=\"data row0 col1\" >1.11e+04</td>\n",
       "                        <td id=\"T_7e2fa296_9f6c_11ed_833a_6045bd7df304row0_col2\" class=\"data row0 col2\" >0.47</td>\n",
       "                        <td id=\"T_7e2fa296_9f6c_11ed_833a_6045bd7df304row0_col3\" class=\"data row0 col3\" >0.472</td>\n",
       "            </tr>\n",
       "            <tr>\n",
       "                        <th id=\"T_7e2fa296_9f6c_11ed_833a_6045bd7df304level0_row1\" class=\"row_heading level0 row1\" >5</th>\n",
       "                        <td id=\"T_7e2fa296_9f6c_11ed_833a_6045bd7df304row1_col0\" class=\"data row1 col0\" >1.13e+04</td>\n",
       "                        <td id=\"T_7e2fa296_9f6c_11ed_833a_6045bd7df304row1_col1\" class=\"data row1 col1\" >1.14e+04</td>\n",
       "                        <td id=\"T_7e2fa296_9f6c_11ed_833a_6045bd7df304row1_col2\" class=\"data row1 col2\" >0.178</td>\n",
       "                        <td id=\"T_7e2fa296_9f6c_11ed_833a_6045bd7df304row1_col3\" class=\"data row1 col3\" >0.175</td>\n",
       "            </tr>\n",
       "            <tr>\n",
       "                        <th id=\"T_7e2fa296_9f6c_11ed_833a_6045bd7df304level0_row2\" class=\"row_heading level0 row2\" >10</th>\n",
       "                        <td id=\"T_7e2fa296_9f6c_11ed_833a_6045bd7df304row2_col0\" class=\"data row2 col0\" >1.11e+04</td>\n",
       "                        <td id=\"T_7e2fa296_9f6c_11ed_833a_6045bd7df304row2_col1\" class=\"data row2 col1\" >1.11e+04</td>\n",
       "                        <td id=\"T_7e2fa296_9f6c_11ed_833a_6045bd7df304row2_col2\" class=\"data row2 col2\" >0.112</td>\n",
       "                        <td id=\"T_7e2fa296_9f6c_11ed_833a_6045bd7df304row2_col3\" class=\"data row2 col3\" >0.111</td>\n",
       "            </tr>\n",
       "            <tr>\n",
       "                        <th id=\"T_7e2fa296_9f6c_11ed_833a_6045bd7df304level0_row3\" class=\"row_heading level0 row3\" >15</th>\n",
       "                        <td id=\"T_7e2fa296_9f6c_11ed_833a_6045bd7df304row3_col0\" class=\"data row3 col0\" >1.07e+04</td>\n",
       "                        <td id=\"T_7e2fa296_9f6c_11ed_833a_6045bd7df304row3_col1\" class=\"data row3 col1\" >1.07e+04</td>\n",
       "                        <td id=\"T_7e2fa296_9f6c_11ed_833a_6045bd7df304row3_col2\" class=\"data row3 col2\" >0.086</td>\n",
       "                        <td id=\"T_7e2fa296_9f6c_11ed_833a_6045bd7df304row3_col3\" class=\"data row3 col3\" >0.084</td>\n",
       "            </tr>\n",
       "    </tbody></table>"
      ],
      "text/plain": [
       "<pandas.io.formats.style.Styler at 0x7f0cfc891550>"
      ]
     },
     "metadata": {},
     "output_type": "display_data"
    },
    {
     "name": "stdout",
     "output_type": "stream",
     "text": [
      "[\u001b[1mtardis.simulation.base\u001b[0m][\u001b[1;37mINFO\u001b[0m   ]  \n",
      "\t\n",
      "\tCurrent t_inner = 10642.050 K\n",
      "\tExpected t_inner for next iteration = 10636.106 K\n",
      " (\u001b[1mbase.py\u001b[0m:550)\n"
     ]
    },
    {
     "name": "stdout",
     "output_type": "stream",
     "text": [
      "[\u001b[1mtardis.simulation.base\u001b[0m][\u001b[1;37mINFO\u001b[0m   ]  \n",
      "\t\n",
      "\tStarting iteration 9 of 20 (\u001b[1mbase.py\u001b[0m:381)\n"
     ]
    },
    {
     "name": "stdout",
     "output_type": "stream",
     "text": [
      "[\u001b[1mtardis.simulation.base\u001b[0m][\u001b[1;37mINFO\u001b[0m   ]  \n",
      "\t\n",
      "\tLuminosity emitted   = 1.052e+43 erg / s\n",
      "\tLuminosity absorbed  = 3.411e+42 erg / s\n",
      "\tLuminosity requested = 1.059e+43 erg / s\n",
      " (\u001b[1mbase.py\u001b[0m:555)\n"
     ]
    },
    {
     "name": "stdout",
     "output_type": "stream",
     "text": [
      "[\u001b[1mtardis.simulation.base\u001b[0m][\u001b[1;37mINFO\u001b[0m   ]  \n",
      "\tIteration converged 5/4 consecutive times. (\u001b[1mbase.py\u001b[0m:262)\n"
     ]
    },
    {
     "name": "stdout",
     "output_type": "stream",
     "text": [
      "[\u001b[1mtardis.simulation.base\u001b[0m][\u001b[1;37mINFO\u001b[0m   ]  \n",
      "\t\n",
      "\tPlasma stratification: (\u001b[1mbase.py\u001b[0m:523)\n"
     ]
    },
    {
     "data": {
      "text/html": [
       "<style  type=\"text/css\" >\n",
       "</style><table id=\"T_7e988d2e_9f6c_11ed_833a_6045bd7df304\" ><thead>    <tr>        <th class=\"index_name level0\" >Shell No.</th>        <th class=\"col_heading level0 col0\" >t_rad</th>        <th class=\"col_heading level0 col1\" >next_t_rad</th>        <th class=\"col_heading level0 col2\" >w</th>        <th class=\"col_heading level0 col3\" >next_w</th>    </tr></thead><tbody>\n",
       "                <tr>\n",
       "                        <th id=\"T_7e988d2e_9f6c_11ed_833a_6045bd7df304level0_row0\" class=\"row_heading level0 row0\" >0</th>\n",
       "                        <td id=\"T_7e988d2e_9f6c_11ed_833a_6045bd7df304row0_col0\" class=\"data row0 col0\" >1.11e+04</td>\n",
       "                        <td id=\"T_7e988d2e_9f6c_11ed_833a_6045bd7df304row0_col1\" class=\"data row0 col1\" >1.11e+04</td>\n",
       "                        <td id=\"T_7e988d2e_9f6c_11ed_833a_6045bd7df304row0_col2\" class=\"data row0 col2\" >0.472</td>\n",
       "                        <td id=\"T_7e988d2e_9f6c_11ed_833a_6045bd7df304row0_col3\" class=\"data row0 col3\" >0.469</td>\n",
       "            </tr>\n",
       "            <tr>\n",
       "                        <th id=\"T_7e988d2e_9f6c_11ed_833a_6045bd7df304level0_row1\" class=\"row_heading level0 row1\" >5</th>\n",
       "                        <td id=\"T_7e988d2e_9f6c_11ed_833a_6045bd7df304row1_col0\" class=\"data row1 col0\" >1.14e+04</td>\n",
       "                        <td id=\"T_7e988d2e_9f6c_11ed_833a_6045bd7df304row1_col1\" class=\"data row1 col1\" >1.15e+04</td>\n",
       "                        <td id=\"T_7e988d2e_9f6c_11ed_833a_6045bd7df304row1_col2\" class=\"data row1 col2\" >0.175</td>\n",
       "                        <td id=\"T_7e988d2e_9f6c_11ed_833a_6045bd7df304row1_col3\" class=\"data row1 col3\" >0.17</td>\n",
       "            </tr>\n",
       "            <tr>\n",
       "                        <th id=\"T_7e988d2e_9f6c_11ed_833a_6045bd7df304level0_row2\" class=\"row_heading level0 row2\" >10</th>\n",
       "                        <td id=\"T_7e988d2e_9f6c_11ed_833a_6045bd7df304row2_col0\" class=\"data row2 col0\" >1.11e+04</td>\n",
       "                        <td id=\"T_7e988d2e_9f6c_11ed_833a_6045bd7df304row2_col1\" class=\"data row2 col1\" >1.11e+04</td>\n",
       "                        <td id=\"T_7e988d2e_9f6c_11ed_833a_6045bd7df304row2_col2\" class=\"data row2 col2\" >0.111</td>\n",
       "                        <td id=\"T_7e988d2e_9f6c_11ed_833a_6045bd7df304row2_col3\" class=\"data row2 col3\" >0.109</td>\n",
       "            </tr>\n",
       "            <tr>\n",
       "                        <th id=\"T_7e988d2e_9f6c_11ed_833a_6045bd7df304level0_row3\" class=\"row_heading level0 row3\" >15</th>\n",
       "                        <td id=\"T_7e988d2e_9f6c_11ed_833a_6045bd7df304row3_col0\" class=\"data row3 col0\" >1.07e+04</td>\n",
       "                        <td id=\"T_7e988d2e_9f6c_11ed_833a_6045bd7df304row3_col1\" class=\"data row3 col1\" >1.08e+04</td>\n",
       "                        <td id=\"T_7e988d2e_9f6c_11ed_833a_6045bd7df304row3_col2\" class=\"data row3 col2\" >0.084</td>\n",
       "                        <td id=\"T_7e988d2e_9f6c_11ed_833a_6045bd7df304row3_col3\" class=\"data row3 col3\" >0.0822</td>\n",
       "            </tr>\n",
       "    </tbody></table>"
      ],
      "text/plain": [
       "<pandas.io.formats.style.Styler at 0x7f0cfec156a0>"
      ]
     },
     "metadata": {},
     "output_type": "display_data"
    },
    {
     "name": "stdout",
     "output_type": "stream",
     "text": [
      "[\u001b[1mtardis.simulation.base\u001b[0m][\u001b[1;37mINFO\u001b[0m   ]  \n",
      "\t\n",
      "\tCurrent t_inner = 10636.106 K\n",
      "\tExpected t_inner for next iteration = 10654.313 K\n",
      " (\u001b[1mbase.py\u001b[0m:550)\n"
     ]
    },
    {
     "name": "stdout",
     "output_type": "stream",
     "text": [
      "[\u001b[1mtardis.simulation.base\u001b[0m][\u001b[1;37mINFO\u001b[0m   ]  \n",
      "\t\n",
      "\tStarting iteration 10 of 20 (\u001b[1mbase.py\u001b[0m:381)\n"
     ]
    },
    {
     "name": "stdout",
     "output_type": "stream",
     "text": [
      "[\u001b[1mtardis.simulation.base\u001b[0m][\u001b[1;37mINFO\u001b[0m   ]  \n",
      "\t\n",
      "\tLuminosity emitted   = 1.070e+43 erg / s\n",
      "\tLuminosity absorbed  = 3.335e+42 erg / s\n",
      "\tLuminosity requested = 1.059e+43 erg / s\n",
      " (\u001b[1mbase.py\u001b[0m:555)\n"
     ]
    },
    {
     "name": "stdout",
     "output_type": "stream",
     "text": [
      "[\u001b[1mtardis.simulation.base\u001b[0m][\u001b[1;37mINFO\u001b[0m   ]  \n",
      "\t\n",
      "\tPlasma stratification: (\u001b[1mbase.py\u001b[0m:523)\n"
     ]
    },
    {
     "data": {
      "text/html": [
       "<style  type=\"text/css\" >\n",
       "</style><table id=\"T_7f05dd0c_9f6c_11ed_833a_6045bd7df304\" ><thead>    <tr>        <th class=\"index_name level0\" >Shell No.</th>        <th class=\"col_heading level0 col0\" >t_rad</th>        <th class=\"col_heading level0 col1\" >next_t_rad</th>        <th class=\"col_heading level0 col2\" >w</th>        <th class=\"col_heading level0 col3\" >next_w</th>    </tr></thead><tbody>\n",
       "                <tr>\n",
       "                        <th id=\"T_7f05dd0c_9f6c_11ed_833a_6045bd7df304level0_row0\" class=\"row_heading level0 row0\" >0</th>\n",
       "                        <td id=\"T_7f05dd0c_9f6c_11ed_833a_6045bd7df304row0_col0\" class=\"data row0 col0\" >1.11e+04</td>\n",
       "                        <td id=\"T_7f05dd0c_9f6c_11ed_833a_6045bd7df304row0_col1\" class=\"data row0 col1\" >1.1e+04</td>\n",
       "                        <td id=\"T_7f05dd0c_9f6c_11ed_833a_6045bd7df304row0_col2\" class=\"data row0 col2\" >0.469</td>\n",
       "                        <td id=\"T_7f05dd0c_9f6c_11ed_833a_6045bd7df304row0_col3\" class=\"data row0 col3\" >0.475</td>\n",
       "            </tr>\n",
       "            <tr>\n",
       "                        <th id=\"T_7f05dd0c_9f6c_11ed_833a_6045bd7df304level0_row1\" class=\"row_heading level0 row1\" >5</th>\n",
       "                        <td id=\"T_7f05dd0c_9f6c_11ed_833a_6045bd7df304row1_col0\" class=\"data row1 col0\" >1.15e+04</td>\n",
       "                        <td id=\"T_7f05dd0c_9f6c_11ed_833a_6045bd7df304row1_col1\" class=\"data row1 col1\" >1.14e+04</td>\n",
       "                        <td id=\"T_7f05dd0c_9f6c_11ed_833a_6045bd7df304row1_col2\" class=\"data row1 col2\" >0.17</td>\n",
       "                        <td id=\"T_7f05dd0c_9f6c_11ed_833a_6045bd7df304row1_col3\" class=\"data row1 col3\" >0.177</td>\n",
       "            </tr>\n",
       "            <tr>\n",
       "                        <th id=\"T_7f05dd0c_9f6c_11ed_833a_6045bd7df304level0_row2\" class=\"row_heading level0 row2\" >10</th>\n",
       "                        <td id=\"T_7f05dd0c_9f6c_11ed_833a_6045bd7df304row2_col0\" class=\"data row2 col0\" >1.11e+04</td>\n",
       "                        <td id=\"T_7f05dd0c_9f6c_11ed_833a_6045bd7df304row2_col1\" class=\"data row2 col1\" >1.11e+04</td>\n",
       "                        <td id=\"T_7f05dd0c_9f6c_11ed_833a_6045bd7df304row2_col2\" class=\"data row2 col2\" >0.109</td>\n",
       "                        <td id=\"T_7f05dd0c_9f6c_11ed_833a_6045bd7df304row2_col3\" class=\"data row2 col3\" >0.112</td>\n",
       "            </tr>\n",
       "            <tr>\n",
       "                        <th id=\"T_7f05dd0c_9f6c_11ed_833a_6045bd7df304level0_row3\" class=\"row_heading level0 row3\" >15</th>\n",
       "                        <td id=\"T_7f05dd0c_9f6c_11ed_833a_6045bd7df304row3_col0\" class=\"data row3 col0\" >1.08e+04</td>\n",
       "                        <td id=\"T_7f05dd0c_9f6c_11ed_833a_6045bd7df304row3_col1\" class=\"data row3 col1\" >1.06e+04</td>\n",
       "                        <td id=\"T_7f05dd0c_9f6c_11ed_833a_6045bd7df304row3_col2\" class=\"data row3 col2\" >0.0822</td>\n",
       "                        <td id=\"T_7f05dd0c_9f6c_11ed_833a_6045bd7df304row3_col3\" class=\"data row3 col3\" >0.0878</td>\n",
       "            </tr>\n",
       "    </tbody></table>"
      ],
      "text/plain": [
       "<pandas.io.formats.style.Styler at 0x7f0cfec15130>"
      ]
     },
     "metadata": {},
     "output_type": "display_data"
    },
    {
     "name": "stdout",
     "output_type": "stream",
     "text": [
      "[\u001b[1mtardis.simulation.base\u001b[0m][\u001b[1;37mINFO\u001b[0m   ]  \n",
      "\t\n",
      "\tCurrent t_inner = 10654.313 K\n",
      "\tExpected t_inner for next iteration = 10628.190 K\n",
      " (\u001b[1mbase.py\u001b[0m:550)\n"
     ]
    },
    {
     "name": "stdout",
     "output_type": "stream",
     "text": [
      "[\u001b[1mtardis.simulation.base\u001b[0m][\u001b[1;37mINFO\u001b[0m   ]  \n",
      "\t\n",
      "\tStarting iteration 11 of 20 (\u001b[1mbase.py\u001b[0m:381)\n"
     ]
    },
    {
     "name": "stdout",
     "output_type": "stream",
     "text": [
      "[\u001b[1mtardis.simulation.base\u001b[0m][\u001b[1;37mINFO\u001b[0m   ]  \n",
      "\t\n",
      "\tLuminosity emitted   = 1.053e+43 erg / s\n",
      "\tLuminosity absorbed  = 3.363e+42 erg / s\n",
      "\tLuminosity requested = 1.059e+43 erg / s\n",
      " (\u001b[1mbase.py\u001b[0m:555)\n"
     ]
    },
    {
     "name": "stdout",
     "output_type": "stream",
     "text": [
      "[\u001b[1mtardis.simulation.base\u001b[0m][\u001b[1;37mINFO\u001b[0m   ]  \n",
      "\tIteration converged 1/4 consecutive times. (\u001b[1mbase.py\u001b[0m:262)\n"
     ]
    },
    {
     "name": "stdout",
     "output_type": "stream",
     "text": [
      "[\u001b[1mtardis.simulation.base\u001b[0m][\u001b[1;37mINFO\u001b[0m   ]  \n",
      "\t\n",
      "\tPlasma stratification: (\u001b[1mbase.py\u001b[0m:523)\n"
     ]
    },
    {
     "data": {
      "text/html": [
       "<style  type=\"text/css\" >\n",
       "</style><table id=\"T_7f758364_9f6c_11ed_833a_6045bd7df304\" ><thead>    <tr>        <th class=\"index_name level0\" >Shell No.</th>        <th class=\"col_heading level0 col0\" >t_rad</th>        <th class=\"col_heading level0 col1\" >next_t_rad</th>        <th class=\"col_heading level0 col2\" >w</th>        <th class=\"col_heading level0 col3\" >next_w</th>    </tr></thead><tbody>\n",
       "                <tr>\n",
       "                        <th id=\"T_7f758364_9f6c_11ed_833a_6045bd7df304level0_row0\" class=\"row_heading level0 row0\" >0</th>\n",
       "                        <td id=\"T_7f758364_9f6c_11ed_833a_6045bd7df304row0_col0\" class=\"data row0 col0\" >1.1e+04</td>\n",
       "                        <td id=\"T_7f758364_9f6c_11ed_833a_6045bd7df304row0_col1\" class=\"data row0 col1\" >1.1e+04</td>\n",
       "                        <td id=\"T_7f758364_9f6c_11ed_833a_6045bd7df304row0_col2\" class=\"data row0 col2\" >0.475</td>\n",
       "                        <td id=\"T_7f758364_9f6c_11ed_833a_6045bd7df304row0_col3\" class=\"data row0 col3\" >0.472</td>\n",
       "            </tr>\n",
       "            <tr>\n",
       "                        <th id=\"T_7f758364_9f6c_11ed_833a_6045bd7df304level0_row1\" class=\"row_heading level0 row1\" >5</th>\n",
       "                        <td id=\"T_7f758364_9f6c_11ed_833a_6045bd7df304row1_col0\" class=\"data row1 col0\" >1.14e+04</td>\n",
       "                        <td id=\"T_7f758364_9f6c_11ed_833a_6045bd7df304row1_col1\" class=\"data row1 col1\" >1.12e+04</td>\n",
       "                        <td id=\"T_7f758364_9f6c_11ed_833a_6045bd7df304row1_col2\" class=\"data row1 col2\" >0.177</td>\n",
       "                        <td id=\"T_7f758364_9f6c_11ed_833a_6045bd7df304row1_col3\" class=\"data row1 col3\" >0.184</td>\n",
       "            </tr>\n",
       "            <tr>\n",
       "                        <th id=\"T_7f758364_9f6c_11ed_833a_6045bd7df304level0_row2\" class=\"row_heading level0 row2\" >10</th>\n",
       "                        <td id=\"T_7f758364_9f6c_11ed_833a_6045bd7df304row2_col0\" class=\"data row2 col0\" >1.11e+04</td>\n",
       "                        <td id=\"T_7f758364_9f6c_11ed_833a_6045bd7df304row2_col1\" class=\"data row2 col1\" >1.1e+04</td>\n",
       "                        <td id=\"T_7f758364_9f6c_11ed_833a_6045bd7df304row2_col2\" class=\"data row2 col2\" >0.112</td>\n",
       "                        <td id=\"T_7f758364_9f6c_11ed_833a_6045bd7df304row2_col3\" class=\"data row2 col3\" >0.114</td>\n",
       "            </tr>\n",
       "            <tr>\n",
       "                        <th id=\"T_7f758364_9f6c_11ed_833a_6045bd7df304level0_row3\" class=\"row_heading level0 row3\" >15</th>\n",
       "                        <td id=\"T_7f758364_9f6c_11ed_833a_6045bd7df304row3_col0\" class=\"data row3 col0\" >1.06e+04</td>\n",
       "                        <td id=\"T_7f758364_9f6c_11ed_833a_6045bd7df304row3_col1\" class=\"data row3 col1\" >1.06e+04</td>\n",
       "                        <td id=\"T_7f758364_9f6c_11ed_833a_6045bd7df304row3_col2\" class=\"data row3 col2\" >0.0878</td>\n",
       "                        <td id=\"T_7f758364_9f6c_11ed_833a_6045bd7df304row3_col3\" class=\"data row3 col3\" >0.0859</td>\n",
       "            </tr>\n",
       "    </tbody></table>"
      ],
      "text/plain": [
       "<pandas.io.formats.style.Styler at 0x7f0cff0f8880>"
      ]
     },
     "metadata": {},
     "output_type": "display_data"
    },
    {
     "name": "stdout",
     "output_type": "stream",
     "text": [
      "[\u001b[1mtardis.simulation.base\u001b[0m][\u001b[1;37mINFO\u001b[0m   ]  \n",
      "\t\n",
      "\tCurrent t_inner = 10628.190 K\n",
      "\tExpected t_inner for next iteration = 10644.054 K\n",
      " (\u001b[1mbase.py\u001b[0m:550)\n"
     ]
    },
    {
     "name": "stdout",
     "output_type": "stream",
     "text": [
      "[\u001b[1mtardis.simulation.base\u001b[0m][\u001b[1;37mINFO\u001b[0m   ]  \n",
      "\t\n",
      "\tStarting iteration 12 of 20 (\u001b[1mbase.py\u001b[0m:381)\n"
     ]
    },
    {
     "name": "stdout",
     "output_type": "stream",
     "text": [
      "[\u001b[1mtardis.simulation.base\u001b[0m][\u001b[1;37mINFO\u001b[0m   ]  \n",
      "\t\n",
      "\tLuminosity emitted   = 1.056e+43 erg / s\n",
      "\tLuminosity absorbed  = 3.420e+42 erg / s\n",
      "\tLuminosity requested = 1.059e+43 erg / s\n",
      " (\u001b[1mbase.py\u001b[0m:555)\n"
     ]
    },
    {
     "name": "stdout",
     "output_type": "stream",
     "text": [
      "[\u001b[1mtardis.simulation.base\u001b[0m][\u001b[1;37mINFO\u001b[0m   ]  \n",
      "\t\n",
      "\tPlasma stratification: (\u001b[1mbase.py\u001b[0m:523)\n"
     ]
    },
    {
     "data": {
      "text/html": [
       "<style  type=\"text/css\" >\n",
       "</style><table id=\"T_7fe5b88c_9f6c_11ed_833a_6045bd7df304\" ><thead>    <tr>        <th class=\"index_name level0\" >Shell No.</th>        <th class=\"col_heading level0 col0\" >t_rad</th>        <th class=\"col_heading level0 col1\" >next_t_rad</th>        <th class=\"col_heading level0 col2\" >w</th>        <th class=\"col_heading level0 col3\" >next_w</th>    </tr></thead><tbody>\n",
       "                <tr>\n",
       "                        <th id=\"T_7fe5b88c_9f6c_11ed_833a_6045bd7df304level0_row0\" class=\"row_heading level0 row0\" >0</th>\n",
       "                        <td id=\"T_7fe5b88c_9f6c_11ed_833a_6045bd7df304row0_col0\" class=\"data row0 col0\" >1.1e+04</td>\n",
       "                        <td id=\"T_7fe5b88c_9f6c_11ed_833a_6045bd7df304row0_col1\" class=\"data row0 col1\" >1.11e+04</td>\n",
       "                        <td id=\"T_7fe5b88c_9f6c_11ed_833a_6045bd7df304row0_col2\" class=\"data row0 col2\" >0.472</td>\n",
       "                        <td id=\"T_7fe5b88c_9f6c_11ed_833a_6045bd7df304row0_col3\" class=\"data row0 col3\" >0.467</td>\n",
       "            </tr>\n",
       "            <tr>\n",
       "                        <th id=\"T_7fe5b88c_9f6c_11ed_833a_6045bd7df304level0_row1\" class=\"row_heading level0 row1\" >5</th>\n",
       "                        <td id=\"T_7fe5b88c_9f6c_11ed_833a_6045bd7df304row1_col0\" class=\"data row1 col0\" >1.12e+04</td>\n",
       "                        <td id=\"T_7fe5b88c_9f6c_11ed_833a_6045bd7df304row1_col1\" class=\"data row1 col1\" >1.13e+04</td>\n",
       "                        <td id=\"T_7fe5b88c_9f6c_11ed_833a_6045bd7df304row1_col2\" class=\"data row1 col2\" >0.184</td>\n",
       "                        <td id=\"T_7fe5b88c_9f6c_11ed_833a_6045bd7df304row1_col3\" class=\"data row1 col3\" >0.176</td>\n",
       "            </tr>\n",
       "            <tr>\n",
       "                        <th id=\"T_7fe5b88c_9f6c_11ed_833a_6045bd7df304level0_row2\" class=\"row_heading level0 row2\" >10</th>\n",
       "                        <td id=\"T_7fe5b88c_9f6c_11ed_833a_6045bd7df304row2_col0\" class=\"data row2 col0\" >1.1e+04</td>\n",
       "                        <td id=\"T_7fe5b88c_9f6c_11ed_833a_6045bd7df304row2_col1\" class=\"data row2 col1\" >1.11e+04</td>\n",
       "                        <td id=\"T_7fe5b88c_9f6c_11ed_833a_6045bd7df304row2_col2\" class=\"data row2 col2\" >0.114</td>\n",
       "                        <td id=\"T_7fe5b88c_9f6c_11ed_833a_6045bd7df304row2_col3\" class=\"data row2 col3\" >0.11</td>\n",
       "            </tr>\n",
       "            <tr>\n",
       "                        <th id=\"T_7fe5b88c_9f6c_11ed_833a_6045bd7df304level0_row3\" class=\"row_heading level0 row3\" >15</th>\n",
       "                        <td id=\"T_7fe5b88c_9f6c_11ed_833a_6045bd7df304row3_col0\" class=\"data row3 col0\" >1.06e+04</td>\n",
       "                        <td id=\"T_7fe5b88c_9f6c_11ed_833a_6045bd7df304row3_col1\" class=\"data row3 col1\" >1.08e+04</td>\n",
       "                        <td id=\"T_7fe5b88c_9f6c_11ed_833a_6045bd7df304row3_col2\" class=\"data row3 col2\" >0.0859</td>\n",
       "                        <td id=\"T_7fe5b88c_9f6c_11ed_833a_6045bd7df304row3_col3\" class=\"data row3 col3\" >0.0821</td>\n",
       "            </tr>\n",
       "    </tbody></table>"
      ],
      "text/plain": [
       "<pandas.io.formats.style.Styler at 0x7f0cfc9e37c0>"
      ]
     },
     "metadata": {},
     "output_type": "display_data"
    },
    {
     "name": "stdout",
     "output_type": "stream",
     "text": [
      "[\u001b[1mtardis.simulation.base\u001b[0m][\u001b[1;37mINFO\u001b[0m   ]  \n",
      "\t\n",
      "\tCurrent t_inner = 10644.054 K\n",
      "\tExpected t_inner for next iteration = 10653.543 K\n",
      " (\u001b[1mbase.py\u001b[0m:550)\n"
     ]
    },
    {
     "name": "stdout",
     "output_type": "stream",
     "text": [
      "[\u001b[1mtardis.simulation.base\u001b[0m][\u001b[1;37mINFO\u001b[0m   ]  \n",
      "\t\n",
      "\tStarting iteration 13 of 20 (\u001b[1mbase.py\u001b[0m:381)\n"
     ]
    },
    {
     "name": "stdout",
     "output_type": "stream",
     "text": [
      "[\u001b[1mtardis.simulation.base\u001b[0m][\u001b[1;37mINFO\u001b[0m   ]  \n",
      "\t\n",
      "\tLuminosity emitted   = 1.062e+43 erg / s\n",
      "\tLuminosity absorbed  = 3.406e+42 erg / s\n",
      "\tLuminosity requested = 1.059e+43 erg / s\n",
      " (\u001b[1mbase.py\u001b[0m:555)\n"
     ]
    },
    {
     "name": "stdout",
     "output_type": "stream",
     "text": [
      "[\u001b[1mtardis.simulation.base\u001b[0m][\u001b[1;37mINFO\u001b[0m   ]  \n",
      "\tIteration converged 1/4 consecutive times. (\u001b[1mbase.py\u001b[0m:262)\n"
     ]
    },
    {
     "name": "stdout",
     "output_type": "stream",
     "text": [
      "[\u001b[1mtardis.simulation.base\u001b[0m][\u001b[1;37mINFO\u001b[0m   ]  \n",
      "\t\n",
      "\tPlasma stratification: (\u001b[1mbase.py\u001b[0m:523)\n"
     ]
    },
    {
     "data": {
      "text/html": [
       "<style  type=\"text/css\" >\n",
       "</style><table id=\"T_8054d3e8_9f6c_11ed_833a_6045bd7df304\" ><thead>    <tr>        <th class=\"index_name level0\" >Shell No.</th>        <th class=\"col_heading level0 col0\" >t_rad</th>        <th class=\"col_heading level0 col1\" >next_t_rad</th>        <th class=\"col_heading level0 col2\" >w</th>        <th class=\"col_heading level0 col3\" >next_w</th>    </tr></thead><tbody>\n",
       "                <tr>\n",
       "                        <th id=\"T_8054d3e8_9f6c_11ed_833a_6045bd7df304level0_row0\" class=\"row_heading level0 row0\" >0</th>\n",
       "                        <td id=\"T_8054d3e8_9f6c_11ed_833a_6045bd7df304row0_col0\" class=\"data row0 col0\" >1.11e+04</td>\n",
       "                        <td id=\"T_8054d3e8_9f6c_11ed_833a_6045bd7df304row0_col1\" class=\"data row0 col1\" >1.11e+04</td>\n",
       "                        <td id=\"T_8054d3e8_9f6c_11ed_833a_6045bd7df304row0_col2\" class=\"data row0 col2\" >0.467</td>\n",
       "                        <td id=\"T_8054d3e8_9f6c_11ed_833a_6045bd7df304row0_col3\" class=\"data row0 col3\" >0.466</td>\n",
       "            </tr>\n",
       "            <tr>\n",
       "                        <th id=\"T_8054d3e8_9f6c_11ed_833a_6045bd7df304level0_row1\" class=\"row_heading level0 row1\" >5</th>\n",
       "                        <td id=\"T_8054d3e8_9f6c_11ed_833a_6045bd7df304row1_col0\" class=\"data row1 col0\" >1.13e+04</td>\n",
       "                        <td id=\"T_8054d3e8_9f6c_11ed_833a_6045bd7df304row1_col1\" class=\"data row1 col1\" >1.13e+04</td>\n",
       "                        <td id=\"T_8054d3e8_9f6c_11ed_833a_6045bd7df304row1_col2\" class=\"data row1 col2\" >0.176</td>\n",
       "                        <td id=\"T_8054d3e8_9f6c_11ed_833a_6045bd7df304row1_col3\" class=\"data row1 col3\" >0.18</td>\n",
       "            </tr>\n",
       "            <tr>\n",
       "                        <th id=\"T_8054d3e8_9f6c_11ed_833a_6045bd7df304level0_row2\" class=\"row_heading level0 row2\" >10</th>\n",
       "                        <td id=\"T_8054d3e8_9f6c_11ed_833a_6045bd7df304row2_col0\" class=\"data row2 col0\" >1.11e+04</td>\n",
       "                        <td id=\"T_8054d3e8_9f6c_11ed_833a_6045bd7df304row2_col1\" class=\"data row2 col1\" >1.11e+04</td>\n",
       "                        <td id=\"T_8054d3e8_9f6c_11ed_833a_6045bd7df304row2_col2\" class=\"data row2 col2\" >0.11</td>\n",
       "                        <td id=\"T_8054d3e8_9f6c_11ed_833a_6045bd7df304row2_col3\" class=\"data row2 col3\" >0.111</td>\n",
       "            </tr>\n",
       "            <tr>\n",
       "                        <th id=\"T_8054d3e8_9f6c_11ed_833a_6045bd7df304level0_row3\" class=\"row_heading level0 row3\" >15</th>\n",
       "                        <td id=\"T_8054d3e8_9f6c_11ed_833a_6045bd7df304row3_col0\" class=\"data row3 col0\" >1.08e+04</td>\n",
       "                        <td id=\"T_8054d3e8_9f6c_11ed_833a_6045bd7df304row3_col1\" class=\"data row3 col1\" >1.08e+04</td>\n",
       "                        <td id=\"T_8054d3e8_9f6c_11ed_833a_6045bd7df304row3_col2\" class=\"data row3 col2\" >0.0821</td>\n",
       "                        <td id=\"T_8054d3e8_9f6c_11ed_833a_6045bd7df304row3_col3\" class=\"data row3 col3\" >0.0841</td>\n",
       "            </tr>\n",
       "    </tbody></table>"
      ],
      "text/plain": [
       "<pandas.io.formats.style.Styler at 0x7f0cfcd6d6d0>"
      ]
     },
     "metadata": {},
     "output_type": "display_data"
    },
    {
     "name": "stdout",
     "output_type": "stream",
     "text": [
      "[\u001b[1mtardis.simulation.base\u001b[0m][\u001b[1;37mINFO\u001b[0m   ]  \n",
      "\t\n",
      "\tCurrent t_inner = 10653.543 K\n",
      "\tExpected t_inner for next iteration = 10647.277 K\n",
      " (\u001b[1mbase.py\u001b[0m:550)\n"
     ]
    },
    {
     "name": "stdout",
     "output_type": "stream",
     "text": [
      "[\u001b[1mtardis.simulation.base\u001b[0m][\u001b[1;37mINFO\u001b[0m   ]  \n",
      "\t\n",
      "\tStarting iteration 14 of 20 (\u001b[1mbase.py\u001b[0m:381)\n"
     ]
    },
    {
     "name": "stdout",
     "output_type": "stream",
     "text": [
      "[\u001b[1mtardis.simulation.base\u001b[0m][\u001b[1;37mINFO\u001b[0m   ]  \n",
      "\t\n",
      "\tLuminosity emitted   = 1.063e+43 erg / s\n",
      "\tLuminosity absorbed  = 3.369e+42 erg / s\n",
      "\tLuminosity requested = 1.059e+43 erg / s\n",
      " (\u001b[1mbase.py\u001b[0m:555)\n"
     ]
    },
    {
     "name": "stdout",
     "output_type": "stream",
     "text": [
      "[\u001b[1mtardis.simulation.base\u001b[0m][\u001b[1;37mINFO\u001b[0m   ]  \n",
      "\tIteration converged 2/4 consecutive times. (\u001b[1mbase.py\u001b[0m:262)\n"
     ]
    },
    {
     "name": "stdout",
     "output_type": "stream",
     "text": [
      "[\u001b[1mtardis.simulation.base\u001b[0m][\u001b[1;37mINFO\u001b[0m   ]  \n",
      "\t\n",
      "\tPlasma stratification: (\u001b[1mbase.py\u001b[0m:523)\n"
     ]
    },
    {
     "data": {
      "text/html": [
       "<style  type=\"text/css\" >\n",
       "</style><table id=\"T_80ca2cba_9f6c_11ed_833a_6045bd7df304\" ><thead>    <tr>        <th class=\"index_name level0\" >Shell No.</th>        <th class=\"col_heading level0 col0\" >t_rad</th>        <th class=\"col_heading level0 col1\" >next_t_rad</th>        <th class=\"col_heading level0 col2\" >w</th>        <th class=\"col_heading level0 col3\" >next_w</th>    </tr></thead><tbody>\n",
       "                <tr>\n",
       "                        <th id=\"T_80ca2cba_9f6c_11ed_833a_6045bd7df304level0_row0\" class=\"row_heading level0 row0\" >0</th>\n",
       "                        <td id=\"T_80ca2cba_9f6c_11ed_833a_6045bd7df304row0_col0\" class=\"data row0 col0\" >1.11e+04</td>\n",
       "                        <td id=\"T_80ca2cba_9f6c_11ed_833a_6045bd7df304row0_col1\" class=\"data row0 col1\" >1.11e+04</td>\n",
       "                        <td id=\"T_80ca2cba_9f6c_11ed_833a_6045bd7df304row0_col2\" class=\"data row0 col2\" >0.466</td>\n",
       "                        <td id=\"T_80ca2cba_9f6c_11ed_833a_6045bd7df304row0_col3\" class=\"data row0 col3\" >0.469</td>\n",
       "            </tr>\n",
       "            <tr>\n",
       "                        <th id=\"T_80ca2cba_9f6c_11ed_833a_6045bd7df304level0_row1\" class=\"row_heading level0 row1\" >5</th>\n",
       "                        <td id=\"T_80ca2cba_9f6c_11ed_833a_6045bd7df304row1_col0\" class=\"data row1 col0\" >1.13e+04</td>\n",
       "                        <td id=\"T_80ca2cba_9f6c_11ed_833a_6045bd7df304row1_col1\" class=\"data row1 col1\" >1.13e+04</td>\n",
       "                        <td id=\"T_80ca2cba_9f6c_11ed_833a_6045bd7df304row1_col2\" class=\"data row1 col2\" >0.18</td>\n",
       "                        <td id=\"T_80ca2cba_9f6c_11ed_833a_6045bd7df304row1_col3\" class=\"data row1 col3\" >0.182</td>\n",
       "            </tr>\n",
       "            <tr>\n",
       "                        <th id=\"T_80ca2cba_9f6c_11ed_833a_6045bd7df304level0_row2\" class=\"row_heading level0 row2\" >10</th>\n",
       "                        <td id=\"T_80ca2cba_9f6c_11ed_833a_6045bd7df304row2_col0\" class=\"data row2 col0\" >1.11e+04</td>\n",
       "                        <td id=\"T_80ca2cba_9f6c_11ed_833a_6045bd7df304row2_col1\" class=\"data row2 col1\" >1.1e+04</td>\n",
       "                        <td id=\"T_80ca2cba_9f6c_11ed_833a_6045bd7df304row2_col2\" class=\"data row2 col2\" >0.111</td>\n",
       "                        <td id=\"T_80ca2cba_9f6c_11ed_833a_6045bd7df304row2_col3\" class=\"data row2 col3\" >0.113</td>\n",
       "            </tr>\n",
       "            <tr>\n",
       "                        <th id=\"T_80ca2cba_9f6c_11ed_833a_6045bd7df304level0_row3\" class=\"row_heading level0 row3\" >15</th>\n",
       "                        <td id=\"T_80ca2cba_9f6c_11ed_833a_6045bd7df304row3_col0\" class=\"data row3 col0\" >1.08e+04</td>\n",
       "                        <td id=\"T_80ca2cba_9f6c_11ed_833a_6045bd7df304row3_col1\" class=\"data row3 col1\" >1.07e+04</td>\n",
       "                        <td id=\"T_80ca2cba_9f6c_11ed_833a_6045bd7df304row3_col2\" class=\"data row3 col2\" >0.0841</td>\n",
       "                        <td id=\"T_80ca2cba_9f6c_11ed_833a_6045bd7df304row3_col3\" class=\"data row3 col3\" >0.0854</td>\n",
       "            </tr>\n",
       "    </tbody></table>"
      ],
      "text/plain": [
       "<pandas.io.formats.style.Styler at 0x7f0cfcd6d970>"
      ]
     },
     "metadata": {},
     "output_type": "display_data"
    },
    {
     "name": "stdout",
     "output_type": "stream",
     "text": [
      "[\u001b[1mtardis.simulation.base\u001b[0m][\u001b[1;37mINFO\u001b[0m   ]  \n",
      "\t\n",
      "\tCurrent t_inner = 10647.277 K\n",
      "\tExpected t_inner for next iteration = 10638.875 K\n",
      " (\u001b[1mbase.py\u001b[0m:550)\n"
     ]
    },
    {
     "name": "stdout",
     "output_type": "stream",
     "text": [
      "[\u001b[1mtardis.simulation.base\u001b[0m][\u001b[1;37mINFO\u001b[0m   ]  \n",
      "\t\n",
      "\tStarting iteration 15 of 20 (\u001b[1mbase.py\u001b[0m:381)\n"
     ]
    },
    {
     "name": "stdout",
     "output_type": "stream",
     "text": [
      "[\u001b[1mtardis.simulation.base\u001b[0m][\u001b[1;37mINFO\u001b[0m   ]  \n",
      "\t\n",
      "\tLuminosity emitted   = 1.053e+43 erg / s\n",
      "\tLuminosity absorbed  = 3.417e+42 erg / s\n",
      "\tLuminosity requested = 1.059e+43 erg / s\n",
      " (\u001b[1mbase.py\u001b[0m:555)\n"
     ]
    },
    {
     "name": "stdout",
     "output_type": "stream",
     "text": [
      "[\u001b[1mtardis.simulation.base\u001b[0m][\u001b[1;37mINFO\u001b[0m   ]  \n",
      "\tIteration converged 3/4 consecutive times. (\u001b[1mbase.py\u001b[0m:262)\n"
     ]
    },
    {
     "name": "stdout",
     "output_type": "stream",
     "text": [
      "[\u001b[1mtardis.simulation.base\u001b[0m][\u001b[1;37mINFO\u001b[0m   ]  \n",
      "\t\n",
      "\tPlasma stratification: (\u001b[1mbase.py\u001b[0m:523)\n"
     ]
    },
    {
     "data": {
      "text/html": [
       "<style  type=\"text/css\" >\n",
       "</style><table id=\"T_81385852_9f6c_11ed_833a_6045bd7df304\" ><thead>    <tr>        <th class=\"index_name level0\" >Shell No.</th>        <th class=\"col_heading level0 col0\" >t_rad</th>        <th class=\"col_heading level0 col1\" >next_t_rad</th>        <th class=\"col_heading level0 col2\" >w</th>        <th class=\"col_heading level0 col3\" >next_w</th>    </tr></thead><tbody>\n",
       "                <tr>\n",
       "                        <th id=\"T_81385852_9f6c_11ed_833a_6045bd7df304level0_row0\" class=\"row_heading level0 row0\" >0</th>\n",
       "                        <td id=\"T_81385852_9f6c_11ed_833a_6045bd7df304row0_col0\" class=\"data row0 col0\" >1.11e+04</td>\n",
       "                        <td id=\"T_81385852_9f6c_11ed_833a_6045bd7df304row0_col1\" class=\"data row0 col1\" >1.1e+04</td>\n",
       "                        <td id=\"T_81385852_9f6c_11ed_833a_6045bd7df304row0_col2\" class=\"data row0 col2\" >0.469</td>\n",
       "                        <td id=\"T_81385852_9f6c_11ed_833a_6045bd7df304row0_col3\" class=\"data row0 col3\" >0.484</td>\n",
       "            </tr>\n",
       "            <tr>\n",
       "                        <th id=\"T_81385852_9f6c_11ed_833a_6045bd7df304level0_row1\" class=\"row_heading level0 row1\" >5</th>\n",
       "                        <td id=\"T_81385852_9f6c_11ed_833a_6045bd7df304row1_col0\" class=\"data row1 col0\" >1.13e+04</td>\n",
       "                        <td id=\"T_81385852_9f6c_11ed_833a_6045bd7df304row1_col1\" class=\"data row1 col1\" >1.13e+04</td>\n",
       "                        <td id=\"T_81385852_9f6c_11ed_833a_6045bd7df304row1_col2\" class=\"data row1 col2\" >0.182</td>\n",
       "                        <td id=\"T_81385852_9f6c_11ed_833a_6045bd7df304row1_col3\" class=\"data row1 col3\" >0.181</td>\n",
       "            </tr>\n",
       "            <tr>\n",
       "                        <th id=\"T_81385852_9f6c_11ed_833a_6045bd7df304level0_row2\" class=\"row_heading level0 row2\" >10</th>\n",
       "                        <td id=\"T_81385852_9f6c_11ed_833a_6045bd7df304row2_col0\" class=\"data row2 col0\" >1.1e+04</td>\n",
       "                        <td id=\"T_81385852_9f6c_11ed_833a_6045bd7df304row2_col1\" class=\"data row2 col1\" >1.1e+04</td>\n",
       "                        <td id=\"T_81385852_9f6c_11ed_833a_6045bd7df304row2_col2\" class=\"data row2 col2\" >0.113</td>\n",
       "                        <td id=\"T_81385852_9f6c_11ed_833a_6045bd7df304row2_col3\" class=\"data row2 col3\" >0.113</td>\n",
       "            </tr>\n",
       "            <tr>\n",
       "                        <th id=\"T_81385852_9f6c_11ed_833a_6045bd7df304level0_row3\" class=\"row_heading level0 row3\" >15</th>\n",
       "                        <td id=\"T_81385852_9f6c_11ed_833a_6045bd7df304row3_col0\" class=\"data row3 col0\" >1.07e+04</td>\n",
       "                        <td id=\"T_81385852_9f6c_11ed_833a_6045bd7df304row3_col1\" class=\"data row3 col1\" >1.07e+04</td>\n",
       "                        <td id=\"T_81385852_9f6c_11ed_833a_6045bd7df304row3_col2\" class=\"data row3 col2\" >0.0854</td>\n",
       "                        <td id=\"T_81385852_9f6c_11ed_833a_6045bd7df304row3_col3\" class=\"data row3 col3\" >0.0858</td>\n",
       "            </tr>\n",
       "    </tbody></table>"
      ],
      "text/plain": [
       "<pandas.io.formats.style.Styler at 0x7f0cfd46fe20>"
      ]
     },
     "metadata": {},
     "output_type": "display_data"
    },
    {
     "name": "stdout",
     "output_type": "stream",
     "text": [
      "[\u001b[1mtardis.simulation.base\u001b[0m][\u001b[1;37mINFO\u001b[0m   ]  \n",
      "\t\n",
      "\tCurrent t_inner = 10638.875 K\n",
      "\tExpected t_inner for next iteration = 10655.125 K\n",
      " (\u001b[1mbase.py\u001b[0m:550)\n"
     ]
    },
    {
     "name": "stdout",
     "output_type": "stream",
     "text": [
      "[\u001b[1mtardis.simulation.base\u001b[0m][\u001b[1;37mINFO\u001b[0m   ]  \n",
      "\t\n",
      "\tStarting iteration 16 of 20 (\u001b[1mbase.py\u001b[0m:381)\n"
     ]
    },
    {
     "name": "stdout",
     "output_type": "stream",
     "text": [
      "[\u001b[1mtardis.simulation.base\u001b[0m][\u001b[1;37mINFO\u001b[0m   ]  \n",
      "\t\n",
      "\tLuminosity emitted   = 1.059e+43 erg / s\n",
      "\tLuminosity absorbed  = 3.445e+42 erg / s\n",
      "\tLuminosity requested = 1.059e+43 erg / s\n",
      " (\u001b[1mbase.py\u001b[0m:555)\n"
     ]
    },
    {
     "name": "stdout",
     "output_type": "stream",
     "text": [
      "[\u001b[1mtardis.simulation.base\u001b[0m][\u001b[1;37mINFO\u001b[0m   ]  \n",
      "\tIteration converged 4/4 consecutive times. (\u001b[1mbase.py\u001b[0m:262)\n"
     ]
    },
    {
     "name": "stdout",
     "output_type": "stream",
     "text": [
      "[\u001b[1mtardis.simulation.base\u001b[0m][\u001b[1;37mINFO\u001b[0m   ]  \n",
      "\t\n",
      "\tPlasma stratification: (\u001b[1mbase.py\u001b[0m:523)\n"
     ]
    },
    {
     "data": {
      "text/html": [
       "<style  type=\"text/css\" >\n",
       "</style><table id=\"T_81a5f4e8_9f6c_11ed_833a_6045bd7df304\" ><thead>    <tr>        <th class=\"index_name level0\" >Shell No.</th>        <th class=\"col_heading level0 col0\" >t_rad</th>        <th class=\"col_heading level0 col1\" >next_t_rad</th>        <th class=\"col_heading level0 col2\" >w</th>        <th class=\"col_heading level0 col3\" >next_w</th>    </tr></thead><tbody>\n",
       "                <tr>\n",
       "                        <th id=\"T_81a5f4e8_9f6c_11ed_833a_6045bd7df304level0_row0\" class=\"row_heading level0 row0\" >0</th>\n",
       "                        <td id=\"T_81a5f4e8_9f6c_11ed_833a_6045bd7df304row0_col0\" class=\"data row0 col0\" >1.1e+04</td>\n",
       "                        <td id=\"T_81a5f4e8_9f6c_11ed_833a_6045bd7df304row0_col1\" class=\"data row0 col1\" >1.1e+04</td>\n",
       "                        <td id=\"T_81a5f4e8_9f6c_11ed_833a_6045bd7df304row0_col2\" class=\"data row0 col2\" >0.484</td>\n",
       "                        <td id=\"T_81a5f4e8_9f6c_11ed_833a_6045bd7df304row0_col3\" class=\"data row0 col3\" >0.472</td>\n",
       "            </tr>\n",
       "            <tr>\n",
       "                        <th id=\"T_81a5f4e8_9f6c_11ed_833a_6045bd7df304level0_row1\" class=\"row_heading level0 row1\" >5</th>\n",
       "                        <td id=\"T_81a5f4e8_9f6c_11ed_833a_6045bd7df304row1_col0\" class=\"data row1 col0\" >1.13e+04</td>\n",
       "                        <td id=\"T_81a5f4e8_9f6c_11ed_833a_6045bd7df304row1_col1\" class=\"data row1 col1\" >1.13e+04</td>\n",
       "                        <td id=\"T_81a5f4e8_9f6c_11ed_833a_6045bd7df304row1_col2\" class=\"data row1 col2\" >0.181</td>\n",
       "                        <td id=\"T_81a5f4e8_9f6c_11ed_833a_6045bd7df304row1_col3\" class=\"data row1 col3\" >0.177</td>\n",
       "            </tr>\n",
       "            <tr>\n",
       "                        <th id=\"T_81a5f4e8_9f6c_11ed_833a_6045bd7df304level0_row2\" class=\"row_heading level0 row2\" >10</th>\n",
       "                        <td id=\"T_81a5f4e8_9f6c_11ed_833a_6045bd7df304row2_col0\" class=\"data row2 col0\" >1.1e+04</td>\n",
       "                        <td id=\"T_81a5f4e8_9f6c_11ed_833a_6045bd7df304row2_col1\" class=\"data row2 col1\" >1.1e+04</td>\n",
       "                        <td id=\"T_81a5f4e8_9f6c_11ed_833a_6045bd7df304row2_col2\" class=\"data row2 col2\" >0.113</td>\n",
       "                        <td id=\"T_81a5f4e8_9f6c_11ed_833a_6045bd7df304row2_col3\" class=\"data row2 col3\" >0.113</td>\n",
       "            </tr>\n",
       "            <tr>\n",
       "                        <th id=\"T_81a5f4e8_9f6c_11ed_833a_6045bd7df304level0_row3\" class=\"row_heading level0 row3\" >15</th>\n",
       "                        <td id=\"T_81a5f4e8_9f6c_11ed_833a_6045bd7df304row3_col0\" class=\"data row3 col0\" >1.07e+04</td>\n",
       "                        <td id=\"T_81a5f4e8_9f6c_11ed_833a_6045bd7df304row3_col1\" class=\"data row3 col1\" >1.06e+04</td>\n",
       "                        <td id=\"T_81a5f4e8_9f6c_11ed_833a_6045bd7df304row3_col2\" class=\"data row3 col2\" >0.0858</td>\n",
       "                        <td id=\"T_81a5f4e8_9f6c_11ed_833a_6045bd7df304row3_col3\" class=\"data row3 col3\" >0.0858</td>\n",
       "            </tr>\n",
       "    </tbody></table>"
      ],
      "text/plain": [
       "<pandas.io.formats.style.Styler at 0x7f0cfcd6de80>"
      ]
     },
     "metadata": {},
     "output_type": "display_data"
    },
    {
     "name": "stdout",
     "output_type": "stream",
     "text": [
      "[\u001b[1mtardis.simulation.base\u001b[0m][\u001b[1;37mINFO\u001b[0m   ]  \n",
      "\t\n",
      "\tCurrent t_inner = 10655.125 K\n",
      "\tExpected t_inner for next iteration = 10655.561 K\n",
      " (\u001b[1mbase.py\u001b[0m:550)\n"
     ]
    },
    {
     "name": "stdout",
     "output_type": "stream",
     "text": [
      "[\u001b[1mtardis.simulation.base\u001b[0m][\u001b[1;37mINFO\u001b[0m   ]  \n",
      "\t\n",
      "\tStarting iteration 17 of 20 (\u001b[1mbase.py\u001b[0m:381)\n"
     ]
    },
    {
     "name": "stdout",
     "output_type": "stream",
     "text": [
      "[\u001b[1mtardis.simulation.base\u001b[0m][\u001b[1;37mINFO\u001b[0m   ]  \n",
      "\t\n",
      "\tLuminosity emitted   = 1.067e+43 erg / s\n",
      "\tLuminosity absorbed  = 3.372e+42 erg / s\n",
      "\tLuminosity requested = 1.059e+43 erg / s\n",
      " (\u001b[1mbase.py\u001b[0m:555)\n"
     ]
    },
    {
     "name": "stdout",
     "output_type": "stream",
     "text": [
      "[\u001b[1mtardis.simulation.base\u001b[0m][\u001b[1;37mINFO\u001b[0m   ]  \n",
      "\t\n",
      "\tPlasma stratification: (\u001b[1mbase.py\u001b[0m:523)\n"
     ]
    },
    {
     "data": {
      "text/html": [
       "<style  type=\"text/css\" >\n",
       "</style><table id=\"T_82114fea_9f6c_11ed_833a_6045bd7df304\" ><thead>    <tr>        <th class=\"index_name level0\" >Shell No.</th>        <th class=\"col_heading level0 col0\" >t_rad</th>        <th class=\"col_heading level0 col1\" >next_t_rad</th>        <th class=\"col_heading level0 col2\" >w</th>        <th class=\"col_heading level0 col3\" >next_w</th>    </tr></thead><tbody>\n",
       "                <tr>\n",
       "                        <th id=\"T_82114fea_9f6c_11ed_833a_6045bd7df304level0_row0\" class=\"row_heading level0 row0\" >0</th>\n",
       "                        <td id=\"T_82114fea_9f6c_11ed_833a_6045bd7df304row0_col0\" class=\"data row0 col0\" >1.1e+04</td>\n",
       "                        <td id=\"T_82114fea_9f6c_11ed_833a_6045bd7df304row0_col1\" class=\"data row0 col1\" >1.11e+04</td>\n",
       "                        <td id=\"T_82114fea_9f6c_11ed_833a_6045bd7df304row0_col2\" class=\"data row0 col2\" >0.472</td>\n",
       "                        <td id=\"T_82114fea_9f6c_11ed_833a_6045bd7df304row0_col3\" class=\"data row0 col3\" >0.468</td>\n",
       "            </tr>\n",
       "            <tr>\n",
       "                        <th id=\"T_82114fea_9f6c_11ed_833a_6045bd7df304level0_row1\" class=\"row_heading level0 row1\" >5</th>\n",
       "                        <td id=\"T_82114fea_9f6c_11ed_833a_6045bd7df304row1_col0\" class=\"data row1 col0\" >1.13e+04</td>\n",
       "                        <td id=\"T_82114fea_9f6c_11ed_833a_6045bd7df304row1_col1\" class=\"data row1 col1\" >1.14e+04</td>\n",
       "                        <td id=\"T_82114fea_9f6c_11ed_833a_6045bd7df304row1_col2\" class=\"data row1 col2\" >0.177</td>\n",
       "                        <td id=\"T_82114fea_9f6c_11ed_833a_6045bd7df304row1_col3\" class=\"data row1 col3\" >0.175</td>\n",
       "            </tr>\n",
       "            <tr>\n",
       "                        <th id=\"T_82114fea_9f6c_11ed_833a_6045bd7df304level0_row2\" class=\"row_heading level0 row2\" >10</th>\n",
       "                        <td id=\"T_82114fea_9f6c_11ed_833a_6045bd7df304row2_col0\" class=\"data row2 col0\" >1.1e+04</td>\n",
       "                        <td id=\"T_82114fea_9f6c_11ed_833a_6045bd7df304row2_col1\" class=\"data row2 col1\" >1.11e+04</td>\n",
       "                        <td id=\"T_82114fea_9f6c_11ed_833a_6045bd7df304row2_col2\" class=\"data row2 col2\" >0.113</td>\n",
       "                        <td id=\"T_82114fea_9f6c_11ed_833a_6045bd7df304row2_col3\" class=\"data row2 col3\" >0.11</td>\n",
       "            </tr>\n",
       "            <tr>\n",
       "                        <th id=\"T_82114fea_9f6c_11ed_833a_6045bd7df304level0_row3\" class=\"row_heading level0 row3\" >15</th>\n",
       "                        <td id=\"T_82114fea_9f6c_11ed_833a_6045bd7df304row3_col0\" class=\"data row3 col0\" >1.06e+04</td>\n",
       "                        <td id=\"T_82114fea_9f6c_11ed_833a_6045bd7df304row3_col1\" class=\"data row3 col1\" >1.08e+04</td>\n",
       "                        <td id=\"T_82114fea_9f6c_11ed_833a_6045bd7df304row3_col2\" class=\"data row3 col2\" >0.0858</td>\n",
       "                        <td id=\"T_82114fea_9f6c_11ed_833a_6045bd7df304row3_col3\" class=\"data row3 col3\" >0.0816</td>\n",
       "            </tr>\n",
       "    </tbody></table>"
      ],
      "text/plain": [
       "<pandas.io.formats.style.Styler at 0x7f0cfcd6d3d0>"
      ]
     },
     "metadata": {},
     "output_type": "display_data"
    },
    {
     "name": "stdout",
     "output_type": "stream",
     "text": [
      "[\u001b[1mtardis.simulation.base\u001b[0m][\u001b[1;37mINFO\u001b[0m   ]  \n",
      "\t\n",
      "\tCurrent t_inner = 10655.561 K\n",
      "\tExpected t_inner for next iteration = 10636.536 K\n",
      " (\u001b[1mbase.py\u001b[0m:550)\n"
     ]
    },
    {
     "name": "stdout",
     "output_type": "stream",
     "text": [
      "[\u001b[1mtardis.simulation.base\u001b[0m][\u001b[1;37mINFO\u001b[0m   ]  \n",
      "\t\n",
      "\tStarting iteration 18 of 20 (\u001b[1mbase.py\u001b[0m:381)\n"
     ]
    },
    {
     "name": "stdout",
     "output_type": "stream",
     "text": [
      "[\u001b[1mtardis.simulation.base\u001b[0m][\u001b[1;37mINFO\u001b[0m   ]  \n",
      "\t\n",
      "\tLuminosity emitted   = 1.057e+43 erg / s\n",
      "\tLuminosity absorbed  = 3.365e+42 erg / s\n",
      "\tLuminosity requested = 1.059e+43 erg / s\n",
      " (\u001b[1mbase.py\u001b[0m:555)\n"
     ]
    },
    {
     "name": "stdout",
     "output_type": "stream",
     "text": [
      "[\u001b[1mtardis.simulation.base\u001b[0m][\u001b[1;37mINFO\u001b[0m   ]  \n",
      "\tIteration converged 1/4 consecutive times. (\u001b[1mbase.py\u001b[0m:262)\n"
     ]
    },
    {
     "name": "stdout",
     "output_type": "stream",
     "text": [
      "[\u001b[1mtardis.simulation.base\u001b[0m][\u001b[1;37mINFO\u001b[0m   ]  \n",
      "\t\n",
      "\tPlasma stratification: (\u001b[1mbase.py\u001b[0m:523)\n"
     ]
    },
    {
     "data": {
      "text/html": [
       "<style  type=\"text/css\" >\n",
       "</style><table id=\"T_827b3ea0_9f6c_11ed_833a_6045bd7df304\" ><thead>    <tr>        <th class=\"index_name level0\" >Shell No.</th>        <th class=\"col_heading level0 col0\" >t_rad</th>        <th class=\"col_heading level0 col1\" >next_t_rad</th>        <th class=\"col_heading level0 col2\" >w</th>        <th class=\"col_heading level0 col3\" >next_w</th>    </tr></thead><tbody>\n",
       "                <tr>\n",
       "                        <th id=\"T_827b3ea0_9f6c_11ed_833a_6045bd7df304level0_row0\" class=\"row_heading level0 row0\" >0</th>\n",
       "                        <td id=\"T_827b3ea0_9f6c_11ed_833a_6045bd7df304row0_col0\" class=\"data row0 col0\" >1.11e+04</td>\n",
       "                        <td id=\"T_827b3ea0_9f6c_11ed_833a_6045bd7df304row0_col1\" class=\"data row0 col1\" >1.11e+04</td>\n",
       "                        <td id=\"T_827b3ea0_9f6c_11ed_833a_6045bd7df304row0_col2\" class=\"data row0 col2\" >0.468</td>\n",
       "                        <td id=\"T_827b3ea0_9f6c_11ed_833a_6045bd7df304row0_col3\" class=\"data row0 col3\" >0.464</td>\n",
       "            </tr>\n",
       "            <tr>\n",
       "                        <th id=\"T_827b3ea0_9f6c_11ed_833a_6045bd7df304level0_row1\" class=\"row_heading level0 row1\" >5</th>\n",
       "                        <td id=\"T_827b3ea0_9f6c_11ed_833a_6045bd7df304row1_col0\" class=\"data row1 col0\" >1.14e+04</td>\n",
       "                        <td id=\"T_827b3ea0_9f6c_11ed_833a_6045bd7df304row1_col1\" class=\"data row1 col1\" >1.13e+04</td>\n",
       "                        <td id=\"T_827b3ea0_9f6c_11ed_833a_6045bd7df304row1_col2\" class=\"data row1 col2\" >0.175</td>\n",
       "                        <td id=\"T_827b3ea0_9f6c_11ed_833a_6045bd7df304row1_col3\" class=\"data row1 col3\" >0.177</td>\n",
       "            </tr>\n",
       "            <tr>\n",
       "                        <th id=\"T_827b3ea0_9f6c_11ed_833a_6045bd7df304level0_row2\" class=\"row_heading level0 row2\" >10</th>\n",
       "                        <td id=\"T_827b3ea0_9f6c_11ed_833a_6045bd7df304row2_col0\" class=\"data row2 col0\" >1.11e+04</td>\n",
       "                        <td id=\"T_827b3ea0_9f6c_11ed_833a_6045bd7df304row2_col1\" class=\"data row2 col1\" >1.1e+04</td>\n",
       "                        <td id=\"T_827b3ea0_9f6c_11ed_833a_6045bd7df304row2_col2\" class=\"data row2 col2\" >0.11</td>\n",
       "                        <td id=\"T_827b3ea0_9f6c_11ed_833a_6045bd7df304row2_col3\" class=\"data row2 col3\" >0.113</td>\n",
       "            </tr>\n",
       "            <tr>\n",
       "                        <th id=\"T_827b3ea0_9f6c_11ed_833a_6045bd7df304level0_row3\" class=\"row_heading level0 row3\" >15</th>\n",
       "                        <td id=\"T_827b3ea0_9f6c_11ed_833a_6045bd7df304row3_col0\" class=\"data row3 col0\" >1.08e+04</td>\n",
       "                        <td id=\"T_827b3ea0_9f6c_11ed_833a_6045bd7df304row3_col1\" class=\"data row3 col1\" >1.07e+04</td>\n",
       "                        <td id=\"T_827b3ea0_9f6c_11ed_833a_6045bd7df304row3_col2\" class=\"data row3 col2\" >0.0816</td>\n",
       "                        <td id=\"T_827b3ea0_9f6c_11ed_833a_6045bd7df304row3_col3\" class=\"data row3 col3\" >0.0848</td>\n",
       "            </tr>\n",
       "    </tbody></table>"
      ],
      "text/plain": [
       "<pandas.io.formats.style.Styler at 0x7f0cfcd6d460>"
      ]
     },
     "metadata": {},
     "output_type": "display_data"
    },
    {
     "name": "stdout",
     "output_type": "stream",
     "text": [
      "[\u001b[1mtardis.simulation.base\u001b[0m][\u001b[1;37mINFO\u001b[0m   ]  \n",
      "\t\n",
      "\tCurrent t_inner = 10636.536 K\n",
      "\tExpected t_inner for next iteration = 10641.692 K\n",
      " (\u001b[1mbase.py\u001b[0m:550)\n"
     ]
    },
    {
     "name": "stdout",
     "output_type": "stream",
     "text": [
      "[\u001b[1mtardis.simulation.base\u001b[0m][\u001b[1;37mINFO\u001b[0m   ]  \n",
      "\t\n",
      "\tStarting iteration 19 of 20 (\u001b[1mbase.py\u001b[0m:381)\n"
     ]
    },
    {
     "name": "stdout",
     "output_type": "stream",
     "text": [
      "[\u001b[1mtardis.simulation.base\u001b[0m][\u001b[1;37mINFO\u001b[0m   ]  \n",
      "\t\n",
      "\tLuminosity emitted   = 1.056e+43 erg / s\n",
      "\tLuminosity absorbed  = 3.405e+42 erg / s\n",
      "\tLuminosity requested = 1.059e+43 erg / s\n",
      " (\u001b[1mbase.py\u001b[0m:555)\n"
     ]
    },
    {
     "name": "stdout",
     "output_type": "stream",
     "text": [
      "[\u001b[1mtardis.simulation.base\u001b[0m][\u001b[1;37mINFO\u001b[0m   ]  \n",
      "\tIteration converged 2/4 consecutive times. (\u001b[1mbase.py\u001b[0m:262)\n"
     ]
    },
    {
     "name": "stdout",
     "output_type": "stream",
     "text": [
      "[\u001b[1mtardis.simulation.base\u001b[0m][\u001b[1;37mINFO\u001b[0m   ]  \n",
      "\t\n",
      "\tPlasma stratification: (\u001b[1mbase.py\u001b[0m:523)\n"
     ]
    },
    {
     "data": {
      "text/html": [
       "<style  type=\"text/css\" >\n",
       "</style><table id=\"T_82e5aefc_9f6c_11ed_833a_6045bd7df304\" ><thead>    <tr>        <th class=\"index_name level0\" >Shell No.</th>        <th class=\"col_heading level0 col0\" >t_rad</th>        <th class=\"col_heading level0 col1\" >next_t_rad</th>        <th class=\"col_heading level0 col2\" >w</th>        <th class=\"col_heading level0 col3\" >next_w</th>    </tr></thead><tbody>\n",
       "                <tr>\n",
       "                        <th id=\"T_82e5aefc_9f6c_11ed_833a_6045bd7df304level0_row0\" class=\"row_heading level0 row0\" >0</th>\n",
       "                        <td id=\"T_82e5aefc_9f6c_11ed_833a_6045bd7df304row0_col0\" class=\"data row0 col0\" >1.11e+04</td>\n",
       "                        <td id=\"T_82e5aefc_9f6c_11ed_833a_6045bd7df304row0_col1\" class=\"data row0 col1\" >1.11e+04</td>\n",
       "                        <td id=\"T_82e5aefc_9f6c_11ed_833a_6045bd7df304row0_col2\" class=\"data row0 col2\" >0.464</td>\n",
       "                        <td id=\"T_82e5aefc_9f6c_11ed_833a_6045bd7df304row0_col3\" class=\"data row0 col3\" >0.466</td>\n",
       "            </tr>\n",
       "            <tr>\n",
       "                        <th id=\"T_82e5aefc_9f6c_11ed_833a_6045bd7df304level0_row1\" class=\"row_heading level0 row1\" >5</th>\n",
       "                        <td id=\"T_82e5aefc_9f6c_11ed_833a_6045bd7df304row1_col0\" class=\"data row1 col0\" >1.13e+04</td>\n",
       "                        <td id=\"T_82e5aefc_9f6c_11ed_833a_6045bd7df304row1_col1\" class=\"data row1 col1\" >1.13e+04</td>\n",
       "                        <td id=\"T_82e5aefc_9f6c_11ed_833a_6045bd7df304row1_col2\" class=\"data row1 col2\" >0.177</td>\n",
       "                        <td id=\"T_82e5aefc_9f6c_11ed_833a_6045bd7df304row1_col3\" class=\"data row1 col3\" >0.177</td>\n",
       "            </tr>\n",
       "            <tr>\n",
       "                        <th id=\"T_82e5aefc_9f6c_11ed_833a_6045bd7df304level0_row2\" class=\"row_heading level0 row2\" >10</th>\n",
       "                        <td id=\"T_82e5aefc_9f6c_11ed_833a_6045bd7df304row2_col0\" class=\"data row2 col0\" >1.1e+04</td>\n",
       "                        <td id=\"T_82e5aefc_9f6c_11ed_833a_6045bd7df304row2_col1\" class=\"data row2 col1\" >1.11e+04</td>\n",
       "                        <td id=\"T_82e5aefc_9f6c_11ed_833a_6045bd7df304row2_col2\" class=\"data row2 col2\" >0.113</td>\n",
       "                        <td id=\"T_82e5aefc_9f6c_11ed_833a_6045bd7df304row2_col3\" class=\"data row2 col3\" >0.111</td>\n",
       "            </tr>\n",
       "            <tr>\n",
       "                        <th id=\"T_82e5aefc_9f6c_11ed_833a_6045bd7df304level0_row3\" class=\"row_heading level0 row3\" >15</th>\n",
       "                        <td id=\"T_82e5aefc_9f6c_11ed_833a_6045bd7df304row3_col0\" class=\"data row3 col0\" >1.07e+04</td>\n",
       "                        <td id=\"T_82e5aefc_9f6c_11ed_833a_6045bd7df304row3_col1\" class=\"data row3 col1\" >1.07e+04</td>\n",
       "                        <td id=\"T_82e5aefc_9f6c_11ed_833a_6045bd7df304row3_col2\" class=\"data row3 col2\" >0.0848</td>\n",
       "                        <td id=\"T_82e5aefc_9f6c_11ed_833a_6045bd7df304row3_col3\" class=\"data row3 col3\" >0.0853</td>\n",
       "            </tr>\n",
       "    </tbody></table>"
      ],
      "text/plain": [
       "<pandas.io.formats.style.Styler at 0x7f0cfc86d670>"
      ]
     },
     "metadata": {},
     "output_type": "display_data"
    },
    {
     "name": "stdout",
     "output_type": "stream",
     "text": [
      "[\u001b[1mtardis.simulation.base\u001b[0m][\u001b[1;37mINFO\u001b[0m   ]  \n",
      "\t\n",
      "\tCurrent t_inner = 10641.692 K\n",
      "\tExpected t_inner for next iteration = 10650.463 K\n",
      " (\u001b[1mbase.py\u001b[0m:550)\n"
     ]
    },
    {
     "name": "stdout",
     "output_type": "stream",
     "text": [
      "[\u001b[1mtardis.simulation.base\u001b[0m][\u001b[1;37mINFO\u001b[0m   ]  \n",
      "\t\n",
      "\tStarting iteration 20 of 20 (\u001b[1mbase.py\u001b[0m:381)\n"
     ]
    },
    {
     "name": "stdout",
     "output_type": "stream",
     "text": [
      "[\u001b[1mtardis.simulation.base\u001b[0m][\u001b[1;37mINFO\u001b[0m   ]  \n",
      "\t\n",
      "\tLuminosity emitted   = 1.061e+43 erg / s\n",
      "\tLuminosity absorbed  = 3.401e+42 erg / s\n",
      "\tLuminosity requested = 1.059e+43 erg / s\n",
      " (\u001b[1mbase.py\u001b[0m:555)\n"
     ]
    },
    {
     "name": "stdout",
     "output_type": "stream",
     "text": [
      "[\u001b[1mtardis.simulation.base\u001b[0m][\u001b[1;37mINFO\u001b[0m   ]  \n",
      "\t\n",
      "\tSimulation finished in 20 iterations \n",
      "\tSimulation took 44.34 s\n",
      " (\u001b[1mbase.py\u001b[0m:476)\n"
     ]
    }
   ],
   "source": [
    "from tardis import run_tardis\n",
    "from tardis.io.atom_data.util import download_atom_data\n",
    "\n",
    "# We download the atomic data needed to run the simulation\n",
    "download_atom_data('kurucz_cd23_chianti_H_He')\n",
    "\n",
    "# We run the simulation\n",
    "simulation = run_tardis('tardis_example.yml')"
   ]
  },
  {
   "cell_type": "markdown",
   "metadata": {},
   "source": [
    "You can now use the `to_hdf` method, to save properties to a HDF file.\n",
    "\n",
    "#### Parameters  \n",
    "\n",
    "`file_path`: Path where the HDF file should be stored. (Required)  \n",
    "`path`: Path inside the HDF store to store the elements. (Optional)  \n",
    "`name`: Name of the group inside HDF store, under which properties will be saved.(Optional)\n",
    "`overwrite`: If the HDF file already exists, do you overwrite the existing file (Optional, default `False`)\n",
    "\n",
    "<div class=\"alert alert-info\">\n",
    "\n",
    "Note\n",
    "    \n",
    "Throughout this notebook, we set ``overwrite=True`` so that the notebook can be run repeatedly if needed.\n",
    "\n",
    "</div>"
   ]
  },
  {
   "cell_type": "code",
   "execution_count": 2,
   "metadata": {
    "execution": {
     "iopub.execute_input": "2023-01-29T00:33:19.597608Z",
     "iopub.status.busy": "2023-01-29T00:33:19.597112Z",
     "iopub.status.idle": "2023-01-29T00:33:20.037492Z",
     "shell.execute_reply": "2023-01-29T00:33:20.036886Z"
    }
   },
   "outputs": [
    {
     "name": "stdout",
     "output_type": "stream",
     "text": [
      "[\u001b[1mpy.warnings         \u001b[0m][\u001b[1;33mWARNING\u001b[0m]  \n",
      "\t/usr/share/miniconda3/envs/tardis/lib/python3.8/site-packages/pandas/core/generic.py:2490: PerformanceWarning: \n",
      "your performance may suffer as PyTables will pickle object types that it cannot\n",
      "map directly to c-types [inferred_type->mixed,key->block0_values] [items->Int64Index([0], dtype='int64')]\n",
      "\n",
      "  pytables.to_hdf(\n",
      " (\u001b[1mwarnings.py\u001b[0m:109)\n"
     ]
    },
    {
     "name": "stdout",
     "output_type": "stream",
     "text": [
      "[\u001b[1mpy.warnings         \u001b[0m][\u001b[1;33mWARNING\u001b[0m]  \n",
      "\t/usr/share/miniconda3/envs/tardis/lib/python3.8/site-packages/pandas/core/generic.py:2490: PerformanceWarning: \n",
      "your performance may suffer as PyTables will pickle object types that it cannot\n",
      "map directly to c-types [inferred_type->mixed,key->values] [items->None]\n",
      "\n",
      "  pytables.to_hdf(\n",
      " (\u001b[1mwarnings.py\u001b[0m:109)\n"
     ]
    }
   ],
   "source": [
    "simulation.to_hdf('/tmp/full_example.hdf', overwrite=True)\n",
    "\n",
    "# The commented out code below shows an example of to_hdf with more parameters\n",
    "#simulation.to_hdf(file_path='/tmp/full_example.hdf', path='/', name='simulation')"
   ]
  },
  {
   "cell_type": "markdown",
   "metadata": {},
   "source": [
    "Open the stored HDF file with pandas and print a list of its entries using the `keys()` method:"
   ]
  },
  {
   "cell_type": "code",
   "execution_count": 3,
   "metadata": {
    "execution": {
     "iopub.execute_input": "2023-01-29T00:33:20.041453Z",
     "iopub.status.busy": "2023-01-29T00:33:20.040955Z",
     "iopub.status.idle": "2023-01-29T00:33:20.089376Z",
     "shell.execute_reply": "2023-01-29T00:33:20.088817Z"
    },
    "scrolled": false
   },
   "outputs": [
    {
     "data": {
      "text/plain": [
       "['/simulation/iterations_electron_densities',\n",
       " '/simulation/iterations_t_inner',\n",
       " '/simulation/iterations_t_rad',\n",
       " '/simulation/iterations_w',\n",
       " '/simulation/runner/emitted_packet_mask',\n",
       " '/simulation/runner/j_estimator',\n",
       " '/simulation/runner/last_interaction_in_nu',\n",
       " '/simulation/runner/last_interaction_type',\n",
       " '/simulation/runner/last_line_interaction_in_id',\n",
       " '/simulation/runner/last_line_interaction_out_id',\n",
       " '/simulation/runner/last_line_interaction_shell_id',\n",
       " '/simulation/runner/montecarlo_virtual_luminosity',\n",
       " '/simulation/runner/nu_bar_estimator',\n",
       " '/simulation/runner/output_energy',\n",
       " '/simulation/runner/output_nu',\n",
       " '/simulation/runner/packet_luminosity',\n",
       " '/simulation/runner/scalars',\n",
       " '/simulation/runner/spectrum_virtual/_frequency',\n",
       " '/simulation/runner/spectrum_virtual/luminosity',\n",
       " '/simulation/runner/spectrum_virtual/luminosity_density_lambda',\n",
       " '/simulation/runner/spectrum_virtual/scalars',\n",
       " '/simulation/runner/spectrum_virtual/wavelength',\n",
       " '/simulation/runner/spectrum_reabsorbed/_frequency',\n",
       " '/simulation/runner/spectrum_reabsorbed/luminosity',\n",
       " '/simulation/runner/spectrum_reabsorbed/luminosity_density_lambda',\n",
       " '/simulation/runner/spectrum_reabsorbed/scalars',\n",
       " '/simulation/runner/spectrum_reabsorbed/wavelength',\n",
       " '/simulation/runner/spectrum/_frequency',\n",
       " '/simulation/runner/spectrum/luminosity',\n",
       " '/simulation/runner/spectrum/luminosity_density_lambda',\n",
       " '/simulation/runner/spectrum/scalars',\n",
       " '/simulation/runner/spectrum/wavelength',\n",
       " '/simulation/plasma/abundance',\n",
       " '/simulation/plasma/atomic_mass',\n",
       " '/simulation/plasma/beta_rad',\n",
       " '/simulation/plasma/beta_sobolev',\n",
       " '/simulation/plasma/continuum_interaction_species',\n",
       " '/simulation/plasma/density',\n",
       " '/simulation/plasma/electron_densities',\n",
       " '/simulation/plasma/excitation_energy',\n",
       " '/simulation/plasma/f_lu',\n",
       " '/simulation/plasma/g',\n",
       " '/simulation/plasma/g_electron',\n",
       " '/simulation/plasma/general_level_boltzmann_factor',\n",
       " '/simulation/plasma/ion_number_density',\n",
       " '/simulation/plasma/ionization_data',\n",
       " '/simulation/plasma/j_blues',\n",
       " '/simulation/plasma/level_boltzmann_factor',\n",
       " '/simulation/plasma/level_number_density',\n",
       " '/simulation/plasma/levels',\n",
       " '/simulation/plasma/lines',\n",
       " '/simulation/plasma/lines_lower_level_index',\n",
       " '/simulation/plasma/lines_upper_level_index',\n",
       " '/simulation/plasma/macro_atom_data',\n",
       " '/simulation/plasma/metastability',\n",
       " '/simulation/plasma/nlte_ionization_species',\n",
       " '/simulation/plasma/nu',\n",
       " '/simulation/plasma/number_density',\n",
       " '/simulation/plasma/partition_function',\n",
       " '/simulation/plasma/phi',\n",
       " '/simulation/plasma/scalars',\n",
       " '/simulation/plasma/selected_atoms',\n",
       " '/simulation/plasma/stimulated_emission_factor',\n",
       " '/simulation/plasma/t_electrons',\n",
       " '/simulation/plasma/t_rad',\n",
       " '/simulation/plasma/tau_sobolevs',\n",
       " '/simulation/plasma/transition_probabilities',\n",
       " '/simulation/plasma/w',\n",
       " '/simulation/plasma/wavelength_cm',\n",
       " '/simulation/model/r_inner',\n",
       " '/simulation/model/scalars',\n",
       " '/simulation/model/t_radiative',\n",
       " '/simulation/model/v_inner',\n",
       " '/simulation/model/v_outer',\n",
       " '/simulation/model/w',\n",
       " '/simulation/model/homologous_density/density_0',\n",
       " '/simulation/model/homologous_density/scalars']"
      ]
     },
     "execution_count": 3,
     "metadata": {},
     "output_type": "execute_result"
    }
   ],
   "source": [
    "import pandas as pd\n",
    "\n",
    "data = pd.HDFStore('/tmp/full_example.hdf', overwrite=True)\n",
    "\n",
    "data.keys()"
   ]
  },
  {
   "cell_type": "markdown",
   "metadata": {},
   "source": [
    "Access `model.homologous_density.density_0` under simulation, which is a one-dimensional array"
   ]
  },
  {
   "cell_type": "code",
   "execution_count": 4,
   "metadata": {
    "execution": {
     "iopub.execute_input": "2023-01-29T00:33:20.093738Z",
     "iopub.status.busy": "2023-01-29T00:33:20.092636Z",
     "iopub.status.idle": "2023-01-29T00:33:20.101662Z",
     "shell.execute_reply": "2023-01-29T00:33:20.101146Z"
    }
   },
   "outputs": [
    {
     "name": "stdout",
     "output_type": "stream",
     "text": [
      "0     1970.527174\n",
      "1       13.360318\n",
      "2       10.146658\n",
      "3        7.786621\n",
      "4        6.033444\n",
      "5        4.717122\n",
      "6        3.718946\n",
      "7        2.954982\n",
      "8        2.365191\n",
      "9        1.906156\n",
      "10       1.546154\n",
      "11       1.261789\n",
      "12       1.035646\n",
      "13       0.854653\n",
      "14       0.708918\n",
      "15       0.590901\n",
      "16       0.494811\n",
      "17       0.416168\n",
      "18       0.351490\n",
      "19       0.298047\n",
      "20       0.253691\n",
      "dtype: float64\n"
     ]
    }
   ],
   "source": [
    "print(data['/simulation/model/homologous_density/density_0'])"
   ]
  },
  {
   "cell_type": "markdown",
   "metadata": {
    "collapsed": true
   },
   "source": [
    "Scalars are stored in a `scalars` `pandas.Series` for every module. For example to access `model.t_inner` under simulation, one would need to do the following."
   ]
  },
  {
   "cell_type": "code",
   "execution_count": 5,
   "metadata": {
    "execution": {
     "iopub.execute_input": "2023-01-29T00:33:20.105700Z",
     "iopub.status.busy": "2023-01-29T00:33:20.104645Z",
     "iopub.status.idle": "2023-01-29T00:33:20.112985Z",
     "shell.execute_reply": "2023-01-29T00:33:20.112452Z"
    }
   },
   "outputs": [
    {
     "name": "stdout",
     "output_type": "stream",
     "text": [
      "10650.463255529794\n"
     ]
    }
   ],
   "source": [
    "print(data['/simulation/model/scalars']['t_inner'])"
   ]
  },
  {
   "cell_type": "markdown",
   "metadata": {},
   "source": [
    "## Breakdown of the various to_hdf methods\n",
    "Every module in TARDIS has its own `to_hdf` method responsible to store its own data to an HDF file."
   ]
  },
  {
   "cell_type": "markdown",
   "metadata": {},
   "source": [
    "### Plasma\n",
    "The following call will store every plasma property to `/tmp/plasma_output.hdf` under `/parent/plasma`"
   ]
  },
  {
   "cell_type": "code",
   "execution_count": 6,
   "metadata": {
    "execution": {
     "iopub.execute_input": "2023-01-29T00:33:20.117107Z",
     "iopub.status.busy": "2023-01-29T00:33:20.116063Z",
     "iopub.status.idle": "2023-01-29T00:33:20.357100Z",
     "shell.execute_reply": "2023-01-29T00:33:20.356511Z"
    }
   },
   "outputs": [],
   "source": [
    "simulation.plasma.to_hdf('/tmp/plasma_output.hdf', path='parent', overwrite=True)"
   ]
  },
  {
   "cell_type": "code",
   "execution_count": 7,
   "metadata": {
    "execution": {
     "iopub.execute_input": "2023-01-29T00:33:20.361714Z",
     "iopub.status.busy": "2023-01-29T00:33:20.360596Z",
     "iopub.status.idle": "2023-01-29T00:33:20.388314Z",
     "shell.execute_reply": "2023-01-29T00:33:20.387774Z"
    },
    "scrolled": false
   },
   "outputs": [
    {
     "data": {
      "text/plain": [
       "['/parent/plasma/abundance',\n",
       " '/parent/plasma/atomic_mass',\n",
       " '/parent/plasma/beta_rad',\n",
       " '/parent/plasma/beta_sobolev',\n",
       " '/parent/plasma/continuum_interaction_species',\n",
       " '/parent/plasma/density',\n",
       " '/parent/plasma/electron_densities',\n",
       " '/parent/plasma/excitation_energy',\n",
       " '/parent/plasma/f_lu',\n",
       " '/parent/plasma/g',\n",
       " '/parent/plasma/g_electron',\n",
       " '/parent/plasma/general_level_boltzmann_factor',\n",
       " '/parent/plasma/ion_number_density',\n",
       " '/parent/plasma/ionization_data',\n",
       " '/parent/plasma/j_blues',\n",
       " '/parent/plasma/level_boltzmann_factor',\n",
       " '/parent/plasma/level_number_density',\n",
       " '/parent/plasma/levels',\n",
       " '/parent/plasma/lines',\n",
       " '/parent/plasma/lines_lower_level_index',\n",
       " '/parent/plasma/lines_upper_level_index',\n",
       " '/parent/plasma/macro_atom_data',\n",
       " '/parent/plasma/metastability',\n",
       " '/parent/plasma/nlte_ionization_species',\n",
       " '/parent/plasma/nu',\n",
       " '/parent/plasma/number_density',\n",
       " '/parent/plasma/partition_function',\n",
       " '/parent/plasma/phi',\n",
       " '/parent/plasma/scalars',\n",
       " '/parent/plasma/selected_atoms',\n",
       " '/parent/plasma/stimulated_emission_factor',\n",
       " '/parent/plasma/t_electrons',\n",
       " '/parent/plasma/t_rad',\n",
       " '/parent/plasma/tau_sobolevs',\n",
       " '/parent/plasma/transition_probabilities',\n",
       " '/parent/plasma/w',\n",
       " '/parent/plasma/wavelength_cm']"
      ]
     },
     "execution_count": 7,
     "metadata": {},
     "output_type": "execute_result"
    }
   ],
   "source": [
    "import pandas\n",
    "\n",
    "plasma_data = pandas.HDFStore('/tmp/plasma_output.hdf')\n",
    "\n",
    "plasma_data.keys()"
   ]
  },
  {
   "cell_type": "markdown",
   "metadata": {},
   "source": [
    "Plasma's `to_hdf` method can also accept a `collection` parameter which can specify which types of plasma properties will be stored. For example if we wanted to only store Input plasma properties, we would do the following:"
   ]
  },
  {
   "cell_type": "code",
   "execution_count": 8,
   "metadata": {
    "execution": {
     "iopub.execute_input": "2023-01-29T00:33:20.392604Z",
     "iopub.status.busy": "2023-01-29T00:33:20.391537Z",
     "iopub.status.idle": "2023-01-29T00:33:20.423280Z",
     "shell.execute_reply": "2023-01-29T00:33:20.422702Z"
    }
   },
   "outputs": [],
   "source": [
    "from tardis.plasma.properties.base import Input\n",
    "simulation.plasma.to_hdf('/tmp/plasma_input_output.hdf', collection=[Input], overwrite=True)"
   ]
  },
  {
   "cell_type": "code",
   "execution_count": 9,
   "metadata": {
    "execution": {
     "iopub.execute_input": "2023-01-29T00:33:20.427870Z",
     "iopub.status.busy": "2023-01-29T00:33:20.426736Z",
     "iopub.status.idle": "2023-01-29T00:33:20.437718Z",
     "shell.execute_reply": "2023-01-29T00:33:20.437190Z"
    }
   },
   "outputs": [
    {
     "data": {
      "text/plain": [
       "['/plasma/abundance',\n",
       " '/plasma/continuum_interaction_species',\n",
       " '/plasma/density',\n",
       " '/plasma/nlte_ionization_species',\n",
       " '/plasma/scalars',\n",
       " '/plasma/t_rad',\n",
       " '/plasma/w']"
      ]
     },
     "execution_count": 9,
     "metadata": {},
     "output_type": "execute_result"
    }
   ],
   "source": [
    "import pandas\n",
    "\n",
    "plasma_input_data = pandas.HDFStore('/tmp/plasma_input_output.hdf')\n",
    "\n",
    "plasma_input_data.keys()"
   ]
  },
  {
   "cell_type": "markdown",
   "metadata": {},
   "source": [
    "### Model\n",
    "The following call will store properties of the `Radial1DModel` to `/tmp/model_output.hdf` under `/model`."
   ]
  },
  {
   "cell_type": "code",
   "execution_count": 10,
   "metadata": {
    "execution": {
     "iopub.execute_input": "2023-01-29T00:33:20.441840Z",
     "iopub.status.busy": "2023-01-29T00:33:20.440794Z",
     "iopub.status.idle": "2023-01-29T00:33:20.469424Z",
     "shell.execute_reply": "2023-01-29T00:33:20.468858Z"
    }
   },
   "outputs": [],
   "source": [
    "simulation.model.to_hdf('/tmp/model_output.hdf', overwrite=True)"
   ]
  },
  {
   "cell_type": "code",
   "execution_count": 11,
   "metadata": {
    "execution": {
     "iopub.execute_input": "2023-01-29T00:33:20.474030Z",
     "iopub.status.busy": "2023-01-29T00:33:20.472891Z",
     "iopub.status.idle": "2023-01-29T00:33:20.483921Z",
     "shell.execute_reply": "2023-01-29T00:33:20.483421Z"
    }
   },
   "outputs": [
    {
     "data": {
      "text/plain": [
       "['/model/r_inner',\n",
       " '/model/scalars',\n",
       " '/model/t_radiative',\n",
       " '/model/v_inner',\n",
       " '/model/v_outer',\n",
       " '/model/w',\n",
       " '/model/homologous_density/density_0',\n",
       " '/model/homologous_density/scalars']"
      ]
     },
     "execution_count": 11,
     "metadata": {},
     "output_type": "execute_result"
    }
   ],
   "source": [
    "import pandas\n",
    "\n",
    "model_data = pandas.HDFStore('/tmp/model_output.hdf')\n",
    "\n",
    "model_data.keys()"
   ]
  },
  {
   "cell_type": "markdown",
   "metadata": {},
   "source": [
    "### MontecarloRunner\n",
    "The following call will store properties of the `MontecarloRunner` to `/tmp/runner_output.hdf` under `/runner`."
   ]
  },
  {
   "cell_type": "code",
   "execution_count": 12,
   "metadata": {
    "execution": {
     "iopub.execute_input": "2023-01-29T00:33:20.487987Z",
     "iopub.status.busy": "2023-01-29T00:33:20.486955Z",
     "iopub.status.idle": "2023-01-29T00:33:20.619954Z",
     "shell.execute_reply": "2023-01-29T00:33:20.619391Z"
    }
   },
   "outputs": [],
   "source": [
    "simulation.runner.to_hdf('/tmp/runner_output.hdf', overwrite=True)"
   ]
  },
  {
   "cell_type": "code",
   "execution_count": 13,
   "metadata": {
    "execution": {
     "iopub.execute_input": "2023-01-29T00:33:20.624885Z",
     "iopub.status.busy": "2023-01-29T00:33:20.623628Z",
     "iopub.status.idle": "2023-01-29T00:33:20.645222Z",
     "shell.execute_reply": "2023-01-29T00:33:20.644641Z"
    }
   },
   "outputs": [
    {
     "data": {
      "text/plain": [
       "['/runner/emitted_packet_mask',\n",
       " '/runner/j_estimator',\n",
       " '/runner/last_interaction_in_nu',\n",
       " '/runner/last_interaction_type',\n",
       " '/runner/last_line_interaction_in_id',\n",
       " '/runner/last_line_interaction_out_id',\n",
       " '/runner/last_line_interaction_shell_id',\n",
       " '/runner/montecarlo_virtual_luminosity',\n",
       " '/runner/nu_bar_estimator',\n",
       " '/runner/output_energy',\n",
       " '/runner/output_nu',\n",
       " '/runner/packet_luminosity',\n",
       " '/runner/scalars',\n",
       " '/runner/spectrum_virtual/_frequency',\n",
       " '/runner/spectrum_virtual/luminosity',\n",
       " '/runner/spectrum_virtual/luminosity_density_lambda',\n",
       " '/runner/spectrum_virtual/scalars',\n",
       " '/runner/spectrum_virtual/wavelength',\n",
       " '/runner/spectrum_reabsorbed/_frequency',\n",
       " '/runner/spectrum_reabsorbed/luminosity',\n",
       " '/runner/spectrum_reabsorbed/luminosity_density_lambda',\n",
       " '/runner/spectrum_reabsorbed/scalars',\n",
       " '/runner/spectrum_reabsorbed/wavelength',\n",
       " '/runner/spectrum/_frequency',\n",
       " '/runner/spectrum/luminosity',\n",
       " '/runner/spectrum/luminosity_density_lambda',\n",
       " '/runner/spectrum/scalars',\n",
       " '/runner/spectrum/wavelength']"
      ]
     },
     "execution_count": 13,
     "metadata": {},
     "output_type": "execute_result"
    }
   ],
   "source": [
    "import pandas\n",
    "\n",
    "runner_data = pandas.HDFStore('/tmp/runner_output.hdf')\n",
    "\n",
    "runner_data.keys()"
   ]
  }
 ],
 "metadata": {
  "celltoolbar": "Raw Cell Format",
  "kernelspec": {
   "display_name": "Python 3",
   "language": "python",
   "name": "python3"
  },
  "language_info": {
   "codemirror_mode": {
    "name": "ipython",
    "version": 3
   },
   "file_extension": ".py",
   "mimetype": "text/x-python",
   "name": "python",
   "nbconvert_exporter": "python",
   "pygments_lexer": "ipython3",
   "version": "3.8.15"
  },
  "widgets": {
   "application/vnd.jupyter.widget-state+json": {
    "state": {
     "029ca976c31d41dd841fea7d696fb833": {
      "model_module": "@jupyter-widgets/base",
      "model_module_version": "1.2.0",
      "model_name": "LayoutModel",
      "state": {
       "_model_module": "@jupyter-widgets/base",
       "_model_module_version": "1.2.0",
       "_model_name": "LayoutModel",
       "_view_count": null,
       "_view_module": "@jupyter-widgets/base",
       "_view_module_version": "1.2.0",
       "_view_name": "LayoutView",
       "align_content": null,
       "align_items": null,
       "align_self": null,
       "border": null,
       "bottom": null,
       "display": null,
       "flex": null,
       "flex_flow": null,
       "grid_area": null,
       "grid_auto_columns": null,
       "grid_auto_flow": null,
       "grid_auto_rows": null,
       "grid_column": null,
       "grid_gap": null,
       "grid_row": null,
       "grid_template_areas": null,
       "grid_template_columns": null,
       "grid_template_rows": null,
       "height": null,
       "justify_content": null,
       "justify_items": null,
       "left": null,
       "margin": null,
       "max_height": null,
       "max_width": null,
       "min_height": null,
       "min_width": null,
       "object_fit": null,
       "object_position": null,
       "order": null,
       "overflow": null,
       "overflow_x": null,
       "overflow_y": null,
       "padding": null,
       "right": null,
       "top": null,
       "visibility": null,
       "width": null
      }
     },
     "04db2a3e23304603b0f44a8959b5a8d5": {
      "model_module": "@jupyter-widgets/base",
      "model_module_version": "1.2.0",
      "model_name": "LayoutModel",
      "state": {
       "_model_module": "@jupyter-widgets/base",
       "_model_module_version": "1.2.0",
       "_model_name": "LayoutModel",
       "_view_count": null,
       "_view_module": "@jupyter-widgets/base",
       "_view_module_version": "1.2.0",
       "_view_name": "LayoutView",
       "align_content": null,
       "align_items": null,
       "align_self": null,
       "border": null,
       "bottom": null,
       "display": null,
       "flex": null,
       "flex_flow": null,
       "grid_area": null,
       "grid_auto_columns": null,
       "grid_auto_flow": null,
       "grid_auto_rows": null,
       "grid_column": null,
       "grid_gap": null,
       "grid_row": null,
       "grid_template_areas": null,
       "grid_template_columns": null,
       "grid_template_rows": null,
       "height": null,
       "justify_content": null,
       "justify_items": null,
       "left": null,
       "margin": null,
       "max_height": null,
       "max_width": null,
       "min_height": null,
       "min_width": null,
       "object_fit": null,
       "object_position": null,
       "order": null,
       "overflow": null,
       "overflow_x": null,
       "overflow_y": null,
       "padding": null,
       "right": null,
       "top": null,
       "visibility": null,
       "width": "60%"
      }
     },
     "05f44caf330f4bf19fd7e40eb8400ce8": {
      "model_module": "@jupyter-widgets/controls",
      "model_module_version": "1.5.0",
      "model_name": "HBoxModel",
      "state": {
       "_dom_classes": [],
       "_model_module": "@jupyter-widgets/controls",
       "_model_module_version": "1.5.0",
       "_model_name": "HBoxModel",
       "_view_count": null,
       "_view_module": "@jupyter-widgets/controls",
       "_view_module_version": "1.5.0",
       "_view_name": "HBoxView",
       "box_style": "",
       "children": [
        "IPY_MODEL_1724f05d171b4b18bf3fe771def13211",
        "IPY_MODEL_6e557dead26a43b098602568c89a5b05",
        "IPY_MODEL_7a4e97c6b2a44e26819e4c5d91320965"
       ],
       "layout": "IPY_MODEL_8c4cc96136e340dba6d260f323b93b74"
      }
     },
     "0622ee4fb93f45058dec489c724a41a7": {
      "model_module": "@jupyter-widgets/output",
      "model_module_version": "1.0.0",
      "model_name": "OutputModel",
      "state": {
       "_dom_classes": [],
       "_model_module": "@jupyter-widgets/output",
       "_model_module_version": "1.0.0",
       "_model_name": "OutputModel",
       "_view_count": null,
       "_view_module": "@jupyter-widgets/output",
       "_view_module_version": "1.0.0",
       "_view_name": "OutputView",
       "layout": "IPY_MODEL_e570688180b84c83b5ad93d299c0f097",
       "msg_id": "",
       "outputs": []
      }
     },
     "16fd7c9528674f6aaa89d5e13ec94556": {
      "model_module": "@jupyter-widgets/base",
      "model_module_version": "1.2.0",
      "model_name": "LayoutModel",
      "state": {
       "_model_module": "@jupyter-widgets/base",
       "_model_module_version": "1.2.0",
       "_model_name": "LayoutModel",
       "_view_count": null,
       "_view_module": "@jupyter-widgets/base",
       "_view_module_version": "1.2.0",
       "_view_name": "LayoutView",
       "align_content": null,
       "align_items": null,
       "align_self": null,
       "border": null,
       "bottom": null,
       "display": null,
       "flex": null,
       "flex_flow": null,
       "grid_area": null,
       "grid_auto_columns": null,
       "grid_auto_flow": null,
       "grid_auto_rows": null,
       "grid_column": null,
       "grid_gap": null,
       "grid_row": null,
       "grid_template_areas": null,
       "grid_template_columns": null,
       "grid_template_rows": null,
       "height": null,
       "justify_content": null,
       "justify_items": null,
       "left": null,
       "margin": null,
       "max_height": null,
       "max_width": null,
       "min_height": null,
       "min_width": null,
       "object_fit": null,
       "object_position": null,
       "order": null,
       "overflow": null,
       "overflow_x": null,
       "overflow_y": null,
       "padding": null,
       "right": null,
       "top": null,
       "visibility": null,
       "width": null
      }
     },
     "1724f05d171b4b18bf3fe771def13211": {
      "model_module": "@jupyter-widgets/controls",
      "model_module_version": "1.5.0",
      "model_name": "HTMLModel",
      "state": {
       "_dom_classes": [],
       "_model_module": "@jupyter-widgets/controls",
       "_model_module_version": "1.5.0",
       "_model_name": "HTMLModel",
       "_view_count": null,
       "_view_module": "@jupyter-widgets/controls",
       "_view_module_version": "1.5.0",
       "_view_name": "HTMLView",
       "description": "",
       "description_tooltip": null,
       "layout": "IPY_MODEL_7f0962957ffc49e29b9119ab4d760c0a",
       "placeholder": "​",
       "style": "IPY_MODEL_8d899b0d610e4bc8919fe43e4bed930b",
       "value": "Packets:   "
      }
     },
     "217b68511966436db7cc15bdd235f551": {
      "model_module": "@jupyter-widgets/controls",
      "model_module_version": "1.5.0",
      "model_name": "HTMLModel",
      "state": {
       "_dom_classes": [],
       "_model_module": "@jupyter-widgets/controls",
       "_model_module_version": "1.5.0",
       "_model_name": "HTMLModel",
       "_view_count": null,
       "_view_module": "@jupyter-widgets/controls",
       "_view_module_version": "1.5.0",
       "_view_name": "HTMLView",
       "description": "",
       "description_tooltip": null,
       "layout": "IPY_MODEL_029ca976c31d41dd841fea7d696fb833",
       "placeholder": "​",
       "style": "IPY_MODEL_cfab4b7224ae4ee08a840bcacf390ad6",
       "value": "0/? [00:00&lt;?, ?it/s]"
      }
     },
     "2e2fb42c83d945368751d41429b20407": {
      "model_module": "@jupyter-widgets/controls",
      "model_module_version": "1.5.0",
      "model_name": "HTMLModel",
      "state": {
       "_dom_classes": [],
       "_model_module": "@jupyter-widgets/controls",
       "_model_module_version": "1.5.0",
       "_model_name": "HTMLModel",
       "_view_count": null,
       "_view_module": "@jupyter-widgets/controls",
       "_view_module_version": "1.5.0",
       "_view_name": "HTMLView",
       "description": "",
       "description_tooltip": null,
       "layout": "IPY_MODEL_16fd7c9528674f6aaa89d5e13ec94556",
       "placeholder": "​",
       "style": "IPY_MODEL_a0ab993bca014da0b67438895bbe15aa",
       "value": "99995/100000 [00:07&lt;00:00, 14118.54it/s]"
      }
     },
     "3be013a8b23746b4b1b2c42a26a2d263": {
      "model_module": "@jupyter-widgets/controls",
      "model_module_version": "1.5.0",
      "model_name": "DescriptionStyleModel",
      "state": {
       "_model_module": "@jupyter-widgets/controls",
       "_model_module_version": "1.5.0",
       "_model_name": "DescriptionStyleModel",
       "_view_count": null,
       "_view_module": "@jupyter-widgets/base",
       "_view_module_version": "1.2.0",
       "_view_name": "StyleView",
       "description_width": ""
      }
     },
     "40048bff0bc4424285e61472b8d10324": {
      "model_module": "@jupyter-widgets/base",
      "model_module_version": "1.2.0",
      "model_name": "LayoutModel",
      "state": {
       "_model_module": "@jupyter-widgets/base",
       "_model_module_version": "1.2.0",
       "_model_name": "LayoutModel",
       "_view_count": null,
       "_view_module": "@jupyter-widgets/base",
       "_view_module_version": "1.2.0",
       "_view_name": "LayoutView",
       "align_content": null,
       "align_items": null,
       "align_self": null,
       "border": null,
       "bottom": null,
       "display": null,
       "flex": null,
       "flex_flow": null,
       "grid_area": null,
       "grid_auto_columns": null,
       "grid_auto_flow": null,
       "grid_auto_rows": null,
       "grid_column": null,
       "grid_gap": null,
       "grid_row": null,
       "grid_template_areas": null,
       "grid_template_columns": null,
       "grid_template_rows": null,
       "height": null,
       "justify_content": null,
       "justify_items": null,
       "left": null,
       "margin": null,
       "max_height": null,
       "max_width": null,
       "min_height": null,
       "min_width": null,
       "object_fit": null,
       "object_position": null,
       "order": null,
       "overflow": null,
       "overflow_x": null,
       "overflow_y": null,
       "padding": null,
       "right": null,
       "top": null,
       "visibility": null,
       "width": null
      }
     },
     "40967e44362048cf93a776dde74b0525": {
      "model_module": "@jupyter-widgets/base",
      "model_module_version": "1.2.0",
      "model_name": "LayoutModel",
      "state": {
       "_model_module": "@jupyter-widgets/base",
       "_model_module_version": "1.2.0",
       "_model_name": "LayoutModel",
       "_view_count": null,
       "_view_module": "@jupyter-widgets/base",
       "_view_module_version": "1.2.0",
       "_view_name": "LayoutView",
       "align_content": null,
       "align_items": null,
       "align_self": null,
       "border": null,
       "bottom": null,
       "display": null,
       "flex": null,
       "flex_flow": null,
       "grid_area": null,
       "grid_auto_columns": null,
       "grid_auto_flow": null,
       "grid_auto_rows": null,
       "grid_column": null,
       "grid_gap": null,
       "grid_row": null,
       "grid_template_areas": null,
       "grid_template_columns": null,
       "grid_template_rows": null,
       "height": null,
       "justify_content": null,
       "justify_items": null,
       "left": null,
       "margin": null,
       "max_height": null,
       "max_width": null,
       "min_height": null,
       "min_width": null,
       "object_fit": null,
       "object_position": null,
       "order": null,
       "overflow": null,
       "overflow_x": null,
       "overflow_y": null,
       "padding": null,
       "right": null,
       "top": null,
       "visibility": null,
       "width": null
      }
     },
     "42aff82ebd1148c5a3ed950af804ab01": {
      "model_module": "@jupyter-widgets/controls",
      "model_module_version": "1.5.0",
      "model_name": "DescriptionStyleModel",
      "state": {
       "_model_module": "@jupyter-widgets/controls",
       "_model_module_version": "1.5.0",
       "_model_name": "DescriptionStyleModel",
       "_view_count": null,
       "_view_module": "@jupyter-widgets/base",
       "_view_module_version": "1.2.0",
       "_view_name": "StyleView",
       "description_width": ""
      }
     },
     "4ac7e20ab5574148960aedb39d592935": {
      "model_module": "@jupyter-widgets/controls",
      "model_module_version": "1.5.0",
      "model_name": "ProgressStyleModel",
      "state": {
       "_model_module": "@jupyter-widgets/controls",
       "_model_module_version": "1.5.0",
       "_model_name": "ProgressStyleModel",
       "_view_count": null,
       "_view_module": "@jupyter-widgets/base",
       "_view_module_version": "1.2.0",
       "_view_name": "StyleView",
       "bar_color": null,
       "description_width": ""
      }
     },
     "6152c45c429f4e6a939c549a93d6f41d": {
      "model_module": "@jupyter-widgets/controls",
      "model_module_version": "1.5.0",
      "model_name": "HTMLModel",
      "state": {
       "_dom_classes": [],
       "_model_module": "@jupyter-widgets/controls",
       "_model_module_version": "1.5.0",
       "_model_name": "HTMLModel",
       "_view_count": null,
       "_view_module": "@jupyter-widgets/controls",
       "_view_module_version": "1.5.0",
       "_view_name": "HTMLView",
       "description": "",
       "description_tooltip": null,
       "layout": "IPY_MODEL_8fdad59112bb42f7a5943b99ba24086f",
       "placeholder": "​",
       "style": "IPY_MODEL_f5579f629ce54c458c5854b96fd3beba",
       "value": "Iterations:"
      }
     },
     "657e564317434f38b33b9d8074a57c6d": {
      "model_module": "@jupyter-widgets/base",
      "model_module_version": "1.2.0",
      "model_name": "LayoutModel",
      "state": {
       "_model_module": "@jupyter-widgets/base",
       "_model_module_version": "1.2.0",
       "_model_name": "LayoutModel",
       "_view_count": null,
       "_view_module": "@jupyter-widgets/base",
       "_view_module_version": "1.2.0",
       "_view_name": "LayoutView",
       "align_content": null,
       "align_items": null,
       "align_self": null,
       "border": null,
       "bottom": null,
       "display": null,
       "flex": null,
       "flex_flow": null,
       "grid_area": null,
       "grid_auto_columns": null,
       "grid_auto_flow": null,
       "grid_auto_rows": null,
       "grid_column": null,
       "grid_gap": null,
       "grid_row": null,
       "grid_template_areas": null,
       "grid_template_columns": null,
       "grid_template_rows": null,
       "height": null,
       "justify_content": null,
       "justify_items": null,
       "left": null,
       "margin": null,
       "max_height": null,
       "max_width": null,
       "min_height": null,
       "min_width": null,
       "object_fit": null,
       "object_position": null,
       "order": null,
       "overflow": null,
       "overflow_x": null,
       "overflow_y": null,
       "padding": null,
       "right": null,
       "top": null,
       "visibility": null,
       "width": "60%"
      }
     },
     "6b68fdef8457428ca1953f69b12914d3": {
      "model_module": "@jupyter-widgets/controls",
      "model_module_version": "1.5.0",
      "model_name": "HBoxModel",
      "state": {
       "_dom_classes": [],
       "_model_module": "@jupyter-widgets/controls",
       "_model_module_version": "1.5.0",
       "_model_name": "HBoxModel",
       "_view_count": null,
       "_view_module": "@jupyter-widgets/controls",
       "_view_module_version": "1.5.0",
       "_view_name": "HBoxView",
       "box_style": "",
       "children": [
        "IPY_MODEL_74a0de19222e4d7dbf247e9f05a9766d",
        "IPY_MODEL_8322eacd5a274576ae59bdc13bc9f118",
        "IPY_MODEL_2e2fb42c83d945368751d41429b20407"
       ],
       "layout": "IPY_MODEL_8492326ec9a3490482eba1d8798b54df"
      }
     },
     "6d76e87774d5429387e12fbef2818d54": {
      "model_module": "@jupyter-widgets/base",
      "model_module_version": "1.2.0",
      "model_name": "LayoutModel",
      "state": {
       "_model_module": "@jupyter-widgets/base",
       "_model_module_version": "1.2.0",
       "_model_name": "LayoutModel",
       "_view_count": null,
       "_view_module": "@jupyter-widgets/base",
       "_view_module_version": "1.2.0",
       "_view_name": "LayoutView",
       "align_content": null,
       "align_items": null,
       "align_self": null,
       "border": null,
       "bottom": null,
       "display": null,
       "flex": null,
       "flex_flow": null,
       "grid_area": null,
       "grid_auto_columns": null,
       "grid_auto_flow": null,
       "grid_auto_rows": null,
       "grid_column": null,
       "grid_gap": null,
       "grid_row": null,
       "grid_template_areas": null,
       "grid_template_columns": null,
       "grid_template_rows": null,
       "height": null,
       "justify_content": null,
       "justify_items": null,
       "left": null,
       "margin": null,
       "max_height": null,
       "max_width": null,
       "min_height": null,
       "min_width": null,
       "object_fit": null,
       "object_position": null,
       "order": null,
       "overflow": null,
       "overflow_x": null,
       "overflow_y": null,
       "padding": null,
       "right": null,
       "top": null,
       "visibility": null,
       "width": null
      }
     },
     "6e557dead26a43b098602568c89a5b05": {
      "model_module": "@jupyter-widgets/controls",
      "model_module_version": "1.5.0",
      "model_name": "FloatProgressModel",
      "state": {
       "_dom_classes": [],
       "_model_module": "@jupyter-widgets/controls",
       "_model_module_version": "1.5.0",
       "_model_name": "FloatProgressModel",
       "_view_count": null,
       "_view_module": "@jupyter-widgets/controls",
       "_view_module_version": "1.5.0",
       "_view_name": "ProgressView",
       "bar_style": "info",
       "description": "",
       "description_tooltip": null,
       "layout": "IPY_MODEL_f90731b6306f45b3a97478a667dce22c",
       "max": 1.0,
       "min": 0.0,
       "orientation": "horizontal",
       "style": "IPY_MODEL_b5eb03dda7204a85a5b809dc6751956c",
       "value": 0.0
      }
     },
     "74a0de19222e4d7dbf247e9f05a9766d": {
      "model_module": "@jupyter-widgets/controls",
      "model_module_version": "1.5.0",
      "model_name": "HTMLModel",
      "state": {
       "_dom_classes": [],
       "_model_module": "@jupyter-widgets/controls",
       "_model_module_version": "1.5.0",
       "_model_name": "HTMLModel",
       "_view_count": null,
       "_view_module": "@jupyter-widgets/controls",
       "_view_module_version": "1.5.0",
       "_view_name": "HTMLView",
       "description": "",
       "description_tooltip": null,
       "layout": "IPY_MODEL_e9c1bbb350614c6ba95f9ba3fa140b1b",
       "placeholder": "​",
       "style": "IPY_MODEL_aace717b27e146a4afd4df9a53fabf39",
       "value": "Packets:   "
      }
     },
     "7a4e97c6b2a44e26819e4c5d91320965": {
      "model_module": "@jupyter-widgets/controls",
      "model_module_version": "1.5.0",
      "model_name": "HTMLModel",
      "state": {
       "_dom_classes": [],
       "_model_module": "@jupyter-widgets/controls",
       "_model_module_version": "1.5.0",
       "_model_name": "HTMLModel",
       "_view_count": null,
       "_view_module": "@jupyter-widgets/controls",
       "_view_module_version": "1.5.0",
       "_view_name": "HTMLView",
       "description": "",
       "description_tooltip": null,
       "layout": "IPY_MODEL_40048bff0bc4424285e61472b8d10324",
       "placeholder": "​",
       "style": "IPY_MODEL_3be013a8b23746b4b1b2c42a26a2d263",
       "value": "0/? [00:00&lt;?, ?it/s]"
      }
     },
     "7f0962957ffc49e29b9119ab4d760c0a": {
      "model_module": "@jupyter-widgets/base",
      "model_module_version": "1.2.0",
      "model_name": "LayoutModel",
      "state": {
       "_model_module": "@jupyter-widgets/base",
       "_model_module_version": "1.2.0",
       "_model_name": "LayoutModel",
       "_view_count": null,
       "_view_module": "@jupyter-widgets/base",
       "_view_module_version": "1.2.0",
       "_view_name": "LayoutView",
       "align_content": null,
       "align_items": null,
       "align_self": null,
       "border": null,
       "bottom": null,
       "display": null,
       "flex": null,
       "flex_flow": null,
       "grid_area": null,
       "grid_auto_columns": null,
       "grid_auto_flow": null,
       "grid_auto_rows": null,
       "grid_column": null,
       "grid_gap": null,
       "grid_row": null,
       "grid_template_areas": null,
       "grid_template_columns": null,
       "grid_template_rows": null,
       "height": null,
       "justify_content": null,
       "justify_items": null,
       "left": null,
       "margin": null,
       "max_height": null,
       "max_width": null,
       "min_height": null,
       "min_width": null,
       "object_fit": null,
       "object_position": null,
       "order": null,
       "overflow": null,
       "overflow_x": null,
       "overflow_y": null,
       "padding": null,
       "right": null,
       "top": null,
       "visibility": null,
       "width": null
      }
     },
     "8313477f63a54303a25a4504f8c0189f": {
      "model_module": "@jupyter-widgets/base",
      "model_module_version": "1.2.0",
      "model_name": "LayoutModel",
      "state": {
       "_model_module": "@jupyter-widgets/base",
       "_model_module_version": "1.2.0",
       "_model_name": "LayoutModel",
       "_view_count": null,
       "_view_module": "@jupyter-widgets/base",
       "_view_module_version": "1.2.0",
       "_view_name": "LayoutView",
       "align_content": null,
       "align_items": null,
       "align_self": null,
       "border": null,
       "bottom": null,
       "display": null,
       "flex": null,
       "flex_flow": null,
       "grid_area": null,
       "grid_auto_columns": null,
       "grid_auto_flow": null,
       "grid_auto_rows": null,
       "grid_column": null,
       "grid_gap": null,
       "grid_row": null,
       "grid_template_areas": null,
       "grid_template_columns": null,
       "grid_template_rows": null,
       "height": null,
       "justify_content": null,
       "justify_items": null,
       "left": null,
       "margin": null,
       "max_height": null,
       "max_width": null,
       "min_height": null,
       "min_width": null,
       "object_fit": null,
       "object_position": null,
       "order": null,
       "overflow": null,
       "overflow_x": null,
       "overflow_y": null,
       "padding": null,
       "right": null,
       "top": null,
       "visibility": null,
       "width": null
      }
     },
     "8322eacd5a274576ae59bdc13bc9f118": {
      "model_module": "@jupyter-widgets/controls",
      "model_module_version": "1.5.0",
      "model_name": "FloatProgressModel",
      "state": {
       "_dom_classes": [],
       "_model_module": "@jupyter-widgets/controls",
       "_model_module_version": "1.5.0",
       "_model_name": "FloatProgressModel",
       "_view_count": null,
       "_view_module": "@jupyter-widgets/controls",
       "_view_module_version": "1.5.0",
       "_view_name": "ProgressView",
       "bar_style": "",
       "description": "",
       "description_tooltip": null,
       "layout": "IPY_MODEL_04db2a3e23304603b0f44a8959b5a8d5",
       "max": 100000.0,
       "min": 0.0,
       "orientation": "horizontal",
       "style": "IPY_MODEL_d388393a12844e8d82c92ec4f3dc35f2",
       "value": 99995.0
      }
     },
     "8492326ec9a3490482eba1d8798b54df": {
      "model_module": "@jupyter-widgets/base",
      "model_module_version": "1.2.0",
      "model_name": "LayoutModel",
      "state": {
       "_model_module": "@jupyter-widgets/base",
       "_model_module_version": "1.2.0",
       "_model_name": "LayoutModel",
       "_view_count": null,
       "_view_module": "@jupyter-widgets/base",
       "_view_module_version": "1.2.0",
       "_view_name": "LayoutView",
       "align_content": null,
       "align_items": null,
       "align_self": null,
       "border": null,
       "bottom": null,
       "display": null,
       "flex": null,
       "flex_flow": null,
       "grid_area": null,
       "grid_auto_columns": null,
       "grid_auto_flow": null,
       "grid_auto_rows": null,
       "grid_column": null,
       "grid_gap": null,
       "grid_row": null,
       "grid_template_areas": null,
       "grid_template_columns": null,
       "grid_template_rows": null,
       "height": null,
       "justify_content": null,
       "justify_items": null,
       "left": null,
       "margin": null,
       "max_height": null,
       "max_width": null,
       "min_height": null,
       "min_width": null,
       "object_fit": null,
       "object_position": null,
       "order": null,
       "overflow": null,
       "overflow_x": null,
       "overflow_y": null,
       "padding": null,
       "right": null,
       "top": null,
       "visibility": null,
       "width": null
      }
     },
     "84cefa9773924b59b1488196ccc6885e": {
      "model_module": "@jupyter-widgets/controls",
      "model_module_version": "1.5.0",
      "model_name": "DescriptionStyleModel",
      "state": {
       "_model_module": "@jupyter-widgets/controls",
       "_model_module_version": "1.5.0",
       "_model_name": "DescriptionStyleModel",
       "_view_count": null,
       "_view_module": "@jupyter-widgets/base",
       "_view_module_version": "1.2.0",
       "_view_name": "StyleView",
       "description_width": ""
      }
     },
     "85cb6a29c2cc4b0b9c34666d6e827983": {
      "model_module": "@jupyter-widgets/controls",
      "model_module_version": "1.5.0",
      "model_name": "HBoxModel",
      "state": {
       "_dom_classes": [],
       "_model_module": "@jupyter-widgets/controls",
       "_model_module_version": "1.5.0",
       "_model_name": "HBoxModel",
       "_view_count": null,
       "_view_module": "@jupyter-widgets/controls",
       "_view_module_version": "1.5.0",
       "_view_name": "HBoxView",
       "box_style": "",
       "children": [
        "IPY_MODEL_6152c45c429f4e6a939c549a93d6f41d",
        "IPY_MODEL_f0173530698d406bb2936524829e23d3",
        "IPY_MODEL_cd11b5122dd4444e943cba1158598fb8"
       ],
       "layout": "IPY_MODEL_40967e44362048cf93a776dde74b0525"
      }
     },
     "8ac3eafd21b647a9bdfbfedefc5c6c9b": {
      "model_module": "@jupyter-widgets/base",
      "model_module_version": "1.2.0",
      "model_name": "LayoutModel",
      "state": {
       "_model_module": "@jupyter-widgets/base",
       "_model_module_version": "1.2.0",
       "_model_name": "LayoutModel",
       "_view_count": null,
       "_view_module": "@jupyter-widgets/base",
       "_view_module_version": "1.2.0",
       "_view_name": "LayoutView",
       "align_content": null,
       "align_items": null,
       "align_self": null,
       "border": null,
       "bottom": null,
       "display": null,
       "flex": null,
       "flex_flow": null,
       "grid_area": null,
       "grid_auto_columns": null,
       "grid_auto_flow": null,
       "grid_auto_rows": null,
       "grid_column": null,
       "grid_gap": null,
       "grid_row": null,
       "grid_template_areas": null,
       "grid_template_columns": null,
       "grid_template_rows": null,
       "height": null,
       "justify_content": null,
       "justify_items": null,
       "left": null,
       "margin": null,
       "max_height": null,
       "max_width": null,
       "min_height": null,
       "min_width": null,
       "object_fit": null,
       "object_position": null,
       "order": null,
       "overflow": null,
       "overflow_x": null,
       "overflow_y": null,
       "padding": null,
       "right": null,
       "top": null,
       "visibility": null,
       "width": null
      }
     },
     "8c4cc96136e340dba6d260f323b93b74": {
      "model_module": "@jupyter-widgets/base",
      "model_module_version": "1.2.0",
      "model_name": "LayoutModel",
      "state": {
       "_model_module": "@jupyter-widgets/base",
       "_model_module_version": "1.2.0",
       "_model_name": "LayoutModel",
       "_view_count": null,
       "_view_module": "@jupyter-widgets/base",
       "_view_module_version": "1.2.0",
       "_view_name": "LayoutView",
       "align_content": null,
       "align_items": null,
       "align_self": null,
       "border": null,
       "bottom": null,
       "display": null,
       "flex": null,
       "flex_flow": null,
       "grid_area": null,
       "grid_auto_columns": null,
       "grid_auto_flow": null,
       "grid_auto_rows": null,
       "grid_column": null,
       "grid_gap": null,
       "grid_row": null,
       "grid_template_areas": null,
       "grid_template_columns": null,
       "grid_template_rows": null,
       "height": null,
       "justify_content": null,
       "justify_items": null,
       "left": null,
       "margin": null,
       "max_height": null,
       "max_width": null,
       "min_height": null,
       "min_width": null,
       "object_fit": null,
       "object_position": null,
       "order": null,
       "overflow": null,
       "overflow_x": null,
       "overflow_y": null,
       "padding": null,
       "right": null,
       "top": null,
       "visibility": null,
       "width": null
      }
     },
     "8d899b0d610e4bc8919fe43e4bed930b": {
      "model_module": "@jupyter-widgets/controls",
      "model_module_version": "1.5.0",
      "model_name": "DescriptionStyleModel",
      "state": {
       "_model_module": "@jupyter-widgets/controls",
       "_model_module_version": "1.5.0",
       "_model_name": "DescriptionStyleModel",
       "_view_count": null,
       "_view_module": "@jupyter-widgets/base",
       "_view_module_version": "1.2.0",
       "_view_name": "StyleView",
       "description_width": ""
      }
     },
     "8fdad59112bb42f7a5943b99ba24086f": {
      "model_module": "@jupyter-widgets/base",
      "model_module_version": "1.2.0",
      "model_name": "LayoutModel",
      "state": {
       "_model_module": "@jupyter-widgets/base",
       "_model_module_version": "1.2.0",
       "_model_name": "LayoutModel",
       "_view_count": null,
       "_view_module": "@jupyter-widgets/base",
       "_view_module_version": "1.2.0",
       "_view_name": "LayoutView",
       "align_content": null,
       "align_items": null,
       "align_self": null,
       "border": null,
       "bottom": null,
       "display": null,
       "flex": null,
       "flex_flow": null,
       "grid_area": null,
       "grid_auto_columns": null,
       "grid_auto_flow": null,
       "grid_auto_rows": null,
       "grid_column": null,
       "grid_gap": null,
       "grid_row": null,
       "grid_template_areas": null,
       "grid_template_columns": null,
       "grid_template_rows": null,
       "height": null,
       "justify_content": null,
       "justify_items": null,
       "left": null,
       "margin": null,
       "max_height": null,
       "max_width": null,
       "min_height": null,
       "min_width": null,
       "object_fit": null,
       "object_position": null,
       "order": null,
       "overflow": null,
       "overflow_x": null,
       "overflow_y": null,
       "padding": null,
       "right": null,
       "top": null,
       "visibility": null,
       "width": "6%"
      }
     },
     "a0ab993bca014da0b67438895bbe15aa": {
      "model_module": "@jupyter-widgets/controls",
      "model_module_version": "1.5.0",
      "model_name": "DescriptionStyleModel",
      "state": {
       "_model_module": "@jupyter-widgets/controls",
       "_model_module_version": "1.5.0",
       "_model_name": "DescriptionStyleModel",
       "_view_count": null,
       "_view_module": "@jupyter-widgets/base",
       "_view_module_version": "1.2.0",
       "_view_name": "StyleView",
       "description_width": ""
      }
     },
     "aace717b27e146a4afd4df9a53fabf39": {
      "model_module": "@jupyter-widgets/controls",
      "model_module_version": "1.5.0",
      "model_name": "DescriptionStyleModel",
      "state": {
       "_model_module": "@jupyter-widgets/controls",
       "_model_module_version": "1.5.0",
       "_model_name": "DescriptionStyleModel",
       "_view_count": null,
       "_view_module": "@jupyter-widgets/base",
       "_view_module_version": "1.2.0",
       "_view_name": "StyleView",
       "description_width": ""
      }
     },
     "b0a15fbc506d48a8a2c3357ae6cc2b7f": {
      "model_module": "@jupyter-widgets/output",
      "model_module_version": "1.0.0",
      "model_name": "OutputModel",
      "state": {
       "_dom_classes": [],
       "_model_module": "@jupyter-widgets/output",
       "_model_module_version": "1.0.0",
       "_model_name": "OutputModel",
       "_view_count": null,
       "_view_module": "@jupyter-widgets/output",
       "_view_module_version": "1.0.0",
       "_view_name": "OutputView",
       "layout": "IPY_MODEL_8313477f63a54303a25a4504f8c0189f",
       "msg_id": "",
       "outputs": []
      }
     },
     "b4ced442efd74a6b9c4b027bf25333ac": {
      "model_module": "@jupyter-widgets/controls",
      "model_module_version": "1.5.0",
      "model_name": "ProgressStyleModel",
      "state": {
       "_model_module": "@jupyter-widgets/controls",
       "_model_module_version": "1.5.0",
       "_model_name": "ProgressStyleModel",
       "_view_count": null,
       "_view_module": "@jupyter-widgets/base",
       "_view_module_version": "1.2.0",
       "_view_name": "StyleView",
       "bar_color": null,
       "description_width": ""
      }
     },
     "b5eb03dda7204a85a5b809dc6751956c": {
      "model_module": "@jupyter-widgets/controls",
      "model_module_version": "1.5.0",
      "model_name": "ProgressStyleModel",
      "state": {
       "_model_module": "@jupyter-widgets/controls",
       "_model_module_version": "1.5.0",
       "_model_name": "ProgressStyleModel",
       "_view_count": null,
       "_view_module": "@jupyter-widgets/base",
       "_view_module_version": "1.2.0",
       "_view_name": "StyleView",
       "bar_color": null,
       "description_width": ""
      }
     },
     "bc06017b56cd4f178264518287105400": {
      "model_module": "@jupyter-widgets/base",
      "model_module_version": "1.2.0",
      "model_name": "LayoutModel",
      "state": {
       "_model_module": "@jupyter-widgets/base",
       "_model_module_version": "1.2.0",
       "_model_name": "LayoutModel",
       "_view_count": null,
       "_view_module": "@jupyter-widgets/base",
       "_view_module_version": "1.2.0",
       "_view_name": "LayoutView",
       "align_content": null,
       "align_items": null,
       "align_self": null,
       "border": null,
       "bottom": null,
       "display": null,
       "flex": null,
       "flex_flow": null,
       "grid_area": null,
       "grid_auto_columns": null,
       "grid_auto_flow": null,
       "grid_auto_rows": null,
       "grid_column": null,
       "grid_gap": null,
       "grid_row": null,
       "grid_template_areas": null,
       "grid_template_columns": null,
       "grid_template_rows": null,
       "height": null,
       "justify_content": null,
       "justify_items": null,
       "left": null,
       "margin": null,
       "max_height": null,
       "max_width": null,
       "min_height": null,
       "min_width": null,
       "object_fit": null,
       "object_position": null,
       "order": null,
       "overflow": null,
       "overflow_x": null,
       "overflow_y": null,
       "padding": null,
       "right": null,
       "top": null,
       "visibility": null,
       "width": "20px"
      }
     },
     "bfe18469014943699a5194cf1f1c8ab5": {
      "model_module": "@jupyter-widgets/controls",
      "model_module_version": "1.5.0",
      "model_name": "FloatProgressModel",
      "state": {
       "_dom_classes": [],
       "_model_module": "@jupyter-widgets/controls",
       "_model_module_version": "1.5.0",
       "_model_name": "FloatProgressModel",
       "_view_count": null,
       "_view_module": "@jupyter-widgets/controls",
       "_view_module_version": "1.5.0",
       "_view_name": "ProgressView",
       "bar_style": "info",
       "description": "",
       "description_tooltip": null,
       "layout": "IPY_MODEL_bc06017b56cd4f178264518287105400",
       "max": 1.0,
       "min": 0.0,
       "orientation": "horizontal",
       "style": "IPY_MODEL_b4ced442efd74a6b9c4b027bf25333ac",
       "value": 0.0
      }
     },
     "cd11b5122dd4444e943cba1158598fb8": {
      "model_module": "@jupyter-widgets/controls",
      "model_module_version": "1.5.0",
      "model_name": "HTMLModel",
      "state": {
       "_dom_classes": [],
       "_model_module": "@jupyter-widgets/controls",
       "_model_module_version": "1.5.0",
       "_model_name": "HTMLModel",
       "_view_count": null,
       "_view_module": "@jupyter-widgets/controls",
       "_view_module_version": "1.5.0",
       "_view_name": "HTMLView",
       "description": "",
       "description_tooltip": null,
       "layout": "IPY_MODEL_6d76e87774d5429387e12fbef2818d54",
       "placeholder": "​",
       "style": "IPY_MODEL_84cefa9773924b59b1488196ccc6885e",
       "value": "20/20 [00:20&lt;00:00,  2.77s/it]"
      }
     },
     "cfab4b7224ae4ee08a840bcacf390ad6": {
      "model_module": "@jupyter-widgets/controls",
      "model_module_version": "1.5.0",
      "model_name": "DescriptionStyleModel",
      "state": {
       "_model_module": "@jupyter-widgets/controls",
       "_model_module_version": "1.5.0",
       "_model_name": "DescriptionStyleModel",
       "_view_count": null,
       "_view_module": "@jupyter-widgets/base",
       "_view_module_version": "1.2.0",
       "_view_name": "StyleView",
       "description_width": ""
      }
     },
     "d388393a12844e8d82c92ec4f3dc35f2": {
      "model_module": "@jupyter-widgets/controls",
      "model_module_version": "1.5.0",
      "model_name": "ProgressStyleModel",
      "state": {
       "_model_module": "@jupyter-widgets/controls",
       "_model_module_version": "1.5.0",
       "_model_name": "ProgressStyleModel",
       "_view_count": null,
       "_view_module": "@jupyter-widgets/base",
       "_view_module_version": "1.2.0",
       "_view_name": "StyleView",
       "bar_color": null,
       "description_width": ""
      }
     },
     "d8f04327b9b448d29847a37626403368": {
      "model_module": "@jupyter-widgets/controls",
      "model_module_version": "1.5.0",
      "model_name": "HTMLModel",
      "state": {
       "_dom_classes": [],
       "_model_module": "@jupyter-widgets/controls",
       "_model_module_version": "1.5.0",
       "_model_name": "HTMLModel",
       "_view_count": null,
       "_view_module": "@jupyter-widgets/controls",
       "_view_module_version": "1.5.0",
       "_view_name": "HTMLView",
       "description": "",
       "description_tooltip": null,
       "layout": "IPY_MODEL_fdb6c29d5a074468bb86d989a5af677c",
       "placeholder": "​",
       "style": "IPY_MODEL_42aff82ebd1148c5a3ed950af804ab01",
       "value": "Iterations:"
      }
     },
     "e570688180b84c83b5ad93d299c0f097": {
      "model_module": "@jupyter-widgets/base",
      "model_module_version": "1.2.0",
      "model_name": "LayoutModel",
      "state": {
       "_model_module": "@jupyter-widgets/base",
       "_model_module_version": "1.2.0",
       "_model_name": "LayoutModel",
       "_view_count": null,
       "_view_module": "@jupyter-widgets/base",
       "_view_module_version": "1.2.0",
       "_view_name": "LayoutView",
       "align_content": null,
       "align_items": null,
       "align_self": null,
       "border": null,
       "bottom": null,
       "display": null,
       "flex": null,
       "flex_flow": null,
       "grid_area": null,
       "grid_auto_columns": null,
       "grid_auto_flow": null,
       "grid_auto_rows": null,
       "grid_column": null,
       "grid_gap": null,
       "grid_row": null,
       "grid_template_areas": null,
       "grid_template_columns": null,
       "grid_template_rows": null,
       "height": null,
       "justify_content": null,
       "justify_items": null,
       "left": null,
       "margin": null,
       "max_height": null,
       "max_width": null,
       "min_height": null,
       "min_width": null,
       "object_fit": null,
       "object_position": null,
       "order": null,
       "overflow": null,
       "overflow_x": null,
       "overflow_y": null,
       "padding": null,
       "right": null,
       "top": null,
       "visibility": null,
       "width": null
      }
     },
     "e9c1bbb350614c6ba95f9ba3fa140b1b": {
      "model_module": "@jupyter-widgets/base",
      "model_module_version": "1.2.0",
      "model_name": "LayoutModel",
      "state": {
       "_model_module": "@jupyter-widgets/base",
       "_model_module_version": "1.2.0",
       "_model_name": "LayoutModel",
       "_view_count": null,
       "_view_module": "@jupyter-widgets/base",
       "_view_module_version": "1.2.0",
       "_view_name": "LayoutView",
       "align_content": null,
       "align_items": null,
       "align_self": null,
       "border": null,
       "bottom": null,
       "display": null,
       "flex": null,
       "flex_flow": null,
       "grid_area": null,
       "grid_auto_columns": null,
       "grid_auto_flow": null,
       "grid_auto_rows": null,
       "grid_column": null,
       "grid_gap": null,
       "grid_row": null,
       "grid_template_areas": null,
       "grid_template_columns": null,
       "grid_template_rows": null,
       "height": null,
       "justify_content": null,
       "justify_items": null,
       "left": null,
       "margin": null,
       "max_height": null,
       "max_width": null,
       "min_height": null,
       "min_width": null,
       "object_fit": null,
       "object_position": null,
       "order": null,
       "overflow": null,
       "overflow_x": null,
       "overflow_y": null,
       "padding": null,
       "right": null,
       "top": null,
       "visibility": null,
       "width": "6%"
      }
     },
     "f0173530698d406bb2936524829e23d3": {
      "model_module": "@jupyter-widgets/controls",
      "model_module_version": "1.5.0",
      "model_name": "FloatProgressModel",
      "state": {
       "_dom_classes": [],
       "_model_module": "@jupyter-widgets/controls",
       "_model_module_version": "1.5.0",
       "_model_name": "FloatProgressModel",
       "_view_count": null,
       "_view_module": "@jupyter-widgets/controls",
       "_view_module_version": "1.5.0",
       "_view_name": "ProgressView",
       "bar_style": "",
       "description": "",
       "description_tooltip": null,
       "layout": "IPY_MODEL_657e564317434f38b33b9d8074a57c6d",
       "max": 20.0,
       "min": 0.0,
       "orientation": "horizontal",
       "style": "IPY_MODEL_4ac7e20ab5574148960aedb39d592935",
       "value": 20.0
      }
     },
     "f5579f629ce54c458c5854b96fd3beba": {
      "model_module": "@jupyter-widgets/controls",
      "model_module_version": "1.5.0",
      "model_name": "DescriptionStyleModel",
      "state": {
       "_model_module": "@jupyter-widgets/controls",
       "_model_module_version": "1.5.0",
       "_model_name": "DescriptionStyleModel",
       "_view_count": null,
       "_view_module": "@jupyter-widgets/base",
       "_view_module_version": "1.2.0",
       "_view_name": "StyleView",
       "description_width": ""
      }
     },
     "f90731b6306f45b3a97478a667dce22c": {
      "model_module": "@jupyter-widgets/base",
      "model_module_version": "1.2.0",
      "model_name": "LayoutModel",
      "state": {
       "_model_module": "@jupyter-widgets/base",
       "_model_module_version": "1.2.0",
       "_model_name": "LayoutModel",
       "_view_count": null,
       "_view_module": "@jupyter-widgets/base",
       "_view_module_version": "1.2.0",
       "_view_name": "LayoutView",
       "align_content": null,
       "align_items": null,
       "align_self": null,
       "border": null,
       "bottom": null,
       "display": null,
       "flex": null,
       "flex_flow": null,
       "grid_area": null,
       "grid_auto_columns": null,
       "grid_auto_flow": null,
       "grid_auto_rows": null,
       "grid_column": null,
       "grid_gap": null,
       "grid_row": null,
       "grid_template_areas": null,
       "grid_template_columns": null,
       "grid_template_rows": null,
       "height": null,
       "justify_content": null,
       "justify_items": null,
       "left": null,
       "margin": null,
       "max_height": null,
       "max_width": null,
       "min_height": null,
       "min_width": null,
       "object_fit": null,
       "object_position": null,
       "order": null,
       "overflow": null,
       "overflow_x": null,
       "overflow_y": null,
       "padding": null,
       "right": null,
       "top": null,
       "visibility": null,
       "width": "20px"
      }
     },
     "fcd145e0d894449fa7ed5167a38b8763": {
      "model_module": "@jupyter-widgets/controls",
      "model_module_version": "1.5.0",
      "model_name": "HBoxModel",
      "state": {
       "_dom_classes": [],
       "_model_module": "@jupyter-widgets/controls",
       "_model_module_version": "1.5.0",
       "_model_name": "HBoxModel",
       "_view_count": null,
       "_view_module": "@jupyter-widgets/controls",
       "_view_module_version": "1.5.0",
       "_view_name": "HBoxView",
       "box_style": "",
       "children": [
        "IPY_MODEL_d8f04327b9b448d29847a37626403368",
        "IPY_MODEL_bfe18469014943699a5194cf1f1c8ab5",
        "IPY_MODEL_217b68511966436db7cc15bdd235f551"
       ],
       "layout": "IPY_MODEL_8ac3eafd21b647a9bdfbfedefc5c6c9b"
      }
     },
     "fdb6c29d5a074468bb86d989a5af677c": {
      "model_module": "@jupyter-widgets/base",
      "model_module_version": "1.2.0",
      "model_name": "LayoutModel",
      "state": {
       "_model_module": "@jupyter-widgets/base",
       "_model_module_version": "1.2.0",
       "_model_name": "LayoutModel",
       "_view_count": null,
       "_view_module": "@jupyter-widgets/base",
       "_view_module_version": "1.2.0",
       "_view_name": "LayoutView",
       "align_content": null,
       "align_items": null,
       "align_self": null,
       "border": null,
       "bottom": null,
       "display": null,
       "flex": null,
       "flex_flow": null,
       "grid_area": null,
       "grid_auto_columns": null,
       "grid_auto_flow": null,
       "grid_auto_rows": null,
       "grid_column": null,
       "grid_gap": null,
       "grid_row": null,
       "grid_template_areas": null,
       "grid_template_columns": null,
       "grid_template_rows": null,
       "height": null,
       "justify_content": null,
       "justify_items": null,
       "left": null,
       "margin": null,
       "max_height": null,
       "max_width": null,
       "min_height": null,
       "min_width": null,
       "object_fit": null,
       "object_position": null,
       "order": null,
       "overflow": null,
       "overflow_x": null,
       "overflow_y": null,
       "padding": null,
       "right": null,
       "top": null,
       "visibility": null,
       "width": null
      }
     }
    },
    "version_major": 2,
    "version_minor": 0
   }
  }
 },
 "nbformat": 4,
 "nbformat_minor": 1
}
