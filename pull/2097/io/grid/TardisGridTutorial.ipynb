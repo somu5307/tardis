{
 "cells": [
  {
   "cell_type": "markdown",
   "metadata": {},
   "source": [
    "# Running TARDIS Model Grids\n",
    "\n",
    "This notebook demonstrates the capabilities of the TARDIS grid. The grid facilitates users running large numbers of TARDIS simulations."
   ]
  },
  {
   "cell_type": "code",
   "execution_count": 1,
   "metadata": {
    "execution": {
     "iopub.execute_input": "2022-07-18T11:53:13.588113Z",
     "iopub.status.busy": "2022-07-18T11:53:13.587300Z",
     "iopub.status.idle": "2022-07-18T11:53:16.071607Z",
     "shell.execute_reply": "2022-07-18T11:53:16.070974Z"
    }
   },
   "outputs": [
    {
     "name": "stderr",
     "output_type": "stream",
     "text": [
      "/usr/share/miniconda3/envs/tardis/lib/python3.8/site-packages/setuptools_scm/git.py:135: UserWarning: \"/home/runner/work/tardis/tardis\" is shallow and may cause errors\n",
      "  warnings.warn(f'\"{wd.path}\" is shallow and may cause errors')\n"
     ]
    },
    {
     "data": {
      "application/vnd.jupyter.widget-view+json": {
       "model_id": "0435860681574e158e62d7999c7e284c",
       "version_major": 2,
       "version_minor": 0
      },
      "text/plain": [
       "Iterations:          0/? [00:00<?, ?it/s]"
      ]
     },
     "metadata": {},
     "output_type": "display_data"
    },
    {
     "data": {
      "application/vnd.jupyter.widget-view+json": {
       "model_id": "4c5876b8af68453493da6f008524a6d7",
       "version_major": 2,
       "version_minor": 0
      },
      "text/plain": [
       "Packets:             0/? [00:00<?, ?it/s]"
      ]
     },
     "metadata": {},
     "output_type": "display_data"
    }
   ],
   "source": [
    "import pandas as pd\n",
    "import numpy as np\n",
    "from tardis.io.atom_data.util import download_atom_data\n",
    "\n",
    "import tardis.grid as grid"
   ]
  },
  {
   "cell_type": "markdown",
   "metadata": {},
   "source": [
    "## Creating A Grid\n",
    "\n",
    "There are 2 ways of creating a TARDIS grid: directly from a dataframe, or by defining a set of axes over which the grid should be defined. In both cases, a config.yml file is required. **Note that for the dataframe, the column names are in the form of valid keys in a tardis Configuration dictionary. For the axes, the keys must similarly be valid tardis Configuration keys.**"
   ]
  },
  {
   "cell_type": "code",
   "execution_count": 2,
   "metadata": {
    "execution": {
     "iopub.execute_input": "2022-07-18T11:53:16.075131Z",
     "iopub.status.busy": "2022-07-18T11:53:16.074527Z",
     "iopub.status.idle": "2022-07-18T11:53:16.090467Z",
     "shell.execute_reply": "2022-07-18T11:53:16.089901Z"
    }
   },
   "outputs": [
    {
     "data": {
      "text/html": [
       "<div>\n",
       "<style scoped>\n",
       "    .dataframe tbody tr th:only-of-type {\n",
       "        vertical-align: middle;\n",
       "    }\n",
       "\n",
       "    .dataframe tbody tr th {\n",
       "        vertical-align: top;\n",
       "    }\n",
       "\n",
       "    .dataframe thead th {\n",
       "        text-align: right;\n",
       "    }\n",
       "</style>\n",
       "<table border=\"1\" class=\"dataframe\">\n",
       "  <thead>\n",
       "    <tr style=\"text-align: right;\">\n",
       "      <th></th>\n",
       "      <th>model.abundances.H</th>\n",
       "      <th>model.abundances.He</th>\n",
       "      <th>model.structure.velocity.start</th>\n",
       "      <th>plasma.initial_t_inner</th>\n",
       "    </tr>\n",
       "  </thead>\n",
       "  <tbody>\n",
       "    <tr>\n",
       "      <th>0</th>\n",
       "      <td>1.0</td>\n",
       "      <td>0.0</td>\n",
       "      <td>10000</td>\n",
       "      <td>5000</td>\n",
       "    </tr>\n",
       "    <tr>\n",
       "      <th>1</th>\n",
       "      <td>0.4</td>\n",
       "      <td>0.6</td>\n",
       "      <td>12000</td>\n",
       "      <td>6000</td>\n",
       "    </tr>\n",
       "    <tr>\n",
       "      <th>2</th>\n",
       "      <td>0.7</td>\n",
       "      <td>0.3</td>\n",
       "      <td>15000</td>\n",
       "      <td>7000</td>\n",
       "    </tr>\n",
       "  </tbody>\n",
       "</table>\n",
       "</div>"
      ],
      "text/plain": [
       "   model.abundances.H  model.abundances.He  model.structure.velocity.start  \\\n",
       "0                 1.0                  0.0                           10000   \n",
       "1                 0.4                  0.6                           12000   \n",
       "2                 0.7                  0.3                           15000   \n",
       "\n",
       "   plasma.initial_t_inner  \n",
       "0                    5000  \n",
       "1                    6000  \n",
       "2                    7000  "
      ]
     },
     "execution_count": 2,
     "metadata": {},
     "output_type": "execute_result"
    }
   ],
   "source": [
    "# Load a DataFrame\n",
    "df = pd.read_csv('example_grid.txt')\n",
    "df"
   ]
  },
  {
   "cell_type": "code",
   "execution_count": 3,
   "metadata": {
    "execution": {
     "iopub.execute_input": "2022-07-18T11:53:16.093420Z",
     "iopub.status.busy": "2022-07-18T11:53:16.092838Z",
     "iopub.status.idle": "2022-07-18T11:53:16.231082Z",
     "shell.execute_reply": "2022-07-18T11:53:16.230428Z"
    }
   },
   "outputs": [
    {
     "data": {
      "text/plain": [
       "<tardis.grid.base.tardisGrid at 0x7faba029fb50>"
      ]
     },
     "execution_count": 3,
     "metadata": {},
     "output_type": "execute_result"
    }
   ],
   "source": [
    "# Create a tardis grid directly from a dataframe.\n",
    "grid.tardisGrid(configFile='example.yml', gridFrame=df)"
   ]
  },
  {
   "cell_type": "code",
   "execution_count": 4,
   "metadata": {
    "execution": {
     "iopub.execute_input": "2022-07-18T11:53:16.234582Z",
     "iopub.status.busy": "2022-07-18T11:53:16.234200Z",
     "iopub.status.idle": "2022-07-18T11:53:16.239119Z",
     "shell.execute_reply": "2022-07-18T11:53:16.238528Z"
    }
   },
   "outputs": [],
   "source": [
    "# Create an axes dictionary\n",
    "axesdict = {'model.structure.velocity.start':np.arange(10000,15000,1000), \n",
    "            'model.abundances.He':np.arange(0,1,0.1),\n",
    "            'model.abundances.H':np.arange(0,1,0.25)}"
   ]
  },
  {
   "cell_type": "code",
   "execution_count": 5,
   "metadata": {
    "execution": {
     "iopub.execute_input": "2022-07-18T11:53:16.241900Z",
     "iopub.status.busy": "2022-07-18T11:53:16.241410Z",
     "iopub.status.idle": "2022-07-18T11:53:16.346487Z",
     "shell.execute_reply": "2022-07-18T11:53:16.345788Z"
    }
   },
   "outputs": [
    {
     "data": {
      "text/plain": [
       "<tardis.grid.base.tardisGrid at 0x7fab587863a0>"
      ]
     },
     "execution_count": 5,
     "metadata": {},
     "output_type": "execute_result"
    }
   ],
   "source": [
    "#Create a tardis grid from an axes dict using the classmethod.\n",
    "grid.tardisGrid.from_axes(configFile='example.yml', axesdict=axesdict)"
   ]
  },
  {
   "cell_type": "markdown",
   "metadata": {},
   "source": [
    "## TARDIS Grid Attributes\n",
    "\n",
    "The TARDIS grid only has 2 attributes. It creates a TARDIS Configuration object from the user specified config.yml file and saves this to the `self.config` attribute. The grid also stores the parameters of every grid point in a Dataframe accessed by `self.grid`"
   ]
  },
  {
   "cell_type": "code",
   "execution_count": 6,
   "metadata": {
    "execution": {
     "iopub.execute_input": "2022-07-18T11:53:16.349712Z",
     "iopub.status.busy": "2022-07-18T11:53:16.349113Z",
     "iopub.status.idle": "2022-07-18T11:53:16.443448Z",
     "shell.execute_reply": "2022-07-18T11:53:16.442840Z"
    }
   },
   "outputs": [],
   "source": [
    "tg = grid.tardisGrid(configFile='example.yml', gridFrame=df)"
   ]
  },
  {
   "cell_type": "code",
   "execution_count": 7,
   "metadata": {
    "execution": {
     "iopub.execute_input": "2022-07-18T11:53:16.446253Z",
     "iopub.status.busy": "2022-07-18T11:53:16.446029Z",
     "iopub.status.idle": "2022-07-18T11:53:16.456188Z",
     "shell.execute_reply": "2022-07-18T11:53:16.455585Z"
    }
   },
   "outputs": [
    {
     "data": {
      "text/plain": [
       "{'tardis_config_version': 'v1.0',\n",
       " 'supernova': {'luminosity_requested': <Quantity 5.679e+41 erg / s>,\n",
       "  'luminosity_wavelength_start': <Quantity 3481.82000178 Angstrom>,\n",
       "  'luminosity_wavelength_end': <Quantity 9947.78776065 Angstrom>,\n",
       "  'time_explosion': <Quantity 10. d>},\n",
       " 'atom_data': 'kurucz_cd23_chianti_H_He.h5',\n",
       " 'model': {'structure': {'type': 'specific',\n",
       "   'velocity': {'start': <Quantity 10000. km / s>,\n",
       "    'stop': <Quantity 20000. km / s>,\n",
       "    'num': 20},\n",
       "   'density': {'type': 'branch85_w7',\n",
       "    'w7_time_0': <Quantity 0.00023148 d>,\n",
       "    'w7_rho_0': <Quantity 3.e+29 g / cm3>,\n",
       "    'w7_v_0': <Quantity 1. km / s>}},\n",
       "  'abundances': {'type': 'uniform', 'He': 0.2, 'H': 0.8}},\n",
       " 'plasma': {'initial_t_inner': <Quantity 7000. K>,\n",
       "  'disable_electron_scattering': False,\n",
       "  'ionization': 'nebular',\n",
       "  'excitation': 'dilute-lte',\n",
       "  'radiative_rates_type': 'dilute-blackbody',\n",
       "  'line_interaction_type': 'macroatom',\n",
       "  'initial_t_rad': <Quantity -1. K>,\n",
       "  'disable_line_scattering': False,\n",
       "  'w_epsilon': 1e-10,\n",
       "  'nlte': {'species': [],\n",
       "   'coronal_approximation': False,\n",
       "   'classical_nebular': False},\n",
       "  'continuum_interaction': {'species': [],\n",
       "   'enable_adiabatic_cooling': False,\n",
       "   'enable_two_photon_decay': False},\n",
       "  'helium_treatment': 'none',\n",
       "  'heating_rate_data_file': 'none',\n",
       "  'link_t_rad_t_electron': 0.9},\n",
       " 'montecarlo': {'seed': 23111963,\n",
       "  'no_of_packets': 40000.0,\n",
       "  'iterations': 2,\n",
       "  'nthreads': 1,\n",
       "  'last_no_of_packets': 1000.0,\n",
       "  'no_of_virtual_packets': 3,\n",
       "  'convergence_strategy': {'type': 'damped',\n",
       "   'damping_constant': 0.5,\n",
       "   'threshold': 0.05,\n",
       "   'fraction': 0.8,\n",
       "   'hold_iterations': 3,\n",
       "   't_inner': {'damping_constant': 0.5, 'threshold': 0.05},\n",
       "   'stop_if_converged': False,\n",
       "   'lock_t_inner_cycles': 1,\n",
       "   't_inner_update_exponent': -0.5,\n",
       "   't_rad': {'damping_constant': 0.5, 'threshold': 0.05},\n",
       "   'w': {'damping_constant': 0.5, 'threshold': 0.05}},\n",
       "  'virtual_spectrum_spawn_range': {'start': <Quantity 1. Angstrom>,\n",
       "   'end': <Quantity inf Angstrom>},\n",
       "  'enable_reflective_inner_boundary': False,\n",
       "  'inner_boundary_albedo': 0.0,\n",
       "  'enable_full_relativity': False,\n",
       "  'enable_nonhomologous_expansion': False,\n",
       "  'tracking': {'track_rpacket': False, 'initial_array_length': 10},\n",
       "  'debug_packets': False,\n",
       "  'logger_buffer': 1},\n",
       " 'spectrum': {'start': <Quantity 500. Angstrom>,\n",
       "  'stop': <Quantity 20000. Angstrom>,\n",
       "  'num': 10000,\n",
       "  'method': 'virtual',\n",
       "  'integrated': {'points': 1000, 'interpolate_shells': 0, 'compute': 'CPU'},\n",
       "  'virtual': {'tau_russian': 10.0,\n",
       "   'survival_probability': 0.0,\n",
       "   'enable_biasing': False,\n",
       "   'virtual_packet_logging': False}},\n",
       " 'config_dirname': ''}"
      ]
     },
     "execution_count": 7,
     "metadata": {},
     "output_type": "execute_result"
    }
   ],
   "source": [
    "# The config generated from the user's yml file.\n",
    "tg.config"
   ]
  },
  {
   "cell_type": "code",
   "execution_count": 8,
   "metadata": {
    "execution": {
     "iopub.execute_input": "2022-07-18T11:53:16.459046Z",
     "iopub.status.busy": "2022-07-18T11:53:16.458496Z",
     "iopub.status.idle": "2022-07-18T11:53:16.468215Z",
     "shell.execute_reply": "2022-07-18T11:53:16.467478Z"
    }
   },
   "outputs": [
    {
     "data": {
      "text/html": [
       "<div>\n",
       "<style scoped>\n",
       "    .dataframe tbody tr th:only-of-type {\n",
       "        vertical-align: middle;\n",
       "    }\n",
       "\n",
       "    .dataframe tbody tr th {\n",
       "        vertical-align: top;\n",
       "    }\n",
       "\n",
       "    .dataframe thead th {\n",
       "        text-align: right;\n",
       "    }\n",
       "</style>\n",
       "<table border=\"1\" class=\"dataframe\">\n",
       "  <thead>\n",
       "    <tr style=\"text-align: right;\">\n",
       "      <th></th>\n",
       "      <th>model.abundances.H</th>\n",
       "      <th>model.abundances.He</th>\n",
       "      <th>model.structure.velocity.start</th>\n",
       "      <th>plasma.initial_t_inner</th>\n",
       "    </tr>\n",
       "  </thead>\n",
       "  <tbody>\n",
       "    <tr>\n",
       "      <th>0</th>\n",
       "      <td>1.0</td>\n",
       "      <td>0.0</td>\n",
       "      <td>10000</td>\n",
       "      <td>5000</td>\n",
       "    </tr>\n",
       "    <tr>\n",
       "      <th>1</th>\n",
       "      <td>0.4</td>\n",
       "      <td>0.6</td>\n",
       "      <td>12000</td>\n",
       "      <td>6000</td>\n",
       "    </tr>\n",
       "    <tr>\n",
       "      <th>2</th>\n",
       "      <td>0.7</td>\n",
       "      <td>0.3</td>\n",
       "      <td>15000</td>\n",
       "      <td>7000</td>\n",
       "    </tr>\n",
       "  </tbody>\n",
       "</table>\n",
       "</div>"
      ],
      "text/plain": [
       "   model.abundances.H  model.abundances.He  model.structure.velocity.start  \\\n",
       "0                 1.0                  0.0                           10000   \n",
       "1                 0.4                  0.6                           12000   \n",
       "2                 0.7                  0.3                           15000   \n",
       "\n",
       "   plasma.initial_t_inner  \n",
       "0                    5000  \n",
       "1                    6000  \n",
       "2                    7000  "
      ]
     },
     "execution_count": 8,
     "metadata": {},
     "output_type": "execute_result"
    }
   ],
   "source": [
    "# The user specified grid.\n",
    "tg.grid"
   ]
  },
  {
   "cell_type": "markdown",
   "metadata": {},
   "source": [
    "## TARDIS Grid Functionality\n",
    "\n",
    "The TARDIS Grid provides a variety of functions for using the grid to generate new Configurations, return new Radial1DModel objects, or directly run simulations using the parameters specified by the grid. This functionality is particularly useful for running large numbers of simulations and easily works with JobArrays where the row_index is the JobArray index."
   ]
  },
  {
   "cell_type": "code",
   "execution_count": 9,
   "metadata": {
    "execution": {
     "iopub.execute_input": "2022-07-18T11:53:16.471315Z",
     "iopub.status.busy": "2022-07-18T11:53:16.470886Z",
     "iopub.status.idle": "2022-07-18T11:53:16.476029Z",
     "shell.execute_reply": "2022-07-18T11:53:16.475256Z"
    }
   },
   "outputs": [
    {
     "name": "stdout",
     "output_type": "stream",
     "text": [
      "tg.config is the original config: {'type': 'uniform', 'He': 0.2, 'H': 0.8}\n",
      "The new config is modified:  {'type': 'uniform', 'He': 0.0, 'H': 1.0}\n"
     ]
    }
   ],
   "source": [
    "# Easily get a new TARDIS Configuration object \n",
    "# which has the properties of the base self.config\n",
    "# but with properties modified by a row of the grid.\n",
    "new_grid = tg.grid_row_to_config(row_index=0);\n",
    "print(\"tg.config is the original config:\",tg.config.model.abundances)\n",
    "print(\"The new config is modified: \",new_grid.model.abundances)"
   ]
  },
  {
   "cell_type": "code",
   "execution_count": 10,
   "metadata": {
    "execution": {
     "iopub.execute_input": "2022-07-18T11:53:16.479314Z",
     "iopub.status.busy": "2022-07-18T11:53:16.478949Z",
     "iopub.status.idle": "2022-07-18T11:53:16.520156Z",
     "shell.execute_reply": "2022-07-18T11:53:16.519454Z"
    }
   },
   "outputs": [
    {
     "data": {
      "text/plain": [
       "<tardis.model.base.Radial1DModel at 0x7faba02a9b50>"
      ]
     },
     "execution_count": 10,
     "metadata": {},
     "output_type": "execute_result"
    }
   ],
   "source": [
    "# In case a user needs to make more complicated changes\n",
    "# to the base TARDIS model (i.e. using parameters that \n",
    "# are not valid TARDIS Configuration keys), the grid\n",
    "# can return a Radial1DModel object for a given row.\n",
    "model = tg.grid_row_to_model(row_index=0)\n",
    "model"
   ]
  },
  {
   "cell_type": "code",
   "execution_count": 11,
   "metadata": {
    "execution": {
     "iopub.execute_input": "2022-07-18T11:53:16.523431Z",
     "iopub.status.busy": "2022-07-18T11:53:16.523084Z",
     "iopub.status.idle": "2022-07-18T11:53:47.594225Z",
     "shell.execute_reply": "2022-07-18T11:53:47.593738Z"
    }
   },
   "outputs": [
    {
     "name": "stdout",
     "output_type": "stream",
     "text": [
      "[\u001b[1mtardis.plasma.standard_plasmas\u001b[0m][\u001b[1;37mINFO\u001b[0m   ]  \n",
      "\t\n",
      "\tReading Atomic Data from kurucz_cd23_chianti_H_He.h5 (\u001b[1mstandard_plasmas.py\u001b[0m:93)\n"
     ]
    },
    {
     "name": "stdout",
     "output_type": "stream",
     "text": [
      "[\u001b[1mtardis.io.atom_data.util\u001b[0m][\u001b[1;37mINFO\u001b[0m   ]  \n",
      "\t\n",
      "\tAtom Data kurucz_cd23_chianti_H_He.h5 not found in local path.\n",
      "\tExists in TARDIS Data repo /home/runner/Downloads/tardis-data/kurucz_cd23_chianti_H_He.h5 (\u001b[1mutil.py\u001b[0m:33)\n"
     ]
    },
    {
     "name": "stdout",
     "output_type": "stream",
     "text": [
      "[\u001b[1mtardis.io.atom_data.base\u001b[0m][\u001b[1;37mINFO\u001b[0m   ]  \n",
      "\tReading Atom Data with: UUID = 6f7b09e887a311e7a06b246e96350010 MD5  = 864f1753714343c41f99cb065710cace  (\u001b[1mbase.py\u001b[0m:249)\n"
     ]
    },
    {
     "name": "stdout",
     "output_type": "stream",
     "text": [
      "[\u001b[1mtardis.io.atom_data.base\u001b[0m][\u001b[1;37mINFO\u001b[0m   ]  \n",
      "\tNon provided Atomic Data: synpp_refs, photoionization_data, yg_data, two_photon_data (\u001b[1mbase.py\u001b[0m:253)\n"
     ]
    },
    {
     "name": "stdout",
     "output_type": "stream",
     "text": [
      "[\u001b[1mtardis.plasma.properties.atomic\u001b[0m][\u001b[1;33mWARNING\u001b[0m]  \n",
      "\tZeta_data missing - replaced with 1s. Missing ions: [] (\u001b[1matomic.py\u001b[0m:649)\n"
     ]
    },
    {
     "name": "stdout",
     "output_type": "stream",
     "text": [
      "[\u001b[1mtardis.plasma.properties.atomic\u001b[0m][\u001b[1;33mWARNING\u001b[0m]  \n",
      "\tZeta_data missing - replaced with 1s. Missing ions: [] (\u001b[1matomic.py\u001b[0m:649)\n"
     ]
    },
    {
     "name": "stdout",
     "output_type": "stream",
     "text": [
      "[\u001b[1mtardis.simulation.base\u001b[0m][\u001b[1;37mINFO\u001b[0m   ]  \n",
      "\t\n",
      "\tStarting iteration 1 of 2 (\u001b[1mbase.py\u001b[0m:378)\n"
     ]
    },
    {
     "data": {
      "application/vnd.jupyter.widget-view+json": {
       "model_id": "334f1bb2a69144a59ef2ef61e191451f",
       "version_major": 2,
       "version_minor": 0
      },
      "text/plain": [
       "TqdmHBox(children=(HTML(value='Iterations:', layout=Layout(width='6%')), FloatProgress(value=0.0, layout=Layou…"
      ]
     },
     "metadata": {},
     "output_type": "display_data"
    },
    {
     "data": {
      "application/vnd.jupyter.widget-view+json": {
       "model_id": "3689e3deab6b4f76ad5f3b68947516fa",
       "version_major": 2,
       "version_minor": 0
      },
      "text/plain": [
       "TqdmHBox(children=(HTML(value='Packets:   ', layout=Layout(width='6%')), FloatProgress(value=0.0, layout=Layou…"
      ]
     },
     "metadata": {},
     "output_type": "display_data"
    },
    {
     "name": "stdout",
     "output_type": "stream",
     "text": [
      "[\u001b[1mtardis.simulation.base\u001b[0m][\u001b[1;37mINFO\u001b[0m   ]  \n",
      "\t\n",
      "\tLuminosity emitted   = 1.992e+41 erg / s\n",
      "\tLuminosity absorbed  = 5.852e+39 erg / s\n",
      "\tLuminosity requested = 5.679e+41 erg / s\n",
      " (\u001b[1mbase.py\u001b[0m:547)\n"
     ]
    },
    {
     "name": "stdout",
     "output_type": "stream",
     "text": [
      "[\u001b[1mtardis.simulation.base\u001b[0m][\u001b[1;37mINFO\u001b[0m   ]  \n",
      "\t\n",
      "\tPlasma stratification: (\u001b[1mbase.py\u001b[0m:515)\n"
     ]
    },
    {
     "data": {
      "text/html": [
       "<style  type=\"text/css\" >\n",
       "</style><table id=\"T_483a4e2c_0690_11ed_adf4_6045bd86dbc7\" ><thead>    <tr>        <th class=\"index_name level0\" >Shell No.</th>        <th class=\"col_heading level0 col0\" >t_rad</th>        <th class=\"col_heading level0 col1\" >next_t_rad</th>        <th class=\"col_heading level0 col2\" >w</th>        <th class=\"col_heading level0 col3\" >next_w</th>    </tr></thead><tbody>\n",
       "                <tr>\n",
       "                        <th id=\"T_483a4e2c_0690_11ed_adf4_6045bd86dbc7level0_row0\" class=\"row_heading level0 row0\" >0</th>\n",
       "                        <td id=\"T_483a4e2c_0690_11ed_adf4_6045bd86dbc7row0_col0\" class=\"data row0 col0\" >5e+03</td>\n",
       "                        <td id=\"T_483a4e2c_0690_11ed_adf4_6045bd86dbc7row0_col1\" class=\"data row0 col1\" >5.01e+03</td>\n",
       "                        <td id=\"T_483a4e2c_0690_11ed_adf4_6045bd86dbc7row0_col2\" class=\"data row0 col2\" >0.39</td>\n",
       "                        <td id=\"T_483a4e2c_0690_11ed_adf4_6045bd86dbc7row0_col3\" class=\"data row0 col3\" >0.4</td>\n",
       "            </tr>\n",
       "            <tr>\n",
       "                        <th id=\"T_483a4e2c_0690_11ed_adf4_6045bd86dbc7level0_row1\" class=\"row_heading level0 row1\" >5</th>\n",
       "                        <td id=\"T_483a4e2c_0690_11ed_adf4_6045bd86dbc7row1_col0\" class=\"data row1 col0\" >4.95e+03</td>\n",
       "                        <td id=\"T_483a4e2c_0690_11ed_adf4_6045bd86dbc7row1_col1\" class=\"data row1 col1\" >4.95e+03</td>\n",
       "                        <td id=\"T_483a4e2c_0690_11ed_adf4_6045bd86dbc7row1_col2\" class=\"data row1 col2\" >0.19</td>\n",
       "                        <td id=\"T_483a4e2c_0690_11ed_adf4_6045bd86dbc7row1_col3\" class=\"data row1 col3\" >0.195</td>\n",
       "            </tr>\n",
       "            <tr>\n",
       "                        <th id=\"T_483a4e2c_0690_11ed_adf4_6045bd86dbc7level0_row2\" class=\"row_heading level0 row2\" >10</th>\n",
       "                        <td id=\"T_483a4e2c_0690_11ed_adf4_6045bd86dbc7row2_col0\" class=\"data row2 col0\" >4.91e+03</td>\n",
       "                        <td id=\"T_483a4e2c_0690_11ed_adf4_6045bd86dbc7row2_col1\" class=\"data row2 col1\" >4.9e+03</td>\n",
       "                        <td id=\"T_483a4e2c_0690_11ed_adf4_6045bd86dbc7row2_col2\" class=\"data row2 col2\" >0.123</td>\n",
       "                        <td id=\"T_483a4e2c_0690_11ed_adf4_6045bd86dbc7row2_col3\" class=\"data row2 col3\" >0.127</td>\n",
       "            </tr>\n",
       "            <tr>\n",
       "                        <th id=\"T_483a4e2c_0690_11ed_adf4_6045bd86dbc7level0_row3\" class=\"row_heading level0 row3\" >15</th>\n",
       "                        <td id=\"T_483a4e2c_0690_11ed_adf4_6045bd86dbc7row3_col0\" class=\"data row3 col0\" >4.87e+03</td>\n",
       "                        <td id=\"T_483a4e2c_0690_11ed_adf4_6045bd86dbc7row3_col1\" class=\"data row3 col1\" >4.86e+03</td>\n",
       "                        <td id=\"T_483a4e2c_0690_11ed_adf4_6045bd86dbc7row3_col2\" class=\"data row3 col2\" >0.0869</td>\n",
       "                        <td id=\"T_483a4e2c_0690_11ed_adf4_6045bd86dbc7row3_col3\" class=\"data row3 col3\" >0.0907</td>\n",
       "            </tr>\n",
       "    </tbody></table>"
      ],
      "text/plain": [
       "<pandas.io.formats.style.Styler at 0x7fab55fcf100>"
      ]
     },
     "metadata": {},
     "output_type": "display_data"
    },
    {
     "name": "stdout",
     "output_type": "stream",
     "text": [
      "[\u001b[1mtardis.simulation.base\u001b[0m][\u001b[1;37mINFO\u001b[0m   ]  \n",
      "\t\n",
      "\tCurrent t_inner = 5000.000 K\n",
      "\tExpected t_inner for next iteration = 6721.214 K\n",
      " (\u001b[1mbase.py\u001b[0m:542)\n"
     ]
    },
    {
     "name": "stdout",
     "output_type": "stream",
     "text": [
      "[\u001b[1mtardis.simulation.base\u001b[0m][\u001b[1;37mINFO\u001b[0m   ]  \n",
      "\t\n",
      "\tStarting iteration 2 of 2 (\u001b[1mbase.py\u001b[0m:378)\n"
     ]
    },
    {
     "name": "stdout",
     "output_type": "stream",
     "text": [
      "[\u001b[1mtardis.simulation.base\u001b[0m][\u001b[1;37mINFO\u001b[0m   ]  \n",
      "\t\n",
      "\tLuminosity emitted   = 7.255e+41 erg / s\n",
      "\tLuminosity absorbed  = 2.204e+40 erg / s\n",
      "\tLuminosity requested = 5.679e+41 erg / s\n",
      " (\u001b[1mbase.py\u001b[0m:547)\n"
     ]
    },
    {
     "name": "stdout",
     "output_type": "stream",
     "text": [
      "[\u001b[1mtardis.simulation.base\u001b[0m][\u001b[1;37mINFO\u001b[0m   ]  \n",
      "\t\n",
      "\tSimulation finished in 2 iterations \n",
      "\tSimulation took 23.84 s\n",
      " (\u001b[1mbase.py\u001b[0m:468)\n"
     ]
    }
   ],
   "source": [
    "# We download the atomic data needed to run a TARDIS simulation\n",
    "download_atom_data('kurucz_cd23_chianti_H_He')\n",
    "\n",
    "# Users can easily run a full TARDIS simulation\n",
    "# using the grid.\n",
    "sim = tg.run_sim_from_grid(row_index=0)"
   ]
  }
 ],
 "metadata": {
  "kernelspec": {
   "display_name": "Python 3",
   "language": "python",
   "name": "python3"
  },
  "language_info": {
   "codemirror_mode": {
    "name": "ipython",
    "version": 3
   },
   "file_extension": ".py",
   "mimetype": "text/x-python",
   "name": "python",
   "nbconvert_exporter": "python",
   "pygments_lexer": "ipython3",
   "version": "3.8.13"
  },
  "widgets": {
   "application/vnd.jupyter.widget-state+json": {
    "state": {
     "0435860681574e158e62d7999c7e284c": {
      "model_module": "@jupyter-widgets/controls",
      "model_module_version": "1.5.0",
      "model_name": "HBoxModel",
      "state": {
       "_dom_classes": [],
       "_model_module": "@jupyter-widgets/controls",
       "_model_module_version": "1.5.0",
       "_model_name": "HBoxModel",
       "_view_count": null,
       "_view_module": "@jupyter-widgets/controls",
       "_view_module_version": "1.5.0",
       "_view_name": "HBoxView",
       "box_style": "",
       "children": [
        "IPY_MODEL_1af0f166286b4597a105d6f848912609",
        "IPY_MODEL_87ba9752dedc4bca99a2ad204bae0769",
        "IPY_MODEL_56f49329554a4fadbb1333dd6ce59591"
       ],
       "layout": "IPY_MODEL_d2e73167109d4aa5a9f37a78f2eeb231"
      }
     },
     "07250aeab23849e18681cbce8cdcf061": {
      "model_module": "@jupyter-widgets/base",
      "model_module_version": "1.2.0",
      "model_name": "LayoutModel",
      "state": {
       "_model_module": "@jupyter-widgets/base",
       "_model_module_version": "1.2.0",
       "_model_name": "LayoutModel",
       "_view_count": null,
       "_view_module": "@jupyter-widgets/base",
       "_view_module_version": "1.2.0",
       "_view_name": "LayoutView",
       "align_content": null,
       "align_items": null,
       "align_self": null,
       "border": null,
       "bottom": null,
       "display": null,
       "flex": null,
       "flex_flow": null,
       "grid_area": null,
       "grid_auto_columns": null,
       "grid_auto_flow": null,
       "grid_auto_rows": null,
       "grid_column": null,
       "grid_gap": null,
       "grid_row": null,
       "grid_template_areas": null,
       "grid_template_columns": null,
       "grid_template_rows": null,
       "height": null,
       "justify_content": null,
       "justify_items": null,
       "left": null,
       "margin": null,
       "max_height": null,
       "max_width": null,
       "min_height": null,
       "min_width": null,
       "object_fit": null,
       "object_position": null,
       "order": null,
       "overflow": null,
       "overflow_x": null,
       "overflow_y": null,
       "padding": null,
       "right": null,
       "top": null,
       "visibility": null,
       "width": "60%"
      }
     },
     "15f898887dc14ed3977c0ed767c9599c": {
      "model_module": "@jupyter-widgets/base",
      "model_module_version": "1.2.0",
      "model_name": "LayoutModel",
      "state": {
       "_model_module": "@jupyter-widgets/base",
       "_model_module_version": "1.2.0",
       "_model_name": "LayoutModel",
       "_view_count": null,
       "_view_module": "@jupyter-widgets/base",
       "_view_module_version": "1.2.0",
       "_view_name": "LayoutView",
       "align_content": null,
       "align_items": null,
       "align_self": null,
       "border": null,
       "bottom": null,
       "display": null,
       "flex": null,
       "flex_flow": null,
       "grid_area": null,
       "grid_auto_columns": null,
       "grid_auto_flow": null,
       "grid_auto_rows": null,
       "grid_column": null,
       "grid_gap": null,
       "grid_row": null,
       "grid_template_areas": null,
       "grid_template_columns": null,
       "grid_template_rows": null,
       "height": null,
       "justify_content": null,
       "justify_items": null,
       "left": null,
       "margin": null,
       "max_height": null,
       "max_width": null,
       "min_height": null,
       "min_width": null,
       "object_fit": null,
       "object_position": null,
       "order": null,
       "overflow": null,
       "overflow_x": null,
       "overflow_y": null,
       "padding": null,
       "right": null,
       "top": null,
       "visibility": null,
       "width": null
      }
     },
     "1a573d653f624cd58859eb6d4c3250e8": {
      "model_module": "@jupyter-widgets/controls",
      "model_module_version": "1.5.0",
      "model_name": "HTMLModel",
      "state": {
       "_dom_classes": [],
       "_model_module": "@jupyter-widgets/controls",
       "_model_module_version": "1.5.0",
       "_model_name": "HTMLModel",
       "_view_count": null,
       "_view_module": "@jupyter-widgets/controls",
       "_view_module_version": "1.5.0",
       "_view_name": "HTMLView",
       "description": "",
       "description_tooltip": null,
       "layout": "IPY_MODEL_ac8b8437a6c142b588d564e4c2e2859d",
       "placeholder": "​",
       "style": "IPY_MODEL_b86fbbafbb4c4c71a35da452854dff02",
       "value": "0/1000 [00:00&lt;?, ?it/s]"
      }
     },
     "1af0f166286b4597a105d6f848912609": {
      "model_module": "@jupyter-widgets/controls",
      "model_module_version": "1.5.0",
      "model_name": "HTMLModel",
      "state": {
       "_dom_classes": [],
       "_model_module": "@jupyter-widgets/controls",
       "_model_module_version": "1.5.0",
       "_model_name": "HTMLModel",
       "_view_count": null,
       "_view_module": "@jupyter-widgets/controls",
       "_view_module_version": "1.5.0",
       "_view_name": "HTMLView",
       "description": "",
       "description_tooltip": null,
       "layout": "IPY_MODEL_cad1f9f453454c99914a8d752afb32c6",
       "placeholder": "​",
       "style": "IPY_MODEL_79462f949ded454aaefc1753dfa73c2c",
       "value": "Iterations:"
      }
     },
     "1c85cf24f700425e983176845992125d": {
      "model_module": "@jupyter-widgets/controls",
      "model_module_version": "1.5.0",
      "model_name": "DescriptionStyleModel",
      "state": {
       "_model_module": "@jupyter-widgets/controls",
       "_model_module_version": "1.5.0",
       "_model_name": "DescriptionStyleModel",
       "_view_count": null,
       "_view_module": "@jupyter-widgets/base",
       "_view_module_version": "1.2.0",
       "_view_name": "StyleView",
       "description_width": ""
      }
     },
     "1e199f3094ea40cb900470227ded4b3a": {
      "model_module": "@jupyter-widgets/output",
      "model_module_version": "1.0.0",
      "model_name": "OutputModel",
      "state": {
       "_dom_classes": [],
       "_model_module": "@jupyter-widgets/output",
       "_model_module_version": "1.0.0",
       "_model_name": "OutputModel",
       "_view_count": null,
       "_view_module": "@jupyter-widgets/output",
       "_view_module_version": "1.0.0",
       "_view_name": "OutputView",
       "layout": "IPY_MODEL_ef148560c4014f958b23f1cd57533606",
       "msg_id": "",
       "outputs": []
      }
     },
     "30b04194f9f64b04a7be7b3c27c64de2": {
      "model_module": "@jupyter-widgets/controls",
      "model_module_version": "1.5.0",
      "model_name": "FloatProgressModel",
      "state": {
       "_dom_classes": [],
       "_model_module": "@jupyter-widgets/controls",
       "_model_module_version": "1.5.0",
       "_model_name": "FloatProgressModel",
       "_view_count": null,
       "_view_module": "@jupyter-widgets/controls",
       "_view_module_version": "1.5.0",
       "_view_name": "ProgressView",
       "bar_style": "info",
       "description": "",
       "description_tooltip": null,
       "layout": "IPY_MODEL_5607d0dc77ef49aaaf02b1ff35ad4fd5",
       "max": 1.0,
       "min": 0.0,
       "orientation": "horizontal",
       "style": "IPY_MODEL_66659d80c0e44e09a1df1dc775c3ac44",
       "value": 0.0
      }
     },
     "329385a78b0b4bdcb343cdb7d4dadaa7": {
      "model_module": "@jupyter-widgets/base",
      "model_module_version": "1.2.0",
      "model_name": "LayoutModel",
      "state": {
       "_model_module": "@jupyter-widgets/base",
       "_model_module_version": "1.2.0",
       "_model_name": "LayoutModel",
       "_view_count": null,
       "_view_module": "@jupyter-widgets/base",
       "_view_module_version": "1.2.0",
       "_view_name": "LayoutView",
       "align_content": null,
       "align_items": null,
       "align_self": null,
       "border": null,
       "bottom": null,
       "display": null,
       "flex": null,
       "flex_flow": null,
       "grid_area": null,
       "grid_auto_columns": null,
       "grid_auto_flow": null,
       "grid_auto_rows": null,
       "grid_column": null,
       "grid_gap": null,
       "grid_row": null,
       "grid_template_areas": null,
       "grid_template_columns": null,
       "grid_template_rows": null,
       "height": null,
       "justify_content": null,
       "justify_items": null,
       "left": null,
       "margin": null,
       "max_height": null,
       "max_width": null,
       "min_height": null,
       "min_width": null,
       "object_fit": null,
       "object_position": null,
       "order": null,
       "overflow": null,
       "overflow_x": null,
       "overflow_y": null,
       "padding": null,
       "right": null,
       "top": null,
       "visibility": null,
       "width": null
      }
     },
     "334f1bb2a69144a59ef2ef61e191451f": {
      "model_module": "@jupyter-widgets/controls",
      "model_module_version": "1.5.0",
      "model_name": "HBoxModel",
      "state": {
       "_dom_classes": [],
       "_model_module": "@jupyter-widgets/controls",
       "_model_module_version": "1.5.0",
       "_model_name": "HBoxModel",
       "_view_count": null,
       "_view_module": "@jupyter-widgets/controls",
       "_view_module_version": "1.5.0",
       "_view_name": "HBoxView",
       "box_style": "",
       "children": [
        "IPY_MODEL_d960b3eb8b2147f39c999e95c1c42b93",
        "IPY_MODEL_f28977c493fe4af683736bfce4f6f669",
        "IPY_MODEL_a11dfc624ffe431cb794554b49755a7e"
       ],
       "layout": "IPY_MODEL_e164c9bac60c453ca25deb349fe2d435"
      }
     },
     "366ba00a566c48bdb3684c6ac9c4e0ca": {
      "model_module": "@jupyter-widgets/base",
      "model_module_version": "1.2.0",
      "model_name": "LayoutModel",
      "state": {
       "_model_module": "@jupyter-widgets/base",
       "_model_module_version": "1.2.0",
       "_model_name": "LayoutModel",
       "_view_count": null,
       "_view_module": "@jupyter-widgets/base",
       "_view_module_version": "1.2.0",
       "_view_name": "LayoutView",
       "align_content": null,
       "align_items": null,
       "align_self": null,
       "border": null,
       "bottom": null,
       "display": null,
       "flex": null,
       "flex_flow": null,
       "grid_area": null,
       "grid_auto_columns": null,
       "grid_auto_flow": null,
       "grid_auto_rows": null,
       "grid_column": null,
       "grid_gap": null,
       "grid_row": null,
       "grid_template_areas": null,
       "grid_template_columns": null,
       "grid_template_rows": null,
       "height": null,
       "justify_content": null,
       "justify_items": null,
       "left": null,
       "margin": null,
       "max_height": null,
       "max_width": null,
       "min_height": null,
       "min_width": null,
       "object_fit": null,
       "object_position": null,
       "order": null,
       "overflow": null,
       "overflow_x": null,
       "overflow_y": null,
       "padding": null,
       "right": null,
       "top": null,
       "visibility": null,
       "width": null
      }
     },
     "3689e3deab6b4f76ad5f3b68947516fa": {
      "model_module": "@jupyter-widgets/controls",
      "model_module_version": "1.5.0",
      "model_name": "HBoxModel",
      "state": {
       "_dom_classes": [],
       "_model_module": "@jupyter-widgets/controls",
       "_model_module_version": "1.5.0",
       "_model_name": "HBoxModel",
       "_view_count": null,
       "_view_module": "@jupyter-widgets/controls",
       "_view_module_version": "1.5.0",
       "_view_name": "HBoxView",
       "box_style": "",
       "children": [
        "IPY_MODEL_7239c5033428481f80a34e86a47881aa",
        "IPY_MODEL_f0dc83c3cf084da29a379835b318e63e",
        "IPY_MODEL_1a573d653f624cd58859eb6d4c3250e8"
       ],
       "layout": "IPY_MODEL_8463da7c9bc14521a81cf86c01b24b62"
      }
     },
     "47937a3b0f49460f83a054b46c258b98": {
      "model_module": "@jupyter-widgets/base",
      "model_module_version": "1.2.0",
      "model_name": "LayoutModel",
      "state": {
       "_model_module": "@jupyter-widgets/base",
       "_model_module_version": "1.2.0",
       "_model_name": "LayoutModel",
       "_view_count": null,
       "_view_module": "@jupyter-widgets/base",
       "_view_module_version": "1.2.0",
       "_view_name": "LayoutView",
       "align_content": null,
       "align_items": null,
       "align_self": null,
       "border": null,
       "bottom": null,
       "display": null,
       "flex": null,
       "flex_flow": null,
       "grid_area": null,
       "grid_auto_columns": null,
       "grid_auto_flow": null,
       "grid_auto_rows": null,
       "grid_column": null,
       "grid_gap": null,
       "grid_row": null,
       "grid_template_areas": null,
       "grid_template_columns": null,
       "grid_template_rows": null,
       "height": null,
       "justify_content": null,
       "justify_items": null,
       "left": null,
       "margin": null,
       "max_height": null,
       "max_width": null,
       "min_height": null,
       "min_width": null,
       "object_fit": null,
       "object_position": null,
       "order": null,
       "overflow": null,
       "overflow_x": null,
       "overflow_y": null,
       "padding": null,
       "right": null,
       "top": null,
       "visibility": null,
       "width": "20px"
      }
     },
     "4c5876b8af68453493da6f008524a6d7": {
      "model_module": "@jupyter-widgets/controls",
      "model_module_version": "1.5.0",
      "model_name": "HBoxModel",
      "state": {
       "_dom_classes": [],
       "_model_module": "@jupyter-widgets/controls",
       "_model_module_version": "1.5.0",
       "_model_name": "HBoxModel",
       "_view_count": null,
       "_view_module": "@jupyter-widgets/controls",
       "_view_module_version": "1.5.0",
       "_view_name": "HBoxView",
       "box_style": "",
       "children": [
        "IPY_MODEL_deb98150a4af4770a32c8ac26a155fa7",
        "IPY_MODEL_30b04194f9f64b04a7be7b3c27c64de2",
        "IPY_MODEL_55409fd5bea94033a8126fffc30620a4"
       ],
       "layout": "IPY_MODEL_15f898887dc14ed3977c0ed767c9599c"
      }
     },
     "5342ac4c895f40fda4a95be195e385e4": {
      "model_module": "@jupyter-widgets/base",
      "model_module_version": "1.2.0",
      "model_name": "LayoutModel",
      "state": {
       "_model_module": "@jupyter-widgets/base",
       "_model_module_version": "1.2.0",
       "_model_name": "LayoutModel",
       "_view_count": null,
       "_view_module": "@jupyter-widgets/base",
       "_view_module_version": "1.2.0",
       "_view_name": "LayoutView",
       "align_content": null,
       "align_items": null,
       "align_self": null,
       "border": null,
       "bottom": null,
       "display": null,
       "flex": null,
       "flex_flow": null,
       "grid_area": null,
       "grid_auto_columns": null,
       "grid_auto_flow": null,
       "grid_auto_rows": null,
       "grid_column": null,
       "grid_gap": null,
       "grid_row": null,
       "grid_template_areas": null,
       "grid_template_columns": null,
       "grid_template_rows": null,
       "height": null,
       "justify_content": null,
       "justify_items": null,
       "left": null,
       "margin": null,
       "max_height": null,
       "max_width": null,
       "min_height": null,
       "min_width": null,
       "object_fit": null,
       "object_position": null,
       "order": null,
       "overflow": null,
       "overflow_x": null,
       "overflow_y": null,
       "padding": null,
       "right": null,
       "top": null,
       "visibility": null,
       "width": null
      }
     },
     "55409fd5bea94033a8126fffc30620a4": {
      "model_module": "@jupyter-widgets/controls",
      "model_module_version": "1.5.0",
      "model_name": "HTMLModel",
      "state": {
       "_dom_classes": [],
       "_model_module": "@jupyter-widgets/controls",
       "_model_module_version": "1.5.0",
       "_model_name": "HTMLModel",
       "_view_count": null,
       "_view_module": "@jupyter-widgets/controls",
       "_view_module_version": "1.5.0",
       "_view_name": "HTMLView",
       "description": "",
       "description_tooltip": null,
       "layout": "IPY_MODEL_366ba00a566c48bdb3684c6ac9c4e0ca",
       "placeholder": "​",
       "style": "IPY_MODEL_1c85cf24f700425e983176845992125d",
       "value": "0/? [00:00&lt;?, ?it/s]"
      }
     },
     "5607d0dc77ef49aaaf02b1ff35ad4fd5": {
      "model_module": "@jupyter-widgets/base",
      "model_module_version": "1.2.0",
      "model_name": "LayoutModel",
      "state": {
       "_model_module": "@jupyter-widgets/base",
       "_model_module_version": "1.2.0",
       "_model_name": "LayoutModel",
       "_view_count": null,
       "_view_module": "@jupyter-widgets/base",
       "_view_module_version": "1.2.0",
       "_view_name": "LayoutView",
       "align_content": null,
       "align_items": null,
       "align_self": null,
       "border": null,
       "bottom": null,
       "display": null,
       "flex": null,
       "flex_flow": null,
       "grid_area": null,
       "grid_auto_columns": null,
       "grid_auto_flow": null,
       "grid_auto_rows": null,
       "grid_column": null,
       "grid_gap": null,
       "grid_row": null,
       "grid_template_areas": null,
       "grid_template_columns": null,
       "grid_template_rows": null,
       "height": null,
       "justify_content": null,
       "justify_items": null,
       "left": null,
       "margin": null,
       "max_height": null,
       "max_width": null,
       "min_height": null,
       "min_width": null,
       "object_fit": null,
       "object_position": null,
       "order": null,
       "overflow": null,
       "overflow_x": null,
       "overflow_y": null,
       "padding": null,
       "right": null,
       "top": null,
       "visibility": null,
       "width": "20px"
      }
     },
     "56f49329554a4fadbb1333dd6ce59591": {
      "model_module": "@jupyter-widgets/controls",
      "model_module_version": "1.5.0",
      "model_name": "HTMLModel",
      "state": {
       "_dom_classes": [],
       "_model_module": "@jupyter-widgets/controls",
       "_model_module_version": "1.5.0",
       "_model_name": "HTMLModel",
       "_view_count": null,
       "_view_module": "@jupyter-widgets/controls",
       "_view_module_version": "1.5.0",
       "_view_name": "HTMLView",
       "description": "",
       "description_tooltip": null,
       "layout": "IPY_MODEL_c7084583592040efa3c9cf70f429fa0e",
       "placeholder": "​",
       "style": "IPY_MODEL_b76dd48dea3d468a8dc71e4698c3063c",
       "value": "0/? [00:00&lt;?, ?it/s]"
      }
     },
     "5867fb65d773418fb55469700d37cd47": {
      "model_module": "@jupyter-widgets/controls",
      "model_module_version": "1.5.0",
      "model_name": "ProgressStyleModel",
      "state": {
       "_model_module": "@jupyter-widgets/controls",
       "_model_module_version": "1.5.0",
       "_model_name": "ProgressStyleModel",
       "_view_count": null,
       "_view_module": "@jupyter-widgets/base",
       "_view_module_version": "1.2.0",
       "_view_name": "StyleView",
       "bar_color": null,
       "description_width": ""
      }
     },
     "596265a7fb5d4330a368bbd1d104e9a5": {
      "model_module": "@jupyter-widgets/output",
      "model_module_version": "1.0.0",
      "model_name": "OutputModel",
      "state": {
       "_dom_classes": [],
       "_model_module": "@jupyter-widgets/output",
       "_model_module_version": "1.0.0",
       "_model_name": "OutputModel",
       "_view_count": null,
       "_view_module": "@jupyter-widgets/output",
       "_view_module_version": "1.0.0",
       "_view_name": "OutputView",
       "layout": "IPY_MODEL_ca51d29c0df04925a12885ec8a09369f",
       "msg_id": "",
       "outputs": []
      }
     },
     "5ca3b5234817405eb6c2c6ab92633da2": {
      "model_module": "@jupyter-widgets/controls",
      "model_module_version": "1.5.0",
      "model_name": "ProgressStyleModel",
      "state": {
       "_model_module": "@jupyter-widgets/controls",
       "_model_module_version": "1.5.0",
       "_model_name": "ProgressStyleModel",
       "_view_count": null,
       "_view_module": "@jupyter-widgets/base",
       "_view_module_version": "1.2.0",
       "_view_name": "StyleView",
       "bar_color": null,
       "description_width": ""
      }
     },
     "66659d80c0e44e09a1df1dc775c3ac44": {
      "model_module": "@jupyter-widgets/controls",
      "model_module_version": "1.5.0",
      "model_name": "ProgressStyleModel",
      "state": {
       "_model_module": "@jupyter-widgets/controls",
       "_model_module_version": "1.5.0",
       "_model_name": "ProgressStyleModel",
       "_view_count": null,
       "_view_module": "@jupyter-widgets/base",
       "_view_module_version": "1.2.0",
       "_view_name": "StyleView",
       "bar_color": null,
       "description_width": ""
      }
     },
     "7239c5033428481f80a34e86a47881aa": {
      "model_module": "@jupyter-widgets/controls",
      "model_module_version": "1.5.0",
      "model_name": "HTMLModel",
      "state": {
       "_dom_classes": [],
       "_model_module": "@jupyter-widgets/controls",
       "_model_module_version": "1.5.0",
       "_model_name": "HTMLModel",
       "_view_count": null,
       "_view_module": "@jupyter-widgets/controls",
       "_view_module_version": "1.5.0",
       "_view_name": "HTMLView",
       "description": "",
       "description_tooltip": null,
       "layout": "IPY_MODEL_ca8880cf7e2b4a26a02f4b4628c6d27a",
       "placeholder": "​",
       "style": "IPY_MODEL_77c47829faa6463fb0849990714104d3",
       "value": "Packets:   "
      }
     },
     "73503e0f0130448b9728df2a21443fff": {
      "model_module": "@jupyter-widgets/controls",
      "model_module_version": "1.5.0",
      "model_name": "ProgressStyleModel",
      "state": {
       "_model_module": "@jupyter-widgets/controls",
       "_model_module_version": "1.5.0",
       "_model_name": "ProgressStyleModel",
       "_view_count": null,
       "_view_module": "@jupyter-widgets/base",
       "_view_module_version": "1.2.0",
       "_view_name": "StyleView",
       "bar_color": null,
       "description_width": ""
      }
     },
     "77c47829faa6463fb0849990714104d3": {
      "model_module": "@jupyter-widgets/controls",
      "model_module_version": "1.5.0",
      "model_name": "DescriptionStyleModel",
      "state": {
       "_model_module": "@jupyter-widgets/controls",
       "_model_module_version": "1.5.0",
       "_model_name": "DescriptionStyleModel",
       "_view_count": null,
       "_view_module": "@jupyter-widgets/base",
       "_view_module_version": "1.2.0",
       "_view_name": "StyleView",
       "description_width": ""
      }
     },
     "79462f949ded454aaefc1753dfa73c2c": {
      "model_module": "@jupyter-widgets/controls",
      "model_module_version": "1.5.0",
      "model_name": "DescriptionStyleModel",
      "state": {
       "_model_module": "@jupyter-widgets/controls",
       "_model_module_version": "1.5.0",
       "_model_name": "DescriptionStyleModel",
       "_view_count": null,
       "_view_module": "@jupyter-widgets/base",
       "_view_module_version": "1.2.0",
       "_view_name": "StyleView",
       "description_width": ""
      }
     },
     "8463da7c9bc14521a81cf86c01b24b62": {
      "model_module": "@jupyter-widgets/base",
      "model_module_version": "1.2.0",
      "model_name": "LayoutModel",
      "state": {
       "_model_module": "@jupyter-widgets/base",
       "_model_module_version": "1.2.0",
       "_model_name": "LayoutModel",
       "_view_count": null,
       "_view_module": "@jupyter-widgets/base",
       "_view_module_version": "1.2.0",
       "_view_name": "LayoutView",
       "align_content": null,
       "align_items": null,
       "align_self": null,
       "border": null,
       "bottom": null,
       "display": null,
       "flex": null,
       "flex_flow": null,
       "grid_area": null,
       "grid_auto_columns": null,
       "grid_auto_flow": null,
       "grid_auto_rows": null,
       "grid_column": null,
       "grid_gap": null,
       "grid_row": null,
       "grid_template_areas": null,
       "grid_template_columns": null,
       "grid_template_rows": null,
       "height": null,
       "justify_content": null,
       "justify_items": null,
       "left": null,
       "margin": null,
       "max_height": null,
       "max_width": null,
       "min_height": null,
       "min_width": null,
       "object_fit": null,
       "object_position": null,
       "order": null,
       "overflow": null,
       "overflow_x": null,
       "overflow_y": null,
       "padding": null,
       "right": null,
       "top": null,
       "visibility": null,
       "width": null
      }
     },
     "87ba9752dedc4bca99a2ad204bae0769": {
      "model_module": "@jupyter-widgets/controls",
      "model_module_version": "1.5.0",
      "model_name": "FloatProgressModel",
      "state": {
       "_dom_classes": [],
       "_model_module": "@jupyter-widgets/controls",
       "_model_module_version": "1.5.0",
       "_model_name": "FloatProgressModel",
       "_view_count": null,
       "_view_module": "@jupyter-widgets/controls",
       "_view_module_version": "1.5.0",
       "_view_name": "ProgressView",
       "bar_style": "info",
       "description": "",
       "description_tooltip": null,
       "layout": "IPY_MODEL_47937a3b0f49460f83a054b46c258b98",
       "max": 1.0,
       "min": 0.0,
       "orientation": "horizontal",
       "style": "IPY_MODEL_73503e0f0130448b9728df2a21443fff",
       "value": 0.0
      }
     },
     "9e22c83615e44638a28f4637820011ec": {
      "model_module": "@jupyter-widgets/base",
      "model_module_version": "1.2.0",
      "model_name": "LayoutModel",
      "state": {
       "_model_module": "@jupyter-widgets/base",
       "_model_module_version": "1.2.0",
       "_model_name": "LayoutModel",
       "_view_count": null,
       "_view_module": "@jupyter-widgets/base",
       "_view_module_version": "1.2.0",
       "_view_name": "LayoutView",
       "align_content": null,
       "align_items": null,
       "align_self": null,
       "border": null,
       "bottom": null,
       "display": null,
       "flex": null,
       "flex_flow": null,
       "grid_area": null,
       "grid_auto_columns": null,
       "grid_auto_flow": null,
       "grid_auto_rows": null,
       "grid_column": null,
       "grid_gap": null,
       "grid_row": null,
       "grid_template_areas": null,
       "grid_template_columns": null,
       "grid_template_rows": null,
       "height": null,
       "justify_content": null,
       "justify_items": null,
       "left": null,
       "margin": null,
       "max_height": null,
       "max_width": null,
       "min_height": null,
       "min_width": null,
       "object_fit": null,
       "object_position": null,
       "order": null,
       "overflow": null,
       "overflow_x": null,
       "overflow_y": null,
       "padding": null,
       "right": null,
       "top": null,
       "visibility": null,
       "width": "6%"
      }
     },
     "a11dfc624ffe431cb794554b49755a7e": {
      "model_module": "@jupyter-widgets/controls",
      "model_module_version": "1.5.0",
      "model_name": "HTMLModel",
      "state": {
       "_dom_classes": [],
       "_model_module": "@jupyter-widgets/controls",
       "_model_module_version": "1.5.0",
       "_model_name": "HTMLModel",
       "_view_count": null,
       "_view_module": "@jupyter-widgets/controls",
       "_view_module_version": "1.5.0",
       "_view_name": "HTMLView",
       "description": "",
       "description_tooltip": null,
       "layout": "IPY_MODEL_329385a78b0b4bdcb343cdb7d4dadaa7",
       "placeholder": "​",
       "style": "IPY_MODEL_b75e1a371d524382b5b76614089046cc",
       "value": "2/2 [00:00&lt;00:00,  4.04it/s]"
      }
     },
     "ac8b8437a6c142b588d564e4c2e2859d": {
      "model_module": "@jupyter-widgets/base",
      "model_module_version": "1.2.0",
      "model_name": "LayoutModel",
      "state": {
       "_model_module": "@jupyter-widgets/base",
       "_model_module_version": "1.2.0",
       "_model_name": "LayoutModel",
       "_view_count": null,
       "_view_module": "@jupyter-widgets/base",
       "_view_module_version": "1.2.0",
       "_view_name": "LayoutView",
       "align_content": null,
       "align_items": null,
       "align_self": null,
       "border": null,
       "bottom": null,
       "display": null,
       "flex": null,
       "flex_flow": null,
       "grid_area": null,
       "grid_auto_columns": null,
       "grid_auto_flow": null,
       "grid_auto_rows": null,
       "grid_column": null,
       "grid_gap": null,
       "grid_row": null,
       "grid_template_areas": null,
       "grid_template_columns": null,
       "grid_template_rows": null,
       "height": null,
       "justify_content": null,
       "justify_items": null,
       "left": null,
       "margin": null,
       "max_height": null,
       "max_width": null,
       "min_height": null,
       "min_width": null,
       "object_fit": null,
       "object_position": null,
       "order": null,
       "overflow": null,
       "overflow_x": null,
       "overflow_y": null,
       "padding": null,
       "right": null,
       "top": null,
       "visibility": null,
       "width": null
      }
     },
     "b75e1a371d524382b5b76614089046cc": {
      "model_module": "@jupyter-widgets/controls",
      "model_module_version": "1.5.0",
      "model_name": "DescriptionStyleModel",
      "state": {
       "_model_module": "@jupyter-widgets/controls",
       "_model_module_version": "1.5.0",
       "_model_name": "DescriptionStyleModel",
       "_view_count": null,
       "_view_module": "@jupyter-widgets/base",
       "_view_module_version": "1.2.0",
       "_view_name": "StyleView",
       "description_width": ""
      }
     },
     "b76dd48dea3d468a8dc71e4698c3063c": {
      "model_module": "@jupyter-widgets/controls",
      "model_module_version": "1.5.0",
      "model_name": "DescriptionStyleModel",
      "state": {
       "_model_module": "@jupyter-widgets/controls",
       "_model_module_version": "1.5.0",
       "_model_name": "DescriptionStyleModel",
       "_view_count": null,
       "_view_module": "@jupyter-widgets/base",
       "_view_module_version": "1.2.0",
       "_view_name": "StyleView",
       "description_width": ""
      }
     },
     "b86fbbafbb4c4c71a35da452854dff02": {
      "model_module": "@jupyter-widgets/controls",
      "model_module_version": "1.5.0",
      "model_name": "DescriptionStyleModel",
      "state": {
       "_model_module": "@jupyter-widgets/controls",
       "_model_module_version": "1.5.0",
       "_model_name": "DescriptionStyleModel",
       "_view_count": null,
       "_view_module": "@jupyter-widgets/base",
       "_view_module_version": "1.2.0",
       "_view_name": "StyleView",
       "description_width": ""
      }
     },
     "c7084583592040efa3c9cf70f429fa0e": {
      "model_module": "@jupyter-widgets/base",
      "model_module_version": "1.2.0",
      "model_name": "LayoutModel",
      "state": {
       "_model_module": "@jupyter-widgets/base",
       "_model_module_version": "1.2.0",
       "_model_name": "LayoutModel",
       "_view_count": null,
       "_view_module": "@jupyter-widgets/base",
       "_view_module_version": "1.2.0",
       "_view_name": "LayoutView",
       "align_content": null,
       "align_items": null,
       "align_self": null,
       "border": null,
       "bottom": null,
       "display": null,
       "flex": null,
       "flex_flow": null,
       "grid_area": null,
       "grid_auto_columns": null,
       "grid_auto_flow": null,
       "grid_auto_rows": null,
       "grid_column": null,
       "grid_gap": null,
       "grid_row": null,
       "grid_template_areas": null,
       "grid_template_columns": null,
       "grid_template_rows": null,
       "height": null,
       "justify_content": null,
       "justify_items": null,
       "left": null,
       "margin": null,
       "max_height": null,
       "max_width": null,
       "min_height": null,
       "min_width": null,
       "object_fit": null,
       "object_position": null,
       "order": null,
       "overflow": null,
       "overflow_x": null,
       "overflow_y": null,
       "padding": null,
       "right": null,
       "top": null,
       "visibility": null,
       "width": null
      }
     },
     "ca51d29c0df04925a12885ec8a09369f": {
      "model_module": "@jupyter-widgets/base",
      "model_module_version": "1.2.0",
      "model_name": "LayoutModel",
      "state": {
       "_model_module": "@jupyter-widgets/base",
       "_model_module_version": "1.2.0",
       "_model_name": "LayoutModel",
       "_view_count": null,
       "_view_module": "@jupyter-widgets/base",
       "_view_module_version": "1.2.0",
       "_view_name": "LayoutView",
       "align_content": null,
       "align_items": null,
       "align_self": null,
       "border": null,
       "bottom": null,
       "display": null,
       "flex": null,
       "flex_flow": null,
       "grid_area": null,
       "grid_auto_columns": null,
       "grid_auto_flow": null,
       "grid_auto_rows": null,
       "grid_column": null,
       "grid_gap": null,
       "grid_row": null,
       "grid_template_areas": null,
       "grid_template_columns": null,
       "grid_template_rows": null,
       "height": null,
       "justify_content": null,
       "justify_items": null,
       "left": null,
       "margin": null,
       "max_height": null,
       "max_width": null,
       "min_height": null,
       "min_width": null,
       "object_fit": null,
       "object_position": null,
       "order": null,
       "overflow": null,
       "overflow_x": null,
       "overflow_y": null,
       "padding": null,
       "right": null,
       "top": null,
       "visibility": null,
       "width": null
      }
     },
     "ca8880cf7e2b4a26a02f4b4628c6d27a": {
      "model_module": "@jupyter-widgets/base",
      "model_module_version": "1.2.0",
      "model_name": "LayoutModel",
      "state": {
       "_model_module": "@jupyter-widgets/base",
       "_model_module_version": "1.2.0",
       "_model_name": "LayoutModel",
       "_view_count": null,
       "_view_module": "@jupyter-widgets/base",
       "_view_module_version": "1.2.0",
       "_view_name": "LayoutView",
       "align_content": null,
       "align_items": null,
       "align_self": null,
       "border": null,
       "bottom": null,
       "display": null,
       "flex": null,
       "flex_flow": null,
       "grid_area": null,
       "grid_auto_columns": null,
       "grid_auto_flow": null,
       "grid_auto_rows": null,
       "grid_column": null,
       "grid_gap": null,
       "grid_row": null,
       "grid_template_areas": null,
       "grid_template_columns": null,
       "grid_template_rows": null,
       "height": null,
       "justify_content": null,
       "justify_items": null,
       "left": null,
       "margin": null,
       "max_height": null,
       "max_width": null,
       "min_height": null,
       "min_width": null,
       "object_fit": null,
       "object_position": null,
       "order": null,
       "overflow": null,
       "overflow_x": null,
       "overflow_y": null,
       "padding": null,
       "right": null,
       "top": null,
       "visibility": null,
       "width": "6%"
      }
     },
     "cad1f9f453454c99914a8d752afb32c6": {
      "model_module": "@jupyter-widgets/base",
      "model_module_version": "1.2.0",
      "model_name": "LayoutModel",
      "state": {
       "_model_module": "@jupyter-widgets/base",
       "_model_module_version": "1.2.0",
       "_model_name": "LayoutModel",
       "_view_count": null,
       "_view_module": "@jupyter-widgets/base",
       "_view_module_version": "1.2.0",
       "_view_name": "LayoutView",
       "align_content": null,
       "align_items": null,
       "align_self": null,
       "border": null,
       "bottom": null,
       "display": null,
       "flex": null,
       "flex_flow": null,
       "grid_area": null,
       "grid_auto_columns": null,
       "grid_auto_flow": null,
       "grid_auto_rows": null,
       "grid_column": null,
       "grid_gap": null,
       "grid_row": null,
       "grid_template_areas": null,
       "grid_template_columns": null,
       "grid_template_rows": null,
       "height": null,
       "justify_content": null,
       "justify_items": null,
       "left": null,
       "margin": null,
       "max_height": null,
       "max_width": null,
       "min_height": null,
       "min_width": null,
       "object_fit": null,
       "object_position": null,
       "order": null,
       "overflow": null,
       "overflow_x": null,
       "overflow_y": null,
       "padding": null,
       "right": null,
       "top": null,
       "visibility": null,
       "width": null
      }
     },
     "d2cd15542abc4d94b4682263fc2c2988": {
      "model_module": "@jupyter-widgets/base",
      "model_module_version": "1.2.0",
      "model_name": "LayoutModel",
      "state": {
       "_model_module": "@jupyter-widgets/base",
       "_model_module_version": "1.2.0",
       "_model_name": "LayoutModel",
       "_view_count": null,
       "_view_module": "@jupyter-widgets/base",
       "_view_module_version": "1.2.0",
       "_view_name": "LayoutView",
       "align_content": null,
       "align_items": null,
       "align_self": null,
       "border": null,
       "bottom": null,
       "display": null,
       "flex": null,
       "flex_flow": null,
       "grid_area": null,
       "grid_auto_columns": null,
       "grid_auto_flow": null,
       "grid_auto_rows": null,
       "grid_column": null,
       "grid_gap": null,
       "grid_row": null,
       "grid_template_areas": null,
       "grid_template_columns": null,
       "grid_template_rows": null,
       "height": null,
       "justify_content": null,
       "justify_items": null,
       "left": null,
       "margin": null,
       "max_height": null,
       "max_width": null,
       "min_height": null,
       "min_width": null,
       "object_fit": null,
       "object_position": null,
       "order": null,
       "overflow": null,
       "overflow_x": null,
       "overflow_y": null,
       "padding": null,
       "right": null,
       "top": null,
       "visibility": null,
       "width": "60%"
      }
     },
     "d2e73167109d4aa5a9f37a78f2eeb231": {
      "model_module": "@jupyter-widgets/base",
      "model_module_version": "1.2.0",
      "model_name": "LayoutModel",
      "state": {
       "_model_module": "@jupyter-widgets/base",
       "_model_module_version": "1.2.0",
       "_model_name": "LayoutModel",
       "_view_count": null,
       "_view_module": "@jupyter-widgets/base",
       "_view_module_version": "1.2.0",
       "_view_name": "LayoutView",
       "align_content": null,
       "align_items": null,
       "align_self": null,
       "border": null,
       "bottom": null,
       "display": null,
       "flex": null,
       "flex_flow": null,
       "grid_area": null,
       "grid_auto_columns": null,
       "grid_auto_flow": null,
       "grid_auto_rows": null,
       "grid_column": null,
       "grid_gap": null,
       "grid_row": null,
       "grid_template_areas": null,
       "grid_template_columns": null,
       "grid_template_rows": null,
       "height": null,
       "justify_content": null,
       "justify_items": null,
       "left": null,
       "margin": null,
       "max_height": null,
       "max_width": null,
       "min_height": null,
       "min_width": null,
       "object_fit": null,
       "object_position": null,
       "order": null,
       "overflow": null,
       "overflow_x": null,
       "overflow_y": null,
       "padding": null,
       "right": null,
       "top": null,
       "visibility": null,
       "width": null
      }
     },
     "d960b3eb8b2147f39c999e95c1c42b93": {
      "model_module": "@jupyter-widgets/controls",
      "model_module_version": "1.5.0",
      "model_name": "HTMLModel",
      "state": {
       "_dom_classes": [],
       "_model_module": "@jupyter-widgets/controls",
       "_model_module_version": "1.5.0",
       "_model_name": "HTMLModel",
       "_view_count": null,
       "_view_module": "@jupyter-widgets/controls",
       "_view_module_version": "1.5.0",
       "_view_name": "HTMLView",
       "description": "",
       "description_tooltip": null,
       "layout": "IPY_MODEL_9e22c83615e44638a28f4637820011ec",
       "placeholder": "​",
       "style": "IPY_MODEL_eab5bd597d9041b0aef089a664317be8",
       "value": "Iterations:"
      }
     },
     "deb98150a4af4770a32c8ac26a155fa7": {
      "model_module": "@jupyter-widgets/controls",
      "model_module_version": "1.5.0",
      "model_name": "HTMLModel",
      "state": {
       "_dom_classes": [],
       "_model_module": "@jupyter-widgets/controls",
       "_model_module_version": "1.5.0",
       "_model_name": "HTMLModel",
       "_view_count": null,
       "_view_module": "@jupyter-widgets/controls",
       "_view_module_version": "1.5.0",
       "_view_name": "HTMLView",
       "description": "",
       "description_tooltip": null,
       "layout": "IPY_MODEL_5342ac4c895f40fda4a95be195e385e4",
       "placeholder": "​",
       "style": "IPY_MODEL_f63703eb9694479895c3612cc50097c9",
       "value": "Packets:   "
      }
     },
     "e164c9bac60c453ca25deb349fe2d435": {
      "model_module": "@jupyter-widgets/base",
      "model_module_version": "1.2.0",
      "model_name": "LayoutModel",
      "state": {
       "_model_module": "@jupyter-widgets/base",
       "_model_module_version": "1.2.0",
       "_model_name": "LayoutModel",
       "_view_count": null,
       "_view_module": "@jupyter-widgets/base",
       "_view_module_version": "1.2.0",
       "_view_name": "LayoutView",
       "align_content": null,
       "align_items": null,
       "align_self": null,
       "border": null,
       "bottom": null,
       "display": null,
       "flex": null,
       "flex_flow": null,
       "grid_area": null,
       "grid_auto_columns": null,
       "grid_auto_flow": null,
       "grid_auto_rows": null,
       "grid_column": null,
       "grid_gap": null,
       "grid_row": null,
       "grid_template_areas": null,
       "grid_template_columns": null,
       "grid_template_rows": null,
       "height": null,
       "justify_content": null,
       "justify_items": null,
       "left": null,
       "margin": null,
       "max_height": null,
       "max_width": null,
       "min_height": null,
       "min_width": null,
       "object_fit": null,
       "object_position": null,
       "order": null,
       "overflow": null,
       "overflow_x": null,
       "overflow_y": null,
       "padding": null,
       "right": null,
       "top": null,
       "visibility": null,
       "width": null
      }
     },
     "eab5bd597d9041b0aef089a664317be8": {
      "model_module": "@jupyter-widgets/controls",
      "model_module_version": "1.5.0",
      "model_name": "DescriptionStyleModel",
      "state": {
       "_model_module": "@jupyter-widgets/controls",
       "_model_module_version": "1.5.0",
       "_model_name": "DescriptionStyleModel",
       "_view_count": null,
       "_view_module": "@jupyter-widgets/base",
       "_view_module_version": "1.2.0",
       "_view_name": "StyleView",
       "description_width": ""
      }
     },
     "ef148560c4014f958b23f1cd57533606": {
      "model_module": "@jupyter-widgets/base",
      "model_module_version": "1.2.0",
      "model_name": "LayoutModel",
      "state": {
       "_model_module": "@jupyter-widgets/base",
       "_model_module_version": "1.2.0",
       "_model_name": "LayoutModel",
       "_view_count": null,
       "_view_module": "@jupyter-widgets/base",
       "_view_module_version": "1.2.0",
       "_view_name": "LayoutView",
       "align_content": null,
       "align_items": null,
       "align_self": null,
       "border": null,
       "bottom": null,
       "display": null,
       "flex": null,
       "flex_flow": null,
       "grid_area": null,
       "grid_auto_columns": null,
       "grid_auto_flow": null,
       "grid_auto_rows": null,
       "grid_column": null,
       "grid_gap": null,
       "grid_row": null,
       "grid_template_areas": null,
       "grid_template_columns": null,
       "grid_template_rows": null,
       "height": null,
       "justify_content": null,
       "justify_items": null,
       "left": null,
       "margin": null,
       "max_height": null,
       "max_width": null,
       "min_height": null,
       "min_width": null,
       "object_fit": null,
       "object_position": null,
       "order": null,
       "overflow": null,
       "overflow_x": null,
       "overflow_y": null,
       "padding": null,
       "right": null,
       "top": null,
       "visibility": null,
       "width": null
      }
     },
     "f0dc83c3cf084da29a379835b318e63e": {
      "model_module": "@jupyter-widgets/controls",
      "model_module_version": "1.5.0",
      "model_name": "FloatProgressModel",
      "state": {
       "_dom_classes": [],
       "_model_module": "@jupyter-widgets/controls",
       "_model_module_version": "1.5.0",
       "_model_name": "FloatProgressModel",
       "_view_count": null,
       "_view_module": "@jupyter-widgets/controls",
       "_view_module_version": "1.5.0",
       "_view_name": "ProgressView",
       "bar_style": "",
       "description": "",
       "description_tooltip": null,
       "layout": "IPY_MODEL_07250aeab23849e18681cbce8cdcf061",
       "max": 1000.0,
       "min": 0.0,
       "orientation": "horizontal",
       "style": "IPY_MODEL_5ca3b5234817405eb6c2c6ab92633da2",
       "value": 0.0
      }
     },
     "f28977c493fe4af683736bfce4f6f669": {
      "model_module": "@jupyter-widgets/controls",
      "model_module_version": "1.5.0",
      "model_name": "FloatProgressModel",
      "state": {
       "_dom_classes": [],
       "_model_module": "@jupyter-widgets/controls",
       "_model_module_version": "1.5.0",
       "_model_name": "FloatProgressModel",
       "_view_count": null,
       "_view_module": "@jupyter-widgets/controls",
       "_view_module_version": "1.5.0",
       "_view_name": "ProgressView",
       "bar_style": "",
       "description": "",
       "description_tooltip": null,
       "layout": "IPY_MODEL_d2cd15542abc4d94b4682263fc2c2988",
       "max": 2.0,
       "min": 0.0,
       "orientation": "horizontal",
       "style": "IPY_MODEL_5867fb65d773418fb55469700d37cd47",
       "value": 2.0
      }
     },
     "f63703eb9694479895c3612cc50097c9": {
      "model_module": "@jupyter-widgets/controls",
      "model_module_version": "1.5.0",
      "model_name": "DescriptionStyleModel",
      "state": {
       "_model_module": "@jupyter-widgets/controls",
       "_model_module_version": "1.5.0",
       "_model_name": "DescriptionStyleModel",
       "_view_count": null,
       "_view_module": "@jupyter-widgets/base",
       "_view_module_version": "1.2.0",
       "_view_name": "StyleView",
       "description_width": ""
      }
     }
    },
    "version_major": 2,
    "version_minor": 0
   }
  }
 },
 "nbformat": 4,
 "nbformat_minor": 2
}
