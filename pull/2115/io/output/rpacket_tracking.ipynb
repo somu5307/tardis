{
 "cells": [
  {
   "cell_type": "markdown",
   "id": "f57cd4fe",
   "metadata": {},
   "source": [
    "# Tracking the Properties of Real Packets"
   ]
  },
  {
   "cell_type": "markdown",
   "id": "c103617c",
   "metadata": {},
   "source": [
    "**TARDIS** has the functionality to track the properties of the *RPackets* that are generated when running the Simulation. The `rpacket_tracker` can track all the interactions a packet undergoes & thus keeps a track of the various properties, a packet may have.<br>Currently, the `rpacket_tracker` tracks the properties of all the rpackets in the *Last Iteration of the Simulation*. It generates a `List` that contains the individual instances of `RPacketCollection`{`Numba JITClass`}, for storing all the interaction properties as listed below."
   ]
  },
  {
   "cell_type": "markdown",
   "id": "ce6214b9",
   "metadata": {},
   "source": [
    "<html>\n",
    "    <body>\n",
    "        The properties that are tracked are as follows :\n",
    "        <ol>\n",
    "            <li><b>index</b> - Index of the Packet</li>\n",
    "            <li><b>seed</b> - Seed of the Packet</li>\n",
    "            <li><b>status</b> - Current Status for the Packet Interaction</li>\n",
    "            <li><b>r</b> - Radius of the Current Shell</li> \n",
    "            <li><b>nu</b> - Packet's Frequency</li> \n",
    "            <li><b>mu</b> - Propagation Direction of the Packet (cosine of the angle the packet’s path makes with the radial direction)</li>\n",
    "            <li><b>energy</b> - Energy of the Packet</li>\n",
    "            <li><b>shell_id</b> - Current Shell Id where the Packet is present</li>\n",
    "            <li><b>interaction_type</b> - Last Interaction type of the packet</li>\n",
    "        </ol>\n",
    "    </body>\n",
    "</html>"
   ]
  },
  {
   "cell_type": "markdown",
   "id": "4b0de6ca",
   "metadata": {},
   "source": [
    "The data can be obtained in two ways i.e. `rpacket_tracker` and `rpacket_tracker_df`. The `rpacket_tracker` stores all the data for the interaction of the packets in a `list`, so it needs to accessed with a `list index` for each property for a particular `rpacket`. `rpacket_tracker_df` stores the data in a dataframe. Examples for the same are shown as follows. "
   ]
  },
  {
   "cell_type": "markdown",
   "id": "1686d9f1",
   "metadata": {},
   "source": [
    "## How to Setup the Tracking for the RPackets?"
   ]
  },
  {
   "cell_type": "markdown",
   "id": "29e14475",
   "metadata": {},
   "source": [
    "**TARDIS**' `rpacket_tracker` is configured via the `YAML` file. This functionality of tracking the packets is turned **off**, by default. This is due to that fact that using this property, may slow down the execution time for the Simulation. An example configuration can be seen below for setting up the *tracking*:\n",
    "\n",
    "```yaml\n",
    "... \n",
    "montecarlo:\n",
    "...\n",
    "tracking:\n",
    "    track_rpacket: true\n",
    "```"
   ]
  },
  {
   "cell_type": "markdown",
   "id": "13b6420b",
   "metadata": {},
   "source": [
    "The `montecarlo` section of the **YAML** file now has a `tracking` sub section which holds the configuration properties for the `track_rpacket` & the `initial_array_length` (discussed later in the tutorial)."
   ]
  },
  {
   "cell_type": "markdown",
   "id": "2634c571",
   "metadata": {},
   "source": [
    "Let us see, the new `rpacket_tracker` in action."
   ]
  },
  {
   "cell_type": "code",
   "execution_count": 1,
   "id": "a0e975b6",
   "metadata": {
    "execution": {
     "iopub.execute_input": "2022-08-10T18:00:15.498826Z",
     "iopub.status.busy": "2022-08-10T18:00:15.498490Z",
     "iopub.status.idle": "2022-08-10T18:00:18.648604Z",
     "shell.execute_reply": "2022-08-10T18:00:18.647591Z"
    }
   },
   "outputs": [
    {
     "name": "stderr",
     "output_type": "stream",
     "text": [
      "/usr/share/miniconda3/envs/tardis/lib/python3.8/site-packages/setuptools_scm/git.py:135: UserWarning: \"/home/runner/work/tardis/tardis\" is shallow and may cause errors\n",
      "  warnings.warn(f'\"{wd.path}\" is shallow and may cause errors')\n"
     ]
    },
    {
     "data": {
      "application/vnd.jupyter.widget-view+json": {
       "model_id": "d035f4006994458cb8f0db008d79a4d7",
       "version_major": 2,
       "version_minor": 0
      },
      "text/plain": [
       "Iterations:          0/? [00:00<?, ?it/s]"
      ]
     },
     "metadata": {},
     "output_type": "display_data"
    },
    {
     "data": {
      "application/vnd.jupyter.widget-view+json": {
       "model_id": "db0082c53bcf489988412cd3f3c4ff04",
       "version_major": 2,
       "version_minor": 0
      },
      "text/plain": [
       "Packets:             0/? [00:00<?, ?it/s]"
      ]
     },
     "metadata": {},
     "output_type": "display_data"
    }
   ],
   "source": [
    "from tardis.io.config_reader import Configuration"
   ]
  },
  {
   "cell_type": "code",
   "execution_count": 2,
   "id": "adbf5f75",
   "metadata": {
    "execution": {
     "iopub.execute_input": "2022-08-10T18:00:18.653015Z",
     "iopub.status.busy": "2022-08-10T18:00:18.652632Z",
     "iopub.status.idle": "2022-08-10T18:00:18.817079Z",
     "shell.execute_reply": "2022-08-10T18:00:18.816265Z"
    }
   },
   "outputs": [],
   "source": [
    "# Reading the Configuration stored in `tardis_config_packet_tracking.yml` into config\n",
    "\n",
    "config = Configuration.from_yaml(\"tardis_example.yml\")"
   ]
  },
  {
   "cell_type": "code",
   "execution_count": 3,
   "id": "975766e9",
   "metadata": {
    "execution": {
     "iopub.execute_input": "2022-08-10T18:00:18.821370Z",
     "iopub.status.busy": "2022-08-10T18:00:18.820878Z",
     "iopub.status.idle": "2022-08-10T18:00:18.831078Z",
     "shell.execute_reply": "2022-08-10T18:00:18.830186Z"
    }
   },
   "outputs": [
    {
     "data": {
      "text/plain": [
       "{'track_rpacket': False, 'initial_array_length': 10}"
      ]
     },
     "execution_count": 3,
     "metadata": {},
     "output_type": "execute_result"
    }
   ],
   "source": [
    "# Checking the `tracking` section via the Schema\n",
    "\n",
    "config[\"montecarlo\"][\"tracking\"]"
   ]
  },
  {
   "cell_type": "code",
   "execution_count": 4,
   "id": "b00bc2ca",
   "metadata": {
    "execution": {
     "iopub.execute_input": "2022-08-10T18:00:18.834912Z",
     "iopub.status.busy": "2022-08-10T18:00:18.834563Z",
     "iopub.status.idle": "2022-08-10T18:00:18.838284Z",
     "shell.execute_reply": "2022-08-10T18:00:18.837320Z"
    }
   },
   "outputs": [],
   "source": [
    "# Setting `r_packet_tracking` to True to turn on the Tracking \n",
    "\n",
    "config[\"montecarlo\"][\"tracking\"][\"track_rpacket\"] = True"
   ]
  },
  {
   "cell_type": "code",
   "execution_count": 5,
   "id": "3ece2c10",
   "metadata": {
    "execution": {
     "iopub.execute_input": "2022-08-10T18:00:18.842691Z",
     "iopub.status.busy": "2022-08-10T18:00:18.842251Z",
     "iopub.status.idle": "2022-08-10T18:00:18.847418Z",
     "shell.execute_reply": "2022-08-10T18:00:18.846670Z"
    }
   },
   "outputs": [
    {
     "data": {
      "text/plain": [
       "{'track_rpacket': True, 'initial_array_length': 10}"
      ]
     },
     "execution_count": 5,
     "metadata": {},
     "output_type": "execute_result"
    }
   ],
   "source": [
    "config[\"montecarlo\"][\"tracking\"]"
   ]
  },
  {
   "cell_type": "code",
   "execution_count": 6,
   "id": "b25271d6",
   "metadata": {
    "execution": {
     "iopub.execute_input": "2022-08-10T18:00:18.851365Z",
     "iopub.status.busy": "2022-08-10T18:00:18.851025Z",
     "iopub.status.idle": "2022-08-10T18:00:18.854768Z",
     "shell.execute_reply": "2022-08-10T18:00:18.853997Z"
    }
   },
   "outputs": [],
   "source": [
    "from tardis import run_tardis"
   ]
  },
  {
   "cell_type": "code",
   "execution_count": 7,
   "id": "f9e51fd3",
   "metadata": {
    "execution": {
     "iopub.execute_input": "2022-08-10T18:00:18.858004Z",
     "iopub.status.busy": "2022-08-10T18:00:18.857562Z",
     "iopub.status.idle": "2022-08-10T18:01:25.925624Z",
     "shell.execute_reply": "2022-08-10T18:01:25.924408Z"
    },
    "scrolled": false
   },
   "outputs": [
    {
     "name": "stdout",
     "output_type": "stream",
     "text": [
      "[\u001b[1mtardis.plasma.standard_plasmas\u001b[0m][\u001b[1;37mINFO\u001b[0m   ]  \n",
      "\t\n",
      "\tReading Atomic Data from kurucz_cd23_chianti_H_He.h5 (\u001b[1mstandard_plasmas.py\u001b[0m:93)\n"
     ]
    },
    {
     "name": "stdout",
     "output_type": "stream",
     "text": [
      "[\u001b[1mtardis.io.atom_data.util\u001b[0m][\u001b[1;37mINFO\u001b[0m   ]  \n",
      "\t\n",
      "\tAtom Data kurucz_cd23_chianti_H_He.h5 not found in local path.\n",
      "\tExists in TARDIS Data repo /home/runner/Downloads/tardis-data/kurucz_cd23_chianti_H_He.h5 (\u001b[1mutil.py\u001b[0m:33)\n"
     ]
    },
    {
     "name": "stdout",
     "output_type": "stream",
     "text": [
      "[\u001b[1mtardis.io.atom_data.base\u001b[0m][\u001b[1;37mINFO\u001b[0m   ]  \n",
      "\tReading Atom Data with: UUID = 6f7b09e887a311e7a06b246e96350010 MD5  = 864f1753714343c41f99cb065710cace  (\u001b[1mbase.py\u001b[0m:249)\n"
     ]
    },
    {
     "name": "stdout",
     "output_type": "stream",
     "text": [
      "[\u001b[1mtardis.io.atom_data.base\u001b[0m][\u001b[1;37mINFO\u001b[0m   ]  \n",
      "\tNon provided Atomic Data: synpp_refs, photoionization_data, yg_data, two_photon_data (\u001b[1mbase.py\u001b[0m:253)\n"
     ]
    },
    {
     "name": "stdout",
     "output_type": "stream",
     "text": [
      "[\u001b[1mpy.warnings         \u001b[0m][\u001b[1;33mWARNING\u001b[0m]  \n",
      "\t/home/runner/work/tardis/tardis/tardis/plasma/properties/radiative_properties.py:93: RuntimeWarning: invalid value encountered in true_divide\n",
      "  (g_lower * n_upper) / (g_upper * n_lower)\n",
      " (\u001b[1mwarnings.py\u001b[0m:109)\n"
     ]
    },
    {
     "name": "stdout",
     "output_type": "stream",
     "text": [
      "[\u001b[1mpy.warnings         \u001b[0m][\u001b[1;33mWARNING\u001b[0m]  \n",
      "\t/home/runner/work/tardis/tardis/tardis/plasma/properties/radiative_properties.py:93: RuntimeWarning: invalid value encountered in true_divide\n",
      "  (g_lower * n_upper) / (g_upper * n_lower)\n",
      " (\u001b[1mwarnings.py\u001b[0m:109)\n"
     ]
    },
    {
     "name": "stdout",
     "output_type": "stream",
     "text": [
      "[\u001b[1mtardis.simulation.base\u001b[0m][\u001b[1;37mINFO\u001b[0m   ]  \n",
      "\t\n",
      "\tStarting iteration 1 of 20 (\u001b[1mbase.py\u001b[0m:381)\n"
     ]
    },
    {
     "name": "stdout",
     "output_type": "stream",
     "text": [
      "[\u001b[1mtardis.simulation.base\u001b[0m][\u001b[1;37mINFO\u001b[0m   ]  \n",
      "\t\n",
      "\tLuminosity emitted   = 7.942e+42 erg / s\n",
      "\tLuminosity absorbed  = 2.659e+42 erg / s\n",
      "\tLuminosity requested = 1.059e+43 erg / s\n",
      " (\u001b[1mbase.py\u001b[0m:555)\n"
     ]
    },
    {
     "name": "stdout",
     "output_type": "stream",
     "text": [
      "[\u001b[1mtardis.simulation.base\u001b[0m][\u001b[1;37mINFO\u001b[0m   ]  \n",
      "\t\n",
      "\tPlasma stratification: (\u001b[1mbase.py\u001b[0m:523)\n"
     ]
    },
    {
     "data": {
      "text/html": [
       "<style  type=\"text/css\" >\n",
       "</style><table id=\"T_60af8b36_18d6_11ed_9656_000d3a5793e5\" ><thead>    <tr>        <th class=\"index_name level0\" >Shell No.</th>        <th class=\"col_heading level0 col0\" >t_rad</th>        <th class=\"col_heading level0 col1\" >next_t_rad</th>        <th class=\"col_heading level0 col2\" >w</th>        <th class=\"col_heading level0 col3\" >next_w</th>    </tr></thead><tbody>\n",
       "                <tr>\n",
       "                        <th id=\"T_60af8b36_18d6_11ed_9656_000d3a5793e5level0_row0\" class=\"row_heading level0 row0\" >0</th>\n",
       "                        <td id=\"T_60af8b36_18d6_11ed_9656_000d3a5793e5row0_col0\" class=\"data row0 col0\" >9.93e+03</td>\n",
       "                        <td id=\"T_60af8b36_18d6_11ed_9656_000d3a5793e5row0_col1\" class=\"data row0 col1\" >1.01e+04</td>\n",
       "                        <td id=\"T_60af8b36_18d6_11ed_9656_000d3a5793e5row0_col2\" class=\"data row0 col2\" >0.4</td>\n",
       "                        <td id=\"T_60af8b36_18d6_11ed_9656_000d3a5793e5row0_col3\" class=\"data row0 col3\" >0.507</td>\n",
       "            </tr>\n",
       "            <tr>\n",
       "                        <th id=\"T_60af8b36_18d6_11ed_9656_000d3a5793e5level0_row1\" class=\"row_heading level0 row1\" >5</th>\n",
       "                        <td id=\"T_60af8b36_18d6_11ed_9656_000d3a5793e5row1_col0\" class=\"data row1 col0\" >9.85e+03</td>\n",
       "                        <td id=\"T_60af8b36_18d6_11ed_9656_000d3a5793e5row1_col1\" class=\"data row1 col1\" >1.02e+04</td>\n",
       "                        <td id=\"T_60af8b36_18d6_11ed_9656_000d3a5793e5row1_col2\" class=\"data row1 col2\" >0.211</td>\n",
       "                        <td id=\"T_60af8b36_18d6_11ed_9656_000d3a5793e5row1_col3\" class=\"data row1 col3\" >0.197</td>\n",
       "            </tr>\n",
       "            <tr>\n",
       "                        <th id=\"T_60af8b36_18d6_11ed_9656_000d3a5793e5level0_row2\" class=\"row_heading level0 row2\" >10</th>\n",
       "                        <td id=\"T_60af8b36_18d6_11ed_9656_000d3a5793e5row2_col0\" class=\"data row2 col0\" >9.78e+03</td>\n",
       "                        <td id=\"T_60af8b36_18d6_11ed_9656_000d3a5793e5row2_col1\" class=\"data row2 col1\" >1.01e+04</td>\n",
       "                        <td id=\"T_60af8b36_18d6_11ed_9656_000d3a5793e5row2_col2\" class=\"data row2 col2\" >0.143</td>\n",
       "                        <td id=\"T_60af8b36_18d6_11ed_9656_000d3a5793e5row2_col3\" class=\"data row2 col3\" >0.117</td>\n",
       "            </tr>\n",
       "            <tr>\n",
       "                        <th id=\"T_60af8b36_18d6_11ed_9656_000d3a5793e5level0_row3\" class=\"row_heading level0 row3\" >15</th>\n",
       "                        <td id=\"T_60af8b36_18d6_11ed_9656_000d3a5793e5row3_col0\" class=\"data row3 col0\" >9.71e+03</td>\n",
       "                        <td id=\"T_60af8b36_18d6_11ed_9656_000d3a5793e5row3_col1\" class=\"data row3 col1\" >9.87e+03</td>\n",
       "                        <td id=\"T_60af8b36_18d6_11ed_9656_000d3a5793e5row3_col2\" class=\"data row3 col2\" >0.105</td>\n",
       "                        <td id=\"T_60af8b36_18d6_11ed_9656_000d3a5793e5row3_col3\" class=\"data row3 col3\" >0.0869</td>\n",
       "            </tr>\n",
       "    </tbody></table>"
      ],
      "text/plain": [
       "<pandas.io.formats.style.Styler at 0x7f44376b8610>"
      ]
     },
     "metadata": {},
     "output_type": "display_data"
    },
    {
     "name": "stdout",
     "output_type": "stream",
     "text": [
      "[\u001b[1mtardis.simulation.base\u001b[0m][\u001b[1;37mINFO\u001b[0m   ]  \n",
      "\t\n",
      "\tCurrent t_inner = 9933.952 K\n",
      "\tExpected t_inner for next iteration = 10703.212 K\n",
      " (\u001b[1mbase.py\u001b[0m:550)\n"
     ]
    },
    {
     "name": "stdout",
     "output_type": "stream",
     "text": [
      "[\u001b[1mpy.warnings         \u001b[0m][\u001b[1;33mWARNING\u001b[0m]  \n",
      "\t/home/runner/work/tardis/tardis/tardis/plasma/properties/radiative_properties.py:93: RuntimeWarning: invalid value encountered in true_divide\n",
      "  (g_lower * n_upper) / (g_upper * n_lower)\n",
      " (\u001b[1mwarnings.py\u001b[0m:109)\n"
     ]
    },
    {
     "name": "stdout",
     "output_type": "stream",
     "text": [
      "[\u001b[1mtardis.simulation.base\u001b[0m][\u001b[1;37mINFO\u001b[0m   ]  \n",
      "\t\n",
      "\tStarting iteration 2 of 20 (\u001b[1mbase.py\u001b[0m:381)\n"
     ]
    },
    {
     "name": "stdout",
     "output_type": "stream",
     "text": [
      "[\u001b[1mtardis.simulation.base\u001b[0m][\u001b[1;37mINFO\u001b[0m   ]  \n",
      "\t\n",
      "\tLuminosity emitted   = 1.071e+43 erg / s\n",
      "\tLuminosity absorbed  = 3.576e+42 erg / s\n",
      "\tLuminosity requested = 1.059e+43 erg / s\n",
      " (\u001b[1mbase.py\u001b[0m:555)\n"
     ]
    },
    {
     "name": "stdout",
     "output_type": "stream",
     "text": [
      "[\u001b[1mtardis.simulation.base\u001b[0m][\u001b[1;37mINFO\u001b[0m   ]  \n",
      "\t\n",
      "\tPlasma stratification: (\u001b[1mbase.py\u001b[0m:523)\n"
     ]
    },
    {
     "data": {
      "text/html": [
       "<style  type=\"text/css\" >\n",
       "</style><table id=\"T_61461f60_18d6_11ed_9656_000d3a5793e5\" ><thead>    <tr>        <th class=\"index_name level0\" >Shell No.</th>        <th class=\"col_heading level0 col0\" >t_rad</th>        <th class=\"col_heading level0 col1\" >next_t_rad</th>        <th class=\"col_heading level0 col2\" >w</th>        <th class=\"col_heading level0 col3\" >next_w</th>    </tr></thead><tbody>\n",
       "                <tr>\n",
       "                        <th id=\"T_61461f60_18d6_11ed_9656_000d3a5793e5level0_row0\" class=\"row_heading level0 row0\" >0</th>\n",
       "                        <td id=\"T_61461f60_18d6_11ed_9656_000d3a5793e5row0_col0\" class=\"data row0 col0\" >1.01e+04</td>\n",
       "                        <td id=\"T_61461f60_18d6_11ed_9656_000d3a5793e5row0_col1\" class=\"data row0 col1\" >1.08e+04</td>\n",
       "                        <td id=\"T_61461f60_18d6_11ed_9656_000d3a5793e5row0_col2\" class=\"data row0 col2\" >0.507</td>\n",
       "                        <td id=\"T_61461f60_18d6_11ed_9656_000d3a5793e5row0_col3\" class=\"data row0 col3\" >0.525</td>\n",
       "            </tr>\n",
       "            <tr>\n",
       "                        <th id=\"T_61461f60_18d6_11ed_9656_000d3a5793e5level0_row1\" class=\"row_heading level0 row1\" >5</th>\n",
       "                        <td id=\"T_61461f60_18d6_11ed_9656_000d3a5793e5row1_col0\" class=\"data row1 col0\" >1.02e+04</td>\n",
       "                        <td id=\"T_61461f60_18d6_11ed_9656_000d3a5793e5row1_col1\" class=\"data row1 col1\" >1.1e+04</td>\n",
       "                        <td id=\"T_61461f60_18d6_11ed_9656_000d3a5793e5row1_col2\" class=\"data row1 col2\" >0.197</td>\n",
       "                        <td id=\"T_61461f60_18d6_11ed_9656_000d3a5793e5row1_col3\" class=\"data row1 col3\" >0.203</td>\n",
       "            </tr>\n",
       "            <tr>\n",
       "                        <th id=\"T_61461f60_18d6_11ed_9656_000d3a5793e5level0_row2\" class=\"row_heading level0 row2\" >10</th>\n",
       "                        <td id=\"T_61461f60_18d6_11ed_9656_000d3a5793e5row2_col0\" class=\"data row2 col0\" >1.01e+04</td>\n",
       "                        <td id=\"T_61461f60_18d6_11ed_9656_000d3a5793e5row2_col1\" class=\"data row2 col1\" >1.08e+04</td>\n",
       "                        <td id=\"T_61461f60_18d6_11ed_9656_000d3a5793e5row2_col2\" class=\"data row2 col2\" >0.117</td>\n",
       "                        <td id=\"T_61461f60_18d6_11ed_9656_000d3a5793e5row2_col3\" class=\"data row2 col3\" >0.125</td>\n",
       "            </tr>\n",
       "            <tr>\n",
       "                        <th id=\"T_61461f60_18d6_11ed_9656_000d3a5793e5level0_row3\" class=\"row_heading level0 row3\" >15</th>\n",
       "                        <td id=\"T_61461f60_18d6_11ed_9656_000d3a5793e5row3_col0\" class=\"data row3 col0\" >9.87e+03</td>\n",
       "                        <td id=\"T_61461f60_18d6_11ed_9656_000d3a5793e5row3_col1\" class=\"data row3 col1\" >1.05e+04</td>\n",
       "                        <td id=\"T_61461f60_18d6_11ed_9656_000d3a5793e5row3_col2\" class=\"data row3 col2\" >0.0869</td>\n",
       "                        <td id=\"T_61461f60_18d6_11ed_9656_000d3a5793e5row3_col3\" class=\"data row3 col3\" >0.0933</td>\n",
       "            </tr>\n",
       "    </tbody></table>"
      ],
      "text/plain": [
       "<pandas.io.formats.style.Styler at 0x7f4439130550>"
      ]
     },
     "metadata": {},
     "output_type": "display_data"
    },
    {
     "name": "stdout",
     "output_type": "stream",
     "text": [
      "[\u001b[1mtardis.simulation.base\u001b[0m][\u001b[1;37mINFO\u001b[0m   ]  \n",
      "\t\n",
      "\tCurrent t_inner = 10703.212 K\n",
      "\tExpected t_inner for next iteration = 10673.712 K\n",
      " (\u001b[1mbase.py\u001b[0m:550)\n"
     ]
    },
    {
     "name": "stdout",
     "output_type": "stream",
     "text": [
      "[\u001b[1mtardis.simulation.base\u001b[0m][\u001b[1;37mINFO\u001b[0m   ]  \n",
      "\t\n",
      "\tStarting iteration 3 of 20 (\u001b[1mbase.py\u001b[0m:381)\n"
     ]
    },
    {
     "name": "stdout",
     "output_type": "stream",
     "text": [
      "[\u001b[1mtardis.simulation.base\u001b[0m][\u001b[1;37mINFO\u001b[0m   ]  \n",
      "\t\n",
      "\tLuminosity emitted   = 1.074e+43 erg / s\n",
      "\tLuminosity absorbed  = 3.391e+42 erg / s\n",
      "\tLuminosity requested = 1.059e+43 erg / s\n",
      " (\u001b[1mbase.py\u001b[0m:555)\n"
     ]
    },
    {
     "name": "stdout",
     "output_type": "stream",
     "text": [
      "[\u001b[1mtardis.simulation.base\u001b[0m][\u001b[1;37mINFO\u001b[0m   ]  \n",
      "\t\n",
      "\tPlasma stratification: (\u001b[1mbase.py\u001b[0m:523)\n"
     ]
    },
    {
     "data": {
      "text/html": [
       "<style  type=\"text/css\" >\n",
       "</style><table id=\"T_61dad70e_18d6_11ed_9656_000d3a5793e5\" ><thead>    <tr>        <th class=\"index_name level0\" >Shell No.</th>        <th class=\"col_heading level0 col0\" >t_rad</th>        <th class=\"col_heading level0 col1\" >next_t_rad</th>        <th class=\"col_heading level0 col2\" >w</th>        <th class=\"col_heading level0 col3\" >next_w</th>    </tr></thead><tbody>\n",
       "                <tr>\n",
       "                        <th id=\"T_61dad70e_18d6_11ed_9656_000d3a5793e5level0_row0\" class=\"row_heading level0 row0\" >0</th>\n",
       "                        <td id=\"T_61dad70e_18d6_11ed_9656_000d3a5793e5row0_col0\" class=\"data row0 col0\" >1.08e+04</td>\n",
       "                        <td id=\"T_61dad70e_18d6_11ed_9656_000d3a5793e5row0_col1\" class=\"data row0 col1\" >1.1e+04</td>\n",
       "                        <td id=\"T_61dad70e_18d6_11ed_9656_000d3a5793e5row0_col2\" class=\"data row0 col2\" >0.525</td>\n",
       "                        <td id=\"T_61dad70e_18d6_11ed_9656_000d3a5793e5row0_col3\" class=\"data row0 col3\" >0.483</td>\n",
       "            </tr>\n",
       "            <tr>\n",
       "                        <th id=\"T_61dad70e_18d6_11ed_9656_000d3a5793e5level0_row1\" class=\"row_heading level0 row1\" >5</th>\n",
       "                        <td id=\"T_61dad70e_18d6_11ed_9656_000d3a5793e5row1_col0\" class=\"data row1 col0\" >1.1e+04</td>\n",
       "                        <td id=\"T_61dad70e_18d6_11ed_9656_000d3a5793e5row1_col1\" class=\"data row1 col1\" >1.12e+04</td>\n",
       "                        <td id=\"T_61dad70e_18d6_11ed_9656_000d3a5793e5row1_col2\" class=\"data row1 col2\" >0.203</td>\n",
       "                        <td id=\"T_61dad70e_18d6_11ed_9656_000d3a5793e5row1_col3\" class=\"data row1 col3\" >0.189</td>\n",
       "            </tr>\n",
       "            <tr>\n",
       "                        <th id=\"T_61dad70e_18d6_11ed_9656_000d3a5793e5level0_row2\" class=\"row_heading level0 row2\" >10</th>\n",
       "                        <td id=\"T_61dad70e_18d6_11ed_9656_000d3a5793e5row2_col0\" class=\"data row2 col0\" >1.08e+04</td>\n",
       "                        <td id=\"T_61dad70e_18d6_11ed_9656_000d3a5793e5row2_col1\" class=\"data row2 col1\" >1.1e+04</td>\n",
       "                        <td id=\"T_61dad70e_18d6_11ed_9656_000d3a5793e5row2_col2\" class=\"data row2 col2\" >0.125</td>\n",
       "                        <td id=\"T_61dad70e_18d6_11ed_9656_000d3a5793e5row2_col3\" class=\"data row2 col3\" >0.118</td>\n",
       "            </tr>\n",
       "            <tr>\n",
       "                        <th id=\"T_61dad70e_18d6_11ed_9656_000d3a5793e5level0_row3\" class=\"row_heading level0 row3\" >15</th>\n",
       "                        <td id=\"T_61dad70e_18d6_11ed_9656_000d3a5793e5row3_col0\" class=\"data row3 col0\" >1.05e+04</td>\n",
       "                        <td id=\"T_61dad70e_18d6_11ed_9656_000d3a5793e5row3_col1\" class=\"data row3 col1\" >1.06e+04</td>\n",
       "                        <td id=\"T_61dad70e_18d6_11ed_9656_000d3a5793e5row3_col2\" class=\"data row3 col2\" >0.0933</td>\n",
       "                        <td id=\"T_61dad70e_18d6_11ed_9656_000d3a5793e5row3_col3\" class=\"data row3 col3\" >0.0895</td>\n",
       "            </tr>\n",
       "    </tbody></table>"
      ],
      "text/plain": [
       "<pandas.io.formats.style.Styler at 0x7f44359c0640>"
      ]
     },
     "metadata": {},
     "output_type": "display_data"
    },
    {
     "name": "stdout",
     "output_type": "stream",
     "text": [
      "[\u001b[1mtardis.simulation.base\u001b[0m][\u001b[1;37mINFO\u001b[0m   ]  \n",
      "\t\n",
      "\tCurrent t_inner = 10673.712 K\n",
      "\tExpected t_inner for next iteration = 10635.953 K\n",
      " (\u001b[1mbase.py\u001b[0m:550)\n"
     ]
    },
    {
     "name": "stdout",
     "output_type": "stream",
     "text": [
      "[\u001b[1mtardis.simulation.base\u001b[0m][\u001b[1;37mINFO\u001b[0m   ]  \n",
      "\t\n",
      "\tStarting iteration 4 of 20 (\u001b[1mbase.py\u001b[0m:381)\n"
     ]
    },
    {
     "name": "stdout",
     "output_type": "stream",
     "text": [
      "[\u001b[1mtardis.simulation.base\u001b[0m][\u001b[1;37mINFO\u001b[0m   ]  \n",
      "\t\n",
      "\tLuminosity emitted   = 1.058e+43 erg / s\n",
      "\tLuminosity absorbed  = 3.352e+42 erg / s\n",
      "\tLuminosity requested = 1.059e+43 erg / s\n",
      " (\u001b[1mbase.py\u001b[0m:555)\n"
     ]
    },
    {
     "name": "stdout",
     "output_type": "stream",
     "text": [
      "[\u001b[1mtardis.simulation.base\u001b[0m][\u001b[1;37mINFO\u001b[0m   ]  \n",
      "\t\n",
      "\tPlasma stratification: (\u001b[1mbase.py\u001b[0m:523)\n"
     ]
    },
    {
     "data": {
      "text/html": [
       "<style  type=\"text/css\" >\n",
       "</style><table id=\"T_62790b72_18d6_11ed_9656_000d3a5793e5\" ><thead>    <tr>        <th class=\"index_name level0\" >Shell No.</th>        <th class=\"col_heading level0 col0\" >t_rad</th>        <th class=\"col_heading level0 col1\" >next_t_rad</th>        <th class=\"col_heading level0 col2\" >w</th>        <th class=\"col_heading level0 col3\" >next_w</th>    </tr></thead><tbody>\n",
       "                <tr>\n",
       "                        <th id=\"T_62790b72_18d6_11ed_9656_000d3a5793e5level0_row0\" class=\"row_heading level0 row0\" >0</th>\n",
       "                        <td id=\"T_62790b72_18d6_11ed_9656_000d3a5793e5row0_col0\" class=\"data row0 col0\" >1.1e+04</td>\n",
       "                        <td id=\"T_62790b72_18d6_11ed_9656_000d3a5793e5row0_col1\" class=\"data row0 col1\" >1.1e+04</td>\n",
       "                        <td id=\"T_62790b72_18d6_11ed_9656_000d3a5793e5row0_col2\" class=\"data row0 col2\" >0.483</td>\n",
       "                        <td id=\"T_62790b72_18d6_11ed_9656_000d3a5793e5row0_col3\" class=\"data row0 col3\" >0.469</td>\n",
       "            </tr>\n",
       "            <tr>\n",
       "                        <th id=\"T_62790b72_18d6_11ed_9656_000d3a5793e5level0_row1\" class=\"row_heading level0 row1\" >5</th>\n",
       "                        <td id=\"T_62790b72_18d6_11ed_9656_000d3a5793e5row1_col0\" class=\"data row1 col0\" >1.12e+04</td>\n",
       "                        <td id=\"T_62790b72_18d6_11ed_9656_000d3a5793e5row1_col1\" class=\"data row1 col1\" >1.12e+04</td>\n",
       "                        <td id=\"T_62790b72_18d6_11ed_9656_000d3a5793e5row1_col2\" class=\"data row1 col2\" >0.189</td>\n",
       "                        <td id=\"T_62790b72_18d6_11ed_9656_000d3a5793e5row1_col3\" class=\"data row1 col3\" >0.182</td>\n",
       "            </tr>\n",
       "            <tr>\n",
       "                        <th id=\"T_62790b72_18d6_11ed_9656_000d3a5793e5level0_row2\" class=\"row_heading level0 row2\" >10</th>\n",
       "                        <td id=\"T_62790b72_18d6_11ed_9656_000d3a5793e5row2_col0\" class=\"data row2 col0\" >1.1e+04</td>\n",
       "                        <td id=\"T_62790b72_18d6_11ed_9656_000d3a5793e5row2_col1\" class=\"data row2 col1\" >1.1e+04</td>\n",
       "                        <td id=\"T_62790b72_18d6_11ed_9656_000d3a5793e5row2_col2\" class=\"data row2 col2\" >0.118</td>\n",
       "                        <td id=\"T_62790b72_18d6_11ed_9656_000d3a5793e5row2_col3\" class=\"data row2 col3\" >0.113</td>\n",
       "            </tr>\n",
       "            <tr>\n",
       "                        <th id=\"T_62790b72_18d6_11ed_9656_000d3a5793e5level0_row3\" class=\"row_heading level0 row3\" >15</th>\n",
       "                        <td id=\"T_62790b72_18d6_11ed_9656_000d3a5793e5row3_col0\" class=\"data row3 col0\" >1.06e+04</td>\n",
       "                        <td id=\"T_62790b72_18d6_11ed_9656_000d3a5793e5row3_col1\" class=\"data row3 col1\" >1.07e+04</td>\n",
       "                        <td id=\"T_62790b72_18d6_11ed_9656_000d3a5793e5row3_col2\" class=\"data row3 col2\" >0.0895</td>\n",
       "                        <td id=\"T_62790b72_18d6_11ed_9656_000d3a5793e5row3_col3\" class=\"data row3 col3\" >0.0861</td>\n",
       "            </tr>\n",
       "    </tbody></table>"
      ],
      "text/plain": [
       "<pandas.io.formats.style.Styler at 0x7f4437982c40>"
      ]
     },
     "metadata": {},
     "output_type": "display_data"
    },
    {
     "name": "stdout",
     "output_type": "stream",
     "text": [
      "[\u001b[1mtardis.simulation.base\u001b[0m][\u001b[1;37mINFO\u001b[0m   ]  \n",
      "\t\n",
      "\tCurrent t_inner = 10635.953 K\n",
      "\tExpected t_inner for next iteration = 10638.407 K\n",
      " (\u001b[1mbase.py\u001b[0m:550)\n"
     ]
    },
    {
     "name": "stdout",
     "output_type": "stream",
     "text": [
      "[\u001b[1mtardis.simulation.base\u001b[0m][\u001b[1;37mINFO\u001b[0m   ]  \n",
      "\t\n",
      "\tStarting iteration 5 of 20 (\u001b[1mbase.py\u001b[0m:381)\n"
     ]
    },
    {
     "name": "stdout",
     "output_type": "stream",
     "text": [
      "[\u001b[1mtardis.simulation.base\u001b[0m][\u001b[1;37mINFO\u001b[0m   ]  \n",
      "\t\n",
      "\tLuminosity emitted   = 1.055e+43 erg / s\n",
      "\tLuminosity absorbed  = 3.399e+42 erg / s\n",
      "\tLuminosity requested = 1.059e+43 erg / s\n",
      " (\u001b[1mbase.py\u001b[0m:555)\n"
     ]
    },
    {
     "name": "stdout",
     "output_type": "stream",
     "text": [
      "[\u001b[1mtardis.simulation.base\u001b[0m][\u001b[1;37mINFO\u001b[0m   ]  \n",
      "\tIteration converged 1/4 consecutive times. (\u001b[1mbase.py\u001b[0m:262)\n"
     ]
    },
    {
     "name": "stdout",
     "output_type": "stream",
     "text": [
      "[\u001b[1mtardis.simulation.base\u001b[0m][\u001b[1;37mINFO\u001b[0m   ]  \n",
      "\t\n",
      "\tPlasma stratification: (\u001b[1mbase.py\u001b[0m:523)\n"
     ]
    },
    {
     "data": {
      "text/html": [
       "<style  type=\"text/css\" >\n",
       "</style><table id=\"T_631bcd1c_18d6_11ed_9656_000d3a5793e5\" ><thead>    <tr>        <th class=\"index_name level0\" >Shell No.</th>        <th class=\"col_heading level0 col0\" >t_rad</th>        <th class=\"col_heading level0 col1\" >next_t_rad</th>        <th class=\"col_heading level0 col2\" >w</th>        <th class=\"col_heading level0 col3\" >next_w</th>    </tr></thead><tbody>\n",
       "                <tr>\n",
       "                        <th id=\"T_631bcd1c_18d6_11ed_9656_000d3a5793e5level0_row0\" class=\"row_heading level0 row0\" >0</th>\n",
       "                        <td id=\"T_631bcd1c_18d6_11ed_9656_000d3a5793e5row0_col0\" class=\"data row0 col0\" >1.1e+04</td>\n",
       "                        <td id=\"T_631bcd1c_18d6_11ed_9656_000d3a5793e5row0_col1\" class=\"data row0 col1\" >1.1e+04</td>\n",
       "                        <td id=\"T_631bcd1c_18d6_11ed_9656_000d3a5793e5row0_col2\" class=\"data row0 col2\" >0.469</td>\n",
       "                        <td id=\"T_631bcd1c_18d6_11ed_9656_000d3a5793e5row0_col3\" class=\"data row0 col3\" >0.479</td>\n",
       "            </tr>\n",
       "            <tr>\n",
       "                        <th id=\"T_631bcd1c_18d6_11ed_9656_000d3a5793e5level0_row1\" class=\"row_heading level0 row1\" >5</th>\n",
       "                        <td id=\"T_631bcd1c_18d6_11ed_9656_000d3a5793e5row1_col0\" class=\"data row1 col0\" >1.12e+04</td>\n",
       "                        <td id=\"T_631bcd1c_18d6_11ed_9656_000d3a5793e5row1_col1\" class=\"data row1 col1\" >1.13e+04</td>\n",
       "                        <td id=\"T_631bcd1c_18d6_11ed_9656_000d3a5793e5row1_col2\" class=\"data row1 col2\" >0.182</td>\n",
       "                        <td id=\"T_631bcd1c_18d6_11ed_9656_000d3a5793e5row1_col3\" class=\"data row1 col3\" >0.178</td>\n",
       "            </tr>\n",
       "            <tr>\n",
       "                        <th id=\"T_631bcd1c_18d6_11ed_9656_000d3a5793e5level0_row2\" class=\"row_heading level0 row2\" >10</th>\n",
       "                        <td id=\"T_631bcd1c_18d6_11ed_9656_000d3a5793e5row2_col0\" class=\"data row2 col0\" >1.1e+04</td>\n",
       "                        <td id=\"T_631bcd1c_18d6_11ed_9656_000d3a5793e5row2_col1\" class=\"data row2 col1\" >1.1e+04</td>\n",
       "                        <td id=\"T_631bcd1c_18d6_11ed_9656_000d3a5793e5row2_col2\" class=\"data row2 col2\" >0.113</td>\n",
       "                        <td id=\"T_631bcd1c_18d6_11ed_9656_000d3a5793e5row2_col3\" class=\"data row2 col3\" >0.113</td>\n",
       "            </tr>\n",
       "            <tr>\n",
       "                        <th id=\"T_631bcd1c_18d6_11ed_9656_000d3a5793e5level0_row3\" class=\"row_heading level0 row3\" >15</th>\n",
       "                        <td id=\"T_631bcd1c_18d6_11ed_9656_000d3a5793e5row3_col0\" class=\"data row3 col0\" >1.07e+04</td>\n",
       "                        <td id=\"T_631bcd1c_18d6_11ed_9656_000d3a5793e5row3_col1\" class=\"data row3 col1\" >1.07e+04</td>\n",
       "                        <td id=\"T_631bcd1c_18d6_11ed_9656_000d3a5793e5row3_col2\" class=\"data row3 col2\" >0.0861</td>\n",
       "                        <td id=\"T_631bcd1c_18d6_11ed_9656_000d3a5793e5row3_col3\" class=\"data row3 col3\" >0.0839</td>\n",
       "            </tr>\n",
       "    </tbody></table>"
      ],
      "text/plain": [
       "<pandas.io.formats.style.Styler at 0x7f44359cb1c0>"
      ]
     },
     "metadata": {},
     "output_type": "display_data"
    },
    {
     "name": "stdout",
     "output_type": "stream",
     "text": [
      "[\u001b[1mtardis.simulation.base\u001b[0m][\u001b[1;37mINFO\u001b[0m   ]  \n",
      "\t\n",
      "\tCurrent t_inner = 10638.407 K\n",
      "\tExpected t_inner for next iteration = 10650.202 K\n",
      " (\u001b[1mbase.py\u001b[0m:550)\n"
     ]
    },
    {
     "name": "stdout",
     "output_type": "stream",
     "text": [
      "[\u001b[1mtardis.simulation.base\u001b[0m][\u001b[1;37mINFO\u001b[0m   ]  \n",
      "\t\n",
      "\tStarting iteration 6 of 20 (\u001b[1mbase.py\u001b[0m:381)\n"
     ]
    },
    {
     "name": "stdout",
     "output_type": "stream",
     "text": [
      "[\u001b[1mtardis.simulation.base\u001b[0m][\u001b[1;37mINFO\u001b[0m   ]  \n",
      "\t\n",
      "\tLuminosity emitted   = 1.061e+43 erg / s\n",
      "\tLuminosity absorbed  = 3.398e+42 erg / s\n",
      "\tLuminosity requested = 1.059e+43 erg / s\n",
      " (\u001b[1mbase.py\u001b[0m:555)\n"
     ]
    },
    {
     "name": "stdout",
     "output_type": "stream",
     "text": [
      "[\u001b[1mtardis.simulation.base\u001b[0m][\u001b[1;37mINFO\u001b[0m   ]  \n",
      "\tIteration converged 2/4 consecutive times. (\u001b[1mbase.py\u001b[0m:262)\n"
     ]
    },
    {
     "name": "stdout",
     "output_type": "stream",
     "text": [
      "[\u001b[1mtardis.simulation.base\u001b[0m][\u001b[1;37mINFO\u001b[0m   ]  \n",
      "\t\n",
      "\tPlasma stratification: (\u001b[1mbase.py\u001b[0m:523)\n"
     ]
    },
    {
     "data": {
      "text/html": [
       "<style  type=\"text/css\" >\n",
       "</style><table id=\"T_63b790a8_18d6_11ed_9656_000d3a5793e5\" ><thead>    <tr>        <th class=\"index_name level0\" >Shell No.</th>        <th class=\"col_heading level0 col0\" >t_rad</th>        <th class=\"col_heading level0 col1\" >next_t_rad</th>        <th class=\"col_heading level0 col2\" >w</th>        <th class=\"col_heading level0 col3\" >next_w</th>    </tr></thead><tbody>\n",
       "                <tr>\n",
       "                        <th id=\"T_63b790a8_18d6_11ed_9656_000d3a5793e5level0_row0\" class=\"row_heading level0 row0\" >0</th>\n",
       "                        <td id=\"T_63b790a8_18d6_11ed_9656_000d3a5793e5row0_col0\" class=\"data row0 col0\" >1.1e+04</td>\n",
       "                        <td id=\"T_63b790a8_18d6_11ed_9656_000d3a5793e5row0_col1\" class=\"data row0 col1\" >1.1e+04</td>\n",
       "                        <td id=\"T_63b790a8_18d6_11ed_9656_000d3a5793e5row0_col2\" class=\"data row0 col2\" >0.479</td>\n",
       "                        <td id=\"T_63b790a8_18d6_11ed_9656_000d3a5793e5row0_col3\" class=\"data row0 col3\" >0.47</td>\n",
       "            </tr>\n",
       "            <tr>\n",
       "                        <th id=\"T_63b790a8_18d6_11ed_9656_000d3a5793e5level0_row1\" class=\"row_heading level0 row1\" >5</th>\n",
       "                        <td id=\"T_63b790a8_18d6_11ed_9656_000d3a5793e5row1_col0\" class=\"data row1 col0\" >1.13e+04</td>\n",
       "                        <td id=\"T_63b790a8_18d6_11ed_9656_000d3a5793e5row1_col1\" class=\"data row1 col1\" >1.12e+04</td>\n",
       "                        <td id=\"T_63b790a8_18d6_11ed_9656_000d3a5793e5row1_col2\" class=\"data row1 col2\" >0.178</td>\n",
       "                        <td id=\"T_63b790a8_18d6_11ed_9656_000d3a5793e5row1_col3\" class=\"data row1 col3\" >0.185</td>\n",
       "            </tr>\n",
       "            <tr>\n",
       "                        <th id=\"T_63b790a8_18d6_11ed_9656_000d3a5793e5level0_row2\" class=\"row_heading level0 row2\" >10</th>\n",
       "                        <td id=\"T_63b790a8_18d6_11ed_9656_000d3a5793e5row2_col0\" class=\"data row2 col0\" >1.1e+04</td>\n",
       "                        <td id=\"T_63b790a8_18d6_11ed_9656_000d3a5793e5row2_col1\" class=\"data row2 col1\" >1.11e+04</td>\n",
       "                        <td id=\"T_63b790a8_18d6_11ed_9656_000d3a5793e5row2_col2\" class=\"data row2 col2\" >0.113</td>\n",
       "                        <td id=\"T_63b790a8_18d6_11ed_9656_000d3a5793e5row2_col3\" class=\"data row2 col3\" >0.112</td>\n",
       "            </tr>\n",
       "            <tr>\n",
       "                        <th id=\"T_63b790a8_18d6_11ed_9656_000d3a5793e5level0_row3\" class=\"row_heading level0 row3\" >15</th>\n",
       "                        <td id=\"T_63b790a8_18d6_11ed_9656_000d3a5793e5row3_col0\" class=\"data row3 col0\" >1.07e+04</td>\n",
       "                        <td id=\"T_63b790a8_18d6_11ed_9656_000d3a5793e5row3_col1\" class=\"data row3 col1\" >1.07e+04</td>\n",
       "                        <td id=\"T_63b790a8_18d6_11ed_9656_000d3a5793e5row3_col2\" class=\"data row3 col2\" >0.0839</td>\n",
       "                        <td id=\"T_63b790a8_18d6_11ed_9656_000d3a5793e5row3_col3\" class=\"data row3 col3\" >0.0856</td>\n",
       "            </tr>\n",
       "    </tbody></table>"
      ],
      "text/plain": [
       "<pandas.io.formats.style.Styler at 0x7f44359cb070>"
      ]
     },
     "metadata": {},
     "output_type": "display_data"
    },
    {
     "name": "stdout",
     "output_type": "stream",
     "text": [
      "[\u001b[1mtardis.simulation.base\u001b[0m][\u001b[1;37mINFO\u001b[0m   ]  \n",
      "\t\n",
      "\tCurrent t_inner = 10650.202 K\n",
      "\tExpected t_inner for next iteration = 10645.955 K\n",
      " (\u001b[1mbase.py\u001b[0m:550)\n"
     ]
    },
    {
     "name": "stdout",
     "output_type": "stream",
     "text": [
      "[\u001b[1mtardis.simulation.base\u001b[0m][\u001b[1;37mINFO\u001b[0m   ]  \n",
      "\t\n",
      "\tStarting iteration 7 of 20 (\u001b[1mbase.py\u001b[0m:381)\n"
     ]
    },
    {
     "name": "stdout",
     "output_type": "stream",
     "text": [
      "[\u001b[1mtardis.simulation.base\u001b[0m][\u001b[1;37mINFO\u001b[0m   ]  \n",
      "\t\n",
      "\tLuminosity emitted   = 1.061e+43 erg / s\n",
      "\tLuminosity absorbed  = 3.382e+42 erg / s\n",
      "\tLuminosity requested = 1.059e+43 erg / s\n",
      " (\u001b[1mbase.py\u001b[0m:555)\n"
     ]
    },
    {
     "name": "stdout",
     "output_type": "stream",
     "text": [
      "[\u001b[1mtardis.simulation.base\u001b[0m][\u001b[1;37mINFO\u001b[0m   ]  \n",
      "\tIteration converged 3/4 consecutive times. (\u001b[1mbase.py\u001b[0m:262)\n"
     ]
    },
    {
     "name": "stdout",
     "output_type": "stream",
     "text": [
      "[\u001b[1mtardis.simulation.base\u001b[0m][\u001b[1;37mINFO\u001b[0m   ]  \n",
      "\t\n",
      "\tPlasma stratification: (\u001b[1mbase.py\u001b[0m:523)\n"
     ]
    },
    {
     "data": {
      "text/html": [
       "<style  type=\"text/css\" >\n",
       "</style><table id=\"T_64560da0_18d6_11ed_9656_000d3a5793e5\" ><thead>    <tr>        <th class=\"index_name level0\" >Shell No.</th>        <th class=\"col_heading level0 col0\" >t_rad</th>        <th class=\"col_heading level0 col1\" >next_t_rad</th>        <th class=\"col_heading level0 col2\" >w</th>        <th class=\"col_heading level0 col3\" >next_w</th>    </tr></thead><tbody>\n",
       "                <tr>\n",
       "                        <th id=\"T_64560da0_18d6_11ed_9656_000d3a5793e5level0_row0\" class=\"row_heading level0 row0\" >0</th>\n",
       "                        <td id=\"T_64560da0_18d6_11ed_9656_000d3a5793e5row0_col0\" class=\"data row0 col0\" >1.1e+04</td>\n",
       "                        <td id=\"T_64560da0_18d6_11ed_9656_000d3a5793e5row0_col1\" class=\"data row0 col1\" >1.1e+04</td>\n",
       "                        <td id=\"T_64560da0_18d6_11ed_9656_000d3a5793e5row0_col2\" class=\"data row0 col2\" >0.47</td>\n",
       "                        <td id=\"T_64560da0_18d6_11ed_9656_000d3a5793e5row0_col3\" class=\"data row0 col3\" >0.47</td>\n",
       "            </tr>\n",
       "            <tr>\n",
       "                        <th id=\"T_64560da0_18d6_11ed_9656_000d3a5793e5level0_row1\" class=\"row_heading level0 row1\" >5</th>\n",
       "                        <td id=\"T_64560da0_18d6_11ed_9656_000d3a5793e5row1_col0\" class=\"data row1 col0\" >1.12e+04</td>\n",
       "                        <td id=\"T_64560da0_18d6_11ed_9656_000d3a5793e5row1_col1\" class=\"data row1 col1\" >1.13e+04</td>\n",
       "                        <td id=\"T_64560da0_18d6_11ed_9656_000d3a5793e5row1_col2\" class=\"data row1 col2\" >0.185</td>\n",
       "                        <td id=\"T_64560da0_18d6_11ed_9656_000d3a5793e5row1_col3\" class=\"data row1 col3\" >0.178</td>\n",
       "            </tr>\n",
       "            <tr>\n",
       "                        <th id=\"T_64560da0_18d6_11ed_9656_000d3a5793e5level0_row2\" class=\"row_heading level0 row2\" >10</th>\n",
       "                        <td id=\"T_64560da0_18d6_11ed_9656_000d3a5793e5row2_col0\" class=\"data row2 col0\" >1.11e+04</td>\n",
       "                        <td id=\"T_64560da0_18d6_11ed_9656_000d3a5793e5row2_col1\" class=\"data row2 col1\" >1.11e+04</td>\n",
       "                        <td id=\"T_64560da0_18d6_11ed_9656_000d3a5793e5row2_col2\" class=\"data row2 col2\" >0.112</td>\n",
       "                        <td id=\"T_64560da0_18d6_11ed_9656_000d3a5793e5row2_col3\" class=\"data row2 col3\" >0.112</td>\n",
       "            </tr>\n",
       "            <tr>\n",
       "                        <th id=\"T_64560da0_18d6_11ed_9656_000d3a5793e5level0_row3\" class=\"row_heading level0 row3\" >15</th>\n",
       "                        <td id=\"T_64560da0_18d6_11ed_9656_000d3a5793e5row3_col0\" class=\"data row3 col0\" >1.07e+04</td>\n",
       "                        <td id=\"T_64560da0_18d6_11ed_9656_000d3a5793e5row3_col1\" class=\"data row3 col1\" >1.07e+04</td>\n",
       "                        <td id=\"T_64560da0_18d6_11ed_9656_000d3a5793e5row3_col2\" class=\"data row3 col2\" >0.0856</td>\n",
       "                        <td id=\"T_64560da0_18d6_11ed_9656_000d3a5793e5row3_col3\" class=\"data row3 col3\" >0.086</td>\n",
       "            </tr>\n",
       "    </tbody></table>"
      ],
      "text/plain": [
       "<pandas.io.formats.style.Styler at 0x7f44359cbdf0>"
      ]
     },
     "metadata": {},
     "output_type": "display_data"
    },
    {
     "name": "stdout",
     "output_type": "stream",
     "text": [
      "[\u001b[1mtardis.simulation.base\u001b[0m][\u001b[1;37mINFO\u001b[0m   ]  \n",
      "\t\n",
      "\tCurrent t_inner = 10645.955 K\n",
      "\tExpected t_inner for next iteration = 10642.050 K\n",
      " (\u001b[1mbase.py\u001b[0m:550)\n"
     ]
    },
    {
     "name": "stdout",
     "output_type": "stream",
     "text": [
      "[\u001b[1mtardis.simulation.base\u001b[0m][\u001b[1;37mINFO\u001b[0m   ]  \n",
      "\t\n",
      "\tStarting iteration 8 of 20 (\u001b[1mbase.py\u001b[0m:381)\n"
     ]
    },
    {
     "name": "stdout",
     "output_type": "stream",
     "text": [
      "[\u001b[1mtardis.simulation.base\u001b[0m][\u001b[1;37mINFO\u001b[0m   ]  \n",
      "\t\n",
      "\tLuminosity emitted   = 1.062e+43 erg / s\n",
      "\tLuminosity absorbed  = 3.350e+42 erg / s\n",
      "\tLuminosity requested = 1.059e+43 erg / s\n",
      " (\u001b[1mbase.py\u001b[0m:555)\n"
     ]
    },
    {
     "name": "stdout",
     "output_type": "stream",
     "text": [
      "[\u001b[1mtardis.simulation.base\u001b[0m][\u001b[1;37mINFO\u001b[0m   ]  \n",
      "\tIteration converged 4/4 consecutive times. (\u001b[1mbase.py\u001b[0m:262)\n"
     ]
    },
    {
     "name": "stdout",
     "output_type": "stream",
     "text": [
      "[\u001b[1mtardis.simulation.base\u001b[0m][\u001b[1;37mINFO\u001b[0m   ]  \n",
      "\t\n",
      "\tPlasma stratification: (\u001b[1mbase.py\u001b[0m:523)\n"
     ]
    },
    {
     "data": {
      "text/html": [
       "<style  type=\"text/css\" >\n",
       "</style><table id=\"T_64fb7f06_18d6_11ed_9656_000d3a5793e5\" ><thead>    <tr>        <th class=\"index_name level0\" >Shell No.</th>        <th class=\"col_heading level0 col0\" >t_rad</th>        <th class=\"col_heading level0 col1\" >next_t_rad</th>        <th class=\"col_heading level0 col2\" >w</th>        <th class=\"col_heading level0 col3\" >next_w</th>    </tr></thead><tbody>\n",
       "                <tr>\n",
       "                        <th id=\"T_64fb7f06_18d6_11ed_9656_000d3a5793e5level0_row0\" class=\"row_heading level0 row0\" >0</th>\n",
       "                        <td id=\"T_64fb7f06_18d6_11ed_9656_000d3a5793e5row0_col0\" class=\"data row0 col0\" >1.1e+04</td>\n",
       "                        <td id=\"T_64fb7f06_18d6_11ed_9656_000d3a5793e5row0_col1\" class=\"data row0 col1\" >1.11e+04</td>\n",
       "                        <td id=\"T_64fb7f06_18d6_11ed_9656_000d3a5793e5row0_col2\" class=\"data row0 col2\" >0.47</td>\n",
       "                        <td id=\"T_64fb7f06_18d6_11ed_9656_000d3a5793e5row0_col3\" class=\"data row0 col3\" >0.472</td>\n",
       "            </tr>\n",
       "            <tr>\n",
       "                        <th id=\"T_64fb7f06_18d6_11ed_9656_000d3a5793e5level0_row1\" class=\"row_heading level0 row1\" >5</th>\n",
       "                        <td id=\"T_64fb7f06_18d6_11ed_9656_000d3a5793e5row1_col0\" class=\"data row1 col0\" >1.13e+04</td>\n",
       "                        <td id=\"T_64fb7f06_18d6_11ed_9656_000d3a5793e5row1_col1\" class=\"data row1 col1\" >1.14e+04</td>\n",
       "                        <td id=\"T_64fb7f06_18d6_11ed_9656_000d3a5793e5row1_col2\" class=\"data row1 col2\" >0.178</td>\n",
       "                        <td id=\"T_64fb7f06_18d6_11ed_9656_000d3a5793e5row1_col3\" class=\"data row1 col3\" >0.175</td>\n",
       "            </tr>\n",
       "            <tr>\n",
       "                        <th id=\"T_64fb7f06_18d6_11ed_9656_000d3a5793e5level0_row2\" class=\"row_heading level0 row2\" >10</th>\n",
       "                        <td id=\"T_64fb7f06_18d6_11ed_9656_000d3a5793e5row2_col0\" class=\"data row2 col0\" >1.11e+04</td>\n",
       "                        <td id=\"T_64fb7f06_18d6_11ed_9656_000d3a5793e5row2_col1\" class=\"data row2 col1\" >1.11e+04</td>\n",
       "                        <td id=\"T_64fb7f06_18d6_11ed_9656_000d3a5793e5row2_col2\" class=\"data row2 col2\" >0.112</td>\n",
       "                        <td id=\"T_64fb7f06_18d6_11ed_9656_000d3a5793e5row2_col3\" class=\"data row2 col3\" >0.111</td>\n",
       "            </tr>\n",
       "            <tr>\n",
       "                        <th id=\"T_64fb7f06_18d6_11ed_9656_000d3a5793e5level0_row3\" class=\"row_heading level0 row3\" >15</th>\n",
       "                        <td id=\"T_64fb7f06_18d6_11ed_9656_000d3a5793e5row3_col0\" class=\"data row3 col0\" >1.07e+04</td>\n",
       "                        <td id=\"T_64fb7f06_18d6_11ed_9656_000d3a5793e5row3_col1\" class=\"data row3 col1\" >1.07e+04</td>\n",
       "                        <td id=\"T_64fb7f06_18d6_11ed_9656_000d3a5793e5row3_col2\" class=\"data row3 col2\" >0.086</td>\n",
       "                        <td id=\"T_64fb7f06_18d6_11ed_9656_000d3a5793e5row3_col3\" class=\"data row3 col3\" >0.084</td>\n",
       "            </tr>\n",
       "    </tbody></table>"
      ],
      "text/plain": [
       "<pandas.io.formats.style.Styler at 0x7f44373c3fa0>"
      ]
     },
     "metadata": {},
     "output_type": "display_data"
    },
    {
     "name": "stdout",
     "output_type": "stream",
     "text": [
      "[\u001b[1mtardis.simulation.base\u001b[0m][\u001b[1;37mINFO\u001b[0m   ]  \n",
      "\t\n",
      "\tCurrent t_inner = 10642.050 K\n",
      "\tExpected t_inner for next iteration = 10636.106 K\n",
      " (\u001b[1mbase.py\u001b[0m:550)\n"
     ]
    },
    {
     "name": "stdout",
     "output_type": "stream",
     "text": [
      "[\u001b[1mtardis.simulation.base\u001b[0m][\u001b[1;37mINFO\u001b[0m   ]  \n",
      "\t\n",
      "\tStarting iteration 9 of 20 (\u001b[1mbase.py\u001b[0m:381)\n"
     ]
    },
    {
     "name": "stdout",
     "output_type": "stream",
     "text": [
      "[\u001b[1mtardis.simulation.base\u001b[0m][\u001b[1;37mINFO\u001b[0m   ]  \n",
      "\t\n",
      "\tLuminosity emitted   = 1.052e+43 erg / s\n",
      "\tLuminosity absorbed  = 3.411e+42 erg / s\n",
      "\tLuminosity requested = 1.059e+43 erg / s\n",
      " (\u001b[1mbase.py\u001b[0m:555)\n"
     ]
    },
    {
     "name": "stdout",
     "output_type": "stream",
     "text": [
      "[\u001b[1mtardis.simulation.base\u001b[0m][\u001b[1;37mINFO\u001b[0m   ]  \n",
      "\tIteration converged 5/4 consecutive times. (\u001b[1mbase.py\u001b[0m:262)\n"
     ]
    },
    {
     "name": "stdout",
     "output_type": "stream",
     "text": [
      "[\u001b[1mtardis.simulation.base\u001b[0m][\u001b[1;37mINFO\u001b[0m   ]  \n",
      "\t\n",
      "\tPlasma stratification: (\u001b[1mbase.py\u001b[0m:523)\n"
     ]
    },
    {
     "data": {
      "text/html": [
       "<style  type=\"text/css\" >\n",
       "</style><table id=\"T_65a05d1e_18d6_11ed_9656_000d3a5793e5\" ><thead>    <tr>        <th class=\"index_name level0\" >Shell No.</th>        <th class=\"col_heading level0 col0\" >t_rad</th>        <th class=\"col_heading level0 col1\" >next_t_rad</th>        <th class=\"col_heading level0 col2\" >w</th>        <th class=\"col_heading level0 col3\" >next_w</th>    </tr></thead><tbody>\n",
       "                <tr>\n",
       "                        <th id=\"T_65a05d1e_18d6_11ed_9656_000d3a5793e5level0_row0\" class=\"row_heading level0 row0\" >0</th>\n",
       "                        <td id=\"T_65a05d1e_18d6_11ed_9656_000d3a5793e5row0_col0\" class=\"data row0 col0\" >1.11e+04</td>\n",
       "                        <td id=\"T_65a05d1e_18d6_11ed_9656_000d3a5793e5row0_col1\" class=\"data row0 col1\" >1.11e+04</td>\n",
       "                        <td id=\"T_65a05d1e_18d6_11ed_9656_000d3a5793e5row0_col2\" class=\"data row0 col2\" >0.472</td>\n",
       "                        <td id=\"T_65a05d1e_18d6_11ed_9656_000d3a5793e5row0_col3\" class=\"data row0 col3\" >0.469</td>\n",
       "            </tr>\n",
       "            <tr>\n",
       "                        <th id=\"T_65a05d1e_18d6_11ed_9656_000d3a5793e5level0_row1\" class=\"row_heading level0 row1\" >5</th>\n",
       "                        <td id=\"T_65a05d1e_18d6_11ed_9656_000d3a5793e5row1_col0\" class=\"data row1 col0\" >1.14e+04</td>\n",
       "                        <td id=\"T_65a05d1e_18d6_11ed_9656_000d3a5793e5row1_col1\" class=\"data row1 col1\" >1.15e+04</td>\n",
       "                        <td id=\"T_65a05d1e_18d6_11ed_9656_000d3a5793e5row1_col2\" class=\"data row1 col2\" >0.175</td>\n",
       "                        <td id=\"T_65a05d1e_18d6_11ed_9656_000d3a5793e5row1_col3\" class=\"data row1 col3\" >0.17</td>\n",
       "            </tr>\n",
       "            <tr>\n",
       "                        <th id=\"T_65a05d1e_18d6_11ed_9656_000d3a5793e5level0_row2\" class=\"row_heading level0 row2\" >10</th>\n",
       "                        <td id=\"T_65a05d1e_18d6_11ed_9656_000d3a5793e5row2_col0\" class=\"data row2 col0\" >1.11e+04</td>\n",
       "                        <td id=\"T_65a05d1e_18d6_11ed_9656_000d3a5793e5row2_col1\" class=\"data row2 col1\" >1.11e+04</td>\n",
       "                        <td id=\"T_65a05d1e_18d6_11ed_9656_000d3a5793e5row2_col2\" class=\"data row2 col2\" >0.111</td>\n",
       "                        <td id=\"T_65a05d1e_18d6_11ed_9656_000d3a5793e5row2_col3\" class=\"data row2 col3\" >0.109</td>\n",
       "            </tr>\n",
       "            <tr>\n",
       "                        <th id=\"T_65a05d1e_18d6_11ed_9656_000d3a5793e5level0_row3\" class=\"row_heading level0 row3\" >15</th>\n",
       "                        <td id=\"T_65a05d1e_18d6_11ed_9656_000d3a5793e5row3_col0\" class=\"data row3 col0\" >1.07e+04</td>\n",
       "                        <td id=\"T_65a05d1e_18d6_11ed_9656_000d3a5793e5row3_col1\" class=\"data row3 col1\" >1.08e+04</td>\n",
       "                        <td id=\"T_65a05d1e_18d6_11ed_9656_000d3a5793e5row3_col2\" class=\"data row3 col2\" >0.084</td>\n",
       "                        <td id=\"T_65a05d1e_18d6_11ed_9656_000d3a5793e5row3_col3\" class=\"data row3 col3\" >0.0822</td>\n",
       "            </tr>\n",
       "    </tbody></table>"
      ],
      "text/plain": [
       "<pandas.io.formats.style.Styler at 0x7f4437982220>"
      ]
     },
     "metadata": {},
     "output_type": "display_data"
    },
    {
     "name": "stdout",
     "output_type": "stream",
     "text": [
      "[\u001b[1mtardis.simulation.base\u001b[0m][\u001b[1;37mINFO\u001b[0m   ]  \n",
      "\t\n",
      "\tCurrent t_inner = 10636.106 K\n",
      "\tExpected t_inner for next iteration = 10654.313 K\n",
      " (\u001b[1mbase.py\u001b[0m:550)\n"
     ]
    },
    {
     "name": "stdout",
     "output_type": "stream",
     "text": [
      "[\u001b[1mtardis.simulation.base\u001b[0m][\u001b[1;37mINFO\u001b[0m   ]  \n",
      "\t\n",
      "\tStarting iteration 10 of 20 (\u001b[1mbase.py\u001b[0m:381)\n"
     ]
    },
    {
     "name": "stdout",
     "output_type": "stream",
     "text": [
      "[\u001b[1mtardis.simulation.base\u001b[0m][\u001b[1;37mINFO\u001b[0m   ]  \n",
      "\t\n",
      "\tLuminosity emitted   = 1.070e+43 erg / s\n",
      "\tLuminosity absorbed  = 3.335e+42 erg / s\n",
      "\tLuminosity requested = 1.059e+43 erg / s\n",
      " (\u001b[1mbase.py\u001b[0m:555)\n"
     ]
    },
    {
     "name": "stdout",
     "output_type": "stream",
     "text": [
      "[\u001b[1mtardis.simulation.base\u001b[0m][\u001b[1;37mINFO\u001b[0m   ]  \n",
      "\t\n",
      "\tPlasma stratification: (\u001b[1mbase.py\u001b[0m:523)\n"
     ]
    },
    {
     "data": {
      "text/html": [
       "<style  type=\"text/css\" >\n",
       "</style><table id=\"T_6643f564_18d6_11ed_9656_000d3a5793e5\" ><thead>    <tr>        <th class=\"index_name level0\" >Shell No.</th>        <th class=\"col_heading level0 col0\" >t_rad</th>        <th class=\"col_heading level0 col1\" >next_t_rad</th>        <th class=\"col_heading level0 col2\" >w</th>        <th class=\"col_heading level0 col3\" >next_w</th>    </tr></thead><tbody>\n",
       "                <tr>\n",
       "                        <th id=\"T_6643f564_18d6_11ed_9656_000d3a5793e5level0_row0\" class=\"row_heading level0 row0\" >0</th>\n",
       "                        <td id=\"T_6643f564_18d6_11ed_9656_000d3a5793e5row0_col0\" class=\"data row0 col0\" >1.11e+04</td>\n",
       "                        <td id=\"T_6643f564_18d6_11ed_9656_000d3a5793e5row0_col1\" class=\"data row0 col1\" >1.1e+04</td>\n",
       "                        <td id=\"T_6643f564_18d6_11ed_9656_000d3a5793e5row0_col2\" class=\"data row0 col2\" >0.469</td>\n",
       "                        <td id=\"T_6643f564_18d6_11ed_9656_000d3a5793e5row0_col3\" class=\"data row0 col3\" >0.475</td>\n",
       "            </tr>\n",
       "            <tr>\n",
       "                        <th id=\"T_6643f564_18d6_11ed_9656_000d3a5793e5level0_row1\" class=\"row_heading level0 row1\" >5</th>\n",
       "                        <td id=\"T_6643f564_18d6_11ed_9656_000d3a5793e5row1_col0\" class=\"data row1 col0\" >1.15e+04</td>\n",
       "                        <td id=\"T_6643f564_18d6_11ed_9656_000d3a5793e5row1_col1\" class=\"data row1 col1\" >1.14e+04</td>\n",
       "                        <td id=\"T_6643f564_18d6_11ed_9656_000d3a5793e5row1_col2\" class=\"data row1 col2\" >0.17</td>\n",
       "                        <td id=\"T_6643f564_18d6_11ed_9656_000d3a5793e5row1_col3\" class=\"data row1 col3\" >0.177</td>\n",
       "            </tr>\n",
       "            <tr>\n",
       "                        <th id=\"T_6643f564_18d6_11ed_9656_000d3a5793e5level0_row2\" class=\"row_heading level0 row2\" >10</th>\n",
       "                        <td id=\"T_6643f564_18d6_11ed_9656_000d3a5793e5row2_col0\" class=\"data row2 col0\" >1.11e+04</td>\n",
       "                        <td id=\"T_6643f564_18d6_11ed_9656_000d3a5793e5row2_col1\" class=\"data row2 col1\" >1.11e+04</td>\n",
       "                        <td id=\"T_6643f564_18d6_11ed_9656_000d3a5793e5row2_col2\" class=\"data row2 col2\" >0.109</td>\n",
       "                        <td id=\"T_6643f564_18d6_11ed_9656_000d3a5793e5row2_col3\" class=\"data row2 col3\" >0.112</td>\n",
       "            </tr>\n",
       "            <tr>\n",
       "                        <th id=\"T_6643f564_18d6_11ed_9656_000d3a5793e5level0_row3\" class=\"row_heading level0 row3\" >15</th>\n",
       "                        <td id=\"T_6643f564_18d6_11ed_9656_000d3a5793e5row3_col0\" class=\"data row3 col0\" >1.08e+04</td>\n",
       "                        <td id=\"T_6643f564_18d6_11ed_9656_000d3a5793e5row3_col1\" class=\"data row3 col1\" >1.06e+04</td>\n",
       "                        <td id=\"T_6643f564_18d6_11ed_9656_000d3a5793e5row3_col2\" class=\"data row3 col2\" >0.0822</td>\n",
       "                        <td id=\"T_6643f564_18d6_11ed_9656_000d3a5793e5row3_col3\" class=\"data row3 col3\" >0.0878</td>\n",
       "            </tr>\n",
       "    </tbody></table>"
      ],
      "text/plain": [
       "<pandas.io.formats.style.Styler at 0x7f44359d7310>"
      ]
     },
     "metadata": {},
     "output_type": "display_data"
    },
    {
     "name": "stdout",
     "output_type": "stream",
     "text": [
      "[\u001b[1mtardis.simulation.base\u001b[0m][\u001b[1;37mINFO\u001b[0m   ]  \n",
      "\t\n",
      "\tCurrent t_inner = 10654.313 K\n",
      "\tExpected t_inner for next iteration = 10628.190 K\n",
      " (\u001b[1mbase.py\u001b[0m:550)\n"
     ]
    },
    {
     "name": "stdout",
     "output_type": "stream",
     "text": [
      "[\u001b[1mtardis.simulation.base\u001b[0m][\u001b[1;37mINFO\u001b[0m   ]  \n",
      "\t\n",
      "\tStarting iteration 11 of 20 (\u001b[1mbase.py\u001b[0m:381)\n"
     ]
    },
    {
     "name": "stdout",
     "output_type": "stream",
     "text": [
      "[\u001b[1mtardis.simulation.base\u001b[0m][\u001b[1;37mINFO\u001b[0m   ]  \n",
      "\t\n",
      "\tLuminosity emitted   = 1.053e+43 erg / s\n",
      "\tLuminosity absorbed  = 3.363e+42 erg / s\n",
      "\tLuminosity requested = 1.059e+43 erg / s\n",
      " (\u001b[1mbase.py\u001b[0m:555)\n"
     ]
    },
    {
     "name": "stdout",
     "output_type": "stream",
     "text": [
      "[\u001b[1mtardis.simulation.base\u001b[0m][\u001b[1;37mINFO\u001b[0m   ]  \n",
      "\tIteration converged 1/4 consecutive times. (\u001b[1mbase.py\u001b[0m:262)\n"
     ]
    },
    {
     "name": "stdout",
     "output_type": "stream",
     "text": [
      "[\u001b[1mtardis.simulation.base\u001b[0m][\u001b[1;37mINFO\u001b[0m   ]  \n",
      "\t\n",
      "\tPlasma stratification: (\u001b[1mbase.py\u001b[0m:523)\n"
     ]
    },
    {
     "data": {
      "text/html": [
       "<style  type=\"text/css\" >\n",
       "</style><table id=\"T_66e63932_18d6_11ed_9656_000d3a5793e5\" ><thead>    <tr>        <th class=\"index_name level0\" >Shell No.</th>        <th class=\"col_heading level0 col0\" >t_rad</th>        <th class=\"col_heading level0 col1\" >next_t_rad</th>        <th class=\"col_heading level0 col2\" >w</th>        <th class=\"col_heading level0 col3\" >next_w</th>    </tr></thead><tbody>\n",
       "                <tr>\n",
       "                        <th id=\"T_66e63932_18d6_11ed_9656_000d3a5793e5level0_row0\" class=\"row_heading level0 row0\" >0</th>\n",
       "                        <td id=\"T_66e63932_18d6_11ed_9656_000d3a5793e5row0_col0\" class=\"data row0 col0\" >1.1e+04</td>\n",
       "                        <td id=\"T_66e63932_18d6_11ed_9656_000d3a5793e5row0_col1\" class=\"data row0 col1\" >1.1e+04</td>\n",
       "                        <td id=\"T_66e63932_18d6_11ed_9656_000d3a5793e5row0_col2\" class=\"data row0 col2\" >0.475</td>\n",
       "                        <td id=\"T_66e63932_18d6_11ed_9656_000d3a5793e5row0_col3\" class=\"data row0 col3\" >0.472</td>\n",
       "            </tr>\n",
       "            <tr>\n",
       "                        <th id=\"T_66e63932_18d6_11ed_9656_000d3a5793e5level0_row1\" class=\"row_heading level0 row1\" >5</th>\n",
       "                        <td id=\"T_66e63932_18d6_11ed_9656_000d3a5793e5row1_col0\" class=\"data row1 col0\" >1.14e+04</td>\n",
       "                        <td id=\"T_66e63932_18d6_11ed_9656_000d3a5793e5row1_col1\" class=\"data row1 col1\" >1.12e+04</td>\n",
       "                        <td id=\"T_66e63932_18d6_11ed_9656_000d3a5793e5row1_col2\" class=\"data row1 col2\" >0.177</td>\n",
       "                        <td id=\"T_66e63932_18d6_11ed_9656_000d3a5793e5row1_col3\" class=\"data row1 col3\" >0.184</td>\n",
       "            </tr>\n",
       "            <tr>\n",
       "                        <th id=\"T_66e63932_18d6_11ed_9656_000d3a5793e5level0_row2\" class=\"row_heading level0 row2\" >10</th>\n",
       "                        <td id=\"T_66e63932_18d6_11ed_9656_000d3a5793e5row2_col0\" class=\"data row2 col0\" >1.11e+04</td>\n",
       "                        <td id=\"T_66e63932_18d6_11ed_9656_000d3a5793e5row2_col1\" class=\"data row2 col1\" >1.1e+04</td>\n",
       "                        <td id=\"T_66e63932_18d6_11ed_9656_000d3a5793e5row2_col2\" class=\"data row2 col2\" >0.112</td>\n",
       "                        <td id=\"T_66e63932_18d6_11ed_9656_000d3a5793e5row2_col3\" class=\"data row2 col3\" >0.114</td>\n",
       "            </tr>\n",
       "            <tr>\n",
       "                        <th id=\"T_66e63932_18d6_11ed_9656_000d3a5793e5level0_row3\" class=\"row_heading level0 row3\" >15</th>\n",
       "                        <td id=\"T_66e63932_18d6_11ed_9656_000d3a5793e5row3_col0\" class=\"data row3 col0\" >1.06e+04</td>\n",
       "                        <td id=\"T_66e63932_18d6_11ed_9656_000d3a5793e5row3_col1\" class=\"data row3 col1\" >1.06e+04</td>\n",
       "                        <td id=\"T_66e63932_18d6_11ed_9656_000d3a5793e5row3_col2\" class=\"data row3 col2\" >0.0878</td>\n",
       "                        <td id=\"T_66e63932_18d6_11ed_9656_000d3a5793e5row3_col3\" class=\"data row3 col3\" >0.0859</td>\n",
       "            </tr>\n",
       "    </tbody></table>"
      ],
      "text/plain": [
       "<pandas.io.formats.style.Styler at 0x7f44359d7880>"
      ]
     },
     "metadata": {},
     "output_type": "display_data"
    },
    {
     "name": "stdout",
     "output_type": "stream",
     "text": [
      "[\u001b[1mtardis.simulation.base\u001b[0m][\u001b[1;37mINFO\u001b[0m   ]  \n",
      "\t\n",
      "\tCurrent t_inner = 10628.190 K\n",
      "\tExpected t_inner for next iteration = 10644.054 K\n",
      " (\u001b[1mbase.py\u001b[0m:550)\n"
     ]
    },
    {
     "name": "stdout",
     "output_type": "stream",
     "text": [
      "[\u001b[1mtardis.simulation.base\u001b[0m][\u001b[1;37mINFO\u001b[0m   ]  \n",
      "\t\n",
      "\tStarting iteration 12 of 20 (\u001b[1mbase.py\u001b[0m:381)\n"
     ]
    },
    {
     "name": "stdout",
     "output_type": "stream",
     "text": [
      "[\u001b[1mtardis.simulation.base\u001b[0m][\u001b[1;37mINFO\u001b[0m   ]  \n",
      "\t\n",
      "\tLuminosity emitted   = 1.056e+43 erg / s\n",
      "\tLuminosity absorbed  = 3.420e+42 erg / s\n",
      "\tLuminosity requested = 1.059e+43 erg / s\n",
      " (\u001b[1mbase.py\u001b[0m:555)\n"
     ]
    },
    {
     "name": "stdout",
     "output_type": "stream",
     "text": [
      "[\u001b[1mtardis.simulation.base\u001b[0m][\u001b[1;37mINFO\u001b[0m   ]  \n",
      "\t\n",
      "\tPlasma stratification: (\u001b[1mbase.py\u001b[0m:523)\n"
     ]
    },
    {
     "data": {
      "text/html": [
       "<style  type=\"text/css\" >\n",
       "</style><table id=\"T_6782a7d6_18d6_11ed_9656_000d3a5793e5\" ><thead>    <tr>        <th class=\"index_name level0\" >Shell No.</th>        <th class=\"col_heading level0 col0\" >t_rad</th>        <th class=\"col_heading level0 col1\" >next_t_rad</th>        <th class=\"col_heading level0 col2\" >w</th>        <th class=\"col_heading level0 col3\" >next_w</th>    </tr></thead><tbody>\n",
       "                <tr>\n",
       "                        <th id=\"T_6782a7d6_18d6_11ed_9656_000d3a5793e5level0_row0\" class=\"row_heading level0 row0\" >0</th>\n",
       "                        <td id=\"T_6782a7d6_18d6_11ed_9656_000d3a5793e5row0_col0\" class=\"data row0 col0\" >1.1e+04</td>\n",
       "                        <td id=\"T_6782a7d6_18d6_11ed_9656_000d3a5793e5row0_col1\" class=\"data row0 col1\" >1.11e+04</td>\n",
       "                        <td id=\"T_6782a7d6_18d6_11ed_9656_000d3a5793e5row0_col2\" class=\"data row0 col2\" >0.472</td>\n",
       "                        <td id=\"T_6782a7d6_18d6_11ed_9656_000d3a5793e5row0_col3\" class=\"data row0 col3\" >0.467</td>\n",
       "            </tr>\n",
       "            <tr>\n",
       "                        <th id=\"T_6782a7d6_18d6_11ed_9656_000d3a5793e5level0_row1\" class=\"row_heading level0 row1\" >5</th>\n",
       "                        <td id=\"T_6782a7d6_18d6_11ed_9656_000d3a5793e5row1_col0\" class=\"data row1 col0\" >1.12e+04</td>\n",
       "                        <td id=\"T_6782a7d6_18d6_11ed_9656_000d3a5793e5row1_col1\" class=\"data row1 col1\" >1.13e+04</td>\n",
       "                        <td id=\"T_6782a7d6_18d6_11ed_9656_000d3a5793e5row1_col2\" class=\"data row1 col2\" >0.184</td>\n",
       "                        <td id=\"T_6782a7d6_18d6_11ed_9656_000d3a5793e5row1_col3\" class=\"data row1 col3\" >0.176</td>\n",
       "            </tr>\n",
       "            <tr>\n",
       "                        <th id=\"T_6782a7d6_18d6_11ed_9656_000d3a5793e5level0_row2\" class=\"row_heading level0 row2\" >10</th>\n",
       "                        <td id=\"T_6782a7d6_18d6_11ed_9656_000d3a5793e5row2_col0\" class=\"data row2 col0\" >1.1e+04</td>\n",
       "                        <td id=\"T_6782a7d6_18d6_11ed_9656_000d3a5793e5row2_col1\" class=\"data row2 col1\" >1.11e+04</td>\n",
       "                        <td id=\"T_6782a7d6_18d6_11ed_9656_000d3a5793e5row2_col2\" class=\"data row2 col2\" >0.114</td>\n",
       "                        <td id=\"T_6782a7d6_18d6_11ed_9656_000d3a5793e5row2_col3\" class=\"data row2 col3\" >0.11</td>\n",
       "            </tr>\n",
       "            <tr>\n",
       "                        <th id=\"T_6782a7d6_18d6_11ed_9656_000d3a5793e5level0_row3\" class=\"row_heading level0 row3\" >15</th>\n",
       "                        <td id=\"T_6782a7d6_18d6_11ed_9656_000d3a5793e5row3_col0\" class=\"data row3 col0\" >1.06e+04</td>\n",
       "                        <td id=\"T_6782a7d6_18d6_11ed_9656_000d3a5793e5row3_col1\" class=\"data row3 col1\" >1.08e+04</td>\n",
       "                        <td id=\"T_6782a7d6_18d6_11ed_9656_000d3a5793e5row3_col2\" class=\"data row3 col2\" >0.0859</td>\n",
       "                        <td id=\"T_6782a7d6_18d6_11ed_9656_000d3a5793e5row3_col3\" class=\"data row3 col3\" >0.0821</td>\n",
       "            </tr>\n",
       "    </tbody></table>"
      ],
      "text/plain": [
       "<pandas.io.formats.style.Styler at 0x7f44359cb820>"
      ]
     },
     "metadata": {},
     "output_type": "display_data"
    },
    {
     "name": "stdout",
     "output_type": "stream",
     "text": [
      "[\u001b[1mtardis.simulation.base\u001b[0m][\u001b[1;37mINFO\u001b[0m   ]  \n",
      "\t\n",
      "\tCurrent t_inner = 10644.054 K\n",
      "\tExpected t_inner for next iteration = 10653.543 K\n",
      " (\u001b[1mbase.py\u001b[0m:550)\n"
     ]
    },
    {
     "name": "stdout",
     "output_type": "stream",
     "text": [
      "[\u001b[1mtardis.simulation.base\u001b[0m][\u001b[1;37mINFO\u001b[0m   ]  \n",
      "\t\n",
      "\tStarting iteration 13 of 20 (\u001b[1mbase.py\u001b[0m:381)\n"
     ]
    },
    {
     "name": "stdout",
     "output_type": "stream",
     "text": [
      "[\u001b[1mtardis.simulation.base\u001b[0m][\u001b[1;37mINFO\u001b[0m   ]  \n",
      "\t\n",
      "\tLuminosity emitted   = 1.062e+43 erg / s\n",
      "\tLuminosity absorbed  = 3.406e+42 erg / s\n",
      "\tLuminosity requested = 1.059e+43 erg / s\n",
      " (\u001b[1mbase.py\u001b[0m:555)\n"
     ]
    },
    {
     "name": "stdout",
     "output_type": "stream",
     "text": [
      "[\u001b[1mtardis.simulation.base\u001b[0m][\u001b[1;37mINFO\u001b[0m   ]  \n",
      "\tIteration converged 1/4 consecutive times. (\u001b[1mbase.py\u001b[0m:262)\n"
     ]
    },
    {
     "name": "stdout",
     "output_type": "stream",
     "text": [
      "[\u001b[1mtardis.simulation.base\u001b[0m][\u001b[1;37mINFO\u001b[0m   ]  \n",
      "\t\n",
      "\tPlasma stratification: (\u001b[1mbase.py\u001b[0m:523)\n"
     ]
    },
    {
     "data": {
      "text/html": [
       "<style  type=\"text/css\" >\n",
       "</style><table id=\"T_681f80d8_18d6_11ed_9656_000d3a5793e5\" ><thead>    <tr>        <th class=\"index_name level0\" >Shell No.</th>        <th class=\"col_heading level0 col0\" >t_rad</th>        <th class=\"col_heading level0 col1\" >next_t_rad</th>        <th class=\"col_heading level0 col2\" >w</th>        <th class=\"col_heading level0 col3\" >next_w</th>    </tr></thead><tbody>\n",
       "                <tr>\n",
       "                        <th id=\"T_681f80d8_18d6_11ed_9656_000d3a5793e5level0_row0\" class=\"row_heading level0 row0\" >0</th>\n",
       "                        <td id=\"T_681f80d8_18d6_11ed_9656_000d3a5793e5row0_col0\" class=\"data row0 col0\" >1.11e+04</td>\n",
       "                        <td id=\"T_681f80d8_18d6_11ed_9656_000d3a5793e5row0_col1\" class=\"data row0 col1\" >1.11e+04</td>\n",
       "                        <td id=\"T_681f80d8_18d6_11ed_9656_000d3a5793e5row0_col2\" class=\"data row0 col2\" >0.467</td>\n",
       "                        <td id=\"T_681f80d8_18d6_11ed_9656_000d3a5793e5row0_col3\" class=\"data row0 col3\" >0.466</td>\n",
       "            </tr>\n",
       "            <tr>\n",
       "                        <th id=\"T_681f80d8_18d6_11ed_9656_000d3a5793e5level0_row1\" class=\"row_heading level0 row1\" >5</th>\n",
       "                        <td id=\"T_681f80d8_18d6_11ed_9656_000d3a5793e5row1_col0\" class=\"data row1 col0\" >1.13e+04</td>\n",
       "                        <td id=\"T_681f80d8_18d6_11ed_9656_000d3a5793e5row1_col1\" class=\"data row1 col1\" >1.13e+04</td>\n",
       "                        <td id=\"T_681f80d8_18d6_11ed_9656_000d3a5793e5row1_col2\" class=\"data row1 col2\" >0.176</td>\n",
       "                        <td id=\"T_681f80d8_18d6_11ed_9656_000d3a5793e5row1_col3\" class=\"data row1 col3\" >0.18</td>\n",
       "            </tr>\n",
       "            <tr>\n",
       "                        <th id=\"T_681f80d8_18d6_11ed_9656_000d3a5793e5level0_row2\" class=\"row_heading level0 row2\" >10</th>\n",
       "                        <td id=\"T_681f80d8_18d6_11ed_9656_000d3a5793e5row2_col0\" class=\"data row2 col0\" >1.11e+04</td>\n",
       "                        <td id=\"T_681f80d8_18d6_11ed_9656_000d3a5793e5row2_col1\" class=\"data row2 col1\" >1.11e+04</td>\n",
       "                        <td id=\"T_681f80d8_18d6_11ed_9656_000d3a5793e5row2_col2\" class=\"data row2 col2\" >0.11</td>\n",
       "                        <td id=\"T_681f80d8_18d6_11ed_9656_000d3a5793e5row2_col3\" class=\"data row2 col3\" >0.111</td>\n",
       "            </tr>\n",
       "            <tr>\n",
       "                        <th id=\"T_681f80d8_18d6_11ed_9656_000d3a5793e5level0_row3\" class=\"row_heading level0 row3\" >15</th>\n",
       "                        <td id=\"T_681f80d8_18d6_11ed_9656_000d3a5793e5row3_col0\" class=\"data row3 col0\" >1.08e+04</td>\n",
       "                        <td id=\"T_681f80d8_18d6_11ed_9656_000d3a5793e5row3_col1\" class=\"data row3 col1\" >1.08e+04</td>\n",
       "                        <td id=\"T_681f80d8_18d6_11ed_9656_000d3a5793e5row3_col2\" class=\"data row3 col2\" >0.0821</td>\n",
       "                        <td id=\"T_681f80d8_18d6_11ed_9656_000d3a5793e5row3_col3\" class=\"data row3 col3\" >0.0841</td>\n",
       "            </tr>\n",
       "    </tbody></table>"
      ],
      "text/plain": [
       "<pandas.io.formats.style.Styler at 0x7f44359cbe50>"
      ]
     },
     "metadata": {},
     "output_type": "display_data"
    },
    {
     "name": "stdout",
     "output_type": "stream",
     "text": [
      "[\u001b[1mtardis.simulation.base\u001b[0m][\u001b[1;37mINFO\u001b[0m   ]  \n",
      "\t\n",
      "\tCurrent t_inner = 10653.543 K\n",
      "\tExpected t_inner for next iteration = 10647.277 K\n",
      " (\u001b[1mbase.py\u001b[0m:550)\n"
     ]
    },
    {
     "name": "stdout",
     "output_type": "stream",
     "text": [
      "[\u001b[1mtardis.simulation.base\u001b[0m][\u001b[1;37mINFO\u001b[0m   ]  \n",
      "\t\n",
      "\tStarting iteration 14 of 20 (\u001b[1mbase.py\u001b[0m:381)\n"
     ]
    },
    {
     "name": "stdout",
     "output_type": "stream",
     "text": [
      "[\u001b[1mtardis.simulation.base\u001b[0m][\u001b[1;37mINFO\u001b[0m   ]  \n",
      "\t\n",
      "\tLuminosity emitted   = 1.063e+43 erg / s\n",
      "\tLuminosity absorbed  = 3.369e+42 erg / s\n",
      "\tLuminosity requested = 1.059e+43 erg / s\n",
      " (\u001b[1mbase.py\u001b[0m:555)\n"
     ]
    },
    {
     "name": "stdout",
     "output_type": "stream",
     "text": [
      "[\u001b[1mtardis.simulation.base\u001b[0m][\u001b[1;37mINFO\u001b[0m   ]  \n",
      "\tIteration converged 2/4 consecutive times. (\u001b[1mbase.py\u001b[0m:262)\n"
     ]
    },
    {
     "name": "stdout",
     "output_type": "stream",
     "text": [
      "[\u001b[1mtardis.simulation.base\u001b[0m][\u001b[1;37mINFO\u001b[0m   ]  \n",
      "\t\n",
      "\tPlasma stratification: (\u001b[1mbase.py\u001b[0m:523)\n"
     ]
    },
    {
     "data": {
      "text/html": [
       "<style  type=\"text/css\" >\n",
       "</style><table id=\"T_68c2db0c_18d6_11ed_9656_000d3a5793e5\" ><thead>    <tr>        <th class=\"index_name level0\" >Shell No.</th>        <th class=\"col_heading level0 col0\" >t_rad</th>        <th class=\"col_heading level0 col1\" >next_t_rad</th>        <th class=\"col_heading level0 col2\" >w</th>        <th class=\"col_heading level0 col3\" >next_w</th>    </tr></thead><tbody>\n",
       "                <tr>\n",
       "                        <th id=\"T_68c2db0c_18d6_11ed_9656_000d3a5793e5level0_row0\" class=\"row_heading level0 row0\" >0</th>\n",
       "                        <td id=\"T_68c2db0c_18d6_11ed_9656_000d3a5793e5row0_col0\" class=\"data row0 col0\" >1.11e+04</td>\n",
       "                        <td id=\"T_68c2db0c_18d6_11ed_9656_000d3a5793e5row0_col1\" class=\"data row0 col1\" >1.11e+04</td>\n",
       "                        <td id=\"T_68c2db0c_18d6_11ed_9656_000d3a5793e5row0_col2\" class=\"data row0 col2\" >0.466</td>\n",
       "                        <td id=\"T_68c2db0c_18d6_11ed_9656_000d3a5793e5row0_col3\" class=\"data row0 col3\" >0.469</td>\n",
       "            </tr>\n",
       "            <tr>\n",
       "                        <th id=\"T_68c2db0c_18d6_11ed_9656_000d3a5793e5level0_row1\" class=\"row_heading level0 row1\" >5</th>\n",
       "                        <td id=\"T_68c2db0c_18d6_11ed_9656_000d3a5793e5row1_col0\" class=\"data row1 col0\" >1.13e+04</td>\n",
       "                        <td id=\"T_68c2db0c_18d6_11ed_9656_000d3a5793e5row1_col1\" class=\"data row1 col1\" >1.13e+04</td>\n",
       "                        <td id=\"T_68c2db0c_18d6_11ed_9656_000d3a5793e5row1_col2\" class=\"data row1 col2\" >0.18</td>\n",
       "                        <td id=\"T_68c2db0c_18d6_11ed_9656_000d3a5793e5row1_col3\" class=\"data row1 col3\" >0.182</td>\n",
       "            </tr>\n",
       "            <tr>\n",
       "                        <th id=\"T_68c2db0c_18d6_11ed_9656_000d3a5793e5level0_row2\" class=\"row_heading level0 row2\" >10</th>\n",
       "                        <td id=\"T_68c2db0c_18d6_11ed_9656_000d3a5793e5row2_col0\" class=\"data row2 col0\" >1.11e+04</td>\n",
       "                        <td id=\"T_68c2db0c_18d6_11ed_9656_000d3a5793e5row2_col1\" class=\"data row2 col1\" >1.1e+04</td>\n",
       "                        <td id=\"T_68c2db0c_18d6_11ed_9656_000d3a5793e5row2_col2\" class=\"data row2 col2\" >0.111</td>\n",
       "                        <td id=\"T_68c2db0c_18d6_11ed_9656_000d3a5793e5row2_col3\" class=\"data row2 col3\" >0.113</td>\n",
       "            </tr>\n",
       "            <tr>\n",
       "                        <th id=\"T_68c2db0c_18d6_11ed_9656_000d3a5793e5level0_row3\" class=\"row_heading level0 row3\" >15</th>\n",
       "                        <td id=\"T_68c2db0c_18d6_11ed_9656_000d3a5793e5row3_col0\" class=\"data row3 col0\" >1.08e+04</td>\n",
       "                        <td id=\"T_68c2db0c_18d6_11ed_9656_000d3a5793e5row3_col1\" class=\"data row3 col1\" >1.07e+04</td>\n",
       "                        <td id=\"T_68c2db0c_18d6_11ed_9656_000d3a5793e5row3_col2\" class=\"data row3 col2\" >0.0841</td>\n",
       "                        <td id=\"T_68c2db0c_18d6_11ed_9656_000d3a5793e5row3_col3\" class=\"data row3 col3\" >0.0854</td>\n",
       "            </tr>\n",
       "    </tbody></table>"
      ],
      "text/plain": [
       "<pandas.io.formats.style.Styler at 0x7f44359fb850>"
      ]
     },
     "metadata": {},
     "output_type": "display_data"
    },
    {
     "name": "stdout",
     "output_type": "stream",
     "text": [
      "[\u001b[1mtardis.simulation.base\u001b[0m][\u001b[1;37mINFO\u001b[0m   ]  \n",
      "\t\n",
      "\tCurrent t_inner = 10647.277 K\n",
      "\tExpected t_inner for next iteration = 10638.875 K\n",
      " (\u001b[1mbase.py\u001b[0m:550)\n"
     ]
    },
    {
     "name": "stdout",
     "output_type": "stream",
     "text": [
      "[\u001b[1mtardis.simulation.base\u001b[0m][\u001b[1;37mINFO\u001b[0m   ]  \n",
      "\t\n",
      "\tStarting iteration 15 of 20 (\u001b[1mbase.py\u001b[0m:381)\n"
     ]
    },
    {
     "name": "stdout",
     "output_type": "stream",
     "text": [
      "[\u001b[1mtardis.simulation.base\u001b[0m][\u001b[1;37mINFO\u001b[0m   ]  \n",
      "\t\n",
      "\tLuminosity emitted   = 1.053e+43 erg / s\n",
      "\tLuminosity absorbed  = 3.417e+42 erg / s\n",
      "\tLuminosity requested = 1.059e+43 erg / s\n",
      " (\u001b[1mbase.py\u001b[0m:555)\n"
     ]
    },
    {
     "name": "stdout",
     "output_type": "stream",
     "text": [
      "[\u001b[1mtardis.simulation.base\u001b[0m][\u001b[1;37mINFO\u001b[0m   ]  \n",
      "\tIteration converged 3/4 consecutive times. (\u001b[1mbase.py\u001b[0m:262)\n"
     ]
    },
    {
     "name": "stdout",
     "output_type": "stream",
     "text": [
      "[\u001b[1mtardis.simulation.base\u001b[0m][\u001b[1;37mINFO\u001b[0m   ]  \n",
      "\t\n",
      "\tPlasma stratification: (\u001b[1mbase.py\u001b[0m:523)\n"
     ]
    },
    {
     "data": {
      "text/html": [
       "<style  type=\"text/css\" >\n",
       "</style><table id=\"T_69627f4a_18d6_11ed_9656_000d3a5793e5\" ><thead>    <tr>        <th class=\"index_name level0\" >Shell No.</th>        <th class=\"col_heading level0 col0\" >t_rad</th>        <th class=\"col_heading level0 col1\" >next_t_rad</th>        <th class=\"col_heading level0 col2\" >w</th>        <th class=\"col_heading level0 col3\" >next_w</th>    </tr></thead><tbody>\n",
       "                <tr>\n",
       "                        <th id=\"T_69627f4a_18d6_11ed_9656_000d3a5793e5level0_row0\" class=\"row_heading level0 row0\" >0</th>\n",
       "                        <td id=\"T_69627f4a_18d6_11ed_9656_000d3a5793e5row0_col0\" class=\"data row0 col0\" >1.11e+04</td>\n",
       "                        <td id=\"T_69627f4a_18d6_11ed_9656_000d3a5793e5row0_col1\" class=\"data row0 col1\" >1.1e+04</td>\n",
       "                        <td id=\"T_69627f4a_18d6_11ed_9656_000d3a5793e5row0_col2\" class=\"data row0 col2\" >0.469</td>\n",
       "                        <td id=\"T_69627f4a_18d6_11ed_9656_000d3a5793e5row0_col3\" class=\"data row0 col3\" >0.484</td>\n",
       "            </tr>\n",
       "            <tr>\n",
       "                        <th id=\"T_69627f4a_18d6_11ed_9656_000d3a5793e5level0_row1\" class=\"row_heading level0 row1\" >5</th>\n",
       "                        <td id=\"T_69627f4a_18d6_11ed_9656_000d3a5793e5row1_col0\" class=\"data row1 col0\" >1.13e+04</td>\n",
       "                        <td id=\"T_69627f4a_18d6_11ed_9656_000d3a5793e5row1_col1\" class=\"data row1 col1\" >1.13e+04</td>\n",
       "                        <td id=\"T_69627f4a_18d6_11ed_9656_000d3a5793e5row1_col2\" class=\"data row1 col2\" >0.182</td>\n",
       "                        <td id=\"T_69627f4a_18d6_11ed_9656_000d3a5793e5row1_col3\" class=\"data row1 col3\" >0.181</td>\n",
       "            </tr>\n",
       "            <tr>\n",
       "                        <th id=\"T_69627f4a_18d6_11ed_9656_000d3a5793e5level0_row2\" class=\"row_heading level0 row2\" >10</th>\n",
       "                        <td id=\"T_69627f4a_18d6_11ed_9656_000d3a5793e5row2_col0\" class=\"data row2 col0\" >1.1e+04</td>\n",
       "                        <td id=\"T_69627f4a_18d6_11ed_9656_000d3a5793e5row2_col1\" class=\"data row2 col1\" >1.1e+04</td>\n",
       "                        <td id=\"T_69627f4a_18d6_11ed_9656_000d3a5793e5row2_col2\" class=\"data row2 col2\" >0.113</td>\n",
       "                        <td id=\"T_69627f4a_18d6_11ed_9656_000d3a5793e5row2_col3\" class=\"data row2 col3\" >0.113</td>\n",
       "            </tr>\n",
       "            <tr>\n",
       "                        <th id=\"T_69627f4a_18d6_11ed_9656_000d3a5793e5level0_row3\" class=\"row_heading level0 row3\" >15</th>\n",
       "                        <td id=\"T_69627f4a_18d6_11ed_9656_000d3a5793e5row3_col0\" class=\"data row3 col0\" >1.07e+04</td>\n",
       "                        <td id=\"T_69627f4a_18d6_11ed_9656_000d3a5793e5row3_col1\" class=\"data row3 col1\" >1.07e+04</td>\n",
       "                        <td id=\"T_69627f4a_18d6_11ed_9656_000d3a5793e5row3_col2\" class=\"data row3 col2\" >0.0854</td>\n",
       "                        <td id=\"T_69627f4a_18d6_11ed_9656_000d3a5793e5row3_col3\" class=\"data row3 col3\" >0.0858</td>\n",
       "            </tr>\n",
       "    </tbody></table>"
      ],
      "text/plain": [
       "<pandas.io.formats.style.Styler at 0x7f44391302e0>"
      ]
     },
     "metadata": {},
     "output_type": "display_data"
    },
    {
     "name": "stdout",
     "output_type": "stream",
     "text": [
      "[\u001b[1mtardis.simulation.base\u001b[0m][\u001b[1;37mINFO\u001b[0m   ]  \n",
      "\t\n",
      "\tCurrent t_inner = 10638.875 K\n",
      "\tExpected t_inner for next iteration = 10655.125 K\n",
      " (\u001b[1mbase.py\u001b[0m:550)\n"
     ]
    },
    {
     "name": "stdout",
     "output_type": "stream",
     "text": [
      "[\u001b[1mtardis.simulation.base\u001b[0m][\u001b[1;37mINFO\u001b[0m   ]  \n",
      "\t\n",
      "\tStarting iteration 16 of 20 (\u001b[1mbase.py\u001b[0m:381)\n"
     ]
    },
    {
     "name": "stdout",
     "output_type": "stream",
     "text": [
      "[\u001b[1mtardis.simulation.base\u001b[0m][\u001b[1;37mINFO\u001b[0m   ]  \n",
      "\t\n",
      "\tLuminosity emitted   = 1.059e+43 erg / s\n",
      "\tLuminosity absorbed  = 3.445e+42 erg / s\n",
      "\tLuminosity requested = 1.059e+43 erg / s\n",
      " (\u001b[1mbase.py\u001b[0m:555)\n"
     ]
    },
    {
     "name": "stdout",
     "output_type": "stream",
     "text": [
      "[\u001b[1mtardis.simulation.base\u001b[0m][\u001b[1;37mINFO\u001b[0m   ]  \n",
      "\tIteration converged 4/4 consecutive times. (\u001b[1mbase.py\u001b[0m:262)\n"
     ]
    },
    {
     "name": "stdout",
     "output_type": "stream",
     "text": [
      "[\u001b[1mtardis.simulation.base\u001b[0m][\u001b[1;37mINFO\u001b[0m   ]  \n",
      "\t\n",
      "\tPlasma stratification: (\u001b[1mbase.py\u001b[0m:523)\n"
     ]
    },
    {
     "data": {
      "text/html": [
       "<style  type=\"text/css\" >\n",
       "</style><table id=\"T_6a004d7e_18d6_11ed_9656_000d3a5793e5\" ><thead>    <tr>        <th class=\"index_name level0\" >Shell No.</th>        <th class=\"col_heading level0 col0\" >t_rad</th>        <th class=\"col_heading level0 col1\" >next_t_rad</th>        <th class=\"col_heading level0 col2\" >w</th>        <th class=\"col_heading level0 col3\" >next_w</th>    </tr></thead><tbody>\n",
       "                <tr>\n",
       "                        <th id=\"T_6a004d7e_18d6_11ed_9656_000d3a5793e5level0_row0\" class=\"row_heading level0 row0\" >0</th>\n",
       "                        <td id=\"T_6a004d7e_18d6_11ed_9656_000d3a5793e5row0_col0\" class=\"data row0 col0\" >1.1e+04</td>\n",
       "                        <td id=\"T_6a004d7e_18d6_11ed_9656_000d3a5793e5row0_col1\" class=\"data row0 col1\" >1.1e+04</td>\n",
       "                        <td id=\"T_6a004d7e_18d6_11ed_9656_000d3a5793e5row0_col2\" class=\"data row0 col2\" >0.484</td>\n",
       "                        <td id=\"T_6a004d7e_18d6_11ed_9656_000d3a5793e5row0_col3\" class=\"data row0 col3\" >0.472</td>\n",
       "            </tr>\n",
       "            <tr>\n",
       "                        <th id=\"T_6a004d7e_18d6_11ed_9656_000d3a5793e5level0_row1\" class=\"row_heading level0 row1\" >5</th>\n",
       "                        <td id=\"T_6a004d7e_18d6_11ed_9656_000d3a5793e5row1_col0\" class=\"data row1 col0\" >1.13e+04</td>\n",
       "                        <td id=\"T_6a004d7e_18d6_11ed_9656_000d3a5793e5row1_col1\" class=\"data row1 col1\" >1.13e+04</td>\n",
       "                        <td id=\"T_6a004d7e_18d6_11ed_9656_000d3a5793e5row1_col2\" class=\"data row1 col2\" >0.181</td>\n",
       "                        <td id=\"T_6a004d7e_18d6_11ed_9656_000d3a5793e5row1_col3\" class=\"data row1 col3\" >0.177</td>\n",
       "            </tr>\n",
       "            <tr>\n",
       "                        <th id=\"T_6a004d7e_18d6_11ed_9656_000d3a5793e5level0_row2\" class=\"row_heading level0 row2\" >10</th>\n",
       "                        <td id=\"T_6a004d7e_18d6_11ed_9656_000d3a5793e5row2_col0\" class=\"data row2 col0\" >1.1e+04</td>\n",
       "                        <td id=\"T_6a004d7e_18d6_11ed_9656_000d3a5793e5row2_col1\" class=\"data row2 col1\" >1.1e+04</td>\n",
       "                        <td id=\"T_6a004d7e_18d6_11ed_9656_000d3a5793e5row2_col2\" class=\"data row2 col2\" >0.113</td>\n",
       "                        <td id=\"T_6a004d7e_18d6_11ed_9656_000d3a5793e5row2_col3\" class=\"data row2 col3\" >0.113</td>\n",
       "            </tr>\n",
       "            <tr>\n",
       "                        <th id=\"T_6a004d7e_18d6_11ed_9656_000d3a5793e5level0_row3\" class=\"row_heading level0 row3\" >15</th>\n",
       "                        <td id=\"T_6a004d7e_18d6_11ed_9656_000d3a5793e5row3_col0\" class=\"data row3 col0\" >1.07e+04</td>\n",
       "                        <td id=\"T_6a004d7e_18d6_11ed_9656_000d3a5793e5row3_col1\" class=\"data row3 col1\" >1.06e+04</td>\n",
       "                        <td id=\"T_6a004d7e_18d6_11ed_9656_000d3a5793e5row3_col2\" class=\"data row3 col2\" >0.0858</td>\n",
       "                        <td id=\"T_6a004d7e_18d6_11ed_9656_000d3a5793e5row3_col3\" class=\"data row3 col3\" >0.0858</td>\n",
       "            </tr>\n",
       "    </tbody></table>"
      ],
      "text/plain": [
       "<pandas.io.formats.style.Styler at 0x7f4437982d60>"
      ]
     },
     "metadata": {},
     "output_type": "display_data"
    },
    {
     "name": "stdout",
     "output_type": "stream",
     "text": [
      "[\u001b[1mtardis.simulation.base\u001b[0m][\u001b[1;37mINFO\u001b[0m   ]  \n",
      "\t\n",
      "\tCurrent t_inner = 10655.125 K\n",
      "\tExpected t_inner for next iteration = 10655.561 K\n",
      " (\u001b[1mbase.py\u001b[0m:550)\n"
     ]
    },
    {
     "name": "stdout",
     "output_type": "stream",
     "text": [
      "[\u001b[1mtardis.simulation.base\u001b[0m][\u001b[1;37mINFO\u001b[0m   ]  \n",
      "\t\n",
      "\tStarting iteration 17 of 20 (\u001b[1mbase.py\u001b[0m:381)\n"
     ]
    },
    {
     "name": "stdout",
     "output_type": "stream",
     "text": [
      "[\u001b[1mtardis.simulation.base\u001b[0m][\u001b[1;37mINFO\u001b[0m   ]  \n",
      "\t\n",
      "\tLuminosity emitted   = 1.067e+43 erg / s\n",
      "\tLuminosity absorbed  = 3.372e+42 erg / s\n",
      "\tLuminosity requested = 1.059e+43 erg / s\n",
      " (\u001b[1mbase.py\u001b[0m:555)\n"
     ]
    },
    {
     "name": "stdout",
     "output_type": "stream",
     "text": [
      "[\u001b[1mtardis.simulation.base\u001b[0m][\u001b[1;37mINFO\u001b[0m   ]  \n",
      "\t\n",
      "\tPlasma stratification: (\u001b[1mbase.py\u001b[0m:523)\n"
     ]
    },
    {
     "data": {
      "text/html": [
       "<style  type=\"text/css\" >\n",
       "</style><table id=\"T_6a9cf76e_18d6_11ed_9656_000d3a5793e5\" ><thead>    <tr>        <th class=\"index_name level0\" >Shell No.</th>        <th class=\"col_heading level0 col0\" >t_rad</th>        <th class=\"col_heading level0 col1\" >next_t_rad</th>        <th class=\"col_heading level0 col2\" >w</th>        <th class=\"col_heading level0 col3\" >next_w</th>    </tr></thead><tbody>\n",
       "                <tr>\n",
       "                        <th id=\"T_6a9cf76e_18d6_11ed_9656_000d3a5793e5level0_row0\" class=\"row_heading level0 row0\" >0</th>\n",
       "                        <td id=\"T_6a9cf76e_18d6_11ed_9656_000d3a5793e5row0_col0\" class=\"data row0 col0\" >1.1e+04</td>\n",
       "                        <td id=\"T_6a9cf76e_18d6_11ed_9656_000d3a5793e5row0_col1\" class=\"data row0 col1\" >1.11e+04</td>\n",
       "                        <td id=\"T_6a9cf76e_18d6_11ed_9656_000d3a5793e5row0_col2\" class=\"data row0 col2\" >0.472</td>\n",
       "                        <td id=\"T_6a9cf76e_18d6_11ed_9656_000d3a5793e5row0_col3\" class=\"data row0 col3\" >0.468</td>\n",
       "            </tr>\n",
       "            <tr>\n",
       "                        <th id=\"T_6a9cf76e_18d6_11ed_9656_000d3a5793e5level0_row1\" class=\"row_heading level0 row1\" >5</th>\n",
       "                        <td id=\"T_6a9cf76e_18d6_11ed_9656_000d3a5793e5row1_col0\" class=\"data row1 col0\" >1.13e+04</td>\n",
       "                        <td id=\"T_6a9cf76e_18d6_11ed_9656_000d3a5793e5row1_col1\" class=\"data row1 col1\" >1.14e+04</td>\n",
       "                        <td id=\"T_6a9cf76e_18d6_11ed_9656_000d3a5793e5row1_col2\" class=\"data row1 col2\" >0.177</td>\n",
       "                        <td id=\"T_6a9cf76e_18d6_11ed_9656_000d3a5793e5row1_col3\" class=\"data row1 col3\" >0.175</td>\n",
       "            </tr>\n",
       "            <tr>\n",
       "                        <th id=\"T_6a9cf76e_18d6_11ed_9656_000d3a5793e5level0_row2\" class=\"row_heading level0 row2\" >10</th>\n",
       "                        <td id=\"T_6a9cf76e_18d6_11ed_9656_000d3a5793e5row2_col0\" class=\"data row2 col0\" >1.1e+04</td>\n",
       "                        <td id=\"T_6a9cf76e_18d6_11ed_9656_000d3a5793e5row2_col1\" class=\"data row2 col1\" >1.11e+04</td>\n",
       "                        <td id=\"T_6a9cf76e_18d6_11ed_9656_000d3a5793e5row2_col2\" class=\"data row2 col2\" >0.113</td>\n",
       "                        <td id=\"T_6a9cf76e_18d6_11ed_9656_000d3a5793e5row2_col3\" class=\"data row2 col3\" >0.11</td>\n",
       "            </tr>\n",
       "            <tr>\n",
       "                        <th id=\"T_6a9cf76e_18d6_11ed_9656_000d3a5793e5level0_row3\" class=\"row_heading level0 row3\" >15</th>\n",
       "                        <td id=\"T_6a9cf76e_18d6_11ed_9656_000d3a5793e5row3_col0\" class=\"data row3 col0\" >1.06e+04</td>\n",
       "                        <td id=\"T_6a9cf76e_18d6_11ed_9656_000d3a5793e5row3_col1\" class=\"data row3 col1\" >1.08e+04</td>\n",
       "                        <td id=\"T_6a9cf76e_18d6_11ed_9656_000d3a5793e5row3_col2\" class=\"data row3 col2\" >0.0858</td>\n",
       "                        <td id=\"T_6a9cf76e_18d6_11ed_9656_000d3a5793e5row3_col3\" class=\"data row3 col3\" >0.0816</td>\n",
       "            </tr>\n",
       "    </tbody></table>"
      ],
      "text/plain": [
       "<pandas.io.formats.style.Styler at 0x7f44359cb4c0>"
      ]
     },
     "metadata": {},
     "output_type": "display_data"
    },
    {
     "name": "stdout",
     "output_type": "stream",
     "text": [
      "[\u001b[1mtardis.simulation.base\u001b[0m][\u001b[1;37mINFO\u001b[0m   ]  \n",
      "\t\n",
      "\tCurrent t_inner = 10655.561 K\n",
      "\tExpected t_inner for next iteration = 10636.536 K\n",
      " (\u001b[1mbase.py\u001b[0m:550)\n"
     ]
    },
    {
     "name": "stdout",
     "output_type": "stream",
     "text": [
      "[\u001b[1mtardis.simulation.base\u001b[0m][\u001b[1;37mINFO\u001b[0m   ]  \n",
      "\t\n",
      "\tStarting iteration 18 of 20 (\u001b[1mbase.py\u001b[0m:381)\n"
     ]
    },
    {
     "name": "stdout",
     "output_type": "stream",
     "text": [
      "[\u001b[1mtardis.simulation.base\u001b[0m][\u001b[1;37mINFO\u001b[0m   ]  \n",
      "\t\n",
      "\tLuminosity emitted   = 1.057e+43 erg / s\n",
      "\tLuminosity absorbed  = 3.365e+42 erg / s\n",
      "\tLuminosity requested = 1.059e+43 erg / s\n",
      " (\u001b[1mbase.py\u001b[0m:555)\n"
     ]
    },
    {
     "name": "stdout",
     "output_type": "stream",
     "text": [
      "[\u001b[1mtardis.simulation.base\u001b[0m][\u001b[1;37mINFO\u001b[0m   ]  \n",
      "\tIteration converged 1/4 consecutive times. (\u001b[1mbase.py\u001b[0m:262)\n"
     ]
    },
    {
     "name": "stdout",
     "output_type": "stream",
     "text": [
      "[\u001b[1mtardis.simulation.base\u001b[0m][\u001b[1;37mINFO\u001b[0m   ]  \n",
      "\t\n",
      "\tPlasma stratification: (\u001b[1mbase.py\u001b[0m:523)\n"
     ]
    },
    {
     "data": {
      "text/html": [
       "<style  type=\"text/css\" >\n",
       "</style><table id=\"T_6b42d774_18d6_11ed_9656_000d3a5793e5\" ><thead>    <tr>        <th class=\"index_name level0\" >Shell No.</th>        <th class=\"col_heading level0 col0\" >t_rad</th>        <th class=\"col_heading level0 col1\" >next_t_rad</th>        <th class=\"col_heading level0 col2\" >w</th>        <th class=\"col_heading level0 col3\" >next_w</th>    </tr></thead><tbody>\n",
       "                <tr>\n",
       "                        <th id=\"T_6b42d774_18d6_11ed_9656_000d3a5793e5level0_row0\" class=\"row_heading level0 row0\" >0</th>\n",
       "                        <td id=\"T_6b42d774_18d6_11ed_9656_000d3a5793e5row0_col0\" class=\"data row0 col0\" >1.11e+04</td>\n",
       "                        <td id=\"T_6b42d774_18d6_11ed_9656_000d3a5793e5row0_col1\" class=\"data row0 col1\" >1.11e+04</td>\n",
       "                        <td id=\"T_6b42d774_18d6_11ed_9656_000d3a5793e5row0_col2\" class=\"data row0 col2\" >0.468</td>\n",
       "                        <td id=\"T_6b42d774_18d6_11ed_9656_000d3a5793e5row0_col3\" class=\"data row0 col3\" >0.464</td>\n",
       "            </tr>\n",
       "            <tr>\n",
       "                        <th id=\"T_6b42d774_18d6_11ed_9656_000d3a5793e5level0_row1\" class=\"row_heading level0 row1\" >5</th>\n",
       "                        <td id=\"T_6b42d774_18d6_11ed_9656_000d3a5793e5row1_col0\" class=\"data row1 col0\" >1.14e+04</td>\n",
       "                        <td id=\"T_6b42d774_18d6_11ed_9656_000d3a5793e5row1_col1\" class=\"data row1 col1\" >1.13e+04</td>\n",
       "                        <td id=\"T_6b42d774_18d6_11ed_9656_000d3a5793e5row1_col2\" class=\"data row1 col2\" >0.175</td>\n",
       "                        <td id=\"T_6b42d774_18d6_11ed_9656_000d3a5793e5row1_col3\" class=\"data row1 col3\" >0.177</td>\n",
       "            </tr>\n",
       "            <tr>\n",
       "                        <th id=\"T_6b42d774_18d6_11ed_9656_000d3a5793e5level0_row2\" class=\"row_heading level0 row2\" >10</th>\n",
       "                        <td id=\"T_6b42d774_18d6_11ed_9656_000d3a5793e5row2_col0\" class=\"data row2 col0\" >1.11e+04</td>\n",
       "                        <td id=\"T_6b42d774_18d6_11ed_9656_000d3a5793e5row2_col1\" class=\"data row2 col1\" >1.1e+04</td>\n",
       "                        <td id=\"T_6b42d774_18d6_11ed_9656_000d3a5793e5row2_col2\" class=\"data row2 col2\" >0.11</td>\n",
       "                        <td id=\"T_6b42d774_18d6_11ed_9656_000d3a5793e5row2_col3\" class=\"data row2 col3\" >0.113</td>\n",
       "            </tr>\n",
       "            <tr>\n",
       "                        <th id=\"T_6b42d774_18d6_11ed_9656_000d3a5793e5level0_row3\" class=\"row_heading level0 row3\" >15</th>\n",
       "                        <td id=\"T_6b42d774_18d6_11ed_9656_000d3a5793e5row3_col0\" class=\"data row3 col0\" >1.08e+04</td>\n",
       "                        <td id=\"T_6b42d774_18d6_11ed_9656_000d3a5793e5row3_col1\" class=\"data row3 col1\" >1.07e+04</td>\n",
       "                        <td id=\"T_6b42d774_18d6_11ed_9656_000d3a5793e5row3_col2\" class=\"data row3 col2\" >0.0816</td>\n",
       "                        <td id=\"T_6b42d774_18d6_11ed_9656_000d3a5793e5row3_col3\" class=\"data row3 col3\" >0.0848</td>\n",
       "            </tr>\n",
       "    </tbody></table>"
      ],
      "text/plain": [
       "<pandas.io.formats.style.Styler at 0x7f44359d7790>"
      ]
     },
     "metadata": {},
     "output_type": "display_data"
    },
    {
     "name": "stdout",
     "output_type": "stream",
     "text": [
      "[\u001b[1mtardis.simulation.base\u001b[0m][\u001b[1;37mINFO\u001b[0m   ]  \n",
      "\t\n",
      "\tCurrent t_inner = 10636.536 K\n",
      "\tExpected t_inner for next iteration = 10641.692 K\n",
      " (\u001b[1mbase.py\u001b[0m:550)\n"
     ]
    },
    {
     "name": "stdout",
     "output_type": "stream",
     "text": [
      "[\u001b[1mtardis.simulation.base\u001b[0m][\u001b[1;37mINFO\u001b[0m   ]  \n",
      "\t\n",
      "\tStarting iteration 19 of 20 (\u001b[1mbase.py\u001b[0m:381)\n"
     ]
    },
    {
     "name": "stdout",
     "output_type": "stream",
     "text": [
      "[\u001b[1mtardis.simulation.base\u001b[0m][\u001b[1;37mINFO\u001b[0m   ]  \n",
      "\t\n",
      "\tLuminosity emitted   = 1.056e+43 erg / s\n",
      "\tLuminosity absorbed  = 3.405e+42 erg / s\n",
      "\tLuminosity requested = 1.059e+43 erg / s\n",
      " (\u001b[1mbase.py\u001b[0m:555)\n"
     ]
    },
    {
     "name": "stdout",
     "output_type": "stream",
     "text": [
      "[\u001b[1mtardis.simulation.base\u001b[0m][\u001b[1;37mINFO\u001b[0m   ]  \n",
      "\tIteration converged 2/4 consecutive times. (\u001b[1mbase.py\u001b[0m:262)\n"
     ]
    },
    {
     "name": "stdout",
     "output_type": "stream",
     "text": [
      "[\u001b[1mtardis.simulation.base\u001b[0m][\u001b[1;37mINFO\u001b[0m   ]  \n",
      "\t\n",
      "\tPlasma stratification: (\u001b[1mbase.py\u001b[0m:523)\n"
     ]
    },
    {
     "data": {
      "text/html": [
       "<style  type=\"text/css\" >\n",
       "</style><table id=\"T_6be3bc02_18d6_11ed_9656_000d3a5793e5\" ><thead>    <tr>        <th class=\"index_name level0\" >Shell No.</th>        <th class=\"col_heading level0 col0\" >t_rad</th>        <th class=\"col_heading level0 col1\" >next_t_rad</th>        <th class=\"col_heading level0 col2\" >w</th>        <th class=\"col_heading level0 col3\" >next_w</th>    </tr></thead><tbody>\n",
       "                <tr>\n",
       "                        <th id=\"T_6be3bc02_18d6_11ed_9656_000d3a5793e5level0_row0\" class=\"row_heading level0 row0\" >0</th>\n",
       "                        <td id=\"T_6be3bc02_18d6_11ed_9656_000d3a5793e5row0_col0\" class=\"data row0 col0\" >1.11e+04</td>\n",
       "                        <td id=\"T_6be3bc02_18d6_11ed_9656_000d3a5793e5row0_col1\" class=\"data row0 col1\" >1.11e+04</td>\n",
       "                        <td id=\"T_6be3bc02_18d6_11ed_9656_000d3a5793e5row0_col2\" class=\"data row0 col2\" >0.464</td>\n",
       "                        <td id=\"T_6be3bc02_18d6_11ed_9656_000d3a5793e5row0_col3\" class=\"data row0 col3\" >0.466</td>\n",
       "            </tr>\n",
       "            <tr>\n",
       "                        <th id=\"T_6be3bc02_18d6_11ed_9656_000d3a5793e5level0_row1\" class=\"row_heading level0 row1\" >5</th>\n",
       "                        <td id=\"T_6be3bc02_18d6_11ed_9656_000d3a5793e5row1_col0\" class=\"data row1 col0\" >1.13e+04</td>\n",
       "                        <td id=\"T_6be3bc02_18d6_11ed_9656_000d3a5793e5row1_col1\" class=\"data row1 col1\" >1.13e+04</td>\n",
       "                        <td id=\"T_6be3bc02_18d6_11ed_9656_000d3a5793e5row1_col2\" class=\"data row1 col2\" >0.177</td>\n",
       "                        <td id=\"T_6be3bc02_18d6_11ed_9656_000d3a5793e5row1_col3\" class=\"data row1 col3\" >0.177</td>\n",
       "            </tr>\n",
       "            <tr>\n",
       "                        <th id=\"T_6be3bc02_18d6_11ed_9656_000d3a5793e5level0_row2\" class=\"row_heading level0 row2\" >10</th>\n",
       "                        <td id=\"T_6be3bc02_18d6_11ed_9656_000d3a5793e5row2_col0\" class=\"data row2 col0\" >1.1e+04</td>\n",
       "                        <td id=\"T_6be3bc02_18d6_11ed_9656_000d3a5793e5row2_col1\" class=\"data row2 col1\" >1.11e+04</td>\n",
       "                        <td id=\"T_6be3bc02_18d6_11ed_9656_000d3a5793e5row2_col2\" class=\"data row2 col2\" >0.113</td>\n",
       "                        <td id=\"T_6be3bc02_18d6_11ed_9656_000d3a5793e5row2_col3\" class=\"data row2 col3\" >0.111</td>\n",
       "            </tr>\n",
       "            <tr>\n",
       "                        <th id=\"T_6be3bc02_18d6_11ed_9656_000d3a5793e5level0_row3\" class=\"row_heading level0 row3\" >15</th>\n",
       "                        <td id=\"T_6be3bc02_18d6_11ed_9656_000d3a5793e5row3_col0\" class=\"data row3 col0\" >1.07e+04</td>\n",
       "                        <td id=\"T_6be3bc02_18d6_11ed_9656_000d3a5793e5row3_col1\" class=\"data row3 col1\" >1.07e+04</td>\n",
       "                        <td id=\"T_6be3bc02_18d6_11ed_9656_000d3a5793e5row3_col2\" class=\"data row3 col2\" >0.0848</td>\n",
       "                        <td id=\"T_6be3bc02_18d6_11ed_9656_000d3a5793e5row3_col3\" class=\"data row3 col3\" >0.0853</td>\n",
       "            </tr>\n",
       "    </tbody></table>"
      ],
      "text/plain": [
       "<pandas.io.formats.style.Styler at 0x7f44359fb280>"
      ]
     },
     "metadata": {},
     "output_type": "display_data"
    },
    {
     "name": "stdout",
     "output_type": "stream",
     "text": [
      "[\u001b[1mtardis.simulation.base\u001b[0m][\u001b[1;37mINFO\u001b[0m   ]  \n",
      "\t\n",
      "\tCurrent t_inner = 10641.692 K\n",
      "\tExpected t_inner for next iteration = 10650.463 K\n",
      " (\u001b[1mbase.py\u001b[0m:550)\n"
     ]
    },
    {
     "name": "stdout",
     "output_type": "stream",
     "text": [
      "[\u001b[1mtardis.simulation.base\u001b[0m][\u001b[1;37mINFO\u001b[0m   ]  \n",
      "\t\n",
      "\tStarting iteration 20 of 20 (\u001b[1mbase.py\u001b[0m:381)\n"
     ]
    },
    {
     "name": "stdout",
     "output_type": "stream",
     "text": [
      "[\u001b[1mtardis.simulation.base\u001b[0m][\u001b[1;37mINFO\u001b[0m   ]  \n",
      "\t\n",
      "\tLuminosity emitted   = 1.061e+43 erg / s\n",
      "\tLuminosity absorbed  = 3.401e+42 erg / s\n",
      "\tLuminosity requested = 1.059e+43 erg / s\n",
      " (\u001b[1mbase.py\u001b[0m:555)\n"
     ]
    },
    {
     "name": "stdout",
     "output_type": "stream",
     "text": [
      "[\u001b[1mtardis.simulation.base\u001b[0m][\u001b[1;37mINFO\u001b[0m   ]  \n",
      "\t\n",
      "\tSimulation finished in 20 iterations \n",
      "\tSimulation took 62.92 s\n",
      " (\u001b[1mbase.py\u001b[0m:476)\n"
     ]
    }
   ],
   "source": [
    "# Running the simulation from the config\n",
    "\n",
    "sim = run_tardis(config, show_convergence_plots=False, show_progress_bars=False)"
   ]
  },
  {
   "cell_type": "markdown",
   "id": "532bfafc",
   "metadata": {},
   "source": [
    "Now, the `tracked` properties can be accessed via the `rpacket_tracker` attribute of the `sim.runner` object. "
   ]
  },
  {
   "cell_type": "code",
   "execution_count": 8,
   "id": "f8b3424f",
   "metadata": {
    "execution": {
     "iopub.execute_input": "2022-08-10T18:01:25.931915Z",
     "iopub.status.busy": "2022-08-10T18:01:25.931648Z",
     "iopub.status.idle": "2022-08-10T18:01:25.936845Z",
     "shell.execute_reply": "2022-08-10T18:01:25.936066Z"
    }
   },
   "outputs": [
    {
     "data": {
      "text/plain": [
       "numba.typed.typedlist.List"
      ]
     },
     "execution_count": 8,
     "metadata": {},
     "output_type": "execute_result"
    }
   ],
   "source": [
    "type(sim.runner.rpacket_tracker)"
   ]
  },
  {
   "cell_type": "markdown",
   "id": "4771d92a",
   "metadata": {},
   "source": [
    "It can be seen from the above code, that the `sim.runner.rpacket_tracker` is an instance of the `List` specifically *Numba Typed List*. The `RPacketCollection` class has the following structure for the properties : {More information in the **TARDIS API** for `RPacketCollection` class}"
   ]
  },
  {
   "cell_type": "markdown",
   "id": "ce587807",
   "metadata": {},
   "source": [
    "```python\n",
    "# Basic structure for the RPacketCollection Class\n",
    "class RPacketCollection:\n",
    "   # Properties\n",
    "    index\n",
    "    seed\n",
    "    status\n",
    "    r\n",
    "    nu\n",
    "    mu\n",
    "    energy\n",
    "    shell_id\n",
    "    interaction_type\n",
    "```"
   ]
  },
  {
   "cell_type": "code",
   "execution_count": 9,
   "id": "a3ea2f54",
   "metadata": {
    "execution": {
     "iopub.execute_input": "2022-08-10T18:01:25.941310Z",
     "iopub.status.busy": "2022-08-10T18:01:25.941063Z",
     "iopub.status.idle": "2022-08-10T18:01:25.946307Z",
     "shell.execute_reply": "2022-08-10T18:01:25.945421Z"
    }
   },
   "outputs": [
    {
     "data": {
      "text/plain": [
       "100000"
      ]
     },
     "execution_count": 9,
     "metadata": {},
     "output_type": "execute_result"
    }
   ],
   "source": [
    "len(sim.runner.rpacket_tracker)"
   ]
  },
  {
   "cell_type": "markdown",
   "id": "0f8566f4",
   "metadata": {},
   "source": [
    "### Accessing properties through `rpacket_tracker`"
   ]
  },
  {
   "cell_type": "markdown",
   "id": "411f2ef9",
   "metadata": {},
   "source": [
    "To access these different properties, we may consider the following examples for the `rpacket_tracker`:\n",
    "<br>In this Example, we are trying to access the properties of the packet at index `10`.<br>In a similar way, we can check for any property for any packet in the range of packets for the last iteration."
   ]
  },
  {
   "cell_type": "markdown",
   "id": "a4772b00",
   "metadata": {},
   "source": [
    "#### Accessing the `index` property for the packet with index = 10 :"
   ]
  },
  {
   "cell_type": "code",
   "execution_count": 10,
   "id": "de7b8877",
   "metadata": {
    "execution": {
     "iopub.execute_input": "2022-08-10T18:01:25.950533Z",
     "iopub.status.busy": "2022-08-10T18:01:25.950291Z",
     "iopub.status.idle": "2022-08-10T18:01:25.954772Z",
     "shell.execute_reply": "2022-08-10T18:01:25.953992Z"
    }
   },
   "outputs": [
    {
     "data": {
      "text/plain": [
       "10"
      ]
     },
     "execution_count": 10,
     "metadata": {},
     "output_type": "execute_result"
    }
   ],
   "source": [
    "sim.runner.rpacket_tracker[10].index"
   ]
  },
  {
   "cell_type": "markdown",
   "id": "d81fbbf7",
   "metadata": {},
   "source": [
    "#### Accessing the `seed` property for the packet with index = 10 :"
   ]
  },
  {
   "cell_type": "code",
   "execution_count": 11,
   "id": "39e2dbd2",
   "metadata": {
    "execution": {
     "iopub.execute_input": "2022-08-10T18:01:25.958987Z",
     "iopub.status.busy": "2022-08-10T18:01:25.958755Z",
     "iopub.status.idle": "2022-08-10T18:01:25.963545Z",
     "shell.execute_reply": "2022-08-10T18:01:25.962771Z"
    }
   },
   "outputs": [
    {
     "data": {
      "text/plain": [
       "2729103521"
      ]
     },
     "execution_count": 11,
     "metadata": {},
     "output_type": "execute_result"
    }
   ],
   "source": [
    "sim.runner.rpacket_tracker[10].seed"
   ]
  },
  {
   "cell_type": "markdown",
   "id": "7afe2110",
   "metadata": {},
   "source": [
    "#### Accessing the `status` property for the packet with index = 10 :"
   ]
  },
  {
   "cell_type": "code",
   "execution_count": 12,
   "id": "e82427ea",
   "metadata": {
    "execution": {
     "iopub.execute_input": "2022-08-10T18:01:25.967544Z",
     "iopub.status.busy": "2022-08-10T18:01:25.967277Z",
     "iopub.status.idle": "2022-08-10T18:01:25.972608Z",
     "shell.execute_reply": "2022-08-10T18:01:25.971759Z"
    }
   },
   "outputs": [
    {
     "data": {
      "text/plain": [
       "array([0, 0, 0, 0, 0, 0, 0, 0, 0, 0, 0, 0, 0, 0, 0, 0, 0, 0, 0, 0, 0, 0,\n",
       "       0, 0, 0, 0, 0, 0, 0, 0, 0, 0, 0, 0, 0, 0, 0, 0, 0, 0, 0, 0, 0, 0,\n",
       "       0, 0, 0, 0, 0, 0, 0, 0, 1])"
      ]
     },
     "execution_count": 12,
     "metadata": {},
     "output_type": "execute_result"
    }
   ],
   "source": [
    "sim.runner.rpacket_tracker[10].status"
   ]
  },
  {
   "cell_type": "markdown",
   "id": "ea308a55",
   "metadata": {},
   "source": [
    "Thus, all other properties (`r`, `nu`, `mu`, `energy`, `shell_id`,`interaction_type`) can be accessed accordingly."
   ]
  },
  {
   "cell_type": "markdown",
   "id": "c83dd906",
   "metadata": {},
   "source": [
    "We can also see the total number of interactions of index `10` packet under went, with the following example:"
   ]
  },
  {
   "cell_type": "code",
   "execution_count": 13,
   "id": "090b1517",
   "metadata": {
    "execution": {
     "iopub.execute_input": "2022-08-10T18:01:25.976843Z",
     "iopub.status.busy": "2022-08-10T18:01:25.976570Z",
     "iopub.status.idle": "2022-08-10T18:01:25.981468Z",
     "shell.execute_reply": "2022-08-10T18:01:25.980746Z"
    }
   },
   "outputs": [
    {
     "data": {
      "text/plain": [
       "53"
      ]
     },
     "execution_count": 13,
     "metadata": {},
     "output_type": "execute_result"
    }
   ],
   "source": [
    "len(sim.runner.rpacket_tracker[10].shell_id)"
   ]
  },
  {
   "cell_type": "markdown",
   "id": "9136fba1",
   "metadata": {},
   "source": [
    "<div class=\"alert alert-warning\">\n",
    "\n",
    "Warning\n",
    "\n",
    "If we  try to access `sim.runner.rpacket_tracker` property when we have the `track_rpacket` property in the `tracking` subsection of `montecarlo` config, turned off as follows `config[\"montecarlo\"][\"tracking\"][\"track_rpacket\"] = False`, it will return `None`.  Error will be raised if we try to access the properties i.e. `seed`, `index`, etc.\n",
    "</div>"
   ]
  },
  {
   "cell_type": "markdown",
   "id": "afa3c7f4",
   "metadata": {},
   "source": [
    "<div class=\"alert alert-info\">\n",
    "\n",
    "Note\n",
    "    \n",
    "When we initialise the `RPacketCollection()` class, the properties arrays {`index`, `seed`, `status`, etc} are allocated certain length based on the `initial_array_length` parameter that can be set via the `initial_array_length` property under `montecarlo -> tracking` section of the configuration. The default size of the array is `10`. This variable is important as the number of interactions a packet may have is variable, thus we need to allocate space dynamically. This variable is used to compute the size and expand the array such that the properties are able to hold these values for the packet interaction. Higher number, allocates more space initially leading to lesser times the arrays expands and vice versa. It can be set in the following manner `config[\"montecarlo\"][\"tracking\"][\"initial_array_length\"] = {value}`.\n",
    "</div>"
   ]
  },
  {
   "cell_type": "markdown",
   "id": "2da1215e",
   "metadata": {},
   "source": [
    "### Accessing properties with `rpacket_tracker_df`"
   ]
  },
  {
   "cell_type": "markdown",
   "id": "6eaee13d",
   "metadata": {},
   "source": [
    "Also, the `tracked` properties can be accessed via the `rpacket_tracker_df` attribute of the `sim.runner` object. "
   ]
  },
  {
   "cell_type": "code",
   "execution_count": 14,
   "id": "5fa074c2",
   "metadata": {
    "execution": {
     "iopub.execute_input": "2022-08-10T18:01:25.985618Z",
     "iopub.status.busy": "2022-08-10T18:01:25.985318Z",
     "iopub.status.idle": "2022-08-10T18:01:25.990283Z",
     "shell.execute_reply": "2022-08-10T18:01:25.989451Z"
    }
   },
   "outputs": [
    {
     "data": {
      "text/plain": [
       "pandas.core.frame.DataFrame"
      ]
     },
     "execution_count": 14,
     "metadata": {},
     "output_type": "execute_result"
    }
   ],
   "source": [
    "type(sim.runner.rpacket_tracker_df)"
   ]
  },
  {
   "cell_type": "markdown",
   "id": "9a39309b",
   "metadata": {},
   "source": [
    "Here, all the properties of the rpackets discussed above are stored as a `Pandas.Dataframe` object. This makes accessing the properties of any rpacket more convenient and in a more organized way."
   ]
  },
  {
   "cell_type": "markdown",
   "id": "93e78750",
   "metadata": {},
   "source": [
    "<html>\n",
    "    <body>\n",
    "        The Basic structure of the Dataframe is as follows:<br><br>\n",
    "        Index Columns:\n",
    "        <ol>\n",
    "            <li><b>index</b> - Indicates the index number of the packet.</li>\n",
    "            <li><b>step</b> - It is the step number that any particular packet is on, as it moves through the ejecta.</li>\n",
    "        </ol>\n",
    "        Properties:<br><br>\n",
    "        These following properties are present as columns in the Dataframe. These are the same properties that were present in the <b>rpacket_tracker</b>\n",
    "        <ol>\n",
    "            <li><b>status</b></li>\n",
    "            <li><b>seed</b></li>\n",
    "            <li><b>r</b></li>\n",
    "            <li><b>nu</b></li>\n",
    "            <li><b>mu</b></li>\n",
    "            <li><b>energy</b></li>\n",
    "            <li><b>shell_id</b></li>\n",
    "            <li><b>interaction_type</b></li>\n",
    "        </ol>\n",
    "    </body>\n",
    "</html>"
   ]
  },
  {
   "cell_type": "markdown",
   "id": "54dce761",
   "metadata": {},
   "source": [
    "The entire dataframe, containing all the properties mentioned above, can be fetched as:"
   ]
  },
  {
   "cell_type": "code",
   "execution_count": 15,
   "id": "0ec47b2f",
   "metadata": {
    "execution": {
     "iopub.execute_input": "2022-08-10T18:01:25.994697Z",
     "iopub.status.busy": "2022-08-10T18:01:25.994461Z",
     "iopub.status.idle": "2022-08-10T18:01:26.020072Z",
     "shell.execute_reply": "2022-08-10T18:01:26.019070Z"
    }
   },
   "outputs": [
    {
     "data": {
      "text/html": [
       "<div>\n",
       "<style scoped>\n",
       "    .dataframe tbody tr th:only-of-type {\n",
       "        vertical-align: middle;\n",
       "    }\n",
       "\n",
       "    .dataframe tbody tr th {\n",
       "        vertical-align: top;\n",
       "    }\n",
       "\n",
       "    .dataframe thead th {\n",
       "        text-align: right;\n",
       "    }\n",
       "</style>\n",
       "<table border=\"1\" class=\"dataframe\">\n",
       "  <thead>\n",
       "    <tr style=\"text-align: right;\">\n",
       "      <th></th>\n",
       "      <th></th>\n",
       "      <th>status</th>\n",
       "      <th>seed</th>\n",
       "      <th>r</th>\n",
       "      <th>nu</th>\n",
       "      <th>mu</th>\n",
       "      <th>energy</th>\n",
       "      <th>shell_id</th>\n",
       "      <th>interaction_type</th>\n",
       "    </tr>\n",
       "    <tr>\n",
       "      <th>index</th>\n",
       "      <th>step</th>\n",
       "      <th></th>\n",
       "      <th></th>\n",
       "      <th></th>\n",
       "      <th></th>\n",
       "      <th></th>\n",
       "      <th></th>\n",
       "      <th></th>\n",
       "      <th></th>\n",
       "    </tr>\n",
       "  </thead>\n",
       "  <tbody>\n",
       "    <tr>\n",
       "      <th rowspan=\"5\" valign=\"top\">0</th>\n",
       "      <th>0</th>\n",
       "      <td>0</td>\n",
       "      <td>3338016338</td>\n",
       "      <td>1.235520e+15</td>\n",
       "      <td>1.736483e+15</td>\n",
       "      <td>0.839765</td>\n",
       "      <td>0.00001</td>\n",
       "      <td>0</td>\n",
       "      <td>-1</td>\n",
       "    </tr>\n",
       "    <tr>\n",
       "      <th>1</th>\n",
       "      <td>0</td>\n",
       "      <td>3338016338</td>\n",
       "      <td>1.263676e+15</td>\n",
       "      <td>2.569811e+15</td>\n",
       "      <td>-0.608549</td>\n",
       "      <td>0.00001</td>\n",
       "      <td>0</td>\n",
       "      <td>2</td>\n",
       "    </tr>\n",
       "    <tr>\n",
       "      <th>2</th>\n",
       "      <td>0</td>\n",
       "      <td>3338016338</td>\n",
       "      <td>1.244956e+15</td>\n",
       "      <td>1.684571e+15</td>\n",
       "      <td>0.052209</td>\n",
       "      <td>0.00001</td>\n",
       "      <td>0</td>\n",
       "      <td>2</td>\n",
       "    </tr>\n",
       "    <tr>\n",
       "      <th>3</th>\n",
       "      <td>0</td>\n",
       "      <td>3338016338</td>\n",
       "      <td>1.245022e+15</td>\n",
       "      <td>1.682866e+15</td>\n",
       "      <td>0.025872</td>\n",
       "      <td>0.00001</td>\n",
       "      <td>0</td>\n",
       "      <td>2</td>\n",
       "    </tr>\n",
       "    <tr>\n",
       "      <th>4</th>\n",
       "      <td>0</td>\n",
       "      <td>3338016338</td>\n",
       "      <td>1.248276e+15</td>\n",
       "      <td>9.577869e+14</td>\n",
       "      <td>-0.281524</td>\n",
       "      <td>0.00001</td>\n",
       "      <td>0</td>\n",
       "      <td>2</td>\n",
       "    </tr>\n",
       "    <tr>\n",
       "      <th>...</th>\n",
       "      <th>...</th>\n",
       "      <td>...</td>\n",
       "      <td>...</td>\n",
       "      <td>...</td>\n",
       "      <td>...</td>\n",
       "      <td>...</td>\n",
       "      <td>...</td>\n",
       "      <td>...</td>\n",
       "      <td>...</td>\n",
       "    </tr>\n",
       "    <tr>\n",
       "      <th rowspan=\"5\" valign=\"top\">99999</th>\n",
       "      <th>17</th>\n",
       "      <td>0</td>\n",
       "      <td>864415001</td>\n",
       "      <td>2.044224e+15</td>\n",
       "      <td>1.159042e+14</td>\n",
       "      <td>0.904834</td>\n",
       "      <td>0.00001</td>\n",
       "      <td>16</td>\n",
       "      <td>1</td>\n",
       "    </tr>\n",
       "    <tr>\n",
       "      <th>18</th>\n",
       "      <td>0</td>\n",
       "      <td>864415001</td>\n",
       "      <td>2.094768e+15</td>\n",
       "      <td>1.159042e+14</td>\n",
       "      <td>0.909597</td>\n",
       "      <td>0.00001</td>\n",
       "      <td>17</td>\n",
       "      <td>1</td>\n",
       "    </tr>\n",
       "    <tr>\n",
       "      <th>19</th>\n",
       "      <td>0</td>\n",
       "      <td>864415001</td>\n",
       "      <td>2.145312e+15</td>\n",
       "      <td>1.159042e+14</td>\n",
       "      <td>0.914006</td>\n",
       "      <td>0.00001</td>\n",
       "      <td>18</td>\n",
       "      <td>1</td>\n",
       "    </tr>\n",
       "    <tr>\n",
       "      <th>20</th>\n",
       "      <td>0</td>\n",
       "      <td>864415001</td>\n",
       "      <td>2.195856e+15</td>\n",
       "      <td>1.159042e+14</td>\n",
       "      <td>0.918094</td>\n",
       "      <td>0.00001</td>\n",
       "      <td>19</td>\n",
       "      <td>1</td>\n",
       "    </tr>\n",
       "    <tr>\n",
       "      <th>21</th>\n",
       "      <td>1</td>\n",
       "      <td>864415001</td>\n",
       "      <td>2.246400e+15</td>\n",
       "      <td>1.159042e+14</td>\n",
       "      <td>0.921893</td>\n",
       "      <td>0.00001</td>\n",
       "      <td>19</td>\n",
       "      <td>1</td>\n",
       "    </tr>\n",
       "  </tbody>\n",
       "</table>\n",
       "<p>1981438 rows × 8 columns</p>\n",
       "</div>"
      ],
      "text/plain": [
       "            status        seed             r            nu        mu   energy  \\\n",
       "index step                                                                      \n",
       "0     0          0  3338016338  1.235520e+15  1.736483e+15  0.839765  0.00001   \n",
       "      1          0  3338016338  1.263676e+15  2.569811e+15 -0.608549  0.00001   \n",
       "      2          0  3338016338  1.244956e+15  1.684571e+15  0.052209  0.00001   \n",
       "      3          0  3338016338  1.245022e+15  1.682866e+15  0.025872  0.00001   \n",
       "      4          0  3338016338  1.248276e+15  9.577869e+14 -0.281524  0.00001   \n",
       "...            ...         ...           ...           ...       ...      ...   \n",
       "99999 17         0   864415001  2.044224e+15  1.159042e+14  0.904834  0.00001   \n",
       "      18         0   864415001  2.094768e+15  1.159042e+14  0.909597  0.00001   \n",
       "      19         0   864415001  2.145312e+15  1.159042e+14  0.914006  0.00001   \n",
       "      20         0   864415001  2.195856e+15  1.159042e+14  0.918094  0.00001   \n",
       "      21         1   864415001  2.246400e+15  1.159042e+14  0.921893  0.00001   \n",
       "\n",
       "            shell_id  interaction_type  \n",
       "index step                              \n",
       "0     0            0                -1  \n",
       "      1            0                 2  \n",
       "      2            0                 2  \n",
       "      3            0                 2  \n",
       "      4            0                 2  \n",
       "...              ...               ...  \n",
       "99999 17          16                 1  \n",
       "      18          17                 1  \n",
       "      19          18                 1  \n",
       "      20          19                 1  \n",
       "      21          19                 1  \n",
       "\n",
       "[1981438 rows x 8 columns]"
      ]
     },
     "execution_count": 15,
     "metadata": {},
     "output_type": "execute_result"
    }
   ],
   "source": [
    "sim.runner.rpacket_tracker_df"
   ]
  },
  {
   "cell_type": "markdown",
   "id": "81f1d718",
   "metadata": {},
   "source": [
    "To access these different properties in the dataframe, we may consider the following examples for the `rpacket_tracker_df`:\n",
    "<br>In this Example, we are trying to access the properties of the packet at index `10`.<br>In a similar way, we can check for any property for any packet in the range of packets for the last iteration."
   ]
  },
  {
   "cell_type": "markdown",
   "id": "eb8df3d9",
   "metadata": {},
   "source": [
    "#### Accessing all the properties for the packet with index = 10:"
   ]
  },
  {
   "cell_type": "code",
   "execution_count": 16,
   "id": "612c8234",
   "metadata": {
    "execution": {
     "iopub.execute_input": "2022-08-10T18:01:26.024272Z",
     "iopub.status.busy": "2022-08-10T18:01:26.024002Z",
     "iopub.status.idle": "2022-08-10T18:01:26.078137Z",
     "shell.execute_reply": "2022-08-10T18:01:26.077315Z"
    }
   },
   "outputs": [
    {
     "data": {
      "text/html": [
       "<div>\n",
       "<style scoped>\n",
       "    .dataframe tbody tr th:only-of-type {\n",
       "        vertical-align: middle;\n",
       "    }\n",
       "\n",
       "    .dataframe tbody tr th {\n",
       "        vertical-align: top;\n",
       "    }\n",
       "\n",
       "    .dataframe thead th {\n",
       "        text-align: right;\n",
       "    }\n",
       "</style>\n",
       "<table border=\"1\" class=\"dataframe\">\n",
       "  <thead>\n",
       "    <tr style=\"text-align: right;\">\n",
       "      <th></th>\n",
       "      <th>status</th>\n",
       "      <th>seed</th>\n",
       "      <th>r</th>\n",
       "      <th>nu</th>\n",
       "      <th>mu</th>\n",
       "      <th>energy</th>\n",
       "      <th>shell_id</th>\n",
       "      <th>interaction_type</th>\n",
       "    </tr>\n",
       "    <tr>\n",
       "      <th>step</th>\n",
       "      <th></th>\n",
       "      <th></th>\n",
       "      <th></th>\n",
       "      <th></th>\n",
       "      <th></th>\n",
       "      <th></th>\n",
       "      <th></th>\n",
       "      <th></th>\n",
       "    </tr>\n",
       "  </thead>\n",
       "  <tbody>\n",
       "    <tr>\n",
       "      <th>0</th>\n",
       "      <td>0</td>\n",
       "      <td>2729103521</td>\n",
       "      <td>1.235520e+15</td>\n",
       "      <td>2.100434e+15</td>\n",
       "      <td>0.587433</td>\n",
       "      <td>0.000010</td>\n",
       "      <td>0</td>\n",
       "      <td>-1</td>\n",
       "    </tr>\n",
       "    <tr>\n",
       "      <th>1</th>\n",
       "      <td>0</td>\n",
       "      <td>2729103521</td>\n",
       "      <td>1.286064e+15</td>\n",
       "      <td>2.100434e+15</td>\n",
       "      <td>0.628923</td>\n",
       "      <td>0.000010</td>\n",
       "      <td>1</td>\n",
       "      <td>-1</td>\n",
       "    </tr>\n",
       "    <tr>\n",
       "      <th>2</th>\n",
       "      <td>0</td>\n",
       "      <td>2729103521</td>\n",
       "      <td>1.336608e+15</td>\n",
       "      <td>2.100434e+15</td>\n",
       "      <td>0.663623</td>\n",
       "      <td>0.000010</td>\n",
       "      <td>2</td>\n",
       "      <td>-1</td>\n",
       "    </tr>\n",
       "    <tr>\n",
       "      <th>3</th>\n",
       "      <td>0</td>\n",
       "      <td>2729103521</td>\n",
       "      <td>1.387152e+15</td>\n",
       "      <td>2.100434e+15</td>\n",
       "      <td>0.693133</td>\n",
       "      <td>0.000010</td>\n",
       "      <td>3</td>\n",
       "      <td>-1</td>\n",
       "    </tr>\n",
       "    <tr>\n",
       "      <th>4</th>\n",
       "      <td>0</td>\n",
       "      <td>2729103521</td>\n",
       "      <td>1.437696e+15</td>\n",
       "      <td>2.100434e+15</td>\n",
       "      <td>0.718556</td>\n",
       "      <td>0.000010</td>\n",
       "      <td>4</td>\n",
       "      <td>-1</td>\n",
       "    </tr>\n",
       "    <tr>\n",
       "      <th>5</th>\n",
       "      <td>0</td>\n",
       "      <td>2729103521</td>\n",
       "      <td>1.488240e+15</td>\n",
       "      <td>2.100434e+15</td>\n",
       "      <td>0.740688</td>\n",
       "      <td>0.000010</td>\n",
       "      <td>5</td>\n",
       "      <td>-1</td>\n",
       "    </tr>\n",
       "    <tr>\n",
       "      <th>6</th>\n",
       "      <td>0</td>\n",
       "      <td>2729103521</td>\n",
       "      <td>1.514008e+15</td>\n",
       "      <td>1.966980e+15</td>\n",
       "      <td>-0.707127</td>\n",
       "      <td>0.000010</td>\n",
       "      <td>5</td>\n",
       "      <td>1</td>\n",
       "    </tr>\n",
       "    <tr>\n",
       "      <th>7</th>\n",
       "      <td>0</td>\n",
       "      <td>2729103521</td>\n",
       "      <td>1.488240e+15</td>\n",
       "      <td>1.966980e+15</td>\n",
       "      <td>-0.694668</td>\n",
       "      <td>0.000010</td>\n",
       "      <td>4</td>\n",
       "      <td>1</td>\n",
       "    </tr>\n",
       "    <tr>\n",
       "      <th>8</th>\n",
       "      <td>0</td>\n",
       "      <td>2729103521</td>\n",
       "      <td>1.437696e+15</td>\n",
       "      <td>1.966980e+15</td>\n",
       "      <td>-0.667490</td>\n",
       "      <td>0.000010</td>\n",
       "      <td>3</td>\n",
       "      <td>1</td>\n",
       "    </tr>\n",
       "    <tr>\n",
       "      <th>9</th>\n",
       "      <td>0</td>\n",
       "      <td>2729103521</td>\n",
       "      <td>1.387152e+15</td>\n",
       "      <td>1.966980e+15</td>\n",
       "      <td>-0.635925</td>\n",
       "      <td>0.000010</td>\n",
       "      <td>2</td>\n",
       "      <td>1</td>\n",
       "    </tr>\n",
       "    <tr>\n",
       "      <th>10</th>\n",
       "      <td>0</td>\n",
       "      <td>2729103521</td>\n",
       "      <td>1.387113e+15</td>\n",
       "      <td>2.093418e+15</td>\n",
       "      <td>0.868696</td>\n",
       "      <td>0.000010</td>\n",
       "      <td>2</td>\n",
       "      <td>2</td>\n",
       "    </tr>\n",
       "    <tr>\n",
       "      <th>11</th>\n",
       "      <td>0</td>\n",
       "      <td>2729103521</td>\n",
       "      <td>1.387152e+15</td>\n",
       "      <td>2.093418e+15</td>\n",
       "      <td>0.868704</td>\n",
       "      <td>0.000010</td>\n",
       "      <td>3</td>\n",
       "      <td>2</td>\n",
       "    </tr>\n",
       "    <tr>\n",
       "      <th>12</th>\n",
       "      <td>0</td>\n",
       "      <td>2729103521</td>\n",
       "      <td>1.437696e+15</td>\n",
       "      <td>2.093418e+15</td>\n",
       "      <td>0.878405</td>\n",
       "      <td>0.000010</td>\n",
       "      <td>4</td>\n",
       "      <td>2</td>\n",
       "    </tr>\n",
       "    <tr>\n",
       "      <th>13</th>\n",
       "      <td>0</td>\n",
       "      <td>2729103521</td>\n",
       "      <td>1.488240e+15</td>\n",
       "      <td>2.093418e+15</td>\n",
       "      <td>0.887043</td>\n",
       "      <td>0.000010</td>\n",
       "      <td>5</td>\n",
       "      <td>2</td>\n",
       "    </tr>\n",
       "    <tr>\n",
       "      <th>14</th>\n",
       "      <td>0</td>\n",
       "      <td>2729103521</td>\n",
       "      <td>1.538784e+15</td>\n",
       "      <td>2.093418e+15</td>\n",
       "      <td>0.894773</td>\n",
       "      <td>0.000010</td>\n",
       "      <td>6</td>\n",
       "      <td>2</td>\n",
       "    </tr>\n",
       "    <tr>\n",
       "      <th>15</th>\n",
       "      <td>0</td>\n",
       "      <td>2729103521</td>\n",
       "      <td>1.589328e+15</td>\n",
       "      <td>2.093418e+15</td>\n",
       "      <td>0.901720</td>\n",
       "      <td>0.000010</td>\n",
       "      <td>7</td>\n",
       "      <td>2</td>\n",
       "    </tr>\n",
       "    <tr>\n",
       "      <th>16</th>\n",
       "      <td>0</td>\n",
       "      <td>2729103521</td>\n",
       "      <td>1.639872e+15</td>\n",
       "      <td>2.093418e+15</td>\n",
       "      <td>0.907988</td>\n",
       "      <td>0.000010</td>\n",
       "      <td>8</td>\n",
       "      <td>2</td>\n",
       "    </tr>\n",
       "    <tr>\n",
       "      <th>17</th>\n",
       "      <td>0</td>\n",
       "      <td>2729103521</td>\n",
       "      <td>1.690416e+15</td>\n",
       "      <td>2.093418e+15</td>\n",
       "      <td>0.913665</td>\n",
       "      <td>0.000010</td>\n",
       "      <td>9</td>\n",
       "      <td>2</td>\n",
       "    </tr>\n",
       "    <tr>\n",
       "      <th>18</th>\n",
       "      <td>0</td>\n",
       "      <td>2729103521</td>\n",
       "      <td>1.709334e+15</td>\n",
       "      <td>2.754770e+15</td>\n",
       "      <td>0.357089</td>\n",
       "      <td>0.000010</td>\n",
       "      <td>9</td>\n",
       "      <td>2</td>\n",
       "    </tr>\n",
       "    <tr>\n",
       "      <th>19</th>\n",
       "      <td>0</td>\n",
       "      <td>2729103521</td>\n",
       "      <td>1.726723e+15</td>\n",
       "      <td>3.040742e+15</td>\n",
       "      <td>0.224209</td>\n",
       "      <td>0.000010</td>\n",
       "      <td>9</td>\n",
       "      <td>2</td>\n",
       "    </tr>\n",
       "    <tr>\n",
       "      <th>20</th>\n",
       "      <td>0</td>\n",
       "      <td>2729103521</td>\n",
       "      <td>1.740960e+15</td>\n",
       "      <td>3.040742e+15</td>\n",
       "      <td>0.256398</td>\n",
       "      <td>0.000010</td>\n",
       "      <td>10</td>\n",
       "      <td>2</td>\n",
       "    </tr>\n",
       "    <tr>\n",
       "      <th>21</th>\n",
       "      <td>0</td>\n",
       "      <td>2729103521</td>\n",
       "      <td>1.752721e+15</td>\n",
       "      <td>1.680385e+15</td>\n",
       "      <td>0.226400</td>\n",
       "      <td>0.000010</td>\n",
       "      <td>10</td>\n",
       "      <td>2</td>\n",
       "    </tr>\n",
       "    <tr>\n",
       "      <th>22</th>\n",
       "      <td>0</td>\n",
       "      <td>2729103521</td>\n",
       "      <td>1.764487e+15</td>\n",
       "      <td>1.669485e+15</td>\n",
       "      <td>0.129774</td>\n",
       "      <td>0.000010</td>\n",
       "      <td>10</td>\n",
       "      <td>2</td>\n",
       "    </tr>\n",
       "    <tr>\n",
       "      <th>23</th>\n",
       "      <td>0</td>\n",
       "      <td>2729103521</td>\n",
       "      <td>1.791504e+15</td>\n",
       "      <td>1.669485e+15</td>\n",
       "      <td>0.215107</td>\n",
       "      <td>0.000010</td>\n",
       "      <td>11</td>\n",
       "      <td>2</td>\n",
       "    </tr>\n",
       "    <tr>\n",
       "      <th>24</th>\n",
       "      <td>0</td>\n",
       "      <td>2729103521</td>\n",
       "      <td>1.793179e+15</td>\n",
       "      <td>1.575386e+15</td>\n",
       "      <td>-0.889332</td>\n",
       "      <td>0.000009</td>\n",
       "      <td>11</td>\n",
       "      <td>2</td>\n",
       "    </tr>\n",
       "    <tr>\n",
       "      <th>25</th>\n",
       "      <td>0</td>\n",
       "      <td>2729103521</td>\n",
       "      <td>1.791504e+15</td>\n",
       "      <td>1.575386e+15</td>\n",
       "      <td>-0.889112</td>\n",
       "      <td>0.000009</td>\n",
       "      <td>10</td>\n",
       "      <td>2</td>\n",
       "    </tr>\n",
       "    <tr>\n",
       "      <th>26</th>\n",
       "      <td>0</td>\n",
       "      <td>2729103521</td>\n",
       "      <td>1.740960e+15</td>\n",
       "      <td>1.575386e+15</td>\n",
       "      <td>-0.882145</td>\n",
       "      <td>0.000009</td>\n",
       "      <td>9</td>\n",
       "      <td>2</td>\n",
       "    </tr>\n",
       "    <tr>\n",
       "      <th>27</th>\n",
       "      <td>0</td>\n",
       "      <td>2729103521</td>\n",
       "      <td>1.690416e+15</td>\n",
       "      <td>1.575386e+15</td>\n",
       "      <td>-0.874481</td>\n",
       "      <td>0.000009</td>\n",
       "      <td>8</td>\n",
       "      <td>2</td>\n",
       "    </tr>\n",
       "    <tr>\n",
       "      <th>28</th>\n",
       "      <td>0</td>\n",
       "      <td>2729103521</td>\n",
       "      <td>1.639872e+15</td>\n",
       "      <td>1.575386e+15</td>\n",
       "      <td>-0.866019</td>\n",
       "      <td>0.000009</td>\n",
       "      <td>7</td>\n",
       "      <td>2</td>\n",
       "    </tr>\n",
       "    <tr>\n",
       "      <th>29</th>\n",
       "      <td>0</td>\n",
       "      <td>2729103521</td>\n",
       "      <td>1.589328e+15</td>\n",
       "      <td>1.575386e+15</td>\n",
       "      <td>-0.856642</td>\n",
       "      <td>0.000009</td>\n",
       "      <td>6</td>\n",
       "      <td>2</td>\n",
       "    </tr>\n",
       "    <tr>\n",
       "      <th>30</th>\n",
       "      <td>0</td>\n",
       "      <td>2729103521</td>\n",
       "      <td>1.538784e+15</td>\n",
       "      <td>1.575386e+15</td>\n",
       "      <td>-0.846205</td>\n",
       "      <td>0.000009</td>\n",
       "      <td>5</td>\n",
       "      <td>2</td>\n",
       "    </tr>\n",
       "    <tr>\n",
       "      <th>31</th>\n",
       "      <td>0</td>\n",
       "      <td>2729103521</td>\n",
       "      <td>1.488240e+15</td>\n",
       "      <td>1.575386e+15</td>\n",
       "      <td>-0.834535</td>\n",
       "      <td>0.000009</td>\n",
       "      <td>4</td>\n",
       "      <td>2</td>\n",
       "    </tr>\n",
       "    <tr>\n",
       "      <th>32</th>\n",
       "      <td>0</td>\n",
       "      <td>2729103521</td>\n",
       "      <td>1.439546e+15</td>\n",
       "      <td>1.610949e+15</td>\n",
       "      <td>-0.287407</td>\n",
       "      <td>0.000009</td>\n",
       "      <td>4</td>\n",
       "      <td>1</td>\n",
       "    </tr>\n",
       "    <tr>\n",
       "      <th>33</th>\n",
       "      <td>0</td>\n",
       "      <td>2729103521</td>\n",
       "      <td>1.437696e+15</td>\n",
       "      <td>1.610949e+15</td>\n",
       "      <td>-0.283268</td>\n",
       "      <td>0.000009</td>\n",
       "      <td>3</td>\n",
       "      <td>1</td>\n",
       "    </tr>\n",
       "    <tr>\n",
       "      <th>34</th>\n",
       "      <td>0</td>\n",
       "      <td>2729103521</td>\n",
       "      <td>1.419306e+15</td>\n",
       "      <td>2.160489e+15</td>\n",
       "      <td>0.495893</td>\n",
       "      <td>0.000010</td>\n",
       "      <td>3</td>\n",
       "      <td>2</td>\n",
       "    </tr>\n",
       "    <tr>\n",
       "      <th>35</th>\n",
       "      <td>0</td>\n",
       "      <td>2729103521</td>\n",
       "      <td>1.437696e+15</td>\n",
       "      <td>2.160489e+15</td>\n",
       "      <td>0.514857</td>\n",
       "      <td>0.000010</td>\n",
       "      <td>4</td>\n",
       "      <td>2</td>\n",
       "    </tr>\n",
       "    <tr>\n",
       "      <th>36</th>\n",
       "      <td>0</td>\n",
       "      <td>2729103521</td>\n",
       "      <td>1.488240e+15</td>\n",
       "      <td>2.160489e+15</td>\n",
       "      <td>0.560490</td>\n",
       "      <td>0.000010</td>\n",
       "      <td>5</td>\n",
       "      <td>2</td>\n",
       "    </tr>\n",
       "    <tr>\n",
       "      <th>37</th>\n",
       "      <td>0</td>\n",
       "      <td>2729103521</td>\n",
       "      <td>1.513523e+15</td>\n",
       "      <td>1.212817e+15</td>\n",
       "      <td>0.618740</td>\n",
       "      <td>0.000010</td>\n",
       "      <td>5</td>\n",
       "      <td>2</td>\n",
       "    </tr>\n",
       "    <tr>\n",
       "      <th>38</th>\n",
       "      <td>0</td>\n",
       "      <td>2729103521</td>\n",
       "      <td>1.538784e+15</td>\n",
       "      <td>1.212817e+15</td>\n",
       "      <td>0.634772</td>\n",
       "      <td>0.000010</td>\n",
       "      <td>6</td>\n",
       "      <td>2</td>\n",
       "    </tr>\n",
       "    <tr>\n",
       "      <th>39</th>\n",
       "      <td>0</td>\n",
       "      <td>2729103521</td>\n",
       "      <td>1.589328e+15</td>\n",
       "      <td>1.212817e+15</td>\n",
       "      <td>0.663557</td>\n",
       "      <td>0.000010</td>\n",
       "      <td>7</td>\n",
       "      <td>2</td>\n",
       "    </tr>\n",
       "    <tr>\n",
       "      <th>40</th>\n",
       "      <td>0</td>\n",
       "      <td>2729103521</td>\n",
       "      <td>1.639872e+15</td>\n",
       "      <td>1.212817e+15</td>\n",
       "      <td>0.688678</td>\n",
       "      <td>0.000010</td>\n",
       "      <td>8</td>\n",
       "      <td>2</td>\n",
       "    </tr>\n",
       "    <tr>\n",
       "      <th>41</th>\n",
       "      <td>0</td>\n",
       "      <td>2729103521</td>\n",
       "      <td>1.690416e+15</td>\n",
       "      <td>1.212817e+15</td>\n",
       "      <td>0.710807</td>\n",
       "      <td>0.000010</td>\n",
       "      <td>9</td>\n",
       "      <td>2</td>\n",
       "    </tr>\n",
       "    <tr>\n",
       "      <th>42</th>\n",
       "      <td>0</td>\n",
       "      <td>2729103521</td>\n",
       "      <td>1.740960e+15</td>\n",
       "      <td>1.212817e+15</td>\n",
       "      <td>0.730450</td>\n",
       "      <td>0.000010</td>\n",
       "      <td>10</td>\n",
       "      <td>2</td>\n",
       "    </tr>\n",
       "    <tr>\n",
       "      <th>43</th>\n",
       "      <td>0</td>\n",
       "      <td>2729103521</td>\n",
       "      <td>1.791504e+15</td>\n",
       "      <td>1.212817e+15</td>\n",
       "      <td>0.748001</td>\n",
       "      <td>0.000010</td>\n",
       "      <td>11</td>\n",
       "      <td>2</td>\n",
       "    </tr>\n",
       "    <tr>\n",
       "      <th>44</th>\n",
       "      <td>0</td>\n",
       "      <td>2729103521</td>\n",
       "      <td>1.842048e+15</td>\n",
       "      <td>1.212817e+15</td>\n",
       "      <td>0.763771</td>\n",
       "      <td>0.000010</td>\n",
       "      <td>12</td>\n",
       "      <td>2</td>\n",
       "    </tr>\n",
       "    <tr>\n",
       "      <th>45</th>\n",
       "      <td>0</td>\n",
       "      <td>2729103521</td>\n",
       "      <td>1.892592e+15</td>\n",
       "      <td>1.212817e+15</td>\n",
       "      <td>0.778013</td>\n",
       "      <td>0.000010</td>\n",
       "      <td>13</td>\n",
       "      <td>2</td>\n",
       "    </tr>\n",
       "    <tr>\n",
       "      <th>46</th>\n",
       "      <td>0</td>\n",
       "      <td>2729103521</td>\n",
       "      <td>1.943136e+15</td>\n",
       "      <td>1.212817e+15</td>\n",
       "      <td>0.790930</td>\n",
       "      <td>0.000010</td>\n",
       "      <td>14</td>\n",
       "      <td>2</td>\n",
       "    </tr>\n",
       "    <tr>\n",
       "      <th>47</th>\n",
       "      <td>0</td>\n",
       "      <td>2729103521</td>\n",
       "      <td>1.993680e+15</td>\n",
       "      <td>1.212817e+15</td>\n",
       "      <td>0.802692</td>\n",
       "      <td>0.000010</td>\n",
       "      <td>15</td>\n",
       "      <td>2</td>\n",
       "    </tr>\n",
       "    <tr>\n",
       "      <th>48</th>\n",
       "      <td>0</td>\n",
       "      <td>2729103521</td>\n",
       "      <td>2.044224e+15</td>\n",
       "      <td>1.212817e+15</td>\n",
       "      <td>0.813441</td>\n",
       "      <td>0.000010</td>\n",
       "      <td>16</td>\n",
       "      <td>2</td>\n",
       "    </tr>\n",
       "    <tr>\n",
       "      <th>49</th>\n",
       "      <td>0</td>\n",
       "      <td>2729103521</td>\n",
       "      <td>2.094768e+15</td>\n",
       "      <td>1.212817e+15</td>\n",
       "      <td>0.823295</td>\n",
       "      <td>0.000010</td>\n",
       "      <td>17</td>\n",
       "      <td>2</td>\n",
       "    </tr>\n",
       "    <tr>\n",
       "      <th>50</th>\n",
       "      <td>0</td>\n",
       "      <td>2729103521</td>\n",
       "      <td>2.145312e+15</td>\n",
       "      <td>1.212817e+15</td>\n",
       "      <td>0.832357</td>\n",
       "      <td>0.000010</td>\n",
       "      <td>18</td>\n",
       "      <td>2</td>\n",
       "    </tr>\n",
       "    <tr>\n",
       "      <th>51</th>\n",
       "      <td>0</td>\n",
       "      <td>2729103521</td>\n",
       "      <td>2.195856e+15</td>\n",
       "      <td>1.212817e+15</td>\n",
       "      <td>0.840712</td>\n",
       "      <td>0.000010</td>\n",
       "      <td>19</td>\n",
       "      <td>2</td>\n",
       "    </tr>\n",
       "    <tr>\n",
       "      <th>52</th>\n",
       "      <td>1</td>\n",
       "      <td>2729103521</td>\n",
       "      <td>2.246400e+15</td>\n",
       "      <td>1.212817e+15</td>\n",
       "      <td>0.848435</td>\n",
       "      <td>0.000010</td>\n",
       "      <td>19</td>\n",
       "      <td>2</td>\n",
       "    </tr>\n",
       "  </tbody>\n",
       "</table>\n",
       "</div>"
      ],
      "text/plain": [
       "      status        seed             r            nu        mu    energy  \\\n",
       "step                                                                       \n",
       "0          0  2729103521  1.235520e+15  2.100434e+15  0.587433  0.000010   \n",
       "1          0  2729103521  1.286064e+15  2.100434e+15  0.628923  0.000010   \n",
       "2          0  2729103521  1.336608e+15  2.100434e+15  0.663623  0.000010   \n",
       "3          0  2729103521  1.387152e+15  2.100434e+15  0.693133  0.000010   \n",
       "4          0  2729103521  1.437696e+15  2.100434e+15  0.718556  0.000010   \n",
       "5          0  2729103521  1.488240e+15  2.100434e+15  0.740688  0.000010   \n",
       "6          0  2729103521  1.514008e+15  1.966980e+15 -0.707127  0.000010   \n",
       "7          0  2729103521  1.488240e+15  1.966980e+15 -0.694668  0.000010   \n",
       "8          0  2729103521  1.437696e+15  1.966980e+15 -0.667490  0.000010   \n",
       "9          0  2729103521  1.387152e+15  1.966980e+15 -0.635925  0.000010   \n",
       "10         0  2729103521  1.387113e+15  2.093418e+15  0.868696  0.000010   \n",
       "11         0  2729103521  1.387152e+15  2.093418e+15  0.868704  0.000010   \n",
       "12         0  2729103521  1.437696e+15  2.093418e+15  0.878405  0.000010   \n",
       "13         0  2729103521  1.488240e+15  2.093418e+15  0.887043  0.000010   \n",
       "14         0  2729103521  1.538784e+15  2.093418e+15  0.894773  0.000010   \n",
       "15         0  2729103521  1.589328e+15  2.093418e+15  0.901720  0.000010   \n",
       "16         0  2729103521  1.639872e+15  2.093418e+15  0.907988  0.000010   \n",
       "17         0  2729103521  1.690416e+15  2.093418e+15  0.913665  0.000010   \n",
       "18         0  2729103521  1.709334e+15  2.754770e+15  0.357089  0.000010   \n",
       "19         0  2729103521  1.726723e+15  3.040742e+15  0.224209  0.000010   \n",
       "20         0  2729103521  1.740960e+15  3.040742e+15  0.256398  0.000010   \n",
       "21         0  2729103521  1.752721e+15  1.680385e+15  0.226400  0.000010   \n",
       "22         0  2729103521  1.764487e+15  1.669485e+15  0.129774  0.000010   \n",
       "23         0  2729103521  1.791504e+15  1.669485e+15  0.215107  0.000010   \n",
       "24         0  2729103521  1.793179e+15  1.575386e+15 -0.889332  0.000009   \n",
       "25         0  2729103521  1.791504e+15  1.575386e+15 -0.889112  0.000009   \n",
       "26         0  2729103521  1.740960e+15  1.575386e+15 -0.882145  0.000009   \n",
       "27         0  2729103521  1.690416e+15  1.575386e+15 -0.874481  0.000009   \n",
       "28         0  2729103521  1.639872e+15  1.575386e+15 -0.866019  0.000009   \n",
       "29         0  2729103521  1.589328e+15  1.575386e+15 -0.856642  0.000009   \n",
       "30         0  2729103521  1.538784e+15  1.575386e+15 -0.846205  0.000009   \n",
       "31         0  2729103521  1.488240e+15  1.575386e+15 -0.834535  0.000009   \n",
       "32         0  2729103521  1.439546e+15  1.610949e+15 -0.287407  0.000009   \n",
       "33         0  2729103521  1.437696e+15  1.610949e+15 -0.283268  0.000009   \n",
       "34         0  2729103521  1.419306e+15  2.160489e+15  0.495893  0.000010   \n",
       "35         0  2729103521  1.437696e+15  2.160489e+15  0.514857  0.000010   \n",
       "36         0  2729103521  1.488240e+15  2.160489e+15  0.560490  0.000010   \n",
       "37         0  2729103521  1.513523e+15  1.212817e+15  0.618740  0.000010   \n",
       "38         0  2729103521  1.538784e+15  1.212817e+15  0.634772  0.000010   \n",
       "39         0  2729103521  1.589328e+15  1.212817e+15  0.663557  0.000010   \n",
       "40         0  2729103521  1.639872e+15  1.212817e+15  0.688678  0.000010   \n",
       "41         0  2729103521  1.690416e+15  1.212817e+15  0.710807  0.000010   \n",
       "42         0  2729103521  1.740960e+15  1.212817e+15  0.730450  0.000010   \n",
       "43         0  2729103521  1.791504e+15  1.212817e+15  0.748001  0.000010   \n",
       "44         0  2729103521  1.842048e+15  1.212817e+15  0.763771  0.000010   \n",
       "45         0  2729103521  1.892592e+15  1.212817e+15  0.778013  0.000010   \n",
       "46         0  2729103521  1.943136e+15  1.212817e+15  0.790930  0.000010   \n",
       "47         0  2729103521  1.993680e+15  1.212817e+15  0.802692  0.000010   \n",
       "48         0  2729103521  2.044224e+15  1.212817e+15  0.813441  0.000010   \n",
       "49         0  2729103521  2.094768e+15  1.212817e+15  0.823295  0.000010   \n",
       "50         0  2729103521  2.145312e+15  1.212817e+15  0.832357  0.000010   \n",
       "51         0  2729103521  2.195856e+15  1.212817e+15  0.840712  0.000010   \n",
       "52         1  2729103521  2.246400e+15  1.212817e+15  0.848435  0.000010   \n",
       "\n",
       "      shell_id  interaction_type  \n",
       "step                              \n",
       "0            0                -1  \n",
       "1            1                -1  \n",
       "2            2                -1  \n",
       "3            3                -1  \n",
       "4            4                -1  \n",
       "5            5                -1  \n",
       "6            5                 1  \n",
       "7            4                 1  \n",
       "8            3                 1  \n",
       "9            2                 1  \n",
       "10           2                 2  \n",
       "11           3                 2  \n",
       "12           4                 2  \n",
       "13           5                 2  \n",
       "14           6                 2  \n",
       "15           7                 2  \n",
       "16           8                 2  \n",
       "17           9                 2  \n",
       "18           9                 2  \n",
       "19           9                 2  \n",
       "20          10                 2  \n",
       "21          10                 2  \n",
       "22          10                 2  \n",
       "23          11                 2  \n",
       "24          11                 2  \n",
       "25          10                 2  \n",
       "26           9                 2  \n",
       "27           8                 2  \n",
       "28           7                 2  \n",
       "29           6                 2  \n",
       "30           5                 2  \n",
       "31           4                 2  \n",
       "32           4                 1  \n",
       "33           3                 1  \n",
       "34           3                 2  \n",
       "35           4                 2  \n",
       "36           5                 2  \n",
       "37           5                 2  \n",
       "38           6                 2  \n",
       "39           7                 2  \n",
       "40           8                 2  \n",
       "41           9                 2  \n",
       "42          10                 2  \n",
       "43          11                 2  \n",
       "44          12                 2  \n",
       "45          13                 2  \n",
       "46          14                 2  \n",
       "47          15                 2  \n",
       "48          16                 2  \n",
       "49          17                 2  \n",
       "50          18                 2  \n",
       "51          19                 2  \n",
       "52          19                 2  "
      ]
     },
     "execution_count": 16,
     "metadata": {},
     "output_type": "execute_result"
    }
   ],
   "source": [
    "sim.runner.rpacket_tracker_df.loc[10]"
   ]
  },
  {
   "cell_type": "markdown",
   "id": "75d86f95",
   "metadata": {},
   "source": [
    "#### Accessing the `energy` property for the packet with index = 10:\n"
   ]
  },
  {
   "cell_type": "code",
   "execution_count": 17,
   "id": "2c84adb1",
   "metadata": {
    "execution": {
     "iopub.execute_input": "2022-08-10T18:01:26.082430Z",
     "iopub.status.busy": "2022-08-10T18:01:26.082166Z",
     "iopub.status.idle": "2022-08-10T18:01:26.093847Z",
     "shell.execute_reply": "2022-08-10T18:01:26.092924Z"
    }
   },
   "outputs": [
    {
     "data": {
      "text/plain": [
       "step\n",
       "0     0.000010\n",
       "1     0.000010\n",
       "2     0.000010\n",
       "3     0.000010\n",
       "4     0.000010\n",
       "5     0.000010\n",
       "6     0.000010\n",
       "7     0.000010\n",
       "8     0.000010\n",
       "9     0.000010\n",
       "10    0.000010\n",
       "11    0.000010\n",
       "12    0.000010\n",
       "13    0.000010\n",
       "14    0.000010\n",
       "15    0.000010\n",
       "16    0.000010\n",
       "17    0.000010\n",
       "18    0.000010\n",
       "19    0.000010\n",
       "20    0.000010\n",
       "21    0.000010\n",
       "22    0.000010\n",
       "23    0.000010\n",
       "24    0.000009\n",
       "25    0.000009\n",
       "26    0.000009\n",
       "27    0.000009\n",
       "28    0.000009\n",
       "29    0.000009\n",
       "30    0.000009\n",
       "31    0.000009\n",
       "32    0.000009\n",
       "33    0.000009\n",
       "34    0.000010\n",
       "35    0.000010\n",
       "36    0.000010\n",
       "37    0.000010\n",
       "38    0.000010\n",
       "39    0.000010\n",
       "40    0.000010\n",
       "41    0.000010\n",
       "42    0.000010\n",
       "43    0.000010\n",
       "44    0.000010\n",
       "45    0.000010\n",
       "46    0.000010\n",
       "47    0.000010\n",
       "48    0.000010\n",
       "49    0.000010\n",
       "50    0.000010\n",
       "51    0.000010\n",
       "52    0.000010\n",
       "Name: energy, dtype: float64"
      ]
     },
     "execution_count": 17,
     "metadata": {},
     "output_type": "execute_result"
    }
   ],
   "source": [
    "sim.runner.rpacket_tracker_df.loc[10][\"energy\"]"
   ]
  },
  {
   "cell_type": "markdown",
   "id": "1beffb1f",
   "metadata": {},
   "source": [
    "The above command returns a Pandas Series for the packet `#10` across different steps. To access any property at a particular step (for example at step `5`), the following commands can be used."
   ]
  },
  {
   "cell_type": "code",
   "execution_count": 18,
   "id": "1d7f0bb4",
   "metadata": {
    "execution": {
     "iopub.execute_input": "2022-08-10T18:01:26.097413Z",
     "iopub.status.busy": "2022-08-10T18:01:26.097126Z",
     "iopub.status.idle": "2022-08-10T18:01:26.500311Z",
     "shell.execute_reply": "2022-08-10T18:01:26.499470Z"
    }
   },
   "outputs": [
    {
     "data": {
      "text/plain": [
       "1.0220289382469194e-05"
      ]
     },
     "execution_count": 18,
     "metadata": {},
     "output_type": "execute_result"
    }
   ],
   "source": [
    "sim.runner.rpacket_tracker_df.loc[10,5][\"energy\"]"
   ]
  },
  {
   "cell_type": "code",
   "execution_count": 19,
   "id": "1cf17109",
   "metadata": {
    "execution": {
     "iopub.execute_input": "2022-08-10T18:01:26.503999Z",
     "iopub.status.busy": "2022-08-10T18:01:26.503742Z",
     "iopub.status.idle": "2022-08-10T18:01:26.520635Z",
     "shell.execute_reply": "2022-08-10T18:01:26.519757Z"
    }
   },
   "outputs": [
    {
     "data": {
      "text/plain": [
       "1.0220289382469194e-05"
      ]
     },
     "execution_count": 19,
     "metadata": {},
     "output_type": "execute_result"
    }
   ],
   "source": [
    "sim.runner.rpacket_tracker_df.loc[10][\"energy\"][5]"
   ]
  },
  {
   "cell_type": "markdown",
   "id": "6921f480",
   "metadata": {},
   "source": [
    "Thus, all other properties (`status`, `seed`, `r`, `nu`, `mu`, `shell_id`,`interaction_type`) can be accessed accordingly."
   ]
  }
 ],
 "metadata": {
  "kernelspec": {
   "display_name": "Python 3 (ipykernel)",
   "language": "python",
   "name": "python3"
  },
  "language_info": {
   "codemirror_mode": {
    "name": "ipython",
    "version": 3
   },
   "file_extension": ".py",
   "mimetype": "text/x-python",
   "name": "python",
   "nbconvert_exporter": "python",
   "pygments_lexer": "ipython3",
   "version": "3.8.13"
  },
  "vscode": {
   "interpreter": {
    "hash": "6890d83cfa6c65bebc4bd449872c06a268510d8b8ae8c923ce6786e6c4796836"
   }
  },
  "widgets": {
   "application/vnd.jupyter.widget-state+json": {
    "state": {
     "158fa90deb4f415db8479dbe6e9be3da": {
      "model_module": "@jupyter-widgets/output",
      "model_module_version": "1.0.0",
      "model_name": "OutputModel",
      "state": {
       "_dom_classes": [],
       "_model_module": "@jupyter-widgets/output",
       "_model_module_version": "1.0.0",
       "_model_name": "OutputModel",
       "_view_count": null,
       "_view_module": "@jupyter-widgets/output",
       "_view_module_version": "1.0.0",
       "_view_name": "OutputView",
       "layout": "IPY_MODEL_c8b4fe58ea5e424782fdc716392a2caa",
       "msg_id": "",
       "outputs": []
      }
     },
     "1b98feeff4664bf694343acf54c11b9a": {
      "model_module": "@jupyter-widgets/controls",
      "model_module_version": "1.5.0",
      "model_name": "DescriptionStyleModel",
      "state": {
       "_model_module": "@jupyter-widgets/controls",
       "_model_module_version": "1.5.0",
       "_model_name": "DescriptionStyleModel",
       "_view_count": null,
       "_view_module": "@jupyter-widgets/base",
       "_view_module_version": "1.2.0",
       "_view_name": "StyleView",
       "description_width": ""
      }
     },
     "2a04960196704fc284d7804242856f29": {
      "model_module": "@jupyter-widgets/controls",
      "model_module_version": "1.5.0",
      "model_name": "HTMLModel",
      "state": {
       "_dom_classes": [],
       "_model_module": "@jupyter-widgets/controls",
       "_model_module_version": "1.5.0",
       "_model_name": "HTMLModel",
       "_view_count": null,
       "_view_module": "@jupyter-widgets/controls",
       "_view_module_version": "1.5.0",
       "_view_name": "HTMLView",
       "description": "",
       "description_tooltip": null,
       "layout": "IPY_MODEL_dd02974c259d4d8e8b15347d265b2e86",
       "placeholder": "​",
       "style": "IPY_MODEL_cdf92afe63374643a90fc3ef658baf14",
       "value": "20/? [01:03&lt;00:00,  3.38s/it]"
      }
     },
     "2bea16e72d0c48e48c8818c66f1f7882": {
      "model_module": "@jupyter-widgets/base",
      "model_module_version": "1.2.0",
      "model_name": "LayoutModel",
      "state": {
       "_model_module": "@jupyter-widgets/base",
       "_model_module_version": "1.2.0",
       "_model_name": "LayoutModel",
       "_view_count": null,
       "_view_module": "@jupyter-widgets/base",
       "_view_module_version": "1.2.0",
       "_view_name": "LayoutView",
       "align_content": null,
       "align_items": null,
       "align_self": null,
       "border": null,
       "bottom": null,
       "display": null,
       "flex": null,
       "flex_flow": null,
       "grid_area": null,
       "grid_auto_columns": null,
       "grid_auto_flow": null,
       "grid_auto_rows": null,
       "grid_column": null,
       "grid_gap": null,
       "grid_row": null,
       "grid_template_areas": null,
       "grid_template_columns": null,
       "grid_template_rows": null,
       "height": null,
       "justify_content": null,
       "justify_items": null,
       "left": null,
       "margin": null,
       "max_height": null,
       "max_width": null,
       "min_height": null,
       "min_width": null,
       "object_fit": null,
       "object_position": null,
       "order": null,
       "overflow": null,
       "overflow_x": null,
       "overflow_y": null,
       "padding": null,
       "right": null,
       "top": null,
       "visibility": null,
       "width": "20px"
      }
     },
     "42132e8541944d1592f33fcd056a94d8": {
      "model_module": "@jupyter-widgets/controls",
      "model_module_version": "1.5.0",
      "model_name": "HTMLModel",
      "state": {
       "_dom_classes": [],
       "_model_module": "@jupyter-widgets/controls",
       "_model_module_version": "1.5.0",
       "_model_name": "HTMLModel",
       "_view_count": null,
       "_view_module": "@jupyter-widgets/controls",
       "_view_module_version": "1.5.0",
       "_view_name": "HTMLView",
       "description": "",
       "description_tooltip": null,
       "layout": "IPY_MODEL_eb13f373573b45f985e220ff0de4341b",
       "placeholder": "​",
       "style": "IPY_MODEL_714dc75b81eb42f691cae57bff308b4d",
       "value": "Iterations:"
      }
     },
     "5896cc74218141b4ab7e540db78d5605": {
      "model_module": "@jupyter-widgets/controls",
      "model_module_version": "1.5.0",
      "model_name": "ProgressStyleModel",
      "state": {
       "_model_module": "@jupyter-widgets/controls",
       "_model_module_version": "1.5.0",
       "_model_name": "ProgressStyleModel",
       "_view_count": null,
       "_view_module": "@jupyter-widgets/base",
       "_view_module_version": "1.2.0",
       "_view_name": "StyleView",
       "bar_color": null,
       "description_width": ""
      }
     },
     "5bcac085611249c8ab958b098e92bc8a": {
      "model_module": "@jupyter-widgets/base",
      "model_module_version": "1.2.0",
      "model_name": "LayoutModel",
      "state": {
       "_model_module": "@jupyter-widgets/base",
       "_model_module_version": "1.2.0",
       "_model_name": "LayoutModel",
       "_view_count": null,
       "_view_module": "@jupyter-widgets/base",
       "_view_module_version": "1.2.0",
       "_view_name": "LayoutView",
       "align_content": null,
       "align_items": null,
       "align_self": null,
       "border": null,
       "bottom": null,
       "display": null,
       "flex": null,
       "flex_flow": null,
       "grid_area": null,
       "grid_auto_columns": null,
       "grid_auto_flow": null,
       "grid_auto_rows": null,
       "grid_column": null,
       "grid_gap": null,
       "grid_row": null,
       "grid_template_areas": null,
       "grid_template_columns": null,
       "grid_template_rows": null,
       "height": null,
       "justify_content": null,
       "justify_items": null,
       "left": null,
       "margin": null,
       "max_height": null,
       "max_width": null,
       "min_height": null,
       "min_width": null,
       "object_fit": null,
       "object_position": null,
       "order": null,
       "overflow": null,
       "overflow_x": null,
       "overflow_y": null,
       "padding": null,
       "right": null,
       "top": null,
       "visibility": null,
       "width": null
      }
     },
     "67ce17f11b604d069bcd6febcf6d2a22": {
      "model_module": "@jupyter-widgets/base",
      "model_module_version": "1.2.0",
      "model_name": "LayoutModel",
      "state": {
       "_model_module": "@jupyter-widgets/base",
       "_model_module_version": "1.2.0",
       "_model_name": "LayoutModel",
       "_view_count": null,
       "_view_module": "@jupyter-widgets/base",
       "_view_module_version": "1.2.0",
       "_view_name": "LayoutView",
       "align_content": null,
       "align_items": null,
       "align_self": null,
       "border": null,
       "bottom": null,
       "display": null,
       "flex": null,
       "flex_flow": null,
       "grid_area": null,
       "grid_auto_columns": null,
       "grid_auto_flow": null,
       "grid_auto_rows": null,
       "grid_column": null,
       "grid_gap": null,
       "grid_row": null,
       "grid_template_areas": null,
       "grid_template_columns": null,
       "grid_template_rows": null,
       "height": null,
       "justify_content": null,
       "justify_items": null,
       "left": null,
       "margin": null,
       "max_height": null,
       "max_width": null,
       "min_height": null,
       "min_width": null,
       "object_fit": null,
       "object_position": null,
       "order": null,
       "overflow": null,
       "overflow_x": null,
       "overflow_y": null,
       "padding": null,
       "right": null,
       "top": null,
       "visibility": null,
       "width": null
      }
     },
     "714dc75b81eb42f691cae57bff308b4d": {
      "model_module": "@jupyter-widgets/controls",
      "model_module_version": "1.5.0",
      "model_name": "DescriptionStyleModel",
      "state": {
       "_model_module": "@jupyter-widgets/controls",
       "_model_module_version": "1.5.0",
       "_model_name": "DescriptionStyleModel",
       "_view_count": null,
       "_view_module": "@jupyter-widgets/base",
       "_view_module_version": "1.2.0",
       "_view_name": "StyleView",
       "description_width": ""
      }
     },
     "7d4ca6c2b3484235bce52d74fcdb2760": {
      "model_module": "@jupyter-widgets/controls",
      "model_module_version": "1.5.0",
      "model_name": "HTMLModel",
      "state": {
       "_dom_classes": [],
       "_model_module": "@jupyter-widgets/controls",
       "_model_module_version": "1.5.0",
       "_model_name": "HTMLModel",
       "_view_count": null,
       "_view_module": "@jupyter-widgets/controls",
       "_view_module_version": "1.5.0",
       "_view_name": "HTMLView",
       "description": "",
       "description_tooltip": null,
       "layout": "IPY_MODEL_c931208bd0214171b91a7a921fd47070",
       "placeholder": "​",
       "style": "IPY_MODEL_d1c7b765170d4a76a1775023320a8c0a",
       "value": "Packets:   "
      }
     },
     "8c23de5e5a624b1b8551f330336fc116": {
      "model_module": "@jupyter-widgets/base",
      "model_module_version": "1.2.0",
      "model_name": "LayoutModel",
      "state": {
       "_model_module": "@jupyter-widgets/base",
       "_model_module_version": "1.2.0",
       "_model_name": "LayoutModel",
       "_view_count": null,
       "_view_module": "@jupyter-widgets/base",
       "_view_module_version": "1.2.0",
       "_view_name": "LayoutView",
       "align_content": null,
       "align_items": null,
       "align_self": null,
       "border": null,
       "bottom": null,
       "display": null,
       "flex": null,
       "flex_flow": null,
       "grid_area": null,
       "grid_auto_columns": null,
       "grid_auto_flow": null,
       "grid_auto_rows": null,
       "grid_column": null,
       "grid_gap": null,
       "grid_row": null,
       "grid_template_areas": null,
       "grid_template_columns": null,
       "grid_template_rows": null,
       "height": null,
       "justify_content": null,
       "justify_items": null,
       "left": null,
       "margin": null,
       "max_height": null,
       "max_width": null,
       "min_height": null,
       "min_width": null,
       "object_fit": null,
       "object_position": null,
       "order": null,
       "overflow": null,
       "overflow_x": null,
       "overflow_y": null,
       "padding": null,
       "right": null,
       "top": null,
       "visibility": null,
       "width": null
      }
     },
     "91a89bcdcebe497f96f7bc101637f7cf": {
      "model_module": "@jupyter-widgets/base",
      "model_module_version": "1.2.0",
      "model_name": "LayoutModel",
      "state": {
       "_model_module": "@jupyter-widgets/base",
       "_model_module_version": "1.2.0",
       "_model_name": "LayoutModel",
       "_view_count": null,
       "_view_module": "@jupyter-widgets/base",
       "_view_module_version": "1.2.0",
       "_view_name": "LayoutView",
       "align_content": null,
       "align_items": null,
       "align_self": null,
       "border": null,
       "bottom": null,
       "display": null,
       "flex": null,
       "flex_flow": null,
       "grid_area": null,
       "grid_auto_columns": null,
       "grid_auto_flow": null,
       "grid_auto_rows": null,
       "grid_column": null,
       "grid_gap": null,
       "grid_row": null,
       "grid_template_areas": null,
       "grid_template_columns": null,
       "grid_template_rows": null,
       "height": null,
       "justify_content": null,
       "justify_items": null,
       "left": null,
       "margin": null,
       "max_height": null,
       "max_width": null,
       "min_height": null,
       "min_width": null,
       "object_fit": null,
       "object_position": null,
       "order": null,
       "overflow": null,
       "overflow_x": null,
       "overflow_y": null,
       "padding": null,
       "right": null,
       "top": null,
       "visibility": null,
       "width": null
      }
     },
     "b2a9b40e4bb545fa9414be9e510e59b7": {
      "model_module": "@jupyter-widgets/controls",
      "model_module_version": "1.5.0",
      "model_name": "HTMLModel",
      "state": {
       "_dom_classes": [],
       "_model_module": "@jupyter-widgets/controls",
       "_model_module_version": "1.5.0",
       "_model_name": "HTMLModel",
       "_view_count": null,
       "_view_module": "@jupyter-widgets/controls",
       "_view_module_version": "1.5.0",
       "_view_name": "HTMLView",
       "description": "",
       "description_tooltip": null,
       "layout": "IPY_MODEL_91a89bcdcebe497f96f7bc101637f7cf",
       "placeholder": "​",
       "style": "IPY_MODEL_1b98feeff4664bf694343acf54c11b9a",
       "value": "0/? [00:00&lt;?, ?it/s]"
      }
     },
     "c8b4fe58ea5e424782fdc716392a2caa": {
      "model_module": "@jupyter-widgets/base",
      "model_module_version": "1.2.0",
      "model_name": "LayoutModel",
      "state": {
       "_model_module": "@jupyter-widgets/base",
       "_model_module_version": "1.2.0",
       "_model_name": "LayoutModel",
       "_view_count": null,
       "_view_module": "@jupyter-widgets/base",
       "_view_module_version": "1.2.0",
       "_view_name": "LayoutView",
       "align_content": null,
       "align_items": null,
       "align_self": null,
       "border": null,
       "bottom": null,
       "display": null,
       "flex": null,
       "flex_flow": null,
       "grid_area": null,
       "grid_auto_columns": null,
       "grid_auto_flow": null,
       "grid_auto_rows": null,
       "grid_column": null,
       "grid_gap": null,
       "grid_row": null,
       "grid_template_areas": null,
       "grid_template_columns": null,
       "grid_template_rows": null,
       "height": null,
       "justify_content": null,
       "justify_items": null,
       "left": null,
       "margin": null,
       "max_height": null,
       "max_width": null,
       "min_height": null,
       "min_width": null,
       "object_fit": null,
       "object_position": null,
       "order": null,
       "overflow": null,
       "overflow_x": null,
       "overflow_y": null,
       "padding": null,
       "right": null,
       "top": null,
       "visibility": null,
       "width": null
      }
     },
     "c931208bd0214171b91a7a921fd47070": {
      "model_module": "@jupyter-widgets/base",
      "model_module_version": "1.2.0",
      "model_name": "LayoutModel",
      "state": {
       "_model_module": "@jupyter-widgets/base",
       "_model_module_version": "1.2.0",
       "_model_name": "LayoutModel",
       "_view_count": null,
       "_view_module": "@jupyter-widgets/base",
       "_view_module_version": "1.2.0",
       "_view_name": "LayoutView",
       "align_content": null,
       "align_items": null,
       "align_self": null,
       "border": null,
       "bottom": null,
       "display": null,
       "flex": null,
       "flex_flow": null,
       "grid_area": null,
       "grid_auto_columns": null,
       "grid_auto_flow": null,
       "grid_auto_rows": null,
       "grid_column": null,
       "grid_gap": null,
       "grid_row": null,
       "grid_template_areas": null,
       "grid_template_columns": null,
       "grid_template_rows": null,
       "height": null,
       "justify_content": null,
       "justify_items": null,
       "left": null,
       "margin": null,
       "max_height": null,
       "max_width": null,
       "min_height": null,
       "min_width": null,
       "object_fit": null,
       "object_position": null,
       "order": null,
       "overflow": null,
       "overflow_x": null,
       "overflow_y": null,
       "padding": null,
       "right": null,
       "top": null,
       "visibility": null,
       "width": null
      }
     },
     "cdf92afe63374643a90fc3ef658baf14": {
      "model_module": "@jupyter-widgets/controls",
      "model_module_version": "1.5.0",
      "model_name": "DescriptionStyleModel",
      "state": {
       "_model_module": "@jupyter-widgets/controls",
       "_model_module_version": "1.5.0",
       "_model_name": "DescriptionStyleModel",
       "_view_count": null,
       "_view_module": "@jupyter-widgets/base",
       "_view_module_version": "1.2.0",
       "_view_name": "StyleView",
       "description_width": ""
      }
     },
     "d035f4006994458cb8f0db008d79a4d7": {
      "model_module": "@jupyter-widgets/controls",
      "model_module_version": "1.5.0",
      "model_name": "HBoxModel",
      "state": {
       "_dom_classes": [],
       "_model_module": "@jupyter-widgets/controls",
       "_model_module_version": "1.5.0",
       "_model_name": "HBoxModel",
       "_view_count": null,
       "_view_module": "@jupyter-widgets/controls",
       "_view_module_version": "1.5.0",
       "_view_name": "HBoxView",
       "box_style": "",
       "children": [
        "IPY_MODEL_42132e8541944d1592f33fcd056a94d8",
        "IPY_MODEL_d2ab412e85964f35b28b83568231a627",
        "IPY_MODEL_2a04960196704fc284d7804242856f29"
       ],
       "layout": "IPY_MODEL_8c23de5e5a624b1b8551f330336fc116"
      }
     },
     "d05f7cd92ab34d56924b4a3e09901f46": {
      "model_module": "@jupyter-widgets/base",
      "model_module_version": "1.2.0",
      "model_name": "LayoutModel",
      "state": {
       "_model_module": "@jupyter-widgets/base",
       "_model_module_version": "1.2.0",
       "_model_name": "LayoutModel",
       "_view_count": null,
       "_view_module": "@jupyter-widgets/base",
       "_view_module_version": "1.2.0",
       "_view_name": "LayoutView",
       "align_content": null,
       "align_items": null,
       "align_self": null,
       "border": null,
       "bottom": null,
       "display": null,
       "flex": null,
       "flex_flow": null,
       "grid_area": null,
       "grid_auto_columns": null,
       "grid_auto_flow": null,
       "grid_auto_rows": null,
       "grid_column": null,
       "grid_gap": null,
       "grid_row": null,
       "grid_template_areas": null,
       "grid_template_columns": null,
       "grid_template_rows": null,
       "height": null,
       "justify_content": null,
       "justify_items": null,
       "left": null,
       "margin": null,
       "max_height": null,
       "max_width": null,
       "min_height": null,
       "min_width": null,
       "object_fit": null,
       "object_position": null,
       "order": null,
       "overflow": null,
       "overflow_x": null,
       "overflow_y": null,
       "padding": null,
       "right": null,
       "top": null,
       "visibility": null,
       "width": "20px"
      }
     },
     "d1c7b765170d4a76a1775023320a8c0a": {
      "model_module": "@jupyter-widgets/controls",
      "model_module_version": "1.5.0",
      "model_name": "DescriptionStyleModel",
      "state": {
       "_model_module": "@jupyter-widgets/controls",
       "_model_module_version": "1.5.0",
       "_model_name": "DescriptionStyleModel",
       "_view_count": null,
       "_view_module": "@jupyter-widgets/base",
       "_view_module_version": "1.2.0",
       "_view_name": "StyleView",
       "description_width": ""
      }
     },
     "d2ab412e85964f35b28b83568231a627": {
      "model_module": "@jupyter-widgets/controls",
      "model_module_version": "1.5.0",
      "model_name": "FloatProgressModel",
      "state": {
       "_dom_classes": [],
       "_model_module": "@jupyter-widgets/controls",
       "_model_module_version": "1.5.0",
       "_model_name": "FloatProgressModel",
       "_view_count": null,
       "_view_module": "@jupyter-widgets/controls",
       "_view_module_version": "1.5.0",
       "_view_name": "ProgressView",
       "bar_style": "info",
       "description": "",
       "description_tooltip": null,
       "layout": "IPY_MODEL_2bea16e72d0c48e48c8818c66f1f7882",
       "max": 1.0,
       "min": 0.0,
       "orientation": "horizontal",
       "style": "IPY_MODEL_d9c3146f1ca84b98b124388033363546",
       "value": 1.0
      }
     },
     "d9c3146f1ca84b98b124388033363546": {
      "model_module": "@jupyter-widgets/controls",
      "model_module_version": "1.5.0",
      "model_name": "ProgressStyleModel",
      "state": {
       "_model_module": "@jupyter-widgets/controls",
       "_model_module_version": "1.5.0",
       "_model_name": "ProgressStyleModel",
       "_view_count": null,
       "_view_module": "@jupyter-widgets/base",
       "_view_module_version": "1.2.0",
       "_view_name": "StyleView",
       "bar_color": null,
       "description_width": ""
      }
     },
     "db0082c53bcf489988412cd3f3c4ff04": {
      "model_module": "@jupyter-widgets/controls",
      "model_module_version": "1.5.0",
      "model_name": "HBoxModel",
      "state": {
       "_dom_classes": [],
       "_model_module": "@jupyter-widgets/controls",
       "_model_module_version": "1.5.0",
       "_model_name": "HBoxModel",
       "_view_count": null,
       "_view_module": "@jupyter-widgets/controls",
       "_view_module_version": "1.5.0",
       "_view_name": "HBoxView",
       "box_style": "",
       "children": [
        "IPY_MODEL_7d4ca6c2b3484235bce52d74fcdb2760",
        "IPY_MODEL_ee1a78c7209a4ad58fb63d0be6161b28",
        "IPY_MODEL_b2a9b40e4bb545fa9414be9e510e59b7"
       ],
       "layout": "IPY_MODEL_67ce17f11b604d069bcd6febcf6d2a22"
      }
     },
     "dd02974c259d4d8e8b15347d265b2e86": {
      "model_module": "@jupyter-widgets/base",
      "model_module_version": "1.2.0",
      "model_name": "LayoutModel",
      "state": {
       "_model_module": "@jupyter-widgets/base",
       "_model_module_version": "1.2.0",
       "_model_name": "LayoutModel",
       "_view_count": null,
       "_view_module": "@jupyter-widgets/base",
       "_view_module_version": "1.2.0",
       "_view_name": "LayoutView",
       "align_content": null,
       "align_items": null,
       "align_self": null,
       "border": null,
       "bottom": null,
       "display": null,
       "flex": null,
       "flex_flow": null,
       "grid_area": null,
       "grid_auto_columns": null,
       "grid_auto_flow": null,
       "grid_auto_rows": null,
       "grid_column": null,
       "grid_gap": null,
       "grid_row": null,
       "grid_template_areas": null,
       "grid_template_columns": null,
       "grid_template_rows": null,
       "height": null,
       "justify_content": null,
       "justify_items": null,
       "left": null,
       "margin": null,
       "max_height": null,
       "max_width": null,
       "min_height": null,
       "min_width": null,
       "object_fit": null,
       "object_position": null,
       "order": null,
       "overflow": null,
       "overflow_x": null,
       "overflow_y": null,
       "padding": null,
       "right": null,
       "top": null,
       "visibility": null,
       "width": null
      }
     },
     "eb13f373573b45f985e220ff0de4341b": {
      "model_module": "@jupyter-widgets/base",
      "model_module_version": "1.2.0",
      "model_name": "LayoutModel",
      "state": {
       "_model_module": "@jupyter-widgets/base",
       "_model_module_version": "1.2.0",
       "_model_name": "LayoutModel",
       "_view_count": null,
       "_view_module": "@jupyter-widgets/base",
       "_view_module_version": "1.2.0",
       "_view_name": "LayoutView",
       "align_content": null,
       "align_items": null,
       "align_self": null,
       "border": null,
       "bottom": null,
       "display": null,
       "flex": null,
       "flex_flow": null,
       "grid_area": null,
       "grid_auto_columns": null,
       "grid_auto_flow": null,
       "grid_auto_rows": null,
       "grid_column": null,
       "grid_gap": null,
       "grid_row": null,
       "grid_template_areas": null,
       "grid_template_columns": null,
       "grid_template_rows": null,
       "height": null,
       "justify_content": null,
       "justify_items": null,
       "left": null,
       "margin": null,
       "max_height": null,
       "max_width": null,
       "min_height": null,
       "min_width": null,
       "object_fit": null,
       "object_position": null,
       "order": null,
       "overflow": null,
       "overflow_x": null,
       "overflow_y": null,
       "padding": null,
       "right": null,
       "top": null,
       "visibility": null,
       "width": null
      }
     },
     "ee1a78c7209a4ad58fb63d0be6161b28": {
      "model_module": "@jupyter-widgets/controls",
      "model_module_version": "1.5.0",
      "model_name": "FloatProgressModel",
      "state": {
       "_dom_classes": [],
       "_model_module": "@jupyter-widgets/controls",
       "_model_module_version": "1.5.0",
       "_model_name": "FloatProgressModel",
       "_view_count": null,
       "_view_module": "@jupyter-widgets/controls",
       "_view_module_version": "1.5.0",
       "_view_name": "ProgressView",
       "bar_style": "info",
       "description": "",
       "description_tooltip": null,
       "layout": "IPY_MODEL_d05f7cd92ab34d56924b4a3e09901f46",
       "max": 1.0,
       "min": 0.0,
       "orientation": "horizontal",
       "style": "IPY_MODEL_5896cc74218141b4ab7e540db78d5605",
       "value": 0.0
      }
     },
     "f9bf0bd748fb41aaa1fa2260e16b364a": {
      "model_module": "@jupyter-widgets/output",
      "model_module_version": "1.0.0",
      "model_name": "OutputModel",
      "state": {
       "_dom_classes": [],
       "_model_module": "@jupyter-widgets/output",
       "_model_module_version": "1.0.0",
       "_model_name": "OutputModel",
       "_view_count": null,
       "_view_module": "@jupyter-widgets/output",
       "_view_module_version": "1.0.0",
       "_view_name": "OutputView",
       "layout": "IPY_MODEL_5bcac085611249c8ab958b098e92bc8a",
       "msg_id": "",
       "outputs": []
      }
     }
    },
    "version_major": 2,
    "version_minor": 0
   }
  }
 },
 "nbformat": 4,
 "nbformat_minor": 5
}
