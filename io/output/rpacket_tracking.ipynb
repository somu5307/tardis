{
 "cells": [
  {
   "cell_type": "markdown",
   "id": "f57cd4fe",
   "metadata": {},
   "source": [
    "# Tracking the Properties of Real Packets"
   ]
  },
  {
   "cell_type": "markdown",
   "id": "c103617c",
   "metadata": {},
   "source": [
    "**TARDIS** has the functionality to track the properties of the *RPackets* that are generated when running the Simulation. The `rpacket_tracker` can track all the interactions a packet undergoes & thus keeps a track of the various properties, a packet may have.<br>Currently, the `rpacket_tracker` tracks the properties of all the rpackets in the *Last Iteration of the Simulation*. It generates a `List` that contains the individual instances of `RPacketCollection`{`Numba JITClass`}, for storing all the interaction properties as listed below."
   ]
  },
  {
   "cell_type": "markdown",
   "id": "ce6214b9",
   "metadata": {},
   "source": [
    "<html>\n",
    "    <body>\n",
    "        The properties that are tracked are as follows :\n",
    "        <ol>\n",
    "            <li><b>index</b> - Index of the Packet</li>\n",
    "            <li><b>seed</b> - Seed of the Packet</li>\n",
    "            <li><b>status</b> - Current Status for the Packet Interaction</li>\n",
    "            <li><b>r</b> - Radius of the Current Shell</li> \n",
    "            <li><b>nu</b> - Packet's Frequency</li> \n",
    "            <li><b>mu</b> - Propagation Direction of the Packet (cosine of the angle the packet’s path makes with the radial direction)</li>\n",
    "            <li><b>energy</b> - Energy of the Packet</li>\n",
    "            <li><b>shell_id</b> - Current Shell Id where the Packet is present</li>\n",
    "        </ol>\n",
    "    </body>\n",
    "</html>"
   ]
  },
  {
   "cell_type": "markdown",
   "id": "4b0de6ca",
   "metadata": {},
   "source": [
    "The data can be obtained in two ways i.e. `rpacket_tracker` and `rpacket_tracker_df`. The `rpacket_tracker` stores all the data for the interaction of the packets in a `list`, so it needs to accessed with a `list index` for each property for a particular `rpacket`. `rpacket_tracker_df` stores the data in a dataframe. Examples for the same are shown as follows. "
   ]
  },
  {
   "cell_type": "markdown",
   "id": "1686d9f1",
   "metadata": {},
   "source": [
    "## How to Setup the Tracking for the RPackets?"
   ]
  },
  {
   "cell_type": "markdown",
   "id": "29e14475",
   "metadata": {},
   "source": [
    "**TARDIS**' `rpacket_tracker` is configured via the `YAML` file. This functionality of tracking the packets is turned **off**, by default. This is due to that fact that using this property, may slow down the execution time for the Simulation. An example configuration can be seen below for setting up the *tracking*:\n",
    "\n",
    "```yaml\n",
    "... \n",
    "montecarlo:\n",
    "...\n",
    "tracking:\n",
    "    track_rpacket: true\n",
    "```"
   ]
  },
  {
   "cell_type": "markdown",
   "id": "13b6420b",
   "metadata": {},
   "source": [
    "The `montecarlo` section of the **YAML** file now has a `tracking` sub section which holds the configuration properties for the `track_rpacket` & the `initial_array_length` (discussed later in the tutorial)."
   ]
  },
  {
   "cell_type": "markdown",
   "id": "2634c571",
   "metadata": {},
   "source": [
    "Let us see, the new `rpacket_tracker` in action."
   ]
  },
  {
   "cell_type": "code",
   "execution_count": 1,
   "id": "a0e975b6",
   "metadata": {
    "execution": {
     "iopub.execute_input": "2022-08-03T15:01:44.901332Z",
     "iopub.status.busy": "2022-08-03T15:01:44.900824Z",
     "iopub.status.idle": "2022-08-03T15:01:47.556143Z",
     "shell.execute_reply": "2022-08-03T15:01:47.555405Z"
    }
   },
   "outputs": [
    {
     "name": "stderr",
     "output_type": "stream",
     "text": [
      "/usr/share/miniconda3/envs/tardis/lib/python3.8/site-packages/setuptools_scm/git.py:135: UserWarning: \"/home/runner/work/tardis/tardis\" is shallow and may cause errors\n",
      "  warnings.warn(f'\"{wd.path}\" is shallow and may cause errors')\n"
     ]
    },
    {
     "data": {
      "application/vnd.jupyter.widget-view+json": {
       "model_id": "3cc6b4815dfe4404a22c3fa464cfb27e",
       "version_major": 2,
       "version_minor": 0
      },
      "text/plain": [
       "Iterations:          0/? [00:00<?, ?it/s]"
      ]
     },
     "metadata": {},
     "output_type": "display_data"
    },
    {
     "data": {
      "application/vnd.jupyter.widget-view+json": {
       "model_id": "b93f2c480f4342989b564eea498dfc2f",
       "version_major": 2,
       "version_minor": 0
      },
      "text/plain": [
       "Packets:             0/? [00:00<?, ?it/s]"
      ]
     },
     "metadata": {},
     "output_type": "display_data"
    }
   ],
   "source": [
    "from tardis.io.config_reader import Configuration"
   ]
  },
  {
   "cell_type": "code",
   "execution_count": 2,
   "id": "adbf5f75",
   "metadata": {
    "execution": {
     "iopub.execute_input": "2022-08-03T15:01:47.560482Z",
     "iopub.status.busy": "2022-08-03T15:01:47.559661Z",
     "iopub.status.idle": "2022-08-03T15:01:47.692918Z",
     "shell.execute_reply": "2022-08-03T15:01:47.692153Z"
    }
   },
   "outputs": [],
   "source": [
    "# Reading the Configuration stored in `tardis_config_packet_tracking.yml` into config\n",
    "\n",
    "config = Configuration.from_yaml(\"tardis_example.yml\")"
   ]
  },
  {
   "cell_type": "code",
   "execution_count": 3,
   "id": "975766e9",
   "metadata": {
    "execution": {
     "iopub.execute_input": "2022-08-03T15:01:47.696633Z",
     "iopub.status.busy": "2022-08-03T15:01:47.696363Z",
     "iopub.status.idle": "2022-08-03T15:01:47.704614Z",
     "shell.execute_reply": "2022-08-03T15:01:47.703972Z"
    }
   },
   "outputs": [
    {
     "data": {
      "text/plain": [
       "{'track_rpacket': False, 'initial_array_length': 10}"
      ]
     },
     "execution_count": 3,
     "metadata": {},
     "output_type": "execute_result"
    }
   ],
   "source": [
    "# Checking the `tracking` section via the Schema\n",
    "\n",
    "config[\"montecarlo\"][\"tracking\"]"
   ]
  },
  {
   "cell_type": "code",
   "execution_count": 4,
   "id": "b00bc2ca",
   "metadata": {
    "execution": {
     "iopub.execute_input": "2022-08-03T15:01:47.708290Z",
     "iopub.status.busy": "2022-08-03T15:01:47.708054Z",
     "iopub.status.idle": "2022-08-03T15:01:47.711066Z",
     "shell.execute_reply": "2022-08-03T15:01:47.710439Z"
    }
   },
   "outputs": [],
   "source": [
    "# Setting `r_packet_tracking` to True to turn on the Tracking \n",
    "\n",
    "config[\"montecarlo\"][\"tracking\"][\"track_rpacket\"] = True"
   ]
  },
  {
   "cell_type": "code",
   "execution_count": 5,
   "id": "3ece2c10",
   "metadata": {
    "execution": {
     "iopub.execute_input": "2022-08-03T15:01:47.713691Z",
     "iopub.status.busy": "2022-08-03T15:01:47.713469Z",
     "iopub.status.idle": "2022-08-03T15:01:47.717618Z",
     "shell.execute_reply": "2022-08-03T15:01:47.717011Z"
    }
   },
   "outputs": [
    {
     "data": {
      "text/plain": [
       "{'track_rpacket': True, 'initial_array_length': 10}"
      ]
     },
     "execution_count": 5,
     "metadata": {},
     "output_type": "execute_result"
    }
   ],
   "source": [
    "config[\"montecarlo\"][\"tracking\"]"
   ]
  },
  {
   "cell_type": "code",
   "execution_count": 6,
   "id": "b25271d6",
   "metadata": {
    "execution": {
     "iopub.execute_input": "2022-08-03T15:01:47.720811Z",
     "iopub.status.busy": "2022-08-03T15:01:47.720411Z",
     "iopub.status.idle": "2022-08-03T15:01:47.723453Z",
     "shell.execute_reply": "2022-08-03T15:01:47.722818Z"
    }
   },
   "outputs": [],
   "source": [
    "from tardis import run_tardis"
   ]
  },
  {
   "cell_type": "code",
   "execution_count": 7,
   "id": "f9e51fd3",
   "metadata": {
    "execution": {
     "iopub.execute_input": "2022-08-03T15:01:47.726246Z",
     "iopub.status.busy": "2022-08-03T15:01:47.725733Z",
     "iopub.status.idle": "2022-08-03T15:02:46.198758Z",
     "shell.execute_reply": "2022-08-03T15:02:46.197605Z"
    },
    "scrolled": false
   },
   "outputs": [
    {
     "name": "stdout",
     "output_type": "stream",
     "text": [
      "[\u001b[1mtardis.plasma.standard_plasmas\u001b[0m][\u001b[1;37mINFO\u001b[0m   ]  \n",
      "\t\n",
      "\tReading Atomic Data from kurucz_cd23_chianti_H_He.h5 (\u001b[1mstandard_plasmas.py\u001b[0m:93)\n"
     ]
    },
    {
     "name": "stdout",
     "output_type": "stream",
     "text": [
      "[\u001b[1mtardis.io.atom_data.util\u001b[0m][\u001b[1;37mINFO\u001b[0m   ]  \n",
      "\t\n",
      "\tAtom Data kurucz_cd23_chianti_H_He.h5 not found in local path.\n",
      "\tExists in TARDIS Data repo /home/runner/Downloads/tardis-data/kurucz_cd23_chianti_H_He.h5 (\u001b[1mutil.py\u001b[0m:33)\n"
     ]
    },
    {
     "name": "stdout",
     "output_type": "stream",
     "text": [
      "[\u001b[1mtardis.io.atom_data.base\u001b[0m][\u001b[1;37mINFO\u001b[0m   ]  \n",
      "\tReading Atom Data with: UUID = 6f7b09e887a311e7a06b246e96350010 MD5  = 864f1753714343c41f99cb065710cace  (\u001b[1mbase.py\u001b[0m:249)\n"
     ]
    },
    {
     "name": "stdout",
     "output_type": "stream",
     "text": [
      "[\u001b[1mtardis.io.atom_data.base\u001b[0m][\u001b[1;37mINFO\u001b[0m   ]  \n",
      "\tNon provided Atomic Data: synpp_refs, photoionization_data, yg_data, two_photon_data (\u001b[1mbase.py\u001b[0m:253)\n"
     ]
    },
    {
     "name": "stdout",
     "output_type": "stream",
     "text": [
      "[\u001b[1mpy.warnings         \u001b[0m][\u001b[1;33mWARNING\u001b[0m]  \n",
      "\t/home/runner/work/tardis/tardis/tardis/plasma/properties/radiative_properties.py:93: RuntimeWarning: invalid value encountered in true_divide\n",
      "  (g_lower * n_upper) / (g_upper * n_lower)\n",
      " (\u001b[1mwarnings.py\u001b[0m:109)\n"
     ]
    },
    {
     "name": "stdout",
     "output_type": "stream",
     "text": [
      "[\u001b[1mpy.warnings         \u001b[0m][\u001b[1;33mWARNING\u001b[0m]  \n",
      "\t/home/runner/work/tardis/tardis/tardis/plasma/properties/radiative_properties.py:93: RuntimeWarning: invalid value encountered in true_divide\n",
      "  (g_lower * n_upper) / (g_upper * n_lower)\n",
      " (\u001b[1mwarnings.py\u001b[0m:109)\n"
     ]
    },
    {
     "name": "stdout",
     "output_type": "stream",
     "text": [
      "[\u001b[1mtardis.simulation.base\u001b[0m][\u001b[1;37mINFO\u001b[0m   ]  \n",
      "\t\n",
      "\tStarting iteration 1 of 20 (\u001b[1mbase.py\u001b[0m:381)\n"
     ]
    },
    {
     "name": "stdout",
     "output_type": "stream",
     "text": [
      "[\u001b[1mtardis.simulation.base\u001b[0m][\u001b[1;37mINFO\u001b[0m   ]  \n",
      "\t\n",
      "\tLuminosity emitted   = 7.942e+42 erg / s\n",
      "\tLuminosity absorbed  = 2.659e+42 erg / s\n",
      "\tLuminosity requested = 1.059e+43 erg / s\n",
      " (\u001b[1mbase.py\u001b[0m:555)\n"
     ]
    },
    {
     "name": "stdout",
     "output_type": "stream",
     "text": [
      "[\u001b[1mtardis.simulation.base\u001b[0m][\u001b[1;37mINFO\u001b[0m   ]  \n",
      "\t\n",
      "\tPlasma stratification: (\u001b[1mbase.py\u001b[0m:523)\n"
     ]
    },
    {
     "data": {
      "text/html": [
       "<style  type=\"text/css\" >\n",
       "</style><table id=\"T_44a784c8_133d_11ed_9352_000d3a16ef66\" ><thead>    <tr>        <th class=\"index_name level0\" >Shell No.</th>        <th class=\"col_heading level0 col0\" >t_rad</th>        <th class=\"col_heading level0 col1\" >next_t_rad</th>        <th class=\"col_heading level0 col2\" >w</th>        <th class=\"col_heading level0 col3\" >next_w</th>    </tr></thead><tbody>\n",
       "                <tr>\n",
       "                        <th id=\"T_44a784c8_133d_11ed_9352_000d3a16ef66level0_row0\" class=\"row_heading level0 row0\" >0</th>\n",
       "                        <td id=\"T_44a784c8_133d_11ed_9352_000d3a16ef66row0_col0\" class=\"data row0 col0\" >9.93e+03</td>\n",
       "                        <td id=\"T_44a784c8_133d_11ed_9352_000d3a16ef66row0_col1\" class=\"data row0 col1\" >1.01e+04</td>\n",
       "                        <td id=\"T_44a784c8_133d_11ed_9352_000d3a16ef66row0_col2\" class=\"data row0 col2\" >0.4</td>\n",
       "                        <td id=\"T_44a784c8_133d_11ed_9352_000d3a16ef66row0_col3\" class=\"data row0 col3\" >0.507</td>\n",
       "            </tr>\n",
       "            <tr>\n",
       "                        <th id=\"T_44a784c8_133d_11ed_9352_000d3a16ef66level0_row1\" class=\"row_heading level0 row1\" >5</th>\n",
       "                        <td id=\"T_44a784c8_133d_11ed_9352_000d3a16ef66row1_col0\" class=\"data row1 col0\" >9.85e+03</td>\n",
       "                        <td id=\"T_44a784c8_133d_11ed_9352_000d3a16ef66row1_col1\" class=\"data row1 col1\" >1.02e+04</td>\n",
       "                        <td id=\"T_44a784c8_133d_11ed_9352_000d3a16ef66row1_col2\" class=\"data row1 col2\" >0.211</td>\n",
       "                        <td id=\"T_44a784c8_133d_11ed_9352_000d3a16ef66row1_col3\" class=\"data row1 col3\" >0.197</td>\n",
       "            </tr>\n",
       "            <tr>\n",
       "                        <th id=\"T_44a784c8_133d_11ed_9352_000d3a16ef66level0_row2\" class=\"row_heading level0 row2\" >10</th>\n",
       "                        <td id=\"T_44a784c8_133d_11ed_9352_000d3a16ef66row2_col0\" class=\"data row2 col0\" >9.78e+03</td>\n",
       "                        <td id=\"T_44a784c8_133d_11ed_9352_000d3a16ef66row2_col1\" class=\"data row2 col1\" >1.01e+04</td>\n",
       "                        <td id=\"T_44a784c8_133d_11ed_9352_000d3a16ef66row2_col2\" class=\"data row2 col2\" >0.143</td>\n",
       "                        <td id=\"T_44a784c8_133d_11ed_9352_000d3a16ef66row2_col3\" class=\"data row2 col3\" >0.117</td>\n",
       "            </tr>\n",
       "            <tr>\n",
       "                        <th id=\"T_44a784c8_133d_11ed_9352_000d3a16ef66level0_row3\" class=\"row_heading level0 row3\" >15</th>\n",
       "                        <td id=\"T_44a784c8_133d_11ed_9352_000d3a16ef66row3_col0\" class=\"data row3 col0\" >9.71e+03</td>\n",
       "                        <td id=\"T_44a784c8_133d_11ed_9352_000d3a16ef66row3_col1\" class=\"data row3 col1\" >9.87e+03</td>\n",
       "                        <td id=\"T_44a784c8_133d_11ed_9352_000d3a16ef66row3_col2\" class=\"data row3 col2\" >0.105</td>\n",
       "                        <td id=\"T_44a784c8_133d_11ed_9352_000d3a16ef66row3_col3\" class=\"data row3 col3\" >0.0869</td>\n",
       "            </tr>\n",
       "    </tbody></table>"
      ],
      "text/plain": [
       "<pandas.io.formats.style.Styler at 0x7f04a756ab20>"
      ]
     },
     "metadata": {},
     "output_type": "display_data"
    },
    {
     "name": "stdout",
     "output_type": "stream",
     "text": [
      "[\u001b[1mtardis.simulation.base\u001b[0m][\u001b[1;37mINFO\u001b[0m   ]  \n",
      "\t\n",
      "\tCurrent t_inner = 9933.952 K\n",
      "\tExpected t_inner for next iteration = 10703.212 K\n",
      " (\u001b[1mbase.py\u001b[0m:550)\n"
     ]
    },
    {
     "name": "stdout",
     "output_type": "stream",
     "text": [
      "[\u001b[1mpy.warnings         \u001b[0m][\u001b[1;33mWARNING\u001b[0m]  \n",
      "\t/home/runner/work/tardis/tardis/tardis/plasma/properties/radiative_properties.py:93: RuntimeWarning: invalid value encountered in true_divide\n",
      "  (g_lower * n_upper) / (g_upper * n_lower)\n",
      " (\u001b[1mwarnings.py\u001b[0m:109)\n"
     ]
    },
    {
     "name": "stdout",
     "output_type": "stream",
     "text": [
      "[\u001b[1mtardis.simulation.base\u001b[0m][\u001b[1;37mINFO\u001b[0m   ]  \n",
      "\t\n",
      "\tStarting iteration 2 of 20 (\u001b[1mbase.py\u001b[0m:381)\n"
     ]
    },
    {
     "name": "stdout",
     "output_type": "stream",
     "text": [
      "[\u001b[1mtardis.simulation.base\u001b[0m][\u001b[1;37mINFO\u001b[0m   ]  \n",
      "\t\n",
      "\tLuminosity emitted   = 1.071e+43 erg / s\n",
      "\tLuminosity absorbed  = 3.576e+42 erg / s\n",
      "\tLuminosity requested = 1.059e+43 erg / s\n",
      " (\u001b[1mbase.py\u001b[0m:555)\n"
     ]
    },
    {
     "name": "stdout",
     "output_type": "stream",
     "text": [
      "[\u001b[1mtardis.simulation.base\u001b[0m][\u001b[1;37mINFO\u001b[0m   ]  \n",
      "\t\n",
      "\tPlasma stratification: (\u001b[1mbase.py\u001b[0m:523)\n"
     ]
    },
    {
     "data": {
      "text/html": [
       "<style  type=\"text/css\" >\n",
       "</style><table id=\"T_4535b70c_133d_11ed_9352_000d3a16ef66\" ><thead>    <tr>        <th class=\"index_name level0\" >Shell No.</th>        <th class=\"col_heading level0 col0\" >t_rad</th>        <th class=\"col_heading level0 col1\" >next_t_rad</th>        <th class=\"col_heading level0 col2\" >w</th>        <th class=\"col_heading level0 col3\" >next_w</th>    </tr></thead><tbody>\n",
       "                <tr>\n",
       "                        <th id=\"T_4535b70c_133d_11ed_9352_000d3a16ef66level0_row0\" class=\"row_heading level0 row0\" >0</th>\n",
       "                        <td id=\"T_4535b70c_133d_11ed_9352_000d3a16ef66row0_col0\" class=\"data row0 col0\" >1.01e+04</td>\n",
       "                        <td id=\"T_4535b70c_133d_11ed_9352_000d3a16ef66row0_col1\" class=\"data row0 col1\" >1.08e+04</td>\n",
       "                        <td id=\"T_4535b70c_133d_11ed_9352_000d3a16ef66row0_col2\" class=\"data row0 col2\" >0.507</td>\n",
       "                        <td id=\"T_4535b70c_133d_11ed_9352_000d3a16ef66row0_col3\" class=\"data row0 col3\" >0.525</td>\n",
       "            </tr>\n",
       "            <tr>\n",
       "                        <th id=\"T_4535b70c_133d_11ed_9352_000d3a16ef66level0_row1\" class=\"row_heading level0 row1\" >5</th>\n",
       "                        <td id=\"T_4535b70c_133d_11ed_9352_000d3a16ef66row1_col0\" class=\"data row1 col0\" >1.02e+04</td>\n",
       "                        <td id=\"T_4535b70c_133d_11ed_9352_000d3a16ef66row1_col1\" class=\"data row1 col1\" >1.1e+04</td>\n",
       "                        <td id=\"T_4535b70c_133d_11ed_9352_000d3a16ef66row1_col2\" class=\"data row1 col2\" >0.197</td>\n",
       "                        <td id=\"T_4535b70c_133d_11ed_9352_000d3a16ef66row1_col3\" class=\"data row1 col3\" >0.203</td>\n",
       "            </tr>\n",
       "            <tr>\n",
       "                        <th id=\"T_4535b70c_133d_11ed_9352_000d3a16ef66level0_row2\" class=\"row_heading level0 row2\" >10</th>\n",
       "                        <td id=\"T_4535b70c_133d_11ed_9352_000d3a16ef66row2_col0\" class=\"data row2 col0\" >1.01e+04</td>\n",
       "                        <td id=\"T_4535b70c_133d_11ed_9352_000d3a16ef66row2_col1\" class=\"data row2 col1\" >1.08e+04</td>\n",
       "                        <td id=\"T_4535b70c_133d_11ed_9352_000d3a16ef66row2_col2\" class=\"data row2 col2\" >0.117</td>\n",
       "                        <td id=\"T_4535b70c_133d_11ed_9352_000d3a16ef66row2_col3\" class=\"data row2 col3\" >0.125</td>\n",
       "            </tr>\n",
       "            <tr>\n",
       "                        <th id=\"T_4535b70c_133d_11ed_9352_000d3a16ef66level0_row3\" class=\"row_heading level0 row3\" >15</th>\n",
       "                        <td id=\"T_4535b70c_133d_11ed_9352_000d3a16ef66row3_col0\" class=\"data row3 col0\" >9.87e+03</td>\n",
       "                        <td id=\"T_4535b70c_133d_11ed_9352_000d3a16ef66row3_col1\" class=\"data row3 col1\" >1.05e+04</td>\n",
       "                        <td id=\"T_4535b70c_133d_11ed_9352_000d3a16ef66row3_col2\" class=\"data row3 col2\" >0.0869</td>\n",
       "                        <td id=\"T_4535b70c_133d_11ed_9352_000d3a16ef66row3_col3\" class=\"data row3 col3\" >0.0933</td>\n",
       "            </tr>\n",
       "    </tbody></table>"
      ],
      "text/plain": [
       "<pandas.io.formats.style.Styler at 0x7f04a789eca0>"
      ]
     },
     "metadata": {},
     "output_type": "display_data"
    },
    {
     "name": "stdout",
     "output_type": "stream",
     "text": [
      "[\u001b[1mtardis.simulation.base\u001b[0m][\u001b[1;37mINFO\u001b[0m   ]  \n",
      "\t\n",
      "\tCurrent t_inner = 10703.212 K\n",
      "\tExpected t_inner for next iteration = 10673.712 K\n",
      " (\u001b[1mbase.py\u001b[0m:550)\n"
     ]
    },
    {
     "name": "stdout",
     "output_type": "stream",
     "text": [
      "[\u001b[1mtardis.simulation.base\u001b[0m][\u001b[1;37mINFO\u001b[0m   ]  \n",
      "\t\n",
      "\tStarting iteration 3 of 20 (\u001b[1mbase.py\u001b[0m:381)\n"
     ]
    },
    {
     "name": "stdout",
     "output_type": "stream",
     "text": [
      "[\u001b[1mtardis.simulation.base\u001b[0m][\u001b[1;37mINFO\u001b[0m   ]  \n",
      "\t\n",
      "\tLuminosity emitted   = 1.074e+43 erg / s\n",
      "\tLuminosity absorbed  = 3.391e+42 erg / s\n",
      "\tLuminosity requested = 1.059e+43 erg / s\n",
      " (\u001b[1mbase.py\u001b[0m:555)\n"
     ]
    },
    {
     "name": "stdout",
     "output_type": "stream",
     "text": [
      "[\u001b[1mtardis.simulation.base\u001b[0m][\u001b[1;37mINFO\u001b[0m   ]  \n",
      "\t\n",
      "\tPlasma stratification: (\u001b[1mbase.py\u001b[0m:523)\n"
     ]
    },
    {
     "data": {
      "text/html": [
       "<style  type=\"text/css\" >\n",
       "</style><table id=\"T_45bf080e_133d_11ed_9352_000d3a16ef66\" ><thead>    <tr>        <th class=\"index_name level0\" >Shell No.</th>        <th class=\"col_heading level0 col0\" >t_rad</th>        <th class=\"col_heading level0 col1\" >next_t_rad</th>        <th class=\"col_heading level0 col2\" >w</th>        <th class=\"col_heading level0 col3\" >next_w</th>    </tr></thead><tbody>\n",
       "                <tr>\n",
       "                        <th id=\"T_45bf080e_133d_11ed_9352_000d3a16ef66level0_row0\" class=\"row_heading level0 row0\" >0</th>\n",
       "                        <td id=\"T_45bf080e_133d_11ed_9352_000d3a16ef66row0_col0\" class=\"data row0 col0\" >1.08e+04</td>\n",
       "                        <td id=\"T_45bf080e_133d_11ed_9352_000d3a16ef66row0_col1\" class=\"data row0 col1\" >1.1e+04</td>\n",
       "                        <td id=\"T_45bf080e_133d_11ed_9352_000d3a16ef66row0_col2\" class=\"data row0 col2\" >0.525</td>\n",
       "                        <td id=\"T_45bf080e_133d_11ed_9352_000d3a16ef66row0_col3\" class=\"data row0 col3\" >0.483</td>\n",
       "            </tr>\n",
       "            <tr>\n",
       "                        <th id=\"T_45bf080e_133d_11ed_9352_000d3a16ef66level0_row1\" class=\"row_heading level0 row1\" >5</th>\n",
       "                        <td id=\"T_45bf080e_133d_11ed_9352_000d3a16ef66row1_col0\" class=\"data row1 col0\" >1.1e+04</td>\n",
       "                        <td id=\"T_45bf080e_133d_11ed_9352_000d3a16ef66row1_col1\" class=\"data row1 col1\" >1.12e+04</td>\n",
       "                        <td id=\"T_45bf080e_133d_11ed_9352_000d3a16ef66row1_col2\" class=\"data row1 col2\" >0.203</td>\n",
       "                        <td id=\"T_45bf080e_133d_11ed_9352_000d3a16ef66row1_col3\" class=\"data row1 col3\" >0.189</td>\n",
       "            </tr>\n",
       "            <tr>\n",
       "                        <th id=\"T_45bf080e_133d_11ed_9352_000d3a16ef66level0_row2\" class=\"row_heading level0 row2\" >10</th>\n",
       "                        <td id=\"T_45bf080e_133d_11ed_9352_000d3a16ef66row2_col0\" class=\"data row2 col0\" >1.08e+04</td>\n",
       "                        <td id=\"T_45bf080e_133d_11ed_9352_000d3a16ef66row2_col1\" class=\"data row2 col1\" >1.1e+04</td>\n",
       "                        <td id=\"T_45bf080e_133d_11ed_9352_000d3a16ef66row2_col2\" class=\"data row2 col2\" >0.125</td>\n",
       "                        <td id=\"T_45bf080e_133d_11ed_9352_000d3a16ef66row2_col3\" class=\"data row2 col3\" >0.118</td>\n",
       "            </tr>\n",
       "            <tr>\n",
       "                        <th id=\"T_45bf080e_133d_11ed_9352_000d3a16ef66level0_row3\" class=\"row_heading level0 row3\" >15</th>\n",
       "                        <td id=\"T_45bf080e_133d_11ed_9352_000d3a16ef66row3_col0\" class=\"data row3 col0\" >1.05e+04</td>\n",
       "                        <td id=\"T_45bf080e_133d_11ed_9352_000d3a16ef66row3_col1\" class=\"data row3 col1\" >1.06e+04</td>\n",
       "                        <td id=\"T_45bf080e_133d_11ed_9352_000d3a16ef66row3_col2\" class=\"data row3 col2\" >0.0933</td>\n",
       "                        <td id=\"T_45bf080e_133d_11ed_9352_000d3a16ef66row3_col3\" class=\"data row3 col3\" >0.0895</td>\n",
       "            </tr>\n",
       "    </tbody></table>"
      ],
      "text/plain": [
       "<pandas.io.formats.style.Styler at 0x7f04a67a1d30>"
      ]
     },
     "metadata": {},
     "output_type": "display_data"
    },
    {
     "name": "stdout",
     "output_type": "stream",
     "text": [
      "[\u001b[1mtardis.simulation.base\u001b[0m][\u001b[1;37mINFO\u001b[0m   ]  \n",
      "\t\n",
      "\tCurrent t_inner = 10673.712 K\n",
      "\tExpected t_inner for next iteration = 10635.953 K\n",
      " (\u001b[1mbase.py\u001b[0m:550)\n"
     ]
    },
    {
     "name": "stdout",
     "output_type": "stream",
     "text": [
      "[\u001b[1mtardis.simulation.base\u001b[0m][\u001b[1;37mINFO\u001b[0m   ]  \n",
      "\t\n",
      "\tStarting iteration 4 of 20 (\u001b[1mbase.py\u001b[0m:381)\n"
     ]
    },
    {
     "name": "stdout",
     "output_type": "stream",
     "text": [
      "[\u001b[1mtardis.simulation.base\u001b[0m][\u001b[1;37mINFO\u001b[0m   ]  \n",
      "\t\n",
      "\tLuminosity emitted   = 1.058e+43 erg / s\n",
      "\tLuminosity absorbed  = 3.352e+42 erg / s\n",
      "\tLuminosity requested = 1.059e+43 erg / s\n",
      " (\u001b[1mbase.py\u001b[0m:555)\n"
     ]
    },
    {
     "name": "stdout",
     "output_type": "stream",
     "text": [
      "[\u001b[1mtardis.simulation.base\u001b[0m][\u001b[1;37mINFO\u001b[0m   ]  \n",
      "\t\n",
      "\tPlasma stratification: (\u001b[1mbase.py\u001b[0m:523)\n"
     ]
    },
    {
     "data": {
      "text/html": [
       "<style  type=\"text/css\" >\n",
       "</style><table id=\"T_464d1900_133d_11ed_9352_000d3a16ef66\" ><thead>    <tr>        <th class=\"index_name level0\" >Shell No.</th>        <th class=\"col_heading level0 col0\" >t_rad</th>        <th class=\"col_heading level0 col1\" >next_t_rad</th>        <th class=\"col_heading level0 col2\" >w</th>        <th class=\"col_heading level0 col3\" >next_w</th>    </tr></thead><tbody>\n",
       "                <tr>\n",
       "                        <th id=\"T_464d1900_133d_11ed_9352_000d3a16ef66level0_row0\" class=\"row_heading level0 row0\" >0</th>\n",
       "                        <td id=\"T_464d1900_133d_11ed_9352_000d3a16ef66row0_col0\" class=\"data row0 col0\" >1.1e+04</td>\n",
       "                        <td id=\"T_464d1900_133d_11ed_9352_000d3a16ef66row0_col1\" class=\"data row0 col1\" >1.1e+04</td>\n",
       "                        <td id=\"T_464d1900_133d_11ed_9352_000d3a16ef66row0_col2\" class=\"data row0 col2\" >0.483</td>\n",
       "                        <td id=\"T_464d1900_133d_11ed_9352_000d3a16ef66row0_col3\" class=\"data row0 col3\" >0.469</td>\n",
       "            </tr>\n",
       "            <tr>\n",
       "                        <th id=\"T_464d1900_133d_11ed_9352_000d3a16ef66level0_row1\" class=\"row_heading level0 row1\" >5</th>\n",
       "                        <td id=\"T_464d1900_133d_11ed_9352_000d3a16ef66row1_col0\" class=\"data row1 col0\" >1.12e+04</td>\n",
       "                        <td id=\"T_464d1900_133d_11ed_9352_000d3a16ef66row1_col1\" class=\"data row1 col1\" >1.12e+04</td>\n",
       "                        <td id=\"T_464d1900_133d_11ed_9352_000d3a16ef66row1_col2\" class=\"data row1 col2\" >0.189</td>\n",
       "                        <td id=\"T_464d1900_133d_11ed_9352_000d3a16ef66row1_col3\" class=\"data row1 col3\" >0.182</td>\n",
       "            </tr>\n",
       "            <tr>\n",
       "                        <th id=\"T_464d1900_133d_11ed_9352_000d3a16ef66level0_row2\" class=\"row_heading level0 row2\" >10</th>\n",
       "                        <td id=\"T_464d1900_133d_11ed_9352_000d3a16ef66row2_col0\" class=\"data row2 col0\" >1.1e+04</td>\n",
       "                        <td id=\"T_464d1900_133d_11ed_9352_000d3a16ef66row2_col1\" class=\"data row2 col1\" >1.1e+04</td>\n",
       "                        <td id=\"T_464d1900_133d_11ed_9352_000d3a16ef66row2_col2\" class=\"data row2 col2\" >0.118</td>\n",
       "                        <td id=\"T_464d1900_133d_11ed_9352_000d3a16ef66row2_col3\" class=\"data row2 col3\" >0.113</td>\n",
       "            </tr>\n",
       "            <tr>\n",
       "                        <th id=\"T_464d1900_133d_11ed_9352_000d3a16ef66level0_row3\" class=\"row_heading level0 row3\" >15</th>\n",
       "                        <td id=\"T_464d1900_133d_11ed_9352_000d3a16ef66row3_col0\" class=\"data row3 col0\" >1.06e+04</td>\n",
       "                        <td id=\"T_464d1900_133d_11ed_9352_000d3a16ef66row3_col1\" class=\"data row3 col1\" >1.07e+04</td>\n",
       "                        <td id=\"T_464d1900_133d_11ed_9352_000d3a16ef66row3_col2\" class=\"data row3 col2\" >0.0895</td>\n",
       "                        <td id=\"T_464d1900_133d_11ed_9352_000d3a16ef66row3_col3\" class=\"data row3 col3\" >0.0861</td>\n",
       "            </tr>\n",
       "    </tbody></table>"
      ],
      "text/plain": [
       "<pandas.io.formats.style.Styler at 0x7f04a62064f0>"
      ]
     },
     "metadata": {},
     "output_type": "display_data"
    },
    {
     "name": "stdout",
     "output_type": "stream",
     "text": [
      "[\u001b[1mtardis.simulation.base\u001b[0m][\u001b[1;37mINFO\u001b[0m   ]  \n",
      "\t\n",
      "\tCurrent t_inner = 10635.953 K\n",
      "\tExpected t_inner for next iteration = 10638.407 K\n",
      " (\u001b[1mbase.py\u001b[0m:550)\n"
     ]
    },
    {
     "name": "stdout",
     "output_type": "stream",
     "text": [
      "[\u001b[1mtardis.simulation.base\u001b[0m][\u001b[1;37mINFO\u001b[0m   ]  \n",
      "\t\n",
      "\tStarting iteration 5 of 20 (\u001b[1mbase.py\u001b[0m:381)\n"
     ]
    },
    {
     "name": "stdout",
     "output_type": "stream",
     "text": [
      "[\u001b[1mtardis.simulation.base\u001b[0m][\u001b[1;37mINFO\u001b[0m   ]  \n",
      "\t\n",
      "\tLuminosity emitted   = 1.055e+43 erg / s\n",
      "\tLuminosity absorbed  = 3.399e+42 erg / s\n",
      "\tLuminosity requested = 1.059e+43 erg / s\n",
      " (\u001b[1mbase.py\u001b[0m:555)\n"
     ]
    },
    {
     "name": "stdout",
     "output_type": "stream",
     "text": [
      "[\u001b[1mtardis.simulation.base\u001b[0m][\u001b[1;37mINFO\u001b[0m   ]  \n",
      "\tIteration converged 1/4 consecutive times. (\u001b[1mbase.py\u001b[0m:262)\n"
     ]
    },
    {
     "name": "stdout",
     "output_type": "stream",
     "text": [
      "[\u001b[1mtardis.simulation.base\u001b[0m][\u001b[1;37mINFO\u001b[0m   ]  \n",
      "\t\n",
      "\tPlasma stratification: (\u001b[1mbase.py\u001b[0m:523)\n"
     ]
    },
    {
     "data": {
      "text/html": [
       "<style  type=\"text/css\" >\n",
       "</style><table id=\"T_46dea6fe_133d_11ed_9352_000d3a16ef66\" ><thead>    <tr>        <th class=\"index_name level0\" >Shell No.</th>        <th class=\"col_heading level0 col0\" >t_rad</th>        <th class=\"col_heading level0 col1\" >next_t_rad</th>        <th class=\"col_heading level0 col2\" >w</th>        <th class=\"col_heading level0 col3\" >next_w</th>    </tr></thead><tbody>\n",
       "                <tr>\n",
       "                        <th id=\"T_46dea6fe_133d_11ed_9352_000d3a16ef66level0_row0\" class=\"row_heading level0 row0\" >0</th>\n",
       "                        <td id=\"T_46dea6fe_133d_11ed_9352_000d3a16ef66row0_col0\" class=\"data row0 col0\" >1.1e+04</td>\n",
       "                        <td id=\"T_46dea6fe_133d_11ed_9352_000d3a16ef66row0_col1\" class=\"data row0 col1\" >1.1e+04</td>\n",
       "                        <td id=\"T_46dea6fe_133d_11ed_9352_000d3a16ef66row0_col2\" class=\"data row0 col2\" >0.469</td>\n",
       "                        <td id=\"T_46dea6fe_133d_11ed_9352_000d3a16ef66row0_col3\" class=\"data row0 col3\" >0.479</td>\n",
       "            </tr>\n",
       "            <tr>\n",
       "                        <th id=\"T_46dea6fe_133d_11ed_9352_000d3a16ef66level0_row1\" class=\"row_heading level0 row1\" >5</th>\n",
       "                        <td id=\"T_46dea6fe_133d_11ed_9352_000d3a16ef66row1_col0\" class=\"data row1 col0\" >1.12e+04</td>\n",
       "                        <td id=\"T_46dea6fe_133d_11ed_9352_000d3a16ef66row1_col1\" class=\"data row1 col1\" >1.13e+04</td>\n",
       "                        <td id=\"T_46dea6fe_133d_11ed_9352_000d3a16ef66row1_col2\" class=\"data row1 col2\" >0.182</td>\n",
       "                        <td id=\"T_46dea6fe_133d_11ed_9352_000d3a16ef66row1_col3\" class=\"data row1 col3\" >0.178</td>\n",
       "            </tr>\n",
       "            <tr>\n",
       "                        <th id=\"T_46dea6fe_133d_11ed_9352_000d3a16ef66level0_row2\" class=\"row_heading level0 row2\" >10</th>\n",
       "                        <td id=\"T_46dea6fe_133d_11ed_9352_000d3a16ef66row2_col0\" class=\"data row2 col0\" >1.1e+04</td>\n",
       "                        <td id=\"T_46dea6fe_133d_11ed_9352_000d3a16ef66row2_col1\" class=\"data row2 col1\" >1.1e+04</td>\n",
       "                        <td id=\"T_46dea6fe_133d_11ed_9352_000d3a16ef66row2_col2\" class=\"data row2 col2\" >0.113</td>\n",
       "                        <td id=\"T_46dea6fe_133d_11ed_9352_000d3a16ef66row2_col3\" class=\"data row2 col3\" >0.113</td>\n",
       "            </tr>\n",
       "            <tr>\n",
       "                        <th id=\"T_46dea6fe_133d_11ed_9352_000d3a16ef66level0_row3\" class=\"row_heading level0 row3\" >15</th>\n",
       "                        <td id=\"T_46dea6fe_133d_11ed_9352_000d3a16ef66row3_col0\" class=\"data row3 col0\" >1.07e+04</td>\n",
       "                        <td id=\"T_46dea6fe_133d_11ed_9352_000d3a16ef66row3_col1\" class=\"data row3 col1\" >1.07e+04</td>\n",
       "                        <td id=\"T_46dea6fe_133d_11ed_9352_000d3a16ef66row3_col2\" class=\"data row3 col2\" >0.0861</td>\n",
       "                        <td id=\"T_46dea6fe_133d_11ed_9352_000d3a16ef66row3_col3\" class=\"data row3 col3\" >0.0839</td>\n",
       "            </tr>\n",
       "    </tbody></table>"
      ],
      "text/plain": [
       "<pandas.io.formats.style.Styler at 0x7f04a789e6d0>"
      ]
     },
     "metadata": {},
     "output_type": "display_data"
    },
    {
     "name": "stdout",
     "output_type": "stream",
     "text": [
      "[\u001b[1mtardis.simulation.base\u001b[0m][\u001b[1;37mINFO\u001b[0m   ]  \n",
      "\t\n",
      "\tCurrent t_inner = 10638.407 K\n",
      "\tExpected t_inner for next iteration = 10650.202 K\n",
      " (\u001b[1mbase.py\u001b[0m:550)\n"
     ]
    },
    {
     "name": "stdout",
     "output_type": "stream",
     "text": [
      "[\u001b[1mtardis.simulation.base\u001b[0m][\u001b[1;37mINFO\u001b[0m   ]  \n",
      "\t\n",
      "\tStarting iteration 6 of 20 (\u001b[1mbase.py\u001b[0m:381)\n"
     ]
    },
    {
     "name": "stdout",
     "output_type": "stream",
     "text": [
      "[\u001b[1mtardis.simulation.base\u001b[0m][\u001b[1;37mINFO\u001b[0m   ]  \n",
      "\t\n",
      "\tLuminosity emitted   = 1.061e+43 erg / s\n",
      "\tLuminosity absorbed  = 3.398e+42 erg / s\n",
      "\tLuminosity requested = 1.059e+43 erg / s\n",
      " (\u001b[1mbase.py\u001b[0m:555)\n"
     ]
    },
    {
     "name": "stdout",
     "output_type": "stream",
     "text": [
      "[\u001b[1mtardis.simulation.base\u001b[0m][\u001b[1;37mINFO\u001b[0m   ]  \n",
      "\tIteration converged 2/4 consecutive times. (\u001b[1mbase.py\u001b[0m:262)\n"
     ]
    },
    {
     "name": "stdout",
     "output_type": "stream",
     "text": [
      "[\u001b[1mtardis.simulation.base\u001b[0m][\u001b[1;37mINFO\u001b[0m   ]  \n",
      "\t\n",
      "\tPlasma stratification: (\u001b[1mbase.py\u001b[0m:523)\n"
     ]
    },
    {
     "data": {
      "text/html": [
       "<style  type=\"text/css\" >\n",
       "</style><table id=\"T_4772c7e4_133d_11ed_9352_000d3a16ef66\" ><thead>    <tr>        <th class=\"index_name level0\" >Shell No.</th>        <th class=\"col_heading level0 col0\" >t_rad</th>        <th class=\"col_heading level0 col1\" >next_t_rad</th>        <th class=\"col_heading level0 col2\" >w</th>        <th class=\"col_heading level0 col3\" >next_w</th>    </tr></thead><tbody>\n",
       "                <tr>\n",
       "                        <th id=\"T_4772c7e4_133d_11ed_9352_000d3a16ef66level0_row0\" class=\"row_heading level0 row0\" >0</th>\n",
       "                        <td id=\"T_4772c7e4_133d_11ed_9352_000d3a16ef66row0_col0\" class=\"data row0 col0\" >1.1e+04</td>\n",
       "                        <td id=\"T_4772c7e4_133d_11ed_9352_000d3a16ef66row0_col1\" class=\"data row0 col1\" >1.1e+04</td>\n",
       "                        <td id=\"T_4772c7e4_133d_11ed_9352_000d3a16ef66row0_col2\" class=\"data row0 col2\" >0.479</td>\n",
       "                        <td id=\"T_4772c7e4_133d_11ed_9352_000d3a16ef66row0_col3\" class=\"data row0 col3\" >0.47</td>\n",
       "            </tr>\n",
       "            <tr>\n",
       "                        <th id=\"T_4772c7e4_133d_11ed_9352_000d3a16ef66level0_row1\" class=\"row_heading level0 row1\" >5</th>\n",
       "                        <td id=\"T_4772c7e4_133d_11ed_9352_000d3a16ef66row1_col0\" class=\"data row1 col0\" >1.13e+04</td>\n",
       "                        <td id=\"T_4772c7e4_133d_11ed_9352_000d3a16ef66row1_col1\" class=\"data row1 col1\" >1.12e+04</td>\n",
       "                        <td id=\"T_4772c7e4_133d_11ed_9352_000d3a16ef66row1_col2\" class=\"data row1 col2\" >0.178</td>\n",
       "                        <td id=\"T_4772c7e4_133d_11ed_9352_000d3a16ef66row1_col3\" class=\"data row1 col3\" >0.185</td>\n",
       "            </tr>\n",
       "            <tr>\n",
       "                        <th id=\"T_4772c7e4_133d_11ed_9352_000d3a16ef66level0_row2\" class=\"row_heading level0 row2\" >10</th>\n",
       "                        <td id=\"T_4772c7e4_133d_11ed_9352_000d3a16ef66row2_col0\" class=\"data row2 col0\" >1.1e+04</td>\n",
       "                        <td id=\"T_4772c7e4_133d_11ed_9352_000d3a16ef66row2_col1\" class=\"data row2 col1\" >1.11e+04</td>\n",
       "                        <td id=\"T_4772c7e4_133d_11ed_9352_000d3a16ef66row2_col2\" class=\"data row2 col2\" >0.113</td>\n",
       "                        <td id=\"T_4772c7e4_133d_11ed_9352_000d3a16ef66row2_col3\" class=\"data row2 col3\" >0.112</td>\n",
       "            </tr>\n",
       "            <tr>\n",
       "                        <th id=\"T_4772c7e4_133d_11ed_9352_000d3a16ef66level0_row3\" class=\"row_heading level0 row3\" >15</th>\n",
       "                        <td id=\"T_4772c7e4_133d_11ed_9352_000d3a16ef66row3_col0\" class=\"data row3 col0\" >1.07e+04</td>\n",
       "                        <td id=\"T_4772c7e4_133d_11ed_9352_000d3a16ef66row3_col1\" class=\"data row3 col1\" >1.07e+04</td>\n",
       "                        <td id=\"T_4772c7e4_133d_11ed_9352_000d3a16ef66row3_col2\" class=\"data row3 col2\" >0.0839</td>\n",
       "                        <td id=\"T_4772c7e4_133d_11ed_9352_000d3a16ef66row3_col3\" class=\"data row3 col3\" >0.0856</td>\n",
       "            </tr>\n",
       "    </tbody></table>"
      ],
      "text/plain": [
       "<pandas.io.formats.style.Styler at 0x7f04a62063a0>"
      ]
     },
     "metadata": {},
     "output_type": "display_data"
    },
    {
     "name": "stdout",
     "output_type": "stream",
     "text": [
      "[\u001b[1mtardis.simulation.base\u001b[0m][\u001b[1;37mINFO\u001b[0m   ]  \n",
      "\t\n",
      "\tCurrent t_inner = 10650.202 K\n",
      "\tExpected t_inner for next iteration = 10645.955 K\n",
      " (\u001b[1mbase.py\u001b[0m:550)\n"
     ]
    },
    {
     "name": "stdout",
     "output_type": "stream",
     "text": [
      "[\u001b[1mtardis.simulation.base\u001b[0m][\u001b[1;37mINFO\u001b[0m   ]  \n",
      "\t\n",
      "\tStarting iteration 7 of 20 (\u001b[1mbase.py\u001b[0m:381)\n"
     ]
    },
    {
     "name": "stdout",
     "output_type": "stream",
     "text": [
      "[\u001b[1mtardis.simulation.base\u001b[0m][\u001b[1;37mINFO\u001b[0m   ]  \n",
      "\t\n",
      "\tLuminosity emitted   = 1.061e+43 erg / s\n",
      "\tLuminosity absorbed  = 3.382e+42 erg / s\n",
      "\tLuminosity requested = 1.059e+43 erg / s\n",
      " (\u001b[1mbase.py\u001b[0m:555)\n"
     ]
    },
    {
     "name": "stdout",
     "output_type": "stream",
     "text": [
      "[\u001b[1mtardis.simulation.base\u001b[0m][\u001b[1;37mINFO\u001b[0m   ]  \n",
      "\tIteration converged 3/4 consecutive times. (\u001b[1mbase.py\u001b[0m:262)\n"
     ]
    },
    {
     "name": "stdout",
     "output_type": "stream",
     "text": [
      "[\u001b[1mtardis.simulation.base\u001b[0m][\u001b[1;37mINFO\u001b[0m   ]  \n",
      "\t\n",
      "\tPlasma stratification: (\u001b[1mbase.py\u001b[0m:523)\n"
     ]
    },
    {
     "data": {
      "text/html": [
       "<style  type=\"text/css\" >\n",
       "</style><table id=\"T_480868da_133d_11ed_9352_000d3a16ef66\" ><thead>    <tr>        <th class=\"index_name level0\" >Shell No.</th>        <th class=\"col_heading level0 col0\" >t_rad</th>        <th class=\"col_heading level0 col1\" >next_t_rad</th>        <th class=\"col_heading level0 col2\" >w</th>        <th class=\"col_heading level0 col3\" >next_w</th>    </tr></thead><tbody>\n",
       "                <tr>\n",
       "                        <th id=\"T_480868da_133d_11ed_9352_000d3a16ef66level0_row0\" class=\"row_heading level0 row0\" >0</th>\n",
       "                        <td id=\"T_480868da_133d_11ed_9352_000d3a16ef66row0_col0\" class=\"data row0 col0\" >1.1e+04</td>\n",
       "                        <td id=\"T_480868da_133d_11ed_9352_000d3a16ef66row0_col1\" class=\"data row0 col1\" >1.1e+04</td>\n",
       "                        <td id=\"T_480868da_133d_11ed_9352_000d3a16ef66row0_col2\" class=\"data row0 col2\" >0.47</td>\n",
       "                        <td id=\"T_480868da_133d_11ed_9352_000d3a16ef66row0_col3\" class=\"data row0 col3\" >0.47</td>\n",
       "            </tr>\n",
       "            <tr>\n",
       "                        <th id=\"T_480868da_133d_11ed_9352_000d3a16ef66level0_row1\" class=\"row_heading level0 row1\" >5</th>\n",
       "                        <td id=\"T_480868da_133d_11ed_9352_000d3a16ef66row1_col0\" class=\"data row1 col0\" >1.12e+04</td>\n",
       "                        <td id=\"T_480868da_133d_11ed_9352_000d3a16ef66row1_col1\" class=\"data row1 col1\" >1.13e+04</td>\n",
       "                        <td id=\"T_480868da_133d_11ed_9352_000d3a16ef66row1_col2\" class=\"data row1 col2\" >0.185</td>\n",
       "                        <td id=\"T_480868da_133d_11ed_9352_000d3a16ef66row1_col3\" class=\"data row1 col3\" >0.178</td>\n",
       "            </tr>\n",
       "            <tr>\n",
       "                        <th id=\"T_480868da_133d_11ed_9352_000d3a16ef66level0_row2\" class=\"row_heading level0 row2\" >10</th>\n",
       "                        <td id=\"T_480868da_133d_11ed_9352_000d3a16ef66row2_col0\" class=\"data row2 col0\" >1.11e+04</td>\n",
       "                        <td id=\"T_480868da_133d_11ed_9352_000d3a16ef66row2_col1\" class=\"data row2 col1\" >1.11e+04</td>\n",
       "                        <td id=\"T_480868da_133d_11ed_9352_000d3a16ef66row2_col2\" class=\"data row2 col2\" >0.112</td>\n",
       "                        <td id=\"T_480868da_133d_11ed_9352_000d3a16ef66row2_col3\" class=\"data row2 col3\" >0.112</td>\n",
       "            </tr>\n",
       "            <tr>\n",
       "                        <th id=\"T_480868da_133d_11ed_9352_000d3a16ef66level0_row3\" class=\"row_heading level0 row3\" >15</th>\n",
       "                        <td id=\"T_480868da_133d_11ed_9352_000d3a16ef66row3_col0\" class=\"data row3 col0\" >1.07e+04</td>\n",
       "                        <td id=\"T_480868da_133d_11ed_9352_000d3a16ef66row3_col1\" class=\"data row3 col1\" >1.07e+04</td>\n",
       "                        <td id=\"T_480868da_133d_11ed_9352_000d3a16ef66row3_col2\" class=\"data row3 col2\" >0.0856</td>\n",
       "                        <td id=\"T_480868da_133d_11ed_9352_000d3a16ef66row3_col3\" class=\"data row3 col3\" >0.086</td>\n",
       "            </tr>\n",
       "    </tbody></table>"
      ],
      "text/plain": [
       "<pandas.io.formats.style.Styler at 0x7f04a5fb5e20>"
      ]
     },
     "metadata": {},
     "output_type": "display_data"
    },
    {
     "name": "stdout",
     "output_type": "stream",
     "text": [
      "[\u001b[1mtardis.simulation.base\u001b[0m][\u001b[1;37mINFO\u001b[0m   ]  \n",
      "\t\n",
      "\tCurrent t_inner = 10645.955 K\n",
      "\tExpected t_inner for next iteration = 10642.050 K\n",
      " (\u001b[1mbase.py\u001b[0m:550)\n"
     ]
    },
    {
     "name": "stdout",
     "output_type": "stream",
     "text": [
      "[\u001b[1mtardis.simulation.base\u001b[0m][\u001b[1;37mINFO\u001b[0m   ]  \n",
      "\t\n",
      "\tStarting iteration 8 of 20 (\u001b[1mbase.py\u001b[0m:381)\n"
     ]
    },
    {
     "name": "stdout",
     "output_type": "stream",
     "text": [
      "[\u001b[1mtardis.simulation.base\u001b[0m][\u001b[1;37mINFO\u001b[0m   ]  \n",
      "\t\n",
      "\tLuminosity emitted   = 1.062e+43 erg / s\n",
      "\tLuminosity absorbed  = 3.350e+42 erg / s\n",
      "\tLuminosity requested = 1.059e+43 erg / s\n",
      " (\u001b[1mbase.py\u001b[0m:555)\n"
     ]
    },
    {
     "name": "stdout",
     "output_type": "stream",
     "text": [
      "[\u001b[1mtardis.simulation.base\u001b[0m][\u001b[1;37mINFO\u001b[0m   ]  \n",
      "\tIteration converged 4/4 consecutive times. (\u001b[1mbase.py\u001b[0m:262)\n"
     ]
    },
    {
     "name": "stdout",
     "output_type": "stream",
     "text": [
      "[\u001b[1mtardis.simulation.base\u001b[0m][\u001b[1;37mINFO\u001b[0m   ]  \n",
      "\t\n",
      "\tPlasma stratification: (\u001b[1mbase.py\u001b[0m:523)\n"
     ]
    },
    {
     "data": {
      "text/html": [
       "<style  type=\"text/css\" >\n",
       "</style><table id=\"T_489b3188_133d_11ed_9352_000d3a16ef66\" ><thead>    <tr>        <th class=\"index_name level0\" >Shell No.</th>        <th class=\"col_heading level0 col0\" >t_rad</th>        <th class=\"col_heading level0 col1\" >next_t_rad</th>        <th class=\"col_heading level0 col2\" >w</th>        <th class=\"col_heading level0 col3\" >next_w</th>    </tr></thead><tbody>\n",
       "                <tr>\n",
       "                        <th id=\"T_489b3188_133d_11ed_9352_000d3a16ef66level0_row0\" class=\"row_heading level0 row0\" >0</th>\n",
       "                        <td id=\"T_489b3188_133d_11ed_9352_000d3a16ef66row0_col0\" class=\"data row0 col0\" >1.1e+04</td>\n",
       "                        <td id=\"T_489b3188_133d_11ed_9352_000d3a16ef66row0_col1\" class=\"data row0 col1\" >1.11e+04</td>\n",
       "                        <td id=\"T_489b3188_133d_11ed_9352_000d3a16ef66row0_col2\" class=\"data row0 col2\" >0.47</td>\n",
       "                        <td id=\"T_489b3188_133d_11ed_9352_000d3a16ef66row0_col3\" class=\"data row0 col3\" >0.472</td>\n",
       "            </tr>\n",
       "            <tr>\n",
       "                        <th id=\"T_489b3188_133d_11ed_9352_000d3a16ef66level0_row1\" class=\"row_heading level0 row1\" >5</th>\n",
       "                        <td id=\"T_489b3188_133d_11ed_9352_000d3a16ef66row1_col0\" class=\"data row1 col0\" >1.13e+04</td>\n",
       "                        <td id=\"T_489b3188_133d_11ed_9352_000d3a16ef66row1_col1\" class=\"data row1 col1\" >1.14e+04</td>\n",
       "                        <td id=\"T_489b3188_133d_11ed_9352_000d3a16ef66row1_col2\" class=\"data row1 col2\" >0.178</td>\n",
       "                        <td id=\"T_489b3188_133d_11ed_9352_000d3a16ef66row1_col3\" class=\"data row1 col3\" >0.175</td>\n",
       "            </tr>\n",
       "            <tr>\n",
       "                        <th id=\"T_489b3188_133d_11ed_9352_000d3a16ef66level0_row2\" class=\"row_heading level0 row2\" >10</th>\n",
       "                        <td id=\"T_489b3188_133d_11ed_9352_000d3a16ef66row2_col0\" class=\"data row2 col0\" >1.11e+04</td>\n",
       "                        <td id=\"T_489b3188_133d_11ed_9352_000d3a16ef66row2_col1\" class=\"data row2 col1\" >1.11e+04</td>\n",
       "                        <td id=\"T_489b3188_133d_11ed_9352_000d3a16ef66row2_col2\" class=\"data row2 col2\" >0.112</td>\n",
       "                        <td id=\"T_489b3188_133d_11ed_9352_000d3a16ef66row2_col3\" class=\"data row2 col3\" >0.111</td>\n",
       "            </tr>\n",
       "            <tr>\n",
       "                        <th id=\"T_489b3188_133d_11ed_9352_000d3a16ef66level0_row3\" class=\"row_heading level0 row3\" >15</th>\n",
       "                        <td id=\"T_489b3188_133d_11ed_9352_000d3a16ef66row3_col0\" class=\"data row3 col0\" >1.07e+04</td>\n",
       "                        <td id=\"T_489b3188_133d_11ed_9352_000d3a16ef66row3_col1\" class=\"data row3 col1\" >1.07e+04</td>\n",
       "                        <td id=\"T_489b3188_133d_11ed_9352_000d3a16ef66row3_col2\" class=\"data row3 col2\" >0.086</td>\n",
       "                        <td id=\"T_489b3188_133d_11ed_9352_000d3a16ef66row3_col3\" class=\"data row3 col3\" >0.084</td>\n",
       "            </tr>\n",
       "    </tbody></table>"
      ],
      "text/plain": [
       "<pandas.io.formats.style.Styler at 0x7f04a6a9de50>"
      ]
     },
     "metadata": {},
     "output_type": "display_data"
    },
    {
     "name": "stdout",
     "output_type": "stream",
     "text": [
      "[\u001b[1mtardis.simulation.base\u001b[0m][\u001b[1;37mINFO\u001b[0m   ]  \n",
      "\t\n",
      "\tCurrent t_inner = 10642.050 K\n",
      "\tExpected t_inner for next iteration = 10636.106 K\n",
      " (\u001b[1mbase.py\u001b[0m:550)\n"
     ]
    },
    {
     "name": "stdout",
     "output_type": "stream",
     "text": [
      "[\u001b[1mtardis.simulation.base\u001b[0m][\u001b[1;37mINFO\u001b[0m   ]  \n",
      "\t\n",
      "\tStarting iteration 9 of 20 (\u001b[1mbase.py\u001b[0m:381)\n"
     ]
    },
    {
     "name": "stdout",
     "output_type": "stream",
     "text": [
      "[\u001b[1mtardis.simulation.base\u001b[0m][\u001b[1;37mINFO\u001b[0m   ]  \n",
      "\t\n",
      "\tLuminosity emitted   = 1.052e+43 erg / s\n",
      "\tLuminosity absorbed  = 3.411e+42 erg / s\n",
      "\tLuminosity requested = 1.059e+43 erg / s\n",
      " (\u001b[1mbase.py\u001b[0m:555)\n"
     ]
    },
    {
     "name": "stdout",
     "output_type": "stream",
     "text": [
      "[\u001b[1mtardis.simulation.base\u001b[0m][\u001b[1;37mINFO\u001b[0m   ]  \n",
      "\tIteration converged 5/4 consecutive times. (\u001b[1mbase.py\u001b[0m:262)\n"
     ]
    },
    {
     "name": "stdout",
     "output_type": "stream",
     "text": [
      "[\u001b[1mtardis.simulation.base\u001b[0m][\u001b[1;37mINFO\u001b[0m   ]  \n",
      "\t\n",
      "\tPlasma stratification: (\u001b[1mbase.py\u001b[0m:523)\n"
     ]
    },
    {
     "data": {
      "text/html": [
       "<style  type=\"text/css\" >\n",
       "</style><table id=\"T_492cc030_133d_11ed_9352_000d3a16ef66\" ><thead>    <tr>        <th class=\"index_name level0\" >Shell No.</th>        <th class=\"col_heading level0 col0\" >t_rad</th>        <th class=\"col_heading level0 col1\" >next_t_rad</th>        <th class=\"col_heading level0 col2\" >w</th>        <th class=\"col_heading level0 col3\" >next_w</th>    </tr></thead><tbody>\n",
       "                <tr>\n",
       "                        <th id=\"T_492cc030_133d_11ed_9352_000d3a16ef66level0_row0\" class=\"row_heading level0 row0\" >0</th>\n",
       "                        <td id=\"T_492cc030_133d_11ed_9352_000d3a16ef66row0_col0\" class=\"data row0 col0\" >1.11e+04</td>\n",
       "                        <td id=\"T_492cc030_133d_11ed_9352_000d3a16ef66row0_col1\" class=\"data row0 col1\" >1.11e+04</td>\n",
       "                        <td id=\"T_492cc030_133d_11ed_9352_000d3a16ef66row0_col2\" class=\"data row0 col2\" >0.472</td>\n",
       "                        <td id=\"T_492cc030_133d_11ed_9352_000d3a16ef66row0_col3\" class=\"data row0 col3\" >0.469</td>\n",
       "            </tr>\n",
       "            <tr>\n",
       "                        <th id=\"T_492cc030_133d_11ed_9352_000d3a16ef66level0_row1\" class=\"row_heading level0 row1\" >5</th>\n",
       "                        <td id=\"T_492cc030_133d_11ed_9352_000d3a16ef66row1_col0\" class=\"data row1 col0\" >1.14e+04</td>\n",
       "                        <td id=\"T_492cc030_133d_11ed_9352_000d3a16ef66row1_col1\" class=\"data row1 col1\" >1.15e+04</td>\n",
       "                        <td id=\"T_492cc030_133d_11ed_9352_000d3a16ef66row1_col2\" class=\"data row1 col2\" >0.175</td>\n",
       "                        <td id=\"T_492cc030_133d_11ed_9352_000d3a16ef66row1_col3\" class=\"data row1 col3\" >0.17</td>\n",
       "            </tr>\n",
       "            <tr>\n",
       "                        <th id=\"T_492cc030_133d_11ed_9352_000d3a16ef66level0_row2\" class=\"row_heading level0 row2\" >10</th>\n",
       "                        <td id=\"T_492cc030_133d_11ed_9352_000d3a16ef66row2_col0\" class=\"data row2 col0\" >1.11e+04</td>\n",
       "                        <td id=\"T_492cc030_133d_11ed_9352_000d3a16ef66row2_col1\" class=\"data row2 col1\" >1.11e+04</td>\n",
       "                        <td id=\"T_492cc030_133d_11ed_9352_000d3a16ef66row2_col2\" class=\"data row2 col2\" >0.111</td>\n",
       "                        <td id=\"T_492cc030_133d_11ed_9352_000d3a16ef66row2_col3\" class=\"data row2 col3\" >0.109</td>\n",
       "            </tr>\n",
       "            <tr>\n",
       "                        <th id=\"T_492cc030_133d_11ed_9352_000d3a16ef66level0_row3\" class=\"row_heading level0 row3\" >15</th>\n",
       "                        <td id=\"T_492cc030_133d_11ed_9352_000d3a16ef66row3_col0\" class=\"data row3 col0\" >1.07e+04</td>\n",
       "                        <td id=\"T_492cc030_133d_11ed_9352_000d3a16ef66row3_col1\" class=\"data row3 col1\" >1.08e+04</td>\n",
       "                        <td id=\"T_492cc030_133d_11ed_9352_000d3a16ef66row3_col2\" class=\"data row3 col2\" >0.084</td>\n",
       "                        <td id=\"T_492cc030_133d_11ed_9352_000d3a16ef66row3_col3\" class=\"data row3 col3\" >0.0822</td>\n",
       "            </tr>\n",
       "    </tbody></table>"
      ],
      "text/plain": [
       "<pandas.io.formats.style.Styler at 0x7f04a60b7fd0>"
      ]
     },
     "metadata": {},
     "output_type": "display_data"
    },
    {
     "name": "stdout",
     "output_type": "stream",
     "text": [
      "[\u001b[1mtardis.simulation.base\u001b[0m][\u001b[1;37mINFO\u001b[0m   ]  \n",
      "\t\n",
      "\tCurrent t_inner = 10636.106 K\n",
      "\tExpected t_inner for next iteration = 10654.313 K\n",
      " (\u001b[1mbase.py\u001b[0m:550)\n"
     ]
    },
    {
     "name": "stdout",
     "output_type": "stream",
     "text": [
      "[\u001b[1mtardis.simulation.base\u001b[0m][\u001b[1;37mINFO\u001b[0m   ]  \n",
      "\t\n",
      "\tStarting iteration 10 of 20 (\u001b[1mbase.py\u001b[0m:381)\n"
     ]
    },
    {
     "name": "stdout",
     "output_type": "stream",
     "text": [
      "[\u001b[1mtardis.simulation.base\u001b[0m][\u001b[1;37mINFO\u001b[0m   ]  \n",
      "\t\n",
      "\tLuminosity emitted   = 1.070e+43 erg / s\n",
      "\tLuminosity absorbed  = 3.335e+42 erg / s\n",
      "\tLuminosity requested = 1.059e+43 erg / s\n",
      " (\u001b[1mbase.py\u001b[0m:555)\n"
     ]
    },
    {
     "name": "stdout",
     "output_type": "stream",
     "text": [
      "[\u001b[1mtardis.simulation.base\u001b[0m][\u001b[1;37mINFO\u001b[0m   ]  \n",
      "\t\n",
      "\tPlasma stratification: (\u001b[1mbase.py\u001b[0m:523)\n"
     ]
    },
    {
     "data": {
      "text/html": [
       "<style  type=\"text/css\" >\n",
       "</style><table id=\"T_49bd81c4_133d_11ed_9352_000d3a16ef66\" ><thead>    <tr>        <th class=\"index_name level0\" >Shell No.</th>        <th class=\"col_heading level0 col0\" >t_rad</th>        <th class=\"col_heading level0 col1\" >next_t_rad</th>        <th class=\"col_heading level0 col2\" >w</th>        <th class=\"col_heading level0 col3\" >next_w</th>    </tr></thead><tbody>\n",
       "                <tr>\n",
       "                        <th id=\"T_49bd81c4_133d_11ed_9352_000d3a16ef66level0_row0\" class=\"row_heading level0 row0\" >0</th>\n",
       "                        <td id=\"T_49bd81c4_133d_11ed_9352_000d3a16ef66row0_col0\" class=\"data row0 col0\" >1.11e+04</td>\n",
       "                        <td id=\"T_49bd81c4_133d_11ed_9352_000d3a16ef66row0_col1\" class=\"data row0 col1\" >1.1e+04</td>\n",
       "                        <td id=\"T_49bd81c4_133d_11ed_9352_000d3a16ef66row0_col2\" class=\"data row0 col2\" >0.469</td>\n",
       "                        <td id=\"T_49bd81c4_133d_11ed_9352_000d3a16ef66row0_col3\" class=\"data row0 col3\" >0.475</td>\n",
       "            </tr>\n",
       "            <tr>\n",
       "                        <th id=\"T_49bd81c4_133d_11ed_9352_000d3a16ef66level0_row1\" class=\"row_heading level0 row1\" >5</th>\n",
       "                        <td id=\"T_49bd81c4_133d_11ed_9352_000d3a16ef66row1_col0\" class=\"data row1 col0\" >1.15e+04</td>\n",
       "                        <td id=\"T_49bd81c4_133d_11ed_9352_000d3a16ef66row1_col1\" class=\"data row1 col1\" >1.14e+04</td>\n",
       "                        <td id=\"T_49bd81c4_133d_11ed_9352_000d3a16ef66row1_col2\" class=\"data row1 col2\" >0.17</td>\n",
       "                        <td id=\"T_49bd81c4_133d_11ed_9352_000d3a16ef66row1_col3\" class=\"data row1 col3\" >0.177</td>\n",
       "            </tr>\n",
       "            <tr>\n",
       "                        <th id=\"T_49bd81c4_133d_11ed_9352_000d3a16ef66level0_row2\" class=\"row_heading level0 row2\" >10</th>\n",
       "                        <td id=\"T_49bd81c4_133d_11ed_9352_000d3a16ef66row2_col0\" class=\"data row2 col0\" >1.11e+04</td>\n",
       "                        <td id=\"T_49bd81c4_133d_11ed_9352_000d3a16ef66row2_col1\" class=\"data row2 col1\" >1.11e+04</td>\n",
       "                        <td id=\"T_49bd81c4_133d_11ed_9352_000d3a16ef66row2_col2\" class=\"data row2 col2\" >0.109</td>\n",
       "                        <td id=\"T_49bd81c4_133d_11ed_9352_000d3a16ef66row2_col3\" class=\"data row2 col3\" >0.112</td>\n",
       "            </tr>\n",
       "            <tr>\n",
       "                        <th id=\"T_49bd81c4_133d_11ed_9352_000d3a16ef66level0_row3\" class=\"row_heading level0 row3\" >15</th>\n",
       "                        <td id=\"T_49bd81c4_133d_11ed_9352_000d3a16ef66row3_col0\" class=\"data row3 col0\" >1.08e+04</td>\n",
       "                        <td id=\"T_49bd81c4_133d_11ed_9352_000d3a16ef66row3_col1\" class=\"data row3 col1\" >1.06e+04</td>\n",
       "                        <td id=\"T_49bd81c4_133d_11ed_9352_000d3a16ef66row3_col2\" class=\"data row3 col2\" >0.0822</td>\n",
       "                        <td id=\"T_49bd81c4_133d_11ed_9352_000d3a16ef66row3_col3\" class=\"data row3 col3\" >0.0878</td>\n",
       "            </tr>\n",
       "    </tbody></table>"
      ],
      "text/plain": [
       "<pandas.io.formats.style.Styler at 0x7f04a6206fa0>"
      ]
     },
     "metadata": {},
     "output_type": "display_data"
    },
    {
     "name": "stdout",
     "output_type": "stream",
     "text": [
      "[\u001b[1mtardis.simulation.base\u001b[0m][\u001b[1;37mINFO\u001b[0m   ]  \n",
      "\t\n",
      "\tCurrent t_inner = 10654.313 K\n",
      "\tExpected t_inner for next iteration = 10628.190 K\n",
      " (\u001b[1mbase.py\u001b[0m:550)\n"
     ]
    },
    {
     "name": "stdout",
     "output_type": "stream",
     "text": [
      "[\u001b[1mtardis.simulation.base\u001b[0m][\u001b[1;37mINFO\u001b[0m   ]  \n",
      "\t\n",
      "\tStarting iteration 11 of 20 (\u001b[1mbase.py\u001b[0m:381)\n"
     ]
    },
    {
     "name": "stdout",
     "output_type": "stream",
     "text": [
      "[\u001b[1mtardis.simulation.base\u001b[0m][\u001b[1;37mINFO\u001b[0m   ]  \n",
      "\t\n",
      "\tLuminosity emitted   = 1.053e+43 erg / s\n",
      "\tLuminosity absorbed  = 3.363e+42 erg / s\n",
      "\tLuminosity requested = 1.059e+43 erg / s\n",
      " (\u001b[1mbase.py\u001b[0m:555)\n"
     ]
    },
    {
     "name": "stdout",
     "output_type": "stream",
     "text": [
      "[\u001b[1mtardis.simulation.base\u001b[0m][\u001b[1;37mINFO\u001b[0m   ]  \n",
      "\tIteration converged 1/4 consecutive times. (\u001b[1mbase.py\u001b[0m:262)\n"
     ]
    },
    {
     "name": "stdout",
     "output_type": "stream",
     "text": [
      "[\u001b[1mtardis.simulation.base\u001b[0m][\u001b[1;37mINFO\u001b[0m   ]  \n",
      "\t\n",
      "\tPlasma stratification: (\u001b[1mbase.py\u001b[0m:523)\n"
     ]
    },
    {
     "data": {
      "text/html": [
       "<style  type=\"text/css\" >\n",
       "</style><table id=\"T_4a4fc17e_133d_11ed_9352_000d3a16ef66\" ><thead>    <tr>        <th class=\"index_name level0\" >Shell No.</th>        <th class=\"col_heading level0 col0\" >t_rad</th>        <th class=\"col_heading level0 col1\" >next_t_rad</th>        <th class=\"col_heading level0 col2\" >w</th>        <th class=\"col_heading level0 col3\" >next_w</th>    </tr></thead><tbody>\n",
       "                <tr>\n",
       "                        <th id=\"T_4a4fc17e_133d_11ed_9352_000d3a16ef66level0_row0\" class=\"row_heading level0 row0\" >0</th>\n",
       "                        <td id=\"T_4a4fc17e_133d_11ed_9352_000d3a16ef66row0_col0\" class=\"data row0 col0\" >1.1e+04</td>\n",
       "                        <td id=\"T_4a4fc17e_133d_11ed_9352_000d3a16ef66row0_col1\" class=\"data row0 col1\" >1.1e+04</td>\n",
       "                        <td id=\"T_4a4fc17e_133d_11ed_9352_000d3a16ef66row0_col2\" class=\"data row0 col2\" >0.475</td>\n",
       "                        <td id=\"T_4a4fc17e_133d_11ed_9352_000d3a16ef66row0_col3\" class=\"data row0 col3\" >0.472</td>\n",
       "            </tr>\n",
       "            <tr>\n",
       "                        <th id=\"T_4a4fc17e_133d_11ed_9352_000d3a16ef66level0_row1\" class=\"row_heading level0 row1\" >5</th>\n",
       "                        <td id=\"T_4a4fc17e_133d_11ed_9352_000d3a16ef66row1_col0\" class=\"data row1 col0\" >1.14e+04</td>\n",
       "                        <td id=\"T_4a4fc17e_133d_11ed_9352_000d3a16ef66row1_col1\" class=\"data row1 col1\" >1.12e+04</td>\n",
       "                        <td id=\"T_4a4fc17e_133d_11ed_9352_000d3a16ef66row1_col2\" class=\"data row1 col2\" >0.177</td>\n",
       "                        <td id=\"T_4a4fc17e_133d_11ed_9352_000d3a16ef66row1_col3\" class=\"data row1 col3\" >0.184</td>\n",
       "            </tr>\n",
       "            <tr>\n",
       "                        <th id=\"T_4a4fc17e_133d_11ed_9352_000d3a16ef66level0_row2\" class=\"row_heading level0 row2\" >10</th>\n",
       "                        <td id=\"T_4a4fc17e_133d_11ed_9352_000d3a16ef66row2_col0\" class=\"data row2 col0\" >1.11e+04</td>\n",
       "                        <td id=\"T_4a4fc17e_133d_11ed_9352_000d3a16ef66row2_col1\" class=\"data row2 col1\" >1.1e+04</td>\n",
       "                        <td id=\"T_4a4fc17e_133d_11ed_9352_000d3a16ef66row2_col2\" class=\"data row2 col2\" >0.112</td>\n",
       "                        <td id=\"T_4a4fc17e_133d_11ed_9352_000d3a16ef66row2_col3\" class=\"data row2 col3\" >0.114</td>\n",
       "            </tr>\n",
       "            <tr>\n",
       "                        <th id=\"T_4a4fc17e_133d_11ed_9352_000d3a16ef66level0_row3\" class=\"row_heading level0 row3\" >15</th>\n",
       "                        <td id=\"T_4a4fc17e_133d_11ed_9352_000d3a16ef66row3_col0\" class=\"data row3 col0\" >1.06e+04</td>\n",
       "                        <td id=\"T_4a4fc17e_133d_11ed_9352_000d3a16ef66row3_col1\" class=\"data row3 col1\" >1.06e+04</td>\n",
       "                        <td id=\"T_4a4fc17e_133d_11ed_9352_000d3a16ef66row3_col2\" class=\"data row3 col2\" >0.0878</td>\n",
       "                        <td id=\"T_4a4fc17e_133d_11ed_9352_000d3a16ef66row3_col3\" class=\"data row3 col3\" >0.0859</td>\n",
       "            </tr>\n",
       "    </tbody></table>"
      ],
      "text/plain": [
       "<pandas.io.formats.style.Styler at 0x7f04a5fb5fa0>"
      ]
     },
     "metadata": {},
     "output_type": "display_data"
    },
    {
     "name": "stdout",
     "output_type": "stream",
     "text": [
      "[\u001b[1mtardis.simulation.base\u001b[0m][\u001b[1;37mINFO\u001b[0m   ]  \n",
      "\t\n",
      "\tCurrent t_inner = 10628.190 K\n",
      "\tExpected t_inner for next iteration = 10644.054 K\n",
      " (\u001b[1mbase.py\u001b[0m:550)\n"
     ]
    },
    {
     "name": "stdout",
     "output_type": "stream",
     "text": [
      "[\u001b[1mtardis.simulation.base\u001b[0m][\u001b[1;37mINFO\u001b[0m   ]  \n",
      "\t\n",
      "\tStarting iteration 12 of 20 (\u001b[1mbase.py\u001b[0m:381)\n"
     ]
    },
    {
     "name": "stdout",
     "output_type": "stream",
     "text": [
      "[\u001b[1mtardis.simulation.base\u001b[0m][\u001b[1;37mINFO\u001b[0m   ]  \n",
      "\t\n",
      "\tLuminosity emitted   = 1.056e+43 erg / s\n",
      "\tLuminosity absorbed  = 3.420e+42 erg / s\n",
      "\tLuminosity requested = 1.059e+43 erg / s\n",
      " (\u001b[1mbase.py\u001b[0m:555)\n"
     ]
    },
    {
     "name": "stdout",
     "output_type": "stream",
     "text": [
      "[\u001b[1mtardis.simulation.base\u001b[0m][\u001b[1;37mINFO\u001b[0m   ]  \n",
      "\t\n",
      "\tPlasma stratification: (\u001b[1mbase.py\u001b[0m:523)\n"
     ]
    },
    {
     "data": {
      "text/html": [
       "<style  type=\"text/css\" >\n",
       "</style><table id=\"T_4ae12966_133d_11ed_9352_000d3a16ef66\" ><thead>    <tr>        <th class=\"index_name level0\" >Shell No.</th>        <th class=\"col_heading level0 col0\" >t_rad</th>        <th class=\"col_heading level0 col1\" >next_t_rad</th>        <th class=\"col_heading level0 col2\" >w</th>        <th class=\"col_heading level0 col3\" >next_w</th>    </tr></thead><tbody>\n",
       "                <tr>\n",
       "                        <th id=\"T_4ae12966_133d_11ed_9352_000d3a16ef66level0_row0\" class=\"row_heading level0 row0\" >0</th>\n",
       "                        <td id=\"T_4ae12966_133d_11ed_9352_000d3a16ef66row0_col0\" class=\"data row0 col0\" >1.1e+04</td>\n",
       "                        <td id=\"T_4ae12966_133d_11ed_9352_000d3a16ef66row0_col1\" class=\"data row0 col1\" >1.11e+04</td>\n",
       "                        <td id=\"T_4ae12966_133d_11ed_9352_000d3a16ef66row0_col2\" class=\"data row0 col2\" >0.472</td>\n",
       "                        <td id=\"T_4ae12966_133d_11ed_9352_000d3a16ef66row0_col3\" class=\"data row0 col3\" >0.467</td>\n",
       "            </tr>\n",
       "            <tr>\n",
       "                        <th id=\"T_4ae12966_133d_11ed_9352_000d3a16ef66level0_row1\" class=\"row_heading level0 row1\" >5</th>\n",
       "                        <td id=\"T_4ae12966_133d_11ed_9352_000d3a16ef66row1_col0\" class=\"data row1 col0\" >1.12e+04</td>\n",
       "                        <td id=\"T_4ae12966_133d_11ed_9352_000d3a16ef66row1_col1\" class=\"data row1 col1\" >1.13e+04</td>\n",
       "                        <td id=\"T_4ae12966_133d_11ed_9352_000d3a16ef66row1_col2\" class=\"data row1 col2\" >0.184</td>\n",
       "                        <td id=\"T_4ae12966_133d_11ed_9352_000d3a16ef66row1_col3\" class=\"data row1 col3\" >0.176</td>\n",
       "            </tr>\n",
       "            <tr>\n",
       "                        <th id=\"T_4ae12966_133d_11ed_9352_000d3a16ef66level0_row2\" class=\"row_heading level0 row2\" >10</th>\n",
       "                        <td id=\"T_4ae12966_133d_11ed_9352_000d3a16ef66row2_col0\" class=\"data row2 col0\" >1.1e+04</td>\n",
       "                        <td id=\"T_4ae12966_133d_11ed_9352_000d3a16ef66row2_col1\" class=\"data row2 col1\" >1.11e+04</td>\n",
       "                        <td id=\"T_4ae12966_133d_11ed_9352_000d3a16ef66row2_col2\" class=\"data row2 col2\" >0.114</td>\n",
       "                        <td id=\"T_4ae12966_133d_11ed_9352_000d3a16ef66row2_col3\" class=\"data row2 col3\" >0.11</td>\n",
       "            </tr>\n",
       "            <tr>\n",
       "                        <th id=\"T_4ae12966_133d_11ed_9352_000d3a16ef66level0_row3\" class=\"row_heading level0 row3\" >15</th>\n",
       "                        <td id=\"T_4ae12966_133d_11ed_9352_000d3a16ef66row3_col0\" class=\"data row3 col0\" >1.06e+04</td>\n",
       "                        <td id=\"T_4ae12966_133d_11ed_9352_000d3a16ef66row3_col1\" class=\"data row3 col1\" >1.08e+04</td>\n",
       "                        <td id=\"T_4ae12966_133d_11ed_9352_000d3a16ef66row3_col2\" class=\"data row3 col2\" >0.0859</td>\n",
       "                        <td id=\"T_4ae12966_133d_11ed_9352_000d3a16ef66row3_col3\" class=\"data row3 col3\" >0.0821</td>\n",
       "            </tr>\n",
       "    </tbody></table>"
      ],
      "text/plain": [
       "<pandas.io.formats.style.Styler at 0x7f04a60b7ca0>"
      ]
     },
     "metadata": {},
     "output_type": "display_data"
    },
    {
     "name": "stdout",
     "output_type": "stream",
     "text": [
      "[\u001b[1mtardis.simulation.base\u001b[0m][\u001b[1;37mINFO\u001b[0m   ]  \n",
      "\t\n",
      "\tCurrent t_inner = 10644.054 K\n",
      "\tExpected t_inner for next iteration = 10653.543 K\n",
      " (\u001b[1mbase.py\u001b[0m:550)\n"
     ]
    },
    {
     "name": "stdout",
     "output_type": "stream",
     "text": [
      "[\u001b[1mtardis.simulation.base\u001b[0m][\u001b[1;37mINFO\u001b[0m   ]  \n",
      "\t\n",
      "\tStarting iteration 13 of 20 (\u001b[1mbase.py\u001b[0m:381)\n"
     ]
    },
    {
     "name": "stdout",
     "output_type": "stream",
     "text": [
      "[\u001b[1mtardis.simulation.base\u001b[0m][\u001b[1;37mINFO\u001b[0m   ]  \n",
      "\t\n",
      "\tLuminosity emitted   = 1.062e+43 erg / s\n",
      "\tLuminosity absorbed  = 3.406e+42 erg / s\n",
      "\tLuminosity requested = 1.059e+43 erg / s\n",
      " (\u001b[1mbase.py\u001b[0m:555)\n"
     ]
    },
    {
     "name": "stdout",
     "output_type": "stream",
     "text": [
      "[\u001b[1mtardis.simulation.base\u001b[0m][\u001b[1;37mINFO\u001b[0m   ]  \n",
      "\tIteration converged 1/4 consecutive times. (\u001b[1mbase.py\u001b[0m:262)\n"
     ]
    },
    {
     "name": "stdout",
     "output_type": "stream",
     "text": [
      "[\u001b[1mtardis.simulation.base\u001b[0m][\u001b[1;37mINFO\u001b[0m   ]  \n",
      "\t\n",
      "\tPlasma stratification: (\u001b[1mbase.py\u001b[0m:523)\n"
     ]
    },
    {
     "data": {
      "text/html": [
       "<style  type=\"text/css\" >\n",
       "</style><table id=\"T_4b750226_133d_11ed_9352_000d3a16ef66\" ><thead>    <tr>        <th class=\"index_name level0\" >Shell No.</th>        <th class=\"col_heading level0 col0\" >t_rad</th>        <th class=\"col_heading level0 col1\" >next_t_rad</th>        <th class=\"col_heading level0 col2\" >w</th>        <th class=\"col_heading level0 col3\" >next_w</th>    </tr></thead><tbody>\n",
       "                <tr>\n",
       "                        <th id=\"T_4b750226_133d_11ed_9352_000d3a16ef66level0_row0\" class=\"row_heading level0 row0\" >0</th>\n",
       "                        <td id=\"T_4b750226_133d_11ed_9352_000d3a16ef66row0_col0\" class=\"data row0 col0\" >1.11e+04</td>\n",
       "                        <td id=\"T_4b750226_133d_11ed_9352_000d3a16ef66row0_col1\" class=\"data row0 col1\" >1.11e+04</td>\n",
       "                        <td id=\"T_4b750226_133d_11ed_9352_000d3a16ef66row0_col2\" class=\"data row0 col2\" >0.467</td>\n",
       "                        <td id=\"T_4b750226_133d_11ed_9352_000d3a16ef66row0_col3\" class=\"data row0 col3\" >0.466</td>\n",
       "            </tr>\n",
       "            <tr>\n",
       "                        <th id=\"T_4b750226_133d_11ed_9352_000d3a16ef66level0_row1\" class=\"row_heading level0 row1\" >5</th>\n",
       "                        <td id=\"T_4b750226_133d_11ed_9352_000d3a16ef66row1_col0\" class=\"data row1 col0\" >1.13e+04</td>\n",
       "                        <td id=\"T_4b750226_133d_11ed_9352_000d3a16ef66row1_col1\" class=\"data row1 col1\" >1.13e+04</td>\n",
       "                        <td id=\"T_4b750226_133d_11ed_9352_000d3a16ef66row1_col2\" class=\"data row1 col2\" >0.176</td>\n",
       "                        <td id=\"T_4b750226_133d_11ed_9352_000d3a16ef66row1_col3\" class=\"data row1 col3\" >0.18</td>\n",
       "            </tr>\n",
       "            <tr>\n",
       "                        <th id=\"T_4b750226_133d_11ed_9352_000d3a16ef66level0_row2\" class=\"row_heading level0 row2\" >10</th>\n",
       "                        <td id=\"T_4b750226_133d_11ed_9352_000d3a16ef66row2_col0\" class=\"data row2 col0\" >1.11e+04</td>\n",
       "                        <td id=\"T_4b750226_133d_11ed_9352_000d3a16ef66row2_col1\" class=\"data row2 col1\" >1.11e+04</td>\n",
       "                        <td id=\"T_4b750226_133d_11ed_9352_000d3a16ef66row2_col2\" class=\"data row2 col2\" >0.11</td>\n",
       "                        <td id=\"T_4b750226_133d_11ed_9352_000d3a16ef66row2_col3\" class=\"data row2 col3\" >0.111</td>\n",
       "            </tr>\n",
       "            <tr>\n",
       "                        <th id=\"T_4b750226_133d_11ed_9352_000d3a16ef66level0_row3\" class=\"row_heading level0 row3\" >15</th>\n",
       "                        <td id=\"T_4b750226_133d_11ed_9352_000d3a16ef66row3_col0\" class=\"data row3 col0\" >1.08e+04</td>\n",
       "                        <td id=\"T_4b750226_133d_11ed_9352_000d3a16ef66row3_col1\" class=\"data row3 col1\" >1.08e+04</td>\n",
       "                        <td id=\"T_4b750226_133d_11ed_9352_000d3a16ef66row3_col2\" class=\"data row3 col2\" >0.0821</td>\n",
       "                        <td id=\"T_4b750226_133d_11ed_9352_000d3a16ef66row3_col3\" class=\"data row3 col3\" >0.0841</td>\n",
       "            </tr>\n",
       "    </tbody></table>"
      ],
      "text/plain": [
       "<pandas.io.formats.style.Styler at 0x7f04a6bfa790>"
      ]
     },
     "metadata": {},
     "output_type": "display_data"
    },
    {
     "name": "stdout",
     "output_type": "stream",
     "text": [
      "[\u001b[1mtardis.simulation.base\u001b[0m][\u001b[1;37mINFO\u001b[0m   ]  \n",
      "\t\n",
      "\tCurrent t_inner = 10653.543 K\n",
      "\tExpected t_inner for next iteration = 10647.277 K\n",
      " (\u001b[1mbase.py\u001b[0m:550)\n"
     ]
    },
    {
     "name": "stdout",
     "output_type": "stream",
     "text": [
      "[\u001b[1mtardis.simulation.base\u001b[0m][\u001b[1;37mINFO\u001b[0m   ]  \n",
      "\t\n",
      "\tStarting iteration 14 of 20 (\u001b[1mbase.py\u001b[0m:381)\n"
     ]
    },
    {
     "name": "stdout",
     "output_type": "stream",
     "text": [
      "[\u001b[1mtardis.simulation.base\u001b[0m][\u001b[1;37mINFO\u001b[0m   ]  \n",
      "\t\n",
      "\tLuminosity emitted   = 1.063e+43 erg / s\n",
      "\tLuminosity absorbed  = 3.369e+42 erg / s\n",
      "\tLuminosity requested = 1.059e+43 erg / s\n",
      " (\u001b[1mbase.py\u001b[0m:555)\n"
     ]
    },
    {
     "name": "stdout",
     "output_type": "stream",
     "text": [
      "[\u001b[1mtardis.simulation.base\u001b[0m][\u001b[1;37mINFO\u001b[0m   ]  \n",
      "\tIteration converged 2/4 consecutive times. (\u001b[1mbase.py\u001b[0m:262)\n"
     ]
    },
    {
     "name": "stdout",
     "output_type": "stream",
     "text": [
      "[\u001b[1mtardis.simulation.base\u001b[0m][\u001b[1;37mINFO\u001b[0m   ]  \n",
      "\t\n",
      "\tPlasma stratification: (\u001b[1mbase.py\u001b[0m:523)\n"
     ]
    },
    {
     "data": {
      "text/html": [
       "<style  type=\"text/css\" >\n",
       "</style><table id=\"T_4c0518a2_133d_11ed_9352_000d3a16ef66\" ><thead>    <tr>        <th class=\"index_name level0\" >Shell No.</th>        <th class=\"col_heading level0 col0\" >t_rad</th>        <th class=\"col_heading level0 col1\" >next_t_rad</th>        <th class=\"col_heading level0 col2\" >w</th>        <th class=\"col_heading level0 col3\" >next_w</th>    </tr></thead><tbody>\n",
       "                <tr>\n",
       "                        <th id=\"T_4c0518a2_133d_11ed_9352_000d3a16ef66level0_row0\" class=\"row_heading level0 row0\" >0</th>\n",
       "                        <td id=\"T_4c0518a2_133d_11ed_9352_000d3a16ef66row0_col0\" class=\"data row0 col0\" >1.11e+04</td>\n",
       "                        <td id=\"T_4c0518a2_133d_11ed_9352_000d3a16ef66row0_col1\" class=\"data row0 col1\" >1.11e+04</td>\n",
       "                        <td id=\"T_4c0518a2_133d_11ed_9352_000d3a16ef66row0_col2\" class=\"data row0 col2\" >0.466</td>\n",
       "                        <td id=\"T_4c0518a2_133d_11ed_9352_000d3a16ef66row0_col3\" class=\"data row0 col3\" >0.469</td>\n",
       "            </tr>\n",
       "            <tr>\n",
       "                        <th id=\"T_4c0518a2_133d_11ed_9352_000d3a16ef66level0_row1\" class=\"row_heading level0 row1\" >5</th>\n",
       "                        <td id=\"T_4c0518a2_133d_11ed_9352_000d3a16ef66row1_col0\" class=\"data row1 col0\" >1.13e+04</td>\n",
       "                        <td id=\"T_4c0518a2_133d_11ed_9352_000d3a16ef66row1_col1\" class=\"data row1 col1\" >1.13e+04</td>\n",
       "                        <td id=\"T_4c0518a2_133d_11ed_9352_000d3a16ef66row1_col2\" class=\"data row1 col2\" >0.18</td>\n",
       "                        <td id=\"T_4c0518a2_133d_11ed_9352_000d3a16ef66row1_col3\" class=\"data row1 col3\" >0.182</td>\n",
       "            </tr>\n",
       "            <tr>\n",
       "                        <th id=\"T_4c0518a2_133d_11ed_9352_000d3a16ef66level0_row2\" class=\"row_heading level0 row2\" >10</th>\n",
       "                        <td id=\"T_4c0518a2_133d_11ed_9352_000d3a16ef66row2_col0\" class=\"data row2 col0\" >1.11e+04</td>\n",
       "                        <td id=\"T_4c0518a2_133d_11ed_9352_000d3a16ef66row2_col1\" class=\"data row2 col1\" >1.1e+04</td>\n",
       "                        <td id=\"T_4c0518a2_133d_11ed_9352_000d3a16ef66row2_col2\" class=\"data row2 col2\" >0.111</td>\n",
       "                        <td id=\"T_4c0518a2_133d_11ed_9352_000d3a16ef66row2_col3\" class=\"data row2 col3\" >0.113</td>\n",
       "            </tr>\n",
       "            <tr>\n",
       "                        <th id=\"T_4c0518a2_133d_11ed_9352_000d3a16ef66level0_row3\" class=\"row_heading level0 row3\" >15</th>\n",
       "                        <td id=\"T_4c0518a2_133d_11ed_9352_000d3a16ef66row3_col0\" class=\"data row3 col0\" >1.08e+04</td>\n",
       "                        <td id=\"T_4c0518a2_133d_11ed_9352_000d3a16ef66row3_col1\" class=\"data row3 col1\" >1.07e+04</td>\n",
       "                        <td id=\"T_4c0518a2_133d_11ed_9352_000d3a16ef66row3_col2\" class=\"data row3 col2\" >0.0841</td>\n",
       "                        <td id=\"T_4c0518a2_133d_11ed_9352_000d3a16ef66row3_col3\" class=\"data row3 col3\" >0.0854</td>\n",
       "            </tr>\n",
       "    </tbody></table>"
      ],
      "text/plain": [
       "<pandas.io.formats.style.Styler at 0x7f04a81ce1c0>"
      ]
     },
     "metadata": {},
     "output_type": "display_data"
    },
    {
     "name": "stdout",
     "output_type": "stream",
     "text": [
      "[\u001b[1mtardis.simulation.base\u001b[0m][\u001b[1;37mINFO\u001b[0m   ]  \n",
      "\t\n",
      "\tCurrent t_inner = 10647.277 K\n",
      "\tExpected t_inner for next iteration = 10638.875 K\n",
      " (\u001b[1mbase.py\u001b[0m:550)\n"
     ]
    },
    {
     "name": "stdout",
     "output_type": "stream",
     "text": [
      "[\u001b[1mtardis.simulation.base\u001b[0m][\u001b[1;37mINFO\u001b[0m   ]  \n",
      "\t\n",
      "\tStarting iteration 15 of 20 (\u001b[1mbase.py\u001b[0m:381)\n"
     ]
    },
    {
     "name": "stdout",
     "output_type": "stream",
     "text": [
      "[\u001b[1mtardis.simulation.base\u001b[0m][\u001b[1;37mINFO\u001b[0m   ]  \n",
      "\t\n",
      "\tLuminosity emitted   = 1.053e+43 erg / s\n",
      "\tLuminosity absorbed  = 3.417e+42 erg / s\n",
      "\tLuminosity requested = 1.059e+43 erg / s\n",
      " (\u001b[1mbase.py\u001b[0m:555)\n"
     ]
    },
    {
     "name": "stdout",
     "output_type": "stream",
     "text": [
      "[\u001b[1mtardis.simulation.base\u001b[0m][\u001b[1;37mINFO\u001b[0m   ]  \n",
      "\tIteration converged 3/4 consecutive times. (\u001b[1mbase.py\u001b[0m:262)\n"
     ]
    },
    {
     "name": "stdout",
     "output_type": "stream",
     "text": [
      "[\u001b[1mtardis.simulation.base\u001b[0m][\u001b[1;37mINFO\u001b[0m   ]  \n",
      "\t\n",
      "\tPlasma stratification: (\u001b[1mbase.py\u001b[0m:523)\n"
     ]
    },
    {
     "data": {
      "text/html": [
       "<style  type=\"text/css\" >\n",
       "</style><table id=\"T_4c996250_133d_11ed_9352_000d3a16ef66\" ><thead>    <tr>        <th class=\"index_name level0\" >Shell No.</th>        <th class=\"col_heading level0 col0\" >t_rad</th>        <th class=\"col_heading level0 col1\" >next_t_rad</th>        <th class=\"col_heading level0 col2\" >w</th>        <th class=\"col_heading level0 col3\" >next_w</th>    </tr></thead><tbody>\n",
       "                <tr>\n",
       "                        <th id=\"T_4c996250_133d_11ed_9352_000d3a16ef66level0_row0\" class=\"row_heading level0 row0\" >0</th>\n",
       "                        <td id=\"T_4c996250_133d_11ed_9352_000d3a16ef66row0_col0\" class=\"data row0 col0\" >1.11e+04</td>\n",
       "                        <td id=\"T_4c996250_133d_11ed_9352_000d3a16ef66row0_col1\" class=\"data row0 col1\" >1.1e+04</td>\n",
       "                        <td id=\"T_4c996250_133d_11ed_9352_000d3a16ef66row0_col2\" class=\"data row0 col2\" >0.469</td>\n",
       "                        <td id=\"T_4c996250_133d_11ed_9352_000d3a16ef66row0_col3\" class=\"data row0 col3\" >0.484</td>\n",
       "            </tr>\n",
       "            <tr>\n",
       "                        <th id=\"T_4c996250_133d_11ed_9352_000d3a16ef66level0_row1\" class=\"row_heading level0 row1\" >5</th>\n",
       "                        <td id=\"T_4c996250_133d_11ed_9352_000d3a16ef66row1_col0\" class=\"data row1 col0\" >1.13e+04</td>\n",
       "                        <td id=\"T_4c996250_133d_11ed_9352_000d3a16ef66row1_col1\" class=\"data row1 col1\" >1.13e+04</td>\n",
       "                        <td id=\"T_4c996250_133d_11ed_9352_000d3a16ef66row1_col2\" class=\"data row1 col2\" >0.182</td>\n",
       "                        <td id=\"T_4c996250_133d_11ed_9352_000d3a16ef66row1_col3\" class=\"data row1 col3\" >0.181</td>\n",
       "            </tr>\n",
       "            <tr>\n",
       "                        <th id=\"T_4c996250_133d_11ed_9352_000d3a16ef66level0_row2\" class=\"row_heading level0 row2\" >10</th>\n",
       "                        <td id=\"T_4c996250_133d_11ed_9352_000d3a16ef66row2_col0\" class=\"data row2 col0\" >1.1e+04</td>\n",
       "                        <td id=\"T_4c996250_133d_11ed_9352_000d3a16ef66row2_col1\" class=\"data row2 col1\" >1.1e+04</td>\n",
       "                        <td id=\"T_4c996250_133d_11ed_9352_000d3a16ef66row2_col2\" class=\"data row2 col2\" >0.113</td>\n",
       "                        <td id=\"T_4c996250_133d_11ed_9352_000d3a16ef66row2_col3\" class=\"data row2 col3\" >0.113</td>\n",
       "            </tr>\n",
       "            <tr>\n",
       "                        <th id=\"T_4c996250_133d_11ed_9352_000d3a16ef66level0_row3\" class=\"row_heading level0 row3\" >15</th>\n",
       "                        <td id=\"T_4c996250_133d_11ed_9352_000d3a16ef66row3_col0\" class=\"data row3 col0\" >1.07e+04</td>\n",
       "                        <td id=\"T_4c996250_133d_11ed_9352_000d3a16ef66row3_col1\" class=\"data row3 col1\" >1.07e+04</td>\n",
       "                        <td id=\"T_4c996250_133d_11ed_9352_000d3a16ef66row3_col2\" class=\"data row3 col2\" >0.0854</td>\n",
       "                        <td id=\"T_4c996250_133d_11ed_9352_000d3a16ef66row3_col3\" class=\"data row3 col3\" >0.0858</td>\n",
       "            </tr>\n",
       "    </tbody></table>"
      ],
      "text/plain": [
       "<pandas.io.formats.style.Styler at 0x7f04a796fa00>"
      ]
     },
     "metadata": {},
     "output_type": "display_data"
    },
    {
     "name": "stdout",
     "output_type": "stream",
     "text": [
      "[\u001b[1mtardis.simulation.base\u001b[0m][\u001b[1;37mINFO\u001b[0m   ]  \n",
      "\t\n",
      "\tCurrent t_inner = 10638.875 K\n",
      "\tExpected t_inner for next iteration = 10655.125 K\n",
      " (\u001b[1mbase.py\u001b[0m:550)\n"
     ]
    },
    {
     "name": "stdout",
     "output_type": "stream",
     "text": [
      "[\u001b[1mtardis.simulation.base\u001b[0m][\u001b[1;37mINFO\u001b[0m   ]  \n",
      "\t\n",
      "\tStarting iteration 16 of 20 (\u001b[1mbase.py\u001b[0m:381)\n"
     ]
    },
    {
     "name": "stdout",
     "output_type": "stream",
     "text": [
      "[\u001b[1mtardis.simulation.base\u001b[0m][\u001b[1;37mINFO\u001b[0m   ]  \n",
      "\t\n",
      "\tLuminosity emitted   = 1.059e+43 erg / s\n",
      "\tLuminosity absorbed  = 3.445e+42 erg / s\n",
      "\tLuminosity requested = 1.059e+43 erg / s\n",
      " (\u001b[1mbase.py\u001b[0m:555)\n"
     ]
    },
    {
     "name": "stdout",
     "output_type": "stream",
     "text": [
      "[\u001b[1mtardis.simulation.base\u001b[0m][\u001b[1;37mINFO\u001b[0m   ]  \n",
      "\tIteration converged 4/4 consecutive times. (\u001b[1mbase.py\u001b[0m:262)\n"
     ]
    },
    {
     "name": "stdout",
     "output_type": "stream",
     "text": [
      "[\u001b[1mtardis.simulation.base\u001b[0m][\u001b[1;37mINFO\u001b[0m   ]  \n",
      "\t\n",
      "\tPlasma stratification: (\u001b[1mbase.py\u001b[0m:523)\n"
     ]
    },
    {
     "data": {
      "text/html": [
       "<style  type=\"text/css\" >\n",
       "</style><table id=\"T_4d2b0ad4_133d_11ed_9352_000d3a16ef66\" ><thead>    <tr>        <th class=\"index_name level0\" >Shell No.</th>        <th class=\"col_heading level0 col0\" >t_rad</th>        <th class=\"col_heading level0 col1\" >next_t_rad</th>        <th class=\"col_heading level0 col2\" >w</th>        <th class=\"col_heading level0 col3\" >next_w</th>    </tr></thead><tbody>\n",
       "                <tr>\n",
       "                        <th id=\"T_4d2b0ad4_133d_11ed_9352_000d3a16ef66level0_row0\" class=\"row_heading level0 row0\" >0</th>\n",
       "                        <td id=\"T_4d2b0ad4_133d_11ed_9352_000d3a16ef66row0_col0\" class=\"data row0 col0\" >1.1e+04</td>\n",
       "                        <td id=\"T_4d2b0ad4_133d_11ed_9352_000d3a16ef66row0_col1\" class=\"data row0 col1\" >1.1e+04</td>\n",
       "                        <td id=\"T_4d2b0ad4_133d_11ed_9352_000d3a16ef66row0_col2\" class=\"data row0 col2\" >0.484</td>\n",
       "                        <td id=\"T_4d2b0ad4_133d_11ed_9352_000d3a16ef66row0_col3\" class=\"data row0 col3\" >0.472</td>\n",
       "            </tr>\n",
       "            <tr>\n",
       "                        <th id=\"T_4d2b0ad4_133d_11ed_9352_000d3a16ef66level0_row1\" class=\"row_heading level0 row1\" >5</th>\n",
       "                        <td id=\"T_4d2b0ad4_133d_11ed_9352_000d3a16ef66row1_col0\" class=\"data row1 col0\" >1.13e+04</td>\n",
       "                        <td id=\"T_4d2b0ad4_133d_11ed_9352_000d3a16ef66row1_col1\" class=\"data row1 col1\" >1.13e+04</td>\n",
       "                        <td id=\"T_4d2b0ad4_133d_11ed_9352_000d3a16ef66row1_col2\" class=\"data row1 col2\" >0.181</td>\n",
       "                        <td id=\"T_4d2b0ad4_133d_11ed_9352_000d3a16ef66row1_col3\" class=\"data row1 col3\" >0.177</td>\n",
       "            </tr>\n",
       "            <tr>\n",
       "                        <th id=\"T_4d2b0ad4_133d_11ed_9352_000d3a16ef66level0_row2\" class=\"row_heading level0 row2\" >10</th>\n",
       "                        <td id=\"T_4d2b0ad4_133d_11ed_9352_000d3a16ef66row2_col0\" class=\"data row2 col0\" >1.1e+04</td>\n",
       "                        <td id=\"T_4d2b0ad4_133d_11ed_9352_000d3a16ef66row2_col1\" class=\"data row2 col1\" >1.1e+04</td>\n",
       "                        <td id=\"T_4d2b0ad4_133d_11ed_9352_000d3a16ef66row2_col2\" class=\"data row2 col2\" >0.113</td>\n",
       "                        <td id=\"T_4d2b0ad4_133d_11ed_9352_000d3a16ef66row2_col3\" class=\"data row2 col3\" >0.113</td>\n",
       "            </tr>\n",
       "            <tr>\n",
       "                        <th id=\"T_4d2b0ad4_133d_11ed_9352_000d3a16ef66level0_row3\" class=\"row_heading level0 row3\" >15</th>\n",
       "                        <td id=\"T_4d2b0ad4_133d_11ed_9352_000d3a16ef66row3_col0\" class=\"data row3 col0\" >1.07e+04</td>\n",
       "                        <td id=\"T_4d2b0ad4_133d_11ed_9352_000d3a16ef66row3_col1\" class=\"data row3 col1\" >1.06e+04</td>\n",
       "                        <td id=\"T_4d2b0ad4_133d_11ed_9352_000d3a16ef66row3_col2\" class=\"data row3 col2\" >0.0858</td>\n",
       "                        <td id=\"T_4d2b0ad4_133d_11ed_9352_000d3a16ef66row3_col3\" class=\"data row3 col3\" >0.0858</td>\n",
       "            </tr>\n",
       "    </tbody></table>"
      ],
      "text/plain": [
       "<pandas.io.formats.style.Styler at 0x7f04a74aba30>"
      ]
     },
     "metadata": {},
     "output_type": "display_data"
    },
    {
     "name": "stdout",
     "output_type": "stream",
     "text": [
      "[\u001b[1mtardis.simulation.base\u001b[0m][\u001b[1;37mINFO\u001b[0m   ]  \n",
      "\t\n",
      "\tCurrent t_inner = 10655.125 K\n",
      "\tExpected t_inner for next iteration = 10655.561 K\n",
      " (\u001b[1mbase.py\u001b[0m:550)\n"
     ]
    },
    {
     "name": "stdout",
     "output_type": "stream",
     "text": [
      "[\u001b[1mtardis.simulation.base\u001b[0m][\u001b[1;37mINFO\u001b[0m   ]  \n",
      "\t\n",
      "\tStarting iteration 17 of 20 (\u001b[1mbase.py\u001b[0m:381)\n"
     ]
    },
    {
     "name": "stdout",
     "output_type": "stream",
     "text": [
      "[\u001b[1mtardis.simulation.base\u001b[0m][\u001b[1;37mINFO\u001b[0m   ]  \n",
      "\t\n",
      "\tLuminosity emitted   = 1.067e+43 erg / s\n",
      "\tLuminosity absorbed  = 3.372e+42 erg / s\n",
      "\tLuminosity requested = 1.059e+43 erg / s\n",
      " (\u001b[1mbase.py\u001b[0m:555)\n"
     ]
    },
    {
     "name": "stdout",
     "output_type": "stream",
     "text": [
      "[\u001b[1mtardis.simulation.base\u001b[0m][\u001b[1;37mINFO\u001b[0m   ]  \n",
      "\t\n",
      "\tPlasma stratification: (\u001b[1mbase.py\u001b[0m:523)\n"
     ]
    },
    {
     "data": {
      "text/html": [
       "<style  type=\"text/css\" >\n",
       "</style><table id=\"T_4dbe9196_133d_11ed_9352_000d3a16ef66\" ><thead>    <tr>        <th class=\"index_name level0\" >Shell No.</th>        <th class=\"col_heading level0 col0\" >t_rad</th>        <th class=\"col_heading level0 col1\" >next_t_rad</th>        <th class=\"col_heading level0 col2\" >w</th>        <th class=\"col_heading level0 col3\" >next_w</th>    </tr></thead><tbody>\n",
       "                <tr>\n",
       "                        <th id=\"T_4dbe9196_133d_11ed_9352_000d3a16ef66level0_row0\" class=\"row_heading level0 row0\" >0</th>\n",
       "                        <td id=\"T_4dbe9196_133d_11ed_9352_000d3a16ef66row0_col0\" class=\"data row0 col0\" >1.1e+04</td>\n",
       "                        <td id=\"T_4dbe9196_133d_11ed_9352_000d3a16ef66row0_col1\" class=\"data row0 col1\" >1.11e+04</td>\n",
       "                        <td id=\"T_4dbe9196_133d_11ed_9352_000d3a16ef66row0_col2\" class=\"data row0 col2\" >0.472</td>\n",
       "                        <td id=\"T_4dbe9196_133d_11ed_9352_000d3a16ef66row0_col3\" class=\"data row0 col3\" >0.468</td>\n",
       "            </tr>\n",
       "            <tr>\n",
       "                        <th id=\"T_4dbe9196_133d_11ed_9352_000d3a16ef66level0_row1\" class=\"row_heading level0 row1\" >5</th>\n",
       "                        <td id=\"T_4dbe9196_133d_11ed_9352_000d3a16ef66row1_col0\" class=\"data row1 col0\" >1.13e+04</td>\n",
       "                        <td id=\"T_4dbe9196_133d_11ed_9352_000d3a16ef66row1_col1\" class=\"data row1 col1\" >1.14e+04</td>\n",
       "                        <td id=\"T_4dbe9196_133d_11ed_9352_000d3a16ef66row1_col2\" class=\"data row1 col2\" >0.177</td>\n",
       "                        <td id=\"T_4dbe9196_133d_11ed_9352_000d3a16ef66row1_col3\" class=\"data row1 col3\" >0.175</td>\n",
       "            </tr>\n",
       "            <tr>\n",
       "                        <th id=\"T_4dbe9196_133d_11ed_9352_000d3a16ef66level0_row2\" class=\"row_heading level0 row2\" >10</th>\n",
       "                        <td id=\"T_4dbe9196_133d_11ed_9352_000d3a16ef66row2_col0\" class=\"data row2 col0\" >1.1e+04</td>\n",
       "                        <td id=\"T_4dbe9196_133d_11ed_9352_000d3a16ef66row2_col1\" class=\"data row2 col1\" >1.11e+04</td>\n",
       "                        <td id=\"T_4dbe9196_133d_11ed_9352_000d3a16ef66row2_col2\" class=\"data row2 col2\" >0.113</td>\n",
       "                        <td id=\"T_4dbe9196_133d_11ed_9352_000d3a16ef66row2_col3\" class=\"data row2 col3\" >0.11</td>\n",
       "            </tr>\n",
       "            <tr>\n",
       "                        <th id=\"T_4dbe9196_133d_11ed_9352_000d3a16ef66level0_row3\" class=\"row_heading level0 row3\" >15</th>\n",
       "                        <td id=\"T_4dbe9196_133d_11ed_9352_000d3a16ef66row3_col0\" class=\"data row3 col0\" >1.06e+04</td>\n",
       "                        <td id=\"T_4dbe9196_133d_11ed_9352_000d3a16ef66row3_col1\" class=\"data row3 col1\" >1.08e+04</td>\n",
       "                        <td id=\"T_4dbe9196_133d_11ed_9352_000d3a16ef66row3_col2\" class=\"data row3 col2\" >0.0858</td>\n",
       "                        <td id=\"T_4dbe9196_133d_11ed_9352_000d3a16ef66row3_col3\" class=\"data row3 col3\" >0.0816</td>\n",
       "            </tr>\n",
       "    </tbody></table>"
      ],
      "text/plain": [
       "<pandas.io.formats.style.Styler at 0x7f04a81cea60>"
      ]
     },
     "metadata": {},
     "output_type": "display_data"
    },
    {
     "name": "stdout",
     "output_type": "stream",
     "text": [
      "[\u001b[1mtardis.simulation.base\u001b[0m][\u001b[1;37mINFO\u001b[0m   ]  \n",
      "\t\n",
      "\tCurrent t_inner = 10655.561 K\n",
      "\tExpected t_inner for next iteration = 10636.536 K\n",
      " (\u001b[1mbase.py\u001b[0m:550)\n"
     ]
    },
    {
     "name": "stdout",
     "output_type": "stream",
     "text": [
      "[\u001b[1mtardis.simulation.base\u001b[0m][\u001b[1;37mINFO\u001b[0m   ]  \n",
      "\t\n",
      "\tStarting iteration 18 of 20 (\u001b[1mbase.py\u001b[0m:381)\n"
     ]
    },
    {
     "name": "stdout",
     "output_type": "stream",
     "text": [
      "[\u001b[1mtardis.simulation.base\u001b[0m][\u001b[1;37mINFO\u001b[0m   ]  \n",
      "\t\n",
      "\tLuminosity emitted   = 1.057e+43 erg / s\n",
      "\tLuminosity absorbed  = 3.365e+42 erg / s\n",
      "\tLuminosity requested = 1.059e+43 erg / s\n",
      " (\u001b[1mbase.py\u001b[0m:555)\n"
     ]
    },
    {
     "name": "stdout",
     "output_type": "stream",
     "text": [
      "[\u001b[1mtardis.simulation.base\u001b[0m][\u001b[1;37mINFO\u001b[0m   ]  \n",
      "\tIteration converged 1/4 consecutive times. (\u001b[1mbase.py\u001b[0m:262)\n"
     ]
    },
    {
     "name": "stdout",
     "output_type": "stream",
     "text": [
      "[\u001b[1mtardis.simulation.base\u001b[0m][\u001b[1;37mINFO\u001b[0m   ]  \n",
      "\t\n",
      "\tPlasma stratification: (\u001b[1mbase.py\u001b[0m:523)\n"
     ]
    },
    {
     "data": {
      "text/html": [
       "<style  type=\"text/css\" >\n",
       "</style><table id=\"T_4e534f7a_133d_11ed_9352_000d3a16ef66\" ><thead>    <tr>        <th class=\"index_name level0\" >Shell No.</th>        <th class=\"col_heading level0 col0\" >t_rad</th>        <th class=\"col_heading level0 col1\" >next_t_rad</th>        <th class=\"col_heading level0 col2\" >w</th>        <th class=\"col_heading level0 col3\" >next_w</th>    </tr></thead><tbody>\n",
       "                <tr>\n",
       "                        <th id=\"T_4e534f7a_133d_11ed_9352_000d3a16ef66level0_row0\" class=\"row_heading level0 row0\" >0</th>\n",
       "                        <td id=\"T_4e534f7a_133d_11ed_9352_000d3a16ef66row0_col0\" class=\"data row0 col0\" >1.11e+04</td>\n",
       "                        <td id=\"T_4e534f7a_133d_11ed_9352_000d3a16ef66row0_col1\" class=\"data row0 col1\" >1.11e+04</td>\n",
       "                        <td id=\"T_4e534f7a_133d_11ed_9352_000d3a16ef66row0_col2\" class=\"data row0 col2\" >0.468</td>\n",
       "                        <td id=\"T_4e534f7a_133d_11ed_9352_000d3a16ef66row0_col3\" class=\"data row0 col3\" >0.464</td>\n",
       "            </tr>\n",
       "            <tr>\n",
       "                        <th id=\"T_4e534f7a_133d_11ed_9352_000d3a16ef66level0_row1\" class=\"row_heading level0 row1\" >5</th>\n",
       "                        <td id=\"T_4e534f7a_133d_11ed_9352_000d3a16ef66row1_col0\" class=\"data row1 col0\" >1.14e+04</td>\n",
       "                        <td id=\"T_4e534f7a_133d_11ed_9352_000d3a16ef66row1_col1\" class=\"data row1 col1\" >1.13e+04</td>\n",
       "                        <td id=\"T_4e534f7a_133d_11ed_9352_000d3a16ef66row1_col2\" class=\"data row1 col2\" >0.175</td>\n",
       "                        <td id=\"T_4e534f7a_133d_11ed_9352_000d3a16ef66row1_col3\" class=\"data row1 col3\" >0.177</td>\n",
       "            </tr>\n",
       "            <tr>\n",
       "                        <th id=\"T_4e534f7a_133d_11ed_9352_000d3a16ef66level0_row2\" class=\"row_heading level0 row2\" >10</th>\n",
       "                        <td id=\"T_4e534f7a_133d_11ed_9352_000d3a16ef66row2_col0\" class=\"data row2 col0\" >1.11e+04</td>\n",
       "                        <td id=\"T_4e534f7a_133d_11ed_9352_000d3a16ef66row2_col1\" class=\"data row2 col1\" >1.1e+04</td>\n",
       "                        <td id=\"T_4e534f7a_133d_11ed_9352_000d3a16ef66row2_col2\" class=\"data row2 col2\" >0.11</td>\n",
       "                        <td id=\"T_4e534f7a_133d_11ed_9352_000d3a16ef66row2_col3\" class=\"data row2 col3\" >0.113</td>\n",
       "            </tr>\n",
       "            <tr>\n",
       "                        <th id=\"T_4e534f7a_133d_11ed_9352_000d3a16ef66level0_row3\" class=\"row_heading level0 row3\" >15</th>\n",
       "                        <td id=\"T_4e534f7a_133d_11ed_9352_000d3a16ef66row3_col0\" class=\"data row3 col0\" >1.08e+04</td>\n",
       "                        <td id=\"T_4e534f7a_133d_11ed_9352_000d3a16ef66row3_col1\" class=\"data row3 col1\" >1.07e+04</td>\n",
       "                        <td id=\"T_4e534f7a_133d_11ed_9352_000d3a16ef66row3_col2\" class=\"data row3 col2\" >0.0816</td>\n",
       "                        <td id=\"T_4e534f7a_133d_11ed_9352_000d3a16ef66row3_col3\" class=\"data row3 col3\" >0.0848</td>\n",
       "            </tr>\n",
       "    </tbody></table>"
      ],
      "text/plain": [
       "<pandas.io.formats.style.Styler at 0x7f04a67a1100>"
      ]
     },
     "metadata": {},
     "output_type": "display_data"
    },
    {
     "name": "stdout",
     "output_type": "stream",
     "text": [
      "[\u001b[1mtardis.simulation.base\u001b[0m][\u001b[1;37mINFO\u001b[0m   ]  \n",
      "\t\n",
      "\tCurrent t_inner = 10636.536 K\n",
      "\tExpected t_inner for next iteration = 10641.692 K\n",
      " (\u001b[1mbase.py\u001b[0m:550)\n"
     ]
    },
    {
     "name": "stdout",
     "output_type": "stream",
     "text": [
      "[\u001b[1mtardis.simulation.base\u001b[0m][\u001b[1;37mINFO\u001b[0m   ]  \n",
      "\t\n",
      "\tStarting iteration 19 of 20 (\u001b[1mbase.py\u001b[0m:381)\n"
     ]
    },
    {
     "name": "stdout",
     "output_type": "stream",
     "text": [
      "[\u001b[1mtardis.simulation.base\u001b[0m][\u001b[1;37mINFO\u001b[0m   ]  \n",
      "\t\n",
      "\tLuminosity emitted   = 1.056e+43 erg / s\n",
      "\tLuminosity absorbed  = 3.405e+42 erg / s\n",
      "\tLuminosity requested = 1.059e+43 erg / s\n",
      " (\u001b[1mbase.py\u001b[0m:555)\n"
     ]
    },
    {
     "name": "stdout",
     "output_type": "stream",
     "text": [
      "[\u001b[1mtardis.simulation.base\u001b[0m][\u001b[1;37mINFO\u001b[0m   ]  \n",
      "\tIteration converged 2/4 consecutive times. (\u001b[1mbase.py\u001b[0m:262)\n"
     ]
    },
    {
     "name": "stdout",
     "output_type": "stream",
     "text": [
      "[\u001b[1mtardis.simulation.base\u001b[0m][\u001b[1;37mINFO\u001b[0m   ]  \n",
      "\t\n",
      "\tPlasma stratification: (\u001b[1mbase.py\u001b[0m:523)\n"
     ]
    },
    {
     "data": {
      "text/html": [
       "<style  type=\"text/css\" >\n",
       "</style><table id=\"T_4ee3cdf2_133d_11ed_9352_000d3a16ef66\" ><thead>    <tr>        <th class=\"index_name level0\" >Shell No.</th>        <th class=\"col_heading level0 col0\" >t_rad</th>        <th class=\"col_heading level0 col1\" >next_t_rad</th>        <th class=\"col_heading level0 col2\" >w</th>        <th class=\"col_heading level0 col3\" >next_w</th>    </tr></thead><tbody>\n",
       "                <tr>\n",
       "                        <th id=\"T_4ee3cdf2_133d_11ed_9352_000d3a16ef66level0_row0\" class=\"row_heading level0 row0\" >0</th>\n",
       "                        <td id=\"T_4ee3cdf2_133d_11ed_9352_000d3a16ef66row0_col0\" class=\"data row0 col0\" >1.11e+04</td>\n",
       "                        <td id=\"T_4ee3cdf2_133d_11ed_9352_000d3a16ef66row0_col1\" class=\"data row0 col1\" >1.11e+04</td>\n",
       "                        <td id=\"T_4ee3cdf2_133d_11ed_9352_000d3a16ef66row0_col2\" class=\"data row0 col2\" >0.464</td>\n",
       "                        <td id=\"T_4ee3cdf2_133d_11ed_9352_000d3a16ef66row0_col3\" class=\"data row0 col3\" >0.466</td>\n",
       "            </tr>\n",
       "            <tr>\n",
       "                        <th id=\"T_4ee3cdf2_133d_11ed_9352_000d3a16ef66level0_row1\" class=\"row_heading level0 row1\" >5</th>\n",
       "                        <td id=\"T_4ee3cdf2_133d_11ed_9352_000d3a16ef66row1_col0\" class=\"data row1 col0\" >1.13e+04</td>\n",
       "                        <td id=\"T_4ee3cdf2_133d_11ed_9352_000d3a16ef66row1_col1\" class=\"data row1 col1\" >1.13e+04</td>\n",
       "                        <td id=\"T_4ee3cdf2_133d_11ed_9352_000d3a16ef66row1_col2\" class=\"data row1 col2\" >0.177</td>\n",
       "                        <td id=\"T_4ee3cdf2_133d_11ed_9352_000d3a16ef66row1_col3\" class=\"data row1 col3\" >0.177</td>\n",
       "            </tr>\n",
       "            <tr>\n",
       "                        <th id=\"T_4ee3cdf2_133d_11ed_9352_000d3a16ef66level0_row2\" class=\"row_heading level0 row2\" >10</th>\n",
       "                        <td id=\"T_4ee3cdf2_133d_11ed_9352_000d3a16ef66row2_col0\" class=\"data row2 col0\" >1.1e+04</td>\n",
       "                        <td id=\"T_4ee3cdf2_133d_11ed_9352_000d3a16ef66row2_col1\" class=\"data row2 col1\" >1.11e+04</td>\n",
       "                        <td id=\"T_4ee3cdf2_133d_11ed_9352_000d3a16ef66row2_col2\" class=\"data row2 col2\" >0.113</td>\n",
       "                        <td id=\"T_4ee3cdf2_133d_11ed_9352_000d3a16ef66row2_col3\" class=\"data row2 col3\" >0.111</td>\n",
       "            </tr>\n",
       "            <tr>\n",
       "                        <th id=\"T_4ee3cdf2_133d_11ed_9352_000d3a16ef66level0_row3\" class=\"row_heading level0 row3\" >15</th>\n",
       "                        <td id=\"T_4ee3cdf2_133d_11ed_9352_000d3a16ef66row3_col0\" class=\"data row3 col0\" >1.07e+04</td>\n",
       "                        <td id=\"T_4ee3cdf2_133d_11ed_9352_000d3a16ef66row3_col1\" class=\"data row3 col1\" >1.07e+04</td>\n",
       "                        <td id=\"T_4ee3cdf2_133d_11ed_9352_000d3a16ef66row3_col2\" class=\"data row3 col2\" >0.0848</td>\n",
       "                        <td id=\"T_4ee3cdf2_133d_11ed_9352_000d3a16ef66row3_col3\" class=\"data row3 col3\" >0.0853</td>\n",
       "            </tr>\n",
       "    </tbody></table>"
      ],
      "text/plain": [
       "<pandas.io.formats.style.Styler at 0x7f04a69b4be0>"
      ]
     },
     "metadata": {},
     "output_type": "display_data"
    },
    {
     "name": "stdout",
     "output_type": "stream",
     "text": [
      "[\u001b[1mtardis.simulation.base\u001b[0m][\u001b[1;37mINFO\u001b[0m   ]  \n",
      "\t\n",
      "\tCurrent t_inner = 10641.692 K\n",
      "\tExpected t_inner for next iteration = 10650.463 K\n",
      " (\u001b[1mbase.py\u001b[0m:550)\n"
     ]
    },
    {
     "name": "stdout",
     "output_type": "stream",
     "text": [
      "[\u001b[1mtardis.simulation.base\u001b[0m][\u001b[1;37mINFO\u001b[0m   ]  \n",
      "\t\n",
      "\tStarting iteration 20 of 20 (\u001b[1mbase.py\u001b[0m:381)\n"
     ]
    },
    {
     "name": "stdout",
     "output_type": "stream",
     "text": [
      "[\u001b[1mtardis.simulation.base\u001b[0m][\u001b[1;37mINFO\u001b[0m   ]  \n",
      "\t\n",
      "\tLuminosity emitted   = 1.061e+43 erg / s\n",
      "\tLuminosity absorbed  = 3.401e+42 erg / s\n",
      "\tLuminosity requested = 1.059e+43 erg / s\n",
      " (\u001b[1mbase.py\u001b[0m:555)\n"
     ]
    },
    {
     "name": "stdout",
     "output_type": "stream",
     "text": [
      "[\u001b[1mtardis.simulation.base\u001b[0m][\u001b[1;37mINFO\u001b[0m   ]  \n",
      "\t\n",
      "\tSimulation finished in 20 iterations \n",
      "\tSimulation took 54.60 s\n",
      " (\u001b[1mbase.py\u001b[0m:476)\n"
     ]
    }
   ],
   "source": [
    "# Running the simulation from the config\n",
    "\n",
    "sim = run_tardis(config, show_convergence_plots=False, show_progress_bars=False)"
   ]
  },
  {
   "cell_type": "markdown",
   "id": "532bfafc",
   "metadata": {},
   "source": [
    "Now, the `tracked` properties can be accessed via the `rpacket_tracker` attribute of the `sim.runner` object. "
   ]
  },
  {
   "cell_type": "code",
   "execution_count": 8,
   "id": "f8b3424f",
   "metadata": {
    "execution": {
     "iopub.execute_input": "2022-08-03T15:02:46.202166Z",
     "iopub.status.busy": "2022-08-03T15:02:46.201779Z",
     "iopub.status.idle": "2022-08-03T15:02:46.206046Z",
     "shell.execute_reply": "2022-08-03T15:02:46.205561Z"
    }
   },
   "outputs": [
    {
     "data": {
      "text/plain": [
       "numba.typed.typedlist.List"
      ]
     },
     "execution_count": 8,
     "metadata": {},
     "output_type": "execute_result"
    }
   ],
   "source": [
    "type(sim.runner.rpacket_tracker)"
   ]
  },
  {
   "cell_type": "markdown",
   "id": "4771d92a",
   "metadata": {},
   "source": [
    "It can be seen from the above code, that the `sim.runner.rpacket_tracker` is an instance of the `List` specifically *Numba Typed List*. The `RPacketCollection` class has the following structure for the properties : {More information in the **TARDIS API** for `RPacketCollection` class}"
   ]
  },
  {
   "cell_type": "markdown",
   "id": "ce587807",
   "metadata": {},
   "source": [
    "```python\n",
    "# Basic structure for the RPacketCollection Class\n",
    "class RPacketCollection:\n",
    "   # Properties\n",
    "    index\n",
    "    seed\n",
    "    status\n",
    "    r\n",
    "    nu\n",
    "    mu\n",
    "    energy\n",
    "    shell_id\n",
    "```"
   ]
  },
  {
   "cell_type": "code",
   "execution_count": 9,
   "id": "a3ea2f54",
   "metadata": {
    "execution": {
     "iopub.execute_input": "2022-08-03T15:02:46.209492Z",
     "iopub.status.busy": "2022-08-03T15:02:46.209082Z",
     "iopub.status.idle": "2022-08-03T15:02:46.213513Z",
     "shell.execute_reply": "2022-08-03T15:02:46.212878Z"
    }
   },
   "outputs": [
    {
     "data": {
      "text/plain": [
       "100000"
      ]
     },
     "execution_count": 9,
     "metadata": {},
     "output_type": "execute_result"
    }
   ],
   "source": [
    "len(sim.runner.rpacket_tracker)"
   ]
  },
  {
   "cell_type": "markdown",
   "id": "0f8566f4",
   "metadata": {},
   "source": [
    "### Accessing properties through `rpacket_tracker`"
   ]
  },
  {
   "cell_type": "markdown",
   "id": "411f2ef9",
   "metadata": {},
   "source": [
    "To access these different properties, we may consider the following examples for the `rpacket_tracker`:\n",
    "<br>In this Example, we are trying to access the properties of the packet at index `10`.<br>In a similar way, we can check for any property for any packet in the range of packets for the last iteration."
   ]
  },
  {
   "cell_type": "markdown",
   "id": "a4772b00",
   "metadata": {},
   "source": [
    "#### Accessing the `index` property for the packet with index = 10 :"
   ]
  },
  {
   "cell_type": "code",
   "execution_count": 10,
   "id": "de7b8877",
   "metadata": {
    "execution": {
     "iopub.execute_input": "2022-08-03T15:02:46.217406Z",
     "iopub.status.busy": "2022-08-03T15:02:46.217055Z",
     "iopub.status.idle": "2022-08-03T15:02:46.221548Z",
     "shell.execute_reply": "2022-08-03T15:02:46.220928Z"
    }
   },
   "outputs": [
    {
     "data": {
      "text/plain": [
       "10"
      ]
     },
     "execution_count": 10,
     "metadata": {},
     "output_type": "execute_result"
    }
   ],
   "source": [
    "sim.runner.rpacket_tracker[10].index"
   ]
  },
  {
   "cell_type": "markdown",
   "id": "d81fbbf7",
   "metadata": {},
   "source": [
    "#### Accessing the `seed` property for the packet with index = 10 :"
   ]
  },
  {
   "cell_type": "code",
   "execution_count": 11,
   "id": "39e2dbd2",
   "metadata": {
    "execution": {
     "iopub.execute_input": "2022-08-03T15:02:46.224916Z",
     "iopub.status.busy": "2022-08-03T15:02:46.224567Z",
     "iopub.status.idle": "2022-08-03T15:02:46.229012Z",
     "shell.execute_reply": "2022-08-03T15:02:46.228377Z"
    }
   },
   "outputs": [
    {
     "data": {
      "text/plain": [
       "2729103521"
      ]
     },
     "execution_count": 11,
     "metadata": {},
     "output_type": "execute_result"
    }
   ],
   "source": [
    "sim.runner.rpacket_tracker[10].seed"
   ]
  },
  {
   "cell_type": "markdown",
   "id": "7afe2110",
   "metadata": {},
   "source": [
    "#### Accessing the `status` property for the packet with index = 10 :"
   ]
  },
  {
   "cell_type": "code",
   "execution_count": 12,
   "id": "e82427ea",
   "metadata": {
    "execution": {
     "iopub.execute_input": "2022-08-03T15:02:46.232251Z",
     "iopub.status.busy": "2022-08-03T15:02:46.232033Z",
     "iopub.status.idle": "2022-08-03T15:02:46.236429Z",
     "shell.execute_reply": "2022-08-03T15:02:46.235767Z"
    }
   },
   "outputs": [
    {
     "data": {
      "text/plain": [
       "array([0, 0, 0, 0, 0, 0, 0, 0, 0, 0, 0, 0, 0, 0, 0, 0, 0, 0, 0, 0, 0, 0,\n",
       "       0, 0, 0, 0, 0, 0, 0, 0, 0, 0, 0, 0, 0, 0, 0, 0, 0, 0, 0, 0, 0, 0,\n",
       "       0, 0, 0, 0, 0, 0, 0, 0, 1])"
      ]
     },
     "execution_count": 12,
     "metadata": {},
     "output_type": "execute_result"
    }
   ],
   "source": [
    "sim.runner.rpacket_tracker[10].status"
   ]
  },
  {
   "cell_type": "markdown",
   "id": "ea308a55",
   "metadata": {},
   "source": [
    "Thus, all other properties (`r`, `nu`, `mu`, `energy`, `shell_id`) can be accessed accordingly."
   ]
  },
  {
   "cell_type": "markdown",
   "id": "c83dd906",
   "metadata": {},
   "source": [
    "We can also see the total number of interactions of index `10` packet under went, with the following example:"
   ]
  },
  {
   "cell_type": "code",
   "execution_count": 13,
   "id": "090b1517",
   "metadata": {
    "execution": {
     "iopub.execute_input": "2022-08-03T15:02:46.239939Z",
     "iopub.status.busy": "2022-08-03T15:02:46.239699Z",
     "iopub.status.idle": "2022-08-03T15:02:46.244162Z",
     "shell.execute_reply": "2022-08-03T15:02:46.243497Z"
    }
   },
   "outputs": [
    {
     "data": {
      "text/plain": [
       "53"
      ]
     },
     "execution_count": 13,
     "metadata": {},
     "output_type": "execute_result"
    }
   ],
   "source": [
    "len(sim.runner.rpacket_tracker[10].shell_id)"
   ]
  },
  {
   "cell_type": "markdown",
   "id": "9136fba1",
   "metadata": {},
   "source": [
    "<div class=\"alert alert-warning\">\n",
    "\n",
    "Warning\n",
    "\n",
    "If we  try to access `sim.runner.rpacket_tracker` property when we have the `track_rpacket` property in the `tracking` subsection of `montecarlo` config, turned off as follows `config[\"montecarlo\"][\"tracking\"][\"track_rpacket\"] = False`, it will return `None`.  Error will be raised if we try to access the properties i.e. `seed`, `index`, etc.\n",
    "</div>"
   ]
  },
  {
   "cell_type": "markdown",
   "id": "afa3c7f4",
   "metadata": {},
   "source": [
    "<div class=\"alert alert-info\">\n",
    "\n",
    "Note\n",
    "    \n",
    "When we initialise the `RPacketCollection()` class, the properties arrays {`index`, `seed`, `status`, etc} are allocated certain length based on the `initial_array_length` parameter that can be set via the `initial_array_length` property under `montecarlo -> tracking` section of the configuration. The default size of the array is `10`. This variable is important as the number of interactions a packet may have is variable, thus we need to allocate space dynamically. This variable is used to compute the size and expand the array such that the properties are able to hold these values for the packet interaction. Higher number, allocates more space initially leading to lesser times the arrays expands and vice versa. It can be set in the following manner `config[\"montecarlo\"][\"tracking\"][\"initial_array_length\"] = {value}`.\n",
    "</div>"
   ]
  },
  {
   "cell_type": "markdown",
   "id": "2da1215e",
   "metadata": {},
   "source": [
    "### Accessing properties with `rpacket_tracker_df`"
   ]
  },
  {
   "cell_type": "markdown",
   "id": "6eaee13d",
   "metadata": {},
   "source": [
    "Also, the `tracked` properties can be accessed via the `rpacket_tracker_df` attribute of the `sim.runner` object. "
   ]
  },
  {
   "cell_type": "code",
   "execution_count": 14,
   "id": "5fa074c2",
   "metadata": {
    "execution": {
     "iopub.execute_input": "2022-08-03T15:02:46.247750Z",
     "iopub.status.busy": "2022-08-03T15:02:46.247518Z",
     "iopub.status.idle": "2022-08-03T15:02:46.251704Z",
     "shell.execute_reply": "2022-08-03T15:02:46.251070Z"
    }
   },
   "outputs": [
    {
     "data": {
      "text/plain": [
       "pandas.core.frame.DataFrame"
      ]
     },
     "execution_count": 14,
     "metadata": {},
     "output_type": "execute_result"
    }
   ],
   "source": [
    "type(sim.runner.rpacket_tracker_df)"
   ]
  },
  {
   "cell_type": "markdown",
   "id": "9a39309b",
   "metadata": {},
   "source": [
    "Here, all the properties of the rpackets discussed above are stored as a `Pandas.Dataframe` object. This makes accessing the properties of any rpacket more convenient and in a more organized way."
   ]
  },
  {
   "cell_type": "markdown",
   "id": "93e78750",
   "metadata": {},
   "source": [
    "<html>\n",
    "    <body>\n",
    "        The Basic structure of the Dataframe is as follows:<br><br>\n",
    "        Index Columns:\n",
    "        <ol>\n",
    "            <li><b>index</b> - Indicates the index number of the packet.</li>\n",
    "            <li><b>step</b> - It is the step number that any particular packet is on, as it moves through the ejecta.</li>\n",
    "        </ol>\n",
    "        Properties:<br><br>\n",
    "        These following properties are present as columns in the Dataframe. These are the same properties that were present in the <b>rpacket_tracker</b>\n",
    "        <ol>\n",
    "            <li><b>status</b></li>\n",
    "            <li><b>seed</b></li>\n",
    "            <li><b>r</b></li>\n",
    "            <li><b>nu</b></li>\n",
    "            <li><b>mu</b></li>\n",
    "            <li><b>energy</b></li>\n",
    "            <li><b>shell_id</b></li>\n",
    "        </ol>\n",
    "    </body>\n",
    "</html>"
   ]
  },
  {
   "cell_type": "markdown",
   "id": "54dce761",
   "metadata": {},
   "source": [
    "The entire dataframe, containing all the properties mentioned above, can be fetched as:"
   ]
  },
  {
   "cell_type": "code",
   "execution_count": 15,
   "id": "0ec47b2f",
   "metadata": {
    "execution": {
     "iopub.execute_input": "2022-08-03T15:02:46.255026Z",
     "iopub.status.busy": "2022-08-03T15:02:46.254808Z",
     "iopub.status.idle": "2022-08-03T15:02:46.273919Z",
     "shell.execute_reply": "2022-08-03T15:02:46.273249Z"
    }
   },
   "outputs": [
    {
     "data": {
      "text/html": [
       "<div>\n",
       "<style scoped>\n",
       "    .dataframe tbody tr th:only-of-type {\n",
       "        vertical-align: middle;\n",
       "    }\n",
       "\n",
       "    .dataframe tbody tr th {\n",
       "        vertical-align: top;\n",
       "    }\n",
       "\n",
       "    .dataframe thead th {\n",
       "        text-align: right;\n",
       "    }\n",
       "</style>\n",
       "<table border=\"1\" class=\"dataframe\">\n",
       "  <thead>\n",
       "    <tr style=\"text-align: right;\">\n",
       "      <th></th>\n",
       "      <th></th>\n",
       "      <th>status</th>\n",
       "      <th>seed</th>\n",
       "      <th>r</th>\n",
       "      <th>nu</th>\n",
       "      <th>mu</th>\n",
       "      <th>energy</th>\n",
       "      <th>shell_id</th>\n",
       "    </tr>\n",
       "    <tr>\n",
       "      <th>index</th>\n",
       "      <th>step</th>\n",
       "      <th></th>\n",
       "      <th></th>\n",
       "      <th></th>\n",
       "      <th></th>\n",
       "      <th></th>\n",
       "      <th></th>\n",
       "      <th></th>\n",
       "    </tr>\n",
       "  </thead>\n",
       "  <tbody>\n",
       "    <tr>\n",
       "      <th rowspan=\"5\" valign=\"top\">0</th>\n",
       "      <th>0</th>\n",
       "      <td>0</td>\n",
       "      <td>3338016338</td>\n",
       "      <td>1.235520e+15</td>\n",
       "      <td>1.736483e+15</td>\n",
       "      <td>0.839765</td>\n",
       "      <td>0.00001</td>\n",
       "      <td>0</td>\n",
       "    </tr>\n",
       "    <tr>\n",
       "      <th>1</th>\n",
       "      <td>0</td>\n",
       "      <td>3338016338</td>\n",
       "      <td>1.263676e+15</td>\n",
       "      <td>2.569811e+15</td>\n",
       "      <td>-0.608549</td>\n",
       "      <td>0.00001</td>\n",
       "      <td>0</td>\n",
       "    </tr>\n",
       "    <tr>\n",
       "      <th>2</th>\n",
       "      <td>0</td>\n",
       "      <td>3338016338</td>\n",
       "      <td>1.244956e+15</td>\n",
       "      <td>1.684571e+15</td>\n",
       "      <td>0.052209</td>\n",
       "      <td>0.00001</td>\n",
       "      <td>0</td>\n",
       "    </tr>\n",
       "    <tr>\n",
       "      <th>3</th>\n",
       "      <td>0</td>\n",
       "      <td>3338016338</td>\n",
       "      <td>1.245022e+15</td>\n",
       "      <td>1.682866e+15</td>\n",
       "      <td>0.025872</td>\n",
       "      <td>0.00001</td>\n",
       "      <td>0</td>\n",
       "    </tr>\n",
       "    <tr>\n",
       "      <th>4</th>\n",
       "      <td>0</td>\n",
       "      <td>3338016338</td>\n",
       "      <td>1.248276e+15</td>\n",
       "      <td>9.577869e+14</td>\n",
       "      <td>-0.281524</td>\n",
       "      <td>0.00001</td>\n",
       "      <td>0</td>\n",
       "    </tr>\n",
       "    <tr>\n",
       "      <th>...</th>\n",
       "      <th>...</th>\n",
       "      <td>...</td>\n",
       "      <td>...</td>\n",
       "      <td>...</td>\n",
       "      <td>...</td>\n",
       "      <td>...</td>\n",
       "      <td>...</td>\n",
       "      <td>...</td>\n",
       "    </tr>\n",
       "    <tr>\n",
       "      <th rowspan=\"5\" valign=\"top\">99999</th>\n",
       "      <th>17</th>\n",
       "      <td>0</td>\n",
       "      <td>864415001</td>\n",
       "      <td>2.044224e+15</td>\n",
       "      <td>1.159042e+14</td>\n",
       "      <td>0.904834</td>\n",
       "      <td>0.00001</td>\n",
       "      <td>16</td>\n",
       "    </tr>\n",
       "    <tr>\n",
       "      <th>18</th>\n",
       "      <td>0</td>\n",
       "      <td>864415001</td>\n",
       "      <td>2.094768e+15</td>\n",
       "      <td>1.159042e+14</td>\n",
       "      <td>0.909597</td>\n",
       "      <td>0.00001</td>\n",
       "      <td>17</td>\n",
       "    </tr>\n",
       "    <tr>\n",
       "      <th>19</th>\n",
       "      <td>0</td>\n",
       "      <td>864415001</td>\n",
       "      <td>2.145312e+15</td>\n",
       "      <td>1.159042e+14</td>\n",
       "      <td>0.914006</td>\n",
       "      <td>0.00001</td>\n",
       "      <td>18</td>\n",
       "    </tr>\n",
       "    <tr>\n",
       "      <th>20</th>\n",
       "      <td>0</td>\n",
       "      <td>864415001</td>\n",
       "      <td>2.195856e+15</td>\n",
       "      <td>1.159042e+14</td>\n",
       "      <td>0.918094</td>\n",
       "      <td>0.00001</td>\n",
       "      <td>19</td>\n",
       "    </tr>\n",
       "    <tr>\n",
       "      <th>21</th>\n",
       "      <td>1</td>\n",
       "      <td>864415001</td>\n",
       "      <td>2.246400e+15</td>\n",
       "      <td>1.159042e+14</td>\n",
       "      <td>0.921893</td>\n",
       "      <td>0.00001</td>\n",
       "      <td>19</td>\n",
       "    </tr>\n",
       "  </tbody>\n",
       "</table>\n",
       "<p>1981438 rows × 7 columns</p>\n",
       "</div>"
      ],
      "text/plain": [
       "            status        seed             r            nu        mu   energy  \\\n",
       "index step                                                                      \n",
       "0     0          0  3338016338  1.235520e+15  1.736483e+15  0.839765  0.00001   \n",
       "      1          0  3338016338  1.263676e+15  2.569811e+15 -0.608549  0.00001   \n",
       "      2          0  3338016338  1.244956e+15  1.684571e+15  0.052209  0.00001   \n",
       "      3          0  3338016338  1.245022e+15  1.682866e+15  0.025872  0.00001   \n",
       "      4          0  3338016338  1.248276e+15  9.577869e+14 -0.281524  0.00001   \n",
       "...            ...         ...           ...           ...       ...      ...   \n",
       "99999 17         0   864415001  2.044224e+15  1.159042e+14  0.904834  0.00001   \n",
       "      18         0   864415001  2.094768e+15  1.159042e+14  0.909597  0.00001   \n",
       "      19         0   864415001  2.145312e+15  1.159042e+14  0.914006  0.00001   \n",
       "      20         0   864415001  2.195856e+15  1.159042e+14  0.918094  0.00001   \n",
       "      21         1   864415001  2.246400e+15  1.159042e+14  0.921893  0.00001   \n",
       "\n",
       "            shell_id  \n",
       "index step            \n",
       "0     0            0  \n",
       "      1            0  \n",
       "      2            0  \n",
       "      3            0  \n",
       "      4            0  \n",
       "...              ...  \n",
       "99999 17          16  \n",
       "      18          17  \n",
       "      19          18  \n",
       "      20          19  \n",
       "      21          19  \n",
       "\n",
       "[1981438 rows x 7 columns]"
      ]
     },
     "execution_count": 15,
     "metadata": {},
     "output_type": "execute_result"
    }
   ],
   "source": [
    "sim.runner.rpacket_tracker_df"
   ]
  },
  {
   "cell_type": "markdown",
   "id": "81f1d718",
   "metadata": {},
   "source": [
    "To access these different properties in the dataframe, we may consider the following examples for the `rpacket_tracker_df`:\n",
    "<br>In this Example, we are trying to access the properties of the packet at index `10`.<br>In a similar way, we can check for any property for any packet in the range of packets for the last iteration."
   ]
  },
  {
   "cell_type": "markdown",
   "id": "eb8df3d9",
   "metadata": {},
   "source": [
    "#### Accessing all the properties for the packet with index = 10:"
   ]
  },
  {
   "cell_type": "code",
   "execution_count": 16,
   "id": "612c8234",
   "metadata": {
    "execution": {
     "iopub.execute_input": "2022-08-03T15:02:46.277112Z",
     "iopub.status.busy": "2022-08-03T15:02:46.276867Z",
     "iopub.status.idle": "2022-08-03T15:02:46.314540Z",
     "shell.execute_reply": "2022-08-03T15:02:46.313776Z"
    }
   },
   "outputs": [
    {
     "data": {
      "text/html": [
       "<div>\n",
       "<style scoped>\n",
       "    .dataframe tbody tr th:only-of-type {\n",
       "        vertical-align: middle;\n",
       "    }\n",
       "\n",
       "    .dataframe tbody tr th {\n",
       "        vertical-align: top;\n",
       "    }\n",
       "\n",
       "    .dataframe thead th {\n",
       "        text-align: right;\n",
       "    }\n",
       "</style>\n",
       "<table border=\"1\" class=\"dataframe\">\n",
       "  <thead>\n",
       "    <tr style=\"text-align: right;\">\n",
       "      <th></th>\n",
       "      <th>status</th>\n",
       "      <th>seed</th>\n",
       "      <th>r</th>\n",
       "      <th>nu</th>\n",
       "      <th>mu</th>\n",
       "      <th>energy</th>\n",
       "      <th>shell_id</th>\n",
       "    </tr>\n",
       "    <tr>\n",
       "      <th>step</th>\n",
       "      <th></th>\n",
       "      <th></th>\n",
       "      <th></th>\n",
       "      <th></th>\n",
       "      <th></th>\n",
       "      <th></th>\n",
       "      <th></th>\n",
       "    </tr>\n",
       "  </thead>\n",
       "  <tbody>\n",
       "    <tr>\n",
       "      <th>0</th>\n",
       "      <td>0</td>\n",
       "      <td>2729103521</td>\n",
       "      <td>1.235520e+15</td>\n",
       "      <td>2.100434e+15</td>\n",
       "      <td>0.587433</td>\n",
       "      <td>0.000010</td>\n",
       "      <td>0</td>\n",
       "    </tr>\n",
       "    <tr>\n",
       "      <th>1</th>\n",
       "      <td>0</td>\n",
       "      <td>2729103521</td>\n",
       "      <td>1.286064e+15</td>\n",
       "      <td>2.100434e+15</td>\n",
       "      <td>0.628923</td>\n",
       "      <td>0.000010</td>\n",
       "      <td>1</td>\n",
       "    </tr>\n",
       "    <tr>\n",
       "      <th>2</th>\n",
       "      <td>0</td>\n",
       "      <td>2729103521</td>\n",
       "      <td>1.336608e+15</td>\n",
       "      <td>2.100434e+15</td>\n",
       "      <td>0.663623</td>\n",
       "      <td>0.000010</td>\n",
       "      <td>2</td>\n",
       "    </tr>\n",
       "    <tr>\n",
       "      <th>3</th>\n",
       "      <td>0</td>\n",
       "      <td>2729103521</td>\n",
       "      <td>1.387152e+15</td>\n",
       "      <td>2.100434e+15</td>\n",
       "      <td>0.693133</td>\n",
       "      <td>0.000010</td>\n",
       "      <td>3</td>\n",
       "    </tr>\n",
       "    <tr>\n",
       "      <th>4</th>\n",
       "      <td>0</td>\n",
       "      <td>2729103521</td>\n",
       "      <td>1.437696e+15</td>\n",
       "      <td>2.100434e+15</td>\n",
       "      <td>0.718556</td>\n",
       "      <td>0.000010</td>\n",
       "      <td>4</td>\n",
       "    </tr>\n",
       "    <tr>\n",
       "      <th>5</th>\n",
       "      <td>0</td>\n",
       "      <td>2729103521</td>\n",
       "      <td>1.488240e+15</td>\n",
       "      <td>2.100434e+15</td>\n",
       "      <td>0.740688</td>\n",
       "      <td>0.000010</td>\n",
       "      <td>5</td>\n",
       "    </tr>\n",
       "    <tr>\n",
       "      <th>6</th>\n",
       "      <td>0</td>\n",
       "      <td>2729103521</td>\n",
       "      <td>1.514008e+15</td>\n",
       "      <td>1.966980e+15</td>\n",
       "      <td>-0.707127</td>\n",
       "      <td>0.000010</td>\n",
       "      <td>5</td>\n",
       "    </tr>\n",
       "    <tr>\n",
       "      <th>7</th>\n",
       "      <td>0</td>\n",
       "      <td>2729103521</td>\n",
       "      <td>1.488240e+15</td>\n",
       "      <td>1.966980e+15</td>\n",
       "      <td>-0.694668</td>\n",
       "      <td>0.000010</td>\n",
       "      <td>4</td>\n",
       "    </tr>\n",
       "    <tr>\n",
       "      <th>8</th>\n",
       "      <td>0</td>\n",
       "      <td>2729103521</td>\n",
       "      <td>1.437696e+15</td>\n",
       "      <td>1.966980e+15</td>\n",
       "      <td>-0.667490</td>\n",
       "      <td>0.000010</td>\n",
       "      <td>3</td>\n",
       "    </tr>\n",
       "    <tr>\n",
       "      <th>9</th>\n",
       "      <td>0</td>\n",
       "      <td>2729103521</td>\n",
       "      <td>1.387152e+15</td>\n",
       "      <td>1.966980e+15</td>\n",
       "      <td>-0.635925</td>\n",
       "      <td>0.000010</td>\n",
       "      <td>2</td>\n",
       "    </tr>\n",
       "    <tr>\n",
       "      <th>10</th>\n",
       "      <td>0</td>\n",
       "      <td>2729103521</td>\n",
       "      <td>1.387113e+15</td>\n",
       "      <td>2.093418e+15</td>\n",
       "      <td>0.868696</td>\n",
       "      <td>0.000010</td>\n",
       "      <td>2</td>\n",
       "    </tr>\n",
       "    <tr>\n",
       "      <th>11</th>\n",
       "      <td>0</td>\n",
       "      <td>2729103521</td>\n",
       "      <td>1.387152e+15</td>\n",
       "      <td>2.093418e+15</td>\n",
       "      <td>0.868704</td>\n",
       "      <td>0.000010</td>\n",
       "      <td>3</td>\n",
       "    </tr>\n",
       "    <tr>\n",
       "      <th>12</th>\n",
       "      <td>0</td>\n",
       "      <td>2729103521</td>\n",
       "      <td>1.437696e+15</td>\n",
       "      <td>2.093418e+15</td>\n",
       "      <td>0.878405</td>\n",
       "      <td>0.000010</td>\n",
       "      <td>4</td>\n",
       "    </tr>\n",
       "    <tr>\n",
       "      <th>13</th>\n",
       "      <td>0</td>\n",
       "      <td>2729103521</td>\n",
       "      <td>1.488240e+15</td>\n",
       "      <td>2.093418e+15</td>\n",
       "      <td>0.887043</td>\n",
       "      <td>0.000010</td>\n",
       "      <td>5</td>\n",
       "    </tr>\n",
       "    <tr>\n",
       "      <th>14</th>\n",
       "      <td>0</td>\n",
       "      <td>2729103521</td>\n",
       "      <td>1.538784e+15</td>\n",
       "      <td>2.093418e+15</td>\n",
       "      <td>0.894773</td>\n",
       "      <td>0.000010</td>\n",
       "      <td>6</td>\n",
       "    </tr>\n",
       "    <tr>\n",
       "      <th>15</th>\n",
       "      <td>0</td>\n",
       "      <td>2729103521</td>\n",
       "      <td>1.589328e+15</td>\n",
       "      <td>2.093418e+15</td>\n",
       "      <td>0.901720</td>\n",
       "      <td>0.000010</td>\n",
       "      <td>7</td>\n",
       "    </tr>\n",
       "    <tr>\n",
       "      <th>16</th>\n",
       "      <td>0</td>\n",
       "      <td>2729103521</td>\n",
       "      <td>1.639872e+15</td>\n",
       "      <td>2.093418e+15</td>\n",
       "      <td>0.907988</td>\n",
       "      <td>0.000010</td>\n",
       "      <td>8</td>\n",
       "    </tr>\n",
       "    <tr>\n",
       "      <th>17</th>\n",
       "      <td>0</td>\n",
       "      <td>2729103521</td>\n",
       "      <td>1.690416e+15</td>\n",
       "      <td>2.093418e+15</td>\n",
       "      <td>0.913665</td>\n",
       "      <td>0.000010</td>\n",
       "      <td>9</td>\n",
       "    </tr>\n",
       "    <tr>\n",
       "      <th>18</th>\n",
       "      <td>0</td>\n",
       "      <td>2729103521</td>\n",
       "      <td>1.709334e+15</td>\n",
       "      <td>2.754770e+15</td>\n",
       "      <td>0.357089</td>\n",
       "      <td>0.000010</td>\n",
       "      <td>9</td>\n",
       "    </tr>\n",
       "    <tr>\n",
       "      <th>19</th>\n",
       "      <td>0</td>\n",
       "      <td>2729103521</td>\n",
       "      <td>1.726723e+15</td>\n",
       "      <td>3.040742e+15</td>\n",
       "      <td>0.224209</td>\n",
       "      <td>0.000010</td>\n",
       "      <td>9</td>\n",
       "    </tr>\n",
       "    <tr>\n",
       "      <th>20</th>\n",
       "      <td>0</td>\n",
       "      <td>2729103521</td>\n",
       "      <td>1.740960e+15</td>\n",
       "      <td>3.040742e+15</td>\n",
       "      <td>0.256398</td>\n",
       "      <td>0.000010</td>\n",
       "      <td>10</td>\n",
       "    </tr>\n",
       "    <tr>\n",
       "      <th>21</th>\n",
       "      <td>0</td>\n",
       "      <td>2729103521</td>\n",
       "      <td>1.752721e+15</td>\n",
       "      <td>1.680385e+15</td>\n",
       "      <td>0.226400</td>\n",
       "      <td>0.000010</td>\n",
       "      <td>10</td>\n",
       "    </tr>\n",
       "    <tr>\n",
       "      <th>22</th>\n",
       "      <td>0</td>\n",
       "      <td>2729103521</td>\n",
       "      <td>1.764487e+15</td>\n",
       "      <td>1.669485e+15</td>\n",
       "      <td>0.129774</td>\n",
       "      <td>0.000010</td>\n",
       "      <td>10</td>\n",
       "    </tr>\n",
       "    <tr>\n",
       "      <th>23</th>\n",
       "      <td>0</td>\n",
       "      <td>2729103521</td>\n",
       "      <td>1.791504e+15</td>\n",
       "      <td>1.669485e+15</td>\n",
       "      <td>0.215107</td>\n",
       "      <td>0.000010</td>\n",
       "      <td>11</td>\n",
       "    </tr>\n",
       "    <tr>\n",
       "      <th>24</th>\n",
       "      <td>0</td>\n",
       "      <td>2729103521</td>\n",
       "      <td>1.793179e+15</td>\n",
       "      <td>1.575386e+15</td>\n",
       "      <td>-0.889332</td>\n",
       "      <td>0.000009</td>\n",
       "      <td>11</td>\n",
       "    </tr>\n",
       "    <tr>\n",
       "      <th>25</th>\n",
       "      <td>0</td>\n",
       "      <td>2729103521</td>\n",
       "      <td>1.791504e+15</td>\n",
       "      <td>1.575386e+15</td>\n",
       "      <td>-0.889112</td>\n",
       "      <td>0.000009</td>\n",
       "      <td>10</td>\n",
       "    </tr>\n",
       "    <tr>\n",
       "      <th>26</th>\n",
       "      <td>0</td>\n",
       "      <td>2729103521</td>\n",
       "      <td>1.740960e+15</td>\n",
       "      <td>1.575386e+15</td>\n",
       "      <td>-0.882145</td>\n",
       "      <td>0.000009</td>\n",
       "      <td>9</td>\n",
       "    </tr>\n",
       "    <tr>\n",
       "      <th>27</th>\n",
       "      <td>0</td>\n",
       "      <td>2729103521</td>\n",
       "      <td>1.690416e+15</td>\n",
       "      <td>1.575386e+15</td>\n",
       "      <td>-0.874481</td>\n",
       "      <td>0.000009</td>\n",
       "      <td>8</td>\n",
       "    </tr>\n",
       "    <tr>\n",
       "      <th>28</th>\n",
       "      <td>0</td>\n",
       "      <td>2729103521</td>\n",
       "      <td>1.639872e+15</td>\n",
       "      <td>1.575386e+15</td>\n",
       "      <td>-0.866019</td>\n",
       "      <td>0.000009</td>\n",
       "      <td>7</td>\n",
       "    </tr>\n",
       "    <tr>\n",
       "      <th>29</th>\n",
       "      <td>0</td>\n",
       "      <td>2729103521</td>\n",
       "      <td>1.589328e+15</td>\n",
       "      <td>1.575386e+15</td>\n",
       "      <td>-0.856642</td>\n",
       "      <td>0.000009</td>\n",
       "      <td>6</td>\n",
       "    </tr>\n",
       "    <tr>\n",
       "      <th>30</th>\n",
       "      <td>0</td>\n",
       "      <td>2729103521</td>\n",
       "      <td>1.538784e+15</td>\n",
       "      <td>1.575386e+15</td>\n",
       "      <td>-0.846205</td>\n",
       "      <td>0.000009</td>\n",
       "      <td>5</td>\n",
       "    </tr>\n",
       "    <tr>\n",
       "      <th>31</th>\n",
       "      <td>0</td>\n",
       "      <td>2729103521</td>\n",
       "      <td>1.488240e+15</td>\n",
       "      <td>1.575386e+15</td>\n",
       "      <td>-0.834535</td>\n",
       "      <td>0.000009</td>\n",
       "      <td>4</td>\n",
       "    </tr>\n",
       "    <tr>\n",
       "      <th>32</th>\n",
       "      <td>0</td>\n",
       "      <td>2729103521</td>\n",
       "      <td>1.439546e+15</td>\n",
       "      <td>1.610949e+15</td>\n",
       "      <td>-0.287407</td>\n",
       "      <td>0.000009</td>\n",
       "      <td>4</td>\n",
       "    </tr>\n",
       "    <tr>\n",
       "      <th>33</th>\n",
       "      <td>0</td>\n",
       "      <td>2729103521</td>\n",
       "      <td>1.437696e+15</td>\n",
       "      <td>1.610949e+15</td>\n",
       "      <td>-0.283268</td>\n",
       "      <td>0.000009</td>\n",
       "      <td>3</td>\n",
       "    </tr>\n",
       "    <tr>\n",
       "      <th>34</th>\n",
       "      <td>0</td>\n",
       "      <td>2729103521</td>\n",
       "      <td>1.419306e+15</td>\n",
       "      <td>2.160489e+15</td>\n",
       "      <td>0.495893</td>\n",
       "      <td>0.000010</td>\n",
       "      <td>3</td>\n",
       "    </tr>\n",
       "    <tr>\n",
       "      <th>35</th>\n",
       "      <td>0</td>\n",
       "      <td>2729103521</td>\n",
       "      <td>1.437696e+15</td>\n",
       "      <td>2.160489e+15</td>\n",
       "      <td>0.514857</td>\n",
       "      <td>0.000010</td>\n",
       "      <td>4</td>\n",
       "    </tr>\n",
       "    <tr>\n",
       "      <th>36</th>\n",
       "      <td>0</td>\n",
       "      <td>2729103521</td>\n",
       "      <td>1.488240e+15</td>\n",
       "      <td>2.160489e+15</td>\n",
       "      <td>0.560490</td>\n",
       "      <td>0.000010</td>\n",
       "      <td>5</td>\n",
       "    </tr>\n",
       "    <tr>\n",
       "      <th>37</th>\n",
       "      <td>0</td>\n",
       "      <td>2729103521</td>\n",
       "      <td>1.513523e+15</td>\n",
       "      <td>1.212817e+15</td>\n",
       "      <td>0.618740</td>\n",
       "      <td>0.000010</td>\n",
       "      <td>5</td>\n",
       "    </tr>\n",
       "    <tr>\n",
       "      <th>38</th>\n",
       "      <td>0</td>\n",
       "      <td>2729103521</td>\n",
       "      <td>1.538784e+15</td>\n",
       "      <td>1.212817e+15</td>\n",
       "      <td>0.634772</td>\n",
       "      <td>0.000010</td>\n",
       "      <td>6</td>\n",
       "    </tr>\n",
       "    <tr>\n",
       "      <th>39</th>\n",
       "      <td>0</td>\n",
       "      <td>2729103521</td>\n",
       "      <td>1.589328e+15</td>\n",
       "      <td>1.212817e+15</td>\n",
       "      <td>0.663557</td>\n",
       "      <td>0.000010</td>\n",
       "      <td>7</td>\n",
       "    </tr>\n",
       "    <tr>\n",
       "      <th>40</th>\n",
       "      <td>0</td>\n",
       "      <td>2729103521</td>\n",
       "      <td>1.639872e+15</td>\n",
       "      <td>1.212817e+15</td>\n",
       "      <td>0.688678</td>\n",
       "      <td>0.000010</td>\n",
       "      <td>8</td>\n",
       "    </tr>\n",
       "    <tr>\n",
       "      <th>41</th>\n",
       "      <td>0</td>\n",
       "      <td>2729103521</td>\n",
       "      <td>1.690416e+15</td>\n",
       "      <td>1.212817e+15</td>\n",
       "      <td>0.710807</td>\n",
       "      <td>0.000010</td>\n",
       "      <td>9</td>\n",
       "    </tr>\n",
       "    <tr>\n",
       "      <th>42</th>\n",
       "      <td>0</td>\n",
       "      <td>2729103521</td>\n",
       "      <td>1.740960e+15</td>\n",
       "      <td>1.212817e+15</td>\n",
       "      <td>0.730450</td>\n",
       "      <td>0.000010</td>\n",
       "      <td>10</td>\n",
       "    </tr>\n",
       "    <tr>\n",
       "      <th>43</th>\n",
       "      <td>0</td>\n",
       "      <td>2729103521</td>\n",
       "      <td>1.791504e+15</td>\n",
       "      <td>1.212817e+15</td>\n",
       "      <td>0.748001</td>\n",
       "      <td>0.000010</td>\n",
       "      <td>11</td>\n",
       "    </tr>\n",
       "    <tr>\n",
       "      <th>44</th>\n",
       "      <td>0</td>\n",
       "      <td>2729103521</td>\n",
       "      <td>1.842048e+15</td>\n",
       "      <td>1.212817e+15</td>\n",
       "      <td>0.763771</td>\n",
       "      <td>0.000010</td>\n",
       "      <td>12</td>\n",
       "    </tr>\n",
       "    <tr>\n",
       "      <th>45</th>\n",
       "      <td>0</td>\n",
       "      <td>2729103521</td>\n",
       "      <td>1.892592e+15</td>\n",
       "      <td>1.212817e+15</td>\n",
       "      <td>0.778013</td>\n",
       "      <td>0.000010</td>\n",
       "      <td>13</td>\n",
       "    </tr>\n",
       "    <tr>\n",
       "      <th>46</th>\n",
       "      <td>0</td>\n",
       "      <td>2729103521</td>\n",
       "      <td>1.943136e+15</td>\n",
       "      <td>1.212817e+15</td>\n",
       "      <td>0.790930</td>\n",
       "      <td>0.000010</td>\n",
       "      <td>14</td>\n",
       "    </tr>\n",
       "    <tr>\n",
       "      <th>47</th>\n",
       "      <td>0</td>\n",
       "      <td>2729103521</td>\n",
       "      <td>1.993680e+15</td>\n",
       "      <td>1.212817e+15</td>\n",
       "      <td>0.802692</td>\n",
       "      <td>0.000010</td>\n",
       "      <td>15</td>\n",
       "    </tr>\n",
       "    <tr>\n",
       "      <th>48</th>\n",
       "      <td>0</td>\n",
       "      <td>2729103521</td>\n",
       "      <td>2.044224e+15</td>\n",
       "      <td>1.212817e+15</td>\n",
       "      <td>0.813441</td>\n",
       "      <td>0.000010</td>\n",
       "      <td>16</td>\n",
       "    </tr>\n",
       "    <tr>\n",
       "      <th>49</th>\n",
       "      <td>0</td>\n",
       "      <td>2729103521</td>\n",
       "      <td>2.094768e+15</td>\n",
       "      <td>1.212817e+15</td>\n",
       "      <td>0.823295</td>\n",
       "      <td>0.000010</td>\n",
       "      <td>17</td>\n",
       "    </tr>\n",
       "    <tr>\n",
       "      <th>50</th>\n",
       "      <td>0</td>\n",
       "      <td>2729103521</td>\n",
       "      <td>2.145312e+15</td>\n",
       "      <td>1.212817e+15</td>\n",
       "      <td>0.832357</td>\n",
       "      <td>0.000010</td>\n",
       "      <td>18</td>\n",
       "    </tr>\n",
       "    <tr>\n",
       "      <th>51</th>\n",
       "      <td>0</td>\n",
       "      <td>2729103521</td>\n",
       "      <td>2.195856e+15</td>\n",
       "      <td>1.212817e+15</td>\n",
       "      <td>0.840712</td>\n",
       "      <td>0.000010</td>\n",
       "      <td>19</td>\n",
       "    </tr>\n",
       "    <tr>\n",
       "      <th>52</th>\n",
       "      <td>1</td>\n",
       "      <td>2729103521</td>\n",
       "      <td>2.246400e+15</td>\n",
       "      <td>1.212817e+15</td>\n",
       "      <td>0.848435</td>\n",
       "      <td>0.000010</td>\n",
       "      <td>19</td>\n",
       "    </tr>\n",
       "  </tbody>\n",
       "</table>\n",
       "</div>"
      ],
      "text/plain": [
       "      status        seed             r            nu        mu    energy  \\\n",
       "step                                                                       \n",
       "0          0  2729103521  1.235520e+15  2.100434e+15  0.587433  0.000010   \n",
       "1          0  2729103521  1.286064e+15  2.100434e+15  0.628923  0.000010   \n",
       "2          0  2729103521  1.336608e+15  2.100434e+15  0.663623  0.000010   \n",
       "3          0  2729103521  1.387152e+15  2.100434e+15  0.693133  0.000010   \n",
       "4          0  2729103521  1.437696e+15  2.100434e+15  0.718556  0.000010   \n",
       "5          0  2729103521  1.488240e+15  2.100434e+15  0.740688  0.000010   \n",
       "6          0  2729103521  1.514008e+15  1.966980e+15 -0.707127  0.000010   \n",
       "7          0  2729103521  1.488240e+15  1.966980e+15 -0.694668  0.000010   \n",
       "8          0  2729103521  1.437696e+15  1.966980e+15 -0.667490  0.000010   \n",
       "9          0  2729103521  1.387152e+15  1.966980e+15 -0.635925  0.000010   \n",
       "10         0  2729103521  1.387113e+15  2.093418e+15  0.868696  0.000010   \n",
       "11         0  2729103521  1.387152e+15  2.093418e+15  0.868704  0.000010   \n",
       "12         0  2729103521  1.437696e+15  2.093418e+15  0.878405  0.000010   \n",
       "13         0  2729103521  1.488240e+15  2.093418e+15  0.887043  0.000010   \n",
       "14         0  2729103521  1.538784e+15  2.093418e+15  0.894773  0.000010   \n",
       "15         0  2729103521  1.589328e+15  2.093418e+15  0.901720  0.000010   \n",
       "16         0  2729103521  1.639872e+15  2.093418e+15  0.907988  0.000010   \n",
       "17         0  2729103521  1.690416e+15  2.093418e+15  0.913665  0.000010   \n",
       "18         0  2729103521  1.709334e+15  2.754770e+15  0.357089  0.000010   \n",
       "19         0  2729103521  1.726723e+15  3.040742e+15  0.224209  0.000010   \n",
       "20         0  2729103521  1.740960e+15  3.040742e+15  0.256398  0.000010   \n",
       "21         0  2729103521  1.752721e+15  1.680385e+15  0.226400  0.000010   \n",
       "22         0  2729103521  1.764487e+15  1.669485e+15  0.129774  0.000010   \n",
       "23         0  2729103521  1.791504e+15  1.669485e+15  0.215107  0.000010   \n",
       "24         0  2729103521  1.793179e+15  1.575386e+15 -0.889332  0.000009   \n",
       "25         0  2729103521  1.791504e+15  1.575386e+15 -0.889112  0.000009   \n",
       "26         0  2729103521  1.740960e+15  1.575386e+15 -0.882145  0.000009   \n",
       "27         0  2729103521  1.690416e+15  1.575386e+15 -0.874481  0.000009   \n",
       "28         0  2729103521  1.639872e+15  1.575386e+15 -0.866019  0.000009   \n",
       "29         0  2729103521  1.589328e+15  1.575386e+15 -0.856642  0.000009   \n",
       "30         0  2729103521  1.538784e+15  1.575386e+15 -0.846205  0.000009   \n",
       "31         0  2729103521  1.488240e+15  1.575386e+15 -0.834535  0.000009   \n",
       "32         0  2729103521  1.439546e+15  1.610949e+15 -0.287407  0.000009   \n",
       "33         0  2729103521  1.437696e+15  1.610949e+15 -0.283268  0.000009   \n",
       "34         0  2729103521  1.419306e+15  2.160489e+15  0.495893  0.000010   \n",
       "35         0  2729103521  1.437696e+15  2.160489e+15  0.514857  0.000010   \n",
       "36         0  2729103521  1.488240e+15  2.160489e+15  0.560490  0.000010   \n",
       "37         0  2729103521  1.513523e+15  1.212817e+15  0.618740  0.000010   \n",
       "38         0  2729103521  1.538784e+15  1.212817e+15  0.634772  0.000010   \n",
       "39         0  2729103521  1.589328e+15  1.212817e+15  0.663557  0.000010   \n",
       "40         0  2729103521  1.639872e+15  1.212817e+15  0.688678  0.000010   \n",
       "41         0  2729103521  1.690416e+15  1.212817e+15  0.710807  0.000010   \n",
       "42         0  2729103521  1.740960e+15  1.212817e+15  0.730450  0.000010   \n",
       "43         0  2729103521  1.791504e+15  1.212817e+15  0.748001  0.000010   \n",
       "44         0  2729103521  1.842048e+15  1.212817e+15  0.763771  0.000010   \n",
       "45         0  2729103521  1.892592e+15  1.212817e+15  0.778013  0.000010   \n",
       "46         0  2729103521  1.943136e+15  1.212817e+15  0.790930  0.000010   \n",
       "47         0  2729103521  1.993680e+15  1.212817e+15  0.802692  0.000010   \n",
       "48         0  2729103521  2.044224e+15  1.212817e+15  0.813441  0.000010   \n",
       "49         0  2729103521  2.094768e+15  1.212817e+15  0.823295  0.000010   \n",
       "50         0  2729103521  2.145312e+15  1.212817e+15  0.832357  0.000010   \n",
       "51         0  2729103521  2.195856e+15  1.212817e+15  0.840712  0.000010   \n",
       "52         1  2729103521  2.246400e+15  1.212817e+15  0.848435  0.000010   \n",
       "\n",
       "      shell_id  \n",
       "step            \n",
       "0            0  \n",
       "1            1  \n",
       "2            2  \n",
       "3            3  \n",
       "4            4  \n",
       "5            5  \n",
       "6            5  \n",
       "7            4  \n",
       "8            3  \n",
       "9            2  \n",
       "10           2  \n",
       "11           3  \n",
       "12           4  \n",
       "13           5  \n",
       "14           6  \n",
       "15           7  \n",
       "16           8  \n",
       "17           9  \n",
       "18           9  \n",
       "19           9  \n",
       "20          10  \n",
       "21          10  \n",
       "22          10  \n",
       "23          11  \n",
       "24          11  \n",
       "25          10  \n",
       "26           9  \n",
       "27           8  \n",
       "28           7  \n",
       "29           6  \n",
       "30           5  \n",
       "31           4  \n",
       "32           4  \n",
       "33           3  \n",
       "34           3  \n",
       "35           4  \n",
       "36           5  \n",
       "37           5  \n",
       "38           6  \n",
       "39           7  \n",
       "40           8  \n",
       "41           9  \n",
       "42          10  \n",
       "43          11  \n",
       "44          12  \n",
       "45          13  \n",
       "46          14  \n",
       "47          15  \n",
       "48          16  \n",
       "49          17  \n",
       "50          18  \n",
       "51          19  \n",
       "52          19  "
      ]
     },
     "execution_count": 16,
     "metadata": {},
     "output_type": "execute_result"
    }
   ],
   "source": [
    "sim.runner.rpacket_tracker_df.loc[10]"
   ]
  },
  {
   "cell_type": "markdown",
   "id": "75d86f95",
   "metadata": {},
   "source": [
    "#### Accessing the `energy` property for the packet with index = 10:\n"
   ]
  },
  {
   "cell_type": "code",
   "execution_count": 17,
   "id": "2c84adb1",
   "metadata": {
    "execution": {
     "iopub.execute_input": "2022-08-03T15:02:46.318223Z",
     "iopub.status.busy": "2022-08-03T15:02:46.317970Z",
     "iopub.status.idle": "2022-08-03T15:02:46.329883Z",
     "shell.execute_reply": "2022-08-03T15:02:46.329166Z"
    }
   },
   "outputs": [
    {
     "data": {
      "text/plain": [
       "step\n",
       "0     0.000010\n",
       "1     0.000010\n",
       "2     0.000010\n",
       "3     0.000010\n",
       "4     0.000010\n",
       "5     0.000010\n",
       "6     0.000010\n",
       "7     0.000010\n",
       "8     0.000010\n",
       "9     0.000010\n",
       "10    0.000010\n",
       "11    0.000010\n",
       "12    0.000010\n",
       "13    0.000010\n",
       "14    0.000010\n",
       "15    0.000010\n",
       "16    0.000010\n",
       "17    0.000010\n",
       "18    0.000010\n",
       "19    0.000010\n",
       "20    0.000010\n",
       "21    0.000010\n",
       "22    0.000010\n",
       "23    0.000010\n",
       "24    0.000009\n",
       "25    0.000009\n",
       "26    0.000009\n",
       "27    0.000009\n",
       "28    0.000009\n",
       "29    0.000009\n",
       "30    0.000009\n",
       "31    0.000009\n",
       "32    0.000009\n",
       "33    0.000009\n",
       "34    0.000010\n",
       "35    0.000010\n",
       "36    0.000010\n",
       "37    0.000010\n",
       "38    0.000010\n",
       "39    0.000010\n",
       "40    0.000010\n",
       "41    0.000010\n",
       "42    0.000010\n",
       "43    0.000010\n",
       "44    0.000010\n",
       "45    0.000010\n",
       "46    0.000010\n",
       "47    0.000010\n",
       "48    0.000010\n",
       "49    0.000010\n",
       "50    0.000010\n",
       "51    0.000010\n",
       "52    0.000010\n",
       "Name: energy, dtype: float64"
      ]
     },
     "execution_count": 17,
     "metadata": {},
     "output_type": "execute_result"
    }
   ],
   "source": [
    "sim.runner.rpacket_tracker_df.loc[10][\"energy\"]"
   ]
  },
  {
   "cell_type": "markdown",
   "id": "1beffb1f",
   "metadata": {},
   "source": [
    "The above command returns a Pandas Series for the packet `#10` across different steps. To access any property at a particular step (for example at step `5`), the following commands can be used."
   ]
  },
  {
   "cell_type": "code",
   "execution_count": 18,
   "id": "1d7f0bb4",
   "metadata": {
    "execution": {
     "iopub.execute_input": "2022-08-03T15:02:46.333279Z",
     "iopub.status.busy": "2022-08-03T15:02:46.332801Z",
     "iopub.status.idle": "2022-08-03T15:02:46.621993Z",
     "shell.execute_reply": "2022-08-03T15:02:46.621216Z"
    }
   },
   "outputs": [
    {
     "data": {
      "text/plain": [
       "1.0220289382469194e-05"
      ]
     },
     "execution_count": 18,
     "metadata": {},
     "output_type": "execute_result"
    }
   ],
   "source": [
    "sim.runner.rpacket_tracker_df.loc[10,5][\"energy\"]"
   ]
  },
  {
   "cell_type": "code",
   "execution_count": 19,
   "id": "1cf17109",
   "metadata": {
    "execution": {
     "iopub.execute_input": "2022-08-03T15:02:46.625358Z",
     "iopub.status.busy": "2022-08-03T15:02:46.624873Z",
     "iopub.status.idle": "2022-08-03T15:02:46.635710Z",
     "shell.execute_reply": "2022-08-03T15:02:46.635015Z"
    }
   },
   "outputs": [
    {
     "data": {
      "text/plain": [
       "1.0220289382469194e-05"
      ]
     },
     "execution_count": 19,
     "metadata": {},
     "output_type": "execute_result"
    }
   ],
   "source": [
    "sim.runner.rpacket_tracker_df.loc[10][\"energy\"][5]"
   ]
  },
  {
   "cell_type": "markdown",
   "id": "6921f480",
   "metadata": {},
   "source": [
    "Thus, all other properties (`status`, `seed`, `r`, `nu`, `mu`, `shell_id`) can be accessed accordingly."
   ]
  }
 ],
 "metadata": {
  "kernelspec": {
   "display_name": "Python 3 (ipykernel)",
   "language": "python",
   "name": "python3"
  },
  "language_info": {
   "codemirror_mode": {
    "name": "ipython",
    "version": 3
   },
   "file_extension": ".py",
   "mimetype": "text/x-python",
   "name": "python",
   "nbconvert_exporter": "python",
   "pygments_lexer": "ipython3",
   "version": "3.8.13"
  },
  "vscode": {
   "interpreter": {
    "hash": "6890d83cfa6c65bebc4bd449872c06a268510d8b8ae8c923ce6786e6c4796836"
   }
  },
  "widgets": {
   "application/vnd.jupyter.widget-state+json": {
    "state": {
     "032e5af72eee4de79405a8fd23f844b7": {
      "model_module": "@jupyter-widgets/controls",
      "model_module_version": "1.5.0",
      "model_name": "HTMLModel",
      "state": {
       "_dom_classes": [],
       "_model_module": "@jupyter-widgets/controls",
       "_model_module_version": "1.5.0",
       "_model_name": "HTMLModel",
       "_view_count": null,
       "_view_module": "@jupyter-widgets/controls",
       "_view_module_version": "1.5.0",
       "_view_name": "HTMLView",
       "description": "",
       "description_tooltip": null,
       "layout": "IPY_MODEL_9b036c22171341c585f3a22230076019",
       "placeholder": "​",
       "style": "IPY_MODEL_3ace0dffe15240c6aafd726fb8a81884",
       "value": "Packets:   "
      }
     },
     "0e90a7e58c95436bb4428324f75b4100": {
      "model_module": "@jupyter-widgets/base",
      "model_module_version": "1.2.0",
      "model_name": "LayoutModel",
      "state": {
       "_model_module": "@jupyter-widgets/base",
       "_model_module_version": "1.2.0",
       "_model_name": "LayoutModel",
       "_view_count": null,
       "_view_module": "@jupyter-widgets/base",
       "_view_module_version": "1.2.0",
       "_view_name": "LayoutView",
       "align_content": null,
       "align_items": null,
       "align_self": null,
       "border": null,
       "bottom": null,
       "display": null,
       "flex": null,
       "flex_flow": null,
       "grid_area": null,
       "grid_auto_columns": null,
       "grid_auto_flow": null,
       "grid_auto_rows": null,
       "grid_column": null,
       "grid_gap": null,
       "grid_row": null,
       "grid_template_areas": null,
       "grid_template_columns": null,
       "grid_template_rows": null,
       "height": null,
       "justify_content": null,
       "justify_items": null,
       "left": null,
       "margin": null,
       "max_height": null,
       "max_width": null,
       "min_height": null,
       "min_width": null,
       "object_fit": null,
       "object_position": null,
       "order": null,
       "overflow": null,
       "overflow_x": null,
       "overflow_y": null,
       "padding": null,
       "right": null,
       "top": null,
       "visibility": null,
       "width": "20px"
      }
     },
     "3ace0dffe15240c6aafd726fb8a81884": {
      "model_module": "@jupyter-widgets/controls",
      "model_module_version": "1.5.0",
      "model_name": "DescriptionStyleModel",
      "state": {
       "_model_module": "@jupyter-widgets/controls",
       "_model_module_version": "1.5.0",
       "_model_name": "DescriptionStyleModel",
       "_view_count": null,
       "_view_module": "@jupyter-widgets/base",
       "_view_module_version": "1.2.0",
       "_view_name": "StyleView",
       "description_width": ""
      }
     },
     "3cc6b4815dfe4404a22c3fa464cfb27e": {
      "model_module": "@jupyter-widgets/controls",
      "model_module_version": "1.5.0",
      "model_name": "HBoxModel",
      "state": {
       "_dom_classes": [],
       "_model_module": "@jupyter-widgets/controls",
       "_model_module_version": "1.5.0",
       "_model_name": "HBoxModel",
       "_view_count": null,
       "_view_module": "@jupyter-widgets/controls",
       "_view_module_version": "1.5.0",
       "_view_name": "HBoxView",
       "box_style": "",
       "children": [
        "IPY_MODEL_f84185c7c2bf4d72b49562b482b8800b",
        "IPY_MODEL_df9b16a6a0164114a5b999407b766172",
        "IPY_MODEL_9983fdc096c04ccd91d199c8117f0270"
       ],
       "layout": "IPY_MODEL_57e65f25c2884ce9b63f7d97292d900f"
      }
     },
     "3db2ef093ca2418596a9bca561e8e975": {
      "model_module": "@jupyter-widgets/base",
      "model_module_version": "1.2.0",
      "model_name": "LayoutModel",
      "state": {
       "_model_module": "@jupyter-widgets/base",
       "_model_module_version": "1.2.0",
       "_model_name": "LayoutModel",
       "_view_count": null,
       "_view_module": "@jupyter-widgets/base",
       "_view_module_version": "1.2.0",
       "_view_name": "LayoutView",
       "align_content": null,
       "align_items": null,
       "align_self": null,
       "border": null,
       "bottom": null,
       "display": null,
       "flex": null,
       "flex_flow": null,
       "grid_area": null,
       "grid_auto_columns": null,
       "grid_auto_flow": null,
       "grid_auto_rows": null,
       "grid_column": null,
       "grid_gap": null,
       "grid_row": null,
       "grid_template_areas": null,
       "grid_template_columns": null,
       "grid_template_rows": null,
       "height": null,
       "justify_content": null,
       "justify_items": null,
       "left": null,
       "margin": null,
       "max_height": null,
       "max_width": null,
       "min_height": null,
       "min_width": null,
       "object_fit": null,
       "object_position": null,
       "order": null,
       "overflow": null,
       "overflow_x": null,
       "overflow_y": null,
       "padding": null,
       "right": null,
       "top": null,
       "visibility": null,
       "width": null
      }
     },
     "4b49b2c26b9a40c2aac8599a6871251e": {
      "model_module": "@jupyter-widgets/controls",
      "model_module_version": "1.5.0",
      "model_name": "DescriptionStyleModel",
      "state": {
       "_model_module": "@jupyter-widgets/controls",
       "_model_module_version": "1.5.0",
       "_model_name": "DescriptionStyleModel",
       "_view_count": null,
       "_view_module": "@jupyter-widgets/base",
       "_view_module_version": "1.2.0",
       "_view_name": "StyleView",
       "description_width": ""
      }
     },
     "53d526202e404e83a993963f2a98d11d": {
      "model_module": "@jupyter-widgets/output",
      "model_module_version": "1.0.0",
      "model_name": "OutputModel",
      "state": {
       "_dom_classes": [],
       "_model_module": "@jupyter-widgets/output",
       "_model_module_version": "1.0.0",
       "_model_name": "OutputModel",
       "_view_count": null,
       "_view_module": "@jupyter-widgets/output",
       "_view_module_version": "1.0.0",
       "_view_name": "OutputView",
       "layout": "IPY_MODEL_ed5b06c7ac4847a0adb34f2b029e82cd",
       "msg_id": "",
       "outputs": []
      }
     },
     "57e65f25c2884ce9b63f7d97292d900f": {
      "model_module": "@jupyter-widgets/base",
      "model_module_version": "1.2.0",
      "model_name": "LayoutModel",
      "state": {
       "_model_module": "@jupyter-widgets/base",
       "_model_module_version": "1.2.0",
       "_model_name": "LayoutModel",
       "_view_count": null,
       "_view_module": "@jupyter-widgets/base",
       "_view_module_version": "1.2.0",
       "_view_name": "LayoutView",
       "align_content": null,
       "align_items": null,
       "align_self": null,
       "border": null,
       "bottom": null,
       "display": null,
       "flex": null,
       "flex_flow": null,
       "grid_area": null,
       "grid_auto_columns": null,
       "grid_auto_flow": null,
       "grid_auto_rows": null,
       "grid_column": null,
       "grid_gap": null,
       "grid_row": null,
       "grid_template_areas": null,
       "grid_template_columns": null,
       "grid_template_rows": null,
       "height": null,
       "justify_content": null,
       "justify_items": null,
       "left": null,
       "margin": null,
       "max_height": null,
       "max_width": null,
       "min_height": null,
       "min_width": null,
       "object_fit": null,
       "object_position": null,
       "order": null,
       "overflow": null,
       "overflow_x": null,
       "overflow_y": null,
       "padding": null,
       "right": null,
       "top": null,
       "visibility": null,
       "width": null
      }
     },
     "68a241aae02d4872888457e9292bbafa": {
      "model_module": "@jupyter-widgets/output",
      "model_module_version": "1.0.0",
      "model_name": "OutputModel",
      "state": {
       "_dom_classes": [],
       "_model_module": "@jupyter-widgets/output",
       "_model_module_version": "1.0.0",
       "_model_name": "OutputModel",
       "_view_count": null,
       "_view_module": "@jupyter-widgets/output",
       "_view_module_version": "1.0.0",
       "_view_name": "OutputView",
       "layout": "IPY_MODEL_3db2ef093ca2418596a9bca561e8e975",
       "msg_id": "",
       "outputs": []
      }
     },
     "77b92d3b75f34ce19bed45ca2df5e3a8": {
      "model_module": "@jupyter-widgets/base",
      "model_module_version": "1.2.0",
      "model_name": "LayoutModel",
      "state": {
       "_model_module": "@jupyter-widgets/base",
       "_model_module_version": "1.2.0",
       "_model_name": "LayoutModel",
       "_view_count": null,
       "_view_module": "@jupyter-widgets/base",
       "_view_module_version": "1.2.0",
       "_view_name": "LayoutView",
       "align_content": null,
       "align_items": null,
       "align_self": null,
       "border": null,
       "bottom": null,
       "display": null,
       "flex": null,
       "flex_flow": null,
       "grid_area": null,
       "grid_auto_columns": null,
       "grid_auto_flow": null,
       "grid_auto_rows": null,
       "grid_column": null,
       "grid_gap": null,
       "grid_row": null,
       "grid_template_areas": null,
       "grid_template_columns": null,
       "grid_template_rows": null,
       "height": null,
       "justify_content": null,
       "justify_items": null,
       "left": null,
       "margin": null,
       "max_height": null,
       "max_width": null,
       "min_height": null,
       "min_width": null,
       "object_fit": null,
       "object_position": null,
       "order": null,
       "overflow": null,
       "overflow_x": null,
       "overflow_y": null,
       "padding": null,
       "right": null,
       "top": null,
       "visibility": null,
       "width": null
      }
     },
     "7fa321f34fae4a57a07e9cbf25bba45c": {
      "model_module": "@jupyter-widgets/controls",
      "model_module_version": "1.5.0",
      "model_name": "DescriptionStyleModel",
      "state": {
       "_model_module": "@jupyter-widgets/controls",
       "_model_module_version": "1.5.0",
       "_model_name": "DescriptionStyleModel",
       "_view_count": null,
       "_view_module": "@jupyter-widgets/base",
       "_view_module_version": "1.2.0",
       "_view_name": "StyleView",
       "description_width": ""
      }
     },
     "838780893178496db44a9c2ccc24af54": {
      "model_module": "@jupyter-widgets/base",
      "model_module_version": "1.2.0",
      "model_name": "LayoutModel",
      "state": {
       "_model_module": "@jupyter-widgets/base",
       "_model_module_version": "1.2.0",
       "_model_name": "LayoutModel",
       "_view_count": null,
       "_view_module": "@jupyter-widgets/base",
       "_view_module_version": "1.2.0",
       "_view_name": "LayoutView",
       "align_content": null,
       "align_items": null,
       "align_self": null,
       "border": null,
       "bottom": null,
       "display": null,
       "flex": null,
       "flex_flow": null,
       "grid_area": null,
       "grid_auto_columns": null,
       "grid_auto_flow": null,
       "grid_auto_rows": null,
       "grid_column": null,
       "grid_gap": null,
       "grid_row": null,
       "grid_template_areas": null,
       "grid_template_columns": null,
       "grid_template_rows": null,
       "height": null,
       "justify_content": null,
       "justify_items": null,
       "left": null,
       "margin": null,
       "max_height": null,
       "max_width": null,
       "min_height": null,
       "min_width": null,
       "object_fit": null,
       "object_position": null,
       "order": null,
       "overflow": null,
       "overflow_x": null,
       "overflow_y": null,
       "padding": null,
       "right": null,
       "top": null,
       "visibility": null,
       "width": null
      }
     },
     "8edb27421c88457896a27b2d8ce63568": {
      "model_module": "@jupyter-widgets/base",
      "model_module_version": "1.2.0",
      "model_name": "LayoutModel",
      "state": {
       "_model_module": "@jupyter-widgets/base",
       "_model_module_version": "1.2.0",
       "_model_name": "LayoutModel",
       "_view_count": null,
       "_view_module": "@jupyter-widgets/base",
       "_view_module_version": "1.2.0",
       "_view_name": "LayoutView",
       "align_content": null,
       "align_items": null,
       "align_self": null,
       "border": null,
       "bottom": null,
       "display": null,
       "flex": null,
       "flex_flow": null,
       "grid_area": null,
       "grid_auto_columns": null,
       "grid_auto_flow": null,
       "grid_auto_rows": null,
       "grid_column": null,
       "grid_gap": null,
       "grid_row": null,
       "grid_template_areas": null,
       "grid_template_columns": null,
       "grid_template_rows": null,
       "height": null,
       "justify_content": null,
       "justify_items": null,
       "left": null,
       "margin": null,
       "max_height": null,
       "max_width": null,
       "min_height": null,
       "min_width": null,
       "object_fit": null,
       "object_position": null,
       "order": null,
       "overflow": null,
       "overflow_x": null,
       "overflow_y": null,
       "padding": null,
       "right": null,
       "top": null,
       "visibility": null,
       "width": "20px"
      }
     },
     "919875d7185c4de69574738b93433ec3": {
      "model_module": "@jupyter-widgets/controls",
      "model_module_version": "1.5.0",
      "model_name": "DescriptionStyleModel",
      "state": {
       "_model_module": "@jupyter-widgets/controls",
       "_model_module_version": "1.5.0",
       "_model_name": "DescriptionStyleModel",
       "_view_count": null,
       "_view_module": "@jupyter-widgets/base",
       "_view_module_version": "1.2.0",
       "_view_name": "StyleView",
       "description_width": ""
      }
     },
     "96cbc150b4bb4eee86fd232f950d9931": {
      "model_module": "@jupyter-widgets/base",
      "model_module_version": "1.2.0",
      "model_name": "LayoutModel",
      "state": {
       "_model_module": "@jupyter-widgets/base",
       "_model_module_version": "1.2.0",
       "_model_name": "LayoutModel",
       "_view_count": null,
       "_view_module": "@jupyter-widgets/base",
       "_view_module_version": "1.2.0",
       "_view_name": "LayoutView",
       "align_content": null,
       "align_items": null,
       "align_self": null,
       "border": null,
       "bottom": null,
       "display": null,
       "flex": null,
       "flex_flow": null,
       "grid_area": null,
       "grid_auto_columns": null,
       "grid_auto_flow": null,
       "grid_auto_rows": null,
       "grid_column": null,
       "grid_gap": null,
       "grid_row": null,
       "grid_template_areas": null,
       "grid_template_columns": null,
       "grid_template_rows": null,
       "height": null,
       "justify_content": null,
       "justify_items": null,
       "left": null,
       "margin": null,
       "max_height": null,
       "max_width": null,
       "min_height": null,
       "min_width": null,
       "object_fit": null,
       "object_position": null,
       "order": null,
       "overflow": null,
       "overflow_x": null,
       "overflow_y": null,
       "padding": null,
       "right": null,
       "top": null,
       "visibility": null,
       "width": null
      }
     },
     "9983fdc096c04ccd91d199c8117f0270": {
      "model_module": "@jupyter-widgets/controls",
      "model_module_version": "1.5.0",
      "model_name": "HTMLModel",
      "state": {
       "_dom_classes": [],
       "_model_module": "@jupyter-widgets/controls",
       "_model_module_version": "1.5.0",
       "_model_name": "HTMLModel",
       "_view_count": null,
       "_view_module": "@jupyter-widgets/controls",
       "_view_module_version": "1.5.0",
       "_view_name": "HTMLView",
       "description": "",
       "description_tooltip": null,
       "layout": "IPY_MODEL_77b92d3b75f34ce19bed45ca2df5e3a8",
       "placeholder": "​",
       "style": "IPY_MODEL_4b49b2c26b9a40c2aac8599a6871251e",
       "value": "20/? [00:56&lt;00:00,  2.98s/it]"
      }
     },
     "9b036c22171341c585f3a22230076019": {
      "model_module": "@jupyter-widgets/base",
      "model_module_version": "1.2.0",
      "model_name": "LayoutModel",
      "state": {
       "_model_module": "@jupyter-widgets/base",
       "_model_module_version": "1.2.0",
       "_model_name": "LayoutModel",
       "_view_count": null,
       "_view_module": "@jupyter-widgets/base",
       "_view_module_version": "1.2.0",
       "_view_name": "LayoutView",
       "align_content": null,
       "align_items": null,
       "align_self": null,
       "border": null,
       "bottom": null,
       "display": null,
       "flex": null,
       "flex_flow": null,
       "grid_area": null,
       "grid_auto_columns": null,
       "grid_auto_flow": null,
       "grid_auto_rows": null,
       "grid_column": null,
       "grid_gap": null,
       "grid_row": null,
       "grid_template_areas": null,
       "grid_template_columns": null,
       "grid_template_rows": null,
       "height": null,
       "justify_content": null,
       "justify_items": null,
       "left": null,
       "margin": null,
       "max_height": null,
       "max_width": null,
       "min_height": null,
       "min_width": null,
       "object_fit": null,
       "object_position": null,
       "order": null,
       "overflow": null,
       "overflow_x": null,
       "overflow_y": null,
       "padding": null,
       "right": null,
       "top": null,
       "visibility": null,
       "width": null
      }
     },
     "b0a1ee3534b94c1e8decb4dc75004449": {
      "model_module": "@jupyter-widgets/controls",
      "model_module_version": "1.5.0",
      "model_name": "FloatProgressModel",
      "state": {
       "_dom_classes": [],
       "_model_module": "@jupyter-widgets/controls",
       "_model_module_version": "1.5.0",
       "_model_name": "FloatProgressModel",
       "_view_count": null,
       "_view_module": "@jupyter-widgets/controls",
       "_view_module_version": "1.5.0",
       "_view_name": "ProgressView",
       "bar_style": "info",
       "description": "",
       "description_tooltip": null,
       "layout": "IPY_MODEL_0e90a7e58c95436bb4428324f75b4100",
       "max": 1.0,
       "min": 0.0,
       "orientation": "horizontal",
       "style": "IPY_MODEL_ea5679e3bd5f47b490a0d25a589181df",
       "value": 0.0
      }
     },
     "b6203e021f9643dbbbc4eb760ed23ab8": {
      "model_module": "@jupyter-widgets/controls",
      "model_module_version": "1.5.0",
      "model_name": "HTMLModel",
      "state": {
       "_dom_classes": [],
       "_model_module": "@jupyter-widgets/controls",
       "_model_module_version": "1.5.0",
       "_model_name": "HTMLModel",
       "_view_count": null,
       "_view_module": "@jupyter-widgets/controls",
       "_view_module_version": "1.5.0",
       "_view_name": "HTMLView",
       "description": "",
       "description_tooltip": null,
       "layout": "IPY_MODEL_96cbc150b4bb4eee86fd232f950d9931",
       "placeholder": "​",
       "style": "IPY_MODEL_7fa321f34fae4a57a07e9cbf25bba45c",
       "value": "0/? [00:00&lt;?, ?it/s]"
      }
     },
     "b93f2c480f4342989b564eea498dfc2f": {
      "model_module": "@jupyter-widgets/controls",
      "model_module_version": "1.5.0",
      "model_name": "HBoxModel",
      "state": {
       "_dom_classes": [],
       "_model_module": "@jupyter-widgets/controls",
       "_model_module_version": "1.5.0",
       "_model_name": "HBoxModel",
       "_view_count": null,
       "_view_module": "@jupyter-widgets/controls",
       "_view_module_version": "1.5.0",
       "_view_name": "HBoxView",
       "box_style": "",
       "children": [
        "IPY_MODEL_032e5af72eee4de79405a8fd23f844b7",
        "IPY_MODEL_b0a1ee3534b94c1e8decb4dc75004449",
        "IPY_MODEL_b6203e021f9643dbbbc4eb760ed23ab8"
       ],
       "layout": "IPY_MODEL_f79dbf3c74904170a652e8618a6c4dbf"
      }
     },
     "df9b16a6a0164114a5b999407b766172": {
      "model_module": "@jupyter-widgets/controls",
      "model_module_version": "1.5.0",
      "model_name": "FloatProgressModel",
      "state": {
       "_dom_classes": [],
       "_model_module": "@jupyter-widgets/controls",
       "_model_module_version": "1.5.0",
       "_model_name": "FloatProgressModel",
       "_view_count": null,
       "_view_module": "@jupyter-widgets/controls",
       "_view_module_version": "1.5.0",
       "_view_name": "ProgressView",
       "bar_style": "info",
       "description": "",
       "description_tooltip": null,
       "layout": "IPY_MODEL_8edb27421c88457896a27b2d8ce63568",
       "max": 1.0,
       "min": 0.0,
       "orientation": "horizontal",
       "style": "IPY_MODEL_feb7bd01ac4745208f03fab09999c78b",
       "value": 1.0
      }
     },
     "ea5679e3bd5f47b490a0d25a589181df": {
      "model_module": "@jupyter-widgets/controls",
      "model_module_version": "1.5.0",
      "model_name": "ProgressStyleModel",
      "state": {
       "_model_module": "@jupyter-widgets/controls",
       "_model_module_version": "1.5.0",
       "_model_name": "ProgressStyleModel",
       "_view_count": null,
       "_view_module": "@jupyter-widgets/base",
       "_view_module_version": "1.2.0",
       "_view_name": "StyleView",
       "bar_color": null,
       "description_width": ""
      }
     },
     "ed5b06c7ac4847a0adb34f2b029e82cd": {
      "model_module": "@jupyter-widgets/base",
      "model_module_version": "1.2.0",
      "model_name": "LayoutModel",
      "state": {
       "_model_module": "@jupyter-widgets/base",
       "_model_module_version": "1.2.0",
       "_model_name": "LayoutModel",
       "_view_count": null,
       "_view_module": "@jupyter-widgets/base",
       "_view_module_version": "1.2.0",
       "_view_name": "LayoutView",
       "align_content": null,
       "align_items": null,
       "align_self": null,
       "border": null,
       "bottom": null,
       "display": null,
       "flex": null,
       "flex_flow": null,
       "grid_area": null,
       "grid_auto_columns": null,
       "grid_auto_flow": null,
       "grid_auto_rows": null,
       "grid_column": null,
       "grid_gap": null,
       "grid_row": null,
       "grid_template_areas": null,
       "grid_template_columns": null,
       "grid_template_rows": null,
       "height": null,
       "justify_content": null,
       "justify_items": null,
       "left": null,
       "margin": null,
       "max_height": null,
       "max_width": null,
       "min_height": null,
       "min_width": null,
       "object_fit": null,
       "object_position": null,
       "order": null,
       "overflow": null,
       "overflow_x": null,
       "overflow_y": null,
       "padding": null,
       "right": null,
       "top": null,
       "visibility": null,
       "width": null
      }
     },
     "f79dbf3c74904170a652e8618a6c4dbf": {
      "model_module": "@jupyter-widgets/base",
      "model_module_version": "1.2.0",
      "model_name": "LayoutModel",
      "state": {
       "_model_module": "@jupyter-widgets/base",
       "_model_module_version": "1.2.0",
       "_model_name": "LayoutModel",
       "_view_count": null,
       "_view_module": "@jupyter-widgets/base",
       "_view_module_version": "1.2.0",
       "_view_name": "LayoutView",
       "align_content": null,
       "align_items": null,
       "align_self": null,
       "border": null,
       "bottom": null,
       "display": null,
       "flex": null,
       "flex_flow": null,
       "grid_area": null,
       "grid_auto_columns": null,
       "grid_auto_flow": null,
       "grid_auto_rows": null,
       "grid_column": null,
       "grid_gap": null,
       "grid_row": null,
       "grid_template_areas": null,
       "grid_template_columns": null,
       "grid_template_rows": null,
       "height": null,
       "justify_content": null,
       "justify_items": null,
       "left": null,
       "margin": null,
       "max_height": null,
       "max_width": null,
       "min_height": null,
       "min_width": null,
       "object_fit": null,
       "object_position": null,
       "order": null,
       "overflow": null,
       "overflow_x": null,
       "overflow_y": null,
       "padding": null,
       "right": null,
       "top": null,
       "visibility": null,
       "width": null
      }
     },
     "f84185c7c2bf4d72b49562b482b8800b": {
      "model_module": "@jupyter-widgets/controls",
      "model_module_version": "1.5.0",
      "model_name": "HTMLModel",
      "state": {
       "_dom_classes": [],
       "_model_module": "@jupyter-widgets/controls",
       "_model_module_version": "1.5.0",
       "_model_name": "HTMLModel",
       "_view_count": null,
       "_view_module": "@jupyter-widgets/controls",
       "_view_module_version": "1.5.0",
       "_view_name": "HTMLView",
       "description": "",
       "description_tooltip": null,
       "layout": "IPY_MODEL_838780893178496db44a9c2ccc24af54",
       "placeholder": "​",
       "style": "IPY_MODEL_919875d7185c4de69574738b93433ec3",
       "value": "Iterations:"
      }
     },
     "feb7bd01ac4745208f03fab09999c78b": {
      "model_module": "@jupyter-widgets/controls",
      "model_module_version": "1.5.0",
      "model_name": "ProgressStyleModel",
      "state": {
       "_model_module": "@jupyter-widgets/controls",
       "_model_module_version": "1.5.0",
       "_model_name": "ProgressStyleModel",
       "_view_count": null,
       "_view_module": "@jupyter-widgets/base",
       "_view_module_version": "1.2.0",
       "_view_name": "StyleView",
       "bar_color": null,
       "description_width": ""
      }
     }
    },
    "version_major": 2,
    "version_minor": 0
   }
  }
 },
 "nbformat": 4,
 "nbformat_minor": 5
}
