{
 "cells": [
  {
   "cell_type": "markdown",
   "metadata": {
    "raw_mimetype": "text/restructuredtext"
   },
   "source": [
    "# Accessing Physical Quantities"
   ]
  },
  {
   "cell_type": "markdown",
   "metadata": {},
   "source": [
    "In order to compute the synthetic spectrum, TARDIS must either be told\n",
    "or must calculate many physical properties of the model. To understand and\n",
    "test the code it can be important to look at these values. One\n",
    "easy way to do this is to run TARDIS in an interactive mode and then\n",
    "inspect the model properties."
   ]
  },
  {
   "cell_type": "markdown",
   "metadata": {},
   "source": [
    "### Runing in interactive Python session"
   ]
  },
  {
   "cell_type": "code",
   "execution_count": 1,
   "metadata": {
    "execution": {
     "iopub.execute_input": "2022-07-14T13:07:41.939062Z",
     "iopub.status.busy": "2022-07-14T13:07:41.938584Z",
     "iopub.status.idle": "2022-07-14T13:07:49.378071Z",
     "shell.execute_reply": "2022-07-14T13:07:49.376968Z"
    }
   },
   "outputs": [
    {
     "name": "stderr",
     "output_type": "stream",
     "text": [
      "/usr/share/miniconda3/envs/tardis/lib/python3.8/site-packages/setuptools_scm/git.py:135: UserWarning: \"/home/runner/work/tardis/tardis\" is shallow and may cause errors\n",
      "  warnings.warn(f'\"{wd.path}\" is shallow and may cause errors')\n"
     ]
    },
    {
     "data": {
      "application/vnd.jupyter.widget-view+json": {
       "model_id": "7dfa1c9677f845918be25a9dcfb11d90",
       "version_major": 2,
       "version_minor": 0
      },
      "text/plain": [
       "Iterations:          0/? [00:00<?, ?it/s]"
      ]
     },
     "metadata": {},
     "output_type": "display_data"
    },
    {
     "data": {
      "application/vnd.jupyter.widget-view+json": {
       "model_id": "f7066e5080cc41118f813950cb605bb6",
       "version_major": 2,
       "version_minor": 0
      },
      "text/plain": [
       "Packets:             0/? [00:00<?, ?it/s]"
      ]
     },
     "metadata": {},
     "output_type": "display_data"
    },
    {
     "name": "stdout",
     "output_type": "stream",
     "text": [
      "  % Total    % Received % Xferd  Average Speed   Time    Time     Time  Current\r\n",
      "                                 Dload  Upload   Total   Spent    Left  Speed\r\n",
      "\r",
      "  0     0    0     0    0     0      0      0 --:--:-- --:--:-- --:--:--     0"
     ]
    },
    {
     "name": "stdout",
     "output_type": "stream",
     "text": [
      "\r",
      "  0     0    0     0    0     0      0      0 --:--:-- --:--:-- --:--:--     0"
     ]
    },
    {
     "name": "stdout",
     "output_type": "stream",
     "text": [
      "\r",
      "100   980  100   980    0     0   5697      0 --:--:-- --:--:-- --:--:--  5664\r\n"
     ]
    }
   ],
   "source": [
    "# Download the atomic data\n",
    "from tardis.io.atom_data.util import download_atom_data\n",
    "download_atom_data('kurucz_cd23_chianti_H_He')\n",
    "\n",
    "# Download the example configuration file\n",
    "!curl -O https://raw.githubusercontent.com/tardis-sn/tardis/master/docs/tardis_example.yml"
   ]
  },
  {
   "cell_type": "code",
   "execution_count": 2,
   "metadata": {
    "execution": {
     "iopub.execute_input": "2022-07-14T13:07:49.381791Z",
     "iopub.status.busy": "2022-07-14T13:07:49.381466Z",
     "iopub.status.idle": "2022-07-14T13:08:36.211735Z",
     "shell.execute_reply": "2022-07-14T13:08:36.211118Z"
    }
   },
   "outputs": [
    {
     "name": "stdout",
     "output_type": "stream",
     "text": [
      "[\u001b[1mtardis.plasma.standard_plasmas\u001b[0m][\u001b[1;37mINFO\u001b[0m   ]  \n",
      "\t\n",
      "\tReading Atomic Data from kurucz_cd23_chianti_H_He.h5 (\u001b[1mstandard_plasmas.py\u001b[0m:93)\n"
     ]
    },
    {
     "name": "stdout",
     "output_type": "stream",
     "text": [
      "[\u001b[1mtardis.io.atom_data.util\u001b[0m][\u001b[1;37mINFO\u001b[0m   ]  \n",
      "\t\n",
      "\tAtom Data kurucz_cd23_chianti_H_He.h5 not found in local path.\n",
      "\tExists in TARDIS Data repo /home/runner/Downloads/tardis-data/kurucz_cd23_chianti_H_He.h5 (\u001b[1mutil.py\u001b[0m:33)\n"
     ]
    },
    {
     "name": "stdout",
     "output_type": "stream",
     "text": [
      "[\u001b[1mtardis.io.atom_data.base\u001b[0m][\u001b[1;37mINFO\u001b[0m   ]  \n",
      "\tReading Atom Data with: UUID = 6f7b09e887a311e7a06b246e96350010 MD5  = 864f1753714343c41f99cb065710cace  (\u001b[1mbase.py\u001b[0m:249)\n"
     ]
    },
    {
     "name": "stdout",
     "output_type": "stream",
     "text": [
      "[\u001b[1mtardis.io.atom_data.base\u001b[0m][\u001b[1;37mINFO\u001b[0m   ]  \n",
      "\tNon provided Atomic Data: synpp_refs, photoionization_data, yg_data, two_photon_data (\u001b[1mbase.py\u001b[0m:253)\n"
     ]
    },
    {
     "name": "stdout",
     "output_type": "stream",
     "text": [
      "[\u001b[1mpy.warnings         \u001b[0m][\u001b[1;33mWARNING\u001b[0m]  \n",
      "\t/home/runner/work/tardis/tardis/tardis/plasma/properties/radiative_properties.py:93: RuntimeWarning: invalid value encountered in true_divide\n",
      "  (g_lower * n_upper) / (g_upper * n_lower)\n",
      " (\u001b[1mwarnings.py\u001b[0m:109)\n"
     ]
    },
    {
     "name": "stdout",
     "output_type": "stream",
     "text": [
      "[\u001b[1mpy.warnings         \u001b[0m][\u001b[1;33mWARNING\u001b[0m]  \n",
      "\t/home/runner/work/tardis/tardis/tardis/plasma/properties/radiative_properties.py:93: RuntimeWarning: invalid value encountered in true_divide\n",
      "  (g_lower * n_upper) / (g_upper * n_lower)\n",
      " (\u001b[1mwarnings.py\u001b[0m:109)\n"
     ]
    },
    {
     "name": "stdout",
     "output_type": "stream",
     "text": [
      "[\u001b[1mtardis.simulation.base\u001b[0m][\u001b[1;37mINFO\u001b[0m   ]  \n",
      "\t\n",
      "\tStarting iteration 1 of 20 (\u001b[1mbase.py\u001b[0m:378)\n"
     ]
    },
    {
     "data": {
      "application/vnd.jupyter.widget-view+json": {
       "model_id": "9e812770a646441aaa06396884ad5f47",
       "version_major": 2,
       "version_minor": 0
      },
      "text/plain": [
       "TqdmHBox(children=(HTML(value='Iterations:', layout=Layout(width='6%')), FloatProgress(value=0.0, layout=Layou…"
      ]
     },
     "metadata": {},
     "output_type": "display_data"
    },
    {
     "data": {
      "application/vnd.jupyter.widget-view+json": {
       "model_id": "df9e9a0073ec4339bd8b9f772151a5fb",
       "version_major": 2,
       "version_minor": 0
      },
      "text/plain": [
       "TqdmHBox(children=(HTML(value='Packets:   ', layout=Layout(width='6%')), FloatProgress(value=0.0, layout=Layou…"
      ]
     },
     "metadata": {},
     "output_type": "display_data"
    },
    {
     "name": "stdout",
     "output_type": "stream",
     "text": [
      "[\u001b[1mtardis.simulation.base\u001b[0m][\u001b[1;37mINFO\u001b[0m   ]  \n",
      "\t\n",
      "\tLuminosity emitted   = 7.942e+42 erg / s\n",
      "\tLuminosity absorbed  = 2.659e+42 erg / s\n",
      "\tLuminosity requested = 1.059e+43 erg / s\n",
      " (\u001b[1mbase.py\u001b[0m:547)\n"
     ]
    },
    {
     "name": "stdout",
     "output_type": "stream",
     "text": [
      "[\u001b[1mtardis.simulation.base\u001b[0m][\u001b[1;37mINFO\u001b[0m   ]  \n",
      "\t\n",
      "\tPlasma stratification: (\u001b[1mbase.py\u001b[0m:515)\n"
     ]
    },
    {
     "data": {
      "text/html": [
       "<style  type=\"text/css\" >\n",
       "</style><table id=\"T_0643ba70_0376_11ed_8ccc_000d3a913487\" ><thead>    <tr>        <th class=\"index_name level0\" >Shell No.</th>        <th class=\"col_heading level0 col0\" >t_rad</th>        <th class=\"col_heading level0 col1\" >next_t_rad</th>        <th class=\"col_heading level0 col2\" >w</th>        <th class=\"col_heading level0 col3\" >next_w</th>    </tr></thead><tbody>\n",
       "                <tr>\n",
       "                        <th id=\"T_0643ba70_0376_11ed_8ccc_000d3a913487level0_row0\" class=\"row_heading level0 row0\" >0</th>\n",
       "                        <td id=\"T_0643ba70_0376_11ed_8ccc_000d3a913487row0_col0\" class=\"data row0 col0\" >9.93e+03</td>\n",
       "                        <td id=\"T_0643ba70_0376_11ed_8ccc_000d3a913487row0_col1\" class=\"data row0 col1\" >1.01e+04</td>\n",
       "                        <td id=\"T_0643ba70_0376_11ed_8ccc_000d3a913487row0_col2\" class=\"data row0 col2\" >0.4</td>\n",
       "                        <td id=\"T_0643ba70_0376_11ed_8ccc_000d3a913487row0_col3\" class=\"data row0 col3\" >0.507</td>\n",
       "            </tr>\n",
       "            <tr>\n",
       "                        <th id=\"T_0643ba70_0376_11ed_8ccc_000d3a913487level0_row1\" class=\"row_heading level0 row1\" >5</th>\n",
       "                        <td id=\"T_0643ba70_0376_11ed_8ccc_000d3a913487row1_col0\" class=\"data row1 col0\" >9.85e+03</td>\n",
       "                        <td id=\"T_0643ba70_0376_11ed_8ccc_000d3a913487row1_col1\" class=\"data row1 col1\" >1.02e+04</td>\n",
       "                        <td id=\"T_0643ba70_0376_11ed_8ccc_000d3a913487row1_col2\" class=\"data row1 col2\" >0.211</td>\n",
       "                        <td id=\"T_0643ba70_0376_11ed_8ccc_000d3a913487row1_col3\" class=\"data row1 col3\" >0.197</td>\n",
       "            </tr>\n",
       "            <tr>\n",
       "                        <th id=\"T_0643ba70_0376_11ed_8ccc_000d3a913487level0_row2\" class=\"row_heading level0 row2\" >10</th>\n",
       "                        <td id=\"T_0643ba70_0376_11ed_8ccc_000d3a913487row2_col0\" class=\"data row2 col0\" >9.78e+03</td>\n",
       "                        <td id=\"T_0643ba70_0376_11ed_8ccc_000d3a913487row2_col1\" class=\"data row2 col1\" >1.01e+04</td>\n",
       "                        <td id=\"T_0643ba70_0376_11ed_8ccc_000d3a913487row2_col2\" class=\"data row2 col2\" >0.143</td>\n",
       "                        <td id=\"T_0643ba70_0376_11ed_8ccc_000d3a913487row2_col3\" class=\"data row2 col3\" >0.117</td>\n",
       "            </tr>\n",
       "            <tr>\n",
       "                        <th id=\"T_0643ba70_0376_11ed_8ccc_000d3a913487level0_row3\" class=\"row_heading level0 row3\" >15</th>\n",
       "                        <td id=\"T_0643ba70_0376_11ed_8ccc_000d3a913487row3_col0\" class=\"data row3 col0\" >9.71e+03</td>\n",
       "                        <td id=\"T_0643ba70_0376_11ed_8ccc_000d3a913487row3_col1\" class=\"data row3 col1\" >9.87e+03</td>\n",
       "                        <td id=\"T_0643ba70_0376_11ed_8ccc_000d3a913487row3_col2\" class=\"data row3 col2\" >0.105</td>\n",
       "                        <td id=\"T_0643ba70_0376_11ed_8ccc_000d3a913487row3_col3\" class=\"data row3 col3\" >0.0869</td>\n",
       "            </tr>\n",
       "    </tbody></table>"
      ],
      "text/plain": [
       "<pandas.io.formats.style.Styler at 0x7f3d5c9c19a0>"
      ]
     },
     "metadata": {},
     "output_type": "display_data"
    },
    {
     "name": "stdout",
     "output_type": "stream",
     "text": [
      "[\u001b[1mtardis.simulation.base\u001b[0m][\u001b[1;37mINFO\u001b[0m   ]  \n",
      "\t\n",
      "\tCurrent t_inner = 9933.952 K\n",
      "\tExpected t_inner for next iteration = 10703.212 K\n",
      " (\u001b[1mbase.py\u001b[0m:542)\n"
     ]
    },
    {
     "name": "stdout",
     "output_type": "stream",
     "text": [
      "[\u001b[1mpy.warnings         \u001b[0m][\u001b[1;33mWARNING\u001b[0m]  \n",
      "\t/home/runner/work/tardis/tardis/tardis/plasma/properties/radiative_properties.py:93: RuntimeWarning: invalid value encountered in true_divide\n",
      "  (g_lower * n_upper) / (g_upper * n_lower)\n",
      " (\u001b[1mwarnings.py\u001b[0m:109)\n"
     ]
    },
    {
     "name": "stdout",
     "output_type": "stream",
     "text": [
      "[\u001b[1mtardis.simulation.base\u001b[0m][\u001b[1;37mINFO\u001b[0m   ]  \n",
      "\t\n",
      "\tStarting iteration 2 of 20 (\u001b[1mbase.py\u001b[0m:378)\n"
     ]
    },
    {
     "name": "stdout",
     "output_type": "stream",
     "text": [
      "[\u001b[1mtardis.simulation.base\u001b[0m][\u001b[1;37mINFO\u001b[0m   ]  \n",
      "\t\n",
      "\tLuminosity emitted   = 1.071e+43 erg / s\n",
      "\tLuminosity absorbed  = 3.576e+42 erg / s\n",
      "\tLuminosity requested = 1.059e+43 erg / s\n",
      " (\u001b[1mbase.py\u001b[0m:547)\n"
     ]
    },
    {
     "name": "stdout",
     "output_type": "stream",
     "text": [
      "[\u001b[1mtardis.simulation.base\u001b[0m][\u001b[1;37mINFO\u001b[0m   ]  \n",
      "\t\n",
      "\tPlasma stratification: (\u001b[1mbase.py\u001b[0m:515)\n"
     ]
    },
    {
     "data": {
      "text/html": [
       "<style  type=\"text/css\" >\n",
       "</style><table id=\"T_06ae4dea_0376_11ed_8ccc_000d3a913487\" ><thead>    <tr>        <th class=\"index_name level0\" >Shell No.</th>        <th class=\"col_heading level0 col0\" >t_rad</th>        <th class=\"col_heading level0 col1\" >next_t_rad</th>        <th class=\"col_heading level0 col2\" >w</th>        <th class=\"col_heading level0 col3\" >next_w</th>    </tr></thead><tbody>\n",
       "                <tr>\n",
       "                        <th id=\"T_06ae4dea_0376_11ed_8ccc_000d3a913487level0_row0\" class=\"row_heading level0 row0\" >0</th>\n",
       "                        <td id=\"T_06ae4dea_0376_11ed_8ccc_000d3a913487row0_col0\" class=\"data row0 col0\" >1.01e+04</td>\n",
       "                        <td id=\"T_06ae4dea_0376_11ed_8ccc_000d3a913487row0_col1\" class=\"data row0 col1\" >1.08e+04</td>\n",
       "                        <td id=\"T_06ae4dea_0376_11ed_8ccc_000d3a913487row0_col2\" class=\"data row0 col2\" >0.507</td>\n",
       "                        <td id=\"T_06ae4dea_0376_11ed_8ccc_000d3a913487row0_col3\" class=\"data row0 col3\" >0.525</td>\n",
       "            </tr>\n",
       "            <tr>\n",
       "                        <th id=\"T_06ae4dea_0376_11ed_8ccc_000d3a913487level0_row1\" class=\"row_heading level0 row1\" >5</th>\n",
       "                        <td id=\"T_06ae4dea_0376_11ed_8ccc_000d3a913487row1_col0\" class=\"data row1 col0\" >1.02e+04</td>\n",
       "                        <td id=\"T_06ae4dea_0376_11ed_8ccc_000d3a913487row1_col1\" class=\"data row1 col1\" >1.1e+04</td>\n",
       "                        <td id=\"T_06ae4dea_0376_11ed_8ccc_000d3a913487row1_col2\" class=\"data row1 col2\" >0.197</td>\n",
       "                        <td id=\"T_06ae4dea_0376_11ed_8ccc_000d3a913487row1_col3\" class=\"data row1 col3\" >0.203</td>\n",
       "            </tr>\n",
       "            <tr>\n",
       "                        <th id=\"T_06ae4dea_0376_11ed_8ccc_000d3a913487level0_row2\" class=\"row_heading level0 row2\" >10</th>\n",
       "                        <td id=\"T_06ae4dea_0376_11ed_8ccc_000d3a913487row2_col0\" class=\"data row2 col0\" >1.01e+04</td>\n",
       "                        <td id=\"T_06ae4dea_0376_11ed_8ccc_000d3a913487row2_col1\" class=\"data row2 col1\" >1.08e+04</td>\n",
       "                        <td id=\"T_06ae4dea_0376_11ed_8ccc_000d3a913487row2_col2\" class=\"data row2 col2\" >0.117</td>\n",
       "                        <td id=\"T_06ae4dea_0376_11ed_8ccc_000d3a913487row2_col3\" class=\"data row2 col3\" >0.125</td>\n",
       "            </tr>\n",
       "            <tr>\n",
       "                        <th id=\"T_06ae4dea_0376_11ed_8ccc_000d3a913487level0_row3\" class=\"row_heading level0 row3\" >15</th>\n",
       "                        <td id=\"T_06ae4dea_0376_11ed_8ccc_000d3a913487row3_col0\" class=\"data row3 col0\" >9.87e+03</td>\n",
       "                        <td id=\"T_06ae4dea_0376_11ed_8ccc_000d3a913487row3_col1\" class=\"data row3 col1\" >1.05e+04</td>\n",
       "                        <td id=\"T_06ae4dea_0376_11ed_8ccc_000d3a913487row3_col2\" class=\"data row3 col2\" >0.0869</td>\n",
       "                        <td id=\"T_06ae4dea_0376_11ed_8ccc_000d3a913487row3_col3\" class=\"data row3 col3\" >0.0933</td>\n",
       "            </tr>\n",
       "    </tbody></table>"
      ],
      "text/plain": [
       "<pandas.io.formats.style.Styler at 0x7f3d5c9c1a60>"
      ]
     },
     "metadata": {},
     "output_type": "display_data"
    },
    {
     "name": "stdout",
     "output_type": "stream",
     "text": [
      "[\u001b[1mtardis.simulation.base\u001b[0m][\u001b[1;37mINFO\u001b[0m   ]  \n",
      "\t\n",
      "\tCurrent t_inner = 10703.212 K\n",
      "\tExpected t_inner for next iteration = 10673.712 K\n",
      " (\u001b[1mbase.py\u001b[0m:542)\n"
     ]
    },
    {
     "name": "stdout",
     "output_type": "stream",
     "text": [
      "[\u001b[1mtardis.simulation.base\u001b[0m][\u001b[1;37mINFO\u001b[0m   ]  \n",
      "\t\n",
      "\tStarting iteration 3 of 20 (\u001b[1mbase.py\u001b[0m:378)\n"
     ]
    },
    {
     "name": "stdout",
     "output_type": "stream",
     "text": [
      "[\u001b[1mtardis.simulation.base\u001b[0m][\u001b[1;37mINFO\u001b[0m   ]  \n",
      "\t\n",
      "\tLuminosity emitted   = 1.074e+43 erg / s\n",
      "\tLuminosity absorbed  = 3.391e+42 erg / s\n",
      "\tLuminosity requested = 1.059e+43 erg / s\n",
      " (\u001b[1mbase.py\u001b[0m:547)\n"
     ]
    },
    {
     "name": "stdout",
     "output_type": "stream",
     "text": [
      "[\u001b[1mtardis.simulation.base\u001b[0m][\u001b[1;37mINFO\u001b[0m   ]  \n",
      "\t\n",
      "\tPlasma stratification: (\u001b[1mbase.py\u001b[0m:515)\n"
     ]
    },
    {
     "data": {
      "text/html": [
       "<style  type=\"text/css\" >\n",
       "</style><table id=\"T_07176d2a_0376_11ed_8ccc_000d3a913487\" ><thead>    <tr>        <th class=\"index_name level0\" >Shell No.</th>        <th class=\"col_heading level0 col0\" >t_rad</th>        <th class=\"col_heading level0 col1\" >next_t_rad</th>        <th class=\"col_heading level0 col2\" >w</th>        <th class=\"col_heading level0 col3\" >next_w</th>    </tr></thead><tbody>\n",
       "                <tr>\n",
       "                        <th id=\"T_07176d2a_0376_11ed_8ccc_000d3a913487level0_row0\" class=\"row_heading level0 row0\" >0</th>\n",
       "                        <td id=\"T_07176d2a_0376_11ed_8ccc_000d3a913487row0_col0\" class=\"data row0 col0\" >1.08e+04</td>\n",
       "                        <td id=\"T_07176d2a_0376_11ed_8ccc_000d3a913487row0_col1\" class=\"data row0 col1\" >1.1e+04</td>\n",
       "                        <td id=\"T_07176d2a_0376_11ed_8ccc_000d3a913487row0_col2\" class=\"data row0 col2\" >0.525</td>\n",
       "                        <td id=\"T_07176d2a_0376_11ed_8ccc_000d3a913487row0_col3\" class=\"data row0 col3\" >0.483</td>\n",
       "            </tr>\n",
       "            <tr>\n",
       "                        <th id=\"T_07176d2a_0376_11ed_8ccc_000d3a913487level0_row1\" class=\"row_heading level0 row1\" >5</th>\n",
       "                        <td id=\"T_07176d2a_0376_11ed_8ccc_000d3a913487row1_col0\" class=\"data row1 col0\" >1.1e+04</td>\n",
       "                        <td id=\"T_07176d2a_0376_11ed_8ccc_000d3a913487row1_col1\" class=\"data row1 col1\" >1.12e+04</td>\n",
       "                        <td id=\"T_07176d2a_0376_11ed_8ccc_000d3a913487row1_col2\" class=\"data row1 col2\" >0.203</td>\n",
       "                        <td id=\"T_07176d2a_0376_11ed_8ccc_000d3a913487row1_col3\" class=\"data row1 col3\" >0.189</td>\n",
       "            </tr>\n",
       "            <tr>\n",
       "                        <th id=\"T_07176d2a_0376_11ed_8ccc_000d3a913487level0_row2\" class=\"row_heading level0 row2\" >10</th>\n",
       "                        <td id=\"T_07176d2a_0376_11ed_8ccc_000d3a913487row2_col0\" class=\"data row2 col0\" >1.08e+04</td>\n",
       "                        <td id=\"T_07176d2a_0376_11ed_8ccc_000d3a913487row2_col1\" class=\"data row2 col1\" >1.1e+04</td>\n",
       "                        <td id=\"T_07176d2a_0376_11ed_8ccc_000d3a913487row2_col2\" class=\"data row2 col2\" >0.125</td>\n",
       "                        <td id=\"T_07176d2a_0376_11ed_8ccc_000d3a913487row2_col3\" class=\"data row2 col3\" >0.118</td>\n",
       "            </tr>\n",
       "            <tr>\n",
       "                        <th id=\"T_07176d2a_0376_11ed_8ccc_000d3a913487level0_row3\" class=\"row_heading level0 row3\" >15</th>\n",
       "                        <td id=\"T_07176d2a_0376_11ed_8ccc_000d3a913487row3_col0\" class=\"data row3 col0\" >1.05e+04</td>\n",
       "                        <td id=\"T_07176d2a_0376_11ed_8ccc_000d3a913487row3_col1\" class=\"data row3 col1\" >1.06e+04</td>\n",
       "                        <td id=\"T_07176d2a_0376_11ed_8ccc_000d3a913487row3_col2\" class=\"data row3 col2\" >0.0933</td>\n",
       "                        <td id=\"T_07176d2a_0376_11ed_8ccc_000d3a913487row3_col3\" class=\"data row3 col3\" >0.0895</td>\n",
       "            </tr>\n",
       "    </tbody></table>"
      ],
      "text/plain": [
       "<pandas.io.formats.style.Styler at 0x7f3d238609d0>"
      ]
     },
     "metadata": {},
     "output_type": "display_data"
    },
    {
     "name": "stdout",
     "output_type": "stream",
     "text": [
      "[\u001b[1mtardis.simulation.base\u001b[0m][\u001b[1;37mINFO\u001b[0m   ]  \n",
      "\t\n",
      "\tCurrent t_inner = 10673.712 K\n",
      "\tExpected t_inner for next iteration = 10635.953 K\n",
      " (\u001b[1mbase.py\u001b[0m:542)\n"
     ]
    },
    {
     "name": "stdout",
     "output_type": "stream",
     "text": [
      "[\u001b[1mtardis.simulation.base\u001b[0m][\u001b[1;37mINFO\u001b[0m   ]  \n",
      "\t\n",
      "\tStarting iteration 4 of 20 (\u001b[1mbase.py\u001b[0m:378)\n"
     ]
    },
    {
     "name": "stdout",
     "output_type": "stream",
     "text": [
      "[\u001b[1mtardis.simulation.base\u001b[0m][\u001b[1;37mINFO\u001b[0m   ]  \n",
      "\t\n",
      "\tLuminosity emitted   = 1.058e+43 erg / s\n",
      "\tLuminosity absorbed  = 3.352e+42 erg / s\n",
      "\tLuminosity requested = 1.059e+43 erg / s\n",
      " (\u001b[1mbase.py\u001b[0m:547)\n"
     ]
    },
    {
     "name": "stdout",
     "output_type": "stream",
     "text": [
      "[\u001b[1mtardis.simulation.base\u001b[0m][\u001b[1;37mINFO\u001b[0m   ]  \n",
      "\t\n",
      "\tPlasma stratification: (\u001b[1mbase.py\u001b[0m:515)\n"
     ]
    },
    {
     "data": {
      "text/html": [
       "<style  type=\"text/css\" >\n",
       "</style><table id=\"T_078126c0_0376_11ed_8ccc_000d3a913487\" ><thead>    <tr>        <th class=\"index_name level0\" >Shell No.</th>        <th class=\"col_heading level0 col0\" >t_rad</th>        <th class=\"col_heading level0 col1\" >next_t_rad</th>        <th class=\"col_heading level0 col2\" >w</th>        <th class=\"col_heading level0 col3\" >next_w</th>    </tr></thead><tbody>\n",
       "                <tr>\n",
       "                        <th id=\"T_078126c0_0376_11ed_8ccc_000d3a913487level0_row0\" class=\"row_heading level0 row0\" >0</th>\n",
       "                        <td id=\"T_078126c0_0376_11ed_8ccc_000d3a913487row0_col0\" class=\"data row0 col0\" >1.1e+04</td>\n",
       "                        <td id=\"T_078126c0_0376_11ed_8ccc_000d3a913487row0_col1\" class=\"data row0 col1\" >1.1e+04</td>\n",
       "                        <td id=\"T_078126c0_0376_11ed_8ccc_000d3a913487row0_col2\" class=\"data row0 col2\" >0.483</td>\n",
       "                        <td id=\"T_078126c0_0376_11ed_8ccc_000d3a913487row0_col3\" class=\"data row0 col3\" >0.469</td>\n",
       "            </tr>\n",
       "            <tr>\n",
       "                        <th id=\"T_078126c0_0376_11ed_8ccc_000d3a913487level0_row1\" class=\"row_heading level0 row1\" >5</th>\n",
       "                        <td id=\"T_078126c0_0376_11ed_8ccc_000d3a913487row1_col0\" class=\"data row1 col0\" >1.12e+04</td>\n",
       "                        <td id=\"T_078126c0_0376_11ed_8ccc_000d3a913487row1_col1\" class=\"data row1 col1\" >1.12e+04</td>\n",
       "                        <td id=\"T_078126c0_0376_11ed_8ccc_000d3a913487row1_col2\" class=\"data row1 col2\" >0.189</td>\n",
       "                        <td id=\"T_078126c0_0376_11ed_8ccc_000d3a913487row1_col3\" class=\"data row1 col3\" >0.182</td>\n",
       "            </tr>\n",
       "            <tr>\n",
       "                        <th id=\"T_078126c0_0376_11ed_8ccc_000d3a913487level0_row2\" class=\"row_heading level0 row2\" >10</th>\n",
       "                        <td id=\"T_078126c0_0376_11ed_8ccc_000d3a913487row2_col0\" class=\"data row2 col0\" >1.1e+04</td>\n",
       "                        <td id=\"T_078126c0_0376_11ed_8ccc_000d3a913487row2_col1\" class=\"data row2 col1\" >1.1e+04</td>\n",
       "                        <td id=\"T_078126c0_0376_11ed_8ccc_000d3a913487row2_col2\" class=\"data row2 col2\" >0.118</td>\n",
       "                        <td id=\"T_078126c0_0376_11ed_8ccc_000d3a913487row2_col3\" class=\"data row2 col3\" >0.113</td>\n",
       "            </tr>\n",
       "            <tr>\n",
       "                        <th id=\"T_078126c0_0376_11ed_8ccc_000d3a913487level0_row3\" class=\"row_heading level0 row3\" >15</th>\n",
       "                        <td id=\"T_078126c0_0376_11ed_8ccc_000d3a913487row3_col0\" class=\"data row3 col0\" >1.06e+04</td>\n",
       "                        <td id=\"T_078126c0_0376_11ed_8ccc_000d3a913487row3_col1\" class=\"data row3 col1\" >1.07e+04</td>\n",
       "                        <td id=\"T_078126c0_0376_11ed_8ccc_000d3a913487row3_col2\" class=\"data row3 col2\" >0.0895</td>\n",
       "                        <td id=\"T_078126c0_0376_11ed_8ccc_000d3a913487row3_col3\" class=\"data row3 col3\" >0.0861</td>\n",
       "            </tr>\n",
       "    </tbody></table>"
      ],
      "text/plain": [
       "<pandas.io.formats.style.Styler at 0x7f3d23860790>"
      ]
     },
     "metadata": {},
     "output_type": "display_data"
    },
    {
     "name": "stdout",
     "output_type": "stream",
     "text": [
      "[\u001b[1mtardis.simulation.base\u001b[0m][\u001b[1;37mINFO\u001b[0m   ]  \n",
      "\t\n",
      "\tCurrent t_inner = 10635.953 K\n",
      "\tExpected t_inner for next iteration = 10638.407 K\n",
      " (\u001b[1mbase.py\u001b[0m:542)\n"
     ]
    },
    {
     "name": "stdout",
     "output_type": "stream",
     "text": [
      "[\u001b[1mtardis.simulation.base\u001b[0m][\u001b[1;37mINFO\u001b[0m   ]  \n",
      "\t\n",
      "\tStarting iteration 5 of 20 (\u001b[1mbase.py\u001b[0m:378)\n"
     ]
    },
    {
     "name": "stdout",
     "output_type": "stream",
     "text": [
      "[\u001b[1mtardis.simulation.base\u001b[0m][\u001b[1;37mINFO\u001b[0m   ]  \n",
      "\t\n",
      "\tLuminosity emitted   = 1.055e+43 erg / s\n",
      "\tLuminosity absorbed  = 3.399e+42 erg / s\n",
      "\tLuminosity requested = 1.059e+43 erg / s\n",
      " (\u001b[1mbase.py\u001b[0m:547)\n"
     ]
    },
    {
     "name": "stdout",
     "output_type": "stream",
     "text": [
      "[\u001b[1mtardis.simulation.base\u001b[0m][\u001b[1;37mINFO\u001b[0m   ]  \n",
      "\tIteration converged 1/4 consecutive times. (\u001b[1mbase.py\u001b[0m:259)\n"
     ]
    },
    {
     "name": "stdout",
     "output_type": "stream",
     "text": [
      "[\u001b[1mtardis.simulation.base\u001b[0m][\u001b[1;37mINFO\u001b[0m   ]  \n",
      "\t\n",
      "\tPlasma stratification: (\u001b[1mbase.py\u001b[0m:515)\n"
     ]
    },
    {
     "data": {
      "text/html": [
       "<style  type=\"text/css\" >\n",
       "</style><table id=\"T_07ecb2be_0376_11ed_8ccc_000d3a913487\" ><thead>    <tr>        <th class=\"index_name level0\" >Shell No.</th>        <th class=\"col_heading level0 col0\" >t_rad</th>        <th class=\"col_heading level0 col1\" >next_t_rad</th>        <th class=\"col_heading level0 col2\" >w</th>        <th class=\"col_heading level0 col3\" >next_w</th>    </tr></thead><tbody>\n",
       "                <tr>\n",
       "                        <th id=\"T_07ecb2be_0376_11ed_8ccc_000d3a913487level0_row0\" class=\"row_heading level0 row0\" >0</th>\n",
       "                        <td id=\"T_07ecb2be_0376_11ed_8ccc_000d3a913487row0_col0\" class=\"data row0 col0\" >1.1e+04</td>\n",
       "                        <td id=\"T_07ecb2be_0376_11ed_8ccc_000d3a913487row0_col1\" class=\"data row0 col1\" >1.1e+04</td>\n",
       "                        <td id=\"T_07ecb2be_0376_11ed_8ccc_000d3a913487row0_col2\" class=\"data row0 col2\" >0.469</td>\n",
       "                        <td id=\"T_07ecb2be_0376_11ed_8ccc_000d3a913487row0_col3\" class=\"data row0 col3\" >0.479</td>\n",
       "            </tr>\n",
       "            <tr>\n",
       "                        <th id=\"T_07ecb2be_0376_11ed_8ccc_000d3a913487level0_row1\" class=\"row_heading level0 row1\" >5</th>\n",
       "                        <td id=\"T_07ecb2be_0376_11ed_8ccc_000d3a913487row1_col0\" class=\"data row1 col0\" >1.12e+04</td>\n",
       "                        <td id=\"T_07ecb2be_0376_11ed_8ccc_000d3a913487row1_col1\" class=\"data row1 col1\" >1.13e+04</td>\n",
       "                        <td id=\"T_07ecb2be_0376_11ed_8ccc_000d3a913487row1_col2\" class=\"data row1 col2\" >0.182</td>\n",
       "                        <td id=\"T_07ecb2be_0376_11ed_8ccc_000d3a913487row1_col3\" class=\"data row1 col3\" >0.178</td>\n",
       "            </tr>\n",
       "            <tr>\n",
       "                        <th id=\"T_07ecb2be_0376_11ed_8ccc_000d3a913487level0_row2\" class=\"row_heading level0 row2\" >10</th>\n",
       "                        <td id=\"T_07ecb2be_0376_11ed_8ccc_000d3a913487row2_col0\" class=\"data row2 col0\" >1.1e+04</td>\n",
       "                        <td id=\"T_07ecb2be_0376_11ed_8ccc_000d3a913487row2_col1\" class=\"data row2 col1\" >1.1e+04</td>\n",
       "                        <td id=\"T_07ecb2be_0376_11ed_8ccc_000d3a913487row2_col2\" class=\"data row2 col2\" >0.113</td>\n",
       "                        <td id=\"T_07ecb2be_0376_11ed_8ccc_000d3a913487row2_col3\" class=\"data row2 col3\" >0.113</td>\n",
       "            </tr>\n",
       "            <tr>\n",
       "                        <th id=\"T_07ecb2be_0376_11ed_8ccc_000d3a913487level0_row3\" class=\"row_heading level0 row3\" >15</th>\n",
       "                        <td id=\"T_07ecb2be_0376_11ed_8ccc_000d3a913487row3_col0\" class=\"data row3 col0\" >1.07e+04</td>\n",
       "                        <td id=\"T_07ecb2be_0376_11ed_8ccc_000d3a913487row3_col1\" class=\"data row3 col1\" >1.07e+04</td>\n",
       "                        <td id=\"T_07ecb2be_0376_11ed_8ccc_000d3a913487row3_col2\" class=\"data row3 col2\" >0.0861</td>\n",
       "                        <td id=\"T_07ecb2be_0376_11ed_8ccc_000d3a913487row3_col3\" class=\"data row3 col3\" >0.0839</td>\n",
       "            </tr>\n",
       "    </tbody></table>"
      ],
      "text/plain": [
       "<pandas.io.formats.style.Styler at 0x7f3d23860e50>"
      ]
     },
     "metadata": {},
     "output_type": "display_data"
    },
    {
     "name": "stdout",
     "output_type": "stream",
     "text": [
      "[\u001b[1mtardis.simulation.base\u001b[0m][\u001b[1;37mINFO\u001b[0m   ]  \n",
      "\t\n",
      "\tCurrent t_inner = 10638.407 K\n",
      "\tExpected t_inner for next iteration = 10650.202 K\n",
      " (\u001b[1mbase.py\u001b[0m:542)\n"
     ]
    },
    {
     "name": "stdout",
     "output_type": "stream",
     "text": [
      "[\u001b[1mtardis.simulation.base\u001b[0m][\u001b[1;37mINFO\u001b[0m   ]  \n",
      "\t\n",
      "\tStarting iteration 6 of 20 (\u001b[1mbase.py\u001b[0m:378)\n"
     ]
    },
    {
     "name": "stdout",
     "output_type": "stream",
     "text": [
      "[\u001b[1mtardis.simulation.base\u001b[0m][\u001b[1;37mINFO\u001b[0m   ]  \n",
      "\t\n",
      "\tLuminosity emitted   = 1.061e+43 erg / s\n",
      "\tLuminosity absorbed  = 3.398e+42 erg / s\n",
      "\tLuminosity requested = 1.059e+43 erg / s\n",
      " (\u001b[1mbase.py\u001b[0m:547)\n"
     ]
    },
    {
     "name": "stdout",
     "output_type": "stream",
     "text": [
      "[\u001b[1mtardis.simulation.base\u001b[0m][\u001b[1;37mINFO\u001b[0m   ]  \n",
      "\tIteration converged 2/4 consecutive times. (\u001b[1mbase.py\u001b[0m:259)\n"
     ]
    },
    {
     "name": "stdout",
     "output_type": "stream",
     "text": [
      "[\u001b[1mtardis.simulation.base\u001b[0m][\u001b[1;37mINFO\u001b[0m   ]  \n",
      "\t\n",
      "\tPlasma stratification: (\u001b[1mbase.py\u001b[0m:515)\n"
     ]
    },
    {
     "data": {
      "text/html": [
       "<style  type=\"text/css\" >\n",
       "</style><table id=\"T_08565dfe_0376_11ed_8ccc_000d3a913487\" ><thead>    <tr>        <th class=\"index_name level0\" >Shell No.</th>        <th class=\"col_heading level0 col0\" >t_rad</th>        <th class=\"col_heading level0 col1\" >next_t_rad</th>        <th class=\"col_heading level0 col2\" >w</th>        <th class=\"col_heading level0 col3\" >next_w</th>    </tr></thead><tbody>\n",
       "                <tr>\n",
       "                        <th id=\"T_08565dfe_0376_11ed_8ccc_000d3a913487level0_row0\" class=\"row_heading level0 row0\" >0</th>\n",
       "                        <td id=\"T_08565dfe_0376_11ed_8ccc_000d3a913487row0_col0\" class=\"data row0 col0\" >1.1e+04</td>\n",
       "                        <td id=\"T_08565dfe_0376_11ed_8ccc_000d3a913487row0_col1\" class=\"data row0 col1\" >1.1e+04</td>\n",
       "                        <td id=\"T_08565dfe_0376_11ed_8ccc_000d3a913487row0_col2\" class=\"data row0 col2\" >0.479</td>\n",
       "                        <td id=\"T_08565dfe_0376_11ed_8ccc_000d3a913487row0_col3\" class=\"data row0 col3\" >0.47</td>\n",
       "            </tr>\n",
       "            <tr>\n",
       "                        <th id=\"T_08565dfe_0376_11ed_8ccc_000d3a913487level0_row1\" class=\"row_heading level0 row1\" >5</th>\n",
       "                        <td id=\"T_08565dfe_0376_11ed_8ccc_000d3a913487row1_col0\" class=\"data row1 col0\" >1.13e+04</td>\n",
       "                        <td id=\"T_08565dfe_0376_11ed_8ccc_000d3a913487row1_col1\" class=\"data row1 col1\" >1.12e+04</td>\n",
       "                        <td id=\"T_08565dfe_0376_11ed_8ccc_000d3a913487row1_col2\" class=\"data row1 col2\" >0.178</td>\n",
       "                        <td id=\"T_08565dfe_0376_11ed_8ccc_000d3a913487row1_col3\" class=\"data row1 col3\" >0.185</td>\n",
       "            </tr>\n",
       "            <tr>\n",
       "                        <th id=\"T_08565dfe_0376_11ed_8ccc_000d3a913487level0_row2\" class=\"row_heading level0 row2\" >10</th>\n",
       "                        <td id=\"T_08565dfe_0376_11ed_8ccc_000d3a913487row2_col0\" class=\"data row2 col0\" >1.1e+04</td>\n",
       "                        <td id=\"T_08565dfe_0376_11ed_8ccc_000d3a913487row2_col1\" class=\"data row2 col1\" >1.11e+04</td>\n",
       "                        <td id=\"T_08565dfe_0376_11ed_8ccc_000d3a913487row2_col2\" class=\"data row2 col2\" >0.113</td>\n",
       "                        <td id=\"T_08565dfe_0376_11ed_8ccc_000d3a913487row2_col3\" class=\"data row2 col3\" >0.112</td>\n",
       "            </tr>\n",
       "            <tr>\n",
       "                        <th id=\"T_08565dfe_0376_11ed_8ccc_000d3a913487level0_row3\" class=\"row_heading level0 row3\" >15</th>\n",
       "                        <td id=\"T_08565dfe_0376_11ed_8ccc_000d3a913487row3_col0\" class=\"data row3 col0\" >1.07e+04</td>\n",
       "                        <td id=\"T_08565dfe_0376_11ed_8ccc_000d3a913487row3_col1\" class=\"data row3 col1\" >1.07e+04</td>\n",
       "                        <td id=\"T_08565dfe_0376_11ed_8ccc_000d3a913487row3_col2\" class=\"data row3 col2\" >0.0839</td>\n",
       "                        <td id=\"T_08565dfe_0376_11ed_8ccc_000d3a913487row3_col3\" class=\"data row3 col3\" >0.0856</td>\n",
       "            </tr>\n",
       "    </tbody></table>"
      ],
      "text/plain": [
       "<pandas.io.formats.style.Styler at 0x7f3d2327c400>"
      ]
     },
     "metadata": {},
     "output_type": "display_data"
    },
    {
     "name": "stdout",
     "output_type": "stream",
     "text": [
      "[\u001b[1mtardis.simulation.base\u001b[0m][\u001b[1;37mINFO\u001b[0m   ]  \n",
      "\t\n",
      "\tCurrent t_inner = 10650.202 K\n",
      "\tExpected t_inner for next iteration = 10645.955 K\n",
      " (\u001b[1mbase.py\u001b[0m:542)\n"
     ]
    },
    {
     "name": "stdout",
     "output_type": "stream",
     "text": [
      "[\u001b[1mtardis.simulation.base\u001b[0m][\u001b[1;37mINFO\u001b[0m   ]  \n",
      "\t\n",
      "\tStarting iteration 7 of 20 (\u001b[1mbase.py\u001b[0m:378)\n"
     ]
    },
    {
     "name": "stdout",
     "output_type": "stream",
     "text": [
      "[\u001b[1mtardis.simulation.base\u001b[0m][\u001b[1;37mINFO\u001b[0m   ]  \n",
      "\t\n",
      "\tLuminosity emitted   = 1.061e+43 erg / s\n",
      "\tLuminosity absorbed  = 3.382e+42 erg / s\n",
      "\tLuminosity requested = 1.059e+43 erg / s\n",
      " (\u001b[1mbase.py\u001b[0m:547)\n"
     ]
    },
    {
     "name": "stdout",
     "output_type": "stream",
     "text": [
      "[\u001b[1mtardis.simulation.base\u001b[0m][\u001b[1;37mINFO\u001b[0m   ]  \n",
      "\tIteration converged 3/4 consecutive times. (\u001b[1mbase.py\u001b[0m:259)\n"
     ]
    },
    {
     "name": "stdout",
     "output_type": "stream",
     "text": [
      "[\u001b[1mtardis.simulation.base\u001b[0m][\u001b[1;37mINFO\u001b[0m   ]  \n",
      "\t\n",
      "\tPlasma stratification: (\u001b[1mbase.py\u001b[0m:515)\n"
     ]
    },
    {
     "data": {
      "text/html": [
       "<style  type=\"text/css\" >\n",
       "</style><table id=\"T_08bf7974_0376_11ed_8ccc_000d3a913487\" ><thead>    <tr>        <th class=\"index_name level0\" >Shell No.</th>        <th class=\"col_heading level0 col0\" >t_rad</th>        <th class=\"col_heading level0 col1\" >next_t_rad</th>        <th class=\"col_heading level0 col2\" >w</th>        <th class=\"col_heading level0 col3\" >next_w</th>    </tr></thead><tbody>\n",
       "                <tr>\n",
       "                        <th id=\"T_08bf7974_0376_11ed_8ccc_000d3a913487level0_row0\" class=\"row_heading level0 row0\" >0</th>\n",
       "                        <td id=\"T_08bf7974_0376_11ed_8ccc_000d3a913487row0_col0\" class=\"data row0 col0\" >1.1e+04</td>\n",
       "                        <td id=\"T_08bf7974_0376_11ed_8ccc_000d3a913487row0_col1\" class=\"data row0 col1\" >1.1e+04</td>\n",
       "                        <td id=\"T_08bf7974_0376_11ed_8ccc_000d3a913487row0_col2\" class=\"data row0 col2\" >0.47</td>\n",
       "                        <td id=\"T_08bf7974_0376_11ed_8ccc_000d3a913487row0_col3\" class=\"data row0 col3\" >0.47</td>\n",
       "            </tr>\n",
       "            <tr>\n",
       "                        <th id=\"T_08bf7974_0376_11ed_8ccc_000d3a913487level0_row1\" class=\"row_heading level0 row1\" >5</th>\n",
       "                        <td id=\"T_08bf7974_0376_11ed_8ccc_000d3a913487row1_col0\" class=\"data row1 col0\" >1.12e+04</td>\n",
       "                        <td id=\"T_08bf7974_0376_11ed_8ccc_000d3a913487row1_col1\" class=\"data row1 col1\" >1.13e+04</td>\n",
       "                        <td id=\"T_08bf7974_0376_11ed_8ccc_000d3a913487row1_col2\" class=\"data row1 col2\" >0.185</td>\n",
       "                        <td id=\"T_08bf7974_0376_11ed_8ccc_000d3a913487row1_col3\" class=\"data row1 col3\" >0.178</td>\n",
       "            </tr>\n",
       "            <tr>\n",
       "                        <th id=\"T_08bf7974_0376_11ed_8ccc_000d3a913487level0_row2\" class=\"row_heading level0 row2\" >10</th>\n",
       "                        <td id=\"T_08bf7974_0376_11ed_8ccc_000d3a913487row2_col0\" class=\"data row2 col0\" >1.11e+04</td>\n",
       "                        <td id=\"T_08bf7974_0376_11ed_8ccc_000d3a913487row2_col1\" class=\"data row2 col1\" >1.11e+04</td>\n",
       "                        <td id=\"T_08bf7974_0376_11ed_8ccc_000d3a913487row2_col2\" class=\"data row2 col2\" >0.112</td>\n",
       "                        <td id=\"T_08bf7974_0376_11ed_8ccc_000d3a913487row2_col3\" class=\"data row2 col3\" >0.112</td>\n",
       "            </tr>\n",
       "            <tr>\n",
       "                        <th id=\"T_08bf7974_0376_11ed_8ccc_000d3a913487level0_row3\" class=\"row_heading level0 row3\" >15</th>\n",
       "                        <td id=\"T_08bf7974_0376_11ed_8ccc_000d3a913487row3_col0\" class=\"data row3 col0\" >1.07e+04</td>\n",
       "                        <td id=\"T_08bf7974_0376_11ed_8ccc_000d3a913487row3_col1\" class=\"data row3 col1\" >1.07e+04</td>\n",
       "                        <td id=\"T_08bf7974_0376_11ed_8ccc_000d3a913487row3_col2\" class=\"data row3 col2\" >0.0856</td>\n",
       "                        <td id=\"T_08bf7974_0376_11ed_8ccc_000d3a913487row3_col3\" class=\"data row3 col3\" >0.086</td>\n",
       "            </tr>\n",
       "    </tbody></table>"
      ],
      "text/plain": [
       "<pandas.io.formats.style.Styler at 0x7f3d22d1f5b0>"
      ]
     },
     "metadata": {},
     "output_type": "display_data"
    },
    {
     "name": "stdout",
     "output_type": "stream",
     "text": [
      "[\u001b[1mtardis.simulation.base\u001b[0m][\u001b[1;37mINFO\u001b[0m   ]  \n",
      "\t\n",
      "\tCurrent t_inner = 10645.955 K\n",
      "\tExpected t_inner for next iteration = 10642.050 K\n",
      " (\u001b[1mbase.py\u001b[0m:542)\n"
     ]
    },
    {
     "name": "stdout",
     "output_type": "stream",
     "text": [
      "[\u001b[1mtardis.simulation.base\u001b[0m][\u001b[1;37mINFO\u001b[0m   ]  \n",
      "\t\n",
      "\tStarting iteration 8 of 20 (\u001b[1mbase.py\u001b[0m:378)\n"
     ]
    },
    {
     "name": "stdout",
     "output_type": "stream",
     "text": [
      "[\u001b[1mtardis.simulation.base\u001b[0m][\u001b[1;37mINFO\u001b[0m   ]  \n",
      "\t\n",
      "\tLuminosity emitted   = 1.062e+43 erg / s\n",
      "\tLuminosity absorbed  = 3.350e+42 erg / s\n",
      "\tLuminosity requested = 1.059e+43 erg / s\n",
      " (\u001b[1mbase.py\u001b[0m:547)\n"
     ]
    },
    {
     "name": "stdout",
     "output_type": "stream",
     "text": [
      "[\u001b[1mtardis.simulation.base\u001b[0m][\u001b[1;37mINFO\u001b[0m   ]  \n",
      "\tIteration converged 4/4 consecutive times. (\u001b[1mbase.py\u001b[0m:259)\n"
     ]
    },
    {
     "name": "stdout",
     "output_type": "stream",
     "text": [
      "[\u001b[1mtardis.simulation.base\u001b[0m][\u001b[1;37mINFO\u001b[0m   ]  \n",
      "\t\n",
      "\tPlasma stratification: (\u001b[1mbase.py\u001b[0m:515)\n"
     ]
    },
    {
     "data": {
      "text/html": [
       "<style  type=\"text/css\" >\n",
       "</style><table id=\"T_0929731a_0376_11ed_8ccc_000d3a913487\" ><thead>    <tr>        <th class=\"index_name level0\" >Shell No.</th>        <th class=\"col_heading level0 col0\" >t_rad</th>        <th class=\"col_heading level0 col1\" >next_t_rad</th>        <th class=\"col_heading level0 col2\" >w</th>        <th class=\"col_heading level0 col3\" >next_w</th>    </tr></thead><tbody>\n",
       "                <tr>\n",
       "                        <th id=\"T_0929731a_0376_11ed_8ccc_000d3a913487level0_row0\" class=\"row_heading level0 row0\" >0</th>\n",
       "                        <td id=\"T_0929731a_0376_11ed_8ccc_000d3a913487row0_col0\" class=\"data row0 col0\" >1.1e+04</td>\n",
       "                        <td id=\"T_0929731a_0376_11ed_8ccc_000d3a913487row0_col1\" class=\"data row0 col1\" >1.11e+04</td>\n",
       "                        <td id=\"T_0929731a_0376_11ed_8ccc_000d3a913487row0_col2\" class=\"data row0 col2\" >0.47</td>\n",
       "                        <td id=\"T_0929731a_0376_11ed_8ccc_000d3a913487row0_col3\" class=\"data row0 col3\" >0.472</td>\n",
       "            </tr>\n",
       "            <tr>\n",
       "                        <th id=\"T_0929731a_0376_11ed_8ccc_000d3a913487level0_row1\" class=\"row_heading level0 row1\" >5</th>\n",
       "                        <td id=\"T_0929731a_0376_11ed_8ccc_000d3a913487row1_col0\" class=\"data row1 col0\" >1.13e+04</td>\n",
       "                        <td id=\"T_0929731a_0376_11ed_8ccc_000d3a913487row1_col1\" class=\"data row1 col1\" >1.14e+04</td>\n",
       "                        <td id=\"T_0929731a_0376_11ed_8ccc_000d3a913487row1_col2\" class=\"data row1 col2\" >0.178</td>\n",
       "                        <td id=\"T_0929731a_0376_11ed_8ccc_000d3a913487row1_col3\" class=\"data row1 col3\" >0.175</td>\n",
       "            </tr>\n",
       "            <tr>\n",
       "                        <th id=\"T_0929731a_0376_11ed_8ccc_000d3a913487level0_row2\" class=\"row_heading level0 row2\" >10</th>\n",
       "                        <td id=\"T_0929731a_0376_11ed_8ccc_000d3a913487row2_col0\" class=\"data row2 col0\" >1.11e+04</td>\n",
       "                        <td id=\"T_0929731a_0376_11ed_8ccc_000d3a913487row2_col1\" class=\"data row2 col1\" >1.11e+04</td>\n",
       "                        <td id=\"T_0929731a_0376_11ed_8ccc_000d3a913487row2_col2\" class=\"data row2 col2\" >0.112</td>\n",
       "                        <td id=\"T_0929731a_0376_11ed_8ccc_000d3a913487row2_col3\" class=\"data row2 col3\" >0.111</td>\n",
       "            </tr>\n",
       "            <tr>\n",
       "                        <th id=\"T_0929731a_0376_11ed_8ccc_000d3a913487level0_row3\" class=\"row_heading level0 row3\" >15</th>\n",
       "                        <td id=\"T_0929731a_0376_11ed_8ccc_000d3a913487row3_col0\" class=\"data row3 col0\" >1.07e+04</td>\n",
       "                        <td id=\"T_0929731a_0376_11ed_8ccc_000d3a913487row3_col1\" class=\"data row3 col1\" >1.07e+04</td>\n",
       "                        <td id=\"T_0929731a_0376_11ed_8ccc_000d3a913487row3_col2\" class=\"data row3 col2\" >0.086</td>\n",
       "                        <td id=\"T_0929731a_0376_11ed_8ccc_000d3a913487row3_col3\" class=\"data row3 col3\" >0.084</td>\n",
       "            </tr>\n",
       "    </tbody></table>"
      ],
      "text/plain": [
       "<pandas.io.formats.style.Styler at 0x7f3d23ae7580>"
      ]
     },
     "metadata": {},
     "output_type": "display_data"
    },
    {
     "name": "stdout",
     "output_type": "stream",
     "text": [
      "[\u001b[1mtardis.simulation.base\u001b[0m][\u001b[1;37mINFO\u001b[0m   ]  \n",
      "\t\n",
      "\tCurrent t_inner = 10642.050 K\n",
      "\tExpected t_inner for next iteration = 10636.106 K\n",
      " (\u001b[1mbase.py\u001b[0m:542)\n"
     ]
    },
    {
     "name": "stdout",
     "output_type": "stream",
     "text": [
      "[\u001b[1mtardis.simulation.base\u001b[0m][\u001b[1;37mINFO\u001b[0m   ]  \n",
      "\t\n",
      "\tStarting iteration 9 of 20 (\u001b[1mbase.py\u001b[0m:378)\n"
     ]
    },
    {
     "name": "stdout",
     "output_type": "stream",
     "text": [
      "[\u001b[1mtardis.simulation.base\u001b[0m][\u001b[1;37mINFO\u001b[0m   ]  \n",
      "\t\n",
      "\tLuminosity emitted   = 1.052e+43 erg / s\n",
      "\tLuminosity absorbed  = 3.411e+42 erg / s\n",
      "\tLuminosity requested = 1.059e+43 erg / s\n",
      " (\u001b[1mbase.py\u001b[0m:547)\n"
     ]
    },
    {
     "name": "stdout",
     "output_type": "stream",
     "text": [
      "[\u001b[1mtardis.simulation.base\u001b[0m][\u001b[1;37mINFO\u001b[0m   ]  \n",
      "\tIteration converged 5/4 consecutive times. (\u001b[1mbase.py\u001b[0m:259)\n"
     ]
    },
    {
     "name": "stdout",
     "output_type": "stream",
     "text": [
      "[\u001b[1mtardis.simulation.base\u001b[0m][\u001b[1;37mINFO\u001b[0m   ]  \n",
      "\t\n",
      "\tPlasma stratification: (\u001b[1mbase.py\u001b[0m:515)\n"
     ]
    },
    {
     "data": {
      "text/html": [
       "<style  type=\"text/css\" >\n",
       "</style><table id=\"T_09930456_0376_11ed_8ccc_000d3a913487\" ><thead>    <tr>        <th class=\"index_name level0\" >Shell No.</th>        <th class=\"col_heading level0 col0\" >t_rad</th>        <th class=\"col_heading level0 col1\" >next_t_rad</th>        <th class=\"col_heading level0 col2\" >w</th>        <th class=\"col_heading level0 col3\" >next_w</th>    </tr></thead><tbody>\n",
       "                <tr>\n",
       "                        <th id=\"T_09930456_0376_11ed_8ccc_000d3a913487level0_row0\" class=\"row_heading level0 row0\" >0</th>\n",
       "                        <td id=\"T_09930456_0376_11ed_8ccc_000d3a913487row0_col0\" class=\"data row0 col0\" >1.11e+04</td>\n",
       "                        <td id=\"T_09930456_0376_11ed_8ccc_000d3a913487row0_col1\" class=\"data row0 col1\" >1.11e+04</td>\n",
       "                        <td id=\"T_09930456_0376_11ed_8ccc_000d3a913487row0_col2\" class=\"data row0 col2\" >0.472</td>\n",
       "                        <td id=\"T_09930456_0376_11ed_8ccc_000d3a913487row0_col3\" class=\"data row0 col3\" >0.469</td>\n",
       "            </tr>\n",
       "            <tr>\n",
       "                        <th id=\"T_09930456_0376_11ed_8ccc_000d3a913487level0_row1\" class=\"row_heading level0 row1\" >5</th>\n",
       "                        <td id=\"T_09930456_0376_11ed_8ccc_000d3a913487row1_col0\" class=\"data row1 col0\" >1.14e+04</td>\n",
       "                        <td id=\"T_09930456_0376_11ed_8ccc_000d3a913487row1_col1\" class=\"data row1 col1\" >1.15e+04</td>\n",
       "                        <td id=\"T_09930456_0376_11ed_8ccc_000d3a913487row1_col2\" class=\"data row1 col2\" >0.175</td>\n",
       "                        <td id=\"T_09930456_0376_11ed_8ccc_000d3a913487row1_col3\" class=\"data row1 col3\" >0.17</td>\n",
       "            </tr>\n",
       "            <tr>\n",
       "                        <th id=\"T_09930456_0376_11ed_8ccc_000d3a913487level0_row2\" class=\"row_heading level0 row2\" >10</th>\n",
       "                        <td id=\"T_09930456_0376_11ed_8ccc_000d3a913487row2_col0\" class=\"data row2 col0\" >1.11e+04</td>\n",
       "                        <td id=\"T_09930456_0376_11ed_8ccc_000d3a913487row2_col1\" class=\"data row2 col1\" >1.11e+04</td>\n",
       "                        <td id=\"T_09930456_0376_11ed_8ccc_000d3a913487row2_col2\" class=\"data row2 col2\" >0.111</td>\n",
       "                        <td id=\"T_09930456_0376_11ed_8ccc_000d3a913487row2_col3\" class=\"data row2 col3\" >0.109</td>\n",
       "            </tr>\n",
       "            <tr>\n",
       "                        <th id=\"T_09930456_0376_11ed_8ccc_000d3a913487level0_row3\" class=\"row_heading level0 row3\" >15</th>\n",
       "                        <td id=\"T_09930456_0376_11ed_8ccc_000d3a913487row3_col0\" class=\"data row3 col0\" >1.07e+04</td>\n",
       "                        <td id=\"T_09930456_0376_11ed_8ccc_000d3a913487row3_col1\" class=\"data row3 col1\" >1.08e+04</td>\n",
       "                        <td id=\"T_09930456_0376_11ed_8ccc_000d3a913487row3_col2\" class=\"data row3 col2\" >0.084</td>\n",
       "                        <td id=\"T_09930456_0376_11ed_8ccc_000d3a913487row3_col3\" class=\"data row3 col3\" >0.0822</td>\n",
       "            </tr>\n",
       "    </tbody></table>"
      ],
      "text/plain": [
       "<pandas.io.formats.style.Styler at 0x7f3d24f3d7f0>"
      ]
     },
     "metadata": {},
     "output_type": "display_data"
    },
    {
     "name": "stdout",
     "output_type": "stream",
     "text": [
      "[\u001b[1mtardis.simulation.base\u001b[0m][\u001b[1;37mINFO\u001b[0m   ]  \n",
      "\t\n",
      "\tCurrent t_inner = 10636.106 K\n",
      "\tExpected t_inner for next iteration = 10654.313 K\n",
      " (\u001b[1mbase.py\u001b[0m:542)\n"
     ]
    },
    {
     "name": "stdout",
     "output_type": "stream",
     "text": [
      "[\u001b[1mtardis.simulation.base\u001b[0m][\u001b[1;37mINFO\u001b[0m   ]  \n",
      "\t\n",
      "\tStarting iteration 10 of 20 (\u001b[1mbase.py\u001b[0m:378)\n"
     ]
    },
    {
     "name": "stdout",
     "output_type": "stream",
     "text": [
      "[\u001b[1mtardis.simulation.base\u001b[0m][\u001b[1;37mINFO\u001b[0m   ]  \n",
      "\t\n",
      "\tLuminosity emitted   = 1.070e+43 erg / s\n",
      "\tLuminosity absorbed  = 3.335e+42 erg / s\n",
      "\tLuminosity requested = 1.059e+43 erg / s\n",
      " (\u001b[1mbase.py\u001b[0m:547)\n"
     ]
    },
    {
     "name": "stdout",
     "output_type": "stream",
     "text": [
      "[\u001b[1mtardis.simulation.base\u001b[0m][\u001b[1;37mINFO\u001b[0m   ]  \n",
      "\t\n",
      "\tPlasma stratification: (\u001b[1mbase.py\u001b[0m:515)\n"
     ]
    },
    {
     "data": {
      "text/html": [
       "<style  type=\"text/css\" >\n",
       "</style><table id=\"T_09fd97da_0376_11ed_8ccc_000d3a913487\" ><thead>    <tr>        <th class=\"index_name level0\" >Shell No.</th>        <th class=\"col_heading level0 col0\" >t_rad</th>        <th class=\"col_heading level0 col1\" >next_t_rad</th>        <th class=\"col_heading level0 col2\" >w</th>        <th class=\"col_heading level0 col3\" >next_w</th>    </tr></thead><tbody>\n",
       "                <tr>\n",
       "                        <th id=\"T_09fd97da_0376_11ed_8ccc_000d3a913487level0_row0\" class=\"row_heading level0 row0\" >0</th>\n",
       "                        <td id=\"T_09fd97da_0376_11ed_8ccc_000d3a913487row0_col0\" class=\"data row0 col0\" >1.11e+04</td>\n",
       "                        <td id=\"T_09fd97da_0376_11ed_8ccc_000d3a913487row0_col1\" class=\"data row0 col1\" >1.1e+04</td>\n",
       "                        <td id=\"T_09fd97da_0376_11ed_8ccc_000d3a913487row0_col2\" class=\"data row0 col2\" >0.469</td>\n",
       "                        <td id=\"T_09fd97da_0376_11ed_8ccc_000d3a913487row0_col3\" class=\"data row0 col3\" >0.475</td>\n",
       "            </tr>\n",
       "            <tr>\n",
       "                        <th id=\"T_09fd97da_0376_11ed_8ccc_000d3a913487level0_row1\" class=\"row_heading level0 row1\" >5</th>\n",
       "                        <td id=\"T_09fd97da_0376_11ed_8ccc_000d3a913487row1_col0\" class=\"data row1 col0\" >1.15e+04</td>\n",
       "                        <td id=\"T_09fd97da_0376_11ed_8ccc_000d3a913487row1_col1\" class=\"data row1 col1\" >1.14e+04</td>\n",
       "                        <td id=\"T_09fd97da_0376_11ed_8ccc_000d3a913487row1_col2\" class=\"data row1 col2\" >0.17</td>\n",
       "                        <td id=\"T_09fd97da_0376_11ed_8ccc_000d3a913487row1_col3\" class=\"data row1 col3\" >0.177</td>\n",
       "            </tr>\n",
       "            <tr>\n",
       "                        <th id=\"T_09fd97da_0376_11ed_8ccc_000d3a913487level0_row2\" class=\"row_heading level0 row2\" >10</th>\n",
       "                        <td id=\"T_09fd97da_0376_11ed_8ccc_000d3a913487row2_col0\" class=\"data row2 col0\" >1.11e+04</td>\n",
       "                        <td id=\"T_09fd97da_0376_11ed_8ccc_000d3a913487row2_col1\" class=\"data row2 col1\" >1.11e+04</td>\n",
       "                        <td id=\"T_09fd97da_0376_11ed_8ccc_000d3a913487row2_col2\" class=\"data row2 col2\" >0.109</td>\n",
       "                        <td id=\"T_09fd97da_0376_11ed_8ccc_000d3a913487row2_col3\" class=\"data row2 col3\" >0.112</td>\n",
       "            </tr>\n",
       "            <tr>\n",
       "                        <th id=\"T_09fd97da_0376_11ed_8ccc_000d3a913487level0_row3\" class=\"row_heading level0 row3\" >15</th>\n",
       "                        <td id=\"T_09fd97da_0376_11ed_8ccc_000d3a913487row3_col0\" class=\"data row3 col0\" >1.08e+04</td>\n",
       "                        <td id=\"T_09fd97da_0376_11ed_8ccc_000d3a913487row3_col1\" class=\"data row3 col1\" >1.06e+04</td>\n",
       "                        <td id=\"T_09fd97da_0376_11ed_8ccc_000d3a913487row3_col2\" class=\"data row3 col2\" >0.0822</td>\n",
       "                        <td id=\"T_09fd97da_0376_11ed_8ccc_000d3a913487row3_col3\" class=\"data row3 col3\" >0.0878</td>\n",
       "            </tr>\n",
       "    </tbody></table>"
      ],
      "text/plain": [
       "<pandas.io.formats.style.Styler at 0x7f3d22d1f220>"
      ]
     },
     "metadata": {},
     "output_type": "display_data"
    },
    {
     "name": "stdout",
     "output_type": "stream",
     "text": [
      "[\u001b[1mtardis.simulation.base\u001b[0m][\u001b[1;37mINFO\u001b[0m   ]  \n",
      "\t\n",
      "\tCurrent t_inner = 10654.313 K\n",
      "\tExpected t_inner for next iteration = 10628.190 K\n",
      " (\u001b[1mbase.py\u001b[0m:542)\n"
     ]
    },
    {
     "name": "stdout",
     "output_type": "stream",
     "text": [
      "[\u001b[1mtardis.simulation.base\u001b[0m][\u001b[1;37mINFO\u001b[0m   ]  \n",
      "\t\n",
      "\tStarting iteration 11 of 20 (\u001b[1mbase.py\u001b[0m:378)\n"
     ]
    },
    {
     "name": "stdout",
     "output_type": "stream",
     "text": [
      "[\u001b[1mtardis.simulation.base\u001b[0m][\u001b[1;37mINFO\u001b[0m   ]  \n",
      "\t\n",
      "\tLuminosity emitted   = 1.053e+43 erg / s\n",
      "\tLuminosity absorbed  = 3.363e+42 erg / s\n",
      "\tLuminosity requested = 1.059e+43 erg / s\n",
      " (\u001b[1mbase.py\u001b[0m:547)\n"
     ]
    },
    {
     "name": "stdout",
     "output_type": "stream",
     "text": [
      "[\u001b[1mtardis.simulation.base\u001b[0m][\u001b[1;37mINFO\u001b[0m   ]  \n",
      "\tIteration converged 1/4 consecutive times. (\u001b[1mbase.py\u001b[0m:259)\n"
     ]
    },
    {
     "name": "stdout",
     "output_type": "stream",
     "text": [
      "[\u001b[1mtardis.simulation.base\u001b[0m][\u001b[1;37mINFO\u001b[0m   ]  \n",
      "\t\n",
      "\tPlasma stratification: (\u001b[1mbase.py\u001b[0m:515)\n"
     ]
    },
    {
     "data": {
      "text/html": [
       "<style  type=\"text/css\" >\n",
       "</style><table id=\"T_0a6a3872_0376_11ed_8ccc_000d3a913487\" ><thead>    <tr>        <th class=\"index_name level0\" >Shell No.</th>        <th class=\"col_heading level0 col0\" >t_rad</th>        <th class=\"col_heading level0 col1\" >next_t_rad</th>        <th class=\"col_heading level0 col2\" >w</th>        <th class=\"col_heading level0 col3\" >next_w</th>    </tr></thead><tbody>\n",
       "                <tr>\n",
       "                        <th id=\"T_0a6a3872_0376_11ed_8ccc_000d3a913487level0_row0\" class=\"row_heading level0 row0\" >0</th>\n",
       "                        <td id=\"T_0a6a3872_0376_11ed_8ccc_000d3a913487row0_col0\" class=\"data row0 col0\" >1.1e+04</td>\n",
       "                        <td id=\"T_0a6a3872_0376_11ed_8ccc_000d3a913487row0_col1\" class=\"data row0 col1\" >1.1e+04</td>\n",
       "                        <td id=\"T_0a6a3872_0376_11ed_8ccc_000d3a913487row0_col2\" class=\"data row0 col2\" >0.475</td>\n",
       "                        <td id=\"T_0a6a3872_0376_11ed_8ccc_000d3a913487row0_col3\" class=\"data row0 col3\" >0.472</td>\n",
       "            </tr>\n",
       "            <tr>\n",
       "                        <th id=\"T_0a6a3872_0376_11ed_8ccc_000d3a913487level0_row1\" class=\"row_heading level0 row1\" >5</th>\n",
       "                        <td id=\"T_0a6a3872_0376_11ed_8ccc_000d3a913487row1_col0\" class=\"data row1 col0\" >1.14e+04</td>\n",
       "                        <td id=\"T_0a6a3872_0376_11ed_8ccc_000d3a913487row1_col1\" class=\"data row1 col1\" >1.12e+04</td>\n",
       "                        <td id=\"T_0a6a3872_0376_11ed_8ccc_000d3a913487row1_col2\" class=\"data row1 col2\" >0.177</td>\n",
       "                        <td id=\"T_0a6a3872_0376_11ed_8ccc_000d3a913487row1_col3\" class=\"data row1 col3\" >0.184</td>\n",
       "            </tr>\n",
       "            <tr>\n",
       "                        <th id=\"T_0a6a3872_0376_11ed_8ccc_000d3a913487level0_row2\" class=\"row_heading level0 row2\" >10</th>\n",
       "                        <td id=\"T_0a6a3872_0376_11ed_8ccc_000d3a913487row2_col0\" class=\"data row2 col0\" >1.11e+04</td>\n",
       "                        <td id=\"T_0a6a3872_0376_11ed_8ccc_000d3a913487row2_col1\" class=\"data row2 col1\" >1.1e+04</td>\n",
       "                        <td id=\"T_0a6a3872_0376_11ed_8ccc_000d3a913487row2_col2\" class=\"data row2 col2\" >0.112</td>\n",
       "                        <td id=\"T_0a6a3872_0376_11ed_8ccc_000d3a913487row2_col3\" class=\"data row2 col3\" >0.114</td>\n",
       "            </tr>\n",
       "            <tr>\n",
       "                        <th id=\"T_0a6a3872_0376_11ed_8ccc_000d3a913487level0_row3\" class=\"row_heading level0 row3\" >15</th>\n",
       "                        <td id=\"T_0a6a3872_0376_11ed_8ccc_000d3a913487row3_col0\" class=\"data row3 col0\" >1.06e+04</td>\n",
       "                        <td id=\"T_0a6a3872_0376_11ed_8ccc_000d3a913487row3_col1\" class=\"data row3 col1\" >1.06e+04</td>\n",
       "                        <td id=\"T_0a6a3872_0376_11ed_8ccc_000d3a913487row3_col2\" class=\"data row3 col2\" >0.0878</td>\n",
       "                        <td id=\"T_0a6a3872_0376_11ed_8ccc_000d3a913487row3_col3\" class=\"data row3 col3\" >0.0859</td>\n",
       "            </tr>\n",
       "    </tbody></table>"
      ],
      "text/plain": [
       "<pandas.io.formats.style.Styler at 0x7f3d22d1f190>"
      ]
     },
     "metadata": {},
     "output_type": "display_data"
    },
    {
     "name": "stdout",
     "output_type": "stream",
     "text": [
      "[\u001b[1mtardis.simulation.base\u001b[0m][\u001b[1;37mINFO\u001b[0m   ]  \n",
      "\t\n",
      "\tCurrent t_inner = 10628.190 K\n",
      "\tExpected t_inner for next iteration = 10644.054 K\n",
      " (\u001b[1mbase.py\u001b[0m:542)\n"
     ]
    },
    {
     "name": "stdout",
     "output_type": "stream",
     "text": [
      "[\u001b[1mtardis.simulation.base\u001b[0m][\u001b[1;37mINFO\u001b[0m   ]  \n",
      "\t\n",
      "\tStarting iteration 12 of 20 (\u001b[1mbase.py\u001b[0m:378)\n"
     ]
    },
    {
     "name": "stdout",
     "output_type": "stream",
     "text": [
      "[\u001b[1mtardis.simulation.base\u001b[0m][\u001b[1;37mINFO\u001b[0m   ]  \n",
      "\t\n",
      "\tLuminosity emitted   = 1.056e+43 erg / s\n",
      "\tLuminosity absorbed  = 3.420e+42 erg / s\n",
      "\tLuminosity requested = 1.059e+43 erg / s\n",
      " (\u001b[1mbase.py\u001b[0m:547)\n"
     ]
    },
    {
     "name": "stdout",
     "output_type": "stream",
     "text": [
      "[\u001b[1mtardis.simulation.base\u001b[0m][\u001b[1;37mINFO\u001b[0m   ]  \n",
      "\t\n",
      "\tPlasma stratification: (\u001b[1mbase.py\u001b[0m:515)\n"
     ]
    },
    {
     "data": {
      "text/html": [
       "<style  type=\"text/css\" >\n",
       "</style><table id=\"T_0ad54de2_0376_11ed_8ccc_000d3a913487\" ><thead>    <tr>        <th class=\"index_name level0\" >Shell No.</th>        <th class=\"col_heading level0 col0\" >t_rad</th>        <th class=\"col_heading level0 col1\" >next_t_rad</th>        <th class=\"col_heading level0 col2\" >w</th>        <th class=\"col_heading level0 col3\" >next_w</th>    </tr></thead><tbody>\n",
       "                <tr>\n",
       "                        <th id=\"T_0ad54de2_0376_11ed_8ccc_000d3a913487level0_row0\" class=\"row_heading level0 row0\" >0</th>\n",
       "                        <td id=\"T_0ad54de2_0376_11ed_8ccc_000d3a913487row0_col0\" class=\"data row0 col0\" >1.1e+04</td>\n",
       "                        <td id=\"T_0ad54de2_0376_11ed_8ccc_000d3a913487row0_col1\" class=\"data row0 col1\" >1.11e+04</td>\n",
       "                        <td id=\"T_0ad54de2_0376_11ed_8ccc_000d3a913487row0_col2\" class=\"data row0 col2\" >0.472</td>\n",
       "                        <td id=\"T_0ad54de2_0376_11ed_8ccc_000d3a913487row0_col3\" class=\"data row0 col3\" >0.467</td>\n",
       "            </tr>\n",
       "            <tr>\n",
       "                        <th id=\"T_0ad54de2_0376_11ed_8ccc_000d3a913487level0_row1\" class=\"row_heading level0 row1\" >5</th>\n",
       "                        <td id=\"T_0ad54de2_0376_11ed_8ccc_000d3a913487row1_col0\" class=\"data row1 col0\" >1.12e+04</td>\n",
       "                        <td id=\"T_0ad54de2_0376_11ed_8ccc_000d3a913487row1_col1\" class=\"data row1 col1\" >1.13e+04</td>\n",
       "                        <td id=\"T_0ad54de2_0376_11ed_8ccc_000d3a913487row1_col2\" class=\"data row1 col2\" >0.184</td>\n",
       "                        <td id=\"T_0ad54de2_0376_11ed_8ccc_000d3a913487row1_col3\" class=\"data row1 col3\" >0.176</td>\n",
       "            </tr>\n",
       "            <tr>\n",
       "                        <th id=\"T_0ad54de2_0376_11ed_8ccc_000d3a913487level0_row2\" class=\"row_heading level0 row2\" >10</th>\n",
       "                        <td id=\"T_0ad54de2_0376_11ed_8ccc_000d3a913487row2_col0\" class=\"data row2 col0\" >1.1e+04</td>\n",
       "                        <td id=\"T_0ad54de2_0376_11ed_8ccc_000d3a913487row2_col1\" class=\"data row2 col1\" >1.11e+04</td>\n",
       "                        <td id=\"T_0ad54de2_0376_11ed_8ccc_000d3a913487row2_col2\" class=\"data row2 col2\" >0.114</td>\n",
       "                        <td id=\"T_0ad54de2_0376_11ed_8ccc_000d3a913487row2_col3\" class=\"data row2 col3\" >0.11</td>\n",
       "            </tr>\n",
       "            <tr>\n",
       "                        <th id=\"T_0ad54de2_0376_11ed_8ccc_000d3a913487level0_row3\" class=\"row_heading level0 row3\" >15</th>\n",
       "                        <td id=\"T_0ad54de2_0376_11ed_8ccc_000d3a913487row3_col0\" class=\"data row3 col0\" >1.06e+04</td>\n",
       "                        <td id=\"T_0ad54de2_0376_11ed_8ccc_000d3a913487row3_col1\" class=\"data row3 col1\" >1.08e+04</td>\n",
       "                        <td id=\"T_0ad54de2_0376_11ed_8ccc_000d3a913487row3_col2\" class=\"data row3 col2\" >0.0859</td>\n",
       "                        <td id=\"T_0ad54de2_0376_11ed_8ccc_000d3a913487row3_col3\" class=\"data row3 col3\" >0.0821</td>\n",
       "            </tr>\n",
       "    </tbody></table>"
      ],
      "text/plain": [
       "<pandas.io.formats.style.Styler at 0x7f3d22d1ff40>"
      ]
     },
     "metadata": {},
     "output_type": "display_data"
    },
    {
     "name": "stdout",
     "output_type": "stream",
     "text": [
      "[\u001b[1mtardis.simulation.base\u001b[0m][\u001b[1;37mINFO\u001b[0m   ]  \n",
      "\t\n",
      "\tCurrent t_inner = 10644.054 K\n",
      "\tExpected t_inner for next iteration = 10653.543 K\n",
      " (\u001b[1mbase.py\u001b[0m:542)\n"
     ]
    },
    {
     "name": "stdout",
     "output_type": "stream",
     "text": [
      "[\u001b[1mtardis.simulation.base\u001b[0m][\u001b[1;37mINFO\u001b[0m   ]  \n",
      "\t\n",
      "\tStarting iteration 13 of 20 (\u001b[1mbase.py\u001b[0m:378)\n"
     ]
    },
    {
     "name": "stdout",
     "output_type": "stream",
     "text": [
      "[\u001b[1mtardis.simulation.base\u001b[0m][\u001b[1;37mINFO\u001b[0m   ]  \n",
      "\t\n",
      "\tLuminosity emitted   = 1.062e+43 erg / s\n",
      "\tLuminosity absorbed  = 3.406e+42 erg / s\n",
      "\tLuminosity requested = 1.059e+43 erg / s\n",
      " (\u001b[1mbase.py\u001b[0m:547)\n"
     ]
    },
    {
     "name": "stdout",
     "output_type": "stream",
     "text": [
      "[\u001b[1mtardis.simulation.base\u001b[0m][\u001b[1;37mINFO\u001b[0m   ]  \n",
      "\tIteration converged 1/4 consecutive times. (\u001b[1mbase.py\u001b[0m:259)\n"
     ]
    },
    {
     "name": "stdout",
     "output_type": "stream",
     "text": [
      "[\u001b[1mtardis.simulation.base\u001b[0m][\u001b[1;37mINFO\u001b[0m   ]  \n",
      "\t\n",
      "\tPlasma stratification: (\u001b[1mbase.py\u001b[0m:515)\n"
     ]
    },
    {
     "data": {
      "text/html": [
       "<style  type=\"text/css\" >\n",
       "</style><table id=\"T_0b3e981a_0376_11ed_8ccc_000d3a913487\" ><thead>    <tr>        <th class=\"index_name level0\" >Shell No.</th>        <th class=\"col_heading level0 col0\" >t_rad</th>        <th class=\"col_heading level0 col1\" >next_t_rad</th>        <th class=\"col_heading level0 col2\" >w</th>        <th class=\"col_heading level0 col3\" >next_w</th>    </tr></thead><tbody>\n",
       "                <tr>\n",
       "                        <th id=\"T_0b3e981a_0376_11ed_8ccc_000d3a913487level0_row0\" class=\"row_heading level0 row0\" >0</th>\n",
       "                        <td id=\"T_0b3e981a_0376_11ed_8ccc_000d3a913487row0_col0\" class=\"data row0 col0\" >1.11e+04</td>\n",
       "                        <td id=\"T_0b3e981a_0376_11ed_8ccc_000d3a913487row0_col1\" class=\"data row0 col1\" >1.11e+04</td>\n",
       "                        <td id=\"T_0b3e981a_0376_11ed_8ccc_000d3a913487row0_col2\" class=\"data row0 col2\" >0.467</td>\n",
       "                        <td id=\"T_0b3e981a_0376_11ed_8ccc_000d3a913487row0_col3\" class=\"data row0 col3\" >0.466</td>\n",
       "            </tr>\n",
       "            <tr>\n",
       "                        <th id=\"T_0b3e981a_0376_11ed_8ccc_000d3a913487level0_row1\" class=\"row_heading level0 row1\" >5</th>\n",
       "                        <td id=\"T_0b3e981a_0376_11ed_8ccc_000d3a913487row1_col0\" class=\"data row1 col0\" >1.13e+04</td>\n",
       "                        <td id=\"T_0b3e981a_0376_11ed_8ccc_000d3a913487row1_col1\" class=\"data row1 col1\" >1.13e+04</td>\n",
       "                        <td id=\"T_0b3e981a_0376_11ed_8ccc_000d3a913487row1_col2\" class=\"data row1 col2\" >0.176</td>\n",
       "                        <td id=\"T_0b3e981a_0376_11ed_8ccc_000d3a913487row1_col3\" class=\"data row1 col3\" >0.18</td>\n",
       "            </tr>\n",
       "            <tr>\n",
       "                        <th id=\"T_0b3e981a_0376_11ed_8ccc_000d3a913487level0_row2\" class=\"row_heading level0 row2\" >10</th>\n",
       "                        <td id=\"T_0b3e981a_0376_11ed_8ccc_000d3a913487row2_col0\" class=\"data row2 col0\" >1.11e+04</td>\n",
       "                        <td id=\"T_0b3e981a_0376_11ed_8ccc_000d3a913487row2_col1\" class=\"data row2 col1\" >1.11e+04</td>\n",
       "                        <td id=\"T_0b3e981a_0376_11ed_8ccc_000d3a913487row2_col2\" class=\"data row2 col2\" >0.11</td>\n",
       "                        <td id=\"T_0b3e981a_0376_11ed_8ccc_000d3a913487row2_col3\" class=\"data row2 col3\" >0.111</td>\n",
       "            </tr>\n",
       "            <tr>\n",
       "                        <th id=\"T_0b3e981a_0376_11ed_8ccc_000d3a913487level0_row3\" class=\"row_heading level0 row3\" >15</th>\n",
       "                        <td id=\"T_0b3e981a_0376_11ed_8ccc_000d3a913487row3_col0\" class=\"data row3 col0\" >1.08e+04</td>\n",
       "                        <td id=\"T_0b3e981a_0376_11ed_8ccc_000d3a913487row3_col1\" class=\"data row3 col1\" >1.08e+04</td>\n",
       "                        <td id=\"T_0b3e981a_0376_11ed_8ccc_000d3a913487row3_col2\" class=\"data row3 col2\" >0.0821</td>\n",
       "                        <td id=\"T_0b3e981a_0376_11ed_8ccc_000d3a913487row3_col3\" class=\"data row3 col3\" >0.0841</td>\n",
       "            </tr>\n",
       "    </tbody></table>"
      ],
      "text/plain": [
       "<pandas.io.formats.style.Styler at 0x7f3d2286b490>"
      ]
     },
     "metadata": {},
     "output_type": "display_data"
    },
    {
     "name": "stdout",
     "output_type": "stream",
     "text": [
      "[\u001b[1mtardis.simulation.base\u001b[0m][\u001b[1;37mINFO\u001b[0m   ]  \n",
      "\t\n",
      "\tCurrent t_inner = 10653.543 K\n",
      "\tExpected t_inner for next iteration = 10647.277 K\n",
      " (\u001b[1mbase.py\u001b[0m:542)\n"
     ]
    },
    {
     "name": "stdout",
     "output_type": "stream",
     "text": [
      "[\u001b[1mtardis.simulation.base\u001b[0m][\u001b[1;37mINFO\u001b[0m   ]  \n",
      "\t\n",
      "\tStarting iteration 14 of 20 (\u001b[1mbase.py\u001b[0m:378)\n"
     ]
    },
    {
     "name": "stdout",
     "output_type": "stream",
     "text": [
      "[\u001b[1mtardis.simulation.base\u001b[0m][\u001b[1;37mINFO\u001b[0m   ]  \n",
      "\t\n",
      "\tLuminosity emitted   = 1.063e+43 erg / s\n",
      "\tLuminosity absorbed  = 3.369e+42 erg / s\n",
      "\tLuminosity requested = 1.059e+43 erg / s\n",
      " (\u001b[1mbase.py\u001b[0m:547)\n"
     ]
    },
    {
     "name": "stdout",
     "output_type": "stream",
     "text": [
      "[\u001b[1mtardis.simulation.base\u001b[0m][\u001b[1;37mINFO\u001b[0m   ]  \n",
      "\tIteration converged 2/4 consecutive times. (\u001b[1mbase.py\u001b[0m:259)\n"
     ]
    },
    {
     "name": "stdout",
     "output_type": "stream",
     "text": [
      "[\u001b[1mtardis.simulation.base\u001b[0m][\u001b[1;37mINFO\u001b[0m   ]  \n",
      "\t\n",
      "\tPlasma stratification: (\u001b[1mbase.py\u001b[0m:515)\n"
     ]
    },
    {
     "data": {
      "text/html": [
       "<style  type=\"text/css\" >\n",
       "</style><table id=\"T_0ba71002_0376_11ed_8ccc_000d3a913487\" ><thead>    <tr>        <th class=\"index_name level0\" >Shell No.</th>        <th class=\"col_heading level0 col0\" >t_rad</th>        <th class=\"col_heading level0 col1\" >next_t_rad</th>        <th class=\"col_heading level0 col2\" >w</th>        <th class=\"col_heading level0 col3\" >next_w</th>    </tr></thead><tbody>\n",
       "                <tr>\n",
       "                        <th id=\"T_0ba71002_0376_11ed_8ccc_000d3a913487level0_row0\" class=\"row_heading level0 row0\" >0</th>\n",
       "                        <td id=\"T_0ba71002_0376_11ed_8ccc_000d3a913487row0_col0\" class=\"data row0 col0\" >1.11e+04</td>\n",
       "                        <td id=\"T_0ba71002_0376_11ed_8ccc_000d3a913487row0_col1\" class=\"data row0 col1\" >1.11e+04</td>\n",
       "                        <td id=\"T_0ba71002_0376_11ed_8ccc_000d3a913487row0_col2\" class=\"data row0 col2\" >0.466</td>\n",
       "                        <td id=\"T_0ba71002_0376_11ed_8ccc_000d3a913487row0_col3\" class=\"data row0 col3\" >0.469</td>\n",
       "            </tr>\n",
       "            <tr>\n",
       "                        <th id=\"T_0ba71002_0376_11ed_8ccc_000d3a913487level0_row1\" class=\"row_heading level0 row1\" >5</th>\n",
       "                        <td id=\"T_0ba71002_0376_11ed_8ccc_000d3a913487row1_col0\" class=\"data row1 col0\" >1.13e+04</td>\n",
       "                        <td id=\"T_0ba71002_0376_11ed_8ccc_000d3a913487row1_col1\" class=\"data row1 col1\" >1.13e+04</td>\n",
       "                        <td id=\"T_0ba71002_0376_11ed_8ccc_000d3a913487row1_col2\" class=\"data row1 col2\" >0.18</td>\n",
       "                        <td id=\"T_0ba71002_0376_11ed_8ccc_000d3a913487row1_col3\" class=\"data row1 col3\" >0.182</td>\n",
       "            </tr>\n",
       "            <tr>\n",
       "                        <th id=\"T_0ba71002_0376_11ed_8ccc_000d3a913487level0_row2\" class=\"row_heading level0 row2\" >10</th>\n",
       "                        <td id=\"T_0ba71002_0376_11ed_8ccc_000d3a913487row2_col0\" class=\"data row2 col0\" >1.11e+04</td>\n",
       "                        <td id=\"T_0ba71002_0376_11ed_8ccc_000d3a913487row2_col1\" class=\"data row2 col1\" >1.1e+04</td>\n",
       "                        <td id=\"T_0ba71002_0376_11ed_8ccc_000d3a913487row2_col2\" class=\"data row2 col2\" >0.111</td>\n",
       "                        <td id=\"T_0ba71002_0376_11ed_8ccc_000d3a913487row2_col3\" class=\"data row2 col3\" >0.113</td>\n",
       "            </tr>\n",
       "            <tr>\n",
       "                        <th id=\"T_0ba71002_0376_11ed_8ccc_000d3a913487level0_row3\" class=\"row_heading level0 row3\" >15</th>\n",
       "                        <td id=\"T_0ba71002_0376_11ed_8ccc_000d3a913487row3_col0\" class=\"data row3 col0\" >1.08e+04</td>\n",
       "                        <td id=\"T_0ba71002_0376_11ed_8ccc_000d3a913487row3_col1\" class=\"data row3 col1\" >1.07e+04</td>\n",
       "                        <td id=\"T_0ba71002_0376_11ed_8ccc_000d3a913487row3_col2\" class=\"data row3 col2\" >0.0841</td>\n",
       "                        <td id=\"T_0ba71002_0376_11ed_8ccc_000d3a913487row3_col3\" class=\"data row3 col3\" >0.0854</td>\n",
       "            </tr>\n",
       "    </tbody></table>"
      ],
      "text/plain": [
       "<pandas.io.formats.style.Styler at 0x7f3d24f4c2b0>"
      ]
     },
     "metadata": {},
     "output_type": "display_data"
    },
    {
     "name": "stdout",
     "output_type": "stream",
     "text": [
      "[\u001b[1mtardis.simulation.base\u001b[0m][\u001b[1;37mINFO\u001b[0m   ]  \n",
      "\t\n",
      "\tCurrent t_inner = 10647.277 K\n",
      "\tExpected t_inner for next iteration = 10638.875 K\n",
      " (\u001b[1mbase.py\u001b[0m:542)\n"
     ]
    },
    {
     "name": "stdout",
     "output_type": "stream",
     "text": [
      "[\u001b[1mtardis.simulation.base\u001b[0m][\u001b[1;37mINFO\u001b[0m   ]  \n",
      "\t\n",
      "\tStarting iteration 15 of 20 (\u001b[1mbase.py\u001b[0m:378)\n"
     ]
    },
    {
     "name": "stdout",
     "output_type": "stream",
     "text": [
      "[\u001b[1mtardis.simulation.base\u001b[0m][\u001b[1;37mINFO\u001b[0m   ]  \n",
      "\t\n",
      "\tLuminosity emitted   = 1.053e+43 erg / s\n",
      "\tLuminosity absorbed  = 3.417e+42 erg / s\n",
      "\tLuminosity requested = 1.059e+43 erg / s\n",
      " (\u001b[1mbase.py\u001b[0m:547)\n"
     ]
    },
    {
     "name": "stdout",
     "output_type": "stream",
     "text": [
      "[\u001b[1mtardis.simulation.base\u001b[0m][\u001b[1;37mINFO\u001b[0m   ]  \n",
      "\tIteration converged 3/4 consecutive times. (\u001b[1mbase.py\u001b[0m:259)\n"
     ]
    },
    {
     "name": "stdout",
     "output_type": "stream",
     "text": [
      "[\u001b[1mtardis.simulation.base\u001b[0m][\u001b[1;37mINFO\u001b[0m   ]  \n",
      "\t\n",
      "\tPlasma stratification: (\u001b[1mbase.py\u001b[0m:515)\n"
     ]
    },
    {
     "data": {
      "text/html": [
       "<style  type=\"text/css\" >\n",
       "</style><table id=\"T_0c0fd646_0376_11ed_8ccc_000d3a913487\" ><thead>    <tr>        <th class=\"index_name level0\" >Shell No.</th>        <th class=\"col_heading level0 col0\" >t_rad</th>        <th class=\"col_heading level0 col1\" >next_t_rad</th>        <th class=\"col_heading level0 col2\" >w</th>        <th class=\"col_heading level0 col3\" >next_w</th>    </tr></thead><tbody>\n",
       "                <tr>\n",
       "                        <th id=\"T_0c0fd646_0376_11ed_8ccc_000d3a913487level0_row0\" class=\"row_heading level0 row0\" >0</th>\n",
       "                        <td id=\"T_0c0fd646_0376_11ed_8ccc_000d3a913487row0_col0\" class=\"data row0 col0\" >1.11e+04</td>\n",
       "                        <td id=\"T_0c0fd646_0376_11ed_8ccc_000d3a913487row0_col1\" class=\"data row0 col1\" >1.1e+04</td>\n",
       "                        <td id=\"T_0c0fd646_0376_11ed_8ccc_000d3a913487row0_col2\" class=\"data row0 col2\" >0.469</td>\n",
       "                        <td id=\"T_0c0fd646_0376_11ed_8ccc_000d3a913487row0_col3\" class=\"data row0 col3\" >0.484</td>\n",
       "            </tr>\n",
       "            <tr>\n",
       "                        <th id=\"T_0c0fd646_0376_11ed_8ccc_000d3a913487level0_row1\" class=\"row_heading level0 row1\" >5</th>\n",
       "                        <td id=\"T_0c0fd646_0376_11ed_8ccc_000d3a913487row1_col0\" class=\"data row1 col0\" >1.13e+04</td>\n",
       "                        <td id=\"T_0c0fd646_0376_11ed_8ccc_000d3a913487row1_col1\" class=\"data row1 col1\" >1.13e+04</td>\n",
       "                        <td id=\"T_0c0fd646_0376_11ed_8ccc_000d3a913487row1_col2\" class=\"data row1 col2\" >0.182</td>\n",
       "                        <td id=\"T_0c0fd646_0376_11ed_8ccc_000d3a913487row1_col3\" class=\"data row1 col3\" >0.181</td>\n",
       "            </tr>\n",
       "            <tr>\n",
       "                        <th id=\"T_0c0fd646_0376_11ed_8ccc_000d3a913487level0_row2\" class=\"row_heading level0 row2\" >10</th>\n",
       "                        <td id=\"T_0c0fd646_0376_11ed_8ccc_000d3a913487row2_col0\" class=\"data row2 col0\" >1.1e+04</td>\n",
       "                        <td id=\"T_0c0fd646_0376_11ed_8ccc_000d3a913487row2_col1\" class=\"data row2 col1\" >1.1e+04</td>\n",
       "                        <td id=\"T_0c0fd646_0376_11ed_8ccc_000d3a913487row2_col2\" class=\"data row2 col2\" >0.113</td>\n",
       "                        <td id=\"T_0c0fd646_0376_11ed_8ccc_000d3a913487row2_col3\" class=\"data row2 col3\" >0.113</td>\n",
       "            </tr>\n",
       "            <tr>\n",
       "                        <th id=\"T_0c0fd646_0376_11ed_8ccc_000d3a913487level0_row3\" class=\"row_heading level0 row3\" >15</th>\n",
       "                        <td id=\"T_0c0fd646_0376_11ed_8ccc_000d3a913487row3_col0\" class=\"data row3 col0\" >1.07e+04</td>\n",
       "                        <td id=\"T_0c0fd646_0376_11ed_8ccc_000d3a913487row3_col1\" class=\"data row3 col1\" >1.07e+04</td>\n",
       "                        <td id=\"T_0c0fd646_0376_11ed_8ccc_000d3a913487row3_col2\" class=\"data row3 col2\" >0.0854</td>\n",
       "                        <td id=\"T_0c0fd646_0376_11ed_8ccc_000d3a913487row3_col3\" class=\"data row3 col3\" >0.0858</td>\n",
       "            </tr>\n",
       "    </tbody></table>"
      ],
      "text/plain": [
       "<pandas.io.formats.style.Styler at 0x7f3d24f4c2b0>"
      ]
     },
     "metadata": {},
     "output_type": "display_data"
    },
    {
     "name": "stdout",
     "output_type": "stream",
     "text": [
      "[\u001b[1mtardis.simulation.base\u001b[0m][\u001b[1;37mINFO\u001b[0m   ]  \n",
      "\t\n",
      "\tCurrent t_inner = 10638.875 K\n",
      "\tExpected t_inner for next iteration = 10655.125 K\n",
      " (\u001b[1mbase.py\u001b[0m:542)\n"
     ]
    },
    {
     "name": "stdout",
     "output_type": "stream",
     "text": [
      "[\u001b[1mtardis.simulation.base\u001b[0m][\u001b[1;37mINFO\u001b[0m   ]  \n",
      "\t\n",
      "\tStarting iteration 16 of 20 (\u001b[1mbase.py\u001b[0m:378)\n"
     ]
    },
    {
     "name": "stdout",
     "output_type": "stream",
     "text": [
      "[\u001b[1mtardis.simulation.base\u001b[0m][\u001b[1;37mINFO\u001b[0m   ]  \n",
      "\t\n",
      "\tLuminosity emitted   = 1.059e+43 erg / s\n",
      "\tLuminosity absorbed  = 3.445e+42 erg / s\n",
      "\tLuminosity requested = 1.059e+43 erg / s\n",
      " (\u001b[1mbase.py\u001b[0m:547)\n"
     ]
    },
    {
     "name": "stdout",
     "output_type": "stream",
     "text": [
      "[\u001b[1mtardis.simulation.base\u001b[0m][\u001b[1;37mINFO\u001b[0m   ]  \n",
      "\tIteration converged 4/4 consecutive times. (\u001b[1mbase.py\u001b[0m:259)\n"
     ]
    },
    {
     "name": "stdout",
     "output_type": "stream",
     "text": [
      "[\u001b[1mtardis.simulation.base\u001b[0m][\u001b[1;37mINFO\u001b[0m   ]  \n",
      "\t\n",
      "\tPlasma stratification: (\u001b[1mbase.py\u001b[0m:515)\n"
     ]
    },
    {
     "data": {
      "text/html": [
       "<style  type=\"text/css\" >\n",
       "</style><table id=\"T_0c785194_0376_11ed_8ccc_000d3a913487\" ><thead>    <tr>        <th class=\"index_name level0\" >Shell No.</th>        <th class=\"col_heading level0 col0\" >t_rad</th>        <th class=\"col_heading level0 col1\" >next_t_rad</th>        <th class=\"col_heading level0 col2\" >w</th>        <th class=\"col_heading level0 col3\" >next_w</th>    </tr></thead><tbody>\n",
       "                <tr>\n",
       "                        <th id=\"T_0c785194_0376_11ed_8ccc_000d3a913487level0_row0\" class=\"row_heading level0 row0\" >0</th>\n",
       "                        <td id=\"T_0c785194_0376_11ed_8ccc_000d3a913487row0_col0\" class=\"data row0 col0\" >1.1e+04</td>\n",
       "                        <td id=\"T_0c785194_0376_11ed_8ccc_000d3a913487row0_col1\" class=\"data row0 col1\" >1.1e+04</td>\n",
       "                        <td id=\"T_0c785194_0376_11ed_8ccc_000d3a913487row0_col2\" class=\"data row0 col2\" >0.484</td>\n",
       "                        <td id=\"T_0c785194_0376_11ed_8ccc_000d3a913487row0_col3\" class=\"data row0 col3\" >0.472</td>\n",
       "            </tr>\n",
       "            <tr>\n",
       "                        <th id=\"T_0c785194_0376_11ed_8ccc_000d3a913487level0_row1\" class=\"row_heading level0 row1\" >5</th>\n",
       "                        <td id=\"T_0c785194_0376_11ed_8ccc_000d3a913487row1_col0\" class=\"data row1 col0\" >1.13e+04</td>\n",
       "                        <td id=\"T_0c785194_0376_11ed_8ccc_000d3a913487row1_col1\" class=\"data row1 col1\" >1.13e+04</td>\n",
       "                        <td id=\"T_0c785194_0376_11ed_8ccc_000d3a913487row1_col2\" class=\"data row1 col2\" >0.181</td>\n",
       "                        <td id=\"T_0c785194_0376_11ed_8ccc_000d3a913487row1_col3\" class=\"data row1 col3\" >0.177</td>\n",
       "            </tr>\n",
       "            <tr>\n",
       "                        <th id=\"T_0c785194_0376_11ed_8ccc_000d3a913487level0_row2\" class=\"row_heading level0 row2\" >10</th>\n",
       "                        <td id=\"T_0c785194_0376_11ed_8ccc_000d3a913487row2_col0\" class=\"data row2 col0\" >1.1e+04</td>\n",
       "                        <td id=\"T_0c785194_0376_11ed_8ccc_000d3a913487row2_col1\" class=\"data row2 col1\" >1.1e+04</td>\n",
       "                        <td id=\"T_0c785194_0376_11ed_8ccc_000d3a913487row2_col2\" class=\"data row2 col2\" >0.113</td>\n",
       "                        <td id=\"T_0c785194_0376_11ed_8ccc_000d3a913487row2_col3\" class=\"data row2 col3\" >0.113</td>\n",
       "            </tr>\n",
       "            <tr>\n",
       "                        <th id=\"T_0c785194_0376_11ed_8ccc_000d3a913487level0_row3\" class=\"row_heading level0 row3\" >15</th>\n",
       "                        <td id=\"T_0c785194_0376_11ed_8ccc_000d3a913487row3_col0\" class=\"data row3 col0\" >1.07e+04</td>\n",
       "                        <td id=\"T_0c785194_0376_11ed_8ccc_000d3a913487row3_col1\" class=\"data row3 col1\" >1.06e+04</td>\n",
       "                        <td id=\"T_0c785194_0376_11ed_8ccc_000d3a913487row3_col2\" class=\"data row3 col2\" >0.0858</td>\n",
       "                        <td id=\"T_0c785194_0376_11ed_8ccc_000d3a913487row3_col3\" class=\"data row3 col3\" >0.0858</td>\n",
       "            </tr>\n",
       "    </tbody></table>"
      ],
      "text/plain": [
       "<pandas.io.formats.style.Styler at 0x7f3d23ae7700>"
      ]
     },
     "metadata": {},
     "output_type": "display_data"
    },
    {
     "name": "stdout",
     "output_type": "stream",
     "text": [
      "[\u001b[1mtardis.simulation.base\u001b[0m][\u001b[1;37mINFO\u001b[0m   ]  \n",
      "\t\n",
      "\tCurrent t_inner = 10655.125 K\n",
      "\tExpected t_inner for next iteration = 10655.561 K\n",
      " (\u001b[1mbase.py\u001b[0m:542)\n"
     ]
    },
    {
     "name": "stdout",
     "output_type": "stream",
     "text": [
      "[\u001b[1mtardis.simulation.base\u001b[0m][\u001b[1;37mINFO\u001b[0m   ]  \n",
      "\t\n",
      "\tStarting iteration 17 of 20 (\u001b[1mbase.py\u001b[0m:378)\n"
     ]
    },
    {
     "name": "stdout",
     "output_type": "stream",
     "text": [
      "[\u001b[1mtardis.simulation.base\u001b[0m][\u001b[1;37mINFO\u001b[0m   ]  \n",
      "\t\n",
      "\tLuminosity emitted   = 1.067e+43 erg / s\n",
      "\tLuminosity absorbed  = 3.372e+42 erg / s\n",
      "\tLuminosity requested = 1.059e+43 erg / s\n",
      " (\u001b[1mbase.py\u001b[0m:547)\n"
     ]
    },
    {
     "name": "stdout",
     "output_type": "stream",
     "text": [
      "[\u001b[1mtardis.simulation.base\u001b[0m][\u001b[1;37mINFO\u001b[0m   ]  \n",
      "\t\n",
      "\tPlasma stratification: (\u001b[1mbase.py\u001b[0m:515)\n"
     ]
    },
    {
     "data": {
      "text/html": [
       "<style  type=\"text/css\" >\n",
       "</style><table id=\"T_0ce2905e_0376_11ed_8ccc_000d3a913487\" ><thead>    <tr>        <th class=\"index_name level0\" >Shell No.</th>        <th class=\"col_heading level0 col0\" >t_rad</th>        <th class=\"col_heading level0 col1\" >next_t_rad</th>        <th class=\"col_heading level0 col2\" >w</th>        <th class=\"col_heading level0 col3\" >next_w</th>    </tr></thead><tbody>\n",
       "                <tr>\n",
       "                        <th id=\"T_0ce2905e_0376_11ed_8ccc_000d3a913487level0_row0\" class=\"row_heading level0 row0\" >0</th>\n",
       "                        <td id=\"T_0ce2905e_0376_11ed_8ccc_000d3a913487row0_col0\" class=\"data row0 col0\" >1.1e+04</td>\n",
       "                        <td id=\"T_0ce2905e_0376_11ed_8ccc_000d3a913487row0_col1\" class=\"data row0 col1\" >1.11e+04</td>\n",
       "                        <td id=\"T_0ce2905e_0376_11ed_8ccc_000d3a913487row0_col2\" class=\"data row0 col2\" >0.472</td>\n",
       "                        <td id=\"T_0ce2905e_0376_11ed_8ccc_000d3a913487row0_col3\" class=\"data row0 col3\" >0.468</td>\n",
       "            </tr>\n",
       "            <tr>\n",
       "                        <th id=\"T_0ce2905e_0376_11ed_8ccc_000d3a913487level0_row1\" class=\"row_heading level0 row1\" >5</th>\n",
       "                        <td id=\"T_0ce2905e_0376_11ed_8ccc_000d3a913487row1_col0\" class=\"data row1 col0\" >1.13e+04</td>\n",
       "                        <td id=\"T_0ce2905e_0376_11ed_8ccc_000d3a913487row1_col1\" class=\"data row1 col1\" >1.14e+04</td>\n",
       "                        <td id=\"T_0ce2905e_0376_11ed_8ccc_000d3a913487row1_col2\" class=\"data row1 col2\" >0.177</td>\n",
       "                        <td id=\"T_0ce2905e_0376_11ed_8ccc_000d3a913487row1_col3\" class=\"data row1 col3\" >0.175</td>\n",
       "            </tr>\n",
       "            <tr>\n",
       "                        <th id=\"T_0ce2905e_0376_11ed_8ccc_000d3a913487level0_row2\" class=\"row_heading level0 row2\" >10</th>\n",
       "                        <td id=\"T_0ce2905e_0376_11ed_8ccc_000d3a913487row2_col0\" class=\"data row2 col0\" >1.1e+04</td>\n",
       "                        <td id=\"T_0ce2905e_0376_11ed_8ccc_000d3a913487row2_col1\" class=\"data row2 col1\" >1.11e+04</td>\n",
       "                        <td id=\"T_0ce2905e_0376_11ed_8ccc_000d3a913487row2_col2\" class=\"data row2 col2\" >0.113</td>\n",
       "                        <td id=\"T_0ce2905e_0376_11ed_8ccc_000d3a913487row2_col3\" class=\"data row2 col3\" >0.11</td>\n",
       "            </tr>\n",
       "            <tr>\n",
       "                        <th id=\"T_0ce2905e_0376_11ed_8ccc_000d3a913487level0_row3\" class=\"row_heading level0 row3\" >15</th>\n",
       "                        <td id=\"T_0ce2905e_0376_11ed_8ccc_000d3a913487row3_col0\" class=\"data row3 col0\" >1.06e+04</td>\n",
       "                        <td id=\"T_0ce2905e_0376_11ed_8ccc_000d3a913487row3_col1\" class=\"data row3 col1\" >1.08e+04</td>\n",
       "                        <td id=\"T_0ce2905e_0376_11ed_8ccc_000d3a913487row3_col2\" class=\"data row3 col2\" >0.0858</td>\n",
       "                        <td id=\"T_0ce2905e_0376_11ed_8ccc_000d3a913487row3_col3\" class=\"data row3 col3\" >0.0816</td>\n",
       "            </tr>\n",
       "    </tbody></table>"
      ],
      "text/plain": [
       "<pandas.io.formats.style.Styler at 0x7f3d23282610>"
      ]
     },
     "metadata": {},
     "output_type": "display_data"
    },
    {
     "name": "stdout",
     "output_type": "stream",
     "text": [
      "[\u001b[1mtardis.simulation.base\u001b[0m][\u001b[1;37mINFO\u001b[0m   ]  \n",
      "\t\n",
      "\tCurrent t_inner = 10655.561 K\n",
      "\tExpected t_inner for next iteration = 10636.536 K\n",
      " (\u001b[1mbase.py\u001b[0m:542)\n"
     ]
    },
    {
     "name": "stdout",
     "output_type": "stream",
     "text": [
      "[\u001b[1mtardis.simulation.base\u001b[0m][\u001b[1;37mINFO\u001b[0m   ]  \n",
      "\t\n",
      "\tStarting iteration 18 of 20 (\u001b[1mbase.py\u001b[0m:378)\n"
     ]
    },
    {
     "name": "stdout",
     "output_type": "stream",
     "text": [
      "[\u001b[1mtardis.simulation.base\u001b[0m][\u001b[1;37mINFO\u001b[0m   ]  \n",
      "\t\n",
      "\tLuminosity emitted   = 1.057e+43 erg / s\n",
      "\tLuminosity absorbed  = 3.365e+42 erg / s\n",
      "\tLuminosity requested = 1.059e+43 erg / s\n",
      " (\u001b[1mbase.py\u001b[0m:547)\n"
     ]
    },
    {
     "name": "stdout",
     "output_type": "stream",
     "text": [
      "[\u001b[1mtardis.simulation.base\u001b[0m][\u001b[1;37mINFO\u001b[0m   ]  \n",
      "\tIteration converged 1/4 consecutive times. (\u001b[1mbase.py\u001b[0m:259)\n"
     ]
    },
    {
     "name": "stdout",
     "output_type": "stream",
     "text": [
      "[\u001b[1mtardis.simulation.base\u001b[0m][\u001b[1;37mINFO\u001b[0m   ]  \n",
      "\t\n",
      "\tPlasma stratification: (\u001b[1mbase.py\u001b[0m:515)\n"
     ]
    },
    {
     "data": {
      "text/html": [
       "<style  type=\"text/css\" >\n",
       "</style><table id=\"T_0d4c66aa_0376_11ed_8ccc_000d3a913487\" ><thead>    <tr>        <th class=\"index_name level0\" >Shell No.</th>        <th class=\"col_heading level0 col0\" >t_rad</th>        <th class=\"col_heading level0 col1\" >next_t_rad</th>        <th class=\"col_heading level0 col2\" >w</th>        <th class=\"col_heading level0 col3\" >next_w</th>    </tr></thead><tbody>\n",
       "                <tr>\n",
       "                        <th id=\"T_0d4c66aa_0376_11ed_8ccc_000d3a913487level0_row0\" class=\"row_heading level0 row0\" >0</th>\n",
       "                        <td id=\"T_0d4c66aa_0376_11ed_8ccc_000d3a913487row0_col0\" class=\"data row0 col0\" >1.11e+04</td>\n",
       "                        <td id=\"T_0d4c66aa_0376_11ed_8ccc_000d3a913487row0_col1\" class=\"data row0 col1\" >1.11e+04</td>\n",
       "                        <td id=\"T_0d4c66aa_0376_11ed_8ccc_000d3a913487row0_col2\" class=\"data row0 col2\" >0.468</td>\n",
       "                        <td id=\"T_0d4c66aa_0376_11ed_8ccc_000d3a913487row0_col3\" class=\"data row0 col3\" >0.464</td>\n",
       "            </tr>\n",
       "            <tr>\n",
       "                        <th id=\"T_0d4c66aa_0376_11ed_8ccc_000d3a913487level0_row1\" class=\"row_heading level0 row1\" >5</th>\n",
       "                        <td id=\"T_0d4c66aa_0376_11ed_8ccc_000d3a913487row1_col0\" class=\"data row1 col0\" >1.14e+04</td>\n",
       "                        <td id=\"T_0d4c66aa_0376_11ed_8ccc_000d3a913487row1_col1\" class=\"data row1 col1\" >1.13e+04</td>\n",
       "                        <td id=\"T_0d4c66aa_0376_11ed_8ccc_000d3a913487row1_col2\" class=\"data row1 col2\" >0.175</td>\n",
       "                        <td id=\"T_0d4c66aa_0376_11ed_8ccc_000d3a913487row1_col3\" class=\"data row1 col3\" >0.177</td>\n",
       "            </tr>\n",
       "            <tr>\n",
       "                        <th id=\"T_0d4c66aa_0376_11ed_8ccc_000d3a913487level0_row2\" class=\"row_heading level0 row2\" >10</th>\n",
       "                        <td id=\"T_0d4c66aa_0376_11ed_8ccc_000d3a913487row2_col0\" class=\"data row2 col0\" >1.11e+04</td>\n",
       "                        <td id=\"T_0d4c66aa_0376_11ed_8ccc_000d3a913487row2_col1\" class=\"data row2 col1\" >1.1e+04</td>\n",
       "                        <td id=\"T_0d4c66aa_0376_11ed_8ccc_000d3a913487row2_col2\" class=\"data row2 col2\" >0.11</td>\n",
       "                        <td id=\"T_0d4c66aa_0376_11ed_8ccc_000d3a913487row2_col3\" class=\"data row2 col3\" >0.113</td>\n",
       "            </tr>\n",
       "            <tr>\n",
       "                        <th id=\"T_0d4c66aa_0376_11ed_8ccc_000d3a913487level0_row3\" class=\"row_heading level0 row3\" >15</th>\n",
       "                        <td id=\"T_0d4c66aa_0376_11ed_8ccc_000d3a913487row3_col0\" class=\"data row3 col0\" >1.08e+04</td>\n",
       "                        <td id=\"T_0d4c66aa_0376_11ed_8ccc_000d3a913487row3_col1\" class=\"data row3 col1\" >1.07e+04</td>\n",
       "                        <td id=\"T_0d4c66aa_0376_11ed_8ccc_000d3a913487row3_col2\" class=\"data row3 col2\" >0.0816</td>\n",
       "                        <td id=\"T_0d4c66aa_0376_11ed_8ccc_000d3a913487row3_col3\" class=\"data row3 col3\" >0.0848</td>\n",
       "            </tr>\n",
       "    </tbody></table>"
      ],
      "text/plain": [
       "<pandas.io.formats.style.Styler at 0x7f3d22aaf820>"
      ]
     },
     "metadata": {},
     "output_type": "display_data"
    },
    {
     "name": "stdout",
     "output_type": "stream",
     "text": [
      "[\u001b[1mtardis.simulation.base\u001b[0m][\u001b[1;37mINFO\u001b[0m   ]  \n",
      "\t\n",
      "\tCurrent t_inner = 10636.536 K\n",
      "\tExpected t_inner for next iteration = 10641.692 K\n",
      " (\u001b[1mbase.py\u001b[0m:542)\n"
     ]
    },
    {
     "name": "stdout",
     "output_type": "stream",
     "text": [
      "[\u001b[1mtardis.simulation.base\u001b[0m][\u001b[1;37mINFO\u001b[0m   ]  \n",
      "\t\n",
      "\tStarting iteration 19 of 20 (\u001b[1mbase.py\u001b[0m:378)\n"
     ]
    },
    {
     "name": "stdout",
     "output_type": "stream",
     "text": [
      "[\u001b[1mtardis.simulation.base\u001b[0m][\u001b[1;37mINFO\u001b[0m   ]  \n",
      "\t\n",
      "\tLuminosity emitted   = 1.056e+43 erg / s\n",
      "\tLuminosity absorbed  = 3.405e+42 erg / s\n",
      "\tLuminosity requested = 1.059e+43 erg / s\n",
      " (\u001b[1mbase.py\u001b[0m:547)\n"
     ]
    },
    {
     "name": "stdout",
     "output_type": "stream",
     "text": [
      "[\u001b[1mtardis.simulation.base\u001b[0m][\u001b[1;37mINFO\u001b[0m   ]  \n",
      "\tIteration converged 2/4 consecutive times. (\u001b[1mbase.py\u001b[0m:259)\n"
     ]
    },
    {
     "name": "stdout",
     "output_type": "stream",
     "text": [
      "[\u001b[1mtardis.simulation.base\u001b[0m][\u001b[1;37mINFO\u001b[0m   ]  \n",
      "\t\n",
      "\tPlasma stratification: (\u001b[1mbase.py\u001b[0m:515)\n"
     ]
    },
    {
     "data": {
      "text/html": [
       "<style  type=\"text/css\" >\n",
       "</style><table id=\"T_0db511f0_0376_11ed_8ccc_000d3a913487\" ><thead>    <tr>        <th class=\"index_name level0\" >Shell No.</th>        <th class=\"col_heading level0 col0\" >t_rad</th>        <th class=\"col_heading level0 col1\" >next_t_rad</th>        <th class=\"col_heading level0 col2\" >w</th>        <th class=\"col_heading level0 col3\" >next_w</th>    </tr></thead><tbody>\n",
       "                <tr>\n",
       "                        <th id=\"T_0db511f0_0376_11ed_8ccc_000d3a913487level0_row0\" class=\"row_heading level0 row0\" >0</th>\n",
       "                        <td id=\"T_0db511f0_0376_11ed_8ccc_000d3a913487row0_col0\" class=\"data row0 col0\" >1.11e+04</td>\n",
       "                        <td id=\"T_0db511f0_0376_11ed_8ccc_000d3a913487row0_col1\" class=\"data row0 col1\" >1.11e+04</td>\n",
       "                        <td id=\"T_0db511f0_0376_11ed_8ccc_000d3a913487row0_col2\" class=\"data row0 col2\" >0.464</td>\n",
       "                        <td id=\"T_0db511f0_0376_11ed_8ccc_000d3a913487row0_col3\" class=\"data row0 col3\" >0.466</td>\n",
       "            </tr>\n",
       "            <tr>\n",
       "                        <th id=\"T_0db511f0_0376_11ed_8ccc_000d3a913487level0_row1\" class=\"row_heading level0 row1\" >5</th>\n",
       "                        <td id=\"T_0db511f0_0376_11ed_8ccc_000d3a913487row1_col0\" class=\"data row1 col0\" >1.13e+04</td>\n",
       "                        <td id=\"T_0db511f0_0376_11ed_8ccc_000d3a913487row1_col1\" class=\"data row1 col1\" >1.13e+04</td>\n",
       "                        <td id=\"T_0db511f0_0376_11ed_8ccc_000d3a913487row1_col2\" class=\"data row1 col2\" >0.177</td>\n",
       "                        <td id=\"T_0db511f0_0376_11ed_8ccc_000d3a913487row1_col3\" class=\"data row1 col3\" >0.177</td>\n",
       "            </tr>\n",
       "            <tr>\n",
       "                        <th id=\"T_0db511f0_0376_11ed_8ccc_000d3a913487level0_row2\" class=\"row_heading level0 row2\" >10</th>\n",
       "                        <td id=\"T_0db511f0_0376_11ed_8ccc_000d3a913487row2_col0\" class=\"data row2 col0\" >1.1e+04</td>\n",
       "                        <td id=\"T_0db511f0_0376_11ed_8ccc_000d3a913487row2_col1\" class=\"data row2 col1\" >1.11e+04</td>\n",
       "                        <td id=\"T_0db511f0_0376_11ed_8ccc_000d3a913487row2_col2\" class=\"data row2 col2\" >0.113</td>\n",
       "                        <td id=\"T_0db511f0_0376_11ed_8ccc_000d3a913487row2_col3\" class=\"data row2 col3\" >0.111</td>\n",
       "            </tr>\n",
       "            <tr>\n",
       "                        <th id=\"T_0db511f0_0376_11ed_8ccc_000d3a913487level0_row3\" class=\"row_heading level0 row3\" >15</th>\n",
       "                        <td id=\"T_0db511f0_0376_11ed_8ccc_000d3a913487row3_col0\" class=\"data row3 col0\" >1.07e+04</td>\n",
       "                        <td id=\"T_0db511f0_0376_11ed_8ccc_000d3a913487row3_col1\" class=\"data row3 col1\" >1.07e+04</td>\n",
       "                        <td id=\"T_0db511f0_0376_11ed_8ccc_000d3a913487row3_col2\" class=\"data row3 col2\" >0.0848</td>\n",
       "                        <td id=\"T_0db511f0_0376_11ed_8ccc_000d3a913487row3_col3\" class=\"data row3 col3\" >0.0853</td>\n",
       "            </tr>\n",
       "    </tbody></table>"
      ],
      "text/plain": [
       "<pandas.io.formats.style.Styler at 0x7f3d24252130>"
      ]
     },
     "metadata": {},
     "output_type": "display_data"
    },
    {
     "name": "stdout",
     "output_type": "stream",
     "text": [
      "[\u001b[1mtardis.simulation.base\u001b[0m][\u001b[1;37mINFO\u001b[0m   ]  \n",
      "\t\n",
      "\tCurrent t_inner = 10641.692 K\n",
      "\tExpected t_inner for next iteration = 10650.463 K\n",
      " (\u001b[1mbase.py\u001b[0m:542)\n"
     ]
    },
    {
     "name": "stdout",
     "output_type": "stream",
     "text": [
      "[\u001b[1mtardis.simulation.base\u001b[0m][\u001b[1;37mINFO\u001b[0m   ]  \n",
      "\t\n",
      "\tStarting iteration 20 of 20 (\u001b[1mbase.py\u001b[0m:378)\n"
     ]
    },
    {
     "name": "stdout",
     "output_type": "stream",
     "text": [
      "[\u001b[1mtardis.simulation.base\u001b[0m][\u001b[1;37mINFO\u001b[0m   ]  \n",
      "\t\n",
      "\tLuminosity emitted   = 1.061e+43 erg / s\n",
      "\tLuminosity absorbed  = 3.401e+42 erg / s\n",
      "\tLuminosity requested = 1.059e+43 erg / s\n",
      " (\u001b[1mbase.py\u001b[0m:547)\n"
     ]
    },
    {
     "name": "stdout",
     "output_type": "stream",
     "text": [
      "[\u001b[1mtardis.simulation.base\u001b[0m][\u001b[1;37mINFO\u001b[0m   ]  \n",
      "\t\n",
      "\tSimulation finished in 20 iterations \n",
      "\tSimulation took 43.12 s\n",
      " (\u001b[1mbase.py\u001b[0m:468)\n"
     ]
    }
   ],
   "source": [
    "from tardis import run_tardis\n",
    "\n",
    "simulation = run_tardis('tardis_example.yml')"
   ]
  },
  {
   "cell_type": "markdown",
   "metadata": {},
   "source": [
    "If all goes well, the simulation should run as usual. Afterwards, the\n",
    "information from the simulation will all exist in `Simulation` and\n",
    "can be examined.\n",
    "Some examples for useful/interesting quantities are\n",
    "given below (but much more information is available: contact us via \n",
    "[tardis-sn-users](http://groups.google.com/forum/#!forum/tardis-sn-users) if you need\n",
    "further help)."
   ]
  },
  {
   "cell_type": "markdown",
   "metadata": {},
   "source": [
    "### Examples of finding physical quantities"
   ]
  },
  {
   "cell_type": "markdown",
   "metadata": {},
   "source": [
    "For example, two of our important quantities are the parameters of the\n",
    "radiation field model, $T_{\\rm rad}$ and $W$. These exist as `numpy.ndarray`\n",
    "\n",
    "Thus `simulation.plasma.t_rad` will give you a list of the $T_{\\rm rad}$-values for the model zones in cgs units."
   ]
  },
  {
   "cell_type": "code",
   "execution_count": 3,
   "metadata": {
    "execution": {
     "iopub.execute_input": "2022-07-14T13:08:36.215130Z",
     "iopub.status.busy": "2022-07-14T13:08:36.214772Z",
     "iopub.status.idle": "2022-07-14T13:08:36.219566Z",
     "shell.execute_reply": "2022-07-14T13:08:36.218916Z"
    }
   },
   "outputs": [
    {
     "data": {
      "text/plain": [
       "array([11069.33089377, 11165.15751924, 11272.62783772, 11372.4522524 ,\n",
       "       11332.02806881, 11329.6435672 , 11294.51865104, 11261.56893248,\n",
       "       11241.47812926, 11148.97525325, 11071.52917648, 11004.68560208,\n",
       "       10946.39979159, 10861.42744062, 10784.4789371 , 10655.55794227,\n",
       "       10586.11909387, 10567.9967492 , 10435.71120389, 10305.7063164 ])"
      ]
     },
     "execution_count": 3,
     "metadata": {},
     "output_type": "execute_result"
    }
   ],
   "source": [
    "simulation.plasma.t_rad"
   ]
  },
  {
   "cell_type": "markdown",
   "metadata": {},
   "source": [
    "Similarly, the $W$-values can be accessed using `simulation.plasma.w`"
   ]
  },
  {
   "cell_type": "code",
   "execution_count": 4,
   "metadata": {
    "execution": {
     "iopub.execute_input": "2022-07-14T13:08:36.222967Z",
     "iopub.status.busy": "2022-07-14T13:08:36.222611Z",
     "iopub.status.idle": "2022-07-14T13:08:36.228664Z",
     "shell.execute_reply": "2022-07-14T13:08:36.228110Z"
    }
   },
   "outputs": [
    {
     "data": {
      "text/plain": [
       "array([0.46583111, 0.35821399, 0.28478501, 0.23131748, 0.20190424,\n",
       "       0.17672918, 0.15768939, 0.14187896, 0.1281619 , 0.11908551,\n",
       "       0.11148042, 0.10454478, 0.09806677, 0.09312254, 0.08822151,\n",
       "       0.08534236, 0.08173657, 0.07726564, 0.07559528, 0.07395579])"
      ]
     },
     "execution_count": 4,
     "metadata": {},
     "output_type": "execute_result"
    }
   ],
   "source": [
    "simulation.plasma.w"
   ]
  },
  {
   "cell_type": "markdown",
   "metadata": {},
   "source": [
    "Several important quantities that were setup when the model was defined by the configuration file are located in the `model` section of the simulation. For example, the inner and outer velocity boundaries of the zones in the model is given by `simulation.model.v_inner.cgs` and `simulation.model.v_outer.cgs` respectively. These exist as Astropy [Quantities](http://astropy.readthedocs.org/en/v0.2.1/_generated/astropy.units.quantity.Quantity.html)."
   ]
  },
  {
   "cell_type": "code",
   "execution_count": 5,
   "metadata": {
    "execution": {
     "iopub.execute_input": "2022-07-14T13:08:36.231426Z",
     "iopub.status.busy": "2022-07-14T13:08:36.231213Z",
     "iopub.status.idle": "2022-07-14T13:08:36.237334Z",
     "shell.execute_reply": "2022-07-14T13:08:36.236730Z"
    }
   },
   "outputs": [
    {
     "data": {
      "text/latex": [
       "$[1.1 \\times 10^{9},~1.145 \\times 10^{9},~1.19 \\times 10^{9},~1.235 \\times 10^{9},~1.28 \\times 10^{9},~1.325 \\times 10^{9},~1.37 \\times 10^{9},~1.415 \\times 10^{9},~1.46 \\times 10^{9},~1.505 \\times 10^{9},~1.55 \\times 10^{9},~1.595 \\times 10^{9},~1.64 \\times 10^{9},~1.685 \\times 10^{9},~1.73 \\times 10^{9},~1.775 \\times 10^{9},~1.82 \\times 10^{9},~1.865 \\times 10^{9},~1.91 \\times 10^{9},~1.955 \\times 10^{9}] \\; \\mathrm{\\frac{cm}{s}}$"
      ],
      "text/plain": [
       "<Quantity [1.100e+09, 1.145e+09, 1.190e+09, 1.235e+09, 1.280e+09,\n",
       "           1.325e+09, 1.370e+09, 1.415e+09, 1.460e+09, 1.505e+09,\n",
       "           1.550e+09, 1.595e+09, 1.640e+09, 1.685e+09, 1.730e+09,\n",
       "           1.775e+09, 1.820e+09, 1.865e+09, 1.910e+09, 1.955e+09] cm / s>"
      ]
     },
     "execution_count": 5,
     "metadata": {},
     "output_type": "execute_result"
    }
   ],
   "source": [
    "simulation.model.v_inner.cgs"
   ]
  },
  {
   "cell_type": "code",
   "execution_count": 6,
   "metadata": {
    "execution": {
     "iopub.execute_input": "2022-07-14T13:08:36.240347Z",
     "iopub.status.busy": "2022-07-14T13:08:36.240138Z",
     "iopub.status.idle": "2022-07-14T13:08:36.244803Z",
     "shell.execute_reply": "2022-07-14T13:08:36.244206Z"
    }
   },
   "outputs": [
    {
     "data": {
      "text/latex": [
       "$[1.145 \\times 10^{9},~1.19 \\times 10^{9},~1.235 \\times 10^{9},~1.28 \\times 10^{9},~1.325 \\times 10^{9},~1.37 \\times 10^{9},~1.415 \\times 10^{9},~1.46 \\times 10^{9},~1.505 \\times 10^{9},~1.55 \\times 10^{9},~1.595 \\times 10^{9},~1.64 \\times 10^{9},~1.685 \\times 10^{9},~1.73 \\times 10^{9},~1.775 \\times 10^{9},~1.82 \\times 10^{9},~1.865 \\times 10^{9},~1.91 \\times 10^{9},~1.955 \\times 10^{9},~2 \\times 10^{9}] \\; \\mathrm{\\frac{cm}{s}}$"
      ],
      "text/plain": [
       "<Quantity [1.145e+09, 1.190e+09, 1.235e+09, 1.280e+09, 1.325e+09,\n",
       "           1.370e+09, 1.415e+09, 1.460e+09, 1.505e+09, 1.550e+09,\n",
       "           1.595e+09, 1.640e+09, 1.685e+09, 1.730e+09, 1.775e+09,\n",
       "           1.820e+09, 1.865e+09, 1.910e+09, 1.955e+09, 2.000e+09] cm / s>"
      ]
     },
     "execution_count": 6,
     "metadata": {},
     "output_type": "execute_result"
    }
   ],
   "source": [
    "simulation.model.v_outer.cgs"
   ]
  },
  {
   "cell_type": "markdown",
   "metadata": {},
   "source": [
    "The average density in the zones is given by `simulation.model.density.cgs`. These also exist as Astropy [Quantities](http://astropy.readthedocs.org/en/v0.2.1/_generated/astropy.units.quantity.Quantity.html)."
   ]
  },
  {
   "cell_type": "code",
   "execution_count": 7,
   "metadata": {
    "execution": {
     "iopub.execute_input": "2022-07-14T13:08:36.248101Z",
     "iopub.status.busy": "2022-07-14T13:08:36.247701Z",
     "iopub.status.idle": "2022-07-14T13:08:36.261273Z",
     "shell.execute_reply": "2022-07-14T13:08:36.260674Z"
    }
   },
   "outputs": [
    {
     "data": {
      "text/latex": [
       "$[7.5428036 \\times 10^{-14},~5.728475 \\times 10^{-14},~4.3960742 \\times 10^{-14},~3.4062874 \\times 10^{-14},~2.6631346 \\times 10^{-14},~2.0995965 \\times 10^{-14},~1.6682872 \\times 10^{-14},~1.3353105 \\times 10^{-14},~1.0761538 \\times 10^{-14},~8.7290848 \\times 10^{-15},~7.1236516 \\times 10^{-15},~5.8469209 \\times 10^{-15},~4.8250928 \\times 10^{-15},~4.0023242 \\times 10^{-15},~3.3360386 \\times 10^{-15},~2.7935404 \\times 10^{-15},~2.3495504 \\times 10^{-15},~1.9843968 \\times 10^{-15},~1.6826769 \\times 10^{-15},~1.4322598 \\times 10^{-15}] \\; \\mathrm{\\frac{g}{cm^{3}}}$"
      ],
      "text/plain": [
       "<Quantity [7.54280360e-14, 5.72847501e-14, 4.39607422e-14, 3.40628743e-14,\n",
       "           2.66313464e-14, 2.09959645e-14, 1.66828721e-14, 1.33531053e-14,\n",
       "           1.07615377e-14, 8.72908485e-15, 7.12365156e-15, 5.84692095e-15,\n",
       "           4.82509279e-15, 4.00232416e-15, 3.33603855e-15, 2.79354038e-15,\n",
       "           2.34955043e-15, 1.98439683e-15, 1.68267689e-15, 1.43225980e-15] g / cm3>"
      ]
     },
     "execution_count": 7,
     "metadata": {},
     "output_type": "execute_result"
    }
   ],
   "source": [
    "simulation.model.density.cgs"
   ]
  },
  {
   "cell_type": "markdown",
   "metadata": {},
   "source": [
    "Many other interesting quantities are stored in the `plasma`.\n",
    "For example the calculated ion populations and level populations is given by `simulation.plasma.ion_number_density` and `simulation.plasma.level_number_density` respectively."
   ]
  },
  {
   "cell_type": "code",
   "execution_count": 8,
   "metadata": {
    "execution": {
     "iopub.execute_input": "2022-07-14T13:08:36.264095Z",
     "iopub.status.busy": "2022-07-14T13:08:36.263685Z",
     "iopub.status.idle": "2022-07-14T13:08:36.293145Z",
     "shell.execute_reply": "2022-07-14T13:08:36.292426Z"
    }
   },
   "outputs": [
    {
     "data": {
      "text/html": [
       "<div>\n",
       "<style scoped>\n",
       "    .dataframe tbody tr th:only-of-type {\n",
       "        vertical-align: middle;\n",
       "    }\n",
       "\n",
       "    .dataframe tbody tr th {\n",
       "        vertical-align: top;\n",
       "    }\n",
       "\n",
       "    .dataframe thead th {\n",
       "        text-align: right;\n",
       "    }\n",
       "</style>\n",
       "<table border=\"1\" class=\"dataframe\">\n",
       "  <thead>\n",
       "    <tr style=\"text-align: right;\">\n",
       "      <th></th>\n",
       "      <th></th>\n",
       "      <th>0</th>\n",
       "      <th>1</th>\n",
       "      <th>2</th>\n",
       "      <th>3</th>\n",
       "      <th>4</th>\n",
       "      <th>5</th>\n",
       "      <th>6</th>\n",
       "      <th>7</th>\n",
       "      <th>8</th>\n",
       "      <th>9</th>\n",
       "      <th>10</th>\n",
       "      <th>11</th>\n",
       "      <th>12</th>\n",
       "      <th>13</th>\n",
       "      <th>14</th>\n",
       "      <th>15</th>\n",
       "      <th>16</th>\n",
       "      <th>17</th>\n",
       "      <th>18</th>\n",
       "      <th>19</th>\n",
       "    </tr>\n",
       "    <tr>\n",
       "      <th>atomic_number</th>\n",
       "      <th>ion_number</th>\n",
       "      <th></th>\n",
       "      <th></th>\n",
       "      <th></th>\n",
       "      <th></th>\n",
       "      <th></th>\n",
       "      <th></th>\n",
       "      <th></th>\n",
       "      <th></th>\n",
       "      <th></th>\n",
       "      <th></th>\n",
       "      <th></th>\n",
       "      <th></th>\n",
       "      <th></th>\n",
       "      <th></th>\n",
       "      <th></th>\n",
       "      <th></th>\n",
       "      <th></th>\n",
       "      <th></th>\n",
       "      <th></th>\n",
       "      <th></th>\n",
       "    </tr>\n",
       "  </thead>\n",
       "  <tbody>\n",
       "    <tr>\n",
       "      <th rowspan=\"5\" valign=\"top\">8</th>\n",
       "      <th>0</th>\n",
       "      <td>9.817541e+02</td>\n",
       "      <td>4.952192e+02</td>\n",
       "      <td>2.514676e+02</td>\n",
       "      <td>1.318559e+02</td>\n",
       "      <td>8.523577e+01</td>\n",
       "      <td>5.320207e+01</td>\n",
       "      <td>3.527606e+01</td>\n",
       "      <td>2.366975e+01</td>\n",
       "      <td>1.582107e+01</td>\n",
       "      <td>1.185305e+01</td>\n",
       "      <td>8.815497e+00</td>\n",
       "      <td>6.540669e+00</td>\n",
       "      <td>4.850194e+00</td>\n",
       "      <td>3.782471e+00</td>\n",
       "      <td>2.948439e+00</td>\n",
       "      <td>2.514696e+00</td>\n",
       "      <td>1.980990e+00</td>\n",
       "      <td>1.454287e+00</td>\n",
       "      <td>1.288493e+00</td>\n",
       "      <td>1.151839e+00</td>\n",
       "    </tr>\n",
       "    <tr>\n",
       "      <th>1</th>\n",
       "      <td>5.392046e+08</td>\n",
       "      <td>4.093669e+08</td>\n",
       "      <td>3.139475e+08</td>\n",
       "      <td>2.429934e+08</td>\n",
       "      <td>1.899227e+08</td>\n",
       "      <td>1.496264e+08</td>\n",
       "      <td>1.188395e+08</td>\n",
       "      <td>9.507571e+07</td>\n",
       "      <td>7.657002e+07</td>\n",
       "      <td>6.213943e+07</td>\n",
       "      <td>5.072480e+07</td>\n",
       "      <td>4.163973e+07</td>\n",
       "      <td>3.436439e+07</td>\n",
       "      <td>2.851733e+07</td>\n",
       "      <td>2.377784e+07</td>\n",
       "      <td>1.992820e+07</td>\n",
       "      <td>1.676439e+07</td>\n",
       "      <td>1.415556e+07</td>\n",
       "      <td>1.201203e+07</td>\n",
       "      <td>1.022981e+07</td>\n",
       "    </tr>\n",
       "    <tr>\n",
       "      <th>2</th>\n",
       "      <td>2.226602e+05</td>\n",
       "      <td>3.079859e+05</td>\n",
       "      <td>4.402008e+05</td>\n",
       "      <td>6.091628e+05</td>\n",
       "      <td>5.329124e+05</td>\n",
       "      <td>5.275052e+05</td>\n",
       "      <td>4.690734e+05</td>\n",
       "      <td>4.198082e+05</td>\n",
       "      <td>3.917586e+05</td>\n",
       "      <td>2.871442e+05</td>\n",
       "      <td>2.204204e+05</td>\n",
       "      <td>1.748728e+05</td>\n",
       "      <td>1.425520e+05</td>\n",
       "      <td>1.055346e+05</td>\n",
       "      <td>8.003898e+04</td>\n",
       "      <td>4.996889e+04</td>\n",
       "      <td>3.855664e+04</td>\n",
       "      <td>3.597715e+04</td>\n",
       "      <td>2.173746e+04</td>\n",
       "      <td>1.307832e+04</td>\n",
       "    </tr>\n",
       "    <tr>\n",
       "      <th>3</th>\n",
       "      <td>2.645841e-08</td>\n",
       "      <td>7.972540e-08</td>\n",
       "      <td>2.585740e-07</td>\n",
       "      <td>7.655780e-07</td>\n",
       "      <td>6.973306e-07</td>\n",
       "      <td>8.635538e-07</td>\n",
       "      <td>8.070076e-07</td>\n",
       "      <td>7.611136e-07</td>\n",
       "      <td>7.934242e-07</td>\n",
       "      <td>4.430639e-07</td>\n",
       "      <td>2.767649e-07</td>\n",
       "      <td>1.870047e-07</td>\n",
       "      <td>1.346884e-07</td>\n",
       "      <td>7.544950e-08</td>\n",
       "      <td>4.473829e-08</td>\n",
       "      <td>1.606762e-08</td>\n",
       "      <td>9.868697e-09</td>\n",
       "      <td>9.803360e-09</td>\n",
       "      <td>3.199626e-09</td>\n",
       "      <td>1.029618e-09</td>\n",
       "    </tr>\n",
       "    <tr>\n",
       "      <th>4</th>\n",
       "      <td>0.000000e+00</td>\n",
       "      <td>0.000000e+00</td>\n",
       "      <td>0.000000e+00</td>\n",
       "      <td>0.000000e+00</td>\n",
       "      <td>0.000000e+00</td>\n",
       "      <td>0.000000e+00</td>\n",
       "      <td>0.000000e+00</td>\n",
       "      <td>0.000000e+00</td>\n",
       "      <td>0.000000e+00</td>\n",
       "      <td>0.000000e+00</td>\n",
       "      <td>0.000000e+00</td>\n",
       "      <td>0.000000e+00</td>\n",
       "      <td>0.000000e+00</td>\n",
       "      <td>0.000000e+00</td>\n",
       "      <td>0.000000e+00</td>\n",
       "      <td>0.000000e+00</td>\n",
       "      <td>0.000000e+00</td>\n",
       "      <td>0.000000e+00</td>\n",
       "      <td>0.000000e+00</td>\n",
       "      <td>0.000000e+00</td>\n",
       "    </tr>\n",
       "    <tr>\n",
       "      <th>...</th>\n",
       "      <th>...</th>\n",
       "      <td>...</td>\n",
       "      <td>...</td>\n",
       "      <td>...</td>\n",
       "      <td>...</td>\n",
       "      <td>...</td>\n",
       "      <td>...</td>\n",
       "      <td>...</td>\n",
       "      <td>...</td>\n",
       "      <td>...</td>\n",
       "      <td>...</td>\n",
       "      <td>...</td>\n",
       "      <td>...</td>\n",
       "      <td>...</td>\n",
       "      <td>...</td>\n",
       "      <td>...</td>\n",
       "      <td>...</td>\n",
       "      <td>...</td>\n",
       "      <td>...</td>\n",
       "      <td>...</td>\n",
       "      <td>...</td>\n",
       "    </tr>\n",
       "    <tr>\n",
       "      <th rowspan=\"5\" valign=\"top\">20</th>\n",
       "      <th>16</th>\n",
       "      <td>0.000000e+00</td>\n",
       "      <td>0.000000e+00</td>\n",
       "      <td>0.000000e+00</td>\n",
       "      <td>0.000000e+00</td>\n",
       "      <td>0.000000e+00</td>\n",
       "      <td>0.000000e+00</td>\n",
       "      <td>0.000000e+00</td>\n",
       "      <td>0.000000e+00</td>\n",
       "      <td>0.000000e+00</td>\n",
       "      <td>0.000000e+00</td>\n",
       "      <td>0.000000e+00</td>\n",
       "      <td>0.000000e+00</td>\n",
       "      <td>0.000000e+00</td>\n",
       "      <td>0.000000e+00</td>\n",
       "      <td>0.000000e+00</td>\n",
       "      <td>0.000000e+00</td>\n",
       "      <td>0.000000e+00</td>\n",
       "      <td>0.000000e+00</td>\n",
       "      <td>0.000000e+00</td>\n",
       "      <td>0.000000e+00</td>\n",
       "    </tr>\n",
       "    <tr>\n",
       "      <th>17</th>\n",
       "      <td>0.000000e+00</td>\n",
       "      <td>0.000000e+00</td>\n",
       "      <td>0.000000e+00</td>\n",
       "      <td>0.000000e+00</td>\n",
       "      <td>0.000000e+00</td>\n",
       "      <td>0.000000e+00</td>\n",
       "      <td>0.000000e+00</td>\n",
       "      <td>0.000000e+00</td>\n",
       "      <td>0.000000e+00</td>\n",
       "      <td>0.000000e+00</td>\n",
       "      <td>0.000000e+00</td>\n",
       "      <td>0.000000e+00</td>\n",
       "      <td>0.000000e+00</td>\n",
       "      <td>0.000000e+00</td>\n",
       "      <td>0.000000e+00</td>\n",
       "      <td>0.000000e+00</td>\n",
       "      <td>0.000000e+00</td>\n",
       "      <td>0.000000e+00</td>\n",
       "      <td>0.000000e+00</td>\n",
       "      <td>0.000000e+00</td>\n",
       "    </tr>\n",
       "    <tr>\n",
       "      <th>18</th>\n",
       "      <td>0.000000e+00</td>\n",
       "      <td>0.000000e+00</td>\n",
       "      <td>0.000000e+00</td>\n",
       "      <td>0.000000e+00</td>\n",
       "      <td>0.000000e+00</td>\n",
       "      <td>0.000000e+00</td>\n",
       "      <td>0.000000e+00</td>\n",
       "      <td>0.000000e+00</td>\n",
       "      <td>0.000000e+00</td>\n",
       "      <td>0.000000e+00</td>\n",
       "      <td>0.000000e+00</td>\n",
       "      <td>0.000000e+00</td>\n",
       "      <td>0.000000e+00</td>\n",
       "      <td>0.000000e+00</td>\n",
       "      <td>0.000000e+00</td>\n",
       "      <td>0.000000e+00</td>\n",
       "      <td>0.000000e+00</td>\n",
       "      <td>0.000000e+00</td>\n",
       "      <td>0.000000e+00</td>\n",
       "      <td>0.000000e+00</td>\n",
       "    </tr>\n",
       "    <tr>\n",
       "      <th>19</th>\n",
       "      <td>0.000000e+00</td>\n",
       "      <td>0.000000e+00</td>\n",
       "      <td>0.000000e+00</td>\n",
       "      <td>0.000000e+00</td>\n",
       "      <td>0.000000e+00</td>\n",
       "      <td>0.000000e+00</td>\n",
       "      <td>0.000000e+00</td>\n",
       "      <td>0.000000e+00</td>\n",
       "      <td>0.000000e+00</td>\n",
       "      <td>0.000000e+00</td>\n",
       "      <td>0.000000e+00</td>\n",
       "      <td>0.000000e+00</td>\n",
       "      <td>0.000000e+00</td>\n",
       "      <td>0.000000e+00</td>\n",
       "      <td>0.000000e+00</td>\n",
       "      <td>0.000000e+00</td>\n",
       "      <td>0.000000e+00</td>\n",
       "      <td>0.000000e+00</td>\n",
       "      <td>0.000000e+00</td>\n",
       "      <td>0.000000e+00</td>\n",
       "    </tr>\n",
       "    <tr>\n",
       "      <th>20</th>\n",
       "      <td>0.000000e+00</td>\n",
       "      <td>0.000000e+00</td>\n",
       "      <td>0.000000e+00</td>\n",
       "      <td>0.000000e+00</td>\n",
       "      <td>0.000000e+00</td>\n",
       "      <td>0.000000e+00</td>\n",
       "      <td>0.000000e+00</td>\n",
       "      <td>0.000000e+00</td>\n",
       "      <td>0.000000e+00</td>\n",
       "      <td>0.000000e+00</td>\n",
       "      <td>0.000000e+00</td>\n",
       "      <td>0.000000e+00</td>\n",
       "      <td>0.000000e+00</td>\n",
       "      <td>0.000000e+00</td>\n",
       "      <td>0.000000e+00</td>\n",
       "      <td>0.000000e+00</td>\n",
       "      <td>0.000000e+00</td>\n",
       "      <td>0.000000e+00</td>\n",
       "      <td>0.000000e+00</td>\n",
       "      <td>0.000000e+00</td>\n",
       "    </tr>\n",
       "  </tbody>\n",
       "</table>\n",
       "<p>94 rows × 20 columns</p>\n",
       "</div>"
      ],
      "text/plain": [
       "                                     0             1             2  \\\n",
       "atomic_number ion_number                                             \n",
       "8             0           9.817541e+02  4.952192e+02  2.514676e+02   \n",
       "              1           5.392046e+08  4.093669e+08  3.139475e+08   \n",
       "              2           2.226602e+05  3.079859e+05  4.402008e+05   \n",
       "              3           2.645841e-08  7.972540e-08  2.585740e-07   \n",
       "              4           0.000000e+00  0.000000e+00  0.000000e+00   \n",
       "...                                ...           ...           ...   \n",
       "20            16          0.000000e+00  0.000000e+00  0.000000e+00   \n",
       "              17          0.000000e+00  0.000000e+00  0.000000e+00   \n",
       "              18          0.000000e+00  0.000000e+00  0.000000e+00   \n",
       "              19          0.000000e+00  0.000000e+00  0.000000e+00   \n",
       "              20          0.000000e+00  0.000000e+00  0.000000e+00   \n",
       "\n",
       "                                     3             4             5  \\\n",
       "atomic_number ion_number                                             \n",
       "8             0           1.318559e+02  8.523577e+01  5.320207e+01   \n",
       "              1           2.429934e+08  1.899227e+08  1.496264e+08   \n",
       "              2           6.091628e+05  5.329124e+05  5.275052e+05   \n",
       "              3           7.655780e-07  6.973306e-07  8.635538e-07   \n",
       "              4           0.000000e+00  0.000000e+00  0.000000e+00   \n",
       "...                                ...           ...           ...   \n",
       "20            16          0.000000e+00  0.000000e+00  0.000000e+00   \n",
       "              17          0.000000e+00  0.000000e+00  0.000000e+00   \n",
       "              18          0.000000e+00  0.000000e+00  0.000000e+00   \n",
       "              19          0.000000e+00  0.000000e+00  0.000000e+00   \n",
       "              20          0.000000e+00  0.000000e+00  0.000000e+00   \n",
       "\n",
       "                                     6             7             8  \\\n",
       "atomic_number ion_number                                             \n",
       "8             0           3.527606e+01  2.366975e+01  1.582107e+01   \n",
       "              1           1.188395e+08  9.507571e+07  7.657002e+07   \n",
       "              2           4.690734e+05  4.198082e+05  3.917586e+05   \n",
       "              3           8.070076e-07  7.611136e-07  7.934242e-07   \n",
       "              4           0.000000e+00  0.000000e+00  0.000000e+00   \n",
       "...                                ...           ...           ...   \n",
       "20            16          0.000000e+00  0.000000e+00  0.000000e+00   \n",
       "              17          0.000000e+00  0.000000e+00  0.000000e+00   \n",
       "              18          0.000000e+00  0.000000e+00  0.000000e+00   \n",
       "              19          0.000000e+00  0.000000e+00  0.000000e+00   \n",
       "              20          0.000000e+00  0.000000e+00  0.000000e+00   \n",
       "\n",
       "                                     9            10            11  \\\n",
       "atomic_number ion_number                                             \n",
       "8             0           1.185305e+01  8.815497e+00  6.540669e+00   \n",
       "              1           6.213943e+07  5.072480e+07  4.163973e+07   \n",
       "              2           2.871442e+05  2.204204e+05  1.748728e+05   \n",
       "              3           4.430639e-07  2.767649e-07  1.870047e-07   \n",
       "              4           0.000000e+00  0.000000e+00  0.000000e+00   \n",
       "...                                ...           ...           ...   \n",
       "20            16          0.000000e+00  0.000000e+00  0.000000e+00   \n",
       "              17          0.000000e+00  0.000000e+00  0.000000e+00   \n",
       "              18          0.000000e+00  0.000000e+00  0.000000e+00   \n",
       "              19          0.000000e+00  0.000000e+00  0.000000e+00   \n",
       "              20          0.000000e+00  0.000000e+00  0.000000e+00   \n",
       "\n",
       "                                    12            13            14  \\\n",
       "atomic_number ion_number                                             \n",
       "8             0           4.850194e+00  3.782471e+00  2.948439e+00   \n",
       "              1           3.436439e+07  2.851733e+07  2.377784e+07   \n",
       "              2           1.425520e+05  1.055346e+05  8.003898e+04   \n",
       "              3           1.346884e-07  7.544950e-08  4.473829e-08   \n",
       "              4           0.000000e+00  0.000000e+00  0.000000e+00   \n",
       "...                                ...           ...           ...   \n",
       "20            16          0.000000e+00  0.000000e+00  0.000000e+00   \n",
       "              17          0.000000e+00  0.000000e+00  0.000000e+00   \n",
       "              18          0.000000e+00  0.000000e+00  0.000000e+00   \n",
       "              19          0.000000e+00  0.000000e+00  0.000000e+00   \n",
       "              20          0.000000e+00  0.000000e+00  0.000000e+00   \n",
       "\n",
       "                                    15            16            17  \\\n",
       "atomic_number ion_number                                             \n",
       "8             0           2.514696e+00  1.980990e+00  1.454287e+00   \n",
       "              1           1.992820e+07  1.676439e+07  1.415556e+07   \n",
       "              2           4.996889e+04  3.855664e+04  3.597715e+04   \n",
       "              3           1.606762e-08  9.868697e-09  9.803360e-09   \n",
       "              4           0.000000e+00  0.000000e+00  0.000000e+00   \n",
       "...                                ...           ...           ...   \n",
       "20            16          0.000000e+00  0.000000e+00  0.000000e+00   \n",
       "              17          0.000000e+00  0.000000e+00  0.000000e+00   \n",
       "              18          0.000000e+00  0.000000e+00  0.000000e+00   \n",
       "              19          0.000000e+00  0.000000e+00  0.000000e+00   \n",
       "              20          0.000000e+00  0.000000e+00  0.000000e+00   \n",
       "\n",
       "                                    18            19  \n",
       "atomic_number ion_number                              \n",
       "8             0           1.288493e+00  1.151839e+00  \n",
       "              1           1.201203e+07  1.022981e+07  \n",
       "              2           2.173746e+04  1.307832e+04  \n",
       "              3           3.199626e-09  1.029618e-09  \n",
       "              4           0.000000e+00  0.000000e+00  \n",
       "...                                ...           ...  \n",
       "20            16          0.000000e+00  0.000000e+00  \n",
       "              17          0.000000e+00  0.000000e+00  \n",
       "              18          0.000000e+00  0.000000e+00  \n",
       "              19          0.000000e+00  0.000000e+00  \n",
       "              20          0.000000e+00  0.000000e+00  \n",
       "\n",
       "[94 rows x 20 columns]"
      ]
     },
     "execution_count": 8,
     "metadata": {},
     "output_type": "execute_result"
    }
   ],
   "source": [
    "simulation.plasma.ion_number_density"
   ]
  },
  {
   "cell_type": "code",
   "execution_count": 9,
   "metadata": {
    "execution": {
     "iopub.execute_input": "2022-07-14T13:08:36.295908Z",
     "iopub.status.busy": "2022-07-14T13:08:36.295409Z",
     "iopub.status.idle": "2022-07-14T13:08:36.319440Z",
     "shell.execute_reply": "2022-07-14T13:08:36.318791Z"
    }
   },
   "outputs": [
    {
     "data": {
      "text/html": [
       "<div>\n",
       "<style scoped>\n",
       "    .dataframe tbody tr th:only-of-type {\n",
       "        vertical-align: middle;\n",
       "    }\n",
       "\n",
       "    .dataframe tbody tr th {\n",
       "        vertical-align: top;\n",
       "    }\n",
       "\n",
       "    .dataframe thead th {\n",
       "        text-align: right;\n",
       "    }\n",
       "</style>\n",
       "<table border=\"1\" class=\"dataframe\">\n",
       "  <thead>\n",
       "    <tr style=\"text-align: right;\">\n",
       "      <th></th>\n",
       "      <th></th>\n",
       "      <th></th>\n",
       "      <th>0</th>\n",
       "      <th>1</th>\n",
       "      <th>2</th>\n",
       "      <th>3</th>\n",
       "      <th>4</th>\n",
       "      <th>5</th>\n",
       "      <th>6</th>\n",
       "      <th>7</th>\n",
       "      <th>8</th>\n",
       "      <th>9</th>\n",
       "      <th>10</th>\n",
       "      <th>11</th>\n",
       "      <th>12</th>\n",
       "      <th>13</th>\n",
       "      <th>14</th>\n",
       "      <th>15</th>\n",
       "      <th>16</th>\n",
       "      <th>17</th>\n",
       "      <th>18</th>\n",
       "      <th>19</th>\n",
       "    </tr>\n",
       "    <tr>\n",
       "      <th>atomic_number</th>\n",
       "      <th>ion_number</th>\n",
       "      <th>level_number</th>\n",
       "      <th></th>\n",
       "      <th></th>\n",
       "      <th></th>\n",
       "      <th></th>\n",
       "      <th></th>\n",
       "      <th></th>\n",
       "      <th></th>\n",
       "      <th></th>\n",
       "      <th></th>\n",
       "      <th></th>\n",
       "      <th></th>\n",
       "      <th></th>\n",
       "      <th></th>\n",
       "      <th></th>\n",
       "      <th></th>\n",
       "      <th></th>\n",
       "      <th></th>\n",
       "      <th></th>\n",
       "      <th></th>\n",
       "      <th></th>\n",
       "    </tr>\n",
       "  </thead>\n",
       "  <tbody>\n",
       "    <tr>\n",
       "      <th rowspan=\"5\" valign=\"top\">8</th>\n",
       "      <th rowspan=\"5\" valign=\"top\">0</th>\n",
       "      <th>0</th>\n",
       "      <td>513.492299</td>\n",
       "      <td>258.671585</td>\n",
       "      <td>131.154368</td>\n",
       "      <td>68.674580</td>\n",
       "      <td>44.418418</td>\n",
       "      <td>27.725805</td>\n",
       "      <td>18.392821</td>\n",
       "      <td>12.346995</td>\n",
       "      <td>8.255151</td>\n",
       "      <td>6.192690</td>\n",
       "      <td>4.610677</td>\n",
       "      <td>3.424086</td>\n",
       "      <td>2.541173</td>\n",
       "      <td>1.984107</td>\n",
       "      <td>1.548271</td>\n",
       "      <td>1.322879</td>\n",
       "      <td>1.043126</td>\n",
       "      <td>0.765974</td>\n",
       "      <td>0.679901</td>\n",
       "      <td>0.608892</td>\n",
       "    </tr>\n",
       "    <tr>\n",
       "      <th>1</th>\n",
       "      <td>301.822270</td>\n",
       "      <td>152.069720</td>\n",
       "      <td>77.118971</td>\n",
       "      <td>40.387920</td>\n",
       "      <td>26.120864</td>\n",
       "      <td>16.304473</td>\n",
       "      <td>10.815431</td>\n",
       "      <td>7.259908</td>\n",
       "      <td>4.853770</td>\n",
       "      <td>3.640496</td>\n",
       "      <td>2.710091</td>\n",
       "      <td>2.012378</td>\n",
       "      <td>1.493315</td>\n",
       "      <td>1.165766</td>\n",
       "      <td>0.909554</td>\n",
       "      <td>0.776946</td>\n",
       "      <td>0.612557</td>\n",
       "      <td>0.449788</td>\n",
       "      <td>0.399136</td>\n",
       "      <td>0.357352</td>\n",
       "    </tr>\n",
       "    <tr>\n",
       "      <th>2</th>\n",
       "      <td>99.712889</td>\n",
       "      <td>50.243057</td>\n",
       "      <td>25.481864</td>\n",
       "      <td>13.346116</td>\n",
       "      <td>8.631325</td>\n",
       "      <td>5.387607</td>\n",
       "      <td>3.573725</td>\n",
       "      <td>2.398818</td>\n",
       "      <td>1.603757</td>\n",
       "      <td>1.202786</td>\n",
       "      <td>0.895333</td>\n",
       "      <td>0.664793</td>\n",
       "      <td>0.493296</td>\n",
       "      <td>0.385068</td>\n",
       "      <td>0.300418</td>\n",
       "      <td>0.256590</td>\n",
       "      <td>0.202288</td>\n",
       "      <td>0.148533</td>\n",
       "      <td>0.131791</td>\n",
       "      <td>0.117980</td>\n",
       "    </tr>\n",
       "    <tr>\n",
       "      <th>3</th>\n",
       "      <td>65.284281</td>\n",
       "      <td>33.474270</td>\n",
       "      <td>17.306588</td>\n",
       "      <td>9.224554</td>\n",
       "      <td>5.923827</td>\n",
       "      <td>3.696062</td>\n",
       "      <td>2.436586</td>\n",
       "      <td>1.626021</td>\n",
       "      <td>1.083219</td>\n",
       "      <td>0.799011</td>\n",
       "      <td>0.586431</td>\n",
       "      <td>0.430088</td>\n",
       "      <td>0.315682</td>\n",
       "      <td>0.242490</td>\n",
       "      <td>0.186407</td>\n",
       "      <td>0.155243</td>\n",
       "      <td>0.120705</td>\n",
       "      <td>0.088307</td>\n",
       "      <td>0.076267</td>\n",
       "      <td>0.066442</td>\n",
       "    </tr>\n",
       "    <tr>\n",
       "      <th>4</th>\n",
       "      <td>1.270591</td>\n",
       "      <td>0.664649</td>\n",
       "      <td>0.351282</td>\n",
       "      <td>0.191034</td>\n",
       "      <td>0.121690</td>\n",
       "      <td>0.075890</td>\n",
       "      <td>0.049677</td>\n",
       "      <td>0.032930</td>\n",
       "      <td>0.021848</td>\n",
       "      <td>0.015812</td>\n",
       "      <td>0.011419</td>\n",
       "      <td>0.008257</td>\n",
       "      <td>0.005985</td>\n",
       "      <td>0.004514</td>\n",
       "      <td>0.003411</td>\n",
       "      <td>0.002760</td>\n",
       "      <td>0.002112</td>\n",
       "      <td>0.001539</td>\n",
       "      <td>0.001289</td>\n",
       "      <td>0.001088</td>\n",
       "    </tr>\n",
       "    <tr>\n",
       "      <th>...</th>\n",
       "      <th>...</th>\n",
       "      <th>...</th>\n",
       "      <td>...</td>\n",
       "      <td>...</td>\n",
       "      <td>...</td>\n",
       "      <td>...</td>\n",
       "      <td>...</td>\n",
       "      <td>...</td>\n",
       "      <td>...</td>\n",
       "      <td>...</td>\n",
       "      <td>...</td>\n",
       "      <td>...</td>\n",
       "      <td>...</td>\n",
       "      <td>...</td>\n",
       "      <td>...</td>\n",
       "      <td>...</td>\n",
       "      <td>...</td>\n",
       "      <td>...</td>\n",
       "      <td>...</td>\n",
       "      <td>...</td>\n",
       "      <td>...</td>\n",
       "      <td>...</td>\n",
       "    </tr>\n",
       "    <tr>\n",
       "      <th rowspan=\"5\" valign=\"top\">20</th>\n",
       "      <th>16</th>\n",
       "      <th>0</th>\n",
       "      <td>0.000000</td>\n",
       "      <td>0.000000</td>\n",
       "      <td>0.000000</td>\n",
       "      <td>0.000000</td>\n",
       "      <td>0.000000</td>\n",
       "      <td>0.000000</td>\n",
       "      <td>0.000000</td>\n",
       "      <td>0.000000</td>\n",
       "      <td>0.000000</td>\n",
       "      <td>0.000000</td>\n",
       "      <td>0.000000</td>\n",
       "      <td>0.000000</td>\n",
       "      <td>0.000000</td>\n",
       "      <td>0.000000</td>\n",
       "      <td>0.000000</td>\n",
       "      <td>0.000000</td>\n",
       "      <td>0.000000</td>\n",
       "      <td>0.000000</td>\n",
       "      <td>0.000000</td>\n",
       "      <td>0.000000</td>\n",
       "    </tr>\n",
       "    <tr>\n",
       "      <th>17</th>\n",
       "      <th>0</th>\n",
       "      <td>0.000000</td>\n",
       "      <td>0.000000</td>\n",
       "      <td>0.000000</td>\n",
       "      <td>0.000000</td>\n",
       "      <td>0.000000</td>\n",
       "      <td>0.000000</td>\n",
       "      <td>0.000000</td>\n",
       "      <td>0.000000</td>\n",
       "      <td>0.000000</td>\n",
       "      <td>0.000000</td>\n",
       "      <td>0.000000</td>\n",
       "      <td>0.000000</td>\n",
       "      <td>0.000000</td>\n",
       "      <td>0.000000</td>\n",
       "      <td>0.000000</td>\n",
       "      <td>0.000000</td>\n",
       "      <td>0.000000</td>\n",
       "      <td>0.000000</td>\n",
       "      <td>0.000000</td>\n",
       "      <td>0.000000</td>\n",
       "    </tr>\n",
       "    <tr>\n",
       "      <th>18</th>\n",
       "      <th>0</th>\n",
       "      <td>0.000000</td>\n",
       "      <td>0.000000</td>\n",
       "      <td>0.000000</td>\n",
       "      <td>0.000000</td>\n",
       "      <td>0.000000</td>\n",
       "      <td>0.000000</td>\n",
       "      <td>0.000000</td>\n",
       "      <td>0.000000</td>\n",
       "      <td>0.000000</td>\n",
       "      <td>0.000000</td>\n",
       "      <td>0.000000</td>\n",
       "      <td>0.000000</td>\n",
       "      <td>0.000000</td>\n",
       "      <td>0.000000</td>\n",
       "      <td>0.000000</td>\n",
       "      <td>0.000000</td>\n",
       "      <td>0.000000</td>\n",
       "      <td>0.000000</td>\n",
       "      <td>0.000000</td>\n",
       "      <td>0.000000</td>\n",
       "    </tr>\n",
       "    <tr>\n",
       "      <th>19</th>\n",
       "      <th>0</th>\n",
       "      <td>0.000000</td>\n",
       "      <td>0.000000</td>\n",
       "      <td>0.000000</td>\n",
       "      <td>0.000000</td>\n",
       "      <td>0.000000</td>\n",
       "      <td>0.000000</td>\n",
       "      <td>0.000000</td>\n",
       "      <td>0.000000</td>\n",
       "      <td>0.000000</td>\n",
       "      <td>0.000000</td>\n",
       "      <td>0.000000</td>\n",
       "      <td>0.000000</td>\n",
       "      <td>0.000000</td>\n",
       "      <td>0.000000</td>\n",
       "      <td>0.000000</td>\n",
       "      <td>0.000000</td>\n",
       "      <td>0.000000</td>\n",
       "      <td>0.000000</td>\n",
       "      <td>0.000000</td>\n",
       "      <td>0.000000</td>\n",
       "    </tr>\n",
       "    <tr>\n",
       "      <th>20</th>\n",
       "      <th>0</th>\n",
       "      <td>0.000000</td>\n",
       "      <td>0.000000</td>\n",
       "      <td>0.000000</td>\n",
       "      <td>0.000000</td>\n",
       "      <td>0.000000</td>\n",
       "      <td>0.000000</td>\n",
       "      <td>0.000000</td>\n",
       "      <td>0.000000</td>\n",
       "      <td>0.000000</td>\n",
       "      <td>0.000000</td>\n",
       "      <td>0.000000</td>\n",
       "      <td>0.000000</td>\n",
       "      <td>0.000000</td>\n",
       "      <td>0.000000</td>\n",
       "      <td>0.000000</td>\n",
       "      <td>0.000000</td>\n",
       "      <td>0.000000</td>\n",
       "      <td>0.000000</td>\n",
       "      <td>0.000000</td>\n",
       "      <td>0.000000</td>\n",
       "    </tr>\n",
       "  </tbody>\n",
       "</table>\n",
       "<p>4435 rows × 20 columns</p>\n",
       "</div>"
      ],
      "text/plain": [
       "                                                0           1           2  \\\n",
       "atomic_number ion_number level_number                                       \n",
       "8             0          0             513.492299  258.671585  131.154368   \n",
       "                         1             301.822270  152.069720   77.118971   \n",
       "                         2              99.712889   50.243057   25.481864   \n",
       "                         3              65.284281   33.474270   17.306588   \n",
       "                         4               1.270591    0.664649    0.351282   \n",
       "...                                           ...         ...         ...   \n",
       "20            16         0               0.000000    0.000000    0.000000   \n",
       "              17         0               0.000000    0.000000    0.000000   \n",
       "              18         0               0.000000    0.000000    0.000000   \n",
       "              19         0               0.000000    0.000000    0.000000   \n",
       "              20         0               0.000000    0.000000    0.000000   \n",
       "\n",
       "                                               3          4          5  \\\n",
       "atomic_number ion_number level_number                                    \n",
       "8             0          0             68.674580  44.418418  27.725805   \n",
       "                         1             40.387920  26.120864  16.304473   \n",
       "                         2             13.346116   8.631325   5.387607   \n",
       "                         3              9.224554   5.923827   3.696062   \n",
       "                         4              0.191034   0.121690   0.075890   \n",
       "...                                          ...        ...        ...   \n",
       "20            16         0              0.000000   0.000000   0.000000   \n",
       "              17         0              0.000000   0.000000   0.000000   \n",
       "              18         0              0.000000   0.000000   0.000000   \n",
       "              19         0              0.000000   0.000000   0.000000   \n",
       "              20         0              0.000000   0.000000   0.000000   \n",
       "\n",
       "                                               6          7         8  \\\n",
       "atomic_number ion_number level_number                                   \n",
       "8             0          0             18.392821  12.346995  8.255151   \n",
       "                         1             10.815431   7.259908  4.853770   \n",
       "                         2              3.573725   2.398818  1.603757   \n",
       "                         3              2.436586   1.626021  1.083219   \n",
       "                         4              0.049677   0.032930  0.021848   \n",
       "...                                          ...        ...       ...   \n",
       "20            16         0              0.000000   0.000000  0.000000   \n",
       "              17         0              0.000000   0.000000  0.000000   \n",
       "              18         0              0.000000   0.000000  0.000000   \n",
       "              19         0              0.000000   0.000000  0.000000   \n",
       "              20         0              0.000000   0.000000  0.000000   \n",
       "\n",
       "                                              9        10        11        12  \\\n",
       "atomic_number ion_number level_number                                           \n",
       "8             0          0             6.192690  4.610677  3.424086  2.541173   \n",
       "                         1             3.640496  2.710091  2.012378  1.493315   \n",
       "                         2             1.202786  0.895333  0.664793  0.493296   \n",
       "                         3             0.799011  0.586431  0.430088  0.315682   \n",
       "                         4             0.015812  0.011419  0.008257  0.005985   \n",
       "...                                         ...       ...       ...       ...   \n",
       "20            16         0             0.000000  0.000000  0.000000  0.000000   \n",
       "              17         0             0.000000  0.000000  0.000000  0.000000   \n",
       "              18         0             0.000000  0.000000  0.000000  0.000000   \n",
       "              19         0             0.000000  0.000000  0.000000  0.000000   \n",
       "              20         0             0.000000  0.000000  0.000000  0.000000   \n",
       "\n",
       "                                             13        14        15        16  \\\n",
       "atomic_number ion_number level_number                                           \n",
       "8             0          0             1.984107  1.548271  1.322879  1.043126   \n",
       "                         1             1.165766  0.909554  0.776946  0.612557   \n",
       "                         2             0.385068  0.300418  0.256590  0.202288   \n",
       "                         3             0.242490  0.186407  0.155243  0.120705   \n",
       "                         4             0.004514  0.003411  0.002760  0.002112   \n",
       "...                                         ...       ...       ...       ...   \n",
       "20            16         0             0.000000  0.000000  0.000000  0.000000   \n",
       "              17         0             0.000000  0.000000  0.000000  0.000000   \n",
       "              18         0             0.000000  0.000000  0.000000  0.000000   \n",
       "              19         0             0.000000  0.000000  0.000000  0.000000   \n",
       "              20         0             0.000000  0.000000  0.000000  0.000000   \n",
       "\n",
       "                                             17        18        19  \n",
       "atomic_number ion_number level_number                                \n",
       "8             0          0             0.765974  0.679901  0.608892  \n",
       "                         1             0.449788  0.399136  0.357352  \n",
       "                         2             0.148533  0.131791  0.117980  \n",
       "                         3             0.088307  0.076267  0.066442  \n",
       "                         4             0.001539  0.001289  0.001088  \n",
       "...                                         ...       ...       ...  \n",
       "20            16         0             0.000000  0.000000  0.000000  \n",
       "              17         0             0.000000  0.000000  0.000000  \n",
       "              18         0             0.000000  0.000000  0.000000  \n",
       "              19         0             0.000000  0.000000  0.000000  \n",
       "              20         0             0.000000  0.000000  0.000000  \n",
       "\n",
       "[4435 rows x 20 columns]"
      ]
     },
     "execution_count": 9,
     "metadata": {},
     "output_type": "execute_result"
    }
   ],
   "source": [
    "simulation.plasma.level_number_density"
   ]
  },
  {
   "cell_type": "markdown",
   "metadata": {},
   "source": [
    "These are stored as Pandas `DataFrames`. An index can be supplied to obtain the population in a particular zone. E.g., for the ion populations of the innermost zone (index = 0), we will use \n",
    "`simulation.plasma.ion_number_density[0]`"
   ]
  },
  {
   "cell_type": "code",
   "execution_count": 10,
   "metadata": {
    "execution": {
     "iopub.execute_input": "2022-07-14T13:08:36.322666Z",
     "iopub.status.busy": "2022-07-14T13:08:36.322234Z",
     "iopub.status.idle": "2022-07-14T13:08:36.329320Z",
     "shell.execute_reply": "2022-07-14T13:08:36.328719Z"
    }
   },
   "outputs": [
    {
     "data": {
      "text/plain": [
       "atomic_number  ion_number\n",
       "8              0             9.817541e+02\n",
       "               1             5.392046e+08\n",
       "               2             2.226602e+05\n",
       "               3             2.645841e-08\n",
       "               4             0.000000e+00\n",
       "                                 ...     \n",
       "20             16            0.000000e+00\n",
       "               17            0.000000e+00\n",
       "               18            0.000000e+00\n",
       "               19            0.000000e+00\n",
       "               20            0.000000e+00\n",
       "Name: 0, Length: 94, dtype: float64"
      ]
     },
     "execution_count": 10,
     "metadata": {},
     "output_type": "execute_result"
    }
   ],
   "source": [
    "simulation.plasma.ion_number_density[0]"
   ]
  },
  {
   "cell_type": "markdown",
   "metadata": {},
   "source": [
    "Ion populations for a particular ionization stage of a particular element can be accessed by specifying an appropriate tuple (𝑍,𝐶), which identifies the element (via atomic number 𝑍 ) and the charge (via the ion charge 𝐶 ). Thus, `simulation.plasma.ion_number_density.loc[14,1]` will identify the ion popuations for Si II (𝑍=14,𝐶=1) in all the zones. "
   ]
  },
  {
   "cell_type": "code",
   "execution_count": 11,
   "metadata": {
    "execution": {
     "iopub.execute_input": "2022-07-14T13:08:36.332778Z",
     "iopub.status.busy": "2022-07-14T13:08:36.332258Z",
     "iopub.status.idle": "2022-07-14T13:08:36.337713Z",
     "shell.execute_reply": "2022-07-14T13:08:36.337101Z"
    }
   },
   "outputs": [
    {
     "data": {
      "text/plain": [
       "0     70833.163502\n",
       "1     34861.243842\n",
       "2     17211.393526\n",
       "3      8779.777647\n",
       "4      5721.865657\n",
       "5      3563.344668\n",
       "6      2378.033763\n",
       "7      1604.932782\n",
       "8      1074.816738\n",
       "9       824.622359\n",
       "10      625.499897\n",
       "11      471.990280\n",
       "12      355.146037\n",
       "13      283.454849\n",
       "14      225.652192\n",
       "15      199.786180\n",
       "16      160.473228\n",
       "17      118.252827\n",
       "18      108.994959\n",
       "19      101.321273\n",
       "Name: (14, 1), dtype: float64"
      ]
     },
     "execution_count": 11,
     "metadata": {},
     "output_type": "execute_result"
    }
   ],
   "source": [
    "simulation.plasma.ion_number_density.loc[14,1]"
   ]
  },
  {
   "cell_type": "markdown",
   "metadata": {},
   "source": [
    "The above examples can be combined to obtain e.g. the Si II population in the innermost zone\n",
    "can be obtained by\n",
    "`simulation.plasma.ion_number_density[0].loc[14,1]`"
   ]
  },
  {
   "cell_type": "code",
   "execution_count": 12,
   "metadata": {
    "execution": {
     "iopub.execute_input": "2022-07-14T13:08:36.340969Z",
     "iopub.status.busy": "2022-07-14T13:08:36.340471Z",
     "iopub.status.idle": "2022-07-14T13:08:36.345141Z",
     "shell.execute_reply": "2022-07-14T13:08:36.344541Z"
    }
   },
   "outputs": [
    {
     "data": {
      "text/plain": [
       "70833.16350200417"
      ]
     },
     "execution_count": 12,
     "metadata": {},
     "output_type": "execute_result"
    }
   ],
   "source": [
    "simulation.plasma.ion_number_density[0].loc[14,1]"
   ]
  },
  {
   "cell_type": "markdown",
   "metadata": {},
   "source": [
    "The level populations are stored (and can be accessed) in a similar way - a third label can be used to pick out a particular atomic level. E.g., to pull out the population of the ground state (index 0) of Si II we can use `simulation.plasma.level_number_density.loc[14,1,0]`"
   ]
  },
  {
   "cell_type": "code",
   "execution_count": 13,
   "metadata": {
    "execution": {
     "iopub.execute_input": "2022-07-14T13:08:36.348331Z",
     "iopub.status.busy": "2022-07-14T13:08:36.347850Z",
     "iopub.status.idle": "2022-07-14T13:08:36.353059Z",
     "shell.execute_reply": "2022-07-14T13:08:36.352460Z"
    }
   },
   "outputs": [
    {
     "data": {
      "text/plain": [
       "0     23980.690090\n",
       "1     11794.195085\n",
       "2      5818.333741\n",
       "3      2965.794314\n",
       "4      1933.426172\n",
       "5      1204.080564\n",
       "6       803.766453\n",
       "7       542.594090\n",
       "8       363.426957\n",
       "9       279.017554\n",
       "10      211.760752\n",
       "11      159.866349\n",
       "12      120.339508\n",
       "13       96.103679\n",
       "14       76.546076\n",
       "15       67.830067\n",
       "16       54.507573\n",
       "17       40.171395\n",
       "18       37.057825\n",
       "19       34.476854\n",
       "Name: (14, 1, 0), dtype: float64"
      ]
     },
     "execution_count": 13,
     "metadata": {},
     "output_type": "execute_result"
    }
   ],
   "source": [
    "simulation.plasma.level_number_density.loc[14,1,0]"
   ]
  },
  {
   "cell_type": "markdown",
   "metadata": {},
   "source": [
    "### Notes\n",
    "- If you prefer to work in SI units, all the Astropy Quantities may instead by accessed with “xxx.si”.\n",
    "\n",
    "- Information that is not stored as Astropy Quantities (e.g. the ion and level populations used in the example above) are usually stored in cgs units (i.e. cm−3 for the populations)."
   ]
  }
 ],
 "metadata": {
  "celltoolbar": "Raw Cell Format",
  "kernelspec": {
   "display_name": "Python 3",
   "language": "python",
   "name": "python3"
  },
  "language_info": {
   "codemirror_mode": {
    "name": "ipython",
    "version": 3
   },
   "file_extension": ".py",
   "mimetype": "text/x-python",
   "name": "python",
   "nbconvert_exporter": "python",
   "pygments_lexer": "ipython3",
   "version": "3.8.13"
  },
  "widgets": {
   "application/vnd.jupyter.widget-state+json": {
    "state": {
     "13c426b53f8245d2984844e5ca5bf009": {
      "model_module": "@jupyter-widgets/base",
      "model_module_version": "1.2.0",
      "model_name": "LayoutModel",
      "state": {
       "_model_module": "@jupyter-widgets/base",
       "_model_module_version": "1.2.0",
       "_model_name": "LayoutModel",
       "_view_count": null,
       "_view_module": "@jupyter-widgets/base",
       "_view_module_version": "1.2.0",
       "_view_name": "LayoutView",
       "align_content": null,
       "align_items": null,
       "align_self": null,
       "border": null,
       "bottom": null,
       "display": null,
       "flex": null,
       "flex_flow": null,
       "grid_area": null,
       "grid_auto_columns": null,
       "grid_auto_flow": null,
       "grid_auto_rows": null,
       "grid_column": null,
       "grid_gap": null,
       "grid_row": null,
       "grid_template_areas": null,
       "grid_template_columns": null,
       "grid_template_rows": null,
       "height": null,
       "justify_content": null,
       "justify_items": null,
       "left": null,
       "margin": null,
       "max_height": null,
       "max_width": null,
       "min_height": null,
       "min_width": null,
       "object_fit": null,
       "object_position": null,
       "order": null,
       "overflow": null,
       "overflow_x": null,
       "overflow_y": null,
       "padding": null,
       "right": null,
       "top": null,
       "visibility": null,
       "width": "60%"
      }
     },
     "15f417acec5c4db4bc75a935cd7c5bb8": {
      "model_module": "@jupyter-widgets/controls",
      "model_module_version": "1.5.0",
      "model_name": "DescriptionStyleModel",
      "state": {
       "_model_module": "@jupyter-widgets/controls",
       "_model_module_version": "1.5.0",
       "_model_name": "DescriptionStyleModel",
       "_view_count": null,
       "_view_module": "@jupyter-widgets/base",
       "_view_module_version": "1.2.0",
       "_view_name": "StyleView",
       "description_width": ""
      }
     },
     "17f3a4dec81d4802a772674ba7d83079": {
      "model_module": "@jupyter-widgets/controls",
      "model_module_version": "1.5.0",
      "model_name": "HTMLModel",
      "state": {
       "_dom_classes": [],
       "_model_module": "@jupyter-widgets/controls",
       "_model_module_version": "1.5.0",
       "_model_name": "HTMLModel",
       "_view_count": null,
       "_view_module": "@jupyter-widgets/controls",
       "_view_module_version": "1.5.0",
       "_view_name": "HTMLView",
       "description": "",
       "description_tooltip": null,
       "layout": "IPY_MODEL_e7366f52b91845c1b1a550faa6d540ea",
       "placeholder": "​",
       "style": "IPY_MODEL_2d9c2b2a9b0545838a91b8c93fce95e4",
       "value": "Packets:   "
      }
     },
     "21f6a9257c544c658d95d9033db7ee90": {
      "model_module": "@jupyter-widgets/controls",
      "model_module_version": "1.5.0",
      "model_name": "ProgressStyleModel",
      "state": {
       "_model_module": "@jupyter-widgets/controls",
       "_model_module_version": "1.5.0",
       "_model_name": "ProgressStyleModel",
       "_view_count": null,
       "_view_module": "@jupyter-widgets/base",
       "_view_module_version": "1.2.0",
       "_view_name": "StyleView",
       "bar_color": null,
       "description_width": ""
      }
     },
     "2d9c2b2a9b0545838a91b8c93fce95e4": {
      "model_module": "@jupyter-widgets/controls",
      "model_module_version": "1.5.0",
      "model_name": "DescriptionStyleModel",
      "state": {
       "_model_module": "@jupyter-widgets/controls",
       "_model_module_version": "1.5.0",
       "_model_name": "DescriptionStyleModel",
       "_view_count": null,
       "_view_module": "@jupyter-widgets/base",
       "_view_module_version": "1.2.0",
       "_view_name": "StyleView",
       "description_width": ""
      }
     },
     "3206e70a370449619b98a692cdadfb95": {
      "model_module": "@jupyter-widgets/base",
      "model_module_version": "1.2.0",
      "model_name": "LayoutModel",
      "state": {
       "_model_module": "@jupyter-widgets/base",
       "_model_module_version": "1.2.0",
       "_model_name": "LayoutModel",
       "_view_count": null,
       "_view_module": "@jupyter-widgets/base",
       "_view_module_version": "1.2.0",
       "_view_name": "LayoutView",
       "align_content": null,
       "align_items": null,
       "align_self": null,
       "border": null,
       "bottom": null,
       "display": null,
       "flex": null,
       "flex_flow": null,
       "grid_area": null,
       "grid_auto_columns": null,
       "grid_auto_flow": null,
       "grid_auto_rows": null,
       "grid_column": null,
       "grid_gap": null,
       "grid_row": null,
       "grid_template_areas": null,
       "grid_template_columns": null,
       "grid_template_rows": null,
       "height": null,
       "justify_content": null,
       "justify_items": null,
       "left": null,
       "margin": null,
       "max_height": null,
       "max_width": null,
       "min_height": null,
       "min_width": null,
       "object_fit": null,
       "object_position": null,
       "order": null,
       "overflow": null,
       "overflow_x": null,
       "overflow_y": null,
       "padding": null,
       "right": null,
       "top": null,
       "visibility": null,
       "width": null
      }
     },
     "379088ebb21e41dda45324639277f17a": {
      "model_module": "@jupyter-widgets/controls",
      "model_module_version": "1.5.0",
      "model_name": "HTMLModel",
      "state": {
       "_dom_classes": [],
       "_model_module": "@jupyter-widgets/controls",
       "_model_module_version": "1.5.0",
       "_model_name": "HTMLModel",
       "_view_count": null,
       "_view_module": "@jupyter-widgets/controls",
       "_view_module_version": "1.5.0",
       "_view_name": "HTMLView",
       "description": "",
       "description_tooltip": null,
       "layout": "IPY_MODEL_f41e1dee47ce427a8258b9125c7a37bf",
       "placeholder": "​",
       "style": "IPY_MODEL_653b3cb813c54f1b89de14b18fb1854a",
       "value": "Iterations:"
      }
     },
     "3c4c6b3c68414e038d2f3afe8e752635": {
      "model_module": "@jupyter-widgets/controls",
      "model_module_version": "1.5.0",
      "model_name": "HTMLModel",
      "state": {
       "_dom_classes": [],
       "_model_module": "@jupyter-widgets/controls",
       "_model_module_version": "1.5.0",
       "_model_name": "HTMLModel",
       "_view_count": null,
       "_view_module": "@jupyter-widgets/controls",
       "_view_module_version": "1.5.0",
       "_view_name": "HTMLView",
       "description": "",
       "description_tooltip": null,
       "layout": "IPY_MODEL_6bd6ee5b845c4271b0f5a27a3f23d3ca",
       "placeholder": "​",
       "style": "IPY_MODEL_15f417acec5c4db4bc75a935cd7c5bb8",
       "value": "0/? [00:00&lt;?, ?it/s]"
      }
     },
     "40fc278c71fe4302b8c96859168fed44": {
      "model_module": "@jupyter-widgets/controls",
      "model_module_version": "1.5.0",
      "model_name": "ProgressStyleModel",
      "state": {
       "_model_module": "@jupyter-widgets/controls",
       "_model_module_version": "1.5.0",
       "_model_name": "ProgressStyleModel",
       "_view_count": null,
       "_view_module": "@jupyter-widgets/base",
       "_view_module_version": "1.2.0",
       "_view_name": "StyleView",
       "bar_color": null,
       "description_width": ""
      }
     },
     "479647ae4c3941a096c564b809865516": {
      "model_module": "@jupyter-widgets/base",
      "model_module_version": "1.2.0",
      "model_name": "LayoutModel",
      "state": {
       "_model_module": "@jupyter-widgets/base",
       "_model_module_version": "1.2.0",
       "_model_name": "LayoutModel",
       "_view_count": null,
       "_view_module": "@jupyter-widgets/base",
       "_view_module_version": "1.2.0",
       "_view_name": "LayoutView",
       "align_content": null,
       "align_items": null,
       "align_self": null,
       "border": null,
       "bottom": null,
       "display": null,
       "flex": null,
       "flex_flow": null,
       "grid_area": null,
       "grid_auto_columns": null,
       "grid_auto_flow": null,
       "grid_auto_rows": null,
       "grid_column": null,
       "grid_gap": null,
       "grid_row": null,
       "grid_template_areas": null,
       "grid_template_columns": null,
       "grid_template_rows": null,
       "height": null,
       "justify_content": null,
       "justify_items": null,
       "left": null,
       "margin": null,
       "max_height": null,
       "max_width": null,
       "min_height": null,
       "min_width": null,
       "object_fit": null,
       "object_position": null,
       "order": null,
       "overflow": null,
       "overflow_x": null,
       "overflow_y": null,
       "padding": null,
       "right": null,
       "top": null,
       "visibility": null,
       "width": null
      }
     },
     "4f7e990c5d6b4fcba2eaf5c5fc9f371f": {
      "model_module": "@jupyter-widgets/controls",
      "model_module_version": "1.5.0",
      "model_name": "FloatProgressModel",
      "state": {
       "_dom_classes": [],
       "_model_module": "@jupyter-widgets/controls",
       "_model_module_version": "1.5.0",
       "_model_name": "FloatProgressModel",
       "_view_count": null,
       "_view_module": "@jupyter-widgets/controls",
       "_view_module_version": "1.5.0",
       "_view_name": "ProgressView",
       "bar_style": "",
       "description": "",
       "description_tooltip": null,
       "layout": "IPY_MODEL_f15fe51e0508449bb825c0dd8e750b54",
       "max": 20.0,
       "min": 0.0,
       "orientation": "horizontal",
       "style": "IPY_MODEL_952edccbefd841b39682f34031c814a9",
       "value": 20.0
      }
     },
     "5a12aa1b0fba47eab4b3af872910685d": {
      "model_module": "@jupyter-widgets/controls",
      "model_module_version": "1.5.0",
      "model_name": "HTMLModel",
      "state": {
       "_dom_classes": [],
       "_model_module": "@jupyter-widgets/controls",
       "_model_module_version": "1.5.0",
       "_model_name": "HTMLModel",
       "_view_count": null,
       "_view_module": "@jupyter-widgets/controls",
       "_view_module_version": "1.5.0",
       "_view_name": "HTMLView",
       "description": "",
       "description_tooltip": null,
       "layout": "IPY_MODEL_b11480cbe1944e61be6a4f8f15cf2959",
       "placeholder": "​",
       "style": "IPY_MODEL_8fbc112be08b4eb4896eaedbb840649a",
       "value": "20/20 [00:20&lt;00:00,  2.65s/it]"
      }
     },
     "653b3cb813c54f1b89de14b18fb1854a": {
      "model_module": "@jupyter-widgets/controls",
      "model_module_version": "1.5.0",
      "model_name": "DescriptionStyleModel",
      "state": {
       "_model_module": "@jupyter-widgets/controls",
       "_model_module_version": "1.5.0",
       "_model_name": "DescriptionStyleModel",
       "_view_count": null,
       "_view_module": "@jupyter-widgets/base",
       "_view_module_version": "1.2.0",
       "_view_name": "StyleView",
       "description_width": ""
      }
     },
     "65a4849105bc4e159e8d40f009796626": {
      "model_module": "@jupyter-widgets/controls",
      "model_module_version": "1.5.0",
      "model_name": "HTMLModel",
      "state": {
       "_dom_classes": [],
       "_model_module": "@jupyter-widgets/controls",
       "_model_module_version": "1.5.0",
       "_model_name": "HTMLModel",
       "_view_count": null,
       "_view_module": "@jupyter-widgets/controls",
       "_view_module_version": "1.5.0",
       "_view_name": "HTMLView",
       "description": "",
       "description_tooltip": null,
       "layout": "IPY_MODEL_3206e70a370449619b98a692cdadfb95",
       "placeholder": "​",
       "style": "IPY_MODEL_cdcbe60ead224108bef29d1e29c3155a",
       "value": "0/? [00:00&lt;?, ?it/s]"
      }
     },
     "6bd6ee5b845c4271b0f5a27a3f23d3ca": {
      "model_module": "@jupyter-widgets/base",
      "model_module_version": "1.2.0",
      "model_name": "LayoutModel",
      "state": {
       "_model_module": "@jupyter-widgets/base",
       "_model_module_version": "1.2.0",
       "_model_name": "LayoutModel",
       "_view_count": null,
       "_view_module": "@jupyter-widgets/base",
       "_view_module_version": "1.2.0",
       "_view_name": "LayoutView",
       "align_content": null,
       "align_items": null,
       "align_self": null,
       "border": null,
       "bottom": null,
       "display": null,
       "flex": null,
       "flex_flow": null,
       "grid_area": null,
       "grid_auto_columns": null,
       "grid_auto_flow": null,
       "grid_auto_rows": null,
       "grid_column": null,
       "grid_gap": null,
       "grid_row": null,
       "grid_template_areas": null,
       "grid_template_columns": null,
       "grid_template_rows": null,
       "height": null,
       "justify_content": null,
       "justify_items": null,
       "left": null,
       "margin": null,
       "max_height": null,
       "max_width": null,
       "min_height": null,
       "min_width": null,
       "object_fit": null,
       "object_position": null,
       "order": null,
       "overflow": null,
       "overflow_x": null,
       "overflow_y": null,
       "padding": null,
       "right": null,
       "top": null,
       "visibility": null,
       "width": null
      }
     },
     "6f17d6e83258467bb4cc64eed00fa9fa": {
      "model_module": "@jupyter-widgets/controls",
      "model_module_version": "1.5.0",
      "model_name": "DescriptionStyleModel",
      "state": {
       "_model_module": "@jupyter-widgets/controls",
       "_model_module_version": "1.5.0",
       "_model_name": "DescriptionStyleModel",
       "_view_count": null,
       "_view_module": "@jupyter-widgets/base",
       "_view_module_version": "1.2.0",
       "_view_name": "StyleView",
       "description_width": ""
      }
     },
     "73b012613af64466b793d9d74a6004ba": {
      "model_module": "@jupyter-widgets/base",
      "model_module_version": "1.2.0",
      "model_name": "LayoutModel",
      "state": {
       "_model_module": "@jupyter-widgets/base",
       "_model_module_version": "1.2.0",
       "_model_name": "LayoutModel",
       "_view_count": null,
       "_view_module": "@jupyter-widgets/base",
       "_view_module_version": "1.2.0",
       "_view_name": "LayoutView",
       "align_content": null,
       "align_items": null,
       "align_self": null,
       "border": null,
       "bottom": null,
       "display": null,
       "flex": null,
       "flex_flow": null,
       "grid_area": null,
       "grid_auto_columns": null,
       "grid_auto_flow": null,
       "grid_auto_rows": null,
       "grid_column": null,
       "grid_gap": null,
       "grid_row": null,
       "grid_template_areas": null,
       "grid_template_columns": null,
       "grid_template_rows": null,
       "height": null,
       "justify_content": null,
       "justify_items": null,
       "left": null,
       "margin": null,
       "max_height": null,
       "max_width": null,
       "min_height": null,
       "min_width": null,
       "object_fit": null,
       "object_position": null,
       "order": null,
       "overflow": null,
       "overflow_x": null,
       "overflow_y": null,
       "padding": null,
       "right": null,
       "top": null,
       "visibility": null,
       "width": null
      }
     },
     "74fff13b5a7b46ff841a18030f06fc57": {
      "model_module": "@jupyter-widgets/controls",
      "model_module_version": "1.5.0",
      "model_name": "FloatProgressModel",
      "state": {
       "_dom_classes": [],
       "_model_module": "@jupyter-widgets/controls",
       "_model_module_version": "1.5.0",
       "_model_name": "FloatProgressModel",
       "_view_count": null,
       "_view_module": "@jupyter-widgets/controls",
       "_view_module_version": "1.5.0",
       "_view_name": "ProgressView",
       "bar_style": "",
       "description": "",
       "description_tooltip": null,
       "layout": "IPY_MODEL_13c426b53f8245d2984844e5ca5bf009",
       "max": 100000.0,
       "min": 0.0,
       "orientation": "horizontal",
       "style": "IPY_MODEL_40fc278c71fe4302b8c96859168fed44",
       "value": 99513.0
      }
     },
     "7993c07f654f4dc0b34b65021bc444a6": {
      "model_module": "@jupyter-widgets/base",
      "model_module_version": "1.2.0",
      "model_name": "LayoutModel",
      "state": {
       "_model_module": "@jupyter-widgets/base",
       "_model_module_version": "1.2.0",
       "_model_name": "LayoutModel",
       "_view_count": null,
       "_view_module": "@jupyter-widgets/base",
       "_view_module_version": "1.2.0",
       "_view_name": "LayoutView",
       "align_content": null,
       "align_items": null,
       "align_self": null,
       "border": null,
       "bottom": null,
       "display": null,
       "flex": null,
       "flex_flow": null,
       "grid_area": null,
       "grid_auto_columns": null,
       "grid_auto_flow": null,
       "grid_auto_rows": null,
       "grid_column": null,
       "grid_gap": null,
       "grid_row": null,
       "grid_template_areas": null,
       "grid_template_columns": null,
       "grid_template_rows": null,
       "height": null,
       "justify_content": null,
       "justify_items": null,
       "left": null,
       "margin": null,
       "max_height": null,
       "max_width": null,
       "min_height": null,
       "min_width": null,
       "object_fit": null,
       "object_position": null,
       "order": null,
       "overflow": null,
       "overflow_x": null,
       "overflow_y": null,
       "padding": null,
       "right": null,
       "top": null,
       "visibility": null,
       "width": null
      }
     },
     "7d03a16a9ccc472bbb023e110b7731eb": {
      "model_module": "@jupyter-widgets/base",
      "model_module_version": "1.2.0",
      "model_name": "LayoutModel",
      "state": {
       "_model_module": "@jupyter-widgets/base",
       "_model_module_version": "1.2.0",
       "_model_name": "LayoutModel",
       "_view_count": null,
       "_view_module": "@jupyter-widgets/base",
       "_view_module_version": "1.2.0",
       "_view_name": "LayoutView",
       "align_content": null,
       "align_items": null,
       "align_self": null,
       "border": null,
       "bottom": null,
       "display": null,
       "flex": null,
       "flex_flow": null,
       "grid_area": null,
       "grid_auto_columns": null,
       "grid_auto_flow": null,
       "grid_auto_rows": null,
       "grid_column": null,
       "grid_gap": null,
       "grid_row": null,
       "grid_template_areas": null,
       "grid_template_columns": null,
       "grid_template_rows": null,
       "height": null,
       "justify_content": null,
       "justify_items": null,
       "left": null,
       "margin": null,
       "max_height": null,
       "max_width": null,
       "min_height": null,
       "min_width": null,
       "object_fit": null,
       "object_position": null,
       "order": null,
       "overflow": null,
       "overflow_x": null,
       "overflow_y": null,
       "padding": null,
       "right": null,
       "top": null,
       "visibility": null,
       "width": null
      }
     },
     "7dfa1c9677f845918be25a9dcfb11d90": {
      "model_module": "@jupyter-widgets/controls",
      "model_module_version": "1.5.0",
      "model_name": "HBoxModel",
      "state": {
       "_dom_classes": [],
       "_model_module": "@jupyter-widgets/controls",
       "_model_module_version": "1.5.0",
       "_model_name": "HBoxModel",
       "_view_count": null,
       "_view_module": "@jupyter-widgets/controls",
       "_view_module_version": "1.5.0",
       "_view_name": "HBoxView",
       "box_style": "",
       "children": [
        "IPY_MODEL_ffdb2212ece24f2ebb67d79d0867c47d",
        "IPY_MODEL_940c86b031c949a5bbb69d7a76384b94",
        "IPY_MODEL_65a4849105bc4e159e8d40f009796626"
       ],
       "layout": "IPY_MODEL_a1c7616b92d4407582e6877f56f59811"
      }
     },
     "861c931093424e5db1c29067c8ba7614": {
      "model_module": "@jupyter-widgets/controls",
      "model_module_version": "1.5.0",
      "model_name": "DescriptionStyleModel",
      "state": {
       "_model_module": "@jupyter-widgets/controls",
       "_model_module_version": "1.5.0",
       "_model_name": "DescriptionStyleModel",
       "_view_count": null,
       "_view_module": "@jupyter-widgets/base",
       "_view_module_version": "1.2.0",
       "_view_name": "StyleView",
       "description_width": ""
      }
     },
     "888d55f5b5424cff9f53c265c6aa2ffd": {
      "model_module": "@jupyter-widgets/output",
      "model_module_version": "1.0.0",
      "model_name": "OutputModel",
      "state": {
       "_dom_classes": [],
       "_model_module": "@jupyter-widgets/output",
       "_model_module_version": "1.0.0",
       "_model_name": "OutputModel",
       "_view_count": null,
       "_view_module": "@jupyter-widgets/output",
       "_view_module_version": "1.0.0",
       "_view_name": "OutputView",
       "layout": "IPY_MODEL_add41dfe92c74502bb78bddc0373a502",
       "msg_id": "",
       "outputs": []
      }
     },
     "8caa3d63ee934810b5bdbc346f8c1818": {
      "model_module": "@jupyter-widgets/base",
      "model_module_version": "1.2.0",
      "model_name": "LayoutModel",
      "state": {
       "_model_module": "@jupyter-widgets/base",
       "_model_module_version": "1.2.0",
       "_model_name": "LayoutModel",
       "_view_count": null,
       "_view_module": "@jupyter-widgets/base",
       "_view_module_version": "1.2.0",
       "_view_name": "LayoutView",
       "align_content": null,
       "align_items": null,
       "align_self": null,
       "border": null,
       "bottom": null,
       "display": null,
       "flex": null,
       "flex_flow": null,
       "grid_area": null,
       "grid_auto_columns": null,
       "grid_auto_flow": null,
       "grid_auto_rows": null,
       "grid_column": null,
       "grid_gap": null,
       "grid_row": null,
       "grid_template_areas": null,
       "grid_template_columns": null,
       "grid_template_rows": null,
       "height": null,
       "justify_content": null,
       "justify_items": null,
       "left": null,
       "margin": null,
       "max_height": null,
       "max_width": null,
       "min_height": null,
       "min_width": null,
       "object_fit": null,
       "object_position": null,
       "order": null,
       "overflow": null,
       "overflow_x": null,
       "overflow_y": null,
       "padding": null,
       "right": null,
       "top": null,
       "visibility": null,
       "width": "20px"
      }
     },
     "8fbc112be08b4eb4896eaedbb840649a": {
      "model_module": "@jupyter-widgets/controls",
      "model_module_version": "1.5.0",
      "model_name": "DescriptionStyleModel",
      "state": {
       "_model_module": "@jupyter-widgets/controls",
       "_model_module_version": "1.5.0",
       "_model_name": "DescriptionStyleModel",
       "_view_count": null,
       "_view_module": "@jupyter-widgets/base",
       "_view_module_version": "1.2.0",
       "_view_name": "StyleView",
       "description_width": ""
      }
     },
     "940c86b031c949a5bbb69d7a76384b94": {
      "model_module": "@jupyter-widgets/controls",
      "model_module_version": "1.5.0",
      "model_name": "FloatProgressModel",
      "state": {
       "_dom_classes": [],
       "_model_module": "@jupyter-widgets/controls",
       "_model_module_version": "1.5.0",
       "_model_name": "FloatProgressModel",
       "_view_count": null,
       "_view_module": "@jupyter-widgets/controls",
       "_view_module_version": "1.5.0",
       "_view_name": "ProgressView",
       "bar_style": "info",
       "description": "",
       "description_tooltip": null,
       "layout": "IPY_MODEL_8caa3d63ee934810b5bdbc346f8c1818",
       "max": 1.0,
       "min": 0.0,
       "orientation": "horizontal",
       "style": "IPY_MODEL_21f6a9257c544c658d95d9033db7ee90",
       "value": 0.0
      }
     },
     "952edccbefd841b39682f34031c814a9": {
      "model_module": "@jupyter-widgets/controls",
      "model_module_version": "1.5.0",
      "model_name": "ProgressStyleModel",
      "state": {
       "_model_module": "@jupyter-widgets/controls",
       "_model_module_version": "1.5.0",
       "_model_name": "ProgressStyleModel",
       "_view_count": null,
       "_view_module": "@jupyter-widgets/base",
       "_view_module_version": "1.2.0",
       "_view_name": "StyleView",
       "bar_color": null,
       "description_width": ""
      }
     },
     "964cd90b39cb415482190c44ea40f733": {
      "model_module": "@jupyter-widgets/base",
      "model_module_version": "1.2.0",
      "model_name": "LayoutModel",
      "state": {
       "_model_module": "@jupyter-widgets/base",
       "_model_module_version": "1.2.0",
       "_model_name": "LayoutModel",
       "_view_count": null,
       "_view_module": "@jupyter-widgets/base",
       "_view_module_version": "1.2.0",
       "_view_name": "LayoutView",
       "align_content": null,
       "align_items": null,
       "align_self": null,
       "border": null,
       "bottom": null,
       "display": null,
       "flex": null,
       "flex_flow": null,
       "grid_area": null,
       "grid_auto_columns": null,
       "grid_auto_flow": null,
       "grid_auto_rows": null,
       "grid_column": null,
       "grid_gap": null,
       "grid_row": null,
       "grid_template_areas": null,
       "grid_template_columns": null,
       "grid_template_rows": null,
       "height": null,
       "justify_content": null,
       "justify_items": null,
       "left": null,
       "margin": null,
       "max_height": null,
       "max_width": null,
       "min_height": null,
       "min_width": null,
       "object_fit": null,
       "object_position": null,
       "order": null,
       "overflow": null,
       "overflow_x": null,
       "overflow_y": null,
       "padding": null,
       "right": null,
       "top": null,
       "visibility": null,
       "width": "20px"
      }
     },
     "9e812770a646441aaa06396884ad5f47": {
      "model_module": "@jupyter-widgets/controls",
      "model_module_version": "1.5.0",
      "model_name": "HBoxModel",
      "state": {
       "_dom_classes": [],
       "_model_module": "@jupyter-widgets/controls",
       "_model_module_version": "1.5.0",
       "_model_name": "HBoxModel",
       "_view_count": null,
       "_view_module": "@jupyter-widgets/controls",
       "_view_module_version": "1.5.0",
       "_view_name": "HBoxView",
       "box_style": "",
       "children": [
        "IPY_MODEL_379088ebb21e41dda45324639277f17a",
        "IPY_MODEL_4f7e990c5d6b4fcba2eaf5c5fc9f371f",
        "IPY_MODEL_5a12aa1b0fba47eab4b3af872910685d"
       ],
       "layout": "IPY_MODEL_73b012613af64466b793d9d74a6004ba"
      }
     },
     "a1c7616b92d4407582e6877f56f59811": {
      "model_module": "@jupyter-widgets/base",
      "model_module_version": "1.2.0",
      "model_name": "LayoutModel",
      "state": {
       "_model_module": "@jupyter-widgets/base",
       "_model_module_version": "1.2.0",
       "_model_name": "LayoutModel",
       "_view_count": null,
       "_view_module": "@jupyter-widgets/base",
       "_view_module_version": "1.2.0",
       "_view_name": "LayoutView",
       "align_content": null,
       "align_items": null,
       "align_self": null,
       "border": null,
       "bottom": null,
       "display": null,
       "flex": null,
       "flex_flow": null,
       "grid_area": null,
       "grid_auto_columns": null,
       "grid_auto_flow": null,
       "grid_auto_rows": null,
       "grid_column": null,
       "grid_gap": null,
       "grid_row": null,
       "grid_template_areas": null,
       "grid_template_columns": null,
       "grid_template_rows": null,
       "height": null,
       "justify_content": null,
       "justify_items": null,
       "left": null,
       "margin": null,
       "max_height": null,
       "max_width": null,
       "min_height": null,
       "min_width": null,
       "object_fit": null,
       "object_position": null,
       "order": null,
       "overflow": null,
       "overflow_x": null,
       "overflow_y": null,
       "padding": null,
       "right": null,
       "top": null,
       "visibility": null,
       "width": null
      }
     },
     "add41dfe92c74502bb78bddc0373a502": {
      "model_module": "@jupyter-widgets/base",
      "model_module_version": "1.2.0",
      "model_name": "LayoutModel",
      "state": {
       "_model_module": "@jupyter-widgets/base",
       "_model_module_version": "1.2.0",
       "_model_name": "LayoutModel",
       "_view_count": null,
       "_view_module": "@jupyter-widgets/base",
       "_view_module_version": "1.2.0",
       "_view_name": "LayoutView",
       "align_content": null,
       "align_items": null,
       "align_self": null,
       "border": null,
       "bottom": null,
       "display": null,
       "flex": null,
       "flex_flow": null,
       "grid_area": null,
       "grid_auto_columns": null,
       "grid_auto_flow": null,
       "grid_auto_rows": null,
       "grid_column": null,
       "grid_gap": null,
       "grid_row": null,
       "grid_template_areas": null,
       "grid_template_columns": null,
       "grid_template_rows": null,
       "height": null,
       "justify_content": null,
       "justify_items": null,
       "left": null,
       "margin": null,
       "max_height": null,
       "max_width": null,
       "min_height": null,
       "min_width": null,
       "object_fit": null,
       "object_position": null,
       "order": null,
       "overflow": null,
       "overflow_x": null,
       "overflow_y": null,
       "padding": null,
       "right": null,
       "top": null,
       "visibility": null,
       "width": null
      }
     },
     "b11480cbe1944e61be6a4f8f15cf2959": {
      "model_module": "@jupyter-widgets/base",
      "model_module_version": "1.2.0",
      "model_name": "LayoutModel",
      "state": {
       "_model_module": "@jupyter-widgets/base",
       "_model_module_version": "1.2.0",
       "_model_name": "LayoutModel",
       "_view_count": null,
       "_view_module": "@jupyter-widgets/base",
       "_view_module_version": "1.2.0",
       "_view_name": "LayoutView",
       "align_content": null,
       "align_items": null,
       "align_self": null,
       "border": null,
       "bottom": null,
       "display": null,
       "flex": null,
       "flex_flow": null,
       "grid_area": null,
       "grid_auto_columns": null,
       "grid_auto_flow": null,
       "grid_auto_rows": null,
       "grid_column": null,
       "grid_gap": null,
       "grid_row": null,
       "grid_template_areas": null,
       "grid_template_columns": null,
       "grid_template_rows": null,
       "height": null,
       "justify_content": null,
       "justify_items": null,
       "left": null,
       "margin": null,
       "max_height": null,
       "max_width": null,
       "min_height": null,
       "min_width": null,
       "object_fit": null,
       "object_position": null,
       "order": null,
       "overflow": null,
       "overflow_x": null,
       "overflow_y": null,
       "padding": null,
       "right": null,
       "top": null,
       "visibility": null,
       "width": null
      }
     },
     "c11e6a5514b842769281c2de0c027f6c": {
      "model_module": "@jupyter-widgets/base",
      "model_module_version": "1.2.0",
      "model_name": "LayoutModel",
      "state": {
       "_model_module": "@jupyter-widgets/base",
       "_model_module_version": "1.2.0",
       "_model_name": "LayoutModel",
       "_view_count": null,
       "_view_module": "@jupyter-widgets/base",
       "_view_module_version": "1.2.0",
       "_view_name": "LayoutView",
       "align_content": null,
       "align_items": null,
       "align_self": null,
       "border": null,
       "bottom": null,
       "display": null,
       "flex": null,
       "flex_flow": null,
       "grid_area": null,
       "grid_auto_columns": null,
       "grid_auto_flow": null,
       "grid_auto_rows": null,
       "grid_column": null,
       "grid_gap": null,
       "grid_row": null,
       "grid_template_areas": null,
       "grid_template_columns": null,
       "grid_template_rows": null,
       "height": null,
       "justify_content": null,
       "justify_items": null,
       "left": null,
       "margin": null,
       "max_height": null,
       "max_width": null,
       "min_height": null,
       "min_width": null,
       "object_fit": null,
       "object_position": null,
       "order": null,
       "overflow": null,
       "overflow_x": null,
       "overflow_y": null,
       "padding": null,
       "right": null,
       "top": null,
       "visibility": null,
       "width": null
      }
     },
     "c57bc1181f06431ab2a5e3dca71258e7": {
      "model_module": "@jupyter-widgets/controls",
      "model_module_version": "1.5.0",
      "model_name": "HTMLModel",
      "state": {
       "_dom_classes": [],
       "_model_module": "@jupyter-widgets/controls",
       "_model_module_version": "1.5.0",
       "_model_name": "HTMLModel",
       "_view_count": null,
       "_view_module": "@jupyter-widgets/controls",
       "_view_module_version": "1.5.0",
       "_view_name": "HTMLView",
       "description": "",
       "description_tooltip": null,
       "layout": "IPY_MODEL_c11e6a5514b842769281c2de0c027f6c",
       "placeholder": "​",
       "style": "IPY_MODEL_c920bc025e1549f2bc3497e91f9657ca",
       "value": "99513/100000 [00:06&lt;00:00, 14803.49it/s]"
      }
     },
     "c6ea2565451a4866b4417436cf1b442a": {
      "model_module": "@jupyter-widgets/output",
      "model_module_version": "1.0.0",
      "model_name": "OutputModel",
      "state": {
       "_dom_classes": [],
       "_model_module": "@jupyter-widgets/output",
       "_model_module_version": "1.0.0",
       "_model_name": "OutputModel",
       "_view_count": null,
       "_view_module": "@jupyter-widgets/output",
       "_view_module_version": "1.0.0",
       "_view_name": "OutputView",
       "layout": "IPY_MODEL_c865fb64e73d4987ab36ce94ee6d4cff",
       "msg_id": "",
       "outputs": []
      }
     },
     "c865fb64e73d4987ab36ce94ee6d4cff": {
      "model_module": "@jupyter-widgets/base",
      "model_module_version": "1.2.0",
      "model_name": "LayoutModel",
      "state": {
       "_model_module": "@jupyter-widgets/base",
       "_model_module_version": "1.2.0",
       "_model_name": "LayoutModel",
       "_view_count": null,
       "_view_module": "@jupyter-widgets/base",
       "_view_module_version": "1.2.0",
       "_view_name": "LayoutView",
       "align_content": null,
       "align_items": null,
       "align_self": null,
       "border": null,
       "bottom": null,
       "display": null,
       "flex": null,
       "flex_flow": null,
       "grid_area": null,
       "grid_auto_columns": null,
       "grid_auto_flow": null,
       "grid_auto_rows": null,
       "grid_column": null,
       "grid_gap": null,
       "grid_row": null,
       "grid_template_areas": null,
       "grid_template_columns": null,
       "grid_template_rows": null,
       "height": null,
       "justify_content": null,
       "justify_items": null,
       "left": null,
       "margin": null,
       "max_height": null,
       "max_width": null,
       "min_height": null,
       "min_width": null,
       "object_fit": null,
       "object_position": null,
       "order": null,
       "overflow": null,
       "overflow_x": null,
       "overflow_y": null,
       "padding": null,
       "right": null,
       "top": null,
       "visibility": null,
       "width": null
      }
     },
     "c920bc025e1549f2bc3497e91f9657ca": {
      "model_module": "@jupyter-widgets/controls",
      "model_module_version": "1.5.0",
      "model_name": "DescriptionStyleModel",
      "state": {
       "_model_module": "@jupyter-widgets/controls",
       "_model_module_version": "1.5.0",
       "_model_name": "DescriptionStyleModel",
       "_view_count": null,
       "_view_module": "@jupyter-widgets/base",
       "_view_module_version": "1.2.0",
       "_view_name": "StyleView",
       "description_width": ""
      }
     },
     "cdcbe60ead224108bef29d1e29c3155a": {
      "model_module": "@jupyter-widgets/controls",
      "model_module_version": "1.5.0",
      "model_name": "DescriptionStyleModel",
      "state": {
       "_model_module": "@jupyter-widgets/controls",
       "_model_module_version": "1.5.0",
       "_model_name": "DescriptionStyleModel",
       "_view_count": null,
       "_view_module": "@jupyter-widgets/base",
       "_view_module_version": "1.2.0",
       "_view_name": "StyleView",
       "description_width": ""
      }
     },
     "d77a290abffe43dc9fefe601bb591437": {
      "model_module": "@jupyter-widgets/controls",
      "model_module_version": "1.5.0",
      "model_name": "HTMLModel",
      "state": {
       "_dom_classes": [],
       "_model_module": "@jupyter-widgets/controls",
       "_model_module_version": "1.5.0",
       "_model_name": "HTMLModel",
       "_view_count": null,
       "_view_module": "@jupyter-widgets/controls",
       "_view_module_version": "1.5.0",
       "_view_name": "HTMLView",
       "description": "",
       "description_tooltip": null,
       "layout": "IPY_MODEL_479647ae4c3941a096c564b809865516",
       "placeholder": "​",
       "style": "IPY_MODEL_6f17d6e83258467bb4cc64eed00fa9fa",
       "value": "Packets:   "
      }
     },
     "ddef18b87b4945b38b9489ba45ddf528": {
      "model_module": "@jupyter-widgets/base",
      "model_module_version": "1.2.0",
      "model_name": "LayoutModel",
      "state": {
       "_model_module": "@jupyter-widgets/base",
       "_model_module_version": "1.2.0",
       "_model_name": "LayoutModel",
       "_view_count": null,
       "_view_module": "@jupyter-widgets/base",
       "_view_module_version": "1.2.0",
       "_view_name": "LayoutView",
       "align_content": null,
       "align_items": null,
       "align_self": null,
       "border": null,
       "bottom": null,
       "display": null,
       "flex": null,
       "flex_flow": null,
       "grid_area": null,
       "grid_auto_columns": null,
       "grid_auto_flow": null,
       "grid_auto_rows": null,
       "grid_column": null,
       "grid_gap": null,
       "grid_row": null,
       "grid_template_areas": null,
       "grid_template_columns": null,
       "grid_template_rows": null,
       "height": null,
       "justify_content": null,
       "justify_items": null,
       "left": null,
       "margin": null,
       "max_height": null,
       "max_width": null,
       "min_height": null,
       "min_width": null,
       "object_fit": null,
       "object_position": null,
       "order": null,
       "overflow": null,
       "overflow_x": null,
       "overflow_y": null,
       "padding": null,
       "right": null,
       "top": null,
       "visibility": null,
       "width": null
      }
     },
     "df9e9a0073ec4339bd8b9f772151a5fb": {
      "model_module": "@jupyter-widgets/controls",
      "model_module_version": "1.5.0",
      "model_name": "HBoxModel",
      "state": {
       "_dom_classes": [],
       "_model_module": "@jupyter-widgets/controls",
       "_model_module_version": "1.5.0",
       "_model_name": "HBoxModel",
       "_view_count": null,
       "_view_module": "@jupyter-widgets/controls",
       "_view_module_version": "1.5.0",
       "_view_name": "HBoxView",
       "box_style": "",
       "children": [
        "IPY_MODEL_17f3a4dec81d4802a772674ba7d83079",
        "IPY_MODEL_74fff13b5a7b46ff841a18030f06fc57",
        "IPY_MODEL_c57bc1181f06431ab2a5e3dca71258e7"
       ],
       "layout": "IPY_MODEL_7993c07f654f4dc0b34b65021bc444a6"
      }
     },
     "e7366f52b91845c1b1a550faa6d540ea": {
      "model_module": "@jupyter-widgets/base",
      "model_module_version": "1.2.0",
      "model_name": "LayoutModel",
      "state": {
       "_model_module": "@jupyter-widgets/base",
       "_model_module_version": "1.2.0",
       "_model_name": "LayoutModel",
       "_view_count": null,
       "_view_module": "@jupyter-widgets/base",
       "_view_module_version": "1.2.0",
       "_view_name": "LayoutView",
       "align_content": null,
       "align_items": null,
       "align_self": null,
       "border": null,
       "bottom": null,
       "display": null,
       "flex": null,
       "flex_flow": null,
       "grid_area": null,
       "grid_auto_columns": null,
       "grid_auto_flow": null,
       "grid_auto_rows": null,
       "grid_column": null,
       "grid_gap": null,
       "grid_row": null,
       "grid_template_areas": null,
       "grid_template_columns": null,
       "grid_template_rows": null,
       "height": null,
       "justify_content": null,
       "justify_items": null,
       "left": null,
       "margin": null,
       "max_height": null,
       "max_width": null,
       "min_height": null,
       "min_width": null,
       "object_fit": null,
       "object_position": null,
       "order": null,
       "overflow": null,
       "overflow_x": null,
       "overflow_y": null,
       "padding": null,
       "right": null,
       "top": null,
       "visibility": null,
       "width": "6%"
      }
     },
     "eaa7ae88190c4bfda03ae92c33b6f5cc": {
      "model_module": "@jupyter-widgets/controls",
      "model_module_version": "1.5.0",
      "model_name": "ProgressStyleModel",
      "state": {
       "_model_module": "@jupyter-widgets/controls",
       "_model_module_version": "1.5.0",
       "_model_name": "ProgressStyleModel",
       "_view_count": null,
       "_view_module": "@jupyter-widgets/base",
       "_view_module_version": "1.2.0",
       "_view_name": "StyleView",
       "bar_color": null,
       "description_width": ""
      }
     },
     "f15fe51e0508449bb825c0dd8e750b54": {
      "model_module": "@jupyter-widgets/base",
      "model_module_version": "1.2.0",
      "model_name": "LayoutModel",
      "state": {
       "_model_module": "@jupyter-widgets/base",
       "_model_module_version": "1.2.0",
       "_model_name": "LayoutModel",
       "_view_count": null,
       "_view_module": "@jupyter-widgets/base",
       "_view_module_version": "1.2.0",
       "_view_name": "LayoutView",
       "align_content": null,
       "align_items": null,
       "align_self": null,
       "border": null,
       "bottom": null,
       "display": null,
       "flex": null,
       "flex_flow": null,
       "grid_area": null,
       "grid_auto_columns": null,
       "grid_auto_flow": null,
       "grid_auto_rows": null,
       "grid_column": null,
       "grid_gap": null,
       "grid_row": null,
       "grid_template_areas": null,
       "grid_template_columns": null,
       "grid_template_rows": null,
       "height": null,
       "justify_content": null,
       "justify_items": null,
       "left": null,
       "margin": null,
       "max_height": null,
       "max_width": null,
       "min_height": null,
       "min_width": null,
       "object_fit": null,
       "object_position": null,
       "order": null,
       "overflow": null,
       "overflow_x": null,
       "overflow_y": null,
       "padding": null,
       "right": null,
       "top": null,
       "visibility": null,
       "width": "60%"
      }
     },
     "f41e1dee47ce427a8258b9125c7a37bf": {
      "model_module": "@jupyter-widgets/base",
      "model_module_version": "1.2.0",
      "model_name": "LayoutModel",
      "state": {
       "_model_module": "@jupyter-widgets/base",
       "_model_module_version": "1.2.0",
       "_model_name": "LayoutModel",
       "_view_count": null,
       "_view_module": "@jupyter-widgets/base",
       "_view_module_version": "1.2.0",
       "_view_name": "LayoutView",
       "align_content": null,
       "align_items": null,
       "align_self": null,
       "border": null,
       "bottom": null,
       "display": null,
       "flex": null,
       "flex_flow": null,
       "grid_area": null,
       "grid_auto_columns": null,
       "grid_auto_flow": null,
       "grid_auto_rows": null,
       "grid_column": null,
       "grid_gap": null,
       "grid_row": null,
       "grid_template_areas": null,
       "grid_template_columns": null,
       "grid_template_rows": null,
       "height": null,
       "justify_content": null,
       "justify_items": null,
       "left": null,
       "margin": null,
       "max_height": null,
       "max_width": null,
       "min_height": null,
       "min_width": null,
       "object_fit": null,
       "object_position": null,
       "order": null,
       "overflow": null,
       "overflow_x": null,
       "overflow_y": null,
       "padding": null,
       "right": null,
       "top": null,
       "visibility": null,
       "width": "6%"
      }
     },
     "f5f040c9dc784dcf8eba6e36e8e72f25": {
      "model_module": "@jupyter-widgets/controls",
      "model_module_version": "1.5.0",
      "model_name": "FloatProgressModel",
      "state": {
       "_dom_classes": [],
       "_model_module": "@jupyter-widgets/controls",
       "_model_module_version": "1.5.0",
       "_model_name": "FloatProgressModel",
       "_view_count": null,
       "_view_module": "@jupyter-widgets/controls",
       "_view_module_version": "1.5.0",
       "_view_name": "ProgressView",
       "bar_style": "info",
       "description": "",
       "description_tooltip": null,
       "layout": "IPY_MODEL_964cd90b39cb415482190c44ea40f733",
       "max": 1.0,
       "min": 0.0,
       "orientation": "horizontal",
       "style": "IPY_MODEL_eaa7ae88190c4bfda03ae92c33b6f5cc",
       "value": 0.0
      }
     },
     "f7066e5080cc41118f813950cb605bb6": {
      "model_module": "@jupyter-widgets/controls",
      "model_module_version": "1.5.0",
      "model_name": "HBoxModel",
      "state": {
       "_dom_classes": [],
       "_model_module": "@jupyter-widgets/controls",
       "_model_module_version": "1.5.0",
       "_model_name": "HBoxModel",
       "_view_count": null,
       "_view_module": "@jupyter-widgets/controls",
       "_view_module_version": "1.5.0",
       "_view_name": "HBoxView",
       "box_style": "",
       "children": [
        "IPY_MODEL_d77a290abffe43dc9fefe601bb591437",
        "IPY_MODEL_f5f040c9dc784dcf8eba6e36e8e72f25",
        "IPY_MODEL_3c4c6b3c68414e038d2f3afe8e752635"
       ],
       "layout": "IPY_MODEL_7d03a16a9ccc472bbb023e110b7731eb"
      }
     },
     "ffdb2212ece24f2ebb67d79d0867c47d": {
      "model_module": "@jupyter-widgets/controls",
      "model_module_version": "1.5.0",
      "model_name": "HTMLModel",
      "state": {
       "_dom_classes": [],
       "_model_module": "@jupyter-widgets/controls",
       "_model_module_version": "1.5.0",
       "_model_name": "HTMLModel",
       "_view_count": null,
       "_view_module": "@jupyter-widgets/controls",
       "_view_module_version": "1.5.0",
       "_view_name": "HTMLView",
       "description": "",
       "description_tooltip": null,
       "layout": "IPY_MODEL_ddef18b87b4945b38b9489ba45ddf528",
       "placeholder": "​",
       "style": "IPY_MODEL_861c931093424e5db1c29067c8ba7614",
       "value": "Iterations:"
      }
     }
    },
    "version_major": 2,
    "version_minor": 0
   }
  }
 },
 "nbformat": 4,
 "nbformat_minor": 4
}
